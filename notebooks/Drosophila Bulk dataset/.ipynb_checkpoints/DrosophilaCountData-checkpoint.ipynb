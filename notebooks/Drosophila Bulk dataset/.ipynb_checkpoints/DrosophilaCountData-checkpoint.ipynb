{
 "cells": [
  {
   "cell_type": "markdown",
   "metadata": {},
   "source": [
    "### Drosophila count data "
   ]
  },
  {
   "cell_type": "markdown",
   "metadata": {},
   "source": [
    "Nuha BinTayyash, 2020\n",
    "\n",
    "This notebook shows how to get count data for drosophila count data "
   ]
  },
  {
   "cell_type": "code",
   "execution_count": 1,
   "metadata": {},
   "outputs": [],
   "source": [
    "import pandas as pd\n",
    "import numpy as np"
   ]
  },
  {
   "cell_type": "markdown",
   "metadata": {},
   "source": [
    "### Read bulk RNA-seq gene expression data"
   ]
  },
  {
   "cell_type": "markdown",
   "metadata": {},
   "source": [
    "The gene expression data "
   ]
  },
  {
   "cell_type": "code",
   "execution_count": 2,
   "metadata": {},
   "outputs": [
    {
     "data": {
      "text/html": [
       "<div>\n",
       "<style scoped>\n",
       "    .dataframe tbody tr th:only-of-type {\n",
       "        vertical-align: middle;\n",
       "    }\n",
       "\n",
       "    .dataframe tbody tr th {\n",
       "        vertical-align: top;\n",
       "    }\n",
       "\n",
       "    .dataframe thead th {\n",
       "        text-align: right;\n",
       "    }\n",
       "</style>\n",
       "<table border=\"1\" class=\"dataframe\">\n",
       "  <thead>\n",
       "    <tr style=\"text-align: right;\">\n",
       "      <th></th>\n",
       "      <th>E11_1_F</th>\n",
       "      <th>E12_1_F</th>\n",
       "      <th>E13A_1_F</th>\n",
       "      <th>E13B_1_F</th>\n",
       "      <th>E14A_1_F</th>\n",
       "      <th>E14B_1_F</th>\n",
       "      <th>E14C_1_F</th>\n",
       "      <th>E14D_1_F</th>\n",
       "      <th>E14E_1_F</th>\n",
       "      <th>ECF_1_F</th>\n",
       "      <th>...</th>\n",
       "      <th>I13A_3_F</th>\n",
       "      <th>I13B_3_F</th>\n",
       "      <th>I14A_3_F</th>\n",
       "      <th>I14B_3_F</th>\n",
       "      <th>I14C_3_F</th>\n",
       "      <th>I14D_3_F</th>\n",
       "      <th>I14E_3_F</th>\n",
       "      <th>ICF_3_F</th>\n",
       "      <th>exon_size</th>\n",
       "      <th>intron_size</th>\n",
       "    </tr>\n",
       "    <tr>\n",
       "      <th>FBgn</th>\n",
       "      <th></th>\n",
       "      <th></th>\n",
       "      <th></th>\n",
       "      <th></th>\n",
       "      <th></th>\n",
       "      <th></th>\n",
       "      <th></th>\n",
       "      <th></th>\n",
       "      <th></th>\n",
       "      <th></th>\n",
       "      <th></th>\n",
       "      <th></th>\n",
       "      <th></th>\n",
       "      <th></th>\n",
       "      <th></th>\n",
       "      <th></th>\n",
       "      <th></th>\n",
       "      <th></th>\n",
       "      <th></th>\n",
       "      <th></th>\n",
       "      <th></th>\n",
       "    </tr>\n",
       "  </thead>\n",
       "  <tbody>\n",
       "    <tr>\n",
       "      <th>FBgn0000003</th>\n",
       "      <td>2.676263</td>\n",
       "      <td>3.908700</td>\n",
       "      <td>6.301199</td>\n",
       "      <td>7.967251</td>\n",
       "      <td>6.860863</td>\n",
       "      <td>4.459238</td>\n",
       "      <td>8.090428</td>\n",
       "      <td>6.859697</td>\n",
       "      <td>6.348917</td>\n",
       "      <td>8.321737</td>\n",
       "      <td>...</td>\n",
       "      <td>0.000000</td>\n",
       "      <td>0.000000</td>\n",
       "      <td>0.000000</td>\n",
       "      <td>0.000000</td>\n",
       "      <td>0.000000</td>\n",
       "      <td>0.000000</td>\n",
       "      <td>0.000000</td>\n",
       "      <td>0.000000</td>\n",
       "      <td>299</td>\n",
       "      <td>0</td>\n",
       "    </tr>\n",
       "    <tr>\n",
       "      <th>FBgn0000008</th>\n",
       "      <td>74.124371</td>\n",
       "      <td>89.483591</td>\n",
       "      <td>80.731727</td>\n",
       "      <td>72.947861</td>\n",
       "      <td>56.507419</td>\n",
       "      <td>18.673060</td>\n",
       "      <td>5.378801</td>\n",
       "      <td>3.760299</td>\n",
       "      <td>7.191694</td>\n",
       "      <td>8.279062</td>\n",
       "      <td>...</td>\n",
       "      <td>0.000000</td>\n",
       "      <td>0.262640</td>\n",
       "      <td>0.105610</td>\n",
       "      <td>0.728633</td>\n",
       "      <td>0.398514</td>\n",
       "      <td>0.825598</td>\n",
       "      <td>9.275088</td>\n",
       "      <td>8.357019</td>\n",
       "      <td>5414</td>\n",
       "      <td>31853</td>\n",
       "    </tr>\n",
       "    <tr>\n",
       "      <th>FBgn0000014</th>\n",
       "      <td>0.000000</td>\n",
       "      <td>0.048058</td>\n",
       "      <td>0.305513</td>\n",
       "      <td>0.487294</td>\n",
       "      <td>0.378821</td>\n",
       "      <td>1.532863</td>\n",
       "      <td>5.556613</td>\n",
       "      <td>5.902530</td>\n",
       "      <td>22.361672</td>\n",
       "      <td>35.079323</td>\n",
       "      <td>...</td>\n",
       "      <td>0.398021</td>\n",
       "      <td>0.612827</td>\n",
       "      <td>0.457642</td>\n",
       "      <td>2.616453</td>\n",
       "      <td>7.641063</td>\n",
       "      <td>10.187563</td>\n",
       "      <td>15.051679</td>\n",
       "      <td>22.946866</td>\n",
       "      <td>5477</td>\n",
       "      <td>17668</td>\n",
       "    </tr>\n",
       "    <tr>\n",
       "      <th>FBgn0000015</th>\n",
       "      <td>0.000000</td>\n",
       "      <td>0.000000</td>\n",
       "      <td>0.000000</td>\n",
       "      <td>0.194917</td>\n",
       "      <td>0.042091</td>\n",
       "      <td>0.418054</td>\n",
       "      <td>0.533435</td>\n",
       "      <td>0.387425</td>\n",
       "      <td>5.674696</td>\n",
       "      <td>12.738659</td>\n",
       "      <td>...</td>\n",
       "      <td>0.022112</td>\n",
       "      <td>0.000000</td>\n",
       "      <td>0.140813</td>\n",
       "      <td>0.066239</td>\n",
       "      <td>0.225247</td>\n",
       "      <td>0.794443</td>\n",
       "      <td>1.247527</td>\n",
       "      <td>1.229795</td>\n",
       "      <td>11791</td>\n",
       "      <td>41324</td>\n",
       "    </tr>\n",
       "    <tr>\n",
       "      <th>FBgn0000017</th>\n",
       "      <td>188.960378</td>\n",
       "      <td>191.269974</td>\n",
       "      <td>211.605724</td>\n",
       "      <td>189.752151</td>\n",
       "      <td>229.144422</td>\n",
       "      <td>239.219548</td>\n",
       "      <td>253.292626</td>\n",
       "      <td>310.851394</td>\n",
       "      <td>130.349447</td>\n",
       "      <td>81.040919</td>\n",
       "      <td>...</td>\n",
       "      <td>0.000000</td>\n",
       "      <td>0.000000</td>\n",
       "      <td>0.000000</td>\n",
       "      <td>0.000000</td>\n",
       "      <td>0.000000</td>\n",
       "      <td>0.000000</td>\n",
       "      <td>0.000000</td>\n",
       "      <td>0.000000</td>\n",
       "      <td>12819</td>\n",
       "      <td>19855</td>\n",
       "    </tr>\n",
       "  </tbody>\n",
       "</table>\n",
       "<p>5 rows × 62 columns</p>\n",
       "</div>"
      ],
      "text/plain": [
       "                E11_1_F     E12_1_F    E13A_1_F    E13B_1_F    E14A_1_F  \\\n",
       "FBgn                                                                      \n",
       "FBgn0000003    2.676263    3.908700    6.301199    7.967251    6.860863   \n",
       "FBgn0000008   74.124371   89.483591   80.731727   72.947861   56.507419   \n",
       "FBgn0000014    0.000000    0.048058    0.305513    0.487294    0.378821   \n",
       "FBgn0000015    0.000000    0.000000    0.000000    0.194917    0.042091   \n",
       "FBgn0000017  188.960378  191.269974  211.605724  189.752151  229.144422   \n",
       "\n",
       "               E14B_1_F    E14C_1_F    E14D_1_F    E14E_1_F    ECF_1_F  ...  \\\n",
       "FBgn                                                                    ...   \n",
       "FBgn0000003    4.459238    8.090428    6.859697    6.348917   8.321737  ...   \n",
       "FBgn0000008   18.673060    5.378801    3.760299    7.191694   8.279062  ...   \n",
       "FBgn0000014    1.532863    5.556613    5.902530   22.361672  35.079323  ...   \n",
       "FBgn0000015    0.418054    0.533435    0.387425    5.674696  12.738659  ...   \n",
       "FBgn0000017  239.219548  253.292626  310.851394  130.349447  81.040919  ...   \n",
       "\n",
       "             I13A_3_F  I13B_3_F  I14A_3_F  I14B_3_F  I14C_3_F   I14D_3_F  \\\n",
       "FBgn                                                                       \n",
       "FBgn0000003  0.000000  0.000000  0.000000  0.000000  0.000000   0.000000   \n",
       "FBgn0000008  0.000000  0.262640  0.105610  0.728633  0.398514   0.825598   \n",
       "FBgn0000014  0.398021  0.612827  0.457642  2.616453  7.641063  10.187563   \n",
       "FBgn0000015  0.022112  0.000000  0.140813  0.066239  0.225247   0.794443   \n",
       "FBgn0000017  0.000000  0.000000  0.000000  0.000000  0.000000   0.000000   \n",
       "\n",
       "              I14E_3_F    ICF_3_F  exon_size  intron_size  \n",
       "FBgn                                                       \n",
       "FBgn0000003   0.000000   0.000000        299            0  \n",
       "FBgn0000008   9.275088   8.357019       5414        31853  \n",
       "FBgn0000014  15.051679  22.946866       5477        17668  \n",
       "FBgn0000015   1.247527   1.229795      11791        41324  \n",
       "FBgn0000017   0.000000   0.000000      12819        19855  \n",
       "\n",
       "[5 rows x 62 columns]"
      ]
     },
     "execution_count": 2,
     "metadata": {},
     "output_type": "execute_result"
    }
   ],
   "source": [
    "counts = pd.read_csv('Exon_intron_counts_data_normalizedbylibrarydepthonly_20200120.csv',index_col=[0]) \n",
    "counts.head()"
   ]
  },
  {
   "cell_type": "code",
   "execution_count": 3,
   "metadata": {},
   "outputs": [],
   "source": [
    "counts = counts.drop(['exon_size','intron_size'],axis = 1)"
   ]
  },
  {
   "cell_type": "code",
   "execution_count": 7,
   "metadata": {},
   "outputs": [
    {
     "name": "stdout",
     "output_type": "stream",
     "text": [
      "(8217, 30)\n",
      "(1791, 30)\n"
     ]
    }
   ],
   "source": [
    "exons_counts = counts[list([col for col in counts if col.startswith('E')])]\n",
    "exons_counts = exons_counts.astype('int')\n",
    "exons_counts = exons_counts.loc[(exons_counts.sum(axis=1) >= 5)]\n",
    "exons_counts.to_csv('exons_counts.csv')\n",
    "introns_counts = counts[list([col for col in counts if col.startswith('I')])]\n",
    "introns_counts = introns_counts.astype('int')\n",
    "introns_counts = introns_counts.loc[(introns_counts.sum(axis=1) >= 5)]\n",
    "introns_counts.to_csv('introns_counts.csv')"
   ]
  },
  {
   "cell_type": "code",
   "execution_count": null,
   "metadata": {},
   "outputs": [],
   "source": [
    "times = [95.,105.,115.,125.,145.,160.,175.,190.,205.,220.] * 3\n",
    "time_points = pd.DataFrame(data= times,index= exons_counts.columns,columns=['time'])\n",
    "time_points.to_csv('time_points.csv')"
   ]
  },
  {
   "cell_type": "code",
   "execution_count": null,
   "metadata": {},
   "outputs": [],
   "source": [
    "exons_counts.index.intersection(introns_counts.index)"
   ]
  },
  {
   "cell_type": "code",
   "execution_count": null,
   "metadata": {},
   "outputs": [],
   "source": [
    "exons_counts.shape"
   ]
  },
  {
   "cell_type": "code",
   "execution_count": null,
   "metadata": {},
   "outputs": [],
   "source": [
    "introns_counts.shape"
   ]
  },
  {
   "cell_type": "code",
   "execution_count": null,
   "metadata": {},
   "outputs": [],
   "source": []
  }
 ],
 "metadata": {
  "kernelspec": {
   "display_name": "Python [conda env:myenv2] *",
   "language": "python",
   "name": "conda-env-myenv2-py"
  },
  "language_info": {
   "codemirror_mode": {
    "name": "ipython",
    "version": 3
   },
   "file_extension": ".py",
   "mimetype": "text/x-python",
   "name": "python",
   "nbconvert_exporter": "python",
   "pygments_lexer": "ipython3",
   "version": "3.7.6"
  }
 },
 "nbformat": 4,
 "nbformat_minor": 2
}
