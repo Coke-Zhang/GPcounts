{
 "cells": [
  {
   "cell_type": "markdown",
   "metadata": {},
   "source": [
    "# One sample test on simulated bulk RNA-seq"
   ]
  },
  {
   "cell_type": "markdown",
   "metadata": {},
   "source": [
    "Nuha BinTayyash, 2020\n",
    "\n",
    "This notebook shows how to run GPcounts with one sample test on simulated bulk RNA-seq datasets."
   ]
  },
  {
   "cell_type": "code",
   "execution_count": 1,
   "metadata": {},
   "outputs": [],
   "source": [
    "import numpy as np\n",
    "import pandas as pd\n",
    "from GPcounts.GPcounts_Module import Fit_GPcounts\n",
    "import gpflow"
   ]
  },
  {
   "cell_type": "code",
   "execution_count": 2,
   "metadata": {},
   "outputs": [
    {
     "name": "stderr",
     "output_type": "stream",
     "text": [
      "\r",
      "  0%|          | 0/400 [00:00<?, ?it/s]"
     ]
    },
    {
     "name": "stdout",
     "output_type": "stream",
     "text": [
      "low_counts_low_dispersion_non_differentially_expressed_genes_DE_non_DE_genes.csv\n"
     ]
    },
    {
     "name": "stderr",
     "output_type": "stream",
     "text": [
      "100%|██████████| 400/400 [21:06<00:00,  3.17s/it]\n",
      "100%|██████████| 400/400 [04:10<00:00,  1.59it/s]\n",
      "100%|██████████| 400/400 [16:34<00:00,  2.49s/it]\n",
      "  0%|          | 0/400 [00:00<?, ?it/s]"
     ]
    },
    {
     "name": "stdout",
     "output_type": "stream",
     "text": [
      "low_counts_high_dispersion_non_differentially_expressed_genes_DE_non_DE_genes.csv\n"
     ]
    },
    {
     "name": "stderr",
     "output_type": "stream",
     "text": [
      "100%|██████████| 400/400 [15:07<00:00,  2.27s/it]\n",
      "100%|██████████| 400/400 [02:34<00:00,  2.58it/s]\n",
      "100%|██████████| 400/400 [15:26<00:00,  2.32s/it]\n",
      "  0%|          | 0/400 [00:00<?, ?it/s]"
     ]
    },
    {
     "name": "stdout",
     "output_type": "stream",
     "text": [
      "high_counts_low_dispersion_non_differentially_expressed_genes_DE_non_DE_genes.csv\n"
     ]
    },
    {
     "name": "stderr",
     "output_type": "stream",
     "text": [
      "100%|██████████| 400/400 [27:20<00:00,  4.10s/it]\n",
      "100%|██████████| 400/400 [04:24<00:00,  1.51it/s]\n",
      "100%|██████████| 400/400 [50:45<00:00,  7.61s/it]  \n",
      "  0%|          | 0/400 [00:00<?, ?it/s]"
     ]
    },
    {
     "name": "stdout",
     "output_type": "stream",
     "text": [
      "high_counts_high_dispersion_non_differentially_expressed_genes_DE_non_DE_genes.csv\n"
     ]
    },
    {
     "name": "stderr",
     "output_type": "stream",
     "text": [
      "100%|██████████| 400/400 [14:12<00:00,  2.13s/it]\n",
      "100%|██████████| 400/400 [02:38<00:00,  2.53it/s]\n",
      "100%|██████████| 400/400 [23:46<00:00,  3.57s/it]\n"
     ]
    }
   ],
   "source": [
    "files = [\n",
    "    'low_counts_low_dispersion_non_differentially_expressed_genes_DE_non_DE_genes.csv'\n",
    "    ,'low_counts_high_dispersion_non_differentially_expressed_genes_DE_non_DE_genes.csv'                                     \n",
    "    ,'high_counts_low_dispersion_non_differentially_expressed_genes_DE_non_DE_genes.csv'\n",
    "    ,'high_counts_high_dispersion_non_differentially_expressed_genes_DE_non_DE_genes.csv'\n",
    "    ]\n",
    "  \n",
    "X = pd.read_csv('time_points.csv',index_col=[0])\n",
    "\n",
    "for file in files:\n",
    "    print(file)\n",
    "    Y = pd.read_csv(file,index_col=[0])\n",
    "    likelihoods = ['Negative_binomial','Gaussian','Poisson']\n",
    "    for likelihood in likelihoods:\n",
    "        gp_counts = Fit_GPcounts(X,Y) \n",
    "        log_likelihoods = gp_counts.One_sample_test(likelihood)\n",
    "        log_likelihoods.to_csv(\"ll_ratio_\"+likelihood+\"_\"+file)"
   ]
  },
  {
   "cell_type": "code",
   "execution_count": 3,
   "metadata": {},
   "outputs": [
    {
     "name": "stderr",
     "output_type": "stream",
     "text": [
      "\r",
      "  0%|          | 0/400 [00:00<?, ?it/s]"
     ]
    },
    {
     "name": "stdout",
     "output_type": "stream",
     "text": [
      "Anscombe_transformation_low_counts_low_dispersion_non_differentially_expressed_genes_DE_non_DE_genes.csv\n"
     ]
    },
    {
     "name": "stderr",
     "output_type": "stream",
     "text": [
      "100%|██████████| 400/400 [04:11<00:00,  1.59it/s]\n",
      "  0%|          | 0/400 [00:00<?, ?it/s]"
     ]
    },
    {
     "name": "stdout",
     "output_type": "stream",
     "text": [
      "Anscombe_transformation_low_counts_high_dispersion_non_differentially_expressed_genes_DE_non_DE_genes.csv\n"
     ]
    },
    {
     "name": "stderr",
     "output_type": "stream",
     "text": [
      "100%|██████████| 400/400 [04:19<00:00,  1.54it/s]\n",
      "  0%|          | 0/400 [00:00<?, ?it/s]"
     ]
    },
    {
     "name": "stdout",
     "output_type": "stream",
     "text": [
      "Anscombe_transformation_high_counts_low_dispersion_non_differentially_expressed_genes_DE_non_DE_genes.csv\n"
     ]
    },
    {
     "name": "stderr",
     "output_type": "stream",
     "text": [
      "100%|██████████| 400/400 [05:46<00:00,  1.15it/s]\n",
      "  0%|          | 0/400 [00:00<?, ?it/s]"
     ]
    },
    {
     "name": "stdout",
     "output_type": "stream",
     "text": [
      "Anscombe_transformation_high_counts_high_dispersion_non_differentially_expressed_genes_DE_non_DE_genes.csv\n"
     ]
    },
    {
     "name": "stderr",
     "output_type": "stream",
     "text": [
      "100%|██████████| 400/400 [04:45<00:00,  1.40it/s]\n"
     ]
    }
   ],
   "source": [
    "files = [\n",
    "    'Anscombe_transformation_low_counts_low_dispersion_non_differentially_expressed_genes_DE_non_DE_genes.csv',\n",
    "    'Anscombe_transformation_low_counts_high_dispersion_non_differentially_expressed_genes_DE_non_DE_genes.csv',                                     \n",
    "    'Anscombe_transformation_high_counts_low_dispersion_non_differentially_expressed_genes_DE_non_DE_genes.csv',\n",
    "    'Anscombe_transformation_high_counts_high_dispersion_non_differentially_expressed_genes_DE_non_DE_genes.csv'\n",
    "    ]\n",
    "                     \n",
    "X = pd.read_csv('time_points.csv',index_col=[0])\n",
    "\n",
    "for file in files:\n",
    "    print(file)\n",
    "    Y = pd.read_csv(file,index_col=[0])    \n",
    "    \n",
    "    likelihoods = ['Gaussian']\n",
    "    for likelihood in likelihoods:\n",
    "        gp_counts = Fit_GPcounts(X,Y) \n",
    "        log_likelihoods = gp_counts.One_sample_test(likelihood,False)\n",
    "        log_likelihoods.to_csv(\"ll_ratio_\"+likelihood+'_'+file)\n",
    "        "
   ]
  },
  {
   "cell_type": "code",
   "execution_count": null,
   "metadata": {},
   "outputs": [],
   "source": []
  }
 ],
 "metadata": {
  "kernelspec": {
   "display_name": "Python [conda env:myenv2] *",
   "language": "python",
   "name": "conda-env-myenv2-py"
  },
  "language_info": {
   "codemirror_mode": {
    "name": "ipython",
    "version": 3
   },
   "file_extension": ".py",
   "mimetype": "text/x-python",
   "name": "python",
   "nbconvert_exporter": "python",
   "pygments_lexer": "ipython3",
   "version": "3.7.6"
  }
 },
 "nbformat": 4,
 "nbformat_minor": 2
}
