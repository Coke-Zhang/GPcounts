{
 "cells": [
  {
   "cell_type": "markdown",
   "metadata": {},
   "source": [
    "# Anscombe Transformation"
   ]
  },
  {
   "cell_type": "markdown",
   "metadata": {},
   "source": [
    "We use Anscombe Transformation notebook from [SatialDE](https://github.com/Teichlab/SpatialDE) python package on to use Anscombe Transformation on our simulated bulk datasets."
   ]
  },
  {
   "cell_type": "code",
   "execution_count": 1,
   "metadata": {},
   "outputs": [
    {
     "name": "stdout",
     "output_type": "stream",
     "text": [
      "Populating the interactive namespace from numpy and matplotlib\n"
     ]
    }
   ],
   "source": [
    "%pylab inline\n",
    "import pandas as pd\n",
    "from scipy import optimize"
   ]
  },
  {
   "cell_type": "code",
   "execution_count": 2,
   "metadata": {},
   "outputs": [],
   "source": [
    "lc_ld = pd.read_csv('low_counts_low_dispersion.csv', index_col=0)"
   ]
  },
  {
   "cell_type": "code",
   "execution_count": 3,
   "metadata": {},
   "outputs": [],
   "source": [
    "lc_hd = pd.read_csv('low_counts_high_dispersion.csv', index_col=0)"
   ]
  },
  {
   "cell_type": "code",
   "execution_count": 4,
   "metadata": {},
   "outputs": [],
   "source": [
    "hc_ld = pd.read_csv('high_counts_low_dispersion.csv', index_col=0)"
   ]
  },
  {
   "cell_type": "code",
   "execution_count": 5,
   "metadata": {},
   "outputs": [],
   "source": [
    "hc_hd = pd.read_csv('high_counts_high_dispersion.csv', index_col=0)"
   ]
  },
  {
   "cell_type": "code",
   "execution_count": 6,
   "metadata": {},
   "outputs": [],
   "source": [
    "data = {\n",
    "    'low_counts_low_dispersion': lc_ld,\n",
    "    'low_counts_high_dispersion': lc_hd,\n",
    "    'high_counts_low_dispersion': hc_ld,\n",
    "    'high_counts_high_dispersion': hc_hd,\n",
    "}"
   ]
  },
  {
   "cell_type": "code",
   "execution_count": null,
   "metadata": {
    "scrolled": false
   },
   "outputs": [],
   "source": [
    "figsize(8, 6)\n",
    "\n",
    "i = 0\n",
    "for dname in data:\n",
    "    i += 1\n",
    "    \n",
    "    plt.subplot(2, 2, i)\n",
    "    \n",
    "    ds = data[dname]\n",
    "\n",
    "    xmin, xmax = ds.mean().min() / 2, ds.mean().max() * 2\n",
    "\n",
    "    phi_hat, _ = optimize.curve_fit(lambda mu, phi: mu + phi * mu ** 2,\n",
    "                                    ds.mean(),\n",
    "                                    ds.var())\n",
    "\n",
    "    xx = np.logspace(log10(xmin), log10(xmax))\n",
    "\n",
    "    plt.loglog()\n",
    "    plt.scatter(ds.mean(), ds.var(), c='k', label='Genes', rasterized=True)\n",
    "    plt.plot([xmin, xmax], [xmin, xmax], label='Poisson: $ Var(\\mathbf{y}) = \\mathbb{E}(\\mathbf{y}) $', lw=2)\n",
    "    plt.plot(xx, xx + phi_hat * xx ** 2, label='NB: $ Var(\\mathbf{y}) = \\mathbb{E}(\\mathbf{y}) + \\phi \\cdot \\mathbb{E}(\\mathbf{y})^2 $', lw=2)\n",
    "\n",
    "    plt.title(dname);\n",
    "    plt.xlabel('Mean')\n",
    "    plt.ylabel('Variance');\n",
    "    \n",
    "plt.legend(scatterpoints=3, bbox_to_anchor=(0.25, -0.25))\n",
    "    \n",
    "plt.tight_layout()\n",
    "\n",
    "plt.savefig('mean-vs-var.pdf', bbox_inches='tight', dpi=200)"
   ]
  },
  {
   "cell_type": "code",
   "execution_count": null,
   "metadata": {},
   "outputs": [],
   "source": [
    "import NaiveDE"
   ]
  },
  {
   "cell_type": "code",
   "execution_count": null,
   "metadata": {},
   "outputs": [],
   "source": [
    "i = 0\n",
    "for dname in data:\n",
    "    i += 1\n",
    "    \n",
    "    plt.subplot(2, 2, i)\n",
    "\n",
    "    ds = data[dname]\n",
    "    sds = NaiveDE.stabilize(ds.T).T\n",
    "    \n",
    "    plt.scatter(sds.mean(), sds.var(), c='k', label='Genes', rasterized=True)\n",
    "    \n",
    "    plt.title(dname);\n",
    "    plt.xlabel('Mean')\n",
    "    plt.ylabel('Variance');\n",
    "    \n",
    "plt.legend(scatterpoints=3, bbox_to_anchor=(0.0, -0.25))\n",
    "\n",
    "plt.tight_layout()\n"
   ]
  },
  {
   "cell_type": "code",
   "execution_count": null,
   "metadata": {},
   "outputs": [],
   "source": [
    "def vst(expression_matrix):\n",
    "    from scipy import optimize\n",
    "    v = lambda mu, phi: mu + phi * mu ** 2\n",
    "    phi_hat, _ = optimize.curve_fit(v, expression_matrix.mean(1), expression_matrix.var(1))\n",
    "    print(phi_hat)\n",
    "\n",
    "    return 2 * np.arcsinh(np.sqrt(phi_hat[0] * expression_matrix)) / np.sqrt(phi_hat[0])"
   ]
  },
  {
   "cell_type": "code",
   "execution_count": null,
   "metadata": {},
   "outputs": [],
   "source": [
    "i = 0\n",
    "for dname in data:\n",
    "    i += 1\n",
    "    \n",
    "    plt.subplot(2, 2, i)\n",
    "\n",
    "    ds = data[dname]\n",
    "    sds = vst(ds.T).T\n",
    "    sds.to_csv('Anscombe_transformation_'+str(dname)+'.csv')\n",
    "    plt.scatter(sds.mean(), sds.var(), c='k', label='Genes', rasterized=True)\n",
    "    \n",
    "    plt.title(dname);\n",
    "    plt.xlabel('Mean')\n",
    "    plt.ylabel('Variance');\n",
    "    \n",
    "plt.legend(scatterpoints=3, bbox_to_anchor=(0.0, -0.25))\n",
    "\n",
    "plt.tight_layout()"
   ]
  },
  {
   "cell_type": "code",
   "execution_count": null,
   "metadata": {},
   "outputs": [],
   "source": []
  }
 ],
 "metadata": {
  "kernelspec": {
   "display_name": "Python [conda env:myenv2] *",
   "language": "python",
   "name": "conda-env-myenv2-py"
  },
  "language_info": {
   "codemirror_mode": {
    "name": "ipython",
    "version": 3
   },
   "file_extension": ".py",
   "mimetype": "text/x-python",
   "name": "python",
   "nbconvert_exporter": "python",
   "pygments_lexer": "ipython3",
   "version": "3.7.6"
  }
 },
 "nbformat": 4,
 "nbformat_minor": 2
}
