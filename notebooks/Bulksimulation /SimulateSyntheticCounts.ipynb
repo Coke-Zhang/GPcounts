{
 "cells": [
  {
   "cell_type": "markdown",
   "metadata": {},
   "source": [
    "# Simulate synthetic bulk RNA-seq gene expression data"
   ]
  },
  {
   "cell_type": "markdown",
   "metadata": {},
   "source": [
    "Nuha BinTayyash, 2020\n",
    "\n",
    "This notebook shows how to Simulate synthetic bulk RNA-seq time series of $S =3$ samples, $D=  400$ genes at $T=6$ time points assuming three generative functions $f$: sine, cosine and cubic splines. The generated data from the three functions is exponentiated using exponential link function to set the mean of count data. Count data is sampled from negative binomial distribution parametrized by the probability of success $p=\\frac{r}{\\exp(f)+r}$ and number of failures $r =\\frac{1}{dispersion} $.\n",
    " \n",
    "Bulk_simulator.py used to simulated four datasets with two levels of the mean of count data (high count and low count datasets) and two levels of dispersion (high dispersion and low dispersion).\n"
   ]
  },
  {
   "cell_type": "code",
   "execution_count": null,
   "metadata": {},
   "outputs": [
    {
     "name": "stderr",
     "output_type": "stream",
     "text": [
      " 50%|█████     | 1/2 [02:27<02:27, 147.42s/it]"
     ]
    }
   ],
   "source": [
    "%run ./Bulk_simulator.py"
   ]
  },
  {
   "cell_type": "code",
   "execution_count": null,
   "metadata": {},
   "outputs": [],
   "source": [
    "import pandas as pd\n",
    "import numpy as np\n",
    "import matplotlib.pyplot as plt"
   ]
  },
  {
   "cell_type": "markdown",
   "metadata": {},
   "source": [
    "Filter datasets to have mean counts higher than 1 and lower than 1000 for low counts dataset and lower than 100000 for high counts dataset "
   ]
  },
  {
   "cell_type": "code",
   "execution_count": null,
   "metadata": {},
   "outputs": [],
   "source": [
    "\n",
    "def filter_counts(counts,max_value):\n",
    "    counts = counts.T\n",
    "    filtered_counts = counts.loc[:,(counts.mean(0) > 1.) & (counts.mean(0) <= max_value)]\n",
    "    n, bins, patches = plt.hist(filtered_counts.mean(0), density=True, facecolor='g')\n",
    "    plt.grid(True)\n",
    "    plt.show()\n",
    "    filtered_counts = filtered_counts.T\n",
    "    return filtered_counts\n",
    "\n",
    "def get_common_genes_between_two_ts(first_ts,second_ts):\n",
    "    shared_index = first_ts.index.intersection(second_ts.index)\n",
    "    first_ts = first_ts.loc[shared_index]\n",
    "    second_ts = second_ts.loc[shared_index]\n",
    "    return first_ts,second_ts"
   ]
  },
  {
   "cell_type": "code",
   "execution_count": null,
   "metadata": {},
   "outputs": [],
   "source": [
    "filesname = ['low_counts_low_dispersion'\n",
    "             ,'low_counts_high_dispersion'                                      \n",
    "             ,'high_counts_low_dispersion'\n",
    "             ,'high_counts_high_dispersion']\n",
    "\n",
    "max_mean_count = [1000., 100000.] \n",
    "\n",
    "for filename in filesname:\n",
    "    DE_samples = pd.read_csv(filename+'.csv',index_col=[0])\n",
    "    Non_DE_samples = DE_samples.iloc[240::,:]\n",
    "    DE_samples = DE_samples.iloc[0:240,:] \n",
    "  \n",
    "    if filename.find('low_counts') != -1:\n",
    "        max_num = max_mean_count[0]\n",
    "    else:\n",
    "        max_num = max_mean_count[1]\n",
    "        \n",
    "    DE_samples_filtered = filter_counts(DE_samples,max_num)\n",
    "    Non_DE_samples_filtered = filter_counts(Non_DE_samples,max_num)\n",
    "    \n",
    "    DE_samples_filtered,Non_DE_samples_filtered = get_common_genes_between_two_ts(DE_samples_filtered,Non_DE_samples_filtered)\n",
    "    \n",
    "    DE_non_DE = DE_samples_filtered\n",
    "    DE_non_DE = DE_non_DE.T\n",
    "    # create a dataframe that have differentially expressed genes followed by non differentially expressed genes\n",
    "    for i in range(Non_DE_samples_filtered.shape[0]):\n",
    "        DE_non_DE.insert(i+i+1,Non_DE_samples_filtered.index.values[i] ,Non_DE_samples_filtered.iloc[[i]].values.T,True)\n",
    "    DE_non_DE = DE_non_DE.T\n",
    "    #print(DE_non_DE)\n",
    "    genes = ['gene_%s' % (s+1) for s in range(DE_non_DE.shape[0])] \n",
    "    DE_non_DE.index = genes\n",
    "    print('shape',DE_non_DE.shape)\n",
    "    DE_non_DE.iloc[0:400,:].to_csv(filename+'.csv')\n",
    "    print('shape',DE_non_DE.iloc[0:400,:].shape)"
   ]
  },
  {
   "cell_type": "code",
   "execution_count": null,
   "metadata": {},
   "outputs": [],
   "source": []
  }
 ],
 "metadata": {
  "kernelspec": {
   "display_name": "Python [conda env:myenv2] *",
   "language": "python",
   "name": "conda-env-myenv2-py"
  },
  "language_info": {
   "codemirror_mode": {
    "name": "ipython",
    "version": 3
   },
   "file_extension": ".py",
   "mimetype": "text/x-python",
   "name": "python",
   "nbconvert_exporter": "python",
   "pygments_lexer": "ipython3",
   "version": "3.7.6"
  }
 },
 "nbformat": 4,
 "nbformat_minor": 2
}
