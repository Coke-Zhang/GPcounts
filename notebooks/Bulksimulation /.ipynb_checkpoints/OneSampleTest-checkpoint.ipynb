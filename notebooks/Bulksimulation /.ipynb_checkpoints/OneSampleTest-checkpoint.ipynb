{
 "cells": [
  {
   "cell_type": "markdown",
   "metadata": {},
   "source": [
    "# One sample test on simulated bulk RNA-seq"
   ]
  },
  {
   "cell_type": "markdown",
   "metadata": {},
   "source": [
    "Nuha BinTayyash, 2020\n",
    "\n",
    "This notebook shows how to run GPcounts with one sample test on simulated bulk RNA-seq datasets."
   ]
  },
  {
   "cell_type": "code",
   "execution_count": 1,
   "metadata": {},
   "outputs": [],
   "source": [
    "import numpy as np\n",
    "import pandas as pd\n",
    "from GPcounts.GPcounts_Module import Fit_GPcounts\n",
    "import gpflow"
   ]
  },
  {
   "cell_type": "code",
   "execution_count": 2,
   "metadata": {},
   "outputs": [
    {
     "name": "stderr",
     "output_type": "stream",
     "text": [
      "\r",
      "  0%|          | 0/358 [00:00<?, ?it/s]"
     ]
    },
    {
     "name": "stdout",
     "output_type": "stream",
     "text": [
      "low_counts_low_dispersion_non_differentially_expressed_genes_DE_non_DE_genes.csv\n"
     ]
    },
    {
     "name": "stderr",
     "output_type": "stream",
     "text": [
      "  2%|▏         | 7/358 [00:19<15:24,  2.63s/it]"
     ]
    },
    {
     "name": "stdout",
     "output_type": "stream",
     "text": [
      "0\n",
      "Fit Cholesky decomposition was not successful.\n"
     ]
    },
    {
     "name": "stderr",
     "output_type": "stream",
     "text": [
      "  3%|▎         | 9/358 [00:23<14:13,  2.45s/it]"
     ]
    },
    {
     "name": "stdout",
     "output_type": "stream",
     "text": [
      "local Optima\n",
      "1\n",
      "y_mean 29.833333333333332\n",
      "mean_mean 69.9770738549677\n",
      "abs(round((mean_mean-y_mean)/y_mean)) 1.0\n"
     ]
    },
    {
     "name": "stderr",
     "output_type": "stream",
     "text": [
      "  3%|▎         | 11/358 [00:29<14:21,  2.48s/it]"
     ]
    },
    {
     "name": "stdout",
     "output_type": "stream",
     "text": [
      "0\n",
      "Fit Cholesky decomposition was not successful.\n"
     ]
    },
    {
     "name": "stderr",
     "output_type": "stream",
     "text": [
      "\r",
      "  3%|▎         | 12/358 [00:32<16:32,  2.87s/it]"
     ]
    },
    {
     "name": "stdout",
     "output_type": "stream",
     "text": [
      "local Optima\n",
      "1\n",
      "y_mean 3.8333333333333335\n",
      "mean_mean 8.05350663975178\n",
      "abs(round((mean_mean-y_mean)/y_mean)) 1.0\n",
      "local Optima\n",
      "1\n",
      "y_mean 3.8333333333333335\n",
      "mean_mean 7.977329589001306\n",
      "abs(round((mean_mean-y_mean)/y_mean)) 1.0\n",
      "local Optima\n",
      "1\n",
      "y_mean 3.8333333333333335\n",
      "mean_mean 7.353833035473829\n",
      "abs(round((mean_mean-y_mean)/y_mean)) 1.0\n",
      "local Optima\n",
      "1\n",
      "y_mean 3.8333333333333335\n",
      "mean_mean 7.961895130614234\n",
      "abs(round((mean_mean-y_mean)/y_mean)) 1.0\n",
      "local Optima\n",
      "1\n",
      "y_mean 3.8333333333333335\n",
      "mean_mean 7.580615544513925\n",
      "abs(round((mean_mean-y_mean)/y_mean)) 1.0\n"
     ]
    },
    {
     "name": "stderr",
     "output_type": "stream",
     "text": [
      "\r",
      "  4%|▎         | 13/358 [00:39<23:42,  4.12s/it]"
     ]
    },
    {
     "name": "stdout",
     "output_type": "stream",
     "text": [
      "0\n",
      "Fit Cholesky decomposition was not successful.\n"
     ]
    },
    {
     "name": "stderr",
     "output_type": "stream",
     "text": [
      "  4%|▍         | 15/358 [00:44<18:32,  3.24s/it]"
     ]
    },
    {
     "name": "stdout",
     "output_type": "stream",
     "text": [
      "Optimization fail.\n"
     ]
    },
    {
     "name": "stderr",
     "output_type": "stream",
     "text": [
      "  5%|▍         | 17/358 [00:49<15:46,  2.78s/it]"
     ]
    },
    {
     "name": "stdout",
     "output_type": "stream",
     "text": [
      "Optimization fail.\n"
     ]
    },
    {
     "name": "stderr",
     "output_type": "stream",
     "text": [
      "  5%|▌         | 19/358 [00:54<14:17,  2.53s/it]"
     ]
    },
    {
     "name": "stdout",
     "output_type": "stream",
     "text": [
      "0\n",
      "Fit Cholesky decomposition was not successful.\n"
     ]
    },
    {
     "name": "stderr",
     "output_type": "stream",
     "text": [
      "  6%|▌         | 21/358 [00:59<13:43,  2.44s/it]"
     ]
    },
    {
     "name": "stdout",
     "output_type": "stream",
     "text": [
      "Optimization fail.\n",
      "Optimization fail.\n"
     ]
    },
    {
     "name": "stderr",
     "output_type": "stream",
     "text": [
      "  8%|▊         | 27/358 [01:13<11:43,  2.13s/it]"
     ]
    },
    {
     "name": "stdout",
     "output_type": "stream",
     "text": [
      "0\n",
      "Fit Cholesky decomposition was not successful.\n"
     ]
    },
    {
     "name": "stderr",
     "output_type": "stream",
     "text": [
      " 10%|█         | 37/358 [01:34<10:36,  1.98s/it]"
     ]
    },
    {
     "name": "stdout",
     "output_type": "stream",
     "text": [
      "Optimization fail.\n"
     ]
    },
    {
     "name": "stderr",
     "output_type": "stream",
     "text": [
      " 11%|█         | 39/358 [01:39<11:37,  2.19s/it]"
     ]
    },
    {
     "name": "stdout",
     "output_type": "stream",
     "text": [
      "0\n",
      "Fit Cholesky decomposition was not successful.\n"
     ]
    },
    {
     "name": "stderr",
     "output_type": "stream",
     "text": [
      " 13%|█▎        | 46/358 [01:56<11:28,  2.21s/it]"
     ]
    },
    {
     "name": "stdout",
     "output_type": "stream",
     "text": [
      "local Optima\n",
      "1\n",
      "y_mean 17.5\n",
      "mean_mean 28.002549584893178\n",
      "abs(round((mean_mean-y_mean)/y_mean)) 1.0\n",
      "local Optima\n",
      "1\n",
      "y_mean 17.5\n",
      "mean_mean 39.05410014101685\n",
      "abs(round((mean_mean-y_mean)/y_mean)) 1.0\n"
     ]
    },
    {
     "name": "stderr",
     "output_type": "stream",
     "text": [
      " 18%|█▊        | 63/358 [02:36<10:54,  2.22s/it]"
     ]
    },
    {
     "name": "stdout",
     "output_type": "stream",
     "text": [
      "Optimization fail.\n"
     ]
    },
    {
     "name": "stderr",
     "output_type": "stream",
     "text": [
      " 18%|█▊        | 65/358 [02:42<12:13,  2.50s/it]"
     ]
    },
    {
     "name": "stdout",
     "output_type": "stream",
     "text": [
      "0\n",
      "Fit Cholesky decomposition was not successful.\n"
     ]
    },
    {
     "name": "stderr",
     "output_type": "stream",
     "text": [
      " 19%|█▊        | 67/358 [02:47<12:00,  2.48s/it]"
     ]
    },
    {
     "name": "stdout",
     "output_type": "stream",
     "text": [
      "Optimization fail.\n"
     ]
    },
    {
     "name": "stderr",
     "output_type": "stream",
     "text": [
      " 22%|██▏       | 79/358 [03:11<08:37,  1.85s/it]"
     ]
    },
    {
     "name": "stdout",
     "output_type": "stream",
     "text": [
      "0\n",
      "Fit Cholesky decomposition was not successful.\n"
     ]
    },
    {
     "name": "stderr",
     "output_type": "stream",
     "text": [
      " 23%|██▎       | 81/358 [03:16<09:23,  2.04s/it]"
     ]
    },
    {
     "name": "stdout",
     "output_type": "stream",
     "text": [
      "0\n",
      "Fit Cholesky decomposition was not successful.\n"
     ]
    },
    {
     "name": "stderr",
     "output_type": "stream",
     "text": [
      " 24%|██▎       | 85/358 [03:26<11:09,  2.45s/it]"
     ]
    },
    {
     "name": "stdout",
     "output_type": "stream",
     "text": [
      "Optimization fail.\n"
     ]
    },
    {
     "name": "stderr",
     "output_type": "stream",
     "text": [
      " 28%|██▊       | 99/358 [03:52<07:45,  1.80s/it]"
     ]
    },
    {
     "name": "stdout",
     "output_type": "stream",
     "text": [
      "0\n",
      "Fit Cholesky decomposition was not successful.\n"
     ]
    },
    {
     "name": "stderr",
     "output_type": "stream",
     "text": [
      " 31%|███       | 111/358 [04:15<07:57,  1.94s/it]"
     ]
    },
    {
     "name": "stdout",
     "output_type": "stream",
     "text": [
      "Optimization fail.\n"
     ]
    },
    {
     "name": "stderr",
     "output_type": "stream",
     "text": [
      " 34%|███▍      | 121/358 [04:35<07:21,  1.86s/it]"
     ]
    },
    {
     "name": "stdout",
     "output_type": "stream",
     "text": [
      "0\n",
      "Fit Cholesky decomposition was not successful.\n"
     ]
    },
    {
     "name": "stderr",
     "output_type": "stream",
     "text": [
      " 35%|███▍      | 124/358 [04:42<07:57,  2.04s/it]"
     ]
    },
    {
     "name": "stdout",
     "output_type": "stream",
     "text": [
      "local Optima\n",
      "1\n",
      "y_mean 15.944444444444445\n",
      "mean_mean 316.87982040394036\n",
      "abs(round((mean_mean-y_mean)/y_mean)) 19.0\n",
      "local Optima\n",
      "1\n",
      "y_mean 15.944444444444445\n",
      "mean_mean 436.5383297145064\n",
      "abs(round((mean_mean-y_mean)/y_mean)) 26.0\n"
     ]
    },
    {
     "name": "stderr",
     "output_type": "stream",
     "text": [
      " 35%|███▌      | 127/358 [04:49<08:30,  2.21s/it]"
     ]
    },
    {
     "name": "stdout",
     "output_type": "stream",
     "text": [
      "0\n",
      "Fit Cholesky decomposition was not successful.\n"
     ]
    },
    {
     "name": "stderr",
     "output_type": "stream",
     "text": [
      " 36%|███▌      | 129/358 [04:54<08:39,  2.27s/it]"
     ]
    },
    {
     "name": "stdout",
     "output_type": "stream",
     "text": [
      "0\n",
      "Fit Cholesky decomposition was not successful.\n"
     ]
    },
    {
     "name": "stderr",
     "output_type": "stream",
     "text": [
      " 37%|███▋      | 131/358 [05:00<10:24,  2.75s/it]"
     ]
    },
    {
     "name": "stdout",
     "output_type": "stream",
     "text": [
      "0\n",
      "Fit Cholesky decomposition was not successful.\n"
     ]
    },
    {
     "name": "stderr",
     "output_type": "stream",
     "text": [
      " 37%|███▋      | 133/358 [05:05<09:15,  2.47s/it]"
     ]
    },
    {
     "name": "stdout",
     "output_type": "stream",
     "text": [
      "Optimization fail.\n"
     ]
    },
    {
     "name": "stderr",
     "output_type": "stream",
     "text": [
      " 38%|███▊      | 135/358 [05:10<08:45,  2.36s/it]"
     ]
    },
    {
     "name": "stdout",
     "output_type": "stream",
     "text": [
      "Optimization fail.\n"
     ]
    },
    {
     "name": "stderr",
     "output_type": "stream",
     "text": [
      " 39%|███▉      | 141/358 [05:22<07:15,  2.01s/it]"
     ]
    },
    {
     "name": "stdout",
     "output_type": "stream",
     "text": [
      "local Optima\n",
      "1\n",
      "y_mean 62.111111111111114\n",
      "mean_mean 144.3955334841545\n",
      "abs(round((mean_mean-y_mean)/y_mean)) 1.0\n",
      "Optimization fail.\n"
     ]
    },
    {
     "name": "stderr",
     "output_type": "stream",
     "text": [
      " 40%|███▉      | 143/358 [05:28<08:22,  2.34s/it]"
     ]
    },
    {
     "name": "stdout",
     "output_type": "stream",
     "text": [
      "Optimization fail.\n"
     ]
    },
    {
     "name": "stderr",
     "output_type": "stream",
     "text": [
      " 41%|████      | 145/358 [05:33<08:26,  2.38s/it]"
     ]
    },
    {
     "name": "stdout",
     "output_type": "stream",
     "text": [
      "0\n",
      "Fit Cholesky decomposition was not successful.\n"
     ]
    },
    {
     "name": "stderr",
     "output_type": "stream",
     "text": [
      " 44%|████▎     | 156/358 [05:56<06:32,  1.94s/it]"
     ]
    },
    {
     "name": "stdout",
     "output_type": "stream",
     "text": [
      "local Optima\n",
      "1\n",
      "y_mean 10.222222222222221\n",
      "mean_mean 16.85712743151351\n",
      "abs(round((mean_mean-y_mean)/y_mean)) 1.0\n",
      "local Optima\n",
      "1\n",
      "y_mean 10.222222222222221\n",
      "mean_mean 19.165315800143766\n",
      "abs(round((mean_mean-y_mean)/y_mean)) 1.0\n",
      "local Optima\n",
      "1\n",
      "y_mean 10.222222222222221\n",
      "mean_mean 17.20898952659966\n",
      "abs(round((mean_mean-y_mean)/y_mean)) 1.0\n",
      "local Optima\n",
      "1\n",
      "y_mean 10.222222222222221\n",
      "mean_mean 21.58871230379178\n",
      "abs(round((mean_mean-y_mean)/y_mean)) 1.0\n",
      "local Optima\n",
      "1\n",
      "y_mean 10.222222222222221\n",
      "mean_mean 20.484769439311332\n",
      "abs(round((mean_mean-y_mean)/y_mean)) 1.0\n"
     ]
    },
    {
     "name": "stderr",
     "output_type": "stream",
     "text": [
      " 52%|█████▏    | 185/358 [06:55<05:19,  1.84s/it]"
     ]
    },
    {
     "name": "stdout",
     "output_type": "stream",
     "text": [
      "0\n",
      "Fit Cholesky decomposition was not successful.\n"
     ]
    },
    {
     "name": "stderr",
     "output_type": "stream",
     "text": [
      " 59%|█████▉    | 213/358 [07:48<04:20,  1.80s/it]"
     ]
    },
    {
     "name": "stdout",
     "output_type": "stream",
     "text": [
      "Optimization fail.\n"
     ]
    },
    {
     "name": "stderr",
     "output_type": "stream",
     "text": [
      "\r",
      " 60%|█████▉    | 214/358 [07:52<05:20,  2.22s/it]"
     ]
    },
    {
     "name": "stdout",
     "output_type": "stream",
     "text": [
      "local Optima\n",
      "1\n",
      "y_mean 24.72222222222222\n",
      "mean_mean 50.953863894339335\n",
      "abs(round((mean_mean-y_mean)/y_mean)) 1.0\n",
      "local Optima\n",
      "1\n",
      "y_mean 24.72222222222222\n",
      "mean_mean 55.067945325437634\n",
      "abs(round((mean_mean-y_mean)/y_mean)) 1.0\n",
      "local Optima\n",
      "1\n",
      "y_mean 24.72222222222222\n",
      "mean_mean 51.5782185881641\n",
      "abs(round((mean_mean-y_mean)/y_mean)) 1.0\n",
      "local Optima\n",
      "1\n",
      "y_mean 24.72222222222222\n",
      "mean_mean 69.07228066872375\n",
      "abs(round((mean_mean-y_mean)/y_mean)) 2.0\n",
      "local Optima\n",
      "1\n",
      "y_mean 24.72222222222222\n",
      "mean_mean 57.23468848696788\n",
      "abs(round((mean_mean-y_mean)/y_mean)) 1.0\n"
     ]
    },
    {
     "name": "stderr",
     "output_type": "stream",
     "text": [
      " 63%|██████▎   | 225/358 [08:19<04:41,  2.11s/it]"
     ]
    },
    {
     "name": "stdout",
     "output_type": "stream",
     "text": [
      "0\n",
      "Fit Cholesky decomposition was not successful.\n"
     ]
    },
    {
     "name": "stderr",
     "output_type": "stream",
     "text": [
      " 68%|██████▊   | 243/358 [08:53<03:24,  1.78s/it]"
     ]
    },
    {
     "name": "stdout",
     "output_type": "stream",
     "text": [
      "0\n",
      "Fit Cholesky decomposition was not successful.\n"
     ]
    },
    {
     "name": "stderr",
     "output_type": "stream",
     "text": [
      " 72%|███████▏  | 256/358 [09:20<03:35,  2.11s/it]"
     ]
    },
    {
     "name": "stdout",
     "output_type": "stream",
     "text": [
      "local Optima\n",
      "1\n",
      "y_mean 21.666666666666668\n",
      "mean_mean 4706.897789253997\n",
      "abs(round((mean_mean-y_mean)/y_mean)) 216.0\n"
     ]
    },
    {
     "name": "stderr",
     "output_type": "stream",
     "text": [
      " 75%|███████▌  | 269/358 [09:45<02:43,  1.84s/it]"
     ]
    },
    {
     "name": "stdout",
     "output_type": "stream",
     "text": [
      "Optimization fail.\n"
     ]
    },
    {
     "name": "stderr",
     "output_type": "stream",
     "text": [
      " 80%|████████  | 287/358 [10:24<02:43,  2.31s/it]"
     ]
    },
    {
     "name": "stdout",
     "output_type": "stream",
     "text": [
      "Optimization fail.\n"
     ]
    },
    {
     "name": "stderr",
     "output_type": "stream",
     "text": [
      " 83%|████████▎ | 297/358 [10:44<01:56,  1.92s/it]"
     ]
    },
    {
     "name": "stdout",
     "output_type": "stream",
     "text": [
      "Optimization fail.\n"
     ]
    },
    {
     "name": "stderr",
     "output_type": "stream",
     "text": [
      " 89%|████████▊ | 317/358 [11:27<01:18,  1.91s/it]"
     ]
    },
    {
     "name": "stdout",
     "output_type": "stream",
     "text": [
      "Optimization fail.\n"
     ]
    },
    {
     "name": "stderr",
     "output_type": "stream",
     "text": [
      " 95%|█████████▍| 339/358 [12:15<00:35,  1.88s/it]"
     ]
    },
    {
     "name": "stdout",
     "output_type": "stream",
     "text": [
      "Optimization fail.\n"
     ]
    },
    {
     "name": "stderr",
     "output_type": "stream",
     "text": [
      " 96%|█████████▋| 345/358 [12:28<00:26,  2.01s/it]"
     ]
    },
    {
     "name": "stdout",
     "output_type": "stream",
     "text": [
      "Optimization fail.\n"
     ]
    },
    {
     "name": "stderr",
     "output_type": "stream",
     "text": [
      "\r",
      " 97%|█████████▋| 346/358 [12:31<00:28,  2.38s/it]"
     ]
    },
    {
     "name": "stdout",
     "output_type": "stream",
     "text": [
      "local Optima\n",
      "1\n",
      "y_mean 21.166666666666668\n",
      "mean_mean 51.42529204354228\n",
      "abs(round((mean_mean-y_mean)/y_mean)) 1.0\n",
      "local Optima\n",
      "1\n",
      "y_mean 21.166666666666668\n",
      "mean_mean 88.00289592817437\n",
      "abs(round((mean_mean-y_mean)/y_mean)) 3.0\n"
     ]
    },
    {
     "name": "stderr",
     "output_type": "stream",
     "text": [
      " 97%|█████████▋| 349/358 [12:40<00:24,  2.69s/it]"
     ]
    },
    {
     "name": "stdout",
     "output_type": "stream",
     "text": [
      "Optimization fail.\n"
     ]
    },
    {
     "name": "stderr",
     "output_type": "stream",
     "text": [
      " 99%|█████████▉| 355/358 [12:53<00:05,  2.00s/it]"
     ]
    },
    {
     "name": "stdout",
     "output_type": "stream",
     "text": [
      "Optimization fail.\n"
     ]
    },
    {
     "name": "stderr",
     "output_type": "stream",
     "text": [
      "100%|██████████| 358/358 [13:00<00:00,  2.18s/it]\n",
      "  4%|▎         | 13/358 [00:05<02:12,  2.61it/s]"
     ]
    },
    {
     "name": "stdout",
     "output_type": "stream",
     "text": [
      "0\n",
      "Fit Cholesky decomposition was not successful.\n"
     ]
    },
    {
     "name": "stderr",
     "output_type": "stream",
     "text": [
      "  5%|▍         | 17/358 [00:07<02:16,  2.50it/s]"
     ]
    },
    {
     "name": "stdout",
     "output_type": "stream",
     "text": [
      "0\n",
      "Fit Cholesky decomposition was not successful.\n"
     ]
    },
    {
     "name": "stderr",
     "output_type": "stream",
     "text": [
      " 10%|▉         | 35/358 [00:14<02:01,  2.65it/s]"
     ]
    },
    {
     "name": "stdout",
     "output_type": "stream",
     "text": [
      "0\n",
      "Fit Cholesky decomposition was not successful.\n"
     ]
    },
    {
     "name": "stderr",
     "output_type": "stream",
     "text": [
      " 16%|█▋        | 59/358 [00:24<01:53,  2.63it/s]"
     ]
    },
    {
     "name": "stdout",
     "output_type": "stream",
     "text": [
      "0\n",
      "Fit Cholesky decomposition was not successful.\n"
     ]
    },
    {
     "name": "stderr",
     "output_type": "stream",
     "text": [
      " 18%|█▊        | 64/358 [00:26<01:56,  2.52it/s]"
     ]
    },
    {
     "name": "stdout",
     "output_type": "stream",
     "text": [
      "local Optima\n",
      "1\n",
      "y_mean 2.6350638060607037\n",
      "mean_mean 1.1851609448061393\n",
      "abs(round((mean_mean-y_mean)/y_mean)) 1.0\n",
      "local Optima\n",
      "1\n",
      "y_mean 2.6350638060607037\n",
      "mean_mean 0.04547972967006011\n",
      "abs(round((mean_mean-y_mean)/y_mean)) 1.0\n"
     ]
    },
    {
     "name": "stderr",
     "output_type": "stream",
     "text": [
      " 28%|██▊       | 99/358 [00:41<02:22,  1.81it/s]"
     ]
    },
    {
     "name": "stdout",
     "output_type": "stream",
     "text": [
      "0\n",
      "Fit Cholesky decomposition was not successful.\n"
     ]
    },
    {
     "name": "stderr",
     "output_type": "stream",
     "text": [
      " 31%|███       | 111/358 [00:46<01:35,  2.59it/s]"
     ]
    },
    {
     "name": "stdout",
     "output_type": "stream",
     "text": [
      "0\n",
      "Fit Cholesky decomposition was not successful.\n",
      "1\n",
      "Fit Cholesky decomposition was not successful.\n"
     ]
    },
    {
     "name": "stderr",
     "output_type": "stream",
     "text": [
      " 33%|███▎      | 117/358 [00:49<01:39,  2.41it/s]"
     ]
    },
    {
     "name": "stdout",
     "output_type": "stream",
     "text": [
      "0\n",
      "Fit Cholesky decomposition was not successful.\n"
     ]
    },
    {
     "name": "stderr",
     "output_type": "stream",
     "text": [
      " 38%|███▊      | 135/358 [00:56<01:29,  2.48it/s]"
     ]
    },
    {
     "name": "stdout",
     "output_type": "stream",
     "text": [
      "0\n",
      "Fit Cholesky decomposition was not successful.\n"
     ]
    },
    {
     "name": "stderr",
     "output_type": "stream",
     "text": [
      " 39%|███▉      | 139/358 [00:58<01:30,  2.43it/s]"
     ]
    },
    {
     "name": "stdout",
     "output_type": "stream",
     "text": [
      "0\n",
      "Fit Cholesky decomposition was not successful.\n",
      "1\n",
      "Fit Cholesky decomposition was not successful.\n",
      "2\n",
      "Fit Cholesky decomposition was not successful.\n",
      "3\n",
      "Fit Cholesky decomposition was not successful.\n"
     ]
    },
    {
     "name": "stderr",
     "output_type": "stream",
     "text": [
      " 47%|████▋     | 167/358 [01:10<01:12,  2.64it/s]"
     ]
    },
    {
     "name": "stdout",
     "output_type": "stream",
     "text": [
      "0\n",
      "Fit Cholesky decomposition was not successful.\n"
     ]
    },
    {
     "name": "stderr",
     "output_type": "stream",
     "text": [
      " 55%|█████▌    | 197/358 [01:22<01:00,  2.67it/s]"
     ]
    },
    {
     "name": "stdout",
     "output_type": "stream",
     "text": [
      "0\n",
      "Fit Cholesky decomposition was not successful.\n"
     ]
    },
    {
     "name": "stderr",
     "output_type": "stream",
     "text": [
      " 56%|█████▌    | 199/358 [01:23<01:06,  2.37it/s]"
     ]
    },
    {
     "name": "stdout",
     "output_type": "stream",
     "text": [
      "0\n",
      "Fit Cholesky decomposition was not successful.\n",
      "1\n",
      "Fit Cholesky decomposition was not successful.\n"
     ]
    },
    {
     "name": "stderr",
     "output_type": "stream",
     "text": [
      " 58%|█████▊    | 209/358 [01:27<00:57,  2.60it/s]"
     ]
    },
    {
     "name": "stdout",
     "output_type": "stream",
     "text": [
      "0\n",
      "Fit Cholesky decomposition was not successful.\n"
     ]
    },
    {
     "name": "stderr",
     "output_type": "stream",
     "text": [
      " 66%|██████▌   | 237/358 [01:38<00:46,  2.59it/s]"
     ]
    },
    {
     "name": "stdout",
     "output_type": "stream",
     "text": [
      "0\n",
      "Fit Cholesky decomposition was not successful.\n"
     ]
    },
    {
     "name": "stderr",
     "output_type": "stream",
     "text": [
      " 72%|███████▏  | 257/358 [01:46<00:40,  2.47it/s]"
     ]
    },
    {
     "name": "stdout",
     "output_type": "stream",
     "text": [
      "0\n",
      "Fit Cholesky decomposition was not successful.\n"
     ]
    },
    {
     "name": "stderr",
     "output_type": "stream",
     "text": [
      " 73%|███████▎  | 261/358 [01:48<00:40,  2.42it/s]"
     ]
    },
    {
     "name": "stdout",
     "output_type": "stream",
     "text": [
      "0\n",
      "Fit Cholesky decomposition was not successful.\n"
     ]
    },
    {
     "name": "stderr",
     "output_type": "stream",
     "text": [
      " 75%|███████▌  | 269/358 [01:51<00:35,  2.53it/s]"
     ]
    },
    {
     "name": "stdout",
     "output_type": "stream",
     "text": [
      "1\n",
      "Fit Cholesky decomposition was not successful.\n",
      "0\n",
      "Fit Cholesky decomposition was not successful.\n"
     ]
    },
    {
     "name": "stderr",
     "output_type": "stream",
     "text": [
      " 78%|███████▊  | 279/358 [01:56<00:32,  2.40it/s]"
     ]
    },
    {
     "name": "stdout",
     "output_type": "stream",
     "text": [
      "0\n",
      "Fit Cholesky decomposition was not successful.\n"
     ]
    },
    {
     "name": "stderr",
     "output_type": "stream",
     "text": [
      " 90%|█████████ | 323/358 [02:13<00:13,  2.64it/s]"
     ]
    },
    {
     "name": "stdout",
     "output_type": "stream",
     "text": [
      "0\n",
      "Fit Cholesky decomposition was not successful.\n",
      "1\n",
      "Fit Cholesky decomposition was not successful.\n"
     ]
    },
    {
     "name": "stderr",
     "output_type": "stream",
     "text": [
      " 94%|█████████▍| 337/358 [02:20<00:08,  2.57it/s]"
     ]
    },
    {
     "name": "stdout",
     "output_type": "stream",
     "text": [
      "0\n",
      "Fit Cholesky decomposition was not successful.\n"
     ]
    },
    {
     "name": "stderr",
     "output_type": "stream",
     "text": [
      " 96%|█████████▋| 345/358 [02:23<00:05,  2.55it/s]"
     ]
    },
    {
     "name": "stdout",
     "output_type": "stream",
     "text": [
      "0\n",
      "Fit Cholesky decomposition was not successful.\n"
     ]
    },
    {
     "name": "stderr",
     "output_type": "stream",
     "text": [
      " 97%|█████████▋| 347/358 [02:24<00:04,  2.30it/s]"
     ]
    },
    {
     "name": "stdout",
     "output_type": "stream",
     "text": [
      "0\n",
      "Fit Cholesky decomposition was not successful.\n",
      "1\n",
      "Fit Cholesky decomposition was not successful.\n"
     ]
    },
    {
     "name": "stderr",
     "output_type": "stream",
     "text": [
      "100%|██████████| 358/358 [02:29<00:00,  2.40it/s]\n",
      " 13%|█▎        | 46/358 [01:25<10:41,  2.06s/it]"
     ]
    },
    {
     "name": "stdout",
     "output_type": "stream",
     "text": [
      "local Optima\n",
      "1\n",
      "y_mean 17.5\n",
      "mean_mean 27.642324981425407\n",
      "abs(round((mean_mean-y_mean)/y_mean)) 1.0\n",
      "local Optima\n",
      "1\n",
      "y_mean 17.5\n",
      "mean_mean 34.9224224395074\n",
      "abs(round((mean_mean-y_mean)/y_mean)) 1.0\n"
     ]
    },
    {
     "name": "stderr",
     "output_type": "stream",
     "text": [
      " 15%|█▍        | 52/358 [01:38<10:36,  2.08s/it]"
     ]
    },
    {
     "name": "stdout",
     "output_type": "stream",
     "text": [
      "local Optima\n",
      "1\n",
      "y_mean 14.944444444444445\n",
      "mean_mean 23.048631468026702\n",
      "abs(round((mean_mean-y_mean)/y_mean)) 1.0\n"
     ]
    },
    {
     "name": "stderr",
     "output_type": "stream",
     "text": [
      " 35%|███▍      | 124/358 [04:06<09:14,  2.37s/it]"
     ]
    },
    {
     "name": "stdout",
     "output_type": "stream",
     "text": [
      "local Optima\n",
      "1\n",
      "y_mean 15.944444444444445\n",
      "mean_mean 389.8801773145209\n",
      "abs(round((mean_mean-y_mean)/y_mean)) 23.0\n",
      "local Optima\n",
      "1\n",
      "y_mean 15.944444444444445\n",
      "mean_mean 572.2419672186121\n",
      "abs(round((mean_mean-y_mean)/y_mean)) 35.0\n"
     ]
    },
    {
     "name": "stderr",
     "output_type": "stream",
     "text": [
      " 44%|████▎     | 156/358 [05:13<07:28,  2.22s/it]"
     ]
    },
    {
     "name": "stdout",
     "output_type": "stream",
     "text": [
      "local Optima\n",
      "1\n",
      "y_mean 10.222222222222221\n",
      "mean_mean 17.51072331292247\n",
      "abs(round((mean_mean-y_mean)/y_mean)) 1.0\n",
      "local Optima\n",
      "1\n",
      "y_mean 10.222222222222221\n",
      "mean_mean 18.99221925847348\n",
      "abs(round((mean_mean-y_mean)/y_mean)) 1.0\n",
      "local Optima\n",
      "1\n",
      "y_mean 10.222222222222221\n",
      "mean_mean 18.1740146626202\n",
      "abs(round((mean_mean-y_mean)/y_mean)) 1.0\n",
      "local Optima\n",
      "1\n",
      "y_mean 10.222222222222221\n",
      "mean_mean 18.115742010942267\n",
      "abs(round((mean_mean-y_mean)/y_mean)) 1.0\n",
      "local Optima\n",
      "1\n",
      "y_mean 10.222222222222221\n",
      "mean_mean 16.740533403869122\n",
      "abs(round((mean_mean-y_mean)/y_mean)) 1.0\n"
     ]
    },
    {
     "name": "stderr",
     "output_type": "stream",
     "text": [
      " 45%|████▍     | 160/358 [05:27<09:32,  2.89s/it]"
     ]
    },
    {
     "name": "stdout",
     "output_type": "stream",
     "text": [
      "local Optima\n",
      "1\n",
      "y_mean 12.38888888888889\n",
      "mean_mean 48.280469325238926\n",
      "abs(round((mean_mean-y_mean)/y_mean)) 3.0\n",
      "local Optima\n",
      "1\n",
      "y_mean 12.38888888888889\n",
      "mean_mean 54.47315743537735\n",
      "abs(round((mean_mean-y_mean)/y_mean)) 3.0\n",
      "local Optima\n",
      "1\n",
      "y_mean 12.38888888888889\n",
      "mean_mean 69.08990835002994\n",
      "abs(round((mean_mean-y_mean)/y_mean)) 5.0\n",
      "local Optima\n",
      "1\n",
      "y_mean 12.38888888888889\n",
      "mean_mean 70.56446499121346\n",
      "abs(round((mean_mean-y_mean)/y_mean)) 5.0\n",
      "local Optima\n",
      "1\n",
      "y_mean 12.38888888888889\n",
      "mean_mean 84.11416419182684\n",
      "abs(round((mean_mean-y_mean)/y_mean)) 6.0\n"
     ]
    },
    {
     "name": "stderr",
     "output_type": "stream",
     "text": [
      " 66%|██████▋   | 238/358 [08:28<05:10,  2.59s/it]"
     ]
    },
    {
     "name": "stdout",
     "output_type": "stream",
     "text": [
      "local Optima\n",
      "1\n",
      "y_mean 1.2777777777777777\n",
      "mean_mean 3.713770986607126\n",
      "abs(round((mean_mean-y_mean)/y_mean)) 2.0\n"
     ]
    },
    {
     "name": "stderr",
     "output_type": "stream",
     "text": [
      " 72%|███████▏  | 256/358 [09:09<04:56,  2.91s/it]"
     ]
    },
    {
     "name": "stdout",
     "output_type": "stream",
     "text": [
      "local Optima\n",
      "1\n",
      "y_mean 21.666666666666668\n",
      "mean_mean 2888.5626454834633\n",
      "abs(round((mean_mean-y_mean)/y_mean)) 132.0\n",
      "local Optima\n",
      "1\n",
      "y_mean 21.666666666666668\n",
      "mean_mean 5590.916365671534\n",
      "abs(round((mean_mean-y_mean)/y_mean)) 257.0\n",
      "local Optima\n",
      "1\n",
      "y_mean 21.666666666666668\n",
      "mean_mean 2609.414856276174\n",
      "abs(round((mean_mean-y_mean)/y_mean)) 119.0\n",
      "local Optima\n",
      "1\n",
      "y_mean 21.666666666666668\n",
      "mean_mean 1606.181939529227\n",
      "abs(round((mean_mean-y_mean)/y_mean)) 73.0\n",
      "local Optima\n",
      "1\n",
      "y_mean 21.666666666666668\n",
      "mean_mean 2982.671561507864\n",
      "abs(round((mean_mean-y_mean)/y_mean)) 137.0\n"
     ]
    },
    {
     "name": "stderr",
     "output_type": "stream",
     "text": [
      " 73%|███████▎  | 260/358 [09:25<05:21,  3.28s/it]"
     ]
    },
    {
     "name": "stdout",
     "output_type": "stream",
     "text": [
      "local Optima\n",
      "1\n",
      "y_mean 20.61111111111111\n",
      "mean_mean 114.10647816093116\n",
      "abs(round((mean_mean-y_mean)/y_mean)) 5.0\n",
      "local Optima\n",
      "1\n",
      "y_mean 20.61111111111111\n",
      "mean_mean 140.62616323243893\n",
      "abs(round((mean_mean-y_mean)/y_mean)) 6.0\n",
      "local Optima\n",
      "1\n",
      "y_mean 20.61111111111111\n",
      "mean_mean 70.7798373632892\n",
      "abs(round((mean_mean-y_mean)/y_mean)) 2.0\n",
      "local Optima\n",
      "1\n",
      "y_mean 20.61111111111111\n",
      "mean_mean 174.52999697382037\n",
      "abs(round((mean_mean-y_mean)/y_mean)) 7.0\n",
      "local Optima\n",
      "1\n",
      "y_mean 20.61111111111111\n",
      "mean_mean 75.48579340914915\n",
      "abs(round((mean_mean-y_mean)/y_mean)) 3.0\n"
     ]
    },
    {
     "name": "stderr",
     "output_type": "stream",
     "text": [
      " 95%|█████████▍| 340/358 [12:38<00:43,  2.41s/it]"
     ]
    },
    {
     "name": "stdout",
     "output_type": "stream",
     "text": [
      "local Optima\n",
      "1\n",
      "y_mean 16.166666666666668\n",
      "mean_mean 393.56652952260026\n",
      "abs(round((mean_mean-y_mean)/y_mean)) 23.0\n",
      "local Optima\n",
      "1\n",
      "y_mean 16.166666666666668\n",
      "mean_mean 390.08036025470324\n",
      "abs(round((mean_mean-y_mean)/y_mean)) 23.0\n",
      "local Optima\n",
      "1\n",
      "y_mean 16.166666666666668\n",
      "mean_mean 368.030668778021\n",
      "abs(round((mean_mean-y_mean)/y_mean)) 22.0\n",
      "local Optima\n",
      "1\n",
      "y_mean 16.166666666666668\n",
      "mean_mean 374.31496651292787\n",
      "abs(round((mean_mean-y_mean)/y_mean)) 22.0\n",
      "local Optima\n",
      "1\n",
      "y_mean 16.166666666666668\n",
      "mean_mean 276.97524476972023\n",
      "abs(round((mean_mean-y_mean)/y_mean)) 16.0\n"
     ]
    },
    {
     "name": "stderr",
     "output_type": "stream",
     "text": [
      " 96%|█████████▌| 342/358 [12:47<00:52,  3.30s/it]"
     ]
    },
    {
     "name": "stdout",
     "output_type": "stream",
     "text": [
      "local Optima\n",
      "1\n",
      "y_mean 20.11111111111111\n",
      "mean_mean 140.636657901978\n",
      "abs(round((mean_mean-y_mean)/y_mean)) 6.0\n",
      "local Optima\n",
      "1\n",
      "y_mean 20.11111111111111\n",
      "mean_mean 170.96279656022918\n",
      "abs(round((mean_mean-y_mean)/y_mean)) 8.0\n",
      "local Optima\n",
      "1\n",
      "y_mean 20.11111111111111\n",
      "mean_mean 136.73430491746012\n",
      "abs(round((mean_mean-y_mean)/y_mean)) 6.0\n",
      "local Optima\n",
      "1\n",
      "y_mean 20.11111111111111\n",
      "mean_mean 174.62328576710942\n",
      "abs(round((mean_mean-y_mean)/y_mean)) 8.0\n",
      "local Optima\n",
      "1\n",
      "y_mean 20.11111111111111\n",
      "mean_mean 120.8681951090046\n",
      "abs(round((mean_mean-y_mean)/y_mean)) 5.0\n"
     ]
    },
    {
     "name": "stderr",
     "output_type": "stream",
     "text": [
      " 97%|█████████▋| 346/358 [13:03<00:41,  3.42s/it]"
     ]
    },
    {
     "name": "stdout",
     "output_type": "stream",
     "text": [
      "local Optima\n",
      "1\n",
      "y_mean 21.166666666666668\n",
      "mean_mean 46.0530473522921\n",
      "abs(round((mean_mean-y_mean)/y_mean)) 1.0\n",
      "local Optima\n",
      "1\n",
      "y_mean 21.166666666666668\n",
      "mean_mean 86.80806070216693\n",
      "abs(round((mean_mean-y_mean)/y_mean)) 3.0\n",
      "local Optima\n",
      "1\n",
      "y_mean 21.166666666666668\n",
      "mean_mean 72.10600174248498\n",
      "abs(round((mean_mean-y_mean)/y_mean)) 2.0\n"
     ]
    },
    {
     "name": "stderr",
     "output_type": "stream",
     "text": [
      " 99%|█████████▉| 354/358 [13:21<00:07,  1.92s/it]"
     ]
    },
    {
     "name": "stdout",
     "output_type": "stream",
     "text": [
      "local Optima\n",
      "1\n",
      "y_mean 9.222222222222221\n",
      "mean_mean 36.784577354480994\n",
      "abs(round((mean_mean-y_mean)/y_mean)) 3.0\n"
     ]
    },
    {
     "name": "stderr",
     "output_type": "stream",
     "text": [
      " 99%|█████████▉| 356/358 [13:26<00:04,  2.26s/it]"
     ]
    },
    {
     "name": "stdout",
     "output_type": "stream",
     "text": [
      "local Optima\n",
      "1\n",
      "y_mean 11.833333333333334\n",
      "mean_mean 30.62224640085812\n",
      "abs(round((mean_mean-y_mean)/y_mean)) 2.0\n",
      "local Optima\n",
      "1\n",
      "y_mean 11.833333333333334\n",
      "mean_mean 33.11959610257284\n",
      "abs(round((mean_mean-y_mean)/y_mean)) 2.0\n",
      "local Optima\n",
      "1\n",
      "y_mean 11.833333333333334\n",
      "mean_mean 30.362583908808528\n",
      "abs(round((mean_mean-y_mean)/y_mean)) 2.0\n",
      "local Optima\n",
      "1\n",
      "y_mean 11.833333333333334\n",
      "mean_mean 35.225176450225014\n",
      "abs(round((mean_mean-y_mean)/y_mean)) 2.0\n",
      "local Optima\n",
      "1\n",
      "y_mean 11.833333333333334\n",
      "mean_mean 31.887808786936883\n",
      "abs(round((mean_mean-y_mean)/y_mean)) 2.0\n"
     ]
    },
    {
     "name": "stderr",
     "output_type": "stream",
     "text": [
      "100%|██████████| 358/358 [13:35<00:00,  2.28s/it]\n",
      "  0%|          | 0/358 [00:00<?, ?it/s]"
     ]
    },
    {
     "name": "stdout",
     "output_type": "stream",
     "text": [
      "low_counts_high_dispersion_non_differentially_expressed_genes_DE_non_DE_genes.csv\n"
     ]
    },
    {
     "name": "stderr",
     "output_type": "stream",
     "text": [
      " 23%|██▎       | 84/358 [02:44<09:16,  2.03s/it]"
     ]
    },
    {
     "name": "stdout",
     "output_type": "stream",
     "text": [
      "local Optima\n",
      "1\n",
      "y_mean 16.444444444444443\n",
      "mean_mean 32.022513365377634\n",
      "abs(round((mean_mean-y_mean)/y_mean)) 1.0\n",
      "local Optima\n",
      "1\n",
      "y_mean 16.444444444444443\n",
      "mean_mean 37.42766944736253\n",
      "abs(round((mean_mean-y_mean)/y_mean)) 1.0\n",
      "local Optima\n",
      "1\n",
      "y_mean 16.444444444444443\n",
      "mean_mean 32.838006135126165\n",
      "abs(round((mean_mean-y_mean)/y_mean)) 1.0\n",
      "local Optima\n",
      "1\n",
      "y_mean 16.444444444444443\n",
      "mean_mean 41.863038684265554\n",
      "abs(round((mean_mean-y_mean)/y_mean)) 2.0\n",
      "local Optima\n",
      "1\n",
      "y_mean 16.444444444444443\n",
      "mean_mean 40.81963899057101\n",
      "abs(round((mean_mean-y_mean)/y_mean)) 1.0\n"
     ]
    },
    {
     "name": "stderr",
     "output_type": "stream",
     "text": [
      " 44%|████▎     | 156/358 [05:11<07:19,  2.18s/it]"
     ]
    },
    {
     "name": "stdout",
     "output_type": "stream",
     "text": [
      "local Optima\n",
      "1\n",
      "y_mean 12.277777777777779\n",
      "mean_mean 18.867497801018832\n",
      "abs(round((mean_mean-y_mean)/y_mean)) 1.0\n",
      "local Optima\n",
      "1\n",
      "y_mean 12.277777777777779\n",
      "mean_mean 19.235841685025022\n",
      "abs(round((mean_mean-y_mean)/y_mean)) 1.0\n",
      "local Optima\n",
      "1\n",
      "y_mean 12.277777777777779\n",
      "mean_mean 18.998734626477507\n",
      "abs(round((mean_mean-y_mean)/y_mean)) 1.0\n",
      "local Optima\n",
      "1\n",
      "y_mean 12.277777777777779\n",
      "mean_mean 21.85282387285135\n",
      "abs(round((mean_mean-y_mean)/y_mean)) 1.0\n",
      "local Optima\n",
      "1\n",
      "y_mean 12.277777777777779\n",
      "mean_mean 20.00058085322573\n",
      "abs(round((mean_mean-y_mean)/y_mean)) 1.0\n"
     ]
    },
    {
     "name": "stderr",
     "output_type": "stream",
     "text": [
      " 56%|█████▋    | 202/358 [06:45<05:17,  2.04s/it]"
     ]
    },
    {
     "name": "stdout",
     "output_type": "stream",
     "text": [
      "local Optima\n",
      "1\n",
      "y_mean 18.166666666666668\n",
      "mean_mean 37.57023185466238\n",
      "abs(round((mean_mean-y_mean)/y_mean)) 1.0\n"
     ]
    },
    {
     "name": "stderr",
     "output_type": "stream",
     "text": [
      " 61%|██████▏   | 220/358 [07:20<04:42,  2.05s/it]"
     ]
    },
    {
     "name": "stdout",
     "output_type": "stream",
     "text": [
      "local Optima\n",
      "1\n",
      "y_mean 12.88888888888889\n",
      "mean_mean 1987.5244853240613\n",
      "abs(round((mean_mean-y_mean)/y_mean)) 153.0\n"
     ]
    },
    {
     "name": "stderr",
     "output_type": "stream",
     "text": [
      " 80%|███████▉  | 285/358 [09:28<02:20,  1.93s/it]"
     ]
    },
    {
     "name": "stdout",
     "output_type": "stream",
     "text": [
      "0\n",
      "Fit Cholesky decomposition was not successful.\n"
     ]
    },
    {
     "name": "stderr",
     "output_type": "stream",
     "text": [
      "\r",
      " 80%|███████▉  | 286/358 [09:32<03:00,  2.51s/it]"
     ]
    },
    {
     "name": "stdout",
     "output_type": "stream",
     "text": [
      "local Optima\n",
      "1\n",
      "y_mean 9.11111111111111\n",
      "mean_mean 63.28644756198119\n",
      "abs(round((mean_mean-y_mean)/y_mean)) 6.0\n",
      "local Optima\n",
      "1\n",
      "y_mean 9.11111111111111\n",
      "mean_mean 113.81309845421094\n",
      "abs(round((mean_mean-y_mean)/y_mean)) 11.0\n",
      "local Optima\n",
      "1\n",
      "y_mean 9.11111111111111\n",
      "mean_mean 59.31050520018911\n",
      "abs(round((mean_mean-y_mean)/y_mean)) 6.0\n",
      "local Optima\n",
      "1\n",
      "y_mean 9.11111111111111\n",
      "mean_mean 130.8476199376072\n",
      "abs(round((mean_mean-y_mean)/y_mean)) 13.0\n",
      "local Optima\n",
      "1\n",
      "y_mean 9.11111111111111\n",
      "mean_mean 85.18904158177902\n",
      "abs(round((mean_mean-y_mean)/y_mean)) 8.0\n"
     ]
    },
    {
     "name": "stderr",
     "output_type": "stream",
     "text": [
      " 82%|████████▏ | 293/358 [09:50<02:14,  2.07s/it]"
     ]
    },
    {
     "name": "stdout",
     "output_type": "stream",
     "text": [
      "0\n",
      "Fit Cholesky decomposition was not successful.\n"
     ]
    },
    {
     "name": "stderr",
     "output_type": "stream",
     "text": [
      "100%|██████████| 358/358 [11:59<00:00,  2.01s/it]\n",
      "  3%|▎         | 9/358 [00:03<02:11,  2.66it/s]"
     ]
    },
    {
     "name": "stdout",
     "output_type": "stream",
     "text": [
      "0\n",
      "Fit Cholesky decomposition was not successful.\n"
     ]
    },
    {
     "name": "stderr",
     "output_type": "stream",
     "text": [
      " 20%|█▉        | 71/358 [00:28<01:53,  2.54it/s]"
     ]
    },
    {
     "name": "stdout",
     "output_type": "stream",
     "text": [
      "0\n",
      "Fit Cholesky decomposition was not successful.\n"
     ]
    },
    {
     "name": "stderr",
     "output_type": "stream",
     "text": [
      " 29%|██▉       | 103/358 [00:41<02:04,  2.05it/s]"
     ]
    },
    {
     "name": "stdout",
     "output_type": "stream",
     "text": [
      "0\n",
      "Fit Cholesky decomposition was not successful.\n"
     ]
    },
    {
     "name": "stderr",
     "output_type": "stream",
     "text": [
      " 61%|██████    | 219/358 [01:27<00:55,  2.51it/s]"
     ]
    },
    {
     "name": "stdout",
     "output_type": "stream",
     "text": [
      "0\n",
      "Fit Cholesky decomposition was not successful.\n"
     ]
    },
    {
     "name": "stderr",
     "output_type": "stream",
     "text": [
      " 68%|██████▊   | 243/358 [01:37<01:04,  1.77it/s]"
     ]
    },
    {
     "name": "stdout",
     "output_type": "stream",
     "text": [
      "0\n",
      "Fit Cholesky decomposition was not successful.\n"
     ]
    },
    {
     "name": "stderr",
     "output_type": "stream",
     "text": [
      " 91%|█████████ | 325/358 [02:09<00:12,  2.65it/s]"
     ]
    },
    {
     "name": "stdout",
     "output_type": "stream",
     "text": [
      "0\n",
      "Fit Cholesky decomposition was not successful.\n"
     ]
    },
    {
     "name": "stderr",
     "output_type": "stream",
     "text": [
      " 97%|█████████▋| 349/358 [02:20<00:03,  2.61it/s]"
     ]
    },
    {
     "name": "stdout",
     "output_type": "stream",
     "text": [
      "0\n",
      "Fit Cholesky decomposition was not successful.\n"
     ]
    },
    {
     "name": "stderr",
     "output_type": "stream",
     "text": [
      "100%|██████████| 358/358 [02:23<00:00,  2.49it/s]\n",
      " 25%|██▌       | 90/358 [02:38<08:21,  1.87s/it]"
     ]
    },
    {
     "name": "stdout",
     "output_type": "stream",
     "text": [
      "local Optima\n",
      "1\n",
      "y_mean 2.9444444444444446\n",
      "mean_mean 15.80890608350116\n",
      "abs(round((mean_mean-y_mean)/y_mean)) 4.0\n"
     ]
    },
    {
     "name": "stderr",
     "output_type": "stream",
     "text": [
      " 50%|█████     | 180/358 [05:23<05:59,  2.02s/it]"
     ]
    },
    {
     "name": "stdout",
     "output_type": "stream",
     "text": [
      "local Optima\n",
      "1\n",
      "y_mean 21.77777777777778\n",
      "mean_mean 152.95618817529078\n",
      "abs(round((mean_mean-y_mean)/y_mean)) 6.0\n"
     ]
    },
    {
     "name": "stderr",
     "output_type": "stream",
     "text": [
      " 52%|█████▏    | 186/358 [05:36<06:03,  2.11s/it]"
     ]
    },
    {
     "name": "stdout",
     "output_type": "stream",
     "text": [
      "local Optima\n",
      "1\n",
      "y_mean 14.722222222222221\n",
      "mean_mean 595.4535390119732\n",
      "abs(round((mean_mean-y_mean)/y_mean)) 39.0\n",
      "local Optima\n",
      "1\n",
      "y_mean 14.722222222222221\n",
      "mean_mean 928.4369180885973\n",
      "abs(round((mean_mean-y_mean)/y_mean)) 62.0\n",
      "local Optima\n",
      "1\n",
      "y_mean 14.722222222222221\n",
      "mean_mean 559.4407903371598\n",
      "abs(round((mean_mean-y_mean)/y_mean)) 37.0\n",
      "local Optima\n",
      "1\n",
      "y_mean 14.722222222222221\n",
      "mean_mean 592.3321149810322\n",
      "abs(round((mean_mean-y_mean)/y_mean)) 39.0\n",
      "local Optima\n",
      "1\n",
      "y_mean 14.722222222222221\n",
      "mean_mean 460.40533145997176\n",
      "abs(round((mean_mean-y_mean)/y_mean)) 30.0\n"
     ]
    },
    {
     "name": "stderr",
     "output_type": "stream",
     "text": [
      " 54%|█████▎    | 192/358 [05:50<05:34,  2.02s/it]"
     ]
    },
    {
     "name": "stdout",
     "output_type": "stream",
     "text": [
      "local Optima\n",
      "1\n",
      "y_mean 2.0555555555555554\n",
      "mean_mean 12.167000691114056\n",
      "abs(round((mean_mean-y_mean)/y_mean)) 5.0\n",
      "local Optima\n",
      "1\n",
      "y_mean 2.0555555555555554\n",
      "mean_mean 13.89778172376484\n",
      "abs(round((mean_mean-y_mean)/y_mean)) 6.0\n",
      "local Optima\n",
      "1\n",
      "y_mean 2.0555555555555554\n",
      "mean_mean 7.471901971539463\n",
      "abs(round((mean_mean-y_mean)/y_mean)) 3.0\n",
      "local Optima\n",
      "1\n",
      "y_mean 2.0555555555555554\n",
      "mean_mean 16.922387155722475\n",
      "abs(round((mean_mean-y_mean)/y_mean)) 7.0\n"
     ]
    },
    {
     "name": "stderr",
     "output_type": "stream",
     "text": [
      " 73%|███████▎  | 262/358 [08:05<03:04,  1.92s/it]"
     ]
    },
    {
     "name": "stdout",
     "output_type": "stream",
     "text": [
      "local Optima\n",
      "1\n",
      "y_mean 30.61111111111111\n",
      "mean_mean 61.15845847111529\n",
      "abs(round((mean_mean-y_mean)/y_mean)) 1.0\n",
      "local Optima\n",
      "1\n",
      "y_mean 30.61111111111111\n",
      "mean_mean 61.36937384471909\n",
      "abs(round((mean_mean-y_mean)/y_mean)) 1.0\n",
      "local Optima\n",
      "1\n",
      "y_mean 30.61111111111111\n",
      "mean_mean 51.16594788831499\n",
      "abs(round((mean_mean-y_mean)/y_mean)) 1.0\n"
     ]
    },
    {
     "name": "stderr",
     "output_type": "stream",
     "text": [
      " 80%|███████▉  | 286/358 [08:55<02:18,  1.93s/it]"
     ]
    },
    {
     "name": "stdout",
     "output_type": "stream",
     "text": [
      "local Optima\n",
      "1\n",
      "y_mean 9.11111111111111\n",
      "mean_mean 90.21558692444796\n",
      "abs(round((mean_mean-y_mean)/y_mean)) 9.0\n",
      "local Optima\n",
      "1\n",
      "y_mean 9.11111111111111\n",
      "mean_mean 104.85221510013739\n",
      "abs(round((mean_mean-y_mean)/y_mean)) 11.0\n",
      "local Optima\n",
      "1\n",
      "y_mean 9.11111111111111\n",
      "mean_mean 85.14261353320477\n",
      "abs(round((mean_mean-y_mean)/y_mean)) 8.0\n",
      "local Optima\n",
      "1\n",
      "y_mean 9.11111111111111\n",
      "mean_mean 88.8635065543942\n",
      "abs(round((mean_mean-y_mean)/y_mean)) 9.0\n",
      "local Optima\n",
      "1\n",
      "y_mean 9.11111111111111\n",
      "mean_mean 79.16669183662066\n",
      "abs(round((mean_mean-y_mean)/y_mean)) 8.0\n"
     ]
    },
    {
     "name": "stderr",
     "output_type": "stream",
     "text": [
      "100%|██████████| 358/358 [11:15<00:00,  1.89s/it]\n",
      "  0%|          | 0/360 [00:00<?, ?it/s]"
     ]
    },
    {
     "name": "stdout",
     "output_type": "stream",
     "text": [
      "high_counts_low_dispersion_non_differentially_expressed_genes_DE_non_DE_genes.csv\n"
     ]
    },
    {
     "name": "stderr",
     "output_type": "stream",
     "text": [
      " 12%|█▏        | 42/360 [02:10<20:15,  3.82s/it]"
     ]
    },
    {
     "name": "stdout",
     "output_type": "stream",
     "text": [
      "local Optima\n",
      "1\n",
      "y_mean 250.33333333333334\n",
      "mean_mean 122.24632504148465\n",
      "abs(round((mean_mean-y_mean)/y_mean)) 1.0\n"
     ]
    },
    {
     "name": "stderr",
     "output_type": "stream",
     "text": [
      "\r",
      " 12%|█▏        | 43/360 [02:13<18:35,  3.52s/it]"
     ]
    },
    {
     "name": "stdout",
     "output_type": "stream",
     "text": [
      "Optimization fail.\n"
     ]
    },
    {
     "name": "stderr",
     "output_type": "stream",
     "text": [
      " 13%|█▎        | 48/360 [02:28<16:47,  3.23s/it]"
     ]
    },
    {
     "name": "stdout",
     "output_type": "stream",
     "text": [
      "local Optima\n",
      "1\n",
      "y_mean 783.0555555555555\n",
      "mean_mean 1479.57498148616\n",
      "abs(round((mean_mean-y_mean)/y_mean)) 1.0\n",
      "local Optima\n",
      "1\n",
      "y_mean 783.0555555555555\n",
      "mean_mean 1463.4430214167264\n",
      "abs(round((mean_mean-y_mean)/y_mean)) 1.0\n",
      "local Optima\n",
      "1\n",
      "y_mean 783.0555555555555\n",
      "mean_mean 1408.3590406591973\n",
      "abs(round((mean_mean-y_mean)/y_mean)) 1.0\n",
      "local Optima\n",
      "1\n",
      "y_mean 783.0555555555555\n",
      "mean_mean 1636.9457375010452\n",
      "abs(round((mean_mean-y_mean)/y_mean)) 1.0\n",
      "local Optima\n",
      "1\n",
      "y_mean 783.0555555555555\n",
      "mean_mean 1538.3441367399462\n",
      "abs(round((mean_mean-y_mean)/y_mean)) 1.0\n"
     ]
    },
    {
     "name": "stderr",
     "output_type": "stream",
     "text": [
      " 20%|██        | 73/360 [03:50<14:03,  2.94s/it]"
     ]
    },
    {
     "name": "stdout",
     "output_type": "stream",
     "text": [
      "0\n",
      "Fit Cholesky decomposition was not successful.\n"
     ]
    },
    {
     "name": "stderr",
     "output_type": "stream",
     "text": [
      " 28%|██▊       | 102/360 [05:15<12:57,  3.01s/it]"
     ]
    },
    {
     "name": "stdout",
     "output_type": "stream",
     "text": [
      "local Optima\n",
      "1\n",
      "y_mean 3492.3333333333335\n",
      "mean_mean 1447.0384432844157\n",
      "abs(round((mean_mean-y_mean)/y_mean)) 1.0\n",
      "local Optima\n",
      "1\n",
      "y_mean 3492.3333333333335\n",
      "mean_mean 1485.8060158480482\n",
      "abs(round((mean_mean-y_mean)/y_mean)) 1.0\n",
      "local Optima\n",
      "1\n",
      "y_mean 3492.3333333333335\n",
      "mean_mean 1518.5886785471164\n",
      "abs(round((mean_mean-y_mean)/y_mean)) 1.0\n",
      "local Optima\n",
      "1\n",
      "y_mean 3492.3333333333335\n",
      "mean_mean 1645.240911228002\n",
      "abs(round((mean_mean-y_mean)/y_mean)) 1.0\n",
      "local Optima\n",
      "1\n",
      "y_mean 3492.3333333333335\n",
      "mean_mean 1556.599465329521\n",
      "abs(round((mean_mean-y_mean)/y_mean)) 1.0\n"
     ]
    },
    {
     "name": "stderr",
     "output_type": "stream",
     "text": [
      " 31%|███▏      | 113/360 [05:54<12:17,  2.99s/it]"
     ]
    },
    {
     "name": "stdout",
     "output_type": "stream",
     "text": [
      "Optimization fail.\n"
     ]
    },
    {
     "name": "stderr",
     "output_type": "stream",
     "text": [
      " 56%|█████▌    | 201/360 [10:35<06:28,  2.44s/it]"
     ]
    },
    {
     "name": "stdout",
     "output_type": "stream",
     "text": [
      "0\n",
      "Fit Cholesky decomposition was not successful.\n",
      "Optimization fail.\n"
     ]
    },
    {
     "name": "stderr",
     "output_type": "stream",
     "text": [
      " 58%|█████▊    | 210/360 [11:13<09:10,  3.67s/it]"
     ]
    },
    {
     "name": "stdout",
     "output_type": "stream",
     "text": [
      "local Optima\n",
      "1\n",
      "y_mean 4599.111111111111\n",
      "mean_mean 1405.6011746869451\n",
      "abs(round((mean_mean-y_mean)/y_mean)) 1.0\n",
      "local Optima\n",
      "1\n",
      "y_mean 4599.111111111111\n",
      "mean_mean 1520.1899795647973\n",
      "abs(round((mean_mean-y_mean)/y_mean)) 1.0\n",
      "local Optima\n",
      "1\n",
      "y_mean 4599.111111111111\n",
      "mean_mean 1503.24770227127\n",
      "abs(round((mean_mean-y_mean)/y_mean)) 1.0\n",
      "local Optima\n",
      "1\n",
      "y_mean 4599.111111111111\n",
      "mean_mean 1585.9526356790818\n",
      "abs(round((mean_mean-y_mean)/y_mean)) 1.0\n",
      "local Optima\n",
      "1\n",
      "y_mean 4599.111111111111\n",
      "mean_mean 1563.827786150478\n",
      "abs(round((mean_mean-y_mean)/y_mean)) 1.0\n"
     ]
    },
    {
     "name": "stderr",
     "output_type": "stream",
     "text": [
      " 62%|██████▏   | 222/360 [11:59<08:08,  3.54s/it]"
     ]
    },
    {
     "name": "stdout",
     "output_type": "stream",
     "text": [
      "local Optima\n",
      "1\n",
      "y_mean 1368.4444444444443\n",
      "mean_mean 3537.1781144113593\n",
      "abs(round((mean_mean-y_mean)/y_mean)) 2.0\n",
      "local Optima\n",
      "1\n",
      "y_mean 1368.4444444444443\n",
      "mean_mean 3596.942742170941\n",
      "abs(round((mean_mean-y_mean)/y_mean)) 2.0\n",
      "local Optima\n",
      "1\n",
      "y_mean 1368.4444444444443\n",
      "mean_mean 3368.3605931580532\n",
      "abs(round((mean_mean-y_mean)/y_mean)) 1.0\n",
      "local Optima\n",
      "1\n",
      "y_mean 1368.4444444444443\n",
      "mean_mean 4219.581307857687\n",
      "abs(round((mean_mean-y_mean)/y_mean)) 2.0\n",
      "local Optima\n",
      "1\n",
      "y_mean 1368.4444444444443\n",
      "mean_mean 3652.0021639473653\n",
      "abs(round((mean_mean-y_mean)/y_mean)) 2.0\n"
     ]
    },
    {
     "name": "stderr",
     "output_type": "stream",
     "text": [
      " 70%|███████   | 252/360 [13:34<06:40,  3.71s/it]"
     ]
    },
    {
     "name": "stdout",
     "output_type": "stream",
     "text": [
      "local Optima\n",
      "1\n",
      "y_mean 1177.0555555555557\n",
      "mean_mean 2366.549908921475\n",
      "abs(round((mean_mean-y_mean)/y_mean)) 1.0\n",
      "local Optima\n",
      "1\n",
      "y_mean 1177.0555555555557\n",
      "mean_mean 2222.824695803462\n",
      "abs(round((mean_mean-y_mean)/y_mean)) 1.0\n",
      "local Optima\n",
      "1\n",
      "y_mean 1177.0555555555557\n",
      "mean_mean 2111.145634870944\n",
      "abs(round((mean_mean-y_mean)/y_mean)) 1.0\n",
      "local Optima\n",
      "1\n",
      "y_mean 1177.0555555555557\n",
      "mean_mean 2223.0674865571514\n",
      "abs(round((mean_mean-y_mean)/y_mean)) 1.0\n",
      "local Optima\n",
      "1\n",
      "y_mean 1177.0555555555557\n",
      "mean_mean 2272.65938906075\n",
      "abs(round((mean_mean-y_mean)/y_mean)) 1.0\n"
     ]
    },
    {
     "name": "stderr",
     "output_type": "stream",
     "text": [
      " 73%|███████▎  | 264/360 [14:16<05:45,  3.60s/it]"
     ]
    },
    {
     "name": "stdout",
     "output_type": "stream",
     "text": [
      "local Optima\n",
      "1\n",
      "y_mean 979.2222222222222\n",
      "mean_mean 2074.245830337822\n",
      "abs(round((mean_mean-y_mean)/y_mean)) 1.0\n",
      "local Optima\n",
      "1\n",
      "y_mean 979.2222222222222\n",
      "mean_mean 2002.8661364022744\n",
      "abs(round((mean_mean-y_mean)/y_mean)) 1.0\n",
      "local Optima\n",
      "1\n",
      "y_mean 979.2222222222222\n",
      "mean_mean 1941.2100154099257\n",
      "abs(round((mean_mean-y_mean)/y_mean)) 1.0\n",
      "local Optima\n",
      "1\n",
      "y_mean 979.2222222222222\n",
      "mean_mean 2268.918335917812\n",
      "abs(round((mean_mean-y_mean)/y_mean)) 1.0\n",
      "local Optima\n",
      "1\n",
      "y_mean 979.2222222222222\n",
      "mean_mean 2138.2561359698516\n",
      "abs(round((mean_mean-y_mean)/y_mean)) 1.0\n"
     ]
    },
    {
     "name": "stderr",
     "output_type": "stream",
     "text": [
      " 75%|███████▌  | 271/360 [14:40<04:33,  3.07s/it]"
     ]
    },
    {
     "name": "stdout",
     "output_type": "stream",
     "text": [
      "0\n",
      "Fit Cholesky decomposition was not successful.\n"
     ]
    },
    {
     "name": "stderr",
     "output_type": "stream",
     "text": [
      " 76%|███████▌  | 273/360 [14:51<05:44,  3.96s/it]"
     ]
    },
    {
     "name": "stdout",
     "output_type": "stream",
     "text": [
      "Optimization fail.\n"
     ]
    },
    {
     "name": "stderr",
     "output_type": "stream",
     "text": [
      " 76%|███████▋  | 275/360 [15:04<06:50,  4.83s/it]"
     ]
    },
    {
     "name": "stdout",
     "output_type": "stream",
     "text": [
      "Optimization fail.\n",
      "Optimization fail.\n",
      "2\n",
      "Fit Cholesky decomposition was not successful.\n"
     ]
    },
    {
     "name": "stderr",
     "output_type": "stream",
     "text": [
      " 81%|████████  | 291/360 [16:04<03:18,  2.88s/it]"
     ]
    },
    {
     "name": "stdout",
     "output_type": "stream",
     "text": [
      "0\n",
      "Fit Cholesky decomposition was not successful.\n"
     ]
    },
    {
     "name": "stderr",
     "output_type": "stream",
     "text": [
      " 90%|█████████ | 324/360 [17:44<01:56,  3.24s/it]"
     ]
    },
    {
     "name": "stdout",
     "output_type": "stream",
     "text": [
      "local Optima\n",
      "1\n",
      "y_mean 4438.444444444444\n",
      "mean_mean 1150.72912870053\n",
      "abs(round((mean_mean-y_mean)/y_mean)) 1.0\n",
      "local Optima\n",
      "1\n",
      "y_mean 4438.444444444444\n",
      "mean_mean 1246.994109748117\n",
      "abs(round((mean_mean-y_mean)/y_mean)) 1.0\n",
      "local Optima\n",
      "1\n",
      "y_mean 4438.444444444444\n",
      "mean_mean 1223.8671922171388\n",
      "abs(round((mean_mean-y_mean)/y_mean)) 1.0\n",
      "local Optima\n",
      "1\n",
      "y_mean 4438.444444444444\n",
      "mean_mean 1293.3801140598894\n",
      "abs(round((mean_mean-y_mean)/y_mean)) 1.0\n",
      "local Optima\n",
      "1\n",
      "y_mean 4438.444444444444\n",
      "mean_mean 1272.0613213787549\n",
      "abs(round((mean_mean-y_mean)/y_mean)) 1.0\n"
     ]
    },
    {
     "name": "stderr",
     "output_type": "stream",
     "text": [
      " 91%|█████████ | 328/360 [18:02<02:04,  3.89s/it]"
     ]
    },
    {
     "name": "stdout",
     "output_type": "stream",
     "text": [
      "local Optima\n",
      "1\n",
      "y_mean 12564.833333333334\n",
      "mean_mean 25748.712803534097\n",
      "abs(round((mean_mean-y_mean)/y_mean)) 1.0\n",
      "local Optima\n",
      "1\n",
      "y_mean 12564.833333333334\n",
      "mean_mean 26198.881230307292\n",
      "abs(round((mean_mean-y_mean)/y_mean)) 1.0\n"
     ]
    },
    {
     "name": "stderr",
     "output_type": "stream",
     "text": [
      "100%|██████████| 360/360 [19:43<00:00,  3.29s/it]\n",
      "  1%|          | 3/360 [00:01<02:15,  2.63it/s]"
     ]
    },
    {
     "name": "stdout",
     "output_type": "stream",
     "text": [
      "0\n",
      "Fit Cholesky decomposition was not successful.\n"
     ]
    },
    {
     "name": "stderr",
     "output_type": "stream",
     "text": [
      "  6%|▌         | 21/360 [00:08<02:51,  1.98it/s]"
     ]
    },
    {
     "name": "stdout",
     "output_type": "stream",
     "text": [
      "0\n",
      "Fit Cholesky decomposition was not successful.\n"
     ]
    },
    {
     "name": "stderr",
     "output_type": "stream",
     "text": [
      "  8%|▊         | 27/360 [00:11<02:18,  2.41it/s]"
     ]
    },
    {
     "name": "stdout",
     "output_type": "stream",
     "text": [
      "0\n",
      "Fit Cholesky decomposition was not successful.\n"
     ]
    },
    {
     "name": "stderr",
     "output_type": "stream",
     "text": [
      " 10%|█         | 37/360 [00:15<02:05,  2.57it/s]"
     ]
    },
    {
     "name": "stdout",
     "output_type": "stream",
     "text": [
      "0\n",
      "Fit Cholesky decomposition was not successful.\n"
     ]
    },
    {
     "name": "stderr",
     "output_type": "stream",
     "text": [
      " 11%|█▏        | 41/360 [00:17<02:11,  2.43it/s]"
     ]
    },
    {
     "name": "stdout",
     "output_type": "stream",
     "text": [
      "0\n",
      "Fit Cholesky decomposition was not successful.\n"
     ]
    },
    {
     "name": "stderr",
     "output_type": "stream",
     "text": [
      "\r",
      " 12%|█▏        | 42/360 [00:17<02:30,  2.11it/s]"
     ]
    },
    {
     "name": "stdout",
     "output_type": "stream",
     "text": [
      "local Optima\n",
      "1\n",
      "y_mean 4.387890917901558\n",
      "mean_mean 0.2906089075692558\n",
      "abs(round((mean_mean-y_mean)/y_mean)) 1.0\n",
      "local Optima\n",
      "1\n",
      "y_mean 4.387890917901558\n",
      "mean_mean 0.12119869709354571\n",
      "abs(round((mean_mean-y_mean)/y_mean)) 1.0\n"
     ]
    },
    {
     "name": "stderr",
     "output_type": "stream",
     "text": [
      "\r",
      " 12%|█▏        | 43/360 [00:18<03:00,  1.76it/s]"
     ]
    },
    {
     "name": "stdout",
     "output_type": "stream",
     "text": [
      "0\n",
      "Fit Cholesky decomposition was not successful.\n"
     ]
    },
    {
     "name": "stderr",
     "output_type": "stream",
     "text": [
      " 15%|█▌        | 55/360 [00:23<02:00,  2.54it/s]"
     ]
    },
    {
     "name": "stdout",
     "output_type": "stream",
     "text": [
      "0\n",
      "Fit Cholesky decomposition was not successful.\n"
     ]
    },
    {
     "name": "stderr",
     "output_type": "stream",
     "text": [
      " 16%|█▋        | 59/360 [00:25<02:03,  2.43it/s]"
     ]
    },
    {
     "name": "stdout",
     "output_type": "stream",
     "text": [
      "0\n",
      "Fit Cholesky decomposition was not successful.\n"
     ]
    },
    {
     "name": "stderr",
     "output_type": "stream",
     "text": [
      " 20%|█▉        | 71/360 [00:30<01:53,  2.55it/s]"
     ]
    },
    {
     "name": "stdout",
     "output_type": "stream",
     "text": [
      "0\n",
      "Fit Cholesky decomposition was not successful.\n"
     ]
    },
    {
     "name": "stderr",
     "output_type": "stream",
     "text": [
      " 20%|██        | 73/360 [00:31<02:05,  2.29it/s]"
     ]
    },
    {
     "name": "stdout",
     "output_type": "stream",
     "text": [
      "0\n",
      "Fit Cholesky decomposition was not successful.\n"
     ]
    },
    {
     "name": "stderr",
     "output_type": "stream",
     "text": [
      " 22%|██▏       | 79/360 [00:33<01:55,  2.43it/s]"
     ]
    },
    {
     "name": "stdout",
     "output_type": "stream",
     "text": [
      "0\n",
      "Fit Cholesky decomposition was not successful.\n"
     ]
    },
    {
     "name": "stderr",
     "output_type": "stream",
     "text": [
      " 25%|██▍       | 89/360 [00:38<01:45,  2.57it/s]"
     ]
    },
    {
     "name": "stdout",
     "output_type": "stream",
     "text": [
      "0\n",
      "Fit Cholesky decomposition was not successful.\n"
     ]
    },
    {
     "name": "stderr",
     "output_type": "stream",
     "text": [
      " 26%|██▌       | 93/360 [00:39<01:50,  2.41it/s]"
     ]
    },
    {
     "name": "stdout",
     "output_type": "stream",
     "text": [
      "0\n",
      "Fit Cholesky decomposition was not successful.\n"
     ]
    },
    {
     "name": "stderr",
     "output_type": "stream",
     "text": [
      " 26%|██▋       | 95/360 [00:40<01:58,  2.23it/s]"
     ]
    },
    {
     "name": "stdout",
     "output_type": "stream",
     "text": [
      "0\n",
      "Fit Cholesky decomposition was not successful.\n"
     ]
    },
    {
     "name": "stderr",
     "output_type": "stream",
     "text": [
      " 27%|██▋       | 97/360 [00:41<02:02,  2.15it/s]"
     ]
    },
    {
     "name": "stdout",
     "output_type": "stream",
     "text": [
      "0\n",
      "Fit Cholesky decomposition was not successful.\n",
      "1\n",
      "Fit Cholesky decomposition was not successful.\n"
     ]
    },
    {
     "name": "stderr",
     "output_type": "stream",
     "text": [
      " 28%|██▊       | 99/360 [00:43<02:13,  1.95it/s]"
     ]
    },
    {
     "name": "stdout",
     "output_type": "stream",
     "text": [
      "0\n",
      "Fit Cholesky decomposition was not successful.\n"
     ]
    },
    {
     "name": "stderr",
     "output_type": "stream",
     "text": [
      " 29%|██▉       | 105/360 [00:45<01:47,  2.38it/s]"
     ]
    },
    {
     "name": "stdout",
     "output_type": "stream",
     "text": [
      "0\n",
      "Fit Cholesky decomposition was not successful.\n"
     ]
    },
    {
     "name": "stderr",
     "output_type": "stream",
     "text": [
      " 31%|███▏      | 113/360 [00:48<01:36,  2.55it/s]"
     ]
    },
    {
     "name": "stdout",
     "output_type": "stream",
     "text": [
      "0\n",
      "Fit Cholesky decomposition was not successful.\n"
     ]
    },
    {
     "name": "stderr",
     "output_type": "stream",
     "text": [
      " 33%|███▎      | 119/360 [00:51<01:36,  2.49it/s]"
     ]
    },
    {
     "name": "stdout",
     "output_type": "stream",
     "text": [
      "0\n",
      "Fit Cholesky decomposition was not successful.\n"
     ]
    },
    {
     "name": "stderr",
     "output_type": "stream",
     "text": [
      " 34%|███▍      | 123/360 [00:53<01:50,  2.15it/s]"
     ]
    },
    {
     "name": "stdout",
     "output_type": "stream",
     "text": [
      "0\n",
      "Fit Cholesky decomposition was not successful.\n"
     ]
    },
    {
     "name": "stderr",
     "output_type": "stream",
     "text": [
      " 36%|███▌      | 129/360 [00:56<01:34,  2.46it/s]"
     ]
    },
    {
     "name": "stdout",
     "output_type": "stream",
     "text": [
      "0\n",
      "Fit Cholesky decomposition was not successful.\n"
     ]
    },
    {
     "name": "stderr",
     "output_type": "stream",
     "text": [
      " 38%|███▊      | 137/360 [00:59<01:27,  2.54it/s]"
     ]
    },
    {
     "name": "stdout",
     "output_type": "stream",
     "text": [
      "0\n",
      "Fit Cholesky decomposition was not successful.\n"
     ]
    },
    {
     "name": "stderr",
     "output_type": "stream",
     "text": [
      " 39%|███▊      | 139/360 [01:00<01:36,  2.28it/s]"
     ]
    },
    {
     "name": "stdout",
     "output_type": "stream",
     "text": [
      "0\n",
      "Fit Cholesky decomposition was not successful.\n"
     ]
    },
    {
     "name": "stderr",
     "output_type": "stream",
     "text": [
      " 40%|████      | 145/360 [01:03<01:27,  2.45it/s]"
     ]
    },
    {
     "name": "stdout",
     "output_type": "stream",
     "text": [
      "0\n",
      "Fit Cholesky decomposition was not successful.\n",
      "1\n",
      "Fit Cholesky decomposition was not successful.\n"
     ]
    },
    {
     "name": "stderr",
     "output_type": "stream",
     "text": [
      " 42%|████▏     | 151/360 [01:06<01:27,  2.39it/s]"
     ]
    },
    {
     "name": "stdout",
     "output_type": "stream",
     "text": [
      "0\n",
      "Fit Cholesky decomposition was not successful.\n"
     ]
    },
    {
     "name": "stderr",
     "output_type": "stream",
     "text": [
      " 45%|████▍     | 161/360 [01:10<01:18,  2.53it/s]"
     ]
    },
    {
     "name": "stdout",
     "output_type": "stream",
     "text": [
      "0\n",
      "Fit Cholesky decomposition was not successful.\n"
     ]
    },
    {
     "name": "stderr",
     "output_type": "stream",
     "text": [
      " 48%|████▊     | 171/360 [01:14<01:14,  2.53it/s]"
     ]
    },
    {
     "name": "stdout",
     "output_type": "stream",
     "text": [
      "0\n",
      "Fit Cholesky decomposition was not successful.\n",
      "1\n",
      "Fit Cholesky decomposition was not successful.\n"
     ]
    },
    {
     "name": "stderr",
     "output_type": "stream",
     "text": [
      " 48%|████▊     | 173/360 [01:15<01:30,  2.06it/s]"
     ]
    },
    {
     "name": "stdout",
     "output_type": "stream",
     "text": [
      "0\n",
      "Fit Cholesky decomposition was not successful.\n"
     ]
    },
    {
     "name": "stderr",
     "output_type": "stream",
     "text": [
      " 49%|████▊     | 175/360 [01:16<01:29,  2.06it/s]"
     ]
    },
    {
     "name": "stdout",
     "output_type": "stream",
     "text": [
      "0\n",
      "Fit Cholesky decomposition was not successful.\n"
     ]
    },
    {
     "name": "stderr",
     "output_type": "stream",
     "text": [
      " 51%|█████▏    | 185/360 [01:20<01:08,  2.57it/s]"
     ]
    },
    {
     "name": "stdout",
     "output_type": "stream",
     "text": [
      "0\n",
      "Fit Cholesky decomposition was not successful.\n"
     ]
    },
    {
     "name": "stderr",
     "output_type": "stream",
     "text": [
      " 52%|█████▎    | 189/360 [01:22<01:09,  2.45it/s]"
     ]
    },
    {
     "name": "stdout",
     "output_type": "stream",
     "text": [
      "0\n",
      "Fit Cholesky decomposition was not successful.\n",
      "1\n",
      "Fit Cholesky decomposition was not successful.\n"
     ]
    },
    {
     "name": "stderr",
     "output_type": "stream",
     "text": [
      " 55%|█████▌    | 199/360 [01:26<01:03,  2.55it/s]"
     ]
    },
    {
     "name": "stdout",
     "output_type": "stream",
     "text": [
      "0\n",
      "Fit Cholesky decomposition was not successful.\n",
      "1\n",
      "Fit Cholesky decomposition was not successful.\n"
     ]
    },
    {
     "name": "stderr",
     "output_type": "stream",
     "text": [
      " 56%|█████▋    | 203/360 [01:28<01:09,  2.26it/s]"
     ]
    },
    {
     "name": "stdout",
     "output_type": "stream",
     "text": [
      "0\n",
      "Fit Cholesky decomposition was not successful.\n"
     ]
    },
    {
     "name": "stderr",
     "output_type": "stream",
     "text": [
      " 57%|█████▋    | 205/360 [01:29<01:11,  2.17it/s]"
     ]
    },
    {
     "name": "stdout",
     "output_type": "stream",
     "text": [
      "0\n",
      "Fit Cholesky decomposition was not successful.\n",
      "1\n",
      "Fit Cholesky decomposition was not successful.\n"
     ]
    },
    {
     "name": "stderr",
     "output_type": "stream",
     "text": [
      " 57%|█████▊    | 207/360 [01:31<01:20,  1.91it/s]"
     ]
    },
    {
     "name": "stdout",
     "output_type": "stream",
     "text": [
      "0\n",
      "Fit Cholesky decomposition was not successful.\n"
     ]
    },
    {
     "name": "stderr",
     "output_type": "stream",
     "text": [
      " 58%|█████▊    | 209/360 [01:32<01:15,  2.00it/s]"
     ]
    },
    {
     "name": "stdout",
     "output_type": "stream",
     "text": [
      "0\n",
      "Fit Cholesky decomposition was not successful.\n"
     ]
    },
    {
     "name": "stderr",
     "output_type": "stream",
     "text": [
      " 59%|█████▉    | 213/360 [01:34<01:04,  2.27it/s]"
     ]
    },
    {
     "name": "stdout",
     "output_type": "stream",
     "text": [
      "0\n",
      "Fit Cholesky decomposition was not successful.\n"
     ]
    },
    {
     "name": "stderr",
     "output_type": "stream",
     "text": [
      " 65%|██████▌   | 235/360 [01:42<00:49,  2.53it/s]"
     ]
    },
    {
     "name": "stdout",
     "output_type": "stream",
     "text": [
      "0\n",
      "Fit Cholesky decomposition was not successful.\n",
      "1\n",
      "Fit Cholesky decomposition was not successful.\n"
     ]
    },
    {
     "name": "stderr",
     "output_type": "stream",
     "text": [
      " 68%|██████▊   | 245/360 [01:47<00:45,  2.51it/s]"
     ]
    },
    {
     "name": "stdout",
     "output_type": "stream",
     "text": [
      "0\n",
      "Fit Cholesky decomposition was not successful.\n"
     ]
    },
    {
     "name": "stderr",
     "output_type": "stream",
     "text": [
      " 73%|███████▎  | 263/360 [01:54<00:37,  2.56it/s]"
     ]
    },
    {
     "name": "stdout",
     "output_type": "stream",
     "text": [
      "0\n",
      "Fit Cholesky decomposition was not successful.\n"
     ]
    },
    {
     "name": "stderr",
     "output_type": "stream",
     "text": [
      " 75%|███████▍  | 269/360 [01:57<00:36,  2.52it/s]"
     ]
    },
    {
     "name": "stdout",
     "output_type": "stream",
     "text": [
      "0\n",
      "Fit Cholesky decomposition was not successful.\n"
     ]
    },
    {
     "name": "stderr",
     "output_type": "stream",
     "text": [
      " 78%|███████▊  | 282/360 [02:02<00:30,  2.54it/s]"
     ]
    },
    {
     "name": "stdout",
     "output_type": "stream",
     "text": [
      "0\n",
      "Fit Cholesky decomposition was not successful.\n"
     ]
    },
    {
     "name": "stderr",
     "output_type": "stream",
     "text": [
      " 79%|███████▉  | 285/360 [02:03<00:31,  2.35it/s]"
     ]
    },
    {
     "name": "stdout",
     "output_type": "stream",
     "text": [
      "0\n",
      "Fit Cholesky decomposition was not successful.\n"
     ]
    },
    {
     "name": "stderr",
     "output_type": "stream",
     "text": [
      " 80%|███████▉  | 287/360 [02:04<00:34,  2.09it/s]"
     ]
    },
    {
     "name": "stdout",
     "output_type": "stream",
     "text": [
      "0\n",
      "Fit Cholesky decomposition was not successful.\n"
     ]
    },
    {
     "name": "stderr",
     "output_type": "stream",
     "text": [
      " 84%|████████▍ | 303/360 [02:11<00:21,  2.60it/s]"
     ]
    },
    {
     "name": "stdout",
     "output_type": "stream",
     "text": [
      "0\n",
      "Fit Cholesky decomposition was not successful.\n"
     ]
    },
    {
     "name": "stderr",
     "output_type": "stream",
     "text": [
      " 85%|████████▍ | 305/360 [02:12<00:23,  2.31it/s]"
     ]
    },
    {
     "name": "stdout",
     "output_type": "stream",
     "text": [
      "0\n",
      "Fit Cholesky decomposition was not successful.\n",
      "1\n",
      "Fit Cholesky decomposition was not successful.\n",
      "2\n",
      "Fit Cholesky decomposition was not successful.\n"
     ]
    },
    {
     "name": "stderr",
     "output_type": "stream",
     "text": [
      " 85%|████████▌ | 307/360 [02:13<00:29,  1.82it/s]"
     ]
    },
    {
     "name": "stdout",
     "output_type": "stream",
     "text": [
      "0\n",
      "Fit Cholesky decomposition was not successful.\n"
     ]
    },
    {
     "name": "stderr",
     "output_type": "stream",
     "text": [
      " 89%|████████▉ | 322/360 [02:20<00:15,  2.50it/s]"
     ]
    },
    {
     "name": "stdout",
     "output_type": "stream",
     "text": [
      "local Optima\n",
      "1\n",
      "y_mean 7.110042947191327\n",
      "mean_mean 0.16304566932938933\n",
      "abs(round((mean_mean-y_mean)/y_mean)) 1.0\n"
     ]
    },
    {
     "name": "stderr",
     "output_type": "stream",
     "text": [
      " 90%|█████████ | 325/360 [02:21<00:14,  2.37it/s]"
     ]
    },
    {
     "name": "stdout",
     "output_type": "stream",
     "text": [
      "0\n",
      "Fit Cholesky decomposition was not successful.\n"
     ]
    },
    {
     "name": "stderr",
     "output_type": "stream",
     "text": [
      " 92%|█████████▏| 331/360 [02:23<00:11,  2.48it/s]"
     ]
    },
    {
     "name": "stdout",
     "output_type": "stream",
     "text": [
      "0\n",
      "Fit Cholesky decomposition was not successful.\n",
      "1\n",
      "Fit Cholesky decomposition was not successful.\n",
      "2\n",
      "Fit Cholesky decomposition was not successful.\n"
     ]
    },
    {
     "name": "stderr",
     "output_type": "stream",
     "text": [
      " 93%|█████████▎| 335/360 [02:26<00:11,  2.21it/s]"
     ]
    },
    {
     "name": "stdout",
     "output_type": "stream",
     "text": [
      "0\n",
      "Fit Cholesky decomposition was not successful.\n",
      "1\n",
      "Fit Cholesky decomposition was not successful.\n",
      "2\n",
      "Fit Cholesky decomposition was not successful.\n",
      "3\n",
      "Fit Cholesky decomposition was not successful.\n"
     ]
    },
    {
     "name": "stderr",
     "output_type": "stream",
     "text": [
      " 95%|█████████▍| 341/360 [02:29<00:08,  2.17it/s]"
     ]
    },
    {
     "name": "stdout",
     "output_type": "stream",
     "text": [
      "0\n",
      "Fit Cholesky decomposition was not successful.\n"
     ]
    },
    {
     "name": "stderr",
     "output_type": "stream",
     "text": [
      " 95%|█████████▌| 343/360 [02:30<00:07,  2.14it/s]"
     ]
    },
    {
     "name": "stdout",
     "output_type": "stream",
     "text": [
      "0\n",
      "Fit Cholesky decomposition was not successful.\n"
     ]
    },
    {
     "name": "stderr",
     "output_type": "stream",
     "text": [
      " 96%|█████████▌| 345/360 [02:31<00:07,  2.12it/s]"
     ]
    },
    {
     "name": "stdout",
     "output_type": "stream",
     "text": [
      "0\n",
      "Fit Cholesky decomposition was not successful.\n",
      "1\n",
      "Fit Cholesky decomposition was not successful.\n"
     ]
    },
    {
     "name": "stderr",
     "output_type": "stream",
     "text": [
      " 98%|█████████▊| 353/360 [02:35<00:02,  2.46it/s]"
     ]
    },
    {
     "name": "stdout",
     "output_type": "stream",
     "text": [
      "0\n",
      "Fit Cholesky decomposition was not successful.\n",
      "1\n",
      "Fit Cholesky decomposition was not successful.\n"
     ]
    },
    {
     "name": "stderr",
     "output_type": "stream",
     "text": [
      " 99%|█████████▉| 357/360 [02:37<00:01,  2.26it/s]"
     ]
    },
    {
     "name": "stdout",
     "output_type": "stream",
     "text": [
      "0\n",
      "Fit Cholesky decomposition was not successful.\n"
     ]
    },
    {
     "name": "stderr",
     "output_type": "stream",
     "text": [
      "100%|█████████▉| 359/360 [02:38<00:00,  2.17it/s]"
     ]
    },
    {
     "name": "stdout",
     "output_type": "stream",
     "text": [
      "0\n",
      "Fit Cholesky decomposition was not successful.\n"
     ]
    },
    {
     "name": "stderr",
     "output_type": "stream",
     "text": [
      "100%|██████████| 360/360 [02:38<00:00,  2.27it/s]\n",
      "  2%|▏         | 7/360 [00:23<19:48,  3.37s/it]"
     ]
    },
    {
     "name": "stdout",
     "output_type": "stream",
     "text": [
      "Optimization fail.\n",
      "Optimization fail.\n",
      "Optimization fail.\n",
      "Optimization fail.\n",
      "Optimization fail.\n",
      "Optimization fail.\n",
      "Optimization fail.\n",
      "Optimization fail.\n",
      "Optimization fail.\n",
      "Optimization fail.\n",
      "Can not Optimaize a Gaussian process, Optimization fail.\n"
     ]
    },
    {
     "name": "stderr",
     "output_type": "stream",
     "text": [
      "  6%|▋         | 23/360 [01:56<19:28,  3.47s/it] "
     ]
    },
    {
     "name": "stdout",
     "output_type": "stream",
     "text": [
      "Optimization fail.\n",
      "Optimization fail.\n",
      "Optimization fail.\n",
      "Optimization fail.\n",
      "Optimization fail.\n",
      "Optimization fail.\n",
      "Optimization fail.\n",
      "Optimization fail.\n",
      "Optimization fail.\n",
      "Optimization fail.\n"
     ]
    },
    {
     "name": "stderr",
     "output_type": "stream",
     "text": [
      "  8%|▊         | 27/360 [02:48<38:28,  6.93s/it]  "
     ]
    },
    {
     "name": "stdout",
     "output_type": "stream",
     "text": [
      "Optimization fail.\n"
     ]
    },
    {
     "name": "stderr",
     "output_type": "stream",
     "text": [
      "  9%|▊         | 31/360 [03:06<25:41,  4.69s/it]"
     ]
    },
    {
     "name": "stdout",
     "output_type": "stream",
     "text": [
      "Optimization fail.\n"
     ]
    },
    {
     "name": "stderr",
     "output_type": "stream",
     "text": [
      " 10%|█         | 37/360 [03:31<19:32,  3.63s/it]"
     ]
    },
    {
     "name": "stdout",
     "output_type": "stream",
     "text": [
      "Optimization fail.\n",
      "Optimization fail.\n"
     ]
    },
    {
     "name": "stderr",
     "output_type": "stream",
     "text": [
      " 12%|█▏        | 42/360 [03:57<23:44,  4.48s/it]"
     ]
    },
    {
     "name": "stdout",
     "output_type": "stream",
     "text": [
      "local Optima\n",
      "1\n",
      "y_mean 250.33333333333334\n",
      "mean_mean 114.14207763948728\n",
      "abs(round((mean_mean-y_mean)/y_mean)) 1.0\n",
      "local Optima\n",
      "1\n",
      "y_mean 250.33333333333334\n",
      "mean_mean 111.76438536661875\n",
      "abs(round((mean_mean-y_mean)/y_mean)) 1.0\n",
      "local Optima\n",
      "1\n",
      "y_mean 250.33333333333334\n",
      "mean_mean 112.70874874371748\n",
      "abs(round((mean_mean-y_mean)/y_mean)) 1.0\n",
      "local Optima\n",
      "1\n",
      "y_mean 250.33333333333334\n",
      "mean_mean 113.86289629984822\n",
      "abs(round((mean_mean-y_mean)/y_mean)) 1.0\n",
      "local Optima\n",
      "1\n",
      "y_mean 250.33333333333334\n",
      "mean_mean 115.4966331388734\n",
      "abs(round((mean_mean-y_mean)/y_mean)) 1.0\n"
     ]
    },
    {
     "name": "stderr",
     "output_type": "stream",
     "text": [
      " 13%|█▎        | 48/360 [04:23<19:07,  3.68s/it]"
     ]
    },
    {
     "name": "stdout",
     "output_type": "stream",
     "text": [
      "local Optima\n",
      "1\n",
      "y_mean 783.0555555555555\n",
      "mean_mean 1361.476731446842\n",
      "abs(round((mean_mean-y_mean)/y_mean)) 1.0\n",
      "local Optima\n",
      "1\n",
      "y_mean 783.0555555555555\n",
      "mean_mean 1398.8141053776656\n",
      "abs(round((mean_mean-y_mean)/y_mean)) 1.0\n",
      "local Optima\n",
      "1\n",
      "y_mean 783.0555555555555\n",
      "mean_mean 1355.347021939209\n",
      "abs(round((mean_mean-y_mean)/y_mean)) 1.0\n",
      "local Optima\n",
      "1\n",
      "y_mean 783.0555555555555\n",
      "mean_mean 1329.2040250457221\n",
      "abs(round((mean_mean-y_mean)/y_mean)) 1.0\n"
     ]
    },
    {
     "name": "stderr",
     "output_type": "stream",
     "text": [
      " 14%|█▍        | 52/360 [04:41<20:10,  3.93s/it]"
     ]
    },
    {
     "name": "stdout",
     "output_type": "stream",
     "text": [
      "local Optima\n",
      "1\n",
      "y_mean 3440.0\n",
      "mean_mean 8709389.049027488\n",
      "abs(round((mean_mean-y_mean)/y_mean)) 2531.0\n",
      "local Optima\n",
      "1\n",
      "y_mean 3440.0\n",
      "mean_mean 311122679.43837255\n",
      "abs(round((mean_mean-y_mean)/y_mean)) 90442.0\n"
     ]
    },
    {
     "name": "stderr",
     "output_type": "stream",
     "text": [
      " 16%|█▌        | 57/360 [05:01<18:24,  3.65s/it]"
     ]
    },
    {
     "name": "stdout",
     "output_type": "stream",
     "text": [
      "Optimization fail.\n",
      "Optimization fail.\n"
     ]
    },
    {
     "name": "stderr",
     "output_type": "stream",
     "text": [
      " 16%|█▋        | 59/360 [05:16<25:56,  5.17s/it]"
     ]
    },
    {
     "name": "stdout",
     "output_type": "stream",
     "text": [
      "Optimization fail.\n",
      "Optimization fail.\n",
      "Optimization fail.\n",
      "Optimization fail.\n",
      "Optimization fail.\n"
     ]
    },
    {
     "name": "stderr",
     "output_type": "stream",
     "text": [
      "\r",
      " 17%|█▋        | 60/360 [05:41<55:34, 11.11s/it]"
     ]
    },
    {
     "name": "stdout",
     "output_type": "stream",
     "text": [
      "local Optima\n",
      "1\n",
      "y_mean 2646.6666666666665\n",
      "mean_mean 1194.3974063855817\n",
      "abs(round((mean_mean-y_mean)/y_mean)) 1.0\n",
      "local Optima\n",
      "1\n",
      "y_mean 2646.6666666666665\n",
      "mean_mean 1192.9082481904024\n",
      "abs(round((mean_mean-y_mean)/y_mean)) 1.0\n",
      "local Optima\n",
      "1\n",
      "y_mean 2646.6666666666665\n",
      "mean_mean 1270.6416311262415\n",
      "abs(round((mean_mean-y_mean)/y_mean)) 1.0\n",
      "local Optima\n",
      "1\n",
      "y_mean 2646.6666666666665\n",
      "mean_mean 1225.5128317651017\n",
      "abs(round((mean_mean-y_mean)/y_mean)) 1.0\n",
      "local Optima\n",
      "1\n",
      "y_mean 2646.6666666666665\n",
      "mean_mean 1198.41953281235\n",
      "abs(round((mean_mean-y_mean)/y_mean)) 1.0\n"
     ]
    },
    {
     "name": "stderr",
     "output_type": "stream",
     "text": [
      " 18%|█▊        | 63/360 [06:03<38:44,  7.83s/it]"
     ]
    },
    {
     "name": "stdout",
     "output_type": "stream",
     "text": [
      "Optimization fail.\n",
      "Optimization fail.\n"
     ]
    },
    {
     "name": "stderr",
     "output_type": "stream",
     "text": [
      " 19%|█▊        | 67/360 [06:25<25:43,  5.27s/it]"
     ]
    },
    {
     "name": "stdout",
     "output_type": "stream",
     "text": [
      "Optimization fail.\n",
      "Optimization fail.\n"
     ]
    },
    {
     "name": "stderr",
     "output_type": "stream",
     "text": [
      " 21%|██        | 74/360 [06:53<15:44,  3.30s/it]"
     ]
    },
    {
     "name": "stdout",
     "output_type": "stream",
     "text": [
      "local Optima\n",
      "1\n",
      "y_mean 2175.8888888888887\n",
      "mean_mean 4300.420557981962\n",
      "abs(round((mean_mean-y_mean)/y_mean)) 1.0\n"
     ]
    },
    {
     "name": "stderr",
     "output_type": "stream",
     "text": [
      " 21%|██▏       | 77/360 [07:06<17:20,  3.68s/it]"
     ]
    },
    {
     "name": "stdout",
     "output_type": "stream",
     "text": [
      "Optimization fail.\n"
     ]
    },
    {
     "name": "stderr",
     "output_type": "stream",
     "text": [
      " 23%|██▎       | 83/360 [07:33<17:57,  3.89s/it]"
     ]
    },
    {
     "name": "stdout",
     "output_type": "stream",
     "text": [
      "Optimization fail.\n"
     ]
    },
    {
     "name": "stderr",
     "output_type": "stream",
     "text": [
      " 24%|██▎       | 85/360 [07:44<19:40,  4.29s/it]"
     ]
    },
    {
     "name": "stdout",
     "output_type": "stream",
     "text": [
      "Optimization fail.\n",
      "Optimization fail.\n"
     ]
    },
    {
     "name": "stderr",
     "output_type": "stream",
     "text": [
      " 25%|██▍       | 89/360 [08:05<18:51,  4.18s/it]"
     ]
    },
    {
     "name": "stdout",
     "output_type": "stream",
     "text": [
      "Optimization fail.\n",
      "Optimization fail.\n"
     ]
    },
    {
     "name": "stderr",
     "output_type": "stream",
     "text": [
      " 25%|██▌       | 91/360 [08:19<24:07,  5.38s/it]"
     ]
    },
    {
     "name": "stdout",
     "output_type": "stream",
     "text": [
      "Optimization fail.\n",
      "Optimization fail.\n"
     ]
    },
    {
     "name": "stderr",
     "output_type": "stream",
     "text": [
      " 27%|██▋       | 98/360 [08:52<15:39,  3.59s/it]"
     ]
    },
    {
     "name": "stdout",
     "output_type": "stream",
     "text": [
      "local Optima\n",
      "1\n",
      "y_mean 2500.6111111111113\n",
      "mean_mean 991.1155035508679\n",
      "abs(round((mean_mean-y_mean)/y_mean)) 1.0\n",
      "local Optima\n",
      "1\n",
      "y_mean 2500.6111111111113\n",
      "mean_mean 674.065177509668\n",
      "abs(round((mean_mean-y_mean)/y_mean)) 1.0\n",
      "local Optima\n",
      "1\n",
      "y_mean 2500.6111111111113\n",
      "mean_mean 1004.014030898904\n",
      "abs(round((mean_mean-y_mean)/y_mean)) 1.0\n",
      "local Optima\n",
      "1\n",
      "y_mean 2500.6111111111113\n",
      "mean_mean 1009.164507628469\n",
      "abs(round((mean_mean-y_mean)/y_mean)) 1.0\n",
      "local Optima\n",
      "1\n",
      "y_mean 2500.6111111111113\n",
      "mean_mean 1009.9377368179817\n",
      "abs(round((mean_mean-y_mean)/y_mean)) 1.0\n"
     ]
    },
    {
     "name": "stderr",
     "output_type": "stream",
     "text": [
      " 28%|██▊       | 101/360 [09:16<24:06,  5.58s/it]"
     ]
    },
    {
     "name": "stdout",
     "output_type": "stream",
     "text": [
      "Optimization fail.\n",
      "Optimization fail.\n",
      "Optimization fail.\n",
      "Optimization fail.\n",
      "Optimization fail.\n",
      "Optimization fail.\n",
      "Optimization fail.\n",
      "Optimization fail.\n"
     ]
    },
    {
     "name": "stderr",
     "output_type": "stream",
     "text": [
      " 29%|██▉       | 105/360 [10:02<31:09,  7.33s/it]  "
     ]
    },
    {
     "name": "stdout",
     "output_type": "stream",
     "text": [
      "Optimization fail.\n",
      "Optimization fail.\n"
     ]
    },
    {
     "name": "stderr",
     "output_type": "stream",
     "text": [
      " 30%|██▉       | 107/360 [10:18<30:42,  7.28s/it]"
     ]
    },
    {
     "name": "stdout",
     "output_type": "stream",
     "text": [
      "Optimization fail.\n",
      "Optimization fail.\n"
     ]
    },
    {
     "name": "stderr",
     "output_type": "stream",
     "text": [
      "\r",
      " 30%|███       | 108/360 [10:31<36:56,  8.79s/it]"
     ]
    },
    {
     "name": "stdout",
     "output_type": "stream",
     "text": [
      "local Optima\n",
      "1\n",
      "y_mean 2142.1666666666665\n",
      "mean_mean 4187.276536147334\n",
      "abs(round((mean_mean-y_mean)/y_mean)) 1.0\n",
      "local Optima\n",
      "1\n",
      "y_mean 2142.1666666666665\n",
      "mean_mean 4468.684087677052\n",
      "abs(round((mean_mean-y_mean)/y_mean)) 1.0\n",
      "local Optima\n",
      "1\n",
      "y_mean 2142.1666666666665\n",
      "mean_mean 4169.735053743912\n",
      "abs(round((mean_mean-y_mean)/y_mean)) 1.0\n",
      "local Optima\n",
      "1\n",
      "y_mean 2142.1666666666665\n",
      "mean_mean 4231.815938556705\n",
      "abs(round((mean_mean-y_mean)/y_mean)) 1.0\n",
      "local Optima\n",
      "1\n",
      "y_mean 2142.1666666666665\n",
      "mean_mean 4175.900628982695\n",
      "abs(round((mean_mean-y_mean)/y_mean)) 1.0\n"
     ]
    },
    {
     "name": "stderr",
     "output_type": "stream",
     "text": [
      "\r",
      " 30%|███       | 109/360 [10:44<42:46, 10.22s/it]"
     ]
    },
    {
     "name": "stdout",
     "output_type": "stream",
     "text": [
      "Optimization fail.\n"
     ]
    },
    {
     "name": "stderr",
     "output_type": "stream",
     "text": [
      " 31%|███       | 111/360 [10:56<31:49,  7.67s/it]"
     ]
    },
    {
     "name": "stdout",
     "output_type": "stream",
     "text": [
      "0\n",
      "Fit Cholesky decomposition was not successful.\n"
     ]
    },
    {
     "name": "stderr",
     "output_type": "stream",
     "text": [
      " 31%|███▏      | 113/360 [11:04<23:52,  5.80s/it]"
     ]
    },
    {
     "name": "stdout",
     "output_type": "stream",
     "text": [
      "Optimization fail.\n",
      "Optimization fail.\n",
      "Optimization fail.\n"
     ]
    },
    {
     "name": "stderr",
     "output_type": "stream",
     "text": [
      " 33%|███▎      | 119/360 [11:38<18:24,  4.58s/it]"
     ]
    },
    {
     "name": "stdout",
     "output_type": "stream",
     "text": [
      "Optimization fail.\n",
      "Optimization fail.\n",
      "Optimization fail.\n",
      "Optimization fail.\n",
      "Optimization fail.\n",
      "Optimization fail.\n",
      "Optimization fail.\n",
      "Optimization fail.\n",
      "Optimization fail.\n"
     ]
    },
    {
     "name": "stderr",
     "output_type": "stream",
     "text": [
      " 35%|███▍      | 125/360 [12:33<19:32,  4.99s/it]  "
     ]
    },
    {
     "name": "stdout",
     "output_type": "stream",
     "text": [
      "Optimization fail.\n",
      "Optimization fail.\n"
     ]
    },
    {
     "name": "stderr",
     "output_type": "stream",
     "text": [
      " 37%|███▋      | 133/360 [13:08<12:46,  3.38s/it]"
     ]
    },
    {
     "name": "stdout",
     "output_type": "stream",
     "text": [
      "Optimization fail.\n"
     ]
    },
    {
     "name": "stderr",
     "output_type": "stream",
     "text": [
      " 38%|███▊      | 138/360 [13:30<14:13,  3.84s/it]"
     ]
    },
    {
     "name": "stdout",
     "output_type": "stream",
     "text": [
      "local Optima\n",
      "1\n",
      "y_mean 2146.5555555555557\n",
      "mean_mean 919.8330436221021\n",
      "abs(round((mean_mean-y_mean)/y_mean)) 1.0\n",
      "local Optima\n",
      "1\n",
      "y_mean 2146.5555555555557\n",
      "mean_mean 892.4982522492401\n",
      "abs(round((mean_mean-y_mean)/y_mean)) 1.0\n",
      "local Optima\n",
      "1\n",
      "y_mean 2146.5555555555557\n",
      "mean_mean 889.7707395132772\n",
      "abs(round((mean_mean-y_mean)/y_mean)) 1.0\n"
     ]
    },
    {
     "name": "stderr",
     "output_type": "stream",
     "text": [
      " 40%|███▉      | 143/360 [13:52<14:06,  3.90s/it]"
     ]
    },
    {
     "name": "stdout",
     "output_type": "stream",
     "text": [
      "Optimization fail.\n",
      "Optimization fail.\n",
      "Optimization fail.\n",
      "Optimization fail.\n"
     ]
    },
    {
     "name": "stderr",
     "output_type": "stream",
     "text": [
      " 40%|████      | 145/360 [14:16<25:22,  7.08s/it]"
     ]
    },
    {
     "name": "stdout",
     "output_type": "stream",
     "text": [
      "Optimization fail.\n",
      "Optimization fail.\n",
      "Optimization fail.\n"
     ]
    },
    {
     "name": "stderr",
     "output_type": "stream",
     "text": [
      " 41%|████      | 148/360 [14:39<23:42,  6.71s/it]"
     ]
    },
    {
     "name": "stdout",
     "output_type": "stream",
     "text": [
      "local Optima\n",
      "1\n",
      "y_mean 3218.8888888888887\n",
      "mean_mean 1445.4161205193973\n",
      "abs(round((mean_mean-y_mean)/y_mean)) 1.0\n"
     ]
    },
    {
     "name": "stderr",
     "output_type": "stream",
     "text": [
      "\r",
      " 41%|████▏     | 149/360 [14:45<21:59,  6.26s/it]"
     ]
    },
    {
     "name": "stdout",
     "output_type": "stream",
     "text": [
      "Optimization fail.\n",
      "Optimization fail.\n"
     ]
    },
    {
     "name": "stderr",
     "output_type": "stream",
     "text": [
      " 42%|████▎     | 153/360 [15:06<17:11,  4.98s/it]"
     ]
    },
    {
     "name": "stdout",
     "output_type": "stream",
     "text": [
      "Optimization fail.\n",
      "Optimization fail.\n",
      "Optimization fail.\n",
      "Optimization fail.\n",
      "Optimization fail.\n"
     ]
    },
    {
     "name": "stderr",
     "output_type": "stream",
     "text": [
      " 44%|████▎     | 157/360 [15:44<22:06,  6.54s/it]"
     ]
    },
    {
     "name": "stdout",
     "output_type": "stream",
     "text": [
      "Optimization fail.\n"
     ]
    },
    {
     "name": "stderr",
     "output_type": "stream",
     "text": [
      " 44%|████▍     | 159/360 [15:56<20:41,  6.18s/it]"
     ]
    },
    {
     "name": "stdout",
     "output_type": "stream",
     "text": [
      "Optimization fail.\n",
      "Optimization fail.\n"
     ]
    },
    {
     "name": "stderr",
     "output_type": "stream",
     "text": [
      " 46%|████▌     | 164/360 [16:22<14:07,  4.32s/it]"
     ]
    },
    {
     "name": "stdout",
     "output_type": "stream",
     "text": [
      "local Optima\n",
      "1\n",
      "y_mean 2305.5555555555557\n",
      "mean_mean 1041.6337486659486\n",
      "abs(round((mean_mean-y_mean)/y_mean)) 1.0\n"
     ]
    },
    {
     "name": "stderr",
     "output_type": "stream",
     "text": [
      "\r",
      " 46%|████▌     | 165/360 [16:27<14:34,  4.48s/it]"
     ]
    },
    {
     "name": "stdout",
     "output_type": "stream",
     "text": [
      "Optimization fail.\n"
     ]
    },
    {
     "name": "stderr",
     "output_type": "stream",
     "text": [
      "\r",
      " 46%|████▌     | 166/360 [16:37<19:21,  5.99s/it]"
     ]
    },
    {
     "name": "stdout",
     "output_type": "stream",
     "text": [
      "local Optima\n",
      "1\n",
      "y_mean 2657.1666666666665\n",
      "mean_mean 1151.6354610518588\n",
      "abs(round((mean_mean-y_mean)/y_mean)) 1.0\n",
      "local Optima\n",
      "1\n",
      "y_mean 2657.1666666666665\n",
      "mean_mean 1194.096017115295\n",
      "abs(round((mean_mean-y_mean)/y_mean)) 1.0\n",
      "local Optima\n",
      "1\n",
      "y_mean 2657.1666666666665\n",
      "mean_mean 1159.7161156649997\n",
      "abs(round((mean_mean-y_mean)/y_mean)) 1.0\n",
      "local Optima\n",
      "1\n",
      "y_mean 2657.1666666666665\n",
      "mean_mean 1112.92423992981\n",
      "abs(round((mean_mean-y_mean)/y_mean)) 1.0\n",
      "local Optima\n",
      "1\n",
      "y_mean 2657.1666666666665\n",
      "mean_mean 1125.5700568417303\n",
      "abs(round((mean_mean-y_mean)/y_mean)) 1.0\n"
     ]
    },
    {
     "name": "stderr",
     "output_type": "stream",
     "text": [
      "\r",
      " 46%|████▋     | 167/360 [16:57<33:24, 10.38s/it]"
     ]
    },
    {
     "name": "stdout",
     "output_type": "stream",
     "text": [
      "Optimization fail.\n",
      "Optimization fail.\n",
      "Optimization fail.\n",
      "Optimization fail.\n"
     ]
    },
    {
     "name": "stderr",
     "output_type": "stream",
     "text": [
      " 47%|████▋     | 169/360 [17:22<33:04, 10.39s/it]"
     ]
    },
    {
     "name": "stdout",
     "output_type": "stream",
     "text": [
      "Optimization fail.\n"
     ]
    },
    {
     "name": "stderr",
     "output_type": "stream",
     "text": [
      " 48%|████▊     | 173/360 [17:41<18:05,  5.80s/it]"
     ]
    },
    {
     "name": "stdout",
     "output_type": "stream",
     "text": [
      "Optimization fail.\n"
     ]
    },
    {
     "name": "stderr",
     "output_type": "stream",
     "text": [
      " 49%|████▉     | 177/360 [17:56<11:40,  3.83s/it]"
     ]
    },
    {
     "name": "stdout",
     "output_type": "stream",
     "text": [
      "Optimization fail.\n",
      "Optimization fail.\n",
      "Optimization fail.\n"
     ]
    },
    {
     "name": "stderr",
     "output_type": "stream",
     "text": [
      " 50%|████▉     | 179/360 [18:17<19:22,  6.42s/it]"
     ]
    },
    {
     "name": "stdout",
     "output_type": "stream",
     "text": [
      "Optimization fail.\n",
      "Optimization fail.\n",
      "Optimization fail.\n",
      "Optimization fail.\n",
      "Optimization fail.\n",
      "Optimization fail.\n"
     ]
    },
    {
     "name": "stderr",
     "output_type": "stream",
     "text": [
      " 50%|█████     | 181/360 [18:49<30:25, 10.20s/it]"
     ]
    },
    {
     "name": "stdout",
     "output_type": "stream",
     "text": [
      "Optimization fail.\n",
      "Optimization fail.\n",
      "Optimization fail.\n"
     ]
    },
    {
     "name": "stderr",
     "output_type": "stream",
     "text": [
      " 52%|█████▏    | 186/360 [19:20<16:23,  5.65s/it]"
     ]
    },
    {
     "name": "stdout",
     "output_type": "stream",
     "text": [
      "local Optima\n",
      "1\n",
      "y_mean 705.7777777777778\n",
      "mean_mean 16925.061402611438\n",
      "abs(round((mean_mean-y_mean)/y_mean)) 23.0\n",
      "local Optima\n",
      "1\n",
      "y_mean 705.7777777777778\n",
      "mean_mean 1619.95047914058\n",
      "abs(round((mean_mean-y_mean)/y_mean)) 1.0\n",
      "local Optima\n",
      "1\n",
      "y_mean 705.7777777777778\n",
      "mean_mean 1191.8744450143502\n",
      "abs(round((mean_mean-y_mean)/y_mean)) 1.0\n",
      "local Optima\n",
      "1\n",
      "y_mean 705.7777777777778\n",
      "mean_mean 1141.5947500161524\n",
      "abs(round((mean_mean-y_mean)/y_mean)) 1.0\n",
      "local Optima\n",
      "1\n",
      "y_mean 705.7777777777778\n",
      "mean_mean 1123.4609731748078\n",
      "abs(round((mean_mean-y_mean)/y_mean)) 1.0\n"
     ]
    },
    {
     "name": "stderr",
     "output_type": "stream",
     "text": [
      " 53%|█████▎    | 191/360 [19:41<10:55,  3.88s/it]"
     ]
    },
    {
     "name": "stdout",
     "output_type": "stream",
     "text": [
      "Optimization fail.\n",
      "Optimization fail.\n"
     ]
    },
    {
     "name": "stderr",
     "output_type": "stream",
     "text": [
      " 54%|█████▍    | 195/360 [20:04<12:37,  4.59s/it]"
     ]
    },
    {
     "name": "stdout",
     "output_type": "stream",
     "text": [
      "Optimization fail.\n",
      "Optimization fail.\n"
     ]
    },
    {
     "name": "stderr",
     "output_type": "stream",
     "text": [
      " 55%|█████▍    | 197/360 [20:17<14:30,  5.34s/it]"
     ]
    },
    {
     "name": "stdout",
     "output_type": "stream",
     "text": [
      "Optimization fail.\n",
      "Optimization fail.\n",
      "Optimization fail.\n",
      "Optimization fail.\n",
      "Optimization fail.\n",
      "Optimization fail.\n",
      "Optimization fail.\n",
      "Optimization fail.\n",
      "Optimization fail.\n"
     ]
    },
    {
     "name": "stderr",
     "output_type": "stream",
     "text": [
      " 56%|█████▋    | 203/360 [21:16<14:58,  5.72s/it]"
     ]
    },
    {
     "name": "stdout",
     "output_type": "stream",
     "text": [
      "Optimization fail.\n",
      "Optimization fail.\n"
     ]
    },
    {
     "name": "stderr",
     "output_type": "stream",
     "text": [
      " 57%|█████▊    | 207/360 [21:37<11:41,  4.58s/it]"
     ]
    },
    {
     "name": "stdout",
     "output_type": "stream",
     "text": [
      "Optimization fail.\n",
      "Optimization fail.\n"
     ]
    },
    {
     "name": "stderr",
     "output_type": "stream",
     "text": [
      " 58%|█████▊    | 209/360 [21:53<14:20,  5.70s/it]"
     ]
    },
    {
     "name": "stdout",
     "output_type": "stream",
     "text": [
      "Optimization fail.\n",
      "Optimization fail.\n"
     ]
    },
    {
     "name": "stderr",
     "output_type": "stream",
     "text": [
      "\r",
      " 58%|█████▊    | 210/360 [22:06<20:06,  8.04s/it]"
     ]
    },
    {
     "name": "stdout",
     "output_type": "stream",
     "text": [
      "local Optima\n",
      "1\n",
      "y_mean 4599.111111111111\n",
      "mean_mean 1257.851129362089\n",
      "abs(round((mean_mean-y_mean)/y_mean)) 1.0\n",
      "local Optima\n",
      "1\n",
      "y_mean 4599.111111111111\n",
      "mean_mean 1234.4722401150711\n",
      "abs(round((mean_mean-y_mean)/y_mean)) 1.0\n",
      "local Optima\n",
      "1\n",
      "y_mean 4599.111111111111\n",
      "mean_mean 1277.2008562007102\n",
      "abs(round((mean_mean-y_mean)/y_mean)) 1.0\n",
      "local Optima\n",
      "1\n",
      "y_mean 4599.111111111111\n",
      "mean_mean 1278.8738670085572\n",
      "abs(round((mean_mean-y_mean)/y_mean)) 1.0\n",
      "local Optima\n",
      "1\n",
      "y_mean 4599.111111111111\n",
      "mean_mean 1234.5185428167533\n",
      "abs(round((mean_mean-y_mean)/y_mean)) 1.0\n"
     ]
    },
    {
     "name": "stderr",
     "output_type": "stream",
     "text": [
      "\r",
      " 59%|█████▊    | 211/360 [22:24<27:06, 10.92s/it]"
     ]
    },
    {
     "name": "stdout",
     "output_type": "stream",
     "text": [
      "Optimization fail.\n",
      "Optimization fail.\n"
     ]
    },
    {
     "name": "stderr",
     "output_type": "stream",
     "text": [
      " 60%|█████▉    | 215/360 [22:45<13:56,  5.77s/it]"
     ]
    },
    {
     "name": "stdout",
     "output_type": "stream",
     "text": [
      "Optimization fail.\n"
     ]
    },
    {
     "name": "stderr",
     "output_type": "stream",
     "text": [
      " 60%|██████    | 217/360 [22:57<13:19,  5.59s/it]"
     ]
    },
    {
     "name": "stdout",
     "output_type": "stream",
     "text": [
      "Optimization fail.\n",
      "Optimization fail.\n"
     ]
    },
    {
     "name": "stderr",
     "output_type": "stream",
     "text": [
      " 62%|██████▏   | 222/360 [23:24<10:53,  4.74s/it]"
     ]
    },
    {
     "name": "stdout",
     "output_type": "stream",
     "text": [
      "local Optima\n",
      "1\n",
      "y_mean 1368.4444444444443\n",
      "mean_mean 2891.4329175542225\n",
      "abs(round((mean_mean-y_mean)/y_mean)) 1.0\n",
      "local Optima\n",
      "1\n",
      "y_mean 1368.4444444444443\n",
      "mean_mean 3135.28868395462\n",
      "abs(round((mean_mean-y_mean)/y_mean)) 1.0\n",
      "local Optima\n",
      "1\n",
      "y_mean 1368.4444444444443\n",
      "mean_mean 2931.6723007106343\n",
      "abs(round((mean_mean-y_mean)/y_mean)) 1.0\n"
     ]
    },
    {
     "name": "stderr",
     "output_type": "stream",
     "text": [
      " 63%|██████▎   | 227/360 [23:45<08:19,  3.76s/it]"
     ]
    },
    {
     "name": "stdout",
     "output_type": "stream",
     "text": [
      "Optimization fail.\n",
      "Optimization fail.\n",
      "Optimization fail.\n",
      "Optimization fail.\n",
      "Optimization fail.\n",
      "Optimization fail.\n",
      "Optimization fail.\n",
      "Optimization fail.\n",
      "Optimization fail.\n",
      "Optimization fail.\n",
      "Can not Optimaize a Gaussian process, Optimization fail.\n"
     ]
    },
    {
     "name": "stderr",
     "output_type": "stream",
     "text": [
      " 64%|██████▍   | 230/360 [24:38<21:30,  9.92s/it]"
     ]
    },
    {
     "name": "stdout",
     "output_type": "stream",
     "text": [
      "local Optima\n",
      "1\n",
      "y_mean 5003.222222222223\n",
      "mean_mean 2481.2146070977765\n",
      "abs(round((mean_mean-y_mean)/y_mean)) 1.0\n"
     ]
    },
    {
     "name": "stderr",
     "output_type": "stream",
     "text": [
      " 64%|██████▍   | 232/360 [24:48<15:55,  7.47s/it]"
     ]
    },
    {
     "name": "stdout",
     "output_type": "stream",
     "text": [
      "Optimization fail.\n"
     ]
    },
    {
     "name": "stderr",
     "output_type": "stream",
     "text": [
      " 65%|██████▌   | 235/360 [25:03<11:30,  5.52s/it]"
     ]
    },
    {
     "name": "stdout",
     "output_type": "stream",
     "text": [
      "Optimization fail.\n",
      "Optimization fail.\n",
      "Optimization fail.\n"
     ]
    },
    {
     "name": "stderr",
     "output_type": "stream",
     "text": [
      " 66%|██████▌   | 237/360 [25:22<13:54,  6.78s/it]"
     ]
    },
    {
     "name": "stdout",
     "output_type": "stream",
     "text": [
      "Optimization fail.\n",
      "Optimization fail.\n",
      "Optimization fail.\n",
      "Optimization fail.\n",
      "Optimization fail.\n",
      "Optimization fail.\n",
      "Optimization fail.\n",
      "Optimization fail.\n",
      "Optimization fail.\n",
      "Optimization fail.\n"
     ]
    },
    {
     "name": "stderr",
     "output_type": "stream",
     "text": [
      " 66%|██████▋   | 239/360 [26:10<27:38, 13.71s/it]"
     ]
    },
    {
     "name": "stdout",
     "output_type": "stream",
     "text": [
      "Optimization fail.\n",
      "Optimization fail.\n",
      "Optimization fail.\n",
      "Optimization fail.\n",
      "Optimization fail.\n",
      "Optimization fail.\n",
      "Optimization fail.\n",
      "Optimization fail.\n",
      "Optimization fail.\n"
     ]
    },
    {
     "name": "stderr",
     "output_type": "stream",
     "text": [
      "\r",
      " 67%|██████▋   | 240/360 [26:50<43:23, 21.69s/it]"
     ]
    },
    {
     "name": "stdout",
     "output_type": "stream",
     "text": [
      "local Optima\n",
      "1\n",
      "y_mean 4057.1111111111113\n",
      "mean_mean 1562.704752282468\n",
      "abs(round((mean_mean-y_mean)/y_mean)) 1.0\n",
      "local Optima\n",
      "1\n",
      "y_mean 4057.1111111111113\n",
      "mean_mean 1694.1243271896171\n",
      "abs(round((mean_mean-y_mean)/y_mean)) 1.0\n",
      "local Optima\n",
      "1\n",
      "y_mean 4057.1111111111113\n",
      "mean_mean 1495.4313785992958\n",
      "abs(round((mean_mean-y_mean)/y_mean)) 1.0\n",
      "local Optima\n",
      "1\n",
      "y_mean 4057.1111111111113\n",
      "mean_mean 1570.3506948865072\n",
      "abs(round((mean_mean-y_mean)/y_mean)) 1.0\n",
      "local Optima\n",
      "1\n",
      "y_mean 4057.1111111111113\n",
      "mean_mean 1566.035632878102\n",
      "abs(round((mean_mean-y_mean)/y_mean)) 1.0\n"
     ]
    },
    {
     "name": "stderr",
     "output_type": "stream",
     "text": [
      "\r",
      " 67%|██████▋   | 241/360 [27:07<40:05, 20.21s/it]"
     ]
    },
    {
     "name": "stdout",
     "output_type": "stream",
     "text": [
      "Optimization fail.\n",
      "Optimization fail.\n",
      "Optimization fail.\n",
      "Optimization fail.\n"
     ]
    },
    {
     "name": "stderr",
     "output_type": "stream",
     "text": [
      " 68%|██████▊   | 243/360 [27:31<29:49, 15.29s/it]"
     ]
    },
    {
     "name": "stdout",
     "output_type": "stream",
     "text": [
      "Optimization fail.\n",
      "Optimization fail.\n"
     ]
    },
    {
     "name": "stderr",
     "output_type": "stream",
     "text": [
      " 68%|██████▊   | 245/360 [27:46<20:56, 10.92s/it]"
     ]
    },
    {
     "name": "stdout",
     "output_type": "stream",
     "text": [
      "Optimization fail.\n",
      "Optimization fail.\n",
      "Optimization fail.\n",
      "Optimization fail.\n"
     ]
    },
    {
     "name": "stderr",
     "output_type": "stream",
     "text": [
      " 69%|██████▉   | 249/360 [28:18<12:49,  6.93s/it]"
     ]
    },
    {
     "name": "stdout",
     "output_type": "stream",
     "text": [
      "Optimization fail.\n",
      "Optimization fail.\n"
     ]
    },
    {
     "name": "stderr",
     "output_type": "stream",
     "text": [
      " 71%|███████   | 255/360 [28:48<07:24,  4.23s/it]"
     ]
    },
    {
     "name": "stdout",
     "output_type": "stream",
     "text": [
      "Optimization fail.\n"
     ]
    },
    {
     "name": "stderr",
     "output_type": "stream",
     "text": [
      " 71%|███████▏  | 257/360 [29:00<08:27,  4.92s/it]"
     ]
    },
    {
     "name": "stdout",
     "output_type": "stream",
     "text": [
      "Optimization fail.\n",
      "Optimization fail.\n"
     ]
    },
    {
     "name": "stderr",
     "output_type": "stream",
     "text": [
      " 72%|███████▏  | 259/360 [29:14<09:19,  5.54s/it]"
     ]
    },
    {
     "name": "stdout",
     "output_type": "stream",
     "text": [
      "Optimization fail.\n"
     ]
    },
    {
     "name": "stderr",
     "output_type": "stream",
     "text": [
      " 73%|███████▎  | 263/360 [29:33<07:22,  4.56s/it]"
     ]
    },
    {
     "name": "stdout",
     "output_type": "stream",
     "text": [
      "Optimization fail.\n",
      "Optimization fail.\n"
     ]
    },
    {
     "name": "stderr",
     "output_type": "stream",
     "text": [
      "\r",
      " 73%|███████▎  | 264/360 [29:46<11:33,  7.23s/it]"
     ]
    },
    {
     "name": "stdout",
     "output_type": "stream",
     "text": [
      "local Optima\n",
      "1\n",
      "y_mean 979.2222222222222\n",
      "mean_mean 1903.387654318846\n",
      "abs(round((mean_mean-y_mean)/y_mean)) 1.0\n",
      "local Optima\n",
      "1\n",
      "y_mean 979.2222222222222\n",
      "mean_mean 1954.5549950200489\n",
      "abs(round((mean_mean-y_mean)/y_mean)) 1.0\n",
      "local Optima\n",
      "1\n",
      "y_mean 979.2222222222222\n",
      "mean_mean 1949.0924402517714\n",
      "abs(round((mean_mean-y_mean)/y_mean)) 1.0\n",
      "local Optima\n",
      "1\n",
      "y_mean 979.2222222222222\n",
      "mean_mean 1865.8655918176917\n",
      "abs(round((mean_mean-y_mean)/y_mean)) 1.0\n",
      "local Optima\n",
      "1\n",
      "y_mean 979.2222222222222\n",
      "mean_mean 1962.1057940794217\n",
      "abs(round((mean_mean-y_mean)/y_mean)) 1.0\n"
     ]
    },
    {
     "name": "stderr",
     "output_type": "stream",
     "text": [
      " 74%|███████▍  | 267/360 [30:04<09:04,  5.86s/it]"
     ]
    },
    {
     "name": "stdout",
     "output_type": "stream",
     "text": [
      "Optimization fail.\n"
     ]
    },
    {
     "name": "stderr",
     "output_type": "stream",
     "text": [
      " 75%|███████▍  | 269/360 [30:15<08:14,  5.43s/it]"
     ]
    },
    {
     "name": "stdout",
     "output_type": "stream",
     "text": [
      "Optimization fail.\n"
     ]
    },
    {
     "name": "stderr",
     "output_type": "stream",
     "text": [
      "\r",
      " 75%|███████▌  | 270/360 [30:24<09:26,  6.30s/it]"
     ]
    },
    {
     "name": "stdout",
     "output_type": "stream",
     "text": [
      "local Optima\n",
      "1\n",
      "y_mean 8668.555555555555\n",
      "mean_mean 3745.1544101085806\n",
      "abs(round((mean_mean-y_mean)/y_mean)) 1.0\n",
      "Optimization fail.\n",
      "Optimization fail.\n",
      "Optimization fail.\n",
      "Optimization fail.\n"
     ]
    },
    {
     "name": "stderr",
     "output_type": "stream",
     "text": [
      "\r",
      " 75%|███████▌  | 271/360 [30:47<16:48, 11.34s/it]"
     ]
    },
    {
     "name": "stdout",
     "output_type": "stream",
     "text": [
      "Optimization fail.\n",
      "Optimization fail.\n"
     ]
    },
    {
     "name": "stderr",
     "output_type": "stream",
     "text": [
      " 76%|███████▌  | 273/360 [31:03<13:36,  9.39s/it]"
     ]
    },
    {
     "name": "stdout",
     "output_type": "stream",
     "text": [
      "Optimization fail.\n",
      "Optimization fail.\n",
      "Optimization fail.\n",
      "Optimization fail.\n",
      "Optimization fail.\n",
      "Optimization fail.\n",
      "Optimization fail.\n",
      "Optimization fail.\n",
      "Optimization fail.\n"
     ]
    },
    {
     "name": "stderr",
     "output_type": "stream",
     "text": [
      " 76%|███████▋  | 275/360 [31:49<20:35, 14.53s/it]"
     ]
    },
    {
     "name": "stdout",
     "output_type": "stream",
     "text": [
      "Optimization fail.\n",
      "Optimization fail.\n"
     ]
    },
    {
     "name": "stderr",
     "output_type": "stream",
     "text": [
      " 78%|███████▊  | 279/360 [32:07<08:25,  6.24s/it]"
     ]
    },
    {
     "name": "stdout",
     "output_type": "stream",
     "text": [
      "Optimization fail.\n",
      "Optimization fail.\n",
      "Optimization fail.\n",
      "Optimization fail.\n",
      "Optimization fail.\n"
     ]
    },
    {
     "name": "stderr",
     "output_type": "stream",
     "text": [
      " 78%|███████▊  | 281/360 [32:35<12:05,  9.18s/it]"
     ]
    },
    {
     "name": "stdout",
     "output_type": "stream",
     "text": [
      "Optimization fail.\n",
      "Optimization fail.\n",
      "Optimization fail.\n",
      "Optimization fail.\n",
      "Optimization fail.\n",
      "Optimization fail.\n",
      "Optimization fail.\n",
      "Optimization fail.\n"
     ]
    },
    {
     "name": "stderr",
     "output_type": "stream",
     "text": [
      " 79%|███████▉  | 285/360 [33:19<09:29,  7.59s/it]"
     ]
    },
    {
     "name": "stdout",
     "output_type": "stream",
     "text": [
      "Optimization fail.\n",
      "Optimization fail.\n",
      "Optimization fail.\n",
      "Optimization fail.\n",
      "Optimization fail.\n",
      "Optimization fail.\n",
      "Optimization fail.\n",
      "Optimization fail.\n",
      "Optimization fail.\n"
     ]
    },
    {
     "name": "stderr",
     "output_type": "stream",
     "text": [
      " 80%|████████  | 289/360 [34:10<09:45,  8.25s/it]"
     ]
    },
    {
     "name": "stdout",
     "output_type": "stream",
     "text": [
      "Optimization fail.\n"
     ]
    },
    {
     "name": "stderr",
     "output_type": "stream",
     "text": [
      " 81%|████████  | 291/360 [34:23<08:10,  7.11s/it]"
     ]
    },
    {
     "name": "stdout",
     "output_type": "stream",
     "text": [
      "Optimization fail.\n",
      "Optimization fail.\n",
      "Optimization fail.\n"
     ]
    },
    {
     "name": "stderr",
     "output_type": "stream",
     "text": [
      " 82%|████████▏ | 295/360 [34:50<06:05,  5.62s/it]"
     ]
    },
    {
     "name": "stdout",
     "output_type": "stream",
     "text": [
      "Optimization fail.\n"
     ]
    },
    {
     "name": "stderr",
     "output_type": "stream",
     "text": [
      " 82%|████████▎ | 297/360 [35:01<05:24,  5.15s/it]"
     ]
    },
    {
     "name": "stdout",
     "output_type": "stream",
     "text": [
      "Optimization fail.\n"
     ]
    },
    {
     "name": "stderr",
     "output_type": "stream",
     "text": [
      " 83%|████████▎ | 299/360 [35:13<05:22,  5.29s/it]"
     ]
    },
    {
     "name": "stdout",
     "output_type": "stream",
     "text": [
      "Optimization fail.\n",
      "Optimization fail.\n",
      "Optimization fail.\n"
     ]
    },
    {
     "name": "stderr",
     "output_type": "stream",
     "text": [
      " 86%|████████▌ | 309/360 [36:04<03:21,  3.94s/it]"
     ]
    },
    {
     "name": "stdout",
     "output_type": "stream",
     "text": [
      "Optimization fail.\n"
     ]
    },
    {
     "name": "stderr",
     "output_type": "stream",
     "text": [
      " 86%|████████▋ | 311/360 [36:16<03:52,  4.74s/it]"
     ]
    },
    {
     "name": "stdout",
     "output_type": "stream",
     "text": [
      "Optimization fail.\n",
      "Optimization fail.\n"
     ]
    },
    {
     "name": "stderr",
     "output_type": "stream",
     "text": [
      " 88%|████████▊ | 315/360 [36:39<03:32,  4.73s/it]"
     ]
    },
    {
     "name": "stdout",
     "output_type": "stream",
     "text": [
      "Optimization fail.\n",
      "Optimization fail.\n"
     ]
    },
    {
     "name": "stderr",
     "output_type": "stream",
     "text": [
      " 88%|████████▊ | 318/360 [37:00<03:56,  5.63s/it]"
     ]
    },
    {
     "name": "stdout",
     "output_type": "stream",
     "text": [
      "local Optima\n",
      "1\n",
      "y_mean 5919.388888888889\n",
      "mean_mean 814.3277206896786\n",
      "abs(round((mean_mean-y_mean)/y_mean)) 1.0\n"
     ]
    },
    {
     "name": "stderr",
     "output_type": "stream",
     "text": [
      "\r",
      " 89%|████████▊ | 319/360 [37:04<03:28,  5.08s/it]"
     ]
    },
    {
     "name": "stdout",
     "output_type": "stream",
     "text": [
      "Optimization fail.\n",
      "Optimization fail.\n"
     ]
    },
    {
     "name": "stderr",
     "output_type": "stream",
     "text": [
      "\r",
      " 89%|████████▉ | 320/360 [37:14<04:25,  6.65s/it]"
     ]
    },
    {
     "name": "stdout",
     "output_type": "stream",
     "text": [
      "local Optima\n",
      "1\n",
      "y_mean 4172.388888888889\n",
      "mean_mean 8297.681723549535\n",
      "abs(round((mean_mean-y_mean)/y_mean)) 1.0\n",
      "local Optima\n",
      "1\n",
      "y_mean 4172.388888888889\n",
      "mean_mean 9501.40759027658\n",
      "abs(round((mean_mean-y_mean)/y_mean)) 1.0\n"
     ]
    },
    {
     "name": "stderr",
     "output_type": "stream",
     "text": [
      "\r",
      " 89%|████████▉ | 321/360 [37:21<04:15,  6.54s/it]"
     ]
    },
    {
     "name": "stdout",
     "output_type": "stream",
     "text": [
      "Optimization fail.\n",
      "Optimization fail.\n",
      "Optimization fail.\n",
      "Optimization fail.\n",
      "Optimization fail.\n",
      "Optimization fail.\n",
      "Optimization fail.\n",
      "Optimization fail.\n",
      "Optimization fail.\n",
      "Optimization fail.\n",
      "Can not Optimaize a Gaussian process, Optimization fail.\n"
     ]
    },
    {
     "name": "stderr",
     "output_type": "stream",
     "text": [
      "\r",
      " 89%|████████▉ | 322/360 [38:06<11:30, 18.16s/it]"
     ]
    },
    {
     "name": "stdout",
     "output_type": "stream",
     "text": [
      "local Optima\n",
      "1\n",
      "y_mean 3144.8888888888887\n",
      "mean_mean 5614.77705299331\n",
      "abs(round((mean_mean-y_mean)/y_mean)) 1.0\n",
      "local Optima\n",
      "1\n",
      "y_mean 3144.8888888888887\n",
      "mean_mean 5837.047365624292\n",
      "abs(round((mean_mean-y_mean)/y_mean)) 1.0\n",
      "local Optima\n",
      "1\n",
      "y_mean 3144.8888888888887\n",
      "mean_mean 5449.752355755036\n",
      "abs(round((mean_mean-y_mean)/y_mean)) 1.0\n",
      "local Optima\n",
      "1\n",
      "y_mean 3144.8888888888887\n",
      "mean_mean 5996.621588768228\n",
      "abs(round((mean_mean-y_mean)/y_mean)) 1.0\n",
      "local Optima\n",
      "1\n",
      "y_mean 3144.8888888888887\n",
      "mean_mean 4947.376588369532\n",
      "abs(round((mean_mean-y_mean)/y_mean)) 1.0\n"
     ]
    },
    {
     "name": "stderr",
     "output_type": "stream",
     "text": [
      "\r",
      " 90%|████████▉ | 323/360 [38:17<09:56, 16.12s/it]"
     ]
    },
    {
     "name": "stdout",
     "output_type": "stream",
     "text": [
      "Optimization fail.\n",
      "Optimization fail.\n",
      "Optimization fail.\n",
      "Optimization fail.\n",
      "Optimization fail.\n",
      "Optimization fail.\n",
      "Optimization fail.\n",
      "Optimization fail.\n",
      "Optimization fail.\n"
     ]
    },
    {
     "name": "stderr",
     "output_type": "stream",
     "text": [
      "\r",
      " 90%|█████████ | 324/360 [38:57<14:00, 23.35s/it]"
     ]
    },
    {
     "name": "stdout",
     "output_type": "stream",
     "text": [
      "local Optima\n",
      "1\n",
      "y_mean 4438.444444444444\n",
      "mean_mean 961.6098718156542\n",
      "abs(round((mean_mean-y_mean)/y_mean)) 1.0\n",
      "local Optima\n",
      "1\n",
      "y_mean 4438.444444444444\n",
      "mean_mean 921.2117749651624\n",
      "abs(round((mean_mean-y_mean)/y_mean)) 1.0\n",
      "local Optima\n",
      "1\n",
      "y_mean 4438.444444444444\n",
      "mean_mean 975.3230482321218\n",
      "abs(round((mean_mean-y_mean)/y_mean)) 1.0\n",
      "local Optima\n",
      "1\n",
      "y_mean 4438.444444444444\n",
      "mean_mean 1097.5676643785232\n",
      "abs(round((mean_mean-y_mean)/y_mean)) 1.0\n",
      "Optimization fail.\n"
     ]
    },
    {
     "name": "stderr",
     "output_type": "stream",
     "text": [
      "\r",
      " 90%|█████████ | 325/360 [39:18<13:11, 22.60s/it]"
     ]
    },
    {
     "name": "stdout",
     "output_type": "stream",
     "text": [
      "Optimization fail.\n",
      "Optimization fail.\n"
     ]
    },
    {
     "name": "stderr",
     "output_type": "stream",
     "text": [
      "\r",
      " 91%|█████████ | 326/360 [39:29<10:45, 18.98s/it]"
     ]
    },
    {
     "name": "stdout",
     "output_type": "stream",
     "text": [
      "local Optima\n",
      "1\n",
      "y_mean 5210.722222222223\n",
      "mean_mean 11508.782880433744\n",
      "abs(round((mean_mean-y_mean)/y_mean)) 1.0\n",
      "local Optima\n",
      "1\n",
      "y_mean 5210.722222222223\n",
      "mean_mean 10787.137824856782\n",
      "abs(round((mean_mean-y_mean)/y_mean)) 1.0\n",
      "local Optima\n",
      "1\n",
      "y_mean 5210.722222222223\n",
      "mean_mean 13232.226602471186\n",
      "abs(round((mean_mean-y_mean)/y_mean)) 2.0\n",
      "local Optima\n",
      "1\n",
      "y_mean 5210.722222222223\n",
      "mean_mean 9777.967712065658\n",
      "abs(round((mean_mean-y_mean)/y_mean)) 1.0\n",
      "local Optima\n",
      "1\n",
      "y_mean 5210.722222222223\n",
      "mean_mean 9640.679110849913\n",
      "abs(round((mean_mean-y_mean)/y_mean)) 1.0\n"
     ]
    },
    {
     "name": "stderr",
     "output_type": "stream",
     "text": [
      "\r",
      " 91%|█████████ | 327/360 [39:40<09:09, 16.66s/it]"
     ]
    },
    {
     "name": "stdout",
     "output_type": "stream",
     "text": [
      "Optimization fail.\n",
      "Optimization fail.\n"
     ]
    },
    {
     "name": "stderr",
     "output_type": "stream",
     "text": [
      "\r",
      " 91%|█████████ | 328/360 [39:52<08:10, 15.33s/it]"
     ]
    },
    {
     "name": "stdout",
     "output_type": "stream",
     "text": [
      "local Optima\n",
      "1\n",
      "y_mean 12564.833333333334\n",
      "mean_mean 21677.715633574007\n",
      "abs(round((mean_mean-y_mean)/y_mean)) 1.0\n",
      "local Optima\n",
      "1\n",
      "y_mean 12564.833333333334\n",
      "mean_mean 22575.009838094054\n",
      "abs(round((mean_mean-y_mean)/y_mean)) 1.0\n",
      "local Optima\n",
      "1\n",
      "y_mean 12564.833333333334\n",
      "mean_mean 21310.757947833383\n",
      "abs(round((mean_mean-y_mean)/y_mean)) 1.0\n",
      "local Optima\n",
      "1\n",
      "y_mean 12564.833333333334\n",
      "mean_mean 21280.40015825223\n",
      "abs(round((mean_mean-y_mean)/y_mean)) 1.0\n",
      "local Optima\n",
      "1\n",
      "y_mean 12564.833333333334\n",
      "mean_mean 20722.064969279414\n",
      "abs(round((mean_mean-y_mean)/y_mean)) 1.0\n"
     ]
    },
    {
     "name": "stderr",
     "output_type": "stream",
     "text": [
      "\r",
      " 91%|█████████▏| 329/360 [40:04<07:23, 14.29s/it]"
     ]
    },
    {
     "name": "stdout",
     "output_type": "stream",
     "text": [
      "0\n",
      "Fit Cholesky decomposition was not successful.\n",
      "Optimization fail.\n"
     ]
    },
    {
     "name": "stderr",
     "output_type": "stream",
     "text": [
      " 92%|█████████▏| 331/360 [40:16<04:41,  9.72s/it]"
     ]
    },
    {
     "name": "stdout",
     "output_type": "stream",
     "text": [
      "Optimization fail.\n",
      "Optimization fail.\n",
      "Optimization fail.\n",
      "Optimization fail.\n",
      "Optimization fail.\n",
      "Optimization fail.\n",
      "Optimization fail.\n"
     ]
    },
    {
     "name": "stderr",
     "output_type": "stream",
     "text": [
      "\r",
      " 92%|█████████▏| 332/360 [40:49<07:45, 16.62s/it]"
     ]
    },
    {
     "name": "stdout",
     "output_type": "stream",
     "text": [
      "local Optima\n",
      "1\n",
      "y_mean 6066.277777777777\n",
      "mean_mean 538.0333764347433\n",
      "abs(round((mean_mean-y_mean)/y_mean)) 1.0\n",
      "local Optima\n",
      "1\n",
      "y_mean 6066.277777777777\n",
      "mean_mean 14271.007607551059\n",
      "abs(round((mean_mean-y_mean)/y_mean)) 1.0\n",
      "local Optima\n",
      "1\n",
      "y_mean 6066.277777777777\n",
      "mean_mean 12347.555353947508\n",
      "abs(round((mean_mean-y_mean)/y_mean)) 1.0\n",
      "local Optima\n",
      "1\n",
      "y_mean 6066.277777777777\n",
      "mean_mean 11920.244917912789\n",
      "abs(round((mean_mean-y_mean)/y_mean)) 1.0\n",
      "local Optima\n",
      "1\n",
      "y_mean 6066.277777777777\n",
      "mean_mean 11628.693903113413\n",
      "abs(round((mean_mean-y_mean)/y_mean)) 1.0\n"
     ]
    },
    {
     "name": "stderr",
     "output_type": "stream",
     "text": [
      " 93%|█████████▎| 335/360 [41:07<03:43,  8.95s/it]"
     ]
    },
    {
     "name": "stdout",
     "output_type": "stream",
     "text": [
      "Optimization fail.\n"
     ]
    },
    {
     "name": "stderr",
     "output_type": "stream",
     "text": [
      " 94%|█████████▍| 338/360 [41:21<02:09,  5.90s/it]"
     ]
    },
    {
     "name": "stdout",
     "output_type": "stream",
     "text": [
      "local Optima\n",
      "1\n",
      "y_mean 4407.222222222223\n",
      "mean_mean 9698.461184884656\n",
      "abs(round((mean_mean-y_mean)/y_mean)) 1.0\n",
      "local Optima\n",
      "1\n",
      "y_mean 4407.222222222223\n",
      "mean_mean 10350.611184864403\n",
      "abs(round((mean_mean-y_mean)/y_mean)) 1.0\n",
      "local Optima\n",
      "1\n",
      "y_mean 4407.222222222223\n",
      "mean_mean 9511.794262317046\n",
      "abs(round((mean_mean-y_mean)/y_mean)) 1.0\n",
      "local Optima\n",
      "1\n",
      "y_mean 4407.222222222223\n",
      "mean_mean 9042.988326961822\n",
      "abs(round((mean_mean-y_mean)/y_mean)) 1.0\n",
      "local Optima\n",
      "1\n",
      "y_mean 4407.222222222223\n",
      "mean_mean 8882.794605788411\n",
      "abs(round((mean_mean-y_mean)/y_mean)) 1.0\n"
     ]
    },
    {
     "name": "stderr",
     "output_type": "stream",
     "text": [
      "\r",
      " 94%|█████████▍| 339/360 [41:33<02:40,  7.64s/it]"
     ]
    },
    {
     "name": "stdout",
     "output_type": "stream",
     "text": [
      "Optimization fail.\n",
      "Optimization fail.\n",
      "Optimization fail.\n"
     ]
    },
    {
     "name": "stderr",
     "output_type": "stream",
     "text": [
      "\r",
      " 94%|█████████▍| 340/360 [41:50<03:30, 10.52s/it]"
     ]
    },
    {
     "name": "stdout",
     "output_type": "stream",
     "text": [
      "local Optima\n",
      "1\n",
      "y_mean 3274.5555555555557\n",
      "mean_mean 5718.158800756268\n",
      "abs(round((mean_mean-y_mean)/y_mean)) 1.0\n",
      "local Optima\n",
      "1\n",
      "y_mean 3274.5555555555557\n",
      "mean_mean 6301.209289228875\n",
      "abs(round((mean_mean-y_mean)/y_mean)) 1.0\n",
      "local Optima\n",
      "1\n",
      "y_mean 3274.5555555555557\n",
      "mean_mean 5922.092402364918\n",
      "abs(round((mean_mean-y_mean)/y_mean)) 1.0\n",
      "local Optima\n",
      "1\n",
      "y_mean 3274.5555555555557\n",
      "mean_mean 5394.714930030368\n",
      "abs(round((mean_mean-y_mean)/y_mean)) 1.0\n",
      "local Optima\n",
      "1\n",
      "y_mean 3274.5555555555557\n",
      "mean_mean 5861.94809003809\n",
      "abs(round((mean_mean-y_mean)/y_mean)) 1.0\n"
     ]
    },
    {
     "name": "stderr",
     "output_type": "stream",
     "text": [
      "\r",
      " 95%|█████████▍| 341/360 [42:05<03:44, 11.83s/it]"
     ]
    },
    {
     "name": "stdout",
     "output_type": "stream",
     "text": [
      "Optimization fail.\n",
      "Optimization fail.\n",
      "Optimization fail.\n",
      "Optimization fail.\n",
      "Optimization fail.\n",
      "Optimization fail.\n",
      "Optimization fail.\n",
      "Optimization fail.\n",
      "Optimization fail.\n"
     ]
    },
    {
     "name": "stderr",
     "output_type": "stream",
     "text": [
      "\r",
      " 95%|█████████▌| 342/360 [42:46<06:12, 20.71s/it]"
     ]
    },
    {
     "name": "stdout",
     "output_type": "stream",
     "text": [
      "local Optima\n",
      "1\n",
      "y_mean 5844.611111111111\n",
      "mean_mean 1883.7984884558139\n",
      "abs(round((mean_mean-y_mean)/y_mean)) 1.0\n",
      "local Optima\n",
      "1\n",
      "y_mean 5844.611111111111\n",
      "mean_mean 1849.4353722474696\n",
      "abs(round((mean_mean-y_mean)/y_mean)) 1.0\n",
      "Optimization fail.\n",
      "local Optima\n",
      "1\n",
      "y_mean 5844.611111111111\n",
      "mean_mean 1876.3470063418592\n",
      "abs(round((mean_mean-y_mean)/y_mean)) 1.0\n",
      "local Optima\n",
      "1\n",
      "y_mean 5844.611111111111\n",
      "mean_mean 1858.3182621013716\n",
      "abs(round((mean_mean-y_mean)/y_mean)) 1.0\n"
     ]
    },
    {
     "name": "stderr",
     "output_type": "stream",
     "text": [
      " 96%|█████████▌| 344/360 [43:11<04:10, 15.67s/it]"
     ]
    },
    {
     "name": "stdout",
     "output_type": "stream",
     "text": [
      "local Optima\n",
      "1\n",
      "y_mean 5943.944444444444\n",
      "mean_mean 15640.535877139338\n",
      "abs(round((mean_mean-y_mean)/y_mean)) 2.0\n",
      "local Optima\n",
      "1\n",
      "y_mean 5943.944444444444\n",
      "mean_mean 16512.85028106063\n",
      "abs(round((mean_mean-y_mean)/y_mean)) 2.0\n",
      "local Optima\n",
      "1\n",
      "y_mean 5943.944444444444\n",
      "mean_mean 15146.50456652702\n",
      "abs(round((mean_mean-y_mean)/y_mean)) 2.0\n",
      "local Optima\n",
      "1\n",
      "y_mean 5943.944444444444\n",
      "mean_mean 14289.05975072654\n",
      "abs(round((mean_mean-y_mean)/y_mean)) 1.0\n",
      "local Optima\n",
      "1\n",
      "y_mean 5943.944444444444\n",
      "mean_mean 13867.630344848574\n",
      "abs(round((mean_mean-y_mean)/y_mean)) 1.0\n"
     ]
    },
    {
     "name": "stderr",
     "output_type": "stream",
     "text": [
      "\r",
      " 96%|█████████▌| 345/360 [43:24<03:41, 14.79s/it]"
     ]
    },
    {
     "name": "stdout",
     "output_type": "stream",
     "text": [
      "Optimization fail.\n",
      "Optimization fail.\n",
      "Optimization fail.\n",
      "Optimization fail.\n",
      "Optimization fail.\n"
     ]
    },
    {
     "name": "stderr",
     "output_type": "stream",
     "text": [
      "\r",
      " 96%|█████████▌| 346/360 [43:48<04:09, 17.83s/it]"
     ]
    },
    {
     "name": "stdout",
     "output_type": "stream",
     "text": [
      "local Optima\n",
      "1\n",
      "y_mean 6199.5\n",
      "mean_mean 11242.790718414082\n",
      "abs(round((mean_mean-y_mean)/y_mean)) 1.0\n",
      "local Optima\n",
      "1\n",
      "y_mean 6199.5\n",
      "mean_mean 11875.73862998187\n",
      "abs(round((mean_mean-y_mean)/y_mean)) 1.0\n",
      "local Optima\n",
      "1\n",
      "y_mean 6199.5\n",
      "mean_mean 59718867.676711045\n",
      "abs(round((mean_mean-y_mean)/y_mean)) 9632.0\n",
      "local Optima\n",
      "1\n",
      "y_mean 6199.5\n",
      "mean_mean 10875.037547552258\n",
      "abs(round((mean_mean-y_mean)/y_mean)) 1.0\n"
     ]
    },
    {
     "name": "stderr",
     "output_type": "stream",
     "text": [
      "\r",
      " 96%|█████████▋| 347/360 [43:58<03:19, 15.32s/it]"
     ]
    },
    {
     "name": "stdout",
     "output_type": "stream",
     "text": [
      "Optimization fail.\n",
      "Optimization fail.\n",
      "Optimization fail.\n",
      "Optimization fail.\n",
      "Optimization fail.\n",
      "Optimization fail.\n",
      "Optimization fail.\n"
     ]
    },
    {
     "name": "stderr",
     "output_type": "stream",
     "text": [
      "\r",
      " 97%|█████████▋| 348/360 [44:31<04:06, 20.56s/it]"
     ]
    },
    {
     "name": "stdout",
     "output_type": "stream",
     "text": [
      "local Optima\n",
      "1\n",
      "y_mean 1021.7777777777778\n",
      "mean_mean 487.1531122275643\n",
      "abs(round((mean_mean-y_mean)/y_mean)) 1.0\n",
      "local Optima\n",
      "1\n",
      "y_mean 1021.7777777777778\n",
      "mean_mean 417.27979293476875\n",
      "abs(round((mean_mean-y_mean)/y_mean)) 1.0\n",
      "local Optima\n",
      "1\n",
      "y_mean 1021.7777777777778\n",
      "mean_mean 472.5528033841625\n",
      "abs(round((mean_mean-y_mean)/y_mean)) 1.0\n",
      "local Optima\n",
      "1\n",
      "y_mean 1021.7777777777778\n",
      "mean_mean 484.35536725024315\n",
      "abs(round((mean_mean-y_mean)/y_mean)) 1.0\n"
     ]
    },
    {
     "name": "stderr",
     "output_type": "stream",
     "text": [
      " 97%|█████████▋| 350/360 [44:44<02:12, 13.28s/it]"
     ]
    },
    {
     "name": "stdout",
     "output_type": "stream",
     "text": [
      "local Optima\n",
      "1\n",
      "y_mean 560.7777777777778\n",
      "mean_mean 261.8026773103947\n",
      "abs(round((mean_mean-y_mean)/y_mean)) 1.0\n",
      "local Optima\n",
      "1\n",
      "y_mean 560.7777777777778\n",
      "mean_mean 273.5808511117517\n",
      "abs(round((mean_mean-y_mean)/y_mean)) 1.0\n",
      "local Optima\n",
      "1\n",
      "y_mean 560.7777777777778\n",
      "mean_mean 276.77984938040817\n",
      "abs(round((mean_mean-y_mean)/y_mean)) 1.0\n"
     ]
    },
    {
     "name": "stderr",
     "output_type": "stream",
     "text": [
      " 98%|█████████▊| 353/360 [45:00<00:52,  7.49s/it]"
     ]
    },
    {
     "name": "stdout",
     "output_type": "stream",
     "text": [
      "Optimization fail.\n",
      "Optimization fail.\n",
      "Optimization fail.\n",
      "Optimization fail.\n"
     ]
    },
    {
     "name": "stderr",
     "output_type": "stream",
     "text": [
      " 99%|█████████▊| 355/360 [45:24<00:44,  8.93s/it]"
     ]
    },
    {
     "name": "stdout",
     "output_type": "stream",
     "text": [
      "Optimization fail.\n",
      "Optimization fail.\n",
      "Optimization fail.\n"
     ]
    },
    {
     "name": "stderr",
     "output_type": "stream",
     "text": [
      " 99%|█████████▉| 357/360 [45:44<00:26,  8.72s/it]"
     ]
    },
    {
     "name": "stdout",
     "output_type": "stream",
     "text": [
      "Optimization fail.\n",
      "Optimization fail.\n"
     ]
    },
    {
     "name": "stderr",
     "output_type": "stream",
     "text": [
      "100%|█████████▉| 359/360 [46:00<00:07,  7.93s/it]"
     ]
    },
    {
     "name": "stdout",
     "output_type": "stream",
     "text": [
      "Optimization fail.\n",
      "Optimization fail.\n",
      "Optimization fail.\n"
     ]
    },
    {
     "name": "stderr",
     "output_type": "stream",
     "text": [
      "100%|██████████| 360/360 [46:16<00:00,  7.71s/it]\n",
      "  0%|          | 0/360 [00:00<?, ?it/s]"
     ]
    },
    {
     "name": "stdout",
     "output_type": "stream",
     "text": [
      "high_counts_high_dispersion_non_differentially_expressed_genes_DE_non_DE_genes.csv\n"
     ]
    },
    {
     "name": "stderr",
     "output_type": "stream",
     "text": [
      " 13%|█▎        | 48/360 [01:35<10:27,  2.01s/it]"
     ]
    },
    {
     "name": "stdout",
     "output_type": "stream",
     "text": [
      "local Optima\n",
      "1\n",
      "y_mean 3005.6111111111113\n",
      "mean_mean 6444.084758393546\n",
      "abs(round((mean_mean-y_mean)/y_mean)) 1.0\n",
      "local Optima\n",
      "1\n",
      "y_mean 3005.6111111111113\n",
      "mean_mean 6450.407915228116\n",
      "abs(round((mean_mean-y_mean)/y_mean)) 1.0\n",
      "local Optima\n",
      "1\n",
      "y_mean 3005.6111111111113\n",
      "mean_mean 6447.552067488191\n",
      "abs(round((mean_mean-y_mean)/y_mean)) 1.0\n",
      "local Optima\n",
      "1\n",
      "y_mean 3005.6111111111113\n",
      "mean_mean 7330.503856414801\n",
      "abs(round((mean_mean-y_mean)/y_mean)) 1.0\n",
      "local Optima\n",
      "1\n",
      "y_mean 3005.6111111111113\n",
      "mean_mean 6866.125966364662\n",
      "abs(round((mean_mean-y_mean)/y_mean)) 1.0\n"
     ]
    },
    {
     "name": "stderr",
     "output_type": "stream",
     "text": [
      " 14%|█▍        | 50/360 [01:44<15:43,  3.04s/it]"
     ]
    },
    {
     "name": "stdout",
     "output_type": "stream",
     "text": [
      "local Optima\n",
      "1\n",
      "y_mean 2025.3333333333333\n",
      "mean_mean 3520.756522771318\n",
      "abs(round((mean_mean-y_mean)/y_mean)) 1.0\n",
      "local Optima\n",
      "1\n",
      "y_mean 2025.3333333333333\n",
      "mean_mean 3330.113661976854\n",
      "abs(round((mean_mean-y_mean)/y_mean)) 1.0\n",
      "local Optima\n",
      "1\n",
      "y_mean 2025.3333333333333\n",
      "mean_mean 3171.1739269586933\n",
      "abs(round((mean_mean-y_mean)/y_mean)) 1.0\n",
      "local Optima\n",
      "1\n",
      "y_mean 2025.3333333333333\n",
      "mean_mean 3380.0962357628077\n",
      "abs(round((mean_mean-y_mean)/y_mean)) 1.0\n",
      "local Optima\n",
      "1\n",
      "y_mean 2025.3333333333333\n",
      "mean_mean 3404.3837791250394\n",
      "abs(round((mean_mean-y_mean)/y_mean)) 1.0\n"
     ]
    },
    {
     "name": "stderr",
     "output_type": "stream",
     "text": [
      " 20%|██        | 72/360 [02:34<10:02,  2.09s/it]"
     ]
    },
    {
     "name": "stdout",
     "output_type": "stream",
     "text": [
      "local Optima\n",
      "1\n",
      "y_mean 300.0\n",
      "mean_mean 464.2720872312592\n",
      "abs(round((mean_mean-y_mean)/y_mean)) 1.0\n"
     ]
    },
    {
     "name": "stderr",
     "output_type": "stream",
     "text": [
      " 75%|███████▌  | 270/360 [09:07<02:57,  1.97s/it]"
     ]
    },
    {
     "name": "stdout",
     "output_type": "stream",
     "text": [
      "0\n",
      "Fit Cholesky decomposition was not successful.\n"
     ]
    },
    {
     "name": "stderr",
     "output_type": "stream",
     "text": [
      " 80%|████████  | 288/360 [09:44<02:25,  2.02s/it]"
     ]
    },
    {
     "name": "stdout",
     "output_type": "stream",
     "text": [
      "local Optima\n",
      "1\n",
      "y_mean 764.8333333333334\n",
      "mean_mean 305.24568806522615\n",
      "abs(round((mean_mean-y_mean)/y_mean)) 1.0\n"
     ]
    },
    {
     "name": "stderr",
     "output_type": "stream",
     "text": [
      " 85%|████████▍ | 305/360 [10:19<01:45,  1.92s/it]"
     ]
    },
    {
     "name": "stdout",
     "output_type": "stream",
     "text": [
      "0\n",
      "Fit Cholesky decomposition was not successful.\n"
     ]
    },
    {
     "name": "stderr",
     "output_type": "stream",
     "text": [
      " 92%|█████████▏| 330/360 [11:10<01:01,  2.05s/it]"
     ]
    },
    {
     "name": "stdout",
     "output_type": "stream",
     "text": [
      "local Optima\n",
      "1\n",
      "y_mean 4511.666666666667\n",
      "mean_mean 1187.1687016017488\n",
      "abs(round((mean_mean-y_mean)/y_mean)) 1.0\n",
      "local Optima\n",
      "1\n",
      "y_mean 4511.666666666667\n",
      "mean_mean 1223.5176716649887\n",
      "abs(round((mean_mean-y_mean)/y_mean)) 1.0\n",
      "local Optima\n",
      "1\n",
      "y_mean 4511.666666666667\n",
      "mean_mean 1001.6343917909306\n",
      "abs(round((mean_mean-y_mean)/y_mean)) 1.0\n",
      "local Optima\n",
      "1\n",
      "y_mean 4511.666666666667\n",
      "mean_mean 1259.2806699990676\n",
      "abs(round((mean_mean-y_mean)/y_mean)) 1.0\n",
      "local Optima\n",
      "1\n",
      "y_mean 4511.666666666667\n",
      "mean_mean 1224.8019707193876\n",
      "abs(round((mean_mean-y_mean)/y_mean)) 1.0\n"
     ]
    },
    {
     "name": "stderr",
     "output_type": "stream",
     "text": [
      "100%|██████████| 360/360 [12:16<00:00,  2.04s/it]\n",
      "  6%|▋         | 23/360 [00:08<02:11,  2.57it/s]"
     ]
    },
    {
     "name": "stdout",
     "output_type": "stream",
     "text": [
      "0\n",
      "Fit Cholesky decomposition was not successful.\n"
     ]
    },
    {
     "name": "stderr",
     "output_type": "stream",
     "text": [
      " 15%|█▌        | 55/360 [00:21<01:58,  2.58it/s]"
     ]
    },
    {
     "name": "stdout",
     "output_type": "stream",
     "text": [
      "0\n",
      "Fit Cholesky decomposition was not successful.\n"
     ]
    },
    {
     "name": "stderr",
     "output_type": "stream",
     "text": [
      " 16%|█▋        | 59/360 [00:23<02:04,  2.43it/s]"
     ]
    },
    {
     "name": "stdout",
     "output_type": "stream",
     "text": [
      "0\n",
      "Fit Cholesky decomposition was not successful.\n",
      "1\n",
      "Fit Cholesky decomposition was not successful.\n"
     ]
    },
    {
     "name": "stderr",
     "output_type": "stream",
     "text": [
      " 57%|█████▊    | 207/360 [01:22<00:59,  2.56it/s]"
     ]
    },
    {
     "name": "stdout",
     "output_type": "stream",
     "text": [
      "0\n",
      "Fit Cholesky decomposition was not successful.\n"
     ]
    },
    {
     "name": "stderr",
     "output_type": "stream",
     "text": [
      " 87%|████████▋ | 313/360 [02:04<00:18,  2.57it/s]"
     ]
    },
    {
     "name": "stdout",
     "output_type": "stream",
     "text": [
      "0\n",
      "Fit Cholesky decomposition was not successful.\n"
     ]
    },
    {
     "name": "stderr",
     "output_type": "stream",
     "text": [
      " 88%|████████▊ | 315/360 [02:05<00:19,  2.30it/s]"
     ]
    },
    {
     "name": "stdout",
     "output_type": "stream",
     "text": [
      "0\n",
      "Fit Cholesky decomposition was not successful.\n"
     ]
    },
    {
     "name": "stderr",
     "output_type": "stream",
     "text": [
      " 99%|█████████▉| 357/360 [02:22<00:01,  2.48it/s]"
     ]
    },
    {
     "name": "stdout",
     "output_type": "stream",
     "text": [
      "0\n",
      "Fit Cholesky decomposition was not successful.\n"
     ]
    },
    {
     "name": "stderr",
     "output_type": "stream",
     "text": [
      "100%|██████████| 360/360 [02:23<00:00,  2.51it/s]\n",
      "  4%|▍         | 14/360 [00:37<16:04,  2.79s/it]"
     ]
    },
    {
     "name": "stdout",
     "output_type": "stream",
     "text": [
      "local Optima\n",
      "1\n",
      "y_mean 2031.388888888889\n",
      "mean_mean 993.5459212404342\n",
      "abs(round((mean_mean-y_mean)/y_mean)) 1.0\n"
     ]
    },
    {
     "name": "stderr",
     "output_type": "stream",
     "text": [
      " 10%|█         | 36/360 [01:47<15:15,  2.82s/it]"
     ]
    },
    {
     "name": "stdout",
     "output_type": "stream",
     "text": [
      "local Optima\n",
      "1\n",
      "y_mean 941.5555555555555\n",
      "mean_mean 442687.99795094284\n",
      "abs(round((mean_mean-y_mean)/y_mean)) 469.0\n"
     ]
    },
    {
     "name": "stderr",
     "output_type": "stream",
     "text": [
      " 13%|█▎        | 48/360 [02:27<17:24,  3.35s/it]"
     ]
    },
    {
     "name": "stdout",
     "output_type": "stream",
     "text": [
      "local Optima\n",
      "1\n",
      "y_mean 3005.6111111111113\n",
      "mean_mean 6036.7937218020015\n",
      "abs(round((mean_mean-y_mean)/y_mean)) 1.0\n",
      "local Optima\n",
      "1\n",
      "y_mean 3005.6111111111113\n",
      "mean_mean 6144.275280831449\n",
      "abs(round((mean_mean-y_mean)/y_mean)) 1.0\n",
      "local Optima\n",
      "1\n",
      "y_mean 3005.6111111111113\n",
      "mean_mean 6213.043184979098\n",
      "abs(round((mean_mean-y_mean)/y_mean)) 1.0\n",
      "local Optima\n",
      "1\n",
      "y_mean 3005.6111111111113\n",
      "mean_mean 5862.806944489746\n",
      "abs(round((mean_mean-y_mean)/y_mean)) 1.0\n",
      "local Optima\n",
      "1\n",
      "y_mean 3005.6111111111113\n",
      "mean_mean 6296.361706642094\n",
      "abs(round((mean_mean-y_mean)/y_mean)) 1.0\n"
     ]
    },
    {
     "name": "stderr",
     "output_type": "stream",
     "text": [
      " 17%|█▋        | 60/360 [03:09<14:33,  2.91s/it]"
     ]
    },
    {
     "name": "stdout",
     "output_type": "stream",
     "text": [
      "local Optima\n",
      "1\n",
      "y_mean 6838.722222222223\n",
      "mean_mean 165809.02480163355\n",
      "abs(round((mean_mean-y_mean)/y_mean)) 23.0\n",
      "local Optima\n",
      "1\n",
      "y_mean 6838.722222222223\n",
      "mean_mean 12264.596702526493\n",
      "abs(round((mean_mean-y_mean)/y_mean)) 1.0\n"
     ]
    },
    {
     "name": "stderr",
     "output_type": "stream",
     "text": [
      " 19%|█▉        | 68/360 [03:35<12:31,  2.57s/it]"
     ]
    },
    {
     "name": "stdout",
     "output_type": "stream",
     "text": [
      "local Optima\n",
      "1\n",
      "y_mean 984.1666666666666\n",
      "mean_mean 1548.338347959357\n",
      "abs(round((mean_mean-y_mean)/y_mean)) 1.0\n",
      "local Optima\n",
      "1\n",
      "y_mean 984.1666666666666\n",
      "mean_mean 1546.8086154020232\n",
      "abs(round((mean_mean-y_mean)/y_mean)) 1.0\n",
      "local Optima\n",
      "1\n",
      "y_mean 984.1666666666666\n",
      "mean_mean 1564.2397728641154\n",
      "abs(round((mean_mean-y_mean)/y_mean)) 1.0\n",
      "local Optima\n",
      "1\n",
      "y_mean 984.1666666666666\n",
      "mean_mean 1523.985575374414\n",
      "abs(round((mean_mean-y_mean)/y_mean)) 1.0\n"
     ]
    },
    {
     "name": "stderr",
     "output_type": "stream",
     "text": [
      " 30%|███       | 108/360 [05:45<12:50,  3.06s/it]"
     ]
    },
    {
     "name": "stdout",
     "output_type": "stream",
     "text": [
      "local Optima\n",
      "1\n",
      "y_mean 2023.611111111111\n",
      "mean_mean 784.7538880037041\n",
      "abs(round((mean_mean-y_mean)/y_mean)) 1.0\n",
      "local Optima\n",
      "1\n",
      "y_mean 2023.611111111111\n",
      "mean_mean 856.9417399336734\n",
      "abs(round((mean_mean-y_mean)/y_mean)) 1.0\n",
      "local Optima\n",
      "1\n",
      "y_mean 2023.611111111111\n",
      "mean_mean 770.5749839866965\n",
      "abs(round((mean_mean-y_mean)/y_mean)) 1.0\n",
      "local Optima\n",
      "1\n",
      "y_mean 2023.611111111111\n",
      "mean_mean 819.594175993326\n",
      "abs(round((mean_mean-y_mean)/y_mean)) 1.0\n"
     ]
    },
    {
     "name": "stderr",
     "output_type": "stream",
     "text": [
      " 32%|███▏      | 114/360 [06:15<16:58,  4.14s/it]"
     ]
    },
    {
     "name": "stdout",
     "output_type": "stream",
     "text": [
      "local Optima\n",
      "1\n",
      "y_mean 1301.111111111111\n",
      "mean_mean 2769.3030786314284\n",
      "abs(round((mean_mean-y_mean)/y_mean)) 1.0\n",
      "local Optima\n",
      "1\n",
      "y_mean 1301.111111111111\n",
      "mean_mean 2728.9512099339217\n",
      "abs(round((mean_mean-y_mean)/y_mean)) 1.0\n",
      "local Optima\n",
      "1\n",
      "y_mean 1301.111111111111\n",
      "mean_mean 2813.1017907139194\n",
      "abs(round((mean_mean-y_mean)/y_mean)) 1.0\n",
      "local Optima\n",
      "1\n",
      "y_mean 1301.111111111111\n",
      "mean_mean 2811.839507671789\n",
      "abs(round((mean_mean-y_mean)/y_mean)) 1.0\n",
      "local Optima\n",
      "1\n",
      "y_mean 1301.111111111111\n",
      "mean_mean 3083.454878151627\n",
      "abs(round((mean_mean-y_mean)/y_mean)) 1.0\n"
     ]
    },
    {
     "name": "stderr",
     "output_type": "stream",
     "text": [
      " 35%|███▍      | 125/360 [06:58<13:51,  3.54s/it]"
     ]
    },
    {
     "name": "stdout",
     "output_type": "stream",
     "text": [
      "Optimization fail.\n"
     ]
    },
    {
     "name": "stderr",
     "output_type": "stream",
     "text": [
      "\r",
      " 35%|███▌      | 126/360 [07:07<20:08,  5.16s/it]"
     ]
    },
    {
     "name": "stdout",
     "output_type": "stream",
     "text": [
      "local Optima\n",
      "1\n",
      "y_mean 704.3888888888889\n",
      "mean_mean 1069.359927338247\n",
      "abs(round((mean_mean-y_mean)/y_mean)) 1.0\n",
      "local Optima\n",
      "1\n",
      "y_mean 704.3888888888889\n",
      "mean_mean 1101.7133062930961\n",
      "abs(round((mean_mean-y_mean)/y_mean)) 1.0\n",
      "local Optima\n",
      "1\n",
      "y_mean 704.3888888888889\n",
      "mean_mean 1105.021461833647\n",
      "abs(round((mean_mean-y_mean)/y_mean)) 1.0\n",
      "local Optima\n",
      "1\n",
      "y_mean 704.3888888888889\n",
      "mean_mean 1079.3271676713462\n",
      "abs(round((mean_mean-y_mean)/y_mean)) 1.0\n",
      "local Optima\n",
      "1\n",
      "y_mean 704.3888888888889\n",
      "mean_mean 1072.2899475258412\n",
      "abs(round((mean_mean-y_mean)/y_mean)) 1.0\n"
     ]
    },
    {
     "name": "stderr",
     "output_type": "stream",
     "text": [
      " 37%|███▋      | 134/360 [07:37<12:40,  3.37s/it]"
     ]
    },
    {
     "name": "stdout",
     "output_type": "stream",
     "text": [
      "local Optima\n",
      "1\n",
      "y_mean 2000.6666666666667\n",
      "mean_mean 3136.211102031838\n",
      "abs(round((mean_mean-y_mean)/y_mean)) 1.0\n",
      "local Optima\n",
      "1\n",
      "y_mean 2000.6666666666667\n",
      "mean_mean 3139.890830957075\n",
      "abs(round((mean_mean-y_mean)/y_mean)) 1.0\n",
      "local Optima\n",
      "1\n",
      "y_mean 2000.6666666666667\n",
      "mean_mean 3102.9969430857627\n",
      "abs(round((mean_mean-y_mean)/y_mean)) 1.0\n",
      "local Optima\n",
      "1\n",
      "y_mean 2000.6666666666667\n",
      "mean_mean 3123.935472373294\n",
      "abs(round((mean_mean-y_mean)/y_mean)) 1.0\n"
     ]
    },
    {
     "name": "stderr",
     "output_type": "stream",
     "text": [
      " 38%|███▊      | 136/360 [07:53<19:28,  5.22s/it]"
     ]
    },
    {
     "name": "stdout",
     "output_type": "stream",
     "text": [
      "local Optima\n",
      "1\n",
      "y_mean 1940.111111111111\n",
      "mean_mean 444275.3025484441\n",
      "abs(round((mean_mean-y_mean)/y_mean)) 228.0\n"
     ]
    },
    {
     "name": "stderr",
     "output_type": "stream",
     "text": [
      " 38%|███▊      | 138/360 [08:01<17:31,  4.74s/it]"
     ]
    },
    {
     "name": "stdout",
     "output_type": "stream",
     "text": [
      "local Optima\n",
      "1\n",
      "y_mean 2609.1111111111113\n",
      "mean_mean 1125.5638164391253\n",
      "abs(round((mean_mean-y_mean)/y_mean)) 1.0\n",
      "local Optima\n",
      "1\n",
      "y_mean 2609.1111111111113\n",
      "mean_mean 1248.2150774302327\n",
      "abs(round((mean_mean-y_mean)/y_mean)) 1.0\n",
      "local Optima\n",
      "1\n",
      "y_mean 2609.1111111111113\n",
      "mean_mean 1070.725636987998\n",
      "abs(round((mean_mean-y_mean)/y_mean)) 1.0\n",
      "local Optima\n",
      "1\n",
      "y_mean 2609.1111111111113\n",
      "mean_mean 1103.0408363931142\n",
      "abs(round((mean_mean-y_mean)/y_mean)) 1.0\n",
      "local Optima\n",
      "1\n",
      "y_mean 2609.1111111111113\n",
      "mean_mean 1109.2907503248812\n",
      "abs(round((mean_mean-y_mean)/y_mean)) 1.0\n"
     ]
    },
    {
     "name": "stderr",
     "output_type": "stream",
     "text": [
      " 39%|███▉      | 140/360 [08:21<24:49,  6.77s/it]"
     ]
    },
    {
     "name": "stdout",
     "output_type": "stream",
     "text": [
      "local Optima\n",
      "1\n",
      "y_mean 1488.611111111111\n",
      "mean_mean 650.8179808513252\n",
      "abs(round((mean_mean-y_mean)/y_mean)) 1.0\n",
      "local Optima\n",
      "1\n",
      "y_mean 1488.611111111111\n",
      "mean_mean 705.2672826433799\n",
      "abs(round((mean_mean-y_mean)/y_mean)) 1.0\n",
      "local Optima\n",
      "1\n",
      "y_mean 1488.611111111111\n",
      "mean_mean 623.3142902275378\n",
      "abs(round((mean_mean-y_mean)/y_mean)) 1.0\n",
      "local Optima\n",
      "1\n",
      "y_mean 1488.611111111111\n",
      "mean_mean 653.6553549139518\n",
      "abs(round((mean_mean-y_mean)/y_mean)) 1.0\n",
      "local Optima\n",
      "1\n",
      "y_mean 1488.611111111111\n",
      "mean_mean 637.5223467766023\n",
      "abs(round((mean_mean-y_mean)/y_mean)) 1.0\n"
     ]
    },
    {
     "name": "stderr",
     "output_type": "stream",
     "text": [
      " 39%|███▉      | 142/360 [08:36<24:00,  6.61s/it]"
     ]
    },
    {
     "name": "stdout",
     "output_type": "stream",
     "text": [
      "local Optima\n",
      "1\n",
      "y_mean 1087.9444444444443\n",
      "mean_mean 465.3754463604774\n",
      "abs(round((mean_mean-y_mean)/y_mean)) 1.0\n",
      "local Optima\n",
      "1\n",
      "y_mean 1087.9444444444443\n",
      "mean_mean 456.1096950102143\n",
      "abs(round((mean_mean-y_mean)/y_mean)) 1.0\n",
      "local Optima\n",
      "1\n",
      "y_mean 1087.9444444444443\n",
      "mean_mean 458.64486794324637\n",
      "abs(round((mean_mean-y_mean)/y_mean)) 1.0\n",
      "local Optima\n",
      "1\n",
      "y_mean 1087.9444444444443\n",
      "mean_mean 456.12434335705626\n",
      "abs(round((mean_mean-y_mean)/y_mean)) 1.0\n",
      "local Optima\n",
      "1\n",
      "y_mean 1087.9444444444443\n",
      "mean_mean 457.10608919424675\n",
      "abs(round((mean_mean-y_mean)/y_mean)) 1.0\n"
     ]
    },
    {
     "name": "stderr",
     "output_type": "stream",
     "text": [
      " 41%|████      | 146/360 [08:57<17:11,  4.82s/it]"
     ]
    },
    {
     "name": "stdout",
     "output_type": "stream",
     "text": [
      "local Optima\n",
      "1\n",
      "y_mean 1426.6666666666667\n",
      "mean_mean 669.1397159289596\n",
      "abs(round((mean_mean-y_mean)/y_mean)) 1.0\n"
     ]
    },
    {
     "name": "stderr",
     "output_type": "stream",
     "text": [
      " 41%|████      | 148/360 [09:06<16:13,  4.59s/it]"
     ]
    },
    {
     "name": "stdout",
     "output_type": "stream",
     "text": [
      "local Optima\n",
      "1\n",
      "y_mean 2843.1111111111113\n",
      "mean_mean 1052.2338781713681\n",
      "abs(round((mean_mean-y_mean)/y_mean)) 1.0\n",
      "local Optima\n",
      "1\n",
      "y_mean 2843.1111111111113\n",
      "mean_mean 1100.0153564416323\n",
      "abs(round((mean_mean-y_mean)/y_mean)) 1.0\n",
      "local Optima\n",
      "1\n",
      "y_mean 2843.1111111111113\n",
      "mean_mean 1062.8315919887793\n",
      "abs(round((mean_mean-y_mean)/y_mean)) 1.0\n",
      "local Optima\n",
      "1\n",
      "y_mean 2843.1111111111113\n",
      "mean_mean 1075.7267827103394\n",
      "abs(round((mean_mean-y_mean)/y_mean)) 1.0\n",
      "local Optima\n",
      "1\n",
      "y_mean 2843.1111111111113\n",
      "mean_mean 1056.3766652404934\n",
      "abs(round((mean_mean-y_mean)/y_mean)) 1.0\n"
     ]
    },
    {
     "name": "stderr",
     "output_type": "stream",
     "text": [
      " 42%|████▏     | 150/360 [09:25<23:11,  6.63s/it]"
     ]
    },
    {
     "name": "stdout",
     "output_type": "stream",
     "text": [
      "local Optima\n",
      "1\n",
      "y_mean 2054.222222222222\n",
      "mean_mean 4007.654438789496\n",
      "abs(round((mean_mean-y_mean)/y_mean)) 1.0\n",
      "local Optima\n",
      "1\n",
      "y_mean 2054.222222222222\n",
      "mean_mean 4620.446810524377\n",
      "abs(round((mean_mean-y_mean)/y_mean)) 1.0\n",
      "local Optima\n",
      "1\n",
      "y_mean 2054.222222222222\n",
      "mean_mean 4012.383461816152\n",
      "abs(round((mean_mean-y_mean)/y_mean)) 1.0\n",
      "local Optima\n",
      "1\n",
      "y_mean 2054.222222222222\n",
      "mean_mean 3384.240340753369\n",
      "abs(round((mean_mean-y_mean)/y_mean)) 1.0\n"
     ]
    },
    {
     "name": "stderr",
     "output_type": "stream",
     "text": [
      " 48%|████▊     | 174/360 [10:47<11:08,  3.59s/it]"
     ]
    },
    {
     "name": "stdout",
     "output_type": "stream",
     "text": [
      "local Optima\n",
      "1\n",
      "y_mean 3978.6666666666665\n",
      "mean_mean 1721.7971019125616\n",
      "abs(round((mean_mean-y_mean)/y_mean)) 1.0\n",
      "local Optima\n",
      "1\n",
      "y_mean 3978.6666666666665\n",
      "mean_mean 1780.648013988359\n",
      "abs(round((mean_mean-y_mean)/y_mean)) 1.0\n",
      "local Optima\n",
      "1\n",
      "y_mean 3978.6666666666665\n",
      "mean_mean 1608.9872255045268\n",
      "abs(round((mean_mean-y_mean)/y_mean)) 1.0\n",
      "local Optima\n",
      "1\n",
      "y_mean 3978.6666666666665\n",
      "mean_mean 1682.949296140669\n",
      "abs(round((mean_mean-y_mean)/y_mean)) 1.0\n",
      "local Optima\n",
      "1\n",
      "y_mean 3978.6666666666665\n",
      "mean_mean 1573.9833838308532\n",
      "abs(round((mean_mean-y_mean)/y_mean)) 1.0\n"
     ]
    },
    {
     "name": "stderr",
     "output_type": "stream",
     "text": [
      " 52%|█████▏    | 188/360 [11:43<08:40,  3.02s/it]"
     ]
    },
    {
     "name": "stdout",
     "output_type": "stream",
     "text": [
      "local Optima\n",
      "1\n",
      "y_mean 1981.2222222222222\n",
      "mean_mean 921.8292747190267\n",
      "abs(round((mean_mean-y_mean)/y_mean)) 1.0\n"
     ]
    },
    {
     "name": "stderr",
     "output_type": "stream",
     "text": [
      " 57%|█████▋    | 206/360 [12:45<08:28,  3.30s/it]"
     ]
    },
    {
     "name": "stdout",
     "output_type": "stream",
     "text": [
      "local Optima\n",
      "1\n",
      "y_mean 3032.3333333333335\n",
      "mean_mean 1262.5212829348677\n",
      "abs(round((mean_mean-y_mean)/y_mean)) 1.0\n",
      "local Optima\n",
      "1\n",
      "y_mean 3032.3333333333335\n",
      "mean_mean 1280.3221449230566\n",
      "abs(round((mean_mean-y_mean)/y_mean)) 1.0\n",
      "local Optima\n",
      "1\n",
      "y_mean 3032.3333333333335\n",
      "mean_mean 1307.521603079709\n",
      "abs(round((mean_mean-y_mean)/y_mean)) 1.0\n",
      "local Optima\n",
      "1\n",
      "y_mean 3032.3333333333335\n",
      "mean_mean 1344.6537181366389\n",
      "abs(round((mean_mean-y_mean)/y_mean)) 1.0\n",
      "local Optima\n",
      "1\n",
      "y_mean 3032.3333333333335\n",
      "mean_mean 1266.022495738429\n",
      "abs(round((mean_mean-y_mean)/y_mean)) 1.0\n"
     ]
    },
    {
     "name": "stderr",
     "output_type": "stream",
     "text": [
      " 58%|█████▊    | 209/360 [13:08<13:25,  5.33s/it]"
     ]
    },
    {
     "name": "stdout",
     "output_type": "stream",
     "text": [
      "Optimization fail.\n"
     ]
    },
    {
     "name": "stderr",
     "output_type": "stream",
     "text": [
      "\r",
      " 58%|█████▊    | 210/360 [13:16<14:59,  6.00s/it]"
     ]
    },
    {
     "name": "stdout",
     "output_type": "stream",
     "text": [
      "local Optima\n",
      "1\n",
      "y_mean 630.2777777777778\n",
      "mean_mean 258.7868560486101\n",
      "abs(round((mean_mean-y_mean)/y_mean)) 1.0\n",
      "local Optima\n",
      "1\n",
      "y_mean 630.2777777777778\n",
      "mean_mean 240.5413550964799\n",
      "abs(round((mean_mean-y_mean)/y_mean)) 1.0\n",
      "local Optima\n",
      "1\n",
      "y_mean 630.2777777777778\n",
      "mean_mean 241.07561492898483\n",
      "abs(round((mean_mean-y_mean)/y_mean)) 1.0\n",
      "local Optima\n",
      "1\n",
      "y_mean 630.2777777777778\n",
      "mean_mean 239.46726783290134\n",
      "abs(round((mean_mean-y_mean)/y_mean)) 1.0\n",
      "local Optima\n",
      "1\n",
      "y_mean 630.2777777777778\n",
      "mean_mean 246.70018699403283\n",
      "abs(round((mean_mean-y_mean)/y_mean)) 1.0\n"
     ]
    },
    {
     "name": "stderr",
     "output_type": "stream",
     "text": [
      " 60%|██████    | 216/360 [13:43<08:27,  3.53s/it]"
     ]
    },
    {
     "name": "stdout",
     "output_type": "stream",
     "text": [
      "local Optima\n",
      "1\n",
      "y_mean 6569.0\n",
      "mean_mean 10806.0328270823\n",
      "abs(round((mean_mean-y_mean)/y_mean)) 1.0\n",
      "local Optima\n",
      "1\n",
      "y_mean 6569.0\n",
      "mean_mean 10602.79048288913\n",
      "abs(round((mean_mean-y_mean)/y_mean)) 1.0\n",
      "local Optima\n",
      "1\n",
      "y_mean 6569.0\n",
      "mean_mean 10131.596518336657\n",
      "abs(round((mean_mean-y_mean)/y_mean)) 1.0\n",
      "local Optima\n",
      "1\n",
      "y_mean 6569.0\n",
      "mean_mean 10158.778502655947\n",
      "abs(round((mean_mean-y_mean)/y_mean)) 1.0\n",
      "local Optima\n",
      "1\n",
      "y_mean 6569.0\n",
      "mean_mean 10132.1383677606\n",
      "abs(round((mean_mean-y_mean)/y_mean)) 1.0\n"
     ]
    },
    {
     "name": "stderr",
     "output_type": "stream",
     "text": [
      "\r",
      " 60%|██████    | 217/360 [13:54<13:37,  5.72s/it]"
     ]
    },
    {
     "name": "stdout",
     "output_type": "stream",
     "text": [
      "local Optima\n",
      "1\n",
      "y_mean 19462.055555555555\n",
      "mean_mean 586.0123880693488\n",
      "abs(round((mean_mean-y_mean)/y_mean)) 1.0\n"
     ]
    },
    {
     "name": "stderr",
     "output_type": "stream",
     "text": [
      " 61%|██████    | 219/360 [14:01<10:55,  4.65s/it]"
     ]
    },
    {
     "name": "stdout",
     "output_type": "stream",
     "text": [
      "local Optima\n",
      "1\n",
      "y_mean 13194.777777777777\n",
      "mean_mean 860.3134712329032\n",
      "abs(round((mean_mean-y_mean)/y_mean)) 1.0\n"
     ]
    },
    {
     "name": "stderr",
     "output_type": "stream",
     "text": [
      " 63%|██████▎   | 227/360 [14:25<06:47,  3.07s/it]"
     ]
    },
    {
     "name": "stdout",
     "output_type": "stream",
     "text": [
      "Optimization fail.\n"
     ]
    },
    {
     "name": "stderr",
     "output_type": "stream",
     "text": [
      " 67%|██████▋   | 240/360 [15:14<07:17,  3.64s/it]"
     ]
    },
    {
     "name": "stdout",
     "output_type": "stream",
     "text": [
      "local Optima\n",
      "1\n",
      "y_mean 2649.222222222222\n",
      "mean_mean 1090.8447216414074\n",
      "abs(round((mean_mean-y_mean)/y_mean)) 1.0\n",
      "local Optima\n",
      "1\n",
      "y_mean 2649.222222222222\n",
      "mean_mean 1145.4014711831703\n",
      "abs(round((mean_mean-y_mean)/y_mean)) 1.0\n",
      "local Optima\n",
      "1\n",
      "y_mean 2649.222222222222\n",
      "mean_mean 952.0243279165072\n",
      "abs(round((mean_mean-y_mean)/y_mean)) 1.0\n",
      "local Optima\n",
      "1\n",
      "y_mean 2649.222222222222\n",
      "mean_mean 1187.9387374488733\n",
      "abs(round((mean_mean-y_mean)/y_mean)) 1.0\n"
     ]
    },
    {
     "name": "stderr",
     "output_type": "stream",
     "text": [
      "\r",
      " 67%|██████▋   | 241/360 [15:25<11:16,  5.69s/it]"
     ]
    },
    {
     "name": "stdout",
     "output_type": "stream",
     "text": [
      "Optimization fail.\n"
     ]
    },
    {
     "name": "stderr",
     "output_type": "stream",
     "text": [
      " 70%|███████   | 252/360 [16:00<05:52,  3.26s/it]"
     ]
    },
    {
     "name": "stdout",
     "output_type": "stream",
     "text": [
      "Optimization fail.\n"
     ]
    },
    {
     "name": "stderr",
     "output_type": "stream",
     "text": [
      " 71%|███████   | 254/360 [16:10<06:36,  3.74s/it]"
     ]
    },
    {
     "name": "stdout",
     "output_type": "stream",
     "text": [
      "Optimization fail.\n",
      "Optimization fail.\n",
      "Optimization fail.\n",
      "local Optima\n",
      "1\n",
      "y_mean 5692.222222222223\n",
      "mean_mean 2057.710219917413\n",
      "abs(round((mean_mean-y_mean)/y_mean)) 1.0\n",
      "Optimization fail.\n"
     ]
    },
    {
     "name": "stderr",
     "output_type": "stream",
     "text": [
      " 73%|███████▎  | 264/360 [17:01<05:35,  3.50s/it]"
     ]
    },
    {
     "name": "stdout",
     "output_type": "stream",
     "text": [
      "local Optima\n",
      "1\n",
      "y_mean 3128.6111111111113\n",
      "mean_mean 8536.031848396447\n",
      "abs(round((mean_mean-y_mean)/y_mean)) 2.0\n",
      "local Optima\n",
      "1\n",
      "y_mean 3128.6111111111113\n",
      "mean_mean 9061.933172130732\n",
      "abs(round((mean_mean-y_mean)/y_mean)) 2.0\n",
      "local Optima\n",
      "1\n",
      "y_mean 3128.6111111111113\n",
      "mean_mean 7688.161082944196\n",
      "abs(round((mean_mean-y_mean)/y_mean)) 1.0\n",
      "local Optima\n",
      "1\n",
      "y_mean 3128.6111111111113\n",
      "mean_mean 7541.244502023195\n",
      "abs(round((mean_mean-y_mean)/y_mean)) 1.0\n",
      "local Optima\n",
      "1\n",
      "y_mean 3128.6111111111113\n",
      "mean_mean 7254.130380644576\n",
      "abs(round((mean_mean-y_mean)/y_mean)) 1.0\n"
     ]
    },
    {
     "name": "stderr",
     "output_type": "stream",
     "text": [
      " 74%|███████▍  | 266/360 [17:15<07:50,  5.00s/it]"
     ]
    },
    {
     "name": "stdout",
     "output_type": "stream",
     "text": [
      "local Optima\n",
      "1\n",
      "y_mean 3480.8333333333335\n",
      "mean_mean 5977.351316174701\n",
      "abs(round((mean_mean-y_mean)/y_mean)) 1.0\n",
      "local Optima\n",
      "1\n",
      "y_mean 3480.8333333333335\n",
      "mean_mean 6138.994880557667\n",
      "abs(round((mean_mean-y_mean)/y_mean)) 1.0\n",
      "local Optima\n",
      "1\n",
      "y_mean 3480.8333333333335\n",
      "mean_mean 5725.866702694263\n",
      "abs(round((mean_mean-y_mean)/y_mean)) 1.0\n",
      "local Optima\n",
      "1\n",
      "y_mean 3480.8333333333335\n",
      "mean_mean 5733.450155202638\n",
      "abs(round((mean_mean-y_mean)/y_mean)) 1.0\n",
      "local Optima\n",
      "1\n",
      "y_mean 3480.8333333333335\n",
      "mean_mean 5635.903908261268\n",
      "abs(round((mean_mean-y_mean)/y_mean)) 1.0\n"
     ]
    },
    {
     "name": "stderr",
     "output_type": "stream",
     "text": [
      " 75%|███████▌  | 270/360 [17:36<06:29,  4.33s/it]"
     ]
    },
    {
     "name": "stdout",
     "output_type": "stream",
     "text": [
      "local Optima\n",
      "1\n",
      "y_mean 1360.111111111111\n",
      "mean_mean 4131.612943361818\n",
      "abs(round((mean_mean-y_mean)/y_mean)) 2.0\n"
     ]
    },
    {
     "name": "stderr",
     "output_type": "stream",
     "text": [
      " 78%|███████▊  | 282/360 [18:14<04:14,  3.26s/it]"
     ]
    },
    {
     "name": "stdout",
     "output_type": "stream",
     "text": [
      "local Optima\n",
      "1\n",
      "y_mean 1686.0\n",
      "mean_mean 2757.898024695824\n",
      "abs(round((mean_mean-y_mean)/y_mean)) 1.0\n",
      "local Optima\n",
      "1\n",
      "y_mean 1686.0\n",
      "mean_mean 2858.2512141359434\n",
      "abs(round((mean_mean-y_mean)/y_mean)) 1.0\n",
      "local Optima\n",
      "1\n",
      "y_mean 1686.0\n",
      "mean_mean 2718.0541189286614\n",
      "abs(round((mean_mean-y_mean)/y_mean)) 1.0\n",
      "local Optima\n",
      "1\n",
      "y_mean 1686.0\n",
      "mean_mean 2727.7925882463314\n",
      "abs(round((mean_mean-y_mean)/y_mean)) 1.0\n",
      "local Optima\n",
      "1\n",
      "y_mean 1686.0\n",
      "mean_mean 2582.023679178978\n",
      "abs(round((mean_mean-y_mean)/y_mean)) 1.0\n"
     ]
    },
    {
     "name": "stderr",
     "output_type": "stream",
     "text": [
      " 80%|████████  | 288/360 [18:40<04:31,  3.77s/it]"
     ]
    },
    {
     "name": "stdout",
     "output_type": "stream",
     "text": [
      "local Optima\n",
      "1\n",
      "y_mean 764.8333333333334\n",
      "mean_mean 287.0523300661251\n",
      "abs(round((mean_mean-y_mean)/y_mean)) 1.0\n",
      "local Optima\n",
      "1\n",
      "y_mean 764.8333333333334\n",
      "mean_mean 294.8332655095582\n",
      "abs(round((mean_mean-y_mean)/y_mean)) 1.0\n",
      "local Optima\n",
      "1\n",
      "y_mean 764.8333333333334\n",
      "mean_mean 302.52150708938564\n",
      "abs(round((mean_mean-y_mean)/y_mean)) 1.0\n",
      "local Optima\n",
      "1\n",
      "y_mean 764.8333333333334\n",
      "mean_mean 315.6630065246056\n",
      "abs(round((mean_mean-y_mean)/y_mean)) 1.0\n",
      "local Optima\n",
      "1\n",
      "y_mean 764.8333333333334\n",
      "mean_mean 305.37338827480795\n",
      "abs(round((mean_mean-y_mean)/y_mean)) 1.0\n"
     ]
    },
    {
     "name": "stderr",
     "output_type": "stream",
     "text": [
      " 82%|████████▏ | 294/360 [19:10<04:40,  4.25s/it]"
     ]
    },
    {
     "name": "stdout",
     "output_type": "stream",
     "text": [
      "local Optima\n",
      "1\n",
      "y_mean 2112.3333333333335\n",
      "mean_mean 574.8653992961802\n",
      "abs(round((mean_mean-y_mean)/y_mean)) 1.0\n",
      "local Optima\n",
      "1\n",
      "y_mean 2112.3333333333335\n",
      "mean_mean 760.8646106827822\n",
      "abs(round((mean_mean-y_mean)/y_mean)) 1.0\n",
      "local Optima\n",
      "1\n",
      "y_mean 2112.3333333333335\n",
      "mean_mean 677.3850932310862\n",
      "abs(round((mean_mean-y_mean)/y_mean)) 1.0\n",
      "local Optima\n",
      "1\n",
      "y_mean 2112.3333333333335\n",
      "mean_mean 577.4255427048905\n",
      "abs(round((mean_mean-y_mean)/y_mean)) 1.0\n",
      "local Optima\n",
      "1\n",
      "y_mean 2112.3333333333335\n",
      "mean_mean 586.1194229418877\n",
      "abs(round((mean_mean-y_mean)/y_mean)) 1.0\n"
     ]
    },
    {
     "name": "stderr",
     "output_type": "stream",
     "text": [
      " 83%|████████▎ | 300/360 [19:45<04:29,  4.49s/it]"
     ]
    },
    {
     "name": "stdout",
     "output_type": "stream",
     "text": [
      "local Optima\n",
      "1\n",
      "y_mean 1712.9444444444443\n",
      "mean_mean 4747.088088673671\n",
      "abs(round((mean_mean-y_mean)/y_mean)) 2.0\n",
      "local Optima\n",
      "1\n",
      "y_mean 1712.9444444444443\n",
      "mean_mean 5531.184275472481\n",
      "abs(round((mean_mean-y_mean)/y_mean)) 2.0\n",
      "local Optima\n",
      "1\n",
      "y_mean 1712.9444444444443\n",
      "mean_mean 5011.358841921387\n",
      "abs(round((mean_mean-y_mean)/y_mean)) 2.0\n",
      "local Optima\n",
      "1\n",
      "y_mean 1712.9444444444443\n",
      "mean_mean 4732.1208733401845\n",
      "abs(round((mean_mean-y_mean)/y_mean)) 2.0\n",
      "local Optima\n",
      "1\n",
      "y_mean 1712.9444444444443\n",
      "mean_mean 5001.155814234406\n",
      "abs(round((mean_mean-y_mean)/y_mean)) 2.0\n"
     ]
    },
    {
     "name": "stderr",
     "output_type": "stream",
     "text": [
      " 88%|████████▊ | 318/360 [20:53<02:24,  3.44s/it]"
     ]
    },
    {
     "name": "stdout",
     "output_type": "stream",
     "text": [
      "Optimization fail.\n",
      "local Optima\n",
      "1\n",
      "y_mean 4327.777777777777\n",
      "mean_mean 2042.009717629335\n",
      "abs(round((mean_mean-y_mean)/y_mean)) 1.0\n",
      "local Optima\n",
      "1\n",
      "y_mean 4327.777777777777\n",
      "mean_mean 1986.4393981993717\n",
      "abs(round((mean_mean-y_mean)/y_mean)) 1.0\n",
      "local Optima\n",
      "1\n",
      "y_mean 4327.777777777777\n",
      "mean_mean 1782.7252898827044\n",
      "abs(round((mean_mean-y_mean)/y_mean)) 1.0\n",
      "local Optima\n",
      "1\n",
      "y_mean 4327.777777777777\n",
      "mean_mean 1726.6183815558531\n",
      "abs(round((mean_mean-y_mean)/y_mean)) 1.0\n"
     ]
    },
    {
     "name": "stderr",
     "output_type": "stream",
     "text": [
      "\r",
      " 89%|████████▊ | 319/360 [21:12<05:25,  7.93s/it]"
     ]
    },
    {
     "name": "stdout",
     "output_type": "stream",
     "text": [
      "Optimization fail.\n",
      "Optimization fail.\n",
      "Optimization fail.\n",
      "Optimization fail.\n",
      "Optimization fail.\n"
     ]
    },
    {
     "name": "stderr",
     "output_type": "stream",
     "text": [
      "\r",
      " 89%|████████▉ | 320/360 [21:34<08:03, 12.08s/it]"
     ]
    },
    {
     "name": "stdout",
     "output_type": "stream",
     "text": [
      "local Optima\n",
      "1\n",
      "y_mean 3805.0555555555557\n",
      "mean_mean 1722.3700458519409\n",
      "abs(round((mean_mean-y_mean)/y_mean)) 1.0\n",
      "local Optima\n",
      "1\n",
      "y_mean 3805.0555555555557\n",
      "mean_mean 1820.5992087797492\n",
      "abs(round((mean_mean-y_mean)/y_mean)) 1.0\n",
      "local Optima\n",
      "1\n",
      "y_mean 3805.0555555555557\n",
      "mean_mean 1640.3519136083626\n",
      "abs(round((mean_mean-y_mean)/y_mean)) 1.0\n",
      "local Optima\n",
      "1\n",
      "y_mean 3805.0555555555557\n",
      "mean_mean 1602.5420411934592\n",
      "abs(round((mean_mean-y_mean)/y_mean)) 1.0\n",
      "local Optima\n",
      "1\n",
      "y_mean 3805.0555555555557\n",
      "mean_mean 1753.134700674737\n",
      "abs(round((mean_mean-y_mean)/y_mean)) 1.0\n"
     ]
    },
    {
     "name": "stderr",
     "output_type": "stream",
     "text": [
      "\r",
      " 89%|████████▉ | 321/360 [21:53<09:22, 14.41s/it]"
     ]
    },
    {
     "name": "stdout",
     "output_type": "stream",
     "text": [
      "Optimization fail.\n"
     ]
    },
    {
     "name": "stderr",
     "output_type": "stream",
     "text": [
      " 92%|█████████▏| 330/360 [22:28<01:56,  3.89s/it]"
     ]
    },
    {
     "name": "stdout",
     "output_type": "stream",
     "text": [
      "Optimization fail.\n",
      "local Optima\n",
      "1\n",
      "y_mean 4511.666666666667\n",
      "mean_mean 1337.565344406799\n",
      "abs(round((mean_mean-y_mean)/y_mean)) 1.0\n",
      "Optimization fail.\n",
      "Optimization fail.\n",
      "local Optima\n",
      "1\n",
      "y_mean 4511.666666666667\n",
      "mean_mean 1286.64246896803\n",
      "abs(round((mean_mean-y_mean)/y_mean)) 1.0\n"
     ]
    },
    {
     "name": "stderr",
     "output_type": "stream",
     "text": [
      "\r",
      " 92%|█████████▏| 331/360 [22:51<04:38,  9.61s/it]"
     ]
    },
    {
     "name": "stdout",
     "output_type": "stream",
     "text": [
      "Optimization fail.\n",
      "Optimization fail.\n"
     ]
    },
    {
     "name": "stderr",
     "output_type": "stream",
     "text": [
      " 95%|█████████▌| 342/360 [23:34<01:01,  3.41s/it]"
     ]
    },
    {
     "name": "stdout",
     "output_type": "stream",
     "text": [
      "local Optima\n",
      "1\n",
      "y_mean 5231.388888888889\n",
      "mean_mean 1959.1411716141506\n",
      "abs(round((mean_mean-y_mean)/y_mean)) 1.0\n",
      "local Optima\n",
      "1\n",
      "y_mean 5231.388888888889\n",
      "mean_mean 1568.3094816881567\n",
      "abs(round((mean_mean-y_mean)/y_mean)) 1.0\n",
      "local Optima\n",
      "1\n",
      "y_mean 5231.388888888889\n",
      "mean_mean 1495.8955023048154\n",
      "abs(round((mean_mean-y_mean)/y_mean)) 1.0\n",
      "Optimization fail.\n",
      "local Optima\n",
      "1\n",
      "y_mean 5231.388888888889\n",
      "mean_mean 1626.7157284179734\n",
      "abs(round((mean_mean-y_mean)/y_mean)) 1.0\n"
     ]
    },
    {
     "name": "stderr",
     "output_type": "stream",
     "text": [
      "\r",
      " 95%|█████████▌| 343/360 [23:55<02:25,  8.59s/it]"
     ]
    },
    {
     "name": "stdout",
     "output_type": "stream",
     "text": [
      "Optimization fail.\n"
     ]
    },
    {
     "name": "stderr",
     "output_type": "stream",
     "text": [
      " 97%|█████████▋| 350/360 [24:20<00:35,  3.55s/it]"
     ]
    },
    {
     "name": "stdout",
     "output_type": "stream",
     "text": [
      "local Optima\n",
      "1\n",
      "y_mean 4672.5\n",
      "mean_mean 8030.526959671523\n",
      "abs(round((mean_mean-y_mean)/y_mean)) 1.0\n",
      "local Optima\n",
      "1\n",
      "y_mean 4672.5\n",
      "mean_mean 8398.704552400817\n",
      "abs(round((mean_mean-y_mean)/y_mean)) 1.0\n",
      "local Optima\n",
      "1\n",
      "y_mean 4672.5\n",
      "mean_mean 7588.949204787977\n",
      "abs(round((mean_mean-y_mean)/y_mean)) 1.0\n",
      "local Optima\n",
      "1\n",
      "y_mean 4672.5\n",
      "mean_mean 7492.244915724887\n",
      "abs(round((mean_mean-y_mean)/y_mean)) 1.0\n",
      "local Optima\n",
      "1\n",
      "y_mean 4672.5\n",
      "mean_mean 7335.534844424724\n",
      "abs(round((mean_mean-y_mean)/y_mean)) 1.0\n"
     ]
    },
    {
     "name": "stderr",
     "output_type": "stream",
     "text": [
      " 98%|█████████▊| 352/360 [24:36<00:41,  5.14s/it]"
     ]
    },
    {
     "name": "stdout",
     "output_type": "stream",
     "text": [
      "local Optima\n",
      "1\n",
      "y_mean 4010.9444444444443\n",
      "mean_mean 6261.403630820191\n",
      "abs(round((mean_mean-y_mean)/y_mean)) 1.0\n",
      "local Optima\n",
      "1\n",
      "y_mean 4010.9444444444443\n",
      "mean_mean 6464.010087191265\n",
      "abs(round((mean_mean-y_mean)/y_mean)) 1.0\n",
      "local Optima\n",
      "1\n",
      "y_mean 4010.9444444444443\n",
      "mean_mean 6296.576872964022\n",
      "abs(round((mean_mean-y_mean)/y_mean)) 1.0\n"
     ]
    },
    {
     "name": "stderr",
     "output_type": "stream",
     "text": [
      "\r",
      " 98%|█████████▊| 353/360 [24:47<00:48,  6.87s/it]"
     ]
    },
    {
     "name": "stdout",
     "output_type": "stream",
     "text": [
      "local Optima\n",
      "1\n",
      "y_mean 15367.888888888889\n",
      "mean_mean 3882.7754467710092\n",
      "abs(round((mean_mean-y_mean)/y_mean)) 1.0\n"
     ]
    },
    {
     "name": "stderr",
     "output_type": "stream",
     "text": [
      "\r",
      " 98%|█████████▊| 354/360 [24:50<00:35,  5.95s/it]"
     ]
    },
    {
     "name": "stdout",
     "output_type": "stream",
     "text": [
      "Optimization fail.\n",
      "Optimization fail.\n",
      "Optimization fail.\n",
      "Optimization fail.\n",
      "local Optima\n",
      "1\n",
      "y_mean 7347.611111111111\n",
      "mean_mean 1838.0997866158016\n",
      "abs(round((mean_mean-y_mean)/y_mean)) 1.0\n"
     ]
    },
    {
     "name": "stderr",
     "output_type": "stream",
     "text": [
      "100%|██████████| 360/360 [25:29<00:00,  4.25s/it]\n"
     ]
    }
   ],
   "source": [
    "files = ['low_counts_low_dispersion_non_differentially_expressed_genes_DE_non_DE_genes.csv'\n",
    "         ,'low_counts_high_dispersion_non_differentially_expressed_genes_DE_non_DE_genes.csv'                                      \n",
    "         ,'high_counts_low_dispersion_non_differentially_expressed_genes_DE_non_DE_genes.csv'\n",
    "         ,'high_counts_high_dispersion_non_differentially_expressed_genes_DE_non_DE_genes.csv']\n",
    "\n",
    "X = pd.read_csv('time_points.csv',index_col=[0])\n",
    "\n",
    "for file in files:\n",
    "    print(file)\n",
    "    Y = pd.read_csv(file,index_col=[0])\n",
    "    gp_counts = Fit_GPcounts(X,Y) \n",
    "    likelihoods = ['Negative_binomial','Gaussian','Poisson'] \n",
    "    for likelihood in likelihoods:\n",
    "        log_likelihood_ratio,variance_ratio = gp_counts.One_sample_test(likelihood)\n",
    "        log_likelihood_ratio.to_csv(\"ll_ratio_\"+likelihood+\"_\"+file)\n",
    "        variance_ratio.to_csv(\"variance_ratio_\"+likelihood+\"_\"+file)"
   ]
  },
  {
   "cell_type": "code",
   "execution_count": null,
   "metadata": {},
   "outputs": [],
   "source": []
  }
 ],
 "metadata": {
  "kernelspec": {
   "display_name": "Python [conda env:myenv2] *",
   "language": "python",
   "name": "conda-env-myenv2-py"
  },
  "language_info": {
   "codemirror_mode": {
    "name": "ipython",
    "version": 3
   },
   "file_extension": ".py",
   "mimetype": "text/x-python",
   "name": "python",
   "nbconvert_exporter": "python",
   "pygments_lexer": "ipython3",
   "version": "3.7.6"
  }
 },
 "nbformat": 4,
 "nbformat_minor": 2
}
