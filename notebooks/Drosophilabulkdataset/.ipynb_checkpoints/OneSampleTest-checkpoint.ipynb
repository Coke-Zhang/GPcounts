{
 "cells": [
  {
   "cell_type": "markdown",
   "metadata": {},
   "source": [
    "# GPcounts on bulk dataset"
   ]
  },
  {
   "cell_type": "markdown",
   "metadata": {},
   "source": [
    "Nuha BinTayyash, 2020\n",
    "\n",
    "This notebook shows how to run [DESeq2](https://bioconductor.org/packages/release/bioc/html/DESeq2.html) R package to normalize [fission yeast](https://bioconductor.org/packages/release/data/experiment/html/fission.html) gene expression data. Then, compare GPcounts with negative binomial likelihood and Gaussian likelihood to find differentially expressed genes in one sample test and two-sample tests."
   ]
  },
  {
   "cell_type": "code",
   "execution_count": null,
   "metadata": {},
   "outputs": [],
   "source": [
    "import numpy as np\n",
    "import pandas as pd\n",
    "import gpflow"
   ]
  },
  {
   "cell_type": "code",
   "execution_count": null,
   "metadata": {},
   "outputs": [],
   "source": [
    "Y = pd.read_csv('exons_counts.csv',index_col=[0])\n",
    "X = pd.read_csv('time_points.csv',index_col=[0])\n",
    "#X = (X - X.min(axis=0)) / (X.max(axis=0) - X.min(axis=0)) \n",
    "X"
   ]
  },
  {
   "cell_type": "markdown",
   "metadata": {},
   "source": [
    "Fit some fission gene normalized data using GPcounts -- Two samples test"
   ]
  },
  {
   "cell_type": "code",
   "execution_count": null,
   "metadata": {},
   "outputs": [],
   "source": [
    "from matplotlib import pyplot as plt\n",
    "import statsmodels.api as sm\n",
    "\n",
    "def plot():\n",
    "    plt.tick_params(labelsize='large', width=2)     \n",
    "    #plt.ylabel('Gene Expression', fontsize=16)\n",
    "    #plt.xlabel('Times', fontsize=16)\n",
    "    c = 'royalblue'\n",
    "    \n",
    "    if model_index == 3:\n",
    "        c = 'green'\n",
    "    \n",
    "    plt.plot(xtest, mean,color= c, lw=2) \n",
    "    \n",
    "    if likelihood == 'Gaussian':\n",
    "        plt.fill_between(xtest[:,0],\n",
    "                            mean[:,0] - 1*np.sqrt(var[:,0]),\n",
    "                            mean[:,0] + 1*np.sqrt(var[:,0]),color=c,alpha=0.2) # one standard deviation\n",
    "        plt.fill_between(xtest[:,0],\n",
    "                            mean[:,0] - 2*np.sqrt(var[:,0]),\n",
    "                            mean[:,0] + 2*np.sqrt(var[:,0]),color=c, alpha=0.1)# two standard deviation\n",
    "    else:\n",
    "       \n",
    "        lowess = sm.nonparametric.lowess    \n",
    "        # one standard deviation 68%\n",
    "        percentile_16 = lowess(np.percentile(var, 16, axis=0),xtest[:,0],frac=1./5, return_sorted=False)\n",
    "        percentile_16 = [(i > 0) * i for i in percentile_16]\n",
    "        percentile_84 = lowess(np.percentile(var, 84, axis=0),xtest[:,0],frac=1./5, return_sorted=False)\n",
    "        percentile_84 = [(i > 0) * i for i in percentile_84]\n",
    "        plt.fill_between(xtest[:,0],percentile_16,percentile_84,color=c,alpha=0.2)\n",
    "        \n",
    "        # two standard deviation 95%\n",
    "        percentile_5 = lowess(np.percentile(var, 5, axis=0),xtest[:,0],frac=1./5, return_sorted=False)\n",
    "        percentile_5 = [(i > 0) * i for i in percentile_5]\n",
    "        percentile_95 = lowess(np.percentile(var,95, axis=0),xtest[:,0],frac=1./5, return_sorted=False)\n",
    "        percentile_95 = [(i > 0) * i for i in percentile_95]\n",
    "        plt.fill_between(xtest[:,0],percentile_5,percentile_95,color=c,alpha=0.1)\n",
    "    \n",
    "    if test == 'Two_samples_test' and model_index == 1:\n",
    "        plt.scatter(model.data[0][0:int(model.data[0].shape[0]/2)],model.data[1][0:int(model.data[0].shape[0]/2)], s=30, marker='o', color= 'royalblue',alpha=1.) #data    \n",
    "        plt.scatter(model.data[0][int(model.data[0].shape[0]/2)::],model.data[1][int(model.data[0].shape[0]/2)::], s=30, marker='o', color= 'green',alpha=1.) #data\n",
    "\n",
    "    else: \n",
    "        plt.scatter(model.data[0],model.data[1],s=30,marker = 'o',color=c,alpha=1.)\n",
    "    \n",
    "    \n",
    "    if not(test == 'Two_samples_test' and model_index == 2):\n",
    "        plt.show()\n",
    "    "
   ]
  },
  {
   "cell_type": "code",
   "execution_count": null,
   "metadata": {},
   "outputs": [],
   "source": [
    "genes_name = [\n",
    " 'FBgn0028670']\n",
    " "
   ]
  },
  {
   "cell_type": "code",
   "execution_count": null,
   "metadata": {},
   "outputs": [],
   "source": [
    "from GPcounts.GPcounts_Module import Fit_GPcounts\n",
    "likelihood = 'Negative_binomial' \n",
    "gp_counts = Fit_GPcounts(X,Y.loc[genes_name])\n",
    "log_likelihood_ratio,variances_ratio = gp_counts.One_sample_test(likelihood)\n",
    "log_likelihood_ratio"
   ]
  },
  {
   "cell_type": "code",
   "execution_count": null,
   "metadata": {},
   "outputs": [],
   "source": [
    "variances_ratio"
   ]
  },
  {
   "cell_type": "code",
   "execution_count": null,
   "metadata": {
    "scrolled": false
   },
   "outputs": [],
   "source": [
    "indexes = genes_name # list of genes to be plotted \n",
    "test = 'One_sample_test' # name of the test\n",
    "xtest = np.linspace(np.min(X.values)-.1,np.max(X.values)+.1,100)[:,None] # points to make prediction\n",
    "likelihood = 'Negative_binomial'\n",
    "params = gp_counts.load_models(indexes,test,xtest,likelihood)\n",
    "\n",
    "for i in range(len(indexes)):\n",
    "    fig = plt.figure()\n",
    "    print(indexes[i])\n",
    "    model_index = 1\n",
    "    for mean,var,model in zip(params['means'][i],params['vars'][i],params['models'][i]):\n",
    "        plot() \n",
    "        model_index = model_index + 1\n",
    "        gpflow.utilities.print_summary(model, fmt='notebook')"
   ]
  },
  {
   "cell_type": "code",
   "execution_count": null,
   "metadata": {},
   "outputs": [],
   "source": [
    "likelihood = 'Gaussian'\n",
    "log_likelihood_ratio,var_ratio = gp_counts.One_sample_test(likelihood)\n",
    "log_likelihood_ratio"
   ]
  },
  {
   "cell_type": "code",
   "execution_count": null,
   "metadata": {},
   "outputs": [],
   "source": [
    "params = gp_counts.load_models(indexes,test,xtest,likelihood)\n",
    "\n",
    "for i in range(len(indexes)):\n",
    "    fig = plt.figure()\n",
    "    print(indexes[i])\n",
    "    model_index = 1\n",
    "    for model,mean,var in zip(params['models'][i],params['means'][i],params['vars'][i]):\n",
    "        plot()\n",
    "        model_index = model_index + 1\n",
    "        gpflow.utilities.print_summary(model, fmt='notebook')"
   ]
  },
  {
   "cell_type": "code",
   "execution_count": null,
   "metadata": {},
   "outputs": [],
   "source": []
  },
  {
   "cell_type": "code",
   "execution_count": null,
   "metadata": {},
   "outputs": [],
   "source": []
  }
 ],
 "metadata": {
  "kernelspec": {
   "display_name": "Python [conda env:myenv2] *",
   "language": "python",
   "name": "conda-env-myenv2-py"
  },
  "language_info": {
   "codemirror_mode": {
    "name": "ipython",
    "version": 3
   },
   "file_extension": ".py",
   "mimetype": "text/x-python",
   "name": "python",
   "nbconvert_exporter": "python",
   "pygments_lexer": "ipython3",
   "version": "3.7.6"
  }
 },
 "nbformat": 4,
 "nbformat_minor": 2
}
