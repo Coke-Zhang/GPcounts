{
 "cells": [
  {
   "cell_type": "markdown",
   "metadata": {},
   "source": [
    "# GPcounts on Drosophila dataset"
   ]
  },
  {
   "cell_type": "markdown",
   "metadata": {},
   "source": [
    "Nuha BinTayyash, 2020\n"
   ]
  },
  {
   "cell_type": "code",
   "execution_count": 1,
   "metadata": {},
   "outputs": [],
   "source": [
    "import numpy as np\n",
    "import pandas as pd\n",
    "import gpflow"
   ]
  },
  {
   "cell_type": "code",
   "execution_count": 2,
   "metadata": {},
   "outputs": [
    {
     "data": {
      "text/html": [
       "<div>\n",
       "<style scoped>\n",
       "    .dataframe tbody tr th:only-of-type {\n",
       "        vertical-align: middle;\n",
       "    }\n",
       "\n",
       "    .dataframe tbody tr th {\n",
       "        vertical-align: top;\n",
       "    }\n",
       "\n",
       "    .dataframe thead th {\n",
       "        text-align: right;\n",
       "    }\n",
       "</style>\n",
       "<table border=\"1\" class=\"dataframe\">\n",
       "  <thead>\n",
       "    <tr style=\"text-align: right;\">\n",
       "      <th></th>\n",
       "      <th>time</th>\n",
       "    </tr>\n",
       "  </thead>\n",
       "  <tbody>\n",
       "    <tr>\n",
       "      <th>E11_1_F</th>\n",
       "      <td>95.0</td>\n",
       "    </tr>\n",
       "    <tr>\n",
       "      <th>E12_1_F</th>\n",
       "      <td>105.0</td>\n",
       "    </tr>\n",
       "    <tr>\n",
       "      <th>E13A_1_F</th>\n",
       "      <td>115.0</td>\n",
       "    </tr>\n",
       "    <tr>\n",
       "      <th>E13B_1_F</th>\n",
       "      <td>125.0</td>\n",
       "    </tr>\n",
       "    <tr>\n",
       "      <th>E14A_1_F</th>\n",
       "      <td>145.0</td>\n",
       "    </tr>\n",
       "    <tr>\n",
       "      <th>E14B_1_F</th>\n",
       "      <td>160.0</td>\n",
       "    </tr>\n",
       "    <tr>\n",
       "      <th>E14C_1_F</th>\n",
       "      <td>175.0</td>\n",
       "    </tr>\n",
       "    <tr>\n",
       "      <th>E14D_1_F</th>\n",
       "      <td>190.0</td>\n",
       "    </tr>\n",
       "    <tr>\n",
       "      <th>E14E_1_F</th>\n",
       "      <td>205.0</td>\n",
       "    </tr>\n",
       "    <tr>\n",
       "      <th>ECF_1_F</th>\n",
       "      <td>220.0</td>\n",
       "    </tr>\n",
       "    <tr>\n",
       "      <th>E11_2_F</th>\n",
       "      <td>95.0</td>\n",
       "    </tr>\n",
       "    <tr>\n",
       "      <th>E12_2_F</th>\n",
       "      <td>105.0</td>\n",
       "    </tr>\n",
       "    <tr>\n",
       "      <th>E13A_2_F</th>\n",
       "      <td>115.0</td>\n",
       "    </tr>\n",
       "    <tr>\n",
       "      <th>E13B_2_F</th>\n",
       "      <td>125.0</td>\n",
       "    </tr>\n",
       "    <tr>\n",
       "      <th>E14A_2_F</th>\n",
       "      <td>145.0</td>\n",
       "    </tr>\n",
       "    <tr>\n",
       "      <th>E14B_2_F</th>\n",
       "      <td>160.0</td>\n",
       "    </tr>\n",
       "    <tr>\n",
       "      <th>E14C_2_F</th>\n",
       "      <td>175.0</td>\n",
       "    </tr>\n",
       "    <tr>\n",
       "      <th>E14D_2_F</th>\n",
       "      <td>190.0</td>\n",
       "    </tr>\n",
       "    <tr>\n",
       "      <th>E14E_2_F</th>\n",
       "      <td>205.0</td>\n",
       "    </tr>\n",
       "    <tr>\n",
       "      <th>ECF_2_F</th>\n",
       "      <td>220.0</td>\n",
       "    </tr>\n",
       "    <tr>\n",
       "      <th>E11_3_F</th>\n",
       "      <td>95.0</td>\n",
       "    </tr>\n",
       "    <tr>\n",
       "      <th>E12_3_F</th>\n",
       "      <td>105.0</td>\n",
       "    </tr>\n",
       "    <tr>\n",
       "      <th>E13A_3_F</th>\n",
       "      <td>115.0</td>\n",
       "    </tr>\n",
       "    <tr>\n",
       "      <th>E13B_3_F</th>\n",
       "      <td>125.0</td>\n",
       "    </tr>\n",
       "    <tr>\n",
       "      <th>E14A_3_F</th>\n",
       "      <td>145.0</td>\n",
       "    </tr>\n",
       "    <tr>\n",
       "      <th>E14B_3_F</th>\n",
       "      <td>160.0</td>\n",
       "    </tr>\n",
       "    <tr>\n",
       "      <th>E14C_3_F</th>\n",
       "      <td>175.0</td>\n",
       "    </tr>\n",
       "    <tr>\n",
       "      <th>E14D_3_F</th>\n",
       "      <td>190.0</td>\n",
       "    </tr>\n",
       "    <tr>\n",
       "      <th>E14E_3_F</th>\n",
       "      <td>205.0</td>\n",
       "    </tr>\n",
       "    <tr>\n",
       "      <th>ECF_3_F</th>\n",
       "      <td>220.0</td>\n",
       "    </tr>\n",
       "  </tbody>\n",
       "</table>\n",
       "</div>"
      ],
      "text/plain": [
       "           time\n",
       "E11_1_F    95.0\n",
       "E12_1_F   105.0\n",
       "E13A_1_F  115.0\n",
       "E13B_1_F  125.0\n",
       "E14A_1_F  145.0\n",
       "E14B_1_F  160.0\n",
       "E14C_1_F  175.0\n",
       "E14D_1_F  190.0\n",
       "E14E_1_F  205.0\n",
       "ECF_1_F   220.0\n",
       "E11_2_F    95.0\n",
       "E12_2_F   105.0\n",
       "E13A_2_F  115.0\n",
       "E13B_2_F  125.0\n",
       "E14A_2_F  145.0\n",
       "E14B_2_F  160.0\n",
       "E14C_2_F  175.0\n",
       "E14D_2_F  190.0\n",
       "E14E_2_F  205.0\n",
       "ECF_2_F   220.0\n",
       "E11_3_F    95.0\n",
       "E12_3_F   105.0\n",
       "E13A_3_F  115.0\n",
       "E13B_3_F  125.0\n",
       "E14A_3_F  145.0\n",
       "E14B_3_F  160.0\n",
       "E14C_3_F  175.0\n",
       "E14D_3_F  190.0\n",
       "E14E_3_F  205.0\n",
       "ECF_3_F   220.0"
      ]
     },
     "execution_count": 2,
     "metadata": {},
     "output_type": "execute_result"
    }
   ],
   "source": [
    "Y = pd.read_csv('exons_counts.csv',index_col=[0])\n",
    "X = pd.read_csv('time_points.csv',index_col=[0])\n",
    "X"
   ]
  },
  {
   "cell_type": "markdown",
   "metadata": {},
   "source": [
    "Fit some fission gene normalized data using GPcounts -- Two samples test"
   ]
  },
  {
   "cell_type": "code",
   "execution_count": 3,
   "metadata": {},
   "outputs": [],
   "source": [
    "from matplotlib import pyplot as plt\n",
    "import statsmodels.api as sm\n",
    "\n",
    "def plot():\n",
    "    plt.tick_params(labelsize='large', width=2)     \n",
    "    #plt.ylabel('Gene Expression', fontsize=16)\n",
    "    #plt.xlabel('Times', fontsize=16)\n",
    "    c = 'royalblue'\n",
    "    \n",
    "    if model_index == 3:\n",
    "        c = 'green'\n",
    "    \n",
    "    plt.plot(xtest, mean,color= c, lw=2) \n",
    "    \n",
    "    if likelihood == 'Gaussian':\n",
    "        plt.fill_between(xtest[:,0],\n",
    "                            mean[:,0] - 1*np.sqrt(var[:,0]),\n",
    "                            mean[:,0] + 1*np.sqrt(var[:,0]),color=c,alpha=0.2) # one standard deviation\n",
    "        plt.fill_between(xtest[:,0],\n",
    "                            mean[:,0] - 2*np.sqrt(var[:,0]),\n",
    "                            mean[:,0] + 2*np.sqrt(var[:,0]),color=c, alpha=0.1)# two standard deviation\n",
    "    else:\n",
    "       \n",
    "        lowess = sm.nonparametric.lowess    \n",
    "        # one standard deviation 68%\n",
    "        percentile_16 = lowess(np.percentile(var, 16, axis=0),xtest[:,0],frac=1./5, return_sorted=False)\n",
    "        percentile_16 = [(i > 0) * i for i in percentile_16]\n",
    "        percentile_84 = lowess(np.percentile(var, 84, axis=0),xtest[:,0],frac=1./5, return_sorted=False)\n",
    "        percentile_84 = [(i > 0) * i for i in percentile_84]\n",
    "        plt.fill_between(xtest[:,0],percentile_16,percentile_84,color=c,alpha=0.2)\n",
    "        \n",
    "        # two standard deviation 95%\n",
    "        percentile_5 = lowess(np.percentile(var, 5, axis=0),xtest[:,0],frac=1./5, return_sorted=False)\n",
    "        percentile_5 = [(i > 0) * i for i in percentile_5]\n",
    "        percentile_95 = lowess(np.percentile(var,95, axis=0),xtest[:,0],frac=1./5, return_sorted=False)\n",
    "        percentile_95 = [(i > 0) * i for i in percentile_95]\n",
    "        plt.fill_between(xtest[:,0],percentile_5,percentile_95,color=c,alpha=0.1)\n",
    "    \n",
    "    if test == 'Two_samples_test' and model_index == 1:\n",
    "        plt.scatter(model.data[0][0:int(model.data[0].shape[0]/2)],model.data[1][0:int(model.data[0].shape[0]/2)], s=30, marker='o', color= 'royalblue',alpha=1.) #data    \n",
    "        plt.scatter(model.data[0][int(model.data[0].shape[0]/2)::],model.data[1][int(model.data[0].shape[0]/2)::], s=30, marker='o', color= 'green',alpha=1.) #data\n",
    "\n",
    "    else: \n",
    "        plt.scatter(model.data[0],model.data[1],s=30,marker = 'o',color=c,alpha=1.)\n",
    "    \n",
    "    \n",
    "    if not(test == 'Two_samples_test' and model_index == 2):\n",
    "        plt.show()\n",
    "    "
   ]
  },
  {
   "cell_type": "code",
   "execution_count": 4,
   "metadata": {},
   "outputs": [],
   "source": [
    "genes_name = ['FBgn0000003', 'FBgn0000015', 'FBgn0000008'\n",
    "              , 'FBgn0000014','FBgn0000017', 'FBgn0000018'\n",
    "              , 'FBgn0000022', 'FBgn0000032','FBgn0000042', 'FBgn0000043']"
   ]
  },
  {
   "cell_type": "code",
   "execution_count": 9,
   "metadata": {},
   "outputs": [
    {
     "name": "stderr",
     "output_type": "stream",
     "text": [
      "  1%|          | 1/100 [00:11<19:16, 11.69s/it]"
     ]
    },
    {
     "name": "stdout",
     "output_type": "stream",
     "text": [
      "Can not fit a Gaussian process, Cholesky decomposition was not successful.\n",
      "Can not Optimaize a Gaussian process, Optimization fail.\n"
     ]
    },
    {
     "name": "stderr",
     "output_type": "stream",
     "text": [
      "\r",
      "  2%|▏         | 2/100 [00:21<18:04, 11.07s/it]"
     ]
    },
    {
     "name": "stdout",
     "output_type": "stream",
     "text": [
      "Can not Optimaize a Gaussian process, Optimization fail.\n",
      "Can not fit a Gaussian process, Cholesky decomposition was not successful.\n",
      "Can not Optimaize a Gaussian process, Optimization fail.\n"
     ]
    },
    {
     "name": "stderr",
     "output_type": "stream",
     "text": [
      "\r",
      "  3%|▎         | 3/100 [00:37<20:22, 12.60s/it]"
     ]
    },
    {
     "name": "stdout",
     "output_type": "stream",
     "text": [
      "Can not fit a Gaussian process, Cholesky decomposition was not successful.\n",
      "Can not fit a Gaussian process, Cholesky decomposition was not successful.\n"
     ]
    },
    {
     "name": "stderr",
     "output_type": "stream",
     "text": [
      "\r",
      "  4%|▍         | 4/100 [00:46<18:39, 11.66s/it]"
     ]
    },
    {
     "name": "stdout",
     "output_type": "stream",
     "text": [
      "Can not Optimaize a Gaussian process, Optimization fail.\n",
      "Can not Optimaize a Gaussian process, Optimization fail.\n",
      "Can not Optimaize a Gaussian process, Optimization fail.\n",
      "Can not Optimaize a Gaussian process, Optimization fail.\n",
      "Can not Optimaize a Gaussian process, Optimization fail.\n"
     ]
    },
    {
     "name": "stderr",
     "output_type": "stream",
     "text": [
      "\r",
      "  5%|▌         | 5/100 [01:03<20:57, 13.24s/it]"
     ]
    },
    {
     "name": "stdout",
     "output_type": "stream",
     "text": [
      "Can not fit a Gaussian process, Cholesky decomposition was not successful.\n"
     ]
    },
    {
     "name": "stderr",
     "output_type": "stream",
     "text": [
      "  9%|▉         | 9/100 [01:50<18:28, 12.18s/it]"
     ]
    },
    {
     "name": "stdout",
     "output_type": "stream",
     "text": [
      "Can not Optimaize a Gaussian process, Optimization fail.\n",
      "Can not fit a Gaussian process, Cholesky decomposition was not successful.\n",
      "Can not Optimaize a Gaussian process, Optimization fail.\n"
     ]
    },
    {
     "name": "stderr",
     "output_type": "stream",
     "text": [
      "\r",
      " 10%|█         | 10/100 [02:05<19:19, 12.89s/it]"
     ]
    },
    {
     "name": "stdout",
     "output_type": "stream",
     "text": [
      "Can not Optimaize a Gaussian process, Optimization fail.\n"
     ]
    },
    {
     "name": "stderr",
     "output_type": "stream",
     "text": [
      " 12%|█▏        | 12/100 [02:35<20:40, 14.10s/it]"
     ]
    },
    {
     "name": "stdout",
     "output_type": "stream",
     "text": [
      "Can not fit a Gaussian process, Cholesky decomposition was not successful.\n",
      "Can not Optimaize a Gaussian process, Optimization fail.\n",
      "Can not Optimaize a Gaussian process, Optimization fail.\n"
     ]
    },
    {
     "name": "stderr",
     "output_type": "stream",
     "text": [
      "\r",
      " 13%|█▎        | 13/100 [02:54<22:46, 15.71s/it]"
     ]
    },
    {
     "name": "stdout",
     "output_type": "stream",
     "text": [
      "Can not Optimaize a Gaussian process, Optimization fail.\n",
      "Can not Optimaize a Gaussian process, Optimization fail.\n",
      "Can not Optimaize a Gaussian process, Optimization fail.\n"
     ]
    },
    {
     "name": "stderr",
     "output_type": "stream",
     "text": [
      "\r",
      " 14%|█▍        | 14/100 [03:11<22:56, 16.01s/it]"
     ]
    },
    {
     "name": "stdout",
     "output_type": "stream",
     "text": [
      "Can not fit a Gaussian process, Cholesky decomposition was not successful.\n"
     ]
    },
    {
     "name": "stderr",
     "output_type": "stream",
     "text": [
      "\r",
      " 15%|█▌        | 15/100 [03:21<20:13, 14.28s/it]"
     ]
    },
    {
     "name": "stdout",
     "output_type": "stream",
     "text": [
      "Can not fit a Gaussian process, Cholesky decomposition was not successful.\n"
     ]
    },
    {
     "name": "stderr",
     "output_type": "stream",
     "text": [
      "\r",
      " 16%|█▌        | 16/100 [03:31<18:09, 12.97s/it]"
     ]
    },
    {
     "name": "stdout",
     "output_type": "stream",
     "text": [
      "Can not Optimaize a Gaussian process, Optimization fail.\n",
      "Can not Optimaize a Gaussian process, Optimization fail.\n"
     ]
    },
    {
     "name": "stderr",
     "output_type": "stream",
     "text": [
      " 18%|█▊        | 18/100 [03:59<18:31, 13.56s/it]"
     ]
    },
    {
     "name": "stdout",
     "output_type": "stream",
     "text": [
      "Can not Optimaize a Gaussian process, Optimization fail.\n",
      "Can not Optimaize a Gaussian process, Optimization fail.\n",
      "Can not Optimaize a Gaussian process, Optimization fail.\n",
      "Can not Optimaize a Gaussian process, Optimization fail.\n"
     ]
    },
    {
     "name": "stderr",
     "output_type": "stream",
     "text": [
      " 21%|██        | 21/100 [04:37<17:02, 12.95s/it]"
     ]
    },
    {
     "name": "stdout",
     "output_type": "stream",
     "text": [
      "Can not fit a Gaussian process, Cholesky decomposition was not successful.\n",
      "Can not fit a Gaussian process, Cholesky decomposition was not successful.\n",
      "Can not Optimaize a Gaussian process, Optimization fail.\n"
     ]
    },
    {
     "name": "stderr",
     "output_type": "stream",
     "text": [
      "\r",
      " 22%|██▏       | 22/100 [04:51<17:15, 13.27s/it]"
     ]
    },
    {
     "name": "stdout",
     "output_type": "stream",
     "text": [
      "Can not Optimaize a Gaussian process, Optimization fail.\n"
     ]
    },
    {
     "name": "stderr",
     "output_type": "stream",
     "text": [
      "\r",
      " 23%|██▎       | 23/100 [05:10<19:05, 14.88s/it]"
     ]
    },
    {
     "name": "stdout",
     "output_type": "stream",
     "text": [
      "Can not fit a Gaussian process, Cholesky decomposition was not successful.\n"
     ]
    },
    {
     "name": "stderr",
     "output_type": "stream",
     "text": [
      "\r",
      " 24%|██▍       | 24/100 [05:25<18:47, 14.83s/it]"
     ]
    },
    {
     "name": "stdout",
     "output_type": "stream",
     "text": [
      "Can not Optimaize a Gaussian process, Optimization fail.\n"
     ]
    },
    {
     "name": "stderr",
     "output_type": "stream",
     "text": [
      "\r",
      " 25%|██▌       | 25/100 [05:38<18:08, 14.52s/it]"
     ]
    },
    {
     "name": "stdout",
     "output_type": "stream",
     "text": [
      "Can not fit a Gaussian process, Cholesky decomposition was not successful.\n",
      "Can not Optimaize a Gaussian process, Optimization fail.\n"
     ]
    },
    {
     "name": "stderr",
     "output_type": "stream",
     "text": [
      "\r",
      " 26%|██▌       | 26/100 [05:54<18:19, 14.85s/it]"
     ]
    },
    {
     "name": "stdout",
     "output_type": "stream",
     "text": [
      "Can not fit a Gaussian process, Cholesky decomposition was not successful.\n",
      "Can not fit a Gaussian process, Cholesky decomposition was not successful.\n",
      "Can not fit a Gaussian process, Cholesky decomposition was not successful.\n"
     ]
    },
    {
     "name": "stderr",
     "output_type": "stream",
     "text": [
      " 30%|███       | 30/100 [06:44<14:39, 12.56s/it]"
     ]
    },
    {
     "name": "stdout",
     "output_type": "stream",
     "text": [
      "Can not Optimaize a Gaussian process, Optimization fail.\n"
     ]
    },
    {
     "name": "stderr",
     "output_type": "stream",
     "text": [
      " 32%|███▏      | 32/100 [07:07<13:37, 12.02s/it]"
     ]
    },
    {
     "name": "stdout",
     "output_type": "stream",
     "text": [
      "Can not fit a Gaussian process, Cholesky decomposition was not successful.\n",
      "Can not fit a Gaussian process, Cholesky decomposition was not successful.\n"
     ]
    },
    {
     "name": "stderr",
     "output_type": "stream",
     "text": [
      "\r",
      " 33%|███▎      | 33/100 [07:16<12:43, 11.40s/it]"
     ]
    },
    {
     "name": "stdout",
     "output_type": "stream",
     "text": [
      "Can not Optimaize a Gaussian process, Optimization fail.\n",
      "Can not fit a Gaussian process, Cholesky decomposition was not successful.\n",
      "Can not Optimaize a Gaussian process, Optimization fail.\n",
      "Can not Optimaize a Gaussian process, Optimization fail.\n",
      "Can not fit a Gaussian process, Cholesky decomposition was not successful.\n"
     ]
    },
    {
     "name": "stderr",
     "output_type": "stream",
     "text": [
      "\r",
      " 34%|███▍      | 34/100 [07:28<12:32, 11.40s/it]"
     ]
    },
    {
     "name": "stdout",
     "output_type": "stream",
     "text": [
      "Can not fit a Gaussian process, Cholesky decomposition was not successful.\n",
      "Can not fit a Gaussian process, Cholesky decomposition was not successful.\n"
     ]
    },
    {
     "name": "stderr",
     "output_type": "stream",
     "text": [
      "\r",
      " 35%|███▌      | 35/100 [07:41<12:53, 11.89s/it]"
     ]
    },
    {
     "name": "stdout",
     "output_type": "stream",
     "text": [
      "Can not fit a Gaussian process, Cholesky decomposition was not successful.\n",
      "Can not Optimaize a Gaussian process, Optimization fail.\n",
      "Can not fit a Gaussian process, Cholesky decomposition was not successful.\n",
      "Can not fit a Gaussian process, Cholesky decomposition was not successful.\n"
     ]
    },
    {
     "name": "stderr",
     "output_type": "stream",
     "text": [
      "\r",
      " 36%|███▌      | 36/100 [07:53<12:38, 11.85s/it]"
     ]
    },
    {
     "name": "stdout",
     "output_type": "stream",
     "text": [
      "Can not Optimaize a Gaussian process, Optimization fail.\n",
      "Can not Optimaize a Gaussian process, Optimization fail.\n",
      "Can not fit a Gaussian process, Cholesky decomposition was not successful.\n"
     ]
    },
    {
     "name": "stderr",
     "output_type": "stream",
     "text": [
      "\r",
      " 37%|███▋      | 37/100 [08:06<13:02, 12.42s/it]"
     ]
    },
    {
     "name": "stdout",
     "output_type": "stream",
     "text": [
      "Can not fit a Gaussian process, Cholesky decomposition was not successful.\n",
      "Can not fit a Gaussian process, Cholesky decomposition was not successful.\n",
      "Can not Optimaize a Gaussian process, Optimization fail.\n",
      "Can not fit a Gaussian process, Cholesky decomposition was not successful.\n"
     ]
    },
    {
     "name": "stderr",
     "output_type": "stream",
     "text": [
      "\r",
      " 38%|███▊      | 38/100 [08:24<14:32, 14.08s/it]"
     ]
    },
    {
     "name": "stdout",
     "output_type": "stream",
     "text": [
      "Can not Optimaize a Gaussian process, Optimization fail.\n",
      "Can not fit a Gaussian process, Cholesky decomposition was not successful.\n",
      "Can not fit a Gaussian process, Cholesky decomposition was not successful.\n",
      "Can not fit a Gaussian process, Cholesky decomposition was not successful.\n"
     ]
    },
    {
     "name": "stderr",
     "output_type": "stream",
     "text": [
      " 40%|████      | 40/100 [09:09<18:27, 18.46s/it]"
     ]
    },
    {
     "name": "stdout",
     "output_type": "stream",
     "text": [
      "Can not Optimaize a Gaussian process, Optimization fail.\n"
     ]
    },
    {
     "name": "stderr",
     "output_type": "stream",
     "text": [
      "\r",
      " 41%|████      | 41/100 [09:35<20:16, 20.62s/it]"
     ]
    },
    {
     "name": "stdout",
     "output_type": "stream",
     "text": [
      "Can not Optimaize a Gaussian process, Optimization fail.\n",
      "Can not Optimaize a Gaussian process, Optimization fail.\n",
      "Can not Optimaize a Gaussian process, Optimization fail.\n",
      "Can not fit a Gaussian process, Cholesky decomposition was not successful.\n",
      "Can not Optimaize a Gaussian process, Optimization fail.\n",
      "Can not Optimaize a Gaussian process, Optimization fail.\n"
     ]
    },
    {
     "name": "stderr",
     "output_type": "stream",
     "text": [
      "\r",
      " 42%|████▏     | 42/100 [09:56<20:05, 20.79s/it]"
     ]
    },
    {
     "name": "stdout",
     "output_type": "stream",
     "text": [
      "Can not Optimaize a Gaussian process, Optimization fail.\n"
     ]
    },
    {
     "name": "stderr",
     "output_type": "stream",
     "text": [
      " 45%|████▌     | 45/100 [11:10<21:15, 23.19s/it]"
     ]
    },
    {
     "name": "stdout",
     "output_type": "stream",
     "text": [
      "Can not fit a Gaussian process, Cholesky decomposition was not successful.\n"
     ]
    },
    {
     "name": "stderr",
     "output_type": "stream",
     "text": [
      " 47%|████▋     | 47/100 [11:55<20:18, 22.98s/it]"
     ]
    },
    {
     "name": "stdout",
     "output_type": "stream",
     "text": [
      "Can not Optimaize a Gaussian process, Optimization fail.\n",
      "Can not Optimaize a Gaussian process, Optimization fail.\n",
      "Can not Optimaize a Gaussian process, Optimization fail.\n"
     ]
    },
    {
     "name": "stderr",
     "output_type": "stream",
     "text": [
      " 50%|█████     | 50/100 [13:07<19:42, 23.65s/it]"
     ]
    },
    {
     "name": "stdout",
     "output_type": "stream",
     "text": [
      "Can not fit a Gaussian process, Cholesky decomposition was not successful.\n",
      "Can not fit a Gaussian process, Cholesky decomposition was not successful.\n"
     ]
    },
    {
     "name": "stderr",
     "output_type": "stream",
     "text": [
      "\r",
      " 51%|█████     | 51/100 [13:22<17:23, 21.29s/it]"
     ]
    },
    {
     "name": "stdout",
     "output_type": "stream",
     "text": [
      "Can not fit a Gaussian process, Cholesky decomposition was not successful.\n"
     ]
    },
    {
     "name": "stderr",
     "output_type": "stream",
     "text": [
      " 56%|█████▌    | 56/100 [14:32<10:57, 14.95s/it]"
     ]
    },
    {
     "name": "stdout",
     "output_type": "stream",
     "text": [
      "Can not fit a Gaussian process, Cholesky decomposition was not successful.\n"
     ]
    },
    {
     "name": "stderr",
     "output_type": "stream",
     "text": [
      " 58%|█████▊    | 58/100 [14:59<09:47, 14.00s/it]"
     ]
    },
    {
     "name": "stdout",
     "output_type": "stream",
     "text": [
      "Can not fit a Gaussian process, Cholesky decomposition was not successful.\n",
      "Can not Optimaize a Gaussian process, Optimization fail.\n",
      "Can not Optimaize a Gaussian process, Optimization fail.\n",
      "Can not Optimaize a Gaussian process, Optimization fail.\n",
      "Can not Optimaize a Gaussian process, Optimization fail.\n"
     ]
    },
    {
     "name": "stderr",
     "output_type": "stream",
     "text": [
      "\r",
      " 59%|█████▉    | 59/100 [15:14<09:45, 14.28s/it]"
     ]
    },
    {
     "name": "stdout",
     "output_type": "stream",
     "text": [
      "Can not Optimaize a Gaussian process, Optimization fail.\n",
      "Can not fit a Gaussian process, Cholesky decomposition was not successful.\n"
     ]
    },
    {
     "name": "stderr",
     "output_type": "stream",
     "text": [
      "\r",
      " 60%|██████    | 60/100 [15:31<10:03, 15.10s/it]"
     ]
    },
    {
     "name": "stdout",
     "output_type": "stream",
     "text": [
      "Can not fit a Gaussian process, Cholesky decomposition was not successful.\n",
      "Can not Optimaize a Gaussian process, Optimization fail.\n"
     ]
    },
    {
     "name": "stderr",
     "output_type": "stream",
     "text": [
      " 63%|██████▎   | 63/100 [16:10<08:14, 13.37s/it]"
     ]
    },
    {
     "name": "stdout",
     "output_type": "stream",
     "text": [
      "Can not Optimaize a Gaussian process, Optimization fail.\n",
      "Can not Optimaize a Gaussian process, Optimization fail.\n"
     ]
    },
    {
     "name": "stderr",
     "output_type": "stream",
     "text": [
      " 65%|██████▌   | 65/100 [16:30<06:53, 11.83s/it]"
     ]
    },
    {
     "name": "stdout",
     "output_type": "stream",
     "text": [
      "Can not Optimaize a Gaussian process, Optimization fail.\n",
      "Can not Optimaize a Gaussian process, Optimization fail.\n",
      "Can not fit a Gaussian process, Cholesky decomposition was not successful.\n",
      "Can not fit a Gaussian process, Cholesky decomposition was not successful.\n"
     ]
    },
    {
     "name": "stderr",
     "output_type": "stream",
     "text": [
      " 68%|██████▊   | 68/100 [17:11<06:52, 12.89s/it]"
     ]
    },
    {
     "name": "stdout",
     "output_type": "stream",
     "text": [
      "Can not Optimaize a Gaussian process, Optimization fail.\n",
      "Can not fit a Gaussian process, Cholesky decomposition was not successful.\n",
      "Can not fit a Gaussian process, Cholesky decomposition was not successful.\n"
     ]
    },
    {
     "name": "stderr",
     "output_type": "stream",
     "text": [
      "\r",
      " 69%|██████▉   | 69/100 [17:25<06:47, 13.15s/it]"
     ]
    },
    {
     "name": "stdout",
     "output_type": "stream",
     "text": [
      "Can not fit a Gaussian process, Cholesky decomposition was not successful.\n",
      "Can not fit a Gaussian process, Cholesky decomposition was not successful.\n",
      "Can not fit a Gaussian process, Cholesky decomposition was not successful.\n"
     ]
    },
    {
     "name": "stderr",
     "output_type": "stream",
     "text": [
      "\r",
      " 70%|███████   | 70/100 [17:40<06:50, 13.70s/it]"
     ]
    },
    {
     "name": "stdout",
     "output_type": "stream",
     "text": [
      "Can not Optimaize a Gaussian process, Optimization fail.\n",
      "Can not Optimaize a Gaussian process, Optimization fail.\n",
      "Can not Optimaize a Gaussian process, Optimization fail.\n",
      "Can not Optimaize a Gaussian process, Optimization fail.\n"
     ]
    },
    {
     "name": "stderr",
     "output_type": "stream",
     "text": [
      " 72%|███████▏  | 72/100 [18:02<05:46, 12.39s/it]"
     ]
    },
    {
     "name": "stdout",
     "output_type": "stream",
     "text": [
      "Can not Optimaize a Gaussian process, Optimization fail.\n",
      "Can not fit a Gaussian process, Cholesky decomposition was not successful.\n",
      "Can not Optimaize a Gaussian process, Optimization fail.\n",
      "Can not fit a Gaussian process, Cholesky decomposition was not successful.\n"
     ]
    },
    {
     "name": "stderr",
     "output_type": "stream",
     "text": [
      "\r",
      " 73%|███████▎  | 73/100 [18:15<05:36, 12.48s/it]"
     ]
    },
    {
     "name": "stdout",
     "output_type": "stream",
     "text": [
      "Can not fit a Gaussian process, Cholesky decomposition was not successful.\n",
      "Can not fit a Gaussian process, Cholesky decomposition was not successful.\n",
      "Can not Optimaize a Gaussian process, Optimization fail.\n",
      "Can not Optimaize a Gaussian process, Optimization fail.\n"
     ]
    },
    {
     "name": "stderr",
     "output_type": "stream",
     "text": [
      " 75%|███████▌  | 75/100 [18:48<05:53, 14.15s/it]"
     ]
    },
    {
     "name": "stdout",
     "output_type": "stream",
     "text": [
      "Can not Optimaize a Gaussian process, Optimization fail.\n",
      "Can not Optimaize a Gaussian process, Optimization fail.\n",
      "Can not fit a Gaussian process, Cholesky decomposition was not successful.\n",
      "Can not Optimaize a Gaussian process, Optimization fail.\n",
      "Can not Optimaize a Gaussian process, Optimization fail.\n"
     ]
    },
    {
     "name": "stderr",
     "output_type": "stream",
     "text": [
      " 77%|███████▋  | 77/100 [19:09<04:43, 12.33s/it]"
     ]
    },
    {
     "name": "stdout",
     "output_type": "stream",
     "text": [
      "Can not fit a Gaussian process, Cholesky decomposition was not successful.\n",
      "Can not Optimaize a Gaussian process, Optimization fail.\n"
     ]
    },
    {
     "name": "stderr",
     "output_type": "stream",
     "text": [
      "\r",
      " 78%|███████▊  | 78/100 [19:21<04:25, 12.06s/it]"
     ]
    },
    {
     "name": "stdout",
     "output_type": "stream",
     "text": [
      "Can not fit a Gaussian process, Cholesky decomposition was not successful.\n",
      "Can not Optimaize a Gaussian process, Optimization fail.\n",
      "Can not Optimaize a Gaussian process, Optimization fail.\n",
      "Can not Optimaize a Gaussian process, Optimization fail.\n"
     ]
    },
    {
     "name": "stderr",
     "output_type": "stream",
     "text": [
      "\r",
      " 79%|███████▉  | 79/100 [19:31<04:03, 11.60s/it]"
     ]
    },
    {
     "name": "stdout",
     "output_type": "stream",
     "text": [
      "Can not fit a Gaussian process, Cholesky decomposition was not successful.\n"
     ]
    },
    {
     "name": "stderr",
     "output_type": "stream",
     "text": [
      "\r",
      " 80%|████████  | 80/100 [19:46<04:11, 12.55s/it]"
     ]
    },
    {
     "name": "stdout",
     "output_type": "stream",
     "text": [
      "Can not fit a Gaussian process, Cholesky decomposition was not successful.\n",
      "Can not Optimaize a Gaussian process, Optimization fail.\n"
     ]
    },
    {
     "name": "stderr",
     "output_type": "stream",
     "text": [
      " 82%|████████▏ | 82/100 [20:15<04:05, 13.63s/it]"
     ]
    },
    {
     "name": "stdout",
     "output_type": "stream",
     "text": [
      "Can not Optimaize a Gaussian process, Optimization fail.\n"
     ]
    },
    {
     "name": "stderr",
     "output_type": "stream",
     "text": [
      "\r",
      " 83%|████████▎ | 83/100 [20:25<03:34, 12.60s/it]"
     ]
    },
    {
     "name": "stdout",
     "output_type": "stream",
     "text": [
      "Can not Optimaize a Gaussian process, Optimization fail.\n",
      "Can not Optimaize a Gaussian process, Optimization fail.\n",
      "Can not Optimaize a Gaussian process, Optimization fail.\n",
      "Can not fit a Gaussian process, Cholesky decomposition was not successful.\n",
      "Can not Optimaize a Gaussian process, Optimization fail.\n"
     ]
    },
    {
     "name": "stderr",
     "output_type": "stream",
     "text": [
      "\r",
      " 84%|████████▍ | 84/100 [20:37<03:19, 12.45s/it]"
     ]
    },
    {
     "name": "stdout",
     "output_type": "stream",
     "text": [
      "Can not fit a Gaussian process, Cholesky decomposition was not successful.\n",
      "Can not Optimaize a Gaussian process, Optimization fail.\n"
     ]
    },
    {
     "name": "stderr",
     "output_type": "stream",
     "text": [
      "\r",
      " 85%|████████▌ | 85/100 [20:52<03:17, 13.18s/it]"
     ]
    },
    {
     "name": "stdout",
     "output_type": "stream",
     "text": [
      "Can not Optimaize a Gaussian process, Optimization fail.\n",
      "Can not fit a Gaussian process, Cholesky decomposition was not successful.\n",
      "Can not Optimaize a Gaussian process, Optimization fail.\n",
      "Can not fit a Gaussian process, Cholesky decomposition was not successful.\n"
     ]
    },
    {
     "name": "stderr",
     "output_type": "stream",
     "text": [
      "\r",
      " 86%|████████▌ | 86/100 [21:04<02:59, 12.86s/it]"
     ]
    },
    {
     "name": "stdout",
     "output_type": "stream",
     "text": [
      "Can not fit a Gaussian process, Cholesky decomposition was not successful.\n",
      "Can not fit a Gaussian process, Cholesky decomposition was not successful.\n",
      "Can not fit a Gaussian process, Cholesky decomposition was not successful.\n"
     ]
    },
    {
     "name": "stderr",
     "output_type": "stream",
     "text": [
      "\r",
      " 87%|████████▋ | 87/100 [21:18<02:53, 13.35s/it]"
     ]
    },
    {
     "name": "stdout",
     "output_type": "stream",
     "text": [
      "Can not fit a Gaussian process, Cholesky decomposition was not successful.\n",
      "Can not Optimaize a Gaussian process, Optimization fail.\n",
      "Can not Optimaize a Gaussian process, Optimization fail.\n",
      "Can not fit a Gaussian process, Cholesky decomposition was not successful.\n"
     ]
    },
    {
     "name": "stderr",
     "output_type": "stream",
     "text": [
      " 89%|████████▉ | 89/100 [21:40<02:11, 11.98s/it]"
     ]
    },
    {
     "name": "stdout",
     "output_type": "stream",
     "text": [
      "Can not Optimaize a Gaussian process, Optimization fail.\n"
     ]
    },
    {
     "name": "stderr",
     "output_type": "stream",
     "text": [
      " 91%|█████████ | 91/100 [22:05<01:52, 12.53s/it]"
     ]
    },
    {
     "name": "stdout",
     "output_type": "stream",
     "text": [
      "Can not fit a Gaussian process, Cholesky decomposition was not successful.\n",
      "Can not Optimaize a Gaussian process, Optimization fail.\n",
      "Can not Optimaize a Gaussian process, Optimization fail.\n"
     ]
    },
    {
     "name": "stderr",
     "output_type": "stream",
     "text": [
      "\r",
      " 92%|█████████▏| 92/100 [22:19<01:42, 12.85s/it]"
     ]
    },
    {
     "name": "stdout",
     "output_type": "stream",
     "text": [
      "Can not Optimaize a Gaussian process, Optimization fail.\n",
      "Can not Optimaize a Gaussian process, Optimization fail.\n",
      "Can not Optimaize a Gaussian process, Optimization fail.\n",
      "Can not Optimaize a Gaussian process, Optimization fail.\n"
     ]
    },
    {
     "name": "stderr",
     "output_type": "stream",
     "text": [
      "\r",
      " 93%|█████████▎| 93/100 [22:31<01:28, 12.59s/it]"
     ]
    },
    {
     "name": "stdout",
     "output_type": "stream",
     "text": [
      "Can not Optimaize a Gaussian process, Optimization fail.\n",
      "Can not Optimaize a Gaussian process, Optimization fail.\n",
      "Can not fit a Gaussian process, Cholesky decomposition was not successful.\n",
      "Can not Optimaize a Gaussian process, Optimization fail.\n"
     ]
    },
    {
     "name": "stderr",
     "output_type": "stream",
     "text": [
      "\r",
      " 94%|█████████▍| 94/100 [22:42<01:13, 12.32s/it]"
     ]
    },
    {
     "name": "stdout",
     "output_type": "stream",
     "text": [
      "Can not Optimaize a Gaussian process, Optimization fail.\n",
      "Can not Optimaize a Gaussian process, Optimization fail.\n",
      "Can not Optimaize a Gaussian process, Optimization fail.\n"
     ]
    },
    {
     "name": "stderr",
     "output_type": "stream",
     "text": [
      " 97%|█████████▋| 97/100 [23:20<00:37, 12.47s/it]"
     ]
    },
    {
     "name": "stdout",
     "output_type": "stream",
     "text": [
      "Can not Optimaize a Gaussian process, Optimization fail.\n",
      "Can not Optimaize a Gaussian process, Optimization fail.\n",
      "Can not Optimaize a Gaussian process, Optimization fail.\n",
      "Can not Optimaize a Gaussian process, Optimization fail.\n"
     ]
    },
    {
     "name": "stderr",
     "output_type": "stream",
     "text": [
      "100%|██████████| 100/100 [23:58<00:00, 14.38s/it]\n"
     ]
    }
   ],
   "source": [
    "from GPcounts.GPcounts_Module import Fit_GPcounts\n",
    "likelihood = 'Negative_binomial' \n",
    "#\n",
    "gp_counts = Fit_GPcounts(X,Y.iloc[6000:6100,:],grid_search = True)\n",
    "log_likelihoods = gp_counts.One_sample_test(likelihood)\n",
    "log_likelihoods.to_csv(\"ll_\"+'Negative_binomial'+\"_exons_counts61.csv\")"
   ]
  },
  {
   "cell_type": "code",
   "execution_count": null,
   "metadata": {
    "scrolled": false
   },
   "outputs": [],
   "source": [
    "indexes = genes_name # list of genes to be plotted \n",
    "test = 'One_sample_test' # name of the test\n",
    "xtest = np.linspace(np.min(X.values)-.1,np.max(X.values)+.1,100)[:,None] # points to make prediction\n",
    "likelihood = 'Negative_binomial'\n",
    "params = gp_counts.load_models(indexes,test,xtest,likelihood)\n",
    "\n",
    "for i in range(len(indexes)):\n",
    "    fig = plt.figure()\n",
    "    print(indexes[i])\n",
    "    model_index = 1\n",
    "    for mean,var,model in zip(params['means'][i],params['vars'][i],params['models'][i]):\n",
    "        plot() \n",
    "        model_index = model_index + 1\n",
    "        gpflow.utilities.print_summary(model, fmt='notebook')"
   ]
  },
  {
   "cell_type": "code",
   "execution_count": null,
   "metadata": {},
   "outputs": [],
   "source": [
    "likelihood = 'Gaussian'\n",
    "log_likelihood = gp_counts.One_sample_test(likelihood)\n",
    "log_likelihood"
   ]
  },
  {
   "cell_type": "code",
   "execution_count": null,
   "metadata": {},
   "outputs": [],
   "source": [
    "params = gp_counts.load_models(indexes,test,xtest,likelihood)\n",
    "\n",
    "for i in range(len(indexes)):\n",
    "    fig = plt.figure()\n",
    "    print(indexes[i])\n",
    "    model_index = 1\n",
    "    for model,mean,var in zip(params['models'][i],params['means'][i],params['vars'][i]):\n",
    "        plot()\n",
    "        model_index = model_index + 1\n",
    "        gpflow.utilities.print_summary(model, fmt='notebook')"
   ]
  },
  {
   "cell_type": "code",
   "execution_count": null,
   "metadata": {},
   "outputs": [],
   "source": []
  },
  {
   "cell_type": "code",
   "execution_count": null,
   "metadata": {},
   "outputs": [],
   "source": []
  }
 ],
 "metadata": {
  "kernelspec": {
   "display_name": "Python [conda env:myenv2] *",
   "language": "python",
   "name": "conda-env-myenv2-py"
  },
  "language_info": {
   "codemirror_mode": {
    "name": "ipython",
    "version": 3
   },
   "file_extension": ".py",
   "mimetype": "text/x-python",
   "name": "python",
   "nbconvert_exporter": "python",
   "pygments_lexer": "ipython3",
   "version": "3.7.6"
  }
 },
 "nbformat": 4,
 "nbformat_minor": 2
}
