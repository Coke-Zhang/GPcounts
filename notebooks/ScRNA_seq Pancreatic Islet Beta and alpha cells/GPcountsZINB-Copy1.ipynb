{
 "cells": [
  {
   "cell_type": "markdown",
   "metadata": {},
   "source": [
    "## GPcounts with zero-inflated negative binomial likelihood"
   ]
  },
  {
   "cell_type": "markdown",
   "metadata": {},
   "source": [
    "Nuha BinTayyash, 2020\n",
    "\n",
    "This notebook comapre GPcount fit with zero-inflated negative binomial, negative binomial and Gaussian likelihoods on ScRNA-seq gene expression data for highly expressed genes in Islet $\\alpha$ cell from [GSE8737 single cell RNA-seq ](https://www.ncbi.nlm.nih.gov/geo/query/acc.cgi?acc=GSE87375) dataset."
   ]
  },
  {
   "cell_type": "code",
   "execution_count": 1,
   "metadata": {},
   "outputs": [],
   "source": [
    "import pandas as pd\n",
    "import numpy as np\n",
    "import gpflow "
   ]
  },
  {
   "cell_type": "markdown",
   "metadata": {},
   "source": [
    "Load $\\alpha$ dataset and pseudotime information"
   ]
  },
  {
   "cell_type": "code",
   "execution_count": 2,
   "metadata": {},
   "outputs": [],
   "source": [
    "Y = pd.read_csv('normalized_alpha_counts.csv',index_col=[0]).astype(float)\n",
    "X = pd.read_csv('alpha_time_points.csv',index_col=[0])"
   ]
  },
  {
   "cell_type": "markdown",
   "metadata": {},
   "source": [
    "#### Fit GPcount with zero inflated negative binomial likelihood"
   ]
  },
  {
   "cell_type": "code",
   "execution_count": 3,
   "metadata": {},
   "outputs": [],
   "source": [
    "from GPcounts.GPcounts_Module import Fit_GPcounts"
   ]
  },
  {
   "cell_type": "code",
   "execution_count": 4,
   "metadata": {},
   "outputs": [],
   "source": [
    "gene_name = ['Fam184b','Pde1a' ]\n",
    "gp_counts = Fit_GPcounts(X,Y.iloc[[0]]) "
   ]
  },
  {
   "cell_type": "markdown",
   "metadata": {},
   "source": [
    "Probabilty of zeros in Fam184b and Pde1a genes"
   ]
  },
  {
   "cell_type": "code",
   "execution_count": 5,
   "metadata": {},
   "outputs": [
    {
     "data": {
      "text/plain": [
       "ENSMUSG00000000266    0.000000\n",
       "ENSMUSG00000000275    0.000000\n",
       "ENSMUSG00000000276    0.167683\n",
       "dtype: float64"
      ]
     },
     "execution_count": 5,
     "metadata": {},
     "output_type": "execute_result"
    }
   ],
   "source": [
    "#Y.loc[gene_name][Y.loc[gene_name] == 0].count(axis=1)/len(Y.columns)\n",
    "Y.iloc[32:35,:][Y.iloc[34:35,:] == 0].count(axis=1)/len(Y.columns)"
   ]
  },
  {
   "cell_type": "code",
   "execution_count": 6,
   "metadata": {},
   "outputs": [
    {
     "data": {
      "text/html": [
       "<div>\n",
       "<style scoped>\n",
       "    .dataframe tbody tr th:only-of-type {\n",
       "        vertical-align: middle;\n",
       "    }\n",
       "\n",
       "    .dataframe tbody tr th {\n",
       "        vertical-align: top;\n",
       "    }\n",
       "\n",
       "    .dataframe thead th {\n",
       "        text-align: right;\n",
       "    }\n",
       "</style>\n",
       "<table border=\"1\" class=\"dataframe\">\n",
       "  <thead>\n",
       "    <tr style=\"text-align: right;\">\n",
       "      <th></th>\n",
       "      <th>aE17.5_2_09</th>\n",
       "      <th>aE17.5_2_16</th>\n",
       "      <th>aE17.5_1_11</th>\n",
       "      <th>aE17.5_3_07</th>\n",
       "      <th>aE17.5_4_06</th>\n",
       "      <th>aE17.5_3_04</th>\n",
       "      <th>aE17.5_2_11</th>\n",
       "      <th>aE17.5_1_25</th>\n",
       "      <th>aE17.5_4_01</th>\n",
       "      <th>aE17.5_4_03</th>\n",
       "      <th>...</th>\n",
       "      <th>aP18_3_12</th>\n",
       "      <th>aP60_1_11</th>\n",
       "      <th>aP60_3_05</th>\n",
       "      <th>aP15_1_15</th>\n",
       "      <th>aP60_1_13</th>\n",
       "      <th>aP60_3_08</th>\n",
       "      <th>aP60_5_16</th>\n",
       "      <th>aP18_1_17</th>\n",
       "      <th>aP60_1_10</th>\n",
       "      <th>aP60_5_05</th>\n",
       "    </tr>\n",
       "  </thead>\n",
       "  <tbody>\n",
       "    <tr>\n",
       "      <th>ENSMUSG00000000266</th>\n",
       "      <td>0.000000</td>\n",
       "      <td>0.000000</td>\n",
       "      <td>0.000000</td>\n",
       "      <td>0.000000</td>\n",
       "      <td>86.165206</td>\n",
       "      <td>0.812166</td>\n",
       "      <td>0.000000</td>\n",
       "      <td>0.000000</td>\n",
       "      <td>0.000000</td>\n",
       "      <td>0.000000</td>\n",
       "      <td>...</td>\n",
       "      <td>0.000000</td>\n",
       "      <td>0.0</td>\n",
       "      <td>0.000000</td>\n",
       "      <td>6.073315</td>\n",
       "      <td>30.100760</td>\n",
       "      <td>0.000000</td>\n",
       "      <td>0.000000</td>\n",
       "      <td>0.0</td>\n",
       "      <td>0.000000</td>\n",
       "      <td>128.684140</td>\n",
       "    </tr>\n",
       "    <tr>\n",
       "      <th>ENSMUSG00000000275</th>\n",
       "      <td>1.042968</td>\n",
       "      <td>50.832833</td>\n",
       "      <td>0.000000</td>\n",
       "      <td>4.215918</td>\n",
       "      <td>0.000000</td>\n",
       "      <td>5.685164</td>\n",
       "      <td>20.856865</td>\n",
       "      <td>0.000000</td>\n",
       "      <td>39.395133</td>\n",
       "      <td>47.436661</td>\n",
       "      <td>...</td>\n",
       "      <td>16.262649</td>\n",
       "      <td>0.0</td>\n",
       "      <td>3.734786</td>\n",
       "      <td>0.000000</td>\n",
       "      <td>38.310058</td>\n",
       "      <td>86.792367</td>\n",
       "      <td>0.000000</td>\n",
       "      <td>0.0</td>\n",
       "      <td>54.082832</td>\n",
       "      <td>0.000000</td>\n",
       "    </tr>\n",
       "    <tr>\n",
       "      <th>ENSMUSG00000000276</th>\n",
       "      <td>36.503888</td>\n",
       "      <td>3.986889</td>\n",
       "      <td>21.378473</td>\n",
       "      <td>65.346730</td>\n",
       "      <td>61.546575</td>\n",
       "      <td>0.812166</td>\n",
       "      <td>25.247784</td>\n",
       "      <td>39.644143</td>\n",
       "      <td>6.354054</td>\n",
       "      <td>58.323763</td>\n",
       "      <td>...</td>\n",
       "      <td>27.104415</td>\n",
       "      <td>0.0</td>\n",
       "      <td>109.242480</td>\n",
       "      <td>145.759571</td>\n",
       "      <td>1.368216</td>\n",
       "      <td>59.018810</td>\n",
       "      <td>1.043644</td>\n",
       "      <td>0.0</td>\n",
       "      <td>0.000000</td>\n",
       "      <td>1.063505</td>\n",
       "    </tr>\n",
       "  </tbody>\n",
       "</table>\n",
       "<p>3 rows × 328 columns</p>\n",
       "</div>"
      ],
      "text/plain": [
       "                    aE17.5_2_09  aE17.5_2_16  aE17.5_1_11  aE17.5_3_07  \\\n",
       "ENSMUSG00000000266     0.000000     0.000000     0.000000     0.000000   \n",
       "ENSMUSG00000000275     1.042968    50.832833     0.000000     4.215918   \n",
       "ENSMUSG00000000276    36.503888     3.986889    21.378473    65.346730   \n",
       "\n",
       "                    aE17.5_4_06  aE17.5_3_04  aE17.5_2_11  aE17.5_1_25  \\\n",
       "ENSMUSG00000000266    86.165206     0.812166     0.000000     0.000000   \n",
       "ENSMUSG00000000275     0.000000     5.685164    20.856865     0.000000   \n",
       "ENSMUSG00000000276    61.546575     0.812166    25.247784    39.644143   \n",
       "\n",
       "                    aE17.5_4_01  aE17.5_4_03  ...  aP18_3_12  aP60_1_11  \\\n",
       "ENSMUSG00000000266     0.000000     0.000000  ...   0.000000        0.0   \n",
       "ENSMUSG00000000275    39.395133    47.436661  ...  16.262649        0.0   \n",
       "ENSMUSG00000000276     6.354054    58.323763  ...  27.104415        0.0   \n",
       "\n",
       "                     aP60_3_05   aP15_1_15  aP60_1_13  aP60_3_08  aP60_5_16  \\\n",
       "ENSMUSG00000000266    0.000000    6.073315  30.100760   0.000000   0.000000   \n",
       "ENSMUSG00000000275    3.734786    0.000000  38.310058  86.792367   0.000000   \n",
       "ENSMUSG00000000276  109.242480  145.759571   1.368216  59.018810   1.043644   \n",
       "\n",
       "                    aP18_1_17  aP60_1_10   aP60_5_05  \n",
       "ENSMUSG00000000266        0.0   0.000000  128.684140  \n",
       "ENSMUSG00000000275        0.0  54.082832    0.000000  \n",
       "ENSMUSG00000000276        0.0   0.000000    1.063505  \n",
       "\n",
       "[3 rows x 328 columns]"
      ]
     },
     "execution_count": 6,
     "metadata": {},
     "output_type": "execute_result"
    }
   ],
   "source": [
    "Y.iloc[32:35,:]"
   ]
  },
  {
   "cell_type": "code",
   "execution_count": 7,
   "metadata": {},
   "outputs": [],
   "source": [
    "from matplotlib import pyplot as plt\n",
    "import statsmodels.api as sm\n",
    "\n",
    "def plot():\n",
    "    plt.tick_params(labelsize='large', width=2)     \n",
    "    plt.ylabel('Gene Expression', fontsize=16)\n",
    "    plt.xlabel('Times', fontsize=16)\n",
    "    \n",
    "    if model_index == 1 or model_index == 2:\n",
    "        c = 'blue'\n",
    "\n",
    "    else:\n",
    "        c = 'salmon'\n",
    "    \n",
    "    \n",
    "    if likelihood == 'Gaussian':\n",
    "        plt.fill_between(xtest[:,0],\n",
    "                            mean[:,0] - 1*np.sqrt(var[:,0]),\n",
    "                            mean[:,0] + 1*np.sqrt(var[:,0]), alpha=0.2) # one standard deviation\n",
    "        plt.fill_between(xtest[:,0],\n",
    "                            mean[:,0] - 2*np.sqrt(var[:,0]),\n",
    "                            mean[:,0] + 2*np.sqrt(var[:,0]),color='light'+c, alpha=0.2)# two standard deviation\n",
    "    else:\n",
    "        \n",
    "        lowess = sm.nonparametric.lowess\n",
    "        \n",
    "        # one standard deviation 68%\n",
    "        percentile_16 = lowess(np.percentile(var, 16, axis=0),xtest[:,0],frac=1./5, return_sorted=False)\n",
    "        percentile_84 = lowess(np.percentile(var, 84, axis=0),xtest[:,0],frac=1./5, return_sorted=False)\n",
    "        plt.fill_between(xtest[:,0],percentile_16,percentile_84,alpha = 0.2)\n",
    "        \n",
    "        # two standard deviation 95%\n",
    "        percentile_5 = lowess(np.percentile(var, 5, axis=0),xtest[:,0],frac=1./5, return_sorted=False)\n",
    "        percentile_95 = lowess(np.percentile(var,95, axis=0),xtest[:,0],frac=1./5, return_sorted=False)\n",
    "        plt.fill_between(xtest[:,0],percentile_5,percentile_95,color='light'+c,alpha = 0.2)\n",
    "        \n",
    "    plt.plot(xtest, mean, lw=2) \n",
    "    plt.scatter(model.data[0],model.data[1], s=10, color= c, alpha=0.6) #data\n",
    "    \n",
    "    if test == 'Two_samples_test':\n",
    "        if model_index == 1  or model_index ==3:\n",
    "            plt.scatter(model.data[0][int(model.data[0].shape[0]/2)::],model.data[1][int(model.data[0].shape[0]/2)::], s=10, color= 'salmon', alpha=0.6) #data\n",
    "            plt.show()\n",
    "    \n",
    "    else:\n",
    "        plt.show()"
   ]
  },
  {
   "cell_type": "code",
   "execution_count": 8,
   "metadata": {},
   "outputs": [
    {
     "name": "stderr",
     "output_type": "stream",
     "text": [
      "\r",
      "  0%|          | 0/1 [00:00<?, ?it/s]"
     ]
    },
    {
     "name": "stdout",
     "output_type": "stream",
     "text": [
      "{'ls': 0.05488135039273248, 'var': 14.58859796107597, 'alpha': 6.4248703846447945, 'km': 27.244159149844844}\n",
      "{'ls': 1000.0, 'var': 14.58859796107597, 'alpha': 6.4248703846447945, 'km': 27.244159149844844}\n"
     ]
    },
    {
     "name": "stderr",
     "output_type": "stream",
     "text": [
      "100%|██████████| 1/1 [00:57<00:00, 57.70s/it]\n"
     ]
    },
    {
     "data": {
      "text/html": [
       "<div>\n",
       "<style scoped>\n",
       "    .dataframe tbody tr th:only-of-type {\n",
       "        vertical-align: middle;\n",
       "    }\n",
       "\n",
       "    .dataframe tbody tr th {\n",
       "        vertical-align: top;\n",
       "    }\n",
       "\n",
       "    .dataframe thead th {\n",
       "        text-align: right;\n",
       "    }\n",
       "</style>\n",
       "<table border=\"1\" class=\"dataframe\">\n",
       "  <thead>\n",
       "    <tr style=\"text-align: right;\">\n",
       "      <th></th>\n",
       "      <th>Dynamic_model_log_likelihood</th>\n",
       "      <th>Constant_model_log_likelihood</th>\n",
       "      <th>log_likelihood_ratio</th>\n",
       "    </tr>\n",
       "  </thead>\n",
       "  <tbody>\n",
       "    <tr>\n",
       "      <th>ENSMUSG00000000001</th>\n",
       "      <td>-1818.722041</td>\n",
       "      <td>-1832.525235</td>\n",
       "      <td>13.803194</td>\n",
       "    </tr>\n",
       "  </tbody>\n",
       "</table>\n",
       "</div>"
      ],
      "text/plain": [
       "                    Dynamic_model_log_likelihood  \\\n",
       "ENSMUSG00000000001                  -1818.722041   \n",
       "\n",
       "                    Constant_model_log_likelihood  log_likelihood_ratio  \n",
       "ENSMUSG00000000001                   -1832.525235             13.803194  "
      ]
     },
     "execution_count": 8,
     "metadata": {},
     "output_type": "execute_result"
    }
   ],
   "source": [
    "likelihood = 'Zero_inflated_negative_binomial' \n",
    "log_likelihood = gp_counts.One_sample_test(likelihood)\n",
    "log_likelihood"
   ]
  },
  {
   "cell_type": "code",
   "execution_count": 9,
   "metadata": {},
   "outputs": [
    {
     "name": "stderr",
     "output_type": "stream",
     "text": [
      "\r",
      "  0%|          | 0/1 [00:00<?, ?it/s]"
     ]
    },
    {
     "name": "stdout",
     "output_type": "stream",
     "text": [
      "{'ls': 0.05488135039273248, 'var': 14.58859796107597, 'alpha': 6.4248703846447945, 'km': 27.244159149844844}\n",
      "{'ls': 1000.0, 'var': 14.58859796107597, 'alpha': 6.4248703846447945, 'km': 27.244159149844844}\n"
     ]
    },
    {
     "name": "stderr",
     "output_type": "stream",
     "text": [
      "100%|██████████| 1/1 [00:04<00:00,  4.44s/it]\n"
     ]
    },
    {
     "name": "stdout",
     "output_type": "stream",
     "text": [
      "ENSMUSG00000000001\n"
     ]
    },
    {
     "data": {
      "image/png": "[encoded data removed]",
      "text/plain": [
       "<Figure size 432x288 with 1 Axes>"
      ]
     },
     "metadata": {
      "needs_background": "light"
     },
     "output_type": "display_data"
    },
    {
     "data": {
      "image/png": "[encoded data removed]",
      "text/plain": [
       "<Figure size 432x288 with 1 Axes>"
      ]
     },
     "metadata": {
      "needs_background": "light"
     },
     "output_type": "display_data"
    }
   ],
   "source": [
    "#likelihood = 'Negative_binomial' \n",
    "indexes = log_likelihood.index.values.tolist() # list of genes to be plotted \n",
    "test = 'One_sample_test' # name of the test\n",
    "xtest = np.linspace(np.min(X.values)+.1,np.max(X.values)+.1,100)[:,None]\n",
    "\n",
    "params = gp_counts.load_models(indexes,test,xtest,likelihood)\n",
    "\n",
    "for i in range(len(indexes)):\n",
    "    fig = plt.figure()\n",
    "    print(indexes[i])\n",
    "    model_index = 1\n",
    "    for model,mean,var in zip(params['models'][i],params['means'][i],params['vars'][i]):\n",
    "        plot()\n",
    "        model_index = model_index + 1"
   ]
  },
  {
   "cell_type": "markdown",
   "metadata": {},
   "source": [
    "#### Fit GPcount with negative binomial likelihood"
   ]
  },
  {
   "cell_type": "code",
   "execution_count": null,
   "metadata": {},
   "outputs": [],
   "source": [
    "likelihood = 'Negative_binomial' \n",
    "log_likelihood_nb = gp_counts.Infer_trajectory(likelihood)\n",
    "log_likelihood_nb"
   ]
  },
  {
   "cell_type": "code",
   "execution_count": null,
   "metadata": {},
   "outputs": [],
   "source": [
    "params = gp_counts.load_models(indexes,test,xtest,likelihood)\n",
    "for i in range(len(indexes)):\n",
    "    fig = plt.figure()\n",
    "    print(indexes[i])\n",
    "    model_index = 1\n",
    "    for model,mean,var in zip(params['models'][i],params['means'][i],params['vars'][i]):\n",
    "        plot()\n",
    "        model_index = model_index + 1"
   ]
  },
  {
   "cell_type": "markdown",
   "metadata": {},
   "source": [
    "#### Fit GPcount with Gaussian likelihood"
   ]
  },
  {
   "cell_type": "code",
   "execution_count": null,
   "metadata": {},
   "outputs": [],
   "source": [
    "likelihood = 'Gaussian'\n",
    "log_likelihood = gp_counts.Infer_trajectory(likelihood)\n",
    "log_likelihood"
   ]
  },
  {
   "cell_type": "code",
   "execution_count": null,
   "metadata": {
    "scrolled": true
   },
   "outputs": [],
   "source": [
    "params = gp_counts.load_models(indexes,test,xtest,likelihood)\n",
    "\n",
    "for i in range(len(indexes)):\n",
    "    fig = plt.figure()\n",
    "    print(indexes[i])\n",
    "    model_index = 1\n",
    "    for model,mean,var in zip(params['models'][i],params['means'][i],params['vars'][i]):\n",
    "        plot()\n",
    "        model_index = model_index + 1"
   ]
  },
  {
   "cell_type": "code",
   "execution_count": null,
   "metadata": {},
   "outputs": [],
   "source": [
    "test = float('nan')\n",
    "test"
   ]
  },
  {
   "cell_type": "code",
   "execution_count": null,
   "metadata": {},
   "outputs": [],
   "source": [
    "\n",
    "if np.isnan(test):\n",
    "    print('yes')"
   ]
  },
  {
   "cell_type": "code",
   "execution_count": null,
   "metadata": {},
   "outputs": [],
   "source": []
  }
 ],
 "metadata": {
  "kernelspec": {
   "display_name": "Python [conda env:myenv2] *",
   "language": "python",
   "name": "conda-env-myenv2-py"
  },
  "language_info": {
   "codemirror_mode": {
    "name": "ipython",
    "version": 3
   },
   "file_extension": ".py",
   "mimetype": "text/x-python",
   "name": "python",
   "nbconvert_exporter": "python",
   "pygments_lexer": "ipython3",
   "version": "3.7.6"
  }
 },
 "nbformat": 4,
 "nbformat_minor": 2
}
