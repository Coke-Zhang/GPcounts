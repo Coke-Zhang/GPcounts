{
 "cells": [
  {
   "cell_type": "markdown",
   "metadata": {},
   "source": [
    "# Normalise gene expression data and run two samples test"
   ]
  },
  {
   "cell_type": "markdown",
   "metadata": {},
   "source": [
    "Nuha BinTayyash, 2020\n",
    "\n",
    "This notebook shows how to run [DESeq2](https://bioconductor.org/packages/release/bioc/html/DESeq2.html)  R package to normalize ScRNA-seq gene expression data for highly expressed genes in Islet $\\alpha$ cell from [GSE8737 single cell RNA-seq ](https://www.ncbi.nlm.nih.gov/geo/query/acc.cgi?acc=GSE87375) dataset."
   ]
  },
  {
   "cell_type": "markdown",
   "metadata": {},
   "source": [
    "#### load ScRNA-seq gene expression data for highly expressed genes in Islet $\\alpha$ cell from [GSE8737 single cell RNA-seq ](https://www.ncbi.nlm.nih.gov/geo/query/acc.cgi?acc=GSE87375) dataset. and normalize it using DESeq2"
   ]
  },
  {
   "cell_type": "code",
   "execution_count": 1,
   "metadata": {},
   "outputs": [
    {
     "data": {
      "text/html": [
       "<ol class=list-inline>\n",
       "\t<li>40916</li>\n",
       "\t<li>919</li>\n",
       "</ol>\n"
      ],
      "text/latex": [
       "\\begin{enumerate*}\n",
       "\\item 40916\n",
       "\\item 919\n",
       "\\end{enumerate*}\n"
      ],
      "text/markdown": [
       "1. 40916\n",
       "2. 919\n",
       "\n",
       "\n"
      ],
      "text/plain": [
       "[1] 40916   919"
      ]
     },
     "metadata": {},
     "output_type": "display_data"
    },
    {
     "data": {
      "text/html": [
       "<table>\n",
       "<thead><tr><th></th><th scope=col>Symbol</th><th scope=col>GeneLength</th><th scope=col>bE17.5_1_01</th><th scope=col>bE17.5_1_02</th><th scope=col>bE17.5_1_03</th><th scope=col>bE17.5_1_04</th><th scope=col>bE17.5_1_05</th><th scope=col>bE17.5_2_01</th><th scope=col>bE17.5_2_02</th><th scope=col>bE17.5_2_03</th><th scope=col>...</th><th scope=col>aE17.5_2_22</th><th scope=col>aE17.5_2_23</th><th scope=col>aE17.5_4_07</th><th scope=col>aE17.5_4_08</th><th scope=col>aP0_2_12</th><th scope=col>aP0_2_13</th><th scope=col>aP0_2_14</th><th scope=col>aP0_3_15</th><th scope=col>aP0_3_16</th><th scope=col>aP18_2_14</th></tr></thead>\n",
       "<tbody>\n",
       "\t<tr><th scope=row>ENSMUSG00000000001</th><td>Gnai3</td><td>3262 </td><td>316  </td><td>410  </td><td>186  </td><td>364  </td><td>439  </td><td>60   </td><td>358  </td><td>285  </td><td>...  </td><td>128  </td><td>297  </td><td>320  </td><td>263  </td><td>91   </td><td>151  </td><td>252  </td><td>138  </td><td>358  </td><td>43   </td></tr>\n",
       "\t<tr><th scope=row>ENSMUSG00000000003</th><td>Pbsn </td><td> 902 </td><td>  0  </td><td>  0  </td><td>  0  </td><td>  0  </td><td>  0  </td><td> 0   </td><td>  0  </td><td>  0  </td><td>...  </td><td>  0  </td><td>  0  </td><td>  0  </td><td>  0  </td><td> 0   </td><td>  0  </td><td>  0  </td><td>  0  </td><td>  0  </td><td> 0   </td></tr>\n",
       "\t<tr><th scope=row>ENSMUSG00000000028</th><td>Cdc45</td><td>2143 </td><td>  0  </td><td>  0  </td><td>  0  </td><td>  0  </td><td>  0  </td><td> 0   </td><td>  0  </td><td>  0  </td><td>...  </td><td>  0  </td><td>  0  </td><td> 33  </td><td> 30  </td><td> 0   </td><td>  0  </td><td>  0  </td><td>  0  </td><td>  0  </td><td> 0   </td></tr>\n",
       "\t<tr><th scope=row>ENSMUSG00000000031</th><td>H19  </td><td>2286 </td><td>  0  </td><td>  0  </td><td>  0  </td><td>  0  </td><td>  0  </td><td> 0   </td><td>  1  </td><td>  0  </td><td>...  </td><td> 95  </td><td>  0  </td><td>  0  </td><td>  0  </td><td> 0   </td><td>  0  </td><td>  0  </td><td>  0  </td><td>  0  </td><td> 0   </td></tr>\n",
       "\t<tr><th scope=row>ENSMUSG00000000037</th><td>Scml2</td><td>4847 </td><td>  0  </td><td>  0  </td><td>  0  </td><td>  0  </td><td>  0  </td><td> 0   </td><td>  0  </td><td>  0  </td><td>...  </td><td>  0  </td><td>  0  </td><td>  0  </td><td>  0  </td><td> 0   </td><td>  0  </td><td>  0  </td><td>  0  </td><td>  0  </td><td> 0   </td></tr>\n",
       "\t<tr><th scope=row>ENSMUSG00000000049</th><td>Apoh </td><td>1190 </td><td>  0  </td><td>  0  </td><td>  0  </td><td>  0  </td><td>  0  </td><td> 0   </td><td>  0  </td><td>  0  </td><td>...  </td><td>  0  </td><td>  0  </td><td>  0  </td><td>  8  </td><td> 0   </td><td>  0  </td><td>  0  </td><td>  0  </td><td>  0  </td><td> 0   </td></tr>\n",
       "</tbody>\n",
       "</table>\n"
      ],
      "text/latex": [
       "\\begin{tabular}{r|lllllllllllllllllllllllllllllllllllllllllllllllllllllllllllllllllllllllllllllllllllllllllllllllllllllllllllllllllllllllllllllllllllllllllllllllllllllllllllllllllllllllllllllllllllllllllllllllllllllllllllllllllllllllllllllllllllllllllllllllllllllllllllllllllllllllllllllllllllllllllllllllllllllllllllllllllllllllllllllllllllllllllllllllllllllllllllllllllllllllllllllllllllllllllllllllllllllllllllllllllllllllllllllllllllllllllllllllllllllllllllllllllllllllllllllllllllllllllllllllllllllllllllllllllllllllllllllllllllllllllllllllllllllllllllllllllllllllllllllllllllllllllllllllllllllllllllllllllllllllllllllllllllllllllllllllllllllllllllllllllllllllllllllllllllllllllllllllllllllllllllllllllllllllllllllllllllllllllllllllllllllllllllllllllllllllllllllllllllllllllllllllllllllllllllllllllllllllllllllllllllllllllllllllllllllllllllllllllllllllllllllllllllllllllllllllllllllllllllllllllllllllllllllllllllllllllllllllllllllll}\n",
       "  & Symbol & GeneLength & bE17.5\\_1\\_01 & bE17.5\\_1\\_02 & bE17.5\\_1\\_03 & bE17.5\\_1\\_04 & bE17.5\\_1\\_05 & bE17.5\\_2\\_01 & bE17.5\\_2\\_02 & bE17.5\\_2\\_03 & ... & aE17.5\\_2\\_22 & aE17.5\\_2\\_23 & aE17.5\\_4\\_07 & aE17.5\\_4\\_08 & aP0\\_2\\_12 & aP0\\_2\\_13 & aP0\\_2\\_14 & aP0\\_3\\_15 & aP0\\_3\\_16 & aP18\\_2\\_14\\\\\n",
       "\\hline\n",
       "\tENSMUSG00000000001 & Gnai3 & 3262  & 316   & 410   & 186   & 364   & 439   & 60    & 358   & 285   & ...   & 128   & 297   & 320   & 263   & 91    & 151   & 252   & 138   & 358   & 43   \\\\\n",
       "\tENSMUSG00000000003 & Pbsn  &  902  &   0   &   0   &   0   &   0   &   0   &  0    &   0   &   0   & ...   &   0   &   0   &   0   &   0   &  0    &   0   &   0   &   0   &   0   &  0   \\\\\n",
       "\tENSMUSG00000000028 & Cdc45 & 2143  &   0   &   0   &   0   &   0   &   0   &  0    &   0   &   0   & ...   &   0   &   0   &  33   &  30   &  0    &   0   &   0   &   0   &   0   &  0   \\\\\n",
       "\tENSMUSG00000000031 & H19   & 2286  &   0   &   0   &   0   &   0   &   0   &  0    &   1   &   0   & ...   &  95   &   0   &   0   &   0   &  0    &   0   &   0   &   0   &   0   &  0   \\\\\n",
       "\tENSMUSG00000000037 & Scml2 & 4847  &   0   &   0   &   0   &   0   &   0   &  0    &   0   &   0   & ...   &   0   &   0   &   0   &   0   &  0    &   0   &   0   &   0   &   0   &  0   \\\\\n",
       "\tENSMUSG00000000049 & Apoh  & 1190  &   0   &   0   &   0   &   0   &   0   &  0    &   0   &   0   & ...   &   0   &   0   &   0   &   8   &  0    &   0   &   0   &   0   &   0   &  0   \\\\\n",
       "\\end{tabular}\n"
      ],
      "text/markdown": [
       "\n",
       "| <!--/--> | Symbol | GeneLength | bE17.5_1_01 | bE17.5_1_02 | bE17.5_1_03 | bE17.5_1_04 | bE17.5_1_05 | bE17.5_2_01 | bE17.5_2_02 | bE17.5_2_03 | ... | aE17.5_2_22 | aE17.5_2_23 | aE17.5_4_07 | aE17.5_4_08 | aP0_2_12 | aP0_2_13 | aP0_2_14 | aP0_3_15 | aP0_3_16 | aP18_2_14 |\n",
       "|---|---|---|---|---|---|---|---|---|---|---|---|---|---|---|---|---|---|---|---|---|---|\n",
       "| ENSMUSG00000000001 | Gnai3 | 3262  | 316   | 410   | 186   | 364   | 439   | 60    | 358   | 285   | ...   | 128   | 297   | 320   | 263   | 91    | 151   | 252   | 138   | 358   | 43    |\n",
       "| ENSMUSG00000000003 | Pbsn  |  902  |   0   |   0   |   0   |   0   |   0   |  0    |   0   |   0   | ...   |   0   |   0   |   0   |   0   |  0    |   0   |   0   |   0   |   0   |  0    |\n",
       "| ENSMUSG00000000028 | Cdc45 | 2143  |   0   |   0   |   0   |   0   |   0   |  0    |   0   |   0   | ...   |   0   |   0   |  33   |  30   |  0    |   0   |   0   |   0   |   0   |  0    |\n",
       "| ENSMUSG00000000031 | H19   | 2286  |   0   |   0   |   0   |   0   |   0   |  0    |   1   |   0   | ...   |  95   |   0   |   0   |   0   |  0    |   0   |   0   |   0   |   0   |  0    |\n",
       "| ENSMUSG00000000037 | Scml2 | 4847  |   0   |   0   |   0   |   0   |   0   |  0    |   0   |   0   | ...   |   0   |   0   |   0   |   0   |  0    |   0   |   0   |   0   |   0   |  0    |\n",
       "| ENSMUSG00000000049 | Apoh  | 1190  |   0   |   0   |   0   |   0   |   0   |  0    |   0   |   0   | ...   |   0   |   0   |   0   |   8   |  0    |   0   |   0   |   0   |   0   |  0    |\n",
       "\n"
      ],
      "text/plain": [
       "                   Symbol GeneLength bE17.5_1_01 bE17.5_1_02 bE17.5_1_03\n",
       "ENSMUSG00000000001 Gnai3  3262       316         410         186        \n",
       "ENSMUSG00000000003 Pbsn    902         0           0           0        \n",
       "ENSMUSG00000000028 Cdc45  2143         0           0           0        \n",
       "ENSMUSG00000000031 H19    2286         0           0           0        \n",
       "ENSMUSG00000000037 Scml2  4847         0           0           0        \n",
       "ENSMUSG00000000049 Apoh   1190         0           0           0        \n",
       "                   bE17.5_1_04 bE17.5_1_05 bE17.5_2_01 bE17.5_2_02 bE17.5_2_03\n",
       "ENSMUSG00000000001 364         439         60          358         285        \n",
       "ENSMUSG00000000003   0           0          0            0           0        \n",
       "ENSMUSG00000000028   0           0          0            0           0        \n",
       "ENSMUSG00000000031   0           0          0            1           0        \n",
       "ENSMUSG00000000037   0           0          0            0           0        \n",
       "ENSMUSG00000000049   0           0          0            0           0        \n",
       "                   ... aE17.5_2_22 aE17.5_2_23 aE17.5_4_07 aE17.5_4_08 aP0_2_12\n",
       "ENSMUSG00000000001 ... 128         297         320         263         91      \n",
       "ENSMUSG00000000003 ...   0           0           0           0          0      \n",
       "ENSMUSG00000000028 ...   0           0          33          30          0      \n",
       "ENSMUSG00000000031 ...  95           0           0           0          0      \n",
       "ENSMUSG00000000037 ...   0           0           0           0          0      \n",
       "ENSMUSG00000000049 ...   0           0           0           8          0      \n",
       "                   aP0_2_13 aP0_2_14 aP0_3_15 aP0_3_16 aP18_2_14\n",
       "ENSMUSG00000000001 151      252      138      358      43       \n",
       "ENSMUSG00000000003   0        0        0        0       0       \n",
       "ENSMUSG00000000028   0        0        0        0       0       \n",
       "ENSMUSG00000000031   0        0        0        0       0       \n",
       "ENSMUSG00000000037   0        0        0        0       0       \n",
       "ENSMUSG00000000049   0        0        0        0       0       "
      ]
     },
     "metadata": {},
     "output_type": "display_data"
    }
   ],
   "source": [
    "counts <- read.csv(file = 'GSE87375_Single_Cell_RNA-seq_Gene_Read_Count.csv',row.names = 1, header = TRUE)\n",
    "dim(counts)\n",
    "head(counts)"
   ]
  },
  {
   "cell_type": "code",
   "execution_count": 2,
   "metadata": {},
   "outputs": [
    {
     "data": {
      "text/html": [
       "<table>\n",
       "<thead><tr><th></th><th scope=col>pseudotime</th></tr></thead>\n",
       "<tbody>\n",
       "\t<tr><th scope=row>aE17.5_2_09</th><td>0.000000000</td></tr>\n",
       "\t<tr><th scope=row>aE17.5_2_16</th><td>0.005363444</td></tr>\n",
       "\t<tr><th scope=row>aE17.5_1_11</th><td>0.022454001</td></tr>\n",
       "\t<tr><th scope=row>aE17.5_3_07</th><td>0.022891405</td></tr>\n",
       "\t<tr><th scope=row>aE17.5_4_06</th><td>0.030221853</td></tr>\n",
       "\t<tr><th scope=row>aE17.5_3_04</th><td>0.037523365</td></tr>\n",
       "</tbody>\n",
       "</table>\n"
      ],
      "text/latex": [
       "\\begin{tabular}{r|l}\n",
       "  & pseudotime\\\\\n",
       "\\hline\n",
       "\taE17.5\\_2\\_09 & 0.000000000\\\\\n",
       "\taE17.5\\_2\\_16 & 0.005363444\\\\\n",
       "\taE17.5\\_1\\_11 & 0.022454001\\\\\n",
       "\taE17.5\\_3\\_07 & 0.022891405\\\\\n",
       "\taE17.5\\_4\\_06 & 0.030221853\\\\\n",
       "\taE17.5\\_3\\_04 & 0.037523365\\\\\n",
       "\\end{tabular}\n"
      ],
      "text/markdown": [
       "\n",
       "| <!--/--> | pseudotime |\n",
       "|---|---|\n",
       "| aE17.5_2_09 | 0.000000000 |\n",
       "| aE17.5_2_16 | 0.005363444 |\n",
       "| aE17.5_1_11 | 0.022454001 |\n",
       "| aE17.5_3_07 | 0.022891405 |\n",
       "| aE17.5_4_06 | 0.030221853 |\n",
       "| aE17.5_3_04 | 0.037523365 |\n",
       "\n"
      ],
      "text/plain": [
       "            pseudotime \n",
       "aE17.5_2_09 0.000000000\n",
       "aE17.5_2_16 0.005363444\n",
       "aE17.5_1_11 0.022454001\n",
       "aE17.5_3_07 0.022891405\n",
       "aE17.5_4_06 0.030221853\n",
       "aE17.5_3_04 0.037523365"
      ]
     },
     "metadata": {},
     "output_type": "display_data"
    }
   ],
   "source": [
    "alpha_col_data <- read.csv(file = 'alpha_time_points.csv',row.names = 1, header = TRUE)\n",
    "head(alpha_col_data)"
   ]
  },
  {
   "cell_type": "markdown",
   "metadata": {},
   "source": [
    "Filter $\\alpha$ cells and genes "
   ]
  },
  {
   "cell_type": "code",
   "execution_count": 3,
   "metadata": {},
   "outputs": [
    {
     "data": {
      "text/html": [
       "<ol class=list-inline>\n",
       "\t<li>13534</li>\n",
       "\t<li>328</li>\n",
       "</ol>\n"
      ],
      "text/latex": [
       "\\begin{enumerate*}\n",
       "\\item 13534\n",
       "\\item 328\n",
       "\\end{enumerate*}\n"
      ],
      "text/markdown": [
       "1. 13534\n",
       "2. 328\n",
       "\n",
       "\n"
      ],
      "text/plain": [
       "[1] 13534   328"
      ]
     },
     "metadata": {},
     "output_type": "display_data"
    }
   ],
   "source": [
    "alpha_counts <- counts[ , grepl( \"a\" , names( counts ) ) ]\n",
    "alpha_counts <- alpha_counts[rownames(alpha_col_data)]\n",
    "keep <- rowMeans(alpha_counts) >1\n",
    "alpha_counts <- alpha_counts[keep,]\n",
    "dim(alpha_counts)\n",
    "write.csv(alpha_counts, file = \"alpha_read_counts.csv\")"
   ]
  },
  {
   "cell_type": "markdown",
   "metadata": {},
   "source": [
    "Normalize data using DESeq2 and run one sample test"
   ]
  },
  {
   "cell_type": "code",
   "execution_count": 4,
   "metadata": {},
   "outputs": [
    {
     "name": "stderr",
     "output_type": "stream",
     "text": [
      "Loading required package: S4Vectors\n",
      "Loading required package: stats4\n",
      "Loading required package: BiocGenerics\n",
      "Loading required package: parallel\n",
      "\n",
      "Attaching package: ‘BiocGenerics’\n",
      "\n",
      "The following objects are masked from ‘package:parallel’:\n",
      "\n",
      "    clusterApply, clusterApplyLB, clusterCall, clusterEvalQ,\n",
      "    clusterExport, clusterMap, parApply, parCapply, parLapply,\n",
      "    parLapplyLB, parRapply, parSapply, parSapplyLB\n",
      "\n",
      "The following objects are masked from ‘package:stats’:\n",
      "\n",
      "    IQR, mad, sd, var, xtabs\n",
      "\n",
      "The following objects are masked from ‘package:base’:\n",
      "\n",
      "    anyDuplicated, append, as.data.frame, basename, cbind, colnames,\n",
      "    dirname, do.call, duplicated, eval, evalq, Filter, Find, get, grep,\n",
      "    grepl, intersect, is.unsorted, lapply, Map, mapply, match, mget,\n",
      "    order, paste, pmax, pmax.int, pmin, pmin.int, Position, rank,\n",
      "    rbind, Reduce, rownames, sapply, setdiff, sort, table, tapply,\n",
      "    union, unique, unsplit, which, which.max, which.min\n",
      "\n",
      "\n",
      "Attaching package: ‘S4Vectors’\n",
      "\n",
      "The following object is masked from ‘package:base’:\n",
      "\n",
      "    expand.grid\n",
      "\n",
      "Loading required package: IRanges\n",
      "Loading required package: GenomicRanges\n",
      "Loading required package: GenomeInfoDb\n",
      "Loading required package: SummarizedExperiment\n",
      "Loading required package: Biobase\n",
      "Welcome to Bioconductor\n",
      "\n",
      "    Vignettes contain introductory material; view with\n",
      "    'browseVignettes()'. To cite Bioconductor, see\n",
      "    'citation(\"Biobase\")', and for packages 'citation(\"pkgname\")'.\n",
      "\n",
      "Loading required package: DelayedArray\n",
      "Loading required package: matrixStats\n",
      "\n",
      "Attaching package: ‘matrixStats’\n",
      "\n",
      "The following objects are masked from ‘package:Biobase’:\n",
      "\n",
      "    anyMissing, rowMedians\n",
      "\n",
      "Loading required package: BiocParallel\n",
      "\n",
      "Attaching package: ‘DelayedArray’\n",
      "\n",
      "The following objects are masked from ‘package:matrixStats’:\n",
      "\n",
      "    colMaxs, colMins, colRanges, rowMaxs, rowMins, rowRanges\n",
      "\n",
      "The following objects are masked from ‘package:base’:\n",
      "\n",
      "    aperm, apply, rowsum\n",
      "\n"
     ]
    }
   ],
   "source": [
    "library(\"DESeq2\")\n",
    "dds <- DESeqDataSetFromMatrix(countData = alpha_counts,\n",
    "                              colData = alpha_col_data,\n",
    "                              design = ~pseudotime)\n",
    "dds <- estimateSizeFactors(dds)\n",
    "normalized_alpha_counts <-counts(dds, normalized=TRUE)\n",
    "write.csv(normalized_alpha_counts, file = \"normalized_alpha_counts.csv\")"
   ]
  },
  {
   "cell_type": "code",
   "execution_count": 5,
   "metadata": {},
   "outputs": [
    {
     "name": "stderr",
     "output_type": "stream",
     "text": [
      "using pre-existing size factors\n",
      "estimating dispersions\n",
      "gene-wise dispersion estimates\n",
      "mean-dispersion relationship\n",
      "final dispersion estimates\n",
      "fitting model and testing\n"
     ]
    }
   ],
   "source": [
    "dds <- DESeq(dds, test=\"LRT\", reduced = ~ 1)\n",
    "res <- results(dds)\n",
    "write.csv(as.data.frame(resTC),file=\"alpha_DESeq2.csv\")"
   ]
  },
  {
   "cell_type": "code",
   "execution_count": null,
   "metadata": {},
   "outputs": [],
   "source": []
  }
 ],
 "metadata": {
  "kernelspec": {
   "display_name": "R [conda env:tensonflow_2.1]",
   "language": "R",
   "name": "conda-env-tensonflow_2.1-r"
  },
  "language_info": {
   "codemirror_mode": "r",
   "file_extension": ".r",
   "mimetype": "text/x-r-source",
   "name": "R",
   "pygments_lexer": "r",
   "version": "3.6.2"
  }
 },
 "nbformat": 4,
 "nbformat_minor": 2
}
