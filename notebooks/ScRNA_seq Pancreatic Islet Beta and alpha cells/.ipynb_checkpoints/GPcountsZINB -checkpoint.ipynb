{
 "cells": [
  {
   "cell_type": "markdown",
   "metadata": {},
   "source": [
    "## GPcounts with zero-inflated negative binomial likelihood"
   ]
  },
  {
   "cell_type": "markdown",
   "metadata": {},
   "source": [
    "Nuha BinTayyash, 2020\n",
    "\n",
    "This notebook comapre GPcount fit with zero-inflated negative binomial, negative binomial and Gaussian likelihoods on ScRNA-seq gene expression data for highly expressed genes in Islet $\\alpha$ cell from [GSE8737 single cell RNA-seq ](https://www.ncbi.nlm.nih.gov/geo/query/acc.cgi?acc=GSE87375) dataset."
   ]
  },
  {
   "cell_type": "code",
   "execution_count": 1,
   "metadata": {},
   "outputs": [],
   "source": [
    "import pandas as pd\n",
    "import numpy as np"
   ]
  },
  {
   "cell_type": "markdown",
   "metadata": {},
   "source": [
    "Load $\\alpha$ dataset and pseudotime information"
   ]
  },
  {
   "cell_type": "code",
   "execution_count": 2,
   "metadata": {},
   "outputs": [],
   "source": [
    "Y = pd.read_csv('alpha_counts.csv',index_col=[0])\n",
    "X = pd.read_csv('alpha_time_points.csv',index_col=[0])"
   ]
  },
  {
   "cell_type": "markdown",
   "metadata": {},
   "source": [
    "#### Fit GPcount with zero inflated negative binomial likelihood"
   ]
  },
  {
   "cell_type": "code",
   "execution_count": 3,
   "metadata": {},
   "outputs": [],
   "source": [
    "from GPcounts.GPcounts_Module import Fit_GPcounts"
   ]
  },
  {
   "cell_type": "code",
   "execution_count": 4,
   "metadata": {},
   "outputs": [],
   "source": [
    "gene_name = ['Fam184b','Pde1a']\n",
    "gp_counts = Fit_GPcounts(X,Y.loc[gene_name]) "
   ]
  },
  {
   "cell_type": "markdown",
   "metadata": {},
   "source": [
    "Probabilty of zeros in Fam184b and Pde1a genes"
   ]
  },
  {
   "cell_type": "code",
   "execution_count": 5,
   "metadata": {},
   "outputs": [
    {
     "data": {
      "text/plain": [
       "Symbol\n",
       "Fam184b    0.862805\n",
       "Pde1a      0.689024\n",
       "dtype: float64"
      ]
     },
     "execution_count": 5,
     "metadata": {},
     "output_type": "execute_result"
    }
   ],
   "source": [
    "Y.loc[gene_name][Y.loc[gene_name] == 0].count(axis=1)/len(Y.columns)"
   ]
  },
  {
   "cell_type": "code",
   "execution_count": 7,
   "metadata": {},
   "outputs": [],
   "source": [
    "import numpy as np\n",
    "from matplotlib import pyplot as plt\n",
    "import statsmodels.api as sm\n",
    "\n",
    "def plot(likelihood,xtest,model,mean,var):\n",
    "         \n",
    "    fig = plt.figure()\n",
    "    plt.ylabel('Gene Expression', fontsize=16)\n",
    "    plt.xlabel('Times', fontsize=16)\n",
    "\n",
    "   \n",
    "    if likelihood == 'Gaussian':\n",
    "        y = np.log(model.data[1]+1)\n",
    "        plt.fill_between(xtest[:,0],\n",
    "                            mean[:,0] - 2*np.sqrt(var[:,0]),\n",
    "                            mean[:,0] + 2*np.sqrt(var[:,0]), alpha=0.2)\n",
    "    else:\n",
    "        y = model.data[1]\n",
    "        lowess = sm.nonparametric.lowess\n",
    "        percentile_5 = lowess(np.percentile(var, 5, axis=0),xtest[:,0],frac=1./5, return_sorted=False)\n",
    "        percentile_95 = lowess(np.percentile(var, 95, axis=0),xtest[:,0],frac=1./5, return_sorted=False)\n",
    "        plt.fill_between(xtest[:,0],percentile_5,percentile_95,alpha = 0.2)\n",
    "\n",
    "    plt.scatter(model.data[0],model.data[1], s=10, color='black', alpha=0.6) #data\n",
    "    plt.plot(xtest, mean, lw=2) \n",
    "    plt.show()"
   ]
  },
  {
   "cell_type": "code",
   "execution_count": null,
   "metadata": {},
   "outputs": [
    {
     "name": "stderr",
     "output_type": "stream",
     "text": [
      "\r",
      "  0%|          | 0/2 [00:00<?, ?it/s]"
     ]
    }
   ],
   "source": [
    "likelihood_zinb = 'Zero_inflated_negative_binomial' \n",
    "log_likelihood_zinb = gp_counts.Infer_trajectory(likelihood_zinb)\n",
    "log_likelihood_zinb"
   ]
  },
  {
   "cell_type": "code",
   "execution_count": null,
   "metadata": {},
   "outputs": [],
   "source": [
    "likelihood_zinb = 'Zero_inflated_negative_binomial' \n",
    "indexes = log_likelihood_zinb.index.values # list of genes to be plotted \n",
    "test = 'Infer_trajectory' # name of the test\n",
    "xtest = np.linspace(np.min(X.values),np.max(X.values),100)[:,None] # points to make prediction\n",
    "sample = True # sample or/and load model \n",
    "params = gp_counts.load_and_sample_models(indexes,test,xtest,likelihood_zinb,sample)\n",
    "\n",
    "for i in range(len(indexes)):\n",
    "    print(indexes[i])    \n",
    "    for model,mean,var in zip(params['models'][i],params['means'][i],params['vars'][i]):\n",
    "        mean = np.array(mean)\n",
    "        var = np.array(var)\n",
    "        plot(likelihood_zinb,xtest,model,mean,var)"
   ]
  },
  {
   "cell_type": "markdown",
   "metadata": {},
   "source": [
    "#### Fit GPcount with negative binomial likelihood"
   ]
  },
  {
   "cell_type": "code",
   "execution_count": null,
   "metadata": {},
   "outputs": [],
   "source": [
    "likelihood_nb = 'Negative_binomial' \n",
    "log_likelihood_nb = gp_counts.Infer_trajectory(likelihood_nb)\n",
    "log_likelihood_nb"
   ]
  },
  {
   "cell_type": "code",
   "execution_count": null,
   "metadata": {},
   "outputs": [],
   "source": [
    "params = gp_counts.load_and_sample_models(indexes,test,xtest,likelihood_nb,sample)\n",
    "for i in range(len(indexes)):\n",
    "    print(indexes[i])\n",
    "    for model,mean,var in zip(params['models'][i],params['means'][i],params['vars'][i]):\n",
    "        mean = np.array(mean)\n",
    "        var = np.array(var)\n",
    "        plot(likelihood_nb,xtest,model,mean,var)"
   ]
  },
  {
   "cell_type": "markdown",
   "metadata": {},
   "source": [
    "#### Fit GPcount with Gaussian likelihood"
   ]
  },
  {
   "cell_type": "code",
   "execution_count": null,
   "metadata": {},
   "outputs": [],
   "source": [
    "likelihood_Gaussian = 'Gaussian' \n",
    "log_likelihood_Gaussian = gp_counts.Infer_trajectory(likelihood_Gaussian)\n",
    "log_likelihood_Gaussian"
   ]
  },
  {
   "cell_type": "code",
   "execution_count": null,
   "metadata": {},
   "outputs": [],
   "source": [
    "params = gp_counts.load_and_sample_models(indexes,test,xtest,likelihood_Gaussian,sample)\n",
    "for i in range(len(indexes)):\n",
    "    print(indexes[i])\n",
    "    for model,mean,var in zip(params['models'][i],params['means'][i],params['vars'][i]):\n",
    "        mean = np.array(mean)\n",
    "        var = np.array(var)\n",
    "        plot(likelihood_Gaussian,xtest,model,mean,var)"
   ]
  },
  {
   "cell_type": "code",
   "execution_count": null,
   "metadata": {},
   "outputs": [],
   "source": []
  }
 ],
 "metadata": {
  "kernelspec": {
   "display_name": "Python [conda env:test_GP]",
   "language": "python",
   "name": "conda-env-test_GP-py"
  },
  "language_info": {
   "codemirror_mode": {
    "name": "ipython",
    "version": 3
   },
   "file_extension": ".py",
   "mimetype": "text/x-python",
   "name": "python",
   "nbconvert_exporter": "python",
   "pygments_lexer": "ipython3",
   "version": "3.7.6"
  }
 },
 "nbformat": 4,
 "nbformat_minor": 2
}
