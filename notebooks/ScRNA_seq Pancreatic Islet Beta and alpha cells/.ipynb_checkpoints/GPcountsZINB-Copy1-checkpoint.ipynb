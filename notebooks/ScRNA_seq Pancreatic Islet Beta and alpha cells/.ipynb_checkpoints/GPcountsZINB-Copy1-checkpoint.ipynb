{
 "cells": [
  {
   "cell_type": "markdown",
   "metadata": {},
   "source": [
    "## GPcounts with zero-inflated negative binomial likelihood"
   ]
  },
  {
   "cell_type": "markdown",
   "metadata": {},
   "source": [
    "Nuha BinTayyash, 2020\n",
    "\n",
    "This notebook comapre GPcount fit with zero-inflated negative binomial, negative binomial and Gaussian likelihoods on ScRNA-seq gene expression data for highly expressed genes in Islet $\\alpha$ cell from [GSE8737 single cell RNA-seq ](https://www.ncbi.nlm.nih.gov/geo/query/acc.cgi?acc=GSE87375) dataset."
   ]
  },
  {
   "cell_type": "code",
   "execution_count": 1,
   "metadata": {},
   "outputs": [],
   "source": [
    "import pandas as pd\n",
    "import numpy as np\n",
    "import gpflow "
   ]
  },
  {
   "cell_type": "markdown",
   "metadata": {},
   "source": [
    "Load $\\alpha$ dataset and pseudotime information"
   ]
  },
  {
   "cell_type": "code",
   "execution_count": 2,
   "metadata": {},
   "outputs": [],
   "source": [
    "Y = pd.read_csv('normalized_alpha_counts26.csv',index_col=[0]).astype(float)\n",
    "X = pd.read_csv('alpha_time_points.csv',index_col=[0])"
   ]
  },
  {
   "cell_type": "markdown",
   "metadata": {},
   "source": [
    "#### Fit GPcount with zero inflated negative binomial likelihood"
   ]
  },
  {
   "cell_type": "code",
   "execution_count": 3,
   "metadata": {},
   "outputs": [],
   "source": [
    "from GPcounts.GPcounts_Module import Fit_GPcounts"
   ]
  },
  {
   "cell_type": "code",
   "execution_count": 5,
   "metadata": {},
   "outputs": [],
   "source": [
    "gene_name = ['ENSMUSG00000038943', 'ENSMUSG00000000394', 'ENSMUSG00000039396',\n",
    "       'ENSMUSG00000040856', 'ENSMUSG00000023944', 'ENSMUSG00000062510',\n",
    "       'ENSMUSG00000012443', 'ENSMUSG00000066366', 'ENSMUSG00000017716',\n",
    "       'ENSMUSG00000027326', 'ENSMUSG00000027447', 'ENSMUSG00000021270',\n",
    "       'ENSMUSG00000036928', 'ENSMUSG00000027419', 'ENSMUSG00000071178',\n",
    "       'ENSMUSG00000022034', 'ENSMUSG00000001403', 'ENSMUSG00000038224',\n",
    "       'ENSMUSG00000079015', 'ENSMUSG00000087594', 'ENSMUSG00000016319',\n",
    "       'ENSMUSG00000073530', 'ENSMUSG00000024552', 'ENSMUSG00000025386',\n",
    "       'ENSMUSG00000027322', 'ENSMUSG00000022285', 'ENSMUSG00000027469',\n",
    "       'ENSMUSG00000007892', 'ENSMUSG00000052854', 'ENSMUSG00000049517']\n",
    "gp_counts = Fit_GPcounts(X,Y)\n",
    "                         #.loc[gene_name]) "
   ]
  },
  {
   "cell_type": "markdown",
   "metadata": {},
   "source": [
    "Probabilty of zeros in Fam184b and Pde1a genes"
   ]
  },
  {
   "cell_type": "code",
   "execution_count": 6,
   "metadata": {},
   "outputs": [
    {
     "data": {
      "text/plain": [
       "ENSMUSG00000021147    0.000000\n",
       "ENSMUSG00000021149    0.000000\n",
       "ENSMUSG00000021156    0.115854\n",
       "dtype: float64"
      ]
     },
     "execution_count": 6,
     "metadata": {},
     "output_type": "execute_result"
    }
   ],
   "source": [
    "#Y.loc[gene_name][Y.loc[gene_name] == 0].count(axis=1)/len(Y.columns)\n",
    "Y.iloc[32:35,:][Y.iloc[34:35,:] == 0].count(axis=1)/len(Y.columns)"
   ]
  },
  {
   "cell_type": "code",
   "execution_count": 7,
   "metadata": {},
   "outputs": [
    {
     "data": {
      "text/html": [
       "<div>\n",
       "<style scoped>\n",
       "    .dataframe tbody tr th:only-of-type {\n",
       "        vertical-align: middle;\n",
       "    }\n",
       "\n",
       "    .dataframe tbody tr th {\n",
       "        vertical-align: top;\n",
       "    }\n",
       "\n",
       "    .dataframe thead th {\n",
       "        text-align: right;\n",
       "    }\n",
       "</style>\n",
       "<table border=\"1\" class=\"dataframe\">\n",
       "  <thead>\n",
       "    <tr style=\"text-align: right;\">\n",
       "      <th></th>\n",
       "      <th>aE17.5_2_09</th>\n",
       "      <th>aE17.5_2_16</th>\n",
       "      <th>aE17.5_1_11</th>\n",
       "      <th>aE17.5_3_07</th>\n",
       "      <th>aE17.5_4_06</th>\n",
       "      <th>aE17.5_3_04</th>\n",
       "      <th>aE17.5_2_11</th>\n",
       "      <th>aE17.5_1_25</th>\n",
       "      <th>aE17.5_4_01</th>\n",
       "      <th>aE17.5_4_03</th>\n",
       "      <th>...</th>\n",
       "      <th>aP18_3_12</th>\n",
       "      <th>aP60_1_11</th>\n",
       "      <th>aP60_3_05</th>\n",
       "      <th>aP15_1_15</th>\n",
       "      <th>aP60_1_13</th>\n",
       "      <th>aP60_3_08</th>\n",
       "      <th>aP60_5_16</th>\n",
       "      <th>aP18_1_17</th>\n",
       "      <th>aP60_1_10</th>\n",
       "      <th>aP60_5_05</th>\n",
       "    </tr>\n",
       "  </thead>\n",
       "  <tbody>\n",
       "    <tr>\n",
       "      <th>ENSMUSG00000021147</th>\n",
       "      <td>1.042968</td>\n",
       "      <td>17.941000</td>\n",
       "      <td>91.749282</td>\n",
       "      <td>56.212241</td>\n",
       "      <td>4.734352</td>\n",
       "      <td>0.000000</td>\n",
       "      <td>15.368216</td>\n",
       "      <td>6.343063</td>\n",
       "      <td>18.426756</td>\n",
       "      <td>27.217756</td>\n",
       "      <td>...</td>\n",
       "      <td>0.000000</td>\n",
       "      <td>45.762684</td>\n",
       "      <td>4.668482</td>\n",
       "      <td>0.000000</td>\n",
       "      <td>25.996111</td>\n",
       "      <td>0.000000</td>\n",
       "      <td>0.000000</td>\n",
       "      <td>0.000000</td>\n",
       "      <td>0.0</td>\n",
       "      <td>64.873822</td>\n",
       "    </tr>\n",
       "    <tr>\n",
       "      <th>ENSMUSG00000021149</th>\n",
       "      <td>66.749967</td>\n",
       "      <td>112.629610</td>\n",
       "      <td>97.093900</td>\n",
       "      <td>28.106121</td>\n",
       "      <td>23.671760</td>\n",
       "      <td>150.250771</td>\n",
       "      <td>64.766054</td>\n",
       "      <td>56.294683</td>\n",
       "      <td>38.759728</td>\n",
       "      <td>37.327209</td>\n",
       "      <td>...</td>\n",
       "      <td>0.000000</td>\n",
       "      <td>0.000000</td>\n",
       "      <td>0.000000</td>\n",
       "      <td>0.000000</td>\n",
       "      <td>0.000000</td>\n",
       "      <td>68.276662</td>\n",
       "      <td>115.844468</td>\n",
       "      <td>216.881919</td>\n",
       "      <td>0.0</td>\n",
       "      <td>1.063505</td>\n",
       "    </tr>\n",
       "    <tr>\n",
       "      <th>ENSMUSG00000021156</th>\n",
       "      <td>117.855411</td>\n",
       "      <td>119.606666</td>\n",
       "      <td>307.315555</td>\n",
       "      <td>72.373261</td>\n",
       "      <td>150.552392</td>\n",
       "      <td>121.824950</td>\n",
       "      <td>290.898378</td>\n",
       "      <td>119.725312</td>\n",
       "      <td>172.830263</td>\n",
       "      <td>431.595849</td>\n",
       "      <td>...</td>\n",
       "      <td>35.777827</td>\n",
       "      <td>0.000000</td>\n",
       "      <td>1.867393</td>\n",
       "      <td>60.733154</td>\n",
       "      <td>158.713099</td>\n",
       "      <td>0.000000</td>\n",
       "      <td>0.000000</td>\n",
       "      <td>121.922809</td>\n",
       "      <td>0.0</td>\n",
       "      <td>38.286190</td>\n",
       "    </tr>\n",
       "  </tbody>\n",
       "</table>\n",
       "<p>3 rows × 328 columns</p>\n",
       "</div>"
      ],
      "text/plain": [
       "                    aE17.5_2_09  aE17.5_2_16  aE17.5_1_11  aE17.5_3_07  \\\n",
       "ENSMUSG00000021147     1.042968    17.941000    91.749282    56.212241   \n",
       "ENSMUSG00000021149    66.749967   112.629610    97.093900    28.106121   \n",
       "ENSMUSG00000021156   117.855411   119.606666   307.315555    72.373261   \n",
       "\n",
       "                    aE17.5_4_06  aE17.5_3_04  aE17.5_2_11  aE17.5_1_25  \\\n",
       "ENSMUSG00000021147     4.734352     0.000000    15.368216     6.343063   \n",
       "ENSMUSG00000021149    23.671760   150.250771    64.766054    56.294683   \n",
       "ENSMUSG00000021156   150.552392   121.824950   290.898378   119.725312   \n",
       "\n",
       "                    aE17.5_4_01  aE17.5_4_03  ...  aP18_3_12  aP60_1_11  \\\n",
       "ENSMUSG00000021147    18.426756    27.217756  ...   0.000000  45.762684   \n",
       "ENSMUSG00000021149    38.759728    37.327209  ...   0.000000   0.000000   \n",
       "ENSMUSG00000021156   172.830263   431.595849  ...  35.777827   0.000000   \n",
       "\n",
       "                    aP60_3_05  aP15_1_15   aP60_1_13  aP60_3_08   aP60_5_16  \\\n",
       "ENSMUSG00000021147   4.668482   0.000000   25.996111   0.000000    0.000000   \n",
       "ENSMUSG00000021149   0.000000   0.000000    0.000000  68.276662  115.844468   \n",
       "ENSMUSG00000021156   1.867393  60.733154  158.713099   0.000000    0.000000   \n",
       "\n",
       "                     aP18_1_17  aP60_1_10  aP60_5_05  \n",
       "ENSMUSG00000021147    0.000000        0.0  64.873822  \n",
       "ENSMUSG00000021149  216.881919        0.0   1.063505  \n",
       "ENSMUSG00000021156  121.922809        0.0  38.286190  \n",
       "\n",
       "[3 rows x 328 columns]"
      ]
     },
     "execution_count": 7,
     "metadata": {},
     "output_type": "execute_result"
    }
   ],
   "source": [
    "Y.iloc[32:35,:]"
   ]
  },
  {
   "cell_type": "code",
   "execution_count": 8,
   "metadata": {},
   "outputs": [],
   "source": [
    "from matplotlib import pyplot as plt\n",
    "import statsmodels.api as sm\n",
    "\n",
    "def plot():\n",
    "    plt.tick_params(labelsize='large', width=2)     \n",
    "    plt.ylabel('Gene Expression', fontsize=16)\n",
    "    plt.xlabel('Times', fontsize=16)\n",
    "    \n",
    "    if model_index == 1 or model_index == 2:\n",
    "        c = 'blue'\n",
    "\n",
    "    else:\n",
    "        c = 'salmon'\n",
    "    \n",
    "    \n",
    "    if likelihood == 'Gaussian':\n",
    "        plt.fill_between(xtest[:,0],\n",
    "                            mean[:,0] - 1*np.sqrt(var[:,0]),\n",
    "                            mean[:,0] + 1*np.sqrt(var[:,0]), alpha=0.2) # one standard deviation\n",
    "        plt.fill_between(xtest[:,0],\n",
    "                            mean[:,0] - 2*np.sqrt(var[:,0]),\n",
    "                            mean[:,0] + 2*np.sqrt(var[:,0]),color='light'+c, alpha=0.2)# two standard deviation\n",
    "    else:\n",
    "        \n",
    "        lowess = sm.nonparametric.lowess\n",
    "        \n",
    "        # one standard deviation 68%\n",
    "        percentile_16 = lowess(np.percentile(var, 16, axis=0),xtest[:,0],frac=1./5, return_sorted=False)\n",
    "        percentile_84 = lowess(np.percentile(var, 84, axis=0),xtest[:,0],frac=1./5, return_sorted=False)\n",
    "        plt.fill_between(xtest[:,0],percentile_16,percentile_84,alpha = 0.2)\n",
    "        \n",
    "        # two standard deviation 95%\n",
    "        percentile_5 = lowess(np.percentile(var, 5, axis=0),xtest[:,0],frac=1./5, return_sorted=False)\n",
    "        percentile_95 = lowess(np.percentile(var,95, axis=0),xtest[:,0],frac=1./5, return_sorted=False)\n",
    "        plt.fill_between(xtest[:,0],percentile_5,percentile_95,color='light'+c,alpha = 0.2)\n",
    "        \n",
    "    plt.plot(xtest, mean, lw=2) \n",
    "    plt.scatter(model.data[0],model.data[1], s=10, color= c, alpha=0.6) #data\n",
    "    \n",
    "    if test == 'Two_samples_test':\n",
    "        if model_index == 1  or model_index ==3:\n",
    "            plt.scatter(model.data[0][int(model.data[0].shape[0]/2)::],model.data[1][int(model.data[0].shape[0]/2)::], s=10, color= 'salmon', alpha=0.6) #data\n",
    "            plt.show()\n",
    "    \n",
    "    else:\n",
    "        plt.show()"
   ]
  },
  {
   "cell_type": "code",
   "execution_count": null,
   "metadata": {},
   "outputs": [
    {
     "name": "stderr",
     "output_type": "stream",
     "text": [
      "  2%|▏         | 2/100 [00:59<51:32, 31.56s/it]"
     ]
    },
    {
     "name": "stdout",
     "output_type": "stream",
     "text": [
      "local Optima\n",
      "1\n",
      "y_mean 2.451219512195122\n",
      "mean_mean 17.677572005956844\n",
      "abs(round((mean_mean-y_mean)/y_mean)) 6.0\n",
      "local Optima\n",
      "1\n",
      "y_mean 2.451219512195122\n",
      "mean_mean 18.37409456328539\n",
      "abs(round((mean_mean-y_mean)/y_mean)) 6.0\n",
      "Fit Cholesky decomposition was not successful.\n",
      "local Optima\n",
      "1\n",
      "y_mean 2.451219512195122\n",
      "mean_mean 30.579500374877703\n",
      "abs(round((mean_mean-y_mean)/y_mean)) 11.0\n",
      "local Optima\n",
      "1\n",
      "y_mean 2.451219512195122\n",
      "mean_mean 22.182523732201915\n",
      "abs(round((mean_mean-y_mean)/y_mean)) 8.0\n",
      "local Optima\n",
      "1\n",
      "y_mean 2.451219512195122\n",
      "mean_mean 17.677572005956844\n",
      "abs(round((mean_mean-y_mean)/y_mean)) 6.0\n",
      "local Optima\n",
      "1\n",
      "y_mean 2.451219512195122\n",
      "mean_mean 18.37409456328539\n",
      "abs(round((mean_mean-y_mean)/y_mean)) 6.0\n",
      "Fit Cholesky decomposition was not successful.\n",
      "local Optima\n",
      "1\n",
      "y_mean 2.451219512195122\n",
      "mean_mean 30.579500374877703\n",
      "abs(round((mean_mean-y_mean)/y_mean)) 11.0\n",
      "local Optima\n",
      "1\n",
      "y_mean 2.451219512195122\n",
      "mean_mean 22.182523732201915\n",
      "abs(round((mean_mean-y_mean)/y_mean)) 8.0\n"
     ]
    },
    {
     "name": "stderr",
     "output_type": "stream",
     "text": [
      "  9%|▉         | 9/100 [04:45<33:21, 21.99s/it]  "
     ]
    },
    {
     "name": "stdout",
     "output_type": "stream",
     "text": [
      "local Optima\n",
      "1\n",
      "y_mean 0.9359756097560976\n",
      "mean_mean 2.4310297972886956\n",
      "abs(round((mean_mean-y_mean)/y_mean)) 2.0\n"
     ]
    }
   ],
   "source": [
    "likelihood = 'Zero_inflated_negative_binomial' \n",
    "log_likelihood = gp_counts.One_sample_test(likelihood)\n",
    "log_likelihood"
   ]
  },
  {
   "cell_type": "code",
   "execution_count": null,
   "metadata": {},
   "outputs": [],
   "source": [
    "#likelihood = 'Negative_binomial' \n",
    "indexes = log_likelihood.index.values.tolist() # list of genes to be plotted \n",
    "test = 'One_sample_test' # name of the test\n",
    "xtest = np.linspace(np.min(X.values),np.max(X.values),100)[:,None]\n",
    "\n",
    "params = gp_counts.load_models(indexes,test,xtest,likelihood)\n",
    "\n",
    "for i in range(len(indexes)):\n",
    "    fig = plt.figure()\n",
    "    print(indexes[i])\n",
    "    model_index = 1\n",
    "    for model,mean,var in zip(params['models'][i],params['means'][i],params['vars'][i]):\n",
    "        plot()\n",
    "        model_index = model_index + 1"
   ]
  },
  {
   "cell_type": "markdown",
   "metadata": {},
   "source": [
    "#### Fit GPcount with negative binomial likelihood"
   ]
  },
  {
   "cell_type": "code",
   "execution_count": null,
   "metadata": {},
   "outputs": [],
   "source": [
    "likelihood = 'Negative_binomial' \n",
    "log_likelihood_nb = gp_counts.Infer_trajectory(likelihood)\n",
    "log_likelihood_nb"
   ]
  },
  {
   "cell_type": "code",
   "execution_count": null,
   "metadata": {},
   "outputs": [],
   "source": [
    "params = gp_counts.load_models(indexes,test,xtest,likelihood)\n",
    "for i in range(len(indexes)):\n",
    "    fig = plt.figure()\n",
    "    print(indexes[i])\n",
    "    model_index = 1\n",
    "    for model,mean,var in zip(params['models'][i],params['means'][i],params['vars'][i]):\n",
    "        plot()\n",
    "        model_index = model_index + 1"
   ]
  },
  {
   "cell_type": "markdown",
   "metadata": {},
   "source": [
    "#### Fit GPcount with Gaussian likelihood"
   ]
  },
  {
   "cell_type": "code",
   "execution_count": null,
   "metadata": {},
   "outputs": [],
   "source": [
    "likelihood = 'Gaussian'\n",
    "log_likelihood = gp_counts.Infer_trajectory(likelihood)\n",
    "log_likelihood"
   ]
  },
  {
   "cell_type": "code",
   "execution_count": null,
   "metadata": {
    "scrolled": true
   },
   "outputs": [],
   "source": [
    "params = gp_counts.load_models(indexes,test,xtest,likelihood)\n",
    "\n",
    "for i in range(len(indexes)):\n",
    "    fig = plt.figure()\n",
    "    print(indexes[i])\n",
    "    model_index = 1\n",
    "    for model,mean,var in zip(params['models'][i],params['means'][i],params['vars'][i]):\n",
    "        plot()\n",
    "        model_index = model_index + 1"
   ]
  },
  {
   "cell_type": "code",
   "execution_count": null,
   "metadata": {},
   "outputs": [],
   "source": [
    "test = float('nan')\n",
    "test"
   ]
  },
  {
   "cell_type": "code",
   "execution_count": null,
   "metadata": {},
   "outputs": [],
   "source": [
    "\n",
    "if np.isnan(test):\n",
    "    print('yes')"
   ]
  },
  {
   "cell_type": "code",
   "execution_count": null,
   "metadata": {},
   "outputs": [],
   "source": []
  }
 ],
 "metadata": {
  "kernelspec": {
   "display_name": "Python [conda env:myenv] *",
   "language": "python",
   "name": "conda-env-myenv-py"
  },
  "language_info": {
   "codemirror_mode": {
    "name": "ipython",
    "version": 3
   },
   "file_extension": ".py",
   "mimetype": "text/x-python",
   "name": "python",
   "nbconvert_exporter": "python",
   "pygments_lexer": "ipython3",
   "version": "3.7.6"
  }
 },
 "nbformat": 4,
 "nbformat_minor": 2
}
