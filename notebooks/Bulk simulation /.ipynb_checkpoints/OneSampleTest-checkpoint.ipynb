{
 "cells": [
  {
   "cell_type": "markdown",
   "metadata": {},
   "source": [
    "# One sample test on simulated bulk RNA-seq"
   ]
  },
  {
   "cell_type": "markdown",
   "metadata": {},
   "source": [
    "Nuha BinTayyash, 2020\n",
    "\n",
    "This notebook shows how to run GPcounts with one sample test on simulated bulk RNA-seq datasets."
   ]
  },
  {
   "cell_type": "code",
   "execution_count": 4,
   "metadata": {},
   "outputs": [],
   "source": [
    "import numpy as np\n",
    "import pandas as pd\n",
    "from GPcounts.GPcounts_Module import Fit_GPcounts\n",
    "import gpflow"
   ]
  },
  {
   "cell_type": "code",
   "execution_count": null,
   "metadata": {},
   "outputs": [
    {
     "name": "stderr",
     "output_type": "stream",
     "text": [
      "\r",
      "  0%|          | 0/358 [00:00<?, ?it/s]"
     ]
    },
    {
     "name": "stdout",
     "output_type": "stream",
     "text": [
      "low_counts_low_dispersion_non_differentially_expressed_genes_DE_non_DE_genes.csv\n"
     ]
    },
    {
     "name": "stderr",
     "output_type": "stream",
     "text": [
      "  3%|▎         | 12/358 [00:23<11:52,  2.06s/it]"
     ]
    },
    {
     "name": "stdout",
     "output_type": "stream",
     "text": [
      "local Optima\n",
      "1\n",
      "y_mean 3.8333333333333335\n",
      "mean_mean 8.043339910363814\n",
      "abs(round((mean_mean-y_mean)/y_mean)) 1.0\n",
      "local Optima\n",
      "1\n",
      "y_mean 3.8333333333333335\n",
      "mean_mean 7.978731869820682\n",
      "abs(round((mean_mean-y_mean)/y_mean)) 1.0\n",
      "local Optima\n",
      "1\n",
      "y_mean 3.8333333333333335\n",
      "mean_mean 7.358734824870791\n",
      "abs(round((mean_mean-y_mean)/y_mean)) 1.0\n",
      "local Optima\n",
      "1\n",
      "y_mean 3.8333333333333335\n",
      "mean_mean 7.959712092266854\n",
      "abs(round((mean_mean-y_mean)/y_mean)) 1.0\n",
      "local Optima\n",
      "1\n",
      "y_mean 3.8333333333333335\n",
      "mean_mean 7.58857320314989\n",
      "abs(round((mean_mean-y_mean)/y_mean)) 1.0\n"
     ]
    },
    {
     "name": "stderr",
     "output_type": "stream",
     "text": [
      "  5%|▍         | 17/358 [00:38<13:25,  2.36s/it]"
     ]
    },
    {
     "name": "stdout",
     "output_type": "stream",
     "text": [
      "Optimization fail.\n"
     ]
    },
    {
     "name": "stderr",
     "output_type": "stream",
     "text": [
      "  5%|▌         | 19/358 [00:43<13:10,  2.33s/it]"
     ]
    },
    {
     "name": "stdout",
     "output_type": "stream",
     "text": [
      "Optimization fail.\n",
      "Fit Cholesky decomposition was not successful.\n",
      "Fit Cholesky decomposition was not successful.\n",
      "Optimization fail.\n",
      "Fit Cholesky decomposition was not successful.\n"
     ]
    },
    {
     "name": "stderr",
     "output_type": "stream",
     "text": [
      "  8%|▊         | 29/358 [01:08<10:48,  1.97s/it]"
     ]
    },
    {
     "name": "stdout",
     "output_type": "stream",
     "text": [
      "Optimization fail.\n"
     ]
    },
    {
     "name": "stderr",
     "output_type": "stream",
     "text": [
      "  9%|▊         | 31/358 [01:14<13:04,  2.40s/it]"
     ]
    },
    {
     "name": "stdout",
     "output_type": "stream",
     "text": [
      "Optimization fail.\n",
      "Fit Cholesky decomposition was not successful.\n",
      "Fit Cholesky decomposition was not successful.\n"
     ]
    },
    {
     "name": "stderr",
     "output_type": "stream",
     "text": [
      "  9%|▉         | 33/358 [01:21<15:15,  2.82s/it]"
     ]
    },
    {
     "name": "stdout",
     "output_type": "stream",
     "text": [
      "Fit Cholesky decomposition was not successful.\n"
     ]
    },
    {
     "name": "stderr",
     "output_type": "stream",
     "text": [
      " 10%|█         | 37/358 [01:30<11:54,  2.23s/it]"
     ]
    },
    {
     "name": "stdout",
     "output_type": "stream",
     "text": [
      "Fit Cholesky decomposition was not successful.\n",
      "Optimization fail.\n"
     ]
    },
    {
     "name": "stderr",
     "output_type": "stream",
     "text": [
      " 13%|█▎        | 46/358 [01:48<09:53,  1.90s/it]"
     ]
    },
    {
     "name": "stdout",
     "output_type": "stream",
     "text": [
      "local Optima\n",
      "1\n",
      "y_mean 17.5\n",
      "mean_mean 27.975746920350595\n",
      "abs(round((mean_mean-y_mean)/y_mean)) 1.0\n",
      "local Optima\n",
      "1\n",
      "y_mean 17.5\n",
      "mean_mean 85.4057059778924\n",
      "abs(round((mean_mean-y_mean)/y_mean)) 4.0\n"
     ]
    },
    {
     "name": "stderr",
     "output_type": "stream",
     "text": [
      " 15%|█▍        | 52/358 [02:01<09:55,  1.94s/it]"
     ]
    },
    {
     "name": "stdout",
     "output_type": "stream",
     "text": [
      "local Optima\n",
      "1\n",
      "y_mean 14.944444444444445\n",
      "mean_mean 24.995465131137493\n",
      "abs(round((mean_mean-y_mean)/y_mean)) 1.0\n",
      "local Optima\n",
      "1\n",
      "y_mean 14.944444444444445\n",
      "mean_mean 25.08430024475087\n",
      "abs(round((mean_mean-y_mean)/y_mean)) 1.0\n"
     ]
    },
    {
     "name": "stderr",
     "output_type": "stream",
     "text": [
      " 20%|█▉        | 71/358 [02:43<10:37,  2.22s/it]"
     ]
    },
    {
     "name": "stdout",
     "output_type": "stream",
     "text": [
      "Fit Cholesky decomposition was not successful.\n",
      "Optimization fail.\n"
     ]
    },
    {
     "name": "stderr",
     "output_type": "stream",
     "text": [
      " 25%|██▌       | 91/358 [03:30<08:33,  1.92s/it]"
     ]
    },
    {
     "name": "stdout",
     "output_type": "stream",
     "text": [
      "Fit Cholesky decomposition was not successful.\n",
      "Optimization fail.\n"
     ]
    },
    {
     "name": "stderr",
     "output_type": "stream",
     "text": [
      " 27%|██▋       | 97/358 [03:44<08:42,  2.00s/it]"
     ]
    },
    {
     "name": "stdout",
     "output_type": "stream",
     "text": [
      "Optimization fail.\n",
      "Optimization fail.\n"
     ]
    },
    {
     "name": "stderr",
     "output_type": "stream",
     "text": [
      " 28%|██▊       | 101/358 [03:54<09:02,  2.11s/it]"
     ]
    },
    {
     "name": "stdout",
     "output_type": "stream",
     "text": [
      "Fit Cholesky decomposition was not successful.\n",
      "Optimization fail.\n"
     ]
    },
    {
     "name": "stderr",
     "output_type": "stream",
     "text": [
      " 29%|██▉       | 103/358 [03:59<10:25,  2.45s/it]"
     ]
    },
    {
     "name": "stdout",
     "output_type": "stream",
     "text": [
      "Optimization fail.\n",
      "Fit Cholesky decomposition was not successful.\n"
     ]
    },
    {
     "name": "stderr",
     "output_type": "stream",
     "text": [
      " 29%|██▉       | 105/358 [04:05<11:03,  2.62s/it]"
     ]
    },
    {
     "name": "stdout",
     "output_type": "stream",
     "text": [
      "Fit Cholesky decomposition was not successful.\n",
      "Fit Cholesky decomposition was not successful.\n"
     ]
    },
    {
     "name": "stderr",
     "output_type": "stream",
     "text": [
      " 33%|███▎      | 117/358 [04:31<07:48,  1.94s/it]"
     ]
    },
    {
     "name": "stdout",
     "output_type": "stream",
     "text": [
      "Optimization fail.\n"
     ]
    },
    {
     "name": "stderr",
     "output_type": "stream",
     "text": [
      " 35%|███▍      | 124/358 [04:46<07:52,  2.02s/it]"
     ]
    },
    {
     "name": "stdout",
     "output_type": "stream",
     "text": [
      "local Optima\n",
      "1\n",
      "y_mean 15.944444444444445\n",
      "mean_mean 495.7462787042985\n",
      "abs(round((mean_mean-y_mean)/y_mean)) 30.0\n",
      "local Optima\n",
      "1\n",
      "y_mean 15.944444444444445\n",
      "mean_mean 754.6715626708177\n",
      "abs(round((mean_mean-y_mean)/y_mean)) 46.0\n",
      "local Optima\n",
      "1\n",
      "y_mean 15.944444444444445\n",
      "mean_mean 395.0358428802016\n",
      "abs(round((mean_mean-y_mean)/y_mean)) 24.0\n",
      "local Optima\n",
      "1\n",
      "y_mean 15.944444444444445\n",
      "mean_mean 344.89359219419276\n",
      "abs(round((mean_mean-y_mean)/y_mean)) 21.0\n",
      "local Optima\n",
      "1\n",
      "y_mean 15.944444444444445\n",
      "mean_mean 427.6422546509847\n",
      "abs(round((mean_mean-y_mean)/y_mean)) 26.0\n"
     ]
    },
    {
     "name": "stderr",
     "output_type": "stream",
     "text": [
      " 35%|███▌      | 127/358 [04:57<10:36,  2.75s/it]"
     ]
    },
    {
     "name": "stdout",
     "output_type": "stream",
     "text": [
      "Optimization fail.\n",
      "Fit Cholesky decomposition was not successful.\n"
     ]
    },
    {
     "name": "stderr",
     "output_type": "stream",
     "text": [
      " 36%|███▌      | 129/358 [05:03<10:53,  2.85s/it]"
     ]
    },
    {
     "name": "stdout",
     "output_type": "stream",
     "text": [
      "Optimization fail.\n"
     ]
    },
    {
     "name": "stderr",
     "output_type": "stream",
     "text": [
      " 37%|███▋      | 131/358 [05:10<11:39,  3.08s/it]"
     ]
    },
    {
     "name": "stdout",
     "output_type": "stream",
     "text": [
      "Optimization fail.\n",
      "Optimization fail.\n"
     ]
    },
    {
     "name": "stderr",
     "output_type": "stream",
     "text": [
      " 38%|███▊      | 135/358 [05:20<09:00,  2.42s/it]"
     ]
    },
    {
     "name": "stdout",
     "output_type": "stream",
     "text": [
      "Fit Cholesky decomposition was not successful.\n"
     ]
    },
    {
     "name": "stderr",
     "output_type": "stream",
     "text": [
      " 38%|███▊      | 137/358 [05:26<09:48,  2.66s/it]"
     ]
    },
    {
     "name": "stdout",
     "output_type": "stream",
     "text": [
      "Fit Cholesky decomposition was not successful.\n"
     ]
    },
    {
     "name": "stderr",
     "output_type": "stream",
     "text": [
      " 39%|███▉      | 141/358 [05:35<08:17,  2.29s/it]"
     ]
    },
    {
     "name": "stdout",
     "output_type": "stream",
     "text": [
      "Optimization fail.\n",
      "Fit Cholesky decomposition was not successful.\n"
     ]
    },
    {
     "name": "stderr",
     "output_type": "stream",
     "text": [
      " 44%|████▎     | 156/358 [06:06<06:40,  1.98s/it]"
     ]
    },
    {
     "name": "stdout",
     "output_type": "stream",
     "text": [
      "local Optima\n",
      "1\n",
      "y_mean 10.222222222222221\n",
      "mean_mean 16.86314210914152\n",
      "abs(round((mean_mean-y_mean)/y_mean)) 1.0\n",
      "local Optima\n",
      "1\n",
      "y_mean 10.222222222222221\n",
      "mean_mean 19.15620401127301\n",
      "abs(round((mean_mean-y_mean)/y_mean)) 1.0\n",
      "local Optima\n",
      "1\n",
      "y_mean 10.222222222222221\n",
      "mean_mean 17.19192986672176\n",
      "abs(round((mean_mean-y_mean)/y_mean)) 1.0\n",
      "local Optima\n",
      "1\n",
      "y_mean 10.222222222222221\n",
      "mean_mean 21.598976099506054\n",
      "abs(round((mean_mean-y_mean)/y_mean)) 1.0\n",
      "local Optima\n",
      "1\n",
      "y_mean 10.222222222222221\n",
      "mean_mean 20.45238194294212\n",
      "abs(round((mean_mean-y_mean)/y_mean)) 1.0\n"
     ]
    },
    {
     "name": "stderr",
     "output_type": "stream",
     "text": [
      " 45%|████▍     | 160/358 [06:19<08:07,  2.46s/it]"
     ]
    },
    {
     "name": "stdout",
     "output_type": "stream",
     "text": [
      "local Optima\n",
      "1\n",
      "y_mean 12.38888888888889\n",
      "mean_mean 49.06073065403453\n",
      "abs(round((mean_mean-y_mean)/y_mean)) 3.0\n",
      "local Optima\n",
      "1\n",
      "y_mean 12.38888888888889\n",
      "mean_mean 62.703361992433855\n",
      "abs(round((mean_mean-y_mean)/y_mean)) 4.0\n",
      "local Optima\n",
      "1\n",
      "y_mean 12.38888888888889\n",
      "mean_mean 58.050320763763274\n",
      "abs(round((mean_mean-y_mean)/y_mean)) 4.0\n",
      "local Optima\n",
      "1\n",
      "y_mean 12.38888888888889\n",
      "mean_mean 61.74637266102207\n",
      "abs(round((mean_mean-y_mean)/y_mean)) 4.0\n",
      "local Optima\n",
      "1\n",
      "y_mean 12.38888888888889\n",
      "mean_mean 40.908445875772244\n",
      "abs(round((mean_mean-y_mean)/y_mean)) 2.0\n"
     ]
    },
    {
     "name": "stderr",
     "output_type": "stream",
     "text": [
      " 46%|████▌     | 163/358 [06:29<08:52,  2.73s/it]"
     ]
    },
    {
     "name": "stdout",
     "output_type": "stream",
     "text": [
      "Fit Cholesky decomposition was not successful.\n"
     ]
    },
    {
     "name": "stderr",
     "output_type": "stream",
     "text": [
      " 47%|████▋     | 167/358 [06:37<06:51,  2.15s/it]"
     ]
    },
    {
     "name": "stdout",
     "output_type": "stream",
     "text": [
      "Optimization fail.\n",
      "Fit Cholesky decomposition was not successful.\n"
     ]
    },
    {
     "name": "stderr",
     "output_type": "stream",
     "text": [
      " 51%|█████     | 181/358 [07:09<05:57,  2.02s/it]"
     ]
    },
    {
     "name": "stdout",
     "output_type": "stream",
     "text": [
      "Fit Cholesky decomposition was not successful.\n"
     ]
    },
    {
     "name": "stderr",
     "output_type": "stream",
     "text": [
      " 57%|█████▋    | 205/358 [07:58<04:57,  1.95s/it]"
     ]
    },
    {
     "name": "stdout",
     "output_type": "stream",
     "text": [
      "Fit Cholesky decomposition was not successful.\n",
      "Optimization fail.\n"
     ]
    },
    {
     "name": "stderr",
     "output_type": "stream",
     "text": [
      " 59%|█████▉    | 211/358 [08:12<04:47,  1.96s/it]"
     ]
    },
    {
     "name": "stdout",
     "output_type": "stream",
     "text": [
      "Optimization fail.\n"
     ]
    },
    {
     "name": "stderr",
     "output_type": "stream",
     "text": [
      " 60%|█████▉    | 214/358 [08:18<04:57,  2.06s/it]"
     ]
    },
    {
     "name": "stdout",
     "output_type": "stream",
     "text": [
      "local Optima\n",
      "1\n",
      "y_mean 24.72222222222222\n",
      "mean_mean 50.93282497110749\n",
      "abs(round((mean_mean-y_mean)/y_mean)) 1.0\n",
      "local Optima\n",
      "1\n",
      "y_mean 24.72222222222222\n",
      "mean_mean 55.034535923998966\n",
      "abs(round((mean_mean-y_mean)/y_mean)) 1.0\n",
      "local Optima\n",
      "1\n",
      "y_mean 24.72222222222222\n",
      "mean_mean 51.58133042621453\n",
      "abs(round((mean_mean-y_mean)/y_mean)) 1.0\n",
      "local Optima\n",
      "1\n",
      "y_mean 24.72222222222222\n",
      "mean_mean 69.04624384906761\n",
      "abs(round((mean_mean-y_mean)/y_mean)) 2.0\n",
      "local Optima\n",
      "1\n",
      "y_mean 24.72222222222222\n",
      "mean_mean 57.183670611268965\n",
      "abs(round((mean_mean-y_mean)/y_mean)) 1.0\n"
     ]
    },
    {
     "name": "stderr",
     "output_type": "stream",
     "text": [
      " 64%|██████▍   | 229/358 [08:55<04:26,  2.06s/it]"
     ]
    },
    {
     "name": "stdout",
     "output_type": "stream",
     "text": [
      "Fit Cholesky decomposition was not successful.\n"
     ]
    },
    {
     "name": "stderr",
     "output_type": "stream",
     "text": [
      " 72%|███████▏  | 256/358 [09:52<04:13,  2.49s/it]"
     ]
    },
    {
     "name": "stdout",
     "output_type": "stream",
     "text": [
      "local Optima\n",
      "1\n",
      "y_mean 21.666666666666668\n",
      "mean_mean 4681.142812602575\n",
      "abs(round((mean_mean-y_mean)/y_mean)) 215.0\n",
      "local Optima\n",
      "1\n",
      "y_mean 21.666666666666668\n",
      "mean_mean 10907.070774711832\n",
      "abs(round((mean_mean-y_mean)/y_mean)) 502.0\n",
      "local Optima\n",
      "1\n",
      "y_mean 21.666666666666668\n",
      "mean_mean 3706.8280437662656\n",
      "abs(round((mean_mean-y_mean)/y_mean)) 170.0\n",
      "local Optima\n",
      "1\n",
      "y_mean 21.666666666666668\n",
      "mean_mean 13605.070196190172\n",
      "abs(round((mean_mean-y_mean)/y_mean)) 627.0\n",
      "local Optima\n",
      "1\n",
      "y_mean 21.666666666666668\n",
      "mean_mean 3078.892951977569\n",
      "abs(round((mean_mean-y_mean)/y_mean)) 141.0\n"
     ]
    },
    {
     "name": "stderr",
     "output_type": "stream",
     "text": [
      " 73%|███████▎  | 260/358 [10:05<04:09,  2.55s/it]"
     ]
    },
    {
     "name": "stdout",
     "output_type": "stream",
     "text": [
      "local Optima\n",
      "1\n",
      "y_mean 20.61111111111111\n",
      "mean_mean 125.1357771854616\n",
      "abs(round((mean_mean-y_mean)/y_mean)) 5.0\n",
      "local Optima\n",
      "1\n",
      "y_mean 20.61111111111111\n",
      "mean_mean 171.6380263142836\n",
      "abs(round((mean_mean-y_mean)/y_mean)) 7.0\n",
      "local Optima\n",
      "1\n",
      "y_mean 20.61111111111111\n",
      "mean_mean 104.74992081510624\n",
      "abs(round((mean_mean-y_mean)/y_mean)) 4.0\n",
      "local Optima\n",
      "1\n",
      "y_mean 20.61111111111111\n",
      "mean_mean 138.80370897047308\n",
      "abs(round((mean_mean-y_mean)/y_mean)) 6.0\n",
      "local Optima\n",
      "1\n",
      "y_mean 20.61111111111111\n",
      "mean_mean 74.27677226614962\n",
      "abs(round((mean_mean-y_mean)/y_mean)) 3.0\n"
     ]
    },
    {
     "name": "stderr",
     "output_type": "stream",
     "text": [
      " 82%|████████▏ | 295/358 [11:24<02:06,  2.00s/it]"
     ]
    },
    {
     "name": "stdout",
     "output_type": "stream",
     "text": [
      "Fit Cholesky decomposition was not successful.\n"
     ]
    },
    {
     "name": "stderr",
     "output_type": "stream",
     "text": [
      " 83%|████████▎ | 297/358 [11:29<02:11,  2.16s/it]"
     ]
    },
    {
     "name": "stdout",
     "output_type": "stream",
     "text": [
      "Optimization fail.\n"
     ]
    },
    {
     "name": "stderr",
     "output_type": "stream",
     "text": [
      " 95%|█████████▍| 340/358 [13:01<00:35,  1.96s/it]"
     ]
    },
    {
     "name": "stdout",
     "output_type": "stream",
     "text": [
      "local Optima\n",
      "1\n",
      "y_mean 16.166666666666668\n",
      "mean_mean 178.9744179909832\n",
      "abs(round((mean_mean-y_mean)/y_mean)) 10.0\n",
      "local Optima\n",
      "1\n",
      "y_mean 16.166666666666668\n",
      "mean_mean 203.84831284879405\n",
      "abs(round((mean_mean-y_mean)/y_mean)) 12.0\n",
      "local Optima\n",
      "1\n",
      "y_mean 16.166666666666668\n",
      "mean_mean 231.033360181292\n",
      "abs(round((mean_mean-y_mean)/y_mean)) 13.0\n",
      "local Optima\n",
      "1\n",
      "y_mean 16.166666666666668\n",
      "mean_mean 348.9327222147448\n",
      "abs(round((mean_mean-y_mean)/y_mean)) 21.0\n",
      "local Optima\n",
      "1\n",
      "y_mean 16.166666666666668\n",
      "mean_mean 191.51615395663353\n",
      "abs(round((mean_mean-y_mean)/y_mean)) 11.0\n"
     ]
    },
    {
     "name": "stderr",
     "output_type": "stream",
     "text": [
      " 96%|█████████▌| 342/358 [13:11<00:53,  3.32s/it]"
     ]
    },
    {
     "name": "stdout",
     "output_type": "stream",
     "text": [
      "local Optima\n",
      "1\n",
      "y_mean 20.11111111111111\n",
      "mean_mean 105.51752758294522\n",
      "abs(round((mean_mean-y_mean)/y_mean)) 4.0\n",
      "local Optima\n",
      "1\n",
      "y_mean 20.11111111111111\n",
      "mean_mean 214.89504026501402\n",
      "abs(round((mean_mean-y_mean)/y_mean)) 10.0\n",
      "local Optima\n",
      "1\n",
      "y_mean 20.11111111111111\n",
      "mean_mean 172.3841386658002\n",
      "abs(round((mean_mean-y_mean)/y_mean)) 8.0\n",
      "local Optima\n",
      "1\n",
      "y_mean 20.11111111111111\n",
      "mean_mean 128.177859151101\n",
      "abs(round((mean_mean-y_mean)/y_mean)) 5.0\n",
      "local Optima\n",
      "1\n",
      "y_mean 20.11111111111111\n",
      "mean_mean 144.9347256400584\n",
      "abs(round((mean_mean-y_mean)/y_mean)) 6.0\n"
     ]
    },
    {
     "name": "stderr",
     "output_type": "stream",
     "text": [
      " 97%|█████████▋| 346/358 [13:25<00:35,  2.94s/it]"
     ]
    },
    {
     "name": "stdout",
     "output_type": "stream",
     "text": [
      "local Optima\n",
      "1\n",
      "y_mean 21.166666666666668\n",
      "mean_mean 55.52483819986017\n",
      "abs(round((mean_mean-y_mean)/y_mean)) 2.0\n",
      "local Optima\n",
      "1\n",
      "y_mean 21.166666666666668\n",
      "mean_mean 90.11481180179545\n",
      "abs(round((mean_mean-y_mean)/y_mean)) 3.0\n",
      "local Optima\n",
      "1\n",
      "y_mean 21.166666666666668\n",
      "mean_mean 47.10430849172475\n",
      "abs(round((mean_mean-y_mean)/y_mean)) 1.0\n"
     ]
    },
    {
     "name": "stderr",
     "output_type": "stream",
     "text": [
      " 99%|█████████▉| 354/358 [13:46<00:08,  2.24s/it]"
     ]
    },
    {
     "name": "stdout",
     "output_type": "stream",
     "text": [
      "local Optima\n",
      "1\n",
      "y_mean 9.222222222222221\n",
      "mean_mean 31.16624539851374\n",
      "abs(round((mean_mean-y_mean)/y_mean)) 2.0\n",
      "local Optima\n",
      "1\n",
      "y_mean 9.222222222222221\n",
      "mean_mean 43.63981075348215\n",
      "abs(round((mean_mean-y_mean)/y_mean)) 4.0\n",
      "local Optima\n",
      "1\n",
      "y_mean 9.222222222222221\n",
      "mean_mean 30.021405604169573\n",
      "abs(round((mean_mean-y_mean)/y_mean)) 2.0\n",
      "local Optima\n",
      "1\n",
      "y_mean 9.222222222222221\n",
      "mean_mean 37.61514478084385\n",
      "abs(round((mean_mean-y_mean)/y_mean)) 3.0\n"
     ]
    },
    {
     "name": "stderr",
     "output_type": "stream",
     "text": [
      " 99%|█████████▉| 356/358 [13:54<00:06,  3.14s/it]"
     ]
    },
    {
     "name": "stdout",
     "output_type": "stream",
     "text": [
      "local Optima\n",
      "1\n",
      "y_mean 11.833333333333334\n",
      "mean_mean 26.854732237672142\n",
      "abs(round((mean_mean-y_mean)/y_mean)) 1.0\n",
      "local Optima\n",
      "1\n",
      "y_mean 11.833333333333334\n",
      "mean_mean 34.688888616129184\n",
      "abs(round((mean_mean-y_mean)/y_mean)) 2.0\n",
      "local Optima\n",
      "1\n",
      "y_mean 11.833333333333334\n",
      "mean_mean 24.13979599676061\n",
      "abs(round((mean_mean-y_mean)/y_mean)) 1.0\n",
      "local Optima\n",
      "1\n",
      "y_mean 11.833333333333334\n",
      "mean_mean 31.850393564802886\n",
      "abs(round((mean_mean-y_mean)/y_mean)) 2.0\n"
     ]
    },
    {
     "name": "stderr",
     "output_type": "stream",
     "text": [
      "100%|██████████| 358/358 [14:05<00:00,  2.36s/it]\n",
      "  1%|          | 3/358 [00:01<02:41,  2.20it/s]"
     ]
    },
    {
     "name": "stdout",
     "output_type": "stream",
     "text": [
      "Fit Cholesky decomposition was not successful.\n"
     ]
    },
    {
     "name": "stderr",
     "output_type": "stream",
     "text": [
      "  8%|▊         | 27/358 [00:15<02:51,  1.93it/s]"
     ]
    },
    {
     "name": "stdout",
     "output_type": "stream",
     "text": [
      "Fit Cholesky decomposition was not successful.\n"
     ]
    },
    {
     "name": "stderr",
     "output_type": "stream",
     "text": [
      " 11%|█▏        | 41/358 [00:21<02:08,  2.48it/s]"
     ]
    },
    {
     "name": "stdout",
     "output_type": "stream",
     "text": [
      "Fit Cholesky decomposition was not successful.\n"
     ]
    },
    {
     "name": "stderr",
     "output_type": "stream",
     "text": [
      " 16%|█▌        | 57/358 [00:28<01:57,  2.56it/s]"
     ]
    },
    {
     "name": "stdout",
     "output_type": "stream",
     "text": [
      "Fit Cholesky decomposition was not successful.\n"
     ]
    },
    {
     "name": "stderr",
     "output_type": "stream",
     "text": [
      " 16%|█▋        | 59/358 [00:29<02:09,  2.32it/s]"
     ]
    },
    {
     "name": "stdout",
     "output_type": "stream",
     "text": [
      "Fit Cholesky decomposition was not successful.\n"
     ]
    },
    {
     "name": "stderr",
     "output_type": "stream",
     "text": [
      " 21%|██        | 75/358 [00:36<01:58,  2.39it/s]"
     ]
    },
    {
     "name": "stdout",
     "output_type": "stream",
     "text": [
      "Fit Cholesky decomposition was not successful.\n"
     ]
    },
    {
     "name": "stderr",
     "output_type": "stream",
     "text": [
      " 36%|███▌      | 129/358 [00:57<01:31,  2.50it/s]"
     ]
    },
    {
     "name": "stdout",
     "output_type": "stream",
     "text": [
      "Fit Cholesky decomposition was not successful.\n"
     ]
    },
    {
     "name": "stderr",
     "output_type": "stream",
     "text": [
      " 39%|███▉      | 139/358 [01:02<01:31,  2.40it/s]"
     ]
    },
    {
     "name": "stdout",
     "output_type": "stream",
     "text": [
      "Fit Cholesky decomposition was not successful.\n"
     ]
    },
    {
     "name": "stderr",
     "output_type": "stream",
     "text": [
      " 39%|███▉      | 141/358 [01:03<01:51,  1.94it/s]"
     ]
    },
    {
     "name": "stdout",
     "output_type": "stream",
     "text": [
      "Fit Cholesky decomposition was not successful.\n"
     ]
    },
    {
     "name": "stderr",
     "output_type": "stream",
     "text": [
      " 42%|████▏     | 149/358 [01:06<01:36,  2.16it/s]"
     ]
    },
    {
     "name": "stdout",
     "output_type": "stream",
     "text": [
      "Fit Cholesky decomposition was not successful.\n"
     ]
    },
    {
     "name": "stderr",
     "output_type": "stream",
     "text": [
      " 48%|████▊     | 171/358 [01:15<01:13,  2.54it/s]"
     ]
    },
    {
     "name": "stdout",
     "output_type": "stream",
     "text": [
      "Fit Cholesky decomposition was not successful.\n"
     ]
    },
    {
     "name": "stderr",
     "output_type": "stream",
     "text": [
      " 50%|█████     | 179/358 [01:19<01:31,  1.95it/s]"
     ]
    },
    {
     "name": "stdout",
     "output_type": "stream",
     "text": [
      "Fit Cholesky decomposition was not successful.\n"
     ]
    },
    {
     "name": "stderr",
     "output_type": "stream",
     "text": [
      " 52%|█████▏    | 187/358 [01:23<01:11,  2.41it/s]"
     ]
    },
    {
     "name": "stdout",
     "output_type": "stream",
     "text": [
      "Fit Cholesky decomposition was not successful.\n"
     ]
    },
    {
     "name": "stderr",
     "output_type": "stream",
     "text": [
      " 55%|█████▌    | 197/358 [01:27<01:01,  2.60it/s]"
     ]
    },
    {
     "name": "stdout",
     "output_type": "stream",
     "text": [
      "Fit Cholesky decomposition was not successful.\n"
     ]
    },
    {
     "name": "stderr",
     "output_type": "stream",
     "text": [
      " 56%|█████▌    | 201/358 [01:28<01:03,  2.48it/s]"
     ]
    },
    {
     "name": "stdout",
     "output_type": "stream",
     "text": [
      "Fit Cholesky decomposition was not successful.\n"
     ]
    },
    {
     "name": "stderr",
     "output_type": "stream",
     "text": [
      " 57%|█████▋    | 205/358 [01:30<01:05,  2.35it/s]"
     ]
    },
    {
     "name": "stdout",
     "output_type": "stream",
     "text": [
      "Fit Cholesky decomposition was not successful.\n"
     ]
    },
    {
     "name": "stderr",
     "output_type": "stream",
     "text": [
      " 58%|█████▊    | 207/358 [01:31<01:09,  2.17it/s]"
     ]
    },
    {
     "name": "stdout",
     "output_type": "stream",
     "text": [
      "Fit Cholesky decomposition was not successful.\n"
     ]
    },
    {
     "name": "stderr",
     "output_type": "stream",
     "text": [
      " 58%|█████▊    | 209/358 [01:32<01:11,  2.09it/s]"
     ]
    },
    {
     "name": "stdout",
     "output_type": "stream",
     "text": [
      "Fit Cholesky decomposition was not successful.\n"
     ]
    },
    {
     "name": "stderr",
     "output_type": "stream",
     "text": [
      " 63%|██████▎   | 227/358 [01:40<00:51,  2.53it/s]"
     ]
    },
    {
     "name": "stdout",
     "output_type": "stream",
     "text": [
      "Fit Cholesky decomposition was not successful.\n"
     ]
    },
    {
     "name": "stderr",
     "output_type": "stream",
     "text": [
      " 68%|██████▊   | 245/358 [01:47<00:44,  2.56it/s]"
     ]
    },
    {
     "name": "stdout",
     "output_type": "stream",
     "text": [
      "Fit Cholesky decomposition was not successful.\n"
     ]
    },
    {
     "name": "stderr",
     "output_type": "stream",
     "text": [
      " 72%|███████▏  | 257/358 [01:52<00:40,  2.52it/s]"
     ]
    },
    {
     "name": "stdout",
     "output_type": "stream",
     "text": [
      "Fit Cholesky decomposition was not successful.\n"
     ]
    },
    {
     "name": "stderr",
     "output_type": "stream",
     "text": [
      " 72%|███████▏  | 259/358 [01:53<00:44,  2.20it/s]"
     ]
    },
    {
     "name": "stdout",
     "output_type": "stream",
     "text": [
      "Fit Cholesky decomposition was not successful.\n"
     ]
    },
    {
     "name": "stderr",
     "output_type": "stream",
     "text": [
      " 73%|███████▎  | 261/358 [01:54<00:45,  2.11it/s]"
     ]
    },
    {
     "name": "stdout",
     "output_type": "stream",
     "text": [
      "Fit Cholesky decomposition was not successful.\n"
     ]
    },
    {
     "name": "stderr",
     "output_type": "stream",
     "text": [
      " 73%|███████▎  | 263/358 [01:55<00:45,  2.10it/s]"
     ]
    },
    {
     "name": "stdout",
     "output_type": "stream",
     "text": [
      "Fit Cholesky decomposition was not successful.\n"
     ]
    },
    {
     "name": "stderr",
     "output_type": "stream",
     "text": [
      " 77%|███████▋  | 275/358 [02:00<00:33,  2.46it/s]"
     ]
    },
    {
     "name": "stdout",
     "output_type": "stream",
     "text": [
      "Fit Cholesky decomposition was not successful.\n"
     ]
    },
    {
     "name": "stderr",
     "output_type": "stream",
     "text": [
      " 80%|███████▉  | 285/358 [02:05<00:29,  2.52it/s]"
     ]
    },
    {
     "name": "stdout",
     "output_type": "stream",
     "text": [
      "Fit Cholesky decomposition was not successful.\n"
     ]
    },
    {
     "name": "stderr",
     "output_type": "stream",
     "text": [
      " 83%|████████▎ | 297/358 [02:10<00:24,  2.52it/s]"
     ]
    },
    {
     "name": "stdout",
     "output_type": "stream",
     "text": [
      "Fit Cholesky decomposition was not successful.\n"
     ]
    },
    {
     "name": "stderr",
     "output_type": "stream",
     "text": [
      " 87%|████████▋ | 311/358 [02:15<00:18,  2.57it/s]"
     ]
    },
    {
     "name": "stdout",
     "output_type": "stream",
     "text": [
      "Fit Cholesky decomposition was not successful.\n"
     ]
    },
    {
     "name": "stderr",
     "output_type": "stream",
     "text": [
      " 90%|█████████ | 323/358 [02:20<00:13,  2.54it/s]"
     ]
    },
    {
     "name": "stdout",
     "output_type": "stream",
     "text": [
      "Fit Cholesky decomposition was not successful.\n"
     ]
    },
    {
     "name": "stderr",
     "output_type": "stream",
     "text": [
      " 94%|█████████▍| 337/358 [02:26<00:08,  2.56it/s]"
     ]
    },
    {
     "name": "stdout",
     "output_type": "stream",
     "text": [
      "Fit Cholesky decomposition was not successful.\n"
     ]
    },
    {
     "name": "stderr",
     "output_type": "stream",
     "text": [
      " 96%|█████████▋| 345/358 [02:30<00:06,  2.14it/s]"
     ]
    },
    {
     "name": "stdout",
     "output_type": "stream",
     "text": [
      "Fit Cholesky decomposition was not successful.\n"
     ]
    },
    {
     "name": "stderr",
     "output_type": "stream",
     "text": [
      " 99%|█████████▉| 355/358 [02:35<00:01,  2.47it/s]"
     ]
    },
    {
     "name": "stdout",
     "output_type": "stream",
     "text": [
      "Fit Cholesky decomposition was not successful.\n"
     ]
    },
    {
     "name": "stderr",
     "output_type": "stream",
     "text": [
      "100%|██████████| 358/358 [02:36<00:00,  2.29it/s]\n",
      "  1%|          | 3/358 [00:04<09:34,  1.62s/it]"
     ]
    },
    {
     "name": "stdout",
     "output_type": "stream",
     "text": [
      "Fit Cholesky decomposition was not successful.\n"
     ]
    },
    {
     "name": "stderr",
     "output_type": "stream",
     "text": [
      "  4%|▍         | 15/358 [00:29<10:21,  1.81s/it]"
     ]
    },
    {
     "name": "stdout",
     "output_type": "stream",
     "text": [
      "Fit Cholesky decomposition was not successful.\n"
     ]
    },
    {
     "name": "stderr",
     "output_type": "stream",
     "text": [
      "  9%|▉         | 33/358 [01:10<13:03,  2.41s/it]"
     ]
    },
    {
     "name": "stdout",
     "output_type": "stream",
     "text": [
      "Fit Cholesky decomposition was not successful.\n",
      "Fit Cholesky decomposition was not successful.\n"
     ]
    },
    {
     "name": "stderr",
     "output_type": "stream",
     "text": [
      " 13%|█▎        | 46/358 [01:45<12:30,  2.40s/it]"
     ]
    },
    {
     "name": "stdout",
     "output_type": "stream",
     "text": [
      "local Optima\n",
      "1\n",
      "y_mean 17.5\n",
      "mean_mean 49.05870010818999\n",
      "abs(round((mean_mean-y_mean)/y_mean)) 2.0\n",
      "local Optima\n",
      "1\n",
      "y_mean 17.5\n",
      "mean_mean 77.83272798355502\n",
      "abs(round((mean_mean-y_mean)/y_mean)) 3.0\n",
      "local Optima\n",
      "1\n",
      "y_mean 17.5\n",
      "mean_mean 39.75725229897568\n",
      "abs(round((mean_mean-y_mean)/y_mean)) 1.0\n",
      "local Optima\n",
      "1\n",
      "y_mean 17.5\n",
      "mean_mean 67.83688711848424\n",
      "abs(round((mean_mean-y_mean)/y_mean)) 3.0\n",
      "local Optima\n",
      "1\n",
      "y_mean 17.5\n",
      "mean_mean 60.72810424036707\n",
      "abs(round((mean_mean-y_mean)/y_mean)) 2.0\n"
     ]
    },
    {
     "name": "stderr",
     "output_type": "stream",
     "text": [
      " 15%|█▍        | 52/358 [02:01<11:41,  2.29s/it]"
     ]
    },
    {
     "name": "stdout",
     "output_type": "stream",
     "text": [
      "local Optima\n",
      "1\n",
      "y_mean 14.944444444444445\n",
      "mean_mean 23.0327537681209\n",
      "abs(round((mean_mean-y_mean)/y_mean)) 1.0\n"
     ]
    },
    {
     "name": "stderr",
     "output_type": "stream",
     "text": [
      " 17%|█▋        | 61/358 [02:22<10:37,  2.15s/it]"
     ]
    },
    {
     "name": "stdout",
     "output_type": "stream",
     "text": [
      "Fit Cholesky decomposition was not successful.\n",
      "local Optima\n",
      "1\n",
      "y_mean 61.388888888888886\n",
      "mean_mean 1997.279887051133\n",
      "abs(round((mean_mean-y_mean)/y_mean)) 32.0\n"
     ]
    },
    {
     "name": "stderr",
     "output_type": "stream",
     "text": [
      " 31%|███       | 111/358 [03:59<07:34,  1.84s/it]"
     ]
    },
    {
     "name": "stdout",
     "output_type": "stream",
     "text": [
      "Fit Cholesky decomposition was not successful.\n",
      "local Optima\n",
      "1\n",
      "y_mean 107.61111111111111\n",
      "mean_mean 32936.14508826008\n",
      "abs(round((mean_mean-y_mean)/y_mean)) 305.0\n"
     ]
    },
    {
     "name": "stderr",
     "output_type": "stream",
     "text": [
      " 35%|███▍      | 124/358 [04:29<09:05,  2.33s/it]"
     ]
    },
    {
     "name": "stdout",
     "output_type": "stream",
     "text": [
      "local Optima\n",
      "1\n",
      "y_mean 15.944444444444445\n",
      "mean_mean 222.77800195154032\n",
      "abs(round((mean_mean-y_mean)/y_mean)) 13.0\n",
      "local Optima\n",
      "1\n",
      "y_mean 15.944444444444445\n",
      "mean_mean 425.41808391420943\n",
      "abs(round((mean_mean-y_mean)/y_mean)) 26.0\n",
      "local Optima\n",
      "1\n",
      "y_mean 15.944444444444445\n",
      "mean_mean 197.73807693940282\n",
      "abs(round((mean_mean-y_mean)/y_mean)) 11.0\n",
      "local Optima\n",
      "1\n",
      "y_mean 15.944444444444445\n",
      "mean_mean 592.0132558651735\n",
      "abs(round((mean_mean-y_mean)/y_mean)) 36.0\n",
      "local Optima\n",
      "1\n",
      "y_mean 15.944444444444445\n",
      "mean_mean 498.7315542364174\n",
      "abs(round((mean_mean-y_mean)/y_mean)) 30.0\n"
     ]
    },
    {
     "name": "stderr",
     "output_type": "stream",
     "text": [
      " 37%|███▋      | 131/358 [04:48<08:11,  2.16s/it]"
     ]
    },
    {
     "name": "stdout",
     "output_type": "stream",
     "text": [
      "Fit Cholesky decomposition was not successful.\n"
     ]
    },
    {
     "name": "stderr",
     "output_type": "stream",
     "text": [
      " 44%|████▎     | 156/358 [05:42<07:30,  2.23s/it]"
     ]
    },
    {
     "name": "stdout",
     "output_type": "stream",
     "text": [
      "local Optima\n",
      "1\n",
      "y_mean 10.222222222222221\n",
      "mean_mean 17.55316102985894\n",
      "abs(round((mean_mean-y_mean)/y_mean)) 1.0\n",
      "local Optima\n",
      "1\n",
      "y_mean 10.222222222222221\n",
      "mean_mean 19.028901283429448\n",
      "abs(round((mean_mean-y_mean)/y_mean)) 1.0\n",
      "local Optima\n",
      "1\n",
      "y_mean 10.222222222222221\n",
      "mean_mean 18.18014616734438\n",
      "abs(round((mean_mean-y_mean)/y_mean)) 1.0\n",
      "local Optima\n",
      "1\n",
      "y_mean 10.222222222222221\n",
      "mean_mean 18.09860585797652\n",
      "abs(round((mean_mean-y_mean)/y_mean)) 1.0\n",
      "local Optima\n",
      "1\n",
      "y_mean 10.222222222222221\n",
      "mean_mean 16.739404539920148\n",
      "abs(round((mean_mean-y_mean)/y_mean)) 1.0\n"
     ]
    },
    {
     "name": "stderr",
     "output_type": "stream",
     "text": [
      " 45%|████▍     | 160/358 [05:55<09:00,  2.73s/it]"
     ]
    },
    {
     "name": "stdout",
     "output_type": "stream",
     "text": [
      "local Optima\n",
      "1\n",
      "y_mean 12.38888888888889\n",
      "mean_mean 36.068259260016724\n",
      "abs(round((mean_mean-y_mean)/y_mean)) 2.0\n",
      "local Optima\n",
      "1\n",
      "y_mean 12.38888888888889\n",
      "mean_mean 75.04803836415263\n",
      "abs(round((mean_mean-y_mean)/y_mean)) 5.0\n",
      "local Optima\n",
      "1\n",
      "y_mean 12.38888888888889\n",
      "mean_mean 41.44713115307807\n",
      "abs(round((mean_mean-y_mean)/y_mean)) 2.0\n",
      "local Optima\n",
      "1\n",
      "y_mean 12.38888888888889\n",
      "mean_mean 64.87796596353172\n",
      "abs(round((mean_mean-y_mean)/y_mean)) 4.0\n"
     ]
    },
    {
     "name": "stderr",
     "output_type": "stream",
     "text": [
      " 66%|██████▋   | 238/358 [09:07<04:54,  2.45s/it]"
     ]
    },
    {
     "name": "stdout",
     "output_type": "stream",
     "text": [
      "local Optima\n",
      "1\n",
      "y_mean 1.2777777777777777\n",
      "mean_mean 3.318918886711147\n",
      "abs(round((mean_mean-y_mean)/y_mean)) 2.0\n"
     ]
    },
    {
     "name": "stderr",
     "output_type": "stream",
     "text": [
      " 72%|███████▏  | 256/358 [09:50<05:14,  3.09s/it]"
     ]
    },
    {
     "name": "stdout",
     "output_type": "stream",
     "text": [
      "local Optima\n",
      "1\n",
      "y_mean 21.666666666666668\n",
      "mean_mean 3047.354848501755\n",
      "abs(round((mean_mean-y_mean)/y_mean)) 140.0\n"
     ]
    },
    {
     "name": "stderr",
     "output_type": "stream",
     "text": [
      " 73%|███████▎  | 260/358 [10:02<04:37,  2.83s/it]"
     ]
    },
    {
     "name": "stdout",
     "output_type": "stream",
     "text": [
      "local Optima\n",
      "1\n",
      "y_mean 20.61111111111111\n",
      "mean_mean 62.62880692926459\n",
      "abs(round((mean_mean-y_mean)/y_mean)) 2.0\n",
      "local Optima\n",
      "1\n",
      "y_mean 20.61111111111111\n",
      "mean_mean 162.18377613899057\n",
      "abs(round((mean_mean-y_mean)/y_mean)) 7.0\n",
      "local Optima\n",
      "1\n",
      "y_mean 20.61111111111111\n",
      "mean_mean 62.519508334437084\n",
      "abs(round((mean_mean-y_mean)/y_mean)) 2.0\n",
      "local Optima\n",
      "1\n",
      "y_mean 20.61111111111111\n",
      "mean_mean 131.79483388380078\n",
      "abs(round((mean_mean-y_mean)/y_mean)) 5.0\n",
      "local Optima\n",
      "1\n",
      "y_mean 20.61111111111111\n",
      "mean_mean 137.2404148496501\n",
      "abs(round((mean_mean-y_mean)/y_mean)) 6.0\n"
     ]
    },
    {
     "name": "stderr",
     "output_type": "stream",
     "text": [
      " 95%|█████████▍| 340/358 [13:15<00:39,  2.22s/it]"
     ]
    },
    {
     "name": "stdout",
     "output_type": "stream",
     "text": [
      "local Optima\n",
      "1\n",
      "y_mean 16.166666666666668\n",
      "mean_mean 228.23186620829188\n",
      "abs(round((mean_mean-y_mean)/y_mean)) 13.0\n",
      "local Optima\n",
      "1\n",
      "y_mean 16.166666666666668\n",
      "mean_mean 535.9730693152816\n",
      "abs(round((mean_mean-y_mean)/y_mean)) 32.0\n",
      "local Optima\n",
      "1\n",
      "y_mean 16.166666666666668\n",
      "mean_mean 260.84229218794934\n",
      "abs(round((mean_mean-y_mean)/y_mean)) 15.0\n",
      "local Optima\n",
      "1\n",
      "y_mean 16.166666666666668\n",
      "mean_mean 399.35114579357935\n",
      "abs(round((mean_mean-y_mean)/y_mean)) 24.0\n",
      "local Optima\n",
      "1\n",
      "y_mean 16.166666666666668\n",
      "mean_mean 288.1081859871542\n",
      "abs(round((mean_mean-y_mean)/y_mean)) 17.0\n"
     ]
    },
    {
     "name": "stderr",
     "output_type": "stream",
     "text": [
      " 96%|█████████▌| 342/358 [13:24<00:54,  3.42s/it]"
     ]
    },
    {
     "name": "stdout",
     "output_type": "stream",
     "text": [
      "local Optima\n",
      "1\n",
      "y_mean 20.11111111111111\n",
      "mean_mean 89.828358068755\n",
      "abs(round((mean_mean-y_mean)/y_mean)) 3.0\n",
      "local Optima\n",
      "1\n",
      "y_mean 20.11111111111111\n",
      "mean_mean 173.95944416630766\n",
      "abs(round((mean_mean-y_mean)/y_mean)) 8.0\n",
      "local Optima\n",
      "1\n",
      "y_mean 20.11111111111111\n",
      "mean_mean 103.20499218926874\n",
      "abs(round((mean_mean-y_mean)/y_mean)) 4.0\n",
      "local Optima\n",
      "1\n",
      "y_mean 20.11111111111111\n",
      "mean_mean 142.0610425187301\n",
      "abs(round((mean_mean-y_mean)/y_mean)) 6.0\n",
      "local Optima\n",
      "1\n",
      "y_mean 20.11111111111111\n",
      "mean_mean 127.83475709737435\n",
      "abs(round((mean_mean-y_mean)/y_mean)) 5.0\n"
     ]
    },
    {
     "name": "stderr",
     "output_type": "stream",
     "text": [
      " 97%|█████████▋| 346/358 [13:40<00:41,  3.50s/it]"
     ]
    },
    {
     "name": "stdout",
     "output_type": "stream",
     "text": [
      "local Optima\n",
      "1\n",
      "y_mean 21.166666666666668\n",
      "mean_mean 46.9497420471758\n",
      "abs(round((mean_mean-y_mean)/y_mean)) 1.0\n",
      "local Optima\n",
      "1\n",
      "y_mean 21.166666666666668\n",
      "mean_mean 90.48253153642136\n",
      "abs(round((mean_mean-y_mean)/y_mean)) 3.0\n",
      "local Optima\n",
      "1\n",
      "y_mean 21.166666666666668\n",
      "mean_mean 52.597970823295874\n",
      "abs(round((mean_mean-y_mean)/y_mean)) 1.0\n",
      "local Optima\n",
      "1\n",
      "y_mean 21.166666666666668\n",
      "mean_mean 54.175549533142295\n",
      "abs(round((mean_mean-y_mean)/y_mean)) 2.0\n",
      "local Optima\n",
      "1\n",
      "y_mean 21.166666666666668\n",
      "mean_mean 36.582491934615945\n",
      "abs(round((mean_mean-y_mean)/y_mean)) 1.0\n"
     ]
    },
    {
     "name": "stderr",
     "output_type": "stream",
     "text": [
      " 97%|█████████▋| 349/358 [13:51<00:29,  3.28s/it]"
     ]
    },
    {
     "name": "stdout",
     "output_type": "stream",
     "text": [
      "local Optima\n",
      "1\n",
      "y_mean 371.5\n",
      "mean_mean 141.2695473241959\n",
      "abs(round((mean_mean-y_mean)/y_mean)) 1.0\n"
     ]
    },
    {
     "name": "stderr",
     "output_type": "stream",
     "text": [
      " 99%|█████████▉| 354/358 [14:03<00:09,  2.41s/it]"
     ]
    },
    {
     "name": "stdout",
     "output_type": "stream",
     "text": [
      "local Optima\n",
      "1\n",
      "y_mean 9.222222222222221\n",
      "mean_mean 28.42291134794634\n",
      "abs(round((mean_mean-y_mean)/y_mean)) 2.0\n",
      "local Optima\n",
      "1\n",
      "y_mean 9.222222222222221\n",
      "mean_mean 40.60103000570759\n",
      "abs(round((mean_mean-y_mean)/y_mean)) 3.0\n",
      "local Optima\n",
      "1\n",
      "y_mean 9.222222222222221\n",
      "mean_mean 26.359810240412738\n",
      "abs(round((mean_mean-y_mean)/y_mean)) 2.0\n",
      "local Optima\n",
      "1\n",
      "y_mean 9.222222222222221\n",
      "mean_mean 42.64669392482223\n",
      "abs(round((mean_mean-y_mean)/y_mean)) 4.0\n"
     ]
    },
    {
     "name": "stderr",
     "output_type": "stream",
     "text": [
      " 99%|█████████▉| 356/358 [14:11<00:06,  3.12s/it]"
     ]
    },
    {
     "name": "stdout",
     "output_type": "stream",
     "text": [
      "local Optima\n",
      "1\n",
      "y_mean 11.833333333333334\n",
      "mean_mean 24.263691295283905\n",
      "abs(round((mean_mean-y_mean)/y_mean)) 1.0\n",
      "local Optima\n",
      "1\n",
      "y_mean 11.833333333333334\n",
      "mean_mean 34.6979201744091\n",
      "abs(round((mean_mean-y_mean)/y_mean)) 2.0\n",
      "local Optima\n",
      "1\n",
      "y_mean 11.833333333333334\n",
      "mean_mean 20.16097848908217\n",
      "abs(round((mean_mean-y_mean)/y_mean)) 1.0\n",
      "local Optima\n",
      "1\n",
      "y_mean 11.833333333333334\n",
      "mean_mean 30.087834818727114\n",
      "abs(round((mean_mean-y_mean)/y_mean)) 2.0\n"
     ]
    },
    {
     "name": "stderr",
     "output_type": "stream",
     "text": [
      "100%|██████████| 358/358 [14:19<00:00,  2.40s/it]\n",
      "  0%|          | 0/358 [00:00<?, ?it/s]"
     ]
    },
    {
     "name": "stdout",
     "output_type": "stream",
     "text": [
      "low_counts_high_dispersion_non_differentially_expressed_genes_DE_non_DE_genes.csv\n"
     ]
    },
    {
     "name": "stderr",
     "output_type": "stream",
     "text": [
      "  8%|▊         | 27/358 [00:56<11:27,  2.08s/it]"
     ]
    },
    {
     "name": "stdout",
     "output_type": "stream",
     "text": [
      "Optimization fail.\n",
      "Optimization fail.\n"
     ]
    },
    {
     "name": "stderr",
     "output_type": "stream",
     "text": [
      " 23%|██▎       | 84/358 [02:56<09:37,  2.11s/it]"
     ]
    },
    {
     "name": "stdout",
     "output_type": "stream",
     "text": [
      "local Optima\n",
      "1\n",
      "y_mean 16.444444444444443\n",
      "mean_mean 32.00473378922183\n",
      "abs(round((mean_mean-y_mean)/y_mean)) 1.0\n"
     ]
    },
    {
     "name": "stderr",
     "output_type": "stream",
     "text": [
      " 39%|███▊      | 138/358 [04:55<07:29,  2.05s/it]"
     ]
    },
    {
     "name": "stdout",
     "output_type": "stream",
     "text": [
      "local Optima\n",
      "1\n",
      "y_mean 22.27777777777778\n",
      "mean_mean 62.80263119055839\n",
      "abs(round((mean_mean-y_mean)/y_mean)) 2.0\n"
     ]
    },
    {
     "name": "stderr",
     "output_type": "stream",
     "text": [
      " 44%|████▎     | 156/358 [05:34<07:50,  2.33s/it]"
     ]
    },
    {
     "name": "stdout",
     "output_type": "stream",
     "text": [
      "local Optima\n",
      "1\n",
      "y_mean 12.277777777777779\n",
      "mean_mean 18.861077516961704\n",
      "abs(round((mean_mean-y_mean)/y_mean)) 1.0\n",
      "local Optima\n",
      "1\n",
      "y_mean 12.277777777777779\n",
      "mean_mean 19.254436378541442\n",
      "abs(round((mean_mean-y_mean)/y_mean)) 1.0\n",
      "local Optima\n",
      "1\n",
      "y_mean 12.277777777777779\n",
      "mean_mean 18.99892857427109\n",
      "abs(round((mean_mean-y_mean)/y_mean)) 1.0\n",
      "local Optima\n",
      "1\n",
      "y_mean 12.277777777777779\n",
      "mean_mean 21.81961605472787\n",
      "abs(round((mean_mean-y_mean)/y_mean)) 1.0\n",
      "local Optima\n",
      "1\n",
      "y_mean 12.277777777777779\n",
      "mean_mean 19.995841981011683\n",
      "abs(round((mean_mean-y_mean)/y_mean)) 1.0\n"
     ]
    },
    {
     "name": "stderr",
     "output_type": "stream",
     "text": [
      " 48%|████▊     | 173/358 [06:13<06:18,  2.05s/it]"
     ]
    },
    {
     "name": "stdout",
     "output_type": "stream",
     "text": [
      "Fit Cholesky decomposition was not successful.\n"
     ]
    },
    {
     "name": "stderr",
     "output_type": "stream",
     "text": [
      " 50%|█████     | 180/358 [06:28<06:04,  2.05s/it]"
     ]
    },
    {
     "name": "stdout",
     "output_type": "stream",
     "text": [
      "local Optima\n",
      "1\n",
      "y_mean 21.77777777777778\n",
      "mean_mean 133.20273363446316\n",
      "abs(round((mean_mean-y_mean)/y_mean)) 5.0\n",
      "local Optima\n",
      "1\n",
      "y_mean 21.77777777777778\n",
      "mean_mean 231.94640432099396\n",
      "abs(round((mean_mean-y_mean)/y_mean)) 10.0\n",
      "local Optima\n",
      "1\n",
      "y_mean 21.77777777777778\n",
      "mean_mean 134.71967967750027\n",
      "abs(round((mean_mean-y_mean)/y_mean)) 5.0\n",
      "local Optima\n",
      "1\n",
      "y_mean 21.77777777777778\n",
      "mean_mean 187.43400951507175\n",
      "abs(round((mean_mean-y_mean)/y_mean)) 8.0\n",
      "local Optima\n",
      "1\n",
      "y_mean 21.77777777777778\n",
      "mean_mean 151.4401174705074\n",
      "abs(round((mean_mean-y_mean)/y_mean)) 6.0\n"
     ]
    },
    {
     "name": "stderr",
     "output_type": "stream",
     "text": [
      " 52%|█████▏    | 186/358 [06:45<07:06,  2.48s/it]"
     ]
    },
    {
     "name": "stdout",
     "output_type": "stream",
     "text": [
      "local Optima\n",
      "1\n",
      "y_mean 14.722222222222221\n",
      "mean_mean 654.9310070552742\n",
      "abs(round((mean_mean-y_mean)/y_mean)) 43.0\n",
      "local Optima\n",
      "1\n",
      "y_mean 14.722222222222221\n",
      "mean_mean 693.5887292330888\n",
      "abs(round((mean_mean-y_mean)/y_mean)) 46.0\n",
      "local Optima\n",
      "1\n",
      "y_mean 14.722222222222221\n",
      "mean_mean 640.8691049100345\n",
      "abs(round((mean_mean-y_mean)/y_mean)) 43.0\n",
      "local Optima\n",
      "1\n",
      "y_mean 14.722222222222221\n",
      "mean_mean 928.9037213148399\n",
      "abs(round((mean_mean-y_mean)/y_mean)) 62.0\n",
      "local Optima\n",
      "1\n",
      "y_mean 14.722222222222221\n",
      "mean_mean 562.4823520402331\n",
      "abs(round((mean_mean-y_mean)/y_mean)) 37.0\n"
     ]
    },
    {
     "name": "stderr",
     "output_type": "stream",
     "text": [
      " 54%|█████▎    | 192/358 [07:02<06:32,  2.36s/it]"
     ]
    },
    {
     "name": "stdout",
     "output_type": "stream",
     "text": [
      "local Optima\n",
      "1\n",
      "y_mean 2.0555555555555554\n",
      "mean_mean 11.257348122630066\n",
      "abs(round((mean_mean-y_mean)/y_mean)) 4.0\n",
      "local Optima\n",
      "1\n",
      "y_mean 2.0555555555555554\n",
      "mean_mean 12.016877827730987\n",
      "abs(round((mean_mean-y_mean)/y_mean)) 5.0\n",
      "local Optima\n",
      "1\n",
      "y_mean 2.0555555555555554\n",
      "mean_mean 10.941061150739445\n",
      "abs(round((mean_mean-y_mean)/y_mean)) 4.0\n",
      "local Optima\n",
      "1\n",
      "y_mean 2.0555555555555554\n",
      "mean_mean 8.784351604747465\n",
      "abs(round((mean_mean-y_mean)/y_mean)) 3.0\n",
      "local Optima\n",
      "1\n",
      "y_mean 2.0555555555555554\n",
      "mean_mean 11.43382833889771\n",
      "abs(round((mean_mean-y_mean)/y_mean)) 5.0\n"
     ]
    },
    {
     "name": "stderr",
     "output_type": "stream",
     "text": [
      " 56%|█████▋    | 202/358 [07:28<05:43,  2.20s/it]"
     ]
    },
    {
     "name": "stdout",
     "output_type": "stream",
     "text": [
      "local Optima\n",
      "1\n",
      "y_mean 18.166666666666668\n",
      "mean_mean 37.52516995633165\n",
      "abs(round((mean_mean-y_mean)/y_mean)) 1.0\n",
      "local Optima\n",
      "1\n",
      "y_mean 18.166666666666668\n",
      "mean_mean 40.855294477134045\n",
      "abs(round((mean_mean-y_mean)/y_mean)) 1.0\n"
     ]
    },
    {
     "name": "stderr",
     "output_type": "stream",
     "text": [
      " 73%|███████▎  | 262/358 [09:32<03:10,  1.99s/it]"
     ]
    },
    {
     "name": "stdout",
     "output_type": "stream",
     "text": [
      "local Optima\n",
      "1\n",
      "y_mean 30.61111111111111\n",
      "mean_mean 56.56180171077495\n",
      "abs(round((mean_mean-y_mean)/y_mean)) 1.0\n",
      "local Optima\n",
      "1\n",
      "y_mean 30.61111111111111\n",
      "mean_mean 67.15468457310502\n",
      "abs(round((mean_mean-y_mean)/y_mean)) 1.0\n",
      "local Optima\n",
      "1\n",
      "y_mean 30.61111111111111\n",
      "mean_mean 58.47579851104213\n",
      "abs(round((mean_mean-y_mean)/y_mean)) 1.0\n",
      "local Optima\n",
      "1\n",
      "y_mean 30.61111111111111\n",
      "mean_mean 54.302108708725065\n",
      "abs(round((mean_mean-y_mean)/y_mean)) 1.0\n"
     ]
    },
    {
     "name": "stderr",
     "output_type": "stream",
     "text": [
      " 77%|███████▋  | 274/358 [10:00<02:50,  2.03s/it]"
     ]
    },
    {
     "name": "stdout",
     "output_type": "stream",
     "text": [
      "local Optima\n",
      "1\n",
      "y_mean 6.944444444444445\n",
      "mean_mean 15.270131379951785\n",
      "abs(round((mean_mean-y_mean)/y_mean)) 1.0\n"
     ]
    },
    {
     "name": "stderr",
     "output_type": "stream",
     "text": [
      " 80%|███████▉  | 286/358 [10:24<02:28,  2.07s/it]"
     ]
    },
    {
     "name": "stdout",
     "output_type": "stream",
     "text": [
      "local Optima\n",
      "1\n",
      "y_mean 9.11111111111111\n",
      "mean_mean 49.93042800841703\n",
      "abs(round((mean_mean-y_mean)/y_mean)) 4.0\n",
      "local Optima\n",
      "1\n",
      "y_mean 9.11111111111111\n",
      "mean_mean 115.76224807257151\n",
      "abs(round((mean_mean-y_mean)/y_mean)) 12.0\n",
      "local Optima\n",
      "1\n",
      "y_mean 9.11111111111111\n",
      "mean_mean 54.695987325083536\n",
      "abs(round((mean_mean-y_mean)/y_mean)) 5.0\n",
      "local Optima\n",
      "1\n",
      "y_mean 9.11111111111111\n",
      "mean_mean 96.1220500436011\n",
      "abs(round((mean_mean-y_mean)/y_mean)) 10.0\n",
      "local Optima\n",
      "1\n",
      "y_mean 9.11111111111111\n",
      "mean_mean 78.7297066986608\n",
      "abs(round((mean_mean-y_mean)/y_mean)) 8.0\n"
     ]
    },
    {
     "name": "stderr",
     "output_type": "stream",
     "text": [
      "100%|██████████| 358/358 [12:54<00:00,  2.16s/it]\n",
      " 44%|████▍     | 159/358 [01:02<01:19,  2.50it/s]"
     ]
    },
    {
     "name": "stdout",
     "output_type": "stream",
     "text": [
      "Fit Cholesky decomposition was not successful.\n"
     ]
    },
    {
     "name": "stderr",
     "output_type": "stream",
     "text": [
      " 54%|█████▍    | 195/358 [01:16<01:02,  2.60it/s]"
     ]
    },
    {
     "name": "stdout",
     "output_type": "stream",
     "text": [
      "Fit Cholesky decomposition was not successful.\n"
     ]
    },
    {
     "name": "stderr",
     "output_type": "stream",
     "text": [
      " 63%|██████▎   | 225/358 [01:29<00:53,  2.49it/s]"
     ]
    },
    {
     "name": "stdout",
     "output_type": "stream",
     "text": [
      "Fit Cholesky decomposition was not successful.\n"
     ]
    },
    {
     "name": "stderr",
     "output_type": "stream",
     "text": [
      " 73%|███████▎  | 263/358 [01:44<00:36,  2.60it/s]"
     ]
    },
    {
     "name": "stdout",
     "output_type": "stream",
     "text": [
      "Fit Cholesky decomposition was not successful.\n"
     ]
    },
    {
     "name": "stderr",
     "output_type": "stream",
     "text": [
      " 75%|███████▍  | 267/358 [01:46<00:39,  2.33it/s]"
     ]
    },
    {
     "name": "stdout",
     "output_type": "stream",
     "text": [
      "Fit Cholesky decomposition was not successful.\n"
     ]
    },
    {
     "name": "stderr",
     "output_type": "stream",
     "text": [
      "100%|██████████| 358/358 [02:22<00:00,  2.51it/s]\n",
      " 52%|█████▏    | 186/358 [05:25<05:23,  1.88s/it]"
     ]
    },
    {
     "name": "stdout",
     "output_type": "stream",
     "text": [
      "local Optima\n",
      "1\n",
      "y_mean 14.722222222222221\n",
      "mean_mean 155.0713778908822\n",
      "abs(round((mean_mean-y_mean)/y_mean)) 10.0\n",
      "local Optima\n",
      "1\n",
      "y_mean 14.722222222222221\n",
      "mean_mean 521.8571733256223\n",
      "abs(round((mean_mean-y_mean)/y_mean)) 34.0\n",
      "local Optima\n",
      "1\n",
      "y_mean 14.722222222222221\n",
      "mean_mean 186.13632939308886\n",
      "abs(round((mean_mean-y_mean)/y_mean)) 12.0\n",
      "local Optima\n",
      "1\n",
      "y_mean 14.722222222222221\n",
      "mean_mean 667.0007023281928\n",
      "abs(round((mean_mean-y_mean)/y_mean)) 44.0\n",
      "local Optima\n",
      "1\n",
      "y_mean 14.722222222222221\n",
      "mean_mean 480.75945472479106\n",
      "abs(round((mean_mean-y_mean)/y_mean)) 32.0\n"
     ]
    },
    {
     "name": "stderr",
     "output_type": "stream",
     "text": [
      " 54%|█████▎    | 192/358 [05:40<05:29,  1.99s/it]"
     ]
    },
    {
     "name": "stdout",
     "output_type": "stream",
     "text": [
      "local Optima\n",
      "1\n",
      "y_mean 2.0555555555555554\n",
      "mean_mean 8.735452728011857\n",
      "abs(round((mean_mean-y_mean)/y_mean)) 3.0\n",
      "local Optima\n",
      "1\n",
      "y_mean 2.0555555555555554\n",
      "mean_mean 16.366593249495878\n",
      "abs(round((mean_mean-y_mean)/y_mean)) 7.0\n",
      "local Optima\n",
      "1\n",
      "y_mean 2.0555555555555554\n",
      "mean_mean 9.125822057158599\n",
      "abs(round((mean_mean-y_mean)/y_mean)) 3.0\n",
      "local Optima\n",
      "1\n",
      "y_mean 2.0555555555555554\n",
      "mean_mean 15.59447084227257\n",
      "abs(round((mean_mean-y_mean)/y_mean)) 7.0\n",
      "local Optima\n",
      "1\n",
      "y_mean 2.0555555555555554\n",
      "mean_mean 15.36669746256978\n",
      "abs(round((mean_mean-y_mean)/y_mean)) 6.0\n"
     ]
    },
    {
     "name": "stderr",
     "output_type": "stream",
     "text": [
      " 56%|█████▋    | 202/358 [06:01<04:37,  1.78s/it]"
     ]
    },
    {
     "name": "stdout",
     "output_type": "stream",
     "text": [
      "local Optima\n",
      "1\n",
      "y_mean 18.166666666666668\n",
      "mean_mean 35.90538765435256\n",
      "abs(round((mean_mean-y_mean)/y_mean)) 1.0\n",
      "local Optima\n",
      "1\n",
      "y_mean 18.166666666666668\n",
      "mean_mean 39.39807848320171\n",
      "abs(round((mean_mean-y_mean)/y_mean)) 1.0\n",
      "local Optima\n",
      "1\n",
      "y_mean 18.166666666666668\n",
      "mean_mean 40.33070323768147\n",
      "abs(round((mean_mean-y_mean)/y_mean)) 1.0\n",
      "local Optima\n",
      "1\n",
      "y_mean 18.166666666666668\n",
      "mean_mean 36.59667090494947\n",
      "abs(round((mean_mean-y_mean)/y_mean)) 1.0\n",
      "local Optima\n",
      "1\n",
      "y_mean 18.166666666666668\n",
      "mean_mean 37.20852493270107\n",
      "abs(round((mean_mean-y_mean)/y_mean)) 1.0\n"
     ]
    },
    {
     "name": "stderr",
     "output_type": "stream",
     "text": [
      " 73%|███████▎  | 262/358 [07:58<03:03,  1.91s/it]"
     ]
    },
    {
     "name": "stdout",
     "output_type": "stream",
     "text": [
      "local Optima\n",
      "1\n",
      "y_mean 30.61111111111111\n",
      "mean_mean 61.10965232311447\n",
      "abs(round((mean_mean-y_mean)/y_mean)) 1.0\n",
      "local Optima\n",
      "1\n",
      "y_mean 30.61111111111111\n",
      "mean_mean 61.05194695941029\n",
      "abs(round((mean_mean-y_mean)/y_mean)) 1.0\n",
      "local Optima\n",
      "1\n",
      "y_mean 30.61111111111111\n",
      "mean_mean 50.927957725594126\n",
      "abs(round((mean_mean-y_mean)/y_mean)) 1.0\n"
     ]
    },
    {
     "name": "stderr",
     "output_type": "stream",
     "text": [
      " 77%|███████▋  | 274/358 [08:23<02:40,  1.91s/it]"
     ]
    },
    {
     "name": "stdout",
     "output_type": "stream",
     "text": [
      "local Optima\n",
      "1\n",
      "y_mean 6.944444444444445\n",
      "mean_mean 12.813066293471923\n",
      "abs(round((mean_mean-y_mean)/y_mean)) 1.0\n",
      "local Optima\n",
      "1\n",
      "y_mean 6.944444444444445\n",
      "mean_mean 68.87161007864226\n",
      "abs(round((mean_mean-y_mean)/y_mean)) 9.0\n",
      "local Optima\n",
      "1\n",
      "y_mean 6.944444444444445\n",
      "mean_mean 13.287180035459235\n",
      "abs(round((mean_mean-y_mean)/y_mean)) 1.0\n"
     ]
    },
    {
     "name": "stderr",
     "output_type": "stream",
     "text": [
      " 84%|████████▍ | 302/358 [09:16<01:43,  1.85s/it]"
     ]
    },
    {
     "name": "stdout",
     "output_type": "stream",
     "text": [
      "local Optima\n",
      "1\n",
      "y_mean 19.555555555555557\n",
      "mean_mean 41.781923182941206\n",
      "abs(round((mean_mean-y_mean)/y_mean)) 1.0\n"
     ]
    },
    {
     "name": "stderr",
     "output_type": "stream",
     "text": [
      "100%|██████████| 358/358 [11:00<00:00,  1.85s/it]\n",
      "  0%|          | 0/360 [00:00<?, ?it/s]"
     ]
    },
    {
     "name": "stdout",
     "output_type": "stream",
     "text": [
      "high_counts_low_dispersion_non_differentially_expressed_genes_DE_non_DE_genes.csv\n"
     ]
    },
    {
     "name": "stderr",
     "output_type": "stream",
     "text": [
      "  6%|▋         | 23/360 [01:08<16:09,  2.88s/it]"
     ]
    },
    {
     "name": "stdout",
     "output_type": "stream",
     "text": [
      "Optimization fail.\n"
     ]
    },
    {
     "name": "stderr",
     "output_type": "stream",
     "text": [
      " 12%|█▏        | 42/360 [02:17<18:45,  3.54s/it]"
     ]
    },
    {
     "name": "stdout",
     "output_type": "stream",
     "text": [
      "local Optima\n",
      "1\n",
      "y_mean 250.33333333333334\n",
      "mean_mean 122.24394235388543\n",
      "abs(round((mean_mean-y_mean)/y_mean)) 1.0\n"
     ]
    },
    {
     "name": "stderr",
     "output_type": "stream",
     "text": [
      " 13%|█▎        | 48/360 [02:34<16:46,  3.23s/it]"
     ]
    },
    {
     "name": "stdout",
     "output_type": "stream",
     "text": [
      "local Optima\n",
      "1\n",
      "y_mean 783.0555555555555\n",
      "mean_mean 1479.9905138849253\n",
      "abs(round((mean_mean-y_mean)/y_mean)) 1.0\n",
      "local Optima\n",
      "1\n",
      "y_mean 783.0555555555555\n",
      "mean_mean 1463.6164162963166\n",
      "abs(round((mean_mean-y_mean)/y_mean)) 1.0\n",
      "local Optima\n",
      "1\n",
      "y_mean 783.0555555555555\n",
      "mean_mean 1408.5133759086104\n",
      "abs(round((mean_mean-y_mean)/y_mean)) 1.0\n",
      "local Optima\n",
      "1\n",
      "y_mean 783.0555555555555\n",
      "mean_mean 1636.8181124142927\n",
      "abs(round((mean_mean-y_mean)/y_mean)) 1.0\n",
      "local Optima\n",
      "1\n",
      "y_mean 783.0555555555555\n",
      "mean_mean 1540.1056250399374\n",
      "abs(round((mean_mean-y_mean)/y_mean)) 1.0\n"
     ]
    },
    {
     "name": "stderr",
     "output_type": "stream",
     "text": [
      " 28%|██▊       | 102/360 [05:35<14:14,  3.31s/it]"
     ]
    },
    {
     "name": "stdout",
     "output_type": "stream",
     "text": [
      "local Optima\n",
      "1\n",
      "y_mean 3492.3333333333335\n",
      "mean_mean 1444.8660968966674\n",
      "abs(round((mean_mean-y_mean)/y_mean)) 1.0\n",
      "local Optima\n",
      "1\n",
      "y_mean 3492.3333333333335\n",
      "mean_mean 1493.775414001315\n",
      "abs(round((mean_mean-y_mean)/y_mean)) 1.0\n",
      "local Optima\n",
      "1\n",
      "y_mean 3492.3333333333335\n",
      "mean_mean 1520.209847989428\n",
      "abs(round((mean_mean-y_mean)/y_mean)) 1.0\n",
      "local Optima\n",
      "1\n",
      "y_mean 3492.3333333333335\n",
      "mean_mean 1641.9249807797198\n",
      "abs(round((mean_mean-y_mean)/y_mean)) 1.0\n",
      "local Optima\n",
      "1\n",
      "y_mean 3492.3333333333335\n",
      "mean_mean 1554.7095226821577\n",
      "abs(round((mean_mean-y_mean)/y_mean)) 1.0\n"
     ]
    },
    {
     "name": "stderr",
     "output_type": "stream",
     "text": [
      " 30%|███       | 108/360 [06:02<16:41,  3.98s/it]"
     ]
    },
    {
     "name": "stdout",
     "output_type": "stream",
     "text": [
      "local Optima\n",
      "1\n",
      "y_mean 2142.1666666666665\n",
      "mean_mean 4311.970655864885\n",
      "abs(round((mean_mean-y_mean)/y_mean)) 1.0\n",
      "local Optima\n",
      "1\n",
      "y_mean 2142.1666666666665\n",
      "mean_mean 4291.555263156257\n",
      "abs(round((mean_mean-y_mean)/y_mean)) 1.0\n",
      "local Optima\n",
      "1\n",
      "y_mean 2142.1666666666665\n",
      "mean_mean 4501.205130146846\n",
      "abs(round((mean_mean-y_mean)/y_mean)) 1.0\n",
      "local Optima\n",
      "1\n",
      "y_mean 2142.1666666666665\n",
      "mean_mean 4740.63325333114\n",
      "abs(round((mean_mean-y_mean)/y_mean)) 1.0\n",
      "local Optima\n",
      "1\n",
      "y_mean 2142.1666666666665\n",
      "mean_mean 4369.971801369274\n",
      "abs(round((mean_mean-y_mean)/y_mean)) 1.0\n"
     ]
    },
    {
     "name": "stderr",
     "output_type": "stream",
     "text": [
      " 38%|███▊      | 138/360 [07:44<12:40,  3.43s/it]"
     ]
    },
    {
     "name": "stdout",
     "output_type": "stream",
     "text": [
      "local Optima\n",
      "1\n",
      "y_mean 2146.5555555555557\n",
      "mean_mean 879.2640817512819\n",
      "abs(round((mean_mean-y_mean)/y_mean)) 1.0\n",
      "local Optima\n",
      "1\n",
      "y_mean 2146.5555555555557\n",
      "mean_mean 927.9025038796755\n",
      "abs(round((mean_mean-y_mean)/y_mean)) 1.0\n",
      "local Optima\n",
      "1\n",
      "y_mean 2146.5555555555557\n",
      "mean_mean 924.0700281898339\n",
      "abs(round((mean_mean-y_mean)/y_mean)) 1.0\n",
      "local Optima\n",
      "1\n",
      "y_mean 2146.5555555555557\n",
      "mean_mean 973.1888946114781\n",
      "abs(round((mean_mean-y_mean)/y_mean)) 1.0\n",
      "local Optima\n",
      "1\n",
      "y_mean 2146.5555555555557\n",
      "mean_mean 949.3662979820036\n",
      "abs(round((mean_mean-y_mean)/y_mean)) 1.0\n"
     ]
    },
    {
     "name": "stderr",
     "output_type": "stream",
     "text": [
      " 47%|████▋     | 170/360 [09:34<10:53,  3.44s/it]"
     ]
    },
    {
     "name": "stdout",
     "output_type": "stream",
     "text": [
      "local Optima\n",
      "1\n",
      "y_mean 737.7222222222222\n",
      "mean_mean 1125.084195568109\n",
      "abs(round((mean_mean-y_mean)/y_mean)) 1.0\n",
      "local Optima\n",
      "1\n",
      "y_mean 737.7222222222222\n",
      "mean_mean 1117.472374793965\n",
      "abs(round((mean_mean-y_mean)/y_mean)) 1.0\n"
     ]
    },
    {
     "name": "stderr",
     "output_type": "stream",
     "text": [
      " 58%|█████▊    | 210/360 [11:43<08:27,  3.38s/it]"
     ]
    },
    {
     "name": "stdout",
     "output_type": "stream",
     "text": [
      "local Optima\n",
      "1\n",
      "y_mean 4599.111111111111\n",
      "mean_mean 1409.3159554347376\n",
      "abs(round((mean_mean-y_mean)/y_mean)) 1.0\n",
      "local Optima\n",
      "1\n",
      "y_mean 4599.111111111111\n",
      "mean_mean 1520.5434291502347\n",
      "abs(round((mean_mean-y_mean)/y_mean)) 1.0\n",
      "local Optima\n",
      "1\n",
      "y_mean 4599.111111111111\n",
      "mean_mean 1499.5763933202022\n",
      "abs(round((mean_mean-y_mean)/y_mean)) 1.0\n",
      "local Optima\n",
      "1\n",
      "y_mean 4599.111111111111\n",
      "mean_mean 1586.993904159604\n",
      "abs(round((mean_mean-y_mean)/y_mean)) 1.0\n",
      "local Optima\n",
      "1\n",
      "y_mean 4599.111111111111\n",
      "mean_mean 1561.006653906851\n",
      "abs(round((mean_mean-y_mean)/y_mean)) 1.0\n"
     ]
    },
    {
     "name": "stderr",
     "output_type": "stream",
     "text": [
      " 62%|██████▏   | 222/360 [12:23<06:57,  3.03s/it]"
     ]
    },
    {
     "name": "stdout",
     "output_type": "stream",
     "text": [
      "local Optima\n",
      "1\n",
      "y_mean 1368.4444444444443\n",
      "mean_mean 3537.429670615106\n",
      "abs(round((mean_mean-y_mean)/y_mean)) 2.0\n",
      "local Optima\n",
      "1\n",
      "y_mean 1368.4444444444443\n",
      "mean_mean 3599.013139342374\n",
      "abs(round((mean_mean-y_mean)/y_mean)) 2.0\n",
      "local Optima\n",
      "1\n",
      "y_mean 1368.4444444444443\n",
      "mean_mean 3379.0186888788194\n",
      "abs(round((mean_mean-y_mean)/y_mean)) 1.0\n",
      "local Optima\n",
      "1\n",
      "y_mean 1368.4444444444443\n",
      "mean_mean 4220.248418780484\n",
      "abs(round((mean_mean-y_mean)/y_mean)) 2.0\n",
      "local Optima\n",
      "1\n",
      "y_mean 1368.4444444444443\n",
      "mean_mean 3653.2803302431685\n",
      "abs(round((mean_mean-y_mean)/y_mean)) 2.0\n"
     ]
    },
    {
     "name": "stderr",
     "output_type": "stream",
     "text": [
      " 67%|██████▋   | 240/360 [13:26<07:18,  3.66s/it]"
     ]
    },
    {
     "name": "stdout",
     "output_type": "stream",
     "text": [
      "local Optima\n",
      "1\n",
      "y_mean 4057.1111111111113\n",
      "mean_mean 1702.1637906903773\n",
      "abs(round((mean_mean-y_mean)/y_mean)) 1.0\n",
      "local Optima\n",
      "1\n",
      "y_mean 4057.1111111111113\n",
      "mean_mean 1747.191645094232\n",
      "abs(round((mean_mean-y_mean)/y_mean)) 1.0\n",
      "local Optima\n",
      "1\n",
      "y_mean 4057.1111111111113\n",
      "mean_mean 1746.7021037703992\n",
      "abs(round((mean_mean-y_mean)/y_mean)) 1.0\n",
      "local Optima\n",
      "1\n",
      "y_mean 4057.1111111111113\n",
      "mean_mean 1851.260749325148\n",
      "abs(round((mean_mean-y_mean)/y_mean)) 1.0\n"
     ]
    },
    {
     "name": "stderr",
     "output_type": "stream",
     "text": [
      " 70%|███████   | 252/360 [14:15<06:19,  3.51s/it]"
     ]
    },
    {
     "name": "stdout",
     "output_type": "stream",
     "text": [
      "local Optima\n",
      "1\n",
      "y_mean 1177.0555555555557\n",
      "mean_mean 2369.075859734452\n",
      "abs(round((mean_mean-y_mean)/y_mean)) 1.0\n",
      "local Optima\n",
      "1\n",
      "y_mean 1177.0555555555557\n",
      "mean_mean 2224.232716899725\n",
      "abs(round((mean_mean-y_mean)/y_mean)) 1.0\n",
      "local Optima\n",
      "1\n",
      "y_mean 1177.0555555555557\n",
      "mean_mean 2110.9368019096296\n",
      "abs(round((mean_mean-y_mean)/y_mean)) 1.0\n",
      "local Optima\n",
      "1\n",
      "y_mean 1177.0555555555557\n",
      "mean_mean 2223.0774324817494\n",
      "abs(round((mean_mean-y_mean)/y_mean)) 1.0\n",
      "local Optima\n",
      "1\n",
      "y_mean 1177.0555555555557\n",
      "mean_mean 2272.790685348188\n",
      "abs(round((mean_mean-y_mean)/y_mean)) 1.0\n"
     ]
    },
    {
     "name": "stderr",
     "output_type": "stream",
     "text": [
      " 73%|███████▎  | 264/360 [15:05<06:03,  3.78s/it]"
     ]
    },
    {
     "name": "stdout",
     "output_type": "stream",
     "text": [
      "local Optima\n",
      "1\n",
      "y_mean 979.2222222222222\n",
      "mean_mean 2079.512088227442\n",
      "abs(round((mean_mean-y_mean)/y_mean)) 1.0\n",
      "local Optima\n",
      "1\n",
      "y_mean 979.2222222222222\n",
      "mean_mean 2002.8350368844644\n",
      "abs(round((mean_mean-y_mean)/y_mean)) 1.0\n",
      "local Optima\n",
      "1\n",
      "y_mean 979.2222222222222\n",
      "mean_mean 1944.5151670319656\n",
      "abs(round((mean_mean-y_mean)/y_mean)) 1.0\n",
      "local Optima\n",
      "1\n",
      "y_mean 979.2222222222222\n",
      "mean_mean 2272.511759100251\n",
      "abs(round((mean_mean-y_mean)/y_mean)) 1.0\n",
      "local Optima\n",
      "1\n",
      "y_mean 979.2222222222222\n",
      "mean_mean 2135.031986311851\n",
      "abs(round((mean_mean-y_mean)/y_mean)) 1.0\n"
     ]
    },
    {
     "name": "stderr",
     "output_type": "stream",
     "text": [
      " 85%|████████▍ | 305/360 [17:18<02:36,  2.85s/it]"
     ]
    },
    {
     "name": "stdout",
     "output_type": "stream",
     "text": [
      "Optimization fail.\n",
      "Optimization fail.\n"
     ]
    },
    {
     "name": "stderr",
     "output_type": "stream",
     "text": [
      " 87%|████████▋ | 312/360 [17:49<03:00,  3.75s/it]"
     ]
    },
    {
     "name": "stdout",
     "output_type": "stream",
     "text": [
      "local Optima\n",
      "1\n",
      "y_mean 1978.611111111111\n",
      "mean_mean 4605.477660507825\n",
      "abs(round((mean_mean-y_mean)/y_mean)) 1.0\n",
      "local Optima\n",
      "1\n",
      "y_mean 1978.611111111111\n",
      "mean_mean 4731.424591431695\n",
      "abs(round((mean_mean-y_mean)/y_mean)) 1.0\n",
      "local Optima\n",
      "1\n",
      "y_mean 1978.611111111111\n",
      "mean_mean 4662.0911511484055\n",
      "abs(round((mean_mean-y_mean)/y_mean)) 1.0\n",
      "local Optima\n",
      "1\n",
      "y_mean 1978.611111111111\n",
      "mean_mean 5791.746466049107\n",
      "abs(round((mean_mean-y_mean)/y_mean)) 2.0\n"
     ]
    },
    {
     "name": "stderr",
     "output_type": "stream",
     "text": [
      " 90%|█████████ | 324/360 [18:31<02:08,  3.56s/it]"
     ]
    },
    {
     "name": "stdout",
     "output_type": "stream",
     "text": [
      "local Optima\n",
      "1\n",
      "y_mean 4438.444444444444\n",
      "mean_mean 1157.1634807838261\n",
      "abs(round((mean_mean-y_mean)/y_mean)) 1.0\n",
      "local Optima\n",
      "1\n",
      "y_mean 4438.444444444444\n",
      "mean_mean 1249.3670630474903\n",
      "abs(round((mean_mean-y_mean)/y_mean)) 1.0\n",
      "local Optima\n",
      "1\n",
      "y_mean 4438.444444444444\n",
      "mean_mean 1223.7534309248567\n",
      "abs(round((mean_mean-y_mean)/y_mean)) 1.0\n",
      "local Optima\n",
      "1\n",
      "y_mean 4438.444444444444\n",
      "mean_mean 1293.470869466397\n",
      "abs(round((mean_mean-y_mean)/y_mean)) 1.0\n",
      "local Optima\n",
      "1\n",
      "y_mean 4438.444444444444\n",
      "mean_mean 1276.8966698039167\n",
      "abs(round((mean_mean-y_mean)/y_mean)) 1.0\n"
     ]
    },
    {
     "name": "stderr",
     "output_type": "stream",
     "text": [
      " 91%|█████████ | 328/360 [18:50<02:17,  4.30s/it]"
     ]
    },
    {
     "name": "stdout",
     "output_type": "stream",
     "text": [
      "local Optima\n",
      "1\n",
      "y_mean 12564.833333333334\n",
      "mean_mean 25753.287038919338\n",
      "abs(round((mean_mean-y_mean)/y_mean)) 1.0\n",
      "local Optima\n",
      "1\n",
      "y_mean 12564.833333333334\n",
      "mean_mean 26199.56146220159\n",
      "abs(round((mean_mean-y_mean)/y_mean)) 1.0\n",
      "local Optima\n",
      "1\n",
      "y_mean 12564.833333333334\n",
      "mean_mean 27763.890201004342\n",
      "abs(round((mean_mean-y_mean)/y_mean)) 1.0\n",
      "local Optima\n",
      "1\n",
      "y_mean 12564.833333333334\n",
      "mean_mean 30164.44987332844\n",
      "abs(round((mean_mean-y_mean)/y_mean)) 1.0\n",
      "local Optima\n",
      "1\n",
      "y_mean 12564.833333333334\n",
      "mean_mean 26937.2525329341\n",
      "abs(round((mean_mean-y_mean)/y_mean)) 1.0\n"
     ]
    },
    {
     "name": "stderr",
     "output_type": "stream",
     "text": [
      " 93%|█████████▎| 334/360 [19:14<01:39,  3.84s/it]"
     ]
    },
    {
     "name": "stdout",
     "output_type": "stream",
     "text": [
      "local Optima\n",
      "1\n",
      "y_mean 9547.166666666666\n",
      "mean_mean 14606.820093592796\n",
      "abs(round((mean_mean-y_mean)/y_mean)) 1.0\n",
      "local Optima\n",
      "1\n",
      "y_mean 9547.166666666666\n",
      "mean_mean 15720.400656392223\n",
      "abs(round((mean_mean-y_mean)/y_mean)) 1.0\n",
      "local Optima\n",
      "1\n",
      "y_mean 9547.166666666666\n",
      "mean_mean 15292.931696137784\n",
      "abs(round((mean_mean-y_mean)/y_mean)) 1.0\n",
      "local Optima\n",
      "1\n",
      "y_mean 9547.166666666666\n",
      "mean_mean 17245.972628551455\n",
      "abs(round((mean_mean-y_mean)/y_mean)) 1.0\n",
      "local Optima\n",
      "1\n",
      "y_mean 9547.166666666666\n",
      "mean_mean 16155.055460408172\n",
      "abs(round((mean_mean-y_mean)/y_mean)) 1.0\n"
     ]
    },
    {
     "name": "stderr",
     "output_type": "stream",
     "text": [
      "\r",
      " 93%|█████████▎| 335/360 [19:21<01:57,  4.68s/it]"
     ]
    },
    {
     "name": "stdout",
     "output_type": "stream",
     "text": [
      "Optimization fail.\n",
      "Optimization fail.\n"
     ]
    },
    {
     "name": "stderr",
     "output_type": "stream",
     "text": [
      " 95%|█████████▌| 342/360 [19:55<01:10,  3.92s/it]"
     ]
    },
    {
     "name": "stdout",
     "output_type": "stream",
     "text": [
      "local Optima\n",
      "1\n",
      "y_mean 5844.611111111111\n",
      "mean_mean 2492.9499284271124\n",
      "abs(round((mean_mean-y_mean)/y_mean)) 1.0\n",
      "local Optima\n",
      "1\n",
      "y_mean 5844.611111111111\n",
      "mean_mean 2660.1928766288765\n",
      "abs(round((mean_mean-y_mean)/y_mean)) 1.0\n",
      "local Optima\n",
      "1\n",
      "y_mean 5844.611111111111\n",
      "mean_mean 2615.084276540695\n",
      "abs(round((mean_mean-y_mean)/y_mean)) 1.0\n",
      "local Optima\n",
      "1\n",
      "y_mean 5844.611111111111\n",
      "mean_mean 2878.1258747109546\n",
      "abs(round((mean_mean-y_mean)/y_mean)) 1.0\n",
      "local Optima\n",
      "1\n",
      "y_mean 5844.611111111111\n",
      "mean_mean 2686.759395500763\n",
      "abs(round((mean_mean-y_mean)/y_mean)) 1.0\n"
     ]
    },
    {
     "name": "stderr",
     "output_type": "stream",
     "text": [
      " 96%|█████████▌| 345/360 [20:08<00:55,  3.73s/it]"
     ]
    },
    {
     "name": "stdout",
     "output_type": "stream",
     "text": [
      "Fit Cholesky decomposition was not successful.\n"
     ]
    },
    {
     "name": "stderr",
     "output_type": "stream",
     "text": [
      " 99%|█████████▊| 355/360 [20:43<00:16,  3.31s/it]"
     ]
    },
    {
     "name": "stdout",
     "output_type": "stream",
     "text": [
      "Fit Cholesky decomposition was not successful.\n"
     ]
    },
    {
     "name": "stderr",
     "output_type": "stream",
     "text": [
      "100%|██████████| 360/360 [21:03<00:00,  3.51s/it]\n",
      " 10%|█         | 37/360 [00:14<02:04,  2.60it/s]"
     ]
    },
    {
     "name": "stdout",
     "output_type": "stream",
     "text": [
      "Fit Cholesky decomposition was not successful.\n"
     ]
    },
    {
     "name": "stderr",
     "output_type": "stream",
     "text": [
      " 11%|█         | 39/360 [00:15<02:19,  2.31it/s]"
     ]
    },
    {
     "name": "stdout",
     "output_type": "stream",
     "text": [
      "Fit Cholesky decomposition was not successful.\n"
     ]
    },
    {
     "name": "stderr",
     "output_type": "stream",
     "text": [
      " 15%|█▍        | 53/360 [00:21<02:02,  2.50it/s]"
     ]
    },
    {
     "name": "stdout",
     "output_type": "stream",
     "text": [
      "Fit Cholesky decomposition was not successful.\n"
     ]
    },
    {
     "name": "stderr",
     "output_type": "stream",
     "text": [
      " 17%|█▋        | 61/360 [00:25<01:57,  2.54it/s]"
     ]
    },
    {
     "name": "stdout",
     "output_type": "stream",
     "text": [
      "Fit Cholesky decomposition was not successful.\n"
     ]
    },
    {
     "name": "stderr",
     "output_type": "stream",
     "text": [
      " 18%|█▊        | 63/360 [00:26<02:10,  2.28it/s]"
     ]
    },
    {
     "name": "stdout",
     "output_type": "stream",
     "text": [
      "Fit Cholesky decomposition was not successful.\n"
     ]
    },
    {
     "name": "stderr",
     "output_type": "stream",
     "text": [
      " 20%|█▉        | 71/360 [00:29<01:54,  2.53it/s]"
     ]
    },
    {
     "name": "stdout",
     "output_type": "stream",
     "text": [
      "Fit Cholesky decomposition was not successful.\n"
     ]
    },
    {
     "name": "stderr",
     "output_type": "stream",
     "text": [
      " 23%|██▎       | 83/360 [00:34<01:45,  2.62it/s]"
     ]
    },
    {
     "name": "stdout",
     "output_type": "stream",
     "text": [
      "Fit Cholesky decomposition was not successful.\n"
     ]
    },
    {
     "name": "stderr",
     "output_type": "stream",
     "text": [
      " 25%|██▍       | 89/360 [00:36<01:47,  2.51it/s]"
     ]
    },
    {
     "name": "stdout",
     "output_type": "stream",
     "text": [
      "Fit Cholesky decomposition was not successful.\n"
     ]
    },
    {
     "name": "stderr",
     "output_type": "stream",
     "text": [
      " 25%|██▌       | 91/360 [00:37<01:58,  2.28it/s]"
     ]
    },
    {
     "name": "stdout",
     "output_type": "stream",
     "text": [
      "Fit Cholesky decomposition was not successful.\n"
     ]
    },
    {
     "name": "stderr",
     "output_type": "stream",
     "text": [
      " 28%|██▊       | 101/360 [00:42<01:44,  2.47it/s]"
     ]
    },
    {
     "name": "stdout",
     "output_type": "stream",
     "text": [
      "Fit Cholesky decomposition was not successful.\n"
     ]
    },
    {
     "name": "stderr",
     "output_type": "stream",
     "text": [
      " 32%|███▏      | 115/360 [00:47<01:34,  2.61it/s]"
     ]
    },
    {
     "name": "stdout",
     "output_type": "stream",
     "text": [
      "Fit Cholesky decomposition was not successful.\n"
     ]
    },
    {
     "name": "stderr",
     "output_type": "stream",
     "text": [
      " 36%|███▌      | 129/360 [00:53<01:28,  2.60it/s]"
     ]
    },
    {
     "name": "stdout",
     "output_type": "stream",
     "text": [
      "Fit Cholesky decomposition was not successful.\n"
     ]
    },
    {
     "name": "stderr",
     "output_type": "stream",
     "text": [
      " 37%|███▋      | 133/360 [00:55<01:31,  2.47it/s]"
     ]
    },
    {
     "name": "stdout",
     "output_type": "stream",
     "text": [
      "Fit Cholesky decomposition was not successful.\n"
     ]
    },
    {
     "name": "stderr",
     "output_type": "stream",
     "text": [
      " 38%|███▊      | 137/360 [00:57<01:31,  2.44it/s]"
     ]
    },
    {
     "name": "stdout",
     "output_type": "stream",
     "text": [
      "Fit Cholesky decomposition was not successful.\n"
     ]
    },
    {
     "name": "stderr",
     "output_type": "stream",
     "text": [
      " 39%|███▉      | 141/360 [00:58<01:31,  2.40it/s]"
     ]
    },
    {
     "name": "stdout",
     "output_type": "stream",
     "text": [
      "Fit Cholesky decomposition was not successful.\n"
     ]
    },
    {
     "name": "stderr",
     "output_type": "stream",
     "text": [
      " 40%|████      | 145/360 [01:00<01:29,  2.39it/s]"
     ]
    },
    {
     "name": "stdout",
     "output_type": "stream",
     "text": [
      "Fit Cholesky decomposition was not successful.\n"
     ]
    },
    {
     "name": "stderr",
     "output_type": "stream",
     "text": [
      " 42%|████▏     | 151/360 [01:03<01:23,  2.49it/s]"
     ]
    },
    {
     "name": "stdout",
     "output_type": "stream",
     "text": [
      "Fit Cholesky decomposition was not successful.\n"
     ]
    },
    {
     "name": "stderr",
     "output_type": "stream",
     "text": [
      " 44%|████▎     | 157/360 [01:05<01:23,  2.44it/s]"
     ]
    },
    {
     "name": "stdout",
     "output_type": "stream",
     "text": [
      "Fit Cholesky decomposition was not successful.\n"
     ]
    },
    {
     "name": "stderr",
     "output_type": "stream",
     "text": [
      " 48%|████▊     | 171/360 [01:11<01:12,  2.59it/s]"
     ]
    },
    {
     "name": "stdout",
     "output_type": "stream",
     "text": [
      "Fit Cholesky decomposition was not successful.\n"
     ]
    },
    {
     "name": "stderr",
     "output_type": "stream",
     "text": [
      " 48%|████▊     | 173/360 [01:12<01:21,  2.29it/s]"
     ]
    },
    {
     "name": "stdout",
     "output_type": "stream",
     "text": [
      "Fit Cholesky decomposition was not successful.\n"
     ]
    },
    {
     "name": "stderr",
     "output_type": "stream",
     "text": [
      " 49%|████▉     | 177/360 [01:14<01:16,  2.39it/s]"
     ]
    },
    {
     "name": "stdout",
     "output_type": "stream",
     "text": [
      "Fit Cholesky decomposition was not successful.\n"
     ]
    },
    {
     "name": "stderr",
     "output_type": "stream",
     "text": [
      " 50%|████▉     | 179/360 [01:15<01:20,  2.25it/s]"
     ]
    },
    {
     "name": "stdout",
     "output_type": "stream",
     "text": [
      "Fit Cholesky decomposition was not successful.\n"
     ]
    },
    {
     "name": "stderr",
     "output_type": "stream",
     "text": [
      " 52%|█████▏    | 187/360 [01:18<01:07,  2.55it/s]"
     ]
    },
    {
     "name": "stdout",
     "output_type": "stream",
     "text": [
      "Fit Cholesky decomposition was not successful.\n"
     ]
    },
    {
     "name": "stderr",
     "output_type": "stream",
     "text": [
      " 56%|█████▋    | 203/360 [01:25<01:00,  2.59it/s]"
     ]
    },
    {
     "name": "stdout",
     "output_type": "stream",
     "text": [
      "Fit Cholesky decomposition was not successful.\n"
     ]
    },
    {
     "name": "stderr",
     "output_type": "stream",
     "text": [
      " 58%|█████▊    | 209/360 [01:27<00:59,  2.52it/s]"
     ]
    },
    {
     "name": "stdout",
     "output_type": "stream",
     "text": [
      "Fit Cholesky decomposition was not successful.\n"
     ]
    },
    {
     "name": "stderr",
     "output_type": "stream",
     "text": [
      " 59%|█████▊    | 211/360 [01:28<01:05,  2.27it/s]"
     ]
    },
    {
     "name": "stdout",
     "output_type": "stream",
     "text": [
      "Fit Cholesky decomposition was not successful.\n"
     ]
    },
    {
     "name": "stderr",
     "output_type": "stream",
     "text": [
      " 59%|█████▉    | 213/360 [01:29<01:07,  2.17it/s]"
     ]
    },
    {
     "name": "stdout",
     "output_type": "stream",
     "text": [
      "Fit Cholesky decomposition was not successful.\n"
     ]
    },
    {
     "name": "stderr",
     "output_type": "stream",
     "text": [
      " 60%|██████    | 217/360 [01:31<01:00,  2.37it/s]"
     ]
    },
    {
     "name": "stdout",
     "output_type": "stream",
     "text": [
      "Fit Cholesky decomposition was not successful.\n"
     ]
    },
    {
     "name": "stderr",
     "output_type": "stream",
     "text": [
      " 65%|██████▌   | 235/360 [01:38<00:48,  2.57it/s]"
     ]
    },
    {
     "name": "stdout",
     "output_type": "stream",
     "text": [
      "Fit Cholesky decomposition was not successful.\n"
     ]
    },
    {
     "name": "stderr",
     "output_type": "stream",
     "text": [
      " 67%|██████▋   | 241/360 [01:41<00:47,  2.52it/s]"
     ]
    },
    {
     "name": "stdout",
     "output_type": "stream",
     "text": [
      "Fit Cholesky decomposition was not successful.\n"
     ]
    },
    {
     "name": "stderr",
     "output_type": "stream",
     "text": [
      " 68%|██████▊   | 245/360 [01:42<00:46,  2.45it/s]"
     ]
    },
    {
     "name": "stdout",
     "output_type": "stream",
     "text": [
      "Fit Cholesky decomposition was not successful.\n"
     ]
    },
    {
     "name": "stderr",
     "output_type": "stream",
     "text": [
      " 69%|██████▊   | 247/360 [01:44<00:51,  2.19it/s]"
     ]
    },
    {
     "name": "stdout",
     "output_type": "stream",
     "text": [
      "Fit Cholesky decomposition was not successful.\n"
     ]
    },
    {
     "name": "stderr",
     "output_type": "stream",
     "text": [
      " 70%|██████▉   | 251/360 [01:46<00:49,  2.19it/s]"
     ]
    },
    {
     "name": "stdout",
     "output_type": "stream",
     "text": [
      "Fit Cholesky decomposition was not successful.\n"
     ]
    },
    {
     "name": "stderr",
     "output_type": "stream",
     "text": [
      " 70%|███████   | 253/360 [01:47<00:53,  2.01it/s]"
     ]
    },
    {
     "name": "stdout",
     "output_type": "stream",
     "text": [
      "Fit Cholesky decomposition was not successful.\n",
      "Fit Cholesky decomposition was not successful.\n"
     ]
    },
    {
     "name": "stderr",
     "output_type": "stream",
     "text": [
      " 74%|███████▎  | 265/360 [01:52<00:37,  2.53it/s]"
     ]
    },
    {
     "name": "stdout",
     "output_type": "stream",
     "text": [
      "Fit Cholesky decomposition was not successful.\n"
     ]
    },
    {
     "name": "stderr",
     "output_type": "stream",
     "text": [
      " 74%|███████▍  | 267/360 [01:53<00:41,  2.26it/s]"
     ]
    },
    {
     "name": "stdout",
     "output_type": "stream",
     "text": [
      "Fit Cholesky decomposition was not successful.\n",
      "Fit Cholesky decomposition was not successful.\n"
     ]
    },
    {
     "name": "stderr",
     "output_type": "stream",
     "text": [
      " 75%|███████▍  | 269/360 [01:54<00:47,  1.93it/s]"
     ]
    },
    {
     "name": "stdout",
     "output_type": "stream",
     "text": [
      "Fit Cholesky decomposition was not successful.\n"
     ]
    },
    {
     "name": "stderr",
     "output_type": "stream",
     "text": [
      " 75%|███████▌  | 271/360 [01:55<00:44,  2.01it/s]"
     ]
    },
    {
     "name": "stdout",
     "output_type": "stream",
     "text": [
      "Fit Cholesky decomposition was not successful.\n",
      "Fit Cholesky decomposition was not successful.\n"
     ]
    },
    {
     "name": "stderr",
     "output_type": "stream",
     "text": [
      " 76%|███████▋  | 275/360 [01:57<00:39,  2.13it/s]"
     ]
    },
    {
     "name": "stdout",
     "output_type": "stream",
     "text": [
      "Fit Cholesky decomposition was not successful.\n",
      "Fit Cholesky decomposition was not successful.\n"
     ]
    },
    {
     "name": "stderr",
     "output_type": "stream",
     "text": [
      " 78%|███████▊  | 281/360 [02:00<00:34,  2.31it/s]"
     ]
    },
    {
     "name": "stdout",
     "output_type": "stream",
     "text": [
      "Fit Cholesky decomposition was not successful.\n"
     ]
    },
    {
     "name": "stderr",
     "output_type": "stream",
     "text": [
      " 81%|████████▏ | 293/360 [02:05<00:27,  2.44it/s]"
     ]
    },
    {
     "name": "stdout",
     "output_type": "stream",
     "text": [
      "Fit Cholesky decomposition was not successful.\n",
      "Fit Cholesky decomposition was not successful.\n"
     ]
    },
    {
     "name": "stderr",
     "output_type": "stream",
     "text": [
      " 83%|████████▎ | 299/360 [02:08<00:25,  2.39it/s]"
     ]
    },
    {
     "name": "stdout",
     "output_type": "stream",
     "text": [
      "Fit Cholesky decomposition was not successful.\n",
      "Fit Cholesky decomposition was not successful.\n"
     ]
    },
    {
     "name": "stderr",
     "output_type": "stream",
     "text": [
      " 84%|████████▍ | 303/360 [02:10<00:24,  2.30it/s]"
     ]
    },
    {
     "name": "stdout",
     "output_type": "stream",
     "text": [
      "Fit Cholesky decomposition was not successful.\n"
     ]
    },
    {
     "name": "stderr",
     "output_type": "stream",
     "text": [
      " 85%|████████▍ | 305/360 [02:11<00:25,  2.19it/s]"
     ]
    },
    {
     "name": "stdout",
     "output_type": "stream",
     "text": [
      "Fit Cholesky decomposition was not successful.\n",
      "Fit Cholesky decomposition was not successful.\n"
     ]
    },
    {
     "name": "stderr",
     "output_type": "stream",
     "text": [
      " 87%|████████▋ | 313/360 [02:15<00:18,  2.50it/s]"
     ]
    },
    {
     "name": "stdout",
     "output_type": "stream",
     "text": [
      "Fit Cholesky decomposition was not successful.\n"
     ]
    },
    {
     "name": "stderr",
     "output_type": "stream",
     "text": [
      " 91%|█████████ | 327/360 [02:21<00:13,  2.51it/s]"
     ]
    },
    {
     "name": "stdout",
     "output_type": "stream",
     "text": [
      "Fit Cholesky decomposition was not successful.\n"
     ]
    },
    {
     "name": "stderr",
     "output_type": "stream",
     "text": [
      " 96%|█████████▋| 347/360 [02:29<00:05,  2.53it/s]"
     ]
    },
    {
     "name": "stdout",
     "output_type": "stream",
     "text": [
      "Fit Cholesky decomposition was not successful.\n",
      "Fit Cholesky decomposition was not successful.\n",
      "Fit Cholesky decomposition was not successful.\n"
     ]
    },
    {
     "name": "stderr",
     "output_type": "stream",
     "text": [
      "100%|██████████| 360/360 [02:35<00:00,  2.31it/s]\n",
      "  2%|▏         | 7/360 [00:21<18:09,  3.09s/it]"
     ]
    },
    {
     "name": "stdout",
     "output_type": "stream",
     "text": [
      "Optimization fail.\n",
      "Optimization fail.\n",
      "Optimization fail.\n",
      "Optimization fail.\n",
      "Optimization fail.\n"
     ]
    },
    {
     "name": "stderr",
     "output_type": "stream",
     "text": [
      "  3%|▎         | 11/360 [00:54<30:18,  5.21s/it]"
     ]
    },
    {
     "name": "stdout",
     "output_type": "stream",
     "text": [
      "Optimization fail.\n"
     ]
    },
    {
     "name": "stderr",
     "output_type": "stream",
     "text": [
      "  4%|▎         | 13/360 [01:05<28:35,  4.94s/it]"
     ]
    },
    {
     "name": "stdout",
     "output_type": "stream",
     "text": [
      "Optimization fail.\n",
      "Optimization fail.\n",
      "Optimization fail.\n",
      "Optimization fail.\n",
      "Optimization fail.\n",
      "Optimization fail.\n"
     ]
    },
    {
     "name": "stderr",
     "output_type": "stream",
     "text": [
      "  4%|▍         | 15/360 [01:35<51:37,  8.98s/it]  "
     ]
    },
    {
     "name": "stdout",
     "output_type": "stream",
     "text": [
      "Optimization fail.\n"
     ]
    },
    {
     "name": "stderr",
     "output_type": "stream",
     "text": [
      "  5%|▍         | 17/360 [01:47<41:06,  7.19s/it]"
     ]
    },
    {
     "name": "stdout",
     "output_type": "stream",
     "text": [
      "Optimization fail.\n",
      "Optimization fail.\n",
      "Optimization fail.\n",
      "Optimization fail.\n",
      "Optimization fail.\n",
      "Optimization fail.\n",
      "Optimization fail.\n"
     ]
    },
    {
     "name": "stderr",
     "output_type": "stream",
     "text": [
      "  6%|▌         | 22/360 [02:30<34:13,  6.08s/it]  "
     ]
    },
    {
     "name": "stdout",
     "output_type": "stream",
     "text": [
      "local Optima\n",
      "1\n",
      "y_mean 4308.555555555556\n",
      "mean_mean 1108.3811446000318\n",
      "abs(round((mean_mean-y_mean)/y_mean)) 1.0\n"
     ]
    },
    {
     "name": "stderr",
     "output_type": "stream",
     "text": [
      "\r",
      "  6%|▋         | 23/360 [02:33<29:25,  5.24s/it]"
     ]
    },
    {
     "name": "stdout",
     "output_type": "stream",
     "text": [
      "Optimization fail.\n",
      "Optimization fail.\n",
      "Optimization fail.\n",
      "Optimization fail.\n",
      "Optimization fail.\n"
     ]
    },
    {
     "name": "stderr",
     "output_type": "stream",
     "text": [
      "  9%|▊         | 31/360 [03:21<22:16,  4.06s/it]  "
     ]
    },
    {
     "name": "stdout",
     "output_type": "stream",
     "text": [
      "Optimization fail.\n",
      "Optimization fail.\n"
     ]
    },
    {
     "name": "stderr",
     "output_type": "stream",
     "text": [
      " 10%|▉         | 35/360 [03:44<25:06,  4.64s/it]"
     ]
    },
    {
     "name": "stdout",
     "output_type": "stream",
     "text": [
      "Optimization fail.\n",
      "Optimization fail.\n",
      "Optimization fail.\n"
     ]
    },
    {
     "name": "stderr",
     "output_type": "stream",
     "text": [
      " 10%|█         | 37/360 [04:03<34:32,  6.42s/it]"
     ]
    },
    {
     "name": "stdout",
     "output_type": "stream",
     "text": [
      "Optimization fail.\n",
      "Optimization fail.\n",
      "Optimization fail.\n",
      "Optimization fail.\n",
      "Optimization fail.\n",
      "Optimization fail.\n",
      "Optimization fail.\n",
      "Optimization fail.\n",
      "Optimization fail.\n",
      "Optimization fail.\n",
      "Optimization fail.\n",
      "Optimization fail.\n",
      "Optimization fail.\n",
      "Optimization fail.\n"
     ]
    },
    {
     "name": "stderr",
     "output_type": "stream",
     "text": [
      " 11%|█         | 39/360 [05:08<1:31:06, 17.03s/it]"
     ]
    },
    {
     "name": "stdout",
     "output_type": "stream",
     "text": [
      "Optimization fail.\n",
      "Optimization fail.\n"
     ]
    },
    {
     "name": "stderr",
     "output_type": "stream",
     "text": [
      " 11%|█▏        | 41/360 [05:23<1:03:14, 11.90s/it]"
     ]
    },
    {
     "name": "stdout",
     "output_type": "stream",
     "text": [
      "Optimization fail.\n"
     ]
    },
    {
     "name": "stderr",
     "output_type": "stream",
     "text": [
      "\r",
      " 12%|█▏        | 42/360 [05:33<58:52, 11.11s/it]  "
     ]
    },
    {
     "name": "stdout",
     "output_type": "stream",
     "text": [
      "local Optima\n",
      "1\n",
      "y_mean 250.33333333333334\n",
      "mean_mean 112.10140824099035\n",
      "abs(round((mean_mean-y_mean)/y_mean)) 1.0\n",
      "local Optima\n",
      "1\n",
      "y_mean 250.33333333333334\n",
      "mean_mean 112.93928600780534\n",
      "abs(round((mean_mean-y_mean)/y_mean)) 1.0\n",
      "local Optima\n",
      "1\n",
      "y_mean 250.33333333333334\n",
      "mean_mean 114.60198029638123\n",
      "abs(round((mean_mean-y_mean)/y_mean)) 1.0\n",
      "local Optima\n",
      "1\n",
      "y_mean 250.33333333333334\n",
      "mean_mean 116.00858739390542\n",
      "abs(round((mean_mean-y_mean)/y_mean)) 1.0\n",
      "local Optima\n",
      "1\n",
      "y_mean 250.33333333333334\n",
      "mean_mean 113.6079721122931\n",
      "abs(round((mean_mean-y_mean)/y_mean)) 1.0\n"
     ]
    },
    {
     "name": "stderr",
     "output_type": "stream",
     "text": [
      " 13%|█▎        | 48/360 [05:57<23:27,  4.51s/it]"
     ]
    },
    {
     "name": "stdout",
     "output_type": "stream",
     "text": [
      "local Optima\n",
      "1\n",
      "y_mean 783.0555555555555\n",
      "mean_mean 1357.5354318005475\n",
      "abs(round((mean_mean-y_mean)/y_mean)) 1.0\n",
      "local Optima\n",
      "1\n",
      "y_mean 783.0555555555555\n",
      "mean_mean 1374.009363012564\n",
      "abs(round((mean_mean-y_mean)/y_mean)) 1.0\n",
      "local Optima\n",
      "1\n",
      "y_mean 783.0555555555555\n",
      "mean_mean 1356.1938475035747\n",
      "abs(round((mean_mean-y_mean)/y_mean)) 1.0\n",
      "local Optima\n",
      "1\n",
      "y_mean 783.0555555555555\n",
      "mean_mean 1327.301200944817\n",
      "abs(round((mean_mean-y_mean)/y_mean)) 1.0\n",
      "local Optima\n",
      "1\n",
      "y_mean 783.0555555555555\n",
      "mean_mean 1393.927347832817\n",
      "abs(round((mean_mean-y_mean)/y_mean)) 1.0\n"
     ]
    },
    {
     "name": "stderr",
     "output_type": "stream",
     "text": [
      " 15%|█▍        | 53/360 [06:19<20:12,  3.95s/it]"
     ]
    },
    {
     "name": "stdout",
     "output_type": "stream",
     "text": [
      "Optimization fail.\n"
     ]
    },
    {
     "name": "stderr",
     "output_type": "stream",
     "text": [
      " 15%|█▌        | 55/360 [06:31<24:44,  4.87s/it]"
     ]
    },
    {
     "name": "stdout",
     "output_type": "stream",
     "text": [
      "Optimization fail.\n",
      "Optimization fail.\n",
      "Optimization fail.\n",
      "Optimization fail.\n",
      "Optimization fail.\n",
      "Optimization fail.\n",
      "Optimization fail.\n",
      "Optimization fail.\n",
      "Optimization fail.\n",
      "Optimization fail.\n",
      "Optimization fail.\n",
      "Optimization fail.\n",
      "Optimization fail.\n",
      "Optimization fail.\n"
     ]
    },
    {
     "name": "stderr",
     "output_type": "stream",
     "text": [
      " 16%|█▌        | 57/360 [07:36<1:22:28, 16.33s/it]"
     ]
    },
    {
     "name": "stdout",
     "output_type": "stream",
     "text": [
      "Optimization fail.\n",
      "Optimization fail.\n",
      "Optimization fail.\n",
      "Optimization fail.\n",
      "Optimization fail.\n",
      "Optimization fail.\n",
      "Optimization fail.\n",
      "Optimization fail.\n",
      "Optimization fail.\n",
      "Optimization fail.\n",
      "Optimization fail.\n",
      "Optimization fail.\n",
      "Optimization fail.\n",
      "Optimization fail.\n"
     ]
    },
    {
     "name": "stderr",
     "output_type": "stream",
     "text": [
      " 16%|█▋        | 59/360 [08:42<1:50:30, 22.03s/it]"
     ]
    },
    {
     "name": "stdout",
     "output_type": "stream",
     "text": [
      "Optimization fail.\n",
      "Optimization fail.\n",
      "Optimization fail.\n",
      "Optimization fail.\n",
      "Optimization fail.\n",
      "Optimization fail.\n",
      "Optimization fail.\n",
      "Optimization fail.\n",
      "Optimization fail.\n",
      "Optimization fail.\n",
      "Optimization fail.\n",
      "Optimization fail.\n",
      "Optimization fail.\n",
      "Optimization fail.\n"
     ]
    },
    {
     "name": "stderr",
     "output_type": "stream",
     "text": [
      "\r",
      " 17%|█▋        | 60/360 [09:44<2:50:14, 34.05s/it]"
     ]
    },
    {
     "name": "stdout",
     "output_type": "stream",
     "text": [
      "local Optima\n",
      "1\n",
      "y_mean 2646.6666666666665\n",
      "mean_mean 1150.763104863467\n",
      "abs(round((mean_mean-y_mean)/y_mean)) 1.0\n",
      "local Optima\n",
      "1\n",
      "y_mean 2646.6666666666665\n",
      "mean_mean 1314.7052181418994\n",
      "abs(round((mean_mean-y_mean)/y_mean)) 1.0\n",
      "local Optima\n",
      "1\n",
      "y_mean 2646.6666666666665\n",
      "mean_mean 1228.9046692031056\n",
      "abs(round((mean_mean-y_mean)/y_mean)) 1.0\n",
      "local Optima\n",
      "1\n",
      "y_mean 2646.6666666666665\n",
      "mean_mean 1203.910145006811\n",
      "abs(round((mean_mean-y_mean)/y_mean)) 1.0\n",
      "local Optima\n",
      "1\n",
      "y_mean 2646.6666666666665\n",
      "mean_mean 1257.2481519411072\n",
      "abs(round((mean_mean-y_mean)/y_mean)) 1.0\n"
     ]
    },
    {
     "name": "stderr",
     "output_type": "stream",
     "text": [
      "\r",
      " 17%|█▋        | 61/360 [09:54<2:14:35, 27.01s/it]"
     ]
    },
    {
     "name": "stdout",
     "output_type": "stream",
     "text": [
      "Optimization fail.\n",
      "Optimization fail.\n",
      "Optimization fail.\n"
     ]
    },
    {
     "name": "stderr",
     "output_type": "stream",
     "text": [
      " 18%|█▊        | 65/360 [10:22<51:24, 10.46s/it]  "
     ]
    },
    {
     "name": "stdout",
     "output_type": "stream",
     "text": [
      "Optimization fail.\n"
     ]
    },
    {
     "name": "stderr",
     "output_type": "stream",
     "text": [
      " 19%|█▉        | 69/360 [10:42<27:26,  5.66s/it]"
     ]
    },
    {
     "name": "stdout",
     "output_type": "stream",
     "text": [
      "Optimization fail.\n",
      "Optimization fail.\n"
     ]
    },
    {
     "name": "stderr",
     "output_type": "stream",
     "text": [
      " 21%|██        | 75/360 [11:13<20:24,  4.30s/it]"
     ]
    },
    {
     "name": "stdout",
     "output_type": "stream",
     "text": [
      "Optimization fail.\n",
      "Optimization fail.\n"
     ]
    },
    {
     "name": "stderr",
     "output_type": "stream",
     "text": [
      " 21%|██▏       | 77/360 [11:28<25:54,  5.49s/it]"
     ]
    },
    {
     "name": "stdout",
     "output_type": "stream",
     "text": [
      "local Optima\n",
      "1\n",
      "y_mean 2981.0555555555557\n",
      "mean_mean 404.51732236798773\n",
      "abs(round((mean_mean-y_mean)/y_mean)) 1.0\n"
     ]
    },
    {
     "name": "stderr",
     "output_type": "stream",
     "text": [
      " 22%|██▏       | 79/360 [11:36<22:00,  4.70s/it]"
     ]
    },
    {
     "name": "stdout",
     "output_type": "stream",
     "text": [
      "Optimization fail.\n",
      "Optimization fail.\n",
      "Optimization fail.\n"
     ]
    },
    {
     "name": "stderr",
     "output_type": "stream",
     "text": [
      " 22%|██▎       | 81/360 [11:56<31:21,  6.75s/it]"
     ]
    },
    {
     "name": "stdout",
     "output_type": "stream",
     "text": [
      "Optimization fail.\n",
      "Optimization fail.\n",
      "Optimization fail.\n",
      "Optimization fail.\n",
      "Optimization fail.\n"
     ]
    },
    {
     "name": "stderr",
     "output_type": "stream",
     "text": [
      " 23%|██▎       | 83/360 [12:27<47:13, 10.23s/it]  "
     ]
    },
    {
     "name": "stdout",
     "output_type": "stream",
     "text": [
      "Optimization fail.\n",
      "Optimization fail.\n",
      "Optimization fail.\n",
      "Optimization fail.\n",
      "Optimization fail.\n"
     ]
    },
    {
     "name": "stderr",
     "output_type": "stream",
     "text": [
      " 25%|██▍       | 89/360 [13:16<25:32,  5.66s/it]  "
     ]
    },
    {
     "name": "stdout",
     "output_type": "stream",
     "text": [
      "Optimization fail.\n"
     ]
    },
    {
     "name": "stderr",
     "output_type": "stream",
     "text": [
      "\r",
      " 25%|██▌       | 90/360 [13:23<26:49,  5.96s/it]"
     ]
    },
    {
     "name": "stdout",
     "output_type": "stream",
     "text": [
      "local Optima\n",
      "1\n",
      "y_mean 4802.888888888889\n",
      "mean_mean 795.4424171989326\n",
      "abs(round((mean_mean-y_mean)/y_mean)) 1.0\n"
     ]
    },
    {
     "name": "stderr",
     "output_type": "stream",
     "text": [
      "\r",
      " 25%|██▌       | 91/360 [13:30<27:44,  6.19s/it]"
     ]
    },
    {
     "name": "stdout",
     "output_type": "stream",
     "text": [
      "Optimization fail.\n",
      "Optimization fail.\n",
      "Optimization fail.\n",
      "Optimization fail.\n",
      "Optimization fail.\n",
      "Optimization fail.\n",
      "Optimization fail.\n",
      "Optimization fail.\n",
      "Optimization fail.\n",
      "Optimization fail.\n",
      "Optimization fail.\n",
      "Optimization fail.\n",
      "Optimization fail.\n",
      "Optimization fail.\n"
     ]
    },
    {
     "name": "stderr",
     "output_type": "stream",
     "text": [
      " 26%|██▌       | 93/360 [14:35<1:15:15, 16.91s/it]"
     ]
    },
    {
     "name": "stdout",
     "output_type": "stream",
     "text": [
      "Optimization fail.\n"
     ]
    },
    {
     "name": "stderr",
     "output_type": "stream",
     "text": [
      "\r",
      " 26%|██▌       | 94/360 [14:43<1:02:54, 14.19s/it]"
     ]
    },
    {
     "name": "stdout",
     "output_type": "stream",
     "text": [
      "local Optima\n",
      "1\n",
      "y_mean 2268.9444444444443\n",
      "mean_mean 38630.365052740024\n",
      "abs(round((mean_mean-y_mean)/y_mean)) 16.0\n"
     ]
    },
    {
     "name": "stderr",
     "output_type": "stream",
     "text": [
      "\r",
      " 26%|██▋       | 95/360 [14:46<48:42, 11.03s/it]  "
     ]
    },
    {
     "name": "stdout",
     "output_type": "stream",
     "text": [
      "Optimization fail.\n",
      "Optimization fail.\n",
      "Optimization fail.\n",
      "Optimization fail.\n",
      "Optimization fail.\n",
      "Optimization fail.\n",
      "Optimization fail.\n",
      "Optimization fail.\n",
      "Optimization fail.\n",
      "Optimization fail.\n",
      "Optimization fail.\n",
      "Optimization fail.\n",
      "Optimization fail.\n",
      "Optimization fail.\n"
     ]
    },
    {
     "name": "stderr",
     "output_type": "stream",
     "text": [
      " 27%|██▋       | 98/360 [15:52<1:01:14, 14.03s/it]"
     ]
    },
    {
     "name": "stdout",
     "output_type": "stream",
     "text": [
      "local Optima\n",
      "1\n",
      "y_mean 2500.6111111111113\n",
      "mean_mean 946.8071745532027\n",
      "abs(round((mean_mean-y_mean)/y_mean)) 1.0\n",
      "local Optima\n",
      "1\n",
      "y_mean 2500.6111111111113\n",
      "mean_mean 1132.9606010408472\n",
      "abs(round((mean_mean-y_mean)/y_mean)) 1.0\n",
      "local Optima\n",
      "1\n",
      "y_mean 2500.6111111111113\n",
      "mean_mean 9915.04686019868\n",
      "abs(round((mean_mean-y_mean)/y_mean)) 3.0\n",
      "local Optima\n",
      "1\n",
      "y_mean 2500.6111111111113\n",
      "mean_mean 1017.0676703761585\n",
      "abs(round((mean_mean-y_mean)/y_mean)) 1.0\n",
      "local Optima\n",
      "1\n",
      "y_mean 2500.6111111111113\n",
      "mean_mean 1222.4635242426186\n",
      "abs(round((mean_mean-y_mean)/y_mean)) 1.0\n"
     ]
    },
    {
     "name": "stderr",
     "output_type": "stream",
     "text": [
      " 28%|██▊       | 101/360 [16:08<33:40,  7.80s/it] "
     ]
    },
    {
     "name": "stdout",
     "output_type": "stream",
     "text": [
      "Optimization fail.\n",
      "Optimization fail.\n",
      "Optimization fail.\n"
     ]
    },
    {
     "name": "stderr",
     "output_type": "stream",
     "text": [
      " 29%|██▊       | 103/360 [16:26<34:04,  7.95s/it]"
     ]
    },
    {
     "name": "stdout",
     "output_type": "stream",
     "text": [
      "Optimization fail.\n"
     ]
    },
    {
     "name": "stderr",
     "output_type": "stream",
     "text": [
      " 29%|██▉       | 105/360 [16:37<27:25,  6.45s/it]"
     ]
    },
    {
     "name": "stdout",
     "output_type": "stream",
     "text": [
      "Optimization fail.\n"
     ]
    },
    {
     "name": "stderr",
     "output_type": "stream",
     "text": [
      " 30%|██▉       | 107/360 [16:45<21:18,  5.05s/it]"
     ]
    },
    {
     "name": "stdout",
     "output_type": "stream",
     "text": [
      "Optimization fail.\n",
      "Optimization fail.\n",
      "Optimization fail.\n",
      "Optimization fail.\n",
      "Optimization fail.\n"
     ]
    },
    {
     "name": "stderr",
     "output_type": "stream",
     "text": [
      "\r",
      " 30%|███       | 108/360 [17:10<45:48, 10.91s/it]"
     ]
    },
    {
     "name": "stdout",
     "output_type": "stream",
     "text": [
      "local Optima\n",
      "1\n",
      "y_mean 2142.1666666666665\n",
      "mean_mean 4271.722250683635\n",
      "abs(round((mean_mean-y_mean)/y_mean)) 1.0\n",
      "local Optima\n",
      "1\n",
      "y_mean 2142.1666666666665\n",
      "mean_mean 4336.315017926911\n",
      "abs(round((mean_mean-y_mean)/y_mean)) 1.0\n",
      "local Optima\n",
      "1\n",
      "y_mean 2142.1666666666665\n",
      "mean_mean 321.1249983875515\n",
      "abs(round((mean_mean-y_mean)/y_mean)) 1.0\n",
      "local Optima\n",
      "1\n",
      "y_mean 2142.1666666666665\n",
      "mean_mean 4049.2613179610594\n",
      "abs(round((mean_mean-y_mean)/y_mean)) 1.0\n",
      "local Optima\n",
      "1\n",
      "y_mean 2142.1666666666665\n",
      "mean_mean 3940.7698617035044\n",
      "abs(round((mean_mean-y_mean)/y_mean)) 1.0\n"
     ]
    },
    {
     "name": "stderr",
     "output_type": "stream",
     "text": [
      " 32%|███▏      | 115/360 [17:41<17:36,  4.31s/it]"
     ]
    },
    {
     "name": "stdout",
     "output_type": "stream",
     "text": [
      "Optimization fail.\n",
      "Optimization fail.\n"
     ]
    },
    {
     "name": "stderr",
     "output_type": "stream",
     "text": [
      "\r",
      " 32%|███▏      | 116/360 [17:53<27:02,  6.65s/it]"
     ]
    },
    {
     "name": "stdout",
     "output_type": "stream",
     "text": [
      "local Optima\n",
      "1\n",
      "y_mean 3211.6111111111113\n",
      "mean_mean 1028194.2787550242\n",
      "abs(round((mean_mean-y_mean)/y_mean)) 319.0\n"
     ]
    },
    {
     "name": "stderr",
     "output_type": "stream",
     "text": [
      "\r",
      " 32%|███▎      | 117/360 [17:56<22:23,  5.53s/it]"
     ]
    },
    {
     "name": "stdout",
     "output_type": "stream",
     "text": [
      "Optimization fail.\n",
      "Optimization fail.\n"
     ]
    },
    {
     "name": "stderr",
     "output_type": "stream",
     "text": [
      " 33%|███▎      | 119/360 [18:12<25:09,  6.26s/it]"
     ]
    },
    {
     "name": "stdout",
     "output_type": "stream",
     "text": [
      "Optimization fail.\n",
      "Optimization fail.\n"
     ]
    },
    {
     "name": "stderr",
     "output_type": "stream",
     "text": [
      " 35%|███▍      | 125/360 [18:40<15:11,  3.88s/it]"
     ]
    },
    {
     "name": "stdout",
     "output_type": "stream",
     "text": [
      "Optimization fail.\n",
      "Optimization fail.\n",
      "Optimization fail.\n",
      "Optimization fail.\n",
      "Optimization fail.\n"
     ]
    },
    {
     "name": "stderr",
     "output_type": "stream",
     "text": [
      "\r",
      " 35%|███▌      | 126/360 [19:05<39:50, 10.21s/it]"
     ]
    },
    {
     "name": "stdout",
     "output_type": "stream",
     "text": [
      "local Optima\n",
      "1\n",
      "y_mean 1463.4444444444443\n",
      "mean_mean 3271.391016955247\n",
      "abs(round((mean_mean-y_mean)/y_mean)) 1.0\n"
     ]
    },
    {
     "name": "stderr",
     "output_type": "stream",
     "text": [
      "\r",
      " 35%|███▌      | 127/360 [19:08<32:00,  8.24s/it]"
     ]
    },
    {
     "name": "stdout",
     "output_type": "stream",
     "text": [
      "Optimization fail.\n",
      "Optimization fail.\n",
      "Optimization fail.\n"
     ]
    },
    {
     "name": "stderr",
     "output_type": "stream",
     "text": [
      " 36%|███▌      | 129/360 [19:26<30:14,  7.86s/it]"
     ]
    },
    {
     "name": "stdout",
     "output_type": "stream",
     "text": [
      "Optimization fail.\n"
     ]
    },
    {
     "name": "stderr",
     "output_type": "stream",
     "text": [
      " 36%|███▋      | 131/360 [19:37<24:29,  6.42s/it]"
     ]
    },
    {
     "name": "stdout",
     "output_type": "stream",
     "text": [
      "Optimization fail.\n",
      "Optimization fail.\n",
      "Optimization fail.\n",
      "Optimization fail.\n",
      "Optimization fail.\n"
     ]
    },
    {
     "name": "stderr",
     "output_type": "stream",
     "text": [
      " 38%|███▊      | 135/360 [20:11<22:56,  6.12s/it]"
     ]
    },
    {
     "name": "stdout",
     "output_type": "stream",
     "text": [
      "Optimization fail.\n",
      "Optimization fail.\n",
      "Optimization fail.\n",
      "Optimization fail.\n",
      "Optimization fail.\n"
     ]
    },
    {
     "name": "stderr",
     "output_type": "stream",
     "text": [
      " 38%|███▊      | 138/360 [20:43<28:44,  7.77s/it]"
     ]
    },
    {
     "name": "stdout",
     "output_type": "stream",
     "text": [
      "local Optima\n",
      "1\n",
      "y_mean 2146.5555555555557\n",
      "mean_mean 947.6727268079967\n",
      "abs(round((mean_mean-y_mean)/y_mean)) 1.0\n",
      "local Optima\n",
      "1\n",
      "y_mean 2146.5555555555557\n",
      "mean_mean 953.7984784373474\n",
      "abs(round((mean_mean-y_mean)/y_mean)) 1.0\n",
      "local Optima\n",
      "1\n",
      "y_mean 2146.5555555555557\n",
      "mean_mean 850.8395126884055\n",
      "abs(round((mean_mean-y_mean)/y_mean)) 1.0\n",
      "local Optima\n",
      "1\n",
      "y_mean 2146.5555555555557\n",
      "mean_mean 879.6163582060174\n",
      "abs(round((mean_mean-y_mean)/y_mean)) 1.0\n",
      "local Optima\n",
      "1\n",
      "y_mean 2146.5555555555557\n",
      "mean_mean 892.8009061296484\n",
      "abs(round((mean_mean-y_mean)/y_mean)) 1.0\n"
     ]
    },
    {
     "name": "stderr",
     "output_type": "stream",
     "text": [
      " 39%|███▉      | 141/360 [20:59<20:42,  5.67s/it]"
     ]
    },
    {
     "name": "stdout",
     "output_type": "stream",
     "text": [
      "Optimization fail.\n",
      "Optimization fail.\n",
      "Optimization fail.\n",
      "Optimization fail.\n",
      "Optimization fail.\n"
     ]
    },
    {
     "name": "stderr",
     "output_type": "stream",
     "text": [
      " 40%|████      | 145/360 [21:32<20:12,  5.64s/it]"
     ]
    },
    {
     "name": "stdout",
     "output_type": "stream",
     "text": [
      "local Optima\n",
      "1\n",
      "y_mean 2120.9444444444443\n",
      "mean_mean 7854589.204694841\n",
      "abs(round((mean_mean-y_mean)/y_mean)) 3702.0\n"
     ]
    },
    {
     "name": "stderr",
     "output_type": "stream",
     "text": [
      " 41%|████      | 148/360 [21:43<15:13,  4.31s/it]"
     ]
    },
    {
     "name": "stdout",
     "output_type": "stream",
     "text": [
      "local Optima\n",
      "1\n",
      "y_mean 3218.8888888888887\n",
      "mean_mean 1574.4911731173686\n",
      "abs(round((mean_mean-y_mean)/y_mean)) 1.0\n"
     ]
    },
    {
     "name": "stderr",
     "output_type": "stream",
     "text": [
      " 42%|████▎     | 153/360 [22:01<12:00,  3.48s/it]"
     ]
    },
    {
     "name": "stdout",
     "output_type": "stream",
     "text": [
      "Optimization fail.\n",
      "Optimization fail.\n",
      "Optimization fail.\n",
      "Optimization fail.\n",
      "Optimization fail.\n"
     ]
    },
    {
     "name": "stderr",
     "output_type": "stream",
     "text": [
      " 43%|████▎     | 155/360 [22:26<25:06,  7.35s/it]"
     ]
    },
    {
     "name": "stdout",
     "output_type": "stream",
     "text": [
      "Optimization fail.\n",
      "Optimization fail.\n",
      "Optimization fail.\n",
      "Optimization fail.\n",
      "Optimization fail.\n",
      "Optimization fail.\n"
     ]
    },
    {
     "name": "stderr",
     "output_type": "stream",
     "text": [
      " 44%|████▎     | 157/360 [22:58<35:19, 10.44s/it]"
     ]
    },
    {
     "name": "stdout",
     "output_type": "stream",
     "text": [
      "Optimization fail.\n",
      "Optimization fail.\n"
     ]
    },
    {
     "name": "stderr",
     "output_type": "stream",
     "text": [
      " 44%|████▍     | 159/360 [23:13<28:32,  8.52s/it]"
     ]
    },
    {
     "name": "stdout",
     "output_type": "stream",
     "text": [
      "Optimization fail.\n"
     ]
    },
    {
     "name": "stderr",
     "output_type": "stream",
     "text": [
      " 45%|████▍     | 161/360 [23:23<21:53,  6.60s/it]"
     ]
    },
    {
     "name": "stdout",
     "output_type": "stream",
     "text": [
      "Optimization fail.\n"
     ]
    },
    {
     "name": "stderr",
     "output_type": "stream",
     "text": [
      " 46%|████▌     | 164/360 [23:37<16:08,  4.94s/it]"
     ]
    },
    {
     "name": "stdout",
     "output_type": "stream",
     "text": [
      "local Optima\n",
      "1\n",
      "y_mean 2305.5555555555557\n",
      "mean_mean 1068.8559541764307\n",
      "abs(round((mean_mean-y_mean)/y_mean)) 1.0\n",
      "local Optima\n",
      "1\n",
      "y_mean 2305.5555555555557\n",
      "mean_mean 1106.8405705093621\n",
      "abs(round((mean_mean-y_mean)/y_mean)) 1.0\n",
      "local Optima\n",
      "1\n",
      "y_mean 2305.5555555555557\n",
      "mean_mean 970.6698266431895\n",
      "abs(round((mean_mean-y_mean)/y_mean)) 1.0\n",
      "local Optima\n",
      "1\n",
      "y_mean 2305.5555555555557\n",
      "mean_mean 1119.7084773856552\n",
      "abs(round((mean_mean-y_mean)/y_mean)) 1.0\n"
     ]
    },
    {
     "name": "stderr",
     "output_type": "stream",
     "text": [
      "\r",
      " 46%|████▌     | 165/360 [23:44<18:08,  5.58s/it]"
     ]
    },
    {
     "name": "stdout",
     "output_type": "stream",
     "text": [
      "Optimization fail.\n"
     ]
    },
    {
     "name": "stderr",
     "output_type": "stream",
     "text": [
      "\r",
      " 46%|████▌     | 166/360 [23:53<21:11,  6.55s/it]"
     ]
    },
    {
     "name": "stdout",
     "output_type": "stream",
     "text": [
      "local Optima\n",
      "1\n",
      "y_mean 2657.1666666666665\n",
      "mean_mean 1001.4763354117033\n",
      "abs(round((mean_mean-y_mean)/y_mean)) 1.0\n",
      "local Optima\n",
      "1\n",
      "y_mean 2657.1666666666665\n",
      "mean_mean 1203.2502351016255\n",
      "abs(round((mean_mean-y_mean)/y_mean)) 1.0\n",
      "local Optima\n",
      "1\n",
      "y_mean 2657.1666666666665\n",
      "mean_mean 1154.8170560285207\n",
      "abs(round((mean_mean-y_mean)/y_mean)) 1.0\n",
      "local Optima\n",
      "1\n",
      "y_mean 2657.1666666666665\n",
      "mean_mean 1190.092986694188\n",
      "abs(round((mean_mean-y_mean)/y_mean)) 1.0\n",
      "local Optima\n",
      "1\n",
      "y_mean 2657.1666666666665\n",
      "mean_mean 1054.5672098325824\n",
      "abs(round((mean_mean-y_mean)/y_mean)) 1.0\n"
     ]
    },
    {
     "name": "stderr",
     "output_type": "stream",
     "text": [
      "\r",
      " 46%|████▋     | 167/360 [24:05<26:19,  8.18s/it]"
     ]
    },
    {
     "name": "stdout",
     "output_type": "stream",
     "text": [
      "Optimization fail.\n"
     ]
    },
    {
     "name": "stderr",
     "output_type": "stream",
     "text": [
      " 48%|████▊     | 171/360 [24:20<14:15,  4.53s/it]"
     ]
    },
    {
     "name": "stdout",
     "output_type": "stream",
     "text": [
      "Optimization fail.\n",
      "Optimization fail.\n",
      "Optimization fail.\n",
      "Optimization fail.\n",
      "Optimization fail.\n",
      "Optimization fail.\n",
      "Optimization fail.\n",
      "Optimization fail.\n",
      "Optimization fail.\n",
      "Optimization fail.\n",
      "Optimization fail.\n",
      "Optimization fail.\n",
      "Optimization fail.\n",
      "Optimization fail.\n"
     ]
    },
    {
     "name": "stderr",
     "output_type": "stream",
     "text": [
      " 49%|████▊     | 175/360 [25:29<28:06,  9.12s/it]  "
     ]
    },
    {
     "name": "stdout",
     "output_type": "stream",
     "text": [
      "Optimization fail.\n"
     ]
    },
    {
     "name": "stderr",
     "output_type": "stream",
     "text": [
      " 49%|████▉     | 177/360 [25:41<22:12,  7.28s/it]"
     ]
    },
    {
     "name": "stdout",
     "output_type": "stream",
     "text": [
      "Optimization fail.\n",
      "Optimization fail.\n",
      "Optimization fail.\n",
      "Optimization fail.\n",
      "Optimization fail.\n"
     ]
    },
    {
     "name": "stderr",
     "output_type": "stream",
     "text": [
      "\r",
      " 49%|████▉     | 178/360 [26:05<36:56, 12.18s/it]"
     ]
    },
    {
     "name": "stdout",
     "output_type": "stream",
     "text": [
      "local Optima\n",
      "1\n",
      "y_mean 10702.111111111111\n",
      "mean_mean 860.4794148817907\n",
      "abs(round((mean_mean-y_mean)/y_mean)) 1.0\n"
     ]
    },
    {
     "name": "stderr",
     "output_type": "stream",
     "text": [
      "\r",
      " 50%|████▉     | 179/360 [26:07<28:11,  9.34s/it]"
     ]
    },
    {
     "name": "stdout",
     "output_type": "stream",
     "text": [
      "Optimization fail.\n"
     ]
    },
    {
     "name": "stderr",
     "output_type": "stream",
     "text": [
      " 51%|█████▏    | 185/360 [26:31<11:44,  4.03s/it]"
     ]
    },
    {
     "name": "stdout",
     "output_type": "stream",
     "text": [
      "Optimization fail.\n"
     ]
    },
    {
     "name": "stderr",
     "output_type": "stream",
     "text": [
      "\r",
      " 52%|█████▏    | 186/360 [26:40<15:58,  5.51s/it]"
     ]
    },
    {
     "name": "stdout",
     "output_type": "stream",
     "text": [
      "local Optima\n",
      "1\n",
      "y_mean 705.7777777777778\n",
      "mean_mean 1296.4794623462028\n",
      "abs(round((mean_mean-y_mean)/y_mean)) 1.0\n",
      "local Optima\n",
      "1\n",
      "y_mean 705.7777777777778\n",
      "mean_mean 1393.279468869666\n",
      "abs(round((mean_mean-y_mean)/y_mean)) 1.0\n",
      "local Optima\n",
      "1\n",
      "y_mean 705.7777777777778\n",
      "mean_mean 1310.6083077973697\n",
      "abs(round((mean_mean-y_mean)/y_mean)) 1.0\n",
      "local Optima\n",
      "1\n",
      "y_mean 705.7777777777778\n",
      "mean_mean 1159.4859799459684\n",
      "abs(round((mean_mean-y_mean)/y_mean)) 1.0\n",
      "local Optima\n",
      "1\n",
      "y_mean 705.7777777777778\n",
      "mean_mean 1115.129521103686\n",
      "abs(round((mean_mean-y_mean)/y_mean)) 1.0\n"
     ]
    },
    {
     "name": "stderr",
     "output_type": "stream",
     "text": [
      " 54%|█████▎    | 193/360 [27:07<09:42,  3.49s/it]"
     ]
    },
    {
     "name": "stdout",
     "output_type": "stream",
     "text": [
      "Optimization fail.\n"
     ]
    },
    {
     "name": "stderr",
     "output_type": "stream",
     "text": [
      " 55%|█████▍    | 197/360 [27:24<10:10,  3.74s/it]"
     ]
    },
    {
     "name": "stdout",
     "output_type": "stream",
     "text": [
      "Optimization fail.\n",
      "Optimization fail.\n",
      "Optimization fail.\n",
      "Optimization fail.\n",
      "Optimization fail.\n"
     ]
    },
    {
     "name": "stderr",
     "output_type": "stream",
     "text": [
      " 55%|█████▌    | 199/360 [27:51<20:24,  7.61s/it]"
     ]
    },
    {
     "name": "stdout",
     "output_type": "stream",
     "text": [
      "Optimization fail.\n",
      "Optimization fail.\n",
      "Optimization fail.\n",
      "Optimization fail.\n",
      "Optimization fail.\n"
     ]
    },
    {
     "name": "stderr",
     "output_type": "stream",
     "text": [
      " 56%|█████▋    | 203/360 [28:24<16:26,  6.28s/it]"
     ]
    },
    {
     "name": "stdout",
     "output_type": "stream",
     "text": [
      "local Optima\n",
      "1\n",
      "y_mean 8475.111111111111\n",
      "mean_mean 1262.2131635456165\n",
      "abs(round((mean_mean-y_mean)/y_mean)) 1.0\n"
     ]
    },
    {
     "name": "stderr",
     "output_type": "stream",
     "text": [
      " 57%|█████▊    | 207/360 [28:38<10:01,  3.93s/it]"
     ]
    },
    {
     "name": "stdout",
     "output_type": "stream",
     "text": [
      "Optimization fail.\n",
      "Optimization fail.\n"
     ]
    },
    {
     "name": "stderr",
     "output_type": "stream",
     "text": [
      " 58%|█████▊    | 209/360 [28:53<13:47,  5.48s/it]"
     ]
    },
    {
     "name": "stdout",
     "output_type": "stream",
     "text": [
      "Optimization fail.\n"
     ]
    },
    {
     "name": "stderr",
     "output_type": "stream",
     "text": [
      "\r",
      " 58%|█████▊    | 210/360 [29:01<15:35,  6.24s/it]"
     ]
    },
    {
     "name": "stdout",
     "output_type": "stream",
     "text": [
      "local Optima\n",
      "1\n",
      "y_mean 4599.111111111111\n",
      "mean_mean 1252.8572466777448\n",
      "abs(round((mean_mean-y_mean)/y_mean)) 1.0\n"
     ]
    },
    {
     "name": "stderr",
     "output_type": "stream",
     "text": [
      "\r",
      " 59%|█████▊    | 211/360 [29:06<14:24,  5.80s/it]"
     ]
    },
    {
     "name": "stdout",
     "output_type": "stream",
     "text": [
      "Optimization fail.\n"
     ]
    },
    {
     "name": "stderr",
     "output_type": "stream",
     "text": [
      " 59%|█████▉    | 213/360 [29:19<14:27,  5.90s/it]"
     ]
    },
    {
     "name": "stdout",
     "output_type": "stream",
     "text": [
      "Optimization fail.\n"
     ]
    },
    {
     "name": "stderr",
     "output_type": "stream",
     "text": [
      "\r",
      " 59%|█████▉    | 214/360 [29:28<16:22,  6.73s/it]"
     ]
    },
    {
     "name": "stdout",
     "output_type": "stream",
     "text": [
      "local Optima\n",
      "1\n",
      "y_mean 4408.055555555556\n",
      "mean_mean 54411.898348590395\n",
      "abs(round((mean_mean-y_mean)/y_mean)) 11.0\n"
     ]
    },
    {
     "name": "stderr",
     "output_type": "stream",
     "text": [
      "\r",
      " 60%|█████▉    | 215/360 [29:31<13:31,  5.60s/it]"
     ]
    },
    {
     "name": "stdout",
     "output_type": "stream",
     "text": [
      "Optimization fail.\n",
      "Optimization fail.\n",
      "Optimization fail.\n",
      "Optimization fail.\n"
     ]
    },
    {
     "name": "stderr",
     "output_type": "stream",
     "text": [
      " 60%|██████    | 217/360 [29:57<19:58,  8.38s/it]"
     ]
    },
    {
     "name": "stdout",
     "output_type": "stream",
     "text": [
      "Optimization fail.\n"
     ]
    },
    {
     "name": "stderr",
     "output_type": "stream",
     "text": [
      " 61%|██████▏   | 221/360 [30:16<11:59,  5.18s/it]"
     ]
    },
    {
     "name": "stdout",
     "output_type": "stream",
     "text": [
      "local Optima\n",
      "1\n",
      "y_mean 2747.5555555555557\n",
      "mean_mean 50786.14378589908\n",
      "abs(round((mean_mean-y_mean)/y_mean)) 17.0\n"
     ]
    },
    {
     "name": "stderr",
     "output_type": "stream",
     "text": [
      "\r",
      " 62%|██████▏   | 222/360 [30:21<11:51,  5.16s/it]"
     ]
    },
    {
     "name": "stdout",
     "output_type": "stream",
     "text": [
      "local Optima\n",
      "1\n",
      "y_mean 1368.4444444444443\n",
      "mean_mean 2930.064018665464\n",
      "abs(round((mean_mean-y_mean)/y_mean)) 1.0\n",
      "local Optima\n",
      "1\n",
      "y_mean 1368.4444444444443\n",
      "mean_mean 3082.7930031835344\n",
      "abs(round((mean_mean-y_mean)/y_mean)) 1.0\n",
      "local Optima\n",
      "1\n",
      "y_mean 1368.4444444444443\n",
      "mean_mean 2918.818368123774\n",
      "abs(round((mean_mean-y_mean)/y_mean)) 1.0\n"
     ]
    },
    {
     "name": "stderr",
     "output_type": "stream",
     "text": [
      "\r",
      " 62%|██████▏   | 223/360 [30:28<12:37,  5.53s/it]"
     ]
    },
    {
     "name": "stdout",
     "output_type": "stream",
     "text": [
      "Optimization fail.\n"
     ]
    },
    {
     "name": "stderr",
     "output_type": "stream",
     "text": [
      " 63%|██████▎   | 228/360 [30:50<09:50,  4.47s/it]"
     ]
    },
    {
     "name": "stdout",
     "output_type": "stream",
     "text": [
      "local Optima\n",
      "1\n",
      "y_mean 1443.5\n",
      "mean_mean 2304.365562202845\n",
      "abs(round((mean_mean-y_mean)/y_mean)) 1.0\n"
     ]
    },
    {
     "name": "stderr",
     "output_type": "stream",
     "text": [
      "\r",
      " 64%|██████▎   | 229/360 [30:54<09:03,  4.15s/it]"
     ]
    },
    {
     "name": "stdout",
     "output_type": "stream",
     "text": [
      "Optimization fail.\n",
      "Optimization fail.\n",
      "Optimization fail.\n"
     ]
    },
    {
     "name": "stderr",
     "output_type": "stream",
     "text": [
      "\r",
      " 64%|██████▍   | 230/360 [31:11<17:18,  7.99s/it]"
     ]
    },
    {
     "name": "stdout",
     "output_type": "stream",
     "text": [
      "local Optima\n",
      "1\n",
      "y_mean 5003.222222222223\n",
      "mean_mean 506148.0769548615\n",
      "abs(round((mean_mean-y_mean)/y_mean)) 100.0\n"
     ]
    },
    {
     "name": "stderr",
     "output_type": "stream",
     "text": [
      " 65%|██████▍   | 233/360 [31:23<11:28,  5.42s/it]"
     ]
    },
    {
     "name": "stdout",
     "output_type": "stream",
     "text": [
      "Optimization fail.\n"
     ]
    },
    {
     "name": "stderr",
     "output_type": "stream",
     "text": [
      " 66%|██████▌   | 236/360 [31:38<10:05,  4.88s/it]"
     ]
    },
    {
     "name": "stdout",
     "output_type": "stream",
     "text": [
      "local Optima\n",
      "1\n",
      "y_mean 2840.9444444444443\n",
      "mean_mean 755.5076856790297\n",
      "abs(round((mean_mean-y_mean)/y_mean)) 1.0\n"
     ]
    },
    {
     "name": "stderr",
     "output_type": "stream",
     "text": [
      "\r",
      " 66%|██████▌   | 237/360 [31:40<08:28,  4.14s/it]"
     ]
    },
    {
     "name": "stdout",
     "output_type": "stream",
     "text": [
      "Optimization fail.\n"
     ]
    },
    {
     "name": "stderr",
     "output_type": "stream",
     "text": [
      " 66%|██████▋   | 239/360 [31:51<08:59,  4.46s/it]"
     ]
    },
    {
     "name": "stdout",
     "output_type": "stream",
     "text": [
      "Optimization fail.\n"
     ]
    },
    {
     "name": "stderr",
     "output_type": "stream",
     "text": [
      "\r",
      " 67%|██████▋   | 240/360 [31:59<11:21,  5.68s/it]"
     ]
    },
    {
     "name": "stdout",
     "output_type": "stream",
     "text": [
      "local Optima\n",
      "1\n",
      "y_mean 4057.1111111111113\n",
      "mean_mean 1873.444318782308\n",
      "abs(round((mean_mean-y_mean)/y_mean)) 1.0\n",
      "local Optima\n",
      "1\n",
      "y_mean 4057.1111111111113\n",
      "mean_mean 1724.14528186987\n",
      "abs(round((mean_mean-y_mean)/y_mean)) 1.0\n",
      "local Optima\n",
      "1\n",
      "y_mean 4057.1111111111113\n",
      "mean_mean 1632.6142606384942\n",
      "abs(round((mean_mean-y_mean)/y_mean)) 1.0\n",
      "local Optima\n",
      "1\n",
      "y_mean 4057.1111111111113\n",
      "mean_mean 1677.9025837729232\n",
      "abs(round((mean_mean-y_mean)/y_mean)) 1.0\n",
      "local Optima\n",
      "1\n",
      "y_mean 4057.1111111111113\n",
      "mean_mean 1711.3267844532106\n",
      "abs(round((mean_mean-y_mean)/y_mean)) 1.0\n"
     ]
    },
    {
     "name": "stderr",
     "output_type": "stream",
     "text": [
      "\r",
      " 67%|██████▋   | 241/360 [32:08<13:18,  6.71s/it]"
     ]
    },
    {
     "name": "stdout",
     "output_type": "stream",
     "text": [
      "Optimization fail.\n"
     ]
    },
    {
     "name": "stderr",
     "output_type": "stream",
     "text": [
      "\r",
      " 67%|██████▋   | 242/360 [32:16<13:34,  6.91s/it]"
     ]
    },
    {
     "name": "stdout",
     "output_type": "stream",
     "text": [
      "local Optima\n",
      "1\n",
      "y_mean 2755.722222222222\n",
      "mean_mean 18255.648760085354\n",
      "abs(round((mean_mean-y_mean)/y_mean)) 6.0\n"
     ]
    },
    {
     "name": "stderr",
     "output_type": "stream",
     "text": [
      "\r",
      " 68%|██████▊   | 243/360 [32:18<11:05,  5.69s/it]"
     ]
    },
    {
     "name": "stdout",
     "output_type": "stream",
     "text": [
      "Optimization fail.\n"
     ]
    },
    {
     "name": "stderr",
     "output_type": "stream",
     "text": [
      " 68%|██████▊   | 245/360 [32:30<10:20,  5.40s/it]"
     ]
    },
    {
     "name": "stdout",
     "output_type": "stream",
     "text": [
      "Optimization fail.\n"
     ]
    },
    {
     "name": "stderr",
     "output_type": "stream",
     "text": [
      " 69%|██████▊   | 247/360 [32:38<08:38,  4.59s/it]"
     ]
    },
    {
     "name": "stdout",
     "output_type": "stream",
     "text": [
      "Optimization fail.\n",
      "Optimization fail.\n"
     ]
    },
    {
     "name": "stderr",
     "output_type": "stream",
     "text": [
      " 69%|██████▉   | 249/360 [32:54<10:40,  5.77s/it]"
     ]
    },
    {
     "name": "stdout",
     "output_type": "stream",
     "text": [
      "Optimization fail.\n",
      "Optimization fail.\n",
      "Optimization fail.\n",
      "Optimization fail.\n",
      "Optimization fail.\n",
      "Optimization fail.\n",
      "Optimization fail.\n",
      "Optimization fail.\n",
      "Optimization fail.\n",
      "Optimization fail.\n",
      "Optimization fail.\n",
      "Optimization fail.\n",
      "Optimization fail.\n",
      "Optimization fail.\n"
     ]
    },
    {
     "name": "stderr",
     "output_type": "stream",
     "text": [
      "\r",
      " 69%|██████▉   | 250/360 [33:53<39:51, 21.74s/it]"
     ]
    },
    {
     "name": "stdout",
     "output_type": "stream",
     "text": [
      "local Optima\n",
      "1\n",
      "y_mean 1773.3333333333333\n",
      "mean_mean 604.4591086461228\n",
      "abs(round((mean_mean-y_mean)/y_mean)) 1.0\n"
     ]
    },
    {
     "name": "stderr",
     "output_type": "stream",
     "text": [
      "\r",
      " 70%|██████▉   | 251/360 [33:56<29:25, 16.19s/it]"
     ]
    },
    {
     "name": "stdout",
     "output_type": "stream",
     "text": [
      "Optimization fail.\n",
      "Optimization fail.\n",
      "Optimization fail.\n",
      "Optimization fail.\n",
      "Optimization fail.\n",
      "Optimization fail.\n",
      "Optimization fail.\n",
      "Optimization fail.\n",
      "Optimization fail.\n",
      "Optimization fail.\n",
      "Optimization fail.\n",
      "Optimization fail.\n",
      "Optimization fail.\n",
      "Optimization fail.\n"
     ]
    },
    {
     "name": "stderr",
     "output_type": "stream",
     "text": [
      "\r",
      " 70%|███████   | 252/360 [34:58<53:59, 29.99s/it]"
     ]
    },
    {
     "name": "stdout",
     "output_type": "stream",
     "text": [
      "local Optima\n",
      "1\n",
      "y_mean 1177.0555555555557\n",
      "mean_mean 6951.435369641703\n",
      "abs(round((mean_mean-y_mean)/y_mean)) 5.0\n"
     ]
    },
    {
     "name": "stderr",
     "output_type": "stream",
     "text": [
      " 71%|███████   | 255/360 [35:09<22:04, 12.61s/it]"
     ]
    },
    {
     "name": "stdout",
     "output_type": "stream",
     "text": [
      "Optimization fail.\n",
      "Optimization fail.\n",
      "Optimization fail.\n",
      "Optimization fail.\n",
      "Optimization fail.\n"
     ]
    },
    {
     "name": "stderr",
     "output_type": "stream",
     "text": [
      " 71%|███████▏  | 257/360 [35:39<22:05, 12.86s/it]"
     ]
    },
    {
     "name": "stdout",
     "output_type": "stream",
     "text": [
      "Optimization fail.\n",
      "Optimization fail.\n"
     ]
    },
    {
     "name": "stderr",
     "output_type": "stream",
     "text": [
      " 72%|███████▏  | 259/360 [35:57<17:05, 10.16s/it]"
     ]
    },
    {
     "name": "stdout",
     "output_type": "stream",
     "text": [
      "Optimization fail.\n",
      "Optimization fail.\n",
      "Optimization fail.\n",
      "local Optima\n",
      "1\n",
      "y_mean 4967.111111111111\n",
      "mean_mean 1879.2494867223036\n",
      "abs(round((mean_mean-y_mean)/y_mean)) 1.0\n",
      "Optimization fail.\n"
     ]
    },
    {
     "name": "stderr",
     "output_type": "stream",
     "text": [
      " 72%|███████▎  | 261/360 [36:22<17:03, 10.34s/it]"
     ]
    },
    {
     "name": "stdout",
     "output_type": "stream",
     "text": [
      "Optimization fail.\n"
     ]
    },
    {
     "name": "stderr",
     "output_type": "stream",
     "text": [
      " 73%|███████▎  | 263/360 [36:34<13:03,  8.07s/it]"
     ]
    },
    {
     "name": "stdout",
     "output_type": "stream",
     "text": [
      "Optimization fail.\n",
      "Optimization fail.\n",
      "Optimization fail.\n",
      "Optimization fail.\n",
      "Optimization fail.\n",
      "Optimization fail.\n"
     ]
    },
    {
     "name": "stderr",
     "output_type": "stream",
     "text": [
      "\r",
      " 73%|███████▎  | 264/360 [37:03<22:58, 14.36s/it]"
     ]
    },
    {
     "name": "stdout",
     "output_type": "stream",
     "text": [
      "local Optima\n",
      "1\n",
      "y_mean 979.2222222222222\n",
      "mean_mean 1903.3081197349666\n",
      "abs(round((mean_mean-y_mean)/y_mean)) 1.0\n",
      "local Optima\n",
      "1\n",
      "y_mean 979.2222222222222\n",
      "mean_mean 1961.392643018657\n",
      "abs(round((mean_mean-y_mean)/y_mean)) 1.0\n",
      "local Optima\n",
      "1\n",
      "y_mean 979.2222222222222\n",
      "mean_mean 1963.6324213177859\n",
      "abs(round((mean_mean-y_mean)/y_mean)) 1.0\n",
      "local Optima\n",
      "1\n",
      "y_mean 979.2222222222222\n",
      "mean_mean 1859.4857946474108\n",
      "abs(round((mean_mean-y_mean)/y_mean)) 1.0\n",
      "local Optima\n",
      "1\n",
      "y_mean 979.2222222222222\n",
      "mean_mean 1963.4459010399578\n",
      "abs(round((mean_mean-y_mean)/y_mean)) 1.0\n"
     ]
    },
    {
     "name": "stderr",
     "output_type": "stream",
     "text": [
      "\r",
      " 74%|███████▎  | 265/360 [37:11<19:50, 12.54s/it]"
     ]
    },
    {
     "name": "stdout",
     "output_type": "stream",
     "text": [
      "local Optima\n",
      "1\n",
      "y_mean 2184.6111111111113\n",
      "mean_mean 112.99512263238601\n",
      "abs(round((mean_mean-y_mean)/y_mean)) 1.0\n",
      "Optimization fail.\n",
      "Optimization fail.\n"
     ]
    },
    {
     "name": "stderr",
     "output_type": "stream",
     "text": [
      " 75%|███████▍  | 269/360 [37:35<10:05,  6.65s/it]"
     ]
    },
    {
     "name": "stdout",
     "output_type": "stream",
     "text": [
      "Optimization fail.\n",
      "Optimization fail.\n",
      "Optimization fail.\n"
     ]
    },
    {
     "name": "stderr",
     "output_type": "stream",
     "text": [
      " 75%|███████▌  | 271/360 [37:54<10:54,  7.36s/it]"
     ]
    },
    {
     "name": "stdout",
     "output_type": "stream",
     "text": [
      "Optimization fail.\n",
      "Optimization fail.\n",
      "local Optima\n",
      "1\n",
      "y_mean 31515.944444444445\n",
      "mean_mean 106536.44654204318\n",
      "abs(round((mean_mean-y_mean)/y_mean)) 2.0\n",
      "Optimization fail.\n",
      "Optimization fail.\n"
     ]
    },
    {
     "name": "stderr",
     "output_type": "stream",
     "text": [
      " 76%|███████▌  | 273/360 [38:20<13:32,  9.34s/it]"
     ]
    },
    {
     "name": "stdout",
     "output_type": "stream",
     "text": [
      "Optimization fail.\n",
      "Optimization fail.\n",
      "local Optima\n",
      "1\n",
      "y_mean 23283.88888888889\n",
      "mean_mean 1272730.7772685045\n",
      "abs(round((mean_mean-y_mean)/y_mean)) 54.0\n",
      "Optimization fail.\n",
      "Optimization fail.\n",
      "Optimization fail.\n",
      "Optimization fail.\n"
     ]
    },
    {
     "name": "stderr",
     "output_type": "stream",
     "text": [
      " 76%|███████▋  | 275/360 [38:52<16:25, 11.60s/it]"
     ]
    },
    {
     "name": "stdout",
     "output_type": "stream",
     "text": [
      "Optimization fail.\n",
      "Optimization fail.\n",
      "Optimization fail.\n",
      "Optimization fail.\n",
      "Optimization fail.\n"
     ]
    },
    {
     "name": "stderr",
     "output_type": "stream",
     "text": [
      " 77%|███████▋  | 278/360 [39:21<12:08,  8.89s/it]"
     ]
    },
    {
     "name": "stdout",
     "output_type": "stream",
     "text": [
      "local Optima\n",
      "1\n",
      "y_mean 2249.5\n",
      "mean_mean 637.4623146621044\n",
      "abs(round((mean_mean-y_mean)/y_mean)) 1.0\n"
     ]
    },
    {
     "name": "stderr",
     "output_type": "stream",
     "text": [
      "\r",
      " 78%|███████▊  | 279/360 [39:24<09:37,  7.12s/it]"
     ]
    },
    {
     "name": "stdout",
     "output_type": "stream",
     "text": [
      "Optimization fail.\n"
     ]
    },
    {
     "name": "stderr",
     "output_type": "stream",
     "text": [
      " 78%|███████▊  | 281/360 [39:34<07:28,  5.68s/it]"
     ]
    },
    {
     "name": "stdout",
     "output_type": "stream",
     "text": [
      "Optimization fail.\n",
      "Optimization fail.\n",
      "Optimization fail.\n",
      "Optimization fail.\n",
      "Optimization fail.\n"
     ]
    },
    {
     "name": "stderr",
     "output_type": "stream",
     "text": [
      "\r",
      " 78%|███████▊  | 282/360 [39:58<14:46, 11.37s/it]"
     ]
    },
    {
     "name": "stdout",
     "output_type": "stream",
     "text": [
      "local Optima\n",
      "1\n",
      "y_mean 2986.0555555555557\n",
      "mean_mean 20738.3759726276\n",
      "abs(round((mean_mean-y_mean)/y_mean)) 6.0\n"
     ]
    },
    {
     "name": "stderr",
     "output_type": "stream",
     "text": [
      "\r",
      " 79%|███████▊  | 283/360 [40:01<11:19,  8.82s/it]"
     ]
    },
    {
     "name": "stdout",
     "output_type": "stream",
     "text": [
      "Optimization fail.\n"
     ]
    },
    {
     "name": "stderr",
     "output_type": "stream",
     "text": [
      "\r",
      " 79%|███████▉  | 284/360 [40:08<10:26,  8.24s/it]"
     ]
    },
    {
     "name": "stdout",
     "output_type": "stream",
     "text": [
      "local Optima\n",
      "1\n",
      "y_mean 2878.5555555555557\n",
      "mean_mean 712.5678048930021\n",
      "abs(round((mean_mean-y_mean)/y_mean)) 1.0\n"
     ]
    },
    {
     "name": "stderr",
     "output_type": "stream",
     "text": [
      "\r",
      " 79%|███████▉  | 285/360 [40:11<08:10,  6.54s/it]"
     ]
    },
    {
     "name": "stdout",
     "output_type": "stream",
     "text": [
      "Optimization fail.\n",
      "Optimization fail.\n",
      "Optimization fail.\n"
     ]
    },
    {
     "name": "stderr",
     "output_type": "stream",
     "text": [
      " 80%|███████▉  | 287/360 [40:31<09:21,  7.69s/it]"
     ]
    },
    {
     "name": "stdout",
     "output_type": "stream",
     "text": [
      "Optimization fail.\n",
      "Optimization fail.\n",
      "Optimization fail.\n"
     ]
    },
    {
     "name": "stderr",
     "output_type": "stream",
     "text": [
      " 80%|████████  | 289/360 [40:50<09:22,  7.93s/it]"
     ]
    },
    {
     "name": "stdout",
     "output_type": "stream",
     "text": [
      "Optimization fail.\n",
      "Optimization fail.\n",
      "Optimization fail.\n"
     ]
    },
    {
     "name": "stderr",
     "output_type": "stream",
     "text": [
      " 81%|████████  | 291/360 [41:08<09:01,  7.85s/it]"
     ]
    },
    {
     "name": "stdout",
     "output_type": "stream",
     "text": [
      "Optimization fail.\n"
     ]
    },
    {
     "name": "stderr",
     "output_type": "stream",
     "text": [
      "\r",
      " 81%|████████  | 292/360 [41:17<09:19,  8.23s/it]"
     ]
    },
    {
     "name": "stdout",
     "output_type": "stream",
     "text": [
      "local Optima\n",
      "1\n",
      "y_mean 3066.1111111111113\n",
      "mean_mean 14405.261135152345\n",
      "abs(round((mean_mean-y_mean)/y_mean)) 4.0\n"
     ]
    },
    {
     "name": "stderr",
     "output_type": "stream",
     "text": [
      "\r",
      " 81%|████████▏ | 293/360 [41:20<07:26,  6.66s/it]"
     ]
    },
    {
     "name": "stdout",
     "output_type": "stream",
     "text": [
      "Optimization fail.\n",
      "Optimization fail.\n",
      "Optimization fail.\n",
      "Optimization fail.\n",
      "Optimization fail.\n",
      "Optimization fail.\n",
      "Optimization fail.\n",
      "Optimization fail.\n",
      "Optimization fail.\n",
      "Optimization fail.\n",
      "Optimization fail.\n",
      "Optimization fail.\n",
      "Optimization fail.\n",
      "Optimization fail.\n"
     ]
    },
    {
     "name": "stderr",
     "output_type": "stream",
     "text": [
      " 82%|████████▎ | 297/360 [42:32<10:34, 10.07s/it]"
     ]
    },
    {
     "name": "stdout",
     "output_type": "stream",
     "text": [
      "Optimization fail.\n",
      "Optimization fail.\n"
     ]
    },
    {
     "name": "stderr",
     "output_type": "stream",
     "text": [
      " 83%|████████▎ | 299/360 [42:47<08:19,  8.18s/it]"
     ]
    },
    {
     "name": "stdout",
     "output_type": "stream",
     "text": [
      "Optimization fail.\n"
     ]
    },
    {
     "name": "stderr",
     "output_type": "stream",
     "text": [
      " 84%|████████▍ | 303/360 [43:04<04:23,  4.62s/it]"
     ]
    },
    {
     "name": "stdout",
     "output_type": "stream",
     "text": [
      "local Optima\n",
      "1\n",
      "y_mean 2562.0555555555557\n",
      "mean_mean 855508292.6234639\n",
      "abs(round((mean_mean-y_mean)/y_mean)) 333914.0\n",
      "Optimization fail.\n",
      "Optimization fail.\n",
      "Optimization fail.\n",
      "Optimization fail.\n",
      "Optimization fail.\n",
      "Optimization fail.\n",
      "local Optima\n",
      "1\n",
      "y_mean 2562.0555555555557\n",
      "mean_mean 855508292.6234639\n",
      "abs(round((mean_mean-y_mean)/y_mean)) 333914.0\n",
      "Optimization fail.\n",
      "Optimization fail.\n",
      "Optimization fail.\n",
      "Optimization fail.\n",
      "Optimization fail.\n",
      "Optimization fail.\n"
     ]
    },
    {
     "name": "stderr",
     "output_type": "stream",
     "text": [
      " 85%|████████▌ | 307/360 [44:09<07:50,  8.88s/it]"
     ]
    },
    {
     "name": "stdout",
     "output_type": "stream",
     "text": [
      "Optimization fail.\n"
     ]
    },
    {
     "name": "stderr",
     "output_type": "stream",
     "text": [
      "\r",
      " 86%|████████▌ | 308/360 [44:16<07:25,  8.56s/it]"
     ]
    },
    {
     "name": "stdout",
     "output_type": "stream",
     "text": [
      "local Optima\n",
      "1\n",
      "y_mean 3397.5\n",
      "mean_mean 839.371242043388\n",
      "abs(round((mean_mean-y_mean)/y_mean)) 1.0\n"
     ]
    },
    {
     "name": "stderr",
     "output_type": "stream",
     "text": [
      "\r",
      " 86%|████████▌ | 309/360 [44:19<05:42,  6.71s/it]"
     ]
    },
    {
     "name": "stdout",
     "output_type": "stream",
     "text": [
      "Optimization fail.\n",
      "Optimization fail.\n",
      "Optimization fail.\n",
      "Optimization fail.\n",
      "Optimization fail.\n"
     ]
    },
    {
     "name": "stderr",
     "output_type": "stream",
     "text": [
      "\r",
      " 86%|████████▌ | 310/360 [44:42<09:48, 11.76s/it]"
     ]
    },
    {
     "name": "stdout",
     "output_type": "stream",
     "text": [
      "local Optima\n",
      "1\n",
      "y_mean 4913.777777777777\n",
      "mean_mean 2112.379829299843\n",
      "abs(round((mean_mean-y_mean)/y_mean)) 1.0\n"
     ]
    },
    {
     "name": "stderr",
     "output_type": "stream",
     "text": [
      "\r",
      " 86%|████████▋ | 311/360 [44:45<07:21,  9.00s/it]"
     ]
    },
    {
     "name": "stdout",
     "output_type": "stream",
     "text": [
      "Optimization fail.\n",
      "Optimization fail.\n",
      "Optimization fail.\n",
      "Optimization fail.\n",
      "Optimization fail.\n"
     ]
    },
    {
     "name": "stderr",
     "output_type": "stream",
     "text": [
      " 88%|████████▊ | 318/360 [45:30<03:18,  4.73s/it]"
     ]
    },
    {
     "name": "stdout",
     "output_type": "stream",
     "text": [
      "local Optima\n",
      "1\n",
      "y_mean 5919.388888888889\n",
      "mean_mean 1503.5990324161864\n",
      "abs(round((mean_mean-y_mean)/y_mean)) 1.0\n",
      "local Optima\n",
      "1\n",
      "y_mean 5919.388888888889\n",
      "mean_mean 9837.585062127473\n",
      "abs(round((mean_mean-y_mean)/y_mean)) 1.0\n",
      "local Optima\n",
      "1\n",
      "y_mean 5919.388888888889\n",
      "mean_mean 1247.992461912284\n",
      "abs(round((mean_mean-y_mean)/y_mean)) 1.0\n",
      "local Optima\n",
      "1\n",
      "y_mean 5919.388888888889\n",
      "mean_mean 8947.928620534625\n",
      "abs(round((mean_mean-y_mean)/y_mean)) 1.0\n"
     ]
    },
    {
     "name": "stderr",
     "output_type": "stream",
     "text": [
      "\r",
      " 89%|████████▊ | 319/360 [45:36<03:19,  4.87s/it]"
     ]
    },
    {
     "name": "stdout",
     "output_type": "stream",
     "text": [
      "Optimization fail.\n"
     ]
    },
    {
     "name": "stderr",
     "output_type": "stream",
     "text": [
      "\r",
      " 89%|████████▉ | 320/360 [45:44<03:53,  5.84s/it]"
     ]
    },
    {
     "name": "stdout",
     "output_type": "stream",
     "text": [
      "local Optima\n",
      "1\n",
      "y_mean 4172.388888888889\n",
      "mean_mean 103802.28486289716\n",
      "abs(round((mean_mean-y_mean)/y_mean)) 24.0\n",
      "local Optima\n",
      "1\n",
      "y_mean 4172.388888888889\n",
      "mean_mean 9466.011249694016\n",
      "abs(round((mean_mean-y_mean)/y_mean)) 1.0\n"
     ]
    },
    {
     "name": "stderr",
     "output_type": "stream",
     "text": [
      "\r",
      " 89%|████████▉ | 321/360 [45:48<03:31,  5.42s/it]"
     ]
    },
    {
     "name": "stdout",
     "output_type": "stream",
     "text": [
      "Optimization fail.\n"
     ]
    },
    {
     "name": "stderr",
     "output_type": "stream",
     "text": [
      "\r",
      " 89%|████████▉ | 322/360 [45:56<03:58,  6.27s/it]"
     ]
    },
    {
     "name": "stdout",
     "output_type": "stream",
     "text": [
      "local Optima\n",
      "1\n",
      "y_mean 3144.8888888888887\n",
      "mean_mean 38428.28148646678\n",
      "abs(round((mean_mean-y_mean)/y_mean)) 11.0\n",
      "local Optima\n",
      "1\n",
      "y_mean 3144.8888888888887\n",
      "mean_mean 6317.669803420015\n",
      "abs(round((mean_mean-y_mean)/y_mean)) 1.0\n",
      "local Optima\n",
      "1\n",
      "y_mean 3144.8888888888887\n",
      "mean_mean 1628416.4730369714\n",
      "abs(round((mean_mean-y_mean)/y_mean)) 517.0\n",
      "local Optima\n",
      "1\n",
      "y_mean 3144.8888888888887\n",
      "mean_mean 5175.6726385900965\n",
      "abs(round((mean_mean-y_mean)/y_mean)) 1.0\n",
      "local Optima\n",
      "1\n",
      "y_mean 3144.8888888888887\n",
      "mean_mean 4974.858328693775\n",
      "abs(round((mean_mean-y_mean)/y_mean)) 1.0\n"
     ]
    },
    {
     "name": "stderr",
     "output_type": "stream",
     "text": [
      "\r",
      " 90%|████████▉ | 323/360 [46:03<03:58,  6.44s/it]"
     ]
    },
    {
     "name": "stdout",
     "output_type": "stream",
     "text": [
      "Optimization fail.\n",
      "Optimization fail.\n",
      "Optimization fail.\n"
     ]
    },
    {
     "name": "stderr",
     "output_type": "stream",
     "text": [
      "\r",
      " 90%|█████████ | 324/360 [46:19<05:34,  9.30s/it]"
     ]
    },
    {
     "name": "stdout",
     "output_type": "stream",
     "text": [
      "local Optima\n",
      "1\n",
      "y_mean 4438.444444444444\n",
      "mean_mean 1868.354530271626\n",
      "abs(round((mean_mean-y_mean)/y_mean)) 1.0\n",
      "local Optima\n",
      "1\n",
      "y_mean 4438.444444444444\n",
      "mean_mean 1210.8148134473836\n",
      "abs(round((mean_mean-y_mean)/y_mean)) 1.0\n",
      "local Optima\n",
      "1\n",
      "y_mean 4438.444444444444\n",
      "mean_mean 1467.3601340871987\n",
      "abs(round((mean_mean-y_mean)/y_mean)) 1.0\n",
      "local Optima\n",
      "1\n",
      "y_mean 4438.444444444444\n",
      "mean_mean 1134.0023365470627\n",
      "abs(round((mean_mean-y_mean)/y_mean)) 1.0\n",
      "local Optima\n",
      "1\n",
      "y_mean 4438.444444444444\n",
      "mean_mean 1171.0828242011753\n",
      "abs(round((mean_mean-y_mean)/y_mean)) 1.0\n"
     ]
    },
    {
     "name": "stderr",
     "output_type": "stream",
     "text": [
      " 91%|█████████ | 326/360 [46:37<04:54,  8.65s/it]"
     ]
    },
    {
     "name": "stdout",
     "output_type": "stream",
     "text": [
      "local Optima\n",
      "1\n",
      "y_mean 5210.722222222223\n",
      "mean_mean 1405.2286853482478\n",
      "abs(round((mean_mean-y_mean)/y_mean)) 1.0\n",
      "local Optima\n",
      "1\n",
      "y_mean 5210.722222222223\n",
      "mean_mean 20506.377965269225\n",
      "abs(round((mean_mean-y_mean)/y_mean)) 3.0\n",
      "local Optima\n",
      "1\n",
      "y_mean 5210.722222222223\n",
      "mean_mean 648.3103258669216\n",
      "abs(round((mean_mean-y_mean)/y_mean)) 1.0\n",
      "local Optima\n",
      "1\n",
      "y_mean 5210.722222222223\n",
      "mean_mean 10179.178633180274\n",
      "abs(round((mean_mean-y_mean)/y_mean)) 1.0\n",
      "local Optima\n",
      "1\n",
      "y_mean 5210.722222222223\n",
      "mean_mean 9752.953678300832\n",
      "abs(round((mean_mean-y_mean)/y_mean)) 1.0\n"
     ]
    },
    {
     "name": "stderr",
     "output_type": "stream",
     "text": [
      " 91%|█████████ | 328/360 [46:47<03:40,  6.90s/it]"
     ]
    },
    {
     "name": "stdout",
     "output_type": "stream",
     "text": [
      "local Optima\n",
      "1\n",
      "y_mean 12564.833333333334\n",
      "mean_mean 24706.484503347998\n",
      "abs(round((mean_mean-y_mean)/y_mean)) 1.0\n",
      "local Optima\n",
      "1\n",
      "y_mean 12564.833333333334\n",
      "mean_mean 22765.473775548755\n",
      "abs(round((mean_mean-y_mean)/y_mean)) 1.0\n",
      "local Optima\n",
      "1\n",
      "y_mean 12564.833333333334\n",
      "mean_mean 2025.0430109891252\n",
      "abs(round((mean_mean-y_mean)/y_mean)) 1.0\n",
      "local Optima\n",
      "1\n",
      "y_mean 12564.833333333334\n",
      "mean_mean 21397.38061002953\n",
      "abs(round((mean_mean-y_mean)/y_mean)) 1.0\n",
      "local Optima\n",
      "1\n",
      "y_mean 12564.833333333334\n",
      "mean_mean 21636.731422976703\n",
      "abs(round((mean_mean-y_mean)/y_mean)) 1.0\n"
     ]
    },
    {
     "name": "stderr",
     "output_type": "stream",
     "text": [
      "\r",
      " 91%|█████████▏| 329/360 [46:55<03:42,  7.17s/it]"
     ]
    },
    {
     "name": "stdout",
     "output_type": "stream",
     "text": [
      "Optimization fail.\n"
     ]
    },
    {
     "name": "stderr",
     "output_type": "stream",
     "text": [
      " 92%|█████████▏| 331/360 [47:06<02:51,  5.93s/it]"
     ]
    },
    {
     "name": "stdout",
     "output_type": "stream",
     "text": [
      "Optimization fail.\n",
      "Optimization fail.\n",
      "Optimization fail.\n",
      "Optimization fail.\n",
      "Optimization fail.\n",
      "Optimization fail.\n",
      "Optimization fail.\n",
      "Optimization fail.\n",
      "Optimization fail.\n",
      "Optimization fail.\n"
     ]
    },
    {
     "name": "stderr",
     "output_type": "stream",
     "text": [
      "\r",
      " 92%|█████████▏| 332/360 [47:49<07:56, 17.00s/it]"
     ]
    },
    {
     "name": "stdout",
     "output_type": "stream",
     "text": [
      "local Optima\n",
      "1\n",
      "y_mean 6066.277777777777\n",
      "mean_mean 1088.4450013926275\n",
      "abs(round((mean_mean-y_mean)/y_mean)) 1.0\n",
      "local Optima\n",
      "1\n",
      "y_mean 6066.277777777777\n",
      "mean_mean 13841.904410319366\n",
      "abs(round((mean_mean-y_mean)/y_mean)) 1.0\n",
      "local Optima\n",
      "1\n",
      "y_mean 6066.277777777777\n",
      "mean_mean 12649.713050340393\n",
      "abs(round((mean_mean-y_mean)/y_mean)) 1.0\n",
      "local Optima\n",
      "1\n",
      "y_mean 6066.277777777777\n",
      "mean_mean 12278.367116998925\n",
      "abs(round((mean_mean-y_mean)/y_mean)) 1.0\n",
      "local Optima\n",
      "1\n",
      "y_mean 6066.277777777777\n",
      "mean_mean 11737.289746991431\n",
      "abs(round((mean_mean-y_mean)/y_mean)) 1.0\n"
     ]
    },
    {
     "name": "stderr",
     "output_type": "stream",
     "text": [
      "\r",
      " 92%|█████████▎| 333/360 [47:56<06:22, 14.18s/it]"
     ]
    },
    {
     "name": "stdout",
     "output_type": "stream",
     "text": [
      "Optimization fail.\n"
     ]
    },
    {
     "name": "stderr",
     "output_type": "stream",
     "text": [
      " 93%|█████████▎| 335/360 [48:05<03:46,  9.06s/it]"
     ]
    },
    {
     "name": "stdout",
     "output_type": "stream",
     "text": [
      "Optimization fail.\n"
     ]
    },
    {
     "name": "stderr",
     "output_type": "stream",
     "text": [
      " 94%|█████████▎| 337/360 [48:17<02:40,  6.98s/it]"
     ]
    },
    {
     "name": "stdout",
     "output_type": "stream",
     "text": [
      "Optimization fail.\n"
     ]
    },
    {
     "name": "stderr",
     "output_type": "stream",
     "text": [
      "\r",
      " 94%|█████████▍| 338/360 [48:24<02:36,  7.10s/it]"
     ]
    },
    {
     "name": "stdout",
     "output_type": "stream",
     "text": [
      "local Optima\n",
      "1\n",
      "y_mean 4407.222222222223\n",
      "mean_mean 929.0665259871791\n",
      "abs(round((mean_mean-y_mean)/y_mean)) 1.0\n",
      "local Optima\n",
      "1\n",
      "y_mean 4407.222222222223\n",
      "mean_mean 12826.25181366171\n",
      "abs(round((mean_mean-y_mean)/y_mean)) 2.0\n",
      "local Optima\n",
      "1\n",
      "y_mean 4407.222222222223\n",
      "mean_mean 285.87672394600094\n",
      "abs(round((mean_mean-y_mean)/y_mean)) 1.0\n",
      "local Optima\n",
      "1\n",
      "y_mean 4407.222222222223\n",
      "mean_mean 9495.563504753345\n",
      "abs(round((mean_mean-y_mean)/y_mean)) 1.0\n",
      "local Optima\n",
      "1\n",
      "y_mean 4407.222222222223\n",
      "mean_mean 9012.930369692736\n",
      "abs(round((mean_mean-y_mean)/y_mean)) 1.0\n"
     ]
    },
    {
     "name": "stderr",
     "output_type": "stream",
     "text": [
      "\r",
      " 94%|█████████▍| 339/360 [48:30<02:22,  6.81s/it]"
     ]
    },
    {
     "name": "stdout",
     "output_type": "stream",
     "text": [
      "Optimization fail.\n",
      "Optimization fail.\n"
     ]
    },
    {
     "name": "stderr",
     "output_type": "stream",
     "text": [
      "\r",
      " 94%|█████████▍| 340/360 [48:43<02:52,  8.63s/it]"
     ]
    },
    {
     "name": "stdout",
     "output_type": "stream",
     "text": [
      "local Optima\n",
      "1\n",
      "y_mean 3274.5555555555557\n",
      "mean_mean 5805.877613542922\n",
      "abs(round((mean_mean-y_mean)/y_mean)) 1.0\n",
      "local Optima\n",
      "1\n",
      "y_mean 3274.5555555555557\n",
      "mean_mean 5813.871202491111\n",
      "abs(round((mean_mean-y_mean)/y_mean)) 1.0\n"
     ]
    },
    {
     "name": "stderr",
     "output_type": "stream",
     "text": [
      "\r",
      " 95%|█████████▍| 341/360 [48:47<02:18,  7.30s/it]"
     ]
    },
    {
     "name": "stdout",
     "output_type": "stream",
     "text": [
      "Optimization fail.\n"
     ]
    },
    {
     "name": "stderr",
     "output_type": "stream",
     "text": [
      "\r",
      " 95%|█████████▌| 342/360 [48:56<02:21,  7.84s/it]"
     ]
    },
    {
     "name": "stdout",
     "output_type": "stream",
     "text": [
      "local Optima\n",
      "1\n",
      "y_mean 5844.611111111111\n",
      "mean_mean 2038.9196480192477\n",
      "abs(round((mean_mean-y_mean)/y_mean)) 1.0\n",
      "local Optima\n",
      "1\n",
      "y_mean 5844.611111111111\n",
      "mean_mean 2043.9256751871214\n",
      "abs(round((mean_mean-y_mean)/y_mean)) 1.0\n"
     ]
    },
    {
     "name": "stderr",
     "output_type": "stream",
     "text": [
      " 96%|█████████▌| 344/360 [49:08<01:48,  6.80s/it]"
     ]
    },
    {
     "name": "stdout",
     "output_type": "stream",
     "text": [
      "local Optima\n",
      "1\n",
      "y_mean 5943.944444444444\n",
      "mean_mean 16399.77862212311\n",
      "abs(round((mean_mean-y_mean)/y_mean)) 2.0\n",
      "local Optima\n",
      "1\n",
      "y_mean 5943.944444444444\n",
      "mean_mean 17087.612613308196\n",
      "abs(round((mean_mean-y_mean)/y_mean)) 2.0\n",
      "local Optima\n",
      "1\n",
      "y_mean 5943.944444444444\n",
      "mean_mean 1930.1841879910996\n",
      "abs(round((mean_mean-y_mean)/y_mean)) 1.0\n",
      "local Optima\n",
      "1\n",
      "y_mean 5943.944444444444\n",
      "mean_mean 14594.526610124365\n",
      "abs(round((mean_mean-y_mean)/y_mean)) 1.0\n",
      "local Optima\n",
      "1\n",
      "y_mean 5943.944444444444\n",
      "mean_mean 14030.781333339597\n",
      "abs(round((mean_mean-y_mean)/y_mean)) 1.0\n"
     ]
    },
    {
     "name": "stderr",
     "output_type": "stream",
     "text": [
      "\r",
      " 96%|█████████▌| 345/360 [49:16<01:46,  7.13s/it]"
     ]
    },
    {
     "name": "stdout",
     "output_type": "stream",
     "text": [
      "Optimization fail.\n"
     ]
    },
    {
     "name": "stderr",
     "output_type": "stream",
     "text": [
      "\r",
      " 96%|█████████▌| 346/360 [49:24<01:42,  7.32s/it]"
     ]
    },
    {
     "name": "stdout",
     "output_type": "stream",
     "text": [
      "local Optima\n",
      "1\n",
      "y_mean 6199.5\n",
      "mean_mean 11258.181975721189\n",
      "abs(round((mean_mean-y_mean)/y_mean)) 1.0\n",
      "local Optima\n",
      "1\n",
      "y_mean 6199.5\n",
      "mean_mean 11575.118827634557\n",
      "abs(round((mean_mean-y_mean)/y_mean)) 1.0\n",
      "local Optima\n",
      "1\n",
      "y_mean 6199.5\n",
      "mean_mean 11181.514613357373\n",
      "abs(round((mean_mean-y_mean)/y_mean)) 1.0\n",
      "local Optima\n",
      "1\n",
      "y_mean 6199.5\n",
      "mean_mean 11029.93624895418\n",
      "abs(round((mean_mean-y_mean)/y_mean)) 1.0\n",
      "local Optima\n",
      "1\n",
      "y_mean 6199.5\n",
      "mean_mean 10730.510137247584\n",
      "abs(round((mean_mean-y_mean)/y_mean)) 1.0\n"
     ]
    },
    {
     "name": "stderr",
     "output_type": "stream",
     "text": [
      "\r",
      " 96%|█████████▋| 347/360 [49:31<01:35,  7.34s/it]"
     ]
    },
    {
     "name": "stdout",
     "output_type": "stream",
     "text": [
      "Optimization fail.\n"
     ]
    },
    {
     "name": "stderr",
     "output_type": "stream",
     "text": [
      "\r",
      " 97%|█████████▋| 348/360 [49:40<01:31,  7.62s/it]"
     ]
    },
    {
     "name": "stdout",
     "output_type": "stream",
     "text": [
      "local Optima\n",
      "1\n",
      "y_mean 1021.7777777777778\n",
      "mean_mean 450.47271679032593\n",
      "abs(round((mean_mean-y_mean)/y_mean)) 1.0\n",
      "local Optima\n",
      "1\n",
      "y_mean 1021.7777777777778\n",
      "mean_mean 482.0979760980138\n",
      "abs(round((mean_mean-y_mean)/y_mean)) 1.0\n",
      "local Optima\n",
      "1\n",
      "y_mean 1021.7777777777778\n",
      "mean_mean 446.64214968579284\n",
      "abs(round((mean_mean-y_mean)/y_mean)) 1.0\n",
      "local Optima\n",
      "1\n",
      "y_mean 1021.7777777777778\n",
      "mean_mean 489.6915292459395\n",
      "abs(round((mean_mean-y_mean)/y_mean)) 1.0\n",
      "local Optima\n",
      "1\n",
      "y_mean 1021.7777777777778\n",
      "mean_mean 481.967760178384\n",
      "abs(round((mean_mean-y_mean)/y_mean)) 1.0\n"
     ]
    },
    {
     "name": "stderr",
     "output_type": "stream",
     "text": [
      " 98%|█████████▊| 352/360 [50:00<00:43,  5.38s/it]"
     ]
    },
    {
     "name": "stdout",
     "output_type": "stream",
     "text": [
      "local Optima\n",
      "1\n",
      "y_mean 3226.3333333333335\n",
      "mean_mean 777.6139457513074\n",
      "abs(round((mean_mean-y_mean)/y_mean)) 1.0\n"
     ]
    },
    {
     "name": "stderr",
     "output_type": "stream",
     "text": [
      "\r",
      " 98%|█████████▊| 353/360 [50:02<00:31,  4.44s/it]"
     ]
    },
    {
     "name": "stdout",
     "output_type": "stream",
     "text": [
      "Optimization fail.\n",
      "Optimization fail.\n",
      "Optimization fail.\n"
     ]
    },
    {
     "name": "stderr",
     "output_type": "stream",
     "text": [
      " 99%|█████████▊| 355/360 [50:22<00:32,  6.46s/it]"
     ]
    },
    {
     "name": "stdout",
     "output_type": "stream",
     "text": [
      "Optimization fail.\n"
     ]
    },
    {
     "name": "stderr",
     "output_type": "stream",
     "text": [
      "100%|█████████▉| 359/360 [50:39<00:04,  4.54s/it]"
     ]
    },
    {
     "name": "stdout",
     "output_type": "stream",
     "text": [
      "Optimization fail.\n",
      "Optimization fail.\n",
      "Optimization fail.\n",
      "Optimization fail.\n",
      "Optimization fail.\n",
      "Optimization fail.\n"
     ]
    },
    {
     "name": "stderr",
     "output_type": "stream",
     "text": [
      "100%|██████████| 360/360 [51:10<00:00,  8.53s/it]\n",
      "  0%|          | 0/360 [00:00<?, ?it/s]"
     ]
    },
    {
     "name": "stdout",
     "output_type": "stream",
     "text": [
      "high_counts_high_dispersion_non_differentially_expressed_genes_DE_non_DE_genes.csv\n"
     ]
    },
    {
     "name": "stderr",
     "output_type": "stream",
     "text": [
      " 10%|█         | 36/360 [01:12<10:38,  1.97s/it]"
     ]
    },
    {
     "name": "stdout",
     "output_type": "stream",
     "text": [
      "local Optima\n",
      "1\n",
      "y_mean 941.5555555555555\n",
      "mean_mean 1579.261943904057\n",
      "abs(round((mean_mean-y_mean)/y_mean)) 1.0\n",
      "local Optima\n",
      "1\n",
      "y_mean 941.5555555555555\n",
      "mean_mean 1671.0672997696145\n",
      "abs(round((mean_mean-y_mean)/y_mean)) 1.0\n",
      "local Optima\n",
      "1\n",
      "y_mean 941.5555555555555\n",
      "mean_mean 1508.7764760688829\n",
      "abs(round((mean_mean-y_mean)/y_mean)) 1.0\n",
      "local Optima\n",
      "1\n",
      "y_mean 941.5555555555555\n",
      "mean_mean 1906.6381095825973\n",
      "abs(round((mean_mean-y_mean)/y_mean)) 1.0\n"
     ]
    },
    {
     "name": "stderr",
     "output_type": "stream",
     "text": [
      " 13%|█▎        | 48/360 [01:40<11:00,  2.12s/it]"
     ]
    },
    {
     "name": "stdout",
     "output_type": "stream",
     "text": [
      "local Optima\n",
      "1\n",
      "y_mean 3005.6111111111113\n",
      "mean_mean 6443.844652309079\n",
      "abs(round((mean_mean-y_mean)/y_mean)) 1.0\n",
      "local Optima\n",
      "1\n",
      "y_mean 3005.6111111111113\n",
      "mean_mean 6447.814374051842\n",
      "abs(round((mean_mean-y_mean)/y_mean)) 1.0\n",
      "local Optima\n",
      "1\n",
      "y_mean 3005.6111111111113\n",
      "mean_mean 6459.961090702107\n",
      "abs(round((mean_mean-y_mean)/y_mean)) 1.0\n",
      "local Optima\n",
      "1\n",
      "y_mean 3005.6111111111113\n",
      "mean_mean 7328.365476314202\n",
      "abs(round((mean_mean-y_mean)/y_mean)) 1.0\n",
      "local Optima\n",
      "1\n",
      "y_mean 3005.6111111111113\n",
      "mean_mean 6872.778589692004\n",
      "abs(round((mean_mean-y_mean)/y_mean)) 1.0\n"
     ]
    },
    {
     "name": "stderr",
     "output_type": "stream",
     "text": [
      " 14%|█▍        | 50/360 [01:48<15:45,  3.05s/it]"
     ]
    },
    {
     "name": "stdout",
     "output_type": "stream",
     "text": [
      "local Optima\n",
      "1\n",
      "y_mean 2025.3333333333333\n",
      "mean_mean 3520.3107655240933\n",
      "abs(round((mean_mean-y_mean)/y_mean)) 1.0\n",
      "local Optima\n",
      "1\n",
      "y_mean 2025.3333333333333\n",
      "mean_mean 3330.272572491861\n",
      "abs(round((mean_mean-y_mean)/y_mean)) 1.0\n",
      "local Optima\n",
      "1\n",
      "y_mean 2025.3333333333333\n",
      "mean_mean 3171.0385337136213\n",
      "abs(round((mean_mean-y_mean)/y_mean)) 1.0\n",
      "local Optima\n",
      "1\n",
      "y_mean 2025.3333333333333\n",
      "mean_mean 3377.6229724989134\n",
      "abs(round((mean_mean-y_mean)/y_mean)) 1.0\n",
      "local Optima\n",
      "1\n",
      "y_mean 2025.3333333333333\n",
      "mean_mean 3407.1444202029\n",
      "abs(round((mean_mean-y_mean)/y_mean)) 1.0\n"
     ]
    },
    {
     "name": "stderr",
     "output_type": "stream",
     "text": [
      " 19%|█▉        | 68/360 [02:29<09:50,  2.02s/it]"
     ]
    },
    {
     "name": "stdout",
     "output_type": "stream",
     "text": [
      "local Optima\n",
      "1\n",
      "y_mean 984.1666666666666\n",
      "mean_mean 1501.4761974525445\n",
      "abs(round((mean_mean-y_mean)/y_mean)) 1.0\n",
      "local Optima\n",
      "1\n",
      "y_mean 984.1666666666666\n",
      "mean_mean 1553.8872922244163\n",
      "abs(round((mean_mean-y_mean)/y_mean)) 1.0\n",
      "local Optima\n",
      "1\n",
      "y_mean 984.1666666666666\n",
      "mean_mean 1587.240849572978\n",
      "abs(round((mean_mean-y_mean)/y_mean)) 1.0\n",
      "local Optima\n",
      "1\n",
      "y_mean 984.1666666666666\n",
      "mean_mean 1730.0845583880064\n",
      "abs(round((mean_mean-y_mean)/y_mean)) 1.0\n"
     ]
    },
    {
     "name": "stderr",
     "output_type": "stream",
     "text": [
      " 23%|██▎       | 84/360 [03:05<09:07,  1.98s/it]"
     ]
    },
    {
     "name": "stdout",
     "output_type": "stream",
     "text": [
      "local Optima\n",
      "1\n",
      "y_mean 1703.2222222222222\n",
      "mean_mean 2656.0357766643515\n",
      "abs(round((mean_mean-y_mean)/y_mean)) 1.0\n"
     ]
    },
    {
     "name": "stderr",
     "output_type": "stream",
     "text": [
      " 32%|███▏      | 114/360 [04:07<08:59,  2.19s/it]"
     ]
    },
    {
     "name": "stdout",
     "output_type": "stream",
     "text": [
      "local Optima\n",
      "1\n",
      "y_mean 1301.111111111111\n",
      "mean_mean 3317.1361057809186\n",
      "abs(round((mean_mean-y_mean)/y_mean)) 2.0\n",
      "local Optima\n",
      "1\n",
      "y_mean 1301.111111111111\n",
      "mean_mean 3116.5956306621897\n",
      "abs(round((mean_mean-y_mean)/y_mean)) 1.0\n",
      "local Optima\n",
      "1\n",
      "y_mean 1301.111111111111\n",
      "mean_mean 3046.8306573884142\n",
      "abs(round((mean_mean-y_mean)/y_mean)) 1.0\n",
      "local Optima\n",
      "1\n",
      "y_mean 1301.111111111111\n",
      "mean_mean 3568.7779079257143\n",
      "abs(round((mean_mean-y_mean)/y_mean)) 2.0\n",
      "local Optima\n",
      "1\n",
      "y_mean 1301.111111111111\n",
      "mean_mean 3346.833389557545\n",
      "abs(round((mean_mean-y_mean)/y_mean)) 2.0\n"
     ]
    },
    {
     "name": "stderr",
     "output_type": "stream",
     "text": [
      " 32%|███▏      | 116/360 [04:16<12:51,  3.16s/it]"
     ]
    },
    {
     "name": "stdout",
     "output_type": "stream",
     "text": [
      "local Optima\n",
      "1\n",
      "y_mean 731.5\n",
      "mean_mean 1118.8569584996696\n",
      "abs(round((mean_mean-y_mean)/y_mean)) 1.0\n"
     ]
    },
    {
     "name": "stderr",
     "output_type": "stream",
     "text": [
      " 43%|████▎     | 156/360 [05:42<06:50,  2.01s/it]"
     ]
    },
    {
     "name": "stdout",
     "output_type": "stream",
     "text": [
      "local Optima\n",
      "1\n",
      "y_mean 4274.944444444444\n",
      "mean_mean 84741.0050777336\n",
      "abs(round((mean_mean-y_mean)/y_mean)) 19.0\n",
      "local Optima\n",
      "1\n",
      "y_mean 4274.944444444444\n",
      "mean_mean 47880.11944499616\n",
      "abs(round((mean_mean-y_mean)/y_mean)) 10.0\n",
      "local Optima\n",
      "1\n",
      "y_mean 4274.944444444444\n",
      "mean_mean 63378.81794712695\n",
      "abs(round((mean_mean-y_mean)/y_mean)) 14.0\n",
      "local Optima\n",
      "1\n",
      "y_mean 4274.944444444444\n",
      "mean_mean 59013.01774530588\n",
      "abs(round((mean_mean-y_mean)/y_mean)) 13.0\n"
     ]
    },
    {
     "name": "stderr",
     "output_type": "stream",
     "text": [
      " 58%|█████▊    | 210/360 [07:33<04:55,  1.97s/it]"
     ]
    },
    {
     "name": "stdout",
     "output_type": "stream",
     "text": [
      "local Optima\n",
      "1\n",
      "y_mean 630.2777777777778\n",
      "mean_mean 280.71304414719555\n",
      "abs(round((mean_mean-y_mean)/y_mean)) 1.0\n",
      "local Optima\n",
      "1\n",
      "y_mean 630.2777777777778\n",
      "mean_mean 296.297470501504\n",
      "abs(round((mean_mean-y_mean)/y_mean)) 1.0\n",
      "local Optima\n",
      "1\n",
      "y_mean 630.2777777777778\n",
      "mean_mean 291.05909656033305\n",
      "abs(round((mean_mean-y_mean)/y_mean)) 1.0\n",
      "local Optima\n",
      "1\n",
      "y_mean 630.2777777777778\n",
      "mean_mean 314.6002410091637\n",
      "abs(round((mean_mean-y_mean)/y_mean)) 1.0\n",
      "local Optima\n",
      "1\n",
      "y_mean 630.2777777777778\n",
      "mean_mean 300.52968973515055\n",
      "abs(round((mean_mean-y_mean)/y_mean)) 1.0\n"
     ]
    },
    {
     "name": "stderr",
     "output_type": "stream",
     "text": [
      " 66%|██████▌   | 236/360 [08:27<03:55,  1.90s/it]"
     ]
    },
    {
     "name": "stdout",
     "output_type": "stream",
     "text": [
      "local Optima\n",
      "1\n",
      "y_mean 2382.3333333333335\n",
      "mean_mean 3703.183009936892\n",
      "abs(round((mean_mean-y_mean)/y_mean)) 1.0\n",
      "local Optima\n",
      "1\n",
      "y_mean 2382.3333333333335\n",
      "mean_mean 3663.3949086511498\n",
      "abs(round((mean_mean-y_mean)/y_mean)) 1.0\n",
      "local Optima\n",
      "1\n",
      "y_mean 2382.3333333333335\n",
      "mean_mean 3651.175010547242\n",
      "abs(round((mean_mean-y_mean)/y_mean)) 1.0\n",
      "local Optima\n",
      "1\n",
      "y_mean 2382.3333333333335\n",
      "mean_mean 4268.366025721335\n",
      "abs(round((mean_mean-y_mean)/y_mean)) 1.0\n",
      "local Optima\n",
      "1\n",
      "y_mean 2382.3333333333335\n",
      "mean_mean 3998.1979208127796\n",
      "abs(round((mean_mean-y_mean)/y_mean)) 1.0\n"
     ]
    },
    {
     "name": "stderr",
     "output_type": "stream",
     "text": [
      " 78%|███████▊  | 282/360 [10:04<02:34,  1.98s/it]"
     ]
    },
    {
     "name": "stdout",
     "output_type": "stream",
     "text": [
      "local Optima\n",
      "1\n",
      "y_mean 1686.0\n",
      "mean_mean 2673.8458226093085\n",
      "abs(round((mean_mean-y_mean)/y_mean)) 1.0\n",
      "local Optima\n",
      "1\n",
      "y_mean 1686.0\n",
      "mean_mean 2903.514651211369\n",
      "abs(round((mean_mean-y_mean)/y_mean)) 1.0\n",
      "local Optima\n",
      "1\n",
      "y_mean 1686.0\n",
      "mean_mean 2909.570042656722\n",
      "abs(round((mean_mean-y_mean)/y_mean)) 1.0\n",
      "local Optima\n",
      "1\n",
      "y_mean 1686.0\n",
      "mean_mean 3366.104390793035\n",
      "abs(round((mean_mean-y_mean)/y_mean)) 1.0\n"
     ]
    },
    {
     "name": "stderr",
     "output_type": "stream",
     "text": [
      " 80%|████████  | 288/360 [10:20<02:35,  2.16s/it]"
     ]
    },
    {
     "name": "stdout",
     "output_type": "stream",
     "text": [
      "local Optima\n",
      "1\n",
      "y_mean 764.8333333333334\n",
      "mean_mean 306.07813768113385\n",
      "abs(round((mean_mean-y_mean)/y_mean)) 1.0\n",
      "local Optima\n",
      "1\n",
      "y_mean 764.8333333333334\n",
      "mean_mean 319.85242527211375\n",
      "abs(round((mean_mean-y_mean)/y_mean)) 1.0\n",
      "local Optima\n",
      "1\n",
      "y_mean 764.8333333333334\n",
      "mean_mean 316.88780734398455\n",
      "abs(round((mean_mean-y_mean)/y_mean)) 1.0\n",
      "local Optima\n",
      "1\n",
      "y_mean 764.8333333333334\n",
      "mean_mean 336.69588556635296\n",
      "abs(round((mean_mean-y_mean)/y_mean)) 1.0\n",
      "local Optima\n",
      "1\n",
      "y_mean 764.8333333333334\n",
      "mean_mean 325.4249916604258\n",
      "abs(round((mean_mean-y_mean)/y_mean)) 1.0\n"
     ]
    },
    {
     "name": "stderr",
     "output_type": "stream",
     "text": [
      " 82%|████████▏ | 294/360 [10:37<02:34,  2.35s/it]"
     ]
    },
    {
     "name": "stdout",
     "output_type": "stream",
     "text": [
      "local Optima\n",
      "1\n",
      "y_mean 2112.3333333333335\n",
      "mean_mean 699.2241204756583\n",
      "abs(round((mean_mean-y_mean)/y_mean)) 1.0\n",
      "local Optima\n",
      "1\n",
      "y_mean 2112.3333333333335\n",
      "mean_mean 735.7436421977841\n",
      "abs(round((mean_mean-y_mean)/y_mean)) 1.0\n",
      "local Optima\n",
      "1\n",
      "y_mean 2112.3333333333335\n",
      "mean_mean 708.5956766008454\n",
      "abs(round((mean_mean-y_mean)/y_mean)) 1.0\n",
      "local Optima\n",
      "1\n",
      "y_mean 2112.3333333333335\n",
      "mean_mean 751.8978322433478\n",
      "abs(round((mean_mean-y_mean)/y_mean)) 1.0\n",
      "local Optima\n",
      "1\n",
      "y_mean 2112.3333333333335\n",
      "mean_mean 736.9684687416228\n",
      "abs(round((mean_mean-y_mean)/y_mean)) 1.0\n"
     ]
    },
    {
     "name": "stderr",
     "output_type": "stream",
     "text": [
      " 83%|████████▎ | 300/360 [10:55<02:27,  2.45s/it]"
     ]
    },
    {
     "name": "stdout",
     "output_type": "stream",
     "text": [
      "local Optima\n",
      "1\n",
      "y_mean 1712.9444444444443\n",
      "mean_mean 6495.5478677481615\n",
      "abs(round((mean_mean-y_mean)/y_mean)) 3.0\n",
      "local Optima\n",
      "1\n",
      "y_mean 1712.9444444444443\n",
      "mean_mean 6327.494985149321\n",
      "abs(round((mean_mean-y_mean)/y_mean)) 3.0\n",
      "local Optima\n",
      "1\n",
      "y_mean 1712.9444444444443\n",
      "mean_mean 6174.93280169819\n",
      "abs(round((mean_mean-y_mean)/y_mean)) 3.0\n",
      "local Optima\n",
      "1\n",
      "y_mean 1712.9444444444443\n",
      "mean_mean 7315.740030036184\n",
      "abs(round((mean_mean-y_mean)/y_mean)) 3.0\n",
      "local Optima\n",
      "1\n",
      "y_mean 1712.9444444444443\n",
      "mean_mean 6732.705342890465\n",
      "abs(round((mean_mean-y_mean)/y_mean)) 3.0\n"
     ]
    },
    {
     "name": "stderr",
     "output_type": "stream",
     "text": [
      " 89%|████████▊ | 319/360 [11:38<01:19,  1.95s/it]"
     ]
    },
    {
     "name": "stdout",
     "output_type": "stream",
     "text": [
      "Fit Cholesky decomposition was not successful.\n"
     ]
    },
    {
     "name": "stderr",
     "output_type": "stream",
     "text": [
      " 92%|█████████▏| 330/360 [12:01<01:02,  2.09s/it]"
     ]
    },
    {
     "name": "stdout",
     "output_type": "stream",
     "text": [
      "local Optima\n",
      "1\n",
      "y_mean 4511.666666666667\n",
      "mean_mean 1197.5616469828224\n",
      "abs(round((mean_mean-y_mean)/y_mean)) 1.0\n",
      "local Optima\n",
      "1\n",
      "y_mean 4511.666666666667\n",
      "mean_mean 1224.3103728846459\n",
      "abs(round((mean_mean-y_mean)/y_mean)) 1.0\n",
      "local Optima\n",
      "1\n",
      "y_mean 4511.666666666667\n",
      "mean_mean 1222.2731226049134\n",
      "abs(round((mean_mean-y_mean)/y_mean)) 1.0\n",
      "local Optima\n",
      "1\n",
      "y_mean 4511.666666666667\n",
      "mean_mean 1264.7006325543398\n",
      "abs(round((mean_mean-y_mean)/y_mean)) 1.0\n",
      "local Optima\n",
      "1\n",
      "y_mean 4511.666666666667\n",
      "mean_mean 1227.6040711236951\n",
      "abs(round((mean_mean-y_mean)/y_mean)) 1.0\n"
     ]
    },
    {
     "name": "stderr",
     "output_type": "stream",
     "text": [
      " 95%|█████████▌| 342/360 [12:32<00:38,  2.11s/it]"
     ]
    },
    {
     "name": "stdout",
     "output_type": "stream",
     "text": [
      "local Optima\n",
      "1\n",
      "y_mean 5231.388888888889\n",
      "mean_mean 1828.7755208227654\n",
      "abs(round((mean_mean-y_mean)/y_mean)) 1.0\n",
      "local Optima\n",
      "1\n",
      "y_mean 5231.388888888889\n",
      "mean_mean 1965.1715582848867\n",
      "abs(round((mean_mean-y_mean)/y_mean)) 1.0\n",
      "local Optima\n",
      "1\n",
      "y_mean 5231.388888888889\n",
      "mean_mean 1915.2891587253212\n",
      "abs(round((mean_mean-y_mean)/y_mean)) 1.0\n",
      "local Optima\n",
      "1\n",
      "y_mean 5231.388888888889\n",
      "mean_mean 2050.2387367598226\n",
      "abs(round((mean_mean-y_mean)/y_mean)) 1.0\n",
      "local Optima\n",
      "1\n",
      "y_mean 5231.388888888889\n",
      "mean_mean 2004.0005569558164\n",
      "abs(round((mean_mean-y_mean)/y_mean)) 1.0\n"
     ]
    },
    {
     "name": "stderr",
     "output_type": "stream",
     "text": [
      " 98%|█████████▊| 354/360 [13:00<00:12,  2.10s/it]"
     ]
    },
    {
     "name": "stdout",
     "output_type": "stream",
     "text": [
      "local Optima\n",
      "1\n",
      "y_mean 7347.611111111111\n",
      "mean_mean 2650.6151171178544\n",
      "abs(round((mean_mean-y_mean)/y_mean)) 1.0\n",
      "local Optima\n",
      "1\n",
      "y_mean 7347.611111111111\n",
      "mean_mean 2845.0421180146905\n",
      "abs(round((mean_mean-y_mean)/y_mean)) 1.0\n",
      "local Optima\n",
      "1\n",
      "y_mean 7347.611111111111\n",
      "mean_mean 2845.3170963398866\n",
      "abs(round((mean_mean-y_mean)/y_mean)) 1.0\n",
      "local Optima\n",
      "1\n",
      "y_mean 7347.611111111111\n",
      "mean_mean 3326.637631624526\n",
      "abs(round((mean_mean-y_mean)/y_mean)) 1.0\n",
      "local Optima\n",
      "1\n",
      "y_mean 7347.611111111111\n",
      "mean_mean 2939.8173626352564\n",
      "abs(round((mean_mean-y_mean)/y_mean)) 1.0\n"
     ]
    },
    {
     "name": "stderr",
     "output_type": "stream",
     "text": [
      "100%|██████████| 360/360 [13:19<00:00,  2.22s/it]\n",
      "  1%|          | 3/360 [00:01<02:23,  2.49it/s]"
     ]
    },
    {
     "name": "stdout",
     "output_type": "stream",
     "text": [
      "Fit Cholesky decomposition was not successful.\n"
     ]
    },
    {
     "name": "stderr",
     "output_type": "stream",
     "text": [
      " 31%|███▏      | 113/360 [00:46<01:42,  2.41it/s]"
     ]
    },
    {
     "name": "stdout",
     "output_type": "stream",
     "text": [
      "Fit Cholesky decomposition was not successful.\n"
     ]
    },
    {
     "name": "stderr",
     "output_type": "stream",
     "text": [
      " 37%|███▋      | 133/360 [00:55<01:38,  2.31it/s]"
     ]
    },
    {
     "name": "stdout",
     "output_type": "stream",
     "text": [
      "Fit Cholesky decomposition was not successful.\n"
     ]
    },
    {
     "name": "stderr",
     "output_type": "stream",
     "text": [
      " 41%|████▏     | 149/360 [01:02<01:21,  2.59it/s]"
     ]
    },
    {
     "name": "stdout",
     "output_type": "stream",
     "text": [
      "Fit Cholesky decomposition was not successful.\n"
     ]
    },
    {
     "name": "stderr",
     "output_type": "stream",
     "text": [
      " 43%|████▎     | 155/360 [01:04<01:25,  2.39it/s]"
     ]
    },
    {
     "name": "stdout",
     "output_type": "stream",
     "text": [
      "Fit Cholesky decomposition was not successful.\n"
     ]
    },
    {
     "name": "stderr",
     "output_type": "stream",
     "text": [
      " 45%|████▌     | 163/360 [01:08<01:21,  2.43it/s]"
     ]
    },
    {
     "name": "stdout",
     "output_type": "stream",
     "text": [
      "Fit Cholesky decomposition was not successful.\n"
     ]
    },
    {
     "name": "stderr",
     "output_type": "stream",
     "text": [
      " 66%|██████▋   | 239/360 [01:41<01:00,  1.98it/s]"
     ]
    },
    {
     "name": "stdout",
     "output_type": "stream",
     "text": [
      "Fit Cholesky decomposition was not successful.\n"
     ]
    },
    {
     "name": "stderr",
     "output_type": "stream",
     "text": [
      " 86%|████████▋ | 311/360 [02:11<00:19,  2.46it/s]"
     ]
    },
    {
     "name": "stdout",
     "output_type": "stream",
     "text": [
      "Fit Cholesky decomposition was not successful.\n"
     ]
    },
    {
     "name": "stderr",
     "output_type": "stream",
     "text": [
      " 89%|████████▉ | 321/360 [02:16<00:16,  2.42it/s]"
     ]
    },
    {
     "name": "stdout",
     "output_type": "stream",
     "text": [
      "Fit Cholesky decomposition was not successful.\n"
     ]
    },
    {
     "name": "stderr",
     "output_type": "stream",
     "text": [
      " 91%|█████████▏| 329/360 [02:19<00:13,  2.35it/s]"
     ]
    },
    {
     "name": "stdout",
     "output_type": "stream",
     "text": [
      "Fit Cholesky decomposition was not successful.\n"
     ]
    },
    {
     "name": "stderr",
     "output_type": "stream",
     "text": [
      " 92%|█████████▎| 333/360 [02:21<00:13,  2.03it/s]"
     ]
    },
    {
     "name": "stdout",
     "output_type": "stream",
     "text": [
      "Fit Cholesky decomposition was not successful.\n"
     ]
    },
    {
     "name": "stderr",
     "output_type": "stream",
     "text": [
      " 96%|█████████▋| 347/360 [02:27<00:05,  2.44it/s]"
     ]
    },
    {
     "name": "stdout",
     "output_type": "stream",
     "text": [
      "Fit Cholesky decomposition was not successful.\n"
     ]
    },
    {
     "name": "stderr",
     "output_type": "stream",
     "text": [
      " 98%|█████████▊| 353/360 [02:30<00:02,  2.44it/s]"
     ]
    },
    {
     "name": "stdout",
     "output_type": "stream",
     "text": [
      "Fit Cholesky decomposition was not successful.\n"
     ]
    },
    {
     "name": "stderr",
     "output_type": "stream",
     "text": [
      "100%|██████████| 360/360 [02:33<00:00,  2.35it/s]\n",
      "  4%|▍         | 14/360 [00:36<15:24,  2.67s/it]"
     ]
    },
    {
     "name": "stdout",
     "output_type": "stream",
     "text": [
      "local Optima\n",
      "1\n",
      "y_mean 2031.388888888889\n",
      "mean_mean 878.9456629955775\n",
      "abs(round((mean_mean-y_mean)/y_mean)) 1.0\n"
     ]
    },
    {
     "name": "stderr",
     "output_type": "stream",
     "text": [
      " 10%|█         | 36/360 [01:47<19:12,  3.56s/it]"
     ]
    },
    {
     "name": "stdout",
     "output_type": "stream",
     "text": [
      "local Optima\n",
      "1\n",
      "y_mean 941.5555555555555\n",
      "mean_mean 2456.297541370647\n",
      "abs(round((mean_mean-y_mean)/y_mean)) 2.0\n"
     ]
    },
    {
     "name": "stderr",
     "output_type": "stream",
     "text": [
      " 12%|█▏        | 44/360 [02:11<15:47,  3.00s/it]"
     ]
    },
    {
     "name": "stdout",
     "output_type": "stream",
     "text": [
      "local Optima\n",
      "1\n",
      "y_mean 2831.1111111111113\n",
      "mean_mean 15522.58822888894\n",
      "abs(round((mean_mean-y_mean)/y_mean)) 4.0\n"
     ]
    },
    {
     "name": "stderr",
     "output_type": "stream",
     "text": [
      " 13%|█▎        | 48/360 [02:24<16:53,  3.25s/it]"
     ]
    },
    {
     "name": "stdout",
     "output_type": "stream",
     "text": [
      "local Optima\n",
      "1\n",
      "y_mean 3005.6111111111113\n",
      "mean_mean 6242.829782419489\n",
      "abs(round((mean_mean-y_mean)/y_mean)) 1.0\n",
      "local Optima\n",
      "1\n",
      "y_mean 3005.6111111111113\n",
      "mean_mean 14659.292765660957\n",
      "abs(round((mean_mean-y_mean)/y_mean)) 4.0\n",
      "local Optima\n",
      "1\n",
      "y_mean 3005.6111111111113\n",
      "mean_mean 5996.340350949924\n",
      "abs(round((mean_mean-y_mean)/y_mean)) 1.0\n",
      "local Optima\n",
      "1\n",
      "y_mean 3005.6111111111113\n",
      "mean_mean 9430.697785794808\n",
      "abs(round((mean_mean-y_mean)/y_mean)) 2.0\n",
      "local Optima\n",
      "1\n",
      "y_mean 3005.6111111111113\n",
      "mean_mean 6299.672597680015\n",
      "abs(round((mean_mean-y_mean)/y_mean)) 1.0\n"
     ]
    },
    {
     "name": "stderr",
     "output_type": "stream",
     "text": [
      " 17%|█▋        | 60/360 [03:11<22:31,  4.51s/it]"
     ]
    },
    {
     "name": "stdout",
     "output_type": "stream",
     "text": [
      "local Optima\n",
      "1\n",
      "y_mean 6838.722222222223\n",
      "mean_mean 1041.6506865699803\n",
      "abs(round((mean_mean-y_mean)/y_mean)) 1.0\n",
      "local Optima\n",
      "1\n",
      "y_mean 6838.722222222223\n",
      "mean_mean 3108.9051257288725\n",
      "abs(round((mean_mean-y_mean)/y_mean)) 1.0\n"
     ]
    },
    {
     "name": "stderr",
     "output_type": "stream",
     "text": [
      " 19%|█▉        | 68/360 [03:36<15:44,  3.23s/it]"
     ]
    },
    {
     "name": "stdout",
     "output_type": "stream",
     "text": [
      "local Optima\n",
      "1\n",
      "y_mean 984.1666666666666\n",
      "mean_mean 1507.010308241185\n",
      "abs(round((mean_mean-y_mean)/y_mean)) 1.0\n",
      "local Optima\n",
      "1\n",
      "y_mean 984.1666666666666\n",
      "mean_mean 1530.8867295781963\n",
      "abs(round((mean_mean-y_mean)/y_mean)) 1.0\n",
      "local Optima\n",
      "1\n",
      "y_mean 984.1666666666666\n",
      "mean_mean 1543.607271511907\n",
      "abs(round((mean_mean-y_mean)/y_mean)) 1.0\n",
      "local Optima\n",
      "1\n",
      "y_mean 984.1666666666666\n",
      "mean_mean 1485.7965033893686\n",
      "abs(round((mean_mean-y_mean)/y_mean)) 1.0\n"
     ]
    },
    {
     "name": "stderr",
     "output_type": "stream",
     "text": [
      " 22%|██▎       | 81/360 [04:16<12:41,  2.73s/it]"
     ]
    },
    {
     "name": "stdout",
     "output_type": "stream",
     "text": [
      "local Optima\n",
      "1\n",
      "y_mean 5068.722222222223\n",
      "mean_mean 251.12319925566058\n",
      "abs(round((mean_mean-y_mean)/y_mean)) 1.0\n"
     ]
    },
    {
     "name": "stderr",
     "output_type": "stream",
     "text": [
      " 26%|██▋       | 95/360 [04:55<12:33,  2.84s/it]"
     ]
    },
    {
     "name": "stdout",
     "output_type": "stream",
     "text": [
      "local Optima\n",
      "1\n",
      "y_mean 3221.1111111111113\n",
      "mean_mean 256.7644166842119\n",
      "abs(round((mean_mean-y_mean)/y_mean)) 1.0\n"
     ]
    },
    {
     "name": "stderr",
     "output_type": "stream",
     "text": [
      " 28%|██▊       | 102/360 [05:16<12:55,  3.00s/it]"
     ]
    },
    {
     "name": "stdout",
     "output_type": "stream",
     "text": [
      "local Optima\n",
      "1\n",
      "y_mean 1169.388888888889\n",
      "mean_mean 507.58747651523095\n",
      "abs(round((mean_mean-y_mean)/y_mean)) 1.0\n",
      "local Optima\n",
      "1\n",
      "y_mean 1169.388888888889\n",
      "mean_mean 508.20145188031836\n",
      "abs(round((mean_mean-y_mean)/y_mean)) 1.0\n",
      "local Optima\n",
      "1\n",
      "y_mean 1169.388888888889\n",
      "mean_mean 480.5258754946211\n",
      "abs(round((mean_mean-y_mean)/y_mean)) 1.0\n",
      "local Optima\n",
      "1\n",
      "y_mean 1169.388888888889\n",
      "mean_mean 517.2735623891257\n",
      "abs(round((mean_mean-y_mean)/y_mean)) 1.0\n",
      "local Optima\n",
      "1\n",
      "y_mean 1169.388888888889\n",
      "mean_mean 562.3559770866851\n",
      "abs(round((mean_mean-y_mean)/y_mean)) 1.0\n"
     ]
    },
    {
     "name": "stderr",
     "output_type": "stream",
     "text": [
      " 29%|██▉       | 104/360 [05:26<16:13,  3.80s/it]"
     ]
    },
    {
     "name": "stdout",
     "output_type": "stream",
     "text": [
      "local Optima\n",
      "1\n",
      "y_mean 1945.2777777777778\n",
      "mean_mean 6615.335144764156\n",
      "abs(round((mean_mean-y_mean)/y_mean)) 2.0\n"
     ]
    },
    {
     "name": "stderr",
     "output_type": "stream",
     "text": [
      " 30%|███       | 108/360 [05:38<12:58,  3.09s/it]"
     ]
    },
    {
     "name": "stdout",
     "output_type": "stream",
     "text": [
      "local Optima\n",
      "1\n",
      "y_mean 2023.611111111111\n",
      "mean_mean 751.631719014995\n",
      "abs(round((mean_mean-y_mean)/y_mean)) 1.0\n",
      "local Optima\n",
      "1\n",
      "y_mean 2023.611111111111\n",
      "mean_mean 847.3000019279374\n",
      "abs(round((mean_mean-y_mean)/y_mean)) 1.0\n",
      "local Optima\n",
      "1\n",
      "y_mean 2023.611111111111\n",
      "mean_mean 698.4278069960345\n",
      "abs(round((mean_mean-y_mean)/y_mean)) 1.0\n",
      "local Optima\n",
      "1\n",
      "y_mean 2023.611111111111\n",
      "mean_mean 834.9152247929545\n",
      "abs(round((mean_mean-y_mean)/y_mean)) 1.0\n",
      "local Optima\n",
      "1\n",
      "y_mean 2023.611111111111\n",
      "mean_mean 857.27021168057\n",
      "abs(round((mean_mean-y_mean)/y_mean)) 1.0\n"
     ]
    },
    {
     "name": "stderr",
     "output_type": "stream",
     "text": [
      " 32%|███▏      | 114/360 [06:03<14:37,  3.57s/it]"
     ]
    },
    {
     "name": "stdout",
     "output_type": "stream",
     "text": [
      "local Optima\n",
      "1\n",
      "y_mean 1301.111111111111\n",
      "mean_mean 2920.929370880322\n",
      "abs(round((mean_mean-y_mean)/y_mean)) 1.0\n",
      "local Optima\n",
      "1\n",
      "y_mean 1301.111111111111\n",
      "mean_mean 2879.553185013401\n",
      "abs(round((mean_mean-y_mean)/y_mean)) 1.0\n",
      "local Optima\n",
      "1\n",
      "y_mean 1301.111111111111\n",
      "mean_mean 106744.5924817987\n",
      "abs(round((mean_mean-y_mean)/y_mean)) 81.0\n",
      "local Optima\n",
      "1\n",
      "y_mean 1301.111111111111\n",
      "mean_mean 2654.3321015289403\n",
      "abs(round((mean_mean-y_mean)/y_mean)) 1.0\n",
      "local Optima\n",
      "1\n",
      "y_mean 1301.111111111111\n",
      "mean_mean 2921.476308969659\n",
      "abs(round((mean_mean-y_mean)/y_mean)) 1.0\n"
     ]
    },
    {
     "name": "stderr",
     "output_type": "stream",
     "text": [
      " 35%|███▌      | 126/360 [06:45<13:18,  3.41s/it]"
     ]
    },
    {
     "name": "stdout",
     "output_type": "stream",
     "text": [
      "local Optima\n",
      "1\n",
      "y_mean 704.3888888888889\n",
      "mean_mean 1102.166624121355\n",
      "abs(round((mean_mean-y_mean)/y_mean)) 1.0\n",
      "local Optima\n",
      "1\n",
      "y_mean 704.3888888888889\n",
      "mean_mean 1116.8445599906017\n",
      "abs(round((mean_mean-y_mean)/y_mean)) 1.0\n",
      "local Optima\n",
      "1\n",
      "y_mean 704.3888888888889\n",
      "mean_mean 1079.4483357637162\n",
      "abs(round((mean_mean-y_mean)/y_mean)) 1.0\n"
     ]
    },
    {
     "name": "stderr",
     "output_type": "stream",
     "text": [
      " 37%|███▋      | 134/360 [07:09<10:23,  2.76s/it]"
     ]
    },
    {
     "name": "stdout",
     "output_type": "stream",
     "text": [
      "local Optima\n",
      "1\n",
      "y_mean 2000.6666666666667\n",
      "mean_mean 3201.482064064161\n",
      "abs(round((mean_mean-y_mean)/y_mean)) 1.0\n",
      "local Optima\n",
      "1\n",
      "y_mean 2000.6666666666667\n",
      "mean_mean 3098.126113105351\n",
      "abs(round((mean_mean-y_mean)/y_mean)) 1.0\n",
      "local Optima\n",
      "1\n",
      "y_mean 2000.6666666666667\n",
      "mean_mean 138.43424840449416\n",
      "abs(round((mean_mean-y_mean)/y_mean)) 1.0\n",
      "local Optima\n",
      "1\n",
      "y_mean 2000.6666666666667\n",
      "mean_mean 3008.394191974086\n",
      "abs(round((mean_mean-y_mean)/y_mean)) 1.0\n"
     ]
    },
    {
     "name": "stderr",
     "output_type": "stream",
     "text": [
      " 39%|███▉      | 140/360 [07:29<11:42,  3.19s/it]"
     ]
    },
    {
     "name": "stdout",
     "output_type": "stream",
     "text": [
      "local Optima\n",
      "1\n",
      "y_mean 1488.611111111111\n",
      "mean_mean 658.736089277301\n",
      "abs(round((mean_mean-y_mean)/y_mean)) 1.0\n",
      "local Optima\n",
      "1\n",
      "y_mean 1488.611111111111\n",
      "mean_mean 640.5895786273102\n",
      "abs(round((mean_mean-y_mean)/y_mean)) 1.0\n",
      "local Optima\n",
      "1\n",
      "y_mean 1488.611111111111\n",
      "mean_mean 547.138114653191\n",
      "abs(round((mean_mean-y_mean)/y_mean)) 1.0\n",
      "local Optima\n",
      "1\n",
      "y_mean 1488.611111111111\n",
      "mean_mean 684.7127536362824\n",
      "abs(round((mean_mean-y_mean)/y_mean)) 1.0\n",
      "local Optima\n",
      "1\n",
      "y_mean 1488.611111111111\n",
      "mean_mean 656.4767737034467\n",
      "abs(round((mean_mean-y_mean)/y_mean)) 1.0\n"
     ]
    },
    {
     "name": "stderr",
     "output_type": "stream",
     "text": [
      " 39%|███▉      | 142/360 [07:41<15:32,  4.28s/it]"
     ]
    },
    {
     "name": "stdout",
     "output_type": "stream",
     "text": [
      "local Optima\n",
      "1\n",
      "y_mean 1087.9444444444443\n",
      "mean_mean 415.61157371883064\n",
      "abs(round((mean_mean-y_mean)/y_mean)) 1.0\n",
      "local Optima\n",
      "1\n",
      "y_mean 1087.9444444444443\n",
      "mean_mean 477.61359251758745\n",
      "abs(round((mean_mean-y_mean)/y_mean)) 1.0\n",
      "local Optima\n",
      "1\n",
      "y_mean 1087.9444444444443\n",
      "mean_mean 456.0979559225864\n",
      "abs(round((mean_mean-y_mean)/y_mean)) 1.0\n",
      "local Optima\n",
      "1\n",
      "y_mean 1087.9444444444443\n",
      "mean_mean 475.94196697647754\n",
      "abs(round((mean_mean-y_mean)/y_mean)) 1.0\n",
      "local Optima\n",
      "1\n",
      "y_mean 1087.9444444444443\n",
      "mean_mean 476.3228882986643\n",
      "abs(round((mean_mean-y_mean)/y_mean)) 1.0\n"
     ]
    },
    {
     "name": "stderr",
     "output_type": "stream",
     "text": [
      " 41%|████      | 146/360 [07:56<12:34,  3.53s/it]"
     ]
    },
    {
     "name": "stdout",
     "output_type": "stream",
     "text": [
      "local Optima\n",
      "1\n",
      "y_mean 1426.6666666666667\n",
      "mean_mean 622.1583774420682\n",
      "abs(round((mean_mean-y_mean)/y_mean)) 1.0\n"
     ]
    },
    {
     "name": "stderr",
     "output_type": "stream",
     "text": [
      "\r",
      " 41%|████      | 147/360 [08:00<12:55,  3.64s/it]"
     ]
    },
    {
     "name": "stdout",
     "output_type": "stream",
     "text": [
      "local Optima\n",
      "1\n",
      "y_mean 4360.888888888889\n",
      "mean_mean 186.26753545693987\n",
      "abs(round((mean_mean-y_mean)/y_mean)) 1.0\n"
     ]
    },
    {
     "name": "stderr",
     "output_type": "stream",
     "text": [
      "\r",
      " 41%|████      | 148/360 [08:04<12:58,  3.67s/it]"
     ]
    },
    {
     "name": "stdout",
     "output_type": "stream",
     "text": [
      "local Optima\n",
      "1\n",
      "y_mean 2843.1111111111113\n",
      "mean_mean 1069.1866324364194\n",
      "abs(round((mean_mean-y_mean)/y_mean)) 1.0\n",
      "local Optima\n",
      "1\n",
      "y_mean 2843.1111111111113\n",
      "mean_mean 1135.8036342514856\n",
      "abs(round((mean_mean-y_mean)/y_mean)) 1.0\n",
      "local Optima\n",
      "1\n",
      "y_mean 2843.1111111111113\n",
      "mean_mean 1044.964914010019\n",
      "abs(round((mean_mean-y_mean)/y_mean)) 1.0\n",
      "local Optima\n",
      "1\n",
      "y_mean 2843.1111111111113\n",
      "mean_mean 1097.1136198079078\n",
      "abs(round((mean_mean-y_mean)/y_mean)) 1.0\n",
      "local Optima\n",
      "1\n",
      "y_mean 2843.1111111111113\n",
      "mean_mean 1082.7471381767066\n",
      "abs(round((mean_mean-y_mean)/y_mean)) 1.0\n"
     ]
    },
    {
     "name": "stderr",
     "output_type": "stream",
     "text": [
      " 42%|████▏     | 151/360 [08:19<14:03,  4.04s/it]"
     ]
    },
    {
     "name": "stdout",
     "output_type": "stream",
     "text": [
      "local Optima\n",
      "1\n",
      "y_mean 4925.944444444444\n",
      "mean_mean 163.3148904874363\n",
      "abs(round((mean_mean-y_mean)/y_mean)) 1.0\n"
     ]
    },
    {
     "name": "stderr",
     "output_type": "stream",
     "text": [
      "\r",
      " 42%|████▏     | 152/360 [08:22<12:59,  3.75s/it]"
     ]
    },
    {
     "name": "stdout",
     "output_type": "stream",
     "text": [
      "local Optima\n",
      "1\n",
      "y_mean 3255.3888888888887\n",
      "mean_mean 805.040736862739\n",
      "abs(round((mean_mean-y_mean)/y_mean)) 1.0\n"
     ]
    },
    {
     "name": "stderr",
     "output_type": "stream",
     "text": [
      " 43%|████▎     | 156/360 [08:31<08:13,  2.42s/it]"
     ]
    },
    {
     "name": "stdout",
     "output_type": "stream",
     "text": [
      "local Optima\n",
      "1\n",
      "y_mean 4274.944444444444\n",
      "mean_mean 12689.708475285424\n",
      "abs(round((mean_mean-y_mean)/y_mean)) 2.0\n",
      "local Optima\n",
      "1\n",
      "y_mean 4274.944444444444\n",
      "mean_mean 10883.156358668268\n",
      "abs(round((mean_mean-y_mean)/y_mean)) 2.0\n"
     ]
    },
    {
     "name": "stderr",
     "output_type": "stream",
     "text": [
      " 44%|████▍     | 158/360 [08:39<10:30,  3.12s/it]"
     ]
    },
    {
     "name": "stdout",
     "output_type": "stream",
     "text": [
      "local Optima\n",
      "1\n",
      "y_mean 4181.444444444444\n",
      "mean_mean 118159.34169624062\n",
      "abs(round((mean_mean-y_mean)/y_mean)) 27.0\n"
     ]
    },
    {
     "name": "stderr",
     "output_type": "stream",
     "text": [
      " 45%|████▌     | 162/360 [08:50<08:58,  2.72s/it]"
     ]
    },
    {
     "name": "stdout",
     "output_type": "stream",
     "text": [
      "local Optima\n",
      "1\n",
      "y_mean 7971.333333333333\n",
      "mean_mean 1024.5691896724932\n",
      "abs(round((mean_mean-y_mean)/y_mean)) 1.0\n"
     ]
    },
    {
     "name": "stderr",
     "output_type": "stream",
     "text": [
      "\r",
      " 45%|████▌     | 163/360 [08:52<09:00,  2.74s/it]"
     ]
    },
    {
     "name": "stdout",
     "output_type": "stream",
     "text": [
      "local Optima\n",
      "1\n",
      "y_mean 12983.722222222223\n",
      "mean_mean 352.4418442892938\n",
      "abs(round((mean_mean-y_mean)/y_mean)) 1.0\n"
     ]
    },
    {
     "name": "stderr",
     "output_type": "stream",
     "text": [
      "\r",
      " 46%|████▌     | 164/360 [08:56<09:21,  2.87s/it]"
     ]
    },
    {
     "name": "stdout",
     "output_type": "stream",
     "text": [
      "local Optima\n",
      "1\n",
      "y_mean 4554.777777777777\n",
      "mean_mean 648.822893865496\n",
      "abs(round((mean_mean-y_mean)/y_mean)) 1.0\n"
     ]
    },
    {
     "name": "stderr",
     "output_type": "stream",
     "text": [
      " 48%|████▊     | 174/360 [09:23<08:31,  2.75s/it]"
     ]
    },
    {
     "name": "stdout",
     "output_type": "stream",
     "text": [
      "local Optima\n",
      "1\n",
      "y_mean 3978.6666666666665\n",
      "mean_mean 1742.9731268536225\n",
      "abs(round((mean_mean-y_mean)/y_mean)) 1.0\n"
     ]
    },
    {
     "name": "stderr",
     "output_type": "stream",
     "text": [
      " 51%|█████     | 183/360 [09:48<07:48,  2.65s/it]"
     ]
    },
    {
     "name": "stdout",
     "output_type": "stream",
     "text": [
      "Optimization fail.\n"
     ]
    },
    {
     "name": "stderr",
     "output_type": "stream",
     "text": [
      " 53%|█████▎    | 190/360 [10:12<08:06,  2.86s/it]"
     ]
    },
    {
     "name": "stdout",
     "output_type": "stream",
     "text": [
      "local Optima\n",
      "1\n",
      "y_mean 3618.277777777778\n",
      "mean_mean 91047.14663982806\n",
      "abs(round((mean_mean-y_mean)/y_mean)) 24.0\n"
     ]
    },
    {
     "name": "stderr",
     "output_type": "stream",
     "text": [
      " 53%|█████▎    | 192/360 [10:17<07:59,  2.86s/it]"
     ]
    },
    {
     "name": "stdout",
     "output_type": "stream",
     "text": [
      "local Optima\n",
      "1\n",
      "y_mean 4339.555555555556\n",
      "mean_mean 995.1531979067632\n",
      "abs(round((mean_mean-y_mean)/y_mean)) 1.0\n"
     ]
    },
    {
     "name": "stderr",
     "output_type": "stream",
     "text": [
      " 54%|█████▍    | 194/360 [10:23<07:39,  2.77s/it]"
     ]
    },
    {
     "name": "stdout",
     "output_type": "stream",
     "text": [
      "local Optima\n",
      "1\n",
      "y_mean 3322.9444444444443\n",
      "mean_mean 854.2168375504224\n",
      "abs(round((mean_mean-y_mean)/y_mean)) 1.0\n"
     ]
    },
    {
     "name": "stderr",
     "output_type": "stream",
     "text": [
      " 56%|█████▌    | 202/360 [10:45<07:31,  2.86s/it]"
     ]
    },
    {
     "name": "stdout",
     "output_type": "stream",
     "text": [
      "local Optima\n",
      "1\n",
      "y_mean 3031.3333333333335\n",
      "mean_mean 782.753170036957\n",
      "abs(round((mean_mean-y_mean)/y_mean)) 1.0\n"
     ]
    },
    {
     "name": "stderr",
     "output_type": "stream",
     "text": [
      " 57%|█████▋    | 206/360 [10:56<06:55,  2.70s/it]"
     ]
    },
    {
     "name": "stdout",
     "output_type": "stream",
     "text": [
      "local Optima\n",
      "1\n",
      "y_mean 3032.3333333333335\n",
      "mean_mean 1201.933430036376\n",
      "abs(round((mean_mean-y_mean)/y_mean)) 1.0\n",
      "local Optima\n",
      "1\n",
      "y_mean 3032.3333333333335\n",
      "mean_mean 1372.301291040994\n",
      "abs(round((mean_mean-y_mean)/y_mean)) 1.0\n",
      "local Optima\n",
      "1\n",
      "y_mean 3032.3333333333335\n",
      "mean_mean 1215.3491994052176\n",
      "abs(round((mean_mean-y_mean)/y_mean)) 1.0\n",
      "local Optima\n",
      "1\n",
      "y_mean 3032.3333333333335\n",
      "mean_mean 1359.788487685886\n",
      "abs(round((mean_mean-y_mean)/y_mean)) 1.0\n",
      "local Optima\n",
      "1\n",
      "y_mean 3032.3333333333335\n",
      "mean_mean 1184.306680638838\n",
      "abs(round((mean_mean-y_mean)/y_mean)) 1.0\n"
     ]
    },
    {
     "name": "stderr",
     "output_type": "stream",
     "text": [
      " 58%|█████▊    | 210/360 [11:17<09:47,  3.91s/it]"
     ]
    },
    {
     "name": "stdout",
     "output_type": "stream",
     "text": [
      "local Optima\n",
      "1\n",
      "y_mean 630.2777777777778\n",
      "mean_mean 241.06719171558854\n",
      "abs(round((mean_mean-y_mean)/y_mean)) 1.0\n",
      "local Optima\n",
      "1\n",
      "y_mean 630.2777777777778\n",
      "mean_mean 255.440144850945\n",
      "abs(round((mean_mean-y_mean)/y_mean)) 1.0\n",
      "local Optima\n",
      "1\n",
      "y_mean 630.2777777777778\n",
      "mean_mean 248.45079741684046\n",
      "abs(round((mean_mean-y_mean)/y_mean)) 1.0\n",
      "local Optima\n",
      "1\n",
      "y_mean 630.2777777777778\n",
      "mean_mean 260.8879108706837\n",
      "abs(round((mean_mean-y_mean)/y_mean)) 1.0\n",
      "local Optima\n",
      "1\n",
      "y_mean 630.2777777777778\n",
      "mean_mean 247.54326836531686\n",
      "abs(round((mean_mean-y_mean)/y_mean)) 1.0\n"
     ]
    },
    {
     "name": "stderr",
     "output_type": "stream",
     "text": [
      " 60%|██████    | 216/360 [11:37<06:33,  2.73s/it]"
     ]
    },
    {
     "name": "stdout",
     "output_type": "stream",
     "text": [
      "local Optima\n",
      "1\n",
      "y_mean 6569.0\n",
      "mean_mean 10085.667603956104\n",
      "abs(round((mean_mean-y_mean)/y_mean)) 1.0\n",
      "local Optima\n",
      "1\n",
      "y_mean 6569.0\n",
      "mean_mean 10568.751692432328\n",
      "abs(round((mean_mean-y_mean)/y_mean)) 1.0\n",
      "local Optima\n",
      "1\n",
      "y_mean 6569.0\n",
      "mean_mean 10050.560183656007\n",
      "abs(round((mean_mean-y_mean)/y_mean)) 1.0\n",
      "local Optima\n",
      "1\n",
      "y_mean 6569.0\n",
      "mean_mean 10216.253791631972\n",
      "abs(round((mean_mean-y_mean)/y_mean)) 1.0\n",
      "local Optima\n",
      "1\n",
      "y_mean 6569.0\n",
      "mean_mean 9945.75631225042\n",
      "abs(round((mean_mean-y_mean)/y_mean)) 1.0\n"
     ]
    },
    {
     "name": "stderr",
     "output_type": "stream",
     "text": [
      " 67%|██████▋   | 240/360 [12:47<06:35,  3.30s/it]"
     ]
    },
    {
     "name": "stdout",
     "output_type": "stream",
     "text": [
      "local Optima\n",
      "1\n",
      "y_mean 2649.222222222222\n",
      "mean_mean 1184.9638374989693\n",
      "abs(round((mean_mean-y_mean)/y_mean)) 1.0\n",
      "local Optima\n",
      "1\n",
      "y_mean 2649.222222222222\n",
      "mean_mean 1296.0888044271023\n",
      "abs(round((mean_mean-y_mean)/y_mean)) 1.0\n",
      "local Optima\n",
      "1\n",
      "y_mean 2649.222222222222\n",
      "mean_mean 1192.5814569139836\n",
      "abs(round((mean_mean-y_mean)/y_mean)) 1.0\n",
      "local Optima\n",
      "1\n",
      "y_mean 2649.222222222222\n",
      "mean_mean 953.826641887296\n",
      "abs(round((mean_mean-y_mean)/y_mean)) 1.0\n",
      "local Optima\n",
      "1\n",
      "y_mean 2649.222222222222\n",
      "mean_mean 1161.4778884849982\n",
      "abs(round((mean_mean-y_mean)/y_mean)) 1.0\n"
     ]
    },
    {
     "name": "stderr",
     "output_type": "stream",
     "text": [
      " 70%|███████   | 252/360 [13:29<05:41,  3.16s/it]"
     ]
    },
    {
     "name": "stdout",
     "output_type": "stream",
     "text": [
      "local Optima\n",
      "1\n",
      "y_mean 8560.611111111111\n",
      "mean_mean 820668.7848441941\n",
      "abs(round((mean_mean-y_mean)/y_mean)) 95.0\n"
     ]
    },
    {
     "name": "stderr",
     "output_type": "stream",
     "text": [
      " 71%|███████   | 254/360 [13:35<05:18,  3.01s/it]"
     ]
    },
    {
     "name": "stdout",
     "output_type": "stream",
     "text": [
      "local Optima\n",
      "1\n",
      "y_mean 5692.222222222223\n",
      "mean_mean 1618.278351872966\n",
      "abs(round((mean_mean-y_mean)/y_mean)) 1.0\n",
      "local Optima\n",
      "1\n",
      "y_mean 5692.222222222223\n",
      "mean_mean 1913.4559807337594\n",
      "abs(round((mean_mean-y_mean)/y_mean)) 1.0\n",
      "local Optima\n",
      "1\n",
      "y_mean 5692.222222222223\n",
      "mean_mean 1987.395999811667\n",
      "abs(round((mean_mean-y_mean)/y_mean)) 1.0\n",
      "local Optima\n",
      "1\n",
      "y_mean 5692.222222222223\n",
      "mean_mean 2205.5751902578604\n",
      "abs(round((mean_mean-y_mean)/y_mean)) 1.0\n",
      "local Optima\n",
      "1\n",
      "y_mean 5692.222222222223\n",
      "mean_mean 2372.6284435576054\n",
      "abs(round((mean_mean-y_mean)/y_mean)) 1.0\n"
     ]
    },
    {
     "name": "stderr",
     "output_type": "stream",
     "text": [
      " 73%|███████▎  | 264/360 [14:12<04:57,  3.10s/it]"
     ]
    },
    {
     "name": "stdout",
     "output_type": "stream",
     "text": [
      "local Optima\n",
      "1\n",
      "y_mean 3128.6111111111113\n",
      "mean_mean 821.9576781475572\n",
      "abs(round((mean_mean-y_mean)/y_mean)) 1.0\n",
      "local Optima\n",
      "1\n",
      "y_mean 3128.6111111111113\n",
      "mean_mean 9731.65169438197\n",
      "abs(round((mean_mean-y_mean)/y_mean)) 2.0\n",
      "local Optima\n",
      "1\n",
      "y_mean 3128.6111111111113\n",
      "mean_mean 373.74369762247153\n",
      "abs(round((mean_mean-y_mean)/y_mean)) 1.0\n",
      "local Optima\n",
      "1\n",
      "y_mean 3128.6111111111113\n",
      "mean_mean 7875.832128711189\n",
      "abs(round((mean_mean-y_mean)/y_mean)) 2.0\n",
      "local Optima\n",
      "1\n",
      "y_mean 3128.6111111111113\n",
      "mean_mean 7483.788655055417\n",
      "abs(round((mean_mean-y_mean)/y_mean)) 1.0\n"
     ]
    },
    {
     "name": "stderr",
     "output_type": "stream",
     "text": [
      " 74%|███████▍  | 266/360 [14:22<06:12,  3.96s/it]"
     ]
    },
    {
     "name": "stdout",
     "output_type": "stream",
     "text": [
      "local Optima\n",
      "1\n",
      "y_mean 3480.8333333333335\n",
      "mean_mean 5991.883148815463\n",
      "abs(round((mean_mean-y_mean)/y_mean)) 1.0\n",
      "local Optima\n",
      "1\n",
      "y_mean 3480.8333333333335\n",
      "mean_mean 6120.107297783422\n",
      "abs(round((mean_mean-y_mean)/y_mean)) 1.0\n",
      "local Optima\n",
      "1\n",
      "y_mean 3480.8333333333335\n",
      "mean_mean 5758.102148739478\n",
      "abs(round((mean_mean-y_mean)/y_mean)) 1.0\n",
      "local Optima\n",
      "1\n",
      "y_mean 3480.8333333333335\n",
      "mean_mean 5905.732941294546\n",
      "abs(round((mean_mean-y_mean)/y_mean)) 1.0\n",
      "local Optima\n",
      "1\n",
      "y_mean 3480.8333333333335\n",
      "mean_mean 5689.94705276357\n",
      "abs(round((mean_mean-y_mean)/y_mean)) 1.0\n"
     ]
    },
    {
     "name": "stderr",
     "output_type": "stream",
     "text": [
      " 75%|███████▌  | 270/360 [14:38<05:44,  3.83s/it]"
     ]
    },
    {
     "name": "stdout",
     "output_type": "stream",
     "text": [
      "local Optima\n",
      "1\n",
      "y_mean 1360.111111111111\n",
      "mean_mean 17207.683862446785\n",
      "abs(round((mean_mean-y_mean)/y_mean)) 12.0\n"
     ]
    },
    {
     "name": "stderr",
     "output_type": "stream",
     "text": [
      " 78%|███████▊  | 280/360 [15:04<02:59,  2.25s/it]"
     ]
    },
    {
     "name": "stdout",
     "output_type": "stream",
     "text": [
      "local Optima\n",
      "1\n",
      "y_mean 2590.9444444444443\n",
      "mean_mean 66448.5448567611\n",
      "abs(round((mean_mean-y_mean)/y_mean)) 25.0\n"
     ]
    },
    {
     "name": "stderr",
     "output_type": "stream",
     "text": [
      " 80%|████████  | 288/360 [15:24<03:05,  2.58s/it]"
     ]
    },
    {
     "name": "stdout",
     "output_type": "stream",
     "text": [
      "local Optima\n",
      "1\n",
      "y_mean 764.8333333333334\n",
      "mean_mean 281.7273016848056\n",
      "abs(round((mean_mean-y_mean)/y_mean)) 1.0\n",
      "local Optima\n",
      "1\n",
      "y_mean 764.8333333333334\n",
      "mean_mean 309.855611181746\n",
      "abs(round((mean_mean-y_mean)/y_mean)) 1.0\n"
     ]
    }
   ],
   "source": [
    "files = ['low_counts_low_dispersion_non_differentially_expressed_genes_DE_non_DE_genes.csv'\n",
    "         ,'low_counts_high_dispersion_non_differentially_expressed_genes_DE_non_DE_genes.csv'                                      \n",
    "         ,'high_counts_low_dispersion_non_differentially_expressed_genes_DE_non_DE_genes.csv'\n",
    "         ,'high_counts_high_dispersion_non_differentially_expressed_genes_DE_non_DE_genes.csv']    \n",
    "X = pd.read_csv('time_points.csv',index_col=[0])\n",
    "\n",
    "for file in files:\n",
    "    print(file)\n",
    "    Y = pd.read_csv(file,index_col=[0])\n",
    "    gp_counts = Fit_GPcounts(X,Y) \n",
    "    likelihoods = ['Negative_binomial','Gaussian','Poisson'] #\n",
    "    for likelihood in likelihoods:\n",
    "        log_likelihood = gp_counts.One_sample_test(likelihood)\n",
    "        log_likelihood.to_csv(\"ll_\"+likelihood+\"_\"+file)"
   ]
  },
  {
   "cell_type": "code",
   "execution_count": null,
   "metadata": {},
   "outputs": [],
   "source": []
  }
 ],
 "metadata": {
  "kernelspec": {
   "display_name": "Python [conda env:myenv2] *",
   "language": "python",
   "name": "conda-env-myenv2-py"
  },
  "language_info": {
   "codemirror_mode": {
    "name": "ipython",
    "version": 3
   },
   "file_extension": ".py",
   "mimetype": "text/x-python",
   "name": "python",
   "nbconvert_exporter": "python",
   "pygments_lexer": "ipython3",
   "version": "3.7.6"
  }
 },
 "nbformat": 4,
 "nbformat_minor": 2
}
