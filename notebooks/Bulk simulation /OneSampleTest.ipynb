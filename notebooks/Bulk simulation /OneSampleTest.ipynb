{
 "cells": [
  {
   "cell_type": "markdown",
   "metadata": {},
   "source": [
    "# One sample test on simulated bulk RNA-seq"
   ]
  },
  {
   "cell_type": "markdown",
   "metadata": {},
   "source": [
    "Nuha BinTayyash, 2020\n",
    "\n",
    "This notebook shows how to run GPcounts with one sample test on simulated bulk RNA-seq datasets."
   ]
  },
  {
   "cell_type": "code",
   "execution_count": 2,
   "metadata": {},
   "outputs": [
    {
     "name": "stdout",
     "output_type": "stream",
     "text": [
      "Populating the interactive namespace from numpy and matplotlib\n"
     ]
    }
   ],
   "source": [
    "import numpy as np\n",
    "import pandas as pd\n",
    "from GPcounts.GPcounts_Module import Fit_GPcounts"
   ]
  },
  {
   "cell_type": "code",
   "execution_count": 3,
   "metadata": {},
   "outputs": [
    {
     "name": "stderr",
     "output_type": "stream",
     "text": [
      "\r",
      "  0%|          | 0/300 [00:00<?, ?it/s]"
     ]
    },
    {
     "name": "stdout",
     "output_type": "stream",
     "text": [
      "low_counts_low_disperison_samples_dynamic_constant.csv\n"
     ]
    },
    {
     "name": "stderr",
     "output_type": "stream",
     "text": [
      "100%|██████████| 300/300 [25:11<00:00,  5.04s/it] \n",
      "100%|██████████| 300/300 [02:59<00:00,  1.67it/s]\n",
      "100%|██████████| 300/300 [15:23<00:00,  3.08s/it] \n",
      "  0%|          | 0/300 [00:00<?, ?it/s]"
     ]
    },
    {
     "name": "stdout",
     "output_type": "stream",
     "text": [
      "low_counts_high_dispersion_samples_dynamic_constant.csv\n"
     ]
    },
    {
     "name": "stderr",
     "output_type": "stream",
     "text": [
      "100%|██████████| 300/300 [17:06<00:00,  3.42s/it]  \n",
      "100%|██████████| 300/300 [07:27<00:00,  1.49s/it]  \n",
      "100%|██████████| 300/300 [12:52<00:00,  2.58s/it]\n",
      "  0%|          | 0/300 [00:00<?, ?it/s]"
     ]
    },
    {
     "name": "stdout",
     "output_type": "stream",
     "text": [
      "high_counts_low_disperison_samples_dynamic_constant.csv\n"
     ]
    },
    {
     "name": "stderr",
     "output_type": "stream",
     "text": [
      "100%|██████████| 300/300 [36:09<00:00,  7.23s/it]  \n",
      "100%|██████████| 300/300 [12:05<00:00,  2.42s/it]   \n",
      "100%|██████████| 300/300 [12:45<00:00,  2.55s/it]\n",
      "  0%|          | 0/296 [00:00<?, ?it/s]"
     ]
    },
    {
     "name": "stdout",
     "output_type": "stream",
     "text": [
      "high_counts_high_dispersion_samples_dynamic_constant.csv\n"
     ]
    },
    {
     "name": "stderr",
     "output_type": "stream",
     "text": [
      "100%|██████████| 296/296 [29:50<00:00,  6.05s/it]   \n",
      "100%|██████████| 296/296 [02:52<00:00,  1.72it/s]\n",
      "100%|██████████| 296/296 [36:49<00:00,  7.46s/it]   \n"
     ]
    }
   ],
   "source": [
    "files = ['low_counts_low_disperison_samples_dynamic_constant.csv','low_counts_high_dispersion_samples_dynamic_constant.csv'                                      \n",
    "             ,'high_counts_low_disperison_samples_dynamic_constant.csv','high_counts_high_dispersion_samples_dynamic_constant.csv']\n",
    "\n",
    "X = pd.read_csv('time_points.csv',index_col=[0])\n",
    "\n",
    "for file in files:\n",
    "    print(file)\n",
    "    Y = pd.read_csv(file,index_col=[0])\n",
    "    likelihoods = ['Negative_binomial','Gaussian','Poisson'] \n",
    "    for likelihood in likelihoods:\n",
    "        if likelihood == 'Gaussian':\n",
    "            Y = np.log(Y+1)\n",
    "\n",
    "        gp_counts = Fit_GPcounts(X,Y) \n",
    "        log_likelihood = gp_counts.One_sample_test(likelihood)\n",
    "        log_likelihood.to_csv(\"ll_\"+likelihood+\"_\"+file)"
   ]
  }
 ],
 "metadata": {
  "kernelspec": {
   "display_name": "Python [conda env:rep_test]",
   "language": "python",
   "name": "conda-env-rep_test-py"
  },
  "language_info": {
   "codemirror_mode": {
    "name": "ipython",
    "version": 3
   },
   "file_extension": ".py",
   "mimetype": "text/x-python",
   "name": "python",
   "nbconvert_exporter": "python",
   "pygments_lexer": "ipython3",
   "version": "3.7.6"
  }
 },
 "nbformat": 4,
 "nbformat_minor": 2
}
