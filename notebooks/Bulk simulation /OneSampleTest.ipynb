{
 "cells": [
  {
   "cell_type": "markdown",
   "metadata": {},
   "source": [
    "# One sample test on simulated bulk RNA-seq"
   ]
  },
  {
   "cell_type": "markdown",
   "metadata": {},
   "source": [
    "Nuha BinTayyash, 2020\n",
    "\n",
    "This notebook shows how to run GPcounts with one sample test on simulated bulk RNA-seq datasets."
   ]
  },
  {
   "cell_type": "code",
   "execution_count": 1,
   "metadata": {},
   "outputs": [],
   "source": [
    "import numpy as np\n",
    "import pandas as pd\n",
    "from GPcounts.GPcounts_Module import Fit_GPcounts\n",
    "import gpflow"
   ]
  },
  {
   "cell_type": "code",
   "execution_count": 2,
   "metadata": {},
   "outputs": [
    {
     "name": "stderr",
     "output_type": "stream",
     "text": [
      "\r",
      "  0%|          | 0/358 [00:00<?, ?it/s]"
     ]
    },
    {
     "name": "stdout",
     "output_type": "stream",
     "text": [
      "low_counts_low_dispersion_non_differentially_expressed_genes_DE_non_DE_genes.csv\n"
     ]
    },
    {
     "name": "stderr",
     "output_type": "stream",
     "text": [
      "100%|██████████| 358/358 [19:27<00:00,  3.26s/it]\n",
      "100%|██████████| 358/358 [02:30<00:00,  2.38it/s]\n",
      "100%|██████████| 358/358 [14:58<00:00,  2.51s/it]\n",
      "  0%|          | 0/358 [00:00<?, ?it/s]"
     ]
    },
    {
     "name": "stdout",
     "output_type": "stream",
     "text": [
      "low_counts_high_dispersion_non_differentially_expressed_genes_DE_non_DE_genes.csv\n"
     ]
    },
    {
     "name": "stderr",
     "output_type": "stream",
     "text": [
      "100%|██████████| 358/358 [14:10<00:00,  2.38s/it]\n",
      "100%|██████████| 358/358 [02:25<00:00,  2.46it/s]\n",
      "100%|██████████| 358/358 [12:36<00:00,  2.11s/it]\n",
      "  0%|          | 0/360 [00:00<?, ?it/s]"
     ]
    },
    {
     "name": "stdout",
     "output_type": "stream",
     "text": [
      "high_counts_low_dispersion_non_differentially_expressed_genes_DE_non_DE_genes.csv\n"
     ]
    },
    {
     "name": "stderr",
     "output_type": "stream",
     "text": [
      "100%|██████████| 360/360 [21:36<00:00,  3.60s/it]\n",
      "100%|██████████| 360/360 [02:39<00:00,  2.25it/s]\n",
      "100%|██████████| 360/360 [38:58<00:00,  6.50s/it]  \n",
      "  0%|          | 0/360 [00:00<?, ?it/s]"
     ]
    },
    {
     "name": "stdout",
     "output_type": "stream",
     "text": [
      "high_counts_high_dispersion_non_differentially_expressed_genes_DE_non_DE_genes.csv\n"
     ]
    },
    {
     "name": "stderr",
     "output_type": "stream",
     "text": [
      "100%|██████████| 360/360 [14:14<00:00,  2.37s/it]\n",
      "100%|██████████| 360/360 [02:22<00:00,  2.52it/s]\n",
      "100%|██████████| 360/360 [13:15<00:00,  2.21s/it]\n"
     ]
    }
   ],
   "source": [
    "files = ['low_counts_low_dispersion_non_differentially_expressed_genes_DE_non_DE_genes.csv'\n",
    "         ,'low_counts_high_dispersion_non_differentially_expressed_genes_DE_non_DE_genes.csv'                                      \n",
    "         ,'high_counts_low_dispersion_non_differentially_expressed_genes_DE_non_DE_genes.csv'\n",
    "         ,'high_counts_high_dispersion_non_differentially_expressed_genes_DE_non_DE_genes.csv']\n",
    "\n",
    "X = pd.read_csv('time_points.csv',index_col=[0])\n",
    "\n",
    "for file in files:\n",
    "    print(file)\n",
    "    Y = pd.read_csv(file,index_col=[0])\n",
    "    gp_counts = Fit_GPcounts(X,Y) \n",
    "    likelihoods = ['Negative_binomial','Gaussian','Poisson'] \n",
    "    for likelihood in likelihoods:\n",
    "        log_likelihood = gp_counts.One_sample_test(likelihood)\n",
    "        log_likelihood.to_csv(\"ll_\"+likelihood+\"_\"+file)"
   ]
  },
  {
   "cell_type": "code",
   "execution_count": null,
   "metadata": {},
   "outputs": [],
   "source": []
  }
 ],
 "metadata": {
  "kernelspec": {
   "display_name": "Python [conda env:myenv2] *",
   "language": "python",
   "name": "conda-env-myenv2-py"
  },
  "language_info": {
   "codemirror_mode": {
    "name": "ipython",
    "version": 3
   },
   "file_extension": ".py",
   "mimetype": "text/x-python",
   "name": "python",
   "nbconvert_exporter": "python",
   "pygments_lexer": "ipython3",
   "version": "3.7.6"
  }
 },
 "nbformat": 4,
 "nbformat_minor": 2
}
