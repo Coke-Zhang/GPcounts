{
 "cells": [
  {
   "cell_type": "markdown",
   "metadata": {},
   "source": [
    "# One sample test on simulated bulk RNA-seq"
   ]
  },
  {
   "cell_type": "markdown",
   "metadata": {},
   "source": [
    "Nuha BinTayyash, 2020\n",
    "\n",
    "This notebook shows how to run GPcounts with one sample test on simulated bulk RNA-seq datasets."
   ]
  },
  {
   "cell_type": "code",
   "execution_count": 1,
   "metadata": {},
   "outputs": [],
   "source": [
    "import numpy as np\n",
    "import pandas as pd\n",
    "from GPcounts.GPcounts_Module import Fit_GPcounts\n",
    "import gpflow"
   ]
  },
  {
   "cell_type": "code",
   "execution_count": 2,
   "metadata": {},
   "outputs": [
    {
     "name": "stderr",
     "output_type": "stream",
     "text": [
      "\r",
      "  0%|          | 0/358 [00:00<?, ?it/s]"
     ]
    },
    {
     "name": "stdout",
     "output_type": "stream",
     "text": [
      "low_counts_low_dispersion_non_differentially_expressed_genes_DE_non_DE_genes.csv\n",
      "local Optima\n",
      "y_mean 0.8564523225172295\n",
      "mean_mean 0.9367562513634258\n",
      "abs(round((mean_mean-y_mean)/y_mean)) 0.0\n"
     ]
    },
    {
     "name": "stderr",
     "output_type": "stream",
     "text": [
      "\r",
      "  0%|          | 1/358 [00:06<37:29,  6.30s/it]"
     ]
    },
    {
     "name": "stdout",
     "output_type": "stream",
     "text": [
      "local Optima\n",
      "y_mean 0.8564523225172295\n",
      "mean_mean 0.7982191313837407\n",
      "abs(round((mean_mean-y_mean)/y_mean)) 0.0\n",
      "local Optima\n",
      "y_mean 3.120775090879673\n",
      "mean_mean 3.1206784127690623\n",
      "abs(round((mean_mean-y_mean)/y_mean)) 0.0\n"
     ]
    },
    {
     "name": "stderr",
     "output_type": "stream",
     "text": [
      "\r",
      "  1%|          | 2/358 [00:07<29:04,  4.90s/it]"
     ]
    },
    {
     "name": "stdout",
     "output_type": "stream",
     "text": [
      "local Optima\n",
      "y_mean 3.120775090879673\n",
      "mean_mean 3.120678082346879\n",
      "abs(round((mean_mean-y_mean)/y_mean)) 0.0\n",
      "local Optima\n",
      "y_mean 1.20025669876362\n",
      "mean_mean 1.1758616092168497\n",
      "abs(round((mean_mean-y_mean)/y_mean)) 0.0\n"
     ]
    },
    {
     "name": "stderr",
     "output_type": "stream",
     "text": [
      "\r",
      "  1%|          | 3/358 [00:09<23:06,  3.91s/it]"
     ]
    },
    {
     "name": "stdout",
     "output_type": "stream",
     "text": [
      "local Optima\n",
      "y_mean 1.20025669876362\n",
      "mean_mean 1.1610053683337862\n",
      "abs(round((mean_mean-y_mean)/y_mean)) 0.0\n",
      "local Optima\n",
      "y_mean 3.317625389383066\n",
      "mean_mean 3.3150757955357375\n",
      "abs(round((mean_mean-y_mean)/y_mean)) 0.0\n"
     ]
    },
    {
     "name": "stderr",
     "output_type": "stream",
     "text": [
      "\r",
      "  1%|          | 4/358 [00:11<19:18,  3.27s/it]"
     ]
    },
    {
     "name": "stdout",
     "output_type": "stream",
     "text": [
      "local Optima\n",
      "y_mean 3.317625389383066\n",
      "mean_mean 3.3176043669658686\n",
      "abs(round((mean_mean-y_mean)/y_mean)) 0.0\n",
      "local Optima\n",
      "y_mean 2.195670274093727\n",
      "mean_mean 2.1404465050237267\n",
      "abs(round((mean_mean-y_mean)/y_mean)) 0.0\n"
     ]
    },
    {
     "name": "stderr",
     "output_type": "stream",
     "text": [
      "\r",
      "  1%|▏         | 5/358 [00:12<16:19,  2.78s/it]"
     ]
    },
    {
     "name": "stdout",
     "output_type": "stream",
     "text": [
      "local Optima\n",
      "y_mean 2.195670274093727\n",
      "mean_mean 2.1429409879308494\n",
      "abs(round((mean_mean-y_mean)/y_mean)) 0.0\n",
      "local Optima\n",
      "y_mean 4.097804309000747\n",
      "mean_mean 4.0977710374117065\n",
      "abs(round((mean_mean-y_mean)/y_mean)) 0.0\n"
     ]
    },
    {
     "name": "stderr",
     "output_type": "stream",
     "text": [
      "\r",
      "  2%|▏         | 6/358 [00:14<13:44,  2.34s/it]"
     ]
    },
    {
     "name": "stdout",
     "output_type": "stream",
     "text": [
      "local Optima\n",
      "y_mean 4.097804309000747\n",
      "mean_mean 4.0977710175926285\n",
      "abs(round((mean_mean-y_mean)/y_mean)) 0.0\n",
      "local Optima\n",
      "y_mean 1.1865879559202834\n",
      "mean_mean 1.3117925383491211\n",
      "abs(round((mean_mean-y_mean)/y_mean)) 0.0\n"
     ]
    },
    {
     "name": "stderr",
     "output_type": "stream",
     "text": [
      "\r",
      "  2%|▏         | 7/358 [00:15<11:47,  2.02s/it]"
     ]
    },
    {
     "name": "stdout",
     "output_type": "stream",
     "text": [
      "local Optima\n",
      "y_mean 1.1865879559202834\n",
      "mean_mean 1.1283330330084262\n",
      "abs(round((mean_mean-y_mean)/y_mean)) 0.0\n",
      "local Optima\n",
      "y_mean 3.9688272340015365\n",
      "mean_mean 3.9687527758036305\n",
      "abs(round((mean_mean-y_mean)/y_mean)) 0.0\n"
     ]
    },
    {
     "name": "stderr",
     "output_type": "stream",
     "text": [
      "\r",
      "  2%|▏         | 8/358 [00:16<10:35,  1.82s/it]"
     ]
    },
    {
     "name": "stdout",
     "output_type": "stream",
     "text": [
      "local Optima\n",
      "y_mean 3.9688272340015365\n",
      "mean_mean 3.9687527783016816\n",
      "abs(round((mean_mean-y_mean)/y_mean)) 0.0\n",
      "local Optima\n",
      "y_mean 1.1003979493001372\n",
      "mean_mean 1.2123094268768626\n",
      "abs(round((mean_mean-y_mean)/y_mean)) 0.0\n"
     ]
    },
    {
     "name": "stderr",
     "output_type": "stream",
     "text": [
      "\r",
      "  3%|▎         | 9/358 [00:18<09:26,  1.62s/it]"
     ]
    },
    {
     "name": "stdout",
     "output_type": "stream",
     "text": [
      "local Optima\n",
      "y_mean 1.1003979493001372\n",
      "mean_mean 1.054806795779461\n",
      "abs(round((mean_mean-y_mean)/y_mean)) 0.0\n",
      "local Optima\n",
      "y_mean 3.4265229130689843\n",
      "mean_mean 3.4264514509638606\n",
      "abs(round((mean_mean-y_mean)/y_mean)) 0.0\n"
     ]
    },
    {
     "name": "stderr",
     "output_type": "stream",
     "text": [
      "\r",
      "  3%|▎         | 10/358 [00:19<09:15,  1.60s/it]"
     ]
    },
    {
     "name": "stdout",
     "output_type": "stream",
     "text": [
      "local Optima\n",
      "y_mean 3.4265229130689843\n",
      "mean_mean 3.4264514347838597\n",
      "abs(round((mean_mean-y_mean)/y_mean)) 0.0\n",
      "local Optima\n",
      "y_mean 2.2401862515497992\n",
      "mean_mean 2.014404551412776\n",
      "abs(round((mean_mean-y_mean)/y_mean)) 0.0\n"
     ]
    },
    {
     "name": "stderr",
     "output_type": "stream",
     "text": [
      "\r",
      "  3%|▎         | 11/358 [00:20<08:25,  1.46s/it]"
     ]
    },
    {
     "name": "stdout",
     "output_type": "stream",
     "text": [
      "local Optima\n",
      "y_mean 2.2401862515497992\n",
      "mean_mean 2.2143902718307764\n",
      "abs(round((mean_mean-y_mean)/y_mean)) 0.0\n",
      "local Optima\n",
      "y_mean 3.7085577400778313\n",
      "mean_mean 3.708530013026989\n",
      "abs(round((mean_mean-y_mean)/y_mean)) 0.0\n"
     ]
    },
    {
     "name": "stderr",
     "output_type": "stream",
     "text": [
      "\r",
      "  3%|▎         | 12/358 [00:21<07:55,  1.37s/it]"
     ]
    },
    {
     "name": "stdout",
     "output_type": "stream",
     "text": [
      "local Optima\n",
      "y_mean 3.7085577400778313\n",
      "mean_mean 3.708527335973385\n",
      "abs(round((mean_mean-y_mean)/y_mean)) 0.0\n",
      "local Optima\n",
      "y_mean 0.7838560703903571\n",
      "mean_mean 0.8728613635551825\n",
      "abs(round((mean_mean-y_mean)/y_mean)) 0.0\n"
     ]
    },
    {
     "name": "stderr",
     "output_type": "stream",
     "text": [
      "\r",
      "  4%|▎         | 13/358 [00:23<07:28,  1.30s/it]"
     ]
    },
    {
     "name": "stdout",
     "output_type": "stream",
     "text": [
      "local Optima\n",
      "y_mean 0.7838560703903571\n",
      "mean_mean 0.6823993061070148\n",
      "abs(round((mean_mean-y_mean)/y_mean)) 0.0\n",
      "local Optima\n",
      "y_mean 3.095915685303\n",
      "mean_mean 3.095813070833998\n",
      "abs(round((mean_mean-y_mean)/y_mean)) 0.0\n"
     ]
    },
    {
     "name": "stderr",
     "output_type": "stream",
     "text": [
      "\r",
      "  4%|▍         | 14/358 [00:24<07:07,  1.24s/it]"
     ]
    },
    {
     "name": "stdout",
     "output_type": "stream",
     "text": [
      "local Optima\n",
      "y_mean 3.095915685303\n",
      "mean_mean 3.0958130797302976\n",
      "abs(round((mean_mean-y_mean)/y_mean)) 0.0\n",
      "local Optima\n",
      "y_mean 0.7768515238086304\n",
      "mean_mean 0.8787425538074695\n",
      "abs(round((mean_mean-y_mean)/y_mean)) 0.0\n"
     ]
    },
    {
     "name": "stderr",
     "output_type": "stream",
     "text": [
      "\r",
      "  4%|▍         | 15/358 [00:24<06:25,  1.12s/it]"
     ]
    },
    {
     "name": "stdout",
     "output_type": "stream",
     "text": [
      "local Optima\n",
      "y_mean 0.7768515238086304\n",
      "mean_mean 0.7123233126710317\n",
      "abs(round((mean_mean-y_mean)/y_mean)) 0.0\n",
      "local Optima\n",
      "y_mean 2.8223141002395544\n",
      "mean_mean 2.822270052753758\n",
      "abs(round((mean_mean-y_mean)/y_mean)) 0.0\n"
     ]
    },
    {
     "name": "stderr",
     "output_type": "stream",
     "text": [
      "\r",
      "  4%|▍         | 16/358 [00:25<05:57,  1.04s/it]"
     ]
    },
    {
     "name": "stdout",
     "output_type": "stream",
     "text": [
      "local Optima\n",
      "y_mean 2.8223141002395544\n",
      "mean_mean 2.8222700654865696\n",
      "abs(round((mean_mean-y_mean)/y_mean)) 0.0\n",
      "local Optima\n",
      "y_mean 1.1521778986802644\n",
      "mean_mean 1.1642761297287934\n",
      "abs(round((mean_mean-y_mean)/y_mean)) 0.0\n"
     ]
    },
    {
     "name": "stderr",
     "output_type": "stream",
     "text": [
      "\r",
      "  5%|▍         | 17/358 [00:26<05:41,  1.00s/it]"
     ]
    },
    {
     "name": "stdout",
     "output_type": "stream",
     "text": [
      "local Optima\n",
      "y_mean 1.1521778986802644\n",
      "mean_mean 1.120747976929681\n",
      "abs(round((mean_mean-y_mean)/y_mean)) 0.0\n",
      "local Optima\n",
      "y_mean 3.0596619679276573\n",
      "mean_mean 3.0596385809177895\n",
      "abs(round((mean_mean-y_mean)/y_mean)) 0.0\n"
     ]
    },
    {
     "name": "stderr",
     "output_type": "stream",
     "text": [
      "\r",
      "  5%|▌         | 18/358 [00:27<05:34,  1.02it/s]"
     ]
    },
    {
     "name": "stdout",
     "output_type": "stream",
     "text": [
      "local Optima\n",
      "y_mean 3.0596619679276573\n",
      "mean_mean 3.059638581462277\n",
      "abs(round((mean_mean-y_mean)/y_mean)) 0.0\n",
      "local Optima\n",
      "y_mean 1.1475948602957746\n",
      "mean_mean 1.0169666986215988\n",
      "abs(round((mean_mean-y_mean)/y_mean)) 0.0\n"
     ]
    },
    {
     "name": "stderr",
     "output_type": "stream",
     "text": [
      "\r",
      "  5%|▌         | 19/358 [00:28<05:24,  1.05it/s]"
     ]
    },
    {
     "name": "stdout",
     "output_type": "stream",
     "text": [
      "local Optima\n",
      "y_mean 1.1475948602957746\n",
      "mean_mean 1.0833247027513746\n",
      "abs(round((mean_mean-y_mean)/y_mean)) 0.0\n",
      "local Optima\n",
      "y_mean 3.9587364137723022\n",
      "mean_mean 3.9653077828210708\n",
      "abs(round((mean_mean-y_mean)/y_mean)) 0.0\n"
     ]
    },
    {
     "name": "stderr",
     "output_type": "stream",
     "text": [
      "\r",
      "  6%|▌         | 20/358 [00:29<05:19,  1.06it/s]"
     ]
    },
    {
     "name": "stdout",
     "output_type": "stream",
     "text": [
      "local Optima\n",
      "y_mean 3.9587364137723022\n",
      "mean_mean 3.9586737564303305\n",
      "abs(round((mean_mean-y_mean)/y_mean)) 0.0\n",
      "local Optima\n",
      "y_mean 1.4213026172745407\n",
      "mean_mean 1.4185957058939673\n",
      "abs(round((mean_mean-y_mean)/y_mean)) 0.0\n"
     ]
    },
    {
     "name": "stderr",
     "output_type": "stream",
     "text": [
      "\r",
      "  6%|▌         | 21/358 [00:30<05:06,  1.10it/s]"
     ]
    },
    {
     "name": "stdout",
     "output_type": "stream",
     "text": [
      "local Optima\n",
      "y_mean 1.4213026172745407\n",
      "mean_mean 1.3896701629903918\n",
      "abs(round((mean_mean-y_mean)/y_mean)) 0.0\n",
      "local Optima\n",
      "y_mean 3.781639230415842\n",
      "mean_mean 3.7888169937776257\n",
      "abs(round((mean_mean-y_mean)/y_mean)) 0.0\n"
     ]
    },
    {
     "name": "stderr",
     "output_type": "stream",
     "text": [
      "\r",
      "  6%|▌         | 22/358 [00:31<05:01,  1.12it/s]"
     ]
    },
    {
     "name": "stdout",
     "output_type": "stream",
     "text": [
      "local Optima\n",
      "y_mean 3.781639230415842\n",
      "mean_mean 3.781599044288236\n",
      "abs(round((mean_mean-y_mean)/y_mean)) 0.0\n",
      "local Optima\n",
      "y_mean 2.621337483720703\n",
      "mean_mean 2.5563962456573677\n",
      "abs(round((mean_mean-y_mean)/y_mean)) 0.0\n"
     ]
    },
    {
     "name": "stderr",
     "output_type": "stream",
     "text": [
      "\r",
      "  6%|▋         | 23/358 [00:31<04:50,  1.15it/s]"
     ]
    },
    {
     "name": "stdout",
     "output_type": "stream",
     "text": [
      "local Optima\n",
      "y_mean 2.621337483720703\n",
      "mean_mean 2.5697905675335444\n",
      "abs(round((mean_mean-y_mean)/y_mean)) 0.0\n",
      "local Optima\n",
      "y_mean 3.950514247086606\n",
      "mean_mean 3.95051071666628\n",
      "abs(round((mean_mean-y_mean)/y_mean)) 0.0\n"
     ]
    },
    {
     "name": "stderr",
     "output_type": "stream",
     "text": [
      "\r",
      "  7%|▋         | 24/358 [00:32<04:55,  1.13it/s]"
     ]
    },
    {
     "name": "stdout",
     "output_type": "stream",
     "text": [
      "local Optima\n",
      "y_mean 3.950514247086606\n",
      "mean_mean 3.9504926670131364\n",
      "abs(round((mean_mean-y_mean)/y_mean)) 0.0\n",
      "local Optima\n",
      "y_mean 0.7053592758013135\n",
      "mean_mean 0.6271131124522874\n",
      "abs(round((mean_mean-y_mean)/y_mean)) 0.0\n"
     ]
    },
    {
     "name": "stderr",
     "output_type": "stream",
     "text": [
      "\r",
      "  7%|▋         | 25/358 [00:33<04:53,  1.14it/s]"
     ]
    },
    {
     "name": "stdout",
     "output_type": "stream",
     "text": [
      "local Optima\n",
      "y_mean 0.7053592758013135\n",
      "mean_mean 0.6270983532307869\n",
      "abs(round((mean_mean-y_mean)/y_mean)) 0.0\n",
      "local Optima\n",
      "y_mean 4.190921621478265\n",
      "mean_mean 4.190863845707299\n",
      "abs(round((mean_mean-y_mean)/y_mean)) 0.0\n"
     ]
    },
    {
     "name": "stderr",
     "output_type": "stream",
     "text": [
      "\r",
      "  7%|▋         | 26/358 [00:34<04:53,  1.13it/s]"
     ]
    },
    {
     "name": "stdout",
     "output_type": "stream",
     "text": [
      "local Optima\n",
      "y_mean 4.190921621478265\n",
      "mean_mean 4.190863845216085\n",
      "abs(round((mean_mean-y_mean)/y_mean)) 0.0\n",
      "local Optima\n",
      "y_mean 1.2182318966420747\n",
      "mean_mean 0.967517495565011\n",
      "abs(round((mean_mean-y_mean)/y_mean)) 0.0\n"
     ]
    },
    {
     "name": "stderr",
     "output_type": "stream",
     "text": [
      "\r",
      "  8%|▊         | 27/358 [00:35<04:53,  1.13it/s]"
     ]
    },
    {
     "name": "stdout",
     "output_type": "stream",
     "text": [
      "local Optima\n",
      "y_mean 1.2182318966420747\n",
      "mean_mean 1.129418589499281\n",
      "abs(round((mean_mean-y_mean)/y_mean)) 0.0\n",
      "local Optima\n",
      "y_mean 4.628465715825956\n",
      "mean_mean 4.628443950422252\n",
      "abs(round((mean_mean-y_mean)/y_mean)) 0.0\n"
     ]
    },
    {
     "name": "stderr",
     "output_type": "stream",
     "text": [
      "\r",
      "  8%|▊         | 28/358 [00:36<04:54,  1.12it/s]"
     ]
    },
    {
     "name": "stdout",
     "output_type": "stream",
     "text": [
      "local Optima\n",
      "y_mean 4.628465715825956\n",
      "mean_mean 4.62844395122205\n",
      "abs(round((mean_mean-y_mean)/y_mean)) 0.0\n",
      "local Optima\n",
      "y_mean 1.9796080289987503\n",
      "mean_mean 1.951441923799\n",
      "abs(round((mean_mean-y_mean)/y_mean)) 0.0\n"
     ]
    },
    {
     "name": "stderr",
     "output_type": "stream",
     "text": [
      "\r",
      "  8%|▊         | 29/358 [00:37<04:51,  1.13it/s]"
     ]
    },
    {
     "name": "stdout",
     "output_type": "stream",
     "text": [
      "local Optima\n",
      "y_mean 1.9796080289987503\n",
      "mean_mean 1.928929827498039\n",
      "abs(round((mean_mean-y_mean)/y_mean)) 0.0\n",
      "Fit Cholesky decomposition was not successful.\n",
      "Fit Cholesky decomposition was not successful.\n",
      "local Optima\n",
      "y_mean 4.646394753038309\n",
      "mean_mean 4.646376109815526\n",
      "abs(round((mean_mean-y_mean)/y_mean)) 0.0\n",
      "local Optima\n",
      "y_mean 4.646394753038309\n",
      "mean_mean 4.646376109815526\n",
      "abs(round((mean_mean-y_mean)/y_mean)) 0.0\n",
      "local Optima\n",
      "y_mean 4.646394753038309\n",
      "mean_mean 4.646376109815526\n",
      "abs(round((mean_mean-y_mean)/y_mean)) 0.0\n"
     ]
    },
    {
     "name": "stderr",
     "output_type": "stream",
     "text": [
      "\r",
      "  8%|▊         | 30/358 [00:39<06:29,  1.19s/it]"
     ]
    },
    {
     "name": "stdout",
     "output_type": "stream",
     "text": [
      "local Optima\n",
      "y_mean 4.646394753038309\n",
      "mean_mean 4.646377944564314\n",
      "abs(round((mean_mean-y_mean)/y_mean)) 0.0\n",
      "local Optima\n",
      "y_mean 0.7322992621029883\n",
      "mean_mean 0.6701551170441404\n",
      "abs(round((mean_mean-y_mean)/y_mean)) 0.0\n"
     ]
    },
    {
     "name": "stderr",
     "output_type": "stream",
     "text": [
      "\r",
      "  9%|▊         | 31/358 [00:40<05:57,  1.09s/it]"
     ]
    },
    {
     "name": "stdout",
     "output_type": "stream",
     "text": [
      "local Optima\n",
      "y_mean 0.7322992621029883\n",
      "mean_mean 0.6666803311150014\n",
      "abs(round((mean_mean-y_mean)/y_mean)) 0.0\n",
      "local Optima\n",
      "y_mean 2.848679786817772\n",
      "mean_mean 2.848514863763769\n",
      "abs(round((mean_mean-y_mean)/y_mean)) 0.0\n"
     ]
    },
    {
     "name": "stderr",
     "output_type": "stream",
     "text": [
      "\r",
      "  9%|▉         | 32/358 [00:41<05:47,  1.07s/it]"
     ]
    },
    {
     "name": "stdout",
     "output_type": "stream",
     "text": [
      "local Optima\n",
      "y_mean 2.848679786817772\n",
      "mean_mean 2.84851484961008\n",
      "abs(round((mean_mean-y_mean)/y_mean)) 0.0\n",
      "local Optima\n",
      "y_mean 1.1679048757514172\n",
      "mean_mean 1.2537460226861703\n",
      "abs(round((mean_mean-y_mean)/y_mean)) 0.0\n"
     ]
    },
    {
     "name": "stderr",
     "output_type": "stream",
     "text": [
      "\r",
      "  9%|▉         | 33/358 [00:42<06:01,  1.11s/it]"
     ]
    },
    {
     "name": "stdout",
     "output_type": "stream",
     "text": [
      "local Optima\n",
      "y_mean 1.1679048757514172\n",
      "mean_mean 1.13039891319997\n",
      "abs(round((mean_mean-y_mean)/y_mean)) 0.0\n",
      "local Optima\n",
      "y_mean 3.133284137377763\n",
      "mean_mean 3.1332123122005675\n",
      "abs(round((mean_mean-y_mean)/y_mean)) 0.0\n"
     ]
    },
    {
     "name": "stderr",
     "output_type": "stream",
     "text": [
      "\r",
      "  9%|▉         | 34/358 [00:43<05:51,  1.09s/it]"
     ]
    },
    {
     "name": "stdout",
     "output_type": "stream",
     "text": [
      "local Optima\n",
      "y_mean 3.133284137377763\n",
      "mean_mean 3.133198935052744\n",
      "abs(round((mean_mean-y_mean)/y_mean)) 0.0\n",
      "local Optima\n",
      "y_mean 1.5402126549611899\n",
      "mean_mean 1.4549867529650535\n",
      "abs(round((mean_mean-y_mean)/y_mean)) 0.0\n"
     ]
    },
    {
     "name": "stderr",
     "output_type": "stream",
     "text": [
      "\r",
      " 10%|▉         | 35/358 [00:44<05:47,  1.07s/it]"
     ]
    },
    {
     "name": "stdout",
     "output_type": "stream",
     "text": [
      "local Optima\n",
      "y_mean 1.5402126549611899\n",
      "mean_mean 1.5064048517709612\n",
      "abs(round((mean_mean-y_mean)/y_mean)) 0.0\n",
      "local Optima\n",
      "y_mean 3.9862315368506973\n",
      "mean_mean 3.986181299370238\n",
      "abs(round((mean_mean-y_mean)/y_mean)) 0.0\n"
     ]
    },
    {
     "name": "stderr",
     "output_type": "stream",
     "text": [
      "\r",
      " 10%|█         | 36/358 [00:45<06:12,  1.16s/it]"
     ]
    },
    {
     "name": "stdout",
     "output_type": "stream",
     "text": [
      "local Optima\n",
      "y_mean 3.9862315368506973\n",
      "mean_mean 3.9861812722817582\n",
      "abs(round((mean_mean-y_mean)/y_mean)) 0.0\n",
      "local Optima\n",
      "y_mean 0.7575492311424201\n",
      "mean_mean 0.2869138449922817\n",
      "abs(round((mean_mean-y_mean)/y_mean)) 1.0\n",
      "local Optima\n",
      "1\n",
      "y_mean 0.7575492311424201\n",
      "mean_mean 0.2869138449922817\n",
      "abs(round((mean_mean-y_mean)/y_mean)) 1.0\n",
      "local Optima\n",
      "y_mean 0.7575492311424201\n",
      "mean_mean 0.3299218065402226\n",
      "abs(round((mean_mean-y_mean)/y_mean)) 1.0\n",
      "local Optima\n",
      "1\n",
      "y_mean 0.7575492311424201\n",
      "mean_mean 0.3299218065402226\n",
      "abs(round((mean_mean-y_mean)/y_mean)) 1.0\n",
      "local Optima\n",
      "y_mean 0.7575492311424201\n",
      "mean_mean 0.6969047633849437\n",
      "abs(round((mean_mean-y_mean)/y_mean)) 0.0\n"
     ]
    },
    {
     "name": "stderr",
     "output_type": "stream",
     "text": [
      "\r",
      " 10%|█         | 37/358 [00:47<07:38,  1.43s/it]"
     ]
    },
    {
     "name": "stdout",
     "output_type": "stream",
     "text": [
      "local Optima\n",
      "y_mean 0.7575492311424201\n",
      "mean_mean 0.6955902836224135\n",
      "abs(round((mean_mean-y_mean)/y_mean)) 0.0\n",
      "local Optima\n",
      "y_mean 3.542328868771032\n",
      "mean_mean 3.542268497963406\n",
      "abs(round((mean_mean-y_mean)/y_mean)) 0.0\n"
     ]
    },
    {
     "name": "stderr",
     "output_type": "stream",
     "text": [
      "\r",
      " 11%|█         | 38/358 [00:49<07:25,  1.39s/it]"
     ]
    },
    {
     "name": "stdout",
     "output_type": "stream",
     "text": [
      "local Optima\n",
      "y_mean 3.542328868771032\n",
      "mean_mean 3.5422685097682205\n",
      "abs(round((mean_mean-y_mean)/y_mean)) 0.0\n",
      "local Optima\n",
      "y_mean 1.036170551012637\n",
      "mean_mean 1.1878015981640804\n",
      "abs(round((mean_mean-y_mean)/y_mean)) 0.0\n"
     ]
    },
    {
     "name": "stderr",
     "output_type": "stream",
     "text": [
      "\r",
      " 11%|█         | 39/358 [00:50<07:13,  1.36s/it]"
     ]
    },
    {
     "name": "stdout",
     "output_type": "stream",
     "text": [
      "local Optima\n",
      "y_mean 1.036170551012637\n",
      "mean_mean 0.9738443783242071\n",
      "abs(round((mean_mean-y_mean)/y_mean)) 0.0\n",
      "local Optima\n",
      "y_mean 3.599241674941314\n",
      "mean_mean 3.5992056282667004\n",
      "abs(round((mean_mean-y_mean)/y_mean)) 0.0\n"
     ]
    },
    {
     "name": "stderr",
     "output_type": "stream",
     "text": [
      "\r",
      " 11%|█         | 40/358 [00:51<07:21,  1.39s/it]"
     ]
    },
    {
     "name": "stdout",
     "output_type": "stream",
     "text": [
      "local Optima\n",
      "y_mean 3.599241674941314\n",
      "mean_mean 3.5992056252159235\n",
      "abs(round((mean_mean-y_mean)/y_mean)) 0.0\n",
      "local Optima\n",
      "y_mean 1.5904478586781243\n",
      "mean_mean 1.7863679605624667\n",
      "abs(round((mean_mean-y_mean)/y_mean)) 0.0\n"
     ]
    },
    {
     "name": "stderr",
     "output_type": "stream",
     "text": [
      "\r",
      " 11%|█▏        | 41/358 [00:52<06:57,  1.32s/it]"
     ]
    },
    {
     "name": "stdout",
     "output_type": "stream",
     "text": [
      "local Optima\n",
      "y_mean 1.5904478586781243\n",
      "mean_mean 1.5410198188953579\n",
      "abs(round((mean_mean-y_mean)/y_mean)) 0.0\n",
      "local Optima\n",
      "y_mean 4.250186960937311\n",
      "mean_mean 4.250173255992328\n",
      "abs(round((mean_mean-y_mean)/y_mean)) 0.0\n"
     ]
    },
    {
     "name": "stderr",
     "output_type": "stream",
     "text": [
      "\r",
      " 12%|█▏        | 42/358 [00:54<06:32,  1.24s/it]"
     ]
    },
    {
     "name": "stdout",
     "output_type": "stream",
     "text": [
      "local Optima\n",
      "y_mean 4.250186960937311\n",
      "mean_mean 4.250167868771585\n",
      "abs(round((mean_mean-y_mean)/y_mean)) 0.0\n",
      "local Optima\n",
      "y_mean 0.5726306321820733\n",
      "mean_mean 9.31821030863096e-14\n",
      "abs(round((mean_mean-y_mean)/y_mean)) 1.0\n",
      "local Optima\n",
      "1\n",
      "y_mean 0.5726306321820733\n",
      "mean_mean 9.31821030863096e-14\n",
      "abs(round((mean_mean-y_mean)/y_mean)) 1.0\n",
      "local Optima\n",
      "y_mean 0.5726306321820733\n",
      "mean_mean 2.208355548274801e-12\n",
      "abs(round((mean_mean-y_mean)/y_mean)) 1.0\n",
      "local Optima\n",
      "1\n",
      "y_mean 0.5726306321820733\n",
      "mean_mean 2.208355548274801e-12\n",
      "abs(round((mean_mean-y_mean)/y_mean)) 1.0\n",
      "local Optima\n",
      "y_mean 0.5726306321820733\n",
      "mean_mean 1.3378876178531717e-05\n",
      "abs(round((mean_mean-y_mean)/y_mean)) 1.0\n",
      "local Optima\n",
      "1\n",
      "y_mean 0.5726306321820733\n",
      "mean_mean 1.3378876178531717e-05\n",
      "abs(round((mean_mean-y_mean)/y_mean)) 1.0\n",
      "local Optima\n",
      "y_mean 0.5726306321820733\n",
      "mean_mean 0.48801877905817576\n",
      "abs(round((mean_mean-y_mean)/y_mean)) 0.0\n"
     ]
    },
    {
     "name": "stderr",
     "output_type": "stream",
     "text": [
      "\r",
      " 12%|█▏        | 43/358 [00:56<08:28,  1.61s/it]"
     ]
    },
    {
     "name": "stdout",
     "output_type": "stream",
     "text": [
      "local Optima\n",
      "y_mean 0.5726306321820733\n",
      "mean_mean 0.48802052250385947\n",
      "abs(round((mean_mean-y_mean)/y_mean)) 0.0\n",
      "local Optima\n",
      "y_mean 3.3908430514611747\n",
      "mean_mean 3.3907427583521246\n",
      "abs(round((mean_mean-y_mean)/y_mean)) 0.0\n"
     ]
    },
    {
     "name": "stderr",
     "output_type": "stream",
     "text": [
      "\r",
      " 12%|█▏        | 44/358 [00:57<07:19,  1.40s/it]"
     ]
    },
    {
     "name": "stdout",
     "output_type": "stream",
     "text": [
      "local Optima\n",
      "y_mean 3.3908430514611747\n",
      "mean_mean 3.390742739728531\n",
      "abs(round((mean_mean-y_mean)/y_mean)) 0.0\n",
      "local Optima\n",
      "y_mean 1.3721899961401434\n",
      "mean_mean 1.1490330093737455\n",
      "abs(round((mean_mean-y_mean)/y_mean)) 0.0\n"
     ]
    },
    {
     "name": "stderr",
     "output_type": "stream",
     "text": [
      "\r",
      " 13%|█▎        | 45/358 [00:58<06:24,  1.23s/it]"
     ]
    },
    {
     "name": "stdout",
     "output_type": "stream",
     "text": [
      "local Optima\n",
      "y_mean 1.3721899961401434\n",
      "mean_mean 1.298004942832162\n",
      "abs(round((mean_mean-y_mean)/y_mean)) 0.0\n",
      "local Optima\n",
      "y_mean 4.594208017714431\n",
      "mean_mean 4.594170768808522\n",
      "abs(round((mean_mean-y_mean)/y_mean)) 0.0\n"
     ]
    },
    {
     "name": "stderr",
     "output_type": "stream",
     "text": [
      "\r",
      " 13%|█▎        | 46/358 [00:59<05:56,  1.14s/it]"
     ]
    },
    {
     "name": "stdout",
     "output_type": "stream",
     "text": [
      "local Optima\n",
      "y_mean 4.594208017714431\n",
      "mean_mean 4.59415549469479\n",
      "abs(round((mean_mean-y_mean)/y_mean)) 0.0\n",
      "local Optima\n",
      "y_mean 2.235294942144883\n",
      "mean_mean 1.919389533115419\n",
      "abs(round((mean_mean-y_mean)/y_mean)) 0.0\n"
     ]
    },
    {
     "name": "stderr",
     "output_type": "stream",
     "text": [
      "\r",
      " 13%|█▎        | 47/358 [01:00<05:49,  1.12s/it]"
     ]
    },
    {
     "name": "stdout",
     "output_type": "stream",
     "text": [
      "local Optima\n",
      "y_mean 2.235294942144883\n",
      "mean_mean 2.1851568951288987\n",
      "abs(round((mean_mean-y_mean)/y_mean)) 0.0\n",
      "local Optima\n",
      "y_mean 4.596864238376722\n",
      "mean_mean 4.603413651732537\n",
      "abs(round((mean_mean-y_mean)/y_mean)) 0.0\n"
     ]
    },
    {
     "name": "stderr",
     "output_type": "stream",
     "text": [
      "\r",
      " 13%|█▎        | 48/358 [01:01<05:24,  1.05s/it]"
     ]
    },
    {
     "name": "stdout",
     "output_type": "stream",
     "text": [
      "local Optima\n",
      "y_mean 4.596864238376722\n",
      "mean_mean 4.5968368899856475\n",
      "abs(round((mean_mean-y_mean)/y_mean)) 0.0\n",
      "local Optima\n",
      "y_mean 0.876249228671297\n",
      "mean_mean 0.9319877644573034\n",
      "abs(round((mean_mean-y_mean)/y_mean)) 0.0\n"
     ]
    },
    {
     "name": "stderr",
     "output_type": "stream",
     "text": [
      "\r",
      " 14%|█▎        | 49/358 [01:01<05:03,  1.02it/s]"
     ]
    },
    {
     "name": "stdout",
     "output_type": "stream",
     "text": [
      "local Optima\n",
      "y_mean 0.876249228671297\n",
      "mean_mean 0.8405190446887029\n",
      "abs(round((mean_mean-y_mean)/y_mean)) 0.0\n",
      "Fit Cholesky decomposition was not successful.\n",
      "Fit Cholesky decomposition was not successful.\n",
      "local Optima\n",
      "y_mean 2.4062539660780247\n",
      "mean_mean 2.40617251305142\n",
      "abs(round((mean_mean-y_mean)/y_mean)) 0.0\n",
      "local Optima\n",
      "y_mean 2.4062539660780247\n",
      "mean_mean 2.40617251305142\n",
      "abs(round((mean_mean-y_mean)/y_mean)) 0.0\n",
      "local Optima\n",
      "y_mean 2.4062539660780247\n",
      "mean_mean 2.40617251305142\n",
      "abs(round((mean_mean-y_mean)/y_mean)) 0.0\n"
     ]
    },
    {
     "name": "stderr",
     "output_type": "stream",
     "text": [
      "\r",
      " 14%|█▍        | 50/358 [01:03<06:31,  1.27s/it]"
     ]
    },
    {
     "name": "stdout",
     "output_type": "stream",
     "text": [
      "local Optima\n",
      "y_mean 2.4062539660780247\n",
      "mean_mean 2.406172532974624\n",
      "abs(round((mean_mean-y_mean)/y_mean)) 0.0\n",
      "local Optima\n",
      "y_mean 1.080349563318666\n",
      "mean_mean 0.887199337161393\n",
      "abs(round((mean_mean-y_mean)/y_mean)) 0.0\n"
     ]
    },
    {
     "name": "stderr",
     "output_type": "stream",
     "text": [
      "\r",
      " 14%|█▍        | 51/358 [01:04<06:03,  1.18s/it]"
     ]
    },
    {
     "name": "stdout",
     "output_type": "stream",
     "text": [
      "local Optima\n",
      "y_mean 1.080349563318666\n",
      "mean_mean 1.0156940421080944\n",
      "abs(round((mean_mean-y_mean)/y_mean)) 0.0\n",
      "local Optima\n",
      "y_mean 4.34476911742179\n",
      "mean_mean 4.344704153733129\n",
      "abs(round((mean_mean-y_mean)/y_mean)) 0.0\n"
     ]
    },
    {
     "name": "stderr",
     "output_type": "stream",
     "text": [
      "\r",
      " 15%|█▍        | 52/358 [01:05<05:26,  1.07s/it]"
     ]
    },
    {
     "name": "stdout",
     "output_type": "stream",
     "text": [
      "local Optima\n",
      "y_mean 4.34476911742179\n",
      "mean_mean 4.344677696033956\n",
      "abs(round((mean_mean-y_mean)/y_mean)) 0.0\n",
      "local Optima\n",
      "y_mean 1.8699132717994138\n",
      "mean_mean 1.9833837190492516\n",
      "abs(round((mean_mean-y_mean)/y_mean)) 0.0\n"
     ]
    },
    {
     "name": "stderr",
     "output_type": "stream",
     "text": [
      "\r",
      " 15%|█▍        | 53/358 [01:06<05:02,  1.01it/s]"
     ]
    },
    {
     "name": "stdout",
     "output_type": "stream",
     "text": [
      "local Optima\n",
      "y_mean 1.8699132717994138\n",
      "mean_mean 1.8069828864469606\n",
      "abs(round((mean_mean-y_mean)/y_mean)) 0.0\n",
      "local Optima\n",
      "y_mean 4.5063820556307945\n",
      "mean_mean 4.506368404887759\n",
      "abs(round((mean_mean-y_mean)/y_mean)) 0.0\n"
     ]
    },
    {
     "name": "stderr",
     "output_type": "stream",
     "text": [
      "\r",
      " 15%|█▌        | 54/358 [01:07<04:49,  1.05it/s]"
     ]
    },
    {
     "name": "stdout",
     "output_type": "stream",
     "text": [
      "local Optima\n",
      "y_mean 4.5063820556307945\n",
      "mean_mean 4.506345178748245\n",
      "abs(round((mean_mean-y_mean)/y_mean)) 0.0\n",
      "local Optima\n",
      "y_mean 1.3825721056315747\n",
      "mean_mean 1.1392723822392952\n",
      "abs(round((mean_mean-y_mean)/y_mean)) 0.0\n"
     ]
    },
    {
     "name": "stderr",
     "output_type": "stream",
     "text": [
      "\r",
      " 15%|█▌        | 55/358 [01:08<04:36,  1.10it/s]"
     ]
    },
    {
     "name": "stdout",
     "output_type": "stream",
     "text": [
      "local Optima\n",
      "y_mean 1.3825721056315747\n",
      "mean_mean 1.261265088974961\n",
      "abs(round((mean_mean-y_mean)/y_mean)) 0.0\n",
      "Fit Cholesky decomposition was not successful.\n",
      "Fit Cholesky decomposition was not successful.\n",
      "Fit Cholesky decomposition was not successful.\n",
      "local Optima\n",
      "y_mean 5.116105230720791\n",
      "mean_mean 5.1160616851815535\n",
      "abs(round((mean_mean-y_mean)/y_mean)) 0.0\n",
      "local Optima\n",
      "y_mean 5.116105230720791\n",
      "mean_mean 5.1160616851815535\n",
      "abs(round((mean_mean-y_mean)/y_mean)) 0.0\n",
      "local Optima\n",
      "y_mean 5.116105230720791\n",
      "mean_mean 5.1160616851815535\n",
      "abs(round((mean_mean-y_mean)/y_mean)) 0.0\n",
      "local Optima\n",
      "y_mean 5.116105230720791\n",
      "mean_mean 5.1160616851815535\n",
      "abs(round((mean_mean-y_mean)/y_mean)) 0.0\n"
     ]
    },
    {
     "name": "stderr",
     "output_type": "stream",
     "text": [
      "\r",
      " 16%|█▌        | 56/358 [01:10<06:43,  1.34s/it]"
     ]
    },
    {
     "name": "stdout",
     "output_type": "stream",
     "text": [
      "local Optima\n",
      "y_mean 5.116105230720791\n",
      "mean_mean 5.11606168751063\n",
      "abs(round((mean_mean-y_mean)/y_mean)) 0.0\n",
      "local Optima\n",
      "y_mean 1.3450745081496827\n",
      "mean_mean 1.1668396379160395\n",
      "abs(round((mean_mean-y_mean)/y_mean)) 0.0\n"
     ]
    },
    {
     "name": "stderr",
     "output_type": "stream",
     "text": [
      "\r",
      " 16%|█▌        | 57/358 [01:11<05:59,  1.20s/it]"
     ]
    },
    {
     "name": "stdout",
     "output_type": "stream",
     "text": [
      "local Optima\n",
      "y_mean 1.3450745081496827\n",
      "mean_mean 1.2517245291958634\n",
      "abs(round((mean_mean-y_mean)/y_mean)) 0.0\n",
      "local Optima\n",
      "y_mean 4.74629940926693\n",
      "mean_mean 4.746273430205284\n",
      "abs(round((mean_mean-y_mean)/y_mean)) 0.0\n"
     ]
    },
    {
     "name": "stderr",
     "output_type": "stream",
     "text": [
      "\r",
      " 16%|█▌        | 58/358 [01:12<05:28,  1.09s/it]"
     ]
    },
    {
     "name": "stdout",
     "output_type": "stream",
     "text": [
      "local Optima\n",
      "y_mean 4.74629940926693\n",
      "mean_mean 4.746273426450215\n",
      "abs(round((mean_mean-y_mean)/y_mean)) 0.0\n",
      "local Optima\n",
      "y_mean 2.741342377628732\n",
      "mean_mean 2.5162196453235612\n",
      "abs(round((mean_mean-y_mean)/y_mean)) 0.0\n"
     ]
    },
    {
     "name": "stderr",
     "output_type": "stream",
     "text": [
      "\r",
      " 16%|█▋        | 59/358 [01:13<05:03,  1.01s/it]"
     ]
    },
    {
     "name": "stdout",
     "output_type": "stream",
     "text": [
      "local Optima\n",
      "y_mean 2.741342377628732\n",
      "mean_mean 2.6931621741106695\n",
      "abs(round((mean_mean-y_mean)/y_mean)) 0.0\n",
      "Fit Cholesky decomposition was not successful.\n",
      "local Optima\n",
      "y_mean 4.71940566346849\n",
      "mean_mean 4.719391242489443\n",
      "abs(round((mean_mean-y_mean)/y_mean)) 0.0\n",
      "local Optima\n",
      "y_mean 4.71940566346849\n",
      "mean_mean 4.719391242489443\n",
      "abs(round((mean_mean-y_mean)/y_mean)) 0.0\n"
     ]
    },
    {
     "name": "stderr",
     "output_type": "stream",
     "text": [
      "\r",
      " 17%|█▋        | 60/358 [01:14<05:48,  1.17s/it]"
     ]
    },
    {
     "name": "stdout",
     "output_type": "stream",
     "text": [
      "local Optima\n",
      "y_mean 4.71940566346849\n",
      "mean_mean 4.719391241024674\n",
      "abs(round((mean_mean-y_mean)/y_mean)) 0.0\n",
      "local Optima\n",
      "y_mean 0.8777009663996442\n",
      "mean_mean 0.8357425961411391\n",
      "abs(round((mean_mean-y_mean)/y_mean)) 0.0\n"
     ]
    },
    {
     "name": "stderr",
     "output_type": "stream",
     "text": [
      "\r",
      " 17%|█▋        | 61/358 [01:15<05:38,  1.14s/it]"
     ]
    },
    {
     "name": "stdout",
     "output_type": "stream",
     "text": [
      "local Optima\n",
      "y_mean 0.8777009663996442\n",
      "mean_mean 0.7958737186519146\n",
      "abs(round((mean_mean-y_mean)/y_mean)) 0.0\n",
      "local Optima\n",
      "y_mean 4.1322538035824685\n",
      "mean_mean 4.132221376583733\n",
      "abs(round((mean_mean-y_mean)/y_mean)) 0.0\n"
     ]
    },
    {
     "name": "stderr",
     "output_type": "stream",
     "text": [
      "\r",
      " 17%|█▋        | 62/358 [01:16<05:10,  1.05s/it]"
     ]
    },
    {
     "name": "stdout",
     "output_type": "stream",
     "text": [
      "local Optima\n",
      "y_mean 4.1322538035824685\n",
      "mean_mean 4.132221268245714\n",
      "abs(round((mean_mean-y_mean)/y_mean)) 0.0\n",
      "local Optima\n",
      "y_mean 1.0394394676805778\n",
      "mean_mean 1.0144699874406096\n",
      "abs(round((mean_mean-y_mean)/y_mean)) 0.0\n"
     ]
    },
    {
     "name": "stderr",
     "output_type": "stream",
     "text": [
      "\r",
      " 18%|█▊        | 63/358 [01:17<04:51,  1.01it/s]"
     ]
    },
    {
     "name": "stdout",
     "output_type": "stream",
     "text": [
      "local Optima\n",
      "y_mean 1.0394394676805778\n",
      "mean_mean 0.9836962674527314\n",
      "abs(round((mean_mean-y_mean)/y_mean)) 0.0\n",
      "local Optima\n",
      "y_mean 3.7275072020920694\n",
      "mean_mean 3.7274889653333974\n",
      "abs(round((mean_mean-y_mean)/y_mean)) 0.0\n"
     ]
    },
    {
     "name": "stderr",
     "output_type": "stream",
     "text": [
      "\r",
      " 18%|█▊        | 64/358 [01:18<05:10,  1.06s/it]"
     ]
    },
    {
     "name": "stdout",
     "output_type": "stream",
     "text": [
      "local Optima\n",
      "y_mean 3.7275072020920694\n",
      "mean_mean 3.7274802140572745\n",
      "abs(round((mean_mean-y_mean)/y_mean)) 0.0\n",
      "local Optima\n",
      "y_mean 2.6350638060607037\n",
      "mean_mean 2.754289968413251\n",
      "abs(round((mean_mean-y_mean)/y_mean)) 0.0\n"
     ]
    },
    {
     "name": "stderr",
     "output_type": "stream",
     "text": [
      "\r",
      " 18%|█▊        | 65/358 [01:19<05:07,  1.05s/it]"
     ]
    },
    {
     "name": "stdout",
     "output_type": "stream",
     "text": [
      "local Optima\n",
      "y_mean 2.6350638060607037\n",
      "mean_mean 2.6058882110877626\n",
      "abs(round((mean_mean-y_mean)/y_mean)) 0.0\n",
      "local Optima\n",
      "y_mean 3.7986756746531865\n",
      "mean_mean 3.7986586547665255\n",
      "abs(round((mean_mean-y_mean)/y_mean)) 0.0\n"
     ]
    },
    {
     "name": "stderr",
     "output_type": "stream",
     "text": [
      "\r",
      " 18%|█▊        | 66/358 [01:20<04:45,  1.02it/s]"
     ]
    },
    {
     "name": "stdout",
     "output_type": "stream",
     "text": [
      "local Optima\n",
      "y_mean 3.7986756746531865\n",
      "mean_mean 3.7986588427177166\n",
      "abs(round((mean_mean-y_mean)/y_mean)) 0.0\n",
      "local Optima\n",
      "y_mean 0.669248173056664\n",
      "mean_mean 0.4776985633812794\n",
      "abs(round((mean_mean-y_mean)/y_mean)) 0.0\n"
     ]
    },
    {
     "name": "stderr",
     "output_type": "stream",
     "text": [
      "\r",
      " 19%|█▊        | 67/358 [01:21<04:25,  1.10it/s]"
     ]
    },
    {
     "name": "stdout",
     "output_type": "stream",
     "text": [
      "local Optima\n",
      "y_mean 0.669248173056664\n",
      "mean_mean 0.5850415493859726\n",
      "abs(round((mean_mean-y_mean)/y_mean)) 0.0\n",
      "Fit Cholesky decomposition was not successful.\n",
      "local Optima\n",
      "y_mean 3.9390540959639018\n",
      "mean_mean 3.9390108846653424\n",
      "abs(round((mean_mean-y_mean)/y_mean)) 0.0\n",
      "local Optima\n",
      "y_mean 3.9390540959639018\n",
      "mean_mean 3.9390108846653424\n",
      "abs(round((mean_mean-y_mean)/y_mean)) 0.0\n"
     ]
    },
    {
     "name": "stderr",
     "output_type": "stream",
     "text": [
      "\r",
      " 19%|█▉        | 68/358 [01:22<05:02,  1.04s/it]"
     ]
    },
    {
     "name": "stdout",
     "output_type": "stream",
     "text": [
      "local Optima\n",
      "y_mean 3.9390540959639018\n",
      "mean_mean 3.9390108865404976\n",
      "abs(round((mean_mean-y_mean)/y_mean)) 0.0\n",
      "local Optima\n",
      "y_mean 1.3608002374049877\n",
      "mean_mean 1.1898202221056793\n",
      "abs(round((mean_mean-y_mean)/y_mean)) 0.0\n"
     ]
    },
    {
     "name": "stderr",
     "output_type": "stream",
     "text": [
      "\r",
      " 19%|█▉        | 69/358 [01:23<04:36,  1.05it/s]"
     ]
    },
    {
     "name": "stdout",
     "output_type": "stream",
     "text": [
      "local Optima\n",
      "y_mean 1.3608002374049877\n",
      "mean_mean 1.2840834773973544\n",
      "abs(round((mean_mean-y_mean)/y_mean)) 0.0\n",
      "local Optima\n",
      "y_mean 4.395486035283612\n",
      "mean_mean 4.395459000621162\n",
      "abs(round((mean_mean-y_mean)/y_mean)) 0.0\n"
     ]
    },
    {
     "name": "stderr",
     "output_type": "stream",
     "text": [
      "\r",
      " 20%|█▉        | 70/358 [01:24<04:24,  1.09it/s]"
     ]
    },
    {
     "name": "stdout",
     "output_type": "stream",
     "text": [
      "local Optima\n",
      "y_mean 4.395486035283612\n",
      "mean_mean 4.395459135147801\n",
      "abs(round((mean_mean-y_mean)/y_mean)) 0.0\n",
      "local Optima\n",
      "y_mean 2.2080724048680205\n",
      "mean_mean 2.1747434072090708\n",
      "abs(round((mean_mean-y_mean)/y_mean)) 0.0\n"
     ]
    },
    {
     "name": "stderr",
     "output_type": "stream",
     "text": [
      "\r",
      " 20%|█▉        | 71/358 [01:24<04:14,  1.13it/s]"
     ]
    },
    {
     "name": "stdout",
     "output_type": "stream",
     "text": [
      "local Optima\n",
      "y_mean 2.2080724048680205\n",
      "mean_mean 2.1885138894267366\n",
      "abs(round((mean_mean-y_mean)/y_mean)) 0.0\n",
      "local Optima\n",
      "y_mean 4.382035412919329\n",
      "mean_mean 4.382019447471744\n",
      "abs(round((mean_mean-y_mean)/y_mean)) 0.0\n"
     ]
    },
    {
     "name": "stderr",
     "output_type": "stream",
     "text": [
      "\r",
      " 20%|██        | 72/358 [01:25<04:04,  1.17it/s]"
     ]
    },
    {
     "name": "stdout",
     "output_type": "stream",
     "text": [
      "local Optima\n",
      "y_mean 4.382035412919329\n",
      "mean_mean 4.3820171663824885\n",
      "abs(round((mean_mean-y_mean)/y_mean)) 0.0\n",
      "local Optima\n",
      "y_mean 1.2180420219470376\n",
      "mean_mean 1.1407334828787412\n",
      "abs(round((mean_mean-y_mean)/y_mean)) 0.0\n"
     ]
    },
    {
     "name": "stderr",
     "output_type": "stream",
     "text": [
      "\r",
      " 20%|██        | 73/358 [01:26<03:53,  1.22it/s]"
     ]
    },
    {
     "name": "stdout",
     "output_type": "stream",
     "text": [
      "local Optima\n",
      "y_mean 1.2180420219470376\n",
      "mean_mean 1.1533280559366563\n",
      "abs(round((mean_mean-y_mean)/y_mean)) 0.0\n",
      "local Optima\n",
      "y_mean 3.9083571696891104\n",
      "mean_mean 3.9083253962532307\n",
      "abs(round((mean_mean-y_mean)/y_mean)) 0.0\n"
     ]
    },
    {
     "name": "stderr",
     "output_type": "stream",
     "text": [
      "\r",
      " 21%|██        | 74/358 [01:27<03:45,  1.26it/s]"
     ]
    },
    {
     "name": "stdout",
     "output_type": "stream",
     "text": [
      "local Optima\n",
      "y_mean 3.9083571696891104\n",
      "mean_mean 3.9082808263538187\n",
      "abs(round((mean_mean-y_mean)/y_mean)) 0.0\n",
      "local Optima\n",
      "y_mean 1.3115443933242377\n",
      "mean_mean 1.2436434296819976\n",
      "abs(round((mean_mean-y_mean)/y_mean)) 0.0\n"
     ]
    },
    {
     "name": "stderr",
     "output_type": "stream",
     "text": [
      "\r",
      " 21%|██        | 75/358 [01:27<03:42,  1.27it/s]"
     ]
    },
    {
     "name": "stdout",
     "output_type": "stream",
     "text": [
      "local Optima\n",
      "y_mean 1.3115443933242377\n",
      "mean_mean 1.243646422271615\n",
      "abs(round((mean_mean-y_mean)/y_mean)) 0.0\n",
      "local Optima\n",
      "y_mean 4.23859414922915\n",
      "mean_mean 4.238562483612352\n",
      "abs(round((mean_mean-y_mean)/y_mean)) 0.0\n"
     ]
    },
    {
     "name": "stderr",
     "output_type": "stream",
     "text": [
      "\r",
      " 21%|██        | 76/358 [01:28<03:41,  1.28it/s]"
     ]
    },
    {
     "name": "stdout",
     "output_type": "stream",
     "text": [
      "local Optima\n",
      "y_mean 4.23859414922915\n",
      "mean_mean 4.238562362930354\n",
      "abs(round((mean_mean-y_mean)/y_mean)) 0.0\n",
      "local Optima\n",
      "y_mean 1.3413740562255423\n",
      "mean_mean 1.3325394250157938\n",
      "abs(round((mean_mean-y_mean)/y_mean)) 0.0\n"
     ]
    },
    {
     "name": "stderr",
     "output_type": "stream",
     "text": [
      "\r",
      " 22%|██▏       | 77/358 [01:29<03:37,  1.29it/s]"
     ]
    },
    {
     "name": "stdout",
     "output_type": "stream",
     "text": [
      "local Optima\n",
      "y_mean 1.3413740562255423\n",
      "mean_mean 1.2988356466949773\n",
      "abs(round((mean_mean-y_mean)/y_mean)) 0.0\n",
      "local Optima\n",
      "y_mean 3.9799072986321935\n",
      "mean_mean 3.979883069260398\n",
      "abs(round((mean_mean-y_mean)/y_mean)) 0.0\n"
     ]
    },
    {
     "name": "stderr",
     "output_type": "stream",
     "text": [
      "\r",
      " 22%|██▏       | 78/358 [01:30<03:39,  1.28it/s]"
     ]
    },
    {
     "name": "stdout",
     "output_type": "stream",
     "text": [
      "local Optima\n",
      "y_mean 3.9799072986321935\n",
      "mean_mean 3.9798830704389223\n",
      "abs(round((mean_mean-y_mean)/y_mean)) 0.0\n",
      "local Optima\n",
      "y_mean 0.8561357657886384\n",
      "mean_mean 1.4442475043967246e-06\n",
      "abs(round((mean_mean-y_mean)/y_mean)) 1.0\n",
      "local Optima\n",
      "1\n",
      "y_mean 0.8561357657886384\n",
      "mean_mean 1.4442475043967246e-06\n",
      "abs(round((mean_mean-y_mean)/y_mean)) 1.0\n",
      "local Optima\n",
      "y_mean 0.8561357657886384\n",
      "mean_mean 9.042668758958474e-07\n",
      "abs(round((mean_mean-y_mean)/y_mean)) 1.0\n",
      "local Optima\n",
      "1\n",
      "y_mean 0.8561357657886384\n",
      "mean_mean 9.042668758958474e-07\n",
      "abs(round((mean_mean-y_mean)/y_mean)) 1.0\n",
      "local Optima\n",
      "y_mean 0.8561357657886384\n",
      "mean_mean 0.7085857269698552\n",
      "abs(round((mean_mean-y_mean)/y_mean)) 0.0\n"
     ]
    },
    {
     "name": "stderr",
     "output_type": "stream",
     "text": [
      "\r",
      " 22%|██▏       | 79/358 [01:31<04:49,  1.04s/it]"
     ]
    },
    {
     "name": "stdout",
     "output_type": "stream",
     "text": [
      "local Optima\n",
      "y_mean 0.8561357657886384\n",
      "mean_mean 0.7678518466607573\n",
      "abs(round((mean_mean-y_mean)/y_mean)) 0.0\n",
      "local Optima\n",
      "y_mean 3.6174476954235573\n",
      "mean_mean 3.617368125556867\n",
      "abs(round((mean_mean-y_mean)/y_mean)) 0.0\n"
     ]
    },
    {
     "name": "stderr",
     "output_type": "stream",
     "text": [
      "\r",
      " 22%|██▏       | 80/358 [01:32<04:28,  1.03it/s]"
     ]
    },
    {
     "name": "stdout",
     "output_type": "stream",
     "text": [
      "local Optima\n",
      "y_mean 3.6174476954235573\n",
      "mean_mean 3.617368165855016\n",
      "abs(round((mean_mean-y_mean)/y_mean)) 0.0\n",
      "local Optima\n",
      "y_mean 1.0534550313139592\n",
      "mean_mean 0.944980336934201\n",
      "abs(round((mean_mean-y_mean)/y_mean)) 0.0\n"
     ]
    },
    {
     "name": "stderr",
     "output_type": "stream",
     "text": [
      "\r",
      " 23%|██▎       | 81/358 [01:33<04:14,  1.09it/s]"
     ]
    },
    {
     "name": "stdout",
     "output_type": "stream",
     "text": [
      "local Optima\n",
      "y_mean 1.0534550313139592\n",
      "mean_mean 1.0045224199529268\n",
      "abs(round((mean_mean-y_mean)/y_mean)) 0.0\n",
      "local Optima\n",
      "y_mean 3.8273729129910006\n",
      "mean_mean 3.827341443652821\n",
      "abs(round((mean_mean-y_mean)/y_mean)) 0.0\n"
     ]
    },
    {
     "name": "stderr",
     "output_type": "stream",
     "text": [
      "\r",
      " 23%|██▎       | 82/358 [01:34<04:04,  1.13it/s]"
     ]
    },
    {
     "name": "stdout",
     "output_type": "stream",
     "text": [
      "local Optima\n",
      "y_mean 3.8273729129910006\n",
      "mean_mean 3.8273331889421\n",
      "abs(round((mean_mean-y_mean)/y_mean)) 0.0\n",
      "local Optima\n",
      "y_mean 2.367685919628507\n",
      "mean_mean 2.2472998726950437\n",
      "abs(round((mean_mean-y_mean)/y_mean)) 0.0\n"
     ]
    },
    {
     "name": "stderr",
     "output_type": "stream",
     "text": [
      "\r",
      " 23%|██▎       | 83/358 [01:35<04:08,  1.11it/s]"
     ]
    },
    {
     "name": "stdout",
     "output_type": "stream",
     "text": [
      "local Optima\n",
      "y_mean 2.367685919628507\n",
      "mean_mean 2.3011898758912404\n",
      "abs(round((mean_mean-y_mean)/y_mean)) 0.0\n",
      "local Optima\n",
      "y_mean 4.363092173095877\n",
      "mean_mean 4.363072652958529\n",
      "abs(round((mean_mean-y_mean)/y_mean)) 0.0\n"
     ]
    },
    {
     "name": "stderr",
     "output_type": "stream",
     "text": [
      "\r",
      " 23%|██▎       | 84/358 [01:36<03:58,  1.15it/s]"
     ]
    },
    {
     "name": "stdout",
     "output_type": "stream",
     "text": [
      "local Optima\n",
      "y_mean 4.363092173095877\n",
      "mean_mean 4.363072654040334\n",
      "abs(round((mean_mean-y_mean)/y_mean)) 0.0\n",
      "local Optima\n",
      "y_mean 0.40760760631708987\n",
      "mean_mean 0.34099959227203164\n",
      "abs(round((mean_mean-y_mean)/y_mean)) 0.0\n"
     ]
    },
    {
     "name": "stderr",
     "output_type": "stream",
     "text": [
      "\r",
      " 24%|██▎       | 85/358 [01:36<03:48,  1.19it/s]"
     ]
    },
    {
     "name": "stdout",
     "output_type": "stream",
     "text": [
      "local Optima\n",
      "y_mean 0.40760760631708987\n",
      "mean_mean 0.34101671193381344\n",
      "abs(round((mean_mean-y_mean)/y_mean)) 0.0\n",
      "local Optima\n",
      "y_mean 3.1030454563395375\n",
      "mean_mean 3.1030247039601413\n",
      "abs(round((mean_mean-y_mean)/y_mean)) 0.0\n"
     ]
    },
    {
     "name": "stderr",
     "output_type": "stream",
     "text": [
      "\r",
      " 24%|██▍       | 86/358 [01:37<03:44,  1.21it/s]"
     ]
    },
    {
     "name": "stdout",
     "output_type": "stream",
     "text": [
      "local Optima\n",
      "y_mean 3.1030454563395375\n",
      "mean_mean 3.1030247021507167\n",
      "abs(round((mean_mean-y_mean)/y_mean)) 0.0\n",
      "local Optima\n",
      "y_mean 0.9820367351677035\n",
      "mean_mean 0.700914976087674\n",
      "abs(round((mean_mean-y_mean)/y_mean)) 0.0\n"
     ]
    },
    {
     "name": "stderr",
     "output_type": "stream",
     "text": [
      "\r",
      " 24%|██▍       | 87/358 [01:38<03:41,  1.22it/s]"
     ]
    },
    {
     "name": "stdout",
     "output_type": "stream",
     "text": [
      "local Optima\n",
      "y_mean 0.9820367351677035\n",
      "mean_mean 0.8780795328304006\n",
      "abs(round((mean_mean-y_mean)/y_mean)) 0.0\n",
      "local Optima\n",
      "y_mean 4.476666466062036\n",
      "mean_mean 4.476618875333777\n",
      "abs(round((mean_mean-y_mean)/y_mean)) 0.0\n"
     ]
    },
    {
     "name": "stderr",
     "output_type": "stream",
     "text": [
      "\r",
      " 25%|██▍       | 88/358 [01:39<03:34,  1.26it/s]"
     ]
    },
    {
     "name": "stdout",
     "output_type": "stream",
     "text": [
      "local Optima\n",
      "y_mean 4.476666466062036\n",
      "mean_mean 4.476615759611582\n",
      "abs(round((mean_mean-y_mean)/y_mean)) 0.0\n",
      "local Optima\n",
      "y_mean 2.590911045631407\n",
      "mean_mean 2.6199118833389137\n",
      "abs(round((mean_mean-y_mean)/y_mean)) 0.0\n"
     ]
    },
    {
     "name": "stderr",
     "output_type": "stream",
     "text": [
      "\r",
      " 25%|██▍       | 89/358 [01:39<03:31,  1.27it/s]"
     ]
    },
    {
     "name": "stdout",
     "output_type": "stream",
     "text": [
      "local Optima\n",
      "y_mean 2.590911045631407\n",
      "mean_mean 2.575363241948346\n",
      "abs(round((mean_mean-y_mean)/y_mean)) 0.0\n",
      "local Optima\n",
      "y_mean 4.269216187469348\n",
      "mean_mean 4.269183953997056\n",
      "abs(round((mean_mean-y_mean)/y_mean)) 0.0\n"
     ]
    },
    {
     "name": "stderr",
     "output_type": "stream",
     "text": [
      "\r",
      " 25%|██▌       | 90/358 [01:40<03:29,  1.28it/s]"
     ]
    },
    {
     "name": "stdout",
     "output_type": "stream",
     "text": [
      "local Optima\n",
      "y_mean 4.269216187469348\n",
      "mean_mean 4.269181560225598\n",
      "abs(round((mean_mean-y_mean)/y_mean)) 0.0\n",
      "local Optima\n",
      "y_mean 0.6478141987219203\n",
      "mean_mean 0.43120709543221053\n",
      "abs(round((mean_mean-y_mean)/y_mean)) 0.0\n"
     ]
    },
    {
     "name": "stderr",
     "output_type": "stream",
     "text": [
      "\r",
      " 25%|██▌       | 91/358 [01:41<03:24,  1.30it/s]"
     ]
    },
    {
     "name": "stdout",
     "output_type": "stream",
     "text": [
      "local Optima\n",
      "y_mean 0.6478141987219203\n",
      "mean_mean 0.5475305996539904\n",
      "abs(round((mean_mean-y_mean)/y_mean)) 0.0\n",
      "local Optima\n",
      "y_mean 4.286091913743084\n",
      "mean_mean 4.285972215335781\n",
      "abs(round((mean_mean-y_mean)/y_mean)) 0.0\n"
     ]
    },
    {
     "name": "stderr",
     "output_type": "stream",
     "text": [
      "\r",
      " 26%|██▌       | 92/358 [01:42<03:26,  1.29it/s]"
     ]
    },
    {
     "name": "stdout",
     "output_type": "stream",
     "text": [
      "local Optima\n",
      "y_mean 4.286091913743084\n",
      "mean_mean 4.285972215841053\n",
      "abs(round((mean_mean-y_mean)/y_mean)) 0.0\n",
      "local Optima\n",
      "y_mean 1.3825406939798577\n",
      "mean_mean 1.238799527481555\n",
      "abs(round((mean_mean-y_mean)/y_mean)) 0.0\n"
     ]
    },
    {
     "name": "stderr",
     "output_type": "stream",
     "text": [
      "\r",
      " 26%|██▌       | 93/358 [01:43<03:24,  1.30it/s]"
     ]
    },
    {
     "name": "stdout",
     "output_type": "stream",
     "text": [
      "local Optima\n",
      "y_mean 1.3825406939798577\n",
      "mean_mean 1.2775696310186238\n",
      "abs(round((mean_mean-y_mean)/y_mean)) 0.0\n",
      "local Optima\n",
      "y_mean 4.8477636857087125\n",
      "mean_mean 4.847734349735836\n",
      "abs(round((mean_mean-y_mean)/y_mean)) 0.0\n"
     ]
    },
    {
     "name": "stderr",
     "output_type": "stream",
     "text": [
      "\r",
      " 26%|██▋       | 94/358 [01:43<03:25,  1.28it/s]"
     ]
    },
    {
     "name": "stdout",
     "output_type": "stream",
     "text": [
      "local Optima\n",
      "y_mean 4.8477636857087125\n",
      "mean_mean 4.847734359144532\n",
      "abs(round((mean_mean-y_mean)/y_mean)) 0.0\n",
      "local Optima\n",
      "y_mean 1.5889781661364024\n",
      "mean_mean 1.5396202460817294\n",
      "abs(round((mean_mean-y_mean)/y_mean)) 0.0\n"
     ]
    },
    {
     "name": "stderr",
     "output_type": "stream",
     "text": [
      "\r",
      " 27%|██▋       | 95/358 [01:44<03:25,  1.28it/s]"
     ]
    },
    {
     "name": "stdout",
     "output_type": "stream",
     "text": [
      "local Optima\n",
      "y_mean 1.5889781661364024\n",
      "mean_mean 1.5280321692627477\n",
      "abs(round((mean_mean-y_mean)/y_mean)) 0.0\n",
      "local Optima\n",
      "y_mean 4.530318382297114\n",
      "mean_mean 4.5302904455086574\n",
      "abs(round((mean_mean-y_mean)/y_mean)) 0.0\n"
     ]
    },
    {
     "name": "stderr",
     "output_type": "stream",
     "text": [
      "\r",
      " 27%|██▋       | 96/358 [01:45<03:25,  1.27it/s]"
     ]
    },
    {
     "name": "stdout",
     "output_type": "stream",
     "text": [
      "local Optima\n",
      "y_mean 4.530318382297114\n",
      "mean_mean 4.530290448436423\n",
      "abs(round((mean_mean-y_mean)/y_mean)) 0.0\n",
      "local Optima\n",
      "y_mean 0.9625676021572538\n",
      "mean_mean 0.8769673639073514\n",
      "abs(round((mean_mean-y_mean)/y_mean)) 0.0\n"
     ]
    },
    {
     "name": "stderr",
     "output_type": "stream",
     "text": [
      "\r",
      " 27%|██▋       | 97/358 [01:46<03:22,  1.29it/s]"
     ]
    },
    {
     "name": "stdout",
     "output_type": "stream",
     "text": [
      "local Optima\n",
      "y_mean 0.9625676021572538\n",
      "mean_mean 0.8669010391271602\n",
      "abs(round((mean_mean-y_mean)/y_mean)) 0.0\n",
      "local Optima\n",
      "y_mean 3.9205303124088187\n",
      "mean_mean 3.9204537530017554\n",
      "abs(round((mean_mean-y_mean)/y_mean)) 0.0\n"
     ]
    },
    {
     "name": "stderr",
     "output_type": "stream",
     "text": [
      "\r",
      " 27%|██▋       | 98/358 [01:46<03:22,  1.28it/s]"
     ]
    },
    {
     "name": "stdout",
     "output_type": "stream",
     "text": [
      "local Optima\n",
      "y_mean 3.9205303124088187\n",
      "mean_mean 3.9204537505296866\n",
      "abs(round((mean_mean-y_mean)/y_mean)) 0.0\n",
      "local Optima\n",
      "y_mean 0.9551769690102354\n",
      "mean_mean 0.867496204088551\n",
      "abs(round((mean_mean-y_mean)/y_mean)) 0.0\n"
     ]
    },
    {
     "name": "stderr",
     "output_type": "stream",
     "text": [
      "\r",
      " 28%|██▊       | 99/358 [01:47<03:28,  1.24it/s]"
     ]
    },
    {
     "name": "stdout",
     "output_type": "stream",
     "text": [
      "local Optima\n",
      "y_mean 0.9551769690102354\n",
      "mean_mean 0.8826508764288299\n",
      "abs(round((mean_mean-y_mean)/y_mean)) 0.0\n",
      "local Optima\n",
      "y_mean 3.6307326481319624\n",
      "mean_mean 3.63070071822351\n",
      "abs(round((mean_mean-y_mean)/y_mean)) 0.0\n"
     ]
    },
    {
     "name": "stderr",
     "output_type": "stream",
     "text": [
      "\r",
      " 28%|██▊       | 100/358 [01:48<03:31,  1.22it/s]"
     ]
    },
    {
     "name": "stdout",
     "output_type": "stream",
     "text": [
      "local Optima\n",
      "y_mean 3.6307326481319624\n",
      "mean_mean 3.630700720385168\n",
      "abs(round((mean_mean-y_mean)/y_mean)) 0.0\n",
      "local Optima\n",
      "y_mean 1.235067055099265\n",
      "mean_mean 1.083514387558885\n",
      "abs(round((mean_mean-y_mean)/y_mean)) 0.0\n"
     ]
    },
    {
     "name": "stderr",
     "output_type": "stream",
     "text": [
      "\r",
      " 28%|██▊       | 101/358 [01:49<03:19,  1.29it/s]"
     ]
    },
    {
     "name": "stdout",
     "output_type": "stream",
     "text": [
      "local Optima\n",
      "y_mean 1.235067055099265\n",
      "mean_mean 1.179126134246095\n",
      "abs(round((mean_mean-y_mean)/y_mean)) 0.0\n",
      "local Optima\n",
      "y_mean 3.900117949156647\n",
      "mean_mean 3.900095879548604\n",
      "abs(round((mean_mean-y_mean)/y_mean)) 0.0\n"
     ]
    },
    {
     "name": "stderr",
     "output_type": "stream",
     "text": [
      "\r",
      " 28%|██▊       | 102/358 [01:49<03:08,  1.36it/s]"
     ]
    },
    {
     "name": "stdout",
     "output_type": "stream",
     "text": [
      "local Optima\n",
      "y_mean 3.900117949156647\n",
      "mean_mean 3.900095879633432\n",
      "abs(round((mean_mean-y_mean)/y_mean)) 0.0\n",
      "local Optima\n",
      "y_mean 0.613235493767784\n",
      "mean_mean 0.6557174621785138\n",
      "abs(round((mean_mean-y_mean)/y_mean)) 0.0\n"
     ]
    },
    {
     "name": "stderr",
     "output_type": "stream",
     "text": [
      "\r",
      " 29%|██▉       | 103/358 [01:50<03:04,  1.38it/s]"
     ]
    },
    {
     "name": "stdout",
     "output_type": "stream",
     "text": [
      "local Optima\n",
      "y_mean 0.613235493767784\n",
      "mean_mean 0.5671964979655113\n",
      "abs(round((mean_mean-y_mean)/y_mean)) 0.0\n",
      "local Optima\n",
      "y_mean 2.1886106553555496\n",
      "mean_mean 2.188480020439807\n",
      "abs(round((mean_mean-y_mean)/y_mean)) 0.0\n"
     ]
    },
    {
     "name": "stderr",
     "output_type": "stream",
     "text": [
      "\r",
      " 29%|██▉       | 104/358 [01:51<02:57,  1.43it/s]"
     ]
    },
    {
     "name": "stdout",
     "output_type": "stream",
     "text": [
      "local Optima\n",
      "y_mean 2.1886106553555496\n",
      "mean_mean 2.188480068659839\n",
      "abs(round((mean_mean-y_mean)/y_mean)) 0.0\n",
      "local Optima\n",
      "y_mean 0.6611825058430808\n",
      "mean_mean 0.6741949782852429\n",
      "abs(round((mean_mean-y_mean)/y_mean)) 0.0\n"
     ]
    },
    {
     "name": "stderr",
     "output_type": "stream",
     "text": [
      "\r",
      " 29%|██▉       | 105/358 [01:51<02:50,  1.49it/s]"
     ]
    },
    {
     "name": "stdout",
     "output_type": "stream",
     "text": [
      "local Optima\n",
      "y_mean 0.6611825058430808\n",
      "mean_mean 0.6311520209787365\n",
      "abs(round((mean_mean-y_mean)/y_mean)) 0.0\n",
      "local Optima\n",
      "y_mean 2.171050569412579\n",
      "mean_mean 2.1709856030834107\n",
      "abs(round((mean_mean-y_mean)/y_mean)) 0.0\n"
     ]
    },
    {
     "name": "stderr",
     "output_type": "stream",
     "text": [
      "\r",
      " 30%|██▉       | 106/358 [01:52<02:55,  1.44it/s]"
     ]
    },
    {
     "name": "stdout",
     "output_type": "stream",
     "text": [
      "local Optima\n",
      "y_mean 2.171050569412579\n",
      "mean_mean 2.1709856028319465\n",
      "abs(round((mean_mean-y_mean)/y_mean)) 0.0\n",
      "local Optima\n",
      "y_mean 0.9590786631995297\n",
      "mean_mean 1.0687585135138453\n",
      "abs(round((mean_mean-y_mean)/y_mean)) 0.0\n"
     ]
    },
    {
     "name": "stderr",
     "output_type": "stream",
     "text": [
      "\r",
      " 30%|██▉       | 107/358 [01:53<02:46,  1.51it/s]"
     ]
    },
    {
     "name": "stdout",
     "output_type": "stream",
     "text": [
      "local Optima\n",
      "y_mean 0.9590786631995297\n",
      "mean_mean 0.9166334246623512\n",
      "abs(round((mean_mean-y_mean)/y_mean)) 0.0\n",
      "local Optima\n",
      "y_mean 3.1220992889392303\n",
      "mean_mean 3.1175081887618403\n",
      "abs(round((mean_mean-y_mean)/y_mean)) 0.0\n"
     ]
    },
    {
     "name": "stderr",
     "output_type": "stream",
     "text": [
      "\r",
      " 30%|███       | 108/358 [01:53<02:42,  1.53it/s]"
     ]
    },
    {
     "name": "stdout",
     "output_type": "stream",
     "text": [
      "local Optima\n",
      "y_mean 3.1220992889392303\n",
      "mean_mean 3.122052846919083\n",
      "abs(round((mean_mean-y_mean)/y_mean)) 0.0\n",
      "local Optima\n",
      "y_mean 0.9238254040375679\n",
      "mean_mean 0.7322924787662559\n",
      "abs(round((mean_mean-y_mean)/y_mean)) 0.0\n"
     ]
    },
    {
     "name": "stderr",
     "output_type": "stream",
     "text": [
      "\r",
      " 30%|███       | 109/358 [01:54<02:38,  1.57it/s]"
     ]
    },
    {
     "name": "stdout",
     "output_type": "stream",
     "text": [
      "local Optima\n",
      "y_mean 0.9238254040375679\n",
      "mean_mean 0.8678827969012859\n",
      "abs(round((mean_mean-y_mean)/y_mean)) 0.0\n",
      "local Optima\n",
      "y_mean 4.019193886983169\n",
      "mean_mean 4.019135994984678\n",
      "abs(round((mean_mean-y_mean)/y_mean)) 0.0\n"
     ]
    },
    {
     "name": "stderr",
     "output_type": "stream",
     "text": [
      "\r",
      " 31%|███       | 110/358 [01:55<02:38,  1.57it/s]"
     ]
    },
    {
     "name": "stdout",
     "output_type": "stream",
     "text": [
      "local Optima\n",
      "y_mean 4.019193886983169\n",
      "mean_mean 4.019129843265002\n",
      "abs(round((mean_mean-y_mean)/y_mean)) 0.0\n",
      "local Optima\n",
      "y_mean 1.6218931446256524\n",
      "mean_mean 1.5814209808804653\n",
      "abs(round((mean_mean-y_mean)/y_mean)) 0.0\n"
     ]
    },
    {
     "name": "stderr",
     "output_type": "stream",
     "text": [
      "\r",
      " 31%|███       | 111/358 [01:55<02:34,  1.60it/s]"
     ]
    },
    {
     "name": "stdout",
     "output_type": "stream",
     "text": [
      "local Optima\n",
      "y_mean 1.6218931446256524\n",
      "mean_mean 1.5179068414168952\n",
      "abs(round((mean_mean-y_mean)/y_mean)) 0.0\n",
      "local Optima\n",
      "y_mean 4.6860323798934775\n",
      "mean_mean 4.685989065623396\n",
      "abs(round((mean_mean-y_mean)/y_mean)) 0.0\n"
     ]
    },
    {
     "name": "stderr",
     "output_type": "stream",
     "text": [
      "\r",
      " 31%|███▏      | 112/358 [01:56<02:34,  1.59it/s]"
     ]
    },
    {
     "name": "stdout",
     "output_type": "stream",
     "text": [
      "local Optima\n",
      "y_mean 4.6860323798934775\n",
      "mean_mean 4.6859890669020015\n",
      "abs(round((mean_mean-y_mean)/y_mean)) 0.0\n",
      "local Optima\n",
      "y_mean 1.0988652850490912\n",
      "mean_mean 0.8391345909222866\n",
      "abs(round((mean_mean-y_mean)/y_mean)) 0.0\n"
     ]
    },
    {
     "name": "stderr",
     "output_type": "stream",
     "text": [
      "\r",
      " 32%|███▏      | 113/358 [01:56<02:32,  1.61it/s]"
     ]
    },
    {
     "name": "stdout",
     "output_type": "stream",
     "text": [
      "local Optima\n",
      "y_mean 1.0988652850490912\n",
      "mean_mean 0.9687947284202835\n",
      "abs(round((mean_mean-y_mean)/y_mean)) 0.0\n",
      "local Optima\n",
      "y_mean 4.638861333007263\n",
      "mean_mean 4.6388299249697384\n",
      "abs(round((mean_mean-y_mean)/y_mean)) 0.0\n"
     ]
    },
    {
     "name": "stderr",
     "output_type": "stream",
     "text": [
      "\r",
      " 32%|███▏      | 114/358 [01:57<02:31,  1.61it/s]"
     ]
    },
    {
     "name": "stdout",
     "output_type": "stream",
     "text": [
      "local Optima\n",
      "y_mean 4.638861333007263\n",
      "mean_mean 4.638829927712145\n",
      "abs(round((mean_mean-y_mean)/y_mean)) 0.0\n",
      "local Optima\n",
      "y_mean 1.0622330451552506\n",
      "mean_mean 0.8841288738878434\n",
      "abs(round((mean_mean-y_mean)/y_mean)) 0.0\n"
     ]
    },
    {
     "name": "stderr",
     "output_type": "stream",
     "text": [
      "\r",
      " 32%|███▏      | 115/358 [01:58<02:29,  1.62it/s]"
     ]
    },
    {
     "name": "stdout",
     "output_type": "stream",
     "text": [
      "local Optima\n",
      "y_mean 1.0622330451552506\n",
      "mean_mean 0.9767387781666987\n",
      "abs(round((mean_mean-y_mean)/y_mean)) 0.0\n",
      "local Optima\n",
      "y_mean 4.066152225386135\n",
      "mean_mean 4.066124135317245\n",
      "abs(round((mean_mean-y_mean)/y_mean)) 0.0\n"
     ]
    },
    {
     "name": "stderr",
     "output_type": "stream",
     "text": [
      "\r",
      " 32%|███▏      | 116/358 [01:58<02:30,  1.61it/s]"
     ]
    },
    {
     "name": "stdout",
     "output_type": "stream",
     "text": [
      "local Optima\n",
      "y_mean 4.066152225386135\n",
      "mean_mean 4.06612415143439\n",
      "abs(round((mean_mean-y_mean)/y_mean)) 0.0\n",
      "local Optima\n",
      "y_mean 3.0298451336468775\n",
      "mean_mean 3.2584420526966382\n",
      "abs(round((mean_mean-y_mean)/y_mean)) 0.0\n"
     ]
    },
    {
     "name": "stderr",
     "output_type": "stream",
     "text": [
      "\r",
      " 33%|███▎      | 117/358 [01:59<02:28,  1.63it/s]"
     ]
    },
    {
     "name": "stdout",
     "output_type": "stream",
     "text": [
      "local Optima\n",
      "y_mean 3.0298451336468775\n",
      "mean_mean 3.0059286555965445\n",
      "abs(round((mean_mean-y_mean)/y_mean)) 0.0\n",
      "local Optima\n",
      "y_mean 4.1842644739489225\n",
      "mean_mean 4.184261008821418\n",
      "abs(round((mean_mean-y_mean)/y_mean)) 0.0\n"
     ]
    },
    {
     "name": "stderr",
     "output_type": "stream",
     "text": [
      "\r",
      " 33%|███▎      | 118/358 [02:00<02:26,  1.64it/s]"
     ]
    },
    {
     "name": "stdout",
     "output_type": "stream",
     "text": [
      "local Optima\n",
      "y_mean 4.1842644739489225\n",
      "mean_mean 4.184255210612314\n",
      "abs(round((mean_mean-y_mean)/y_mean)) 0.0\n",
      "local Optima\n",
      "y_mean 1.1434152041705348\n",
      "mean_mean 0.9081177992616134\n",
      "abs(round((mean_mean-y_mean)/y_mean)) 0.0\n"
     ]
    },
    {
     "name": "stderr",
     "output_type": "stream",
     "text": [
      "\r",
      " 33%|███▎      | 119/358 [02:00<02:24,  1.65it/s]"
     ]
    },
    {
     "name": "stdout",
     "output_type": "stream",
     "text": [
      "local Optima\n",
      "y_mean 1.1434152041705348\n",
      "mean_mean 1.0622750545070174\n",
      "abs(round((mean_mean-y_mean)/y_mean)) 0.0\n",
      "local Optima\n",
      "y_mean 4.418784310714386\n",
      "mean_mean 4.418676035253096\n",
      "abs(round((mean_mean-y_mean)/y_mean)) 0.0\n"
     ]
    },
    {
     "name": "stderr",
     "output_type": "stream",
     "text": [
      "\r",
      " 34%|███▎      | 120/358 [02:01<02:26,  1.63it/s]"
     ]
    },
    {
     "name": "stdout",
     "output_type": "stream",
     "text": [
      "local Optima\n",
      "y_mean 4.418784310714386\n",
      "mean_mean 4.418676041968891\n",
      "abs(round((mean_mean-y_mean)/y_mean)) 0.0\n",
      "local Optima\n",
      "y_mean 1.2394223453306727\n",
      "mean_mean 1.061543720107227\n",
      "abs(round((mean_mean-y_mean)/y_mean)) 0.0\n"
     ]
    },
    {
     "name": "stderr",
     "output_type": "stream",
     "text": [
      "\r",
      " 34%|███▍      | 121/358 [02:01<02:25,  1.63it/s]"
     ]
    },
    {
     "name": "stdout",
     "output_type": "stream",
     "text": [
      "local Optima\n",
      "y_mean 1.2394223453306727\n",
      "mean_mean 1.1750027511706218\n",
      "abs(round((mean_mean-y_mean)/y_mean)) 0.0\n",
      "local Optima\n",
      "y_mean 4.505930086470108\n",
      "mean_mean 4.505865120410656\n",
      "abs(round((mean_mean-y_mean)/y_mean)) 0.0\n"
     ]
    },
    {
     "name": "stderr",
     "output_type": "stream",
     "text": [
      "\r",
      " 34%|███▍      | 122/358 [02:02<02:25,  1.62it/s]"
     ]
    },
    {
     "name": "stdout",
     "output_type": "stream",
     "text": [
      "local Optima\n",
      "y_mean 4.505930086470108\n",
      "mean_mean 4.5058656350222694\n",
      "abs(round((mean_mean-y_mean)/y_mean)) 0.0\n",
      "local Optima\n",
      "y_mean 3.048922652587616\n",
      "mean_mean 2.8241517389180832\n",
      "abs(round((mean_mean-y_mean)/y_mean)) 0.0\n"
     ]
    },
    {
     "name": "stderr",
     "output_type": "stream",
     "text": [
      "\r",
      " 34%|███▍      | 123/358 [02:03<02:22,  1.65it/s]"
     ]
    },
    {
     "name": "stdout",
     "output_type": "stream",
     "text": [
      "local Optima\n",
      "y_mean 3.048922652587616\n",
      "mean_mean 2.9899515877595313\n",
      "abs(round((mean_mean-y_mean)/y_mean)) 0.0\n",
      "local Optima\n",
      "y_mean 4.7440820422024395\n",
      "mean_mean 4.744048914781596\n",
      "abs(round((mean_mean-y_mean)/y_mean)) 0.0\n"
     ]
    },
    {
     "name": "stderr",
     "output_type": "stream",
     "text": [
      "\r",
      " 35%|███▍      | 124/358 [02:03<02:21,  1.65it/s]"
     ]
    },
    {
     "name": "stdout",
     "output_type": "stream",
     "text": [
      "local Optima\n",
      "y_mean 4.7440820422024395\n",
      "mean_mean 4.7440489194866515\n",
      "abs(round((mean_mean-y_mean)/y_mean)) 0.0\n",
      "local Optima\n",
      "y_mean 1.3191456209937944\n",
      "mean_mean 1.5947330688103634\n",
      "abs(round((mean_mean-y_mean)/y_mean)) 0.0\n"
     ]
    },
    {
     "name": "stderr",
     "output_type": "stream",
     "text": [
      "\r",
      " 35%|███▍      | 125/358 [02:04<02:27,  1.58it/s]"
     ]
    },
    {
     "name": "stdout",
     "output_type": "stream",
     "text": [
      "local Optima\n",
      "y_mean 1.3191456209937944\n",
      "mean_mean 1.192662019970606\n",
      "abs(round((mean_mean-y_mean)/y_mean)) 0.0\n",
      "local Optima\n",
      "y_mean 4.634871390417975\n",
      "mean_mean 4.634766250100953\n",
      "abs(round((mean_mean-y_mean)/y_mean)) 0.0\n"
     ]
    },
    {
     "name": "stderr",
     "output_type": "stream",
     "text": [
      "\r",
      " 35%|███▌      | 126/358 [02:04<02:26,  1.58it/s]"
     ]
    },
    {
     "name": "stdout",
     "output_type": "stream",
     "text": [
      "local Optima\n",
      "y_mean 4.634871390417975\n",
      "mean_mean 4.634766267113919\n",
      "abs(round((mean_mean-y_mean)/y_mean)) 0.0\n",
      "local Optima\n",
      "y_mean 1.4353098999516218\n",
      "mean_mean 1.7347112923402168\n",
      "abs(round((mean_mean-y_mean)/y_mean)) 0.0\n"
     ]
    },
    {
     "name": "stderr",
     "output_type": "stream",
     "text": [
      "\r",
      " 35%|███▌      | 127/358 [02:05<02:22,  1.62it/s]"
     ]
    },
    {
     "name": "stdout",
     "output_type": "stream",
     "text": [
      "local Optima\n",
      "y_mean 1.4353098999516218\n",
      "mean_mean 1.355723623671009\n",
      "abs(round((mean_mean-y_mean)/y_mean)) 0.0\n",
      "local Optima\n",
      "y_mean 4.284288447568915\n",
      "mean_mean 4.284203791854548\n",
      "abs(round((mean_mean-y_mean)/y_mean)) 0.0\n"
     ]
    },
    {
     "name": "stderr",
     "output_type": "stream",
     "text": [
      "\r",
      " 36%|███▌      | 128/358 [02:06<02:22,  1.61it/s]"
     ]
    },
    {
     "name": "stdout",
     "output_type": "stream",
     "text": [
      "local Optima\n",
      "y_mean 4.284288447568915\n",
      "mean_mean 4.284203765654428\n",
      "abs(round((mean_mean-y_mean)/y_mean)) 0.0\n",
      "local Optima\n",
      "y_mean 1.6345544680618846\n",
      "mean_mean 1.9431997391088405\n",
      "abs(round((mean_mean-y_mean)/y_mean)) 0.0\n"
     ]
    },
    {
     "name": "stderr",
     "output_type": "stream",
     "text": [
      "\r",
      " 36%|███▌      | 129/358 [02:06<02:22,  1.61it/s]"
     ]
    },
    {
     "name": "stdout",
     "output_type": "stream",
     "text": [
      "local Optima\n",
      "y_mean 1.6345544680618846\n",
      "mean_mean 1.572873165050133\n",
      "abs(round((mean_mean-y_mean)/y_mean)) 0.0\n",
      "local Optima\n",
      "y_mean 4.413946536469336\n",
      "mean_mean 4.4139053006078965\n",
      "abs(round((mean_mean-y_mean)/y_mean)) 0.0\n"
     ]
    },
    {
     "name": "stderr",
     "output_type": "stream",
     "text": [
      "\r",
      " 36%|███▋      | 130/358 [02:07<02:20,  1.62it/s]"
     ]
    },
    {
     "name": "stdout",
     "output_type": "stream",
     "text": [
      "local Optima\n",
      "y_mean 4.413946536469336\n",
      "mean_mean 4.413905312763099\n",
      "abs(round((mean_mean-y_mean)/y_mean)) 0.0\n",
      "local Optima\n",
      "y_mean 0.477205549011277\n",
      "mean_mean 0.3884580444640999\n",
      "abs(round((mean_mean-y_mean)/y_mean)) 0.0\n"
     ]
    },
    {
     "name": "stderr",
     "output_type": "stream",
     "text": [
      "\r",
      " 37%|███▋      | 131/358 [02:08<02:18,  1.64it/s]"
     ]
    },
    {
     "name": "stdout",
     "output_type": "stream",
     "text": [
      "local Optima\n",
      "y_mean 0.477205549011277\n",
      "mean_mean 0.39869543086865744\n",
      "abs(round((mean_mean-y_mean)/y_mean)) 0.0\n",
      "local Optima\n",
      "y_mean 3.163926520742102\n",
      "mean_mean 3.163833354761759\n",
      "abs(round((mean_mean-y_mean)/y_mean)) 0.0\n"
     ]
    },
    {
     "name": "stderr",
     "output_type": "stream",
     "text": [
      "\r",
      " 37%|███▋      | 132/358 [02:08<02:18,  1.63it/s]"
     ]
    },
    {
     "name": "stdout",
     "output_type": "stream",
     "text": [
      "local Optima\n",
      "y_mean 3.163926520742102\n",
      "mean_mean 3.1638333564482775\n",
      "abs(round((mean_mean-y_mean)/y_mean)) 0.0\n",
      "local Optima\n",
      "y_mean 0.7973569384718132\n",
      "mean_mean 0.7638054943436167\n",
      "abs(round((mean_mean-y_mean)/y_mean)) 0.0\n"
     ]
    },
    {
     "name": "stderr",
     "output_type": "stream",
     "text": [
      "\r",
      " 37%|███▋      | 133/358 [02:09<02:18,  1.62it/s]"
     ]
    },
    {
     "name": "stdout",
     "output_type": "stream",
     "text": [
      "local Optima\n",
      "y_mean 0.7973569384718132\n",
      "mean_mean 0.7459140080154479\n",
      "abs(round((mean_mean-y_mean)/y_mean)) 0.0\n",
      "local Optima\n",
      "y_mean 3.3644006844989716\n",
      "mean_mean 3.3643811700748323\n",
      "abs(round((mean_mean-y_mean)/y_mean)) 0.0\n"
     ]
    },
    {
     "name": "stderr",
     "output_type": "stream",
     "text": [
      "\r",
      " 37%|███▋      | 134/358 [02:09<02:17,  1.63it/s]"
     ]
    },
    {
     "name": "stdout",
     "output_type": "stream",
     "text": [
      "local Optima\n",
      "y_mean 3.3644006844989716\n",
      "mean_mean 3.364366172885803\n",
      "abs(round((mean_mean-y_mean)/y_mean)) 0.0\n",
      "local Optima\n",
      "y_mean 1.0789055225136028\n",
      "mean_mean 0.9622430792609955\n",
      "abs(round((mean_mean-y_mean)/y_mean)) 0.0\n"
     ]
    },
    {
     "name": "stderr",
     "output_type": "stream",
     "text": [
      "\r",
      " 38%|███▊      | 135/358 [02:10<02:17,  1.63it/s]"
     ]
    },
    {
     "name": "stdout",
     "output_type": "stream",
     "text": [
      "local Optima\n",
      "y_mean 1.0789055225136028\n",
      "mean_mean 1.0341687395585049\n",
      "abs(round((mean_mean-y_mean)/y_mean)) 0.0\n",
      "local Optima\n",
      "y_mean 3.9304690271340865\n",
      "mean_mean 3.9304627007061557\n",
      "abs(round((mean_mean-y_mean)/y_mean)) 0.0\n"
     ]
    },
    {
     "name": "stderr",
     "output_type": "stream",
     "text": [
      "\r",
      " 38%|███▊      | 136/358 [02:11<02:16,  1.63it/s]"
     ]
    },
    {
     "name": "stdout",
     "output_type": "stream",
     "text": [
      "local Optima\n",
      "y_mean 3.9304690271340865\n",
      "mean_mean 3.9304610487763254\n",
      "abs(round((mean_mean-y_mean)/y_mean)) 0.0\n",
      "local Optima\n",
      "y_mean 1.955973692931251\n",
      "mean_mean 1.80369447729955\n",
      "abs(round((mean_mean-y_mean)/y_mean)) 0.0\n"
     ]
    },
    {
     "name": "stderr",
     "output_type": "stream",
     "text": [
      "\r",
      " 38%|███▊      | 137/358 [02:11<02:14,  1.64it/s]"
     ]
    },
    {
     "name": "stdout",
     "output_type": "stream",
     "text": [
      "local Optima\n",
      "y_mean 1.955973692931251\n",
      "mean_mean 1.8651535238768226\n",
      "abs(round((mean_mean-y_mean)/y_mean)) 0.0\n",
      "local Optima\n",
      "y_mean 4.533593232848153\n",
      "mean_mean 4.533542107409274\n",
      "abs(round((mean_mean-y_mean)/y_mean)) 0.0\n"
     ]
    },
    {
     "name": "stderr",
     "output_type": "stream",
     "text": [
      "\r",
      " 39%|███▊      | 138/358 [02:12<02:17,  1.60it/s]"
     ]
    },
    {
     "name": "stdout",
     "output_type": "stream",
     "text": [
      "local Optima\n",
      "y_mean 4.533593232848153\n",
      "mean_mean 4.5335421170412245\n",
      "abs(round((mean_mean-y_mean)/y_mean)) 0.0\n",
      "local Optima\n",
      "y_mean 2.180130619045033\n",
      "mean_mean 2.1863948819600325\n",
      "abs(round((mean_mean-y_mean)/y_mean)) 0.0\n"
     ]
    },
    {
     "name": "stderr",
     "output_type": "stream",
     "text": [
      "\r",
      " 39%|███▉      | 139/358 [02:12<02:16,  1.61it/s]"
     ]
    },
    {
     "name": "stdout",
     "output_type": "stream",
     "text": [
      "local Optima\n",
      "y_mean 2.180130619045033\n",
      "mean_mean 2.1316394590550565\n",
      "abs(round((mean_mean-y_mean)/y_mean)) 0.0\n",
      "local Optima\n",
      "y_mean 4.350275139466786\n",
      "mean_mean 4.350255721153383\n",
      "abs(round((mean_mean-y_mean)/y_mean)) 0.0\n"
     ]
    },
    {
     "name": "stderr",
     "output_type": "stream",
     "text": [
      "\r",
      " 39%|███▉      | 140/358 [02:13<02:14,  1.62it/s]"
     ]
    },
    {
     "name": "stdout",
     "output_type": "stream",
     "text": [
      "local Optima\n",
      "y_mean 4.350275139466786\n",
      "mean_mean 4.350255721693376\n",
      "abs(round((mean_mean-y_mean)/y_mean)) 0.0\n",
      "local Optima\n",
      "y_mean 1.9418955012122363\n",
      "mean_mean 1.939391163641593\n",
      "abs(round((mean_mean-y_mean)/y_mean)) 0.0\n"
     ]
    },
    {
     "name": "stderr",
     "output_type": "stream",
     "text": [
      "\r",
      " 39%|███▉      | 141/358 [02:14<02:13,  1.62it/s]"
     ]
    },
    {
     "name": "stdout",
     "output_type": "stream",
     "text": [
      "local Optima\n",
      "y_mean 1.9418955012122363\n",
      "mean_mean 1.8942058019311139\n",
      "abs(round((mean_mean-y_mean)/y_mean)) 0.0\n",
      "local Optima\n",
      "y_mean 4.1443983502947015\n",
      "mean_mean 4.144384225505177\n",
      "abs(round((mean_mean-y_mean)/y_mean)) 0.0\n"
     ]
    },
    {
     "name": "stderr",
     "output_type": "stream",
     "text": [
      "\r",
      " 40%|███▉      | 142/358 [02:14<02:13,  1.62it/s]"
     ]
    },
    {
     "name": "stdout",
     "output_type": "stream",
     "text": [
      "local Optima\n",
      "y_mean 4.1443983502947015\n",
      "mean_mean 4.144384226167978\n",
      "abs(round((mean_mean-y_mean)/y_mean)) 0.0\n",
      "local Optima\n",
      "y_mean 1.0243823383267536\n",
      "mean_mean 1.0138350526253448\n",
      "abs(round((mean_mean-y_mean)/y_mean)) 0.0\n"
     ]
    },
    {
     "name": "stderr",
     "output_type": "stream",
     "text": [
      "\r",
      " 40%|███▉      | 143/358 [02:15<02:12,  1.63it/s]"
     ]
    },
    {
     "name": "stdout",
     "output_type": "stream",
     "text": [
      "local Optima\n",
      "y_mean 1.0243823383267536\n",
      "mean_mean 0.9119371019408028\n",
      "abs(round((mean_mean-y_mean)/y_mean)) 0.0\n",
      "Fit Cholesky decomposition was not successful.\n",
      "local Optima\n",
      "y_mean 4.314739714848419\n",
      "mean_mean 4.314663716382933\n",
      "abs(round((mean_mean-y_mean)/y_mean)) 0.0\n",
      "local Optima\n",
      "y_mean 4.314739714848419\n",
      "mean_mean 4.314663716382933\n",
      "abs(round((mean_mean-y_mean)/y_mean)) 0.0\n"
     ]
    },
    {
     "name": "stderr",
     "output_type": "stream",
     "text": [
      "\r",
      " 40%|████      | 144/358 [02:16<02:35,  1.38it/s]"
     ]
    },
    {
     "name": "stdout",
     "output_type": "stream",
     "text": [
      "local Optima\n",
      "y_mean 4.314739714848419\n",
      "mean_mean 4.314663675874104\n",
      "abs(round((mean_mean-y_mean)/y_mean)) 0.0\n",
      "local Optima\n",
      "y_mean 1.3232753705460683\n",
      "mean_mean 1.3991032511489407\n",
      "abs(round((mean_mean-y_mean)/y_mean)) 0.0\n"
     ]
    },
    {
     "name": "stderr",
     "output_type": "stream",
     "text": [
      "\r",
      " 41%|████      | 145/358 [02:17<02:26,  1.46it/s]"
     ]
    },
    {
     "name": "stdout",
     "output_type": "stream",
     "text": [
      "local Optima\n",
      "y_mean 1.3232753705460683\n",
      "mean_mean 1.243659463211319\n",
      "abs(round((mean_mean-y_mean)/y_mean)) 0.0\n",
      "local Optima\n",
      "y_mean 4.245491642834985\n",
      "mean_mean 4.245452009173791\n",
      "abs(round((mean_mean-y_mean)/y_mean)) 0.0\n"
     ]
    },
    {
     "name": "stderr",
     "output_type": "stream",
     "text": [
      "\r",
      " 41%|████      | 146/358 [02:17<02:21,  1.49it/s]"
     ]
    },
    {
     "name": "stdout",
     "output_type": "stream",
     "text": [
      "local Optima\n",
      "y_mean 4.245491642834985\n",
      "mean_mean 4.245452009657684\n",
      "abs(round((mean_mean-y_mean)/y_mean)) 0.0\n",
      "local Optima\n",
      "y_mean 2.18438789345231\n",
      "mean_mean 2.0831438476003483\n",
      "abs(round((mean_mean-y_mean)/y_mean)) 0.0\n"
     ]
    },
    {
     "name": "stderr",
     "output_type": "stream",
     "text": [
      "\r",
      " 41%|████      | 147/358 [02:18<02:16,  1.55it/s]"
     ]
    },
    {
     "name": "stdout",
     "output_type": "stream",
     "text": [
      "local Optima\n",
      "y_mean 2.18438789345231\n",
      "mean_mean 2.075865378552464\n",
      "abs(round((mean_mean-y_mean)/y_mean)) 0.0\n",
      "local Optima\n",
      "y_mean 4.739407370819311\n",
      "mean_mean 4.7393905567809105\n",
      "abs(round((mean_mean-y_mean)/y_mean)) 0.0\n"
     ]
    },
    {
     "name": "stderr",
     "output_type": "stream",
     "text": [
      "\r",
      " 41%|████▏     | 148/358 [02:18<02:13,  1.57it/s]"
     ]
    },
    {
     "name": "stdout",
     "output_type": "stream",
     "text": [
      "local Optima\n",
      "y_mean 4.739407370819311\n",
      "mean_mean 4.7393905587383\n",
      "abs(round((mean_mean-y_mean)/y_mean)) 0.0\n",
      "local Optima\n",
      "y_mean 0.8523502211680155\n",
      "mean_mean 0.7583492663328883\n",
      "abs(round((mean_mean-y_mean)/y_mean)) 0.0\n"
     ]
    },
    {
     "name": "stderr",
     "output_type": "stream",
     "text": [
      "\r",
      " 42%|████▏     | 149/358 [02:19<02:12,  1.57it/s]"
     ]
    },
    {
     "name": "stdout",
     "output_type": "stream",
     "text": [
      "local Optima\n",
      "y_mean 0.8523502211680155\n",
      "mean_mean 0.7583686264928657\n",
      "abs(round((mean_mean-y_mean)/y_mean)) 0.0\n",
      "local Optima\n",
      "y_mean 4.906592556812566\n",
      "mean_mean 4.906488358158703\n",
      "abs(round((mean_mean-y_mean)/y_mean)) 0.0\n"
     ]
    },
    {
     "name": "stderr",
     "output_type": "stream",
     "text": [
      "\r",
      " 42%|████▏     | 150/358 [02:20<02:17,  1.52it/s]"
     ]
    },
    {
     "name": "stdout",
     "output_type": "stream",
     "text": [
      "local Optima\n",
      "y_mean 4.906592556812566\n",
      "mean_mean 4.906484205479847\n",
      "abs(round((mean_mean-y_mean)/y_mean)) 0.0\n",
      "local Optima\n",
      "y_mean 0.891356657309277\n",
      "mean_mean 0.8235087657912533\n",
      "abs(round((mean_mean-y_mean)/y_mean)) 0.0\n"
     ]
    },
    {
     "name": "stderr",
     "output_type": "stream",
     "text": [
      "\r",
      " 42%|████▏     | 151/358 [02:21<02:58,  1.16it/s]"
     ]
    },
    {
     "name": "stdout",
     "output_type": "stream",
     "text": [
      "local Optima\n",
      "y_mean 0.891356657309277\n",
      "mean_mean 0.8235091964416276\n",
      "abs(round((mean_mean-y_mean)/y_mean)) 0.0\n",
      "local Optima\n",
      "y_mean 4.362027317137381\n",
      "mean_mean 4.36194304345437\n",
      "abs(round((mean_mean-y_mean)/y_mean)) 0.0\n"
     ]
    },
    {
     "name": "stderr",
     "output_type": "stream",
     "text": [
      "\r",
      " 42%|████▏     | 152/358 [02:22<03:10,  1.08it/s]"
     ]
    },
    {
     "name": "stdout",
     "output_type": "stream",
     "text": [
      "local Optima\n",
      "y_mean 4.362027317137381\n",
      "mean_mean 4.361939474487669\n",
      "abs(round((mean_mean-y_mean)/y_mean)) 0.0\n",
      "local Optima\n",
      "y_mean 2.9510170575825847\n",
      "mean_mean 2.9252053963841136\n",
      "abs(round((mean_mean-y_mean)/y_mean)) 0.0\n"
     ]
    },
    {
     "name": "stderr",
     "output_type": "stream",
     "text": [
      "\r",
      " 43%|████▎     | 153/358 [02:23<03:06,  1.10it/s]"
     ]
    },
    {
     "name": "stdout",
     "output_type": "stream",
     "text": [
      "local Optima\n",
      "y_mean 2.9510170575825847\n",
      "mean_mean 2.9135017344365624\n",
      "abs(round((mean_mean-y_mean)/y_mean)) 0.0\n",
      "local Optima\n",
      "y_mean 4.714710401981819\n",
      "mean_mean 4.7102962545556455\n",
      "abs(round((mean_mean-y_mean)/y_mean)) 0.0\n"
     ]
    },
    {
     "name": "stderr",
     "output_type": "stream",
     "text": [
      "\r",
      " 43%|████▎     | 154/358 [02:24<03:02,  1.12it/s]"
     ]
    },
    {
     "name": "stdout",
     "output_type": "stream",
     "text": [
      "local Optima\n",
      "y_mean 4.714710401981819\n",
      "mean_mean 4.714690222653573\n",
      "abs(round((mean_mean-y_mean)/y_mean)) 0.0\n",
      "local Optima\n",
      "y_mean 1.4965958690534833\n",
      "mean_mean 1.388693563601527\n",
      "abs(round((mean_mean-y_mean)/y_mean)) 0.0\n"
     ]
    },
    {
     "name": "stderr",
     "output_type": "stream",
     "text": [
      "\r",
      " 43%|████▎     | 155/358 [02:25<02:56,  1.15it/s]"
     ]
    },
    {
     "name": "stdout",
     "output_type": "stream",
     "text": [
      "local Optima\n",
      "y_mean 1.4965958690534833\n",
      "mean_mean 1.3886570611617726\n",
      "abs(round((mean_mean-y_mean)/y_mean)) 0.0\n",
      "local Optima\n",
      "y_mean 4.631460689668468\n",
      "mean_mean 4.631414800204904\n",
      "abs(round((mean_mean-y_mean)/y_mean)) 0.0\n"
     ]
    },
    {
     "name": "stderr",
     "output_type": "stream",
     "text": [
      "\r",
      " 44%|████▎     | 156/358 [02:25<02:42,  1.24it/s]"
     ]
    },
    {
     "name": "stdout",
     "output_type": "stream",
     "text": [
      "local Optima\n",
      "y_mean 4.631460689668468\n",
      "mean_mean 4.631391401855993\n",
      "abs(round((mean_mean-y_mean)/y_mean)) 0.0\n",
      "local Optima\n",
      "y_mean 1.5570242203199427\n",
      "mean_mean 1.7147516694317935\n",
      "abs(round((mean_mean-y_mean)/y_mean)) 0.0\n"
     ]
    },
    {
     "name": "stderr",
     "output_type": "stream",
     "text": [
      "\r",
      " 44%|████▍     | 157/358 [02:26<02:33,  1.31it/s]"
     ]
    },
    {
     "name": "stdout",
     "output_type": "stream",
     "text": [
      "local Optima\n",
      "y_mean 1.5570242203199427\n",
      "mean_mean 1.4838529381563106\n",
      "abs(round((mean_mean-y_mean)/y_mean)) 0.0\n",
      "local Optima\n",
      "y_mean 4.414179424586683\n",
      "mean_mean 4.414129056599534\n",
      "abs(round((mean_mean-y_mean)/y_mean)) 0.0\n"
     ]
    },
    {
     "name": "stderr",
     "output_type": "stream",
     "text": [
      "\r",
      " 44%|████▍     | 158/358 [02:27<02:26,  1.36it/s]"
     ]
    },
    {
     "name": "stdout",
     "output_type": "stream",
     "text": [
      "local Optima\n",
      "y_mean 4.414179424586683\n",
      "mean_mean 4.414126335532304\n",
      "abs(round((mean_mean-y_mean)/y_mean)) 0.0\n",
      "local Optima\n",
      "y_mean 2.630579829195926\n",
      "mean_mean 2.8856828392082967\n",
      "abs(round((mean_mean-y_mean)/y_mean)) 0.0\n"
     ]
    },
    {
     "name": "stderr",
     "output_type": "stream",
     "text": [
      "\r",
      " 44%|████▍     | 159/358 [02:27<02:19,  1.43it/s]"
     ]
    },
    {
     "name": "stdout",
     "output_type": "stream",
     "text": [
      "local Optima\n",
      "y_mean 2.630579829195926\n",
      "mean_mean 2.587793722244491\n",
      "abs(round((mean_mean-y_mean)/y_mean)) 0.0\n",
      "local Optima\n",
      "y_mean 5.080711582448646\n",
      "mean_mean 5.08067172091177\n",
      "abs(round((mean_mean-y_mean)/y_mean)) 0.0\n"
     ]
    },
    {
     "name": "stderr",
     "output_type": "stream",
     "text": [
      "\r",
      " 45%|████▍     | 160/358 [02:28<02:17,  1.44it/s]"
     ]
    },
    {
     "name": "stdout",
     "output_type": "stream",
     "text": [
      "local Optima\n",
      "y_mean 5.080711582448646\n",
      "mean_mean 5.080671730626295\n",
      "abs(round((mean_mean-y_mean)/y_mean)) 0.0\n",
      "local Optima\n",
      "y_mean 1.1066861132949866\n",
      "mean_mean 1.0227023293826676\n",
      "abs(round((mean_mean-y_mean)/y_mean)) 0.0\n"
     ]
    },
    {
     "name": "stderr",
     "output_type": "stream",
     "text": [
      "\r",
      " 45%|████▍     | 161/358 [02:29<02:17,  1.44it/s]"
     ]
    },
    {
     "name": "stdout",
     "output_type": "stream",
     "text": [
      "local Optima\n",
      "y_mean 1.1066861132949866\n",
      "mean_mean 0.9709768827500274\n",
      "abs(round((mean_mean-y_mean)/y_mean)) 0.0\n",
      "local Optima\n",
      "y_mean 4.789047813291304\n",
      "mean_mean 4.789032274466446\n",
      "abs(round((mean_mean-y_mean)/y_mean)) 0.0\n"
     ]
    },
    {
     "name": "stderr",
     "output_type": "stream",
     "text": [
      "\r",
      " 45%|████▌     | 162/358 [02:29<02:14,  1.45it/s]"
     ]
    },
    {
     "name": "stdout",
     "output_type": "stream",
     "text": [
      "local Optima\n",
      "y_mean 4.789047813291304\n",
      "mean_mean 4.788994774207176\n",
      "abs(round((mean_mean-y_mean)/y_mean)) 0.0\n",
      "local Optima\n",
      "y_mean 1.3717469663977377\n",
      "mean_mean 1.3410625278275254\n",
      "abs(round((mean_mean-y_mean)/y_mean)) 0.0\n"
     ]
    },
    {
     "name": "stderr",
     "output_type": "stream",
     "text": [
      "\r",
      " 46%|████▌     | 163/358 [02:30<02:13,  1.46it/s]"
     ]
    },
    {
     "name": "stdout",
     "output_type": "stream",
     "text": [
      "local Optima\n",
      "y_mean 1.3717469663977377\n",
      "mean_mean 1.2929865836814431\n",
      "abs(round((mean_mean-y_mean)/y_mean)) 0.0\n",
      "local Optima\n",
      "y_mean 4.352474476882325\n",
      "mean_mean 4.352464541056271\n",
      "abs(round((mean_mean-y_mean)/y_mean)) 0.0\n"
     ]
    },
    {
     "name": "stderr",
     "output_type": "stream",
     "text": [
      "\r",
      " 46%|████▌     | 164/358 [02:31<02:13,  1.45it/s]"
     ]
    },
    {
     "name": "stdout",
     "output_type": "stream",
     "text": [
      "local Optima\n",
      "y_mean 4.352474476882325\n",
      "mean_mean 4.3524367645152715\n",
      "abs(round((mean_mean-y_mean)/y_mean)) 0.0\n",
      "local Optima\n",
      "y_mean 2.1339904343864284\n",
      "mean_mean 2.097894424426927\n",
      "abs(round((mean_mean-y_mean)/y_mean)) 0.0\n"
     ]
    },
    {
     "name": "stderr",
     "output_type": "stream",
     "text": [
      "\r",
      " 46%|████▌     | 165/358 [02:31<02:17,  1.40it/s]"
     ]
    },
    {
     "name": "stdout",
     "output_type": "stream",
     "text": [
      "local Optima\n",
      "y_mean 2.1339904343864284\n",
      "mean_mean 2.0817257960505313\n",
      "abs(round((mean_mean-y_mean)/y_mean)) 0.0\n",
      "local Optima\n",
      "y_mean 4.764539029048385\n",
      "mean_mean 4.764517437313067\n",
      "abs(round((mean_mean-y_mean)/y_mean)) 0.0\n"
     ]
    },
    {
     "name": "stderr",
     "output_type": "stream",
     "text": [
      "\r",
      " 46%|████▋     | 166/358 [02:33<02:51,  1.12it/s]"
     ]
    },
    {
     "name": "stdout",
     "output_type": "stream",
     "text": [
      "local Optima\n",
      "y_mean 4.764539029048385\n",
      "mean_mean 4.76450340191091\n",
      "abs(round((mean_mean-y_mean)/y_mean)) 0.0\n",
      "local Optima\n",
      "y_mean 0.8053568444919931\n",
      "mean_mean 0.8503362094913348\n",
      "abs(round((mean_mean-y_mean)/y_mean)) 0.0\n"
     ]
    },
    {
     "name": "stderr",
     "output_type": "stream",
     "text": [
      "\r",
      " 47%|████▋     | 167/358 [02:34<03:05,  1.03it/s]"
     ]
    },
    {
     "name": "stdout",
     "output_type": "stream",
     "text": [
      "local Optima\n",
      "y_mean 0.8053568444919931\n",
      "mean_mean 0.7578375682540327\n",
      "abs(round((mean_mean-y_mean)/y_mean)) 0.0\n",
      "local Optima\n",
      "y_mean 3.1091989179630777\n",
      "mean_mean 3.1090371887048063\n",
      "abs(round((mean_mean-y_mean)/y_mean)) 0.0\n"
     ]
    },
    {
     "name": "stderr",
     "output_type": "stream",
     "text": [
      "\r",
      " 47%|████▋     | 168/358 [02:35<03:16,  1.03s/it]"
     ]
    },
    {
     "name": "stdout",
     "output_type": "stream",
     "text": [
      "local Optima\n",
      "y_mean 3.1091989179630777\n",
      "mean_mean 3.1090371823200487\n",
      "abs(round((mean_mean-y_mean)/y_mean)) 0.0\n",
      "local Optima\n",
      "y_mean 0.8886460926331974\n",
      "mean_mean 0.886630958390708\n",
      "abs(round((mean_mean-y_mean)/y_mean)) 0.0\n"
     ]
    },
    {
     "name": "stderr",
     "output_type": "stream",
     "text": [
      "\r",
      " 47%|████▋     | 169/358 [02:36<03:15,  1.04s/it]"
     ]
    },
    {
     "name": "stdout",
     "output_type": "stream",
     "text": [
      "local Optima\n",
      "y_mean 0.8886460926331974\n",
      "mean_mean 0.8526617057402409\n",
      "abs(round((mean_mean-y_mean)/y_mean)) 0.0\n",
      "local Optima\n",
      "y_mean 3.2983413873529983\n",
      "mean_mean 3.298285122182071\n",
      "abs(round((mean_mean-y_mean)/y_mean)) 0.0\n"
     ]
    },
    {
     "name": "stderr",
     "output_type": "stream",
     "text": [
      "\r",
      " 47%|████▋     | 170/358 [02:37<03:14,  1.03s/it]"
     ]
    },
    {
     "name": "stdout",
     "output_type": "stream",
     "text": [
      "local Optima\n",
      "y_mean 3.2983413873529983\n",
      "mean_mean 3.298285117774306\n",
      "abs(round((mean_mean-y_mean)/y_mean)) 0.0\n",
      "local Optima\n",
      "y_mean 2.5683845396622074\n",
      "mean_mean 2.8131411876731782\n",
      "abs(round((mean_mean-y_mean)/y_mean)) 0.0\n"
     ]
    },
    {
     "name": "stderr",
     "output_type": "stream",
     "text": [
      "\r",
      " 48%|████▊     | 171/358 [02:38<03:05,  1.01it/s]"
     ]
    },
    {
     "name": "stdout",
     "output_type": "stream",
     "text": [
      "local Optima\n",
      "y_mean 2.5683845396622074\n",
      "mean_mean 2.5208278488516807\n",
      "abs(round((mean_mean-y_mean)/y_mean)) 0.0\n",
      "local Optima\n",
      "y_mean 4.377433212998122\n",
      "mean_mean 4.37740313108404\n",
      "abs(round((mean_mean-y_mean)/y_mean)) 0.0\n"
     ]
    },
    {
     "name": "stderr",
     "output_type": "stream",
     "text": [
      "\r",
      " 48%|████▊     | 172/358 [02:39<03:00,  1.03it/s]"
     ]
    },
    {
     "name": "stdout",
     "output_type": "stream",
     "text": [
      "local Optima\n",
      "y_mean 4.377433212998122\n",
      "mean_mean 4.377403129254535\n",
      "abs(round((mean_mean-y_mean)/y_mean)) 0.0\n",
      "local Optima\n",
      "y_mean 1.4347626655452677\n",
      "mean_mean 1.2363245714467772\n",
      "abs(round((mean_mean-y_mean)/y_mean)) 0.0\n"
     ]
    },
    {
     "name": "stderr",
     "output_type": "stream",
     "text": [
      "\r",
      " 48%|████▊     | 173/358 [02:40<02:49,  1.09it/s]"
     ]
    },
    {
     "name": "stdout",
     "output_type": "stream",
     "text": [
      "local Optima\n",
      "y_mean 1.4347626655452677\n",
      "mean_mean 1.3428531493272058\n",
      "abs(round((mean_mean-y_mean)/y_mean)) 0.0\n",
      "local Optima\n",
      "y_mean 5.727107541130171\n",
      "mean_mean 5.727069225461215\n",
      "abs(round((mean_mean-y_mean)/y_mean)) 0.0\n"
     ]
    },
    {
     "name": "stderr",
     "output_type": "stream",
     "text": [
      "\r",
      " 49%|████▊     | 174/358 [02:40<02:35,  1.18it/s]"
     ]
    },
    {
     "name": "stdout",
     "output_type": "stream",
     "text": [
      "local Optima\n",
      "y_mean 5.727107541130171\n",
      "mean_mean 5.72703853147213\n",
      "abs(round((mean_mean-y_mean)/y_mean)) 0.0\n",
      "local Optima\n",
      "y_mean 1.628436906268004\n",
      "mean_mean 1.476422837564838\n",
      "abs(round((mean_mean-y_mean)/y_mean)) 0.0\n"
     ]
    },
    {
     "name": "stderr",
     "output_type": "stream",
     "text": [
      "\r",
      " 49%|████▉     | 175/358 [02:41<02:24,  1.27it/s]"
     ]
    },
    {
     "name": "stdout",
     "output_type": "stream",
     "text": [
      "local Optima\n",
      "y_mean 1.628436906268004\n",
      "mean_mean 1.5640602579806453\n",
      "abs(round((mean_mean-y_mean)/y_mean)) 0.0\n",
      "local Optima\n",
      "y_mean 5.3649855749012465\n",
      "mean_mean 5.364935980264963\n",
      "abs(round((mean_mean-y_mean)/y_mean)) 0.0\n"
     ]
    },
    {
     "name": "stderr",
     "output_type": "stream",
     "text": [
      "\r",
      " 49%|████▉     | 176/358 [02:42<02:17,  1.32it/s]"
     ]
    },
    {
     "name": "stdout",
     "output_type": "stream",
     "text": [
      "local Optima\n",
      "y_mean 5.3649855749012465\n",
      "mean_mean 5.364929431761347\n",
      "abs(round((mean_mean-y_mean)/y_mean)) 0.0\n",
      "local Optima\n",
      "y_mean 2.702399282461433\n",
      "mean_mean 2.364685255401003\n",
      "abs(round((mean_mean-y_mean)/y_mean)) 0.0\n"
     ]
    },
    {
     "name": "stderr",
     "output_type": "stream",
     "text": [
      "\r",
      " 49%|████▉     | 177/358 [02:42<02:12,  1.37it/s]"
     ]
    },
    {
     "name": "stdout",
     "output_type": "stream",
     "text": [
      "local Optima\n",
      "y_mean 2.702399282461433\n",
      "mean_mean 2.6339580002425644\n",
      "abs(round((mean_mean-y_mean)/y_mean)) 0.0\n",
      "local Optima\n",
      "y_mean 5.450044700487936\n",
      "mean_mean 5.450023755518061\n",
      "abs(round((mean_mean-y_mean)/y_mean)) 0.0\n"
     ]
    },
    {
     "name": "stderr",
     "output_type": "stream",
     "text": [
      "\r",
      " 50%|████▉     | 178/358 [02:43<02:07,  1.41it/s]"
     ]
    },
    {
     "name": "stdout",
     "output_type": "stream",
     "text": [
      "local Optima\n",
      "y_mean 5.450044700487936\n",
      "mean_mean 5.450018063715298\n",
      "abs(round((mean_mean-y_mean)/y_mean)) 0.0\n",
      "local Optima\n",
      "y_mean 0.7947724931587636\n",
      "mean_mean 0.4413198949693928\n",
      "abs(round((mean_mean-y_mean)/y_mean)) 0.0\n",
      "local Optima\n",
      "y_mean 0.7947724931587636\n",
      "mean_mean 0.6708437116223491\n",
      "abs(round((mean_mean-y_mean)/y_mean)) 0.0\n",
      "local Optima\n",
      "y_mean 0.7947724931587636\n",
      "mean_mean 0.4413198949693928\n",
      "abs(round((mean_mean-y_mean)/y_mean)) 0.0\n"
     ]
    },
    {
     "name": "stderr",
     "output_type": "stream",
     "text": [
      "\r",
      " 50%|█████     | 179/358 [02:44<02:42,  1.10it/s]"
     ]
    },
    {
     "name": "stdout",
     "output_type": "stream",
     "text": [
      "local Optima\n",
      "y_mean 0.7947724931587636\n",
      "mean_mean 0.6708437116223491\n",
      "abs(round((mean_mean-y_mean)/y_mean)) 0.0\n",
      "Fit Cholesky decomposition was not successful.\n",
      "local Optima\n",
      "y_mean 5.375957136778152\n",
      "mean_mean 5.3759572811587395\n",
      "abs(round((mean_mean-y_mean)/y_mean)) 0.0\n",
      "local Optima\n",
      "y_mean 5.375957136778152\n",
      "mean_mean 5.3759572811587395\n",
      "abs(round((mean_mean-y_mean)/y_mean)) 0.0\n"
     ]
    },
    {
     "name": "stderr",
     "output_type": "stream",
     "text": [
      "\r",
      " 50%|█████     | 180/358 [02:46<02:51,  1.04it/s]"
     ]
    },
    {
     "name": "stdout",
     "output_type": "stream",
     "text": [
      "local Optima\n",
      "y_mean 5.375957136778152\n",
      "mean_mean 5.375921451728243\n",
      "abs(round((mean_mean-y_mean)/y_mean)) 0.0\n",
      "local Optima\n",
      "y_mean 1.1017245316918811\n",
      "mean_mean 0.8788517830386223\n",
      "abs(round((mean_mean-y_mean)/y_mean)) 0.0\n"
     ]
    },
    {
     "name": "stderr",
     "output_type": "stream",
     "text": [
      "\r",
      " 51%|█████     | 181/358 [02:46<02:33,  1.15it/s]"
     ]
    },
    {
     "name": "stdout",
     "output_type": "stream",
     "text": [
      "local Optima\n",
      "y_mean 1.1017245316918811\n",
      "mean_mean 1.0214631720617433\n",
      "abs(round((mean_mean-y_mean)/y_mean)) 0.0\n",
      "local Optima\n",
      "y_mean 5.1011517846337915\n",
      "mean_mean 5.101127944865409\n",
      "abs(round((mean_mean-y_mean)/y_mean)) 0.0\n"
     ]
    },
    {
     "name": "stderr",
     "output_type": "stream",
     "text": [
      "\r",
      " 51%|█████     | 182/358 [02:47<02:22,  1.24it/s]"
     ]
    },
    {
     "name": "stdout",
     "output_type": "stream",
     "text": [
      "local Optima\n",
      "y_mean 5.1011517846337915\n",
      "mean_mean 5.101126834069363\n",
      "abs(round((mean_mean-y_mean)/y_mean)) 0.0\n",
      "local Optima\n",
      "y_mean 1.7515517765534316\n",
      "mean_mean 1.696217622098215\n",
      "abs(round((mean_mean-y_mean)/y_mean)) 0.0\n"
     ]
    },
    {
     "name": "stderr",
     "output_type": "stream",
     "text": [
      "\r",
      " 51%|█████     | 183/358 [02:48<02:12,  1.32it/s]"
     ]
    },
    {
     "name": "stdout",
     "output_type": "stream",
     "text": [
      "local Optima\n",
      "y_mean 1.7515517765534316\n",
      "mean_mean 1.6961103306020322\n",
      "abs(round((mean_mean-y_mean)/y_mean)) 0.0\n",
      "local Optima\n",
      "y_mean 5.03437967931238\n",
      "mean_mean 5.034357078063391\n",
      "abs(round((mean_mean-y_mean)/y_mean)) 0.0\n"
     ]
    },
    {
     "name": "stderr",
     "output_type": "stream",
     "text": [
      "\r",
      " 51%|█████▏    | 184/358 [02:48<02:06,  1.37it/s]"
     ]
    },
    {
     "name": "stdout",
     "output_type": "stream",
     "text": [
      "local Optima\n",
      "y_mean 5.03437967931238\n",
      "mean_mean 5.034353216694734\n",
      "abs(round((mean_mean-y_mean)/y_mean)) 0.0\n",
      "local Optima\n",
      "y_mean 0.4680598834726907\n",
      "mean_mean 0.2857876305970273\n",
      "abs(round((mean_mean-y_mean)/y_mean)) 0.0\n"
     ]
    },
    {
     "name": "stderr",
     "output_type": "stream",
     "text": [
      "\r",
      " 52%|█████▏    | 185/358 [02:49<02:02,  1.41it/s]"
     ]
    },
    {
     "name": "stdout",
     "output_type": "stream",
     "text": [
      "local Optima\n",
      "y_mean 0.4680598834726907\n",
      "mean_mean 0.3666316737627879\n",
      "abs(round((mean_mean-y_mean)/y_mean)) 0.0\n",
      "local Optima\n",
      "y_mean 4.278839924667212\n",
      "mean_mean 4.278774554873661\n",
      "abs(round((mean_mean-y_mean)/y_mean)) 0.0\n"
     ]
    },
    {
     "name": "stderr",
     "output_type": "stream",
     "text": [
      "\r",
      " 52%|█████▏    | 186/358 [02:50<02:01,  1.41it/s]"
     ]
    },
    {
     "name": "stdout",
     "output_type": "stream",
     "text": [
      "local Optima\n",
      "y_mean 4.278839924667212\n",
      "mean_mean 4.278772864820271\n",
      "abs(round((mean_mean-y_mean)/y_mean)) 0.0\n",
      "local Optima\n",
      "y_mean 0.9067572557861929\n",
      "mean_mean 1.0224215667794763\n",
      "abs(round((mean_mean-y_mean)/y_mean)) 0.0\n"
     ]
    },
    {
     "name": "stderr",
     "output_type": "stream",
     "text": [
      "\r",
      " 52%|█████▏    | 187/358 [02:50<02:00,  1.42it/s]"
     ]
    },
    {
     "name": "stdout",
     "output_type": "stream",
     "text": [
      "local Optima\n",
      "y_mean 0.9067572557861929\n",
      "mean_mean 0.8478014490522661\n",
      "abs(round((mean_mean-y_mean)/y_mean)) 0.0\n",
      "local Optima\n",
      "y_mean 4.221055242091025\n",
      "mean_mean 4.221044404459877\n",
      "abs(round((mean_mean-y_mean)/y_mean)) 0.0\n"
     ]
    },
    {
     "name": "stderr",
     "output_type": "stream",
     "text": [
      "\r",
      " 53%|█████▎    | 188/358 [02:51<01:58,  1.43it/s]"
     ]
    },
    {
     "name": "stdout",
     "output_type": "stream",
     "text": [
      "local Optima\n",
      "y_mean 4.221055242091025\n",
      "mean_mean 4.221030294264449\n",
      "abs(round((mean_mean-y_mean)/y_mean)) 0.0\n",
      "local Optima\n",
      "y_mean 1.9367519285781611\n",
      "mean_mean 1.8788218965957908\n",
      "abs(round((mean_mean-y_mean)/y_mean)) 0.0\n"
     ]
    },
    {
     "name": "stderr",
     "output_type": "stream",
     "text": [
      "\r",
      " 53%|█████▎    | 189/358 [02:52<01:56,  1.46it/s]"
     ]
    },
    {
     "name": "stdout",
     "output_type": "stream",
     "text": [
      "local Optima\n",
      "y_mean 1.9367519285781611\n",
      "mean_mean 1.9049009784953614\n",
      "abs(round((mean_mean-y_mean)/y_mean)) 0.0\n",
      "local Optima\n",
      "y_mean 4.3398047745002195\n",
      "mean_mean 4.339796447262183\n",
      "abs(round((mean_mean-y_mean)/y_mean)) 0.0\n"
     ]
    },
    {
     "name": "stderr",
     "output_type": "stream",
     "text": [
      "\r",
      " 53%|█████▎    | 190/358 [02:52<01:54,  1.47it/s]"
     ]
    },
    {
     "name": "stdout",
     "output_type": "stream",
     "text": [
      "local Optima\n",
      "y_mean 4.3398047745002195\n",
      "mean_mean 4.339794271742537\n",
      "abs(round((mean_mean-y_mean)/y_mean)) 0.0\n",
      "local Optima\n",
      "y_mean 1.0657613292180672\n",
      "mean_mean 0.8035963512854923\n",
      "abs(round((mean_mean-y_mean)/y_mean)) 0.0\n"
     ]
    },
    {
     "name": "stderr",
     "output_type": "stream",
     "text": [
      "\r",
      " 53%|█████▎    | 191/358 [02:53<01:51,  1.50it/s]"
     ]
    },
    {
     "name": "stdout",
     "output_type": "stream",
     "text": [
      "local Optima\n",
      "y_mean 1.0657613292180672\n",
      "mean_mean 0.950147538469354\n",
      "abs(round((mean_mean-y_mean)/y_mean)) 0.0\n",
      "local Optima\n",
      "y_mean 5.406352258266428\n",
      "mean_mean 5.406370138416207\n",
      "abs(round((mean_mean-y_mean)/y_mean)) 0.0\n"
     ]
    },
    {
     "name": "stderr",
     "output_type": "stream",
     "text": [
      "\r",
      " 54%|█████▎    | 192/358 [02:54<01:51,  1.49it/s]"
     ]
    },
    {
     "name": "stdout",
     "output_type": "stream",
     "text": [
      "local Optima\n",
      "y_mean 5.406352258266428\n",
      "mean_mean 5.406248593674418\n",
      "abs(round((mean_mean-y_mean)/y_mean)) 0.0\n",
      "local Optima\n",
      "y_mean 1.6150097743504577\n",
      "mean_mean 1.6034206171861738\n",
      "abs(round((mean_mean-y_mean)/y_mean)) 0.0\n"
     ]
    },
    {
     "name": "stderr",
     "output_type": "stream",
     "text": [
      "\r",
      " 54%|█████▍    | 193/358 [02:54<01:56,  1.42it/s]"
     ]
    },
    {
     "name": "stdout",
     "output_type": "stream",
     "text": [
      "local Optima\n",
      "y_mean 1.6150097743504577\n",
      "mean_mean 1.5644899521211764\n",
      "abs(round((mean_mean-y_mean)/y_mean)) 0.0\n",
      "local Optima\n",
      "y_mean 5.004416916415755\n",
      "mean_mean 5.004414857353736\n",
      "abs(round((mean_mean-y_mean)/y_mean)) 0.0\n"
     ]
    },
    {
     "name": "stderr",
     "output_type": "stream",
     "text": [
      "\r",
      " 54%|█████▍    | 194/358 [02:55<01:56,  1.41it/s]"
     ]
    },
    {
     "name": "stdout",
     "output_type": "stream",
     "text": [
      "local Optima\n",
      "y_mean 5.004416916415755\n",
      "mean_mean 5.004332384246561\n",
      "abs(round((mean_mean-y_mean)/y_mean)) 0.0\n",
      "local Optima\n",
      "y_mean 1.5430037933360279\n",
      "mean_mean 1.556299044579934\n",
      "abs(round((mean_mean-y_mean)/y_mean)) 0.0\n"
     ]
    },
    {
     "name": "stderr",
     "output_type": "stream",
     "text": [
      "\r",
      " 54%|█████▍    | 195/358 [02:56<01:54,  1.42it/s]"
     ]
    },
    {
     "name": "stdout",
     "output_type": "stream",
     "text": [
      "local Optima\n",
      "y_mean 1.5430037933360279\n",
      "mean_mean 1.4963125796925063\n",
      "abs(round((mean_mean-y_mean)/y_mean)) 0.0\n",
      "local Optima\n",
      "y_mean 4.764794745493376\n",
      "mean_mean 4.764783115523573\n",
      "abs(round((mean_mean-y_mean)/y_mean)) 0.0\n"
     ]
    },
    {
     "name": "stderr",
     "output_type": "stream",
     "text": [
      "\r",
      " 55%|█████▍    | 196/358 [02:57<01:55,  1.40it/s]"
     ]
    },
    {
     "name": "stdout",
     "output_type": "stream",
     "text": [
      "local Optima\n",
      "y_mean 4.764794745493376\n",
      "mean_mean 4.764731164578746\n",
      "abs(round((mean_mean-y_mean)/y_mean)) 0.0\n",
      "local Optima\n",
      "y_mean 1.076775563206632\n",
      "mean_mean 0.819311312789894\n",
      "abs(round((mean_mean-y_mean)/y_mean)) 0.0\n"
     ]
    },
    {
     "name": "stderr",
     "output_type": "stream",
     "text": [
      "\r",
      " 55%|█████▌    | 197/358 [02:57<01:56,  1.38it/s]"
     ]
    },
    {
     "name": "stdout",
     "output_type": "stream",
     "text": [
      "local Optima\n",
      "y_mean 1.076775563206632\n",
      "mean_mean 0.9620969951287344\n",
      "abs(round((mean_mean-y_mean)/y_mean)) 0.0\n",
      "local Optima\n",
      "y_mean 5.600454223697955\n",
      "mean_mean 5.5994487962728705\n",
      "abs(round((mean_mean-y_mean)/y_mean)) 0.0\n"
     ]
    },
    {
     "name": "stderr",
     "output_type": "stream",
     "text": [
      "\r",
      " 55%|█████▌    | 198/358 [02:58<01:53,  1.41it/s]"
     ]
    },
    {
     "name": "stdout",
     "output_type": "stream",
     "text": [
      "local Optima\n",
      "y_mean 5.600454223697955\n",
      "mean_mean 5.600432072572661\n",
      "abs(round((mean_mean-y_mean)/y_mean)) 0.0\n",
      "local Optima\n",
      "y_mean 1.358672120801613\n",
      "mean_mean 1.1932742425328877\n",
      "abs(round((mean_mean-y_mean)/y_mean)) 0.0\n"
     ]
    },
    {
     "name": "stderr",
     "output_type": "stream",
     "text": [
      "\r",
      " 56%|█████▌    | 199/358 [02:59<01:53,  1.41it/s]"
     ]
    },
    {
     "name": "stdout",
     "output_type": "stream",
     "text": [
      "local Optima\n",
      "y_mean 1.358672120801613\n",
      "mean_mean 1.2837701385636238\n",
      "abs(round((mean_mean-y_mean)/y_mean)) 0.0\n",
      "local Optima\n",
      "y_mean 5.097639123276929\n",
      "mean_mean 5.0972418729839\n",
      "abs(round((mean_mean-y_mean)/y_mean)) 0.0\n"
     ]
    },
    {
     "name": "stderr",
     "output_type": "stream",
     "text": [
      "\r",
      " 56%|█████▌    | 200/358 [02:59<01:56,  1.35it/s]"
     ]
    },
    {
     "name": "stdout",
     "output_type": "stream",
     "text": [
      "local Optima\n",
      "y_mean 5.097639123276929\n",
      "mean_mean 5.097619048932295\n",
      "abs(round((mean_mean-y_mean)/y_mean)) 0.0\n",
      "local Optima\n",
      "y_mean 2.4186214197567084\n",
      "mean_mean 2.4575172106668184\n",
      "abs(round((mean_mean-y_mean)/y_mean)) 0.0\n"
     ]
    },
    {
     "name": "stderr",
     "output_type": "stream",
     "text": [
      "\r",
      " 56%|█████▌    | 201/358 [03:00<01:58,  1.33it/s]"
     ]
    },
    {
     "name": "stdout",
     "output_type": "stream",
     "text": [
      "local Optima\n",
      "y_mean 2.4186214197567084\n",
      "mean_mean 2.3829277477113067\n",
      "abs(round((mean_mean-y_mean)/y_mean)) 0.0\n",
      "local Optima\n",
      "y_mean 5.0120529204686175\n",
      "mean_mean 5.012044423677073\n",
      "abs(round((mean_mean-y_mean)/y_mean)) 0.0\n"
     ]
    },
    {
     "name": "stderr",
     "output_type": "stream",
     "text": [
      "\r",
      " 56%|█████▋    | 202/358 [03:01<01:55,  1.35it/s]"
     ]
    },
    {
     "name": "stdout",
     "output_type": "stream",
     "text": [
      "local Optima\n",
      "y_mean 5.0120529204686175\n",
      "mean_mean 5.012042766858832\n",
      "abs(round((mean_mean-y_mean)/y_mean)) 0.0\n",
      "local Optima\n",
      "y_mean 1.0666967365050621\n",
      "mean_mean 0.9081313646747244\n",
      "abs(round((mean_mean-y_mean)/y_mean)) 0.0\n"
     ]
    },
    {
     "name": "stderr",
     "output_type": "stream",
     "text": [
      "\r",
      " 57%|█████▋    | 203/358 [03:02<01:52,  1.37it/s]"
     ]
    },
    {
     "name": "stdout",
     "output_type": "stream",
     "text": [
      "local Optima\n",
      "y_mean 1.0666967365050621\n",
      "mean_mean 1.017522873723532\n",
      "abs(round((mean_mean-y_mean)/y_mean)) 0.0\n",
      "local Optima\n",
      "y_mean 3.783820962162446\n",
      "mean_mean 3.783732587679539\n",
      "abs(round((mean_mean-y_mean)/y_mean)) 0.0\n"
     ]
    },
    {
     "name": "stderr",
     "output_type": "stream",
     "text": [
      "\r",
      " 57%|█████▋    | 204/358 [03:02<01:50,  1.39it/s]"
     ]
    },
    {
     "name": "stdout",
     "output_type": "stream",
     "text": [
      "local Optima\n",
      "y_mean 3.783820962162446\n",
      "mean_mean 3.783732610785064\n",
      "abs(round((mean_mean-y_mean)/y_mean)) 0.0\n",
      "local Optima\n",
      "y_mean 1.36341168420365\n",
      "mean_mean 1.1728597636792442\n",
      "abs(round((mean_mean-y_mean)/y_mean)) 0.0\n"
     ]
    },
    {
     "name": "stderr",
     "output_type": "stream",
     "text": [
      "\r",
      " 57%|█████▋    | 205/358 [03:03<01:46,  1.44it/s]"
     ]
    },
    {
     "name": "stdout",
     "output_type": "stream",
     "text": [
      "local Optima\n",
      "y_mean 1.36341168420365\n",
      "mean_mean 1.2931753700849427\n",
      "abs(round((mean_mean-y_mean)/y_mean)) 0.0\n",
      "local Optima\n",
      "y_mean 4.690759111600033\n",
      "mean_mean 4.690706347424325\n",
      "abs(round((mean_mean-y_mean)/y_mean)) 0.0\n"
     ]
    },
    {
     "name": "stderr",
     "output_type": "stream",
     "text": [
      "\r",
      " 58%|█████▊    | 206/358 [03:04<01:46,  1.42it/s]"
     ]
    },
    {
     "name": "stdout",
     "output_type": "stream",
     "text": [
      "local Optima\n",
      "y_mean 4.690759111600033\n",
      "mean_mean 4.690706339653441\n",
      "abs(round((mean_mean-y_mean)/y_mean)) 0.0\n",
      "local Optima\n",
      "y_mean 2.329179060677754\n",
      "mean_mean 2.024197942735832\n",
      "abs(round((mean_mean-y_mean)/y_mean)) 0.0\n"
     ]
    },
    {
     "name": "stderr",
     "output_type": "stream",
     "text": [
      "\r",
      " 58%|█████▊    | 207/358 [03:04<01:44,  1.45it/s]"
     ]
    },
    {
     "name": "stdout",
     "output_type": "stream",
     "text": [
      "local Optima\n",
      "y_mean 2.329179060677754\n",
      "mean_mean 2.300070476509751\n",
      "abs(round((mean_mean-y_mean)/y_mean)) 0.0\n",
      "Fit Cholesky decomposition was not successful.\n",
      "Fit Cholesky decomposition was not successful.\n",
      "Fit Cholesky decomposition was not successful.\n",
      "local Optima\n",
      "y_mean 4.6945990429490525\n",
      "mean_mean 4.694571862598718\n",
      "abs(round((mean_mean-y_mean)/y_mean)) 0.0\n",
      "local Optima\n",
      "y_mean 4.6945990429490525\n",
      "mean_mean 4.694571862598718\n",
      "abs(round((mean_mean-y_mean)/y_mean)) 0.0\n",
      "local Optima\n",
      "y_mean 4.6945990429490525\n",
      "mean_mean 4.694571862598718\n",
      "abs(round((mean_mean-y_mean)/y_mean)) 0.0\n",
      "local Optima\n",
      "y_mean 4.6945990429490525\n",
      "mean_mean 4.694571862598718\n",
      "abs(round((mean_mean-y_mean)/y_mean)) 0.0\n"
     ]
    },
    {
     "name": "stderr",
     "output_type": "stream",
     "text": [
      "\r",
      " 58%|█████▊    | 208/358 [03:06<02:45,  1.10s/it]"
     ]
    },
    {
     "name": "stdout",
     "output_type": "stream",
     "text": [
      "local Optima\n",
      "y_mean 4.6945990429490525\n",
      "mean_mean 4.694565746724747\n",
      "abs(round((mean_mean-y_mean)/y_mean)) 0.0\n",
      "local Optima\n",
      "y_mean 0.6951125979316335\n",
      "mean_mean 0.6533359079430872\n",
      "abs(round((mean_mean-y_mean)/y_mean)) 0.0\n"
     ]
    },
    {
     "name": "stderr",
     "output_type": "stream",
     "text": [
      "\r",
      " 58%|█████▊    | 209/358 [03:07<02:41,  1.08s/it]"
     ]
    },
    {
     "name": "stdout",
     "output_type": "stream",
     "text": [
      "local Optima\n",
      "y_mean 0.6951125979316335\n",
      "mean_mean 0.5977863006799069\n",
      "abs(round((mean_mean-y_mean)/y_mean)) 0.0\n",
      "local Optima\n",
      "y_mean 4.118910060390329\n",
      "mean_mean 4.11888062484457\n",
      "abs(round((mean_mean-y_mean)/y_mean)) 0.0\n"
     ]
    },
    {
     "name": "stderr",
     "output_type": "stream",
     "text": [
      "\r",
      " 59%|█████▊    | 210/358 [03:08<02:27,  1.00it/s]"
     ]
    },
    {
     "name": "stdout",
     "output_type": "stream",
     "text": [
      "local Optima\n",
      "y_mean 4.118910060390329\n",
      "mean_mean 4.118880625927232\n",
      "abs(round((mean_mean-y_mean)/y_mean)) 0.0\n",
      "local Optima\n",
      "y_mean 1.040555398712063\n",
      "mean_mean 1.095728026571698\n",
      "abs(round((mean_mean-y_mean)/y_mean)) 0.0\n"
     ]
    },
    {
     "name": "stderr",
     "output_type": "stream",
     "text": [
      "\r",
      " 59%|█████▉    | 211/358 [03:09<02:12,  1.11it/s]"
     ]
    },
    {
     "name": "stdout",
     "output_type": "stream",
     "text": [
      "local Optima\n",
      "y_mean 1.040555398712063\n",
      "mean_mean 0.9836789615388837\n",
      "abs(round((mean_mean-y_mean)/y_mean)) 0.0\n",
      "local Optima\n",
      "y_mean 4.0365454471408375\n",
      "mean_mean 4.036526762862747\n",
      "abs(round((mean_mean-y_mean)/y_mean)) 0.0\n"
     ]
    },
    {
     "name": "stderr",
     "output_type": "stream",
     "text": [
      "\r",
      " 59%|█████▉    | 212/358 [03:10<02:07,  1.14it/s]"
     ]
    },
    {
     "name": "stdout",
     "output_type": "stream",
     "text": [
      "local Optima\n",
      "y_mean 4.0365454471408375\n",
      "mean_mean 4.036526761976992\n",
      "abs(round((mean_mean-y_mean)/y_mean)) 0.0\n",
      "local Optima\n",
      "y_mean 2.058050962505018\n",
      "mean_mean 2.050927725369836\n",
      "abs(round((mean_mean-y_mean)/y_mean)) 0.0\n"
     ]
    },
    {
     "name": "stderr",
     "output_type": "stream",
     "text": [
      "\r",
      " 59%|█████▉    | 213/358 [03:11<02:02,  1.19it/s]"
     ]
    },
    {
     "name": "stdout",
     "output_type": "stream",
     "text": [
      "local Optima\n",
      "y_mean 2.058050962505018\n",
      "mean_mean 2.0308872736478927\n",
      "abs(round((mean_mean-y_mean)/y_mean)) 0.0\n",
      "local Optima\n",
      "y_mean 4.660495895052136\n",
      "mean_mean 4.660461054946498\n",
      "abs(round((mean_mean-y_mean)/y_mean)) 0.0\n"
     ]
    },
    {
     "name": "stderr",
     "output_type": "stream",
     "text": [
      "\r",
      " 60%|█████▉    | 214/358 [03:11<01:56,  1.23it/s]"
     ]
    },
    {
     "name": "stdout",
     "output_type": "stream",
     "text": [
      "local Optima\n",
      "y_mean 4.660495895052136\n",
      "mean_mean 4.660461070339082\n",
      "abs(round((mean_mean-y_mean)/y_mean)) 0.0\n",
      "local Optima\n",
      "y_mean 1.409067118651215\n",
      "mean_mean 1.295587353479223\n",
      "abs(round((mean_mean-y_mean)/y_mean)) 0.0\n"
     ]
    },
    {
     "name": "stderr",
     "output_type": "stream",
     "text": [
      "\r",
      " 60%|██████    | 215/358 [03:12<01:49,  1.30it/s]"
     ]
    },
    {
     "name": "stdout",
     "output_type": "stream",
     "text": [
      "local Optima\n",
      "y_mean 1.409067118651215\n",
      "mean_mean 1.2611592225956247\n",
      "abs(round((mean_mean-y_mean)/y_mean)) 0.0\n",
      "local Optima\n",
      "y_mean 5.223126838216291\n",
      "mean_mean 5.223108866638665\n",
      "abs(round((mean_mean-y_mean)/y_mean)) 0.0\n"
     ]
    },
    {
     "name": "stderr",
     "output_type": "stream",
     "text": [
      "\r",
      " 60%|██████    | 216/358 [03:13<01:48,  1.31it/s]"
     ]
    },
    {
     "name": "stdout",
     "output_type": "stream",
     "text": [
      "local Optima\n",
      "y_mean 5.223126838216291\n",
      "mean_mean 5.223094535145733\n",
      "abs(round((mean_mean-y_mean)/y_mean)) 0.0\n",
      "local Optima\n",
      "y_mean 2.0824230272544186\n",
      "mean_mean 2.0996357193641795\n",
      "abs(round((mean_mean-y_mean)/y_mean)) 0.0\n"
     ]
    },
    {
     "name": "stderr",
     "output_type": "stream",
     "text": [
      "\r",
      " 61%|██████    | 217/358 [03:14<01:54,  1.23it/s]"
     ]
    },
    {
     "name": "stdout",
     "output_type": "stream",
     "text": [
      "local Optima\n",
      "y_mean 2.0824230272544186\n",
      "mean_mean 2.012455244272505\n",
      "abs(round((mean_mean-y_mean)/y_mean)) 0.0\n",
      "local Optima\n",
      "y_mean 5.590142090383278\n",
      "mean_mean 5.590128633857391\n",
      "abs(round((mean_mean-y_mean)/y_mean)) 0.0\n"
     ]
    },
    {
     "name": "stderr",
     "output_type": "stream",
     "text": [
      "\r",
      " 61%|██████    | 218/358 [03:15<01:56,  1.20it/s]"
     ]
    },
    {
     "name": "stdout",
     "output_type": "stream",
     "text": [
      "local Optima\n",
      "y_mean 5.590142090383278\n",
      "mean_mean 5.590128641089879\n",
      "abs(round((mean_mean-y_mean)/y_mean)) 0.0\n",
      "local Optima\n",
      "y_mean 1.975323392416506\n",
      "mean_mean 1.9521892237663516\n",
      "abs(round((mean_mean-y_mean)/y_mean)) 0.0\n"
     ]
    },
    {
     "name": "stderr",
     "output_type": "stream",
     "text": [
      "\r",
      " 61%|██████    | 219/358 [03:15<01:51,  1.25it/s]"
     ]
    },
    {
     "name": "stdout",
     "output_type": "stream",
     "text": [
      "local Optima\n",
      "y_mean 1.975323392416506\n",
      "mean_mean 1.922355621210486\n",
      "abs(round((mean_mean-y_mean)/y_mean)) 0.0\n",
      "local Optima\n",
      "y_mean 5.2525814112819775\n",
      "mean_mean 5.2525687219578785\n",
      "abs(round((mean_mean-y_mean)/y_mean)) 0.0\n"
     ]
    },
    {
     "name": "stderr",
     "output_type": "stream",
     "text": [
      "\r",
      " 61%|██████▏   | 220/358 [03:16<01:48,  1.27it/s]"
     ]
    },
    {
     "name": "stdout",
     "output_type": "stream",
     "text": [
      "local Optima\n",
      "y_mean 5.2525814112819775\n",
      "mean_mean 5.252568719945417\n",
      "abs(round((mean_mean-y_mean)/y_mean)) 0.0\n",
      "local Optima\n",
      "y_mean 1.8069903180672569\n",
      "mean_mean 1.7444302570969967\n",
      "abs(round((mean_mean-y_mean)/y_mean)) 0.0\n"
     ]
    },
    {
     "name": "stderr",
     "output_type": "stream",
     "text": [
      "\r",
      " 62%|██████▏   | 221/358 [03:17<01:47,  1.27it/s]"
     ]
    },
    {
     "name": "stdout",
     "output_type": "stream",
     "text": [
      "local Optima\n",
      "y_mean 1.8069903180672569\n",
      "mean_mean 1.7338260444995672\n",
      "abs(round((mean_mean-y_mean)/y_mean)) 0.0\n",
      "local Optima\n",
      "y_mean 5.3265862098643915\n",
      "mean_mean 5.3265188803092345\n",
      "abs(round((mean_mean-y_mean)/y_mean)) 0.0\n"
     ]
    },
    {
     "name": "stderr",
     "output_type": "stream",
     "text": [
      "\r",
      " 62%|██████▏   | 222/358 [03:18<01:50,  1.24it/s]"
     ]
    },
    {
     "name": "stdout",
     "output_type": "stream",
     "text": [
      "local Optima\n",
      "y_mean 5.3265862098643915\n",
      "mean_mean 5.3265165490151904\n",
      "abs(round((mean_mean-y_mean)/y_mean)) 0.0\n",
      "local Optima\n",
      "y_mean 1.9918718662613304\n",
      "mean_mean 2.024934377054835\n",
      "abs(round((mean_mean-y_mean)/y_mean)) 0.0\n"
     ]
    },
    {
     "name": "stderr",
     "output_type": "stream",
     "text": [
      "\r",
      " 62%|██████▏   | 223/358 [03:18<01:41,  1.33it/s]"
     ]
    },
    {
     "name": "stdout",
     "output_type": "stream",
     "text": [
      "local Optima\n",
      "y_mean 1.9918718662613304\n",
      "mean_mean 1.9459530196687649\n",
      "abs(round((mean_mean-y_mean)/y_mean)) 0.0\n"
     ]
    },
    {
     "name": "stderr",
     "output_type": "stream",
     "text": [
      "\r",
      " 63%|██████▎   | 224/358 [03:19<01:32,  1.45it/s]"
     ]
    },
    {
     "name": "stdout",
     "output_type": "stream",
     "text": [
      "local Optima\n",
      "y_mean 5.08473130803212\n",
      "mean_mean 5.084703799263624\n",
      "abs(round((mean_mean-y_mean)/y_mean)) 0.0\n",
      "local Optima\n",
      "y_mean 5.08473130803212\n",
      "mean_mean 5.084681249865751\n",
      "abs(round((mean_mean-y_mean)/y_mean)) 0.0\n",
      "local Optima\n",
      "y_mean 2.245517631563026\n",
      "mean_mean 2.283858185529731\n",
      "abs(round((mean_mean-y_mean)/y_mean)) 0.0\n"
     ]
    },
    {
     "name": "stderr",
     "output_type": "stream",
     "text": [
      "\r",
      " 63%|██████▎   | 225/358 [03:19<01:23,  1.60it/s]"
     ]
    },
    {
     "name": "stdout",
     "output_type": "stream",
     "text": [
      "local Optima\n",
      "y_mean 2.245517631563026\n",
      "mean_mean 2.197935840979075\n",
      "abs(round((mean_mean-y_mean)/y_mean)) 0.0\n",
      "Fit Cholesky decomposition was not successful.\n",
      "Fit Cholesky decomposition was not successful.\n",
      "Fit Cholesky decomposition was not successful.\n",
      "local Optima\n",
      "y_mean 5.187389908604212\n",
      "mean_mean 5.187394743120308\n",
      "abs(round((mean_mean-y_mean)/y_mean)) 0.0\n",
      "local Optima\n",
      "y_mean 5.187389908604212\n",
      "mean_mean 5.187394743120308\n",
      "abs(round((mean_mean-y_mean)/y_mean)) 0.0\n",
      "local Optima\n",
      "y_mean 5.187389908604212\n",
      "mean_mean 5.187394743120308\n",
      "abs(round((mean_mean-y_mean)/y_mean)) 0.0\n",
      "local Optima\n",
      "y_mean 5.187389908604212\n",
      "mean_mean 5.187394743120308\n",
      "abs(round((mean_mean-y_mean)/y_mean)) 0.0\n"
     ]
    },
    {
     "name": "stderr",
     "output_type": "stream",
     "text": [
      "\r",
      " 63%|██████▎   | 226/358 [03:21<01:57,  1.12it/s]"
     ]
    },
    {
     "name": "stdout",
     "output_type": "stream",
     "text": [
      "local Optima\n",
      "y_mean 5.187389908604212\n",
      "mean_mean 5.187368886958163\n",
      "abs(round((mean_mean-y_mean)/y_mean)) 0.0\n",
      "local Optima\n",
      "y_mean 0.7109474556293784\n",
      "mean_mean 0.6552053356094438\n",
      "abs(round((mean_mean-y_mean)/y_mean)) 0.0\n",
      "local Optima\n",
      "y_mean 0.7109474556293784\n",
      "mean_mean 0.6225484359651162\n",
      "abs(round((mean_mean-y_mean)/y_mean)) 0.0\n"
     ]
    },
    {
     "name": "stderr",
     "output_type": "stream",
     "text": [
      "\r",
      " 63%|██████▎   | 227/358 [03:21<01:40,  1.31it/s]"
     ]
    },
    {
     "name": "stdout",
     "output_type": "stream",
     "text": [
      "local Optima\n",
      "y_mean 4.595966270733669\n",
      "mean_mean 4.595916345314456\n",
      "abs(round((mean_mean-y_mean)/y_mean)) 0.0\n"
     ]
    },
    {
     "name": "stderr",
     "output_type": "stream",
     "text": [
      "\r",
      " 64%|██████▎   | 228/358 [03:22<01:28,  1.47it/s]"
     ]
    },
    {
     "name": "stdout",
     "output_type": "stream",
     "text": [
      "local Optima\n",
      "y_mean 4.595966270733669\n",
      "mean_mean 4.595916369459428\n",
      "abs(round((mean_mean-y_mean)/y_mean)) 0.0\n"
     ]
    },
    {
     "name": "stderr",
     "output_type": "stream",
     "text": [
      "\r",
      " 64%|██████▍   | 229/358 [03:22<01:20,  1.60it/s]"
     ]
    },
    {
     "name": "stdout",
     "output_type": "stream",
     "text": [
      "local Optima\n",
      "y_mean 0.6821432964620511\n",
      "mean_mean 0.7211033607286618\n",
      "abs(round((mean_mean-y_mean)/y_mean)) 0.0\n",
      "local Optima\n",
      "y_mean 0.6821432964620511\n",
      "mean_mean 0.621714028190758\n",
      "abs(round((mean_mean-y_mean)/y_mean)) 0.0\n",
      "local Optima\n",
      "y_mean 4.040609430946139\n",
      "mean_mean 4.040566892561822\n",
      "abs(round((mean_mean-y_mean)/y_mean)) 0.0\n"
     ]
    },
    {
     "name": "stderr",
     "output_type": "stream",
     "text": [
      "\r",
      " 64%|██████▍   | 230/358 [03:23<01:16,  1.68it/s]"
     ]
    },
    {
     "name": "stdout",
     "output_type": "stream",
     "text": [
      "local Optima\n",
      "y_mean 4.040609430946139\n",
      "mean_mean 4.040566899018029\n",
      "abs(round((mean_mean-y_mean)/y_mean)) 0.0\n",
      "local Optima\n",
      "y_mean 1.2050630999957954\n",
      "mean_mean 1.2919064442440182\n",
      "abs(round((mean_mean-y_mean)/y_mean)) 0.0\n"
     ]
    },
    {
     "name": "stderr",
     "output_type": "stream",
     "text": [
      "\r",
      " 65%|██████▍   | 231/358 [03:23<01:18,  1.61it/s]"
     ]
    },
    {
     "name": "stdout",
     "output_type": "stream",
     "text": [
      "local Optima\n",
      "y_mean 1.2050630999957954\n",
      "mean_mean 1.1459514218876292\n",
      "abs(round((mean_mean-y_mean)/y_mean)) 0.0\n",
      "Fit Cholesky decomposition was not successful.\n",
      "local Optima\n",
      "y_mean 4.662098312917753\n",
      "mean_mean 4.662051725749258\n",
      "abs(round((mean_mean-y_mean)/y_mean)) 0.0\n",
      "local Optima\n",
      "y_mean 4.662098312917753\n",
      "mean_mean 4.662051725749258\n",
      "abs(round((mean_mean-y_mean)/y_mean)) 0.0\n"
     ]
    },
    {
     "name": "stderr",
     "output_type": "stream",
     "text": [
      "\r",
      " 65%|██████▍   | 232/358 [03:25<01:36,  1.31it/s]"
     ]
    },
    {
     "name": "stdout",
     "output_type": "stream",
     "text": [
      "local Optima\n",
      "y_mean 4.662098312917753\n",
      "mean_mean 4.662051735114551\n",
      "abs(round((mean_mean-y_mean)/y_mean)) 0.0\n",
      "local Optima\n",
      "y_mean 1.389571692995163\n",
      "mean_mean 1.4198033009821152\n",
      "abs(round((mean_mean-y_mean)/y_mean)) 0.0\n"
     ]
    },
    {
     "name": "stderr",
     "output_type": "stream",
     "text": [
      "\r",
      " 65%|██████▌   | 233/358 [03:25<01:26,  1.45it/s]"
     ]
    },
    {
     "name": "stdout",
     "output_type": "stream",
     "text": [
      "local Optima\n",
      "y_mean 1.389571692995163\n",
      "mean_mean 1.30615995112235\n",
      "abs(round((mean_mean-y_mean)/y_mean)) 0.0\n",
      "local Optima\n",
      "y_mean 5.0533144299784\n",
      "mean_mean 5.053270737480351\n",
      "abs(round((mean_mean-y_mean)/y_mean)) 0.0\n"
     ]
    },
    {
     "name": "stderr",
     "output_type": "stream",
     "text": [
      "\r",
      " 65%|██████▌   | 234/358 [03:26<01:33,  1.32it/s]"
     ]
    },
    {
     "name": "stdout",
     "output_type": "stream",
     "text": [
      "local Optima\n",
      "y_mean 5.0533144299784\n",
      "mean_mean 5.05327075732724\n",
      "abs(round((mean_mean-y_mean)/y_mean)) 0.0\n",
      "local Optima\n",
      "y_mean 1.7540857525084843\n",
      "mean_mean 1.6174270784085727\n",
      "abs(round((mean_mean-y_mean)/y_mean)) 0.0\n",
      "local Optima\n",
      "y_mean 1.7540857525084843\n",
      "mean_mean 1.6968660954637391\n",
      "abs(round((mean_mean-y_mean)/y_mean)) 0.0\n"
     ]
    },
    {
     "name": "stderr",
     "output_type": "stream",
     "text": [
      "\r",
      " 66%|██████▌   | 235/358 [03:27<01:25,  1.44it/s]"
     ]
    },
    {
     "name": "stdout",
     "output_type": "stream",
     "text": [
      "local Optima\n",
      "y_mean 5.071230407826221\n",
      "mean_mean 5.0711866464509425\n",
      "abs(round((mean_mean-y_mean)/y_mean)) 0.0\n"
     ]
    },
    {
     "name": "stderr",
     "output_type": "stream",
     "text": [
      "\r",
      " 66%|██████▌   | 236/358 [03:27<01:25,  1.42it/s]"
     ]
    },
    {
     "name": "stdout",
     "output_type": "stream",
     "text": [
      "local Optima\n",
      "y_mean 5.071230407826221\n",
      "mean_mean 5.071186659851493\n",
      "abs(round((mean_mean-y_mean)/y_mean)) 0.0\n",
      "local Optima\n",
      "y_mean 2.4945183672008473\n",
      "mean_mean 2.499805185170547\n",
      "abs(round((mean_mean-y_mean)/y_mean)) 0.0\n"
     ]
    },
    {
     "name": "stderr",
     "output_type": "stream",
     "text": [
      "\r",
      " 66%|██████▌   | 237/358 [03:28<01:27,  1.39it/s]"
     ]
    },
    {
     "name": "stdout",
     "output_type": "stream",
     "text": [
      "local Optima\n",
      "y_mean 2.4945183672008473\n",
      "mean_mean 2.468446821034653\n",
      "abs(round((mean_mean-y_mean)/y_mean)) 0.0\n",
      "local Optima\n",
      "y_mean 5.098509985796515\n",
      "mean_mean 5.10151691749337\n",
      "abs(round((mean_mean-y_mean)/y_mean)) 0.0\n"
     ]
    },
    {
     "name": "stderr",
     "output_type": "stream",
     "text": [
      "\r",
      " 66%|██████▋   | 238/358 [03:29<01:18,  1.52it/s]"
     ]
    },
    {
     "name": "stdout",
     "output_type": "stream",
     "text": [
      "local Optima\n",
      "y_mean 5.098509985796515\n",
      "mean_mean 5.098486256240942\n",
      "abs(round((mean_mean-y_mean)/y_mean)) 0.0\n"
     ]
    },
    {
     "name": "stderr",
     "output_type": "stream",
     "text": [
      "\r",
      " 67%|██████▋   | 239/358 [03:29<01:09,  1.71it/s]"
     ]
    },
    {
     "name": "stdout",
     "output_type": "stream",
     "text": [
      "local Optima\n",
      "y_mean 0.46349110023730333\n",
      "mean_mean 0.46890699263611774\n",
      "abs(round((mean_mean-y_mean)/y_mean)) 0.0\n",
      "local Optima\n",
      "y_mean 0.46349110023730333\n",
      "mean_mean 0.38853189559118034\n",
      "abs(round((mean_mean-y_mean)/y_mean)) 0.0\n"
     ]
    },
    {
     "name": "stderr",
     "output_type": "stream",
     "text": [
      "\r",
      " 67%|██████▋   | 240/358 [03:29<01:03,  1.85it/s]"
     ]
    },
    {
     "name": "stdout",
     "output_type": "stream",
     "text": [
      "local Optima\n",
      "y_mean 2.5506197835959785\n",
      "mean_mean 2.548183263481054\n",
      "abs(round((mean_mean-y_mean)/y_mean)) 0.0\n",
      "local Optima\n",
      "y_mean 2.5506197835959785\n",
      "mean_mean 2.550554156918451\n",
      "abs(round((mean_mean-y_mean)/y_mean)) 0.0\n",
      "local Optima\n",
      "y_mean 0.8636349258582222\n",
      "mean_mean 0.7537777406834958\n",
      "abs(round((mean_mean-y_mean)/y_mean)) 0.0\n",
      "local Optima\n",
      "y_mean 0.8636349258582222\n",
      "mean_mean 0.8215436115306209\n",
      "abs(round((mean_mean-y_mean)/y_mean)) 0.0\n"
     ]
    },
    {
     "name": "stderr",
     "output_type": "stream",
     "text": [
      " 68%|██████▊   | 242/358 [03:30<00:59,  1.96it/s]"
     ]
    },
    {
     "name": "stdout",
     "output_type": "stream",
     "text": [
      "local Optima\n",
      "y_mean 3.679779210835053\n",
      "mean_mean 3.682908526087687\n",
      "abs(round((mean_mean-y_mean)/y_mean)) 0.0\n",
      "local Optima\n",
      "y_mean 3.679779210835053\n",
      "mean_mean 3.679755953463864\n",
      "abs(round((mean_mean-y_mean)/y_mean)) 0.0\n"
     ]
    },
    {
     "name": "stderr",
     "output_type": "stream",
     "text": [
      "\r",
      " 68%|██████▊   | 243/358 [03:31<00:55,  2.06it/s]"
     ]
    },
    {
     "name": "stdout",
     "output_type": "stream",
     "text": [
      "local Optima\n",
      "y_mean 1.0638870539515657\n",
      "mean_mean 0.9933990992228666\n",
      "abs(round((mean_mean-y_mean)/y_mean)) 0.0\n",
      "local Optima\n",
      "y_mean 1.0638870539515657\n",
      "mean_mean 1.0409392789358012\n",
      "abs(round((mean_mean-y_mean)/y_mean)) 0.0\n",
      "Fit Cholesky decomposition was not successful.\n"
     ]
    },
    {
     "name": "stderr",
     "output_type": "stream",
     "text": [
      "\r",
      " 68%|██████▊   | 244/358 [03:31<01:01,  1.85it/s]"
     ]
    },
    {
     "name": "stdout",
     "output_type": "stream",
     "text": [
      "local Optima\n",
      "y_mean 3.661754846862825\n",
      "mean_mean 3.6617426368514425\n",
      "abs(round((mean_mean-y_mean)/y_mean)) 0.0\n",
      "local Optima\n",
      "y_mean 3.661754846862825\n",
      "mean_mean 3.6617426368514425\n",
      "abs(round((mean_mean-y_mean)/y_mean)) 0.0\n",
      "local Optima\n",
      "y_mean 3.661754846862825\n",
      "mean_mean 3.6617426323487052\n",
      "abs(round((mean_mean-y_mean)/y_mean)) 0.0\n"
     ]
    },
    {
     "name": "stderr",
     "output_type": "stream",
     "text": [
      "\r",
      " 68%|██████▊   | 245/358 [03:32<00:55,  2.03it/s]"
     ]
    },
    {
     "name": "stdout",
     "output_type": "stream",
     "text": [
      "local Optima\n",
      "y_mean 1.3393745440265437\n",
      "mean_mean 1.5446891271450998\n",
      "abs(round((mean_mean-y_mean)/y_mean)) 0.0\n",
      "local Optima\n",
      "y_mean 1.3393745440265437\n",
      "mean_mean 1.2302629312281927\n",
      "abs(round((mean_mean-y_mean)/y_mean)) 0.0\n"
     ]
    },
    {
     "name": "stderr",
     "output_type": "stream",
     "text": [
      "\r",
      " 69%|██████▊   | 246/358 [03:32<00:52,  2.13it/s]"
     ]
    },
    {
     "name": "stdout",
     "output_type": "stream",
     "text": [
      "local Optima\n",
      "y_mean 4.8962100342265495\n",
      "mean_mean 4.896191111899012\n",
      "abs(round((mean_mean-y_mean)/y_mean)) 0.0\n",
      "local Optima\n",
      "y_mean 4.8962100342265495\n",
      "mean_mean 4.896191113394441\n",
      "abs(round((mean_mean-y_mean)/y_mean)) 0.0\n"
     ]
    },
    {
     "name": "stderr",
     "output_type": "stream",
     "text": [
      "\r",
      " 69%|██████▉   | 247/358 [03:33<00:48,  2.27it/s]"
     ]
    },
    {
     "name": "stdout",
     "output_type": "stream",
     "text": [
      "local Optima\n",
      "y_mean 1.3661977832972874\n",
      "mean_mean 1.5588844165165896\n",
      "abs(round((mean_mean-y_mean)/y_mean)) 0.0\n",
      "local Optima\n",
      "y_mean 1.3661977832972874\n",
      "mean_mean 1.278023692559295\n",
      "abs(round((mean_mean-y_mean)/y_mean)) 0.0\n"
     ]
    },
    {
     "name": "stderr",
     "output_type": "stream",
     "text": [
      "\r",
      " 69%|██████▉   | 248/358 [03:33<00:47,  2.33it/s]"
     ]
    },
    {
     "name": "stdout",
     "output_type": "stream",
     "text": [
      "local Optima\n",
      "y_mean 5.065538907894568\n",
      "mean_mean 5.065492928619758\n",
      "abs(round((mean_mean-y_mean)/y_mean)) 0.0\n",
      "local Optima\n",
      "y_mean 5.065538907894568\n",
      "mean_mean 5.065492922208492\n",
      "abs(round((mean_mean-y_mean)/y_mean)) 0.0\n"
     ]
    },
    {
     "name": "stderr",
     "output_type": "stream",
     "text": [
      "\r",
      " 70%|██████▉   | 249/358 [03:33<00:45,  2.42it/s]"
     ]
    },
    {
     "name": "stdout",
     "output_type": "stream",
     "text": [
      "local Optima\n",
      "y_mean 2.275742987875619\n",
      "mean_mean 2.2531218300900755\n",
      "abs(round((mean_mean-y_mean)/y_mean)) 0.0\n",
      "local Optima\n",
      "y_mean 2.275742987875619\n",
      "mean_mean 2.2378695229160925\n",
      "abs(round((mean_mean-y_mean)/y_mean)) 0.0\n",
      "Fit Cholesky decomposition was not successful.\n",
      "Fit Cholesky decomposition was not successful.\n",
      "Fit Cholesky decomposition was not successful.\n",
      "local Optima\n",
      "y_mean 4.886731555159438\n",
      "mean_mean 4.886704837110176\n",
      "abs(round((mean_mean-y_mean)/y_mean)) 0.0\n",
      "local Optima\n",
      "y_mean 4.886731555159438\n",
      "mean_mean 4.886704837110176\n",
      "abs(round((mean_mean-y_mean)/y_mean)) 0.0\n",
      "local Optima\n",
      "y_mean 4.886731555159438\n",
      "mean_mean 4.886704837110176\n",
      "abs(round((mean_mean-y_mean)/y_mean)) 0.0\n",
      "local Optima\n",
      "y_mean 4.886731555159438\n",
      "mean_mean 4.886704837110176\n",
      "abs(round((mean_mean-y_mean)/y_mean)) 0.0\n",
      "local Optima\n",
      "y_mean 4.886731555159438\n",
      "mean_mean 4.886704828064963\n",
      "abs(round((mean_mean-y_mean)/y_mean)) 0.0\n"
     ]
    },
    {
     "name": "stderr",
     "output_type": "stream",
     "text": [
      " 70%|███████   | 251/358 [03:35<00:58,  1.82it/s]"
     ]
    },
    {
     "name": "stdout",
     "output_type": "stream",
     "text": [
      "local Optima\n",
      "y_mean 1.4848285365365574\n",
      "mean_mean 1.2833114501950404\n",
      "abs(round((mean_mean-y_mean)/y_mean)) 0.0\n",
      "local Optima\n",
      "y_mean 1.4848285365365574\n",
      "mean_mean 1.3836246345448893\n",
      "abs(round((mean_mean-y_mean)/y_mean)) 0.0\n"
     ]
    },
    {
     "name": "stderr",
     "output_type": "stream",
     "text": [
      "\r",
      " 70%|███████   | 252/358 [03:35<00:53,  1.97it/s]"
     ]
    },
    {
     "name": "stdout",
     "output_type": "stream",
     "text": [
      "local Optima\n",
      "y_mean 6.1662650842534585\n",
      "mean_mean 6.166180973975885\n",
      "abs(round((mean_mean-y_mean)/y_mean)) 0.0\n",
      "local Optima\n",
      "y_mean 6.1662650842534585\n",
      "mean_mean 6.166180968514146\n",
      "abs(round((mean_mean-y_mean)/y_mean)) 0.0\n"
     ]
    },
    {
     "name": "stderr",
     "output_type": "stream",
     "text": [
      "\r",
      " 71%|███████   | 253/358 [03:36<00:49,  2.13it/s]"
     ]
    },
    {
     "name": "stdout",
     "output_type": "stream",
     "text": [
      "local Optima\n",
      "y_mean 1.8052569844135222\n",
      "mean_mean 1.6451752485549356\n",
      "abs(round((mean_mean-y_mean)/y_mean)) 0.0\n",
      "local Optima\n",
      "y_mean 1.8052569844135222\n",
      "mean_mean 1.7429751585824136\n",
      "abs(round((mean_mean-y_mean)/y_mean)) 0.0\n",
      "Fit Cholesky decomposition was not successful.\n",
      "Fit Cholesky decomposition was not successful.\n",
      "Fit Cholesky decomposition was not successful.\n",
      "local Optima\n",
      "y_mean 6.0624309292621295\n",
      "mean_mean 6.0624021546107425\n",
      "abs(round((mean_mean-y_mean)/y_mean)) 0.0\n",
      "local Optima\n",
      "y_mean 6.0624309292621295\n",
      "mean_mean 6.0624021546107425\n",
      "abs(round((mean_mean-y_mean)/y_mean)) 0.0\n",
      "local Optima\n",
      "y_mean 6.0624309292621295\n",
      "mean_mean 6.0624021546107425\n",
      "abs(round((mean_mean-y_mean)/y_mean)) 0.0\n",
      "local Optima\n",
      "y_mean 6.0624309292621295\n",
      "mean_mean 6.0624021546107425\n",
      "abs(round((mean_mean-y_mean)/y_mean)) 0.0\n"
     ]
    },
    {
     "name": "stderr",
     "output_type": "stream",
     "text": [
      "\r",
      " 71%|███████   | 254/358 [03:37<01:08,  1.52it/s]"
     ]
    },
    {
     "name": "stdout",
     "output_type": "stream",
     "text": [
      "local Optima\n",
      "y_mean 6.0624309292621295\n",
      "mean_mean 6.062402177118039\n",
      "abs(round((mean_mean-y_mean)/y_mean)) 0.0\n"
     ]
    },
    {
     "name": "stderr",
     "output_type": "stream",
     "text": [
      "\r",
      " 71%|███████   | 255/358 [03:37<00:59,  1.73it/s]"
     ]
    },
    {
     "name": "stdout",
     "output_type": "stream",
     "text": [
      "local Optima\n",
      "y_mean 2.527592314489357\n",
      "mean_mean 2.5215267387580464\n",
      "abs(round((mean_mean-y_mean)/y_mean)) 0.0\n",
      "local Optima\n",
      "y_mean 2.527592314489357\n",
      "mean_mean 2.485905093162327\n",
      "abs(round((mean_mean-y_mean)/y_mean)) 0.0\n"
     ]
    },
    {
     "name": "stderr",
     "output_type": "stream",
     "text": [
      "\r",
      " 72%|███████▏  | 256/358 [03:38<00:53,  1.89it/s]"
     ]
    },
    {
     "name": "stdout",
     "output_type": "stream",
     "text": [
      "local Optima\n",
      "y_mean 5.770613201484848\n",
      "mean_mean 5.7705892675386075\n",
      "abs(round((mean_mean-y_mean)/y_mean)) 0.0\n",
      "local Optima\n",
      "y_mean 5.770613201484848\n",
      "mean_mean 5.770589273565273\n",
      "abs(round((mean_mean-y_mean)/y_mean)) 0.0\n",
      "local Optima\n",
      "y_mean 0.7976988198926119\n",
      "mean_mean 0.33386900074812653\n",
      "abs(round((mean_mean-y_mean)/y_mean)) 1.0\n",
      "local Optima\n",
      "1\n",
      "y_mean 0.7976988198926119\n",
      "mean_mean 0.33386900074812653\n",
      "abs(round((mean_mean-y_mean)/y_mean)) 1.0\n",
      "local Optima\n",
      "y_mean 0.7976988198926119\n",
      "mean_mean 0.2562353462807671\n",
      "abs(round((mean_mean-y_mean)/y_mean)) 1.0\n",
      "local Optima\n",
      "1\n",
      "y_mean 0.7976988198926119\n",
      "mean_mean 0.2562353462807671\n",
      "abs(round((mean_mean-y_mean)/y_mean)) 1.0\n",
      "local Optima\n",
      "y_mean 0.7976988198926119\n",
      "mean_mean 0.26727173117022174\n",
      "abs(round((mean_mean-y_mean)/y_mean)) 1.0\n",
      "local Optima\n",
      "1\n",
      "y_mean 0.7976988198926119\n",
      "mean_mean 0.26727173117022174\n",
      "abs(round((mean_mean-y_mean)/y_mean)) 1.0\n",
      "local Optima\n",
      "y_mean 0.7976988198926119\n",
      "mean_mean 0.3350964930469496\n",
      "abs(round((mean_mean-y_mean)/y_mean)) 1.0\n",
      "local Optima\n",
      "1\n",
      "y_mean 0.7976988198926119\n",
      "mean_mean 0.3350964930469496\n",
      "abs(round((mean_mean-y_mean)/y_mean)) 1.0\n",
      "local Optima\n",
      "y_mean 0.7976988198926119\n",
      "mean_mean 0.30614203625162095\n",
      "abs(round((mean_mean-y_mean)/y_mean)) 1.0\n",
      "local Optima\n",
      "1\n",
      "y_mean 0.7976988198926119\n",
      "mean_mean 0.30614203625162095\n",
      "abs(round((mean_mean-y_mean)/y_mean)) 1.0\n"
     ]
    },
    {
     "name": "stderr",
     "output_type": "stream",
     "text": [
      "\r",
      " 72%|███████▏  | 257/358 [03:39<01:25,  1.18it/s]"
     ]
    },
    {
     "name": "stdout",
     "output_type": "stream",
     "text": [
      "local Optima\n",
      "y_mean 0.7976988198926119\n",
      "mean_mean 0.596159866712046\n",
      "abs(round((mean_mean-y_mean)/y_mean)) 0.0\n"
     ]
    },
    {
     "name": "stderr",
     "output_type": "stream",
     "text": [
      "\r",
      " 72%|███████▏  | 258/358 [03:40<01:11,  1.40it/s]"
     ]
    },
    {
     "name": "stdout",
     "output_type": "stream",
     "text": [
      "local Optima\n",
      "y_mean 5.679292788970759\n",
      "mean_mean 5.679270623087283\n",
      "abs(round((mean_mean-y_mean)/y_mean)) 0.0\n",
      "local Optima\n",
      "y_mean 5.679292788970759\n",
      "mean_mean 5.679270624679728\n",
      "abs(round((mean_mean-y_mean)/y_mean)) 0.0\n"
     ]
    },
    {
     "name": "stderr",
     "output_type": "stream",
     "text": [
      "\r",
      " 72%|███████▏  | 259/358 [03:40<01:02,  1.59it/s]"
     ]
    },
    {
     "name": "stdout",
     "output_type": "stream",
     "text": [
      "local Optima\n",
      "y_mean 1.4318460235073107\n",
      "mean_mean 1.2520453770586142\n",
      "abs(round((mean_mean-y_mean)/y_mean)) 0.0\n",
      "local Optima\n",
      "y_mean 1.4318460235073107\n",
      "mean_mean 1.3486534352162065\n",
      "abs(round((mean_mean-y_mean)/y_mean)) 0.0\n",
      "Fit Cholesky decomposition was not successful.\n",
      "Fit Cholesky decomposition was not successful.\n",
      "local Optima\n",
      "y_mean 5.192032378161873\n",
      "mean_mean 5.1920113415807885\n",
      "abs(round((mean_mean-y_mean)/y_mean)) 0.0\n",
      "local Optima\n",
      "y_mean 5.192032378161873\n",
      "mean_mean 5.1920113415807885\n",
      "abs(round((mean_mean-y_mean)/y_mean)) 0.0\n",
      "local Optima\n",
      "y_mean 5.192032378161873\n",
      "mean_mean 5.1920113415807885\n",
      "abs(round((mean_mean-y_mean)/y_mean)) 0.0\n",
      "local Optima\n",
      "y_mean 5.192032378161873\n",
      "mean_mean 5.192011343442511\n",
      "abs(round((mean_mean-y_mean)/y_mean)) 0.0\n"
     ]
    },
    {
     "name": "stderr",
     "output_type": "stream",
     "text": [
      " 73%|███████▎  | 261/358 [03:41<00:58,  1.66it/s]"
     ]
    },
    {
     "name": "stdout",
     "output_type": "stream",
     "text": [
      "local Optima\n",
      "y_mean 1.699005554023782\n",
      "mean_mean 1.614499003470515\n",
      "abs(round((mean_mean-y_mean)/y_mean)) 0.0\n",
      "local Optima\n",
      "y_mean 1.699005554023782\n",
      "mean_mean 1.5963590193416122\n",
      "abs(round((mean_mean-y_mean)/y_mean)) 0.0\n"
     ]
    },
    {
     "name": "stderr",
     "output_type": "stream",
     "text": [
      "\r",
      " 73%|███████▎  | 262/358 [03:42<00:52,  1.84it/s]"
     ]
    },
    {
     "name": "stdout",
     "output_type": "stream",
     "text": [
      "local Optima\n",
      "y_mean 5.336882525441604\n",
      "mean_mean 5.336862021360027\n",
      "abs(round((mean_mean-y_mean)/y_mean)) 0.0\n",
      "local Optima\n",
      "y_mean 5.336882525441604\n",
      "mean_mean 5.336862023901357\n",
      "abs(round((mean_mean-y_mean)/y_mean)) 0.0\n"
     ]
    },
    {
     "name": "stderr",
     "output_type": "stream",
     "text": [
      "\r",
      " 73%|███████▎  | 263/358 [03:42<00:47,  2.01it/s]"
     ]
    },
    {
     "name": "stdout",
     "output_type": "stream",
     "text": [
      "local Optima\n",
      "y_mean 0.7728605336075647\n",
      "mean_mean 0.6243809691924018\n",
      "abs(round((mean_mean-y_mean)/y_mean)) 0.0\n",
      "local Optima\n",
      "y_mean 0.7728605336075647\n",
      "mean_mean 0.6745795521826673\n",
      "abs(round((mean_mean-y_mean)/y_mean)) 0.0\n"
     ]
    },
    {
     "name": "stderr",
     "output_type": "stream",
     "text": [
      "\r",
      " 74%|███████▎  | 264/358 [03:42<00:44,  2.13it/s]"
     ]
    },
    {
     "name": "stdout",
     "output_type": "stream",
     "text": [
      "local Optima\n",
      "y_mean 4.438816468982509\n",
      "mean_mean 4.438784397935053\n",
      "abs(round((mean_mean-y_mean)/y_mean)) 0.0\n",
      "local Optima\n",
      "y_mean 4.438816468982509\n",
      "mean_mean 4.438784414131039\n",
      "abs(round((mean_mean-y_mean)/y_mean)) 0.0\n"
     ]
    },
    {
     "name": "stderr",
     "output_type": "stream",
     "text": [
      "\r",
      " 74%|███████▍  | 265/358 [03:43<00:41,  2.27it/s]"
     ]
    },
    {
     "name": "stdout",
     "output_type": "stream",
     "text": [
      "local Optima\n",
      "y_mean 1.6298351213628335\n",
      "mean_mean 1.5889695676243907\n",
      "abs(round((mean_mean-y_mean)/y_mean)) 0.0\n",
      "local Optima\n",
      "y_mean 1.6298351213628335\n",
      "mean_mean 1.5785361985506796\n",
      "abs(round((mean_mean-y_mean)/y_mean)) 0.0\n"
     ]
    },
    {
     "name": "stderr",
     "output_type": "stream",
     "text": [
      "\r",
      " 74%|███████▍  | 266/358 [03:43<00:39,  2.33it/s]"
     ]
    },
    {
     "name": "stdout",
     "output_type": "stream",
     "text": [
      "local Optima\n",
      "y_mean 5.151454946501516\n",
      "mean_mean 5.15142050029482\n",
      "abs(round((mean_mean-y_mean)/y_mean)) 0.0\n",
      "local Optima\n",
      "y_mean 5.151454946501516\n",
      "mean_mean 5.151420508742824\n",
      "abs(round((mean_mean-y_mean)/y_mean)) 0.0\n"
     ]
    },
    {
     "name": "stderr",
     "output_type": "stream",
     "text": [
      "\r",
      " 75%|███████▍  | 267/358 [03:44<00:37,  2.41it/s]"
     ]
    },
    {
     "name": "stdout",
     "output_type": "stream",
     "text": [
      "local Optima\n",
      "y_mean 2.0934573880110516\n",
      "mean_mean 2.1680107238479946\n",
      "abs(round((mean_mean-y_mean)/y_mean)) 0.0\n",
      "local Optima\n",
      "y_mean 2.0934573880110516\n",
      "mean_mean 2.0627556712290587\n",
      "abs(round((mean_mean-y_mean)/y_mean)) 0.0\n"
     ]
    },
    {
     "name": "stderr",
     "output_type": "stream",
     "text": [
      "\r",
      " 75%|███████▍  | 268/358 [03:44<00:37,  2.39it/s]"
     ]
    },
    {
     "name": "stdout",
     "output_type": "stream",
     "text": [
      "local Optima\n",
      "y_mean 5.06593702146285\n",
      "mean_mean 5.065916863870092\n",
      "abs(round((mean_mean-y_mean)/y_mean)) 0.0\n",
      "local Optima\n",
      "y_mean 5.06593702146285\n",
      "mean_mean 5.065916937097761\n",
      "abs(round((mean_mean-y_mean)/y_mean)) 0.0\n",
      "local Optima\n",
      "y_mean 0.9921657105451455\n",
      "mean_mean 1.1364803789316158\n",
      "abs(round((mean_mean-y_mean)/y_mean)) 0.0\n",
      "local Optima\n",
      "y_mean 0.9921657105451455\n",
      "mean_mean 0.90797914685653\n",
      "abs(round((mean_mean-y_mean)/y_mean)) 0.0\n"
     ]
    },
    {
     "name": "stderr",
     "output_type": "stream",
     "text": [
      " 75%|███████▌  | 270/358 [03:45<00:37,  2.33it/s]"
     ]
    },
    {
     "name": "stdout",
     "output_type": "stream",
     "text": [
      "local Optima\n",
      "y_mean 5.1091731537827645\n",
      "mean_mean 5.109124066588939\n",
      "abs(round((mean_mean-y_mean)/y_mean)) 0.0\n",
      "local Optima\n",
      "y_mean 5.1091731537827645\n",
      "mean_mean 5.109124047217788\n",
      "abs(round((mean_mean-y_mean)/y_mean)) 0.0\n"
     ]
    },
    {
     "name": "stderr",
     "output_type": "stream",
     "text": [
      "\r",
      " 76%|███████▌  | 271/358 [03:45<00:36,  2.38it/s]"
     ]
    },
    {
     "name": "stdout",
     "output_type": "stream",
     "text": [
      "local Optima\n",
      "y_mean 0.9344006111759688\n",
      "mean_mean 1.0654338519853759\n",
      "abs(round((mean_mean-y_mean)/y_mean)) 0.0\n",
      "local Optima\n",
      "y_mean 0.9344006111759688\n",
      "mean_mean 0.8589550650257678\n",
      "abs(round((mean_mean-y_mean)/y_mean)) 0.0\n",
      "local Optima\n",
      "y_mean 4.6868820193551555\n",
      "mean_mean 4.6868469552305125\n",
      "abs(round((mean_mean-y_mean)/y_mean)) 0.0\n",
      "local Optima\n",
      "y_mean 4.6868820193551555\n",
      "mean_mean 4.686846969576797\n",
      "abs(round((mean_mean-y_mean)/y_mean)) 0.0\n"
     ]
    },
    {
     "name": "stderr",
     "output_type": "stream",
     "text": [
      " 76%|███████▋  | 273/358 [03:46<00:38,  2.24it/s]"
     ]
    },
    {
     "name": "stdout",
     "output_type": "stream",
     "text": [
      "local Optima\n",
      "y_mean 1.4025217474188372\n",
      "mean_mean 1.4619747286701956\n",
      "abs(round((mean_mean-y_mean)/y_mean)) 0.0\n",
      "local Optima\n",
      "y_mean 1.4025217474188372\n",
      "mean_mean 1.3693119971732362\n",
      "abs(round((mean_mean-y_mean)/y_mean)) 0.0\n",
      "local Optima\n",
      "y_mean 4.489049392302404\n",
      "mean_mean 4.489027569248592\n",
      "abs(round((mean_mean-y_mean)/y_mean)) 0.0\n"
     ]
    },
    {
     "name": "stderr",
     "output_type": "stream",
     "text": [
      "\r",
      " 77%|███████▋  | 274/358 [03:47<00:41,  2.05it/s]"
     ]
    },
    {
     "name": "stdout",
     "output_type": "stream",
     "text": [
      "local Optima\n",
      "y_mean 4.489049392302404\n",
      "mean_mean 4.489027570052955\n",
      "abs(round((mean_mean-y_mean)/y_mean)) 0.0\n"
     ]
    },
    {
     "name": "stderr",
     "output_type": "stream",
     "text": [
      "\r",
      " 77%|███████▋  | 275/358 [03:47<00:39,  2.11it/s]"
     ]
    },
    {
     "name": "stdout",
     "output_type": "stream",
     "text": [
      "local Optima\n",
      "y_mean 0.7962946583914365\n",
      "mean_mean 0.6455644779145185\n",
      "abs(round((mean_mean-y_mean)/y_mean)) 0.0\n",
      "local Optima\n",
      "y_mean 0.7962946583914365\n",
      "mean_mean 0.6990535956304634\n",
      "abs(round((mean_mean-y_mean)/y_mean)) 0.0\n"
     ]
    },
    {
     "name": "stderr",
     "output_type": "stream",
     "text": [
      "\r",
      " 77%|███████▋  | 276/358 [03:48<00:37,  2.21it/s]"
     ]
    },
    {
     "name": "stdout",
     "output_type": "stream",
     "text": [
      "local Optima\n",
      "y_mean 4.934624710143853\n",
      "mean_mean 4.934580785450021\n",
      "abs(round((mean_mean-y_mean)/y_mean)) 0.0\n",
      "local Optima\n",
      "y_mean 4.934624710143853\n",
      "mean_mean 4.934580786453923\n",
      "abs(round((mean_mean-y_mean)/y_mean)) 0.0\n"
     ]
    },
    {
     "name": "stderr",
     "output_type": "stream",
     "text": [
      "\r",
      " 77%|███████▋  | 277/358 [03:48<00:34,  2.32it/s]"
     ]
    },
    {
     "name": "stdout",
     "output_type": "stream",
     "text": [
      "local Optima\n",
      "y_mean 1.314220254978607\n",
      "mean_mean 1.1660068143329567\n",
      "abs(round((mean_mean-y_mean)/y_mean)) 0.0\n",
      "local Optima\n",
      "y_mean 1.314220254978607\n",
      "mean_mean 1.2297708058847565\n",
      "abs(round((mean_mean-y_mean)/y_mean)) 0.0\n"
     ]
    },
    {
     "name": "stderr",
     "output_type": "stream",
     "text": [
      "\r",
      " 78%|███████▊  | 278/358 [03:48<00:34,  2.35it/s]"
     ]
    },
    {
     "name": "stdout",
     "output_type": "stream",
     "text": [
      "local Optima\n",
      "y_mean 5.34452891444047\n",
      "mean_mean 5.344506997328895\n",
      "abs(round((mean_mean-y_mean)/y_mean)) 0.0\n",
      "local Optima\n",
      "y_mean 5.34452891444047\n",
      "mean_mean 5.344506991782884\n",
      "abs(round((mean_mean-y_mean)/y_mean)) 0.0\n"
     ]
    },
    {
     "name": "stderr",
     "output_type": "stream",
     "text": [
      "\r",
      " 78%|███████▊  | 279/358 [03:49<00:33,  2.38it/s]"
     ]
    },
    {
     "name": "stdout",
     "output_type": "stream",
     "text": [
      "local Optima\n",
      "y_mean 1.7621959942786845\n",
      "mean_mean 1.7936156033215755\n",
      "abs(round((mean_mean-y_mean)/y_mean)) 0.0\n",
      "local Optima\n",
      "y_mean 1.7621959942786845\n",
      "mean_mean 1.7011192213789967\n",
      "abs(round((mean_mean-y_mean)/y_mean)) 0.0\n"
     ]
    },
    {
     "name": "stderr",
     "output_type": "stream",
     "text": [
      "\r",
      " 78%|███████▊  | 280/358 [03:49<00:32,  2.40it/s]"
     ]
    },
    {
     "name": "stdout",
     "output_type": "stream",
     "text": [
      "local Optima\n",
      "y_mean 5.349868028063195\n",
      "mean_mean 5.349853111474223\n",
      "abs(round((mean_mean-y_mean)/y_mean)) 0.0\n",
      "local Optima\n",
      "y_mean 5.349868028063195\n",
      "mean_mean 5.349853156016077\n",
      "abs(round((mean_mean-y_mean)/y_mean)) 0.0\n"
     ]
    },
    {
     "name": "stderr",
     "output_type": "stream",
     "text": [
      "\r",
      " 78%|███████▊  | 281/358 [03:50<00:31,  2.43it/s]"
     ]
    },
    {
     "name": "stdout",
     "output_type": "stream",
     "text": [
      "local Optima\n",
      "y_mean 1.264275459209413\n",
      "mean_mean 1.2900103693029932\n",
      "abs(round((mean_mean-y_mean)/y_mean)) 0.0\n",
      "local Optima\n",
      "y_mean 1.264275459209413\n",
      "mean_mean 1.1235059304159751\n",
      "abs(round((mean_mean-y_mean)/y_mean)) 0.0\n"
     ]
    },
    {
     "name": "stderr",
     "output_type": "stream",
     "text": [
      "\r",
      " 79%|███████▉  | 282/358 [03:50<00:31,  2.44it/s]"
     ]
    },
    {
     "name": "stdout",
     "output_type": "stream",
     "text": [
      "local Optima\n",
      "y_mean 5.472799892872395\n",
      "mean_mean 5.472747444327664\n",
      "abs(round((mean_mean-y_mean)/y_mean)) 0.0\n",
      "local Optima\n",
      "y_mean 5.472799892872395\n",
      "mean_mean 5.472714686969717\n",
      "abs(round((mean_mean-y_mean)/y_mean)) 0.0\n"
     ]
    },
    {
     "name": "stderr",
     "output_type": "stream",
     "text": [
      "\r",
      " 79%|███████▉  | 283/358 [03:50<00:30,  2.47it/s]"
     ]
    },
    {
     "name": "stdout",
     "output_type": "stream",
     "text": [
      "local Optima\n",
      "y_mean 1.6991424738708976\n",
      "mean_mean 1.6421553529562702\n",
      "abs(round((mean_mean-y_mean)/y_mean)) 0.0\n",
      "local Optima\n",
      "y_mean 1.6991424738708976\n",
      "mean_mean 1.5687797045053335\n",
      "abs(round((mean_mean-y_mean)/y_mean)) 0.0\n"
     ]
    },
    {
     "name": "stderr",
     "output_type": "stream",
     "text": [
      "\r",
      " 79%|███████▉  | 284/358 [03:51<00:30,  2.45it/s]"
     ]
    },
    {
     "name": "stdout",
     "output_type": "stream",
     "text": [
      "local Optima\n",
      "y_mean 5.939158548622417\n",
      "mean_mean 5.939091439970742\n",
      "abs(round((mean_mean-y_mean)/y_mean)) 0.0\n",
      "local Optima\n",
      "y_mean 5.939158548622417\n",
      "mean_mean 5.9390914383987266\n",
      "abs(round((mean_mean-y_mean)/y_mean)) 0.0\n"
     ]
    },
    {
     "name": "stderr",
     "output_type": "stream",
     "text": [
      "\r",
      " 80%|███████▉  | 285/358 [03:51<00:29,  2.49it/s]"
     ]
    },
    {
     "name": "stdout",
     "output_type": "stream",
     "text": [
      "local Optima\n",
      "y_mean 2.3042394056811526\n",
      "mean_mean 2.2992539859055054\n",
      "abs(round((mean_mean-y_mean)/y_mean)) 0.0\n",
      "local Optima\n",
      "y_mean 2.3042394056811526\n",
      "mean_mean 2.2490774049632636\n",
      "abs(round((mean_mean-y_mean)/y_mean)) 0.0\n"
     ]
    },
    {
     "name": "stderr",
     "output_type": "stream",
     "text": [
      "\r",
      " 80%|███████▉  | 286/358 [03:52<00:29,  2.48it/s]"
     ]
    },
    {
     "name": "stdout",
     "output_type": "stream",
     "text": [
      "local Optima\n",
      "y_mean 5.6278147555647084\n",
      "mean_mean 5.627760002021473\n",
      "abs(round((mean_mean-y_mean)/y_mean)) 0.0\n",
      "local Optima\n",
      "y_mean 5.6278147555647084\n",
      "mean_mean 5.62776001204728\n",
      "abs(round((mean_mean-y_mean)/y_mean)) 0.0\n"
     ]
    },
    {
     "name": "stderr",
     "output_type": "stream",
     "text": [
      "\r",
      " 80%|████████  | 287/358 [03:52<00:28,  2.50it/s]"
     ]
    },
    {
     "name": "stdout",
     "output_type": "stream",
     "text": [
      "local Optima\n",
      "y_mean 1.039125466934392\n",
      "mean_mean 0.7414788599752972\n",
      "abs(round((mean_mean-y_mean)/y_mean)) 0.0\n",
      "local Optima\n",
      "y_mean 1.039125466934392\n",
      "mean_mean 0.9167527587129506\n",
      "abs(round((mean_mean-y_mean)/y_mean)) 0.0\n"
     ]
    },
    {
     "name": "stderr",
     "output_type": "stream",
     "text": [
      "\r",
      " 80%|████████  | 288/358 [03:52<00:27,  2.52it/s]"
     ]
    },
    {
     "name": "stdout",
     "output_type": "stream",
     "text": [
      "local Optima\n",
      "y_mean 5.574595345516617\n",
      "mean_mean 5.577558586047412\n",
      "abs(round((mean_mean-y_mean)/y_mean)) 0.0\n",
      "local Optima\n",
      "y_mean 5.574595345516617\n",
      "mean_mean 5.574553812868109\n",
      "abs(round((mean_mean-y_mean)/y_mean)) 0.0\n"
     ]
    },
    {
     "name": "stderr",
     "output_type": "stream",
     "text": [
      "\r",
      " 81%|████████  | 289/358 [03:53<00:27,  2.54it/s]"
     ]
    },
    {
     "name": "stdout",
     "output_type": "stream",
     "text": [
      "local Optima\n",
      "y_mean 2.030175833196113\n",
      "mean_mean 1.9968020740722\n",
      "abs(round((mean_mean-y_mean)/y_mean)) 0.0\n",
      "local Optima\n",
      "y_mean 2.030175833196113\n",
      "mean_mean 1.9477566295715587\n",
      "abs(round((mean_mean-y_mean)/y_mean)) 0.0\n"
     ]
    },
    {
     "name": "stderr",
     "output_type": "stream",
     "text": [
      "\r",
      " 81%|████████  | 290/358 [03:53<00:28,  2.40it/s]"
     ]
    },
    {
     "name": "stdout",
     "output_type": "stream",
     "text": [
      "local Optima\n",
      "y_mean 5.719010686828439\n",
      "mean_mean 5.718976990818623\n",
      "abs(round((mean_mean-y_mean)/y_mean)) 0.0\n",
      "local Optima\n",
      "y_mean 5.719010686828439\n",
      "mean_mean 5.718976021427801\n",
      "abs(round((mean_mean-y_mean)/y_mean)) 0.0\n"
     ]
    },
    {
     "name": "stderr",
     "output_type": "stream",
     "text": [
      "\r",
      " 81%|████████▏ | 291/358 [03:54<00:27,  2.46it/s]"
     ]
    },
    {
     "name": "stdout",
     "output_type": "stream",
     "text": [
      "local Optima\n",
      "y_mean 2.4099058739630848\n",
      "mean_mean 2.4180722846228107\n",
      "abs(round((mean_mean-y_mean)/y_mean)) 0.0\n",
      "local Optima\n",
      "y_mean 2.4099058739630848\n",
      "mean_mean 2.3453393053437\n",
      "abs(round((mean_mean-y_mean)/y_mean)) 0.0\n"
     ]
    },
    {
     "name": "stderr",
     "output_type": "stream",
     "text": [
      "\r",
      " 82%|████████▏ | 292/358 [03:54<00:26,  2.48it/s]"
     ]
    },
    {
     "name": "stdout",
     "output_type": "stream",
     "text": [
      "local Optima\n",
      "y_mean 5.503696607857725\n",
      "mean_mean 5.503673498614844\n",
      "abs(round((mean_mean-y_mean)/y_mean)) 0.0\n",
      "local Optima\n",
      "y_mean 5.503696607857725\n",
      "mean_mean 5.503671131065331\n",
      "abs(round((mean_mean-y_mean)/y_mean)) 0.0\n"
     ]
    },
    {
     "name": "stderr",
     "output_type": "stream",
     "text": [
      "\r",
      " 82%|████████▏ | 293/358 [03:54<00:25,  2.52it/s]"
     ]
    },
    {
     "name": "stdout",
     "output_type": "stream",
     "text": [
      "local Optima\n",
      "y_mean 1.0038342901020305\n",
      "mean_mean 0.9896655747677946\n",
      "abs(round((mean_mean-y_mean)/y_mean)) 0.0\n",
      "local Optima\n",
      "y_mean 1.0038342901020305\n",
      "mean_mean 0.9081303367888488\n",
      "abs(round((mean_mean-y_mean)/y_mean)) 0.0\n"
     ]
    },
    {
     "name": "stderr",
     "output_type": "stream",
     "text": [
      "\r",
      " 82%|████████▏ | 294/358 [03:55<00:25,  2.56it/s]"
     ]
    },
    {
     "name": "stdout",
     "output_type": "stream",
     "text": [
      "local Optima\n",
      "y_mean 4.669177014379913\n",
      "mean_mean 4.669146198068247\n",
      "abs(round((mean_mean-y_mean)/y_mean)) 0.0\n",
      "local Optima\n",
      "y_mean 4.669177014379913\n",
      "mean_mean 4.669137553780586\n",
      "abs(round((mean_mean-y_mean)/y_mean)) 0.0\n"
     ]
    },
    {
     "name": "stderr",
     "output_type": "stream",
     "text": [
      "\r",
      " 82%|████████▏ | 295/358 [03:55<00:24,  2.59it/s]"
     ]
    },
    {
     "name": "stdout",
     "output_type": "stream",
     "text": [
      "local Optima\n",
      "y_mean 1.4434999279952434\n",
      "mean_mean 1.515607589999676\n",
      "abs(round((mean_mean-y_mean)/y_mean)) 0.0\n",
      "local Optima\n",
      "y_mean 1.4434999279952434\n",
      "mean_mean 1.3986271027891886\n",
      "abs(round((mean_mean-y_mean)/y_mean)) 0.0\n"
     ]
    },
    {
     "name": "stderr",
     "output_type": "stream",
     "text": [
      "\r",
      " 83%|████████▎ | 296/358 [03:56<00:24,  2.57it/s]"
     ]
    },
    {
     "name": "stdout",
     "output_type": "stream",
     "text": [
      "local Optima\n",
      "y_mean 4.377148100534485\n",
      "mean_mean 4.377140815949672\n",
      "abs(round((mean_mean-y_mean)/y_mean)) 0.0\n",
      "local Optima\n",
      "y_mean 4.377148100534485\n",
      "mean_mean 4.377129276020235\n",
      "abs(round((mean_mean-y_mean)/y_mean)) 0.0\n"
     ]
    },
    {
     "name": "stderr",
     "output_type": "stream",
     "text": [
      "\r",
      " 83%|████████▎ | 297/358 [03:56<00:23,  2.60it/s]"
     ]
    },
    {
     "name": "stdout",
     "output_type": "stream",
     "text": [
      "local Optima\n",
      "y_mean 2.1982662444860708\n",
      "mean_mean 2.174201557518009\n",
      "abs(round((mean_mean-y_mean)/y_mean)) 0.0\n",
      "local Optima\n",
      "y_mean 2.1982662444860708\n",
      "mean_mean 2.186140257710072\n",
      "abs(round((mean_mean-y_mean)/y_mean)) 0.0\n"
     ]
    },
    {
     "name": "stderr",
     "output_type": "stream",
     "text": [
      "\r",
      " 83%|████████▎ | 298/358 [03:56<00:23,  2.59it/s]"
     ]
    },
    {
     "name": "stdout",
     "output_type": "stream",
     "text": [
      "local Optima\n",
      "y_mean 4.536781953503124\n",
      "mean_mean 4.536770130603248\n",
      "abs(round((mean_mean-y_mean)/y_mean)) 0.0\n",
      "local Optima\n",
      "y_mean 4.536781953503124\n",
      "mean_mean 4.536766799269128\n",
      "abs(round((mean_mean-y_mean)/y_mean)) 0.0\n"
     ]
    },
    {
     "name": "stderr",
     "output_type": "stream",
     "text": [
      "\r",
      " 84%|████████▎ | 299/358 [03:57<00:22,  2.58it/s]"
     ]
    },
    {
     "name": "stdout",
     "output_type": "stream",
     "text": [
      "local Optima\n",
      "y_mean 1.2320816890934452\n",
      "mean_mean 1.3605291496815886\n",
      "abs(round((mean_mean-y_mean)/y_mean)) 0.0\n",
      "local Optima\n",
      "y_mean 1.2320816890934452\n",
      "mean_mean 1.1863535903580178\n",
      "abs(round((mean_mean-y_mean)/y_mean)) 0.0\n"
     ]
    },
    {
     "name": "stderr",
     "output_type": "stream",
     "text": [
      "\r",
      " 84%|████████▍ | 300/358 [03:57<00:22,  2.56it/s]"
     ]
    },
    {
     "name": "stdout",
     "output_type": "stream",
     "text": [
      "local Optima\n",
      "y_mean 3.7853059078105695\n",
      "mean_mean 3.7852284446546003\n",
      "abs(round((mean_mean-y_mean)/y_mean)) 0.0\n",
      "local Optima\n",
      "y_mean 3.7853059078105695\n",
      "mean_mean 3.785223350694051\n",
      "abs(round((mean_mean-y_mean)/y_mean)) 0.0\n"
     ]
    },
    {
     "name": "stderr",
     "output_type": "stream",
     "text": [
      "\r",
      " 84%|████████▍ | 301/358 [03:58<00:22,  2.56it/s]"
     ]
    },
    {
     "name": "stdout",
     "output_type": "stream",
     "text": [
      "local Optima\n",
      "y_mean 1.6202611690426105\n",
      "mean_mean 1.4585475300523596\n",
      "abs(round((mean_mean-y_mean)/y_mean)) 0.0\n",
      "local Optima\n",
      "y_mean 1.6202611690426105\n",
      "mean_mean 1.563620726489499\n",
      "abs(round((mean_mean-y_mean)/y_mean)) 0.0\n"
     ]
    },
    {
     "name": "stderr",
     "output_type": "stream",
     "text": [
      "\r",
      " 84%|████████▍ | 302/358 [03:58<00:21,  2.55it/s]"
     ]
    },
    {
     "name": "stdout",
     "output_type": "stream",
     "text": [
      "local Optima\n",
      "y_mean 5.6785355266801405\n",
      "mean_mean 5.678439443920708\n",
      "abs(round((mean_mean-y_mean)/y_mean)) 0.0\n",
      "local Optima\n",
      "y_mean 5.6785355266801405\n",
      "mean_mean 5.678439447971965\n",
      "abs(round((mean_mean-y_mean)/y_mean)) 0.0\n"
     ]
    },
    {
     "name": "stderr",
     "output_type": "stream",
     "text": [
      "\r",
      " 85%|████████▍ | 303/358 [03:58<00:21,  2.55it/s]"
     ]
    },
    {
     "name": "stdout",
     "output_type": "stream",
     "text": [
      "local Optima\n",
      "y_mean 1.784490087790341\n",
      "mean_mean 1.7721245202088909\n",
      "abs(round((mean_mean-y_mean)/y_mean)) 0.0\n",
      "local Optima\n",
      "y_mean 1.784490087790341\n",
      "mean_mean 1.7358920577696768\n",
      "abs(round((mean_mean-y_mean)/y_mean)) 0.0\n"
     ]
    },
    {
     "name": "stderr",
     "output_type": "stream",
     "text": [
      "\r",
      " 85%|████████▍ | 304/358 [03:59<00:21,  2.50it/s]"
     ]
    },
    {
     "name": "stdout",
     "output_type": "stream",
     "text": [
      "local Optima\n",
      "y_mean 5.493970955226232\n",
      "mean_mean 5.493907695582989\n",
      "abs(round((mean_mean-y_mean)/y_mean)) 0.0\n",
      "local Optima\n",
      "y_mean 5.493970955226232\n",
      "mean_mean 5.4939077003616\n",
      "abs(round((mean_mean-y_mean)/y_mean)) 0.0\n"
     ]
    },
    {
     "name": "stderr",
     "output_type": "stream",
     "text": [
      "\r",
      " 85%|████████▌ | 305/358 [03:59<00:21,  2.52it/s]"
     ]
    },
    {
     "name": "stdout",
     "output_type": "stream",
     "text": [
      "local Optima\n",
      "y_mean 1.7492593257150577\n",
      "mean_mean 1.8485476047089435\n",
      "abs(round((mean_mean-y_mean)/y_mean)) 0.0\n",
      "local Optima\n",
      "y_mean 1.7492593257150577\n",
      "mean_mean 1.6233114838360156\n",
      "abs(round((mean_mean-y_mean)/y_mean)) 0.0\n"
     ]
    },
    {
     "name": "stderr",
     "output_type": "stream",
     "text": [
      "\r",
      " 85%|████████▌ | 306/358 [04:00<00:20,  2.51it/s]"
     ]
    },
    {
     "name": "stdout",
     "output_type": "stream",
     "text": [
      "local Optima\n",
      "y_mean 5.330016914965274\n",
      "mean_mean 5.329968491021113\n",
      "abs(round((mean_mean-y_mean)/y_mean)) 0.0\n",
      "local Optima\n",
      "y_mean 5.330016914965274\n",
      "mean_mean 5.329962422871362\n",
      "abs(round((mean_mean-y_mean)/y_mean)) 0.0\n"
     ]
    },
    {
     "name": "stderr",
     "output_type": "stream",
     "text": [
      "\r",
      " 86%|████████▌ | 307/358 [04:00<00:20,  2.54it/s]"
     ]
    },
    {
     "name": "stdout",
     "output_type": "stream",
     "text": [
      "local Optima\n",
      "y_mean 1.9010166053268118\n",
      "mean_mean 2.090243544875774\n",
      "abs(round((mean_mean-y_mean)/y_mean)) 0.0\n",
      "local Optima\n",
      "y_mean 1.9010166053268118\n",
      "mean_mean 1.8402488984622303\n",
      "abs(round((mean_mean-y_mean)/y_mean)) 0.0\n"
     ]
    },
    {
     "name": "stderr",
     "output_type": "stream",
     "text": [
      "\r",
      " 86%|████████▌ | 308/358 [04:00<00:19,  2.53it/s]"
     ]
    },
    {
     "name": "stdout",
     "output_type": "stream",
     "text": [
      "local Optima\n",
      "y_mean 4.752021783472134\n",
      "mean_mean 4.751976800201445\n",
      "abs(round((mean_mean-y_mean)/y_mean)) 0.0\n",
      "local Optima\n",
      "y_mean 4.752021783472134\n",
      "mean_mean 4.751970561773199\n",
      "abs(round((mean_mean-y_mean)/y_mean)) 0.0\n"
     ]
    },
    {
     "name": "stderr",
     "output_type": "stream",
     "text": [
      "\r",
      " 86%|████████▋ | 309/358 [04:01<00:19,  2.54it/s]"
     ]
    },
    {
     "name": "stdout",
     "output_type": "stream",
     "text": [
      "local Optima\n",
      "y_mean 2.4113051303635333\n",
      "mean_mean 2.7081803106765783\n",
      "abs(round((mean_mean-y_mean)/y_mean)) 0.0\n",
      "local Optima\n",
      "y_mean 2.4113051303635333\n",
      "mean_mean 2.3585976289712782\n",
      "abs(round((mean_mean-y_mean)/y_mean)) 0.0\n"
     ]
    },
    {
     "name": "stderr",
     "output_type": "stream",
     "text": [
      "\r",
      " 87%|████████▋ | 310/358 [04:01<00:19,  2.51it/s]"
     ]
    },
    {
     "name": "stdout",
     "output_type": "stream",
     "text": [
      "local Optima\n",
      "y_mean 5.469558901954194\n",
      "mean_mean 5.469515551099264\n",
      "abs(round((mean_mean-y_mean)/y_mean)) 0.0\n",
      "local Optima\n",
      "y_mean 5.469558901954194\n",
      "mean_mean 5.469515550826999\n",
      "abs(round((mean_mean-y_mean)/y_mean)) 0.0\n"
     ]
    },
    {
     "name": "stderr",
     "output_type": "stream",
     "text": [
      "\r",
      " 87%|████████▋ | 311/358 [04:02<00:18,  2.52it/s]"
     ]
    },
    {
     "name": "stdout",
     "output_type": "stream",
     "text": [
      "local Optima\n",
      "y_mean 1.2703783391566108\n",
      "mean_mean 1.040241208984633\n",
      "abs(round((mean_mean-y_mean)/y_mean)) 0.0\n",
      "local Optima\n",
      "y_mean 1.2703783391566108\n",
      "mean_mean 1.1442510115541087\n",
      "abs(round((mean_mean-y_mean)/y_mean)) 0.0\n"
     ]
    },
    {
     "name": "stderr",
     "output_type": "stream",
     "text": [
      "\r",
      " 87%|████████▋ | 312/358 [04:02<00:18,  2.53it/s]"
     ]
    },
    {
     "name": "stdout",
     "output_type": "stream",
     "text": [
      "local Optima\n",
      "y_mean 5.505778773764161\n",
      "mean_mean 5.5063620777794915\n",
      "abs(round((mean_mean-y_mean)/y_mean)) 0.0\n",
      "local Optima\n",
      "y_mean 5.505778773764161\n",
      "mean_mean 5.5056917651390425\n",
      "abs(round((mean_mean-y_mean)/y_mean)) 0.0\n"
     ]
    },
    {
     "name": "stderr",
     "output_type": "stream",
     "text": [
      "\r",
      " 87%|████████▋ | 313/358 [04:02<00:17,  2.55it/s]"
     ]
    },
    {
     "name": "stdout",
     "output_type": "stream",
     "text": [
      "local Optima\n",
      "y_mean 1.6994456900385149\n",
      "mean_mean 1.6107001694037029\n",
      "abs(round((mean_mean-y_mean)/y_mean)) 0.0\n",
      "local Optima\n",
      "y_mean 1.6994456900385149\n",
      "mean_mean 1.6049834950181536\n",
      "abs(round((mean_mean-y_mean)/y_mean)) 0.0\n"
     ]
    },
    {
     "name": "stderr",
     "output_type": "stream",
     "text": [
      "\r",
      " 88%|████████▊ | 314/358 [04:03<00:17,  2.55it/s]"
     ]
    },
    {
     "name": "stdout",
     "output_type": "stream",
     "text": [
      "local Optima\n",
      "y_mean 5.394895959879246\n",
      "mean_mean 5.394890258896269\n",
      "abs(round((mean_mean-y_mean)/y_mean)) 0.0\n",
      "local Optima\n",
      "y_mean 5.394895959879246\n",
      "mean_mean 5.394863162815169\n",
      "abs(round((mean_mean-y_mean)/y_mean)) 0.0\n"
     ]
    },
    {
     "name": "stderr",
     "output_type": "stream",
     "text": [
      "\r",
      " 88%|████████▊ | 315/358 [04:03<00:16,  2.55it/s]"
     ]
    },
    {
     "name": "stdout",
     "output_type": "stream",
     "text": [
      "local Optima\n",
      "y_mean 1.7170014776132787\n",
      "mean_mean 1.7043837620896154\n",
      "abs(round((mean_mean-y_mean)/y_mean)) 0.0\n",
      "local Optima\n",
      "y_mean 1.7170014776132787\n",
      "mean_mean 1.6509386289261352\n",
      "abs(round((mean_mean-y_mean)/y_mean)) 0.0\n"
     ]
    },
    {
     "name": "stderr",
     "output_type": "stream",
     "text": [
      "\r",
      " 88%|████████▊ | 316/358 [04:04<00:16,  2.56it/s]"
     ]
    },
    {
     "name": "stdout",
     "output_type": "stream",
     "text": [
      "local Optima\n",
      "y_mean 5.0626914235794365\n",
      "mean_mean 5.065643768078894\n",
      "abs(round((mean_mean-y_mean)/y_mean)) 0.0\n",
      "local Optima\n",
      "y_mean 5.0626914235794365\n",
      "mean_mean 5.062661014059838\n",
      "abs(round((mean_mean-y_mean)/y_mean)) 0.0\n"
     ]
    },
    {
     "name": "stderr",
     "output_type": "stream",
     "text": [
      "\r",
      " 89%|████████▊ | 317/358 [04:04<00:16,  2.56it/s]"
     ]
    },
    {
     "name": "stdout",
     "output_type": "stream",
     "text": [
      "local Optima\n",
      "y_mean 0.6775567949820374\n",
      "mean_mean 0.6966644650042106\n",
      "abs(round((mean_mean-y_mean)/y_mean)) 0.0\n",
      "local Optima\n",
      "y_mean 0.6775567949820374\n",
      "mean_mean 0.5774325591042702\n",
      "abs(round((mean_mean-y_mean)/y_mean)) 0.0\n"
     ]
    },
    {
     "name": "stderr",
     "output_type": "stream",
     "text": [
      "\r",
      " 89%|████████▉ | 318/358 [04:04<00:15,  2.56it/s]"
     ]
    },
    {
     "name": "stdout",
     "output_type": "stream",
     "text": [
      "local Optima\n",
      "y_mean 4.635922990080583\n",
      "mean_mean 4.6358986120871775\n",
      "abs(round((mean_mean-y_mean)/y_mean)) 0.0\n",
      "local Optima\n",
      "y_mean 4.635922990080583\n",
      "mean_mean 4.635843473760213\n",
      "abs(round((mean_mean-y_mean)/y_mean)) 0.0\n"
     ]
    },
    {
     "name": "stderr",
     "output_type": "stream",
     "text": [
      "\r",
      " 89%|████████▉ | 319/358 [04:05<00:15,  2.57it/s]"
     ]
    },
    {
     "name": "stdout",
     "output_type": "stream",
     "text": [
      "local Optima\n",
      "y_mean 0.9184182738175366\n",
      "mean_mean 1.0002359541931727\n",
      "abs(round((mean_mean-y_mean)/y_mean)) 0.0\n",
      "local Optima\n",
      "y_mean 0.9184182738175366\n",
      "mean_mean 0.866559731159864\n",
      "abs(round((mean_mean-y_mean)/y_mean)) 0.0\n"
     ]
    },
    {
     "name": "stderr",
     "output_type": "stream",
     "text": [
      "\r",
      " 89%|████████▉ | 320/358 [04:05<00:14,  2.57it/s]"
     ]
    },
    {
     "name": "stdout",
     "output_type": "stream",
     "text": [
      "local Optima\n",
      "y_mean 4.11497753766092\n",
      "mean_mean 4.114957016899811\n",
      "abs(round((mean_mean-y_mean)/y_mean)) 0.0\n",
      "local Optima\n",
      "y_mean 4.11497753766092\n",
      "mean_mean 4.114912796452258\n",
      "abs(round((mean_mean-y_mean)/y_mean)) 0.0\n"
     ]
    },
    {
     "name": "stderr",
     "output_type": "stream",
     "text": [
      "\r",
      " 90%|████████▉ | 321/358 [04:05<00:14,  2.57it/s]"
     ]
    },
    {
     "name": "stdout",
     "output_type": "stream",
     "text": [
      "local Optima\n",
      "y_mean 1.2476243452643432\n",
      "mean_mean 1.2242425097746352\n",
      "abs(round((mean_mean-y_mean)/y_mean)) 0.0\n",
      "local Optima\n",
      "y_mean 1.2476243452643432\n",
      "mean_mean 1.1996721690974534\n",
      "abs(round((mean_mean-y_mean)/y_mean)) 0.0\n"
     ]
    },
    {
     "name": "stderr",
     "output_type": "stream",
     "text": [
      "\r",
      " 90%|████████▉ | 322/358 [04:06<00:14,  2.57it/s]"
     ]
    },
    {
     "name": "stdout",
     "output_type": "stream",
     "text": [
      "local Optima\n",
      "y_mean 4.487780892819192\n",
      "mean_mean 4.487749576190342\n",
      "abs(round((mean_mean-y_mean)/y_mean)) 0.0\n",
      "local Optima\n",
      "y_mean 4.487780892819192\n",
      "mean_mean 4.487741731416353\n",
      "abs(round((mean_mean-y_mean)/y_mean)) 0.0\n"
     ]
    },
    {
     "name": "stderr",
     "output_type": "stream",
     "text": [
      "\r",
      " 90%|█████████ | 323/358 [04:06<00:13,  2.57it/s]"
     ]
    },
    {
     "name": "stdout",
     "output_type": "stream",
     "text": [
      "local Optima\n",
      "y_mean 1.276008631901032\n",
      "mean_mean 0.9839877705178867\n",
      "abs(round((mean_mean-y_mean)/y_mean)) 0.0\n",
      "local Optima\n",
      "y_mean 1.276008631901032\n",
      "mean_mean 1.1765573270673761\n",
      "abs(round((mean_mean-y_mean)/y_mean)) 0.0\n"
     ]
    },
    {
     "name": "stderr",
     "output_type": "stream",
     "text": [
      "\r",
      " 91%|█████████ | 324/358 [04:07<00:13,  2.52it/s]"
     ]
    },
    {
     "name": "stdout",
     "output_type": "stream",
     "text": [
      "local Optima\n",
      "y_mean 6.237415283746619\n",
      "mean_mean 6.23738377610986\n",
      "abs(round((mean_mean-y_mean)/y_mean)) 0.0\n",
      "local Optima\n",
      "y_mean 6.237415283746619\n",
      "mean_mean 6.237383776796819\n",
      "abs(round((mean_mean-y_mean)/y_mean)) 0.0\n"
     ]
    },
    {
     "name": "stderr",
     "output_type": "stream",
     "text": [
      "\r",
      " 91%|█████████ | 325/358 [04:07<00:13,  2.45it/s]"
     ]
    },
    {
     "name": "stdout",
     "output_type": "stream",
     "text": [
      "local Optima\n",
      "y_mean 1.6771138435302888\n",
      "mean_mean 1.4817549364898774\n",
      "abs(round((mean_mean-y_mean)/y_mean)) 0.0\n",
      "local Optima\n",
      "y_mean 1.6771138435302888\n",
      "mean_mean 1.5988249517738107\n",
      "abs(round((mean_mean-y_mean)/y_mean)) 0.0\n"
     ]
    },
    {
     "name": "stderr",
     "output_type": "stream",
     "text": [
      "\r",
      " 91%|█████████ | 326/358 [04:07<00:12,  2.50it/s]"
     ]
    },
    {
     "name": "stdout",
     "output_type": "stream",
     "text": [
      "local Optima\n",
      "y_mean 5.974285080167435\n",
      "mean_mean 5.974678036859622\n",
      "abs(round((mean_mean-y_mean)/y_mean)) 0.0\n",
      "local Optima\n",
      "y_mean 5.974285080167435\n",
      "mean_mean 5.974260725504404\n",
      "abs(round((mean_mean-y_mean)/y_mean)) 0.0\n"
     ]
    },
    {
     "name": "stderr",
     "output_type": "stream",
     "text": [
      "\r",
      " 91%|█████████▏| 327/358 [04:08<00:12,  2.52it/s]"
     ]
    },
    {
     "name": "stdout",
     "output_type": "stream",
     "text": [
      "local Optima\n",
      "y_mean 3.1217435110434897\n",
      "mean_mean 2.9666624563558965\n",
      "abs(round((mean_mean-y_mean)/y_mean)) 0.0\n",
      "local Optima\n",
      "y_mean 3.1217435110434897\n",
      "mean_mean 3.0724332806006993\n",
      "abs(round((mean_mean-y_mean)/y_mean)) 0.0\n"
     ]
    },
    {
     "name": "stderr",
     "output_type": "stream",
     "text": [
      "\r",
      " 92%|█████████▏| 328/358 [04:08<00:12,  2.41it/s]"
     ]
    },
    {
     "name": "stdout",
     "output_type": "stream",
     "text": [
      "local Optima\n",
      "y_mean 6.1336929934187605\n",
      "mean_mean 6.133675326473182\n",
      "abs(round((mean_mean-y_mean)/y_mean)) 0.0\n",
      "local Optima\n",
      "y_mean 6.1336929934187605\n",
      "mean_mean 6.133675323185108\n",
      "abs(round((mean_mean-y_mean)/y_mean)) 0.0\n",
      "local Optima\n",
      "y_mean 1.3284889809024072\n",
      "mean_mean 1.1439470720271845\n",
      "abs(round((mean_mean-y_mean)/y_mean)) 0.0\n"
     ]
    },
    {
     "name": "stderr",
     "output_type": "stream",
     "text": [
      "\r",
      " 92%|█████████▏| 329/358 [04:09<00:14,  2.05it/s]"
     ]
    },
    {
     "name": "stdout",
     "output_type": "stream",
     "text": [
      "local Optima\n",
      "y_mean 1.3284889809024072\n",
      "mean_mean 1.2404723242558504\n",
      "abs(round((mean_mean-y_mean)/y_mean)) 0.0\n"
     ]
    },
    {
     "name": "stderr",
     "output_type": "stream",
     "text": [
      "\r",
      " 92%|█████████▏| 330/358 [04:09<00:12,  2.19it/s]"
     ]
    },
    {
     "name": "stdout",
     "output_type": "stream",
     "text": [
      "local Optima\n",
      "y_mean 5.827429705571028\n",
      "mean_mean 5.8340801780179845\n",
      "abs(round((mean_mean-y_mean)/y_mean)) 0.0\n",
      "local Optima\n",
      "y_mean 5.827429705571028\n",
      "mean_mean 5.827318547366871\n",
      "abs(round((mean_mean-y_mean)/y_mean)) 0.0\n",
      "local Optima\n",
      "y_mean 1.777810256409949\n",
      "mean_mean 1.767935323037278\n",
      "abs(round((mean_mean-y_mean)/y_mean)) 0.0\n",
      "local Optima\n",
      "y_mean 1.777810256409949\n",
      "mean_mean 1.740547188105553\n",
      "abs(round((mean_mean-y_mean)/y_mean)) 0.0\n"
     ]
    },
    {
     "name": "stderr",
     "output_type": "stream",
     "text": [
      "\r",
      " 92%|█████████▏| 331/358 [04:10<00:12,  2.24it/s]"
     ]
    },
    {
     "name": "stdout",
     "output_type": "stream",
     "text": [
      "Fit Cholesky decomposition was not successful.\n"
     ]
    },
    {
     "name": "stderr",
     "output_type": "stream",
     "text": [
      "\r",
      " 93%|█████████▎| 332/358 [04:10<00:13,  1.94it/s]"
     ]
    },
    {
     "name": "stdout",
     "output_type": "stream",
     "text": [
      "local Optima\n",
      "y_mean 5.409033875529686\n",
      "mean_mean 5.408943989395941\n",
      "abs(round((mean_mean-y_mean)/y_mean)) 0.0\n",
      "local Optima\n",
      "y_mean 5.409033875529686\n",
      "mean_mean 5.408943989395941\n",
      "abs(round((mean_mean-y_mean)/y_mean)) 0.0\n",
      "local Optima\n",
      "y_mean 5.409033875529686\n",
      "mean_mean 5.408945364691134\n",
      "abs(round((mean_mean-y_mean)/y_mean)) 0.0\n"
     ]
    },
    {
     "name": "stderr",
     "output_type": "stream",
     "text": [
      "\r",
      " 93%|█████████▎| 333/358 [04:11<00:11,  2.09it/s]"
     ]
    },
    {
     "name": "stdout",
     "output_type": "stream",
     "text": [
      "local Optima\n",
      "y_mean 2.910041894727698\n",
      "mean_mean 2.752110821198409\n",
      "abs(round((mean_mean-y_mean)/y_mean)) 0.0\n",
      "local Optima\n",
      "y_mean 2.910041894727698\n",
      "mean_mean 2.8486089823763012\n",
      "abs(round((mean_mean-y_mean)/y_mean)) 0.0\n"
     ]
    },
    {
     "name": "stderr",
     "output_type": "stream",
     "text": [
      "\r",
      " 93%|█████████▎| 334/358 [04:11<00:11,  2.17it/s]"
     ]
    },
    {
     "name": "stdout",
     "output_type": "stream",
     "text": [
      "local Optima\n",
      "y_mean 5.8186630044932866\n",
      "mean_mean 5.818637298922847\n",
      "abs(round((mean_mean-y_mean)/y_mean)) 0.0\n",
      "local Optima\n",
      "y_mean 5.8186630044932866\n",
      "mean_mean 5.81863730335975\n",
      "abs(round((mean_mean-y_mean)/y_mean)) 0.0\n",
      "local Optima\n",
      "y_mean 1.4160509931178042\n",
      "mean_mean 1.3561643829715277\n",
      "abs(round((mean_mean-y_mean)/y_mean)) 0.0\n"
     ]
    },
    {
     "name": "stderr",
     "output_type": "stream",
     "text": [
      "\r",
      " 94%|█████████▎| 335/358 [04:12<00:13,  1.76it/s]"
     ]
    },
    {
     "name": "stdout",
     "output_type": "stream",
     "text": [
      "local Optima\n",
      "y_mean 1.4160509931178042\n",
      "mean_mean 1.2896591040992313\n",
      "abs(round((mean_mean-y_mean)/y_mean)) 0.0\n",
      "local Optima\n",
      "y_mean 5.070949741765008\n",
      "mean_mean 5.070931001816147\n",
      "abs(round((mean_mean-y_mean)/y_mean)) 0.0\n"
     ]
    },
    {
     "name": "stderr",
     "output_type": "stream",
     "text": [
      "\r",
      " 94%|█████████▍| 336/358 [04:13<00:12,  1.73it/s]"
     ]
    },
    {
     "name": "stdout",
     "output_type": "stream",
     "text": [
      "local Optima\n",
      "y_mean 5.070949741765008\n",
      "mean_mean 5.070924356843518\n",
      "abs(round((mean_mean-y_mean)/y_mean)) 0.0\n"
     ]
    },
    {
     "name": "stderr",
     "output_type": "stream",
     "text": [
      "\r",
      " 94%|█████████▍| 337/358 [04:13<00:12,  1.74it/s]"
     ]
    },
    {
     "name": "stdout",
     "output_type": "stream",
     "text": [
      "local Optima\n",
      "y_mean 1.8837390310450712\n",
      "mean_mean 1.884824510247407\n",
      "abs(round((mean_mean-y_mean)/y_mean)) 0.0\n",
      "local Optima\n",
      "y_mean 1.8837390310450712\n",
      "mean_mean 1.8304727257298348\n",
      "abs(round((mean_mean-y_mean)/y_mean)) 0.0\n"
     ]
    },
    {
     "name": "stderr",
     "output_type": "stream",
     "text": [
      "\r",
      " 94%|█████████▍| 338/358 [04:14<00:10,  1.82it/s]"
     ]
    },
    {
     "name": "stdout",
     "output_type": "stream",
     "text": [
      "local Optima\n",
      "y_mean 4.783686817459739\n",
      "mean_mean 4.783675888005666\n",
      "abs(round((mean_mean-y_mean)/y_mean)) 0.0\n",
      "local Optima\n",
      "y_mean 4.783686817459739\n",
      "mean_mean 4.783673171663966\n",
      "abs(round((mean_mean-y_mean)/y_mean)) 0.0\n"
     ]
    },
    {
     "name": "stderr",
     "output_type": "stream",
     "text": [
      "\r",
      " 95%|█████████▍| 339/358 [04:14<00:09,  1.97it/s]"
     ]
    },
    {
     "name": "stdout",
     "output_type": "stream",
     "text": [
      "local Optima\n",
      "y_mean 1.6389630686567933\n",
      "mean_mean 1.6433814415387347\n",
      "abs(round((mean_mean-y_mean)/y_mean)) 0.0\n",
      "local Optima\n",
      "y_mean 1.6389630686567933\n",
      "mean_mean 1.5894154804833838\n",
      "abs(round((mean_mean-y_mean)/y_mean)) 0.0\n"
     ]
    },
    {
     "name": "stderr",
     "output_type": "stream",
     "text": [
      "\r",
      " 95%|█████████▍| 340/358 [04:15<00:08,  2.10it/s]"
     ]
    },
    {
     "name": "stdout",
     "output_type": "stream",
     "text": [
      "local Optima\n",
      "y_mean 4.454442005435615\n",
      "mean_mean 4.454429680391583\n",
      "abs(round((mean_mean-y_mean)/y_mean)) 0.0\n",
      "local Optima\n",
      "y_mean 4.454442005435615\n",
      "mean_mean 4.454427547012893\n",
      "abs(round((mean_mean-y_mean)/y_mean)) 0.0\n",
      "local Optima\n",
      "y_mean 0.814610625487667\n",
      "mean_mean 0.21916013399626041\n",
      "abs(round((mean_mean-y_mean)/y_mean)) 1.0\n",
      "local Optima\n",
      "1\n",
      "y_mean 0.814610625487667\n",
      "mean_mean 0.21916013399626041\n",
      "abs(round((mean_mean-y_mean)/y_mean)) 1.0\n",
      "local Optima\n",
      "y_mean 0.814610625487667\n",
      "mean_mean 0.182004961009197\n",
      "abs(round((mean_mean-y_mean)/y_mean)) 1.0\n",
      "local Optima\n",
      "1\n",
      "y_mean 0.814610625487667\n",
      "mean_mean 0.182004961009197\n",
      "abs(round((mean_mean-y_mean)/y_mean)) 1.0\n",
      "local Optima\n",
      "y_mean 0.814610625487667\n",
      "mean_mean 0.18984856020413318\n",
      "abs(round((mean_mean-y_mean)/y_mean)) 1.0\n",
      "local Optima\n",
      "1\n",
      "y_mean 0.814610625487667\n",
      "mean_mean 0.18984856020413318\n",
      "abs(round((mean_mean-y_mean)/y_mean)) 1.0\n",
      "local Optima\n",
      "y_mean 0.814610625487667\n",
      "mean_mean 0.23775998179722482\n",
      "abs(round((mean_mean-y_mean)/y_mean)) 1.0\n",
      "local Optima\n",
      "1\n",
      "y_mean 0.814610625487667\n",
      "mean_mean 0.23775998179722482\n",
      "abs(round((mean_mean-y_mean)/y_mean)) 1.0\n"
     ]
    },
    {
     "name": "stderr",
     "output_type": "stream",
     "text": [
      "\r",
      " 95%|█████████▌| 341/358 [04:16<00:12,  1.36it/s]"
     ]
    },
    {
     "name": "stdout",
     "output_type": "stream",
     "text": [
      "local Optima\n",
      "y_mean 0.814610625487667\n",
      "mean_mean 0.6410111850167763\n",
      "abs(round((mean_mean-y_mean)/y_mean)) 0.0\n",
      "local Optima\n",
      "y_mean 0.814610625487667\n",
      "mean_mean 0.6410136942612266\n",
      "abs(round((mean_mean-y_mean)/y_mean)) 0.0\n"
     ]
    },
    {
     "name": "stderr",
     "output_type": "stream",
     "text": [
      "\r",
      " 96%|█████████▌| 342/358 [04:16<00:10,  1.58it/s]"
     ]
    },
    {
     "name": "stdout",
     "output_type": "stream",
     "text": [
      "local Optima\n",
      "y_mean 5.989759407191503\n",
      "mean_mean 5.9983359360206165\n",
      "abs(round((mean_mean-y_mean)/y_mean)) 0.0\n",
      "local Optima\n",
      "y_mean 5.989759407191503\n",
      "mean_mean 5.989706326957361\n",
      "abs(round((mean_mean-y_mean)/y_mean)) 0.0\n"
     ]
    },
    {
     "name": "stderr",
     "output_type": "stream",
     "text": [
      "\r",
      " 96%|█████████▌| 343/358 [04:17<00:08,  1.78it/s]"
     ]
    },
    {
     "name": "stdout",
     "output_type": "stream",
     "text": [
      "local Optima\n",
      "y_mean 1.578980558887222\n",
      "mean_mean 1.3506221680526935\n",
      "abs(round((mean_mean-y_mean)/y_mean)) 0.0\n",
      "local Optima\n",
      "y_mean 1.578980558887222\n",
      "mean_mean 1.4642336260737239\n",
      "abs(round((mean_mean-y_mean)/y_mean)) 0.0\n"
     ]
    },
    {
     "name": "stderr",
     "output_type": "stream",
     "text": [
      "\r",
      " 96%|█████████▌| 344/358 [04:17<00:07,  1.92it/s]"
     ]
    },
    {
     "name": "stdout",
     "output_type": "stream",
     "text": [
      "local Optima\n",
      "y_mean 5.967800662474705\n",
      "mean_mean 5.967788389470531\n",
      "abs(round((mean_mean-y_mean)/y_mean)) 0.0\n",
      "local Optima\n",
      "y_mean 5.967800662474705\n",
      "mean_mean 5.967788396931671\n",
      "abs(round((mean_mean-y_mean)/y_mean)) 0.0\n"
     ]
    },
    {
     "name": "stderr",
     "output_type": "stream",
     "text": [
      "\r",
      " 96%|█████████▋| 345/358 [04:18<00:06,  1.99it/s]"
     ]
    },
    {
     "name": "stdout",
     "output_type": "stream",
     "text": [
      "local Optima\n",
      "y_mean 2.491119592471512\n",
      "mean_mean 2.253602014301028\n",
      "abs(round((mean_mean-y_mean)/y_mean)) 0.0\n",
      "local Optima\n",
      "y_mean 2.491119592471512\n",
      "mean_mean 2.448318438059915\n",
      "abs(round((mean_mean-y_mean)/y_mean)) 0.0\n"
     ]
    },
    {
     "name": "stderr",
     "output_type": "stream",
     "text": [
      "\r",
      " 97%|█████████▋| 346/358 [04:18<00:05,  2.09it/s]"
     ]
    },
    {
     "name": "stdout",
     "output_type": "stream",
     "text": [
      "local Optima\n",
      "y_mean 5.771119738989278\n",
      "mean_mean 5.771106175544101\n",
      "abs(round((mean_mean-y_mean)/y_mean)) 0.0\n",
      "local Optima\n",
      "y_mean 5.771119738989278\n",
      "mean_mean 5.771106174215493\n",
      "abs(round((mean_mean-y_mean)/y_mean)) 0.0\n"
     ]
    },
    {
     "name": "stderr",
     "output_type": "stream",
     "text": [
      "\r",
      " 97%|█████████▋| 347/358 [04:18<00:05,  2.15it/s]"
     ]
    },
    {
     "name": "stdout",
     "output_type": "stream",
     "text": [
      "local Optima\n",
      "y_mean 1.1572553243052783\n",
      "mean_mean 0.9130846960444339\n",
      "abs(round((mean_mean-y_mean)/y_mean)) 0.0\n",
      "local Optima\n",
      "y_mean 1.1572553243052783\n",
      "mean_mean 0.9953540396733068\n",
      "abs(round((mean_mean-y_mean)/y_mean)) 0.0\n"
     ]
    },
    {
     "name": "stderr",
     "output_type": "stream",
     "text": [
      "\r",
      " 97%|█████████▋| 348/358 [04:19<00:04,  2.20it/s]"
     ]
    },
    {
     "name": "stdout",
     "output_type": "stream",
     "text": [
      "local Optima\n",
      "y_mean 5.825949472098532\n",
      "mean_mean 5.825892507763168\n",
      "abs(round((mean_mean-y_mean)/y_mean)) 0.0\n",
      "local Optima\n",
      "y_mean 5.825949472098532\n",
      "mean_mean 5.825892490275485\n",
      "abs(round((mean_mean-y_mean)/y_mean)) 0.0\n"
     ]
    },
    {
     "name": "stderr",
     "output_type": "stream",
     "text": [
      "\r",
      " 97%|█████████▋| 349/358 [04:19<00:04,  2.23it/s]"
     ]
    },
    {
     "name": "stdout",
     "output_type": "stream",
     "text": [
      "local Optima\n",
      "y_mean 1.8703273878695876\n",
      "mean_mean 1.8295305431127866\n",
      "abs(round((mean_mean-y_mean)/y_mean)) 0.0\n",
      "local Optima\n",
      "y_mean 1.8703273878695876\n",
      "mean_mean 1.7833063100499726\n",
      "abs(round((mean_mean-y_mean)/y_mean)) 0.0\n"
     ]
    },
    {
     "name": "stderr",
     "output_type": "stream",
     "text": [
      "\r",
      " 98%|█████████▊| 350/358 [04:20<00:03,  2.26it/s]"
     ]
    },
    {
     "name": "stdout",
     "output_type": "stream",
     "text": [
      "local Optima\n",
      "y_mean 5.9192980057196225\n",
      "mean_mean 5.924919680098077\n",
      "abs(round((mean_mean-y_mean)/y_mean)) 0.0\n",
      "local Optima\n",
      "y_mean 5.9192980057196225\n",
      "mean_mean 5.91927943022257\n",
      "abs(round((mean_mean-y_mean)/y_mean)) 0.0\n",
      "local Optima\n",
      "y_mean 2.6540486969504244\n",
      "mean_mean 2.4107233955147795\n",
      "abs(round((mean_mean-y_mean)/y_mean)) 0.0\n"
     ]
    },
    {
     "name": "stderr",
     "output_type": "stream",
     "text": [
      "\r",
      " 98%|█████████▊| 351/358 [04:20<00:03,  2.16it/s]"
     ]
    },
    {
     "name": "stdout",
     "output_type": "stream",
     "text": [
      "local Optima\n",
      "y_mean 2.6540486969504244\n",
      "mean_mean 2.599183861591988\n",
      "abs(round((mean_mean-y_mean)/y_mean)) 0.0\n"
     ]
    },
    {
     "name": "stderr",
     "output_type": "stream",
     "text": [
      "\r",
      " 98%|█████████▊| 352/358 [04:21<00:02,  2.24it/s]"
     ]
    },
    {
     "name": "stdout",
     "output_type": "stream",
     "text": [
      "local Optima\n",
      "y_mean 5.847823594664481\n",
      "mean_mean 5.853690347904388\n",
      "abs(round((mean_mean-y_mean)/y_mean)) 0.0\n",
      "local Optima\n",
      "y_mean 5.847823594664481\n",
      "mean_mean 5.847806327093844\n",
      "abs(round((mean_mean-y_mean)/y_mean)) 0.0\n"
     ]
    },
    {
     "name": "stderr",
     "output_type": "stream",
     "text": [
      "\r",
      " 99%|█████████▊| 353/358 [04:21<00:02,  2.27it/s]"
     ]
    },
    {
     "name": "stdout",
     "output_type": "stream",
     "text": [
      "local Optima\n",
      "y_mean 0.6766196420099395\n",
      "mean_mean 0.7075658558220119\n",
      "abs(round((mean_mean-y_mean)/y_mean)) 0.0\n",
      "local Optima\n",
      "y_mean 0.6766196420099395\n",
      "mean_mean 0.5884409793974524\n",
      "abs(round((mean_mean-y_mean)/y_mean)) 0.0\n"
     ]
    },
    {
     "name": "stderr",
     "output_type": "stream",
     "text": [
      "\r",
      " 99%|█████████▉| 354/358 [04:21<00:01,  2.31it/s]"
     ]
    },
    {
     "name": "stdout",
     "output_type": "stream",
     "text": [
      "local Optima\n",
      "y_mean 4.079713367165396\n",
      "mean_mean 4.085807562772139\n",
      "abs(round((mean_mean-y_mean)/y_mean)) 0.0\n",
      "local Optima\n",
      "y_mean 4.079713367165396\n",
      "mean_mean 4.079614620882341\n",
      "abs(round((mean_mean-y_mean)/y_mean)) 0.0\n"
     ]
    },
    {
     "name": "stderr",
     "output_type": "stream",
     "text": [
      "\r",
      " 99%|█████████▉| 355/358 [04:22<00:01,  2.32it/s]"
     ]
    },
    {
     "name": "stdout",
     "output_type": "stream",
     "text": [
      "local Optima\n",
      "y_mean 1.4323099029783917\n",
      "mean_mean 1.2730372238669627\n",
      "abs(round((mean_mean-y_mean)/y_mean)) 0.0\n",
      "local Optima\n",
      "y_mean 1.4323099029783917\n",
      "mean_mean 1.354808753930097\n",
      "abs(round((mean_mean-y_mean)/y_mean)) 0.0\n"
     ]
    },
    {
     "name": "stderr",
     "output_type": "stream",
     "text": [
      "\r",
      " 99%|█████████▉| 356/358 [04:22<00:00,  2.34it/s]"
     ]
    },
    {
     "name": "stdout",
     "output_type": "stream",
     "text": [
      "local Optima\n",
      "y_mean 4.857714986441963\n",
      "mean_mean 4.857679482245319\n",
      "abs(round((mean_mean-y_mean)/y_mean)) 0.0\n",
      "local Optima\n",
      "y_mean 4.857714986441963\n",
      "mean_mean 4.857674393204723\n",
      "abs(round((mean_mean-y_mean)/y_mean)) 0.0\n",
      "local Optima\n",
      "y_mean 2.089229413719276\n",
      "mean_mean 1.8570968510976402\n",
      "abs(round((mean_mean-y_mean)/y_mean)) 0.0\n"
     ]
    },
    {
     "name": "stderr",
     "output_type": "stream",
     "text": [
      "\r",
      "100%|█████████▉| 357/358 [04:23<00:00,  2.25it/s]"
     ]
    },
    {
     "name": "stdout",
     "output_type": "stream",
     "text": [
      "local Optima\n",
      "y_mean 2.089229413719276\n",
      "mean_mean 2.0536716645508615\n",
      "abs(round((mean_mean-y_mean)/y_mean)) 0.0\n"
     ]
    },
    {
     "name": "stderr",
     "output_type": "stream",
     "text": [
      "100%|██████████| 358/358 [04:23<00:00,  1.36it/s]\n",
      "  0%|          | 0/358 [00:00<?, ?it/s]"
     ]
    },
    {
     "name": "stdout",
     "output_type": "stream",
     "text": [
      "local Optima\n",
      "y_mean 4.932106804419689\n",
      "mean_mean 4.936404491271788\n",
      "abs(round((mean_mean-y_mean)/y_mean)) 0.0\n",
      "local Optima\n",
      "y_mean 4.932106804419689\n",
      "mean_mean 4.932078962649073\n",
      "abs(round((mean_mean-y_mean)/y_mean)) 0.0\n",
      "low_counts_high_dispersion_non_differentially_expressed_genes_DE_non_DE_genes.csv\n"
     ]
    },
    {
     "name": "stderr",
     "output_type": "stream",
     "text": [
      "\r",
      "  0%|          | 1/358 [00:00<02:23,  2.49it/s]"
     ]
    },
    {
     "name": "stdout",
     "output_type": "stream",
     "text": [
      "local Optima\n",
      "y_mean 0.8535059504807803\n",
      "mean_mean 0.9256011783758571\n",
      "abs(round((mean_mean-y_mean)/y_mean)) 0.0\n",
      "local Optima\n",
      "y_mean 0.8535059504807803\n",
      "mean_mean 0.7685513352307178\n",
      "abs(round((mean_mean-y_mean)/y_mean)) 0.0\n"
     ]
    },
    {
     "name": "stderr",
     "output_type": "stream",
     "text": [
      "\r",
      "  1%|          | 2/358 [00:00<02:26,  2.43it/s]"
     ]
    },
    {
     "name": "stdout",
     "output_type": "stream",
     "text": [
      "local Optima\n",
      "y_mean 3.1077995070339206\n",
      "mean_mean 3.103096347574686\n",
      "abs(round((mean_mean-y_mean)/y_mean)) 0.0\n",
      "local Optima\n",
      "y_mean 3.1077995070339206\n",
      "mean_mean 3.103096513416274\n",
      "abs(round((mean_mean-y_mean)/y_mean)) 0.0\n"
     ]
    },
    {
     "name": "stderr",
     "output_type": "stream",
     "text": [
      "\r",
      "  1%|          | 3/358 [00:01<02:30,  2.35it/s]"
     ]
    },
    {
     "name": "stdout",
     "output_type": "stream",
     "text": [
      "local Optima\n",
      "y_mean 1.138780006634882\n",
      "mean_mean 1.117982718322449\n",
      "abs(round((mean_mean-y_mean)/y_mean)) 0.0\n",
      "local Optima\n",
      "y_mean 1.138780006634882\n",
      "mean_mean 1.093849151501946\n",
      "abs(round((mean_mean-y_mean)/y_mean)) 0.0\n"
     ]
    },
    {
     "name": "stderr",
     "output_type": "stream",
     "text": [
      "\r",
      "  1%|          | 4/358 [00:01<02:33,  2.31it/s]"
     ]
    },
    {
     "name": "stdout",
     "output_type": "stream",
     "text": [
      "local Optima\n",
      "y_mean 3.255057052877559\n",
      "mean_mean 3.278451668470023\n",
      "abs(round((mean_mean-y_mean)/y_mean)) 0.0\n",
      "local Optima\n",
      "y_mean 3.255057052877559\n",
      "mean_mean 3.252462868797382\n",
      "abs(round((mean_mean-y_mean)/y_mean)) 0.0\n"
     ]
    },
    {
     "name": "stderr",
     "output_type": "stream",
     "text": [
      "\r",
      "  1%|▏         | 5/358 [00:02<02:33,  2.30it/s]"
     ]
    },
    {
     "name": "stdout",
     "output_type": "stream",
     "text": [
      "local Optima\n",
      "y_mean 2.3081105546821665\n",
      "mean_mean 2.274275157206923\n",
      "abs(round((mean_mean-y_mean)/y_mean)) 0.0\n",
      "local Optima\n",
      "y_mean 2.3081105546821665\n",
      "mean_mean 2.2445669269839708\n",
      "abs(round((mean_mean-y_mean)/y_mean)) 0.0\n"
     ]
    },
    {
     "name": "stderr",
     "output_type": "stream",
     "text": [
      "\r",
      "  2%|▏         | 6/358 [00:02<02:34,  2.28it/s]"
     ]
    },
    {
     "name": "stdout",
     "output_type": "stream",
     "text": [
      "local Optima\n",
      "y_mean 4.081293832122288\n",
      "mean_mean 4.0786397171721225\n",
      "abs(round((mean_mean-y_mean)/y_mean)) 0.0\n",
      "local Optima\n",
      "y_mean 4.081293832122288\n",
      "mean_mean 4.078641434015115\n",
      "abs(round((mean_mean-y_mean)/y_mean)) 0.0\n",
      "local Optima\n",
      "y_mean 0.546519319446199\n",
      "mean_mean 0.5003698949223431\n",
      "abs(round((mean_mean-y_mean)/y_mean)) 0.0\n"
     ]
    },
    {
     "name": "stderr",
     "output_type": "stream",
     "text": [
      "\r",
      "  2%|▏         | 7/358 [00:03<02:39,  2.19it/s]"
     ]
    },
    {
     "name": "stdout",
     "output_type": "stream",
     "text": [
      "local Optima\n",
      "y_mean 0.546519319446199\n",
      "mean_mean 0.4859330918611524\n",
      "abs(round((mean_mean-y_mean)/y_mean)) 0.0\n"
     ]
    },
    {
     "name": "stderr",
     "output_type": "stream",
     "text": [
      "\r",
      "  2%|▏         | 8/358 [00:03<02:45,  2.12it/s]"
     ]
    },
    {
     "name": "stdout",
     "output_type": "stream",
     "text": [
      "local Optima\n",
      "y_mean 2.661204573688003\n",
      "mean_mean 2.6541538585328173\n",
      "abs(round((mean_mean-y_mean)/y_mean)) 0.0\n",
      "local Optima\n",
      "y_mean 2.661204573688003\n",
      "mean_mean 2.6542183962435564\n",
      "abs(round((mean_mean-y_mean)/y_mean)) 0.0\n"
     ]
    },
    {
     "name": "stderr",
     "output_type": "stream",
     "text": [
      "\r",
      "  3%|▎         | 9/358 [00:04<02:39,  2.19it/s]"
     ]
    },
    {
     "name": "stdout",
     "output_type": "stream",
     "text": [
      "local Optima\n",
      "y_mean 1.3459845459781936\n",
      "mean_mean 1.1778051277964532\n",
      "abs(round((mean_mean-y_mean)/y_mean)) 0.0\n",
      "local Optima\n",
      "y_mean 1.3459845459781936\n",
      "mean_mean 1.2748333524951896\n",
      "abs(round((mean_mean-y_mean)/y_mean)) 0.0\n"
     ]
    },
    {
     "name": "stderr",
     "output_type": "stream",
     "text": [
      "\r",
      "  3%|▎         | 10/358 [00:04<02:33,  2.27it/s]"
     ]
    },
    {
     "name": "stdout",
     "output_type": "stream",
     "text": [
      "local Optima\n",
      "y_mean 3.6277550365048756\n",
      "mean_mean 3.6213558761632503\n",
      "abs(round((mean_mean-y_mean)/y_mean)) 0.0\n",
      "local Optima\n",
      "y_mean 3.6277550365048756\n",
      "mean_mean 3.62136896745483\n",
      "abs(round((mean_mean-y_mean)/y_mean)) 0.0\n"
     ]
    },
    {
     "name": "stderr",
     "output_type": "stream",
     "text": [
      "\r",
      "  3%|▎         | 11/358 [00:04<02:27,  2.36it/s]"
     ]
    },
    {
     "name": "stdout",
     "output_type": "stream",
     "text": [
      "local Optima\n",
      "y_mean 2.069260129593302\n",
      "mean_mean 1.7546818941186106\n",
      "abs(round((mean_mean-y_mean)/y_mean)) 0.0\n",
      "local Optima\n",
      "y_mean 2.069260129593302\n",
      "mean_mean 2.011367902892409\n",
      "abs(round((mean_mean-y_mean)/y_mean)) 0.0\n"
     ]
    },
    {
     "name": "stderr",
     "output_type": "stream",
     "text": [
      "\r",
      "  3%|▎         | 12/358 [00:05<02:27,  2.35it/s]"
     ]
    },
    {
     "name": "stdout",
     "output_type": "stream",
     "text": [
      "local Optima\n",
      "y_mean 3.9045694127182182\n",
      "mean_mean 3.9015635360226013\n",
      "abs(round((mean_mean-y_mean)/y_mean)) 0.0\n",
      "local Optima\n",
      "y_mean 3.9045694127182182\n",
      "mean_mean 3.90156570964127\n",
      "abs(round((mean_mean-y_mean)/y_mean)) 0.0\n"
     ]
    },
    {
     "name": "stderr",
     "output_type": "stream",
     "text": [
      "\r",
      "  4%|▎         | 13/358 [00:05<02:25,  2.36it/s]"
     ]
    },
    {
     "name": "stdout",
     "output_type": "stream",
     "text": [
      "local Optima\n",
      "y_mean 1.1287989822251892\n",
      "mean_mean 0.8581920369387532\n",
      "abs(round((mean_mean-y_mean)/y_mean)) 0.0\n",
      "local Optima\n",
      "y_mean 1.1287989822251892\n",
      "mean_mean 1.0306602014721478\n",
      "abs(round((mean_mean-y_mean)/y_mean)) 0.0\n"
     ]
    },
    {
     "name": "stderr",
     "output_type": "stream",
     "text": [
      "\r",
      "  4%|▍         | 14/358 [00:06<02:28,  2.31it/s]"
     ]
    },
    {
     "name": "stdout",
     "output_type": "stream",
     "text": [
      "local Optima\n",
      "y_mean 4.59352206073806\n",
      "mean_mean 4.591280106729819\n",
      "abs(round((mean_mean-y_mean)/y_mean)) 0.0\n",
      "local Optima\n",
      "y_mean 4.59352206073806\n",
      "mean_mean 4.589978417059692\n",
      "abs(round((mean_mean-y_mean)/y_mean)) 0.0\n"
     ]
    },
    {
     "name": "stderr",
     "output_type": "stream",
     "text": [
      "\r",
      "  4%|▍         | 15/358 [00:06<02:25,  2.36it/s]"
     ]
    },
    {
     "name": "stdout",
     "output_type": "stream",
     "text": [
      "local Optima\n",
      "y_mean 1.530359662036032\n",
      "mean_mean 1.4530183887836816\n",
      "abs(round((mean_mean-y_mean)/y_mean)) 0.0\n",
      "local Optima\n",
      "y_mean 1.530359662036032\n",
      "mean_mean 1.4631922016529355\n",
      "abs(round((mean_mean-y_mean)/y_mean)) 0.0\n"
     ]
    },
    {
     "name": "stderr",
     "output_type": "stream",
     "text": [
      "\r",
      "  4%|▍         | 16/358 [00:06<02:24,  2.37it/s]"
     ]
    },
    {
     "name": "stdout",
     "output_type": "stream",
     "text": [
      "local Optima\n",
      "y_mean 4.364911148901252\n",
      "mean_mean 4.362887868872567\n",
      "abs(round((mean_mean-y_mean)/y_mean)) 0.0\n",
      "local Optima\n",
      "y_mean 4.364911148901252\n",
      "mean_mean 4.362841331981706\n",
      "abs(round((mean_mean-y_mean)/y_mean)) 0.0\n"
     ]
    },
    {
     "name": "stderr",
     "output_type": "stream",
     "text": [
      "\r",
      "  5%|▍         | 17/358 [00:07<02:22,  2.39it/s]"
     ]
    },
    {
     "name": "stdout",
     "output_type": "stream",
     "text": [
      "local Optima\n",
      "y_mean 1.65100170817979\n",
      "mean_mean 1.464451521642679\n",
      "abs(round((mean_mean-y_mean)/y_mean)) 0.0\n",
      "local Optima\n",
      "y_mean 1.65100170817979\n",
      "mean_mean 1.6095185096279536\n",
      "abs(round((mean_mean-y_mean)/y_mean)) 0.0\n"
     ]
    },
    {
     "name": "stderr",
     "output_type": "stream",
     "text": [
      "\r",
      "  5%|▌         | 18/358 [00:07<02:22,  2.39it/s]"
     ]
    },
    {
     "name": "stdout",
     "output_type": "stream",
     "text": [
      "local Optima\n",
      "y_mean 4.159728057786536\n",
      "mean_mean 4.184770902941389\n",
      "abs(round((mean_mean-y_mean)/y_mean)) 0.0\n",
      "local Optima\n",
      "y_mean 4.159728057786536\n",
      "mean_mean 4.158114972783885\n",
      "abs(round((mean_mean-y_mean)/y_mean)) 0.0\n"
     ]
    },
    {
     "name": "stderr",
     "output_type": "stream",
     "text": [
      "\r",
      "  5%|▌         | 19/358 [00:08<02:20,  2.41it/s]"
     ]
    },
    {
     "name": "stdout",
     "output_type": "stream",
     "text": [
      "local Optima\n",
      "y_mean 1.0990807004238923\n",
      "mean_mean 1.2213514293615961\n",
      "abs(round((mean_mean-y_mean)/y_mean)) 0.0\n",
      "local Optima\n",
      "y_mean 1.0990807004238923\n",
      "mean_mean 1.0228283974154773\n",
      "abs(round((mean_mean-y_mean)/y_mean)) 0.0\n"
     ]
    },
    {
     "name": "stderr",
     "output_type": "stream",
     "text": [
      "\r",
      "  6%|▌         | 20/358 [00:08<02:20,  2.40it/s]"
     ]
    },
    {
     "name": "stdout",
     "output_type": "stream",
     "text": [
      "local Optima\n",
      "y_mean 3.354261460635241\n",
      "mean_mean 3.349195978335857\n",
      "abs(round((mean_mean-y_mean)/y_mean)) 0.0\n",
      "local Optima\n",
      "y_mean 3.354261460635241\n",
      "mean_mean 3.3491961915325033\n",
      "abs(round((mean_mean-y_mean)/y_mean)) 0.0\n"
     ]
    },
    {
     "name": "stderr",
     "output_type": "stream",
     "text": [
      "\r",
      "  6%|▌         | 21/358 [00:09<02:17,  2.46it/s]"
     ]
    },
    {
     "name": "stdout",
     "output_type": "stream",
     "text": [
      "local Optima\n",
      "y_mean 1.2013790713923713\n",
      "mean_mean 1.1778194070950043\n",
      "abs(round((mean_mean-y_mean)/y_mean)) 0.0\n",
      "local Optima\n",
      "y_mean 1.2013790713923713\n",
      "mean_mean 1.157612595007036\n",
      "abs(round((mean_mean-y_mean)/y_mean)) 0.0\n"
     ]
    },
    {
     "name": "stderr",
     "output_type": "stream",
     "text": [
      "\r",
      "  6%|▌         | 22/358 [00:09<02:17,  2.44it/s]"
     ]
    },
    {
     "name": "stdout",
     "output_type": "stream",
     "text": [
      "local Optima\n",
      "y_mean 3.0900993204467335\n",
      "mean_mean 3.0874358928090477\n",
      "abs(round((mean_mean-y_mean)/y_mean)) 0.0\n",
      "local Optima\n",
      "y_mean 3.0900993204467335\n",
      "mean_mean 3.087435870746707\n",
      "abs(round((mean_mean-y_mean)/y_mean)) 0.0\n"
     ]
    },
    {
     "name": "stderr",
     "output_type": "stream",
     "text": [
      "\r",
      "  6%|▋         | 23/358 [00:09<02:20,  2.39it/s]"
     ]
    },
    {
     "name": "stdout",
     "output_type": "stream",
     "text": [
      "local Optima\n",
      "y_mean 2.248052059294353\n",
      "mean_mean 2.1119028137737406\n",
      "abs(round((mean_mean-y_mean)/y_mean)) 0.0\n",
      "local Optima\n",
      "y_mean 2.248052059294353\n",
      "mean_mean 2.198811409834791\n",
      "abs(round((mean_mean-y_mean)/y_mean)) 0.0\n"
     ]
    },
    {
     "name": "stderr",
     "output_type": "stream",
     "text": [
      "\r",
      "  7%|▋         | 24/358 [00:10<02:19,  2.39it/s]"
     ]
    },
    {
     "name": "stdout",
     "output_type": "stream",
     "text": [
      "local Optima\n",
      "y_mean 3.6932003864423404\n",
      "mean_mean 3.691198334990545\n",
      "abs(round((mean_mean-y_mean)/y_mean)) 0.0\n",
      "local Optima\n",
      "y_mean 3.6932003864423404\n",
      "mean_mean 3.6910298513334876\n",
      "abs(round((mean_mean-y_mean)/y_mean)) 0.0\n"
     ]
    },
    {
     "name": "stderr",
     "output_type": "stream",
     "text": [
      "\r",
      "  7%|▋         | 25/358 [00:10<02:21,  2.35it/s]"
     ]
    },
    {
     "name": "stdout",
     "output_type": "stream",
     "text": [
      "local Optima\n",
      "y_mean 0.8348028350892113\n",
      "mean_mean 0.7287270539370736\n",
      "abs(round((mean_mean-y_mean)/y_mean)) 0.0\n",
      "local Optima\n",
      "y_mean 0.8348028350892113\n",
      "mean_mean 0.7202165140959598\n",
      "abs(round((mean_mean-y_mean)/y_mean)) 0.0\n"
     ]
    },
    {
     "name": "stderr",
     "output_type": "stream",
     "text": [
      "\r",
      "  7%|▋         | 26/358 [00:11<02:28,  2.24it/s]"
     ]
    },
    {
     "name": "stdout",
     "output_type": "stream",
     "text": [
      "local Optima\n",
      "y_mean 3.3050273481007397\n",
      "mean_mean 3.3034758182741863\n",
      "abs(round((mean_mean-y_mean)/y_mean)) 0.0\n",
      "local Optima\n",
      "y_mean 3.3050273481007397\n",
      "mean_mean 3.3034760142551756\n",
      "abs(round((mean_mean-y_mean)/y_mean)) 0.0\n"
     ]
    },
    {
     "name": "stderr",
     "output_type": "stream",
     "text": [
      "\r",
      "  8%|▊         | 27/358 [00:11<02:24,  2.29it/s]"
     ]
    },
    {
     "name": "stdout",
     "output_type": "stream",
     "text": [
      "local Optima\n",
      "y_mean 1.3323041999626115\n",
      "mean_mean 1.2942072954472585\n",
      "abs(round((mean_mean-y_mean)/y_mean)) 0.0\n",
      "local Optima\n",
      "y_mean 1.3323041999626115\n",
      "mean_mean 1.2769978810397555\n",
      "abs(round((mean_mean-y_mean)/y_mean)) 0.0\n"
     ]
    },
    {
     "name": "stderr",
     "output_type": "stream",
     "text": [
      "\r",
      "  8%|▊         | 28/358 [00:12<02:23,  2.30it/s]"
     ]
    },
    {
     "name": "stdout",
     "output_type": "stream",
     "text": [
      "local Optima\n",
      "y_mean 3.58013342565633\n",
      "mean_mean 3.57960502878565\n",
      "abs(round((mean_mean-y_mean)/y_mean)) 0.0\n",
      "local Optima\n",
      "y_mean 3.58013342565633\n",
      "mean_mean 3.5794098388257094\n",
      "abs(round((mean_mean-y_mean)/y_mean)) 0.0\n",
      "local Optima\n",
      "y_mean 1.5814050481505342\n",
      "mean_mean 1.6442217807671542\n",
      "abs(round((mean_mean-y_mean)/y_mean)) 0.0\n"
     ]
    },
    {
     "name": "stderr",
     "output_type": "stream",
     "text": [
      "\r",
      "  8%|▊         | 29/358 [00:12<02:29,  2.20it/s]"
     ]
    },
    {
     "name": "stdout",
     "output_type": "stream",
     "text": [
      "local Optima\n",
      "y_mean 1.5814050481505342\n",
      "mean_mean 1.5188392713169512\n",
      "abs(round((mean_mean-y_mean)/y_mean)) 0.0\n"
     ]
    },
    {
     "name": "stderr",
     "output_type": "stream",
     "text": [
      "\r",
      "  8%|▊         | 30/358 [00:13<02:35,  2.11it/s]"
     ]
    },
    {
     "name": "stdout",
     "output_type": "stream",
     "text": [
      "local Optima\n",
      "y_mean 4.016359382783031\n",
      "mean_mean 4.015360799592732\n",
      "abs(round((mean_mean-y_mean)/y_mean)) 0.0\n",
      "local Optima\n",
      "y_mean 4.016359382783031\n",
      "mean_mean 4.0144309993746425\n",
      "abs(round((mean_mean-y_mean)/y_mean)) 0.0\n"
     ]
    },
    {
     "name": "stderr",
     "output_type": "stream",
     "text": [
      "\r",
      "  9%|▊         | 31/358 [00:13<02:27,  2.22it/s]"
     ]
    },
    {
     "name": "stdout",
     "output_type": "stream",
     "text": [
      "local Optima\n",
      "y_mean 0.9917609003340468\n",
      "mean_mean 1.0147884862055563\n",
      "abs(round((mean_mean-y_mean)/y_mean)) 0.0\n",
      "local Optima\n",
      "y_mean 0.9917609003340468\n",
      "mean_mean 0.8783977972520013\n",
      "abs(round((mean_mean-y_mean)/y_mean)) 0.0\n",
      "local Optima\n",
      "y_mean 3.7146514254484817\n",
      "mean_mean 3.7117898098448183\n",
      "abs(round((mean_mean-y_mean)/y_mean)) 0.0\n"
     ]
    },
    {
     "name": "stderr",
     "output_type": "stream",
     "text": [
      "\r",
      "  9%|▉         | 32/358 [00:14<02:34,  2.10it/s]"
     ]
    },
    {
     "name": "stdout",
     "output_type": "stream",
     "text": [
      "local Optima\n",
      "y_mean 3.7146514254484817\n",
      "mean_mean 3.711029709486097\n",
      "abs(round((mean_mean-y_mean)/y_mean)) 0.0\n"
     ]
    },
    {
     "name": "stderr",
     "output_type": "stream",
     "text": [
      "\r",
      "  9%|▉         | 33/358 [00:14<02:35,  2.09it/s]"
     ]
    },
    {
     "name": "stdout",
     "output_type": "stream",
     "text": [
      "local Optima\n",
      "y_mean 1.0485053672930957\n",
      "mean_mean 0.9719853687500197\n",
      "abs(round((mean_mean-y_mean)/y_mean)) 0.0\n",
      "local Optima\n",
      "y_mean 1.0485053672930957\n",
      "mean_mean 0.9719887646419371\n",
      "abs(round((mean_mean-y_mean)/y_mean)) 0.0\n"
     ]
    },
    {
     "name": "stderr",
     "output_type": "stream",
     "text": [
      "\r",
      "  9%|▉         | 34/358 [00:14<02:35,  2.09it/s]"
     ]
    },
    {
     "name": "stdout",
     "output_type": "stream",
     "text": [
      "local Optima\n",
      "y_mean 3.671537032495877\n",
      "mean_mean 3.670176482268323\n",
      "abs(round((mean_mean-y_mean)/y_mean)) 0.0\n",
      "local Optima\n",
      "y_mean 3.671537032495877\n",
      "mean_mean 3.669838663741766\n",
      "abs(round((mean_mean-y_mean)/y_mean)) 0.0\n",
      "local Optima\n",
      "y_mean 1.7870088647362263\n",
      "mean_mean 1.6308022774773914\n",
      "abs(round((mean_mean-y_mean)/y_mean)) 0.0\n"
     ]
    },
    {
     "name": "stderr",
     "output_type": "stream",
     "text": [
      "\r",
      " 10%|▉         | 35/358 [00:15<02:49,  1.90it/s]"
     ]
    },
    {
     "name": "stdout",
     "output_type": "stream",
     "text": [
      "local Optima\n",
      "y_mean 1.7870088647362263\n",
      "mean_mean 1.7165690818575505\n",
      "abs(round((mean_mean-y_mean)/y_mean)) 0.0\n",
      "local Optima\n",
      "y_mean 4.1711513102642215\n",
      "mean_mean 4.169551197461933\n",
      "abs(round((mean_mean-y_mean)/y_mean)) 0.0\n"
     ]
    },
    {
     "name": "stderr",
     "output_type": "stream",
     "text": [
      "\r",
      " 10%|█         | 36/358 [00:16<02:51,  1.87it/s]"
     ]
    },
    {
     "name": "stdout",
     "output_type": "stream",
     "text": [
      "local Optima\n",
      "y_mean 4.1711513102642215\n",
      "mean_mean 4.169551624000342\n",
      "abs(round((mean_mean-y_mean)/y_mean)) 0.0\n",
      "local Optima\n",
      "y_mean 0.6922722718394931\n",
      "mean_mean 0.5970531174704684\n",
      "abs(round((mean_mean-y_mean)/y_mean)) 0.0\n"
     ]
    },
    {
     "name": "stderr",
     "output_type": "stream",
     "text": [
      "\r",
      " 10%|█         | 37/358 [00:16<02:51,  1.87it/s]"
     ]
    },
    {
     "name": "stdout",
     "output_type": "stream",
     "text": [
      "local Optima\n",
      "y_mean 0.6922722718394931\n",
      "mean_mean 0.5749010972823684\n",
      "abs(round((mean_mean-y_mean)/y_mean)) 0.0\n"
     ]
    },
    {
     "name": "stderr",
     "output_type": "stream",
     "text": [
      "\r",
      " 11%|█         | 38/358 [00:17<02:39,  2.00it/s]"
     ]
    },
    {
     "name": "stdout",
     "output_type": "stream",
     "text": [
      "local Optima\n",
      "y_mean 4.403370391523598\n",
      "mean_mean 4.46438889092571\n",
      "abs(round((mean_mean-y_mean)/y_mean)) 0.0\n",
      "local Optima\n",
      "y_mean 4.403370391523598\n",
      "mean_mean 4.397616000599058\n",
      "abs(round((mean_mean-y_mean)/y_mean)) 0.0\n"
     ]
    },
    {
     "name": "stderr",
     "output_type": "stream",
     "text": [
      "\r",
      " 11%|█         | 39/358 [00:17<02:27,  2.16it/s]"
     ]
    },
    {
     "name": "stdout",
     "output_type": "stream",
     "text": [
      "local Optima\n",
      "y_mean 1.0059736085515072\n",
      "mean_mean 1.1197925698656344\n",
      "abs(round((mean_mean-y_mean)/y_mean)) 0.0\n",
      "local Optima\n",
      "y_mean 1.0059736085515072\n",
      "mean_mean 0.9189342285385113\n",
      "abs(round((mean_mean-y_mean)/y_mean)) 0.0\n"
     ]
    },
    {
     "name": "stderr",
     "output_type": "stream",
     "text": [
      "\r",
      " 11%|█         | 40/358 [00:17<02:23,  2.22it/s]"
     ]
    },
    {
     "name": "stdout",
     "output_type": "stream",
     "text": [
      "local Optima\n",
      "y_mean 4.325538428817869\n",
      "mean_mean 4.3217254053223675\n",
      "abs(round((mean_mean-y_mean)/y_mean)) 0.0\n",
      "local Optima\n",
      "y_mean 4.325538428817869\n",
      "mean_mean 4.321725697900675\n",
      "abs(round((mean_mean-y_mean)/y_mean)) 0.0\n"
     ]
    },
    {
     "name": "stderr",
     "output_type": "stream",
     "text": [
      "\r",
      " 11%|█▏        | 41/358 [00:18<02:17,  2.31it/s]"
     ]
    },
    {
     "name": "stdout",
     "output_type": "stream",
     "text": [
      "local Optima\n",
      "y_mean 1.8453881103638043\n",
      "mean_mean 2.077504926017949\n",
      "abs(round((mean_mean-y_mean)/y_mean)) 0.0\n",
      "local Optima\n",
      "y_mean 1.8453881103638043\n",
      "mean_mean 1.8068528551030802\n",
      "abs(round((mean_mean-y_mean)/y_mean)) 0.0\n",
      "local Optima\n",
      "y_mean 4.560355359388551\n",
      "mean_mean 4.557396609078348\n",
      "abs(round((mean_mean-y_mean)/y_mean)) 0.0\n"
     ]
    },
    {
     "name": "stderr",
     "output_type": "stream",
     "text": [
      "\r",
      " 12%|█▏        | 42/358 [00:18<02:21,  2.23it/s]"
     ]
    },
    {
     "name": "stdout",
     "output_type": "stream",
     "text": [
      "local Optima\n",
      "y_mean 4.560355359388551\n",
      "mean_mean 4.557396781668399\n",
      "abs(round((mean_mean-y_mean)/y_mean)) 0.0\n",
      "local Optima\n",
      "y_mean 0.8616219720419847\n",
      "mean_mean 0.6757033852243113\n",
      "abs(round((mean_mean-y_mean)/y_mean)) 0.0\n"
     ]
    },
    {
     "name": "stderr",
     "output_type": "stream",
     "text": [
      "\r",
      " 12%|█▏        | 43/358 [00:19<02:24,  2.17it/s]"
     ]
    },
    {
     "name": "stdout",
     "output_type": "stream",
     "text": [
      "local Optima\n",
      "y_mean 0.8616219720419847\n",
      "mean_mean 0.7580675503219857\n",
      "abs(round((mean_mean-y_mean)/y_mean)) 0.0\n",
      "local Optima\n",
      "y_mean 4.562448454945588\n",
      "mean_mean 4.499238714689943\n",
      "abs(round((mean_mean-y_mean)/y_mean)) 0.0\n"
     ]
    },
    {
     "name": "stderr",
     "output_type": "stream",
     "text": [
      "\r",
      " 12%|█▏        | 44/358 [00:19<02:45,  1.90it/s]"
     ]
    },
    {
     "name": "stdout",
     "output_type": "stream",
     "text": [
      "local Optima\n",
      "y_mean 4.562448454945588\n",
      "mean_mean 4.557774196503529\n",
      "abs(round((mean_mean-y_mean)/y_mean)) 0.0\n"
     ]
    },
    {
     "name": "stderr",
     "output_type": "stream",
     "text": [
      "\r",
      " 13%|█▎        | 45/358 [00:20<02:33,  2.04it/s]"
     ]
    },
    {
     "name": "stdout",
     "output_type": "stream",
     "text": [
      "local Optima\n",
      "y_mean 0.8408360856965225\n",
      "mean_mean 0.6430551422315541\n",
      "abs(round((mean_mean-y_mean)/y_mean)) 0.0\n",
      "local Optima\n",
      "y_mean 0.8408360856965225\n",
      "mean_mean 0.731217126371615\n",
      "abs(round((mean_mean-y_mean)/y_mean)) 0.0\n"
     ]
    },
    {
     "name": "stderr",
     "output_type": "stream",
     "text": [
      "\r",
      " 13%|█▎        | 46/358 [00:20<02:24,  2.16it/s]"
     ]
    },
    {
     "name": "stdout",
     "output_type": "stream",
     "text": [
      "local Optima\n",
      "y_mean 4.318368690303536\n",
      "mean_mean 4.316616383124342\n",
      "abs(round((mean_mean-y_mean)/y_mean)) 0.0\n",
      "local Optima\n",
      "y_mean 4.318368690303536\n",
      "mean_mean 4.316064624837971\n",
      "abs(round((mean_mean-y_mean)/y_mean)) 0.0\n"
     ]
    },
    {
     "name": "stderr",
     "output_type": "stream",
     "text": [
      "\r",
      " 13%|█▎        | 47/358 [00:21<02:15,  2.29it/s]"
     ]
    },
    {
     "name": "stdout",
     "output_type": "stream",
     "text": [
      "local Optima\n",
      "y_mean 2.182395705992506\n",
      "mean_mean 1.9983734744151207\n",
      "abs(round((mean_mean-y_mean)/y_mean)) 0.0\n",
      "local Optima\n",
      "y_mean 2.182395705992506\n",
      "mean_mean 2.125286000985923\n",
      "abs(round((mean_mean-y_mean)/y_mean)) 0.0\n"
     ]
    },
    {
     "name": "stderr",
     "output_type": "stream",
     "text": [
      "\r",
      " 13%|█▎        | 48/358 [00:21<02:18,  2.23it/s]"
     ]
    },
    {
     "name": "stdout",
     "output_type": "stream",
     "text": [
      "local Optima\n",
      "y_mean 4.366386383659591\n",
      "mean_mean 4.3643513538848\n",
      "abs(round((mean_mean-y_mean)/y_mean)) 0.0\n",
      "local Optima\n",
      "y_mean 4.366386383659591\n",
      "mean_mean 4.364351415628827\n",
      "abs(round((mean_mean-y_mean)/y_mean)) 0.0\n",
      "local Optima\n",
      "y_mean 1.2463878665833574\n",
      "mean_mean 1.1799360900667617\n",
      "abs(round((mean_mean-y_mean)/y_mean)) 0.0\n",
      "local Optima\n",
      "y_mean 1.2463878665833574\n",
      "mean_mean 1.1493601102312776\n",
      "abs(round((mean_mean-y_mean)/y_mean)) 0.0\n"
     ]
    },
    {
     "name": "stderr",
     "output_type": "stream",
     "text": [
      " 14%|█▍        | 50/358 [00:22<02:14,  2.30it/s]"
     ]
    },
    {
     "name": "stdout",
     "output_type": "stream",
     "text": [
      "local Optima\n",
      "y_mean 4.811898111343346\n",
      "mean_mean 4.811233033772663\n",
      "abs(round((mean_mean-y_mean)/y_mean)) 0.0\n",
      "local Optima\n",
      "y_mean 4.811898111343346\n",
      "mean_mean 4.808564554995567\n",
      "abs(round((mean_mean-y_mean)/y_mean)) 0.0\n",
      "local Optima\n",
      "y_mean 1.6246026675153127\n",
      "mean_mean 1.6150025756645783\n",
      "abs(round((mean_mean-y_mean)/y_mean)) 0.0\n",
      "local Optima\n",
      "y_mean 1.6246026675153127\n",
      "mean_mean 1.567731185302247\n",
      "abs(round((mean_mean-y_mean)/y_mean)) 0.0\n"
     ]
    },
    {
     "name": "stderr",
     "output_type": "stream",
     "text": [
      " 15%|█▍        | 52/358 [00:23<02:15,  2.26it/s]"
     ]
    },
    {
     "name": "stdout",
     "output_type": "stream",
     "text": [
      "local Optima\n",
      "y_mean 4.394647854367832\n",
      "mean_mean 4.3938457221488605\n",
      "abs(round((mean_mean-y_mean)/y_mean)) 0.0\n",
      "local Optima\n",
      "y_mean 4.394647854367832\n",
      "mean_mean 4.39227753507562\n",
      "abs(round((mean_mean-y_mean)/y_mean)) 0.0\n",
      "local Optima\n",
      "y_mean 3.2589773843235523\n",
      "mean_mean 3.381049565637536\n",
      "abs(round((mean_mean-y_mean)/y_mean)) 0.0\n",
      "local Optima\n",
      "y_mean 3.2589773843235523\n",
      "mean_mean 3.241722004742832\n",
      "abs(round((mean_mean-y_mean)/y_mean)) 0.0\n"
     ]
    },
    {
     "name": "stderr",
     "output_type": "stream",
     "text": [
      " 15%|█▌        | 54/358 [00:24<02:19,  2.17it/s]"
     ]
    },
    {
     "name": "stdout",
     "output_type": "stream",
     "text": [
      "local Optima\n",
      "y_mean 4.242995948461461\n",
      "mean_mean 4.242409823645568\n",
      "abs(round((mean_mean-y_mean)/y_mean)) 0.0\n",
      "local Optima\n",
      "y_mean 4.242995948461461\n",
      "mean_mean 4.240779758734258\n",
      "abs(round((mean_mean-y_mean)/y_mean)) 0.0\n"
     ]
    },
    {
     "name": "stderr",
     "output_type": "stream",
     "text": [
      "\r",
      " 15%|█▌        | 55/358 [00:24<02:15,  2.23it/s]"
     ]
    },
    {
     "name": "stdout",
     "output_type": "stream",
     "text": [
      "local Optima\n",
      "y_mean 1.2106905337339715\n",
      "mean_mean 1.1517193646427795\n",
      "abs(round((mean_mean-y_mean)/y_mean)) 0.0\n",
      "local Optima\n",
      "y_mean 1.2106905337339715\n",
      "mean_mean 1.1222093500660895\n",
      "abs(round((mean_mean-y_mean)/y_mean)) 0.0\n"
     ]
    },
    {
     "name": "stderr",
     "output_type": "stream",
     "text": [
      "\r",
      " 16%|█▌        | 56/358 [00:25<02:14,  2.25it/s]"
     ]
    },
    {
     "name": "stdout",
     "output_type": "stream",
     "text": [
      "local Optima\n",
      "y_mean 4.57260875656359\n",
      "mean_mean 4.571067390268855\n",
      "abs(round((mean_mean-y_mean)/y_mean)) 0.0\n",
      "local Optima\n",
      "y_mean 4.57260875656359\n",
      "mean_mean 4.568388480120197\n",
      "abs(round((mean_mean-y_mean)/y_mean)) 0.0\n"
     ]
    },
    {
     "name": "stderr",
     "output_type": "stream",
     "text": [
      "\r",
      " 16%|█▌        | 57/358 [00:25<02:12,  2.28it/s]"
     ]
    },
    {
     "name": "stdout",
     "output_type": "stream",
     "text": [
      "local Optima\n",
      "y_mean 1.5863570177679107\n",
      "mean_mean 1.413540462590186\n",
      "abs(round((mean_mean-y_mean)/y_mean)) 0.0\n",
      "local Optima\n",
      "y_mean 1.5863570177679107\n",
      "mean_mean 1.51339572566412\n",
      "abs(round((mean_mean-y_mean)/y_mean)) 0.0\n",
      "local Optima\n",
      "y_mean 4.6214321533958405\n",
      "mean_mean 4.6202309385158\n",
      "abs(round((mean_mean-y_mean)/y_mean)) 0.0\n",
      "local Optima\n",
      "y_mean 4.6214321533958405\n",
      "mean_mean 4.619079837228923\n",
      "abs(round((mean_mean-y_mean)/y_mean)) 0.0\n"
     ]
    },
    {
     "name": "stderr",
     "output_type": "stream",
     "text": [
      "\r",
      " 16%|█▌        | 58/358 [00:26<02:13,  2.24it/s]"
     ]
    },
    {
     "name": "stdout",
     "output_type": "stream",
     "text": [
      "local Optima\n",
      "y_mean 2.2449431898459973\n",
      "mean_mean 1.8196117063110693\n",
      "abs(round((mean_mean-y_mean)/y_mean)) 0.0\n",
      "local Optima\n",
      "y_mean 2.2449431898459973\n",
      "mean_mean 2.181229529818855\n",
      "abs(round((mean_mean-y_mean)/y_mean)) 0.0\n"
     ]
    },
    {
     "name": "stderr",
     "output_type": "stream",
     "text": [
      "\r",
      " 16%|█▋        | 59/358 [00:26<02:14,  2.22it/s]"
     ]
    },
    {
     "name": "stdout",
     "output_type": "stream",
     "text": [
      "local Optima\n",
      "y_mean 4.70089278494599\n",
      "mean_mean 4.70056111273856\n",
      "abs(round((mean_mean-y_mean)/y_mean)) 0.0\n",
      "local Optima\n",
      "y_mean 4.70089278494599\n",
      "mean_mean 4.699487529298338\n",
      "abs(round((mean_mean-y_mean)/y_mean)) 0.0\n"
     ]
    },
    {
     "name": "stderr",
     "output_type": "stream",
     "text": [
      " 17%|█▋        | 61/358 [00:27<02:07,  2.32it/s]"
     ]
    },
    {
     "name": "stdout",
     "output_type": "stream",
     "text": [
      "local Optima\n",
      "y_mean 1.0233155690899323\n",
      "mean_mean 0.8855471643935369\n",
      "abs(round((mean_mean-y_mean)/y_mean)) 0.0\n",
      "local Optima\n",
      "y_mean 1.0233155690899323\n",
      "mean_mean 0.8851380982468686\n",
      "abs(round((mean_mean-y_mean)/y_mean)) 0.0\n"
     ]
    },
    {
     "name": "stderr",
     "output_type": "stream",
     "text": [
      "\r",
      " 17%|█▋        | 62/358 [00:27<02:12,  2.24it/s]"
     ]
    },
    {
     "name": "stdout",
     "output_type": "stream",
     "text": [
      "local Optima\n",
      "y_mean 4.743995489932965\n",
      "mean_mean 4.74037143004038\n",
      "abs(round((mean_mean-y_mean)/y_mean)) 0.0\n",
      "local Optima\n",
      "y_mean 4.743995489932965\n",
      "mean_mean 4.740372666972857\n",
      "abs(round((mean_mean-y_mean)/y_mean)) 0.0\n",
      "local Optima\n",
      "y_mean 1.2302733705592592\n",
      "mean_mean 1.0496366753957933\n",
      "abs(round((mean_mean-y_mean)/y_mean)) 0.0\n"
     ]
    },
    {
     "name": "stderr",
     "output_type": "stream",
     "text": [
      "\r",
      " 18%|█▊        | 63/358 [00:28<02:31,  1.94it/s]"
     ]
    },
    {
     "name": "stdout",
     "output_type": "stream",
     "text": [
      "local Optima\n",
      "y_mean 1.2302733705592592\n",
      "mean_mean 1.1619588293279934\n",
      "abs(round((mean_mean-y_mean)/y_mean)) 0.0\n"
     ]
    },
    {
     "name": "stderr",
     "output_type": "stream",
     "text": [
      "\r",
      " 18%|█▊        | 64/358 [00:29<02:29,  1.96it/s]"
     ]
    },
    {
     "name": "stdout",
     "output_type": "stream",
     "text": [
      "local Optima\n",
      "y_mean 4.3609232956949215\n",
      "mean_mean 4.3581378740573395\n",
      "abs(round((mean_mean-y_mean)/y_mean)) 0.0\n",
      "local Optima\n",
      "y_mean 4.3609232956949215\n",
      "mean_mean 4.358134983457094\n",
      "abs(round((mean_mean-y_mean)/y_mean)) 0.0\n",
      "local Optima\n",
      "y_mean 3.2334845569969417\n",
      "mean_mean 3.1920185380697923\n",
      "abs(round((mean_mean-y_mean)/y_mean)) 0.0\n",
      "local Optima\n",
      "y_mean 3.2334845569969417\n",
      "mean_mean 3.2087207342904964\n",
      "abs(round((mean_mean-y_mean)/y_mean)) 0.0\n"
     ]
    },
    {
     "name": "stderr",
     "output_type": "stream",
     "text": [
      " 18%|█▊        | 66/358 [00:29<02:13,  2.18it/s]"
     ]
    },
    {
     "name": "stdout",
     "output_type": "stream",
     "text": [
      "local Optima\n",
      "y_mean 4.388357906396089\n",
      "mean_mean 4.386830465477761\n",
      "abs(round((mean_mean-y_mean)/y_mean)) 0.0\n",
      "local Optima\n",
      "y_mean 4.388357906396089\n",
      "mean_mean 4.386830733496297\n",
      "abs(round((mean_mean-y_mean)/y_mean)) 0.0\n"
     ]
    },
    {
     "name": "stderr",
     "output_type": "stream",
     "text": [
      "\r",
      " 19%|█▊        | 67/358 [00:30<02:07,  2.28it/s]"
     ]
    },
    {
     "name": "stdout",
     "output_type": "stream",
     "text": [
      "local Optima\n",
      "y_mean 1.0845358590824454\n",
      "mean_mean 0.8232500245593546\n",
      "abs(round((mean_mean-y_mean)/y_mean)) 0.0\n",
      "local Optima\n",
      "y_mean 1.0845358590824454\n",
      "mean_mean 0.9282084270917994\n",
      "abs(round((mean_mean-y_mean)/y_mean)) 0.0\n",
      "local Optima\n",
      "y_mean 4.4808882300589135\n",
      "mean_mean 4.476210751637709\n",
      "abs(round((mean_mean-y_mean)/y_mean)) 0.0\n"
     ]
    },
    {
     "name": "stderr",
     "output_type": "stream",
     "text": [
      "\r",
      " 19%|█▉        | 68/358 [00:30<02:12,  2.19it/s]"
     ]
    },
    {
     "name": "stdout",
     "output_type": "stream",
     "text": [
      "local Optima\n",
      "y_mean 4.4808882300589135\n",
      "mean_mean 4.476210861791679\n",
      "abs(round((mean_mean-y_mean)/y_mean)) 0.0\n",
      "local Optima\n",
      "y_mean 1.679475884960141\n",
      "mean_mean 1.602100532352374\n",
      "abs(round((mean_mean-y_mean)/y_mean)) 0.0\n"
     ]
    },
    {
     "name": "stderr",
     "output_type": "stream",
     "text": [
      "\r",
      " 19%|█▉        | 69/358 [00:31<02:17,  2.10it/s]"
     ]
    },
    {
     "name": "stdout",
     "output_type": "stream",
     "text": [
      "local Optima\n",
      "y_mean 1.679475884960141\n",
      "mean_mean 1.6074715879803418\n",
      "abs(round((mean_mean-y_mean)/y_mean)) 0.0\n",
      "local Optima\n",
      "y_mean 4.271757897469755\n",
      "mean_mean 4.269864984852472\n",
      "abs(round((mean_mean-y_mean)/y_mean)) 0.0\n"
     ]
    },
    {
     "name": "stderr",
     "output_type": "stream",
     "text": [
      "\r",
      " 20%|█▉        | 70/358 [00:31<02:18,  2.07it/s]"
     ]
    },
    {
     "name": "stdout",
     "output_type": "stream",
     "text": [
      "local Optima\n",
      "y_mean 4.271757897469755\n",
      "mean_mean 4.269865209056642\n",
      "abs(round((mean_mean-y_mean)/y_mean)) 0.0\n"
     ]
    },
    {
     "name": "stderr",
     "output_type": "stream",
     "text": [
      "\r",
      " 20%|█▉        | 71/358 [00:32<02:11,  2.18it/s]"
     ]
    },
    {
     "name": "stdout",
     "output_type": "stream",
     "text": [
      "local Optima\n",
      "y_mean 2.221437243913887\n",
      "mean_mean 2.1063626792268764\n",
      "abs(round((mean_mean-y_mean)/y_mean)) 0.0\n",
      "local Optima\n",
      "y_mean 2.221437243913887\n",
      "mean_mean 2.201133794305917\n",
      "abs(round((mean_mean-y_mean)/y_mean)) 0.0\n"
     ]
    },
    {
     "name": "stderr",
     "output_type": "stream",
     "text": [
      "\r",
      " 20%|██        | 72/358 [00:32<02:07,  2.25it/s]"
     ]
    },
    {
     "name": "stdout",
     "output_type": "stream",
     "text": [
      "local Optima\n",
      "y_mean 4.2304619090365145\n",
      "mean_mean 4.229239940641346\n",
      "abs(round((mean_mean-y_mean)/y_mean)) 0.0\n",
      "local Optima\n",
      "y_mean 4.2304619090365145\n",
      "mean_mean 4.229239977566927\n",
      "abs(round((mean_mean-y_mean)/y_mean)) 0.0\n"
     ]
    },
    {
     "name": "stderr",
     "output_type": "stream",
     "text": [
      "\r",
      " 20%|██        | 73/358 [00:32<02:01,  2.34it/s]"
     ]
    },
    {
     "name": "stdout",
     "output_type": "stream",
     "text": [
      "local Optima\n",
      "y_mean 1.278963691018557\n",
      "mean_mean 1.21483118126615\n",
      "abs(round((mean_mean-y_mean)/y_mean)) 0.0\n",
      "local Optima\n",
      "y_mean 1.278963691018557\n",
      "mean_mean 1.2042517723413526\n",
      "abs(round((mean_mean-y_mean)/y_mean)) 0.0\n"
     ]
    },
    {
     "name": "stderr",
     "output_type": "stream",
     "text": [
      "\r",
      " 21%|██        | 74/358 [00:33<01:59,  2.38it/s]"
     ]
    },
    {
     "name": "stdout",
     "output_type": "stream",
     "text": [
      "local Optima\n",
      "y_mean 4.152544088603877\n",
      "mean_mean 4.151193673310186\n",
      "abs(round((mean_mean-y_mean)/y_mean)) 0.0\n",
      "local Optima\n",
      "y_mean 4.152544088603877\n",
      "mean_mean 4.150436980972252\n",
      "abs(round((mean_mean-y_mean)/y_mean)) 0.0\n",
      "local Optima\n",
      "y_mean 1.0933625430741407\n",
      "mean_mean 1.0842277573522454\n",
      "abs(round((mean_mean-y_mean)/y_mean)) 0.0\n",
      "local Optima\n",
      "y_mean 1.0933625430741407\n",
      "mean_mean 1.0251104121089811\n",
      "abs(round((mean_mean-y_mean)/y_mean)) 0.0\n"
     ]
    },
    {
     "name": "stderr",
     "output_type": "stream",
     "text": [
      " 21%|██        | 76/358 [00:34<02:01,  2.33it/s]"
     ]
    },
    {
     "name": "stdout",
     "output_type": "stream",
     "text": [
      "local Optima\n",
      "y_mean 3.794364773501763\n",
      "mean_mean 3.7932861176573427\n",
      "abs(round((mean_mean-y_mean)/y_mean)) 0.0\n",
      "local Optima\n",
      "y_mean 3.794364773501763\n",
      "mean_mean 3.792877242347586\n",
      "abs(round((mean_mean-y_mean)/y_mean)) 0.0\n"
     ]
    },
    {
     "name": "stderr",
     "output_type": "stream",
     "text": [
      "\r",
      " 22%|██▏       | 77/358 [00:34<02:00,  2.33it/s]"
     ]
    },
    {
     "name": "stdout",
     "output_type": "stream",
     "text": [
      "local Optima\n",
      "y_mean 1.239323227453256\n",
      "mean_mean 1.2830994929585418\n",
      "abs(round((mean_mean-y_mean)/y_mean)) 0.0\n",
      "local Optima\n",
      "y_mean 1.239323227453256\n",
      "mean_mean 1.206076242237341\n",
      "abs(round((mean_mean-y_mean)/y_mean)) 0.0\n",
      "local Optima\n",
      "y_mean 3.6388803687804545\n",
      "mean_mean 3.638142851026919\n",
      "abs(round((mean_mean-y_mean)/y_mean)) 0.0\n"
     ]
    },
    {
     "name": "stderr",
     "output_type": "stream",
     "text": [
      "\r",
      " 22%|██▏       | 78/358 [00:35<02:05,  2.24it/s]"
     ]
    },
    {
     "name": "stdout",
     "output_type": "stream",
     "text": [
      "local Optima\n",
      "y_mean 3.6388803687804545\n",
      "mean_mean 3.6379989080793753\n",
      "abs(round((mean_mean-y_mean)/y_mean)) 0.0\n"
     ]
    },
    {
     "name": "stderr",
     "output_type": "stream",
     "text": [
      "\r",
      " 22%|██▏       | 79/358 [00:35<02:06,  2.20it/s]"
     ]
    },
    {
     "name": "stdout",
     "output_type": "stream",
     "text": [
      "local Optima\n",
      "y_mean 0.6823907603703501\n",
      "mean_mean 0.6814095533862303\n",
      "abs(round((mean_mean-y_mean)/y_mean)) 0.0\n",
      "local Optima\n",
      "y_mean 0.6823907603703501\n",
      "mean_mean 0.628201211013928\n",
      "abs(round((mean_mean-y_mean)/y_mean)) 0.0\n"
     ]
    },
    {
     "name": "stderr",
     "output_type": "stream",
     "text": [
      "\r",
      " 22%|██▏       | 80/358 [00:35<02:00,  2.31it/s]"
     ]
    },
    {
     "name": "stdout",
     "output_type": "stream",
     "text": [
      "local Optima\n",
      "y_mean 3.3182623169414023\n",
      "mean_mean 3.441399189426024\n",
      "abs(round((mean_mean-y_mean)/y_mean)) 0.0\n",
      "local Optima\n",
      "y_mean 3.3182623169414023\n",
      "mean_mean 3.3143669983615633\n",
      "abs(round((mean_mean-y_mean)/y_mean)) 0.0\n"
     ]
    },
    {
     "name": "stderr",
     "output_type": "stream",
     "text": [
      "\r",
      " 23%|██▎       | 81/358 [00:36<01:55,  2.39it/s]"
     ]
    },
    {
     "name": "stdout",
     "output_type": "stream",
     "text": [
      "local Optima\n",
      "y_mean 0.9771844012701953\n",
      "mean_mean 0.9300497099286583\n",
      "abs(round((mean_mean-y_mean)/y_mean)) 0.0\n",
      "local Optima\n",
      "y_mean 0.9771844012701953\n",
      "mean_mean 0.9235873633397786\n",
      "abs(round((mean_mean-y_mean)/y_mean)) 0.0\n",
      "local Optima\n",
      "y_mean 3.5182798443506114\n",
      "mean_mean 3.5163922120292908\n",
      "abs(round((mean_mean-y_mean)/y_mean)) 0.0\n"
     ]
    },
    {
     "name": "stderr",
     "output_type": "stream",
     "text": [
      "\r",
      " 23%|██▎       | 82/358 [00:36<02:04,  2.23it/s]"
     ]
    },
    {
     "name": "stdout",
     "output_type": "stream",
     "text": [
      "local Optima\n",
      "y_mean 3.5182798443506114\n",
      "mean_mean 3.516392244387063\n",
      "abs(round((mean_mean-y_mean)/y_mean)) 0.0\n"
     ]
    },
    {
     "name": "stderr",
     "output_type": "stream",
     "text": [
      "\r",
      " 23%|██▎       | 83/358 [00:37<02:03,  2.23it/s]"
     ]
    },
    {
     "name": "stdout",
     "output_type": "stream",
     "text": [
      "local Optima\n",
      "y_mean 2.1974268974731226\n",
      "mean_mean 2.1769920194380563\n",
      "abs(round((mean_mean-y_mean)/y_mean)) 0.0\n",
      "local Optima\n",
      "y_mean 2.1974268974731226\n",
      "mean_mean 2.132311340050308\n",
      "abs(round((mean_mean-y_mean)/y_mean)) 0.0\n"
     ]
    },
    {
     "name": "stderr",
     "output_type": "stream",
     "text": [
      "\r",
      " 23%|██▎       | 84/358 [00:37<02:02,  2.23it/s]"
     ]
    },
    {
     "name": "stdout",
     "output_type": "stream",
     "text": [
      "local Optima\n",
      "y_mean 4.402739377900392\n",
      "mean_mean 4.398663037669431\n",
      "abs(round((mean_mean-y_mean)/y_mean)) 0.0\n",
      "local Optima\n",
      "y_mean 4.402739377900392\n",
      "mean_mean 4.398662906824748\n",
      "abs(round((mean_mean-y_mean)/y_mean)) 0.0\n",
      "local Optima\n",
      "y_mean 1.5256149110895794\n",
      "mean_mean 1.7800432347202815\n",
      "abs(round((mean_mean-y_mean)/y_mean)) 0.0\n",
      "local Optima\n",
      "y_mean 1.5256149110895794\n",
      "mean_mean 1.4241033549958166\n",
      "abs(round((mean_mean-y_mean)/y_mean)) 0.0\n"
     ]
    },
    {
     "name": "stderr",
     "output_type": "stream",
     "text": [
      "\r",
      " 24%|██▎       | 85/358 [00:38<02:02,  2.23it/s]"
     ]
    },
    {
     "name": "stdout",
     "output_type": "stream",
     "text": [
      "local Optima\n",
      "y_mean 4.216410261034064\n",
      "mean_mean 4.292410734881887\n",
      "abs(round((mean_mean-y_mean)/y_mean)) 0.0\n"
     ]
    },
    {
     "name": "stderr",
     "output_type": "stream",
     "text": [
      "\r",
      " 24%|██▍       | 86/358 [00:38<02:10,  2.09it/s]"
     ]
    },
    {
     "name": "stdout",
     "output_type": "stream",
     "text": [
      "local Optima\n",
      "y_mean 4.216410261034064\n",
      "mean_mean 4.2121209433609215\n",
      "abs(round((mean_mean-y_mean)/y_mean)) 0.0\n",
      "local Optima\n",
      "y_mean 1.5619489899866854\n",
      "mean_mean 1.5846938446953205\n",
      "abs(round((mean_mean-y_mean)/y_mean)) 0.0\n"
     ]
    },
    {
     "name": "stderr",
     "output_type": "stream",
     "text": [
      "\r",
      " 24%|██▍       | 87/358 [00:39<02:25,  1.87it/s]"
     ]
    },
    {
     "name": "stdout",
     "output_type": "stream",
     "text": [
      "local Optima\n",
      "y_mean 1.5619489899866854\n",
      "mean_mean 1.4775500460597724\n",
      "abs(round((mean_mean-y_mean)/y_mean)) 0.0\n",
      "local Optima\n",
      "y_mean 4.626298845020402\n",
      "mean_mean 4.62275455010066\n",
      "abs(round((mean_mean-y_mean)/y_mean)) 0.0\n"
     ]
    },
    {
     "name": "stderr",
     "output_type": "stream",
     "text": [
      "\r",
      " 25%|██▍       | 88/358 [00:39<02:25,  1.86it/s]"
     ]
    },
    {
     "name": "stdout",
     "output_type": "stream",
     "text": [
      "local Optima\n",
      "y_mean 4.626298845020402\n",
      "mean_mean 4.622754399271284\n",
      "abs(round((mean_mean-y_mean)/y_mean)) 0.0\n"
     ]
    },
    {
     "name": "stderr",
     "output_type": "stream",
     "text": [
      "\r",
      " 25%|██▍       | 89/358 [00:40<02:18,  1.94it/s]"
     ]
    },
    {
     "name": "stdout",
     "output_type": "stream",
     "text": [
      "local Optima\n",
      "y_mean 2.56099746252513\n",
      "mean_mean 2.5457681394599927\n",
      "abs(round((mean_mean-y_mean)/y_mean)) 0.0\n",
      "local Optima\n",
      "y_mean 2.56099746252513\n",
      "mean_mean 2.5457681323028907\n",
      "abs(round((mean_mean-y_mean)/y_mean)) 0.0\n"
     ]
    },
    {
     "name": "stderr",
     "output_type": "stream",
     "text": [
      "\r",
      " 25%|██▌       | 90/358 [00:40<02:08,  2.08it/s]"
     ]
    },
    {
     "name": "stdout",
     "output_type": "stream",
     "text": [
      "local Optima\n",
      "y_mean 4.438397315217653\n",
      "mean_mean 4.435705419111803\n",
      "abs(round((mean_mean-y_mean)/y_mean)) 0.0\n",
      "local Optima\n",
      "y_mean 4.438397315217653\n",
      "mean_mean 4.43570528601439\n",
      "abs(round((mean_mean-y_mean)/y_mean)) 0.0\n",
      "local Optima\n",
      "y_mean 0.6322215656412316\n",
      "mean_mean 0.28435609665868194\n",
      "abs(round((mean_mean-y_mean)/y_mean)) 1.0\n",
      "local Optima\n",
      "1\n",
      "y_mean 0.6322215656412316\n",
      "mean_mean 0.28435609665868194\n",
      "abs(round((mean_mean-y_mean)/y_mean)) 1.0\n",
      "local Optima\n",
      "y_mean 0.6322215656412316\n",
      "mean_mean 0.21772131431646646\n",
      "abs(round((mean_mean-y_mean)/y_mean)) 1.0\n",
      "local Optima\n",
      "1\n",
      "y_mean 0.6322215656412316\n",
      "mean_mean 0.21772131431646646\n",
      "abs(round((mean_mean-y_mean)/y_mean)) 1.0\n",
      "local Optima\n",
      "y_mean 0.6322215656412316\n",
      "mean_mean 0.22717131679549676\n",
      "abs(round((mean_mean-y_mean)/y_mean)) 1.0\n",
      "local Optima\n",
      "1\n",
      "y_mean 0.6322215656412316\n",
      "mean_mean 0.22717131679549676\n",
      "abs(round((mean_mean-y_mean)/y_mean)) 1.0\n",
      "local Optima\n",
      "y_mean 0.6322215656412316\n",
      "mean_mean 0.2852818289229875\n",
      "abs(round((mean_mean-y_mean)/y_mean)) 1.0\n",
      "local Optima\n",
      "1\n",
      "y_mean 0.6322215656412316\n",
      "mean_mean 0.2852818289229875\n",
      "abs(round((mean_mean-y_mean)/y_mean)) 1.0\n",
      "local Optima\n",
      "y_mean 0.6322215656412316\n",
      "mean_mean 0.26402064069840253\n",
      "abs(round((mean_mean-y_mean)/y_mean)) 1.0\n",
      "local Optima\n",
      "1\n",
      "y_mean 0.6322215656412316\n",
      "mean_mean 0.26402064069840253\n",
      "abs(round((mean_mean-y_mean)/y_mean)) 1.0\n"
     ]
    },
    {
     "name": "stderr",
     "output_type": "stream",
     "text": [
      "\r",
      " 25%|██▌       | 91/358 [00:42<04:04,  1.09it/s]"
     ]
    },
    {
     "name": "stdout",
     "output_type": "stream",
     "text": [
      "local Optima\n",
      "y_mean 0.6322215656412316\n",
      "mean_mean 0.5363490590564853\n",
      "abs(round((mean_mean-y_mean)/y_mean)) 0.0\n"
     ]
    },
    {
     "name": "stderr",
     "output_type": "stream",
     "text": [
      "\r",
      " 26%|██▌       | 92/358 [00:43<03:21,  1.32it/s]"
     ]
    },
    {
     "name": "stdout",
     "output_type": "stream",
     "text": [
      "local Optima\n",
      "y_mean 3.4398747574704758\n",
      "mean_mean 3.437679871868772\n",
      "abs(round((mean_mean-y_mean)/y_mean)) 0.0\n",
      "local Optima\n",
      "y_mean 3.4398747574704758\n",
      "mean_mean 3.437579082589177\n",
      "abs(round((mean_mean-y_mean)/y_mean)) 0.0\n"
     ]
    },
    {
     "name": "stderr",
     "output_type": "stream",
     "text": [
      "\r",
      " 26%|██▌       | 93/358 [00:43<02:51,  1.54it/s]"
     ]
    },
    {
     "name": "stdout",
     "output_type": "stream",
     "text": [
      "local Optima\n",
      "y_mean 1.2221953741391163\n",
      "mean_mean 1.195139087959637\n",
      "abs(round((mean_mean-y_mean)/y_mean)) 0.0\n",
      "local Optima\n",
      "y_mean 1.2221953741391163\n",
      "mean_mean 1.1687041126761917\n",
      "abs(round((mean_mean-y_mean)/y_mean)) 0.0\n"
     ]
    },
    {
     "name": "stderr",
     "output_type": "stream",
     "text": [
      "\r",
      " 26%|██▋       | 94/358 [00:43<02:31,  1.75it/s]"
     ]
    },
    {
     "name": "stdout",
     "output_type": "stream",
     "text": [
      "local Optima\n",
      "y_mean 3.752232023943008\n",
      "mean_mean 3.7508276801196216\n",
      "abs(round((mean_mean-y_mean)/y_mean)) 0.0\n",
      "local Optima\n",
      "y_mean 3.752232023943008\n",
      "mean_mean 3.750514349368997\n",
      "abs(round((mean_mean-y_mean)/y_mean)) 0.0\n"
     ]
    },
    {
     "name": "stderr",
     "output_type": "stream",
     "text": [
      "\r",
      " 27%|██▋       | 95/358 [00:44<02:17,  1.92it/s]"
     ]
    },
    {
     "name": "stdout",
     "output_type": "stream",
     "text": [
      "local Optima\n",
      "y_mean 1.2053838339908687\n",
      "mean_mean 1.1953201709469432\n",
      "abs(round((mean_mean-y_mean)/y_mean)) 0.0\n",
      "local Optima\n",
      "y_mean 1.2053838339908687\n",
      "mean_mean 1.1641723879386898\n",
      "abs(round((mean_mean-y_mean)/y_mean)) 0.0\n",
      "local Optima\n",
      "y_mean 3.600829305382975\n",
      "mean_mean 3.5998072579358005\n",
      "abs(round((mean_mean-y_mean)/y_mean)) 0.0\n"
     ]
    },
    {
     "name": "stderr",
     "output_type": "stream",
     "text": [
      "\r",
      " 27%|██▋       | 96/358 [00:44<02:19,  1.88it/s]"
     ]
    },
    {
     "name": "stdout",
     "output_type": "stream",
     "text": [
      "local Optima\n",
      "y_mean 3.600829305382975\n",
      "mean_mean 3.5995329168053316\n",
      "abs(round((mean_mean-y_mean)/y_mean)) 0.0\n",
      "local Optima\n",
      "y_mean 0.736546937075137\n",
      "mean_mean 0.6643952497993226\n",
      "abs(round((mean_mean-y_mean)/y_mean)) 0.0\n"
     ]
    },
    {
     "name": "stderr",
     "output_type": "stream",
     "text": [
      "\r",
      " 27%|██▋       | 97/358 [00:45<02:12,  1.97it/s]"
     ]
    },
    {
     "name": "stdout",
     "output_type": "stream",
     "text": [
      "local Optima\n",
      "y_mean 0.736546937075137\n",
      "mean_mean 0.6363239778371688\n",
      "abs(round((mean_mean-y_mean)/y_mean)) 0.0\n",
      "local Optima\n",
      "y_mean 4.2244207848501105\n",
      "mean_mean 4.217343981246784\n",
      "abs(round((mean_mean-y_mean)/y_mean)) 0.0\n",
      "local Optima\n",
      "y_mean 4.2244207848501105\n",
      "mean_mean 4.2157915450154135\n",
      "abs(round((mean_mean-y_mean)/y_mean)) 0.0\n"
     ]
    },
    {
     "name": "stderr",
     "output_type": "stream",
     "text": [
      " 28%|██▊       | 99/358 [00:46<02:11,  1.97it/s]"
     ]
    },
    {
     "name": "stdout",
     "output_type": "stream",
     "text": [
      "local Optima\n",
      "y_mean 0.9743347738042204\n",
      "mean_mean 1.097609904416796\n",
      "abs(round((mean_mean-y_mean)/y_mean)) 0.0\n",
      "local Optima\n",
      "y_mean 0.9743347738042204\n",
      "mean_mean 0.9039495302955929\n",
      "abs(round((mean_mean-y_mean)/y_mean)) 0.0\n"
     ]
    },
    {
     "name": "stderr",
     "output_type": "stream",
     "text": [
      "\r",
      " 28%|██▊       | 100/358 [00:46<02:02,  2.11it/s]"
     ]
    },
    {
     "name": "stdout",
     "output_type": "stream",
     "text": [
      "local Optima\n",
      "y_mean 4.2611204064207735\n",
      "mean_mean 4.259353016534475\n",
      "abs(round((mean_mean-y_mean)/y_mean)) 0.0\n",
      "local Optima\n",
      "y_mean 4.2611204064207735\n",
      "mean_mean 4.258870694660952\n",
      "abs(round((mean_mean-y_mean)/y_mean)) 0.0\n"
     ]
    },
    {
     "name": "stderr",
     "output_type": "stream",
     "text": [
      "\r",
      " 28%|██▊       | 101/358 [00:47<01:54,  2.25it/s]"
     ]
    },
    {
     "name": "stdout",
     "output_type": "stream",
     "text": [
      "local Optima\n",
      "y_mean 1.4437913081300144\n",
      "mean_mean 1.3677746715166748\n",
      "abs(round((mean_mean-y_mean)/y_mean)) 0.0\n",
      "local Optima\n",
      "y_mean 1.4437913081300144\n",
      "mean_mean 1.3907298485169728\n",
      "abs(round((mean_mean-y_mean)/y_mean)) 0.0\n"
     ]
    },
    {
     "name": "stderr",
     "output_type": "stream",
     "text": [
      "\r",
      " 28%|██▊       | 102/358 [00:47<01:49,  2.34it/s]"
     ]
    },
    {
     "name": "stdout",
     "output_type": "stream",
     "text": [
      "local Optima\n",
      "y_mean 4.269947088278736\n",
      "mean_mean 4.2692476614685635\n",
      "abs(round((mean_mean-y_mean)/y_mean)) 0.0\n",
      "local Optima\n",
      "y_mean 4.269947088278736\n",
      "mean_mean 4.26907570492955\n",
      "abs(round((mean_mean-y_mean)/y_mean)) 0.0\n"
     ]
    },
    {
     "name": "stderr",
     "output_type": "stream",
     "text": [
      "\r",
      " 29%|██▉       | 103/358 [00:47<01:45,  2.42it/s]"
     ]
    },
    {
     "name": "stdout",
     "output_type": "stream",
     "text": [
      "local Optima\n",
      "y_mean 0.9872371164358609\n",
      "mean_mean 0.8308380073795572\n",
      "abs(round((mean_mean-y_mean)/y_mean)) 0.0\n",
      "local Optima\n",
      "y_mean 0.9872371164358609\n",
      "mean_mean 0.8982085605304627\n",
      "abs(round((mean_mean-y_mean)/y_mean)) 0.0\n"
     ]
    },
    {
     "name": "stderr",
     "output_type": "stream",
     "text": [
      "\r",
      " 29%|██▉       | 104/358 [00:48<01:43,  2.45it/s]"
     ]
    },
    {
     "name": "stdout",
     "output_type": "stream",
     "text": [
      "local Optima\n",
      "y_mean 4.5646592661413035\n",
      "mean_mean 4.561385453294279\n",
      "abs(round((mean_mean-y_mean)/y_mean)) 0.0\n",
      "local Optima\n",
      "y_mean 4.5646592661413035\n",
      "mean_mean 4.561385765679992\n",
      "abs(round((mean_mean-y_mean)/y_mean)) 0.0\n",
      "local Optima\n",
      "y_mean 1.277284324464282\n",
      "mean_mean 1.286878267989845\n",
      "abs(round((mean_mean-y_mean)/y_mean)) 0.0\n",
      "local Optima\n",
      "y_mean 1.277284324464282\n",
      "mean_mean 1.199618620710541\n",
      "abs(round((mean_mean-y_mean)/y_mean)) 0.0\n"
     ]
    },
    {
     "name": "stderr",
     "output_type": "stream",
     "text": [
      "\r",
      " 29%|██▉       | 105/358 [00:48<01:45,  2.41it/s]"
     ]
    },
    {
     "name": "stdout",
     "output_type": "stream",
     "text": [
      "local Optima\n",
      "y_mean 4.437646966394326\n",
      "mean_mean 4.462128461361581\n",
      "abs(round((mean_mean-y_mean)/y_mean)) 0.0\n"
     ]
    },
    {
     "name": "stderr",
     "output_type": "stream",
     "text": [
      "\r",
      " 30%|██▉       | 106/358 [00:49<01:53,  2.23it/s]"
     ]
    },
    {
     "name": "stdout",
     "output_type": "stream",
     "text": [
      "local Optima\n",
      "y_mean 4.437646966394326\n",
      "mean_mean 4.436140512043483\n",
      "abs(round((mean_mean-y_mean)/y_mean)) 0.0\n",
      "local Optima\n",
      "y_mean 1.6394489988937204\n",
      "mean_mean 1.7504043677871044\n",
      "abs(round((mean_mean-y_mean)/y_mean)) 0.0\n"
     ]
    },
    {
     "name": "stderr",
     "output_type": "stream",
     "text": [
      "\r",
      " 30%|██▉       | 107/358 [00:49<01:59,  2.11it/s]"
     ]
    },
    {
     "name": "stdout",
     "output_type": "stream",
     "text": [
      "local Optima\n",
      "y_mean 1.6394489988937204\n",
      "mean_mean 1.6042815024227013\n",
      "abs(round((mean_mean-y_mean)/y_mean)) 0.0\n",
      "local Optima\n",
      "y_mean 4.293618445663196\n",
      "mean_mean 4.292880485607967\n",
      "abs(round((mean_mean-y_mean)/y_mean)) 0.0\n"
     ]
    },
    {
     "name": "stderr",
     "output_type": "stream",
     "text": [
      "\r",
      " 30%|███       | 108/358 [00:50<02:05,  2.00it/s]"
     ]
    },
    {
     "name": "stdout",
     "output_type": "stream",
     "text": [
      "local Optima\n",
      "y_mean 4.293618445663196\n",
      "mean_mean 4.292553220610712\n",
      "abs(round((mean_mean-y_mean)/y_mean)) 0.0\n"
     ]
    },
    {
     "name": "stderr",
     "output_type": "stream",
     "text": [
      "\r",
      " 30%|███       | 109/358 [00:50<01:55,  2.15it/s]"
     ]
    },
    {
     "name": "stdout",
     "output_type": "stream",
     "text": [
      "local Optima\n",
      "y_mean 0.6155033823522426\n",
      "mean_mean 0.4467784005930136\n",
      "abs(round((mean_mean-y_mean)/y_mean)) 0.0\n",
      "local Optima\n",
      "y_mean 0.6155033823522426\n",
      "mean_mean 0.5374003799416132\n",
      "abs(round((mean_mean-y_mean)/y_mean)) 0.0\n"
     ]
    },
    {
     "name": "stderr",
     "output_type": "stream",
     "text": [
      "\r",
      " 31%|███       | 110/358 [00:51<01:52,  2.20it/s]"
     ]
    },
    {
     "name": "stdout",
     "output_type": "stream",
     "text": [
      "local Optima\n",
      "y_mean 4.049464538844283\n",
      "mean_mean 4.047202126213775\n",
      "abs(round((mean_mean-y_mean)/y_mean)) 0.0\n",
      "local Optima\n",
      "y_mean 4.049464538844283\n",
      "mean_mean 4.047077625033333\n",
      "abs(round((mean_mean-y_mean)/y_mean)) 0.0\n",
      "local Optima\n",
      "y_mean 0.9145399665178974\n",
      "mean_mean 0.7977545377736192\n",
      "abs(round((mean_mean-y_mean)/y_mean)) 0.0\n",
      "local Optima\n",
      "y_mean 0.9145399665178974\n",
      "mean_mean 0.8610157228897009\n",
      "abs(round((mean_mean-y_mean)/y_mean)) 0.0\n"
     ]
    },
    {
     "name": "stderr",
     "output_type": "stream",
     "text": [
      "\r",
      " 31%|███       | 111/358 [00:51<01:49,  2.25it/s]"
     ]
    },
    {
     "name": "stdout",
     "output_type": "stream",
     "text": [
      "local Optima\n",
      "y_mean 3.7707828514184976\n",
      "mean_mean 3.769175035555021\n",
      "abs(round((mean_mean-y_mean)/y_mean)) 0.0\n",
      "local Optima\n",
      "y_mean 3.7707828514184976\n",
      "mean_mean 3.769175201403341\n",
      "abs(round((mean_mean-y_mean)/y_mean)) 0.0\n"
     ]
    },
    {
     "name": "stderr",
     "output_type": "stream",
     "text": [
      "\r",
      " 31%|███▏      | 112/358 [00:52<01:57,  2.10it/s]"
     ]
    },
    {
     "name": "stdout",
     "output_type": "stream",
     "text": [
      "local Optima\n",
      "y_mean 1.9466875536935777\n",
      "mean_mean 2.014288509328407\n",
      "abs(round((mean_mean-y_mean)/y_mean)) 0.0\n"
     ]
    },
    {
     "name": "stderr",
     "output_type": "stream",
     "text": [
      "\r",
      " 32%|███▏      | 113/358 [00:52<01:55,  2.12it/s]"
     ]
    },
    {
     "name": "stdout",
     "output_type": "stream",
     "text": [
      "local Optima\n",
      "y_mean 1.9466875536935777\n",
      "mean_mean 1.8826099915106058\n",
      "abs(round((mean_mean-y_mean)/y_mean)) 0.0\n",
      "local Optima\n",
      "y_mean 4.287943389712635\n",
      "mean_mean 4.286731221175775\n",
      "abs(round((mean_mean-y_mean)/y_mean)) 0.0\n"
     ]
    },
    {
     "name": "stderr",
     "output_type": "stream",
     "text": [
      "\r",
      " 32%|███▏      | 114/358 [00:53<02:02,  2.00it/s]"
     ]
    },
    {
     "name": "stdout",
     "output_type": "stream",
     "text": [
      "local Optima\n",
      "y_mean 4.287943389712635\n",
      "mean_mean 4.286542603926723\n",
      "abs(round((mean_mean-y_mean)/y_mean)) 0.0\n"
     ]
    },
    {
     "name": "stderr",
     "output_type": "stream",
     "text": [
      "\r",
      " 32%|███▏      | 115/358 [00:53<01:58,  2.05it/s]"
     ]
    },
    {
     "name": "stdout",
     "output_type": "stream",
     "text": [
      "local Optima\n",
      "y_mean 0.7330483371217266\n",
      "mean_mean 0.7506689087848415\n",
      "abs(round((mean_mean-y_mean)/y_mean)) 0.0\n",
      "local Optima\n",
      "y_mean 0.7330483371217266\n",
      "mean_mean 0.6831368652272879\n",
      "abs(round((mean_mean-y_mean)/y_mean)) 0.0\n"
     ]
    },
    {
     "name": "stderr",
     "output_type": "stream",
     "text": [
      "\r",
      " 32%|███▏      | 116/358 [00:54<01:53,  2.14it/s]"
     ]
    },
    {
     "name": "stdout",
     "output_type": "stream",
     "text": [
      "local Optima\n",
      "y_mean 3.404621904155311\n",
      "mean_mean 3.4020222832363083\n",
      "abs(round((mean_mean-y_mean)/y_mean)) 0.0\n",
      "local Optima\n",
      "y_mean 3.404621904155311\n",
      "mean_mean 3.400610517807081\n",
      "abs(round((mean_mean-y_mean)/y_mean)) 0.0\n"
     ]
    },
    {
     "name": "stderr",
     "output_type": "stream",
     "text": [
      "\r",
      " 33%|███▎      | 117/358 [00:54<01:49,  2.20it/s]"
     ]
    },
    {
     "name": "stdout",
     "output_type": "stream",
     "text": [
      "local Optima\n",
      "y_mean 0.9582440353273847\n",
      "mean_mean 0.9212777775065244\n",
      "abs(round((mean_mean-y_mean)/y_mean)) 0.0\n",
      "local Optima\n",
      "y_mean 0.9582440353273847\n",
      "mean_mean 0.901938747445687\n",
      "abs(round((mean_mean-y_mean)/y_mean)) 0.0\n"
     ]
    },
    {
     "name": "stderr",
     "output_type": "stream",
     "text": [
      "\r",
      " 33%|███▎      | 118/358 [00:54<01:45,  2.26it/s]"
     ]
    },
    {
     "name": "stdout",
     "output_type": "stream",
     "text": [
      "local Optima\n",
      "y_mean 4.298420337419122\n",
      "mean_mean 4.295571606382185\n",
      "abs(round((mean_mean-y_mean)/y_mean)) 0.0\n",
      "local Optima\n",
      "y_mean 4.298420337419122\n",
      "mean_mean 4.295573426955577\n",
      "abs(round((mean_mean-y_mean)/y_mean)) 0.0\n"
     ]
    },
    {
     "name": "stderr",
     "output_type": "stream",
     "text": [
      "\r",
      " 33%|███▎      | 119/358 [00:55<01:42,  2.33it/s]"
     ]
    },
    {
     "name": "stdout",
     "output_type": "stream",
     "text": [
      "local Optima\n",
      "y_mean 2.226037245466507\n",
      "mean_mean 2.400422993962562\n",
      "abs(round((mean_mean-y_mean)/y_mean)) 0.0\n",
      "local Optima\n",
      "y_mean 2.226037245466507\n",
      "mean_mean 2.174405106448851\n",
      "abs(round((mean_mean-y_mean)/y_mean)) 0.0\n"
     ]
    },
    {
     "name": "stderr",
     "output_type": "stream",
     "text": [
      "\r",
      " 34%|███▎      | 120/358 [00:55<01:42,  2.33it/s]"
     ]
    },
    {
     "name": "stdout",
     "output_type": "stream",
     "text": [
      "local Optima\n",
      "y_mean 4.562553758310228\n",
      "mean_mean 4.560817593239046\n",
      "abs(round((mean_mean-y_mean)/y_mean)) 0.0\n",
      "local Optima\n",
      "y_mean 4.562553758310228\n",
      "mean_mean 4.560817548024109\n",
      "abs(round((mean_mean-y_mean)/y_mean)) 0.0\n"
     ]
    },
    {
     "name": "stderr",
     "output_type": "stream",
     "text": [
      "\r",
      " 34%|███▍      | 121/358 [00:56<01:43,  2.29it/s]"
     ]
    },
    {
     "name": "stdout",
     "output_type": "stream",
     "text": [
      "local Optima\n",
      "y_mean 1.2737150011803704\n",
      "mean_mean 1.1332178172175924\n",
      "abs(round((mean_mean-y_mean)/y_mean)) 0.0\n",
      "local Optima\n",
      "y_mean 1.2737150011803704\n",
      "mean_mean 1.1982995493907753\n",
      "abs(round((mean_mean-y_mean)/y_mean)) 0.0\n"
     ]
    },
    {
     "name": "stderr",
     "output_type": "stream",
     "text": [
      "\r",
      " 34%|███▍      | 122/358 [00:56<01:44,  2.26it/s]"
     ]
    },
    {
     "name": "stdout",
     "output_type": "stream",
     "text": [
      "local Optima\n",
      "y_mean 4.476671884456923\n",
      "mean_mean 4.473667846078727\n",
      "abs(round((mean_mean-y_mean)/y_mean)) 0.0\n",
      "local Optima\n",
      "y_mean 4.476671884456923\n",
      "mean_mean 4.472126172699093\n",
      "abs(round((mean_mean-y_mean)/y_mean)) 0.0\n"
     ]
    },
    {
     "name": "stderr",
     "output_type": "stream",
     "text": [
      "\r",
      " 34%|███▍      | 123/358 [00:57<01:39,  2.35it/s]"
     ]
    },
    {
     "name": "stdout",
     "output_type": "stream",
     "text": [
      "local Optima\n",
      "y_mean 1.463633517920089\n",
      "mean_mean 1.3729439406016675\n",
      "abs(round((mean_mean-y_mean)/y_mean)) 0.0\n",
      "local Optima\n",
      "y_mean 1.463633517920089\n",
      "mean_mean 1.4204288169728139\n",
      "abs(round((mean_mean-y_mean)/y_mean)) 0.0\n"
     ]
    },
    {
     "name": "stderr",
     "output_type": "stream",
     "text": [
      "\r",
      " 35%|███▍      | 124/358 [00:57<01:37,  2.39it/s]"
     ]
    },
    {
     "name": "stdout",
     "output_type": "stream",
     "text": [
      "local Optima\n",
      "y_mean 4.349585024827195\n",
      "mean_mean 4.348636537340558\n",
      "abs(round((mean_mean-y_mean)/y_mean)) 0.0\n",
      "local Optima\n",
      "y_mean 4.349585024827195\n",
      "mean_mean 4.347510675283488\n",
      "abs(round((mean_mean-y_mean)/y_mean)) 0.0\n"
     ]
    },
    {
     "name": "stderr",
     "output_type": "stream",
     "text": [
      "\r",
      " 35%|███▍      | 125/358 [00:57<01:37,  2.40it/s]"
     ]
    },
    {
     "name": "stdout",
     "output_type": "stream",
     "text": [
      "local Optima\n",
      "y_mean 2.541645320517927\n",
      "mean_mean 2.260898650416023\n",
      "abs(round((mean_mean-y_mean)/y_mean)) 0.0\n",
      "local Optima\n",
      "y_mean 2.541645320517927\n",
      "mean_mean 2.49282535962232\n",
      "abs(round((mean_mean-y_mean)/y_mean)) 0.0\n"
     ]
    },
    {
     "name": "stderr",
     "output_type": "stream",
     "text": [
      "\r",
      " 35%|███▌      | 126/358 [00:58<01:37,  2.38it/s]"
     ]
    },
    {
     "name": "stdout",
     "output_type": "stream",
     "text": [
      "local Optima\n",
      "y_mean 4.724010647800669\n",
      "mean_mean 4.723168809105226\n",
      "abs(round((mean_mean-y_mean)/y_mean)) 0.0\n",
      "local Optima\n",
      "y_mean 4.724010647800669\n",
      "mean_mean 4.723168831396116\n",
      "abs(round((mean_mean-y_mean)/y_mean)) 0.0\n"
     ]
    },
    {
     "name": "stderr",
     "output_type": "stream",
     "text": [
      "\r",
      " 35%|███▌      | 127/358 [00:58<01:37,  2.38it/s]"
     ]
    },
    {
     "name": "stdout",
     "output_type": "stream",
     "text": [
      "local Optima\n",
      "y_mean 1.3612726218903564\n",
      "mean_mean 1.1671491735508186\n",
      "abs(round((mean_mean-y_mean)/y_mean)) 0.0\n",
      "local Optima\n",
      "y_mean 1.3612726218903564\n",
      "mean_mean 1.2829302801389668\n",
      "abs(round((mean_mean-y_mean)/y_mean)) 0.0\n"
     ]
    },
    {
     "name": "stderr",
     "output_type": "stream",
     "text": [
      "\r",
      " 36%|███▌      | 128/358 [00:59<01:36,  2.38it/s]"
     ]
    },
    {
     "name": "stdout",
     "output_type": "stream",
     "text": [
      "local Optima\n",
      "y_mean 4.735560384048924\n",
      "mean_mean 4.71594233716103\n",
      "abs(round((mean_mean-y_mean)/y_mean)) 0.0\n",
      "local Optima\n",
      "y_mean 4.735560384048924\n",
      "mean_mean 4.731076282184475\n",
      "abs(round((mean_mean-y_mean)/y_mean)) 0.0\n"
     ]
    },
    {
     "name": "stderr",
     "output_type": "stream",
     "text": [
      "\r",
      " 36%|███▌      | 129/358 [00:59<01:35,  2.40it/s]"
     ]
    },
    {
     "name": "stdout",
     "output_type": "stream",
     "text": [
      "local Optima\n",
      "y_mean 1.3178719594385355\n",
      "mean_mean 1.1930853243801125\n",
      "abs(round((mean_mean-y_mean)/y_mean)) 0.0\n",
      "local Optima\n",
      "y_mean 1.3178719594385355\n",
      "mean_mean 1.2540523618352655\n",
      "abs(round((mean_mean-y_mean)/y_mean)) 0.0\n"
     ]
    },
    {
     "name": "stderr",
     "output_type": "stream",
     "text": [
      "\r",
      " 36%|███▋      | 130/358 [00:59<01:37,  2.34it/s]"
     ]
    },
    {
     "name": "stdout",
     "output_type": "stream",
     "text": [
      "local Optima\n",
      "y_mean 4.4171025461940685\n",
      "mean_mean 4.414807659626361\n",
      "abs(round((mean_mean-y_mean)/y_mean)) 0.0\n",
      "local Optima\n",
      "y_mean 4.4171025461940685\n",
      "mean_mean 4.414807667637055\n",
      "abs(round((mean_mean-y_mean)/y_mean)) 0.0\n"
     ]
    },
    {
     "name": "stderr",
     "output_type": "stream",
     "text": [
      "\r",
      " 37%|███▋      | 131/358 [01:00<01:37,  2.34it/s]"
     ]
    },
    {
     "name": "stdout",
     "output_type": "stream",
     "text": [
      "local Optima\n",
      "y_mean 2.0021055386619\n",
      "mean_mean 2.0226978737454657\n",
      "abs(round((mean_mean-y_mean)/y_mean)) 0.0\n",
      "local Optima\n",
      "y_mean 2.0021055386619\n",
      "mean_mean 1.9728045466633501\n",
      "abs(round((mean_mean-y_mean)/y_mean)) 0.0\n",
      "local Optima\n",
      "y_mean 4.479713282558658\n",
      "mean_mean 4.478362044032842\n",
      "abs(round((mean_mean-y_mean)/y_mean)) 0.0\n",
      "local Optima\n",
      "y_mean 4.479713282558658\n",
      "mean_mean 4.478362038092351\n",
      "abs(round((mean_mean-y_mean)/y_mean)) 0.0\n"
     ]
    },
    {
     "name": "stderr",
     "output_type": "stream",
     "text": [
      " 37%|███▋      | 133/358 [01:01<01:41,  2.23it/s]"
     ]
    },
    {
     "name": "stdout",
     "output_type": "stream",
     "text": [
      "local Optima\n",
      "y_mean 1.2696998186296307\n",
      "mean_mean 1.18656054484441\n",
      "abs(round((mean_mean-y_mean)/y_mean)) 0.0\n",
      "local Optima\n",
      "y_mean 1.2696998186296307\n",
      "mean_mean 1.1519216008088933\n",
      "abs(round((mean_mean-y_mean)/y_mean)) 0.0\n",
      "local Optima\n",
      "y_mean 4.679546748463765\n",
      "mean_mean 4.677160218700049\n",
      "abs(round((mean_mean-y_mean)/y_mean)) 0.0\n",
      "local Optima\n",
      "y_mean 4.679546748463765\n",
      "mean_mean 4.675506397597656\n",
      "abs(round((mean_mean-y_mean)/y_mean)) 0.0\n"
     ]
    },
    {
     "name": "stderr",
     "output_type": "stream",
     "text": [
      "\r",
      " 37%|███▋      | 134/358 [01:01<01:41,  2.21it/s]"
     ]
    },
    {
     "name": "stdout",
     "output_type": "stream",
     "text": [
      "local Optima\n",
      "y_mean 1.5546980140040456\n",
      "mean_mean 1.5164620359963132\n",
      "abs(round((mean_mean-y_mean)/y_mean)) 0.0\n",
      "local Optima\n",
      "y_mean 1.5546980140040456\n",
      "mean_mean 1.4946492845173471\n",
      "abs(round((mean_mean-y_mean)/y_mean)) 0.0\n"
     ]
    },
    {
     "name": "stderr",
     "output_type": "stream",
     "text": [
      " 38%|███▊      | 136/358 [01:02<01:38,  2.25it/s]"
     ]
    },
    {
     "name": "stdout",
     "output_type": "stream",
     "text": [
      "local Optima\n",
      "y_mean 4.3080379596295675\n",
      "mean_mean 4.306364577031592\n",
      "abs(round((mean_mean-y_mean)/y_mean)) 0.0\n",
      "local Optima\n",
      "y_mean 4.3080379596295675\n",
      "mean_mean 4.305869421992708\n",
      "abs(round((mean_mean-y_mean)/y_mean)) 0.0\n"
     ]
    },
    {
     "name": "stderr",
     "output_type": "stream",
     "text": [
      "\r",
      " 38%|███▊      | 137/358 [01:03<01:36,  2.28it/s]"
     ]
    },
    {
     "name": "stdout",
     "output_type": "stream",
     "text": [
      "local Optima\n",
      "y_mean 2.050298080260235\n",
      "mean_mean 1.92056963689877\n",
      "abs(round((mean_mean-y_mean)/y_mean)) 0.0\n",
      "local Optima\n",
      "y_mean 2.050298080260235\n",
      "mean_mean 2.018662817337162\n",
      "abs(round((mean_mean-y_mean)/y_mean)) 0.0\n"
     ]
    },
    {
     "name": "stderr",
     "output_type": "stream",
     "text": [
      "\r",
      " 39%|███▊      | 138/358 [01:03<01:36,  2.28it/s]"
     ]
    },
    {
     "name": "stdout",
     "output_type": "stream",
     "text": [
      "local Optima\n",
      "y_mean 4.538208843824777\n",
      "mean_mean 4.536973678751363\n",
      "abs(round((mean_mean-y_mean)/y_mean)) 0.0\n",
      "local Optima\n",
      "y_mean 4.538208843824777\n",
      "mean_mean 4.536973843784741\n",
      "abs(round((mean_mean-y_mean)/y_mean)) 0.0\n"
     ]
    },
    {
     "name": "stderr",
     "output_type": "stream",
     "text": [
      "\r",
      " 39%|███▉      | 139/358 [01:03<01:33,  2.33it/s]"
     ]
    },
    {
     "name": "stdout",
     "output_type": "stream",
     "text": [
      "local Optima\n",
      "y_mean 1.4580544179366735\n",
      "mean_mean 1.0878474861086038\n",
      "abs(round((mean_mean-y_mean)/y_mean)) 0.0\n",
      "local Optima\n",
      "y_mean 1.4580544179366735\n",
      "mean_mean 1.359698419464556\n",
      "abs(round((mean_mean-y_mean)/y_mean)) 0.0\n"
     ]
    },
    {
     "name": "stderr",
     "output_type": "stream",
     "text": [
      "\r",
      " 39%|███▉      | 140/358 [01:04<01:33,  2.33it/s]"
     ]
    },
    {
     "name": "stdout",
     "output_type": "stream",
     "text": [
      "local Optima\n",
      "y_mean 5.094832331647048\n",
      "mean_mean 4.9846918439044545\n",
      "abs(round((mean_mean-y_mean)/y_mean)) 0.0\n",
      "local Optima\n",
      "y_mean 5.094832331647048\n",
      "mean_mean 5.08853067480737\n",
      "abs(round((mean_mean-y_mean)/y_mean)) 0.0\n"
     ]
    },
    {
     "name": "stderr",
     "output_type": "stream",
     "text": [
      "\r",
      " 39%|███▉      | 141/358 [01:04<01:31,  2.37it/s]"
     ]
    },
    {
     "name": "stdout",
     "output_type": "stream",
     "text": [
      "local Optima\n",
      "y_mean 1.582976283358387\n",
      "mean_mean 1.3604242387002412\n",
      "abs(round((mean_mean-y_mean)/y_mean)) 0.0\n",
      "local Optima\n",
      "y_mean 1.582976283358387\n",
      "mean_mean 1.5066224648541577\n",
      "abs(round((mean_mean-y_mean)/y_mean)) 0.0\n",
      "Fit Cholesky decomposition was not successful.\n"
     ]
    },
    {
     "name": "stderr",
     "output_type": "stream",
     "text": [
      "\r",
      " 40%|███▉      | 142/358 [01:05<01:47,  2.02it/s]"
     ]
    },
    {
     "name": "stdout",
     "output_type": "stream",
     "text": [
      "local Optima\n",
      "y_mean 5.2403829569072515\n",
      "mean_mean 5.237269066841711\n",
      "abs(round((mean_mean-y_mean)/y_mean)) 0.0\n",
      "local Optima\n",
      "y_mean 5.2403829569072515\n",
      "mean_mean 5.237269066841711\n",
      "abs(round((mean_mean-y_mean)/y_mean)) 0.0\n",
      "local Optima\n",
      "y_mean 5.2403829569072515\n",
      "mean_mean 5.237267605126168\n",
      "abs(round((mean_mean-y_mean)/y_mean)) 0.0\n",
      "local Optima\n",
      "y_mean 1.4124656897951136\n",
      "mean_mean 1.1875704790006507\n",
      "abs(round((mean_mean-y_mean)/y_mean)) 0.0\n",
      "local Optima\n",
      "y_mean 1.4124656897951136\n",
      "mean_mean 1.3424555925366621\n",
      "abs(round((mean_mean-y_mean)/y_mean)) 0.0\n"
     ]
    },
    {
     "name": "stderr",
     "output_type": "stream",
     "text": [
      " 40%|████      | 144/358 [01:06<01:40,  2.13it/s]"
     ]
    },
    {
     "name": "stdout",
     "output_type": "stream",
     "text": [
      "local Optima\n",
      "y_mean 4.893389073698197\n",
      "mean_mean 4.890306770897735\n",
      "abs(round((mean_mean-y_mean)/y_mean)) 0.0\n",
      "local Optima\n",
      "y_mean 4.893389073698197\n",
      "mean_mean 4.890307642379498\n",
      "abs(round((mean_mean-y_mean)/y_mean)) 0.0\n"
     ]
    },
    {
     "name": "stderr",
     "output_type": "stream",
     "text": [
      "\r",
      " 41%|████      | 145/358 [01:06<01:36,  2.21it/s]"
     ]
    },
    {
     "name": "stdout",
     "output_type": "stream",
     "text": [
      "local Optima\n",
      "y_mean 0.8834955705162936\n",
      "mean_mean 1.0481331728150567\n",
      "abs(round((mean_mean-y_mean)/y_mean)) 0.0\n",
      "local Optima\n",
      "y_mean 0.8834955705162936\n",
      "mean_mean 0.7996268179535074\n",
      "abs(round((mean_mean-y_mean)/y_mean)) 0.0\n"
     ]
    },
    {
     "name": "stderr",
     "output_type": "stream",
     "text": [
      "\r",
      " 41%|████      | 146/358 [01:07<01:33,  2.27it/s]"
     ]
    },
    {
     "name": "stdout",
     "output_type": "stream",
     "text": [
      "local Optima\n",
      "y_mean 4.184233133944294\n",
      "mean_mean 4.197843722388705\n",
      "abs(round((mean_mean-y_mean)/y_mean)) 0.0\n",
      "local Optima\n",
      "y_mean 4.184233133944294\n",
      "mean_mean 4.180080473900178\n",
      "abs(round((mean_mean-y_mean)/y_mean)) 0.0\n"
     ]
    },
    {
     "name": "stderr",
     "output_type": "stream",
     "text": [
      "\r",
      " 41%|████      | 147/358 [01:07<01:31,  2.30it/s]"
     ]
    },
    {
     "name": "stdout",
     "output_type": "stream",
     "text": [
      "local Optima\n",
      "y_mean 0.8284467044682255\n",
      "mean_mean 0.9018471333248768\n",
      "abs(round((mean_mean-y_mean)/y_mean)) 0.0\n",
      "local Optima\n",
      "y_mean 0.8284467044682255\n",
      "mean_mean 0.7633055705583134\n",
      "abs(round((mean_mean-y_mean)/y_mean)) 0.0\n"
     ]
    },
    {
     "name": "stderr",
     "output_type": "stream",
     "text": [
      "\r",
      " 41%|████▏     | 148/358 [01:08<01:32,  2.28it/s]"
     ]
    },
    {
     "name": "stdout",
     "output_type": "stream",
     "text": [
      "local Optima\n",
      "y_mean 3.96801172240456\n",
      "mean_mean 3.965782665292299\n",
      "abs(round((mean_mean-y_mean)/y_mean)) 0.0\n",
      "local Optima\n",
      "y_mean 3.96801172240456\n",
      "mean_mean 3.96578341603056\n",
      "abs(round((mean_mean-y_mean)/y_mean)) 0.0\n",
      "local Optima\n",
      "y_mean 1.8726392387896627\n",
      "mean_mean 1.638274697921867\n",
      "abs(round((mean_mean-y_mean)/y_mean)) 0.0\n",
      "local Optima\n",
      "y_mean 1.8726392387896627\n",
      "mean_mean 1.7752606851216128\n",
      "abs(round((mean_mean-y_mean)/y_mean)) 0.0\n"
     ]
    },
    {
     "name": "stderr",
     "output_type": "stream",
     "text": [
      " 42%|████▏     | 150/358 [01:08<01:29,  2.31it/s]"
     ]
    },
    {
     "name": "stdout",
     "output_type": "stream",
     "text": [
      "local Optima\n",
      "y_mean 4.595917862518434\n",
      "mean_mean 4.5940121489449135\n",
      "abs(round((mean_mean-y_mean)/y_mean)) 0.0\n",
      "local Optima\n",
      "y_mean 4.595917862518434\n",
      "mean_mean 4.5940121816291475\n",
      "abs(round((mean_mean-y_mean)/y_mean)) 0.0\n"
     ]
    },
    {
     "name": "stderr",
     "output_type": "stream",
     "text": [
      "\r",
      " 42%|████▏     | 151/358 [01:09<01:28,  2.35it/s]"
     ]
    },
    {
     "name": "stdout",
     "output_type": "stream",
     "text": [
      "local Optima\n",
      "y_mean 1.1246910419600802\n",
      "mean_mean 1.2079121513484445\n",
      "abs(round((mean_mean-y_mean)/y_mean)) 0.0\n",
      "local Optima\n",
      "y_mean 1.1246910419600802\n",
      "mean_mean 1.0161807457004206\n",
      "abs(round((mean_mean-y_mean)/y_mean)) 0.0\n",
      "local Optima\n",
      "y_mean 4.321303569753626\n",
      "mean_mean 4.319299589238622\n",
      "abs(round((mean_mean-y_mean)/y_mean)) 0.0\n",
      "local Optima\n",
      "y_mean 4.321303569753626\n",
      "mean_mean 4.319299592977559\n",
      "abs(round((mean_mean-y_mean)/y_mean)) 0.0\n"
     ]
    },
    {
     "name": "stderr",
     "output_type": "stream",
     "text": [
      " 43%|████▎     | 153/358 [01:10<01:27,  2.34it/s]"
     ]
    },
    {
     "name": "stdout",
     "output_type": "stream",
     "text": [
      "local Optima\n",
      "y_mean 1.4233720571141648\n",
      "mean_mean 1.5938119832960425\n",
      "abs(round((mean_mean-y_mean)/y_mean)) 0.0\n",
      "local Optima\n",
      "y_mean 1.4233720571141648\n",
      "mean_mean 1.3606255586210025\n",
      "abs(round((mean_mean-y_mean)/y_mean)) 0.0\n"
     ]
    },
    {
     "name": "stderr",
     "output_type": "stream",
     "text": [
      "\r",
      " 43%|████▎     | 154/358 [01:10<01:27,  2.34it/s]"
     ]
    },
    {
     "name": "stdout",
     "output_type": "stream",
     "text": [
      "local Optima\n",
      "y_mean 3.9676691745279493\n",
      "mean_mean 3.966491727788713\n",
      "abs(round((mean_mean-y_mean)/y_mean)) 0.0\n",
      "local Optima\n",
      "y_mean 3.9676691745279493\n",
      "mean_mean 3.9664499023128514\n",
      "abs(round((mean_mean-y_mean)/y_mean)) 0.0\n"
     ]
    },
    {
     "name": "stderr",
     "output_type": "stream",
     "text": [
      "\r",
      " 43%|████▎     | 155/358 [01:11<01:26,  2.35it/s]"
     ]
    },
    {
     "name": "stdout",
     "output_type": "stream",
     "text": [
      "local Optima\n",
      "y_mean 3.2654503346198824\n",
      "mean_mean 3.102638888758812\n",
      "abs(round((mean_mean-y_mean)/y_mean)) 0.0\n",
      "local Optima\n",
      "y_mean 3.2654503346198824\n",
      "mean_mean 3.2494970358407484\n",
      "abs(round((mean_mean-y_mean)/y_mean)) 0.0\n"
     ]
    },
    {
     "name": "stderr",
     "output_type": "stream",
     "text": [
      "\r",
      " 44%|████▎     | 156/358 [01:11<01:25,  2.37it/s]"
     ]
    },
    {
     "name": "stdout",
     "output_type": "stream",
     "text": [
      "local Optima\n",
      "y_mean 4.368700910567843\n",
      "mean_mean 4.367747695146354\n",
      "abs(round((mean_mean-y_mean)/y_mean)) 0.0\n",
      "local Optima\n",
      "y_mean 4.368700910567843\n",
      "mean_mean 4.3676228158096855\n",
      "abs(round((mean_mean-y_mean)/y_mean)) 0.0\n"
     ]
    },
    {
     "name": "stderr",
     "output_type": "stream",
     "text": [
      "\r",
      " 44%|████▍     | 157/358 [01:11<01:22,  2.44it/s]"
     ]
    },
    {
     "name": "stdout",
     "output_type": "stream",
     "text": [
      "local Optima\n",
      "y_mean 1.3450279402043277\n",
      "mean_mean 1.511966268252735\n",
      "abs(round((mean_mean-y_mean)/y_mean)) 0.0\n",
      "local Optima\n",
      "y_mean 1.3450279402043277\n",
      "mean_mean 1.2384172588626607\n",
      "abs(round((mean_mean-y_mean)/y_mean)) 0.0\n",
      "local Optima\n",
      "y_mean 4.291492957738642\n",
      "mean_mean 4.286911152605515\n",
      "abs(round((mean_mean-y_mean)/y_mean)) 0.0\n"
     ]
    },
    {
     "name": "stderr",
     "output_type": "stream",
     "text": [
      "\r",
      " 44%|████▍     | 158/358 [01:12<01:28,  2.26it/s]"
     ]
    },
    {
     "name": "stdout",
     "output_type": "stream",
     "text": [
      "local Optima\n",
      "y_mean 4.291492957738642\n",
      "mean_mean 4.286911191309236\n",
      "abs(round((mean_mean-y_mean)/y_mean)) 0.0\n"
     ]
    },
    {
     "name": "stderr",
     "output_type": "stream",
     "text": [
      "\r",
      " 44%|████▍     | 159/358 [01:12<01:26,  2.29it/s]"
     ]
    },
    {
     "name": "stdout",
     "output_type": "stream",
     "text": [
      "local Optima\n",
      "y_mean 1.9972985953529099\n",
      "mean_mean 2.043880477218142\n",
      "abs(round((mean_mean-y_mean)/y_mean)) 0.0\n",
      "local Optima\n",
      "y_mean 1.9972985953529099\n",
      "mean_mean 1.9409278466913145\n",
      "abs(round((mean_mean-y_mean)/y_mean)) 0.0\n"
     ]
    },
    {
     "name": "stderr",
     "output_type": "stream",
     "text": [
      "\r",
      " 45%|████▍     | 160/358 [01:13<01:24,  2.35it/s]"
     ]
    },
    {
     "name": "stdout",
     "output_type": "stream",
     "text": [
      "local Optima\n",
      "y_mean 4.906659255134844\n",
      "mean_mean 4.904234670314847\n",
      "abs(round((mean_mean-y_mean)/y_mean)) 0.0\n",
      "local Optima\n",
      "y_mean 4.906659255134844\n",
      "mean_mean 4.904234733927277\n",
      "abs(round((mean_mean-y_mean)/y_mean)) 0.0\n"
     ]
    },
    {
     "name": "stderr",
     "output_type": "stream",
     "text": [
      "\r",
      " 45%|████▍     | 161/358 [01:13<01:22,  2.38it/s]"
     ]
    },
    {
     "name": "stdout",
     "output_type": "stream",
     "text": [
      "local Optima\n",
      "y_mean 2.7706034916269022\n",
      "mean_mean 2.893719077422576\n",
      "abs(round((mean_mean-y_mean)/y_mean)) 0.0\n",
      "local Optima\n",
      "y_mean 2.7706034916269022\n",
      "mean_mean 2.699170801990155\n",
      "abs(round((mean_mean-y_mean)/y_mean)) 0.0\n"
     ]
    },
    {
     "name": "stderr",
     "output_type": "stream",
     "text": [
      "\r",
      " 45%|████▌     | 162/358 [01:13<01:21,  2.42it/s]"
     ]
    },
    {
     "name": "stdout",
     "output_type": "stream",
     "text": [
      "local Optima\n",
      "y_mean 5.2602313239548195\n",
      "mean_mean 5.259314515523845\n",
      "abs(round((mean_mean-y_mean)/y_mean)) 0.0\n",
      "local Optima\n",
      "y_mean 5.2602313239548195\n",
      "mean_mean 5.259314592590011\n",
      "abs(round((mean_mean-y_mean)/y_mean)) 0.0\n"
     ]
    },
    {
     "name": "stderr",
     "output_type": "stream",
     "text": [
      "\r",
      " 46%|████▌     | 163/358 [01:14<01:20,  2.43it/s]"
     ]
    },
    {
     "name": "stdout",
     "output_type": "stream",
     "text": [
      "local Optima\n",
      "y_mean 0.9931535095404461\n",
      "mean_mean 1.1238678809534526\n",
      "abs(round((mean_mean-y_mean)/y_mean)) 0.0\n",
      "local Optima\n",
      "y_mean 0.9931535095404461\n",
      "mean_mean 0.8900102766812411\n",
      "abs(round((mean_mean-y_mean)/y_mean)) 0.0\n"
     ]
    },
    {
     "name": "stderr",
     "output_type": "stream",
     "text": [
      "\r",
      " 46%|████▌     | 164/358 [01:14<01:18,  2.46it/s]"
     ]
    },
    {
     "name": "stdout",
     "output_type": "stream",
     "text": [
      "local Optima\n",
      "y_mean 4.044148086681351\n",
      "mean_mean 4.040037839764398\n",
      "abs(round((mean_mean-y_mean)/y_mean)) 0.0\n",
      "local Optima\n",
      "y_mean 4.044148086681351\n",
      "mean_mean 4.039448951479364\n",
      "abs(round((mean_mean-y_mean)/y_mean)) 0.0\n"
     ]
    },
    {
     "name": "stderr",
     "output_type": "stream",
     "text": [
      "\r",
      " 46%|████▌     | 165/358 [01:15<01:17,  2.48it/s]"
     ]
    },
    {
     "name": "stdout",
     "output_type": "stream",
     "text": [
      "local Optima\n",
      "y_mean 1.047960244389416\n",
      "mean_mean 1.1350537550995012\n",
      "abs(round((mean_mean-y_mean)/y_mean)) 0.0\n",
      "local Optima\n",
      "y_mean 1.047960244389416\n",
      "mean_mean 0.9874583037218639\n",
      "abs(round((mean_mean-y_mean)/y_mean)) 0.0\n"
     ]
    },
    {
     "name": "stderr",
     "output_type": "stream",
     "text": [
      "\r",
      " 46%|████▋     | 166/358 [01:15<01:17,  2.48it/s]"
     ]
    },
    {
     "name": "stdout",
     "output_type": "stream",
     "text": [
      "local Optima\n",
      "y_mean 3.702927878757261\n",
      "mean_mean 3.701442228155281\n",
      "abs(round((mean_mean-y_mean)/y_mean)) 0.0\n",
      "local Optima\n",
      "y_mean 3.702927878757261\n",
      "mean_mean 3.699831940310473\n",
      "abs(round((mean_mean-y_mean)/y_mean)) 0.0\n"
     ]
    },
    {
     "name": "stderr",
     "output_type": "stream",
     "text": [
      "\r",
      " 47%|████▋     | 167/358 [01:15<01:17,  2.46it/s]"
     ]
    },
    {
     "name": "stdout",
     "output_type": "stream",
     "text": [
      "local Optima\n",
      "y_mean 2.4973116083554867\n",
      "mean_mean 2.7144339488140554\n",
      "abs(round((mean_mean-y_mean)/y_mean)) 0.0\n",
      "local Optima\n",
      "y_mean 2.4973116083554867\n",
      "mean_mean 2.4197672426605346\n",
      "abs(round((mean_mean-y_mean)/y_mean)) 0.0\n"
     ]
    },
    {
     "name": "stderr",
     "output_type": "stream",
     "text": [
      "\r",
      " 47%|████▋     | 168/358 [01:16<01:17,  2.44it/s]"
     ]
    },
    {
     "name": "stdout",
     "output_type": "stream",
     "text": [
      "local Optima\n",
      "y_mean 4.520858944685888\n",
      "mean_mean 4.517682768463188\n",
      "abs(round((mean_mean-y_mean)/y_mean)) 0.0\n",
      "local Optima\n",
      "y_mean 4.520858944685888\n",
      "mean_mean 4.517682237778293\n",
      "abs(round((mean_mean-y_mean)/y_mean)) 0.0\n"
     ]
    },
    {
     "name": "stderr",
     "output_type": "stream",
     "text": [
      "\r",
      " 47%|████▋     | 169/358 [01:16<01:16,  2.47it/s]"
     ]
    },
    {
     "name": "stdout",
     "output_type": "stream",
     "text": [
      "local Optima\n",
      "y_mean 1.2748445805488748\n",
      "mean_mean 1.0940608302462123\n",
      "abs(round((mean_mean-y_mean)/y_mean)) 0.0\n",
      "local Optima\n",
      "y_mean 1.2748445805488748\n",
      "mean_mean 1.1952837223613904\n",
      "abs(round((mean_mean-y_mean)/y_mean)) 0.0\n"
     ]
    },
    {
     "name": "stderr",
     "output_type": "stream",
     "text": [
      "\r",
      " 47%|████▋     | 170/358 [01:17<01:14,  2.51it/s]"
     ]
    },
    {
     "name": "stdout",
     "output_type": "stream",
     "text": [
      "local Optima\n",
      "y_mean 4.724561229574025\n",
      "mean_mean 4.720003948452533\n",
      "abs(round((mean_mean-y_mean)/y_mean)) 0.0\n",
      "local Optima\n",
      "y_mean 4.724561229574025\n",
      "mean_mean 4.719051717793269\n",
      "abs(round((mean_mean-y_mean)/y_mean)) 0.0\n"
     ]
    },
    {
     "name": "stderr",
     "output_type": "stream",
     "text": [
      "\r",
      " 48%|████▊     | 171/358 [01:17<01:14,  2.51it/s]"
     ]
    },
    {
     "name": "stdout",
     "output_type": "stream",
     "text": [
      "local Optima\n",
      "y_mean 1.6419581930777474\n",
      "mean_mean 1.6066156023522928\n",
      "abs(round((mean_mean-y_mean)/y_mean)) 0.0\n",
      "local Optima\n",
      "y_mean 1.6419581930777474\n",
      "mean_mean 1.6005607970367768\n",
      "abs(round((mean_mean-y_mean)/y_mean)) 0.0\n"
     ]
    },
    {
     "name": "stderr",
     "output_type": "stream",
     "text": [
      "\r",
      " 48%|████▊     | 172/358 [01:17<01:15,  2.48it/s]"
     ]
    },
    {
     "name": "stdout",
     "output_type": "stream",
     "text": [
      "local Optima\n",
      "y_mean 4.504891937201151\n",
      "mean_mean 4.502676719585391\n",
      "abs(round((mean_mean-y_mean)/y_mean)) 0.0\n",
      "local Optima\n",
      "y_mean 4.504891937201151\n",
      "mean_mean 4.502676936742127\n",
      "abs(round((mean_mean-y_mean)/y_mean)) 0.0\n"
     ]
    },
    {
     "name": "stderr",
     "output_type": "stream",
     "text": [
      "\r",
      " 48%|████▊     | 173/358 [01:18<01:14,  2.49it/s]"
     ]
    },
    {
     "name": "stdout",
     "output_type": "stream",
     "text": [
      "local Optima\n",
      "y_mean 2.015089147048453\n",
      "mean_mean 2.1187671231991705\n",
      "abs(round((mean_mean-y_mean)/y_mean)) 0.0\n",
      "local Optima\n",
      "y_mean 2.015089147048453\n",
      "mean_mean 1.9334468039848114\n",
      "abs(round((mean_mean-y_mean)/y_mean)) 0.0\n"
     ]
    },
    {
     "name": "stderr",
     "output_type": "stream",
     "text": [
      "\r",
      " 49%|████▊     | 174/358 [01:18<01:14,  2.46it/s]"
     ]
    },
    {
     "name": "stdout",
     "output_type": "stream",
     "text": [
      "local Optima\n",
      "y_mean 4.784317453312657\n",
      "mean_mean 4.783071707334867\n",
      "abs(round((mean_mean-y_mean)/y_mean)) 0.0\n",
      "local Optima\n",
      "y_mean 4.784317453312657\n",
      "mean_mean 4.781542707429451\n",
      "abs(round((mean_mean-y_mean)/y_mean)) 0.0\n"
     ]
    },
    {
     "name": "stderr",
     "output_type": "stream",
     "text": [
      "\r",
      " 49%|████▉     | 175/358 [01:19<01:14,  2.44it/s]"
     ]
    },
    {
     "name": "stdout",
     "output_type": "stream",
     "text": [
      "local Optima\n",
      "y_mean 0.8610252589732337\n",
      "mean_mean 0.9623310399181344\n",
      "abs(round((mean_mean-y_mean)/y_mean)) 0.0\n",
      "local Optima\n",
      "y_mean 0.8610252589732337\n",
      "mean_mean 0.7585624965376452\n",
      "abs(round((mean_mean-y_mean)/y_mean)) 0.0\n"
     ]
    },
    {
     "name": "stderr",
     "output_type": "stream",
     "text": [
      "\r",
      " 49%|████▉     | 176/358 [01:19<01:15,  2.43it/s]"
     ]
    },
    {
     "name": "stdout",
     "output_type": "stream",
     "text": [
      "local Optima\n",
      "y_mean 3.602482190133029\n",
      "mean_mean 3.593608816913488\n",
      "abs(round((mean_mean-y_mean)/y_mean)) 0.0\n",
      "local Optima\n",
      "y_mean 3.602482190133029\n",
      "mean_mean 3.593609021298255\n",
      "abs(round((mean_mean-y_mean)/y_mean)) 0.0\n"
     ]
    },
    {
     "name": "stderr",
     "output_type": "stream",
     "text": [
      "\r",
      " 49%|████▉     | 177/358 [01:20<01:14,  2.43it/s]"
     ]
    },
    {
     "name": "stdout",
     "output_type": "stream",
     "text": [
      "local Optima\n",
      "y_mean 1.3583490743523547\n",
      "mean_mean 1.4024234973372334\n",
      "abs(round((mean_mean-y_mean)/y_mean)) 0.0\n",
      "local Optima\n",
      "y_mean 1.3583490743523547\n",
      "mean_mean 1.296131378504226\n",
      "abs(round((mean_mean-y_mean)/y_mean)) 0.0\n"
     ]
    },
    {
     "name": "stderr",
     "output_type": "stream",
     "text": [
      "\r",
      " 50%|████▉     | 178/358 [01:20<01:14,  2.41it/s]"
     ]
    },
    {
     "name": "stdout",
     "output_type": "stream",
     "text": [
      "local Optima\n",
      "y_mean 3.7572423042239205\n",
      "mean_mean 3.753633148354158\n",
      "abs(round((mean_mean-y_mean)/y_mean)) 0.0\n",
      "local Optima\n",
      "y_mean 3.7572423042239205\n",
      "mean_mean 3.7536328708933366\n",
      "abs(round((mean_mean-y_mean)/y_mean)) 0.0\n"
     ]
    },
    {
     "name": "stderr",
     "output_type": "stream",
     "text": [
      "\r",
      " 50%|█████     | 179/358 [01:20<01:14,  2.39it/s]"
     ]
    },
    {
     "name": "stdout",
     "output_type": "stream",
     "text": [
      "local Optima\n",
      "y_mean 2.77104775191302\n",
      "mean_mean 2.5485452164035878\n",
      "abs(round((mean_mean-y_mean)/y_mean)) 0.0\n",
      "local Optima\n",
      "y_mean 2.77104775191302\n",
      "mean_mean 2.71344268079066\n",
      "abs(round((mean_mean-y_mean)/y_mean)) 0.0\n",
      "Fit Cholesky decomposition was not successful.\n"
     ]
    },
    {
     "name": "stderr",
     "output_type": "stream",
     "text": [
      "\r",
      " 50%|█████     | 180/358 [01:21<01:28,  2.02it/s]"
     ]
    },
    {
     "name": "stdout",
     "output_type": "stream",
     "text": [
      "local Optima\n",
      "y_mean 4.988400556180978\n",
      "mean_mean 4.9825424856564275\n",
      "abs(round((mean_mean-y_mean)/y_mean)) 0.0\n",
      "local Optima\n",
      "y_mean 4.988400556180978\n",
      "mean_mean 4.9825424856564275\n",
      "abs(round((mean_mean-y_mean)/y_mean)) 0.0\n",
      "local Optima\n",
      "y_mean 4.988400556180978\n",
      "mean_mean 4.98254364739232\n",
      "abs(round((mean_mean-y_mean)/y_mean)) 0.0\n"
     ]
    },
    {
     "name": "stderr",
     "output_type": "stream",
     "text": [
      "\r",
      " 51%|█████     | 181/358 [01:21<01:23,  2.13it/s]"
     ]
    },
    {
     "name": "stdout",
     "output_type": "stream",
     "text": [
      "local Optima\n",
      "y_mean 1.5409976143962472\n",
      "mean_mean 1.317908852213597\n",
      "abs(round((mean_mean-y_mean)/y_mean)) 0.0\n",
      "local Optima\n",
      "y_mean 1.5409976143962472\n",
      "mean_mean 1.427227364799219\n",
      "abs(round((mean_mean-y_mean)/y_mean)) 0.0\n"
     ]
    },
    {
     "name": "stderr",
     "output_type": "stream",
     "text": [
      "\r",
      " 51%|█████     | 182/358 [01:22<01:21,  2.16it/s]"
     ]
    },
    {
     "name": "stdout",
     "output_type": "stream",
     "text": [
      "local Optima\n",
      "y_mean 4.964580051569753\n",
      "mean_mean 4.999175675076965\n",
      "abs(round((mean_mean-y_mean)/y_mean)) 0.0\n",
      "local Optima\n",
      "y_mean 4.964580051569753\n",
      "mean_mean 4.962709097398656\n",
      "abs(round((mean_mean-y_mean)/y_mean)) 0.0\n"
     ]
    },
    {
     "name": "stderr",
     "output_type": "stream",
     "text": [
      "\r",
      " 51%|█████     | 183/358 [01:22<01:17,  2.26it/s]"
     ]
    },
    {
     "name": "stdout",
     "output_type": "stream",
     "text": [
      "local Optima\n",
      "y_mean 1.972282735620298\n",
      "mean_mean 1.8512039482967717\n",
      "abs(round((mean_mean-y_mean)/y_mean)) 0.0\n",
      "local Optima\n",
      "y_mean 1.972282735620298\n",
      "mean_mean 1.9072581177266945\n",
      "abs(round((mean_mean-y_mean)/y_mean)) 0.0\n",
      "Fit Cholesky decomposition was not successful.\n"
     ]
    },
    {
     "name": "stderr",
     "output_type": "stream",
     "text": [
      "\r",
      " 51%|█████▏    | 184/358 [01:23<01:28,  1.96it/s]"
     ]
    },
    {
     "name": "stdout",
     "output_type": "stream",
     "text": [
      "local Optima\n",
      "y_mean 5.048255899842656\n",
      "mean_mean 5.046022799941378\n",
      "abs(round((mean_mean-y_mean)/y_mean)) 0.0\n",
      "local Optima\n",
      "y_mean 5.048255899842656\n",
      "mean_mean 5.046022799941378\n",
      "abs(round((mean_mean-y_mean)/y_mean)) 0.0\n",
      "local Optima\n",
      "y_mean 5.048255899842656\n",
      "mean_mean 5.0460236468227615\n",
      "abs(round((mean_mean-y_mean)/y_mean)) 0.0\n"
     ]
    },
    {
     "name": "stderr",
     "output_type": "stream",
     "text": [
      "\r",
      " 52%|█████▏    | 185/358 [01:23<01:22,  2.10it/s]"
     ]
    },
    {
     "name": "stdout",
     "output_type": "stream",
     "text": [
      "local Optima\n",
      "y_mean 2.055180799228232\n",
      "mean_mean 2.0081964560724597\n",
      "abs(round((mean_mean-y_mean)/y_mean)) 0.0\n",
      "local Optima\n",
      "y_mean 2.055180799228232\n",
      "mean_mean 2.0015231490876353\n",
      "abs(round((mean_mean-y_mean)/y_mean)) 0.0\n"
     ]
    },
    {
     "name": "stderr",
     "output_type": "stream",
     "text": [
      "\r",
      " 52%|█████▏    | 186/358 [01:24<01:18,  2.20it/s]"
     ]
    },
    {
     "name": "stdout",
     "output_type": "stream",
     "text": [
      "local Optima\n",
      "y_mean 5.072127208669158\n",
      "mean_mean 5.071008650349505\n",
      "abs(round((mean_mean-y_mean)/y_mean)) 0.0\n",
      "local Optima\n",
      "y_mean 5.072127208669158\n",
      "mean_mean 5.071008647806925\n",
      "abs(round((mean_mean-y_mean)/y_mean)) 0.0\n"
     ]
    },
    {
     "name": "stderr",
     "output_type": "stream",
     "text": [
      "\r",
      " 52%|█████▏    | 187/358 [01:24<01:15,  2.27it/s]"
     ]
    },
    {
     "name": "stdout",
     "output_type": "stream",
     "text": [
      "local Optima\n",
      "y_mean 1.394366649603238\n",
      "mean_mean 1.2991879653871279\n",
      "abs(round((mean_mean-y_mean)/y_mean)) 0.0\n",
      "local Optima\n",
      "y_mean 1.394366649603238\n",
      "mean_mean 1.27678563290942\n",
      "abs(round((mean_mean-y_mean)/y_mean)) 0.0\n"
     ]
    },
    {
     "name": "stderr",
     "output_type": "stream",
     "text": [
      "\r",
      " 53%|█████▎    | 188/358 [01:25<01:12,  2.33it/s]"
     ]
    },
    {
     "name": "stdout",
     "output_type": "stream",
     "text": [
      "local Optima\n",
      "y_mean 5.092633824619709\n",
      "mean_mean 5.0895484456536275\n",
      "abs(round((mean_mean-y_mean)/y_mean)) 0.0\n",
      "local Optima\n",
      "y_mean 5.092633824619709\n",
      "mean_mean 5.088809292073698\n",
      "abs(round((mean_mean-y_mean)/y_mean)) 0.0\n"
     ]
    },
    {
     "name": "stderr",
     "output_type": "stream",
     "text": [
      "\r",
      " 53%|█████▎    | 189/358 [01:25<01:11,  2.37it/s]"
     ]
    },
    {
     "name": "stdout",
     "output_type": "stream",
     "text": [
      "local Optima\n",
      "y_mean 1.7114995988928985\n",
      "mean_mean 1.7247675895221513\n",
      "abs(round((mean_mean-y_mean)/y_mean)) 0.0\n",
      "local Optima\n",
      "y_mean 1.7114995988928985\n",
      "mean_mean 1.6527896789772831\n",
      "abs(round((mean_mean-y_mean)/y_mean)) 0.0\n"
     ]
    },
    {
     "name": "stderr",
     "output_type": "stream",
     "text": [
      "\r",
      " 53%|█████▎    | 190/358 [01:25<01:11,  2.35it/s]"
     ]
    },
    {
     "name": "stdout",
     "output_type": "stream",
     "text": [
      "local Optima\n",
      "y_mean 4.6966837593878505\n",
      "mean_mean 4.693314351799033\n",
      "abs(round((mean_mean-y_mean)/y_mean)) 0.0\n",
      "local Optima\n",
      "y_mean 4.6966837593878505\n",
      "mean_mean 4.693020113549058\n",
      "abs(round((mean_mean-y_mean)/y_mean)) 0.0\n",
      "local Optima\n",
      "y_mean 2.291838239117929\n",
      "mean_mean 2.218858235933255\n",
      "abs(round((mean_mean-y_mean)/y_mean)) 0.0\n"
     ]
    },
    {
     "name": "stderr",
     "output_type": "stream",
     "text": [
      "\r",
      " 53%|█████▎    | 191/358 [01:26<01:17,  2.15it/s]"
     ]
    },
    {
     "name": "stdout",
     "output_type": "stream",
     "text": [
      "local Optima\n",
      "y_mean 2.291838239117929\n",
      "mean_mean 2.260447850690049\n",
      "abs(round((mean_mean-y_mean)/y_mean)) 0.0\n"
     ]
    },
    {
     "name": "stderr",
     "output_type": "stream",
     "text": [
      "\r",
      " 54%|█████▎    | 192/358 [01:26<01:17,  2.14it/s]"
     ]
    },
    {
     "name": "stdout",
     "output_type": "stream",
     "text": [
      "local Optima\n",
      "y_mean 4.667330479799427\n",
      "mean_mean 4.665216911307031\n",
      "abs(round((mean_mean-y_mean)/y_mean)) 0.0\n",
      "local Optima\n",
      "y_mean 4.667330479799427\n",
      "mean_mean 4.665216552532713\n",
      "abs(round((mean_mean-y_mean)/y_mean)) 0.0\n"
     ]
    },
    {
     "name": "stderr",
     "output_type": "stream",
     "text": [
      "\r",
      " 54%|█████▍    | 193/358 [01:27<01:12,  2.26it/s]"
     ]
    },
    {
     "name": "stdout",
     "output_type": "stream",
     "text": [
      "local Optima\n",
      "y_mean 0.5820559025355857\n",
      "mean_mean 0.2944731462479897\n",
      "abs(round((mean_mean-y_mean)/y_mean)) 0.0\n",
      "local Optima\n",
      "y_mean 0.5820559025355857\n",
      "mean_mean 0.4971417355052634\n",
      "abs(round((mean_mean-y_mean)/y_mean)) 0.0\n",
      "Fit Cholesky decomposition was not successful.\n"
     ]
    },
    {
     "name": "stderr",
     "output_type": "stream",
     "text": [
      "\r",
      " 54%|█████▍    | 194/358 [01:28<01:22,  1.98it/s]"
     ]
    },
    {
     "name": "stdout",
     "output_type": "stream",
     "text": [
      "local Optima\n",
      "y_mean 3.057821677432862\n",
      "mean_mean 3.052701789436988\n",
      "abs(round((mean_mean-y_mean)/y_mean)) 0.0\n",
      "local Optima\n",
      "y_mean 3.057821677432862\n",
      "mean_mean 3.052701789436988\n",
      "abs(round((mean_mean-y_mean)/y_mean)) 0.0\n",
      "local Optima\n",
      "y_mean 3.057821677432862\n",
      "mean_mean 3.0527023227704224\n",
      "abs(round((mean_mean-y_mean)/y_mean)) 0.0\n",
      "local Optima\n",
      "y_mean 1.1558250662036869\n",
      "mean_mean 1.0215583422508445\n",
      "abs(round((mean_mean-y_mean)/y_mean)) 0.0\n",
      "local Optima\n",
      "y_mean 1.1558250662036869\n",
      "mean_mean 1.061970204519715\n",
      "abs(round((mean_mean-y_mean)/y_mean)) 0.0\n"
     ]
    },
    {
     "name": "stderr",
     "output_type": "stream",
     "text": [
      " 55%|█████▍    | 196/358 [01:28<01:15,  2.14it/s]"
     ]
    },
    {
     "name": "stdout",
     "output_type": "stream",
     "text": [
      "local Optima\n",
      "y_mean 4.615153162943477\n",
      "mean_mean 4.611063050294564\n",
      "abs(round((mean_mean-y_mean)/y_mean)) 0.0\n",
      "local Optima\n",
      "y_mean 4.615153162943477\n",
      "mean_mean 4.611062169112244\n",
      "abs(round((mean_mean-y_mean)/y_mean)) 0.0\n"
     ]
    },
    {
     "name": "stderr",
     "output_type": "stream",
     "text": [
      "\r",
      " 55%|█████▌    | 197/358 [01:29<01:11,  2.24it/s]"
     ]
    },
    {
     "name": "stdout",
     "output_type": "stream",
     "text": [
      "local Optima\n",
      "y_mean 1.3108159263966939\n",
      "mean_mean 1.3257251637752603\n",
      "abs(round((mean_mean-y_mean)/y_mean)) 0.0\n",
      "local Optima\n",
      "y_mean 1.3108159263966939\n",
      "mean_mean 1.2521970096369983\n",
      "abs(round((mean_mean-y_mean)/y_mean)) 0.0\n"
     ]
    },
    {
     "name": "stderr",
     "output_type": "stream",
     "text": [
      "\r",
      " 55%|█████▌    | 198/358 [01:29<01:10,  2.26it/s]"
     ]
    },
    {
     "name": "stdout",
     "output_type": "stream",
     "text": [
      "local Optima\n",
      "y_mean 4.304511588170839\n",
      "mean_mean 4.300754600553671\n",
      "abs(round((mean_mean-y_mean)/y_mean)) 0.0\n",
      "local Optima\n",
      "y_mean 4.304511588170839\n",
      "mean_mean 4.300754545386262\n",
      "abs(round((mean_mean-y_mean)/y_mean)) 0.0\n",
      "local Optima\n",
      "y_mean 0.6758472583894398\n",
      "mean_mean 0.39071606415903076\n",
      "abs(round((mean_mean-y_mean)/y_mean)) 0.0\n",
      "local Optima\n",
      "y_mean 0.6758472583894398\n",
      "mean_mean 0.58858589340667\n",
      "abs(round((mean_mean-y_mean)/y_mean)) 0.0\n"
     ]
    },
    {
     "name": "stderr",
     "output_type": "stream",
     "text": [
      "\r",
      " 56%|█████▌    | 199/358 [01:30<01:28,  1.81it/s]"
     ]
    },
    {
     "name": "stdout",
     "output_type": "stream",
     "text": [
      "local Optima\n",
      "y_mean 0.6758472583894398\n",
      "mean_mean 0.39071606415903076\n",
      "abs(round((mean_mean-y_mean)/y_mean)) 0.0\n",
      "local Optima\n",
      "y_mean 0.6758472583894398\n",
      "mean_mean 0.58858589340667\n",
      "abs(round((mean_mean-y_mean)/y_mean)) 0.0\n",
      "local Optima\n",
      "y_mean 4.609733929500333\n",
      "mean_mean 4.606639742649634\n",
      "abs(round((mean_mean-y_mean)/y_mean)) 0.0\n",
      "local Optima\n",
      "y_mean 4.609733929500333\n",
      "mean_mean 4.606640201731067\n",
      "abs(round((mean_mean-y_mean)/y_mean)) 0.0\n"
     ]
    },
    {
     "name": "stderr",
     "output_type": "stream",
     "text": [
      " 56%|█████▌    | 201/358 [01:31<01:16,  2.05it/s]"
     ]
    },
    {
     "name": "stdout",
     "output_type": "stream",
     "text": [
      "local Optima\n",
      "y_mean 2.1303604645824485\n",
      "mean_mean 2.1500386112611447\n",
      "abs(round((mean_mean-y_mean)/y_mean)) 0.0\n",
      "local Optima\n",
      "y_mean 2.1303604645824485\n",
      "mean_mean 2.097481064940954\n",
      "abs(round((mean_mean-y_mean)/y_mean)) 0.0\n"
     ]
    },
    {
     "name": "stderr",
     "output_type": "stream",
     "text": [
      "\r",
      " 56%|█████▋    | 202/358 [01:31<01:12,  2.14it/s]"
     ]
    },
    {
     "name": "stdout",
     "output_type": "stream",
     "text": [
      "local Optima\n",
      "y_mean 4.637887474861359\n",
      "mean_mean 4.635528433583921\n",
      "abs(round((mean_mean-y_mean)/y_mean)) 0.0\n",
      "local Optima\n",
      "y_mean 4.637887474861359\n",
      "mean_mean 4.635525826249118\n",
      "abs(round((mean_mean-y_mean)/y_mean)) 0.0\n"
     ]
    },
    {
     "name": "stderr",
     "output_type": "stream",
     "text": [
      "\r",
      " 57%|█████▋    | 203/358 [01:32<01:08,  2.25it/s]"
     ]
    },
    {
     "name": "stdout",
     "output_type": "stream",
     "text": [
      "local Optima\n",
      "y_mean 1.1150304713566386\n",
      "mean_mean 0.9434408515886392\n",
      "abs(round((mean_mean-y_mean)/y_mean)) 0.0\n",
      "local Optima\n",
      "y_mean 1.1150304713566386\n",
      "mean_mean 0.9641057845977433\n",
      "abs(round((mean_mean-y_mean)/y_mean)) 0.0\n"
     ]
    },
    {
     "name": "stderr",
     "output_type": "stream",
     "text": [
      "\r",
      " 57%|█████▋    | 204/358 [01:32<01:05,  2.35it/s]"
     ]
    },
    {
     "name": "stdout",
     "output_type": "stream",
     "text": [
      "local Optima\n",
      "y_mean 4.90503070372127\n",
      "mean_mean 4.902497489790835\n",
      "abs(round((mean_mean-y_mean)/y_mean)) 0.0\n",
      "local Optima\n",
      "y_mean 4.90503070372127\n",
      "mean_mean 4.9014738312064825\n",
      "abs(round((mean_mean-y_mean)/y_mean)) 0.0\n"
     ]
    },
    {
     "name": "stderr",
     "output_type": "stream",
     "text": [
      "\r",
      " 57%|█████▋    | 205/358 [01:32<01:04,  2.37it/s]"
     ]
    },
    {
     "name": "stdout",
     "output_type": "stream",
     "text": [
      "local Optima\n",
      "y_mean 2.0809996915109688\n",
      "mean_mean 2.0425395365158945\n",
      "abs(round((mean_mean-y_mean)/y_mean)) 0.0\n",
      "local Optima\n",
      "y_mean 2.0809996915109688\n",
      "mean_mean 2.0021985367816835\n",
      "abs(round((mean_mean-y_mean)/y_mean)) 0.0\n"
     ]
    },
    {
     "name": "stderr",
     "output_type": "stream",
     "text": [
      "\r",
      " 58%|█████▊    | 206/358 [01:33<01:04,  2.35it/s]"
     ]
    },
    {
     "name": "stdout",
     "output_type": "stream",
     "text": [
      "local Optima\n",
      "y_mean 5.340102767481909\n",
      "mean_mean 5.313240811151096\n",
      "abs(round((mean_mean-y_mean)/y_mean)) 0.0\n",
      "local Optima\n",
      "y_mean 5.340102767481909\n",
      "mean_mean 5.337972053452478\n",
      "abs(round((mean_mean-y_mean)/y_mean)) 0.0\n"
     ]
    },
    {
     "name": "stderr",
     "output_type": "stream",
     "text": [
      "\r",
      " 58%|█████▊    | 207/358 [01:33<01:02,  2.41it/s]"
     ]
    },
    {
     "name": "stdout",
     "output_type": "stream",
     "text": [
      "local Optima\n",
      "y_mean 2.7432354854908843\n",
      "mean_mean 2.433167331417438\n",
      "abs(round((mean_mean-y_mean)/y_mean)) 0.0\n",
      "local Optima\n",
      "y_mean 2.7432354854908843\n",
      "mean_mean 2.7029089223114213\n",
      "abs(round((mean_mean-y_mean)/y_mean)) 0.0\n",
      "Fit Cholesky decomposition was not successful.\n"
     ]
    },
    {
     "name": "stderr",
     "output_type": "stream",
     "text": [
      "\r",
      " 58%|█████▊    | 208/358 [01:34<01:13,  2.05it/s]"
     ]
    },
    {
     "name": "stdout",
     "output_type": "stream",
     "text": [
      "local Optima\n",
      "y_mean 5.298833343987078\n",
      "mean_mean 5.297466161524593\n",
      "abs(round((mean_mean-y_mean)/y_mean)) 0.0\n",
      "local Optima\n",
      "y_mean 5.298833343987078\n",
      "mean_mean 5.297466161524593\n",
      "abs(round((mean_mean-y_mean)/y_mean)) 0.0\n",
      "local Optima\n",
      "y_mean 5.298833343987078\n",
      "mean_mean 5.297466275106927\n",
      "abs(round((mean_mean-y_mean)/y_mean)) 0.0\n"
     ]
    },
    {
     "name": "stderr",
     "output_type": "stream",
     "text": [
      "\r",
      " 58%|█████▊    | 209/358 [01:34<01:08,  2.16it/s]"
     ]
    },
    {
     "name": "stdout",
     "output_type": "stream",
     "text": [
      "local Optima\n",
      "y_mean 0.558054839711657\n",
      "mean_mean 0.38038016734251096\n",
      "abs(round((mean_mean-y_mean)/y_mean)) 0.0\n",
      "local Optima\n",
      "y_mean 0.558054839711657\n",
      "mean_mean 0.46031984953744404\n",
      "abs(round((mean_mean-y_mean)/y_mean)) 0.0\n"
     ]
    },
    {
     "name": "stderr",
     "output_type": "stream",
     "text": [
      "\r",
      " 59%|█████▊    | 210/358 [01:35<01:07,  2.19it/s]"
     ]
    },
    {
     "name": "stdout",
     "output_type": "stream",
     "text": [
      "local Optima\n",
      "y_mean 4.236957877108818\n",
      "mean_mean 4.140177507306679\n",
      "abs(round((mean_mean-y_mean)/y_mean)) 0.0\n",
      "local Optima\n",
      "y_mean 4.236957877108818\n",
      "mean_mean 4.232134908623423\n",
      "abs(round((mean_mean-y_mean)/y_mean)) 0.0\n"
     ]
    },
    {
     "name": "stderr",
     "output_type": "stream",
     "text": [
      "\r",
      " 59%|█████▉    | 211/358 [01:35<01:04,  2.29it/s]"
     ]
    },
    {
     "name": "stdout",
     "output_type": "stream",
     "text": [
      "local Optima\n",
      "y_mean 1.1106536450833433\n",
      "mean_mean 1.0219760517326424\n",
      "abs(round((mean_mean-y_mean)/y_mean)) 0.0\n",
      "local Optima\n",
      "y_mean 1.1106536450833433\n",
      "mean_mean 0.988832873935707\n",
      "abs(round((mean_mean-y_mean)/y_mean)) 0.0\n"
     ]
    },
    {
     "name": "stderr",
     "output_type": "stream",
     "text": [
      "\r",
      " 59%|█████▉    | 212/358 [01:36<01:03,  2.31it/s]"
     ]
    },
    {
     "name": "stdout",
     "output_type": "stream",
     "text": [
      "local Optima\n",
      "y_mean 5.1004823620158275\n",
      "mean_mean 5.097424394288278\n",
      "abs(round((mean_mean-y_mean)/y_mean)) 0.0\n",
      "local Optima\n",
      "y_mean 5.1004823620158275\n",
      "mean_mean 5.097424732441377\n",
      "abs(round((mean_mean-y_mean)/y_mean)) 0.0\n"
     ]
    },
    {
     "name": "stderr",
     "output_type": "stream",
     "text": [
      "\r",
      " 59%|█████▉    | 213/358 [01:36<01:02,  2.31it/s]"
     ]
    },
    {
     "name": "stdout",
     "output_type": "stream",
     "text": [
      "local Optima\n",
      "y_mean 1.4166519762197032\n",
      "mean_mean 1.117332436852469\n",
      "abs(round((mean_mean-y_mean)/y_mean)) 0.0\n",
      "local Optima\n",
      "y_mean 1.4166519762197032\n",
      "mean_mean 1.3095429440084307\n",
      "abs(round((mean_mean-y_mean)/y_mean)) 0.0\n",
      "local Optima\n",
      "y_mean 5.340144433615104\n",
      "mean_mean 5.33887492360258\n",
      "abs(round((mean_mean-y_mean)/y_mean)) 0.0\n",
      "local Optima\n",
      "y_mean 5.340144433615104\n",
      "mean_mean 5.338555660784661\n",
      "abs(round((mean_mean-y_mean)/y_mean)) 0.0\n"
     ]
    },
    {
     "name": "stderr",
     "output_type": "stream",
     "text": [
      " 60%|██████    | 215/358 [01:37<01:01,  2.33it/s]"
     ]
    },
    {
     "name": "stdout",
     "output_type": "stream",
     "text": [
      "local Optima\n",
      "y_mean 1.2919013996220765\n",
      "mean_mean 1.1594314497216667\n",
      "abs(round((mean_mean-y_mean)/y_mean)) 0.0\n",
      "local Optima\n",
      "y_mean 1.2919013996220765\n",
      "mean_mean 1.1836644809737233\n",
      "abs(round((mean_mean-y_mean)/y_mean)) 0.0\n"
     ]
    },
    {
     "name": "stderr",
     "output_type": "stream",
     "text": [
      "\r",
      " 60%|██████    | 216/358 [01:37<00:59,  2.39it/s]"
     ]
    },
    {
     "name": "stdout",
     "output_type": "stream",
     "text": [
      "local Optima\n",
      "y_mean 5.584141759807596\n",
      "mean_mean 5.516938912925375\n",
      "abs(round((mean_mean-y_mean)/y_mean)) 0.0\n",
      "local Optima\n",
      "y_mean 5.584141759807596\n",
      "mean_mean 5.580351643819252\n",
      "abs(round((mean_mean-y_mean)/y_mean)) 0.0\n"
     ]
    },
    {
     "name": "stderr",
     "output_type": "stream",
     "text": [
      "\r",
      " 61%|██████    | 217/358 [01:38<00:57,  2.44it/s]"
     ]
    },
    {
     "name": "stdout",
     "output_type": "stream",
     "text": [
      "local Optima\n",
      "y_mean 1.5859725487209901\n",
      "mean_mean 1.4621408521783537\n",
      "abs(round((mean_mean-y_mean)/y_mean)) 0.0\n",
      "local Optima\n",
      "y_mean 1.5859725487209901\n",
      "mean_mean 1.5197913518975863\n",
      "abs(round((mean_mean-y_mean)/y_mean)) 0.0\n"
     ]
    },
    {
     "name": "stderr",
     "output_type": "stream",
     "text": [
      "\r",
      " 61%|██████    | 218/358 [01:38<00:57,  2.43it/s]"
     ]
    },
    {
     "name": "stdout",
     "output_type": "stream",
     "text": [
      "local Optima\n",
      "y_mean 5.609817758059402\n",
      "mean_mean 5.607578510896152\n",
      "abs(round((mean_mean-y_mean)/y_mean)) 0.0\n",
      "local Optima\n",
      "y_mean 5.609817758059402\n",
      "mean_mean 5.607578161719991\n",
      "abs(round((mean_mean-y_mean)/y_mean)) 0.0\n"
     ]
    },
    {
     "name": "stderr",
     "output_type": "stream",
     "text": [
      "\r",
      " 61%|██████    | 219/358 [01:39<00:57,  2.41it/s]"
     ]
    },
    {
     "name": "stdout",
     "output_type": "stream",
     "text": [
      "local Optima\n",
      "y_mean 1.94141949895988\n",
      "mean_mean 1.7566558794149518\n",
      "abs(round((mean_mean-y_mean)/y_mean)) 0.0\n",
      "local Optima\n",
      "y_mean 1.94141949895988\n",
      "mean_mean 1.9143830556987675\n",
      "abs(round((mean_mean-y_mean)/y_mean)) 0.0\n"
     ]
    },
    {
     "name": "stderr",
     "output_type": "stream",
     "text": [
      "\r",
      " 61%|██████▏   | 220/358 [01:39<00:58,  2.37it/s]"
     ]
    },
    {
     "name": "stdout",
     "output_type": "stream",
     "text": [
      "local Optima\n",
      "y_mean 5.322854416821728\n",
      "mean_mean 5.321024073348006\n",
      "abs(round((mean_mean-y_mean)/y_mean)) 0.0\n",
      "local Optima\n",
      "y_mean 5.322854416821728\n",
      "mean_mean 5.321014811756767\n",
      "abs(round((mean_mean-y_mean)/y_mean)) 0.0\n",
      "local Optima\n",
      "y_mean 0.7425158032033633\n",
      "mean_mean 0.32244412111328863\n",
      "abs(round((mean_mean-y_mean)/y_mean)) 1.0\n",
      "local Optima\n",
      "1\n",
      "y_mean 0.7425158032033633\n",
      "mean_mean 0.32244412111328863\n",
      "abs(round((mean_mean-y_mean)/y_mean)) 1.0\n",
      "local Optima\n",
      "y_mean 0.7425158032033633\n",
      "mean_mean 0.2498246553516965\n",
      "abs(round((mean_mean-y_mean)/y_mean)) 1.0\n",
      "local Optima\n",
      "1\n",
      "y_mean 0.7425158032033633\n",
      "mean_mean 0.2498246553516965\n",
      "abs(round((mean_mean-y_mean)/y_mean)) 1.0\n",
      "local Optima\n",
      "y_mean 0.7425158032033633\n",
      "mean_mean 0.26018104016588783\n",
      "abs(round((mean_mean-y_mean)/y_mean)) 1.0\n",
      "local Optima\n",
      "1\n",
      "y_mean 0.7425158032033633\n",
      "mean_mean 0.26018104016588783\n",
      "abs(round((mean_mean-y_mean)/y_mean)) 1.0\n",
      "local Optima\n",
      "y_mean 0.7425158032033633\n",
      "mean_mean 0.3235448725935348\n",
      "abs(round((mean_mean-y_mean)/y_mean)) 1.0\n",
      "local Optima\n",
      "1\n",
      "y_mean 0.7425158032033633\n",
      "mean_mean 0.3235448725935348\n",
      "abs(round((mean_mean-y_mean)/y_mean)) 1.0\n",
      "local Optima\n",
      "y_mean 0.7425158032033633\n",
      "mean_mean 0.3170566933037561\n",
      "abs(round((mean_mean-y_mean)/y_mean)) 1.0\n",
      "local Optima\n",
      "1\n",
      "y_mean 0.7425158032033633\n",
      "mean_mean 0.3170566933037561\n",
      "abs(round((mean_mean-y_mean)/y_mean)) 1.0\n"
     ]
    },
    {
     "name": "stderr",
     "output_type": "stream",
     "text": [
      "\r",
      " 62%|██████▏   | 221/358 [01:41<01:42,  1.33it/s]"
     ]
    },
    {
     "name": "stdout",
     "output_type": "stream",
     "text": [
      "local Optima\n",
      "y_mean 0.7425158032033633\n",
      "mean_mean 0.5443504357223022\n",
      "abs(round((mean_mean-y_mean)/y_mean)) 0.0\n"
     ]
    },
    {
     "name": "stderr",
     "output_type": "stream",
     "text": [
      "\r",
      " 62%|██████▏   | 222/358 [01:41<01:28,  1.53it/s]"
     ]
    },
    {
     "name": "stdout",
     "output_type": "stream",
     "text": [
      "local Optima\n",
      "y_mean 5.150260842982177\n",
      "mean_mean 5.146527271743152\n",
      "abs(round((mean_mean-y_mean)/y_mean)) 0.0\n",
      "local Optima\n",
      "y_mean 5.150260842982177\n",
      "mean_mean 5.146527467938836\n",
      "abs(round((mean_mean-y_mean)/y_mean)) 0.0\n"
     ]
    },
    {
     "name": "stderr",
     "output_type": "stream",
     "text": [
      "\r",
      " 62%|██████▏   | 223/358 [01:41<01:17,  1.74it/s]"
     ]
    },
    {
     "name": "stdout",
     "output_type": "stream",
     "text": [
      "local Optima\n",
      "y_mean 1.200898971550224\n",
      "mean_mean 1.0332513100142158\n",
      "abs(round((mean_mean-y_mean)/y_mean)) 0.0\n",
      "local Optima\n",
      "y_mean 1.200898971550224\n",
      "mean_mean 1.102880181767445\n",
      "abs(round((mean_mean-y_mean)/y_mean)) 0.0\n"
     ]
    },
    {
     "name": "stderr",
     "output_type": "stream",
     "text": [
      "\r",
      " 63%|██████▎   | 224/358 [01:42<01:12,  1.84it/s]"
     ]
    },
    {
     "name": "stdout",
     "output_type": "stream",
     "text": [
      "local Optima\n",
      "y_mean 4.967633960887728\n",
      "mean_mean 4.964616292518866\n",
      "abs(round((mean_mean-y_mean)/y_mean)) 0.0\n",
      "local Optima\n",
      "y_mean 4.967633960887728\n",
      "mean_mean 4.964616297837091\n",
      "abs(round((mean_mean-y_mean)/y_mean)) 0.0\n",
      "local Optima\n",
      "y_mean 1.6821819604797756\n",
      "mean_mean 1.5678211914963007\n",
      "abs(round((mean_mean-y_mean)/y_mean)) 0.0\n",
      "local Optima\n",
      "y_mean 1.6821819604797756\n",
      "mean_mean 1.5950817925585261\n",
      "abs(round((mean_mean-y_mean)/y_mean)) 0.0\n"
     ]
    },
    {
     "name": "stderr",
     "output_type": "stream",
     "text": [
      " 63%|██████▎   | 226/358 [01:43<01:03,  2.08it/s]"
     ]
    },
    {
     "name": "stdout",
     "output_type": "stream",
     "text": [
      "local Optima\n",
      "y_mean 4.99664734923159\n",
      "mean_mean 4.994903438702099\n",
      "abs(round((mean_mean-y_mean)/y_mean)) 0.0\n",
      "local Optima\n",
      "y_mean 4.99664734923159\n",
      "mean_mean 4.994904614632761\n",
      "abs(round((mean_mean-y_mean)/y_mean)) 0.0\n"
     ]
    },
    {
     "name": "stderr",
     "output_type": "stream",
     "text": [
      "\r",
      " 63%|██████▎   | 227/358 [01:43<01:03,  2.05it/s]"
     ]
    },
    {
     "name": "stdout",
     "output_type": "stream",
     "text": [
      "local Optima\n",
      "y_mean 1.5206940304392738\n",
      "mean_mean 1.2430728007644123\n",
      "abs(round((mean_mean-y_mean)/y_mean)) 0.0\n",
      "local Optima\n",
      "y_mean 1.5206940304392738\n",
      "mean_mean 1.3991843218350863\n",
      "abs(round((mean_mean-y_mean)/y_mean)) 0.0\n"
     ]
    },
    {
     "name": "stderr",
     "output_type": "stream",
     "text": [
      "\r",
      " 64%|██████▎   | 228/358 [01:44<01:01,  2.12it/s]"
     ]
    },
    {
     "name": "stdout",
     "output_type": "stream",
     "text": [
      "local Optima\n",
      "y_mean 5.463637289066993\n",
      "mean_mean 5.45915408572927\n",
      "abs(round((mean_mean-y_mean)/y_mean)) 0.0\n",
      "local Optima\n",
      "y_mean 5.463637289066993\n",
      "mean_mean 5.459155125016009\n",
      "abs(round((mean_mean-y_mean)/y_mean)) 0.0\n"
     ]
    },
    {
     "name": "stderr",
     "output_type": "stream",
     "text": [
      "\r",
      " 64%|██████▍   | 229/358 [01:44<00:58,  2.20it/s]"
     ]
    },
    {
     "name": "stdout",
     "output_type": "stream",
     "text": [
      "local Optima\n",
      "y_mean 1.947161645198866\n",
      "mean_mean 1.8021082983420604\n",
      "abs(round((mean_mean-y_mean)/y_mean)) 0.0\n",
      "local Optima\n",
      "y_mean 1.947161645198866\n",
      "mean_mean 1.8629126773818998\n",
      "abs(round((mean_mean-y_mean)/y_mean)) 0.0\n"
     ]
    },
    {
     "name": "stderr",
     "output_type": "stream",
     "text": [
      "\r",
      " 64%|██████▍   | 230/358 [01:44<00:56,  2.25it/s]"
     ]
    },
    {
     "name": "stdout",
     "output_type": "stream",
     "text": [
      "local Optima\n",
      "y_mean 5.354452295619701\n",
      "mean_mean 5.35122404217838\n",
      "abs(round((mean_mean-y_mean)/y_mean)) 0.0\n",
      "local Optima\n",
      "y_mean 5.354452295619701\n",
      "mean_mean 5.351227310077658\n",
      "abs(round((mean_mean-y_mean)/y_mean)) 0.0\n"
     ]
    },
    {
     "name": "stderr",
     "output_type": "stream",
     "text": [
      "\r",
      " 65%|██████▍   | 231/358 [01:45<00:54,  2.35it/s]"
     ]
    },
    {
     "name": "stdout",
     "output_type": "stream",
     "text": [
      "local Optima\n",
      "y_mean 2.317690080299182\n",
      "mean_mean 2.295047049430025\n",
      "abs(round((mean_mean-y_mean)/y_mean)) 0.0\n",
      "local Optima\n",
      "y_mean 2.317690080299182\n",
      "mean_mean 2.248730950806542\n",
      "abs(round((mean_mean-y_mean)/y_mean)) 0.0\n",
      "local Optima\n",
      "y_mean 5.537963174797722\n",
      "mean_mean 5.536402994742197\n",
      "abs(round((mean_mean-y_mean)/y_mean)) 0.0\n",
      "local Optima\n",
      "y_mean 5.537963174797722\n",
      "mean_mean 5.5364031229227315\n",
      "abs(round((mean_mean-y_mean)/y_mean)) 0.0\n"
     ]
    },
    {
     "name": "stderr",
     "output_type": "stream",
     "text": [
      " 65%|██████▌   | 233/358 [01:46<00:52,  2.38it/s]"
     ]
    },
    {
     "name": "stdout",
     "output_type": "stream",
     "text": [
      "local Optima\n",
      "y_mean 1.2758293479840666\n",
      "mean_mean 1.3602266392885425\n",
      "abs(round((mean_mean-y_mean)/y_mean)) 0.0\n",
      "local Optima\n",
      "y_mean 1.2758293479840666\n",
      "mean_mean 1.1674215729987911\n",
      "abs(round((mean_mean-y_mean)/y_mean)) 0.0\n"
     ]
    },
    {
     "name": "stderr",
     "output_type": "stream",
     "text": [
      "\r",
      " 65%|██████▌   | 234/358 [01:46<00:51,  2.39it/s]"
     ]
    },
    {
     "name": "stdout",
     "output_type": "stream",
     "text": [
      "local Optima\n",
      "y_mean 4.892070893867044\n",
      "mean_mean 4.941453472400574\n",
      "abs(round((mean_mean-y_mean)/y_mean)) 0.0\n",
      "local Optima\n",
      "y_mean 4.892070893867044\n",
      "mean_mean 4.8882366048218415\n",
      "abs(round((mean_mean-y_mean)/y_mean)) 0.0\n"
     ]
    },
    {
     "name": "stderr",
     "output_type": "stream",
     "text": [
      "\r",
      " 66%|██████▌   | 235/358 [01:46<00:52,  2.36it/s]"
     ]
    },
    {
     "name": "stdout",
     "output_type": "stream",
     "text": [
      "local Optima\n",
      "y_mean 1.5373680667764154\n",
      "mean_mean 1.660251794812376\n",
      "abs(round((mean_mean-y_mean)/y_mean)) 0.0\n",
      "local Optima\n",
      "y_mean 1.5373680667764154\n",
      "mean_mean 1.4714855324833473\n",
      "abs(round((mean_mean-y_mean)/y_mean)) 0.0\n"
     ]
    },
    {
     "name": "stderr",
     "output_type": "stream",
     "text": [
      "\r",
      " 66%|██████▌   | 236/358 [01:47<00:50,  2.40it/s]"
     ]
    },
    {
     "name": "stdout",
     "output_type": "stream",
     "text": [
      "local Optima\n",
      "y_mean 4.795859718678518\n",
      "mean_mean 4.794979081748414\n",
      "abs(round((mean_mean-y_mean)/y_mean)) 0.0\n",
      "local Optima\n",
      "y_mean 4.795859718678518\n",
      "mean_mean 4.794047491249096\n",
      "abs(round((mean_mean-y_mean)/y_mean)) 0.0\n"
     ]
    },
    {
     "name": "stderr",
     "output_type": "stream",
     "text": [
      "\r",
      " 66%|██████▌   | 237/358 [01:47<00:50,  2.42it/s]"
     ]
    },
    {
     "name": "stdout",
     "output_type": "stream",
     "text": [
      "local Optima\n",
      "y_mean 2.577413219174405\n",
      "mean_mean 2.738386167131684\n",
      "abs(round((mean_mean-y_mean)/y_mean)) 0.0\n",
      "local Optima\n",
      "y_mean 2.577413219174405\n",
      "mean_mean 2.5322366472728177\n",
      "abs(round((mean_mean-y_mean)/y_mean)) 0.0\n"
     ]
    },
    {
     "name": "stderr",
     "output_type": "stream",
     "text": [
      "\r",
      " 66%|██████▋   | 238/358 [01:48<00:48,  2.46it/s]"
     ]
    },
    {
     "name": "stdout",
     "output_type": "stream",
     "text": [
      "local Optima\n",
      "y_mean 4.938758973705879\n",
      "mean_mean 4.9383880407766645\n",
      "abs(round((mean_mean-y_mean)/y_mean)) 0.0\n",
      "local Optima\n",
      "y_mean 4.938758973705879\n",
      "mean_mean 4.938092313427842\n",
      "abs(round((mean_mean-y_mean)/y_mean)) 0.0\n"
     ]
    },
    {
     "name": "stderr",
     "output_type": "stream",
     "text": [
      "\r",
      " 67%|██████▋   | 239/358 [01:48<00:48,  2.44it/s]"
     ]
    },
    {
     "name": "stdout",
     "output_type": "stream",
     "text": [
      "local Optima\n",
      "y_mean 0.9331789435153238\n",
      "mean_mean 0.8644690912927459\n",
      "abs(round((mean_mean-y_mean)/y_mean)) 0.0\n",
      "local Optima\n",
      "y_mean 0.9331789435153238\n",
      "mean_mean 0.8257255862580273\n",
      "abs(round((mean_mean-y_mean)/y_mean)) 0.0\n"
     ]
    },
    {
     "name": "stderr",
     "output_type": "stream",
     "text": [
      "\r",
      " 67%|██████▋   | 240/358 [01:49<00:50,  2.36it/s]"
     ]
    },
    {
     "name": "stdout",
     "output_type": "stream",
     "text": [
      "local Optima\n",
      "y_mean 4.099879243762227\n",
      "mean_mean 4.095193532087168\n",
      "abs(round((mean_mean-y_mean)/y_mean)) 0.0\n",
      "local Optima\n",
      "y_mean 4.099879243762227\n",
      "mean_mean 4.095193595778652\n",
      "abs(round((mean_mean-y_mean)/y_mean)) 0.0\n"
     ]
    },
    {
     "name": "stderr",
     "output_type": "stream",
     "text": [
      "\r",
      " 67%|██████▋   | 241/358 [01:49<00:49,  2.36it/s]"
     ]
    },
    {
     "name": "stdout",
     "output_type": "stream",
     "text": [
      "local Optima\n",
      "y_mean 1.021158791653622\n",
      "mean_mean 0.8774014070510218\n",
      "abs(round((mean_mean-y_mean)/y_mean)) 0.0\n",
      "local Optima\n",
      "y_mean 1.021158791653622\n",
      "mean_mean 0.9425554653221242\n",
      "abs(round((mean_mean-y_mean)/y_mean)) 0.0\n"
     ]
    },
    {
     "name": "stderr",
     "output_type": "stream",
     "text": [
      "\r",
      " 68%|██████▊   | 242/358 [01:49<00:49,  2.36it/s]"
     ]
    },
    {
     "name": "stdout",
     "output_type": "stream",
     "text": [
      "local Optima\n",
      "y_mean 4.052897900210699\n",
      "mean_mean 4.049207695120331\n",
      "abs(round((mean_mean-y_mean)/y_mean)) 0.0\n",
      "local Optima\n",
      "y_mean 4.052897900210699\n",
      "mean_mean 4.049209572428722\n",
      "abs(round((mean_mean-y_mean)/y_mean)) 0.0\n"
     ]
    },
    {
     "name": "stderr",
     "output_type": "stream",
     "text": [
      "\r",
      " 68%|██████▊   | 243/358 [01:50<00:48,  2.39it/s]"
     ]
    },
    {
     "name": "stdout",
     "output_type": "stream",
     "text": [
      "local Optima\n",
      "y_mean 1.0352904137800587\n",
      "mean_mean 0.8821501422459709\n",
      "abs(round((mean_mean-y_mean)/y_mean)) 0.0\n",
      "local Optima\n",
      "y_mean 1.0352904137800587\n",
      "mean_mean 0.971545225294607\n",
      "abs(round((mean_mean-y_mean)/y_mean)) 0.0\n",
      "local Optima\n",
      "y_mean 3.9693070190945647\n",
      "mean_mean 3.9670733000185283\n",
      "abs(round((mean_mean-y_mean)/y_mean)) 0.0\n",
      "local Optima\n",
      "y_mean 3.9693070190945647\n",
      "mean_mean 3.967073372124123\n",
      "abs(round((mean_mean-y_mean)/y_mean)) 0.0\n"
     ]
    },
    {
     "name": "stderr",
     "output_type": "stream",
     "text": [
      " 68%|██████▊   | 245/358 [01:51<00:49,  2.27it/s]"
     ]
    },
    {
     "name": "stdout",
     "output_type": "stream",
     "text": [
      "local Optima\n",
      "y_mean 1.264479218036285\n",
      "mean_mean 1.198923275415376\n",
      "abs(round((mean_mean-y_mean)/y_mean)) 0.0\n",
      "local Optima\n",
      "y_mean 1.264479218036285\n",
      "mean_mean 1.2070068637700702\n",
      "abs(round((mean_mean-y_mean)/y_mean)) 0.0\n"
     ]
    },
    {
     "name": "stderr",
     "output_type": "stream",
     "text": [
      "\r",
      " 69%|██████▊   | 246/358 [01:51<00:48,  2.32it/s]"
     ]
    },
    {
     "name": "stdout",
     "output_type": "stream",
     "text": [
      "local Optima\n",
      "y_mean 3.865473466879523\n",
      "mean_mean 3.8632605432913207\n",
      "abs(round((mean_mean-y_mean)/y_mean)) 0.0\n",
      "local Optima\n",
      "y_mean 3.865473466879523\n",
      "mean_mean 3.85966194528414\n",
      "abs(round((mean_mean-y_mean)/y_mean)) 0.0\n"
     ]
    },
    {
     "name": "stderr",
     "output_type": "stream",
     "text": [
      "\r",
      " 69%|██████▉   | 247/358 [01:52<00:48,  2.29it/s]"
     ]
    },
    {
     "name": "stdout",
     "output_type": "stream",
     "text": [
      "local Optima\n",
      "y_mean 1.951654379705654\n",
      "mean_mean 1.8539633766784616\n",
      "abs(round((mean_mean-y_mean)/y_mean)) 0.0\n",
      "local Optima\n",
      "y_mean 1.951654379705654\n",
      "mean_mean 1.9050853948522255\n",
      "abs(round((mean_mean-y_mean)/y_mean)) 0.0\n"
     ]
    },
    {
     "name": "stderr",
     "output_type": "stream",
     "text": [
      "\r",
      " 69%|██████▉   | 248/358 [01:52<00:47,  2.32it/s]"
     ]
    },
    {
     "name": "stdout",
     "output_type": "stream",
     "text": [
      "local Optima\n",
      "y_mean 5.0679255817583755\n",
      "mean_mean 5.065324644458301\n",
      "abs(round((mean_mean-y_mean)/y_mean)) 0.0\n",
      "local Optima\n",
      "y_mean 5.0679255817583755\n",
      "mean_mean 5.0653245952332275\n",
      "abs(round((mean_mean-y_mean)/y_mean)) 0.0\n"
     ]
    },
    {
     "name": "stderr",
     "output_type": "stream",
     "text": [
      "\r",
      " 70%|██████▉   | 249/358 [01:52<00:46,  2.37it/s]"
     ]
    },
    {
     "name": "stdout",
     "output_type": "stream",
     "text": [
      "local Optima\n",
      "y_mean 2.6536013888684855\n",
      "mean_mean 2.681056095432106\n",
      "abs(round((mean_mean-y_mean)/y_mean)) 0.0\n",
      "local Optima\n",
      "y_mean 2.6536013888684855\n",
      "mean_mean 2.6226282597874717\n",
      "abs(round((mean_mean-y_mean)/y_mean)) 0.0\n"
     ]
    },
    {
     "name": "stderr",
     "output_type": "stream",
     "text": [
      "\r",
      " 70%|██████▉   | 250/358 [01:53<00:46,  2.34it/s]"
     ]
    },
    {
     "name": "stdout",
     "output_type": "stream",
     "text": [
      "local Optima\n",
      "y_mean 4.901200990062965\n",
      "mean_mean 4.899103259132461\n",
      "abs(round((mean_mean-y_mean)/y_mean)) 0.0\n",
      "local Optima\n",
      "y_mean 4.901200990062965\n",
      "mean_mean 4.899103538192513\n",
      "abs(round((mean_mean-y_mean)/y_mean)) 0.0\n"
     ]
    },
    {
     "name": "stderr",
     "output_type": "stream",
     "text": [
      "\r",
      " 70%|███████   | 251/358 [01:53<00:44,  2.38it/s]"
     ]
    },
    {
     "name": "stdout",
     "output_type": "stream",
     "text": [
      "local Optima\n",
      "y_mean 0.8685104030826868\n",
      "mean_mean 0.9827386995479728\n",
      "abs(round((mean_mean-y_mean)/y_mean)) 0.0\n",
      "local Optima\n",
      "y_mean 0.8685104030826868\n",
      "mean_mean 0.781580261360177\n",
      "abs(round((mean_mean-y_mean)/y_mean)) 0.0\n"
     ]
    },
    {
     "name": "stderr",
     "output_type": "stream",
     "text": [
      "\r",
      " 70%|███████   | 252/358 [01:54<00:44,  2.39it/s]"
     ]
    },
    {
     "name": "stdout",
     "output_type": "stream",
     "text": [
      "local Optima\n",
      "y_mean 3.676472221641168\n",
      "mean_mean 3.668252718207124\n",
      "abs(round((mean_mean-y_mean)/y_mean)) 0.0\n",
      "local Optima\n",
      "y_mean 3.676472221641168\n",
      "mean_mean 3.668252311314952\n",
      "abs(round((mean_mean-y_mean)/y_mean)) 0.0\n"
     ]
    },
    {
     "name": "stderr",
     "output_type": "stream",
     "text": [
      "\r",
      " 71%|███████   | 253/358 [01:54<00:44,  2.36it/s]"
     ]
    },
    {
     "name": "stdout",
     "output_type": "stream",
     "text": [
      "local Optima\n",
      "y_mean 1.037831269011974\n",
      "mean_mean 1.2045012822059347\n",
      "abs(round((mean_mean-y_mean)/y_mean)) 0.0\n",
      "local Optima\n",
      "y_mean 1.037831269011974\n",
      "mean_mean 0.9809239456904173\n",
      "abs(round((mean_mean-y_mean)/y_mean)) 0.0\n"
     ]
    },
    {
     "name": "stderr",
     "output_type": "stream",
     "text": [
      "\r",
      " 71%|███████   | 254/358 [01:55<00:44,  2.32it/s]"
     ]
    },
    {
     "name": "stdout",
     "output_type": "stream",
     "text": [
      "local Optima\n",
      "y_mean 3.7534529872244815\n",
      "mean_mean 3.7484048218268136\n",
      "abs(round((mean_mean-y_mean)/y_mean)) 0.0\n",
      "local Optima\n",
      "y_mean 3.7534529872244815\n",
      "mean_mean 3.748034670233032\n",
      "abs(round((mean_mean-y_mean)/y_mean)) 0.0\n"
     ]
    },
    {
     "name": "stderr",
     "output_type": "stream",
     "text": [
      "\r",
      " 71%|███████   | 255/358 [01:55<00:43,  2.36it/s]"
     ]
    },
    {
     "name": "stdout",
     "output_type": "stream",
     "text": [
      "local Optima\n",
      "y_mean 1.8225813925514593\n",
      "mean_mean 2.0910485655689426\n",
      "abs(round((mean_mean-y_mean)/y_mean)) 0.0\n",
      "local Optima\n",
      "y_mean 1.8225813925514593\n",
      "mean_mean 1.764640513227217\n",
      "abs(round((mean_mean-y_mean)/y_mean)) 0.0\n"
     ]
    },
    {
     "name": "stderr",
     "output_type": "stream",
     "text": [
      "\r",
      " 72%|███████▏  | 256/358 [01:55<00:44,  2.28it/s]"
     ]
    },
    {
     "name": "stdout",
     "output_type": "stream",
     "text": [
      "local Optima\n",
      "y_mean 4.1579899661838535\n",
      "mean_mean 4.155786252480004\n",
      "abs(round((mean_mean-y_mean)/y_mean)) 0.0\n",
      "local Optima\n",
      "y_mean 4.1579899661838535\n",
      "mean_mean 4.155786245617206\n",
      "abs(round((mean_mean-y_mean)/y_mean)) 0.0\n"
     ]
    },
    {
     "name": "stderr",
     "output_type": "stream",
     "text": [
      "\r",
      " 72%|███████▏  | 257/358 [01:56<00:43,  2.31it/s]"
     ]
    },
    {
     "name": "stdout",
     "output_type": "stream",
     "text": [
      "local Optima\n",
      "y_mean 0.9392188335931814\n",
      "mean_mean 0.7366123208411632\n",
      "abs(round((mean_mean-y_mean)/y_mean)) 0.0\n",
      "local Optima\n",
      "y_mean 0.9392188335931814\n",
      "mean_mean 0.8514783299301776\n",
      "abs(round((mean_mean-y_mean)/y_mean)) 0.0\n",
      "local Optima\n",
      "y_mean 4.477072165089478\n",
      "mean_mean 4.475130109548272\n",
      "abs(round((mean_mean-y_mean)/y_mean)) 0.0\n",
      "local Optima\n",
      "y_mean 4.477072165089478\n",
      "mean_mean 4.474862272480821\n",
      "abs(round((mean_mean-y_mean)/y_mean)) 0.0\n"
     ]
    },
    {
     "name": "stderr",
     "output_type": "stream",
     "text": [
      " 72%|███████▏  | 259/358 [01:57<00:43,  2.26it/s]"
     ]
    },
    {
     "name": "stdout",
     "output_type": "stream",
     "text": [
      "local Optima\n",
      "y_mean 1.273202130611889\n",
      "mean_mean 1.0168422117242044\n",
      "abs(round((mean_mean-y_mean)/y_mean)) 0.0\n",
      "local Optima\n",
      "y_mean 1.273202130611889\n",
      "mean_mean 1.1707771714086583\n",
      "abs(round((mean_mean-y_mean)/y_mean)) 0.0\n"
     ]
    },
    {
     "name": "stderr",
     "output_type": "stream",
     "text": [
      "\r",
      " 73%|███████▎  | 260/358 [01:57<00:42,  2.29it/s]"
     ]
    },
    {
     "name": "stdout",
     "output_type": "stream",
     "text": [
      "local Optima\n",
      "y_mean 5.119020297682798\n",
      "mean_mean 5.1167179471798505\n",
      "abs(round((mean_mean-y_mean)/y_mean)) 0.0\n",
      "local Optima\n",
      "y_mean 5.119020297682798\n",
      "mean_mean 5.11671752706483\n",
      "abs(round((mean_mean-y_mean)/y_mean)) 0.0\n"
     ]
    },
    {
     "name": "stderr",
     "output_type": "stream",
     "text": [
      "\r",
      " 73%|███████▎  | 261/358 [01:58<00:41,  2.34it/s]"
     ]
    },
    {
     "name": "stdout",
     "output_type": "stream",
     "text": [
      "local Optima\n",
      "y_mean 1.692418398024893\n",
      "mean_mean 1.5424844684436605\n",
      "abs(round((mean_mean-y_mean)/y_mean)) 0.0\n",
      "local Optima\n",
      "y_mean 1.692418398024893\n",
      "mean_mean 1.604504373287941\n",
      "abs(round((mean_mean-y_mean)/y_mean)) 0.0\n"
     ]
    },
    {
     "name": "stderr",
     "output_type": "stream",
     "text": [
      "\r",
      " 73%|███████▎  | 262/358 [01:58<00:41,  2.33it/s]"
     ]
    },
    {
     "name": "stdout",
     "output_type": "stream",
     "text": [
      "local Optima\n",
      "y_mean 5.325028701846388\n",
      "mean_mean 5.3236593371479755\n",
      "abs(round((mean_mean-y_mean)/y_mean)) 0.0\n",
      "local Optima\n",
      "y_mean 5.325028701846388\n",
      "mean_mean 5.323659356234528\n",
      "abs(round((mean_mean-y_mean)/y_mean)) 0.0\n"
     ]
    },
    {
     "name": "stderr",
     "output_type": "stream",
     "text": [
      "\r",
      " 73%|███████▎  | 263/358 [01:58<00:40,  2.36it/s]"
     ]
    },
    {
     "name": "stdout",
     "output_type": "stream",
     "text": [
      "local Optima\n",
      "y_mean 1.5746047310046547\n",
      "mean_mean 1.3538524770045748\n",
      "abs(round((mean_mean-y_mean)/y_mean)) 0.0\n",
      "local Optima\n",
      "y_mean 1.5746047310046547\n",
      "mean_mean 1.4442024775866602\n",
      "abs(round((mean_mean-y_mean)/y_mean)) 0.0\n"
     ]
    },
    {
     "name": "stderr",
     "output_type": "stream",
     "text": [
      "\r",
      " 74%|███████▎  | 264/358 [01:59<00:39,  2.36it/s]"
     ]
    },
    {
     "name": "stdout",
     "output_type": "stream",
     "text": [
      "local Optima\n",
      "y_mean 5.668662360526468\n",
      "mean_mean 5.66648567938527\n",
      "abs(round((mean_mean-y_mean)/y_mean)) 0.0\n",
      "local Optima\n",
      "y_mean 5.668662360526468\n",
      "mean_mean 5.666271385155398\n",
      "abs(round((mean_mean-y_mean)/y_mean)) 0.0\n"
     ]
    },
    {
     "name": "stderr",
     "output_type": "stream",
     "text": [
      "\r",
      " 74%|███████▍  | 265/358 [01:59<00:39,  2.38it/s]"
     ]
    },
    {
     "name": "stdout",
     "output_type": "stream",
     "text": [
      "local Optima\n",
      "y_mean 1.8466113313856303\n",
      "mean_mean 1.8085978736307333\n",
      "abs(round((mean_mean-y_mean)/y_mean)) 0.0\n",
      "local Optima\n",
      "y_mean 1.8466113313856303\n",
      "mean_mean 1.7536499656765594\n",
      "abs(round((mean_mean-y_mean)/y_mean)) 0.0\n",
      "Fit Cholesky decomposition was not successful.\n"
     ]
    },
    {
     "name": "stderr",
     "output_type": "stream",
     "text": [
      "\r",
      " 74%|███████▍  | 266/358 [02:00<00:47,  1.92it/s]"
     ]
    },
    {
     "name": "stdout",
     "output_type": "stream",
     "text": [
      "local Optima\n",
      "y_mean 5.45085715999133\n",
      "mean_mean 5.448598667720311\n",
      "abs(round((mean_mean-y_mean)/y_mean)) 0.0\n",
      "local Optima\n",
      "y_mean 5.45085715999133\n",
      "mean_mean 5.448598667720311\n",
      "abs(round((mean_mean-y_mean)/y_mean)) 0.0\n",
      "local Optima\n",
      "y_mean 5.45085715999133\n",
      "mean_mean 5.44859896456942\n",
      "abs(round((mean_mean-y_mean)/y_mean)) 0.0\n"
     ]
    },
    {
     "name": "stderr",
     "output_type": "stream",
     "text": [
      "\r",
      " 75%|███████▍  | 267/358 [02:00<00:44,  2.04it/s]"
     ]
    },
    {
     "name": "stdout",
     "output_type": "stream",
     "text": [
      "local Optima\n",
      "y_mean 1.9156032389633384\n",
      "mean_mean 1.9073370328294343\n",
      "abs(round((mean_mean-y_mean)/y_mean)) 0.0\n",
      "local Optima\n",
      "y_mean 1.9156032389633384\n",
      "mean_mean 1.8526016546346387\n",
      "abs(round((mean_mean-y_mean)/y_mean)) 0.0\n"
     ]
    },
    {
     "name": "stderr",
     "output_type": "stream",
     "text": [
      "\r",
      " 75%|███████▍  | 268/358 [02:01<00:42,  2.12it/s]"
     ]
    },
    {
     "name": "stdout",
     "output_type": "stream",
     "text": [
      "local Optima\n",
      "y_mean 5.283616975757762\n",
      "mean_mean 5.282169155214138\n",
      "abs(round((mean_mean-y_mean)/y_mean)) 0.0\n",
      "local Optima\n",
      "y_mean 5.283616975757762\n",
      "mean_mean 5.282169107807135\n",
      "abs(round((mean_mean-y_mean)/y_mean)) 0.0\n"
     ]
    },
    {
     "name": "stderr",
     "output_type": "stream",
     "text": [
      "\r",
      " 75%|███████▌  | 269/358 [02:01<00:40,  2.22it/s]"
     ]
    },
    {
     "name": "stdout",
     "output_type": "stream",
     "text": [
      "local Optima\n",
      "y_mean 1.3283706599286496\n",
      "mean_mean 1.0149813635383835\n",
      "abs(round((mean_mean-y_mean)/y_mean)) 0.0\n",
      "local Optima\n",
      "y_mean 1.3283706599286496\n",
      "mean_mean 1.1939580403700678\n",
      "abs(round((mean_mean-y_mean)/y_mean)) 0.0\n"
     ]
    },
    {
     "name": "stderr",
     "output_type": "stream",
     "text": [
      "\r",
      " 75%|███████▌  | 270/358 [02:02<00:38,  2.26it/s]"
     ]
    },
    {
     "name": "stdout",
     "output_type": "stream",
     "text": [
      "local Optima\n",
      "y_mean 5.440823752520939\n",
      "mean_mean 5.435746593808517\n",
      "abs(round((mean_mean-y_mean)/y_mean)) 0.0\n",
      "local Optima\n",
      "y_mean 5.440823752520939\n",
      "mean_mean 5.435746740683029\n",
      "abs(round((mean_mean-y_mean)/y_mean)) 0.0\n"
     ]
    },
    {
     "name": "stderr",
     "output_type": "stream",
     "text": [
      "\r",
      " 76%|███████▌  | 271/358 [02:02<00:37,  2.34it/s]"
     ]
    },
    {
     "name": "stdout",
     "output_type": "stream",
     "text": [
      "local Optima\n",
      "y_mean 1.6860417862535233\n",
      "mean_mean 1.542755511663224\n",
      "abs(round((mean_mean-y_mean)/y_mean)) 0.0\n",
      "local Optima\n",
      "y_mean 1.6860417862535233\n",
      "mean_mean 1.5985148784683927\n",
      "abs(round((mean_mean-y_mean)/y_mean)) 0.0\n"
     ]
    },
    {
     "name": "stderr",
     "output_type": "stream",
     "text": [
      "\r",
      " 76%|███████▌  | 272/358 [02:02<00:36,  2.38it/s]"
     ]
    },
    {
     "name": "stdout",
     "output_type": "stream",
     "text": [
      "local Optima\n",
      "y_mean 5.509900314399594\n",
      "mean_mean 5.508300961992522\n",
      "abs(round((mean_mean-y_mean)/y_mean)) 0.0\n",
      "local Optima\n",
      "y_mean 5.509900314399594\n",
      "mean_mean 5.5081620281996235\n",
      "abs(round((mean_mean-y_mean)/y_mean)) 0.0\n"
     ]
    },
    {
     "name": "stderr",
     "output_type": "stream",
     "text": [
      "\r",
      " 76%|███████▋  | 273/358 [02:03<00:35,  2.40it/s]"
     ]
    },
    {
     "name": "stdout",
     "output_type": "stream",
     "text": [
      "local Optima\n",
      "y_mean 1.8095199387301806\n",
      "mean_mean 1.677274651843413\n",
      "abs(round((mean_mean-y_mean)/y_mean)) 0.0\n",
      "local Optima\n",
      "y_mean 1.8095199387301806\n",
      "mean_mean 1.7507954887572463\n",
      "abs(round((mean_mean-y_mean)/y_mean)) 0.0\n"
     ]
    },
    {
     "name": "stderr",
     "output_type": "stream",
     "text": [
      "\r",
      " 77%|███████▋  | 274/358 [02:03<00:34,  2.41it/s]"
     ]
    },
    {
     "name": "stdout",
     "output_type": "stream",
     "text": [
      "local Optima\n",
      "y_mean 5.253684737915899\n",
      "mean_mean 5.252220792468006\n",
      "abs(round((mean_mean-y_mean)/y_mean)) 0.0\n",
      "local Optima\n",
      "y_mean 5.253684737915899\n",
      "mean_mean 5.252004279434134\n",
      "abs(round((mean_mean-y_mean)/y_mean)) 0.0\n"
     ]
    },
    {
     "name": "stderr",
     "output_type": "stream",
     "text": [
      "\r",
      " 77%|███████▋  | 275/358 [02:04<00:34,  2.44it/s]"
     ]
    },
    {
     "name": "stdout",
     "output_type": "stream",
     "text": [
      "local Optima\n",
      "y_mean 1.0386284232682916\n",
      "mean_mean 0.7558951180100084\n",
      "abs(round((mean_mean-y_mean)/y_mean)) 0.0\n",
      "local Optima\n",
      "y_mean 1.0386284232682916\n",
      "mean_mean 0.9368199465245532\n",
      "abs(round((mean_mean-y_mean)/y_mean)) 0.0\n"
     ]
    },
    {
     "name": "stderr",
     "output_type": "stream",
     "text": [
      "\r",
      " 77%|███████▋  | 276/358 [02:04<00:33,  2.44it/s]"
     ]
    },
    {
     "name": "stdout",
     "output_type": "stream",
     "text": [
      "local Optima\n",
      "y_mean 4.269227144520982\n",
      "mean_mean 4.209383057826042\n",
      "abs(round((mean_mean-y_mean)/y_mean)) 0.0\n",
      "local Optima\n",
      "y_mean 4.269227144520982\n",
      "mean_mean 4.264176535500658\n",
      "abs(round((mean_mean-y_mean)/y_mean)) 0.0\n"
     ]
    },
    {
     "name": "stderr",
     "output_type": "stream",
     "text": [
      "\r",
      " 77%|███████▋  | 277/358 [02:05<00:33,  2.43it/s]"
     ]
    },
    {
     "name": "stdout",
     "output_type": "stream",
     "text": [
      "local Optima\n",
      "y_mean 1.5996434074138295\n",
      "mean_mean 1.38591170120389\n",
      "abs(round((mean_mean-y_mean)/y_mean)) 0.0\n",
      "local Optima\n",
      "y_mean 1.5996434074138295\n",
      "mean_mean 1.5318216203221502\n",
      "abs(round((mean_mean-y_mean)/y_mean)) 0.0\n",
      "local Optima\n",
      "y_mean 5.0263473681269994\n",
      "mean_mean 5.023503282472097\n",
      "abs(round((mean_mean-y_mean)/y_mean)) 0.0\n",
      "local Optima\n",
      "y_mean 5.0263473681269994\n",
      "mean_mean 5.022396155446264\n",
      "abs(round((mean_mean-y_mean)/y_mean)) 0.0\n"
     ]
    },
    {
     "name": "stderr",
     "output_type": "stream",
     "text": [
      " 78%|███████▊  | 279/358 [02:05<00:33,  2.35it/s]"
     ]
    },
    {
     "name": "stdout",
     "output_type": "stream",
     "text": [
      "local Optima\n",
      "y_mean 1.577530005717363\n",
      "mean_mean 1.4849440689689979\n",
      "abs(round((mean_mean-y_mean)/y_mean)) 0.0\n",
      "local Optima\n",
      "y_mean 1.577530005717363\n",
      "mean_mean 1.5181954663911148\n",
      "abs(round((mean_mean-y_mean)/y_mean)) 0.0\n"
     ]
    },
    {
     "name": "stderr",
     "output_type": "stream",
     "text": [
      "\r",
      " 78%|███████▊  | 280/358 [02:06<00:33,  2.36it/s]"
     ]
    },
    {
     "name": "stdout",
     "output_type": "stream",
     "text": [
      "local Optima\n",
      "y_mean 4.931525377966994\n",
      "mean_mean 4.929321351664215\n",
      "abs(round((mean_mean-y_mean)/y_mean)) 0.0\n",
      "local Optima\n",
      "y_mean 4.931525377966994\n",
      "mean_mean 4.9284388640171395\n",
      "abs(round((mean_mean-y_mean)/y_mean)) 0.0\n"
     ]
    },
    {
     "name": "stderr",
     "output_type": "stream",
     "text": [
      "\r",
      " 78%|███████▊  | 281/358 [02:06<00:31,  2.44it/s]"
     ]
    },
    {
     "name": "stdout",
     "output_type": "stream",
     "text": [
      "local Optima\n",
      "y_mean 1.8339563103668541\n",
      "mean_mean 1.8115488609549533\n",
      "abs(round((mean_mean-y_mean)/y_mean)) 0.0\n",
      "local Optima\n",
      "y_mean 1.8339563103668541\n",
      "mean_mean 1.7323305012889099\n",
      "abs(round((mean_mean-y_mean)/y_mean)) 0.0\n"
     ]
    },
    {
     "name": "stderr",
     "output_type": "stream",
     "text": [
      "\r",
      " 79%|███████▉  | 282/358 [02:07<00:31,  2.40it/s]"
     ]
    },
    {
     "name": "stdout",
     "output_type": "stream",
     "text": [
      "local Optima\n",
      "y_mean 5.644077065661584\n",
      "mean_mean 5.642022617129908\n",
      "abs(round((mean_mean-y_mean)/y_mean)) 0.0\n",
      "local Optima\n",
      "y_mean 5.644077065661584\n",
      "mean_mean 5.642023121408985\n",
      "abs(round((mean_mean-y_mean)/y_mean)) 0.0\n"
     ]
    },
    {
     "name": "stderr",
     "output_type": "stream",
     "text": [
      "\r",
      " 79%|███████▉  | 283/358 [02:07<00:31,  2.41it/s]"
     ]
    },
    {
     "name": "stdout",
     "output_type": "stream",
     "text": [
      "local Optima\n",
      "y_mean 1.5981180571694253\n",
      "mean_mean 1.5621965742547865\n",
      "abs(round((mean_mean-y_mean)/y_mean)) 0.0\n",
      "local Optima\n",
      "y_mean 1.5981180571694253\n",
      "mean_mean 1.5148768068758962\n",
      "abs(round((mean_mean-y_mean)/y_mean)) 0.0\n"
     ]
    },
    {
     "name": "stderr",
     "output_type": "stream",
     "text": [
      "\r",
      " 79%|███████▉  | 284/358 [02:08<00:31,  2.38it/s]"
     ]
    },
    {
     "name": "stdout",
     "output_type": "stream",
     "text": [
      "local Optima\n",
      "y_mean 5.037203563045472\n",
      "mean_mean 5.035269461080319\n",
      "abs(round((mean_mean-y_mean)/y_mean)) 0.0\n",
      "local Optima\n",
      "y_mean 5.037203563045472\n",
      "mean_mean 5.035269613551166\n",
      "abs(round((mean_mean-y_mean)/y_mean)) 0.0\n"
     ]
    },
    {
     "name": "stderr",
     "output_type": "stream",
     "text": [
      "\r",
      " 80%|███████▉  | 285/358 [02:08<00:30,  2.37it/s]"
     ]
    },
    {
     "name": "stdout",
     "output_type": "stream",
     "text": [
      "local Optima\n",
      "y_mean 1.9747906305013951\n",
      "mean_mean 1.999501002638171\n",
      "abs(round((mean_mean-y_mean)/y_mean)) 0.0\n",
      "local Optima\n",
      "y_mean 1.9747906305013951\n",
      "mean_mean 1.9292822954486666\n",
      "abs(round((mean_mean-y_mean)/y_mean)) 0.0\n"
     ]
    },
    {
     "name": "stderr",
     "output_type": "stream",
     "text": [
      "\r",
      " 80%|███████▉  | 286/358 [02:08<00:30,  2.38it/s]"
     ]
    },
    {
     "name": "stdout",
     "output_type": "stream",
     "text": [
      "local Optima\n",
      "y_mean 4.9736351908967\n",
      "mean_mean 4.972497003812976\n",
      "abs(round((mean_mean-y_mean)/y_mean)) 0.0\n",
      "local Optima\n",
      "y_mean 4.9736351908967\n",
      "mean_mean 4.972497046903325\n",
      "abs(round((mean_mean-y_mean)/y_mean)) 0.0\n",
      "local Optima\n",
      "y_mean 1.0451573341642708\n",
      "mean_mean 1.1424906538341064\n",
      "abs(round((mean_mean-y_mean)/y_mean)) 0.0\n"
     ]
    },
    {
     "name": "stderr",
     "output_type": "stream",
     "text": [
      "\r",
      " 80%|████████  | 287/358 [02:09<00:31,  2.28it/s]"
     ]
    },
    {
     "name": "stdout",
     "output_type": "stream",
     "text": [
      "local Optima\n",
      "y_mean 1.0451573341642708\n",
      "mean_mean 0.9323026300095966\n",
      "abs(round((mean_mean-y_mean)/y_mean)) 0.0\n",
      "local Optima\n",
      "y_mean 4.886353045544226\n",
      "mean_mean 4.896486981541363\n",
      "abs(round((mean_mean-y_mean)/y_mean)) 0.0\n",
      "local Optima\n",
      "y_mean 4.886353045544226\n",
      "mean_mean 4.8820635597717414\n",
      "abs(round((mean_mean-y_mean)/y_mean)) 0.0\n"
     ]
    },
    {
     "name": "stderr",
     "output_type": "stream",
     "text": [
      "\r",
      " 80%|████████  | 288/358 [02:09<00:31,  2.25it/s]"
     ]
    },
    {
     "name": "stdout",
     "output_type": "stream",
     "text": [
      "local Optima\n",
      "y_mean 1.6931925537806916\n",
      "mean_mean 1.6651160019225486\n",
      "abs(round((mean_mean-y_mean)/y_mean)) 0.0\n"
     ]
    },
    {
     "name": "stderr",
     "output_type": "stream",
     "text": [
      "\r",
      " 81%|████████  | 289/358 [02:10<00:31,  2.22it/s]"
     ]
    },
    {
     "name": "stdout",
     "output_type": "stream",
     "text": [
      "local Optima\n",
      "y_mean 1.6931925537806916\n",
      "mean_mean 1.6109957486870479\n",
      "abs(round((mean_mean-y_mean)/y_mean)) 0.0\n"
     ]
    },
    {
     "name": "stderr",
     "output_type": "stream",
     "text": [
      "\r",
      " 81%|████████  | 290/358 [02:10<00:31,  2.17it/s]"
     ]
    },
    {
     "name": "stdout",
     "output_type": "stream",
     "text": [
      "local Optima\n",
      "y_mean 5.542976530619232\n",
      "mean_mean 5.543044856711781\n",
      "abs(round((mean_mean-y_mean)/y_mean)) 0.0\n",
      "local Optima\n",
      "y_mean 5.542976530619232\n",
      "mean_mean 5.541659570809717\n",
      "abs(round((mean_mean-y_mean)/y_mean)) 0.0\n",
      "local Optima\n",
      "y_mean 1.7730646046291716\n",
      "mean_mean 1.7525243774545745\n",
      "abs(round((mean_mean-y_mean)/y_mean)) 0.0\n"
     ]
    },
    {
     "name": "stderr",
     "output_type": "stream",
     "text": [
      "\r",
      " 81%|████████▏ | 291/358 [02:11<00:31,  2.13it/s]"
     ]
    },
    {
     "name": "stdout",
     "output_type": "stream",
     "text": [
      "local Optima\n",
      "y_mean 1.7730646046291716\n",
      "mean_mean 1.7141935229932599\n",
      "abs(round((mean_mean-y_mean)/y_mean)) 0.0\n",
      "local Optima\n",
      "y_mean 5.375495232025802\n",
      "mean_mean 5.375454465729211\n",
      "abs(round((mean_mean-y_mean)/y_mean)) 0.0\n"
     ]
    },
    {
     "name": "stderr",
     "output_type": "stream",
     "text": [
      "\r",
      " 82%|████████▏ | 292/358 [02:11<00:31,  2.12it/s]"
     ]
    },
    {
     "name": "stdout",
     "output_type": "stream",
     "text": [
      "local Optima\n",
      "y_mean 5.375495232025802\n",
      "mean_mean 5.374706940993893\n",
      "abs(round((mean_mean-y_mean)/y_mean)) 0.0\n"
     ]
    },
    {
     "name": "stderr",
     "output_type": "stream",
     "text": [
      "\r",
      " 82%|████████▏ | 293/358 [02:12<00:30,  2.13it/s]"
     ]
    },
    {
     "name": "stdout",
     "output_type": "stream",
     "text": [
      "local Optima\n",
      "y_mean 0.8247167431994683\n",
      "mean_mean 0.8426944072635776\n",
      "abs(round((mean_mean-y_mean)/y_mean)) 0.0\n",
      "local Optima\n",
      "y_mean 0.8247167431994683\n",
      "mean_mean 0.7694065584821902\n",
      "abs(round((mean_mean-y_mean)/y_mean)) 0.0\n",
      "local Optima\n",
      "y_mean 3.207948214326283\n",
      "mean_mean 3.20422288599717\n",
      "abs(round((mean_mean-y_mean)/y_mean)) 0.0\n",
      "local Optima\n",
      "y_mean 3.207948214326283\n",
      "mean_mean 3.204223933744868\n",
      "abs(round((mean_mean-y_mean)/y_mean)) 0.0\n"
     ]
    },
    {
     "name": "stderr",
     "output_type": "stream",
     "text": [
      "\r",
      " 82%|████████▏ | 294/358 [02:12<00:30,  2.11it/s]"
     ]
    },
    {
     "name": "stdout",
     "output_type": "stream",
     "text": [
      "local Optima\n",
      "y_mean 0.9554791906708703\n",
      "mean_mean 0.8461325615904194\n",
      "abs(round((mean_mean-y_mean)/y_mean)) 0.0\n",
      "local Optima\n",
      "y_mean 0.9554791906708703\n",
      "mean_mean 0.8461210625765528\n",
      "abs(round((mean_mean-y_mean)/y_mean)) 0.0\n"
     ]
    },
    {
     "name": "stderr",
     "output_type": "stream",
     "text": [
      "\r",
      " 82%|████████▏ | 295/358 [02:13<00:29,  2.16it/s]"
     ]
    },
    {
     "name": "stdout",
     "output_type": "stream",
     "text": [
      "local Optima\n",
      "y_mean 5.620349438916761\n",
      "mean_mean 5.617323970975702\n",
      "abs(round((mean_mean-y_mean)/y_mean)) 0.0\n"
     ]
    },
    {
     "name": "stderr",
     "output_type": "stream",
     "text": [
      "\r",
      " 83%|████████▎ | 296/358 [02:13<00:29,  2.11it/s]"
     ]
    },
    {
     "name": "stdout",
     "output_type": "stream",
     "text": [
      "local Optima\n",
      "y_mean 5.620349438916761\n",
      "mean_mean 5.617324652794691\n",
      "abs(round((mean_mean-y_mean)/y_mean)) 0.0\n"
     ]
    },
    {
     "name": "stderr",
     "output_type": "stream",
     "text": [
      "\r",
      " 83%|████████▎ | 297/358 [02:13<00:27,  2.21it/s]"
     ]
    },
    {
     "name": "stdout",
     "output_type": "stream",
     "text": [
      "local Optima\n",
      "y_mean 1.4499021265459726\n",
      "mean_mean 1.3727641694315584\n",
      "abs(round((mean_mean-y_mean)/y_mean)) 0.0\n",
      "local Optima\n",
      "y_mean 1.4499021265459726\n",
      "mean_mean 1.3646856468643087\n",
      "abs(round((mean_mean-y_mean)/y_mean)) 0.0\n",
      "local Optima\n",
      "y_mean 5.495668322109748\n",
      "mean_mean 5.493934274509888\n",
      "abs(round((mean_mean-y_mean)/y_mean)) 0.0\n"
     ]
    },
    {
     "name": "stderr",
     "output_type": "stream",
     "text": [
      "\r",
      " 83%|████████▎ | 298/358 [02:14<00:29,  2.02it/s]"
     ]
    },
    {
     "name": "stdout",
     "output_type": "stream",
     "text": [
      "local Optima\n",
      "y_mean 5.495668322109748\n",
      "mean_mean 5.49393434891783\n",
      "abs(round((mean_mean-y_mean)/y_mean)) 0.0\n"
     ]
    },
    {
     "name": "stderr",
     "output_type": "stream",
     "text": [
      "\r",
      " 84%|████████▎ | 299/358 [02:15<00:28,  2.09it/s]"
     ]
    },
    {
     "name": "stdout",
     "output_type": "stream",
     "text": [
      "local Optima\n",
      "y_mean 0.8772572801978303\n",
      "mean_mean 0.5788781065340767\n",
      "abs(round((mean_mean-y_mean)/y_mean)) 0.0\n",
      "local Optima\n",
      "y_mean 0.8772572801978303\n",
      "mean_mean 0.734223328615843\n",
      "abs(round((mean_mean-y_mean)/y_mean)) 0.0\n",
      "local Optima\n",
      "y_mean 5.2035738149510955\n",
      "mean_mean 5.199266828199947\n",
      "abs(round((mean_mean-y_mean)/y_mean)) 0.0\n"
     ]
    },
    {
     "name": "stderr",
     "output_type": "stream",
     "text": [
      "\r",
      " 84%|████████▍ | 300/358 [02:15<00:27,  2.09it/s]"
     ]
    },
    {
     "name": "stdout",
     "output_type": "stream",
     "text": [
      "local Optima\n",
      "y_mean 5.2035738149510955\n",
      "mean_mean 5.199266618576872\n",
      "abs(round((mean_mean-y_mean)/y_mean)) 0.0\n"
     ]
    },
    {
     "name": "stderr",
     "output_type": "stream",
     "text": [
      "\r",
      " 84%|████████▍ | 301/358 [02:15<00:26,  2.18it/s]"
     ]
    },
    {
     "name": "stdout",
     "output_type": "stream",
     "text": [
      "local Optima\n",
      "y_mean 1.5979881192489689\n",
      "mean_mean 1.5013831403126274\n",
      "abs(round((mean_mean-y_mean)/y_mean)) 0.0\n",
      "local Optima\n",
      "y_mean 1.5979881192489689\n",
      "mean_mean 1.5024551995574411\n",
      "abs(round((mean_mean-y_mean)/y_mean)) 0.0\n"
     ]
    },
    {
     "name": "stderr",
     "output_type": "stream",
     "text": [
      "\r",
      " 84%|████████▍ | 302/358 [02:16<00:25,  2.18it/s]"
     ]
    },
    {
     "name": "stdout",
     "output_type": "stream",
     "text": [
      "local Optima\n",
      "y_mean 5.451108529905358\n",
      "mean_mean 5.449383092404568\n",
      "abs(round((mean_mean-y_mean)/y_mean)) 0.0\n",
      "local Optima\n",
      "y_mean 5.451108529905358\n",
      "mean_mean 5.448961799232357\n",
      "abs(round((mean_mean-y_mean)/y_mean)) 0.0\n"
     ]
    },
    {
     "name": "stderr",
     "output_type": "stream",
     "text": [
      "\r",
      " 85%|████████▍ | 303/358 [02:16<00:24,  2.21it/s]"
     ]
    },
    {
     "name": "stdout",
     "output_type": "stream",
     "text": [
      "local Optima\n",
      "y_mean 1.7543294052779064\n",
      "mean_mean 1.6649299841319525\n",
      "abs(round((mean_mean-y_mean)/y_mean)) 0.0\n",
      "local Optima\n",
      "y_mean 1.7543294052779064\n",
      "mean_mean 1.6640445093776217\n",
      "abs(round((mean_mean-y_mean)/y_mean)) 0.0\n"
     ]
    },
    {
     "name": "stderr",
     "output_type": "stream",
     "text": [
      "\r",
      " 85%|████████▍ | 304/358 [02:17<00:23,  2.27it/s]"
     ]
    },
    {
     "name": "stdout",
     "output_type": "stream",
     "text": [
      "local Optima\n",
      "y_mean 5.420825331655762\n",
      "mean_mean 5.4195655379551715\n",
      "abs(round((mean_mean-y_mean)/y_mean)) 0.0\n",
      "local Optima\n",
      "y_mean 5.420825331655762\n",
      "mean_mean 5.419528106789049\n",
      "abs(round((mean_mean-y_mean)/y_mean)) 0.0\n"
     ]
    },
    {
     "name": "stderr",
     "output_type": "stream",
     "text": [
      "\r",
      " 85%|████████▌ | 305/358 [02:17<00:22,  2.31it/s]"
     ]
    },
    {
     "name": "stdout",
     "output_type": "stream",
     "text": [
      "local Optima\n",
      "y_mean 0.9999975621874485\n",
      "mean_mean 1.127822154520534\n",
      "abs(round((mean_mean-y_mean)/y_mean)) 0.0\n",
      "local Optima\n",
      "y_mean 0.9999975621874485\n",
      "mean_mean 0.9143779068661696\n",
      "abs(round((mean_mean-y_mean)/y_mean)) 0.0\n"
     ]
    },
    {
     "name": "stderr",
     "output_type": "stream",
     "text": [
      "\r",
      " 85%|████████▌ | 306/358 [02:18<00:22,  2.29it/s]"
     ]
    },
    {
     "name": "stdout",
     "output_type": "stream",
     "text": [
      "local Optima\n",
      "y_mean 4.746056457275884\n",
      "mean_mean 4.742819755156131\n",
      "abs(round((mean_mean-y_mean)/y_mean)) 0.0\n",
      "local Optima\n",
      "y_mean 4.746056457275884\n",
      "mean_mean 4.742820213681306\n",
      "abs(round((mean_mean-y_mean)/y_mean)) 0.0\n"
     ]
    },
    {
     "name": "stderr",
     "output_type": "stream",
     "text": [
      "\r",
      " 86%|████████▌ | 307/358 [02:18<00:21,  2.37it/s]"
     ]
    },
    {
     "name": "stdout",
     "output_type": "stream",
     "text": [
      "local Optima\n",
      "y_mean 1.2656820040974293\n",
      "mean_mean 1.4582626558283414\n",
      "abs(round((mean_mean-y_mean)/y_mean)) 0.0\n",
      "local Optima\n",
      "y_mean 1.2656820040974293\n",
      "mean_mean 1.1922182993349684\n",
      "abs(round((mean_mean-y_mean)/y_mean)) 0.0\n"
     ]
    },
    {
     "name": "stderr",
     "output_type": "stream",
     "text": [
      "\r",
      " 86%|████████▌ | 308/358 [02:18<00:22,  2.23it/s]"
     ]
    },
    {
     "name": "stdout",
     "output_type": "stream",
     "text": [
      "local Optima\n",
      "y_mean 4.681753750196973\n",
      "mean_mean 4.679414919159236\n",
      "abs(round((mean_mean-y_mean)/y_mean)) 0.0\n",
      "local Optima\n",
      "y_mean 4.681753750196973\n",
      "mean_mean 4.679406384634914\n",
      "abs(round((mean_mean-y_mean)/y_mean)) 0.0\n"
     ]
    },
    {
     "name": "stderr",
     "output_type": "stream",
     "text": [
      "\r",
      " 86%|████████▋ | 309/358 [02:19<00:21,  2.25it/s]"
     ]
    },
    {
     "name": "stdout",
     "output_type": "stream",
     "text": [
      "local Optima\n",
      "y_mean 1.883661546703471\n",
      "mean_mean 2.186678794546989\n",
      "abs(round((mean_mean-y_mean)/y_mean)) 0.0\n",
      "local Optima\n",
      "y_mean 1.883661546703471\n",
      "mean_mean 1.822724619140821\n",
      "abs(round((mean_mean-y_mean)/y_mean)) 0.0\n",
      "local Optima\n",
      "y_mean 5.214285829888026\n",
      "mean_mean 5.213190002042969\n",
      "abs(round((mean_mean-y_mean)/y_mean)) 0.0\n",
      "local Optima\n",
      "y_mean 5.214285829888026\n",
      "mean_mean 5.213190006901539\n",
      "abs(round((mean_mean-y_mean)/y_mean)) 0.0\n"
     ]
    },
    {
     "name": "stderr",
     "output_type": "stream",
     "text": [
      "\r",
      " 87%|████████▋ | 310/358 [02:19<00:21,  2.20it/s]"
     ]
    },
    {
     "name": "stdout",
     "output_type": "stream",
     "text": [
      "local Optima\n",
      "y_mean 1.2543709952781994\n",
      "mean_mean 1.3645959111191472\n",
      "abs(round((mean_mean-y_mean)/y_mean)) 0.0\n"
     ]
    },
    {
     "name": "stderr",
     "output_type": "stream",
     "text": [
      "\r",
      " 87%|████████▋ | 311/358 [02:20<00:21,  2.20it/s]"
     ]
    },
    {
     "name": "stdout",
     "output_type": "stream",
     "text": [
      "local Optima\n",
      "y_mean 1.2543709952781994\n",
      "mean_mean 1.1555022284509453\n",
      "abs(round((mean_mean-y_mean)/y_mean)) 0.0\n",
      "local Optima\n",
      "y_mean 4.882752940019858\n",
      "mean_mean 4.879133475380939\n",
      "abs(round((mean_mean-y_mean)/y_mean)) 0.0\n",
      "local Optima\n",
      "y_mean 4.882752940019858\n",
      "mean_mean 4.879138655803787\n",
      "abs(round((mean_mean-y_mean)/y_mean)) 0.0\n"
     ]
    },
    {
     "name": "stderr",
     "output_type": "stream",
     "text": [
      "\r",
      " 87%|████████▋ | 312/358 [02:20<00:20,  2.20it/s]"
     ]
    },
    {
     "name": "stdout",
     "output_type": "stream",
     "text": [
      "local Optima\n",
      "y_mean 1.5339771839660616\n",
      "mean_mean 1.4641348485006334\n",
      "abs(round((mean_mean-y_mean)/y_mean)) 0.0\n",
      "local Optima\n",
      "y_mean 1.5339771839660616\n",
      "mean_mean 1.47834901990904\n",
      "abs(round((mean_mean-y_mean)/y_mean)) 0.0\n"
     ]
    },
    {
     "name": "stderr",
     "output_type": "stream",
     "text": [
      " 88%|████████▊ | 314/358 [02:21<00:19,  2.23it/s]"
     ]
    },
    {
     "name": "stdout",
     "output_type": "stream",
     "text": [
      "local Optima\n",
      "y_mean 4.593829457123764\n",
      "mean_mean 4.591473986370579\n",
      "abs(round((mean_mean-y_mean)/y_mean)) 0.0\n",
      "local Optima\n",
      "y_mean 4.593829457123764\n",
      "mean_mean 4.59147199291742\n",
      "abs(round((mean_mean-y_mean)/y_mean)) 0.0\n"
     ]
    },
    {
     "name": "stderr",
     "output_type": "stream",
     "text": [
      "\r",
      " 88%|████████▊ | 315/358 [02:22<00:18,  2.30it/s]"
     ]
    },
    {
     "name": "stdout",
     "output_type": "stream",
     "text": [
      "local Optima\n",
      "y_mean 1.4371414026866323\n",
      "mean_mean 1.41824019053018\n",
      "abs(round((mean_mean-y_mean)/y_mean)) 0.0\n",
      "local Optima\n",
      "y_mean 1.4371414026866323\n",
      "mean_mean 1.3984319451846243\n",
      "abs(round((mean_mean-y_mean)/y_mean)) 0.0\n",
      "local Optima\n",
      "y_mean 4.3184077584668055\n",
      "mean_mean 4.316301366691461\n",
      "abs(round((mean_mean-y_mean)/y_mean)) 0.0\n"
     ]
    },
    {
     "name": "stderr",
     "output_type": "stream",
     "text": [
      "\r",
      " 88%|████████▊ | 316/358 [02:22<00:18,  2.22it/s]"
     ]
    },
    {
     "name": "stdout",
     "output_type": "stream",
     "text": [
      "local Optima\n",
      "y_mean 4.3184077584668055\n",
      "mean_mean 4.316301585559429\n",
      "abs(round((mean_mean-y_mean)/y_mean)) 0.0\n",
      "local Optima\n",
      "y_mean 0.7180103095615481\n",
      "mean_mean 0.5974155761629522\n",
      "abs(round((mean_mean-y_mean)/y_mean)) 0.0\n"
     ]
    },
    {
     "name": "stderr",
     "output_type": "stream",
     "text": [
      "\r",
      " 89%|████████▊ | 317/358 [02:23<00:18,  2.20it/s]"
     ]
    },
    {
     "name": "stdout",
     "output_type": "stream",
     "text": [
      "local Optima\n",
      "y_mean 0.7180103095615481\n",
      "mean_mean 0.5839083025790717\n",
      "abs(round((mean_mean-y_mean)/y_mean)) 0.0\n"
     ]
    },
    {
     "name": "stderr",
     "output_type": "stream",
     "text": [
      "\r",
      " 89%|████████▉ | 318/358 [02:23<00:18,  2.20it/s]"
     ]
    },
    {
     "name": "stdout",
     "output_type": "stream",
     "text": [
      "local Optima\n",
      "y_mean 5.089531020794482\n",
      "mean_mean 5.0856372689342075\n",
      "abs(round((mean_mean-y_mean)/y_mean)) 0.0\n",
      "local Optima\n",
      "y_mean 5.089531020794482\n",
      "mean_mean 5.085636491544129\n",
      "abs(round((mean_mean-y_mean)/y_mean)) 0.0\n"
     ]
    },
    {
     "name": "stderr",
     "output_type": "stream",
     "text": [
      "\r",
      " 89%|████████▉ | 319/358 [02:23<00:17,  2.28it/s]"
     ]
    },
    {
     "name": "stdout",
     "output_type": "stream",
     "text": [
      "local Optima\n",
      "y_mean 0.7856268276201772\n",
      "mean_mean 0.6507280234646815\n",
      "abs(round((mean_mean-y_mean)/y_mean)) 0.0\n",
      "local Optima\n",
      "y_mean 0.7856268276201772\n",
      "mean_mean 0.6203001602367895\n",
      "abs(round((mean_mean-y_mean)/y_mean)) 0.0\n"
     ]
    },
    {
     "name": "stderr",
     "output_type": "stream",
     "text": [
      "\r",
      " 89%|████████▉ | 320/358 [02:24<00:16,  2.30it/s]"
     ]
    },
    {
     "name": "stdout",
     "output_type": "stream",
     "text": [
      "local Optima\n",
      "y_mean 5.470775757876227\n",
      "mean_mean 5.468667691811499\n",
      "abs(round((mean_mean-y_mean)/y_mean)) 0.0\n",
      "local Optima\n",
      "y_mean 5.470775757876227\n",
      "mean_mean 5.468641180017624\n",
      "abs(round((mean_mean-y_mean)/y_mean)) 0.0\n",
      "local Optima\n",
      "y_mean 1.1763880736339745\n",
      "mean_mean 0.9221862284733676\n",
      "abs(round((mean_mean-y_mean)/y_mean)) 0.0\n",
      "local Optima\n",
      "y_mean 1.1763880736339745\n",
      "mean_mean 1.0636165870138026\n",
      "abs(round((mean_mean-y_mean)/y_mean)) 0.0\n"
     ]
    },
    {
     "name": "stderr",
     "output_type": "stream",
     "text": [
      " 90%|████████▉ | 322/358 [02:25<00:15,  2.35it/s]"
     ]
    },
    {
     "name": "stdout",
     "output_type": "stream",
     "text": [
      "local Optima\n",
      "y_mean 5.371832758286761\n",
      "mean_mean 5.370855408407769\n",
      "abs(round((mean_mean-y_mean)/y_mean)) 0.0\n",
      "local Optima\n",
      "y_mean 5.371832758286761\n",
      "mean_mean 5.370420815118069\n",
      "abs(round((mean_mean-y_mean)/y_mean)) 0.0\n"
     ]
    },
    {
     "name": "stderr",
     "output_type": "stream",
     "text": [
      "\r",
      " 90%|█████████ | 323/358 [02:25<00:14,  2.40it/s]"
     ]
    },
    {
     "name": "stdout",
     "output_type": "stream",
     "text": [
      "local Optima\n",
      "y_mean 0.8267096037194906\n",
      "mean_mean 0.8410644800521391\n",
      "abs(round((mean_mean-y_mean)/y_mean)) 0.0\n",
      "local Optima\n",
      "y_mean 0.8267096037194906\n",
      "mean_mean 0.742722444477419\n",
      "abs(round((mean_mean-y_mean)/y_mean)) 0.0\n"
     ]
    },
    {
     "name": "stderr",
     "output_type": "stream",
     "text": [
      "\r",
      " 91%|█████████ | 324/358 [02:25<00:14,  2.41it/s]"
     ]
    },
    {
     "name": "stdout",
     "output_type": "stream",
     "text": [
      "local Optima\n",
      "y_mean 4.240623363386738\n",
      "mean_mean 4.235949967050957\n",
      "abs(round((mean_mean-y_mean)/y_mean)) 0.0\n",
      "local Optima\n",
      "y_mean 4.240623363386738\n",
      "mean_mean 4.235949903225375\n",
      "abs(round((mean_mean-y_mean)/y_mean)) 0.0\n"
     ]
    },
    {
     "name": "stderr",
     "output_type": "stream",
     "text": [
      "\r",
      " 91%|█████████ | 325/358 [02:26<00:13,  2.44it/s]"
     ]
    },
    {
     "name": "stdout",
     "output_type": "stream",
     "text": [
      "local Optima\n",
      "y_mean 1.0707969718123207\n",
      "mean_mean 1.0942323445655242\n",
      "abs(round((mean_mean-y_mean)/y_mean)) 0.0\n",
      "local Optima\n",
      "y_mean 1.0707969718123207\n",
      "mean_mean 1.0074573246331304\n",
      "abs(round((mean_mean-y_mean)/y_mean)) 0.0\n"
     ]
    },
    {
     "name": "stderr",
     "output_type": "stream",
     "text": [
      "\r",
      " 91%|█████████ | 326/358 [02:26<00:13,  2.43it/s]"
     ]
    },
    {
     "name": "stdout",
     "output_type": "stream",
     "text": [
      "local Optima\n",
      "y_mean 4.398509052686337\n",
      "mean_mean 4.397337329959608\n",
      "abs(round((mean_mean-y_mean)/y_mean)) 0.0\n",
      "local Optima\n",
      "y_mean 4.398509052686337\n",
      "mean_mean 4.3973374924054625\n",
      "abs(round((mean_mean-y_mean)/y_mean)) 0.0\n"
     ]
    },
    {
     "name": "stderr",
     "output_type": "stream",
     "text": [
      "\r",
      " 91%|█████████▏| 327/358 [02:27<00:12,  2.47it/s]"
     ]
    },
    {
     "name": "stdout",
     "output_type": "stream",
     "text": [
      "local Optima\n",
      "y_mean 3.0337613059003905\n",
      "mean_mean 2.708047992754456\n",
      "abs(round((mean_mean-y_mean)/y_mean)) 0.0\n",
      "local Optima\n",
      "y_mean 3.0337613059003905\n",
      "mean_mean 2.9859289070474193\n",
      "abs(round((mean_mean-y_mean)/y_mean)) 0.0\n"
     ]
    },
    {
     "name": "stderr",
     "output_type": "stream",
     "text": [
      "\r",
      " 92%|█████████▏| 328/358 [02:27<00:12,  2.46it/s]"
     ]
    },
    {
     "name": "stdout",
     "output_type": "stream",
     "text": [
      "local Optima\n",
      "y_mean 5.2033158525051935\n",
      "mean_mean 5.2025686145412795\n",
      "abs(round((mean_mean-y_mean)/y_mean)) 0.0\n",
      "local Optima\n",
      "y_mean 5.2033158525051935\n",
      "mean_mean 5.202568636169858\n",
      "abs(round((mean_mean-y_mean)/y_mean)) 0.0\n"
     ]
    },
    {
     "name": "stderr",
     "output_type": "stream",
     "text": [
      "\r",
      " 92%|█████████▏| 329/358 [02:27<00:11,  2.49it/s]"
     ]
    },
    {
     "name": "stdout",
     "output_type": "stream",
     "text": [
      "local Optima\n",
      "y_mean 0.531696063067484\n",
      "mean_mean 0.4242524064912081\n",
      "abs(round((mean_mean-y_mean)/y_mean)) 0.0\n",
      "local Optima\n",
      "y_mean 0.531696063067484\n",
      "mean_mean 0.45996727791099096\n",
      "abs(round((mean_mean-y_mean)/y_mean)) 0.0\n"
     ]
    },
    {
     "name": "stderr",
     "output_type": "stream",
     "text": [
      "\r",
      " 92%|█████████▏| 330/358 [02:28<00:11,  2.50it/s]"
     ]
    },
    {
     "name": "stdout",
     "output_type": "stream",
     "text": [
      "local Optima\n",
      "y_mean 2.969690372997103\n",
      "mean_mean 2.9667764902235363\n",
      "abs(round((mean_mean-y_mean)/y_mean)) 0.0\n",
      "local Optima\n",
      "y_mean 2.969690372997103\n",
      "mean_mean 2.965504937643874\n",
      "abs(round((mean_mean-y_mean)/y_mean)) 0.0\n"
     ]
    },
    {
     "name": "stderr",
     "output_type": "stream",
     "text": [
      "\r",
      " 92%|█████████▏| 331/358 [02:28<00:10,  2.51it/s]"
     ]
    },
    {
     "name": "stdout",
     "output_type": "stream",
     "text": [
      "local Optima\n",
      "y_mean 0.702648711125234\n",
      "mean_mean 0.5770891041293528\n",
      "abs(round((mean_mean-y_mean)/y_mean)) 0.0\n",
      "local Optima\n",
      "y_mean 0.702648711125234\n",
      "mean_mean 0.6516662348047414\n",
      "abs(round((mean_mean-y_mean)/y_mean)) 0.0\n"
     ]
    },
    {
     "name": "stderr",
     "output_type": "stream",
     "text": [
      "\r",
      " 93%|█████████▎| 332/358 [02:29<00:10,  2.50it/s]"
     ]
    },
    {
     "name": "stdout",
     "output_type": "stream",
     "text": [
      "local Optima\n",
      "y_mean 3.823689937002129\n",
      "mean_mean 3.82167558666692\n",
      "abs(round((mean_mean-y_mean)/y_mean)) 0.0\n",
      "local Optima\n",
      "y_mean 3.823689937002129\n",
      "mean_mean 3.8216723122729075\n",
      "abs(round((mean_mean-y_mean)/y_mean)) 0.0\n"
     ]
    },
    {
     "name": "stderr",
     "output_type": "stream",
     "text": [
      "\r",
      " 93%|█████████▎| 333/358 [02:29<00:09,  2.52it/s]"
     ]
    },
    {
     "name": "stdout",
     "output_type": "stream",
     "text": [
      "local Optima\n",
      "y_mean 2.685658202816719\n",
      "mean_mean 2.518531045720461\n",
      "abs(round((mean_mean-y_mean)/y_mean)) 0.0\n",
      "local Optima\n",
      "y_mean 2.685658202816719\n",
      "mean_mean 2.5780100864611732\n",
      "abs(round((mean_mean-y_mean)/y_mean)) 0.0\n"
     ]
    },
    {
     "name": "stderr",
     "output_type": "stream",
     "text": [
      "\r",
      " 93%|█████████▎| 334/358 [02:29<00:09,  2.54it/s]"
     ]
    },
    {
     "name": "stdout",
     "output_type": "stream",
     "text": [
      "local Optima\n",
      "y_mean 5.237269807305628\n",
      "mean_mean 5.304039782146597\n",
      "abs(round((mean_mean-y_mean)/y_mean)) 0.0\n",
      "local Optima\n",
      "y_mean 5.237269807305628\n",
      "mean_mean 5.232401239326203\n",
      "abs(round((mean_mean-y_mean)/y_mean)) 0.0\n"
     ]
    },
    {
     "name": "stderr",
     "output_type": "stream",
     "text": [
      "\r",
      " 94%|█████████▎| 335/358 [02:30<00:09,  2.55it/s]"
     ]
    },
    {
     "name": "stdout",
     "output_type": "stream",
     "text": [
      "local Optima\n",
      "y_mean 0.9068407352242226\n",
      "mean_mean 0.7344392310404515\n",
      "abs(round((mean_mean-y_mean)/y_mean)) 0.0\n",
      "local Optima\n",
      "y_mean 0.9068407352242226\n",
      "mean_mean 0.8063180081478469\n",
      "abs(round((mean_mean-y_mean)/y_mean)) 0.0\n"
     ]
    },
    {
     "name": "stderr",
     "output_type": "stream",
     "text": [
      "\r",
      " 94%|█████████▍| 336/358 [02:30<00:08,  2.54it/s]"
     ]
    },
    {
     "name": "stdout",
     "output_type": "stream",
     "text": [
      "local Optima\n",
      "y_mean 4.86234632237637\n",
      "mean_mean 4.85801838055255\n",
      "abs(round((mean_mean-y_mean)/y_mean)) 0.0\n",
      "local Optima\n",
      "y_mean 4.86234632237637\n",
      "mean_mean 4.858021240517304\n",
      "abs(round((mean_mean-y_mean)/y_mean)) 0.0\n"
     ]
    },
    {
     "name": "stderr",
     "output_type": "stream",
     "text": [
      "\r",
      " 94%|█████████▍| 337/358 [02:31<00:08,  2.53it/s]"
     ]
    },
    {
     "name": "stdout",
     "output_type": "stream",
     "text": [
      "local Optima\n",
      "y_mean 0.9415377555249722\n",
      "mean_mean 0.7781419494807337\n",
      "abs(round((mean_mean-y_mean)/y_mean)) 0.0\n",
      "local Optima\n",
      "y_mean 0.9415377555249722\n",
      "mean_mean 0.8712689771469215\n",
      "abs(round((mean_mean-y_mean)/y_mean)) 0.0\n"
     ]
    },
    {
     "name": "stderr",
     "output_type": "stream",
     "text": [
      "\r",
      " 94%|█████████▍| 338/358 [02:31<00:07,  2.52it/s]"
     ]
    },
    {
     "name": "stdout",
     "output_type": "stream",
     "text": [
      "local Optima\n",
      "y_mean 4.672430374937994\n",
      "mean_mean 4.67085736856311\n",
      "abs(round((mean_mean-y_mean)/y_mean)) 0.0\n",
      "local Optima\n",
      "y_mean 4.672430374937994\n",
      "mean_mean 4.670857657760992\n",
      "abs(round((mean_mean-y_mean)/y_mean)) 0.0\n"
     ]
    },
    {
     "name": "stderr",
     "output_type": "stream",
     "text": [
      "\r",
      " 95%|█████████▍| 339/358 [02:31<00:07,  2.54it/s]"
     ]
    },
    {
     "name": "stdout",
     "output_type": "stream",
     "text": [
      "local Optima\n",
      "y_mean 0.9286463670723953\n",
      "mean_mean 0.7561133861501865\n",
      "abs(round((mean_mean-y_mean)/y_mean)) 0.0\n",
      "local Optima\n",
      "y_mean 0.9286463670723953\n",
      "mean_mean 0.8612932678653492\n",
      "abs(round((mean_mean-y_mean)/y_mean)) 0.0\n"
     ]
    },
    {
     "name": "stderr",
     "output_type": "stream",
     "text": [
      "\r",
      " 95%|█████████▍| 340/358 [02:32<00:07,  2.52it/s]"
     ]
    },
    {
     "name": "stdout",
     "output_type": "stream",
     "text": [
      "local Optima\n",
      "y_mean 4.508837643069405\n",
      "mean_mean 4.507778043032981\n",
      "abs(round((mean_mean-y_mean)/y_mean)) 0.0\n",
      "local Optima\n",
      "y_mean 4.508837643069405\n",
      "mean_mean 4.50777616802423\n",
      "abs(round((mean_mean-y_mean)/y_mean)) 0.0\n"
     ]
    },
    {
     "name": "stderr",
     "output_type": "stream",
     "text": [
      "\r",
      " 95%|█████████▌| 341/358 [02:32<00:06,  2.54it/s]"
     ]
    },
    {
     "name": "stdout",
     "output_type": "stream",
     "text": [
      "local Optima\n",
      "y_mean 1.1527419193171546\n",
      "mean_mean 1.076401201500214\n",
      "abs(round((mean_mean-y_mean)/y_mean)) 0.0\n",
      "local Optima\n",
      "y_mean 1.1527419193171546\n",
      "mean_mean 1.0726976215091764\n",
      "abs(round((mean_mean-y_mean)/y_mean)) 0.0\n"
     ]
    },
    {
     "name": "stderr",
     "output_type": "stream",
     "text": [
      "\r",
      " 96%|█████████▌| 342/358 [02:33<00:06,  2.48it/s]"
     ]
    },
    {
     "name": "stdout",
     "output_type": "stream",
     "text": [
      "local Optima\n",
      "y_mean 4.236369298332971\n",
      "mean_mean 4.231859053706441\n",
      "abs(round((mean_mean-y_mean)/y_mean)) 0.0\n",
      "local Optima\n",
      "y_mean 4.236369298332971\n",
      "mean_mean 4.231859170787129\n",
      "abs(round((mean_mean-y_mean)/y_mean)) 0.0\n"
     ]
    },
    {
     "name": "stderr",
     "output_type": "stream",
     "text": [
      "\r",
      " 96%|█████████▌| 343/358 [02:33<00:05,  2.51it/s]"
     ]
    },
    {
     "name": "stdout",
     "output_type": "stream",
     "text": [
      "local Optima\n",
      "y_mean 1.6942555404545037\n",
      "mean_mean 1.4260166416525237\n",
      "abs(round((mean_mean-y_mean)/y_mean)) 0.0\n",
      "local Optima\n",
      "y_mean 1.6942555404545037\n",
      "mean_mean 1.5860123609596786\n",
      "abs(round((mean_mean-y_mean)/y_mean)) 0.0\n"
     ]
    },
    {
     "name": "stderr",
     "output_type": "stream",
     "text": [
      "\r",
      " 96%|█████████▌| 344/358 [02:33<00:05,  2.47it/s]"
     ]
    },
    {
     "name": "stdout",
     "output_type": "stream",
     "text": [
      "local Optima\n",
      "y_mean 5.859299106672268\n",
      "mean_mean 5.857157814727065\n",
      "abs(round((mean_mean-y_mean)/y_mean)) 0.0\n",
      "local Optima\n",
      "y_mean 5.859299106672268\n",
      "mean_mean 5.857158096515085\n",
      "abs(round((mean_mean-y_mean)/y_mean)) 0.0\n"
     ]
    },
    {
     "name": "stderr",
     "output_type": "stream",
     "text": [
      "\r",
      " 96%|█████████▋| 345/358 [02:34<00:05,  2.51it/s]"
     ]
    },
    {
     "name": "stdout",
     "output_type": "stream",
     "text": [
      "local Optima\n",
      "y_mean 1.9622613712870378\n",
      "mean_mean 1.6060638792008006\n",
      "abs(round((mean_mean-y_mean)/y_mean)) 0.0\n",
      "local Optima\n",
      "y_mean 1.9622613712870378\n",
      "mean_mean 1.8889347657085\n",
      "abs(round((mean_mean-y_mean)/y_mean)) 0.0\n"
     ]
    },
    {
     "name": "stderr",
     "output_type": "stream",
     "text": [
      "\r",
      " 97%|█████████▋| 346/358 [02:34<00:04,  2.48it/s]"
     ]
    },
    {
     "name": "stdout",
     "output_type": "stream",
     "text": [
      "local Optima\n",
      "y_mean 5.75159395737158\n",
      "mean_mean 5.750334858155805\n",
      "abs(round((mean_mean-y_mean)/y_mean)) 0.0\n",
      "local Optima\n",
      "y_mean 5.75159395737158\n",
      "mean_mean 5.750334767962407\n",
      "abs(round((mean_mean-y_mean)/y_mean)) 0.0\n"
     ]
    },
    {
     "name": "stderr",
     "output_type": "stream",
     "text": [
      "\r",
      " 97%|█████████▋| 347/358 [02:35<00:04,  2.51it/s]"
     ]
    },
    {
     "name": "stdout",
     "output_type": "stream",
     "text": [
      "local Optima\n",
      "y_mean 0.8992604690235518\n",
      "mean_mean 0.9875871953989822\n",
      "abs(round((mean_mean-y_mean)/y_mean)) 0.0\n",
      "local Optima\n",
      "y_mean 0.8992604690235518\n",
      "mean_mean 0.8308284421640854\n",
      "abs(round((mean_mean-y_mean)/y_mean)) 0.0\n"
     ]
    },
    {
     "name": "stderr",
     "output_type": "stream",
     "text": [
      "\r",
      " 97%|█████████▋| 348/358 [02:35<00:04,  2.39it/s]"
     ]
    },
    {
     "name": "stdout",
     "output_type": "stream",
     "text": [
      "local Optima\n",
      "y_mean 3.6517148643689064\n",
      "mean_mean 3.6481186747389494\n",
      "abs(round((mean_mean-y_mean)/y_mean)) 0.0\n",
      "local Optima\n",
      "y_mean 3.6517148643689064\n",
      "mean_mean 3.648119125892244\n",
      "abs(round((mean_mean-y_mean)/y_mean)) 0.0\n"
     ]
    },
    {
     "name": "stderr",
     "output_type": "stream",
     "text": [
      "\r",
      " 97%|█████████▋| 349/358 [02:36<00:03,  2.42it/s]"
     ]
    },
    {
     "name": "stdout",
     "output_type": "stream",
     "text": [
      "local Optima\n",
      "y_mean 1.4011374291986733\n",
      "mean_mean 1.3352697762475225\n",
      "abs(round((mean_mean-y_mean)/y_mean)) 0.0\n",
      "local Optima\n",
      "y_mean 1.4011374291986733\n",
      "mean_mean 1.335270131549344\n",
      "abs(round((mean_mean-y_mean)/y_mean)) 0.0\n"
     ]
    },
    {
     "name": "stderr",
     "output_type": "stream",
     "text": [
      "\r",
      " 98%|█████████▊| 350/358 [02:36<00:03,  2.45it/s]"
     ]
    },
    {
     "name": "stdout",
     "output_type": "stream",
     "text": [
      "local Optima\n",
      "y_mean 4.610663291779458\n",
      "mean_mean 4.608035309903983\n",
      "abs(round((mean_mean-y_mean)/y_mean)) 0.0\n",
      "local Optima\n",
      "y_mean 4.610663291779458\n",
      "mean_mean 4.6080354581370475\n",
      "abs(round((mean_mean-y_mean)/y_mean)) 0.0\n"
     ]
    },
    {
     "name": "stderr",
     "output_type": "stream",
     "text": [
      "\r",
      " 98%|█████████▊| 351/358 [02:36<00:02,  2.49it/s]"
     ]
    },
    {
     "name": "stdout",
     "output_type": "stream",
     "text": [
      "local Optima\n",
      "y_mean 2.6108556344503344\n",
      "mean_mean 2.50889285215763\n",
      "abs(round((mean_mean-y_mean)/y_mean)) 0.0\n",
      "local Optima\n",
      "y_mean 2.6108556344503344\n",
      "mean_mean 2.560990558678938\n",
      "abs(round((mean_mean-y_mean)/y_mean)) 0.0\n"
     ]
    },
    {
     "name": "stderr",
     "output_type": "stream",
     "text": [
      "\r",
      " 98%|█████████▊| 352/358 [02:37<00:02,  2.47it/s]"
     ]
    },
    {
     "name": "stdout",
     "output_type": "stream",
     "text": [
      "local Optima\n",
      "y_mean 5.108850347000228\n",
      "mean_mean 5.107718606402614\n",
      "abs(round((mean_mean-y_mean)/y_mean)) 0.0\n",
      "local Optima\n",
      "y_mean 5.108850347000228\n",
      "mean_mean 5.107718720095951\n",
      "abs(round((mean_mean-y_mean)/y_mean)) 0.0\n"
     ]
    },
    {
     "name": "stderr",
     "output_type": "stream",
     "text": [
      "\r",
      " 99%|█████████▊| 353/358 [02:37<00:02,  2.50it/s]"
     ]
    },
    {
     "name": "stdout",
     "output_type": "stream",
     "text": [
      "local Optima\n",
      "y_mean 1.527435480568947\n",
      "mean_mean 1.6800079468209228\n",
      "abs(round((mean_mean-y_mean)/y_mean)) 0.0\n",
      "local Optima\n",
      "y_mean 1.527435480568947\n",
      "mean_mean 1.4299626026943302\n",
      "abs(round((mean_mean-y_mean)/y_mean)) 0.0\n"
     ]
    },
    {
     "name": "stderr",
     "output_type": "stream",
     "text": [
      "\r",
      " 99%|█████████▉| 354/358 [02:37<00:01,  2.52it/s]"
     ]
    },
    {
     "name": "stdout",
     "output_type": "stream",
     "text": [
      "local Optima\n",
      "y_mean 4.693538150682908\n",
      "mean_mean 4.6916295570038855\n",
      "abs(round((mean_mean-y_mean)/y_mean)) 0.0\n",
      "local Optima\n",
      "y_mean 4.693538150682908\n",
      "mean_mean 4.689318236211192\n",
      "abs(round((mean_mean-y_mean)/y_mean)) 0.0\n"
     ]
    },
    {
     "name": "stderr",
     "output_type": "stream",
     "text": [
      "\r",
      " 99%|█████████▉| 355/358 [02:38<00:01,  2.54it/s]"
     ]
    },
    {
     "name": "stdout",
     "output_type": "stream",
     "text": [
      "local Optima\n",
      "y_mean 1.6338144347358106\n",
      "mean_mean 1.7379704378952727\n",
      "abs(round((mean_mean-y_mean)/y_mean)) 0.0\n",
      "local Optima\n",
      "y_mean 1.6338144347358106\n",
      "mean_mean 1.5550883492484036\n",
      "abs(round((mean_mean-y_mean)/y_mean)) 0.0\n"
     ]
    },
    {
     "name": "stderr",
     "output_type": "stream",
     "text": [
      "\r",
      " 99%|█████████▉| 356/358 [02:38<00:00,  2.55it/s]"
     ]
    },
    {
     "name": "stdout",
     "output_type": "stream",
     "text": [
      "local Optima\n",
      "y_mean 4.908572618356592\n",
      "mean_mean 4.907115685323502\n",
      "abs(round((mean_mean-y_mean)/y_mean)) 0.0\n",
      "local Optima\n",
      "y_mean 4.908572618356592\n",
      "mean_mean 4.905116107257464\n",
      "abs(round((mean_mean-y_mean)/y_mean)) 0.0\n"
     ]
    },
    {
     "name": "stderr",
     "output_type": "stream",
     "text": [
      "\r",
      "100%|█████████▉| 357/358 [02:39<00:00,  2.56it/s]"
     ]
    },
    {
     "name": "stdout",
     "output_type": "stream",
     "text": [
      "local Optima\n",
      "y_mean 2.135960364865701\n",
      "mean_mean 2.1524111724806883\n",
      "abs(round((mean_mean-y_mean)/y_mean)) 0.0\n",
      "local Optima\n",
      "y_mean 2.135960364865701\n",
      "mean_mean 2.0772023116185143\n",
      "abs(round((mean_mean-y_mean)/y_mean)) 0.0\n"
     ]
    },
    {
     "name": "stderr",
     "output_type": "stream",
     "text": [
      "100%|██████████| 358/358 [02:39<00:00,  2.24it/s]\n",
      "  0%|          | 0/360 [00:00<?, ?it/s]"
     ]
    },
    {
     "name": "stdout",
     "output_type": "stream",
     "text": [
      "local Optima\n",
      "y_mean 5.012761782822743\n",
      "mean_mean 5.011931560228983\n",
      "abs(round((mean_mean-y_mean)/y_mean)) 0.0\n",
      "local Optima\n",
      "y_mean 5.012761782822743\n",
      "mean_mean 5.010929871055464\n",
      "abs(round((mean_mean-y_mean)/y_mean)) 0.0\n",
      "high_counts_low_dispersion_non_differentially_expressed_genes_DE_non_DE_genes.csv\n"
     ]
    },
    {
     "name": "stderr",
     "output_type": "stream",
     "text": [
      "\r",
      "  0%|          | 1/360 [00:00<02:17,  2.61it/s]"
     ]
    },
    {
     "name": "stdout",
     "output_type": "stream",
     "text": [
      "local Optima\n",
      "y_mean 4.680833522789752\n",
      "mean_mean 4.97842701778874\n",
      "abs(round((mean_mean-y_mean)/y_mean)) 0.0\n",
      "local Optima\n",
      "y_mean 4.680833522789752\n",
      "mean_mean 4.619670587216414\n",
      "abs(round((mean_mean-y_mean)/y_mean)) 0.0\n",
      "Fit Cholesky decomposition was not successful.\n",
      "Fit Cholesky decomposition was not successful.\n",
      "local Optima\n",
      "y_mean 6.806684251051945\n",
      "mean_mean 6.806639034926626\n",
      "abs(round((mean_mean-y_mean)/y_mean)) 0.0\n",
      "local Optima\n",
      "y_mean 6.806684251051945\n",
      "mean_mean 6.806639034926626\n",
      "abs(round((mean_mean-y_mean)/y_mean)) 0.0\n",
      "local Optima\n",
      "y_mean 6.806684251051945\n",
      "mean_mean 6.806639034926626\n",
      "abs(round((mean_mean-y_mean)/y_mean)) 0.0\n",
      "local Optima\n",
      "y_mean 6.806684251051945\n",
      "mean_mean 6.806639038671919\n",
      "abs(round((mean_mean-y_mean)/y_mean)) 0.0\n"
     ]
    },
    {
     "name": "stderr",
     "output_type": "stream",
     "text": [
      "  1%|          | 3/360 [00:01<02:54,  2.05it/s]"
     ]
    },
    {
     "name": "stdout",
     "output_type": "stream",
     "text": [
      "local Optima\n",
      "y_mean 5.874715955956889\n",
      "mean_mean 5.9508992550869175\n",
      "abs(round((mean_mean-y_mean)/y_mean)) 0.0\n",
      "local Optima\n",
      "y_mean 5.874715955956889\n",
      "mean_mean 5.852122987530254\n",
      "abs(round((mean_mean-y_mean)/y_mean)) 0.0\n"
     ]
    },
    {
     "name": "stderr",
     "output_type": "stream",
     "text": [
      "\r",
      "  1%|          | 4/360 [00:02<02:46,  2.14it/s]"
     ]
    },
    {
     "name": "stdout",
     "output_type": "stream",
     "text": [
      "local Optima\n",
      "y_mean 7.002456840500713\n",
      "mean_mean 7.0024380443506375\n",
      "abs(round((mean_mean-y_mean)/y_mean)) 0.0\n",
      "local Optima\n",
      "y_mean 7.002456840500713\n",
      "mean_mean 7.002438049516427\n",
      "abs(round((mean_mean-y_mean)/y_mean)) 0.0\n"
     ]
    },
    {
     "name": "stderr",
     "output_type": "stream",
     "text": [
      "\r",
      "  1%|▏         | 5/360 [00:02<02:37,  2.26it/s]"
     ]
    },
    {
     "name": "stdout",
     "output_type": "stream",
     "text": [
      "local Optima\n",
      "y_mean 7.052316621616429\n",
      "mean_mean 7.0775076014406935\n",
      "abs(round((mean_mean-y_mean)/y_mean)) 0.0\n",
      "local Optima\n",
      "y_mean 7.052316621616429\n",
      "mean_mean 7.027721987206567\n",
      "abs(round((mean_mean-y_mean)/y_mean)) 0.0\n"
     ]
    },
    {
     "name": "stderr",
     "output_type": "stream",
     "text": [
      "\r",
      "  2%|▏         | 6/360 [00:02<02:30,  2.35it/s]"
     ]
    },
    {
     "name": "stdout",
     "output_type": "stream",
     "text": [
      "local Optima\n",
      "y_mean 8.136052380507811\n",
      "mean_mean 8.141143606401467\n",
      "abs(round((mean_mean-y_mean)/y_mean)) 0.0\n",
      "local Optima\n",
      "y_mean 8.136052380507811\n",
      "mean_mean 8.13602539277665\n",
      "abs(round((mean_mean-y_mean)/y_mean)) 0.0\n"
     ]
    },
    {
     "name": "stderr",
     "output_type": "stream",
     "text": [
      "\r",
      "  2%|▏         | 7/360 [00:03<02:26,  2.41it/s]"
     ]
    },
    {
     "name": "stdout",
     "output_type": "stream",
     "text": [
      "local Optima\n",
      "y_mean 6.181730956339106\n",
      "mean_mean 6.145855524139483\n",
      "abs(round((mean_mean-y_mean)/y_mean)) 0.0\n",
      "local Optima\n",
      "y_mean 6.181730956339106\n",
      "mean_mean 6.137615325343947\n",
      "abs(round((mean_mean-y_mean)/y_mean)) 0.0\n"
     ]
    },
    {
     "name": "stderr",
     "output_type": "stream",
     "text": [
      "\r",
      "  2%|▏         | 8/360 [00:03<02:24,  2.44it/s]"
     ]
    },
    {
     "name": "stdout",
     "output_type": "stream",
     "text": [
      "local Optima\n",
      "y_mean 8.598331246411433\n",
      "mean_mean 8.598300095815045\n",
      "abs(round((mean_mean-y_mean)/y_mean)) 0.0\n",
      "local Optima\n",
      "y_mean 8.598331246411433\n",
      "mean_mean 8.598238574557525\n",
      "abs(round((mean_mean-y_mean)/y_mean)) 0.0\n"
     ]
    },
    {
     "name": "stderr",
     "output_type": "stream",
     "text": [
      "\r",
      "  2%|▎         | 9/360 [00:04<02:21,  2.48it/s]"
     ]
    },
    {
     "name": "stdout",
     "output_type": "stream",
     "text": [
      "local Optima\n",
      "y_mean 6.400123004415136\n",
      "mean_mean 6.3932069632072555\n",
      "abs(round((mean_mean-y_mean)/y_mean)) 0.0\n",
      "local Optima\n",
      "y_mean 6.400123004415136\n",
      "mean_mean 6.367451443805684\n",
      "abs(round((mean_mean-y_mean)/y_mean)) 0.0\n",
      "local Optima\n",
      "y_mean 8.087521567920788\n",
      "mean_mean 8.087496832962918\n",
      "abs(round((mean_mean-y_mean)/y_mean)) 0.0\n"
     ]
    },
    {
     "name": "stderr",
     "output_type": "stream",
     "text": [
      "\r",
      "  3%|▎         | 10/360 [00:04<02:37,  2.22it/s]"
     ]
    },
    {
     "name": "stdout",
     "output_type": "stream",
     "text": [
      "local Optima\n",
      "y_mean 8.087521567920788\n",
      "mean_mean 8.087453945873323\n",
      "abs(round((mean_mean-y_mean)/y_mean)) 0.0\n",
      "local Optima\n",
      "y_mean 7.090695555370663\n",
      "mean_mean 6.992215485203543\n",
      "abs(round((mean_mean-y_mean)/y_mean)) 0.0\n"
     ]
    },
    {
     "name": "stderr",
     "output_type": "stream",
     "text": [
      "\r",
      "  3%|▎         | 11/360 [00:05<02:45,  2.11it/s]"
     ]
    },
    {
     "name": "stdout",
     "output_type": "stream",
     "text": [
      "local Optima\n",
      "y_mean 7.090695555370663\n",
      "mean_mean 7.073917039698432\n",
      "abs(round((mean_mean-y_mean)/y_mean)) 0.0\n"
     ]
    },
    {
     "name": "stderr",
     "output_type": "stream",
     "text": [
      "\r",
      "  3%|▎         | 12/360 [00:05<02:37,  2.21it/s]"
     ]
    },
    {
     "name": "stdout",
     "output_type": "stream",
     "text": [
      "local Optima\n",
      "y_mean 8.312151159056059\n",
      "mean_mean 8.31213767932232\n",
      "abs(round((mean_mean-y_mean)/y_mean)) 0.0\n",
      "local Optima\n",
      "y_mean 8.312151159056059\n",
      "mean_mean 8.312130913697313\n",
      "abs(round((mean_mean-y_mean)/y_mean)) 0.0\n"
     ]
    },
    {
     "name": "stderr",
     "output_type": "stream",
     "text": [
      "\r",
      "  4%|▎         | 13/360 [00:05<02:29,  2.32it/s]"
     ]
    },
    {
     "name": "stdout",
     "output_type": "stream",
     "text": [
      "local Optima\n",
      "y_mean 5.59510544620549\n",
      "mean_mean 5.559470264299652\n",
      "abs(round((mean_mean-y_mean)/y_mean)) 0.0\n",
      "local Optima\n",
      "y_mean 5.59510544620549\n",
      "mean_mean 5.559481999181877\n",
      "abs(round((mean_mean-y_mean)/y_mean)) 0.0\n",
      "Fit Cholesky decomposition was not successful.\n"
     ]
    },
    {
     "name": "stderr",
     "output_type": "stream",
     "text": [
      "\r",
      "  4%|▍         | 14/360 [00:06<02:47,  2.07it/s]"
     ]
    },
    {
     "name": "stdout",
     "output_type": "stream",
     "text": [
      "local Optima\n",
      "y_mean 7.887911859790656\n",
      "mean_mean 7.887871659569693\n",
      "abs(round((mean_mean-y_mean)/y_mean)) 0.0\n",
      "local Optima\n",
      "y_mean 7.887911859790656\n",
      "mean_mean 7.887871659569693\n",
      "abs(round((mean_mean-y_mean)/y_mean)) 0.0\n",
      "local Optima\n",
      "y_mean 7.887911859790656\n",
      "mean_mean 7.887869456345016\n",
      "abs(round((mean_mean-y_mean)/y_mean)) 0.0\n"
     ]
    },
    {
     "name": "stderr",
     "output_type": "stream",
     "text": [
      "\r",
      "  4%|▍         | 15/360 [00:06<02:36,  2.20it/s]"
     ]
    },
    {
     "name": "stdout",
     "output_type": "stream",
     "text": [
      "local Optima\n",
      "y_mean 6.331259482363979\n",
      "mean_mean 6.318192164013742\n",
      "abs(round((mean_mean-y_mean)/y_mean)) 0.0\n",
      "local Optima\n",
      "y_mean 6.331259482363979\n",
      "mean_mean 6.301507738348277\n",
      "abs(round((mean_mean-y_mean)/y_mean)) 0.0\n"
     ]
    },
    {
     "name": "stderr",
     "output_type": "stream",
     "text": [
      "\r",
      "  4%|▍         | 16/360 [00:07<02:32,  2.26it/s]"
     ]
    },
    {
     "name": "stdout",
     "output_type": "stream",
     "text": [
      "local Optima\n",
      "y_mean 8.06508409382543\n",
      "mean_mean 8.065043289036808\n",
      "abs(round((mean_mean-y_mean)/y_mean)) 0.0\n",
      "local Optima\n",
      "y_mean 8.06508409382543\n",
      "mean_mean 8.065043270794305\n",
      "abs(round((mean_mean-y_mean)/y_mean)) 0.0\n"
     ]
    },
    {
     "name": "stderr",
     "output_type": "stream",
     "text": [
      "\r",
      "  5%|▍         | 17/360 [00:07<02:26,  2.34it/s]"
     ]
    },
    {
     "name": "stdout",
     "output_type": "stream",
     "text": [
      "local Optima\n",
      "y_mean 6.677414525246515\n",
      "mean_mean 6.539434076092534\n",
      "abs(round((mean_mean-y_mean)/y_mean)) 0.0\n",
      "local Optima\n",
      "y_mean 6.677414525246515\n",
      "mean_mean 6.658941567493899\n",
      "abs(round((mean_mean-y_mean)/y_mean)) 0.0\n"
     ]
    },
    {
     "name": "stderr",
     "output_type": "stream",
     "text": [
      "\r",
      "  5%|▌         | 18/360 [00:08<02:25,  2.35it/s]"
     ]
    },
    {
     "name": "stdout",
     "output_type": "stream",
     "text": [
      "local Optima\n",
      "y_mean 7.823466728385084\n",
      "mean_mean 7.823439289084648\n",
      "abs(round((mean_mean-y_mean)/y_mean)) 0.0\n",
      "local Optima\n",
      "y_mean 7.823466728385084\n",
      "mean_mean 7.82343928949621\n",
      "abs(round((mean_mean-y_mean)/y_mean)) 0.0\n"
     ]
    },
    {
     "name": "stderr",
     "output_type": "stream",
     "text": [
      "\r",
      "  5%|▌         | 19/360 [00:08<02:20,  2.42it/s]"
     ]
    },
    {
     "name": "stdout",
     "output_type": "stream",
     "text": [
      "local Optima\n",
      "y_mean 4.1793745144324435\n",
      "mean_mean 4.355620646541371\n",
      "abs(round((mean_mean-y_mean)/y_mean)) 0.0\n",
      "local Optima\n",
      "y_mean 4.1793745144324435\n",
      "mean_mean 4.1197462021915126\n",
      "abs(round((mean_mean-y_mean)/y_mean)) 0.0\n"
     ]
    },
    {
     "name": "stderr",
     "output_type": "stream",
     "text": [
      "\r",
      "  6%|▌         | 20/360 [00:08<02:18,  2.45it/s]"
     ]
    },
    {
     "name": "stdout",
     "output_type": "stream",
     "text": [
      "local Optima\n",
      "y_mean 6.400769028540062\n",
      "mean_mean 6.400733048004455\n",
      "abs(round((mean_mean-y_mean)/y_mean)) 0.0\n",
      "local Optima\n",
      "y_mean 6.400769028540062\n",
      "mean_mean 6.400731424425626\n",
      "abs(round((mean_mean-y_mean)/y_mean)) 0.0\n"
     ]
    },
    {
     "name": "stderr",
     "output_type": "stream",
     "text": [
      "\r",
      "  6%|▌         | 21/360 [00:09<02:17,  2.47it/s]"
     ]
    },
    {
     "name": "stdout",
     "output_type": "stream",
     "text": [
      "local Optima\n",
      "y_mean 5.333370223396211\n",
      "mean_mean 5.419968514159043\n",
      "abs(round((mean_mean-y_mean)/y_mean)) 0.0\n",
      "local Optima\n",
      "y_mean 5.333370223396211\n",
      "mean_mean 5.31134889777171\n",
      "abs(round((mean_mean-y_mean)/y_mean)) 0.0\n"
     ]
    },
    {
     "name": "stderr",
     "output_type": "stream",
     "text": [
      "\r",
      "  6%|▌         | 22/360 [00:09<02:17,  2.45it/s]"
     ]
    },
    {
     "name": "stdout",
     "output_type": "stream",
     "text": [
      "local Optima\n",
      "y_mean 7.0040498001663245\n",
      "mean_mean 7.004026386853969\n",
      "abs(round((mean_mean-y_mean)/y_mean)) 0.0\n",
      "local Optima\n",
      "y_mean 7.0040498001663245\n",
      "mean_mean 7.004026384913999\n",
      "abs(round((mean_mean-y_mean)/y_mean)) 0.0\n"
     ]
    },
    {
     "name": "stderr",
     "output_type": "stream",
     "text": [
      "\r",
      "  6%|▋         | 23/360 [00:10<02:16,  2.47it/s]"
     ]
    },
    {
     "name": "stdout",
     "output_type": "stream",
     "text": [
      "local Optima\n",
      "y_mean 7.011174931377566\n",
      "mean_mean 6.888083046415289\n",
      "abs(round((mean_mean-y_mean)/y_mean)) 0.0\n",
      "local Optima\n",
      "y_mean 7.011174931377566\n",
      "mean_mean 6.986032471025673\n",
      "abs(round((mean_mean-y_mean)/y_mean)) 0.0\n",
      "local Optima\n",
      "y_mean 8.563562661945626\n",
      "mean_mean 8.563556906472186\n",
      "abs(round((mean_mean-y_mean)/y_mean)) 0.0\n",
      "local Optima\n",
      "y_mean 8.563562661945626\n",
      "mean_mean 8.563556908384868\n",
      "abs(round((mean_mean-y_mean)/y_mean)) 0.0\n"
     ]
    },
    {
     "name": "stderr",
     "output_type": "stream",
     "text": [
      "  7%|▋         | 25/360 [00:11<02:27,  2.28it/s]"
     ]
    },
    {
     "name": "stdout",
     "output_type": "stream",
     "text": [
      "local Optima\n",
      "y_mean 4.620045880916546\n",
      "mean_mean 4.981792032862857\n",
      "abs(round((mean_mean-y_mean)/y_mean)) 0.0\n",
      "local Optima\n",
      "y_mean 4.620045880916546\n",
      "mean_mean 4.580643051890788\n",
      "abs(round((mean_mean-y_mean)/y_mean)) 0.0\n"
     ]
    },
    {
     "name": "stderr",
     "output_type": "stream",
     "text": [
      "\r",
      "  7%|▋         | 26/360 [00:11<02:28,  2.25it/s]"
     ]
    },
    {
     "name": "stdout",
     "output_type": "stream",
     "text": [
      "local Optima\n",
      "y_mean 5.62573196748204\n",
      "mean_mean 5.625639022740699\n",
      "abs(round((mean_mean-y_mean)/y_mean)) 0.0\n",
      "local Optima\n",
      "y_mean 5.62573196748204\n",
      "mean_mean 5.625639024969474\n",
      "abs(round((mean_mean-y_mean)/y_mean)) 0.0\n"
     ]
    },
    {
     "name": "stderr",
     "output_type": "stream",
     "text": [
      "\r",
      "  8%|▊         | 27/360 [00:11<02:26,  2.28it/s]"
     ]
    },
    {
     "name": "stdout",
     "output_type": "stream",
     "text": [
      "local Optima\n",
      "y_mean 5.119996164525262\n",
      "mean_mean 5.459120488163316\n",
      "abs(round((mean_mean-y_mean)/y_mean)) 0.0\n",
      "local Optima\n",
      "y_mean 5.119996164525262\n",
      "mean_mean 5.092806239154135\n",
      "abs(round((mean_mean-y_mean)/y_mean)) 0.0\n"
     ]
    },
    {
     "name": "stderr",
     "output_type": "stream",
     "text": [
      "\r",
      "  8%|▊         | 28/360 [00:12<02:24,  2.29it/s]"
     ]
    },
    {
     "name": "stdout",
     "output_type": "stream",
     "text": [
      "local Optima\n",
      "y_mean 6.371361198223975\n",
      "mean_mean 6.371296779526526\n",
      "abs(round((mean_mean-y_mean)/y_mean)) 0.0\n",
      "local Optima\n",
      "y_mean 6.371361198223975\n",
      "mean_mean 6.371296849791142\n",
      "abs(round((mean_mean-y_mean)/y_mean)) 0.0\n"
     ]
    },
    {
     "name": "stderr",
     "output_type": "stream",
     "text": [
      "\r",
      "  8%|▊         | 29/360 [00:12<02:23,  2.31it/s]"
     ]
    },
    {
     "name": "stdout",
     "output_type": "stream",
     "text": [
      "local Optima\n",
      "y_mean 6.213244497454316\n",
      "mean_mean 6.501579533083668\n",
      "abs(round((mean_mean-y_mean)/y_mean)) 0.0\n",
      "local Optima\n",
      "y_mean 6.213244497454316\n",
      "mean_mean 6.19772207254886\n",
      "abs(round((mean_mean-y_mean)/y_mean)) 0.0\n",
      "local Optima\n",
      "y_mean 7.212653431534796\n",
      "mean_mean 7.212637574734519\n",
      "abs(round((mean_mean-y_mean)/y_mean)) 0.0\n",
      "local Optima\n",
      "y_mean 7.212653431534796\n",
      "mean_mean 7.212635508432077\n",
      "abs(round((mean_mean-y_mean)/y_mean)) 0.0\n"
     ]
    },
    {
     "name": "stderr",
     "output_type": "stream",
     "text": [
      "  9%|▊         | 31/360 [00:13<02:29,  2.21it/s]"
     ]
    },
    {
     "name": "stdout",
     "output_type": "stream",
     "text": [
      "local Optima\n",
      "y_mean 5.403782183808313\n",
      "mean_mean 5.711448764692533\n",
      "abs(round((mean_mean-y_mean)/y_mean)) 0.0\n",
      "local Optima\n",
      "y_mean 5.403782183808313\n",
      "mean_mean 5.36225934291399\n",
      "abs(round((mean_mean-y_mean)/y_mean)) 0.0\n",
      "local Optima\n",
      "y_mean 7.08979804552753\n",
      "mean_mean 7.089766978141828\n",
      "abs(round((mean_mean-y_mean)/y_mean)) 0.0\n"
     ]
    },
    {
     "name": "stderr",
     "output_type": "stream",
     "text": [
      "\r",
      "  9%|▉         | 32/360 [00:14<02:40,  2.05it/s]"
     ]
    },
    {
     "name": "stdout",
     "output_type": "stream",
     "text": [
      "local Optima\n",
      "y_mean 7.08979804552753\n",
      "mean_mean 7.089766992551705\n",
      "abs(round((mean_mean-y_mean)/y_mean)) 0.0\n"
     ]
    },
    {
     "name": "stderr",
     "output_type": "stream",
     "text": [
      "\r",
      "  9%|▉         | 33/360 [00:14<02:37,  2.08it/s]"
     ]
    },
    {
     "name": "stdout",
     "output_type": "stream",
     "text": [
      "local Optima\n",
      "y_mean 5.663280496605821\n",
      "mean_mean 6.004162734210083\n",
      "abs(round((mean_mean-y_mean)/y_mean)) 0.0\n",
      "local Optima\n",
      "y_mean 5.663280496605821\n",
      "mean_mean 5.64114659090351\n",
      "abs(round((mean_mean-y_mean)/y_mean)) 0.0\n",
      "Fit Cholesky decomposition was not successful.\n",
      "Fit Cholesky decomposition was not successful.\n",
      "local Optima\n",
      "y_mean 6.5839546573159495\n",
      "mean_mean 6.583931690614608\n",
      "abs(round((mean_mean-y_mean)/y_mean)) 0.0\n",
      "local Optima\n",
      "y_mean 6.5839546573159495\n",
      "mean_mean 6.583931690614608\n",
      "abs(round((mean_mean-y_mean)/y_mean)) 0.0\n",
      "local Optima\n",
      "y_mean 6.5839546573159495\n",
      "mean_mean 6.583931690614608\n",
      "abs(round((mean_mean-y_mean)/y_mean)) 0.0\n"
     ]
    },
    {
     "name": "stderr",
     "output_type": "stream",
     "text": [
      "\r",
      "  9%|▉         | 34/360 [00:15<03:27,  1.57it/s]"
     ]
    },
    {
     "name": "stdout",
     "output_type": "stream",
     "text": [
      "local Optima\n",
      "y_mean 6.5839546573159495\n",
      "mean_mean 6.583931693328581\n",
      "abs(round((mean_mean-y_mean)/y_mean)) 0.0\n",
      "local Optima\n",
      "y_mean 6.72695985121889\n",
      "mean_mean 6.683272332815482\n",
      "abs(round((mean_mean-y_mean)/y_mean)) 0.0\n"
     ]
    },
    {
     "name": "stderr",
     "output_type": "stream",
     "text": [
      "\r",
      " 10%|▉         | 35/360 [00:16<03:17,  1.64it/s]"
     ]
    },
    {
     "name": "stdout",
     "output_type": "stream",
     "text": [
      "local Optima\n",
      "y_mean 6.72695985121889\n",
      "mean_mean 6.71363262425673\n",
      "abs(round((mean_mean-y_mean)/y_mean)) 0.0\n"
     ]
    },
    {
     "name": "stderr",
     "output_type": "stream",
     "text": [
      "\r",
      " 10%|█         | 36/360 [00:16<03:05,  1.75it/s]"
     ]
    },
    {
     "name": "stdout",
     "output_type": "stream",
     "text": [
      "local Optima\n",
      "y_mean 7.988497976410098\n",
      "mean_mean 7.98846462465558\n",
      "abs(round((mean_mean-y_mean)/y_mean)) 0.0\n",
      "local Optima\n",
      "y_mean 7.988497976410098\n",
      "mean_mean 7.988463043809071\n",
      "abs(round((mean_mean-y_mean)/y_mean)) 0.0\n"
     ]
    },
    {
     "name": "stderr",
     "output_type": "stream",
     "text": [
      "\r",
      " 10%|█         | 37/360 [00:17<02:48,  1.92it/s]"
     ]
    },
    {
     "name": "stdout",
     "output_type": "stream",
     "text": [
      "local Optima\n",
      "y_mean 5.739630952486082\n",
      "mean_mean 5.707255299503954\n",
      "abs(round((mean_mean-y_mean)/y_mean)) 0.0\n",
      "local Optima\n",
      "y_mean 5.739630952486082\n",
      "mean_mean 5.6940206324035945\n",
      "abs(round((mean_mean-y_mean)/y_mean)) 0.0\n",
      "local Optima\n",
      "y_mean 7.609891662021056\n",
      "mean_mean 7.609876973437696\n",
      "abs(round((mean_mean-y_mean)/y_mean)) 0.0\n"
     ]
    },
    {
     "name": "stderr",
     "output_type": "stream",
     "text": [
      "\r",
      " 11%|█         | 38/360 [00:17<02:46,  1.94it/s]"
     ]
    },
    {
     "name": "stdout",
     "output_type": "stream",
     "text": [
      "local Optima\n",
      "y_mean 7.609891662021056\n",
      "mean_mean 7.609874995908016\n",
      "abs(round((mean_mean-y_mean)/y_mean)) 0.0\n"
     ]
    },
    {
     "name": "stderr",
     "output_type": "stream",
     "text": [
      "\r",
      " 11%|█         | 39/360 [00:18<02:34,  2.07it/s]"
     ]
    },
    {
     "name": "stdout",
     "output_type": "stream",
     "text": [
      "local Optima\n",
      "y_mean 5.9288171555856115\n",
      "mean_mean 5.9104914625299125\n",
      "abs(round((mean_mean-y_mean)/y_mean)) 0.0\n",
      "local Optima\n",
      "y_mean 5.9288171555856115\n",
      "mean_mean 5.900248489631915\n",
      "abs(round((mean_mean-y_mean)/y_mean)) 0.0\n",
      "Fit Cholesky decomposition was not successful.\n",
      "local Optima\n",
      "y_mean 7.182803628999409\n",
      "mean_mean 7.18279455737687\n",
      "abs(round((mean_mean-y_mean)/y_mean)) 0.0\n",
      "local Optima\n",
      "y_mean 7.182803628999409\n",
      "mean_mean 7.18279455737687\n",
      "abs(round((mean_mean-y_mean)/y_mean)) 0.0\n"
     ]
    },
    {
     "name": "stderr",
     "output_type": "stream",
     "text": [
      "\r",
      " 11%|█         | 40/360 [00:18<02:59,  1.78it/s]"
     ]
    },
    {
     "name": "stdout",
     "output_type": "stream",
     "text": [
      "local Optima\n",
      "y_mean 7.182803628999409\n",
      "mean_mean 7.182792307626186\n",
      "abs(round((mean_mean-y_mean)/y_mean)) 0.0\n"
     ]
    },
    {
     "name": "stderr",
     "output_type": "stream",
     "text": [
      "\r",
      " 11%|█▏        | 41/360 [00:19<02:44,  1.93it/s]"
     ]
    },
    {
     "name": "stdout",
     "output_type": "stream",
     "text": [
      "local Optima\n",
      "y_mean 7.474000390000025\n",
      "mean_mean 7.678251874334065\n",
      "abs(round((mean_mean-y_mean)/y_mean)) 0.0\n",
      "local Optima\n",
      "y_mean 7.474000390000025\n",
      "mean_mean 7.461283767340997\n",
      "abs(round((mean_mean-y_mean)/y_mean)) 0.0\n"
     ]
    },
    {
     "name": "stderr",
     "output_type": "stream",
     "text": [
      "\r",
      " 12%|█▏        | 42/360 [00:19<02:40,  1.99it/s]"
     ]
    },
    {
     "name": "stdout",
     "output_type": "stream",
     "text": [
      "local Optima\n",
      "y_mean 8.137140915913523\n",
      "mean_mean 8.137134620404451\n",
      "abs(round((mean_mean-y_mean)/y_mean)) 0.0\n",
      "local Optima\n",
      "y_mean 8.137140915913523\n",
      "mean_mean 8.13713461339145\n",
      "abs(round((mean_mean-y_mean)/y_mean)) 0.0\n",
      "local Optima\n",
      "y_mean 4.387890917901558\n",
      "mean_mean 3.9652513839360264\n",
      "abs(round((mean_mean-y_mean)/y_mean)) 0.0\n",
      "local Optima\n",
      "y_mean 4.387890917901558\n",
      "mean_mean 4.352537913147998\n",
      "abs(round((mean_mean-y_mean)/y_mean)) 0.0\n"
     ]
    },
    {
     "name": "stderr",
     "output_type": "stream",
     "text": [
      "\r",
      " 12%|█▏        | 43/360 [00:20<02:35,  2.04it/s]"
     ]
    },
    {
     "name": "stdout",
     "output_type": "stream",
     "text": [
      "local Optima\n",
      "y_mean 5.815758130045405\n",
      "mean_mean 5.8157379890964025\n",
      "abs(round((mean_mean-y_mean)/y_mean)) 0.0\n"
     ]
    },
    {
     "name": "stderr",
     "output_type": "stream",
     "text": [
      "\r",
      " 12%|█▏        | 44/360 [00:20<03:04,  1.71it/s]"
     ]
    },
    {
     "name": "stdout",
     "output_type": "stream",
     "text": [
      "local Optima\n",
      "y_mean 5.815758130045405\n",
      "mean_mean 5.81573795844035\n",
      "abs(round((mean_mean-y_mean)/y_mean)) 0.0\n"
     ]
    },
    {
     "name": "stderr",
     "output_type": "stream",
     "text": [
      "\r",
      " 12%|█▎        | 45/360 [00:21<02:59,  1.75it/s]"
     ]
    },
    {
     "name": "stdout",
     "output_type": "stream",
     "text": [
      "local Optima\n",
      "y_mean 5.05655239130234\n",
      "mean_mean 5.039142462812968\n",
      "abs(round((mean_mean-y_mean)/y_mean)) 0.0\n",
      "local Optima\n",
      "y_mean 5.05655239130234\n",
      "mean_mean 5.037827487141611\n",
      "abs(round((mean_mean-y_mean)/y_mean)) 0.0\n"
     ]
    },
    {
     "name": "stderr",
     "output_type": "stream",
     "text": [
      "\r",
      " 13%|█▎        | 46/360 [00:21<02:41,  1.94it/s]"
     ]
    },
    {
     "name": "stdout",
     "output_type": "stream",
     "text": [
      "local Optima\n",
      "y_mean 7.091534922127987\n",
      "mean_mean 7.101012183960349\n",
      "abs(round((mean_mean-y_mean)/y_mean)) 0.0\n",
      "local Optima\n",
      "y_mean 7.091534922127987\n",
      "mean_mean 7.091459376518483\n",
      "abs(round((mean_mean-y_mean)/y_mean)) 0.0\n"
     ]
    },
    {
     "name": "stderr",
     "output_type": "stream",
     "text": [
      "\r",
      " 13%|█▎        | 47/360 [00:22<02:27,  2.12it/s]"
     ]
    },
    {
     "name": "stdout",
     "output_type": "stream",
     "text": [
      "local Optima\n",
      "y_mean 6.339931468119462\n",
      "mean_mean 6.074667622953231\n",
      "abs(round((mean_mean-y_mean)/y_mean)) 0.0\n",
      "local Optima\n",
      "y_mean 6.339931468119462\n",
      "mean_mean 6.313572989790098\n",
      "abs(round((mean_mean-y_mean)/y_mean)) 0.0\n"
     ]
    },
    {
     "name": "stderr",
     "output_type": "stream",
     "text": [
      "\r",
      " 13%|█▎        | 48/360 [00:22<02:18,  2.25it/s]"
     ]
    },
    {
     "name": "stdout",
     "output_type": "stream",
     "text": [
      "local Optima\n",
      "y_mean 7.983051029693202\n",
      "mean_mean 7.9904264549680715\n",
      "abs(round((mean_mean-y_mean)/y_mean)) 0.0\n",
      "local Optima\n",
      "y_mean 7.983051029693202\n",
      "mean_mean 7.983032818766805\n",
      "abs(round((mean_mean-y_mean)/y_mean)) 0.0\n"
     ]
    },
    {
     "name": "stderr",
     "output_type": "stream",
     "text": [
      "\r",
      " 14%|█▎        | 49/360 [00:23<02:11,  2.36it/s]"
     ]
    },
    {
     "name": "stdout",
     "output_type": "stream",
     "text": [
      "local Optima\n",
      "y_mean 4.462909458937205\n",
      "mean_mean 4.677798800513713\n",
      "abs(round((mean_mean-y_mean)/y_mean)) 0.0\n",
      "local Optima\n",
      "y_mean 4.462909458937205\n",
      "mean_mean 4.378027641223462\n",
      "abs(round((mean_mean-y_mean)/y_mean)) 0.0\n"
     ]
    },
    {
     "name": "stderr",
     "output_type": "stream",
     "text": [
      "\r",
      " 14%|█▍        | 50/360 [00:23<02:09,  2.40it/s]"
     ]
    },
    {
     "name": "stdout",
     "output_type": "stream",
     "text": [
      "local Optima\n",
      "y_mean 7.013020378119015\n",
      "mean_mean 7.012970573692566\n",
      "abs(round((mean_mean-y_mean)/y_mean)) 0.0\n",
      "local Optima\n",
      "y_mean 7.013020378119015\n",
      "mean_mean 7.012970561937007\n",
      "abs(round((mean_mean-y_mean)/y_mean)) 0.0\n"
     ]
    },
    {
     "name": "stderr",
     "output_type": "stream",
     "text": [
      "\r",
      " 14%|█▍        | 51/360 [00:23<02:07,  2.42it/s]"
     ]
    },
    {
     "name": "stdout",
     "output_type": "stream",
     "text": [
      "local Optima\n",
      "y_mean 5.45671311160502\n",
      "mean_mean 5.424843494625772\n",
      "abs(round((mean_mean-y_mean)/y_mean)) 0.0\n",
      "local Optima\n",
      "y_mean 5.45671311160502\n",
      "mean_mean 5.424843074716385\n",
      "abs(round((mean_mean-y_mean)/y_mean)) 0.0\n",
      "local Optima\n",
      "y_mean 6.750074850445353\n",
      "mean_mean 6.750043321277899\n",
      "abs(round((mean_mean-y_mean)/y_mean)) 0.0\n"
     ]
    },
    {
     "name": "stderr",
     "output_type": "stream",
     "text": [
      "\r",
      " 14%|█▍        | 52/360 [00:24<02:10,  2.35it/s]"
     ]
    },
    {
     "name": "stdout",
     "output_type": "stream",
     "text": [
      "local Optima\n",
      "y_mean 6.750074850445353\n",
      "mean_mean 6.750043330111648\n",
      "abs(round((mean_mean-y_mean)/y_mean)) 0.0\n",
      "local Optima\n",
      "y_mean 7.417906063113152\n",
      "mean_mean 7.414334501032272\n",
      "abs(round((mean_mean-y_mean)/y_mean)) 0.0\n",
      "local Optima\n",
      "y_mean 7.417906063113152\n",
      "mean_mean 7.403287954228375\n",
      "abs(round((mean_mean-y_mean)/y_mean)) 0.0\n"
     ]
    },
    {
     "name": "stderr",
     "output_type": "stream",
     "text": [
      "\r",
      " 15%|█▍        | 53/360 [00:24<02:13,  2.31it/s]"
     ]
    },
    {
     "name": "stdout",
     "output_type": "stream",
     "text": [
      "local Optima\n",
      "y_mean 8.152465318831418\n",
      "mean_mean 8.152436121420978\n",
      "abs(round((mean_mean-y_mean)/y_mean)) 0.0\n"
     ]
    },
    {
     "name": "stderr",
     "output_type": "stream",
     "text": [
      "\r",
      " 15%|█▌        | 54/360 [00:25<02:25,  2.11it/s]"
     ]
    },
    {
     "name": "stdout",
     "output_type": "stream",
     "text": [
      "local Optima\n",
      "y_mean 8.152465318831418\n",
      "mean_mean 8.152436122774215\n",
      "abs(round((mean_mean-y_mean)/y_mean)) 0.0\n",
      "local Optima\n",
      "y_mean 6.49394265319032\n",
      "mean_mean 6.504452514581553\n",
      "abs(round((mean_mean-y_mean)/y_mean)) 0.0\n"
     ]
    },
    {
     "name": "stderr",
     "output_type": "stream",
     "text": [
      "\r",
      " 15%|█▌        | 55/360 [00:25<02:35,  1.96it/s]"
     ]
    },
    {
     "name": "stdout",
     "output_type": "stream",
     "text": [
      "local Optima\n",
      "y_mean 6.49394265319032\n",
      "mean_mean 6.447848892268979\n",
      "abs(round((mean_mean-y_mean)/y_mean)) 0.0\n",
      "local Optima\n",
      "y_mean 8.88264748202197\n",
      "mean_mean 8.88262057136192\n",
      "abs(round((mean_mean-y_mean)/y_mean)) 0.0\n"
     ]
    },
    {
     "name": "stderr",
     "output_type": "stream",
     "text": [
      "\r",
      " 16%|█▌        | 56/360 [00:26<02:34,  1.97it/s]"
     ]
    },
    {
     "name": "stdout",
     "output_type": "stream",
     "text": [
      "local Optima\n",
      "y_mean 8.88264748202197\n",
      "mean_mean 8.882619034046707\n",
      "abs(round((mean_mean-y_mean)/y_mean)) 0.0\n",
      "local Optima\n",
      "y_mean 6.583188649267847\n",
      "mean_mean 6.657510026012469\n",
      "abs(round((mean_mean-y_mean)/y_mean)) 0.0\n"
     ]
    },
    {
     "name": "stderr",
     "output_type": "stream",
     "text": [
      "\r",
      " 16%|█▌        | 57/360 [00:27<02:42,  1.87it/s]"
     ]
    },
    {
     "name": "stdout",
     "output_type": "stream",
     "text": [
      "local Optima\n",
      "y_mean 6.583188649267847\n",
      "mean_mean 6.552020525343141\n",
      "abs(round((mean_mean-y_mean)/y_mean)) 0.0\n",
      "local Optima\n",
      "y_mean 8.420244009835665\n",
      "mean_mean 8.420227052448373\n",
      "abs(round((mean_mean-y_mean)/y_mean)) 0.0\n"
     ]
    },
    {
     "name": "stderr",
     "output_type": "stream",
     "text": [
      "\r",
      " 16%|█▌        | 58/360 [00:27<03:12,  1.57it/s]"
     ]
    },
    {
     "name": "stdout",
     "output_type": "stream",
     "text": [
      "local Optima\n",
      "y_mean 8.420244009835665\n",
      "mean_mean 8.420222552086733\n",
      "abs(round((mean_mean-y_mean)/y_mean)) 0.0\n",
      "local Optima\n",
      "y_mean 7.6783151476014275\n",
      "mean_mean 7.66346570648258\n",
      "abs(round((mean_mean-y_mean)/y_mean)) 0.0\n"
     ]
    },
    {
     "name": "stderr",
     "output_type": "stream",
     "text": [
      "\r",
      " 16%|█▋        | 59/360 [00:28<03:43,  1.34it/s]"
     ]
    },
    {
     "name": "stdout",
     "output_type": "stream",
     "text": [
      "local Optima\n",
      "y_mean 7.6783151476014275\n",
      "mean_mean 7.663463281102818\n",
      "abs(round((mean_mean-y_mean)/y_mean)) 0.0\n",
      "local Optima\n",
      "y_mean 8.865514539136559\n",
      "mean_mean 8.865511505418509\n",
      "abs(round((mean_mean-y_mean)/y_mean)) 0.0\n"
     ]
    },
    {
     "name": "stderr",
     "output_type": "stream",
     "text": [
      "\r",
      " 17%|█▋        | 60/360 [00:29<03:27,  1.45it/s]"
     ]
    },
    {
     "name": "stdout",
     "output_type": "stream",
     "text": [
      "local Optima\n",
      "y_mean 8.865514539136559\n",
      "mean_mean 8.865511504882221\n",
      "abs(round((mean_mean-y_mean)/y_mean)) 0.0\n"
     ]
    },
    {
     "name": "stderr",
     "output_type": "stream",
     "text": [
      "\r",
      " 17%|█▋        | 61/360 [00:29<03:01,  1.65it/s]"
     ]
    },
    {
     "name": "stdout",
     "output_type": "stream",
     "text": [
      "local Optima\n",
      "y_mean 6.458794027199641\n",
      "mean_mean 6.2371622198856995\n",
      "abs(round((mean_mean-y_mean)/y_mean)) 0.0\n",
      "local Optima\n",
      "y_mean 6.458794027199641\n",
      "mean_mean 6.4375970049512\n",
      "abs(round((mean_mean-y_mean)/y_mean)) 0.0\n"
     ]
    },
    {
     "name": "stderr",
     "output_type": "stream",
     "text": [
      "\r",
      " 17%|█▋        | 62/360 [00:30<02:45,  1.80it/s]"
     ]
    },
    {
     "name": "stdout",
     "output_type": "stream",
     "text": [
      "local Optima\n",
      "y_mean 8.963330899315865\n",
      "mean_mean 8.963313774280103\n",
      "abs(round((mean_mean-y_mean)/y_mean)) 0.0\n",
      "local Optima\n",
      "y_mean 8.963330899315865\n",
      "mean_mean 8.963310685162504\n",
      "abs(round((mean_mean-y_mean)/y_mean)) 0.0\n"
     ]
    },
    {
     "name": "stderr",
     "output_type": "stream",
     "text": [
      "\r",
      " 18%|█▊        | 63/360 [00:30<02:33,  1.94it/s]"
     ]
    },
    {
     "name": "stdout",
     "output_type": "stream",
     "text": [
      "local Optima\n",
      "y_mean 6.554874634158133\n",
      "mean_mean 6.5197631391828565\n",
      "abs(round((mean_mean-y_mean)/y_mean)) 0.0\n",
      "local Optima\n",
      "y_mean 6.554874634158133\n",
      "mean_mean 6.537411537825872\n",
      "abs(round((mean_mean-y_mean)/y_mean)) 0.0\n",
      "Fit Cholesky decomposition was not successful.\n",
      "Fit Cholesky decomposition was not successful.\n",
      "local Optima\n",
      "y_mean 8.468919193766453\n",
      "mean_mean 8.468901400546006\n",
      "abs(round((mean_mean-y_mean)/y_mean)) 0.0\n",
      "local Optima\n",
      "y_mean 8.468919193766453\n",
      "mean_mean 8.468901400546006\n",
      "abs(round((mean_mean-y_mean)/y_mean)) 0.0\n",
      "local Optima\n",
      "y_mean 8.468919193766453\n",
      "mean_mean 8.468901400546006\n",
      "abs(round((mean_mean-y_mean)/y_mean)) 0.0\n"
     ]
    },
    {
     "name": "stderr",
     "output_type": "stream",
     "text": [
      "\r",
      " 18%|█▊        | 64/360 [00:31<03:13,  1.53it/s]"
     ]
    },
    {
     "name": "stdout",
     "output_type": "stream",
     "text": [
      "local Optima\n",
      "y_mean 8.468919193766453\n",
      "mean_mean 8.468901395970132\n",
      "abs(round((mean_mean-y_mean)/y_mean)) 0.0\n",
      "local Optima\n",
      "y_mean 8.118476305671184\n",
      "mean_mean 8.259919805606227\n",
      "abs(round((mean_mean-y_mean)/y_mean)) 0.0\n",
      "local Optima\n",
      "y_mean 8.118476305671184\n",
      "mean_mean 8.107012486569948\n",
      "abs(round((mean_mean-y_mean)/y_mean)) 0.0\n"
     ]
    },
    {
     "name": "stderr",
     "output_type": "stream",
     "text": [
      "\r",
      " 18%|█▊        | 65/360 [00:32<02:54,  1.69it/s]"
     ]
    },
    {
     "name": "stdout",
     "output_type": "stream",
     "text": [
      "Fit Cholesky decomposition was not successful.\n",
      "local Optima\n",
      "y_mean 8.747627963103415\n",
      "mean_mean 8.747615293434626\n",
      "abs(round((mean_mean-y_mean)/y_mean)) 0.0\n",
      "local Optima\n",
      "y_mean 8.747627963103415\n",
      "mean_mean 8.747615293434626\n",
      "abs(round((mean_mean-y_mean)/y_mean)) 0.0\n"
     ]
    },
    {
     "name": "stderr",
     "output_type": "stream",
     "text": [
      "\r",
      " 18%|█▊        | 66/360 [00:32<03:14,  1.51it/s]"
     ]
    },
    {
     "name": "stdout",
     "output_type": "stream",
     "text": [
      "local Optima\n",
      "y_mean 8.747627963103415\n",
      "mean_mean 8.747615290838484\n",
      "abs(round((mean_mean-y_mean)/y_mean)) 0.0\n"
     ]
    },
    {
     "name": "stderr",
     "output_type": "stream",
     "text": [
      "\r",
      " 19%|█▊        | 67/360 [00:33<02:55,  1.67it/s]"
     ]
    },
    {
     "name": "stdout",
     "output_type": "stream",
     "text": [
      "local Optima\n",
      "y_mean 5.24828429470593\n",
      "mean_mean 5.179057280858661\n",
      "abs(round((mean_mean-y_mean)/y_mean)) 0.0\n",
      "local Optima\n",
      "y_mean 5.24828429470593\n",
      "mean_mean 5.179056578145519\n",
      "abs(round((mean_mean-y_mean)/y_mean)) 0.0\n",
      "local Optima\n",
      "y_mean 7.811766835310826\n",
      "mean_mean 7.811703915431941\n",
      "abs(round((mean_mean-y_mean)/y_mean)) 0.0\n"
     ]
    },
    {
     "name": "stderr",
     "output_type": "stream",
     "text": [
      "\r",
      " 19%|█▉        | 68/360 [00:33<02:46,  1.76it/s]"
     ]
    },
    {
     "name": "stdout",
     "output_type": "stream",
     "text": [
      "local Optima\n",
      "y_mean 7.811766835310826\n",
      "mean_mean 7.811703965437935\n",
      "abs(round((mean_mean-y_mean)/y_mean)) 0.0\n",
      "local Optima\n",
      "y_mean 6.005902605861753\n",
      "mean_mean 5.981461908171224\n",
      "abs(round((mean_mean-y_mean)/y_mean)) 0.0\n",
      "local Optima\n",
      "y_mean 6.005902605861753\n",
      "mean_mean 5.971675325076958\n",
      "abs(round((mean_mean-y_mean)/y_mean)) 0.0\n"
     ]
    },
    {
     "name": "stderr",
     "output_type": "stream",
     "text": [
      "\r",
      " 19%|█▉        | 69/360 [00:34<02:34,  1.88it/s]"
     ]
    },
    {
     "name": "stdout",
     "output_type": "stream",
     "text": [
      "Fit Cholesky decomposition was not successful.\n",
      "Fit Cholesky decomposition was not successful.\n",
      "Fit Cholesky decomposition was not successful.\n",
      "local Optima\n",
      "y_mean 7.638344101673842\n",
      "mean_mean 7.638323420167796\n",
      "abs(round((mean_mean-y_mean)/y_mean)) 0.0\n",
      "local Optima\n",
      "y_mean 7.638344101673842\n",
      "mean_mean 7.638323420167796\n",
      "abs(round((mean_mean-y_mean)/y_mean)) 0.0\n",
      "local Optima\n",
      "y_mean 7.638344101673842\n",
      "mean_mean 7.638323420167796\n",
      "abs(round((mean_mean-y_mean)/y_mean)) 0.0\n",
      "local Optima\n",
      "y_mean 7.638344101673842\n",
      "mean_mean 7.638323420167796\n",
      "abs(round((mean_mean-y_mean)/y_mean)) 0.0\n"
     ]
    },
    {
     "name": "stderr",
     "output_type": "stream",
     "text": [
      "\r",
      " 19%|█▉        | 70/360 [00:35<03:54,  1.24it/s]"
     ]
    },
    {
     "name": "stdout",
     "output_type": "stream",
     "text": [
      "local Optima\n",
      "y_mean 7.638344101673842\n",
      "mean_mean 7.6383234267471884\n",
      "abs(round((mean_mean-y_mean)/y_mean)) 0.0\n",
      "local Optima\n",
      "y_mean 6.977557600872985\n",
      "mean_mean 6.9670300114361075\n",
      "abs(round((mean_mean-y_mean)/y_mean)) 0.0\n",
      "local Optima\n",
      "y_mean 6.977557600872985\n",
      "mean_mean 6.967031287118075\n",
      "abs(round((mean_mean-y_mean)/y_mean)) 0.0\n"
     ]
    },
    {
     "name": "stderr",
     "output_type": "stream",
     "text": [
      "\r",
      " 20%|█▉        | 71/360 [00:36<03:26,  1.40it/s]"
     ]
    },
    {
     "name": "stdout",
     "output_type": "stream",
     "text": [
      "local Optima\n",
      "y_mean 7.713307675543086\n",
      "mean_mean 7.713292290263388\n",
      "abs(round((mean_mean-y_mean)/y_mean)) 0.0\n"
     ]
    },
    {
     "name": "stderr",
     "output_type": "stream",
     "text": [
      "\r",
      " 20%|██        | 72/360 [00:36<03:08,  1.53it/s]"
     ]
    },
    {
     "name": "stdout",
     "output_type": "stream",
     "text": [
      "local Optima\n",
      "y_mean 7.713307675543086\n",
      "mean_mean 7.713292290064505\n",
      "abs(round((mean_mean-y_mean)/y_mean)) 0.0\n"
     ]
    },
    {
     "name": "stderr",
     "output_type": "stream",
     "text": [
      "\r",
      " 20%|██        | 73/360 [00:37<02:49,  1.70it/s]"
     ]
    },
    {
     "name": "stdout",
     "output_type": "stream",
     "text": [
      "local Optima\n",
      "y_mean 4.275565307125158\n",
      "mean_mean 4.207583529693223\n",
      "abs(round((mean_mean-y_mean)/y_mean)) 0.0\n",
      "local Optima\n",
      "y_mean 4.275565307125158\n",
      "mean_mean 4.207573445756644\n",
      "abs(round((mean_mean-y_mean)/y_mean)) 0.0\n",
      "local Optima\n",
      "y_mean 6.854533057218063\n",
      "mean_mean 6.85449342625749\n",
      "abs(round((mean_mean-y_mean)/y_mean)) 0.0\n"
     ]
    },
    {
     "name": "stderr",
     "output_type": "stream",
     "text": [
      "\r",
      " 21%|██        | 74/360 [00:37<02:38,  1.80it/s]"
     ]
    },
    {
     "name": "stdout",
     "output_type": "stream",
     "text": [
      "local Optima\n",
      "y_mean 6.854533057218063\n",
      "mean_mean 6.854493411673121\n",
      "abs(round((mean_mean-y_mean)/y_mean)) 0.0\n"
     ]
    },
    {
     "name": "stderr",
     "output_type": "stream",
     "text": [
      "\r",
      " 21%|██        | 75/360 [00:38<02:25,  1.96it/s]"
     ]
    },
    {
     "name": "stdout",
     "output_type": "stream",
     "text": [
      "local Optima\n",
      "y_mean 5.561085399399126\n",
      "mean_mean 5.240210214792409\n",
      "abs(round((mean_mean-y_mean)/y_mean)) 0.0\n",
      "local Optima\n",
      "y_mean 5.561085399399126\n",
      "mean_mean 5.5068184622892105\n",
      "abs(round((mean_mean-y_mean)/y_mean)) 0.0\n",
      "Fit Cholesky decomposition was not successful.\n",
      "Fit Cholesky decomposition was not successful.\n",
      "local Optima\n",
      "y_mean 8.308558931250358\n",
      "mean_mean 8.308528722728118\n",
      "abs(round((mean_mean-y_mean)/y_mean)) 0.0\n",
      "local Optima\n",
      "y_mean 8.308558931250358\n",
      "mean_mean 8.308528722728118\n",
      "abs(round((mean_mean-y_mean)/y_mean)) 0.0\n",
      "local Optima\n",
      "y_mean 8.308558931250358\n",
      "mean_mean 8.308528722728118\n",
      "abs(round((mean_mean-y_mean)/y_mean)) 0.0\n"
     ]
    },
    {
     "name": "stderr",
     "output_type": "stream",
     "text": [
      "\r",
      " 21%|██        | 76/360 [00:39<03:00,  1.57it/s]"
     ]
    },
    {
     "name": "stdout",
     "output_type": "stream",
     "text": [
      "local Optima\n",
      "y_mean 8.308558931250358\n",
      "mean_mean 8.308528722849683\n",
      "abs(round((mean_mean-y_mean)/y_mean)) 0.0\n"
     ]
    },
    {
     "name": "stderr",
     "output_type": "stream",
     "text": [
      "\r",
      " 21%|██▏       | 77/360 [00:39<02:40,  1.77it/s]"
     ]
    },
    {
     "name": "stdout",
     "output_type": "stream",
     "text": [
      "local Optima\n",
      "y_mean 6.029735502027416\n",
      "mean_mean 5.86487429440655\n",
      "abs(round((mean_mean-y_mean)/y_mean)) 0.0\n",
      "local Optima\n",
      "y_mean 6.029735502027416\n",
      "mean_mean 6.005865903406367\n",
      "abs(round((mean_mean-y_mean)/y_mean)) 0.0\n"
     ]
    },
    {
     "name": "stderr",
     "output_type": "stream",
     "text": [
      "\r",
      " 22%|██▏       | 78/360 [00:39<02:28,  1.90it/s]"
     ]
    },
    {
     "name": "stdout",
     "output_type": "stream",
     "text": [
      "local Optima\n",
      "y_mean 7.998514860683029\n",
      "mean_mean 7.998487353998412\n",
      "abs(round((mean_mean-y_mean)/y_mean)) 0.0\n",
      "local Optima\n",
      "y_mean 7.998514860683029\n",
      "mean_mean 7.998487355076886\n",
      "abs(round((mean_mean-y_mean)/y_mean)) 0.0\n"
     ]
    },
    {
     "name": "stderr",
     "output_type": "stream",
     "text": [
      "\r",
      " 22%|██▏       | 79/360 [00:40<02:17,  2.04it/s]"
     ]
    },
    {
     "name": "stdout",
     "output_type": "stream",
     "text": [
      "local Optima\n",
      "y_mean 5.0551460478479475\n",
      "mean_mean 4.784740872722973\n",
      "abs(round((mean_mean-y_mean)/y_mean)) 0.0\n",
      "local Optima\n",
      "y_mean 5.0551460478479475\n",
      "mean_mean 5.001309119678772\n",
      "abs(round((mean_mean-y_mean)/y_mean)) 0.0\n",
      "Fit Cholesky decomposition was not successful.\n",
      "local Optima\n",
      "y_mean 8.333922002570016\n",
      "mean_mean 8.333894467863676\n",
      "abs(round((mean_mean-y_mean)/y_mean)) 0.0\n",
      "local Optima\n",
      "y_mean 8.333922002570016\n",
      "mean_mean 8.333894467863676\n",
      "abs(round((mean_mean-y_mean)/y_mean)) 0.0\n",
      "local Optima\n",
      "y_mean 8.333922002570016\n",
      "mean_mean 8.33388393584583\n",
      "abs(round((mean_mean-y_mean)/y_mean)) 0.0\n"
     ]
    },
    {
     "name": "stderr",
     "output_type": "stream",
     "text": [
      " 22%|██▎       | 81/360 [00:41<02:25,  1.92it/s]"
     ]
    },
    {
     "name": "stdout",
     "output_type": "stream",
     "text": [
      "local Optima\n",
      "y_mean 6.087223646986086\n",
      "mean_mean 6.038903964480698\n",
      "abs(round((mean_mean-y_mean)/y_mean)) 0.0\n",
      "local Optima\n",
      "y_mean 6.087223646986086\n",
      "mean_mean 6.062001881106379\n",
      "abs(round((mean_mean-y_mean)/y_mean)) 0.0\n"
     ]
    },
    {
     "name": "stderr",
     "output_type": "stream",
     "text": [
      "\r",
      " 23%|██▎       | 82/360 [00:41<02:16,  2.04it/s]"
     ]
    },
    {
     "name": "stdout",
     "output_type": "stream",
     "text": [
      "local Optima\n",
      "y_mean 7.900074060999245\n",
      "mean_mean 7.900045094174415\n",
      "abs(round((mean_mean-y_mean)/y_mean)) 0.0\n",
      "local Optima\n",
      "y_mean 7.900074060999245\n",
      "mean_mean 7.900042044910662\n",
      "abs(round((mean_mean-y_mean)/y_mean)) 0.0\n",
      "local Optima\n",
      "y_mean 6.338281906379094\n",
      "mean_mean 6.098998146513598\n",
      "abs(round((mean_mean-y_mean)/y_mean)) 0.0\n"
     ]
    },
    {
     "name": "stderr",
     "output_type": "stream",
     "text": [
      "\r",
      " 23%|██▎       | 83/360 [00:42<02:16,  2.03it/s]"
     ]
    },
    {
     "name": "stdout",
     "output_type": "stream",
     "text": [
      "local Optima\n",
      "y_mean 6.338281906379094\n",
      "mean_mean 6.315953820768304\n",
      "abs(round((mean_mean-y_mean)/y_mean)) 0.0\n",
      "Fit Cholesky decomposition was not successful.\n",
      "Fit Cholesky decomposition was not successful.\n",
      "Fit Cholesky decomposition was not successful.\n",
      "Fit Cholesky decomposition was not successful.\n",
      "local Optima\n",
      "y_mean 8.258881986693218\n",
      "mean_mean 8.25886801121416\n",
      "abs(round((mean_mean-y_mean)/y_mean)) 0.0\n",
      "local Optima\n",
      "y_mean 8.258881986693218\n",
      "mean_mean 8.25886801121416\n",
      "abs(round((mean_mean-y_mean)/y_mean)) 0.0\n",
      "local Optima\n",
      "y_mean 8.258881986693218\n",
      "mean_mean 8.25886801121416\n",
      "abs(round((mean_mean-y_mean)/y_mean)) 0.0\n",
      "local Optima\n",
      "y_mean 8.258881986693218\n",
      "mean_mean 8.25886801121416\n",
      "abs(round((mean_mean-y_mean)/y_mean)) 0.0\n",
      "local Optima\n",
      "y_mean 8.258881986693218\n",
      "mean_mean 8.25886801121416\n",
      "abs(round((mean_mean-y_mean)/y_mean)) 0.0\n"
     ]
    },
    {
     "name": "stderr",
     "output_type": "stream",
     "text": [
      "\r",
      " 23%|██▎       | 84/360 [00:44<03:54,  1.18it/s]"
     ]
    },
    {
     "name": "stdout",
     "output_type": "stream",
     "text": [
      "local Optima\n",
      "y_mean 8.258881986693218\n",
      "mean_mean 8.258868024689086\n",
      "abs(round((mean_mean-y_mean)/y_mean)) 0.0\n"
     ]
    },
    {
     "name": "stderr",
     "output_type": "stream",
     "text": [
      "\r",
      " 24%|██▎       | 85/360 [00:44<03:14,  1.41it/s]"
     ]
    },
    {
     "name": "stdout",
     "output_type": "stream",
     "text": [
      "local Optima\n",
      "y_mean 5.472192401512309\n",
      "mean_mean 5.440231665098754\n",
      "abs(round((mean_mean-y_mean)/y_mean)) 0.0\n",
      "local Optima\n",
      "y_mean 5.472192401512309\n",
      "mean_mean 5.444371108438182\n",
      "abs(round((mean_mean-y_mean)/y_mean)) 0.0\n"
     ]
    },
    {
     "name": "stderr",
     "output_type": "stream",
     "text": [
      "\r",
      " 24%|██▍       | 86/360 [00:44<02:47,  1.63it/s]"
     ]
    },
    {
     "name": "stdout",
     "output_type": "stream",
     "text": [
      "local Optima\n",
      "y_mean 7.352580585831254\n",
      "mean_mean 7.356789046684071\n",
      "abs(round((mean_mean-y_mean)/y_mean)) 0.0\n",
      "local Optima\n",
      "y_mean 7.352580585831254\n",
      "mean_mean 7.352552952347852\n",
      "abs(round((mean_mean-y_mean)/y_mean)) 0.0\n"
     ]
    },
    {
     "name": "stderr",
     "output_type": "stream",
     "text": [
      "\r",
      " 24%|██▍       | 87/360 [00:45<02:28,  1.84it/s]"
     ]
    },
    {
     "name": "stdout",
     "output_type": "stream",
     "text": [
      "local Optima\n",
      "y_mean 6.357396684882574\n",
      "mean_mean 6.4579619365076075\n",
      "abs(round((mean_mean-y_mean)/y_mean)) 0.0\n",
      "local Optima\n",
      "y_mean 6.357396684882574\n",
      "mean_mean 6.34080609499165\n",
      "abs(round((mean_mean-y_mean)/y_mean)) 0.0\n"
     ]
    },
    {
     "name": "stderr",
     "output_type": "stream",
     "text": [
      "\r",
      " 24%|██▍       | 88/360 [00:45<02:15,  2.00it/s]"
     ]
    },
    {
     "name": "stdout",
     "output_type": "stream",
     "text": [
      "local Optima\n",
      "y_mean 7.109246891559861\n",
      "mean_mean 7.112173076580586\n",
      "abs(round((mean_mean-y_mean)/y_mean)) 0.0\n",
      "local Optima\n",
      "y_mean 7.109246891559861\n",
      "mean_mean 7.109237957326526\n",
      "abs(round((mean_mean-y_mean)/y_mean)) 0.0\n"
     ]
    },
    {
     "name": "stderr",
     "output_type": "stream",
     "text": [
      "\r",
      " 25%|██▍       | 89/360 [00:46<02:09,  2.10it/s]"
     ]
    },
    {
     "name": "stdout",
     "output_type": "stream",
     "text": [
      "local Optima\n",
      "y_mean 7.351179228457557\n",
      "mean_mean 7.3461280238822555\n",
      "abs(round((mean_mean-y_mean)/y_mean)) 0.0\n",
      "local Optima\n",
      "y_mean 7.351179228457557\n",
      "mean_mean 7.346128163220292\n",
      "abs(round((mean_mean-y_mean)/y_mean)) 0.0\n"
     ]
    },
    {
     "name": "stderr",
     "output_type": "stream",
     "text": [
      "\r",
      " 25%|██▌       | 90/360 [00:46<02:06,  2.13it/s]"
     ]
    },
    {
     "name": "stdout",
     "output_type": "stream",
     "text": [
      "local Optima\n",
      "y_mean 8.059152921945262\n",
      "mean_mean 8.059146215706715\n",
      "abs(round((mean_mean-y_mean)/y_mean)) 0.0\n",
      "local Optima\n",
      "y_mean 8.059152921945262\n",
      "mean_mean 8.059146210334674\n",
      "abs(round((mean_mean-y_mean)/y_mean)) 0.0\n"
     ]
    },
    {
     "name": "stderr",
     "output_type": "stream",
     "text": [
      "\r",
      " 25%|██▌       | 91/360 [00:46<02:00,  2.24it/s]"
     ]
    },
    {
     "name": "stdout",
     "output_type": "stream",
     "text": [
      "local Optima\n",
      "y_mean 5.9732035071842535\n",
      "mean_mean 5.69259007528923\n",
      "abs(round((mean_mean-y_mean)/y_mean)) 0.0\n",
      "local Optima\n",
      "y_mean 5.9732035071842535\n",
      "mean_mean 5.920666011986653\n",
      "abs(round((mean_mean-y_mean)/y_mean)) 0.0\n",
      "Fit Cholesky decomposition was not successful.\n",
      "Fit Cholesky decomposition was not successful.\n",
      "local Optima\n",
      "y_mean 9.18623587902026\n",
      "mean_mean 9.186210729317551\n",
      "abs(round((mean_mean-y_mean)/y_mean)) 0.0\n",
      "local Optima\n",
      "y_mean 9.18623587902026\n",
      "mean_mean 9.186210729317551\n",
      "abs(round((mean_mean-y_mean)/y_mean)) 0.0\n",
      "local Optima\n",
      "y_mean 9.18623587902026\n",
      "mean_mean 9.186210729317551\n",
      "abs(round((mean_mean-y_mean)/y_mean)) 0.0\n",
      "local Optima\n",
      "y_mean 9.18623587902026\n",
      "mean_mean 9.186210719994296\n",
      "abs(round((mean_mean-y_mean)/y_mean)) 0.0\n"
     ]
    },
    {
     "name": "stderr",
     "output_type": "stream",
     "text": [
      " 26%|██▌       | 93/360 [00:48<02:20,  1.90it/s]"
     ]
    },
    {
     "name": "stdout",
     "output_type": "stream",
     "text": [
      "local Optima\n",
      "y_mean 6.515339109733108\n",
      "mean_mean 6.506885899095272\n",
      "abs(round((mean_mean-y_mean)/y_mean)) 0.0\n",
      "local Optima\n",
      "y_mean 6.515339109733108\n",
      "mean_mean 6.485013499136716\n",
      "abs(round((mean_mean-y_mean)/y_mean)) 0.0\n",
      "Fit Cholesky decomposition was not successful.\n",
      "local Optima\n",
      "y_mean 8.647429669907014\n",
      "mean_mean 8.647408356468157\n",
      "abs(round((mean_mean-y_mean)/y_mean)) 0.0\n",
      "local Optima\n",
      "y_mean 8.647429669907014\n",
      "mean_mean 8.647408356468157\n",
      "abs(round((mean_mean-y_mean)/y_mean)) 0.0\n",
      "local Optima\n",
      "y_mean 8.647429669907014\n",
      "mean_mean 8.647408357099692\n",
      "abs(round((mean_mean-y_mean)/y_mean)) 0.0\n"
     ]
    },
    {
     "name": "stderr",
     "output_type": "stream",
     "text": [
      " 26%|██▋       | 95/360 [00:49<02:16,  1.94it/s]"
     ]
    },
    {
     "name": "stdout",
     "output_type": "stream",
     "text": [
      "local Optima\n",
      "y_mean 6.720931015445921\n",
      "mean_mean 6.7441686871239055\n",
      "abs(round((mean_mean-y_mean)/y_mean)) 0.0\n",
      "local Optima\n",
      "y_mean 6.720931015445921\n",
      "mean_mean 6.701504148395073\n",
      "abs(round((mean_mean-y_mean)/y_mean)) 0.0\n",
      "Fit Cholesky decomposition was not successful.\n",
      "Fit Cholesky decomposition was not successful.\n",
      "Fit Cholesky decomposition was not successful.\n",
      "local Optima\n",
      "y_mean 8.318351003581546\n",
      "mean_mean 8.318332405349986\n",
      "abs(round((mean_mean-y_mean)/y_mean)) 0.0\n",
      "local Optima\n",
      "y_mean 8.318351003581546\n",
      "mean_mean 8.318332405349986\n",
      "abs(round((mean_mean-y_mean)/y_mean)) 0.0\n",
      "local Optima\n",
      "y_mean 8.318351003581546\n",
      "mean_mean 8.318332405349986\n",
      "abs(round((mean_mean-y_mean)/y_mean)) 0.0\n",
      "local Optima\n",
      "y_mean 8.318351003581546\n",
      "mean_mean 8.318332405349986\n",
      "abs(round((mean_mean-y_mean)/y_mean)) 0.0\n",
      "local Optima\n",
      "y_mean 8.318351003581546\n",
      "mean_mean 8.318332399616448\n",
      "abs(round((mean_mean-y_mean)/y_mean)) 0.0\n"
     ]
    },
    {
     "name": "stderr",
     "output_type": "stream",
     "text": [
      " 27%|██▋       | 97/360 [00:50<02:43,  1.61it/s]"
     ]
    },
    {
     "name": "stdout",
     "output_type": "stream",
     "text": [
      "local Optima\n",
      "y_mean 3.8594515302771746\n",
      "mean_mean 3.8340614490590132\n",
      "abs(round((mean_mean-y_mean)/y_mean)) 0.0\n",
      "local Optima\n",
      "y_mean 3.8594515302771746\n",
      "mean_mean 3.8205065943050274\n",
      "abs(round((mean_mean-y_mean)/y_mean)) 0.0\n"
     ]
    },
    {
     "name": "stderr",
     "output_type": "stream",
     "text": [
      "\r",
      " 27%|██▋       | 98/360 [00:51<02:24,  1.81it/s]"
     ]
    },
    {
     "name": "stdout",
     "output_type": "stream",
     "text": [
      "local Optima\n",
      "y_mean 5.301199420016825\n",
      "mean_mean 5.301174050991652\n",
      "abs(round((mean_mean-y_mean)/y_mean)) 0.0\n",
      "local Optima\n",
      "y_mean 5.301199420016825\n",
      "mean_mean 5.301159201074448\n",
      "abs(round((mean_mean-y_mean)/y_mean)) 0.0\n",
      "local Optima\n",
      "y_mean 5.3761663652737814\n",
      "mean_mean 5.051509907062978\n",
      "abs(round((mean_mean-y_mean)/y_mean)) 0.0\n",
      "local Optima\n",
      "y_mean 5.3761663652737814\n",
      "mean_mean 5.331253432474092\n",
      "abs(round((mean_mean-y_mean)/y_mean)) 0.0\n"
     ]
    },
    {
     "name": "stderr",
     "output_type": "stream",
     "text": [
      " 28%|██▊       | 100/360 [00:52<02:06,  2.06it/s]"
     ]
    },
    {
     "name": "stdout",
     "output_type": "stream",
     "text": [
      "local Optima\n",
      "y_mean 8.669463451492234\n",
      "mean_mean 8.66940536963529\n",
      "abs(round((mean_mean-y_mean)/y_mean)) 0.0\n",
      "local Optima\n",
      "y_mean 8.669463451492234\n",
      "mean_mean 8.669405376337007\n",
      "abs(round((mean_mean-y_mean)/y_mean)) 0.0\n"
     ]
    },
    {
     "name": "stderr",
     "output_type": "stream",
     "text": [
      "\r",
      " 28%|██▊       | 101/360 [00:52<01:58,  2.19it/s]"
     ]
    },
    {
     "name": "stdout",
     "output_type": "stream",
     "text": [
      "local Optima\n",
      "y_mean 6.264939347650621\n",
      "mean_mean 6.0443716603093165\n",
      "abs(round((mean_mean-y_mean)/y_mean)) 0.0\n",
      "local Optima\n",
      "y_mean 6.264939347650621\n",
      "mean_mean 6.240438399987811\n",
      "abs(round((mean_mean-y_mean)/y_mean)) 0.0\n"
     ]
    },
    {
     "name": "stderr",
     "output_type": "stream",
     "text": [
      "\r",
      " 28%|██▊       | 102/360 [00:52<01:54,  2.25it/s]"
     ]
    },
    {
     "name": "stdout",
     "output_type": "stream",
     "text": [
      "local Optima\n",
      "y_mean 8.52928457428274\n",
      "mean_mean 8.52924900808814\n",
      "abs(round((mean_mean-y_mean)/y_mean)) 0.0\n",
      "local Optima\n",
      "y_mean 8.52928457428274\n",
      "mean_mean 8.529249004266314\n",
      "abs(round((mean_mean-y_mean)/y_mean)) 0.0\n"
     ]
    },
    {
     "name": "stderr",
     "output_type": "stream",
     "text": [
      "\r",
      " 29%|██▊       | 103/360 [00:53<01:49,  2.35it/s]"
     ]
    },
    {
     "name": "stdout",
     "output_type": "stream",
     "text": [
      "local Optima\n",
      "y_mean 5.125051939905866\n",
      "mean_mean 4.724188623813527\n",
      "abs(round((mean_mean-y_mean)/y_mean)) 0.0\n",
      "local Optima\n",
      "y_mean 5.125051939905866\n",
      "mean_mean 5.065522804197896\n",
      "abs(round((mean_mean-y_mean)/y_mean)) 0.0\n"
     ]
    },
    {
     "name": "stderr",
     "output_type": "stream",
     "text": [
      "\r",
      " 29%|██▉       | 104/360 [00:53<01:51,  2.30it/s]"
     ]
    },
    {
     "name": "stdout",
     "output_type": "stream",
     "text": [
      "local Optima\n",
      "y_mean 9.427931832005891\n",
      "mean_mean 9.427895696909507\n",
      "abs(round((mean_mean-y_mean)/y_mean)) 0.0\n",
      "local Optima\n",
      "y_mean 9.427931832005891\n",
      "mean_mean 9.42787759163952\n",
      "abs(round((mean_mean-y_mean)/y_mean)) 0.0\n"
     ]
    },
    {
     "name": "stderr",
     "output_type": "stream",
     "text": [
      "\r",
      " 29%|██▉       | 105/360 [00:54<01:47,  2.38it/s]"
     ]
    },
    {
     "name": "stdout",
     "output_type": "stream",
     "text": [
      "local Optima\n",
      "y_mean 6.628475806327376\n",
      "mean_mean 6.599955336226847\n",
      "abs(round((mean_mean-y_mean)/y_mean)) 0.0\n",
      "local Optima\n",
      "y_mean 6.628475806327376\n",
      "mean_mean 6.588625864414926\n",
      "abs(round((mean_mean-y_mean)/y_mean)) 0.0\n"
     ]
    },
    {
     "name": "stderr",
     "output_type": "stream",
     "text": [
      "\r",
      " 29%|██▉       | 106/360 [00:54<01:46,  2.39it/s]"
     ]
    },
    {
     "name": "stdout",
     "output_type": "stream",
     "text": [
      "local Optima\n",
      "y_mean 9.061553006342884\n",
      "mean_mean 9.061530777488713\n",
      "abs(round((mean_mean-y_mean)/y_mean)) 0.0\n",
      "local Optima\n",
      "y_mean 9.061553006342884\n",
      "mean_mean 9.061519699473035\n",
      "abs(round((mean_mean-y_mean)/y_mean)) 0.0\n"
     ]
    },
    {
     "name": "stderr",
     "output_type": "stream",
     "text": [
      "\r",
      " 30%|██▉       | 107/360 [00:54<01:43,  2.45it/s]"
     ]
    },
    {
     "name": "stdout",
     "output_type": "stream",
     "text": [
      "local Optima\n",
      "y_mean 7.331218855605051\n",
      "mean_mean 7.33826281495524\n",
      "abs(round((mean_mean-y_mean)/y_mean)) 0.0\n",
      "local Optima\n",
      "y_mean 7.331218855605051\n",
      "mean_mean 7.3181268749657296\n",
      "abs(round((mean_mean-y_mean)/y_mean)) 0.0\n"
     ]
    },
    {
     "name": "stderr",
     "output_type": "stream",
     "text": [
      "\r",
      " 30%|███       | 108/360 [00:55<01:41,  2.48it/s]"
     ]
    },
    {
     "name": "stdout",
     "output_type": "stream",
     "text": [
      "local Optima\n",
      "y_mean 8.73669878561147\n",
      "mean_mean 8.736681796792196\n",
      "abs(round((mean_mean-y_mean)/y_mean)) 0.0\n",
      "local Optima\n",
      "y_mean 8.73669878561147\n",
      "mean_mean 8.736670135876384\n",
      "abs(round((mean_mean-y_mean)/y_mean)) 0.0\n"
     ]
    },
    {
     "name": "stderr",
     "output_type": "stream",
     "text": [
      "\r",
      " 30%|███       | 109/360 [00:55<01:39,  2.51it/s]"
     ]
    },
    {
     "name": "stdout",
     "output_type": "stream",
     "text": [
      "local Optima\n",
      "y_mean 5.8522590712202724\n",
      "mean_mean 5.797597594709748\n",
      "abs(round((mean_mean-y_mean)/y_mean)) 0.0\n",
      "local Optima\n",
      "y_mean 5.8522590712202724\n",
      "mean_mean 5.8027987610854135\n",
      "abs(round((mean_mean-y_mean)/y_mean)) 0.0\n"
     ]
    },
    {
     "name": "stderr",
     "output_type": "stream",
     "text": [
      "\r",
      " 31%|███       | 110/360 [00:56<01:39,  2.52it/s]"
     ]
    },
    {
     "name": "stdout",
     "output_type": "stream",
     "text": [
      "local Optima\n",
      "y_mean 8.062806758604772\n",
      "mean_mean 8.062786170617207\n",
      "abs(round((mean_mean-y_mean)/y_mean)) 0.0\n",
      "local Optima\n",
      "y_mean 8.062806758604772\n",
      "mean_mean 8.062781759187246\n",
      "abs(round((mean_mean-y_mean)/y_mean)) 0.0\n"
     ]
    },
    {
     "name": "stderr",
     "output_type": "stream",
     "text": [
      "\r",
      " 31%|███       | 111/360 [00:56<01:38,  2.53it/s]"
     ]
    },
    {
     "name": "stdout",
     "output_type": "stream",
     "text": [
      "local Optima\n",
      "y_mean 6.23209116620545\n",
      "mean_mean 6.2004775143364945\n",
      "abs(round((mean_mean-y_mean)/y_mean)) 0.0\n",
      "local Optima\n",
      "y_mean 6.23209116620545\n",
      "mean_mean 6.208615432264959\n",
      "abs(round((mean_mean-y_mean)/y_mean)) 0.0\n"
     ]
    },
    {
     "name": "stderr",
     "output_type": "stream",
     "text": [
      "\r",
      " 31%|███       | 112/360 [00:56<01:38,  2.52it/s]"
     ]
    },
    {
     "name": "stdout",
     "output_type": "stream",
     "text": [
      "local Optima\n",
      "y_mean 7.707708208996674\n",
      "mean_mean 7.707702622486974\n",
      "abs(round((mean_mean-y_mean)/y_mean)) 0.0\n",
      "local Optima\n",
      "y_mean 7.707708208996674\n",
      "mean_mean 7.707688685049471\n",
      "abs(round((mean_mean-y_mean)/y_mean)) 0.0\n"
     ]
    },
    {
     "name": "stderr",
     "output_type": "stream",
     "text": [
      "\r",
      " 31%|███▏      | 113/360 [00:57<01:36,  2.55it/s]"
     ]
    },
    {
     "name": "stdout",
     "output_type": "stream",
     "text": [
      "local Optima\n",
      "y_mean 7.191809518355192\n",
      "mean_mean 7.360301950923375\n",
      "abs(round((mean_mean-y_mean)/y_mean)) 0.0\n",
      "local Optima\n",
      "y_mean 7.191809518355192\n",
      "mean_mean 7.167415734289907\n",
      "abs(round((mean_mean-y_mean)/y_mean)) 0.0\n"
     ]
    },
    {
     "name": "stderr",
     "output_type": "stream",
     "text": [
      "\r",
      " 32%|███▏      | 114/360 [00:57<01:37,  2.52it/s]"
     ]
    },
    {
     "name": "stdout",
     "output_type": "stream",
     "text": [
      "local Optima\n",
      "y_mean 8.327736038372926\n",
      "mean_mean 8.327727604990041\n",
      "abs(round((mean_mean-y_mean)/y_mean)) 0.0\n",
      "local Optima\n",
      "y_mean 8.327736038372926\n",
      "mean_mean 8.327727605381332\n",
      "abs(round((mean_mean-y_mean)/y_mean)) 0.0\n"
     ]
    },
    {
     "name": "stderr",
     "output_type": "stream",
     "text": [
      "\r",
      " 32%|███▏      | 115/360 [00:58<01:36,  2.54it/s]"
     ]
    },
    {
     "name": "stdout",
     "output_type": "stream",
     "text": [
      "local Optima\n",
      "y_mean 4.858110798615864\n",
      "mean_mean 4.564652666157397\n",
      "abs(round((mean_mean-y_mean)/y_mean)) 0.0\n",
      "local Optima\n",
      "y_mean 4.858110798615864\n",
      "mean_mean 4.814341866994177\n",
      "abs(round((mean_mean-y_mean)/y_mean)) 0.0\n"
     ]
    },
    {
     "name": "stderr",
     "output_type": "stream",
     "text": [
      "\r",
      " 32%|███▏      | 116/360 [00:58<01:38,  2.49it/s]"
     ]
    },
    {
     "name": "stdout",
     "output_type": "stream",
     "text": [
      "local Optima\n",
      "y_mean 7.130598624586418\n",
      "mean_mean 7.1305826314885685\n",
      "abs(round((mean_mean-y_mean)/y_mean)) 0.0\n",
      "local Optima\n",
      "y_mean 7.130598624586418\n",
      "mean_mean 7.130582632845886\n",
      "abs(round((mean_mean-y_mean)/y_mean)) 0.0\n"
     ]
    },
    {
     "name": "stderr",
     "output_type": "stream",
     "text": [
      "\r",
      " 32%|███▎      | 117/360 [00:58<01:36,  2.52it/s]"
     ]
    },
    {
     "name": "stdout",
     "output_type": "stream",
     "text": [
      "local Optima\n",
      "y_mean 6.39973014524782\n",
      "mean_mean 6.2953663054379065\n",
      "abs(round((mean_mean-y_mean)/y_mean)) 0.0\n",
      "local Optima\n",
      "y_mean 6.39973014524782\n",
      "mean_mean 6.362757475969566\n",
      "abs(round((mean_mean-y_mean)/y_mean)) 0.0\n",
      "Fit Cholesky decomposition was not successful.\n",
      "Fit Cholesky decomposition was not successful.\n",
      "Fit Cholesky decomposition was not successful.\n",
      "local Optima\n",
      "y_mean 8.58748569684828\n",
      "mean_mean 8.587464471156625\n",
      "abs(round((mean_mean-y_mean)/y_mean)) 0.0\n",
      "local Optima\n",
      "y_mean 8.58748569684828\n",
      "mean_mean 8.587464471156625\n",
      "abs(round((mean_mean-y_mean)/y_mean)) 0.0\n",
      "local Optima\n",
      "y_mean 8.58748569684828\n",
      "mean_mean 8.587464471156625\n",
      "abs(round((mean_mean-y_mean)/y_mean)) 0.0\n",
      "local Optima\n",
      "y_mean 8.58748569684828\n",
      "mean_mean 8.587464471156625\n",
      "abs(round((mean_mean-y_mean)/y_mean)) 0.0\n",
      "local Optima\n",
      "y_mean 8.58748569684828\n",
      "mean_mean 8.587464472378075\n",
      "abs(round((mean_mean-y_mean)/y_mean)) 0.0\n"
     ]
    },
    {
     "name": "stderr",
     "output_type": "stream",
     "text": [
      " 33%|███▎      | 119/360 [01:00<02:10,  1.84it/s]"
     ]
    },
    {
     "name": "stdout",
     "output_type": "stream",
     "text": [
      "local Optima\n",
      "y_mean 8.087236950566655\n",
      "mean_mean 8.275734350853151\n",
      "abs(round((mean_mean-y_mean)/y_mean)) 0.0\n",
      "local Optima\n",
      "y_mean 8.087236950566655\n",
      "mean_mean 8.073066985924825\n",
      "abs(round((mean_mean-y_mean)/y_mean)) 0.0\n"
     ]
    },
    {
     "name": "stderr",
     "output_type": "stream",
     "text": [
      "\r",
      " 33%|███▎      | 120/360 [01:00<01:59,  2.01it/s]"
     ]
    },
    {
     "name": "stdout",
     "output_type": "stream",
     "text": [
      "local Optima\n",
      "y_mean 8.907536039565427\n",
      "mean_mean 8.9075168889062\n",
      "abs(round((mean_mean-y_mean)/y_mean)) 0.0\n",
      "local Optima\n",
      "y_mean 8.907536039565427\n",
      "mean_mean 8.907508860047313\n",
      "abs(round((mean_mean-y_mean)/y_mean)) 0.0\n"
     ]
    },
    {
     "name": "stderr",
     "output_type": "stream",
     "text": [
      "\r",
      " 34%|███▎      | 121/360 [01:01<01:51,  2.15it/s]"
     ]
    },
    {
     "name": "stdout",
     "output_type": "stream",
     "text": [
      "local Optima\n",
      "y_mean 4.330837104905736\n",
      "mean_mean 4.296741875980825\n",
      "abs(round((mean_mean-y_mean)/y_mean)) 0.0\n",
      "local Optima\n",
      "y_mean 4.330837104905736\n",
      "mean_mean 4.291950598634337\n",
      "abs(round((mean_mean-y_mean)/y_mean)) 0.0\n"
     ]
    },
    {
     "name": "stderr",
     "output_type": "stream",
     "text": [
      "\r",
      " 34%|███▍      | 122/360 [01:01<01:46,  2.24it/s]"
     ]
    },
    {
     "name": "stdout",
     "output_type": "stream",
     "text": [
      "local Optima\n",
      "y_mean 6.027774553916507\n",
      "mean_mean 6.027735865803388\n",
      "abs(round((mean_mean-y_mean)/y_mean)) 0.0\n",
      "local Optima\n",
      "y_mean 6.027774553916507\n",
      "mean_mean 6.0277185587146835\n",
      "abs(round((mean_mean-y_mean)/y_mean)) 0.0\n"
     ]
    },
    {
     "name": "stderr",
     "output_type": "stream",
     "text": [
      "\r",
      " 34%|███▍      | 123/360 [01:01<01:41,  2.34it/s]"
     ]
    },
    {
     "name": "stdout",
     "output_type": "stream",
     "text": [
      "local Optima\n",
      "y_mean 5.711411828427464\n",
      "mean_mean 5.6478460473884775\n",
      "abs(round((mean_mean-y_mean)/y_mean)) 0.0\n",
      "local Optima\n",
      "y_mean 5.711411828427464\n",
      "mean_mean 5.6841819688309245\n",
      "abs(round((mean_mean-y_mean)/y_mean)) 0.0\n"
     ]
    },
    {
     "name": "stderr",
     "output_type": "stream",
     "text": [
      "\r",
      " 34%|███▍      | 124/360 [01:02<01:40,  2.35it/s]"
     ]
    },
    {
     "name": "stdout",
     "output_type": "stream",
     "text": [
      "local Optima\n",
      "y_mean 7.587662423888328\n",
      "mean_mean 7.5876452903079565\n",
      "abs(round((mean_mean-y_mean)/y_mean)) 0.0\n",
      "local Optima\n",
      "y_mean 7.587662423888328\n",
      "mean_mean 7.587645291180475\n",
      "abs(round((mean_mean-y_mean)/y_mean)) 0.0\n"
     ]
    },
    {
     "name": "stderr",
     "output_type": "stream",
     "text": [
      "\r",
      " 35%|███▍      | 125/360 [01:02<01:36,  2.42it/s]"
     ]
    },
    {
     "name": "stdout",
     "output_type": "stream",
     "text": [
      "local Optima\n",
      "y_mean 7.92181425298427\n",
      "mean_mean 7.810700258952495\n",
      "abs(round((mean_mean-y_mean)/y_mean)) 0.0\n",
      "local Optima\n",
      "y_mean 7.92181425298427\n",
      "mean_mean 7.903368625964571\n",
      "abs(round((mean_mean-y_mean)/y_mean)) 0.0\n",
      "Fit Cholesky decomposition was not successful.\n"
     ]
    },
    {
     "name": "stderr",
     "output_type": "stream",
     "text": [
      "\r",
      " 35%|███▌      | 126/360 [01:03<01:54,  2.05it/s]"
     ]
    },
    {
     "name": "stdout",
     "output_type": "stream",
     "text": [
      "local Optima\n",
      "y_mean 9.456730587764591\n",
      "mean_mean 9.456721037517577\n",
      "abs(round((mean_mean-y_mean)/y_mean)) 0.0\n",
      "local Optima\n",
      "y_mean 9.456730587764591\n",
      "mean_mean 9.456721037517577\n",
      "abs(round((mean_mean-y_mean)/y_mean)) 0.0\n",
      "local Optima\n",
      "y_mean 9.456730587764591\n",
      "mean_mean 9.456721036444014\n",
      "abs(round((mean_mean-y_mean)/y_mean)) 0.0\n"
     ]
    },
    {
     "name": "stderr",
     "output_type": "stream",
     "text": [
      "\r",
      " 35%|███▌      | 127/360 [01:03<01:46,  2.19it/s]"
     ]
    },
    {
     "name": "stdout",
     "output_type": "stream",
     "text": [
      "local Optima\n",
      "y_mean 4.097725479974262\n",
      "mean_mean 4.048225288516741\n",
      "abs(round((mean_mean-y_mean)/y_mean)) 0.0\n",
      "local Optima\n",
      "y_mean 4.097725479974262\n",
      "mean_mean 4.026239978766921\n",
      "abs(round((mean_mean-y_mean)/y_mean)) 0.0\n"
     ]
    },
    {
     "name": "stderr",
     "output_type": "stream",
     "text": [
      "\r",
      " 36%|███▌      | 128/360 [01:04<01:42,  2.27it/s]"
     ]
    },
    {
     "name": "stdout",
     "output_type": "stream",
     "text": [
      "local Optima\n",
      "y_mean 8.810340173026317\n",
      "mean_mean 8.810304947707586\n",
      "abs(round((mean_mean-y_mean)/y_mean)) 0.0\n",
      "local Optima\n",
      "y_mean 8.810340173026317\n",
      "mean_mean 8.81029286419838\n",
      "abs(round((mean_mean-y_mean)/y_mean)) 0.0\n",
      "local Optima\n",
      "y_mean 4.600533507261263\n",
      "mean_mean 4.904251541479785\n",
      "abs(round((mean_mean-y_mean)/y_mean)) 0.0\n"
     ]
    },
    {
     "name": "stderr",
     "output_type": "stream",
     "text": [
      "\r",
      " 36%|███▌      | 129/360 [01:04<01:42,  2.25it/s]"
     ]
    },
    {
     "name": "stdout",
     "output_type": "stream",
     "text": [
      "local Optima\n",
      "y_mean 4.600533507261263\n",
      "mean_mean 4.552446984305526\n",
      "abs(round((mean_mean-y_mean)/y_mean)) 0.0\n"
     ]
    },
    {
     "name": "stderr",
     "output_type": "stream",
     "text": [
      "\r",
      " 36%|███▌      | 130/360 [01:05<01:39,  2.32it/s]"
     ]
    },
    {
     "name": "stdout",
     "output_type": "stream",
     "text": [
      "local Optima\n",
      "y_mean 8.387824555547972\n",
      "mean_mean 8.38779323974272\n",
      "abs(round((mean_mean-y_mean)/y_mean)) 0.0\n",
      "local Optima\n",
      "y_mean 8.387824555547972\n",
      "mean_mean 8.38778879441037\n",
      "abs(round((mean_mean-y_mean)/y_mean)) 0.0\n"
     ]
    },
    {
     "name": "stderr",
     "output_type": "stream",
     "text": [
      "\r",
      " 36%|███▋      | 131/360 [01:05<01:35,  2.39it/s]"
     ]
    },
    {
     "name": "stdout",
     "output_type": "stream",
     "text": [
      "local Optima\n",
      "y_mean 6.518884636626466\n",
      "mean_mean 6.925149114276756\n",
      "abs(round((mean_mean-y_mean)/y_mean)) 0.0\n",
      "local Optima\n",
      "y_mean 6.518884636626466\n",
      "mean_mean 6.493131607149876\n",
      "abs(round((mean_mean-y_mean)/y_mean)) 0.0\n"
     ]
    },
    {
     "name": "stderr",
     "output_type": "stream",
     "text": [
      "\r",
      " 37%|███▋      | 132/360 [01:05<01:33,  2.44it/s]"
     ]
    },
    {
     "name": "stdout",
     "output_type": "stream",
     "text": [
      "local Optima\n",
      "y_mean 8.333465370149566\n",
      "mean_mean 8.337876712733856\n",
      "abs(round((mean_mean-y_mean)/y_mean)) 0.0\n",
      "local Optima\n",
      "y_mean 8.333465370149566\n",
      "mean_mean 8.333449350230149\n",
      "abs(round((mean_mean-y_mean)/y_mean)) 0.0\n"
     ]
    },
    {
     "name": "stderr",
     "output_type": "stream",
     "text": [
      "\r",
      " 37%|███▋      | 133/360 [01:06<01:32,  2.46it/s]"
     ]
    },
    {
     "name": "stdout",
     "output_type": "stream",
     "text": [
      "local Optima\n",
      "y_mean 5.135418262280755\n",
      "mean_mean 5.102314511463402\n",
      "abs(round((mean_mean-y_mean)/y_mean)) 0.0\n",
      "local Optima\n",
      "y_mean 5.135418262280755\n",
      "mean_mean 5.10231605340001\n",
      "abs(round((mean_mean-y_mean)/y_mean)) 0.0\n"
     ]
    },
    {
     "name": "stderr",
     "output_type": "stream",
     "text": [
      "\r",
      " 37%|███▋      | 134/360 [01:06<01:33,  2.41it/s]"
     ]
    },
    {
     "name": "stdout",
     "output_type": "stream",
     "text": [
      "local Optima\n",
      "y_mean 7.20721383351108\n",
      "mean_mean 7.207183581997017\n",
      "abs(round((mean_mean-y_mean)/y_mean)) 0.0\n",
      "local Optima\n",
      "y_mean 7.20721383351108\n",
      "mean_mean 7.20718358381846\n",
      "abs(round((mean_mean-y_mean)/y_mean)) 0.0\n"
     ]
    },
    {
     "name": "stderr",
     "output_type": "stream",
     "text": [
      "\r",
      " 38%|███▊      | 135/360 [01:07<01:31,  2.46it/s]"
     ]
    },
    {
     "name": "stdout",
     "output_type": "stream",
     "text": [
      "local Optima\n",
      "y_mean 5.52121556278252\n",
      "mean_mean 5.37475357559304\n",
      "abs(round((mean_mean-y_mean)/y_mean)) 0.0\n",
      "local Optima\n",
      "y_mean 5.52121556278252\n",
      "mean_mean 5.5076919757381795\n",
      "abs(round((mean_mean-y_mean)/y_mean)) 0.0\n"
     ]
    },
    {
     "name": "stderr",
     "output_type": "stream",
     "text": [
      "\r",
      " 38%|███▊      | 136/360 [01:07<01:29,  2.49it/s]"
     ]
    },
    {
     "name": "stdout",
     "output_type": "stream",
     "text": [
      "local Optima\n",
      "y_mean 7.208696634101888\n",
      "mean_mean 7.203029432265796\n",
      "abs(round((mean_mean-y_mean)/y_mean)) 0.0\n",
      "local Optima\n",
      "y_mean 7.208696634101888\n",
      "mean_mean 7.208682791188234\n",
      "abs(round((mean_mean-y_mean)/y_mean)) 0.0\n"
     ]
    },
    {
     "name": "stderr",
     "output_type": "stream",
     "text": [
      "\r",
      " 38%|███▊      | 137/360 [01:07<01:28,  2.52it/s]"
     ]
    },
    {
     "name": "stdout",
     "output_type": "stream",
     "text": [
      "local Optima\n",
      "y_mean 6.041441870009571\n",
      "mean_mean 5.73909457380568\n",
      "abs(round((mean_mean-y_mean)/y_mean)) 0.0\n",
      "local Optima\n",
      "y_mean 6.041441870009571\n",
      "mean_mean 6.018555426478214\n",
      "abs(round((mean_mean-y_mean)/y_mean)) 0.0\n",
      "Fit Cholesky decomposition was not successful.\n"
     ]
    },
    {
     "name": "stderr",
     "output_type": "stream",
     "text": [
      "\r",
      " 38%|███▊      | 138/360 [01:08<01:45,  2.11it/s]"
     ]
    },
    {
     "name": "stdout",
     "output_type": "stream",
     "text": [
      "local Optima\n",
      "y_mean 7.652809039876279\n",
      "mean_mean 7.652796920689605\n",
      "abs(round((mean_mean-y_mean)/y_mean)) 0.0\n",
      "local Optima\n",
      "y_mean 7.652809039876279\n",
      "mean_mean 7.652796920689605\n",
      "abs(round((mean_mean-y_mean)/y_mean)) 0.0\n",
      "local Optima\n",
      "y_mean 7.652809039876279\n",
      "mean_mean 7.652796924126836\n",
      "abs(round((mean_mean-y_mean)/y_mean)) 0.0\n"
     ]
    },
    {
     "name": "stderr",
     "output_type": "stream",
     "text": [
      "\r",
      " 39%|███▊      | 139/360 [01:08<01:38,  2.24it/s]"
     ]
    },
    {
     "name": "stdout",
     "output_type": "stream",
     "text": [
      "local Optima\n",
      "y_mean 5.5610467802743795\n",
      "mean_mean 5.317216162415409\n",
      "abs(round((mean_mean-y_mean)/y_mean)) 0.0\n",
      "local Optima\n",
      "y_mean 5.5610467802743795\n",
      "mean_mean 5.532535052907271\n",
      "abs(round((mean_mean-y_mean)/y_mean)) 0.0\n"
     ]
    },
    {
     "name": "stderr",
     "output_type": "stream",
     "text": [
      "\r",
      " 39%|███▉      | 140/360 [01:09<01:35,  2.30it/s]"
     ]
    },
    {
     "name": "stdout",
     "output_type": "stream",
     "text": [
      "local Optima\n",
      "y_mean 9.160759483647434\n",
      "mean_mean 9.160727033807587\n",
      "abs(round((mean_mean-y_mean)/y_mean)) 0.0\n",
      "local Optima\n",
      "y_mean 9.160759483647434\n",
      "mean_mean 9.160727037439255\n",
      "abs(round((mean_mean-y_mean)/y_mean)) 0.0\n"
     ]
    },
    {
     "name": "stderr",
     "output_type": "stream",
     "text": [
      "\r",
      " 39%|███▉      | 141/360 [01:09<01:32,  2.38it/s]"
     ]
    },
    {
     "name": "stdout",
     "output_type": "stream",
     "text": [
      "local Optima\n",
      "y_mean 6.369880289680193\n",
      "mean_mean 6.2035281393203014\n",
      "abs(round((mean_mean-y_mean)/y_mean)) 0.0\n",
      "local Optima\n",
      "y_mean 6.369880289680193\n",
      "mean_mean 6.3424911365184755\n",
      "abs(round((mean_mean-y_mean)/y_mean)) 0.0\n"
     ]
    },
    {
     "name": "stderr",
     "output_type": "stream",
     "text": [
      "\r",
      " 39%|███▉      | 142/360 [01:10<01:31,  2.37it/s]"
     ]
    },
    {
     "name": "stdout",
     "output_type": "stream",
     "text": [
      "local Optima\n",
      "y_mean 8.874101168626474\n",
      "mean_mean 8.874082446636892\n",
      "abs(round((mean_mean-y_mean)/y_mean)) 0.0\n",
      "local Optima\n",
      "y_mean 8.874101168626474\n",
      "mean_mean 8.874082436375527\n",
      "abs(round((mean_mean-y_mean)/y_mean)) 0.0\n"
     ]
    },
    {
     "name": "stderr",
     "output_type": "stream",
     "text": [
      "\r",
      " 40%|███▉      | 143/360 [01:10<01:29,  2.42it/s]"
     ]
    },
    {
     "name": "stdout",
     "output_type": "stream",
     "text": [
      "local Optima\n",
      "y_mean 6.172404180424954\n",
      "mean_mean 5.967090707706686\n",
      "abs(round((mean_mean-y_mean)/y_mean)) 0.0\n",
      "local Optima\n",
      "y_mean 6.172404180424954\n",
      "mean_mean 6.148818908666928\n",
      "abs(round((mean_mean-y_mean)/y_mean)) 0.0\n",
      "local Optima\n",
      "y_mean 8.576367223544953\n",
      "mean_mean 8.57635139841399\n",
      "abs(round((mean_mean-y_mean)/y_mean)) 0.0\n"
     ]
    },
    {
     "name": "stderr",
     "output_type": "stream",
     "text": [
      "\r",
      " 40%|████      | 144/360 [01:10<01:34,  2.29it/s]"
     ]
    },
    {
     "name": "stdout",
     "output_type": "stream",
     "text": [
      "local Optima\n",
      "y_mean 8.576367223544953\n",
      "mean_mean 8.576351402922189\n",
      "abs(round((mean_mean-y_mean)/y_mean)) 0.0\n"
     ]
    },
    {
     "name": "stderr",
     "output_type": "stream",
     "text": [
      "\r",
      " 40%|████      | 145/360 [01:11<01:33,  2.30it/s]"
     ]
    },
    {
     "name": "stdout",
     "output_type": "stream",
     "text": [
      "local Optima\n",
      "y_mean 4.88137656870726\n",
      "mean_mean 4.83159680642845\n",
      "abs(round((mean_mean-y_mean)/y_mean)) 0.0\n",
      "local Optima\n",
      "y_mean 4.88137656870726\n",
      "mean_mean 4.831601551328157\n",
      "abs(round((mean_mean-y_mean)/y_mean)) 0.0\n",
      "local Optima\n",
      "y_mean 7.658284539218112\n",
      "mean_mean 7.6582564767761845\n",
      "abs(round((mean_mean-y_mean)/y_mean)) 0.0\n"
     ]
    },
    {
     "name": "stderr",
     "output_type": "stream",
     "text": [
      "\r",
      " 41%|████      | 146/360 [01:11<01:37,  2.19it/s]"
     ]
    },
    {
     "name": "stdout",
     "output_type": "stream",
     "text": [
      "local Optima\n",
      "y_mean 7.658284539218112\n",
      "mean_mean 7.6582564763698535\n",
      "abs(round((mean_mean-y_mean)/y_mean)) 0.0\n",
      "local Optima\n",
      "y_mean 5.889738790321438\n",
      "mean_mean 5.877812968803183\n",
      "abs(round((mean_mean-y_mean)/y_mean)) 0.0\n",
      "local Optima\n",
      "y_mean 5.889738790321438\n",
      "mean_mean 5.860648882141658\n",
      "abs(round((mean_mean-y_mean)/y_mean)) 0.0\n"
     ]
    },
    {
     "name": "stderr",
     "output_type": "stream",
     "text": [
      "\r",
      " 41%|████      | 147/360 [01:12<01:36,  2.21it/s]"
     ]
    },
    {
     "name": "stdout",
     "output_type": "stream",
     "text": [
      "Fit Cholesky decomposition was not successful.\n"
     ]
    },
    {
     "name": "stderr",
     "output_type": "stream",
     "text": [
      "\r",
      " 41%|████      | 148/360 [01:13<01:54,  1.85it/s]"
     ]
    },
    {
     "name": "stdout",
     "output_type": "stream",
     "text": [
      "local Optima\n",
      "y_mean 7.807252103854164\n",
      "mean_mean 7.807241351361277\n",
      "abs(round((mean_mean-y_mean)/y_mean)) 0.0\n",
      "local Optima\n",
      "y_mean 7.807252103854164\n",
      "mean_mean 7.807241351361277\n",
      "abs(round((mean_mean-y_mean)/y_mean)) 0.0\n",
      "local Optima\n",
      "y_mean 7.807252103854164\n",
      "mean_mean 7.8072413516069625\n",
      "abs(round((mean_mean-y_mean)/y_mean)) 0.0\n"
     ]
    },
    {
     "name": "stderr",
     "output_type": "stream",
     "text": [
      "\r",
      " 41%|████▏     | 149/360 [01:13<01:44,  2.03it/s]"
     ]
    },
    {
     "name": "stdout",
     "output_type": "stream",
     "text": [
      "local Optima\n",
      "y_mean 6.454856403174036\n",
      "mean_mean 6.225810157053769\n",
      "abs(round((mean_mean-y_mean)/y_mean)) 0.0\n",
      "local Optima\n",
      "y_mean 6.454856403174036\n",
      "mean_mean 6.427301307960488\n",
      "abs(round((mean_mean-y_mean)/y_mean)) 0.0\n",
      "local Optima\n",
      "y_mean 9.235673060416255\n",
      "mean_mean 9.249794545601716\n",
      "abs(round((mean_mean-y_mean)/y_mean)) 0.0\n"
     ]
    },
    {
     "name": "stderr",
     "output_type": "stream",
     "text": [
      "\r",
      " 42%|████▏     | 150/360 [01:13<01:41,  2.07it/s]"
     ]
    },
    {
     "name": "stdout",
     "output_type": "stream",
     "text": [
      "local Optima\n",
      "y_mean 9.235673060416255\n",
      "mean_mean 9.235644901046175\n",
      "abs(round((mean_mean-y_mean)/y_mean)) 0.0\n"
     ]
    },
    {
     "name": "stderr",
     "output_type": "stream",
     "text": [
      "\r",
      " 42%|████▏     | 151/360 [01:14<01:37,  2.14it/s]"
     ]
    },
    {
     "name": "stdout",
     "output_type": "stream",
     "text": [
      "local Optima\n",
      "y_mean 5.256778172102889\n",
      "mean_mean 5.1877108168099095\n",
      "abs(round((mean_mean-y_mean)/y_mean)) 0.0\n",
      "local Optima\n",
      "y_mean 5.256778172102889\n",
      "mean_mean 5.227036242480877\n",
      "abs(round((mean_mean-y_mean)/y_mean)) 0.0\n",
      "local Optima\n",
      "y_mean 7.65470885705708\n",
      "mean_mean 7.654678813232003\n",
      "abs(round((mean_mean-y_mean)/y_mean)) 0.0\n",
      "local Optima\n",
      "y_mean 7.65470885705708\n",
      "mean_mean 7.654678814128501\n",
      "abs(round((mean_mean-y_mean)/y_mean)) 0.0\n"
     ]
    },
    {
     "name": "stderr",
     "output_type": "stream",
     "text": [
      " 42%|████▎     | 153/360 [01:15<01:32,  2.24it/s]"
     ]
    },
    {
     "name": "stdout",
     "output_type": "stream",
     "text": [
      "local Optima\n",
      "y_mean 6.608725410048503\n",
      "mean_mean 6.564109929437126\n",
      "abs(round((mean_mean-y_mean)/y_mean)) 0.0\n",
      "local Optima\n",
      "y_mean 6.608725410048503\n",
      "mean_mean 6.5897119326802525\n",
      "abs(round((mean_mean-y_mean)/y_mean)) 0.0\n",
      "Fit Cholesky decomposition was not successful.\n"
     ]
    },
    {
     "name": "stderr",
     "output_type": "stream",
     "text": [
      "\r",
      " 43%|████▎     | 154/360 [01:15<01:49,  1.88it/s]"
     ]
    },
    {
     "name": "stdout",
     "output_type": "stream",
     "text": [
      "local Optima\n",
      "y_mean 8.381156337010246\n",
      "mean_mean 8.381130761603481\n",
      "abs(round((mean_mean-y_mean)/y_mean)) 0.0\n",
      "local Optima\n",
      "y_mean 8.381156337010246\n",
      "mean_mean 8.381130761603481\n",
      "abs(round((mean_mean-y_mean)/y_mean)) 0.0\n",
      "local Optima\n",
      "y_mean 8.381156337010246\n",
      "mean_mean 8.381131005511335\n",
      "abs(round((mean_mean-y_mean)/y_mean)) 0.0\n"
     ]
    },
    {
     "name": "stderr",
     "output_type": "stream",
     "text": [
      "\r",
      " 43%|████▎     | 155/360 [01:16<01:40,  2.04it/s]"
     ]
    },
    {
     "name": "stdout",
     "output_type": "stream",
     "text": [
      "local Optima\n",
      "y_mean 7.036384428093921\n",
      "mean_mean 7.043683672734646\n",
      "abs(round((mean_mean-y_mean)/y_mean)) 0.0\n",
      "local Optima\n",
      "y_mean 7.036384428093921\n",
      "mean_mean 7.012024137870725\n",
      "abs(round((mean_mean-y_mean)/y_mean)) 0.0\n",
      "local Optima\n",
      "y_mean 8.999533784498308\n",
      "mean_mean 8.999522502627586\n",
      "abs(round((mean_mean-y_mean)/y_mean)) 0.0\n",
      "local Optima\n",
      "y_mean 8.999533784498308\n",
      "mean_mean 8.999520294856238\n",
      "abs(round((mean_mean-y_mean)/y_mean)) 0.0\n"
     ]
    },
    {
     "name": "stderr",
     "output_type": "stream",
     "text": [
      " 44%|████▎     | 157/360 [01:17<01:31,  2.21it/s]"
     ]
    },
    {
     "name": "stdout",
     "output_type": "stream",
     "text": [
      "local Optima\n",
      "y_mean 5.918821919558856\n",
      "mean_mean 6.298822594082256\n",
      "abs(round((mean_mean-y_mean)/y_mean)) 0.0\n",
      "local Optima\n",
      "y_mean 5.918821919558856\n",
      "mean_mean 5.869443439984743\n",
      "abs(round((mean_mean-y_mean)/y_mean)) 0.0\n"
     ]
    },
    {
     "name": "stderr",
     "output_type": "stream",
     "text": [
      "\r",
      " 44%|████▍     | 158/360 [01:17<01:30,  2.23it/s]"
     ]
    },
    {
     "name": "stdout",
     "output_type": "stream",
     "text": [
      "local Optima\n",
      "y_mean 8.613424483048991\n",
      "mean_mean 8.61340781778127\n",
      "abs(round((mean_mean-y_mean)/y_mean)) 0.0\n",
      "local Optima\n",
      "y_mean 8.613424483048991\n",
      "mean_mean 8.613407823376773\n",
      "abs(round((mean_mean-y_mean)/y_mean)) 0.0\n",
      "local Optima\n",
      "y_mean 5.980456764268426\n",
      "mean_mean 6.386071224293938\n",
      "abs(round((mean_mean-y_mean)/y_mean)) 0.0\n"
     ]
    },
    {
     "name": "stderr",
     "output_type": "stream",
     "text": [
      "\r",
      " 44%|████▍     | 159/360 [01:18<01:32,  2.17it/s]"
     ]
    },
    {
     "name": "stdout",
     "output_type": "stream",
     "text": [
      "local Optima\n",
      "y_mean 5.980456764268426\n",
      "mean_mean 5.943580613457724\n",
      "abs(round((mean_mean-y_mean)/y_mean)) 0.0\n"
     ]
    },
    {
     "name": "stderr",
     "output_type": "stream",
     "text": [
      "\r",
      " 44%|████▍     | 160/360 [01:18<01:31,  2.19it/s]"
     ]
    },
    {
     "name": "stdout",
     "output_type": "stream",
     "text": [
      "local Optima\n",
      "y_mean 8.054085406819139\n",
      "mean_mean 8.054071121628473\n",
      "abs(round((mean_mean-y_mean)/y_mean)) 0.0\n",
      "local Optima\n",
      "y_mean 8.054085406819139\n",
      "mean_mean 8.054071121550768\n",
      "abs(round((mean_mean-y_mean)/y_mean)) 0.0\n"
     ]
    },
    {
     "name": "stderr",
     "output_type": "stream",
     "text": [
      "\r",
      " 45%|████▍     | 161/360 [01:18<01:27,  2.27it/s]"
     ]
    },
    {
     "name": "stdout",
     "output_type": "stream",
     "text": [
      "local Optima\n",
      "y_mean 7.322002497431841\n",
      "mean_mean 7.514619577090559\n",
      "abs(round((mean_mean-y_mean)/y_mean)) 0.0\n",
      "local Optima\n",
      "y_mean 7.322002497431841\n",
      "mean_mean 7.298619800259133\n",
      "abs(round((mean_mean-y_mean)/y_mean)) 0.0\n"
     ]
    },
    {
     "name": "stderr",
     "output_type": "stream",
     "text": [
      "\r",
      " 45%|████▌     | 162/360 [01:19<01:28,  2.24it/s]"
     ]
    },
    {
     "name": "stdout",
     "output_type": "stream",
     "text": [
      "local Optima\n",
      "y_mean 8.561673436846931\n",
      "mean_mean 8.564270950135343\n",
      "abs(round((mean_mean-y_mean)/y_mean)) 0.0\n",
      "local Optima\n",
      "y_mean 8.561673436846931\n",
      "mean_mean 8.561665808990488\n",
      "abs(round((mean_mean-y_mean)/y_mean)) 0.0\n"
     ]
    },
    {
     "name": "stderr",
     "output_type": "stream",
     "text": [
      "\r",
      " 45%|████▌     | 163/360 [01:19<01:24,  2.34it/s]"
     ]
    },
    {
     "name": "stdout",
     "output_type": "stream",
     "text": [
      "local Optima\n",
      "y_mean 4.789231278032414\n",
      "mean_mean 4.744142575196834\n",
      "abs(round((mean_mean-y_mean)/y_mean)) 0.0\n",
      "local Optima\n",
      "y_mean 4.789231278032414\n",
      "mean_mean 4.741912296537377\n",
      "abs(round((mean_mean-y_mean)/y_mean)) 0.0\n",
      "local Optima\n",
      "y_mean 6.776134704061761\n",
      "mean_mean 6.77610764878246\n",
      "abs(round((mean_mean-y_mean)/y_mean)) 0.0\n",
      "local Optima\n",
      "y_mean 6.776134704061761\n",
      "mean_mean 6.776107557510701\n",
      "abs(round((mean_mean-y_mean)/y_mean)) 0.0\n"
     ]
    },
    {
     "name": "stderr",
     "output_type": "stream",
     "text": [
      "\r",
      " 46%|████▌     | 164/360 [01:20<01:25,  2.31it/s]"
     ]
    },
    {
     "name": "stdout",
     "output_type": "stream",
     "text": [
      "local Optima\n",
      "y_mean 5.794268885876033\n",
      "mean_mean 5.7513261496526376\n",
      "abs(round((mean_mean-y_mean)/y_mean)) 0.0\n",
      "local Optima\n",
      "y_mean 5.794268885876033\n",
      "mean_mean 5.751329572345687\n",
      "abs(round((mean_mean-y_mean)/y_mean)) 0.0\n"
     ]
    },
    {
     "name": "stderr",
     "output_type": "stream",
     "text": [
      " 46%|████▌     | 166/360 [01:21<01:28,  2.18it/s]"
     ]
    },
    {
     "name": "stdout",
     "output_type": "stream",
     "text": [
      "local Optima\n",
      "y_mean 8.555082550221428\n",
      "mean_mean 8.55505849356437\n",
      "abs(round((mean_mean-y_mean)/y_mean)) 0.0\n",
      "local Optima\n",
      "y_mean 8.555082550221428\n",
      "mean_mean 8.555058500764027\n",
      "abs(round((mean_mean-y_mean)/y_mean)) 0.0\n",
      "local Optima\n",
      "y_mean 6.420346098868373\n",
      "mean_mean 6.229051691935675\n",
      "abs(round((mean_mean-y_mean)/y_mean)) 0.0\n",
      "local Optima\n",
      "y_mean 6.420346098868373\n",
      "mean_mean 6.394781469509244\n",
      "abs(round((mean_mean-y_mean)/y_mean)) 0.0\n"
     ]
    },
    {
     "name": "stderr",
     "output_type": "stream",
     "text": [
      "\r",
      " 46%|████▋     | 167/360 [01:21<01:30,  2.13it/s]"
     ]
    },
    {
     "name": "stdout",
     "output_type": "stream",
     "text": [
      "local Optima\n",
      "y_mean 9.065397290090678\n",
      "mean_mean 9.065389497280442\n",
      "abs(round((mean_mean-y_mean)/y_mean)) 0.0\n"
     ]
    },
    {
     "name": "stderr",
     "output_type": "stream",
     "text": [
      "\r",
      " 47%|████▋     | 168/360 [01:22<01:30,  2.13it/s]"
     ]
    },
    {
     "name": "stdout",
     "output_type": "stream",
     "text": [
      "local Optima\n",
      "y_mean 9.065397290090678\n",
      "mean_mean 9.06538136798707\n",
      "abs(round((mean_mean-y_mean)/y_mean)) 0.0\n"
     ]
    },
    {
     "name": "stderr",
     "output_type": "stream",
     "text": [
      "\r",
      " 47%|████▋     | 169/360 [01:22<01:26,  2.21it/s]"
     ]
    },
    {
     "name": "stdout",
     "output_type": "stream",
     "text": [
      "local Optima\n",
      "y_mean 4.5393812786054255\n",
      "mean_mean 4.655700194458911\n",
      "abs(round((mean_mean-y_mean)/y_mean)) 0.0\n",
      "local Optima\n",
      "y_mean 4.5393812786054255\n",
      "mean_mean 4.47107716182011\n",
      "abs(round((mean_mean-y_mean)/y_mean)) 0.0\n"
     ]
    },
    {
     "name": "stderr",
     "output_type": "stream",
     "text": [
      "\r",
      " 47%|████▋     | 170/360 [01:22<01:23,  2.28it/s]"
     ]
    },
    {
     "name": "stdout",
     "output_type": "stream",
     "text": [
      "local Optima\n",
      "y_mean 7.824674190221213\n",
      "mean_mean 7.824589331428944\n",
      "abs(round((mean_mean-y_mean)/y_mean)) 0.0\n",
      "local Optima\n",
      "y_mean 7.824674190221213\n",
      "mean_mean 7.8245892951435705\n",
      "abs(round((mean_mean-y_mean)/y_mean)) 0.0\n"
     ]
    },
    {
     "name": "stderr",
     "output_type": "stream",
     "text": [
      "\r",
      " 48%|████▊     | 171/360 [01:23<01:19,  2.37it/s]"
     ]
    },
    {
     "name": "stdout",
     "output_type": "stream",
     "text": [
      "local Optima\n",
      "y_mean 5.224869081939439\n",
      "mean_mean 5.485707422075356\n",
      "abs(round((mean_mean-y_mean)/y_mean)) 0.0\n",
      "local Optima\n",
      "y_mean 5.224869081939439\n",
      "mean_mean 5.179340336523573\n",
      "abs(round((mean_mean-y_mean)/y_mean)) 0.0\n"
     ]
    },
    {
     "name": "stderr",
     "output_type": "stream",
     "text": [
      "\r",
      " 48%|████▊     | 172/360 [01:23<01:20,  2.34it/s]"
     ]
    },
    {
     "name": "stdout",
     "output_type": "stream",
     "text": [
      "local Optima\n",
      "y_mean 7.747707895690295\n",
      "mean_mean 7.747669891835675\n",
      "abs(round((mean_mean-y_mean)/y_mean)) 0.0\n",
      "local Optima\n",
      "y_mean 7.747707895690295\n",
      "mean_mean 7.74766989204958\n",
      "abs(round((mean_mean-y_mean)/y_mean)) 0.0\n",
      "local Optima\n",
      "y_mean 7.737676169975194\n",
      "mean_mean 7.951100216176468\n",
      "abs(round((mean_mean-y_mean)/y_mean)) 0.0\n",
      "local Optima\n",
      "y_mean 7.737676169975194\n",
      "mean_mean 7.717039294751758\n",
      "abs(round((mean_mean-y_mean)/y_mean)) 0.0\n"
     ]
    },
    {
     "name": "stderr",
     "output_type": "stream",
     "text": [
      "\r",
      " 48%|████▊     | 173/360 [01:24<01:22,  2.26it/s]"
     ]
    },
    {
     "name": "stdout",
     "output_type": "stream",
     "text": [
      "local Optima\n",
      "y_mean 8.505248992674016\n",
      "mean_mean 8.505226612150967\n",
      "abs(round((mean_mean-y_mean)/y_mean)) 0.0\n",
      "local Optima\n",
      "y_mean 8.505248992674016\n",
      "mean_mean 8.505226612467286\n",
      "abs(round((mean_mean-y_mean)/y_mean)) 0.0\n"
     ]
    },
    {
     "name": "stderr",
     "output_type": "stream",
     "text": [
      "\r",
      " 48%|████▊     | 174/360 [01:24<01:24,  2.21it/s]"
     ]
    },
    {
     "name": "stdout",
     "output_type": "stream",
     "text": [
      "local Optima\n",
      "y_mean 5.27911627197134\n",
      "mean_mean 5.227455900070951\n",
      "abs(round((mean_mean-y_mean)/y_mean)) 0.0\n"
     ]
    },
    {
     "name": "stderr",
     "output_type": "stream",
     "text": [
      "\r",
      " 49%|████▊     | 175/360 [01:25<01:35,  1.94it/s]"
     ]
    },
    {
     "name": "stdout",
     "output_type": "stream",
     "text": [
      "local Optima\n",
      "y_mean 5.27911627197134\n",
      "mean_mean 5.226448618033612\n",
      "abs(round((mean_mean-y_mean)/y_mean)) 0.0\n",
      "local Optima\n",
      "y_mean 7.7993741488520545\n",
      "mean_mean 7.7993431919904275\n",
      "abs(round((mean_mean-y_mean)/y_mean)) 0.0\n",
      "local Optima\n",
      "y_mean 7.7993741488520545\n",
      "mean_mean 7.799334940489867\n",
      "abs(round((mean_mean-y_mean)/y_mean)) 0.0\n"
     ]
    },
    {
     "name": "stderr",
     "output_type": "stream",
     "text": [
      "\r",
      " 49%|████▉     | 176/360 [01:25<01:32,  2.00it/s]"
     ]
    },
    {
     "name": "stdout",
     "output_type": "stream",
     "text": [
      "local Optima\n",
      "y_mean 6.157655751476679\n",
      "mean_mean 6.134564716953776\n",
      "abs(round((mean_mean-y_mean)/y_mean)) 0.0\n",
      "local Optima\n",
      "y_mean 6.157655751476679\n",
      "mean_mean 6.121645123204728\n",
      "abs(round((mean_mean-y_mean)/y_mean)) 0.0\n"
     ]
    },
    {
     "name": "stderr",
     "output_type": "stream",
     "text": [
      "\r",
      " 49%|████▉     | 177/360 [01:26<01:29,  2.03it/s]"
     ]
    },
    {
     "name": "stdout",
     "output_type": "stream",
     "text": [
      "Fit Cholesky decomposition was not successful.\n",
      "Fit Cholesky decomposition was not successful.\n",
      "Fit Cholesky decomposition was not successful.\n",
      "local Optima\n",
      "y_mean 8.864617299961107\n",
      "mean_mean 8.864604967263\n",
      "abs(round((mean_mean-y_mean)/y_mean)) 0.0\n",
      "local Optima\n",
      "y_mean 8.864617299961107\n",
      "mean_mean 8.864604967263\n",
      "abs(round((mean_mean-y_mean)/y_mean)) 0.0\n",
      "local Optima\n",
      "y_mean 8.864617299961107\n",
      "mean_mean 8.864604967263\n",
      "abs(round((mean_mean-y_mean)/y_mean)) 0.0\n",
      "local Optima\n",
      "y_mean 8.864617299961107\n",
      "mean_mean 8.864604967263\n",
      "abs(round((mean_mean-y_mean)/y_mean)) 0.0\n"
     ]
    },
    {
     "name": "stderr",
     "output_type": "stream",
     "text": [
      "\r",
      " 49%|████▉     | 178/360 [01:27<02:08,  1.41it/s]"
     ]
    },
    {
     "name": "stdout",
     "output_type": "stream",
     "text": [
      "local Optima\n",
      "y_mean 8.864617299961107\n",
      "mean_mean 8.864604588551634\n",
      "abs(round((mean_mean-y_mean)/y_mean)) 0.0\n",
      "local Optima\n",
      "y_mean 7.8420207769657155\n",
      "mean_mean 7.651197290005808\n",
      "abs(round((mean_mean-y_mean)/y_mean)) 0.0\n"
     ]
    },
    {
     "name": "stderr",
     "output_type": "stream",
     "text": [
      "\r",
      " 50%|████▉     | 179/360 [01:28<01:53,  1.59it/s]"
     ]
    },
    {
     "name": "stdout",
     "output_type": "stream",
     "text": [
      "local Optima\n",
      "y_mean 7.8420207769657155\n",
      "mean_mean 7.806333578646964\n",
      "abs(round((mean_mean-y_mean)/y_mean)) 0.0\n"
     ]
    },
    {
     "name": "stderr",
     "output_type": "stream",
     "text": [
      "\r",
      " 50%|█████     | 180/360 [01:28<01:42,  1.76it/s]"
     ]
    },
    {
     "name": "stdout",
     "output_type": "stream",
     "text": [
      "local Optima\n",
      "y_mean 9.617329218093566\n",
      "mean_mean 9.617305179360098\n",
      "abs(round((mean_mean-y_mean)/y_mean)) 0.0\n",
      "local Optima\n",
      "y_mean 9.617329218093566\n",
      "mean_mean 9.617305139097994\n",
      "abs(round((mean_mean-y_mean)/y_mean)) 0.0\n",
      "local Optima\n",
      "y_mean 5.106614602203209\n",
      "mean_mean 5.1195693688901915\n",
      "abs(round((mean_mean-y_mean)/y_mean)) 0.0\n"
     ]
    },
    {
     "name": "stderr",
     "output_type": "stream",
     "text": [
      "\r",
      " 50%|█████     | 181/360 [01:28<01:36,  1.86it/s]"
     ]
    },
    {
     "name": "stdout",
     "output_type": "stream",
     "text": [
      "local Optima\n",
      "y_mean 5.106614602203209\n",
      "mean_mean 5.048769392313844\n",
      "abs(round((mean_mean-y_mean)/y_mean)) 0.0\n"
     ]
    },
    {
     "name": "stderr",
     "output_type": "stream",
     "text": [
      "\r",
      " 51%|█████     | 182/360 [01:29<01:30,  1.98it/s]"
     ]
    },
    {
     "name": "stdout",
     "output_type": "stream",
     "text": [
      "local Optima\n",
      "y_mean 8.019272745432925\n",
      "mean_mean 8.01921961204049\n",
      "abs(round((mean_mean-y_mean)/y_mean)) 0.0\n",
      "local Optima\n",
      "y_mean 8.019272745432925\n",
      "mean_mean 8.019213216691394\n",
      "abs(round((mean_mean-y_mean)/y_mean)) 0.0\n"
     ]
    },
    {
     "name": "stderr",
     "output_type": "stream",
     "text": [
      "\r",
      " 51%|█████     | 183/360 [01:29<01:26,  2.04it/s]"
     ]
    },
    {
     "name": "stdout",
     "output_type": "stream",
     "text": [
      "local Optima\n",
      "y_mean 5.545053911387822\n",
      "mean_mean 5.641091738886357\n",
      "abs(round((mean_mean-y_mean)/y_mean)) 0.0\n",
      "local Optima\n",
      "y_mean 5.545053911387822\n",
      "mean_mean 5.527341779998372\n",
      "abs(round((mean_mean-y_mean)/y_mean)) 0.0\n",
      "local Optima\n",
      "y_mean 7.57921131248111\n",
      "mean_mean 7.584015943011249\n",
      "abs(round((mean_mean-y_mean)/y_mean)) 0.0\n"
     ]
    },
    {
     "name": "stderr",
     "output_type": "stream",
     "text": [
      "\r",
      " 51%|█████     | 184/360 [01:30<01:33,  1.89it/s]"
     ]
    },
    {
     "name": "stdout",
     "output_type": "stream",
     "text": [
      "local Optima\n",
      "y_mean 7.57921131248111\n",
      "mean_mean 7.579176352586907\n",
      "abs(round((mean_mean-y_mean)/y_mean)) 0.0\n",
      "local Optima\n",
      "y_mean 6.539693114531505\n",
      "mean_mean 6.769807435914576\n",
      "abs(round((mean_mean-y_mean)/y_mean)) 0.0\n"
     ]
    },
    {
     "name": "stderr",
     "output_type": "stream",
     "text": [
      "\r",
      " 51%|█████▏    | 185/360 [01:31<02:18,  1.27it/s]"
     ]
    },
    {
     "name": "stdout",
     "output_type": "stream",
     "text": [
      "local Optima\n",
      "y_mean 6.539693114531505\n",
      "mean_mean 6.521037498100027\n",
      "abs(round((mean_mean-y_mean)/y_mean)) 0.0\n",
      "local Optima\n",
      "y_mean 7.9747821256582005\n",
      "mean_mean 7.974767732022834\n",
      "abs(round((mean_mean-y_mean)/y_mean)) 0.0\n"
     ]
    },
    {
     "name": "stderr",
     "output_type": "stream",
     "text": [
      "\r",
      " 52%|█████▏    | 186/360 [01:32<02:07,  1.36it/s]"
     ]
    },
    {
     "name": "stdout",
     "output_type": "stream",
     "text": [
      "local Optima\n",
      "y_mean 7.9747821256582005\n",
      "mean_mean 7.974767734276596\n",
      "abs(round((mean_mean-y_mean)/y_mean)) 0.0\n",
      "local Optima\n",
      "y_mean 5.299690816553897\n",
      "mean_mean 5.314969741421838\n",
      "abs(round((mean_mean-y_mean)/y_mean)) 0.0\n"
     ]
    },
    {
     "name": "stderr",
     "output_type": "stream",
     "text": [
      "\r",
      " 52%|█████▏    | 187/360 [01:32<01:55,  1.50it/s]"
     ]
    },
    {
     "name": "stdout",
     "output_type": "stream",
     "text": [
      "local Optima\n",
      "y_mean 5.299690816553897\n",
      "mean_mean 5.268633835099861\n",
      "abs(round((mean_mean-y_mean)/y_mean)) 0.0\n",
      "local Optima\n",
      "y_mean 7.62756788316717\n",
      "mean_mean 7.627554783151812\n",
      "abs(round((mean_mean-y_mean)/y_mean)) 0.0\n"
     ]
    },
    {
     "name": "stderr",
     "output_type": "stream",
     "text": [
      "\r",
      " 52%|█████▏    | 188/360 [01:33<01:45,  1.63it/s]"
     ]
    },
    {
     "name": "stdout",
     "output_type": "stream",
     "text": [
      "local Optima\n",
      "y_mean 7.62756788316717\n",
      "mean_mean 7.62755141814534\n",
      "abs(round((mean_mean-y_mean)/y_mean)) 0.0\n",
      "local Optima\n",
      "y_mean 6.0472930765076836\n",
      "mean_mean 6.231745772410892\n",
      "abs(round((mean_mean-y_mean)/y_mean)) 0.0\n"
     ]
    },
    {
     "name": "stderr",
     "output_type": "stream",
     "text": [
      "\r",
      " 52%|█████▎    | 189/360 [01:33<01:38,  1.74it/s]"
     ]
    },
    {
     "name": "stdout",
     "output_type": "stream",
     "text": [
      "local Optima\n",
      "y_mean 6.0472930765076836\n",
      "mean_mean 6.034945251991389\n",
      "abs(round((mean_mean-y_mean)/y_mean)) 0.0\n",
      "local Optima\n",
      "y_mean 7.560293198373403\n",
      "mean_mean 7.560282134482785\n",
      "abs(round((mean_mean-y_mean)/y_mean)) 0.0\n",
      "local Optima\n",
      "y_mean 7.560293198373403\n",
      "mean_mean 7.560282134403988\n",
      "abs(round((mean_mean-y_mean)/y_mean)) 0.0\n"
     ]
    },
    {
     "name": "stderr",
     "output_type": "stream",
     "text": [
      " 53%|█████▎    | 191/360 [01:34<01:25,  1.97it/s]"
     ]
    },
    {
     "name": "stdout",
     "output_type": "stream",
     "text": [
      "local Optima\n",
      "y_mean 6.706869164856124\n",
      "mean_mean 6.7129208960398765\n",
      "abs(round((mean_mean-y_mean)/y_mean)) 0.0\n",
      "local Optima\n",
      "y_mean 6.706869164856124\n",
      "mean_mean 6.69488765688014\n",
      "abs(round((mean_mean-y_mean)/y_mean)) 0.0\n"
     ]
    },
    {
     "name": "stderr",
     "output_type": "stream",
     "text": [
      "\r",
      " 53%|█████▎    | 192/360 [01:35<01:22,  2.04it/s]"
     ]
    },
    {
     "name": "stdout",
     "output_type": "stream",
     "text": [
      "local Optima\n",
      "y_mean 8.221873329095466\n",
      "mean_mean 8.22186584645185\n",
      "abs(round((mean_mean-y_mean)/y_mean)) 0.0\n",
      "local Optima\n",
      "y_mean 8.221873329095466\n",
      "mean_mean 8.221865315624678\n",
      "abs(round((mean_mean-y_mean)/y_mean)) 0.0\n"
     ]
    },
    {
     "name": "stderr",
     "output_type": "stream",
     "text": [
      "\r",
      " 54%|█████▎    | 193/360 [01:35<01:17,  2.16it/s]"
     ]
    },
    {
     "name": "stdout",
     "output_type": "stream",
     "text": [
      "local Optima\n",
      "y_mean 5.701722000873017\n",
      "mean_mean 5.418044541611714\n",
      "abs(round((mean_mean-y_mean)/y_mean)) 0.0\n",
      "local Optima\n",
      "y_mean 5.701722000873017\n",
      "mean_mean 5.65197877250079\n",
      "abs(round((mean_mean-y_mean)/y_mean)) 0.0\n"
     ]
    },
    {
     "name": "stderr",
     "output_type": "stream",
     "text": [
      "\r",
      " 54%|█████▍    | 194/360 [01:36<01:14,  2.23it/s]"
     ]
    },
    {
     "name": "stdout",
     "output_type": "stream",
     "text": [
      "local Optima\n",
      "y_mean 9.384652664353789\n",
      "mean_mean 9.393312846644083\n",
      "abs(round((mean_mean-y_mean)/y_mean)) 0.0\n",
      "local Optima\n",
      "y_mean 9.384652664353789\n",
      "mean_mean 9.38461040973883\n",
      "abs(round((mean_mean-y_mean)/y_mean)) 0.0\n"
     ]
    },
    {
     "name": "stderr",
     "output_type": "stream",
     "text": [
      "\r",
      " 54%|█████▍    | 195/360 [01:36<01:16,  2.15it/s]"
     ]
    },
    {
     "name": "stdout",
     "output_type": "stream",
     "text": [
      "local Optima\n",
      "y_mean 6.697184743951671\n",
      "mean_mean 6.654052798831978\n",
      "abs(round((mean_mean-y_mean)/y_mean)) 0.0\n",
      "local Optima\n",
      "y_mean 6.697184743951671\n",
      "mean_mean 6.663020376217875\n",
      "abs(round((mean_mean-y_mean)/y_mean)) 0.0\n",
      "local Optima\n",
      "y_mean 9.101138553678362\n",
      "mean_mean 9.10833575616775\n",
      "abs(round((mean_mean-y_mean)/y_mean)) 0.0\n"
     ]
    },
    {
     "name": "stderr",
     "output_type": "stream",
     "text": [
      "\r",
      " 54%|█████▍    | 196/360 [01:37<01:19,  2.05it/s]"
     ]
    },
    {
     "name": "stdout",
     "output_type": "stream",
     "text": [
      "local Optima\n",
      "y_mean 9.101138553678362\n",
      "mean_mean 9.101111102144937\n",
      "abs(round((mean_mean-y_mean)/y_mean)) 0.0\n",
      "local Optima\n",
      "y_mean 6.7376150872522\n",
      "mean_mean 6.745609683179741\n",
      "abs(round((mean_mean-y_mean)/y_mean)) 0.0\n"
     ]
    },
    {
     "name": "stderr",
     "output_type": "stream",
     "text": [
      "\r",
      " 55%|█████▍    | 197/360 [01:37<01:28,  1.84it/s]"
     ]
    },
    {
     "name": "stdout",
     "output_type": "stream",
     "text": [
      "local Optima\n",
      "y_mean 6.7376150872522\n",
      "mean_mean 6.71539333961608\n",
      "abs(round((mean_mean-y_mean)/y_mean)) 0.0\n",
      "local Optima\n",
      "y_mean 8.89092375257325\n",
      "mean_mean 8.896891647404242\n",
      "abs(round((mean_mean-y_mean)/y_mean)) 0.0\n"
     ]
    },
    {
     "name": "stderr",
     "output_type": "stream",
     "text": [
      "\r",
      " 55%|█████▌    | 198/360 [01:38<01:31,  1.77it/s]"
     ]
    },
    {
     "name": "stdout",
     "output_type": "stream",
     "text": [
      "local Optima\n",
      "y_mean 8.89092375257325\n",
      "mean_mean 8.890905007407897\n",
      "abs(round((mean_mean-y_mean)/y_mean)) 0.0\n",
      "local Optima\n",
      "y_mean 5.1760584977840045\n",
      "mean_mean 5.136015247698825\n",
      "abs(round((mean_mean-y_mean)/y_mean)) 0.0\n"
     ]
    },
    {
     "name": "stderr",
     "output_type": "stream",
     "text": [
      "\r",
      " 55%|█████▌    | 199/360 [01:39<01:38,  1.64it/s]"
     ]
    },
    {
     "name": "stdout",
     "output_type": "stream",
     "text": [
      "local Optima\n",
      "y_mean 5.1760584977840045\n",
      "mean_mean 5.136047086569124\n",
      "abs(round((mean_mean-y_mean)/y_mean)) 0.0\n",
      "Fit Cholesky decomposition was not successful.\n",
      "Fit Cholesky decomposition was not successful.\n",
      "local Optima\n",
      "y_mean 8.448305157139533\n",
      "mean_mean 8.448278692081551\n",
      "abs(round((mean_mean-y_mean)/y_mean)) 0.0\n",
      "local Optima\n",
      "y_mean 8.448305157139533\n",
      "mean_mean 8.448278692081551\n",
      "abs(round((mean_mean-y_mean)/y_mean)) 0.0\n",
      "local Optima\n",
      "y_mean 8.448305157139533\n",
      "mean_mean 8.448278692081551\n",
      "abs(round((mean_mean-y_mean)/y_mean)) 0.0\n"
     ]
    },
    {
     "name": "stderr",
     "output_type": "stream",
     "text": [
      "\r",
      " 56%|█████▌    | 200/360 [01:40<01:59,  1.34it/s]"
     ]
    },
    {
     "name": "stdout",
     "output_type": "stream",
     "text": [
      "local Optima\n",
      "y_mean 8.448305157139533\n",
      "mean_mean 8.448278683182284\n",
      "abs(round((mean_mean-y_mean)/y_mean)) 0.0\n",
      "local Optima\n",
      "y_mean 5.828837805995452\n",
      "mean_mean 6.2525255225043725\n",
      "abs(round((mean_mean-y_mean)/y_mean)) 0.0\n",
      "local Optima\n",
      "y_mean 5.828837805995452\n",
      "mean_mean 5.796992087009061\n",
      "abs(round((mean_mean-y_mean)/y_mean)) 0.0\n"
     ]
    },
    {
     "name": "stderr",
     "output_type": "stream",
     "text": [
      "\r",
      " 56%|█████▌    | 201/360 [01:40<01:45,  1.51it/s]"
     ]
    },
    {
     "name": "stdout",
     "output_type": "stream",
     "text": [
      "local Optima\n",
      "y_mean 8.182044302030508\n",
      "mean_mean 8.182033327457432\n",
      "abs(round((mean_mean-y_mean)/y_mean)) 0.0\n",
      "local Optima\n",
      "y_mean 8.182044302030508\n",
      "mean_mean 8.182033326626877\n",
      "abs(round((mean_mean-y_mean)/y_mean)) 0.0\n"
     ]
    },
    {
     "name": "stderr",
     "output_type": "stream",
     "text": [
      "\r",
      " 56%|█████▌    | 202/360 [01:41<01:36,  1.64it/s]"
     ]
    },
    {
     "name": "stdout",
     "output_type": "stream",
     "text": [
      "local Optima\n",
      "y_mean 7.239870464871292\n",
      "mean_mean 7.386351675516904\n",
      "abs(round((mean_mean-y_mean)/y_mean)) 0.0\n"
     ]
    },
    {
     "name": "stderr",
     "output_type": "stream",
     "text": [
      "\r",
      " 56%|█████▋    | 203/360 [01:41<01:31,  1.71it/s]"
     ]
    },
    {
     "name": "stdout",
     "output_type": "stream",
     "text": [
      "local Optima\n",
      "y_mean 7.239870464871292\n",
      "mean_mean 7.222670883151253\n",
      "abs(round((mean_mean-y_mean)/y_mean)) 0.0\n",
      "local Optima\n",
      "y_mean 9.043487765176463\n",
      "mean_mean 9.043467989899701\n",
      "abs(round((mean_mean-y_mean)/y_mean)) 0.0\n"
     ]
    },
    {
     "name": "stderr",
     "output_type": "stream",
     "text": [
      "\r",
      " 57%|█████▋    | 204/360 [01:42<01:29,  1.75it/s]"
     ]
    },
    {
     "name": "stdout",
     "output_type": "stream",
     "text": [
      "local Optima\n",
      "y_mean 9.043487765176463\n",
      "mean_mean 9.043467991260098\n",
      "abs(round((mean_mean-y_mean)/y_mean)) 0.0\n",
      "local Optima\n",
      "y_mean 4.847867103450388\n",
      "mean_mean 4.87082109775513\n",
      "abs(round((mean_mean-y_mean)/y_mean)) 0.0\n",
      "local Optima\n",
      "y_mean 4.847867103450388\n",
      "mean_mean 4.79231109231172\n",
      "abs(round((mean_mean-y_mean)/y_mean)) 0.0\n"
     ]
    },
    {
     "name": "stderr",
     "output_type": "stream",
     "text": [
      "\r",
      " 57%|█████▋    | 205/360 [01:42<01:21,  1.89it/s]"
     ]
    },
    {
     "name": "stdout",
     "output_type": "stream",
     "text": [
      "local Optima\n",
      "y_mean 7.501896557696853\n",
      "mean_mean 7.5018765529247435\n",
      "abs(round((mean_mean-y_mean)/y_mean)) 0.0\n"
     ]
    },
    {
     "name": "stderr",
     "output_type": "stream",
     "text": [
      "\r",
      " 57%|█████▋    | 206/360 [01:43<01:18,  1.96it/s]"
     ]
    },
    {
     "name": "stdout",
     "output_type": "stream",
     "text": [
      "local Optima\n",
      "y_mean 7.501896557696853\n",
      "mean_mean 7.501876543203752\n",
      "abs(round((mean_mean-y_mean)/y_mean)) 0.0\n",
      "local Optima\n",
      "y_mean 5.320296451975996\n",
      "mean_mean 5.46920817633479\n",
      "abs(round((mean_mean-y_mean)/y_mean)) 0.0\n"
     ]
    },
    {
     "name": "stderr",
     "output_type": "stream",
     "text": [
      "\r",
      " 57%|█████▊    | 207/360 [01:43<01:17,  1.98it/s]"
     ]
    },
    {
     "name": "stdout",
     "output_type": "stream",
     "text": [
      "local Optima\n",
      "y_mean 5.320296451975996\n",
      "mean_mean 5.301286870753367\n",
      "abs(round((mean_mean-y_mean)/y_mean)) 0.0\n",
      "local Optima\n",
      "y_mean 7.034056023175065\n",
      "mean_mean 7.034037358335436\n",
      "abs(round((mean_mean-y_mean)/y_mean)) 0.0\n",
      "local Optima\n",
      "y_mean 7.034056023175065\n",
      "mean_mean 7.034037360486167\n",
      "abs(round((mean_mean-y_mean)/y_mean)) 0.0\n"
     ]
    },
    {
     "name": "stderr",
     "output_type": "stream",
     "text": [
      "\r",
      " 58%|█████▊    | 208/360 [01:44<01:22,  1.85it/s]"
     ]
    },
    {
     "name": "stdout",
     "output_type": "stream",
     "text": [
      "local Optima\n",
      "y_mean 7.077659313562948\n",
      "mean_mean 7.076002714888264\n",
      "abs(round((mean_mean-y_mean)/y_mean)) 0.0\n",
      "local Optima\n",
      "y_mean 7.077659313562948\n",
      "mean_mean 7.055905722970197\n",
      "abs(round((mean_mean-y_mean)/y_mean)) 0.0\n"
     ]
    },
    {
     "name": "stderr",
     "output_type": "stream",
     "text": [
      "\r",
      " 58%|█████▊    | 209/360 [01:44<01:27,  1.73it/s]"
     ]
    },
    {
     "name": "stdout",
     "output_type": "stream",
     "text": [
      "local Optima\n",
      "y_mean 9.178698153192492\n",
      "mean_mean 9.17866676707793\n",
      "abs(round((mean_mean-y_mean)/y_mean)) 0.0\n"
     ]
    },
    {
     "name": "stderr",
     "output_type": "stream",
     "text": [
      "\r",
      " 58%|█████▊    | 210/360 [01:45<01:33,  1.61it/s]"
     ]
    },
    {
     "name": "stdout",
     "output_type": "stream",
     "text": [
      "local Optima\n",
      "y_mean 9.178698153192492\n",
      "mean_mean 9.178666730830724\n",
      "abs(round((mean_mean-y_mean)/y_mean)) 0.0\n",
      "local Optima\n",
      "y_mean 4.860100646517996\n",
      "mean_mean 4.4739022003841775\n",
      "abs(round((mean_mean-y_mean)/y_mean)) 0.0\n"
     ]
    },
    {
     "name": "stderr",
     "output_type": "stream",
     "text": [
      "\r",
      " 59%|█████▊    | 211/360 [01:46<01:27,  1.71it/s]"
     ]
    },
    {
     "name": "stdout",
     "output_type": "stream",
     "text": [
      "local Optima\n",
      "y_mean 4.860100646517996\n",
      "mean_mean 4.789195647732392\n",
      "abs(round((mean_mean-y_mean)/y_mean)) 0.0\n",
      "Fit Cholesky decomposition was not successful.\n",
      "Fit Cholesky decomposition was not successful.\n",
      "Fit Cholesky decomposition was not successful.\n",
      "local Optima\n",
      "y_mean 9.836109931608233\n",
      "mean_mean 9.836086467790192\n",
      "abs(round((mean_mean-y_mean)/y_mean)) 0.0\n",
      "local Optima\n",
      "y_mean 9.836109931608233\n",
      "mean_mean 9.836086467790192\n",
      "abs(round((mean_mean-y_mean)/y_mean)) 0.0\n",
      "local Optima\n",
      "y_mean 9.836109931608233\n",
      "mean_mean 9.836086467790192\n",
      "abs(round((mean_mean-y_mean)/y_mean)) 0.0\n",
      "local Optima\n",
      "y_mean 9.836109931608233\n",
      "mean_mean 9.836086467790192\n",
      "abs(round((mean_mean-y_mean)/y_mean)) 0.0\n"
     ]
    },
    {
     "name": "stderr",
     "output_type": "stream",
     "text": [
      "\r",
      " 59%|█████▉    | 212/360 [01:47<01:55,  1.28it/s]"
     ]
    },
    {
     "name": "stdout",
     "output_type": "stream",
     "text": [
      "local Optima\n",
      "y_mean 9.836109931608233\n",
      "mean_mean 9.83608646826254\n",
      "abs(round((mean_mean-y_mean)/y_mean)) 0.0\n"
     ]
    },
    {
     "name": "stderr",
     "output_type": "stream",
     "text": [
      "\r",
      " 59%|█████▉    | 213/360 [01:47<01:37,  1.50it/s]"
     ]
    },
    {
     "name": "stdout",
     "output_type": "stream",
     "text": [
      "local Optima\n",
      "y_mean 6.506320803514696\n",
      "mean_mean 6.333069876303121\n",
      "abs(round((mean_mean-y_mean)/y_mean)) 0.0\n",
      "local Optima\n",
      "y_mean 6.506320803514696\n",
      "mean_mean 6.467599312496959\n",
      "abs(round((mean_mean-y_mean)/y_mean)) 0.0\n"
     ]
    },
    {
     "name": "stderr",
     "output_type": "stream",
     "text": [
      "\r",
      " 59%|█████▉    | 214/360 [01:48<01:26,  1.68it/s]"
     ]
    },
    {
     "name": "stdout",
     "output_type": "stream",
     "text": [
      "local Optima\n",
      "y_mean 9.515537082798398\n",
      "mean_mean 9.515521273230055\n",
      "abs(round((mean_mean-y_mean)/y_mean)) 0.0\n",
      "local Optima\n",
      "y_mean 9.515537082798398\n",
      "mean_mean 9.515521209147312\n",
      "abs(round((mean_mean-y_mean)/y_mean)) 0.0\n"
     ]
    },
    {
     "name": "stderr",
     "output_type": "stream",
     "text": [
      "\r",
      " 60%|█████▉    | 215/360 [01:48<01:17,  1.87it/s]"
     ]
    },
    {
     "name": "stdout",
     "output_type": "stream",
     "text": [
      "local Optima\n",
      "y_mean 7.28947334272737\n",
      "mean_mean 7.226047731136272\n",
      "abs(round((mean_mean-y_mean)/y_mean)) 0.0\n",
      "local Optima\n",
      "y_mean 7.28947334272737\n",
      "mean_mean 7.262618122991779\n",
      "abs(round((mean_mean-y_mean)/y_mean)) 0.0\n"
     ]
    },
    {
     "name": "stderr",
     "output_type": "stream",
     "text": [
      "\r",
      " 60%|██████    | 216/360 [01:48<01:12,  2.00it/s]"
     ]
    },
    {
     "name": "stdout",
     "output_type": "stream",
     "text": [
      "local Optima\n",
      "y_mean 9.471646072712959\n",
      "mean_mean 9.47163668503164\n",
      "abs(round((mean_mean-y_mean)/y_mean)) 0.0\n",
      "local Optima\n",
      "y_mean 9.471646072712959\n",
      "mean_mean 9.471636354866082\n",
      "abs(round((mean_mean-y_mean)/y_mean)) 0.0\n"
     ]
    },
    {
     "name": "stderr",
     "output_type": "stream",
     "text": [
      "\r",
      " 60%|██████    | 217/360 [01:49<01:07,  2.13it/s]"
     ]
    },
    {
     "name": "stdout",
     "output_type": "stream",
     "text": [
      "local Optima\n",
      "y_mean 5.78766025539695\n",
      "mean_mean 6.176026616140733\n",
      "abs(round((mean_mean-y_mean)/y_mean)) 0.0\n",
      "local Optima\n",
      "y_mean 5.78766025539695\n",
      "mean_mean 5.7206394740278474\n",
      "abs(round((mean_mean-y_mean)/y_mean)) 0.0\n"
     ]
    },
    {
     "name": "stderr",
     "output_type": "stream",
     "text": [
      "\r",
      " 61%|██████    | 218/360 [01:49<01:04,  2.19it/s]"
     ]
    },
    {
     "name": "stdout",
     "output_type": "stream",
     "text": [
      "local Optima\n",
      "y_mean 8.17699911681126\n",
      "mean_mean 8.176935293988443\n",
      "abs(round((mean_mean-y_mean)/y_mean)) 0.0\n",
      "local Optima\n",
      "y_mean 8.17699911681126\n",
      "mean_mean 8.176935262118203\n",
      "abs(round((mean_mean-y_mean)/y_mean)) 0.0\n"
     ]
    },
    {
     "name": "stderr",
     "output_type": "stream",
     "text": [
      "\r",
      " 61%|██████    | 219/360 [01:50<01:02,  2.25it/s]"
     ]
    },
    {
     "name": "stdout",
     "output_type": "stream",
     "text": [
      "local Optima\n",
      "y_mean 6.160625056543944\n",
      "mean_mean 6.350292835091015\n",
      "abs(round((mean_mean-y_mean)/y_mean)) 0.0\n",
      "local Optima\n",
      "y_mean 6.160625056543944\n",
      "mean_mean 6.132911605813714\n",
      "abs(round((mean_mean-y_mean)/y_mean)) 0.0\n"
     ]
    },
    {
     "name": "stderr",
     "output_type": "stream",
     "text": [
      "\r",
      " 61%|██████    | 220/360 [01:50<01:00,  2.30it/s]"
     ]
    },
    {
     "name": "stdout",
     "output_type": "stream",
     "text": [
      "local Optima\n",
      "y_mean 8.04975428191\n",
      "mean_mean 8.049715517085499\n",
      "abs(round((mean_mean-y_mean)/y_mean)) 0.0\n",
      "local Optima\n",
      "y_mean 8.04975428191\n",
      "mean_mean 8.04971417010864\n",
      "abs(round((mean_mean-y_mean)/y_mean)) 0.0\n"
     ]
    },
    {
     "name": "stderr",
     "output_type": "stream",
     "text": [
      "\r",
      " 61%|██████▏   | 221/360 [01:51<00:59,  2.34it/s]"
     ]
    },
    {
     "name": "stdout",
     "output_type": "stream",
     "text": [
      "local Optima\n",
      "y_mean 6.894906102668003\n",
      "mean_mean 6.952360836453095\n",
      "abs(round((mean_mean-y_mean)/y_mean)) 0.0\n",
      "local Optima\n",
      "y_mean 6.894906102668003\n",
      "mean_mean 6.882519186801164\n",
      "abs(round((mean_mean-y_mean)/y_mean)) 0.0\n"
     ]
    },
    {
     "name": "stderr",
     "output_type": "stream",
     "text": [
      "\r",
      " 62%|██████▏   | 222/360 [01:51<00:58,  2.36it/s]"
     ]
    },
    {
     "name": "stdout",
     "output_type": "stream",
     "text": [
      "local Optima\n",
      "y_mean 7.91718956042938\n",
      "mean_mean 7.9171686450382515\n",
      "abs(round((mean_mean-y_mean)/y_mean)) 0.0\n",
      "local Optima\n",
      "y_mean 7.91718956042938\n",
      "mean_mean 7.917165097308948\n",
      "abs(round((mean_mean-y_mean)/y_mean)) 0.0\n"
     ]
    },
    {
     "name": "stderr",
     "output_type": "stream",
     "text": [
      "\r",
      " 62%|██████▏   | 223/360 [01:51<00:57,  2.37it/s]"
     ]
    },
    {
     "name": "stdout",
     "output_type": "stream",
     "text": [
      "local Optima\n",
      "y_mean 4.421947211795922\n",
      "mean_mean 4.635130163076213\n",
      "abs(round((mean_mean-y_mean)/y_mean)) 0.0\n",
      "local Optima\n",
      "y_mean 4.421947211795922\n",
      "mean_mean 4.320495445295812\n",
      "abs(round((mean_mean-y_mean)/y_mean)) 0.0\n",
      "Fit Cholesky decomposition was not successful.\n"
     ]
    },
    {
     "name": "stderr",
     "output_type": "stream",
     "text": [
      "\r",
      " 62%|██████▏   | 224/360 [01:52<01:10,  1.93it/s]"
     ]
    },
    {
     "name": "stdout",
     "output_type": "stream",
     "text": [
      "local Optima\n",
      "y_mean 8.15016549492321\n",
      "mean_mean 8.150118800774852\n",
      "abs(round((mean_mean-y_mean)/y_mean)) 0.0\n",
      "local Optima\n",
      "y_mean 8.15016549492321\n",
      "mean_mean 8.150118800774852\n",
      "abs(round((mean_mean-y_mean)/y_mean)) 0.0\n",
      "local Optima\n",
      "y_mean 8.15016549492321\n",
      "mean_mean 8.15011880175237\n",
      "abs(round((mean_mean-y_mean)/y_mean)) 0.0\n"
     ]
    },
    {
     "name": "stderr",
     "output_type": "stream",
     "text": [
      "\r",
      " 62%|██████▎   | 225/360 [01:53<01:05,  2.05it/s]"
     ]
    },
    {
     "name": "stdout",
     "output_type": "stream",
     "text": [
      "local Optima\n",
      "y_mean 5.186222280114078\n",
      "mean_mean 5.13953062676943\n",
      "abs(round((mean_mean-y_mean)/y_mean)) 0.0\n",
      "local Optima\n",
      "y_mean 5.186222280114078\n",
      "mean_mean 5.139530309822399\n",
      "abs(round((mean_mean-y_mean)/y_mean)) 0.0\n"
     ]
    },
    {
     "name": "stderr",
     "output_type": "stream",
     "text": [
      "\r",
      " 63%|██████▎   | 226/360 [01:53<01:02,  2.13it/s]"
     ]
    },
    {
     "name": "stdout",
     "output_type": "stream",
     "text": [
      "local Optima\n",
      "y_mean 7.926144341329594\n",
      "mean_mean 7.926120364806121\n",
      "abs(round((mean_mean-y_mean)/y_mean)) 0.0\n",
      "local Optima\n",
      "y_mean 7.926144341329594\n",
      "mean_mean 7.92612036475872\n",
      "abs(round((mean_mean-y_mean)/y_mean)) 0.0\n",
      "local Optima\n",
      "y_mean 5.613008137935894\n",
      "mean_mean 5.475682060527756\n",
      "abs(round((mean_mean-y_mean)/y_mean)) 0.0\n"
     ]
    },
    {
     "name": "stderr",
     "output_type": "stream",
     "text": [
      "\r",
      " 63%|██████▎   | 227/360 [01:53<01:04,  2.08it/s]"
     ]
    },
    {
     "name": "stdout",
     "output_type": "stream",
     "text": [
      "local Optima\n",
      "y_mean 5.613008137935894\n",
      "mean_mean 5.583433285481227\n",
      "abs(round((mean_mean-y_mean)/y_mean)) 0.0\n"
     ]
    },
    {
     "name": "stderr",
     "output_type": "stream",
     "text": [
      "\r",
      " 63%|██████▎   | 228/360 [01:54<01:01,  2.14it/s]"
     ]
    },
    {
     "name": "stdout",
     "output_type": "stream",
     "text": [
      "local Optima\n",
      "y_mean 8.388075648797503\n",
      "mean_mean 8.388066207909644\n",
      "abs(round((mean_mean-y_mean)/y_mean)) 0.0\n",
      "local Optima\n",
      "y_mean 8.388075648797503\n",
      "mean_mean 8.388065658250365\n",
      "abs(round((mean_mean-y_mean)/y_mean)) 0.0\n"
     ]
    },
    {
     "name": "stderr",
     "output_type": "stream",
     "text": [
      "\r",
      " 64%|██████▎   | 229/360 [01:54<01:02,  2.10it/s]"
     ]
    },
    {
     "name": "stdout",
     "output_type": "stream",
     "text": [
      "local Optima\n",
      "y_mean 5.076785198427983\n",
      "mean_mean 4.978467474819374\n",
      "abs(round((mean_mean-y_mean)/y_mean)) 0.0\n",
      "local Optima\n",
      "y_mean 5.076785198427983\n",
      "mean_mean 5.016718589958325\n",
      "abs(round((mean_mean-y_mean)/y_mean)) 0.0\n"
     ]
    },
    {
     "name": "stderr",
     "output_type": "stream",
     "text": [
      "\r",
      " 64%|██████▍   | 230/360 [01:55<00:59,  2.17it/s]"
     ]
    },
    {
     "name": "stdout",
     "output_type": "stream",
     "text": [
      "local Optima\n",
      "y_mean 8.379104237126842\n",
      "mean_mean 8.379072285420293\n",
      "abs(round((mean_mean-y_mean)/y_mean)) 0.0\n",
      "local Optima\n",
      "y_mean 8.379104237126842\n",
      "mean_mean 8.379072282305414\n",
      "abs(round((mean_mean-y_mean)/y_mean)) 0.0\n"
     ]
    },
    {
     "name": "stderr",
     "output_type": "stream",
     "text": [
      "\r",
      " 64%|██████▍   | 231/360 [01:55<00:57,  2.26it/s]"
     ]
    },
    {
     "name": "stdout",
     "output_type": "stream",
     "text": [
      "local Optima\n",
      "y_mean 6.666408076845454\n",
      "mean_mean 6.339187519685997\n",
      "abs(round((mean_mean-y_mean)/y_mean)) 0.0\n",
      "local Optima\n",
      "y_mean 6.666408076845454\n",
      "mean_mean 6.624704937359171\n",
      "abs(round((mean_mean-y_mean)/y_mean)) 0.0\n"
     ]
    },
    {
     "name": "stderr",
     "output_type": "stream",
     "text": [
      "\r",
      " 64%|██████▍   | 232/360 [01:56<00:56,  2.27it/s]"
     ]
    },
    {
     "name": "stdout",
     "output_type": "stream",
     "text": [
      "local Optima\n",
      "y_mean 9.437163464909181\n",
      "mean_mean 9.437130690183844\n",
      "abs(round((mean_mean-y_mean)/y_mean)) 0.0\n",
      "local Optima\n",
      "y_mean 9.437163464909181\n",
      "mean_mean 9.437130688106523\n",
      "abs(round((mean_mean-y_mean)/y_mean)) 0.0\n"
     ]
    },
    {
     "name": "stderr",
     "output_type": "stream",
     "text": [
      "\r",
      " 65%|██████▍   | 233/360 [01:56<00:54,  2.33it/s]"
     ]
    },
    {
     "name": "stdout",
     "output_type": "stream",
     "text": [
      "local Optima\n",
      "y_mean 7.4932005903105505\n",
      "mean_mean 7.388640434818658\n",
      "abs(round((mean_mean-y_mean)/y_mean)) 0.0\n",
      "local Optima\n",
      "y_mean 7.4932005903105505\n",
      "mean_mean 7.46998332992398\n",
      "abs(round((mean_mean-y_mean)/y_mean)) 0.0\n"
     ]
    },
    {
     "name": "stderr",
     "output_type": "stream",
     "text": [
      "\r",
      " 65%|██████▌   | 234/360 [01:56<00:54,  2.32it/s]"
     ]
    },
    {
     "name": "stdout",
     "output_type": "stream",
     "text": [
      "local Optima\n",
      "y_mean 9.384617449955321\n",
      "mean_mean 9.38459684139172\n",
      "abs(round((mean_mean-y_mean)/y_mean)) 0.0\n",
      "local Optima\n",
      "y_mean 9.384617449955321\n",
      "mean_mean 9.3845968400136\n",
      "abs(round((mean_mean-y_mean)/y_mean)) 0.0\n"
     ]
    },
    {
     "name": "stderr",
     "output_type": "stream",
     "text": [
      "\r",
      " 65%|██████▌   | 235/360 [01:57<00:53,  2.34it/s]"
     ]
    },
    {
     "name": "stdout",
     "output_type": "stream",
     "text": [
      "local Optima\n",
      "y_mean 5.07701168353381\n",
      "mean_mean 4.996042270319354\n",
      "abs(round((mean_mean-y_mean)/y_mean)) 0.0\n",
      "local Optima\n",
      "y_mean 5.07701168353381\n",
      "mean_mean 4.9960395212779005\n",
      "abs(round((mean_mean-y_mean)/y_mean)) 0.0\n"
     ]
    },
    {
     "name": "stderr",
     "output_type": "stream",
     "text": [
      "\r",
      " 66%|██████▌   | 236/360 [01:57<00:52,  2.34it/s]"
     ]
    },
    {
     "name": "stdout",
     "output_type": "stream",
     "text": [
      "local Optima\n",
      "y_mean 8.99398720732875\n",
      "mean_mean 8.993905682536528\n",
      "abs(round((mean_mean-y_mean)/y_mean)) 0.0\n",
      "local Optima\n",
      "y_mean 8.99398720732875\n",
      "mean_mean 8.993905634112311\n",
      "abs(round((mean_mean-y_mean)/y_mean)) 0.0\n"
     ]
    },
    {
     "name": "stderr",
     "output_type": "stream",
     "text": [
      "\r",
      " 66%|██████▌   | 237/360 [01:58<00:51,  2.39it/s]"
     ]
    },
    {
     "name": "stdout",
     "output_type": "stream",
     "text": [
      "local Optima\n",
      "y_mean 6.214152706944926\n",
      "mean_mean 6.185758709292096\n",
      "abs(round((mean_mean-y_mean)/y_mean)) 0.0\n",
      "local Optima\n",
      "y_mean 6.214152706944926\n",
      "mean_mean 6.164997200498793\n",
      "abs(round((mean_mean-y_mean)/y_mean)) 0.0\n"
     ]
    },
    {
     "name": "stderr",
     "output_type": "stream",
     "text": [
      "\r",
      " 66%|██████▌   | 238/360 [01:58<00:50,  2.40it/s]"
     ]
    },
    {
     "name": "stdout",
     "output_type": "stream",
     "text": [
      "local Optima\n",
      "y_mean 8.77965414283774\n",
      "mean_mean 8.779617822814888\n",
      "abs(round((mean_mean-y_mean)/y_mean)) 0.0\n",
      "local Optima\n",
      "y_mean 8.77965414283774\n",
      "mean_mean 8.77961803521254\n",
      "abs(round((mean_mean-y_mean)/y_mean)) 0.0\n"
     ]
    },
    {
     "name": "stderr",
     "output_type": "stream",
     "text": [
      "\r",
      " 66%|██████▋   | 239/360 [01:59<00:49,  2.43it/s]"
     ]
    },
    {
     "name": "stdout",
     "output_type": "stream",
     "text": [
      "local Optima\n",
      "y_mean 6.858932737261674\n",
      "mean_mean 6.757128953844284\n",
      "abs(round((mean_mean-y_mean)/y_mean)) 0.0\n",
      "local Optima\n",
      "y_mean 6.858932737261674\n",
      "mean_mean 6.833935691879267\n",
      "abs(round((mean_mean-y_mean)/y_mean)) 0.0\n"
     ]
    },
    {
     "name": "stderr",
     "output_type": "stream",
     "text": [
      "\r",
      " 67%|██████▋   | 240/360 [01:59<00:49,  2.44it/s]"
     ]
    },
    {
     "name": "stdout",
     "output_type": "stream",
     "text": [
      "local Optima\n",
      "y_mean 9.021181011845568\n",
      "mean_mean 9.028620948620238\n",
      "abs(round((mean_mean-y_mean)/y_mean)) 0.0\n",
      "local Optima\n",
      "y_mean 9.021181011845568\n",
      "mean_mean 9.021170683550253\n",
      "abs(round((mean_mean-y_mean)/y_mean)) 0.0\n"
     ]
    },
    {
     "name": "stderr",
     "output_type": "stream",
     "text": [
      "\r",
      " 67%|██████▋   | 241/360 [01:59<00:48,  2.46it/s]"
     ]
    },
    {
     "name": "stdout",
     "output_type": "stream",
     "text": [
      "local Optima\n",
      "y_mean 6.49891572634038\n",
      "mean_mean 6.487671977079882\n",
      "abs(round((mean_mean-y_mean)/y_mean)) 0.0\n",
      "local Optima\n",
      "y_mean 6.49891572634038\n",
      "mean_mean 6.46768387317416\n",
      "abs(round((mean_mean-y_mean)/y_mean)) 0.0\n"
     ]
    },
    {
     "name": "stderr",
     "output_type": "stream",
     "text": [
      "\r",
      " 67%|██████▋   | 242/360 [02:00<00:48,  2.44it/s]"
     ]
    },
    {
     "name": "stdout",
     "output_type": "stream",
     "text": [
      "local Optima\n",
      "y_mean 9.586792396560595\n",
      "mean_mean 9.58672845126253\n",
      "abs(round((mean_mean-y_mean)/y_mean)) 0.0\n",
      "local Optima\n",
      "y_mean 9.586792396560595\n",
      "mean_mean 9.586726618557073\n",
      "abs(round((mean_mean-y_mean)/y_mean)) 0.0\n"
     ]
    },
    {
     "name": "stderr",
     "output_type": "stream",
     "text": [
      "\r",
      " 68%|██████▊   | 243/360 [02:00<00:47,  2.46it/s]"
     ]
    },
    {
     "name": "stdout",
     "output_type": "stream",
     "text": [
      "local Optima\n",
      "y_mean 6.927785049181701\n",
      "mean_mean 6.902160136124776\n",
      "abs(round((mean_mean-y_mean)/y_mean)) 0.0\n",
      "local Optima\n",
      "y_mean 6.927785049181701\n",
      "mean_mean 6.910298522401636\n",
      "abs(round((mean_mean-y_mean)/y_mean)) 0.0\n"
     ]
    },
    {
     "name": "stderr",
     "output_type": "stream",
     "text": [
      "\r",
      " 68%|██████▊   | 244/360 [02:01<00:47,  2.42it/s]"
     ]
    },
    {
     "name": "stdout",
     "output_type": "stream",
     "text": [
      "local Optima\n",
      "y_mean 9.127253356085\n",
      "mean_mean 9.127207335560277\n",
      "abs(round((mean_mean-y_mean)/y_mean)) 0.0\n",
      "local Optima\n",
      "y_mean 9.127253356085\n",
      "mean_mean 9.12720730906724\n",
      "abs(round((mean_mean-y_mean)/y_mean)) 0.0\n"
     ]
    },
    {
     "name": "stderr",
     "output_type": "stream",
     "text": [
      "\r",
      " 68%|██████▊   | 245/360 [02:01<00:47,  2.44it/s]"
     ]
    },
    {
     "name": "stdout",
     "output_type": "stream",
     "text": [
      "local Optima\n",
      "y_mean 6.731374725796511\n",
      "mean_mean 6.718072532828486\n",
      "abs(round((mean_mean-y_mean)/y_mean)) 0.0\n",
      "local Optima\n",
      "y_mean 6.731374725796511\n",
      "mean_mean 6.715670723773992\n",
      "abs(round((mean_mean-y_mean)/y_mean)) 0.0\n"
     ]
    },
    {
     "name": "stderr",
     "output_type": "stream",
     "text": [
      "\r",
      " 68%|██████▊   | 246/360 [02:01<00:47,  2.42it/s]"
     ]
    },
    {
     "name": "stdout",
     "output_type": "stream",
     "text": [
      "local Optima\n",
      "y_mean 8.76763790018975\n",
      "mean_mean 8.767594223266682\n",
      "abs(round((mean_mean-y_mean)/y_mean)) 0.0\n",
      "local Optima\n",
      "y_mean 8.76763790018975\n",
      "mean_mean 8.767594176528545\n",
      "abs(round((mean_mean-y_mean)/y_mean)) 0.0\n"
     ]
    },
    {
     "name": "stderr",
     "output_type": "stream",
     "text": [
      "\r",
      " 69%|██████▊   | 247/360 [02:02<00:46,  2.45it/s]"
     ]
    },
    {
     "name": "stdout",
     "output_type": "stream",
     "text": [
      "local Optima\n",
      "y_mean 6.525929834965378\n",
      "mean_mean 6.631322440110315\n",
      "abs(round((mean_mean-y_mean)/y_mean)) 0.0\n",
      "local Optima\n",
      "y_mean 6.525929834965378\n",
      "mean_mean 6.501206163594174\n",
      "abs(round((mean_mean-y_mean)/y_mean)) 0.0\n"
     ]
    },
    {
     "name": "stderr",
     "output_type": "stream",
     "text": [
      "\r",
      " 69%|██████▉   | 248/360 [02:02<00:46,  2.40it/s]"
     ]
    },
    {
     "name": "stdout",
     "output_type": "stream",
     "text": [
      "local Optima\n",
      "y_mean 8.691313009136346\n",
      "mean_mean 8.691298830377221\n",
      "abs(round((mean_mean-y_mean)/y_mean)) 0.0\n",
      "local Optima\n",
      "y_mean 8.691313009136346\n",
      "mean_mean 8.691298824325838\n",
      "abs(round((mean_mean-y_mean)/y_mean)) 0.0\n"
     ]
    },
    {
     "name": "stderr",
     "output_type": "stream",
     "text": [
      "\r",
      " 69%|██████▉   | 249/360 [02:03<00:47,  2.33it/s]"
     ]
    },
    {
     "name": "stdout",
     "output_type": "stream",
     "text": [
      "local Optima\n",
      "y_mean 6.471488455711974\n",
      "mean_mean 6.552603247012157\n",
      "abs(round((mean_mean-y_mean)/y_mean)) 0.0\n",
      "local Optima\n",
      "y_mean 6.471488455711974\n",
      "mean_mean 6.455182533720164\n",
      "abs(round((mean_mean-y_mean)/y_mean)) 0.0\n"
     ]
    },
    {
     "name": "stderr",
     "output_type": "stream",
     "text": [
      "\r",
      " 69%|██████▉   | 250/360 [02:03<00:47,  2.32it/s]"
     ]
    },
    {
     "name": "stdout",
     "output_type": "stream",
     "text": [
      "local Optima\n",
      "y_mean 8.119833745472247\n",
      "mean_mean 8.119820940549051\n",
      "abs(round((mean_mean-y_mean)/y_mean)) 0.0\n",
      "local Optima\n",
      "y_mean 8.119833745472247\n",
      "mean_mean 8.119820935765174\n",
      "abs(round((mean_mean-y_mean)/y_mean)) 0.0\n"
     ]
    },
    {
     "name": "stderr",
     "output_type": "stream",
     "text": [
      "\r",
      " 70%|██████▉   | 251/360 [02:04<00:45,  2.37it/s]"
     ]
    },
    {
     "name": "stdout",
     "output_type": "stream",
     "text": [
      "local Optima\n",
      "y_mean 7.0443441268638445\n",
      "mean_mean 7.0484480005595005\n",
      "abs(round((mean_mean-y_mean)/y_mean)) 0.0\n",
      "local Optima\n",
      "y_mean 7.0443441268638445\n",
      "mean_mean 7.037677104832719\n",
      "abs(round((mean_mean-y_mean)/y_mean)) 0.0\n",
      "Fit Cholesky decomposition was not successful.\n",
      "Fit Cholesky decomposition was not successful.\n",
      "Fit Cholesky decomposition was not successful.\n",
      "local Optima\n",
      "y_mean 8.366526184363932\n",
      "mean_mean 8.366516092100484\n",
      "abs(round((mean_mean-y_mean)/y_mean)) 0.0\n",
      "local Optima\n",
      "y_mean 8.366526184363932\n",
      "mean_mean 8.366516092100484\n",
      "abs(round((mean_mean-y_mean)/y_mean)) 0.0\n",
      "local Optima\n",
      "y_mean 8.366526184363932\n",
      "mean_mean 8.366516092100484\n",
      "abs(round((mean_mean-y_mean)/y_mean)) 0.0\n",
      "local Optima\n",
      "y_mean 8.366526184363932\n",
      "mean_mean 8.366516092100484\n",
      "abs(round((mean_mean-y_mean)/y_mean)) 0.0\n"
     ]
    },
    {
     "name": "stderr",
     "output_type": "stream",
     "text": [
      "\r",
      " 70%|███████   | 252/360 [02:05<01:09,  1.56it/s]"
     ]
    },
    {
     "name": "stdout",
     "output_type": "stream",
     "text": [
      "local Optima\n",
      "y_mean 8.366526184363932\n",
      "mean_mean 8.366516092031514\n",
      "abs(round((mean_mean-y_mean)/y_mean)) 0.0\n"
     ]
    },
    {
     "name": "stderr",
     "output_type": "stream",
     "text": [
      "\r",
      " 70%|███████   | 253/360 [02:05<01:00,  1.76it/s]"
     ]
    },
    {
     "name": "stdout",
     "output_type": "stream",
     "text": [
      "local Optima\n",
      "y_mean 5.357299461475379\n",
      "mean_mean 5.926243865789988\n",
      "abs(round((mean_mean-y_mean)/y_mean)) 0.0\n",
      "local Optima\n",
      "y_mean 5.357299461475379\n",
      "mean_mean 5.276679358713696\n",
      "abs(round((mean_mean-y_mean)/y_mean)) 0.0\n"
     ]
    },
    {
     "name": "stderr",
     "output_type": "stream",
     "text": [
      "\r",
      " 71%|███████   | 254/360 [02:06<00:55,  1.90it/s]"
     ]
    },
    {
     "name": "stdout",
     "output_type": "stream",
     "text": [
      "local Optima\n",
      "y_mean 7.869107390277705\n",
      "mean_mean 7.869059831419612\n",
      "abs(round((mean_mean-y_mean)/y_mean)) 0.0\n",
      "local Optima\n",
      "y_mean 7.869107390277705\n",
      "mean_mean 7.869059845166033\n",
      "abs(round((mean_mean-y_mean)/y_mean)) 0.0\n"
     ]
    },
    {
     "name": "stderr",
     "output_type": "stream",
     "text": [
      "\r",
      " 71%|███████   | 255/360 [02:06<00:51,  2.05it/s]"
     ]
    },
    {
     "name": "stdout",
     "output_type": "stream",
     "text": [
      "local Optima\n",
      "y_mean 6.101819958488818\n",
      "mean_mean 6.186256095355785\n",
      "abs(round((mean_mean-y_mean)/y_mean)) 0.0\n",
      "local Optima\n",
      "y_mean 6.101819958488818\n",
      "mean_mean 6.086361610046591\n",
      "abs(round((mean_mean-y_mean)/y_mean)) 0.0\n",
      "Fit Cholesky decomposition was not successful.\n"
     ]
    },
    {
     "name": "stderr",
     "output_type": "stream",
     "text": [
      "\r",
      " 71%|███████   | 256/360 [02:07<00:56,  1.85it/s]"
     ]
    },
    {
     "name": "stdout",
     "output_type": "stream",
     "text": [
      "local Optima\n",
      "y_mean 7.475933123458808\n",
      "mean_mean 7.475906199038875\n",
      "abs(round((mean_mean-y_mean)/y_mean)) 0.0\n",
      "local Optima\n",
      "y_mean 7.475933123458808\n",
      "mean_mean 7.475906199038875\n",
      "abs(round((mean_mean-y_mean)/y_mean)) 0.0\n",
      "local Optima\n",
      "y_mean 7.475933123458808\n",
      "mean_mean 7.475905462631873\n",
      "abs(round((mean_mean-y_mean)/y_mean)) 0.0\n",
      "local Optima\n",
      "y_mean 7.332893666148198\n",
      "mean_mean 7.733984966914573\n",
      "abs(round((mean_mean-y_mean)/y_mean)) 0.0\n"
     ]
    },
    {
     "name": "stderr",
     "output_type": "stream",
     "text": [
      "\r",
      " 71%|███████▏  | 257/360 [02:07<00:53,  1.91it/s]"
     ]
    },
    {
     "name": "stdout",
     "output_type": "stream",
     "text": [
      "local Optima\n",
      "y_mean 7.332893666148198\n",
      "mean_mean 7.311445383217234\n",
      "abs(round((mean_mean-y_mean)/y_mean)) 0.0\n"
     ]
    },
    {
     "name": "stderr",
     "output_type": "stream",
     "text": [
      "\r",
      " 72%|███████▏  | 258/360 [02:07<00:50,  2.04it/s]"
     ]
    },
    {
     "name": "stdout",
     "output_type": "stream",
     "text": [
      "local Optima\n",
      "y_mean 8.982050857377095\n",
      "mean_mean 8.982032952312034\n",
      "abs(round((mean_mean-y_mean)/y_mean)) 0.0\n",
      "local Optima\n",
      "y_mean 8.982050857377095\n",
      "mean_mean 8.982032212749635\n",
      "abs(round((mean_mean-y_mean)/y_mean)) 0.0\n"
     ]
    },
    {
     "name": "stderr",
     "output_type": "stream",
     "text": [
      "\r",
      " 72%|███████▏  | 259/360 [02:08<00:46,  2.16it/s]"
     ]
    },
    {
     "name": "stdout",
     "output_type": "stream",
     "text": [
      "local Optima\n",
      "y_mean 4.87913614182877\n",
      "mean_mean 4.903685616016595\n",
      "abs(round((mean_mean-y_mean)/y_mean)) 0.0\n",
      "local Optima\n",
      "y_mean 4.87913614182877\n",
      "mean_mean 4.820600626846457\n",
      "abs(round((mean_mean-y_mean)/y_mean)) 0.0\n"
     ]
    },
    {
     "name": "stderr",
     "output_type": "stream",
     "text": [
      "\r",
      " 72%|███████▏  | 260/360 [02:08<00:44,  2.23it/s]"
     ]
    },
    {
     "name": "stdout",
     "output_type": "stream",
     "text": [
      "local Optima\n",
      "y_mean 8.509202582242779\n",
      "mean_mean 8.509180704690316\n",
      "abs(round((mean_mean-y_mean)/y_mean)) 0.0\n",
      "local Optima\n",
      "y_mean 8.509202582242779\n",
      "mean_mean 8.509180787299144\n",
      "abs(round((mean_mean-y_mean)/y_mean)) 0.0\n"
     ]
    },
    {
     "name": "stderr",
     "output_type": "stream",
     "text": [
      "\r",
      " 72%|███████▎  | 261/360 [02:09<00:43,  2.30it/s]"
     ]
    },
    {
     "name": "stdout",
     "output_type": "stream",
     "text": [
      "local Optima\n",
      "y_mean 5.040118903226685\n",
      "mean_mean 5.407330164782687\n",
      "abs(round((mean_mean-y_mean)/y_mean)) 0.0\n",
      "local Optima\n",
      "y_mean 5.040118903226685\n",
      "mean_mean 5.004559108504723\n",
      "abs(round((mean_mean-y_mean)/y_mean)) 0.0\n",
      "Fit Cholesky decomposition was not successful.\n",
      "Fit Cholesky decomposition was not successful.\n",
      "local Optima\n",
      "y_mean 7.868290777684812\n",
      "mean_mean 7.868268989004119\n",
      "abs(round((mean_mean-y_mean)/y_mean)) 0.0\n",
      "local Optima\n",
      "y_mean 7.868290777684812\n",
      "mean_mean 7.868268989004119\n",
      "abs(round((mean_mean-y_mean)/y_mean)) 0.0\n",
      "local Optima\n",
      "y_mean 7.868290777684812\n",
      "mean_mean 7.868268989004119\n",
      "abs(round((mean_mean-y_mean)/y_mean)) 0.0\n",
      "local Optima"
     ]
    },
    {
     "name": "stderr",
     "output_type": "stream",
     "text": [
      "\r",
      " 73%|███████▎  | 262/360 [02:10<00:56,  1.73it/s]"
     ]
    },
    {
     "name": "stdout",
     "output_type": "stream",
     "text": [
      "\n",
      "y_mean 7.868290777684812\n",
      "mean_mean 7.868268989916942\n",
      "abs(round((mean_mean-y_mean)/y_mean)) 0.0\n"
     ]
    },
    {
     "name": "stderr",
     "output_type": "stream",
     "text": [
      "\r",
      " 73%|███████▎  | 263/360 [02:10<00:51,  1.90it/s]"
     ]
    },
    {
     "name": "stdout",
     "output_type": "stream",
     "text": [
      "local Optima\n",
      "y_mean 6.934564970631437\n",
      "mean_mean 7.16317660673965\n",
      "abs(round((mean_mean-y_mean)/y_mean)) 0.0\n",
      "local Optima\n",
      "y_mean 6.934564970631437\n",
      "mean_mean 6.917435747359565\n",
      "abs(round((mean_mean-y_mean)/y_mean)) 0.0\n"
     ]
    },
    {
     "name": "stderr",
     "output_type": "stream",
     "text": [
      "\r",
      " 73%|███████▎  | 264/360 [02:10<00:47,  2.01it/s]"
     ]
    },
    {
     "name": "stdout",
     "output_type": "stream",
     "text": [
      "local Optima\n",
      "y_mean 8.755588098704498\n",
      "mean_mean 8.75557301537336\n",
      "abs(round((mean_mean-y_mean)/y_mean)) 0.0\n",
      "local Optima\n",
      "y_mean 8.755588098704498\n",
      "mean_mean 8.755572673580868\n",
      "abs(round((mean_mean-y_mean)/y_mean)) 0.0\n"
     ]
    },
    {
     "name": "stderr",
     "output_type": "stream",
     "text": [
      "\r",
      " 74%|███████▎  | 265/360 [02:11<00:44,  2.13it/s]"
     ]
    },
    {
     "name": "stdout",
     "output_type": "stream",
     "text": [
      "local Optima\n",
      "y_mean 4.210822701999481\n",
      "mean_mean 4.428833135727348\n",
      "abs(round((mean_mean-y_mean)/y_mean)) 0.0\n",
      "local Optima\n",
      "y_mean 4.210822701999481\n",
      "mean_mean 4.117371162983816\n",
      "abs(round((mean_mean-y_mean)/y_mean)) 0.0\n"
     ]
    },
    {
     "name": "stderr",
     "output_type": "stream",
     "text": [
      "\r",
      " 74%|███████▍  | 266/360 [02:11<00:43,  2.15it/s]"
     ]
    },
    {
     "name": "stdout",
     "output_type": "stream",
     "text": [
      "local Optima\n",
      "y_mean 7.683552270093772\n",
      "mean_mean 7.683459558306838\n",
      "abs(round((mean_mean-y_mean)/y_mean)) 0.0\n",
      "local Optima\n",
      "y_mean 7.683552270093772\n",
      "mean_mean 7.683459628069413\n",
      "abs(round((mean_mean-y_mean)/y_mean)) 0.0\n"
     ]
    },
    {
     "name": "stderr",
     "output_type": "stream",
     "text": [
      "\r",
      " 74%|███████▍  | 267/360 [02:12<00:41,  2.24it/s]"
     ]
    },
    {
     "name": "stdout",
     "output_type": "stream",
     "text": [
      "local Optima\n",
      "y_mean 5.24956881460769\n",
      "mean_mean 5.376862210540219\n",
      "abs(round((mean_mean-y_mean)/y_mean)) 0.0\n",
      "local Optima\n",
      "y_mean 5.24956881460769\n",
      "mean_mean 5.204847012306273\n",
      "abs(round((mean_mean-y_mean)/y_mean)) 0.0\n"
     ]
    },
    {
     "name": "stderr",
     "output_type": "stream",
     "text": [
      "\r",
      " 74%|███████▍  | 268/360 [02:12<00:40,  2.25it/s]"
     ]
    },
    {
     "name": "stdout",
     "output_type": "stream",
     "text": [
      "local Optima\n",
      "y_mean 7.886175135482241\n",
      "mean_mean 7.886143375416461\n",
      "abs(round((mean_mean-y_mean)/y_mean)) 0.0\n",
      "local Optima\n",
      "y_mean 7.886175135482241\n",
      "mean_mean 7.886143369965324\n",
      "abs(round((mean_mean-y_mean)/y_mean)) 0.0\n"
     ]
    },
    {
     "name": "stderr",
     "output_type": "stream",
     "text": [
      "\r",
      " 75%|███████▍  | 269/360 [02:13<00:39,  2.32it/s]"
     ]
    },
    {
     "name": "stdout",
     "output_type": "stream",
     "text": [
      "local Optima\n",
      "y_mean 5.963648394036889\n",
      "mean_mean 6.276481573306871\n",
      "abs(round((mean_mean-y_mean)/y_mean)) 0.0\n",
      "local Optima\n",
      "y_mean 5.963648394036889\n",
      "mean_mean 5.942683126240053\n",
      "abs(round((mean_mean-y_mean)/y_mean)) 0.0\n"
     ]
    },
    {
     "name": "stderr",
     "output_type": "stream",
     "text": [
      "\r",
      " 75%|███████▌  | 270/360 [02:13<00:38,  2.35it/s]"
     ]
    },
    {
     "name": "stdout",
     "output_type": "stream",
     "text": [
      "local Optima\n",
      "y_mean 8.137526707082818\n",
      "mean_mean 8.137517230607909\n",
      "abs(round((mean_mean-y_mean)/y_mean)) 0.0\n",
      "local Optima\n",
      "y_mean 8.137526707082818\n",
      "mean_mean 8.137505984372634\n",
      "abs(round((mean_mean-y_mean)/y_mean)) 0.0\n"
     ]
    },
    {
     "name": "stderr",
     "output_type": "stream",
     "text": [
      "\r",
      " 75%|███████▌  | 271/360 [02:13<00:37,  2.40it/s]"
     ]
    },
    {
     "name": "stdout",
     "output_type": "stream",
     "text": [
      "local Optima\n",
      "y_mean 6.526528289278394\n",
      "mean_mean 6.259969633725539\n",
      "abs(round((mean_mean-y_mean)/y_mean)) 0.0\n",
      "local Optima\n",
      "y_mean 6.526528289278394\n",
      "mean_mean 6.482568115767079\n",
      "abs(round((mean_mean-y_mean)/y_mean)) 0.0\n"
     ]
    },
    {
     "name": "stderr",
     "output_type": "stream",
     "text": [
      "\r",
      " 76%|███████▌  | 272/360 [02:14<00:36,  2.41it/s]"
     ]
    },
    {
     "name": "stdout",
     "output_type": "stream",
     "text": [
      "local Optima\n",
      "y_mean 10.357317993539104\n",
      "mean_mean 10.357308708873843\n",
      "abs(round((mean_mean-y_mean)/y_mean)) 0.0\n",
      "local Optima\n",
      "y_mean 10.357317993539104\n",
      "mean_mean 10.357306996939045\n",
      "abs(round((mean_mean-y_mean)/y_mean)) 0.0\n"
     ]
    },
    {
     "name": "stderr",
     "output_type": "stream",
     "text": [
      "\r",
      " 76%|███████▌  | 273/360 [02:14<00:35,  2.43it/s]"
     ]
    },
    {
     "name": "stdout",
     "output_type": "stream",
     "text": [
      "local Optima\n",
      "y_mean 6.958782910679765\n",
      "mean_mean 6.952273972967884\n",
      "abs(round((mean_mean-y_mean)/y_mean)) 0.0\n",
      "local Optima\n",
      "y_mean 6.958782910679765\n",
      "mean_mean 6.920209746548823\n",
      "abs(round((mean_mean-y_mean)/y_mean)) 0.0\n"
     ]
    },
    {
     "name": "stderr",
     "output_type": "stream",
     "text": [
      "\r",
      " 76%|███████▌  | 274/360 [02:15<00:35,  2.40it/s]"
     ]
    },
    {
     "name": "stdout",
     "output_type": "stream",
     "text": [
      "local Optima\n",
      "y_mean 10.055135066133596\n",
      "mean_mean 10.055130085909385\n",
      "abs(round((mean_mean-y_mean)/y_mean)) 0.0\n",
      "local Optima\n",
      "y_mean 10.055135066133596\n",
      "mean_mean 10.05513008628886\n",
      "abs(round((mean_mean-y_mean)/y_mean)) 0.0\n"
     ]
    },
    {
     "name": "stderr",
     "output_type": "stream",
     "text": [
      "\r",
      " 76%|███████▋  | 275/360 [02:15<00:34,  2.43it/s]"
     ]
    },
    {
     "name": "stdout",
     "output_type": "stream",
     "text": [
      "local Optima\n",
      "y_mean 7.2862421596041775\n",
      "mean_mean 7.281592995992513\n",
      "abs(round((mean_mean-y_mean)/y_mean)) 0.0\n",
      "local Optima\n",
      "y_mean 7.2862421596041775\n",
      "mean_mean 7.265944689511052\n",
      "abs(round((mean_mean-y_mean)/y_mean)) 0.0\n"
     ]
    },
    {
     "name": "stderr",
     "output_type": "stream",
     "text": [
      "\r",
      " 77%|███████▋  | 276/360 [02:15<00:35,  2.39it/s]"
     ]
    },
    {
     "name": "stdout",
     "output_type": "stream",
     "text": [
      "local Optima\n",
      "y_mean 9.746522003488236\n",
      "mean_mean 9.746517992692217\n",
      "abs(round((mean_mean-y_mean)/y_mean)) 0.0\n",
      "local Optima\n",
      "y_mean 9.746522003488236\n",
      "mean_mean 9.746517987044909\n",
      "abs(round((mean_mean-y_mean)/y_mean)) 0.0\n"
     ]
    },
    {
     "name": "stderr",
     "output_type": "stream",
     "text": [
      "\r",
      " 77%|███████▋  | 277/360 [02:16<00:34,  2.42it/s]"
     ]
    },
    {
     "name": "stdout",
     "output_type": "stream",
     "text": [
      "local Optima\n",
      "y_mean 3.9949711472649705\n",
      "mean_mean 3.9778426530885946\n",
      "abs(round((mean_mean-y_mean)/y_mean)) 0.0\n",
      "local Optima\n",
      "y_mean 3.9949711472649705\n",
      "mean_mean 3.9478042058124885\n",
      "abs(round((mean_mean-y_mean)/y_mean)) 0.0\n"
     ]
    },
    {
     "name": "stderr",
     "output_type": "stream",
     "text": [
      "\r",
      " 77%|███████▋  | 278/360 [02:16<00:33,  2.43it/s]"
     ]
    },
    {
     "name": "stdout",
     "output_type": "stream",
     "text": [
      "local Optima\n",
      "y_mean 5.442925197453682\n",
      "mean_mean 5.442877420611837\n",
      "abs(round((mean_mean-y_mean)/y_mean)) 0.0\n",
      "local Optima\n",
      "y_mean 5.442925197453682\n",
      "mean_mean 5.442874283286106\n",
      "abs(round((mean_mean-y_mean)/y_mean)) 0.0\n"
     ]
    },
    {
     "name": "stderr",
     "output_type": "stream",
     "text": [
      "\r",
      " 78%|███████▊  | 279/360 [02:17<00:33,  2.44it/s]"
     ]
    },
    {
     "name": "stdout",
     "output_type": "stream",
     "text": [
      "local Optima\n",
      "y_mean 5.34452131389193\n",
      "mean_mean 5.303174042952572\n",
      "abs(round((mean_mean-y_mean)/y_mean)) 0.0\n",
      "local Optima\n",
      "y_mean 5.34452131389193\n",
      "mean_mean 5.303178699306387\n",
      "abs(round((mean_mean-y_mean)/y_mean)) 0.0\n"
     ]
    },
    {
     "name": "stderr",
     "output_type": "stream",
     "text": [
      "\r",
      " 78%|███████▊  | 280/360 [02:17<00:32,  2.44it/s]"
     ]
    },
    {
     "name": "stdout",
     "output_type": "stream",
     "text": [
      "local Optima\n",
      "y_mean 8.97755052997982\n",
      "mean_mean 8.977542515757303\n",
      "abs(round((mean_mean-y_mean)/y_mean)) 0.0\n",
      "local Optima\n",
      "y_mean 8.97755052997982\n",
      "mean_mean 8.97751209822981\n",
      "abs(round((mean_mean-y_mean)/y_mean)) 0.0\n"
     ]
    },
    {
     "name": "stderr",
     "output_type": "stream",
     "text": [
      "\r",
      " 78%|███████▊  | 281/360 [02:17<00:32,  2.46it/s]"
     ]
    },
    {
     "name": "stdout",
     "output_type": "stream",
     "text": [
      "local Optima\n",
      "y_mean 6.631008375066436\n",
      "mean_mean 6.643271538350765\n",
      "abs(round((mean_mean-y_mean)/y_mean)) 0.0\n",
      "local Optima\n",
      "y_mean 6.631008375066436\n",
      "mean_mean 6.598918717011138\n",
      "abs(round((mean_mean-y_mean)/y_mean)) 0.0\n"
     ]
    },
    {
     "name": "stderr",
     "output_type": "stream",
     "text": [
      "\r",
      " 78%|███████▊  | 282/360 [02:18<00:31,  2.45it/s]"
     ]
    },
    {
     "name": "stdout",
     "output_type": "stream",
     "text": [
      "local Optima\n",
      "y_mean 9.155611795090863\n",
      "mean_mean 9.155605978184596\n",
      "abs(round((mean_mean-y_mean)/y_mean)) 0.0\n",
      "local Optima\n",
      "y_mean 9.155611795090863\n",
      "mean_mean 9.155601905225733\n",
      "abs(round((mean_mean-y_mean)/y_mean)) 0.0\n"
     ]
    },
    {
     "name": "stderr",
     "output_type": "stream",
     "text": [
      "\r",
      " 79%|███████▊  | 283/360 [02:18<00:31,  2.43it/s]"
     ]
    },
    {
     "name": "stdout",
     "output_type": "stream",
     "text": [
      "local Optima\n",
      "y_mean 6.1824410691875675\n",
      "mean_mean 6.148142824653018\n",
      "abs(round((mean_mean-y_mean)/y_mean)) 0.0\n",
      "local Optima\n",
      "y_mean 6.1824410691875675\n",
      "mean_mean 6.148115901688203\n",
      "abs(round((mean_mean-y_mean)/y_mean)) 0.0\n"
     ]
    },
    {
     "name": "stderr",
     "output_type": "stream",
     "text": [
      "\r",
      " 79%|███████▉  | 284/360 [02:19<00:31,  2.41it/s]"
     ]
    },
    {
     "name": "stdout",
     "output_type": "stream",
     "text": [
      "local Optima\n",
      "y_mean 9.637973172443804\n",
      "mean_mean 9.6379410702363\n",
      "abs(round((mean_mean-y_mean)/y_mean)) 0.0\n",
      "local Optima\n",
      "y_mean 9.637973172443804\n",
      "mean_mean 9.637941026240052\n",
      "abs(round((mean_mean-y_mean)/y_mean)) 0.0\n"
     ]
    },
    {
     "name": "stderr",
     "output_type": "stream",
     "text": [
      "\r",
      " 79%|███████▉  | 285/360 [02:19<00:30,  2.43it/s]"
     ]
    },
    {
     "name": "stdout",
     "output_type": "stream",
     "text": [
      "local Optima\n",
      "y_mean 6.414103512016634\n",
      "mean_mean 6.375424932151454\n",
      "abs(round((mean_mean-y_mean)/y_mean)) 0.0\n",
      "local Optima\n",
      "y_mean 6.414103512016634\n",
      "mean_mean 6.373828852883642\n",
      "abs(round((mean_mean-y_mean)/y_mean)) 0.0\n"
     ]
    },
    {
     "name": "stderr",
     "output_type": "stream",
     "text": [
      "\r",
      " 79%|███████▉  | 286/360 [02:20<00:31,  2.39it/s]"
     ]
    },
    {
     "name": "stdout",
     "output_type": "stream",
     "text": [
      "local Optima\n",
      "y_mean 9.278634892431114\n",
      "mean_mean 9.278620610188131\n",
      "abs(round((mean_mean-y_mean)/y_mean)) 0.0\n",
      "local Optima\n",
      "y_mean 9.278634892431114\n",
      "mean_mean 9.278620612211514\n",
      "abs(round((mean_mean-y_mean)/y_mean)) 0.0\n",
      "local Optima\n",
      "y_mean 7.048111996362885\n",
      "mean_mean 7.236541621858681\n",
      "abs(round((mean_mean-y_mean)/y_mean)) 0.0\n"
     ]
    },
    {
     "name": "stderr",
     "output_type": "stream",
     "text": [
      "\r",
      " 80%|███████▉  | 287/360 [02:20<00:31,  2.34it/s]"
     ]
    },
    {
     "name": "stdout",
     "output_type": "stream",
     "text": [
      "local Optima\n",
      "y_mean 7.048111996362885\n",
      "mean_mean 7.028737762892247\n",
      "abs(round((mean_mean-y_mean)/y_mean)) 0.0\n"
     ]
    },
    {
     "name": "stderr",
     "output_type": "stream",
     "text": [
      "\r",
      " 80%|████████  | 288/360 [02:20<00:30,  2.35it/s]"
     ]
    },
    {
     "name": "stdout",
     "output_type": "stream",
     "text": [
      "local Optima\n",
      "y_mean 9.1412055895672\n",
      "mean_mean 9.14119592141156\n",
      "abs(round((mean_mean-y_mean)/y_mean)) 0.0\n",
      "local Optima\n",
      "y_mean 9.1412055895672\n",
      "mean_mean 9.141195923106833\n",
      "abs(round((mean_mean-y_mean)/y_mean)) 0.0\n"
     ]
    },
    {
     "name": "stderr",
     "output_type": "stream",
     "text": [
      "\r",
      " 80%|████████  | 289/360 [02:21<00:29,  2.38it/s]"
     ]
    },
    {
     "name": "stdout",
     "output_type": "stream",
     "text": [
      "local Optima\n",
      "y_mean 4.616746754367946\n",
      "mean_mean 4.347294479270945\n",
      "abs(round((mean_mean-y_mean)/y_mean)) 0.0\n",
      "local Optima\n",
      "y_mean 4.616746754367946\n",
      "mean_mean 4.572137710680025\n",
      "abs(round((mean_mean-y_mean)/y_mean)) 0.0\n"
     ]
    },
    {
     "name": "stderr",
     "output_type": "stream",
     "text": [
      "\r",
      " 81%|████████  | 290/360 [02:21<00:29,  2.37it/s]"
     ]
    },
    {
     "name": "stdout",
     "output_type": "stream",
     "text": [
      "local Optima\n",
      "y_mean 7.924702449559344\n",
      "mean_mean 7.924690072387631\n",
      "abs(round((mean_mean-y_mean)/y_mean)) 0.0\n",
      "local Optima\n",
      "y_mean 7.924702449559344\n",
      "mean_mean 7.9246840558598945\n",
      "abs(round((mean_mean-y_mean)/y_mean)) 0.0\n"
     ]
    },
    {
     "name": "stderr",
     "output_type": "stream",
     "text": [
      "\r",
      " 81%|████████  | 291/360 [02:22<00:30,  2.27it/s]"
     ]
    },
    {
     "name": "stdout",
     "output_type": "stream",
     "text": [
      "local Optima\n",
      "y_mean 5.96494697068031\n",
      "mean_mean 5.732018789007452\n",
      "abs(round((mean_mean-y_mean)/y_mean)) 0.0\n",
      "local Optima\n",
      "y_mean 5.96494697068031\n",
      "mean_mean 5.9247121143076455\n",
      "abs(round((mean_mean-y_mean)/y_mean)) 0.0\n"
     ]
    },
    {
     "name": "stderr",
     "output_type": "stream",
     "text": [
      "\r",
      " 81%|████████  | 292/360 [02:22<00:30,  2.27it/s]"
     ]
    },
    {
     "name": "stdout",
     "output_type": "stream",
     "text": [
      "local Optima\n",
      "y_mean 9.410181757692042\n",
      "mean_mean 9.410163364098295\n",
      "abs(round((mean_mean-y_mean)/y_mean)) 0.0\n",
      "local Optima\n",
      "y_mean 9.410181757692042\n",
      "mean_mean 9.410163371632018\n",
      "abs(round((mean_mean-y_mean)/y_mean)) 0.0\n"
     ]
    },
    {
     "name": "stderr",
     "output_type": "stream",
     "text": [
      "\r",
      " 81%|████████▏ | 293/360 [02:23<00:28,  2.34it/s]"
     ]
    },
    {
     "name": "stdout",
     "output_type": "stream",
     "text": [
      "local Optima\n",
      "y_mean 6.337425215764634\n",
      "mean_mean 6.152398701897389\n",
      "abs(round((mean_mean-y_mean)/y_mean)) 0.0\n",
      "local Optima\n",
      "y_mean 6.337425215764634\n",
      "mean_mean 6.309602747184969\n",
      "abs(round((mean_mean-y_mean)/y_mean)) 0.0\n",
      "Fit Cholesky decomposition was not successful.\n"
     ]
    },
    {
     "name": "stderr",
     "output_type": "stream",
     "text": [
      "\r",
      " 82%|████████▏ | 294/360 [02:23<00:32,  2.00it/s]"
     ]
    },
    {
     "name": "stdout",
     "output_type": "stream",
     "text": [
      "local Optima\n",
      "y_mean 9.279197073971785\n",
      "mean_mean 9.279185828061342\n",
      "abs(round((mean_mean-y_mean)/y_mean)) 0.0\n",
      "local Optima\n",
      "y_mean 9.279197073971785\n",
      "mean_mean 9.279185828061342\n",
      "abs(round((mean_mean-y_mean)/y_mean)) 0.0\n",
      "local Optima\n",
      "y_mean 9.279197073971785\n",
      "mean_mean 9.279185829419083\n",
      "abs(round((mean_mean-y_mean)/y_mean)) 0.0\n"
     ]
    },
    {
     "name": "stderr",
     "output_type": "stream",
     "text": [
      "\r",
      " 82%|████████▏ | 295/360 [02:24<00:30,  2.12it/s]"
     ]
    },
    {
     "name": "stdout",
     "output_type": "stream",
     "text": [
      "local Optima\n",
      "y_mean 5.266750863369654\n",
      "mean_mean 5.188103216111688\n",
      "abs(round((mean_mean-y_mean)/y_mean)) 0.0\n",
      "local Optima\n",
      "y_mean 5.266750863369654\n",
      "mean_mean 5.188111058634085\n",
      "abs(round((mean_mean-y_mean)/y_mean)) 0.0\n"
     ]
    },
    {
     "name": "stderr",
     "output_type": "stream",
     "text": [
      "\r",
      " 82%|████████▏ | 296/360 [02:24<00:28,  2.21it/s]"
     ]
    },
    {
     "name": "stdout",
     "output_type": "stream",
     "text": [
      "local Optima\n",
      "y_mean 9.317696152403203\n",
      "mean_mean 9.317627492497174\n",
      "abs(round((mean_mean-y_mean)/y_mean)) 0.0\n",
      "local Optima\n",
      "y_mean 9.317696152403203\n",
      "mean_mean 9.31761962965647\n",
      "abs(round((mean_mean-y_mean)/y_mean)) 0.0\n"
     ]
    },
    {
     "name": "stderr",
     "output_type": "stream",
     "text": [
      "\r",
      " 82%|████████▎ | 297/360 [02:24<00:27,  2.29it/s]"
     ]
    },
    {
     "name": "stdout",
     "output_type": "stream",
     "text": [
      "local Optima\n",
      "y_mean 6.636383266634834\n",
      "mean_mean 6.617197759155067\n",
      "abs(round((mean_mean-y_mean)/y_mean)) 0.0\n",
      "local Optima\n",
      "y_mean 6.636383266634834\n",
      "mean_mean 6.608214135866242\n",
      "abs(round((mean_mean-y_mean)/y_mean)) 0.0\n"
     ]
    },
    {
     "name": "stderr",
     "output_type": "stream",
     "text": [
      "\r",
      " 83%|████████▎ | 298/360 [02:25<00:26,  2.33it/s]"
     ]
    },
    {
     "name": "stdout",
     "output_type": "stream",
     "text": [
      "local Optima\n",
      "y_mean 9.039308279185546\n",
      "mean_mean 9.039269912753783\n",
      "abs(round((mean_mean-y_mean)/y_mean)) 0.0\n",
      "local Optima\n",
      "y_mean 9.039308279185546\n",
      "mean_mean 9.039266246439567\n",
      "abs(round((mean_mean-y_mean)/y_mean)) 0.0\n"
     ]
    },
    {
     "name": "stderr",
     "output_type": "stream",
     "text": [
      "\r",
      " 83%|████████▎ | 299/360 [02:25<00:25,  2.37it/s]"
     ]
    },
    {
     "name": "stdout",
     "output_type": "stream",
     "text": [
      "local Optima\n",
      "y_mean 7.097134498732052\n",
      "mean_mean 6.976080806248882\n",
      "abs(round((mean_mean-y_mean)/y_mean)) 0.0\n",
      "local Optima\n",
      "y_mean 7.097134498732052\n",
      "mean_mean 7.087675996590724\n",
      "abs(round((mean_mean-y_mean)/y_mean)) 0.0\n",
      "local Optima\n",
      "y_mean 8.886873703535054\n",
      "mean_mean 8.88685368568173\n",
      "abs(round((mean_mean-y_mean)/y_mean)) 0.0\n"
     ]
    },
    {
     "name": "stderr",
     "output_type": "stream",
     "text": [
      "\r",
      " 83%|████████▎ | 300/360 [02:26<00:27,  2.20it/s]"
     ]
    },
    {
     "name": "stdout",
     "output_type": "stream",
     "text": [
      "local Optima\n",
      "y_mean 8.886873703535054\n",
      "mean_mean 8.886851813236689\n",
      "abs(round((mean_mean-y_mean)/y_mean)) 0.0\n"
     ]
    },
    {
     "name": "stderr",
     "output_type": "stream",
     "text": [
      "\r",
      " 84%|████████▎ | 301/360 [02:26<00:25,  2.27it/s]"
     ]
    },
    {
     "name": "stdout",
     "output_type": "stream",
     "text": [
      "local Optima\n",
      "y_mean 4.492793958639597\n",
      "mean_mean 4.747664936934927\n",
      "abs(round((mean_mean-y_mean)/y_mean)) 0.0\n",
      "local Optima\n",
      "y_mean 4.492793958639597\n",
      "mean_mean 4.420884552779751\n",
      "abs(round((mean_mean-y_mean)/y_mean)) 0.0\n"
     ]
    },
    {
     "name": "stderr",
     "output_type": "stream",
     "text": [
      "\r",
      " 84%|████████▍ | 302/360 [02:27<00:25,  2.29it/s]"
     ]
    },
    {
     "name": "stdout",
     "output_type": "stream",
     "text": [
      "local Optima\n",
      "y_mean 6.934457033595134\n",
      "mean_mean 6.934421353708151\n",
      "abs(round((mean_mean-y_mean)/y_mean)) 0.0\n",
      "local Optima\n",
      "y_mean 6.934457033595134\n",
      "mean_mean 6.93441133128535\n",
      "abs(round((mean_mean-y_mean)/y_mean)) 0.0\n"
     ]
    },
    {
     "name": "stderr",
     "output_type": "stream",
     "text": [
      "\r",
      " 84%|████████▍ | 303/360 [02:27<00:24,  2.35it/s]"
     ]
    },
    {
     "name": "stdout",
     "output_type": "stream",
     "text": [
      "local Optima\n",
      "y_mean 5.130077009885887\n",
      "mean_mean 5.09672392010244\n",
      "abs(round((mean_mean-y_mean)/y_mean)) 0.0\n",
      "local Optima\n",
      "y_mean 5.130077009885887\n",
      "mean_mean 5.092864695705841\n",
      "abs(round((mean_mean-y_mean)/y_mean)) 0.0\n"
     ]
    },
    {
     "name": "stderr",
     "output_type": "stream",
     "text": [
      "\r",
      " 84%|████████▍ | 304/360 [02:27<00:23,  2.37it/s]"
     ]
    },
    {
     "name": "stdout",
     "output_type": "stream",
     "text": [
      "local Optima\n",
      "y_mean 7.848135262811417\n",
      "mean_mean 7.848122746941982\n",
      "abs(round((mean_mean-y_mean)/y_mean)) 0.0\n",
      "local Optima\n",
      "y_mean 7.848135262811417\n",
      "mean_mean 7.848122820835005\n",
      "abs(round((mean_mean-y_mean)/y_mean)) 0.0\n"
     ]
    },
    {
     "name": "stderr",
     "output_type": "stream",
     "text": [
      "\r",
      " 85%|████████▍ | 305/360 [02:28<00:22,  2.40it/s]"
     ]
    },
    {
     "name": "stdout",
     "output_type": "stream",
     "text": [
      "local Optima\n",
      "y_mean 6.486290951435466\n",
      "mean_mean 6.502139531543365\n",
      "abs(round((mean_mean-y_mean)/y_mean)) 0.0\n",
      "local Optima\n",
      "y_mean 6.486290951435466\n",
      "mean_mean 6.471728842604026\n",
      "abs(round((mean_mean-y_mean)/y_mean)) 0.0\n",
      "Fit Cholesky decomposition was not successful.\n",
      "Fit Cholesky decomposition was not successful.\n",
      "local Optima\n",
      "y_mean 8.585555910796876\n",
      "mean_mean 8.585547708175508\n",
      "abs(round((mean_mean-y_mean)/y_mean)) 0.0\n",
      "local Optima\n",
      "y_mean 8.585555910796876\n",
      "mean_mean 8.585547708175508\n",
      "abs(round((mean_mean-y_mean)/y_mean)) 0.0\n",
      "local Optima\n",
      "y_mean 8.585555910796876\n",
      "mean_mean 8.585547708175508\n",
      "abs(round((mean_mean-y_mean)/y_mean)) 0.0\n",
      "local Optima\n",
      "y_mean 8.585555910796876\n",
      "mean_mean 8.585547832609423\n",
      "abs(round((mean_mean-y_mean)/y_mean)) 0.0\n"
     ]
    },
    {
     "name": "stderr",
     "output_type": "stream",
     "text": [
      " 85%|████████▌ | 307/360 [02:29<00:27,  1.94it/s]"
     ]
    },
    {
     "name": "stdout",
     "output_type": "stream",
     "text": [
      "local Optima\n",
      "y_mean 5.595448096330605\n",
      "mean_mean 5.187681185553186\n",
      "abs(round((mean_mean-y_mean)/y_mean)) 0.0\n",
      "local Optima\n",
      "y_mean 5.595448096330605\n",
      "mean_mean 5.512695578807865\n",
      "abs(round((mean_mean-y_mean)/y_mean)) 0.0\n"
     ]
    },
    {
     "name": "stderr",
     "output_type": "stream",
     "text": [
      "\r",
      " 86%|████████▌ | 308/360 [02:30<00:25,  2.06it/s]"
     ]
    },
    {
     "name": "stdout",
     "output_type": "stream",
     "text": [
      "local Optima\n",
      "y_mean 9.485338536717531\n",
      "mean_mean 9.485316779171281\n",
      "abs(round((mean_mean-y_mean)/y_mean)) 0.0\n",
      "local Optima\n",
      "y_mean 9.485338536717531\n",
      "mean_mean 9.48529072164267\n",
      "abs(round((mean_mean-y_mean)/y_mean)) 0.0\n"
     ]
    },
    {
     "name": "stderr",
     "output_type": "stream",
     "text": [
      "\r",
      " 86%|████████▌ | 309/360 [02:30<00:23,  2.17it/s]"
     ]
    },
    {
     "name": "stdout",
     "output_type": "stream",
     "text": [
      "local Optima\n",
      "y_mean 6.4490588245398435\n",
      "mean_mean 6.422965724048732\n",
      "abs(round((mean_mean-y_mean)/y_mean)) 0.0\n",
      "local Optima\n",
      "y_mean 6.4490588245398435\n",
      "mean_mean 6.406091212200322\n",
      "abs(round((mean_mean-y_mean)/y_mean)) 0.0\n"
     ]
    },
    {
     "name": "stderr",
     "output_type": "stream",
     "text": [
      "\r",
      " 86%|████████▌ | 310/360 [02:30<00:22,  2.24it/s]"
     ]
    },
    {
     "name": "stdout",
     "output_type": "stream",
     "text": [
      "local Optima\n",
      "y_mean 9.330199906375366\n",
      "mean_mean 9.330181054026617\n",
      "abs(round((mean_mean-y_mean)/y_mean)) 0.0\n",
      "local Optima\n",
      "y_mean 9.330199906375366\n",
      "mean_mean 9.330170527122531\n",
      "abs(round((mean_mean-y_mean)/y_mean)) 0.0\n"
     ]
    },
    {
     "name": "stderr",
     "output_type": "stream",
     "text": [
      "\r",
      " 86%|████████▋ | 311/360 [02:31<00:21,  2.31it/s]"
     ]
    },
    {
     "name": "stdout",
     "output_type": "stream",
     "text": [
      "local Optima\n",
      "y_mean 7.496633147072545\n",
      "mean_mean 7.722302007672678\n",
      "abs(round((mean_mean-y_mean)/y_mean)) 0.0\n",
      "local Optima\n",
      "y_mean 7.496633147072545\n",
      "mean_mean 7.465650779528536\n",
      "abs(round((mean_mean-y_mean)/y_mean)) 0.0\n"
     ]
    },
    {
     "name": "stderr",
     "output_type": "stream",
     "text": [
      "\r",
      " 87%|████████▋ | 312/360 [02:31<00:20,  2.33it/s]"
     ]
    },
    {
     "name": "stdout",
     "output_type": "stream",
     "text": [
      "local Optima\n",
      "y_mean 9.327013404893417\n",
      "mean_mean 9.32700428922539\n",
      "abs(round((mean_mean-y_mean)/y_mean)) 0.0\n",
      "local Optima\n",
      "y_mean 9.327013404893417\n",
      "mean_mean 9.327002850397749\n",
      "abs(round((mean_mean-y_mean)/y_mean)) 0.0\n"
     ]
    },
    {
     "name": "stderr",
     "output_type": "stream",
     "text": [
      "\r",
      " 87%|████████▋ | 313/360 [02:32<00:19,  2.37it/s]"
     ]
    },
    {
     "name": "stdout",
     "output_type": "stream",
     "text": [
      "local Optima\n",
      "y_mean 5.25996522505526\n",
      "mean_mean 5.483449085323717\n",
      "abs(round((mean_mean-y_mean)/y_mean)) 0.0\n",
      "local Optima\n",
      "y_mean 5.25996522505526\n",
      "mean_mean 5.177258124577476\n",
      "abs(round((mean_mean-y_mean)/y_mean)) 0.0\n"
     ]
    },
    {
     "name": "stderr",
     "output_type": "stream",
     "text": [
      "\r",
      " 87%|████████▋ | 314/360 [02:32<00:19,  2.35it/s]"
     ]
    },
    {
     "name": "stdout",
     "output_type": "stream",
     "text": [
      "local Optima\n",
      "y_mean 8.446018886144277\n",
      "mean_mean 8.445964181156956\n",
      "abs(round((mean_mean-y_mean)/y_mean)) 0.0\n",
      "local Optima\n",
      "y_mean 8.446018886144277\n",
      "mean_mean 8.44596417829215\n",
      "abs(round((mean_mean-y_mean)/y_mean)) 0.0\n"
     ]
    },
    {
     "name": "stderr",
     "output_type": "stream",
     "text": [
      "\r",
      " 88%|████████▊ | 315/360 [02:32<00:18,  2.37it/s]"
     ]
    },
    {
     "name": "stdout",
     "output_type": "stream",
     "text": [
      "local Optima\n",
      "y_mean 5.918160163774161\n",
      "mean_mean 6.129140114459777\n",
      "abs(round((mean_mean-y_mean)/y_mean)) 0.0\n",
      "local Optima\n",
      "y_mean 5.918160163774161\n",
      "mean_mean 5.8811350165566525\n",
      "abs(round((mean_mean-y_mean)/y_mean)) 0.0\n",
      "Fit Cholesky decomposition was not successful.\n",
      "Fit Cholesky decomposition was not successful.\n",
      "Fit Cholesky decomposition was not successful.\n",
      "local Optima\n",
      "y_mean 8.429106715113143\n",
      "mean_mean 8.42907813331831\n",
      "abs(round((mean_mean-y_mean)/y_mean)) 0.0\n",
      "local Optima\n",
      "y_mean 8.429106715113143\n",
      "mean_mean 8.42907813331831\n",
      "abs(round((mean_mean-y_mean)/y_mean)) 0.0\n",
      "local Optima\n",
      "y_mean 8.429106715113143\n",
      "mean_mean 8.42907813331831\n",
      "abs(round((mean_mean-y_mean)/y_mean)) 0.0\n",
      "local Optima\n",
      "y_mean 8.429106715113143\n",
      "mean_mean 8.42907813331831\n",
      "abs(round((mean_mean-y_mean)/y_mean)) 0.0\n"
     ]
    },
    {
     "name": "stderr",
     "output_type": "stream",
     "text": [
      "\r",
      " 88%|████████▊ | 316/360 [02:34<00:28,  1.57it/s]"
     ]
    },
    {
     "name": "stdout",
     "output_type": "stream",
     "text": [
      "local Optima\n",
      "y_mean 8.429106715113143\n",
      "mean_mean 8.429078134546467\n",
      "abs(round((mean_mean-y_mean)/y_mean)) 0.0\n"
     ]
    },
    {
     "name": "stderr",
     "output_type": "stream",
     "text": [
      "\r",
      " 88%|████████▊ | 317/360 [02:34<00:24,  1.76it/s]"
     ]
    },
    {
     "name": "stdout",
     "output_type": "stream",
     "text": [
      "local Optima\n",
      "y_mean 5.7074651530964795\n",
      "mean_mean 5.886846930241495\n",
      "abs(round((mean_mean-y_mean)/y_mean)) 0.0\n",
      "local Optima\n",
      "y_mean 5.7074651530964795\n",
      "mean_mean 5.676543000739522\n",
      "abs(round((mean_mean-y_mean)/y_mean)) 0.0\n",
      "Fit Cholesky decomposition was not successful.\n",
      "Fit Cholesky decomposition was not successful.\n",
      "local Optima\n",
      "y_mean 8.077786921807558\n",
      "mean_mean 8.077760295772693\n",
      "abs(round((mean_mean-y_mean)/y_mean)) 0.0\n",
      "local Optima\n",
      "y_mean 8.077786921807558\n",
      "mean_mean 8.077760295772693\n",
      "abs(round((mean_mean-y_mean)/y_mean)) 0.0\n",
      "local Optima\n",
      "y_mean 8.077786921807558\n",
      "mean_mean 8.077760295772693\n",
      "abs(round((mean_mean-y_mean)/y_mean)) 0.0\n",
      "local Optima\n",
      "y_mean 8.077786921807558\n",
      "mean_mean 8.077760359446739\n",
      "abs(round((mean_mean-y_mean)/y_mean)) 0.0\n"
     ]
    },
    {
     "name": "stderr",
     "output_type": "stream",
     "text": [
      " 89%|████████▊ | 319/360 [02:35<00:24,  1.66it/s]"
     ]
    },
    {
     "name": "stdout",
     "output_type": "stream",
     "text": [
      "local Optima\n",
      "y_mean 6.022238325090773\n",
      "mean_mean 5.711137722205465\n",
      "abs(round((mean_mean-y_mean)/y_mean)) 0.0\n",
      "local Optima\n",
      "y_mean 6.022238325090773\n",
      "mean_mean 5.941152451540546\n",
      "abs(round((mean_mean-y_mean)/y_mean)) 0.0\n"
     ]
    },
    {
     "name": "stderr",
     "output_type": "stream",
     "text": [
      "\r",
      " 89%|████████▉ | 320/360 [02:36<00:21,  1.83it/s]"
     ]
    },
    {
     "name": "stdout",
     "output_type": "stream",
     "text": [
      "local Optima\n",
      "y_mean 9.856690090600145\n",
      "mean_mean 9.85664440595225\n",
      "abs(round((mean_mean-y_mean)/y_mean)) 0.0\n",
      "local Optima\n",
      "y_mean 9.856690090600145\n",
      "mean_mean 9.856644411345878\n",
      "abs(round((mean_mean-y_mean)/y_mean)) 0.0\n"
     ]
    },
    {
     "name": "stderr",
     "output_type": "stream",
     "text": [
      "\r",
      " 89%|████████▉ | 321/360 [02:36<00:19,  1.99it/s]"
     ]
    },
    {
     "name": "stdout",
     "output_type": "stream",
     "text": [
      "local Optima\n",
      "y_mean 6.692418705377384\n",
      "mean_mean 6.690661897669818\n",
      "abs(round((mean_mean-y_mean)/y_mean)) 0.0\n",
      "local Optima\n",
      "y_mean 6.692418705377384\n",
      "mean_mean 6.6495207543312596\n",
      "abs(round((mean_mean-y_mean)/y_mean)) 0.0\n"
     ]
    },
    {
     "name": "stderr",
     "output_type": "stream",
     "text": [
      "\r",
      " 89%|████████▉ | 322/360 [02:37<00:18,  2.08it/s]"
     ]
    },
    {
     "name": "stdout",
     "output_type": "stream",
     "text": [
      "local Optima\n",
      "y_mean 9.48056793465503\n",
      "mean_mean 9.480540676825132\n",
      "abs(round((mean_mean-y_mean)/y_mean)) 0.0\n",
      "local Optima\n",
      "y_mean 9.48056793465503\n",
      "mean_mean 9.480540676689996\n",
      "abs(round((mean_mean-y_mean)/y_mean)) 0.0\n"
     ]
    },
    {
     "name": "stderr",
     "output_type": "stream",
     "text": [
      "\r",
      " 90%|████████▉ | 323/360 [02:37<00:16,  2.19it/s]"
     ]
    },
    {
     "name": "stdout",
     "output_type": "stream",
     "text": [
      "local Optima\n",
      "y_mean 7.110042947191327\n",
      "mean_mean 6.963930551724385\n",
      "abs(round((mean_mean-y_mean)/y_mean)) 0.0\n",
      "local Optima\n",
      "y_mean 7.110042947191327\n",
      "mean_mean 7.086908693308287\n",
      "abs(round((mean_mean-y_mean)/y_mean)) 0.0\n",
      "Fit Cholesky decomposition was not successful.\n",
      "Fit Cholesky decomposition was not successful.\n",
      "Fit Cholesky decomposition was not successful.\n",
      "Fit Cholesky decomposition was not successful.\n",
      "local Optima\n",
      "y_mean 9.23756535409009\n",
      "mean_mean 9.237546516502213\n",
      "abs(round((mean_mean-y_mean)/y_mean)) 0.0\n",
      "local Optima\n",
      "y_mean 9.23756535409009\n",
      "mean_mean 9.237546516502213\n",
      "abs(round((mean_mean-y_mean)/y_mean)) 0.0\n",
      "local Optima\n",
      "y_mean 9.23756535409009\n",
      "mean_mean 9.237546516502213\n",
      "abs(round((mean_mean-y_mean)/y_mean)) 0.0\n",
      "local Optima\n",
      "y_mean 9.23756535409009\n",
      "mean_mean 9.237546516502213\n",
      "abs(round((mean_mean-y_mean)/y_mean)) 0.0\n",
      "local Optima\n",
      "y_mean 9.23756535409009\n",
      "mean_mean 9.237546516502213\n",
      "abs(round((mean_mean-y_mean)/y_mean)) 0.0\n"
     ]
    },
    {
     "name": "stderr",
     "output_type": "stream",
     "text": [
      "\r",
      " 90%|█████████ | 324/360 [02:38<00:26,  1.37it/s]"
     ]
    },
    {
     "name": "stdout",
     "output_type": "stream",
     "text": [
      "local Optima\n",
      "y_mean 9.23756535409009\n",
      "mean_mean 9.237546516704597\n",
      "abs(round((mean_mean-y_mean)/y_mean)) 0.0\n"
     ]
    },
    {
     "name": "stderr",
     "output_type": "stream",
     "text": [
      "\r",
      " 90%|█████████ | 325/360 [02:39<00:22,  1.59it/s]"
     ]
    },
    {
     "name": "stdout",
     "output_type": "stream",
     "text": [
      "local Optima\n",
      "y_mean 5.00282229980081\n",
      "mean_mean 4.492633383705527\n",
      "abs(round((mean_mean-y_mean)/y_mean)) 0.0\n",
      "local Optima\n",
      "y_mean 5.00282229980081\n",
      "mean_mean 4.936853921362\n",
      "abs(round((mean_mean-y_mean)/y_mean)) 0.0\n"
     ]
    },
    {
     "name": "stderr",
     "output_type": "stream",
     "text": [
      "\r",
      " 91%|█████████ | 326/360 [02:39<00:19,  1.77it/s]"
     ]
    },
    {
     "name": "stdout",
     "output_type": "stream",
     "text": [
      "local Optima\n",
      "y_mean 10.22152500157435\n",
      "mean_mean 10.221489150290019\n",
      "abs(round((mean_mean-y_mean)/y_mean)) 0.0\n",
      "local Optima\n",
      "y_mean 10.22152500157435\n",
      "mean_mean 10.221489150302277\n",
      "abs(round((mean_mean-y_mean)/y_mean)) 0.0\n"
     ]
    },
    {
     "name": "stderr",
     "output_type": "stream",
     "text": [
      "\r",
      " 91%|█████████ | 327/360 [02:40<00:17,  1.94it/s]"
     ]
    },
    {
     "name": "stdout",
     "output_type": "stream",
     "text": [
      "local Optima\n",
      "y_mean 5.961350106871794\n",
      "mean_mean 5.638876075302368\n",
      "abs(round((mean_mean-y_mean)/y_mean)) 0.0\n",
      "local Optima\n",
      "y_mean 5.961350106871794\n",
      "mean_mean 5.900881390517185\n",
      "abs(round((mean_mean-y_mean)/y_mean)) 0.0\n",
      "Fit Cholesky decomposition was not successful.\n",
      "Fit Cholesky decomposition was not successful.\n",
      "Fit Cholesky decomposition was not successful.\n",
      "local Optima\n",
      "y_mean 10.140343136605201\n",
      "mean_mean 10.140330605310584\n",
      "abs(round((mean_mean-y_mean)/y_mean)) 0.0\n",
      "local Optima\n",
      "y_mean 10.140343136605201\n",
      "mean_mean 10.140330605310584\n",
      "abs(round((mean_mean-y_mean)/y_mean)) 0.0\n",
      "local Optima\n",
      "y_mean 10.140343136605201\n",
      "mean_mean 10.140330605310584\n",
      "abs(round((mean_mean-y_mean)/y_mean)) 0.0\n",
      "local Optima\n",
      "y_mean 10.140343136605201\n",
      "mean_mean 10.140330605310584\n",
      "abs(round((mean_mean-y_mean)/y_mean)) 0.0\n"
     ]
    },
    {
     "name": "stderr",
     "output_type": "stream",
     "text": [
      "\r",
      " 91%|█████████ | 328/360 [02:41<00:22,  1.41it/s]"
     ]
    },
    {
     "name": "stdout",
     "output_type": "stream",
     "text": [
      "local Optima\n",
      "y_mean 10.140343136605201\n",
      "mean_mean 10.14033058602225\n",
      "abs(round((mean_mean-y_mean)/y_mean)) 0.0\n"
     ]
    },
    {
     "name": "stderr",
     "output_type": "stream",
     "text": [
      "\r",
      " 91%|█████████▏| 329/360 [02:41<00:19,  1.62it/s]"
     ]
    },
    {
     "name": "stdout",
     "output_type": "stream",
     "text": [
      "local Optima\n",
      "y_mean 7.546781953345304\n",
      "mean_mean 7.074550848559845\n",
      "abs(round((mean_mean-y_mean)/y_mean)) 0.0\n",
      "local Optima\n",
      "y_mean 7.546781953345304\n",
      "mean_mean 7.4974383572852465\n",
      "abs(round((mean_mean-y_mean)/y_mean)) 0.0\n"
     ]
    },
    {
     "name": "stderr",
     "output_type": "stream",
     "text": [
      "\r",
      " 92%|█████████▏| 330/360 [02:42<00:16,  1.80it/s]"
     ]
    },
    {
     "name": "stdout",
     "output_type": "stream",
     "text": [
      "local Optima\n",
      "y_mean 10.43162248509737\n",
      "mean_mean 10.431606494618041\n",
      "abs(round((mean_mean-y_mean)/y_mean)) 0.0\n",
      "local Optima\n",
      "y_mean 10.43162248509737\n",
      "mean_mean 10.431605802462602\n",
      "abs(round((mean_mean-y_mean)/y_mean)) 0.0\n"
     ]
    },
    {
     "name": "stderr",
     "output_type": "stream",
     "text": [
      "\r",
      " 92%|█████████▏| 331/360 [02:42<00:14,  1.97it/s]"
     ]
    },
    {
     "name": "stdout",
     "output_type": "stream",
     "text": [
      "local Optima\n",
      "y_mean 5.485081710312987\n",
      "mean_mean 5.278849519526424\n",
      "abs(round((mean_mean-y_mean)/y_mean)) 0.0\n",
      "local Optima\n",
      "y_mean 5.485081710312987\n",
      "mean_mean 5.43778397820034\n",
      "abs(round((mean_mean-y_mean)/y_mean)) 0.0\n"
     ]
    },
    {
     "name": "stderr",
     "output_type": "stream",
     "text": [
      "\r",
      " 92%|█████████▏| 332/360 [02:42<00:13,  2.04it/s]"
     ]
    },
    {
     "name": "stdout",
     "output_type": "stream",
     "text": [
      "local Optima\n",
      "y_mean 9.02413715520945\n",
      "mean_mean 9.024098166790782\n",
      "abs(round((mean_mean-y_mean)/y_mean)) 0.0\n",
      "local Optima\n",
      "y_mean 9.02413715520945\n",
      "mean_mean 9.024098171800158\n",
      "abs(round((mean_mean-y_mean)/y_mean)) 0.0\n"
     ]
    },
    {
     "name": "stderr",
     "output_type": "stream",
     "text": [
      "\r",
      " 92%|█████████▎| 333/360 [02:43<00:12,  2.17it/s]"
     ]
    },
    {
     "name": "stdout",
     "output_type": "stream",
     "text": [
      "local Optima\n",
      "y_mean 6.4193227720838735\n",
      "mean_mean 6.376928141008516\n",
      "abs(round((mean_mean-y_mean)/y_mean)) 0.0\n",
      "local Optima\n",
      "y_mean 6.4193227720838735\n",
      "mean_mean 6.356876040399951\n",
      "abs(round((mean_mean-y_mean)/y_mean)) 0.0\n"
     ]
    },
    {
     "name": "stderr",
     "output_type": "stream",
     "text": [
      "\r",
      " 93%|█████████▎| 334/360 [02:43<00:11,  2.24it/s]"
     ]
    },
    {
     "name": "stdout",
     "output_type": "stream",
     "text": [
      "local Optima\n",
      "y_mean 9.727461629283157\n",
      "mean_mean 9.727455095074594\n",
      "abs(round((mean_mean-y_mean)/y_mean)) 0.0\n",
      "local Optima\n",
      "y_mean 9.727461629283157\n",
      "mean_mean 9.727436869398074\n",
      "abs(round((mean_mean-y_mean)/y_mean)) 0.0\n"
     ]
    },
    {
     "name": "stderr",
     "output_type": "stream",
     "text": [
      "\r",
      " 93%|█████████▎| 335/360 [02:44<00:10,  2.31it/s]"
     ]
    },
    {
     "name": "stdout",
     "output_type": "stream",
     "text": [
      "local Optima\n",
      "y_mean 7.650670910750007\n",
      "mean_mean 7.196945205297361\n",
      "abs(round((mean_mean-y_mean)/y_mean)) 0.0\n",
      "local Optima\n",
      "y_mean 7.650670910750007\n",
      "mean_mean 7.601815593091472\n",
      "abs(round((mean_mean-y_mean)/y_mean)) 0.0\n"
     ]
    },
    {
     "name": "stderr",
     "output_type": "stream",
     "text": [
      "\r",
      " 93%|█████████▎| 336/360 [02:44<00:10,  2.33it/s]"
     ]
    },
    {
     "name": "stdout",
     "output_type": "stream",
     "text": [
      "local Optima\n",
      "y_mean 10.090328109867295\n",
      "mean_mean 10.090322226064012\n",
      "abs(round((mean_mean-y_mean)/y_mean)) 0.0\n",
      "local Optima\n",
      "y_mean 10.090328109867295\n",
      "mean_mean 10.090320167738614\n",
      "abs(round((mean_mean-y_mean)/y_mean)) 0.0\n"
     ]
    },
    {
     "name": "stderr",
     "output_type": "stream",
     "text": [
      "\r",
      " 94%|█████████▎| 337/360 [02:44<00:09,  2.39it/s]"
     ]
    },
    {
     "name": "stdout",
     "output_type": "stream",
     "text": [
      "local Optima\n",
      "y_mean 5.535292327963333\n",
      "mean_mean 5.285169495521082\n",
      "abs(round((mean_mean-y_mean)/y_mean)) 0.0\n",
      "local Optima\n",
      "y_mean 5.535292327963333\n",
      "mean_mean 5.479796934230754\n",
      "abs(round((mean_mean-y_mean)/y_mean)) 0.0\n"
     ]
    },
    {
     "name": "stderr",
     "output_type": "stream",
     "text": [
      "\r",
      " 94%|█████████▍| 338/360 [02:45<00:09,  2.36it/s]"
     ]
    },
    {
     "name": "stdout",
     "output_type": "stream",
     "text": [
      "local Optima\n",
      "y_mean 10.099224034093531\n",
      "mean_mean 10.099173437266487\n",
      "abs(round((mean_mean-y_mean)/y_mean)) 0.0\n",
      "local Optima\n",
      "y_mean 10.099224034093531\n",
      "mean_mean 10.099173435875928\n",
      "abs(round((mean_mean-y_mean)/y_mean)) 0.0\n"
     ]
    },
    {
     "name": "stderr",
     "output_type": "stream",
     "text": [
      "\r",
      " 94%|█████████▍| 339/360 [02:45<00:08,  2.40it/s]"
     ]
    },
    {
     "name": "stdout",
     "output_type": "stream",
     "text": [
      "local Optima\n",
      "y_mean 6.138218467401834\n",
      "mean_mean 6.128468123336356\n",
      "abs(round((mean_mean-y_mean)/y_mean)) 0.0\n",
      "local Optima\n",
      "y_mean 6.138218467401834\n",
      "mean_mean 6.080860567249073\n",
      "abs(round((mean_mean-y_mean)/y_mean)) 0.0\n"
     ]
    },
    {
     "name": "stderr",
     "output_type": "stream",
     "text": [
      "\r",
      " 94%|█████████▍| 340/360 [02:46<00:08,  2.40it/s]"
     ]
    },
    {
     "name": "stdout",
     "output_type": "stream",
     "text": [
      "local Optima\n",
      "y_mean 9.766917871520741\n",
      "mean_mean 9.766877338507836\n",
      "abs(round((mean_mean-y_mean)/y_mean)) 0.0\n",
      "local Optima\n",
      "y_mean 9.766917871520741\n",
      "mean_mean 9.766877334799636\n",
      "abs(round((mean_mean-y_mean)/y_mean)) 0.0\n"
     ]
    },
    {
     "name": "stderr",
     "output_type": "stream",
     "text": [
      "\r",
      " 95%|█████████▍| 341/360 [02:46<00:07,  2.43it/s]"
     ]
    },
    {
     "name": "stdout",
     "output_type": "stream",
     "text": [
      "local Optima\n",
      "y_mean 6.390635219235665\n",
      "mean_mean 6.349992982845691\n",
      "abs(round((mean_mean-y_mean)/y_mean)) 0.0\n",
      "local Optima\n",
      "y_mean 6.390635219235665\n",
      "mean_mean 6.355164844106574\n",
      "abs(round((mean_mean-y_mean)/y_mean)) 0.0\n",
      "local Optima\n",
      "y_mean 9.51989865855291\n",
      "mean_mean 9.519867261954637\n",
      "abs(round((mean_mean-y_mean)/y_mean)) 0.0\n"
     ]
    },
    {
     "name": "stderr",
     "output_type": "stream",
     "text": [
      "\r",
      " 95%|█████████▌| 342/360 [02:47<00:08,  2.24it/s]"
     ]
    },
    {
     "name": "stdout",
     "output_type": "stream",
     "text": [
      "local Optima\n",
      "y_mean 9.51989865855291\n",
      "mean_mean 9.519867266754787\n",
      "abs(round((mean_mean-y_mean)/y_mean)) 0.0\n"
     ]
    },
    {
     "name": "stderr",
     "output_type": "stream",
     "text": [
      "\r",
      " 95%|█████████▌| 343/360 [02:47<00:07,  2.28it/s]"
     ]
    },
    {
     "name": "stdout",
     "output_type": "stream",
     "text": [
      "local Optima\n",
      "y_mean 5.386809753789133\n",
      "mean_mean 4.921748953308022\n",
      "abs(round((mean_mean-y_mean)/y_mean)) 0.0\n",
      "local Optima\n",
      "y_mean 5.386809753789133\n",
      "mean_mean 5.294951931737086\n",
      "abs(round((mean_mean-y_mean)/y_mean)) 0.0\n"
     ]
    },
    {
     "name": "stderr",
     "output_type": "stream",
     "text": [
      "\r",
      " 96%|█████████▌| 344/360 [02:48<00:07,  2.16it/s]"
     ]
    },
    {
     "name": "stdout",
     "output_type": "stream",
     "text": [
      "local Optima\n",
      "y_mean 10.089857885798263\n",
      "mean_mean 10.089805708161364\n",
      "abs(round((mean_mean-y_mean)/y_mean)) 0.0\n",
      "local Optima\n",
      "y_mean 10.089857885798263\n",
      "mean_mean 10.089805666157257\n",
      "abs(round((mean_mean-y_mean)/y_mean)) 0.0\n"
     ]
    },
    {
     "name": "stderr",
     "output_type": "stream",
     "text": [
      "\r",
      " 96%|█████████▌| 345/360 [02:48<00:06,  2.26it/s]"
     ]
    },
    {
     "name": "stdout",
     "output_type": "stream",
     "text": [
      "local Optima\n",
      "y_mean 6.440838785045627\n",
      "mean_mean 6.379201527255444\n",
      "abs(round((mean_mean-y_mean)/y_mean)) 0.0\n",
      "local Optima\n",
      "y_mean 6.440838785045627\n",
      "mean_mean 6.369657787317063\n",
      "abs(round((mean_mean-y_mean)/y_mean)) 0.0\n",
      "Fit Cholesky decomposition was not successful.\n"
     ]
    },
    {
     "name": "stderr",
     "output_type": "stream",
     "text": [
      "\r",
      " 96%|█████████▌| 346/360 [02:49<00:07,  1.92it/s]"
     ]
    },
    {
     "name": "stdout",
     "output_type": "stream",
     "text": [
      "local Optima\n",
      "y_mean 10.046665871674422\n",
      "mean_mean 10.046644123281572\n",
      "abs(round((mean_mean-y_mean)/y_mean)) 0.0\n",
      "local Optima\n",
      "y_mean 10.046665871674422\n",
      "mean_mean 10.046644123281572\n",
      "abs(round((mean_mean-y_mean)/y_mean)) 0.0\n",
      "local Optima\n",
      "y_mean 10.046665871674422\n",
      "mean_mean 10.046644111537658\n",
      "abs(round((mean_mean-y_mean)/y_mean)) 0.0\n"
     ]
    },
    {
     "name": "stderr",
     "output_type": "stream",
     "text": [
      "\r",
      " 96%|█████████▋| 347/360 [02:49<00:06,  2.06it/s]"
     ]
    },
    {
     "name": "stdout",
     "output_type": "stream",
     "text": [
      "local Optima\n",
      "y_mean 7.247166477944633\n",
      "mean_mean 7.203602690385183\n",
      "abs(round((mean_mean-y_mean)/y_mean)) 0.0\n",
      "local Optima\n",
      "y_mean 7.247166477944633\n",
      "mean_mean 7.198308927640238\n",
      "abs(round((mean_mean-y_mean)/y_mean)) 0.0\n",
      "Fit Cholesky decomposition was not successful.\n",
      "Fit Cholesky decomposition was not successful.\n",
      "Fit Cholesky decomposition was not successful.\n",
      "local Optima\n",
      "y_mean 10.023095444199903\n",
      "mean_mean 10.023080883545546\n",
      "abs(round((mean_mean-y_mean)/y_mean)) 0.0\n",
      "local Optima\n",
      "y_mean 10.023095444199903\n",
      "mean_mean 10.023080883545546\n",
      "abs(round((mean_mean-y_mean)/y_mean)) 0.0\n",
      "local Optima\n",
      "y_mean 10.023095444199903\n",
      "mean_mean 10.023080883545546\n",
      "abs(round((mean_mean-y_mean)/y_mean)) 0.0\n",
      "local Optima\n",
      "y_mean 10.023095444199903\n",
      "mean_mean 10.023080883545546\n",
      "abs(round((mean_mean-y_mean)/y_mean)) 0.0\n"
     ]
    },
    {
     "name": "stderr",
     "output_type": "stream",
     "text": [
      "\r",
      " 97%|█████████▋| 348/360 [02:50<00:08,  1.47it/s]"
     ]
    },
    {
     "name": "stdout",
     "output_type": "stream",
     "text": [
      "local Optima\n",
      "y_mean 10.023095444199903\n",
      "mean_mean 10.023080886282768\n",
      "abs(round((mean_mean-y_mean)/y_mean)) 0.0\n"
     ]
    },
    {
     "name": "stderr",
     "output_type": "stream",
     "text": [
      "\r",
      " 97%|█████████▋| 349/360 [02:51<00:06,  1.68it/s]"
     ]
    },
    {
     "name": "stdout",
     "output_type": "stream",
     "text": [
      "local Optima\n",
      "y_mean 4.973529912288279\n",
      "mean_mean 4.844665022434037\n",
      "abs(round((mean_mean-y_mean)/y_mean)) 0.0\n",
      "local Optima\n",
      "y_mean 4.973529912288279\n",
      "mean_mean 4.9226513017662645\n",
      "abs(round((mean_mean-y_mean)/y_mean)) 0.0\n",
      "Fit Cholesky decomposition was not successful.\n",
      "local Optima\n",
      "y_mean 8.385517103688473\n",
      "mean_mean 8.385466987265044\n",
      "abs(round((mean_mean-y_mean)/y_mean)) 0.0\n",
      "local Optima\n",
      "y_mean 8.385517103688473\n",
      "mean_mean 8.385466987265044\n",
      "abs(round((mean_mean-y_mean)/y_mean)) 0.0\n",
      "local Optima"
     ]
    },
    {
     "name": "stderr",
     "output_type": "stream",
     "text": [
      "\r",
      " 97%|█████████▋| 350/360 [02:51<00:06,  1.61it/s]"
     ]
    },
    {
     "name": "stdout",
     "output_type": "stream",
     "text": [
      "\n",
      "y_mean 8.385517103688473\n",
      "mean_mean 8.385467029841568\n",
      "abs(round((mean_mean-y_mean)/y_mean)) 0.0\n"
     ]
    },
    {
     "name": "stderr",
     "output_type": "stream",
     "text": [
      "\r",
      " 98%|█████████▊| 351/360 [02:52<00:04,  1.80it/s]"
     ]
    },
    {
     "name": "stdout",
     "output_type": "stream",
     "text": [
      "local Optima\n",
      "y_mean 4.883425877333555\n",
      "mean_mean 4.614407613714416\n",
      "abs(round((mean_mean-y_mean)/y_mean)) 0.0\n",
      "local Optima\n",
      "y_mean 4.883425877333555\n",
      "mean_mean 4.847408075530986\n",
      "abs(round((mean_mean-y_mean)/y_mean)) 0.0\n"
     ]
    },
    {
     "name": "stderr",
     "output_type": "stream",
     "text": [
      "\r",
      " 98%|█████████▊| 352/360 [02:52<00:04,  1.94it/s]"
     ]
    },
    {
     "name": "stdout",
     "output_type": "stream",
     "text": [
      "local Optima\n",
      "y_mean 7.783060462500487\n",
      "mean_mean 7.783012376608282\n",
      "abs(round((mean_mean-y_mean)/y_mean)) 0.0\n",
      "local Optima\n",
      "y_mean 7.783060462500487\n",
      "mean_mean 7.783012373341811\n",
      "abs(round((mean_mean-y_mean)/y_mean)) 0.0\n"
     ]
    },
    {
     "name": "stderr",
     "output_type": "stream",
     "text": [
      "\r",
      " 98%|█████████▊| 353/360 [02:52<00:03,  2.09it/s]"
     ]
    },
    {
     "name": "stdout",
     "output_type": "stream",
     "text": [
      "local Optima\n",
      "y_mean 6.8999955064191045\n",
      "mean_mean 6.636537277958503\n",
      "abs(round((mean_mean-y_mean)/y_mean)) 0.0\n",
      "local Optima\n",
      "y_mean 6.8999955064191045\n",
      "mean_mean 6.875200601455862\n",
      "abs(round((mean_mean-y_mean)/y_mean)) 0.0\n"
     ]
    },
    {
     "name": "stderr",
     "output_type": "stream",
     "text": [
      "\r",
      " 98%|█████████▊| 354/360 [02:53<00:02,  2.15it/s]"
     ]
    },
    {
     "name": "stdout",
     "output_type": "stream",
     "text": [
      "local Optima\n",
      "y_mean 9.207078404345262\n",
      "mean_mean 9.207065208285425\n",
      "abs(round((mean_mean-y_mean)/y_mean)) 0.0\n",
      "local Optima\n",
      "y_mean 9.207078404345262\n",
      "mean_mean 9.207065208576049\n",
      "abs(round((mean_mean-y_mean)/y_mean)) 0.0\n"
     ]
    },
    {
     "name": "stderr",
     "output_type": "stream",
     "text": [
      "\r",
      " 99%|█████████▊| 355/360 [02:53<00:02,  2.25it/s]"
     ]
    },
    {
     "name": "stdout",
     "output_type": "stream",
     "text": [
      "local Optima\n",
      "y_mean 5.569076068517624\n",
      "mean_mean 5.4399834844564365\n",
      "abs(round((mean_mean-y_mean)/y_mean)) 0.0\n",
      "local Optima\n",
      "y_mean 5.569076068517624\n",
      "mean_mean 5.532271675212898\n",
      "abs(round((mean_mean-y_mean)/y_mean)) 0.0\n"
     ]
    },
    {
     "name": "stderr",
     "output_type": "stream",
     "text": [
      "\r",
      " 99%|█████████▉| 356/360 [02:54<00:01,  2.27it/s]"
     ]
    },
    {
     "name": "stdout",
     "output_type": "stream",
     "text": [
      "local Optima\n",
      "y_mean 8.616853513505923\n",
      "mean_mean 8.616826569113051\n",
      "abs(round((mean_mean-y_mean)/y_mean)) 0.0\n",
      "local Optima\n",
      "y_mean 8.616853513505923\n",
      "mean_mean 8.616826566485232\n",
      "abs(round((mean_mean-y_mean)/y_mean)) 0.0\n"
     ]
    },
    {
     "name": "stderr",
     "output_type": "stream",
     "text": [
      "\r",
      " 99%|█████████▉| 357/360 [02:54<00:01,  2.35it/s]"
     ]
    },
    {
     "name": "stdout",
     "output_type": "stream",
     "text": [
      "local Optima\n",
      "y_mean 5.931472716077805\n",
      "mean_mean 5.925559824418663\n",
      "abs(round((mean_mean-y_mean)/y_mean)) 0.0\n",
      "local Optima\n",
      "y_mean 5.931472716077805\n",
      "mean_mean 5.914408983733329\n",
      "abs(round((mean_mean-y_mean)/y_mean)) 0.0\n",
      "Fit Cholesky decomposition was not successful.\n",
      "Fit Cholesky decomposition was not successful.\n",
      "Fit Cholesky decomposition was not successful.\n",
      "Fit Cholesky decomposition was not successful.\n",
      "Fit Cholesky decomposition was not successful.\n",
      "local Optima\n",
      "y_mean 8.166187885520175\n",
      "mean_mean 8.16616580266224\n",
      "abs(round((mean_mean-y_mean)/y_mean)) 0.0\n",
      "Fit Cholesky decomposition was not successful.\n",
      "Fit Cholesky decomposition was not successful.\n",
      "Fit Cholesky decomposition was not successful.\n",
      "Fit Cholesky decomposition was not successful.\n",
      "Fit Cholesky decomposition was not successful.\n"
     ]
    },
    {
     "name": "stderr",
     "output_type": "stream",
     "text": [
      "\r",
      " 99%|█████████▉| 358/360 [02:57<00:02,  1.26s/it]"
     ]
    },
    {
     "name": "stdout",
     "output_type": "stream",
     "text": [
      "local Optima\n",
      "y_mean 8.166187885520175\n",
      "mean_mean 8.16616580266224\n",
      "abs(round((mean_mean-y_mean)/y_mean)) 0.0\n"
     ]
    },
    {
     "name": "stderr",
     "output_type": "stream",
     "text": [
      "\r",
      "100%|█████████▉| 359/360 [02:58<00:00,  1.00it/s]"
     ]
    },
    {
     "name": "stdout",
     "output_type": "stream",
     "text": [
      "local Optima\n",
      "y_mean 6.168632800502914\n",
      "mean_mean 6.106249073008546\n",
      "abs(round((mean_mean-y_mean)/y_mean)) 0.0\n",
      "local Optima\n",
      "y_mean 6.168632800502914\n",
      "mean_mean 6.1602338370032665\n",
      "abs(round((mean_mean-y_mean)/y_mean)) 0.0\n"
     ]
    },
    {
     "name": "stderr",
     "output_type": "stream",
     "text": [
      "100%|██████████| 360/360 [02:58<00:00,  2.01it/s]\n",
      "  0%|          | 0/360 [00:00<?, ?it/s]"
     ]
    },
    {
     "name": "stdout",
     "output_type": "stream",
     "text": [
      "local Optima\n",
      "y_mean 8.009451484938857\n",
      "mean_mean 8.00943948638467\n",
      "abs(round((mean_mean-y_mean)/y_mean)) 0.0\n",
      "local Optima\n",
      "y_mean 8.009451484938857\n",
      "mean_mean 8.009439484401327\n",
      "abs(round((mean_mean-y_mean)/y_mean)) 0.0\n",
      "high_counts_high_dispersion_non_differentially_expressed_genes_DE_non_DE_genes.csv\n"
     ]
    },
    {
     "name": "stderr",
     "output_type": "stream",
     "text": [
      "\r",
      "  0%|          | 1/360 [00:00<02:23,  2.51it/s]"
     ]
    },
    {
     "name": "stdout",
     "output_type": "stream",
     "text": [
      "local Optima\n",
      "y_mean 4.48220322325731\n",
      "mean_mean 4.76045117970345\n",
      "abs(round((mean_mean-y_mean)/y_mean)) 0.0\n",
      "local Optima\n",
      "y_mean 4.48220322325731\n",
      "mean_mean 4.4194730619412015\n",
      "abs(round((mean_mean-y_mean)/y_mean)) 0.0\n"
     ]
    },
    {
     "name": "stderr",
     "output_type": "stream",
     "text": [
      "\r",
      "  1%|          | 2/360 [00:00<02:24,  2.47it/s]"
     ]
    },
    {
     "name": "stdout",
     "output_type": "stream",
     "text": [
      "local Optima\n",
      "y_mean 6.397262257208371\n",
      "mean_mean 6.393758034347436\n",
      "abs(round((mean_mean-y_mean)/y_mean)) 0.0\n",
      "local Optima\n",
      "y_mean 6.397262257208371\n",
      "mean_mean 6.393758119430953\n",
      "abs(round((mean_mean-y_mean)/y_mean)) 0.0\n"
     ]
    },
    {
     "name": "stderr",
     "output_type": "stream",
     "text": [
      "\r",
      "  1%|          | 3/360 [00:01<02:23,  2.48it/s]"
     ]
    },
    {
     "name": "stdout",
     "output_type": "stream",
     "text": [
      "local Optima\n",
      "y_mean 5.76452458587395\n",
      "mean_mean 5.86527733113894\n",
      "abs(round((mean_mean-y_mean)/y_mean)) 0.0\n",
      "local Optima\n",
      "y_mean 5.76452458587395\n",
      "mean_mean 5.737480571658311\n",
      "abs(round((mean_mean-y_mean)/y_mean)) 0.0\n"
     ]
    },
    {
     "name": "stderr",
     "output_type": "stream",
     "text": [
      "\r",
      "  1%|          | 4/360 [00:01<02:25,  2.46it/s]"
     ]
    },
    {
     "name": "stdout",
     "output_type": "stream",
     "text": [
      "local Optima\n",
      "y_mean 6.839476242762679\n",
      "mean_mean 6.83639276517741\n",
      "abs(round((mean_mean-y_mean)/y_mean)) 0.0\n",
      "local Optima\n",
      "y_mean 6.839476242762679\n",
      "mean_mean 6.836392590470608\n",
      "abs(round((mean_mean-y_mean)/y_mean)) 0.0\n"
     ]
    },
    {
     "name": "stderr",
     "output_type": "stream",
     "text": [
      "\r",
      "  1%|▏         | 5/360 [00:02<02:23,  2.48it/s]"
     ]
    },
    {
     "name": "stdout",
     "output_type": "stream",
     "text": [
      "local Optima\n",
      "y_mean 7.413311056437315\n",
      "mean_mean 7.50456349086291\n",
      "abs(round((mean_mean-y_mean)/y_mean)) 0.0\n",
      "local Optima\n",
      "y_mean 7.413311056437315\n",
      "mean_mean 7.377889441053452\n",
      "abs(round((mean_mean-y_mean)/y_mean)) 0.0\n"
     ]
    },
    {
     "name": "stderr",
     "output_type": "stream",
     "text": [
      "\r",
      "  2%|▏         | 6/360 [00:02<02:23,  2.47it/s]"
     ]
    },
    {
     "name": "stdout",
     "output_type": "stream",
     "text": [
      "local Optima\n",
      "y_mean 7.9770226069875845\n",
      "mean_mean 7.974638714011711\n",
      "abs(round((mean_mean-y_mean)/y_mean)) 0.0\n",
      "local Optima\n",
      "y_mean 7.9770226069875845\n",
      "mean_mean 7.974638961540475\n",
      "abs(round((mean_mean-y_mean)/y_mean)) 0.0\n"
     ]
    },
    {
     "name": "stderr",
     "output_type": "stream",
     "text": [
      "\r",
      "  2%|▏         | 7/360 [00:02<02:22,  2.48it/s]"
     ]
    },
    {
     "name": "stdout",
     "output_type": "stream",
     "text": [
      "local Optima\n",
      "y_mean 4.580415768092619\n",
      "mean_mean 4.842747308789272\n",
      "abs(round((mean_mean-y_mean)/y_mean)) 0.0\n",
      "local Optima\n",
      "y_mean 4.580415768092619\n",
      "mean_mean 4.54846350632613\n",
      "abs(round((mean_mean-y_mean)/y_mean)) 0.0\n"
     ]
    },
    {
     "name": "stderr",
     "output_type": "stream",
     "text": [
      "\r",
      "  2%|▏         | 8/360 [00:03<02:22,  2.47it/s]"
     ]
    },
    {
     "name": "stdout",
     "output_type": "stream",
     "text": [
      "local Optima\n",
      "y_mean 5.873519871387574\n",
      "mean_mean 5.871682674481192\n",
      "abs(round((mean_mean-y_mean)/y_mean)) 0.0\n",
      "local Optima\n",
      "y_mean 5.873519871387574\n",
      "mean_mean 5.871664542509016\n",
      "abs(round((mean_mean-y_mean)/y_mean)) 0.0\n"
     ]
    },
    {
     "name": "stderr",
     "output_type": "stream",
     "text": [
      "\r",
      "  2%|▎         | 9/360 [00:03<02:21,  2.48it/s]"
     ]
    },
    {
     "name": "stdout",
     "output_type": "stream",
     "text": [
      "local Optima\n",
      "y_mean 4.7783589370154305\n",
      "mean_mean 5.043141652382119\n",
      "abs(round((mean_mean-y_mean)/y_mean)) 0.0\n",
      "local Optima\n",
      "y_mean 4.7783589370154305\n",
      "mean_mean 4.746163834244133\n",
      "abs(round((mean_mean-y_mean)/y_mean)) 0.0\n"
     ]
    },
    {
     "name": "stderr",
     "output_type": "stream",
     "text": [
      "\r",
      "  3%|▎         | 10/360 [00:04<02:21,  2.48it/s]"
     ]
    },
    {
     "name": "stdout",
     "output_type": "stream",
     "text": [
      "local Optima\n",
      "y_mean 6.337534249600448\n",
      "mean_mean 6.3360803768872325\n",
      "abs(round((mean_mean-y_mean)/y_mean)) 0.0\n",
      "local Optima\n",
      "y_mean 6.337534249600448\n",
      "mean_mean 6.335832997508549\n",
      "abs(round((mean_mean-y_mean)/y_mean)) 0.0\n"
     ]
    },
    {
     "name": "stderr",
     "output_type": "stream",
     "text": [
      "\r",
      "  3%|▎         | 11/360 [00:04<02:20,  2.48it/s]"
     ]
    },
    {
     "name": "stdout",
     "output_type": "stream",
     "text": [
      "local Optima\n",
      "y_mean 6.7682900067642\n",
      "mean_mean 6.574589839016802\n",
      "abs(round((mean_mean-y_mean)/y_mean)) 0.0\n",
      "local Optima\n",
      "y_mean 6.7682900067642\n",
      "mean_mean 6.746626521063209\n",
      "abs(round((mean_mean-y_mean)/y_mean)) 0.0\n"
     ]
    },
    {
     "name": "stderr",
     "output_type": "stream",
     "text": [
      "\r",
      "  3%|▎         | 12/360 [00:04<02:20,  2.48it/s]"
     ]
    },
    {
     "name": "stdout",
     "output_type": "stream",
     "text": [
      "local Optima\n",
      "y_mean 8.189369972787965\n",
      "mean_mean 8.188540150693012\n",
      "abs(round((mean_mean-y_mean)/y_mean)) 0.0\n",
      "local Optima\n",
      "y_mean 8.189369972787965\n",
      "mean_mean 8.188464943920673\n",
      "abs(round((mean_mean-y_mean)/y_mean)) 0.0\n"
     ]
    },
    {
     "name": "stderr",
     "output_type": "stream",
     "text": [
      "\r",
      "  4%|▎         | 13/360 [00:05<02:20,  2.46it/s]"
     ]
    },
    {
     "name": "stdout",
     "output_type": "stream",
     "text": [
      "local Optima\n",
      "y_mean 5.635569261667727\n",
      "mean_mean 5.609173146996179\n",
      "abs(round((mean_mean-y_mean)/y_mean)) 0.0\n",
      "local Optima\n",
      "y_mean 5.635569261667727\n",
      "mean_mean 5.60917633795141\n",
      "abs(round((mean_mean-y_mean)/y_mean)) 0.0\n"
     ]
    },
    {
     "name": "stderr",
     "output_type": "stream",
     "text": [
      "\r",
      "  4%|▍         | 14/360 [00:05<02:21,  2.45it/s]"
     ]
    },
    {
     "name": "stdout",
     "output_type": "stream",
     "text": [
      "local Optima\n",
      "y_mean 6.39698276783287\n",
      "mean_mean 6.394362768499002\n",
      "abs(round((mean_mean-y_mean)/y_mean)) 0.0\n",
      "local Optima\n",
      "y_mean 6.39698276783287\n",
      "mean_mean 6.394367539384653\n",
      "abs(round((mean_mean-y_mean)/y_mean)) 0.0\n"
     ]
    },
    {
     "name": "stderr",
     "output_type": "stream",
     "text": [
      "\r",
      "  4%|▍         | 15/360 [00:06<02:20,  2.45it/s]"
     ]
    },
    {
     "name": "stdout",
     "output_type": "stream",
     "text": [
      "local Optima\n",
      "y_mean 5.972968917094317\n",
      "mean_mean 5.938149552275753\n",
      "abs(round((mean_mean-y_mean)/y_mean)) 0.0\n",
      "local Optima\n",
      "y_mean 5.972968917094317\n",
      "mean_mean 5.938149770750871\n",
      "abs(round((mean_mean-y_mean)/y_mean)) 0.0\n"
     ]
    },
    {
     "name": "stderr",
     "output_type": "stream",
     "text": [
      "\r",
      "  4%|▍         | 16/360 [00:06<02:19,  2.46it/s]"
     ]
    },
    {
     "name": "stdout",
     "output_type": "stream",
     "text": [
      "local Optima\n",
      "y_mean 7.942135987234233\n",
      "mean_mean 7.889962894466451\n",
      "abs(round((mean_mean-y_mean)/y_mean)) 0.0\n",
      "local Optima\n",
      "y_mean 7.942135987234233\n",
      "mean_mean 7.940266651591556\n",
      "abs(round((mean_mean-y_mean)/y_mean)) 0.0\n",
      "Fit Cholesky decomposition was not successful.\n"
     ]
    },
    {
     "name": "stderr",
     "output_type": "stream",
     "text": [
      "\r",
      "  5%|▍         | 17/360 [00:07<02:43,  2.10it/s]"
     ]
    },
    {
     "name": "stdout",
     "output_type": "stream",
     "text": [
      "local Optima\n",
      "y_mean 6.605665332346903\n",
      "mean_mean 6.5947236553558595\n",
      "abs(round((mean_mean-y_mean)/y_mean)) 0.0\n",
      "local Optima\n",
      "y_mean 6.605665332346903\n",
      "mean_mean 6.5947236553558595\n",
      "abs(round((mean_mean-y_mean)/y_mean)) 0.0\n",
      "local Optima\n",
      "y_mean 6.605665332346903\n",
      "mean_mean 6.5947236833503675\n",
      "abs(round((mean_mean-y_mean)/y_mean)) 0.0\n"
     ]
    },
    {
     "name": "stderr",
     "output_type": "stream",
     "text": [
      "\r",
      "  5%|▌         | 18/360 [00:07<02:37,  2.17it/s]"
     ]
    },
    {
     "name": "stdout",
     "output_type": "stream",
     "text": [
      "local Optima\n",
      "y_mean 7.7358964522675775\n",
      "mean_mean 7.7346213945584825\n",
      "abs(round((mean_mean-y_mean)/y_mean)) 0.0\n",
      "local Optima\n",
      "y_mean 7.7358964522675775\n",
      "mean_mean 7.734619821512574\n",
      "abs(round((mean_mean-y_mean)/y_mean)) 0.0\n"
     ]
    },
    {
     "name": "stderr",
     "output_type": "stream",
     "text": [
      "\r",
      "  5%|▌         | 19/360 [00:07<02:32,  2.24it/s]"
     ]
    },
    {
     "name": "stdout",
     "output_type": "stream",
     "text": [
      "local Optima\n",
      "y_mean 4.9619196378865915\n",
      "mean_mean 4.949383816648119\n",
      "abs(round((mean_mean-y_mean)/y_mean)) 0.0\n",
      "local Optima\n",
      "y_mean 4.9619196378865915\n",
      "mean_mean 4.949383991872615\n",
      "abs(round((mean_mean-y_mean)/y_mean)) 0.0\n"
     ]
    },
    {
     "name": "stderr",
     "output_type": "stream",
     "text": [
      "\r",
      "  6%|▌         | 20/360 [00:08<02:27,  2.30it/s]"
     ]
    },
    {
     "name": "stdout",
     "output_type": "stream",
     "text": [
      "local Optima\n",
      "y_mean 6.31629158668389\n",
      "mean_mean 6.3149844253618355\n",
      "abs(round((mean_mean-y_mean)/y_mean)) 0.0\n",
      "local Optima\n",
      "y_mean 6.31629158668389\n",
      "mean_mean 6.314879719934891\n",
      "abs(round((mean_mean-y_mean)/y_mean)) 0.0\n"
     ]
    },
    {
     "name": "stderr",
     "output_type": "stream",
     "text": [
      "\r",
      "  6%|▌         | 21/360 [00:08<02:23,  2.36it/s]"
     ]
    },
    {
     "name": "stdout",
     "output_type": "stream",
     "text": [
      "local Optima\n",
      "y_mean 5.6964016538808995\n",
      "mean_mean 5.4007782360195336\n",
      "abs(round((mean_mean-y_mean)/y_mean)) 0.0\n",
      "local Optima\n",
      "y_mean 5.6964016538808995\n",
      "mean_mean 5.663905647218855\n",
      "abs(round((mean_mean-y_mean)/y_mean)) 0.0\n"
     ]
    },
    {
     "name": "stderr",
     "output_type": "stream",
     "text": [
      "\r",
      "  6%|▌         | 22/360 [00:09<02:22,  2.38it/s]"
     ]
    },
    {
     "name": "stdout",
     "output_type": "stream",
     "text": [
      "local Optima\n",
      "y_mean 7.6467115162842845\n",
      "mean_mean 7.644919697677453\n",
      "abs(round((mean_mean-y_mean)/y_mean)) 0.0\n",
      "local Optima\n",
      "y_mean 7.6467115162842845\n",
      "mean_mean 7.644920202816411\n",
      "abs(round((mean_mean-y_mean)/y_mean)) 0.0\n"
     ]
    },
    {
     "name": "stderr",
     "output_type": "stream",
     "text": [
      "\r",
      "  6%|▋         | 23/360 [00:09<02:19,  2.41it/s]"
     ]
    },
    {
     "name": "stdout",
     "output_type": "stream",
     "text": [
      "local Optima\n",
      "y_mean 6.274146950848582\n",
      "mean_mean 6.0826299004965305\n",
      "abs(round((mean_mean-y_mean)/y_mean)) 0.0\n",
      "local Optima\n",
      "y_mean 6.274146950848582\n",
      "mean_mean 6.250900869249663\n",
      "abs(round((mean_mean-y_mean)/y_mean)) 0.0\n",
      "Fit Cholesky decomposition was not successful.\n"
     ]
    },
    {
     "name": "stderr",
     "output_type": "stream",
     "text": [
      "\r",
      "  7%|▋         | 24/360 [00:10<02:51,  1.96it/s]"
     ]
    },
    {
     "name": "stdout",
     "output_type": "stream",
     "text": [
      "local Optima\n",
      "y_mean 8.208704194932894\n",
      "mean_mean 8.207588605775767\n",
      "abs(round((mean_mean-y_mean)/y_mean)) 0.0\n",
      "local Optima\n",
      "y_mean 8.208704194932894\n",
      "mean_mean 8.207588605775767\n",
      "abs(round((mean_mean-y_mean)/y_mean)) 0.0\n",
      "local Optima\n",
      "y_mean 8.208704194932894\n",
      "mean_mean 8.207588713860615\n",
      "abs(round((mean_mean-y_mean)/y_mean)) 0.0\n"
     ]
    },
    {
     "name": "stderr",
     "output_type": "stream",
     "text": [
      "\r",
      "  7%|▋         | 25/360 [00:10<02:39,  2.10it/s]"
     ]
    },
    {
     "name": "stdout",
     "output_type": "stream",
     "text": [
      "local Optima\n",
      "y_mean 6.143279096383072\n",
      "mean_mean 6.314809658500025\n",
      "abs(round((mean_mean-y_mean)/y_mean)) 0.0\n",
      "local Optima\n",
      "y_mean 6.143279096383072\n",
      "mean_mean 6.116784645899875\n",
      "abs(round((mean_mean-y_mean)/y_mean)) 0.0\n"
     ]
    },
    {
     "name": "stderr",
     "output_type": "stream",
     "text": [
      "\r",
      "  7%|▋         | 26/360 [00:11<02:34,  2.16it/s]"
     ]
    },
    {
     "name": "stdout",
     "output_type": "stream",
     "text": [
      "local Optima\n",
      "y_mean 7.283248072402142\n",
      "mean_mean 7.281239197405841\n",
      "abs(round((mean_mean-y_mean)/y_mean)) 0.0\n",
      "local Optima\n",
      "y_mean 7.283248072402142\n",
      "mean_mean 7.2812397562388425\n",
      "abs(round((mean_mean-y_mean)/y_mean)) 0.0\n"
     ]
    },
    {
     "name": "stderr",
     "output_type": "stream",
     "text": [
      "\r",
      "  8%|▊         | 27/360 [00:11<02:31,  2.19it/s]"
     ]
    },
    {
     "name": "stdout",
     "output_type": "stream",
     "text": [
      "local Optima\n",
      "y_mean 6.248623450320067\n",
      "mean_mean 6.532071005798998\n",
      "abs(round((mean_mean-y_mean)/y_mean)) 0.0\n",
      "local Optima\n",
      "y_mean 6.248623450320067\n",
      "mean_mean 6.225926887097536\n",
      "abs(round((mean_mean-y_mean)/y_mean)) 0.0\n"
     ]
    },
    {
     "name": "stderr",
     "output_type": "stream",
     "text": [
      "\r",
      "  8%|▊         | 28/360 [00:12<02:27,  2.25it/s]"
     ]
    },
    {
     "name": "stdout",
     "output_type": "stream",
     "text": [
      "local Optima\n",
      "y_mean 7.0654097236663596\n",
      "mean_mean 7.064270632058366\n",
      "abs(round((mean_mean-y_mean)/y_mean)) 0.0\n",
      "local Optima\n",
      "y_mean 7.0654097236663596\n",
      "mean_mean 7.064256520560829\n",
      "abs(round((mean_mean-y_mean)/y_mean)) 0.0\n"
     ]
    },
    {
     "name": "stderr",
     "output_type": "stream",
     "text": [
      "\r",
      "  8%|▊         | 29/360 [00:12<02:22,  2.32it/s]"
     ]
    },
    {
     "name": "stdout",
     "output_type": "stream",
     "text": [
      "local Optima\n",
      "y_mean 6.918830304396504\n",
      "mean_mean 7.064751795481589\n",
      "abs(round((mean_mean-y_mean)/y_mean)) 0.0\n",
      "local Optima\n",
      "y_mean 6.918830304396504\n",
      "mean_mean 6.905036787222376\n",
      "abs(round((mean_mean-y_mean)/y_mean)) 0.0\n"
     ]
    },
    {
     "name": "stderr",
     "output_type": "stream",
     "text": [
      "\r",
      "  8%|▊         | 30/360 [00:12<02:19,  2.37it/s]"
     ]
    },
    {
     "name": "stdout",
     "output_type": "stream",
     "text": [
      "local Optima\n",
      "y_mean 7.296458070798298\n",
      "mean_mean 7.247159120901695\n",
      "abs(round((mean_mean-y_mean)/y_mean)) 0.0\n",
      "local Optima\n",
      "y_mean 7.296458070798298\n",
      "mean_mean 7.295495141392394\n",
      "abs(round((mean_mean-y_mean)/y_mean)) 0.0\n"
     ]
    },
    {
     "name": "stderr",
     "output_type": "stream",
     "text": [
      "\r",
      "  9%|▊         | 31/360 [00:13<02:16,  2.42it/s]"
     ]
    },
    {
     "name": "stdout",
     "output_type": "stream",
     "text": [
      "local Optima\n",
      "y_mean 5.320652808527377\n",
      "mean_mean 4.987493087519658\n",
      "abs(round((mean_mean-y_mean)/y_mean)) 0.0\n",
      "local Optima\n",
      "y_mean 5.320652808527377\n",
      "mean_mean 5.266637805582008\n",
      "abs(round((mean_mean-y_mean)/y_mean)) 0.0\n"
     ]
    },
    {
     "name": "stderr",
     "output_type": "stream",
     "text": [
      "\r",
      "  9%|▉         | 32/360 [00:13<02:17,  2.38it/s]"
     ]
    },
    {
     "name": "stdout",
     "output_type": "stream",
     "text": [
      "local Optima\n",
      "y_mean 7.3488645199254865\n",
      "mean_mean 7.347246896999714\n",
      "abs(round((mean_mean-y_mean)/y_mean)) 0.0\n",
      "local Optima\n",
      "y_mean 7.3488645199254865\n",
      "mean_mean 7.347248063957892\n",
      "abs(round((mean_mean-y_mean)/y_mean)) 0.0\n",
      "local Optima\n",
      "y_mean 6.090922187238423\n",
      "mean_mean 6.037285612673128\n",
      "abs(round((mean_mean-y_mean)/y_mean)) 0.0\n"
     ]
    },
    {
     "name": "stderr",
     "output_type": "stream",
     "text": [
      "\r",
      "  9%|▉         | 33/360 [00:14<02:23,  2.28it/s]"
     ]
    },
    {
     "name": "stdout",
     "output_type": "stream",
     "text": [
      "local Optima\n",
      "y_mean 6.090922187238423\n",
      "mean_mean 6.057417421008309\n",
      "abs(round((mean_mean-y_mean)/y_mean)) 0.0\n"
     ]
    },
    {
     "name": "stderr",
     "output_type": "stream",
     "text": [
      "\r",
      "  9%|▉         | 34/360 [00:14<02:21,  2.30it/s]"
     ]
    },
    {
     "name": "stdout",
     "output_type": "stream",
     "text": [
      "local Optima\n",
      "y_mean 8.032499180652955\n",
      "mean_mean 8.030560786722729\n",
      "abs(round((mean_mean-y_mean)/y_mean)) 0.0\n",
      "local Optima\n",
      "y_mean 8.032499180652955\n",
      "mean_mean 8.030561057011354\n",
      "abs(round((mean_mean-y_mean)/y_mean)) 0.0\n"
     ]
    },
    {
     "name": "stderr",
     "output_type": "stream",
     "text": [
      "\r",
      " 10%|▉         | 35/360 [00:14<02:18,  2.35it/s]"
     ]
    },
    {
     "name": "stdout",
     "output_type": "stream",
     "text": [
      "local Optima\n",
      "y_mean 6.522486645739459\n",
      "mean_mean 6.139118101500351\n",
      "abs(round((mean_mean-y_mean)/y_mean)) 0.0\n",
      "local Optima\n",
      "y_mean 6.522486645739459\n",
      "mean_mean 6.492622813074311\n",
      "abs(round((mean_mean-y_mean)/y_mean)) 0.0\n"
     ]
    },
    {
     "name": "stderr",
     "output_type": "stream",
     "text": [
      "\r",
      " 10%|█         | 36/360 [00:15<02:15,  2.38it/s]"
     ]
    },
    {
     "name": "stdout",
     "output_type": "stream",
     "text": [
      "local Optima\n",
      "y_mean 8.079989290963828\n",
      "mean_mean 8.079063873584568\n",
      "abs(round((mean_mean-y_mean)/y_mean)) 0.0\n",
      "local Optima\n",
      "y_mean 8.079989290963828\n",
      "mean_mean 8.078939293649478\n",
      "abs(round((mean_mean-y_mean)/y_mean)) 0.0\n"
     ]
    },
    {
     "name": "stderr",
     "output_type": "stream",
     "text": [
      "\r",
      " 10%|█         | 37/360 [00:15<02:13,  2.42it/s]"
     ]
    },
    {
     "name": "stdout",
     "output_type": "stream",
     "text": [
      "local Optima\n",
      "y_mean 4.716416741055383\n",
      "mean_mean 5.118906154386269\n",
      "abs(round((mean_mean-y_mean)/y_mean)) 0.0\n",
      "local Optima\n",
      "y_mean 4.716416741055383\n",
      "mean_mean 4.644820212301475\n",
      "abs(round((mean_mean-y_mean)/y_mean)) 0.0\n"
     ]
    },
    {
     "name": "stderr",
     "output_type": "stream",
     "text": [
      "\r",
      " 11%|█         | 38/360 [00:16<02:12,  2.44it/s]"
     ]
    },
    {
     "name": "stdout",
     "output_type": "stream",
     "text": [
      "local Optima\n",
      "y_mean 7.463819716021133\n",
      "mean_mean 7.463172002886833\n",
      "abs(round((mean_mean-y_mean)/y_mean)) 0.0\n",
      "local Optima\n",
      "y_mean 7.463819716021133\n",
      "mean_mean 7.461583848608729\n",
      "abs(round((mean_mean-y_mean)/y_mean)) 0.0\n"
     ]
    },
    {
     "name": "stderr",
     "output_type": "stream",
     "text": [
      "\r",
      " 11%|█         | 39/360 [00:16<02:10,  2.45it/s]"
     ]
    },
    {
     "name": "stdout",
     "output_type": "stream",
     "text": [
      "local Optima\n",
      "y_mean 5.659920316005122\n",
      "mean_mean 5.613322713299518\n",
      "abs(round((mean_mean-y_mean)/y_mean)) 0.0\n",
      "local Optima\n",
      "y_mean 5.659920316005122\n",
      "mean_mean 5.613432795738975\n",
      "abs(round((mean_mean-y_mean)/y_mean)) 0.0\n"
     ]
    },
    {
     "name": "stderr",
     "output_type": "stream",
     "text": [
      "\r",
      " 11%|█         | 40/360 [00:16<02:10,  2.45it/s]"
     ]
    },
    {
     "name": "stdout",
     "output_type": "stream",
     "text": [
      "local Optima\n",
      "y_mean 7.749841595406419\n",
      "mean_mean 7.74947164472115\n",
      "abs(round((mean_mean-y_mean)/y_mean)) 0.0\n",
      "local Optima\n",
      "y_mean 7.749841595406419\n",
      "mean_mean 7.749158601995244\n",
      "abs(round((mean_mean-y_mean)/y_mean)) 0.0\n"
     ]
    },
    {
     "name": "stderr",
     "output_type": "stream",
     "text": [
      "\r",
      " 11%|█▏        | 41/360 [00:17<02:08,  2.48it/s]"
     ]
    },
    {
     "name": "stdout",
     "output_type": "stream",
     "text": [
      "local Optima\n",
      "y_mean 7.195511026996635\n",
      "mean_mean 7.628459083413287\n",
      "abs(round((mean_mean-y_mean)/y_mean)) 0.0\n",
      "local Optima\n",
      "y_mean 7.195511026996635\n",
      "mean_mean 7.159003398119794\n",
      "abs(round((mean_mean-y_mean)/y_mean)) 0.0\n"
     ]
    },
    {
     "name": "stderr",
     "output_type": "stream",
     "text": [
      "\r",
      " 12%|█▏        | 42/360 [00:17<02:07,  2.49it/s]"
     ]
    },
    {
     "name": "stdout",
     "output_type": "stream",
     "text": [
      "local Optima\n",
      "y_mean 8.008174349742529\n",
      "mean_mean 8.050042940638432\n",
      "abs(round((mean_mean-y_mean)/y_mean)) 0.0\n",
      "local Optima\n",
      "y_mean 8.008174349742529\n",
      "mean_mean 8.007331929309858\n",
      "abs(round((mean_mean-y_mean)/y_mean)) 0.0\n"
     ]
    },
    {
     "name": "stderr",
     "output_type": "stream",
     "text": [
      "\r",
      " 12%|█▏        | 43/360 [00:18<02:06,  2.50it/s]"
     ]
    },
    {
     "name": "stdout",
     "output_type": "stream",
     "text": [
      "local Optima\n",
      "y_mean 5.601078472006148\n",
      "mean_mean 5.709721110633593\n",
      "abs(round((mean_mean-y_mean)/y_mean)) 0.0\n",
      "local Optima\n",
      "y_mean 5.601078472006148\n",
      "mean_mean 5.556950373587618\n",
      "abs(round((mean_mean-y_mean)/y_mean)) 0.0\n"
     ]
    },
    {
     "name": "stderr",
     "output_type": "stream",
     "text": [
      "\r",
      " 12%|█▏        | 44/360 [00:18<02:06,  2.49it/s]"
     ]
    },
    {
     "name": "stdout",
     "output_type": "stream",
     "text": [
      "local Optima\n",
      "y_mean 7.406781092742808\n",
      "mean_mean 7.405870725346649\n",
      "abs(round((mean_mean-y_mean)/y_mean)) 0.0\n",
      "local Optima\n",
      "y_mean 7.406781092742808\n",
      "mean_mean 7.405405519131494\n",
      "abs(round((mean_mean-y_mean)/y_mean)) 0.0\n"
     ]
    },
    {
     "name": "stderr",
     "output_type": "stream",
     "text": [
      "\r",
      " 12%|█▎        | 45/360 [00:18<02:06,  2.49it/s]"
     ]
    },
    {
     "name": "stdout",
     "output_type": "stream",
     "text": [
      "local Optima\n",
      "y_mean 6.50550693984619\n",
      "mean_mean 6.488793203300637\n",
      "abs(round((mean_mean-y_mean)/y_mean)) 0.0\n",
      "local Optima\n",
      "y_mean 6.50550693984619\n",
      "mean_mean 6.475988314331574\n",
      "abs(round((mean_mean-y_mean)/y_mean)) 0.0\n"
     ]
    },
    {
     "name": "stderr",
     "output_type": "stream",
     "text": [
      "\r",
      " 13%|█▎        | 46/360 [00:19<02:06,  2.48it/s]"
     ]
    },
    {
     "name": "stdout",
     "output_type": "stream",
     "text": [
      "local Optima\n",
      "y_mean 8.47569196867574\n",
      "mean_mean 8.474048256112836\n",
      "abs(round((mean_mean-y_mean)/y_mean)) 0.0\n",
      "local Optima\n",
      "y_mean 8.47569196867574\n",
      "mean_mean 8.474047355703169\n",
      "abs(round((mean_mean-y_mean)/y_mean)) 0.0\n"
     ]
    },
    {
     "name": "stderr",
     "output_type": "stream",
     "text": [
      "\r",
      " 13%|█▎        | 47/360 [00:19<02:06,  2.47it/s]"
     ]
    },
    {
     "name": "stdout",
     "output_type": "stream",
     "text": [
      "local Optima\n",
      "y_mean 7.535755836492064\n",
      "mean_mean 7.522172562261269\n",
      "abs(round((mean_mean-y_mean)/y_mean)) 0.0\n",
      "local Optima\n",
      "y_mean 7.535755836492064\n",
      "mean_mean 7.522155791140891\n",
      "abs(round((mean_mean-y_mean)/y_mean)) 0.0\n"
     ]
    },
    {
     "name": "stderr",
     "output_type": "stream",
     "text": [
      "\r",
      " 13%|█▎        | 48/360 [00:20<02:07,  2.45it/s]"
     ]
    },
    {
     "name": "stdout",
     "output_type": "stream",
     "text": [
      "local Optima\n",
      "y_mean 8.555499709694539\n",
      "mean_mean 8.554682653269843\n",
      "abs(round((mean_mean-y_mean)/y_mean)) 0.0\n",
      "local Optima\n",
      "y_mean 8.555499709694539\n",
      "mean_mean 8.55468337423343\n",
      "abs(round((mean_mean-y_mean)/y_mean)) 0.0\n"
     ]
    },
    {
     "name": "stderr",
     "output_type": "stream",
     "text": [
      "\r",
      " 14%|█▎        | 49/360 [00:20<02:06,  2.47it/s]"
     ]
    },
    {
     "name": "stdout",
     "output_type": "stream",
     "text": [
      "local Optima\n",
      "y_mean 5.661712732337445\n",
      "mean_mean 6.19524611016947\n",
      "abs(round((mean_mean-y_mean)/y_mean)) 0.0\n",
      "local Optima\n",
      "y_mean 5.661712732337445\n",
      "mean_mean 5.5930593262397394\n",
      "abs(round((mean_mean-y_mean)/y_mean)) 0.0\n"
     ]
    },
    {
     "name": "stderr",
     "output_type": "stream",
     "text": [
      "\r",
      " 14%|█▍        | 50/360 [00:20<02:05,  2.47it/s]"
     ]
    },
    {
     "name": "stdout",
     "output_type": "stream",
     "text": [
      "local Optima\n",
      "y_mean 8.146526935035677\n",
      "mean_mean 8.146171602058951\n",
      "abs(round((mean_mean-y_mean)/y_mean)) 0.0\n",
      "local Optima\n",
      "y_mean 8.146526935035677\n",
      "mean_mean 8.144545762546658\n",
      "abs(round((mean_mean-y_mean)/y_mean)) 0.0\n"
     ]
    },
    {
     "name": "stderr",
     "output_type": "stream",
     "text": [
      "\r",
      " 14%|█▍        | 51/360 [00:21<02:04,  2.49it/s]"
     ]
    },
    {
     "name": "stdout",
     "output_type": "stream",
     "text": [
      "local Optima\n",
      "y_mean 5.7095827257535205\n",
      "mean_mean 6.1852856199287745\n",
      "abs(round((mean_mean-y_mean)/y_mean)) 0.0\n",
      "local Optima\n",
      "y_mean 5.7095827257535205\n",
      "mean_mean 5.646339060359009\n",
      "abs(round((mean_mean-y_mean)/y_mean)) 0.0\n"
     ]
    },
    {
     "name": "stderr",
     "output_type": "stream",
     "text": [
      "\r",
      " 14%|█▍        | 52/360 [00:21<02:03,  2.49it/s]"
     ]
    },
    {
     "name": "stdout",
     "output_type": "stream",
     "text": [
      "local Optima\n",
      "y_mean 7.773040152849699\n",
      "mean_mean 7.772684919037828\n",
      "abs(round((mean_mean-y_mean)/y_mean)) 0.0\n",
      "local Optima\n",
      "y_mean 7.773040152849699\n",
      "mean_mean 7.771527918647498\n",
      "abs(round((mean_mean-y_mean)/y_mean)) 0.0\n"
     ]
    },
    {
     "name": "stderr",
     "output_type": "stream",
     "text": [
      "\r",
      " 15%|█▍        | 53/360 [00:22<02:02,  2.50it/s]"
     ]
    },
    {
     "name": "stdout",
     "output_type": "stream",
     "text": [
      "local Optima\n",
      "y_mean 7.344270245585907\n",
      "mean_mean 7.5669706547916675\n",
      "abs(round((mean_mean-y_mean)/y_mean)) 0.0\n",
      "local Optima\n",
      "y_mean 7.344270245585907\n",
      "mean_mean 7.331077705981244\n",
      "abs(round((mean_mean-y_mean)/y_mean)) 0.0\n",
      "Fit Cholesky decomposition was not successful.\n",
      "Fit Cholesky decomposition was not successful.\n",
      "local Optima\n",
      "y_mean 8.284071338657952\n",
      "mean_mean 8.283105727231442\n",
      "abs(round((mean_mean-y_mean)/y_mean)) 0.0\n",
      "local Optima\n",
      "y_mean 8.284071338657952\n",
      "mean_mean 8.283105727231442\n",
      "abs(round((mean_mean-y_mean)/y_mean)) 0.0\n",
      "local Optima\n",
      "y_mean 8.284071338657952\n",
      "mean_mean 8.283105727231442\n",
      "abs(round((mean_mean-y_mean)/y_mean)) 0.0\n"
     ]
    },
    {
     "name": "stderr",
     "output_type": "stream",
     "text": [
      "\r",
      " 15%|█▌        | 54/360 [00:23<02:47,  1.83it/s]"
     ]
    },
    {
     "name": "stdout",
     "output_type": "stream",
     "text": [
      "local Optima\n",
      "y_mean 8.284071338657952\n",
      "mean_mean 8.283105740527988\n",
      "abs(round((mean_mean-y_mean)/y_mean)) 0.0\n"
     ]
    },
    {
     "name": "stderr",
     "output_type": "stream",
     "text": [
      "\r",
      " 15%|█▌        | 55/360 [00:23<02:32,  2.00it/s]"
     ]
    },
    {
     "name": "stdout",
     "output_type": "stream",
     "text": [
      "local Optima\n",
      "y_mean 4.355405765262453\n",
      "mean_mean 4.287017126432434\n",
      "abs(round((mean_mean-y_mean)/y_mean)) 0.0\n",
      "local Optima\n",
      "y_mean 4.355405765262453\n",
      "mean_mean 4.2717830279636955\n",
      "abs(round((mean_mean-y_mean)/y_mean)) 0.0\n"
     ]
    },
    {
     "name": "stderr",
     "output_type": "stream",
     "text": [
      "\r",
      " 16%|█▌        | 56/360 [00:23<02:24,  2.11it/s]"
     ]
    },
    {
     "name": "stdout",
     "output_type": "stream",
     "text": [
      "local Optima\n",
      "y_mean 7.552027495302492\n",
      "mean_mean 7.547453291020485\n",
      "abs(round((mean_mean-y_mean)/y_mean)) 0.0\n",
      "local Optima\n",
      "y_mean 7.552027495302492\n",
      "mean_mean 7.547449226294094\n",
      "abs(round((mean_mean-y_mean)/y_mean)) 0.0\n"
     ]
    },
    {
     "name": "stderr",
     "output_type": "stream",
     "text": [
      "\r",
      " 16%|█▌        | 57/360 [00:24<02:16,  2.22it/s]"
     ]
    },
    {
     "name": "stdout",
     "output_type": "stream",
     "text": [
      "local Optima\n",
      "y_mean 5.855255725272131\n",
      "mean_mean 5.724650923033518\n",
      "abs(round((mean_mean-y_mean)/y_mean)) 0.0\n",
      "local Optima\n",
      "y_mean 5.855255725272131\n",
      "mean_mean 5.830002073629824\n",
      "abs(round((mean_mean-y_mean)/y_mean)) 0.0\n"
     ]
    },
    {
     "name": "stderr",
     "output_type": "stream",
     "text": [
      "\r",
      " 16%|█▌        | 58/360 [00:24<02:12,  2.27it/s]"
     ]
    },
    {
     "name": "stdout",
     "output_type": "stream",
     "text": [
      "local Optima\n",
      "y_mean 7.4255210615458465\n",
      "mean_mean 7.422541938843808\n",
      "abs(round((mean_mean-y_mean)/y_mean)) 0.0\n",
      "local Optima\n",
      "y_mean 7.4255210615458465\n",
      "mean_mean 7.422541760337834\n",
      "abs(round((mean_mean-y_mean)/y_mean)) 0.0\n"
     ]
    },
    {
     "name": "stderr",
     "output_type": "stream",
     "text": [
      "\r",
      " 16%|█▋        | 59/360 [00:25<02:15,  2.22it/s]"
     ]
    },
    {
     "name": "stdout",
     "output_type": "stream",
     "text": [
      "local Optima\n",
      "y_mean 7.269601273533599\n",
      "mean_mean 7.262337816696374\n",
      "abs(round((mean_mean-y_mean)/y_mean)) 0.0\n",
      "local Optima\n",
      "y_mean 7.269601273533599\n",
      "mean_mean 7.242836547502984\n",
      "abs(round((mean_mean-y_mean)/y_mean)) 0.0\n"
     ]
    },
    {
     "name": "stderr",
     "output_type": "stream",
     "text": [
      "\r",
      " 17%|█▋        | 60/360 [00:25<02:11,  2.28it/s]"
     ]
    },
    {
     "name": "stdout",
     "output_type": "stream",
     "text": [
      "local Optima\n",
      "y_mean 8.296703029693713\n",
      "mean_mean 8.295761431287533\n",
      "abs(round((mean_mean-y_mean)/y_mean)) 0.0\n",
      "local Optima\n",
      "y_mean 8.296703029693713\n",
      "mean_mean 8.29576192750083\n",
      "abs(round((mean_mean-y_mean)/y_mean)) 0.0\n"
     ]
    },
    {
     "name": "stderr",
     "output_type": "stream",
     "text": [
      "\r",
      " 17%|█▋        | 61/360 [00:25<02:07,  2.34it/s]"
     ]
    },
    {
     "name": "stdout",
     "output_type": "stream",
     "text": [
      "local Optima\n",
      "y_mean 6.638909125189709\n",
      "mean_mean 6.45888570650279\n",
      "abs(round((mean_mean-y_mean)/y_mean)) 0.0\n",
      "local Optima\n",
      "y_mean 6.638909125189709\n",
      "mean_mean 6.584837073107588\n",
      "abs(round((mean_mean-y_mean)/y_mean)) 0.0\n"
     ]
    },
    {
     "name": "stderr",
     "output_type": "stream",
     "text": [
      "\r",
      " 17%|█▋        | 62/360 [00:26<02:04,  2.39it/s]"
     ]
    },
    {
     "name": "stdout",
     "output_type": "stream",
     "text": [
      "local Optima\n",
      "y_mean 8.954862931209233\n",
      "mean_mean 8.954741973788805\n",
      "abs(round((mean_mean-y_mean)/y_mean)) 0.0\n",
      "local Optima\n",
      "y_mean 8.954862931209233\n",
      "mean_mean 8.952769780066975\n",
      "abs(round((mean_mean-y_mean)/y_mean)) 0.0\n"
     ]
    },
    {
     "name": "stderr",
     "output_type": "stream",
     "text": [
      "\r",
      " 18%|█▊        | 63/360 [00:26<02:02,  2.42it/s]"
     ]
    },
    {
     "name": "stdout",
     "output_type": "stream",
     "text": [
      "local Optima\n",
      "y_mean 6.603724666713609\n",
      "mean_mean 6.524262528939196\n",
      "abs(round((mean_mean-y_mean)/y_mean)) 0.0\n",
      "local Optima\n",
      "y_mean 6.603724666713609\n",
      "mean_mean 6.568115408679634\n",
      "abs(round((mean_mean-y_mean)/y_mean)) 0.0\n"
     ]
    },
    {
     "name": "stderr",
     "output_type": "stream",
     "text": [
      "\r",
      " 18%|█▊        | 64/360 [00:27<02:01,  2.43it/s]"
     ]
    },
    {
     "name": "stdout",
     "output_type": "stream",
     "text": [
      "local Optima\n",
      "y_mean 8.35576481046381\n",
      "mean_mean 8.355390994190492\n",
      "abs(round((mean_mean-y_mean)/y_mean)) 0.0\n",
      "local Optima\n",
      "y_mean 8.35576481046381\n",
      "mean_mean 8.353702140231931\n",
      "abs(round((mean_mean-y_mean)/y_mean)) 0.0\n"
     ]
    },
    {
     "name": "stderr",
     "output_type": "stream",
     "text": [
      "\r",
      " 18%|█▊        | 65/360 [00:27<01:59,  2.46it/s]"
     ]
    },
    {
     "name": "stdout",
     "output_type": "stream",
     "text": [
      "local Optima\n",
      "y_mean 7.953786806486406\n",
      "mean_mean 7.957372926673018\n",
      "abs(round((mean_mean-y_mean)/y_mean)) 0.0\n",
      "local Optima\n",
      "y_mean 7.953786806486406\n",
      "mean_mean 7.9413186617506195\n",
      "abs(round((mean_mean-y_mean)/y_mean)) 0.0\n"
     ]
    },
    {
     "name": "stderr",
     "output_type": "stream",
     "text": [
      "\r",
      " 18%|█▊        | 66/360 [00:27<02:00,  2.45it/s]"
     ]
    },
    {
     "name": "stdout",
     "output_type": "stream",
     "text": [
      "local Optima\n",
      "y_mean 8.991282023336833\n",
      "mean_mean 8.990956452378724\n",
      "abs(round((mean_mean-y_mean)/y_mean)) 0.0\n",
      "local Optima\n",
      "y_mean 8.991282023336833\n",
      "mean_mean 8.990252161784921\n",
      "abs(round((mean_mean-y_mean)/y_mean)) 0.0\n"
     ]
    },
    {
     "name": "stderr",
     "output_type": "stream",
     "text": [
      "\r",
      " 19%|█▊        | 67/360 [00:28<01:59,  2.44it/s]"
     ]
    },
    {
     "name": "stdout",
     "output_type": "stream",
     "text": [
      "local Optima\n",
      "y_mean 5.891663684188272\n",
      "mean_mean 5.724584736613927\n",
      "abs(round((mean_mean-y_mean)/y_mean)) 0.0\n",
      "local Optima\n",
      "y_mean 5.891663684188272\n",
      "mean_mean 5.857187309788154\n",
      "abs(round((mean_mean-y_mean)/y_mean)) 0.0\n"
     ]
    },
    {
     "name": "stderr",
     "output_type": "stream",
     "text": [
      "\r",
      " 19%|█▉        | 68/360 [00:28<02:00,  2.42it/s]"
     ]
    },
    {
     "name": "stdout",
     "output_type": "stream",
     "text": [
      "local Optima\n",
      "y_mean 7.832538204579966\n",
      "mean_mean 7.831584838723265\n",
      "abs(round((mean_mean-y_mean)/y_mean)) 0.0\n",
      "local Optima\n",
      "y_mean 7.832538204579966\n",
      "mean_mean 7.831584806637193\n",
      "abs(round((mean_mean-y_mean)/y_mean)) 0.0\n"
     ]
    },
    {
     "name": "stderr",
     "output_type": "stream",
     "text": [
      "\r",
      " 19%|█▉        | 69/360 [00:29<01:59,  2.44it/s]"
     ]
    },
    {
     "name": "stdout",
     "output_type": "stream",
     "text": [
      "local Optima\n",
      "y_mean 5.788842710146347\n",
      "mean_mean 5.782774092709855\n",
      "abs(round((mean_mean-y_mean)/y_mean)) 0.0\n",
      "local Optima\n",
      "y_mean 5.788842710146347\n",
      "mean_mean 5.763274504163466\n",
      "abs(round((mean_mean-y_mean)/y_mean)) 0.0\n"
     ]
    },
    {
     "name": "stderr",
     "output_type": "stream",
     "text": [
      "\r",
      " 19%|█▉        | 70/360 [00:29<02:00,  2.41it/s]"
     ]
    },
    {
     "name": "stdout",
     "output_type": "stream",
     "text": [
      "local Optima\n",
      "y_mean 7.505412501190729\n",
      "mean_mean 7.504674686911995\n",
      "abs(round((mean_mean-y_mean)/y_mean)) 0.0\n",
      "local Optima\n",
      "y_mean 7.505412501190729\n",
      "mean_mean 7.504674670770264\n",
      "abs(round((mean_mean-y_mean)/y_mean)) 0.0\n"
     ]
    },
    {
     "name": "stderr",
     "output_type": "stream",
     "text": [
      "\r",
      " 20%|█▉        | 71/360 [00:30<01:58,  2.43it/s]"
     ]
    },
    {
     "name": "stdout",
     "output_type": "stream",
     "text": [
      "local Optima\n",
      "y_mean 7.107378400899934\n",
      "mean_mean 7.1948214210289985\n",
      "abs(round((mean_mean-y_mean)/y_mean)) 0.0\n",
      "local Optima\n",
      "y_mean 7.107378400899934\n",
      "mean_mean 7.100691632421318\n",
      "abs(round((mean_mean-y_mean)/y_mean)) 0.0\n"
     ]
    },
    {
     "name": "stderr",
     "output_type": "stream",
     "text": [
      "\r",
      " 20%|██        | 72/360 [00:30<02:00,  2.40it/s]"
     ]
    },
    {
     "name": "stdout",
     "output_type": "stream",
     "text": [
      "local Optima\n",
      "y_mean 7.769033271844297\n",
      "mean_mean 7.768150674249133\n",
      "abs(round((mean_mean-y_mean)/y_mean)) 0.0\n",
      "local Optima\n",
      "y_mean 7.769033271844297\n",
      "mean_mean 7.768150639062364\n",
      "abs(round((mean_mean-y_mean)/y_mean)) 0.0\n"
     ]
    },
    {
     "name": "stderr",
     "output_type": "stream",
     "text": [
      "\r",
      " 20%|██        | 73/360 [00:30<01:58,  2.42it/s]"
     ]
    },
    {
     "name": "stdout",
     "output_type": "stream",
     "text": [
      "local Optima\n",
      "y_mean 4.162155015484986\n",
      "mean_mean 4.323636721686401\n",
      "abs(round((mean_mean-y_mean)/y_mean)) 0.0\n",
      "local Optima\n",
      "y_mean 4.162155015484986\n",
      "mean_mean 4.083743377307309\n",
      "abs(round((mean_mean-y_mean)/y_mean)) 0.0\n"
     ]
    },
    {
     "name": "stderr",
     "output_type": "stream",
     "text": [
      "\r",
      " 21%|██        | 74/360 [00:31<01:58,  2.41it/s]"
     ]
    },
    {
     "name": "stdout",
     "output_type": "stream",
     "text": [
      "local Optima\n",
      "y_mean 6.178088549416858\n",
      "mean_mean 6.174956128068346\n",
      "abs(round((mean_mean-y_mean)/y_mean)) 0.0\n",
      "local Optima\n",
      "y_mean 6.178088549416858\n",
      "mean_mean 6.174959199891814\n",
      "abs(round((mean_mean-y_mean)/y_mean)) 0.0\n"
     ]
    },
    {
     "name": "stderr",
     "output_type": "stream",
     "text": [
      "\r",
      " 21%|██        | 75/360 [00:31<01:57,  2.42it/s]"
     ]
    },
    {
     "name": "stdout",
     "output_type": "stream",
     "text": [
      "local Optima\n",
      "y_mean 5.332057319527231\n",
      "mean_mean 5.128242867909445\n",
      "abs(round((mean_mean-y_mean)/y_mean)) 0.0\n",
      "local Optima\n",
      "y_mean 5.332057319527231\n",
      "mean_mean 5.314363970662546\n",
      "abs(round((mean_mean-y_mean)/y_mean)) 0.0\n"
     ]
    },
    {
     "name": "stderr",
     "output_type": "stream",
     "text": [
      "\r",
      " 21%|██        | 76/360 [00:32<01:56,  2.43it/s]"
     ]
    },
    {
     "name": "stdout",
     "output_type": "stream",
     "text": [
      "local Optima\n",
      "y_mean 6.917852682285549\n",
      "mean_mean 6.916723699993195\n",
      "abs(round((mean_mean-y_mean)/y_mean)) 0.0\n",
      "local Optima\n",
      "y_mean 6.917852682285549\n",
      "mean_mean 6.916717217191884\n",
      "abs(round((mean_mean-y_mean)/y_mean)) 0.0\n"
     ]
    },
    {
     "name": "stderr",
     "output_type": "stream",
     "text": [
      "\r",
      " 21%|██▏       | 77/360 [00:32<01:55,  2.44it/s]"
     ]
    },
    {
     "name": "stdout",
     "output_type": "stream",
     "text": [
      "local Optima\n",
      "y_mean 5.92364438112338\n",
      "mean_mean 5.926558931959493\n",
      "abs(round((mean_mean-y_mean)/y_mean)) 0.0\n",
      "local Optima\n",
      "y_mean 5.92364438112338\n",
      "mean_mean 5.918284722608604\n",
      "abs(round((mean_mean-y_mean)/y_mean)) 0.0\n"
     ]
    },
    {
     "name": "stderr",
     "output_type": "stream",
     "text": [
      "\r",
      " 22%|██▏       | 78/360 [00:32<01:56,  2.42it/s]"
     ]
    },
    {
     "name": "stdout",
     "output_type": "stream",
     "text": [
      "local Optima\n",
      "y_mean 6.862071530900493\n",
      "mean_mean 6.861214712871254\n",
      "abs(round((mean_mean-y_mean)/y_mean)) 0.0\n",
      "local Optima\n",
      "y_mean 6.862071530900493\n",
      "mean_mean 6.861214660602214\n",
      "abs(round((mean_mean-y_mean)/y_mean)) 0.0\n"
     ]
    },
    {
     "name": "stderr",
     "output_type": "stream",
     "text": [
      "\r",
      " 22%|██▏       | 79/360 [00:33<01:54,  2.45it/s]"
     ]
    },
    {
     "name": "stdout",
     "output_type": "stream",
     "text": [
      "local Optima\n",
      "y_mean 4.952194659895949\n",
      "mean_mean 4.929478760956298\n",
      "abs(round((mean_mean-y_mean)/y_mean)) 0.0\n",
      "local Optima\n",
      "y_mean 4.952194659895949\n",
      "mean_mean 4.917573141678881\n",
      "abs(round((mean_mean-y_mean)/y_mean)) 0.0\n"
     ]
    },
    {
     "name": "stderr",
     "output_type": "stream",
     "text": [
      "\r",
      " 22%|██▏       | 80/360 [00:33<01:54,  2.44it/s]"
     ]
    },
    {
     "name": "stdout",
     "output_type": "stream",
     "text": [
      "local Optima\n",
      "y_mean 6.391992496063572\n",
      "mean_mean 6.389687065882333\n",
      "abs(round((mean_mean-y_mean)/y_mean)) 0.0\n",
      "local Optima\n",
      "y_mean 6.391992496063572\n",
      "mean_mean 6.389687065505956\n",
      "abs(round((mean_mean-y_mean)/y_mean)) 0.0\n"
     ]
    },
    {
     "name": "stderr",
     "output_type": "stream",
     "text": [
      "\r",
      " 22%|██▎       | 81/360 [00:34<01:53,  2.46it/s]"
     ]
    },
    {
     "name": "stdout",
     "output_type": "stream",
     "text": [
      "local Optima\n",
      "y_mean 6.09536059132363\n",
      "mean_mean 5.930211067915255\n",
      "abs(round((mean_mean-y_mean)/y_mean)) 0.0\n",
      "local Optima\n",
      "y_mean 6.09536059132363\n",
      "mean_mean 6.073595250392516\n",
      "abs(round((mean_mean-y_mean)/y_mean)) 0.0\n"
     ]
    },
    {
     "name": "stderr",
     "output_type": "stream",
     "text": [
      "\r",
      " 23%|██▎       | 82/360 [00:34<01:53,  2.46it/s]"
     ]
    },
    {
     "name": "stdout",
     "output_type": "stream",
     "text": [
      "local Optima\n",
      "y_mean 8.328902442632634\n",
      "mean_mean 8.325883412354372\n",
      "abs(round((mean_mean-y_mean)/y_mean)) 0.0\n",
      "local Optima\n",
      "y_mean 8.328902442632634\n",
      "mean_mean 8.325881511636412\n",
      "abs(round((mean_mean-y_mean)/y_mean)) 0.0\n"
     ]
    },
    {
     "name": "stderr",
     "output_type": "stream",
     "text": [
      "\r",
      " 23%|██▎       | 83/360 [00:34<01:52,  2.47it/s]"
     ]
    },
    {
     "name": "stdout",
     "output_type": "stream",
     "text": [
      "local Optima\n",
      "y_mean 7.246205287212949\n",
      "mean_mean 7.001146195622875\n",
      "abs(round((mean_mean-y_mean)/y_mean)) 0.0\n",
      "local Optima\n",
      "y_mean 7.246205287212949\n",
      "mean_mean 7.219689766414345\n",
      "abs(round((mean_mean-y_mean)/y_mean)) 0.0\n"
     ]
    },
    {
     "name": "stderr",
     "output_type": "stream",
     "text": [
      "\r",
      " 23%|██▎       | 84/360 [00:35<01:53,  2.44it/s]"
     ]
    },
    {
     "name": "stdout",
     "output_type": "stream",
     "text": [
      "local Optima\n",
      "y_mean 8.831580735272654\n",
      "mean_mean 8.830015643663636\n",
      "abs(round((mean_mean-y_mean)/y_mean)) 0.0\n",
      "local Optima\n",
      "y_mean 8.831580735272654\n",
      "mean_mean 8.83001564281107\n",
      "abs(round((mean_mean-y_mean)/y_mean)) 0.0\n"
     ]
    },
    {
     "name": "stderr",
     "output_type": "stream",
     "text": [
      "\r",
      " 24%|██▎       | 85/360 [00:35<01:51,  2.46it/s]"
     ]
    },
    {
     "name": "stdout",
     "output_type": "stream",
     "text": [
      "local Optima\n",
      "y_mean 4.5812490849652034\n",
      "mean_mean 4.497853904518268\n",
      "abs(round((mean_mean-y_mean)/y_mean)) 0.0\n",
      "local Optima\n",
      "y_mean 4.5812490849652034\n",
      "mean_mean 4.497133156946418\n",
      "abs(round((mean_mean-y_mean)/y_mean)) 0.0\n"
     ]
    },
    {
     "name": "stderr",
     "output_type": "stream",
     "text": [
      "\r",
      " 24%|██▍       | 86/360 [00:36<01:53,  2.41it/s]"
     ]
    },
    {
     "name": "stdout",
     "output_type": "stream",
     "text": [
      "local Optima\n",
      "y_mean 8.214572875781975\n",
      "mean_mean 8.212289483419013\n",
      "abs(round((mean_mean-y_mean)/y_mean)) 0.0\n",
      "local Optima\n",
      "y_mean 8.214572875781975\n",
      "mean_mean 8.21229015378648\n",
      "abs(round((mean_mean-y_mean)/y_mean)) 0.0\n"
     ]
    },
    {
     "name": "stderr",
     "output_type": "stream",
     "text": [
      "\r",
      " 24%|██▍       | 87/360 [00:36<01:52,  2.43it/s]"
     ]
    },
    {
     "name": "stdout",
     "output_type": "stream",
     "text": [
      "local Optima\n",
      "y_mean 4.836986914267663\n",
      "mean_mean 4.7795210868030695\n",
      "abs(round((mean_mean-y_mean)/y_mean)) 0.0\n",
      "local Optima\n",
      "y_mean 4.836986914267663\n",
      "mean_mean 4.77945487967867\n",
      "abs(round((mean_mean-y_mean)/y_mean)) 0.0\n"
     ]
    },
    {
     "name": "stderr",
     "output_type": "stream",
     "text": [
      "\r",
      " 24%|██▍       | 88/360 [00:37<01:52,  2.43it/s]"
     ]
    },
    {
     "name": "stdout",
     "output_type": "stream",
     "text": [
      "local Optima\n",
      "y_mean 7.71768085684618\n",
      "mean_mean 7.7157424326393595\n",
      "abs(round((mean_mean-y_mean)/y_mean)) 0.0\n",
      "local Optima\n",
      "y_mean 7.71768085684618\n",
      "mean_mean 7.715741204857806\n",
      "abs(round((mean_mean-y_mean)/y_mean)) 0.0\n",
      "Fit Cholesky decomposition was not successful.\n"
     ]
    },
    {
     "name": "stderr",
     "output_type": "stream",
     "text": [
      "\r",
      " 25%|██▍       | 89/360 [00:37<02:12,  2.05it/s]"
     ]
    },
    {
     "name": "stdout",
     "output_type": "stream",
     "text": [
      "local Optima\n",
      "y_mean 7.367011361576179\n",
      "mean_mean 7.36340012629071\n",
      "abs(round((mean_mean-y_mean)/y_mean)) 0.0\n",
      "local Optima\n",
      "y_mean 7.367011361576179\n",
      "mean_mean 7.36340012629071\n",
      "abs(round((mean_mean-y_mean)/y_mean)) 0.0\n",
      "local Optima\n",
      "y_mean 7.367011361576179\n",
      "mean_mean 7.363400046203883\n",
      "abs(round((mean_mean-y_mean)/y_mean)) 0.0\n"
     ]
    },
    {
     "name": "stderr",
     "output_type": "stream",
     "text": [
      "\r",
      " 25%|██▌       | 90/360 [00:38<02:06,  2.14it/s]"
     ]
    },
    {
     "name": "stdout",
     "output_type": "stream",
     "text": [
      "local Optima\n",
      "y_mean 8.373283802599792\n",
      "mean_mean 8.372870824990477\n",
      "abs(round((mean_mean-y_mean)/y_mean)) 0.0\n",
      "local Optima\n",
      "y_mean 8.373283802599792\n",
      "mean_mean 8.372534508998665\n",
      "abs(round((mean_mean-y_mean)/y_mean)) 0.0\n"
     ]
    },
    {
     "name": "stderr",
     "output_type": "stream",
     "text": [
      "\r",
      " 25%|██▌       | 91/360 [00:38<02:00,  2.24it/s]"
     ]
    },
    {
     "name": "stdout",
     "output_type": "stream",
     "text": [
      "local Optima\n",
      "y_mean 5.536342957782197\n",
      "mean_mean 5.486274075616473\n",
      "abs(round((mean_mean-y_mean)/y_mean)) 0.0\n",
      "local Optima\n",
      "y_mean 5.536342957782197\n",
      "mean_mean 5.472926385257932\n",
      "abs(round((mean_mean-y_mean)/y_mean)) 0.0\n"
     ]
    },
    {
     "name": "stderr",
     "output_type": "stream",
     "text": [
      "\r",
      " 26%|██▌       | 92/360 [00:38<01:56,  2.29it/s]"
     ]
    },
    {
     "name": "stdout",
     "output_type": "stream",
     "text": [
      "local Optima\n",
      "y_mean 7.467648666981535\n",
      "mean_mean 7.464894600461165\n",
      "abs(round((mean_mean-y_mean)/y_mean)) 0.0\n",
      "local Optima\n",
      "y_mean 7.467648666981535\n",
      "mean_mean 7.464894711323926\n",
      "abs(round((mean_mean-y_mean)/y_mean)) 0.0\n"
     ]
    },
    {
     "name": "stderr",
     "output_type": "stream",
     "text": [
      "\r",
      " 26%|██▌       | 93/360 [00:39<01:53,  2.36it/s]"
     ]
    },
    {
     "name": "stdout",
     "output_type": "stream",
     "text": [
      "local Optima\n",
      "y_mean 6.113568477802495\n",
      "mean_mean 6.174232720042624\n",
      "abs(round((mean_mean-y_mean)/y_mean)) 0.0\n",
      "local Optima\n",
      "y_mean 6.113568477802495\n",
      "mean_mean 6.0826217706837635\n",
      "abs(round((mean_mean-y_mean)/y_mean)) 0.0\n"
     ]
    },
    {
     "name": "stderr",
     "output_type": "stream",
     "text": [
      "\r",
      " 26%|██▌       | 94/360 [00:39<01:51,  2.38it/s]"
     ]
    },
    {
     "name": "stdout",
     "output_type": "stream",
     "text": [
      "local Optima\n",
      "y_mean 7.477799640590204\n",
      "mean_mean 7.476142226156155\n",
      "abs(round((mean_mean-y_mean)/y_mean)) 0.0\n",
      "local Optima\n",
      "y_mean 7.477799640590204\n",
      "mean_mean 7.476142599336709\n",
      "abs(round((mean_mean-y_mean)/y_mean)) 0.0\n"
     ]
    },
    {
     "name": "stderr",
     "output_type": "stream",
     "text": [
      "\r",
      " 26%|██▋       | 95/360 [00:40<01:49,  2.43it/s]"
     ]
    },
    {
     "name": "stdout",
     "output_type": "stream",
     "text": [
      "local Optima\n",
      "y_mean 6.492138713740675\n",
      "mean_mean 6.382581393938511\n",
      "abs(round((mean_mean-y_mean)/y_mean)) 0.0\n",
      "local Optima\n",
      "y_mean 6.492138713740675\n",
      "mean_mean 6.468277681394943\n",
      "abs(round((mean_mean-y_mean)/y_mean)) 0.0\n"
     ]
    },
    {
     "name": "stderr",
     "output_type": "stream",
     "text": [
      "\r",
      " 27%|██▋       | 96/360 [00:40<01:48,  2.43it/s]"
     ]
    },
    {
     "name": "stdout",
     "output_type": "stream",
     "text": [
      "local Optima\n",
      "y_mean 8.021207415603548\n",
      "mean_mean 8.02041332077479\n",
      "abs(round((mean_mean-y_mean)/y_mean)) 0.0\n",
      "local Optima\n",
      "y_mean 8.021207415603548\n",
      "mean_mean 8.020413319333814\n",
      "abs(round((mean_mean-y_mean)/y_mean)) 0.0\n"
     ]
    },
    {
     "name": "stderr",
     "output_type": "stream",
     "text": [
      "\r",
      " 27%|██▋       | 97/360 [00:40<01:47,  2.44it/s]"
     ]
    },
    {
     "name": "stdout",
     "output_type": "stream",
     "text": [
      "local Optima\n",
      "y_mean 5.770676610983782\n",
      "mean_mean 5.702537150533704\n",
      "abs(round((mean_mean-y_mean)/y_mean)) 0.0\n",
      "local Optima\n",
      "y_mean 5.770676610983782\n",
      "mean_mean 5.7025379489624735\n",
      "abs(round((mean_mean-y_mean)/y_mean)) 0.0\n"
     ]
    },
    {
     "name": "stderr",
     "output_type": "stream",
     "text": [
      "\r",
      " 27%|██▋       | 98/360 [00:41<01:52,  2.33it/s]"
     ]
    },
    {
     "name": "stdout",
     "output_type": "stream",
     "text": [
      "local Optima\n",
      "y_mean 8.157465637894544\n",
      "mean_mean 8.16680015678799\n",
      "abs(round((mean_mean-y_mean)/y_mean)) 0.0\n",
      "local Optima\n",
      "y_mean 8.157465637894544\n",
      "mean_mean 8.155328537004658\n",
      "abs(round((mean_mean-y_mean)/y_mean)) 0.0\n"
     ]
    },
    {
     "name": "stderr",
     "output_type": "stream",
     "text": [
      "\r",
      " 28%|██▊       | 99/360 [00:41<01:49,  2.38it/s]"
     ]
    },
    {
     "name": "stdout",
     "output_type": "stream",
     "text": [
      "local Optima\n",
      "y_mean 6.496690417277433\n",
      "mean_mean 6.477075976908696\n",
      "abs(round((mean_mean-y_mean)/y_mean)) 0.0\n",
      "local Optima\n",
      "y_mean 6.496690417277433\n",
      "mean_mean 6.4505044966267215\n",
      "abs(round((mean_mean-y_mean)/y_mean)) 0.0\n"
     ]
    },
    {
     "name": "stderr",
     "output_type": "stream",
     "text": [
      "\r",
      " 28%|██▊       | 100/360 [00:42<01:47,  2.41it/s]"
     ]
    },
    {
     "name": "stdout",
     "output_type": "stream",
     "text": [
      "local Optima\n",
      "y_mean 8.223272920110418\n",
      "mean_mean 8.22211607971735\n",
      "abs(round((mean_mean-y_mean)/y_mean)) 0.0\n",
      "local Optima\n",
      "y_mean 8.223272920110418\n",
      "mean_mean 8.221716580281372\n",
      "abs(round((mean_mean-y_mean)/y_mean)) 0.0\n"
     ]
    },
    {
     "name": "stderr",
     "output_type": "stream",
     "text": [
      "\r",
      " 28%|██▊       | 101/360 [00:42<01:45,  2.45it/s]"
     ]
    },
    {
     "name": "stdout",
     "output_type": "stream",
     "text": [
      "local Optima\n",
      "y_mean 6.576687295813198\n",
      "mean_mean 6.5643875290912375\n",
      "abs(round((mean_mean-y_mean)/y_mean)) 0.0\n",
      "local Optima\n",
      "y_mean 6.576687295813198\n",
      "mean_mean 6.546186417235557\n",
      "abs(round((mean_mean-y_mean)/y_mean)) 0.0\n"
     ]
    },
    {
     "name": "stderr",
     "output_type": "stream",
     "text": [
      "\r",
      " 28%|██▊       | 102/360 [00:43<01:44,  2.46it/s]"
     ]
    },
    {
     "name": "stdout",
     "output_type": "stream",
     "text": [
      "local Optima\n",
      "y_mean 8.149079001825848\n",
      "mean_mean 8.16815080077314\n",
      "abs(round((mean_mean-y_mean)/y_mean)) 0.0\n",
      "local Optima\n",
      "y_mean 8.149079001825848\n",
      "mean_mean 8.14821437629556\n",
      "abs(round((mean_mean-y_mean)/y_mean)) 0.0\n"
     ]
    },
    {
     "name": "stderr",
     "output_type": "stream",
     "text": [
      "\r",
      " 29%|██▊       | 103/360 [00:43<01:44,  2.45it/s]"
     ]
    },
    {
     "name": "stdout",
     "output_type": "stream",
     "text": [
      "local Optima\n",
      "y_mean 4.335568632329541\n",
      "mean_mean 4.265855013125421\n",
      "abs(round((mean_mean-y_mean)/y_mean)) 0.0\n",
      "local Optima\n",
      "y_mean 4.335568632329541\n",
      "mean_mean 4.265846213577292\n",
      "abs(round((mean_mean-y_mean)/y_mean)) 0.0\n"
     ]
    },
    {
     "name": "stderr",
     "output_type": "stream",
     "text": [
      "\r",
      " 29%|██▉       | 104/360 [00:43<01:43,  2.46it/s]"
     ]
    },
    {
     "name": "stdout",
     "output_type": "stream",
     "text": [
      "local Optima\n",
      "y_mean 8.17706754911172\n",
      "mean_mean 8.175200101605041\n",
      "abs(round((mean_mean-y_mean)/y_mean)) 0.0\n",
      "local Optima\n",
      "y_mean 8.17706754911172\n",
      "mean_mean 8.174132263308199\n",
      "abs(round((mean_mean-y_mean)/y_mean)) 0.0\n"
     ]
    },
    {
     "name": "stderr",
     "output_type": "stream",
     "text": [
      "\r",
      " 29%|██▉       | 105/360 [00:44<01:42,  2.49it/s]"
     ]
    },
    {
     "name": "stdout",
     "output_type": "stream",
     "text": [
      "local Optima\n",
      "y_mean 5.662199005047076\n",
      "mean_mean 5.355384037981694\n",
      "abs(round((mean_mean-y_mean)/y_mean)) 0.0\n",
      "local Optima\n",
      "y_mean 5.662199005047076\n",
      "mean_mean 5.616475619555827\n",
      "abs(round((mean_mean-y_mean)/y_mean)) 0.0\n"
     ]
    },
    {
     "name": "stderr",
     "output_type": "stream",
     "text": [
      "\r",
      " 29%|██▉       | 106/360 [00:44<01:43,  2.46it/s]"
     ]
    },
    {
     "name": "stdout",
     "output_type": "stream",
     "text": [
      "local Optima\n",
      "y_mean 8.561445353667999\n",
      "mean_mean 8.56053441061433\n",
      "abs(round((mean_mean-y_mean)/y_mean)) 0.0\n",
      "local Optima\n",
      "y_mean 8.561445353667999\n",
      "mean_mean 8.56053440597033\n",
      "abs(round((mean_mean-y_mean)/y_mean)) 0.0\n"
     ]
    },
    {
     "name": "stderr",
     "output_type": "stream",
     "text": [
      "\r",
      " 30%|██▉       | 107/360 [00:45<01:42,  2.48it/s]"
     ]
    },
    {
     "name": "stdout",
     "output_type": "stream",
     "text": [
      "local Optima\n",
      "y_mean 6.4436119635046625\n",
      "mean_mean 6.325008622299514\n",
      "abs(round((mean_mean-y_mean)/y_mean)) 0.0\n",
      "local Optima\n",
      "y_mean 6.4436119635046625\n",
      "mean_mean 6.425132687388415\n",
      "abs(round((mean_mean-y_mean)/y_mean)) 0.0\n"
     ]
    },
    {
     "name": "stderr",
     "output_type": "stream",
     "text": [
      "\r",
      " 30%|███       | 108/360 [00:45<01:43,  2.44it/s]"
     ]
    },
    {
     "name": "stdout",
     "output_type": "stream",
     "text": [
      "local Optima\n",
      "y_mean 8.384414567808777\n",
      "mean_mean 8.383782774142052\n",
      "abs(round((mean_mean-y_mean)/y_mean)) 0.0\n",
      "local Optima\n",
      "y_mean 8.384414567808777\n",
      "mean_mean 8.383782772310315\n",
      "abs(round((mean_mean-y_mean)/y_mean)) 0.0\n"
     ]
    },
    {
     "name": "stderr",
     "output_type": "stream",
     "text": [
      "\r",
      " 30%|███       | 109/360 [00:45<01:41,  2.47it/s]"
     ]
    },
    {
     "name": "stdout",
     "output_type": "stream",
     "text": [
      "local Optima\n",
      "y_mean 5.337340512514353\n",
      "mean_mean 5.024091516743959\n",
      "abs(round((mean_mean-y_mean)/y_mean)) 0.0\n",
      "local Optima\n",
      "y_mean 5.337340512514353\n",
      "mean_mean 5.27563068658705\n",
      "abs(round((mean_mean-y_mean)/y_mean)) 0.0\n"
     ]
    },
    {
     "name": "stderr",
     "output_type": "stream",
     "text": [
      "\r",
      " 31%|███       | 110/360 [00:46<01:41,  2.45it/s]"
     ]
    },
    {
     "name": "stdout",
     "output_type": "stream",
     "text": [
      "local Optima\n",
      "y_mean 8.449499514792802\n",
      "mean_mean 8.446332921723068\n",
      "abs(round((mean_mean-y_mean)/y_mean)) 0.0\n",
      "local Optima\n",
      "y_mean 8.449499514792802\n",
      "mean_mean 8.446332955294643\n",
      "abs(round((mean_mean-y_mean)/y_mean)) 0.0\n"
     ]
    },
    {
     "name": "stderr",
     "output_type": "stream",
     "text": [
      "\r",
      " 31%|███       | 111/360 [00:46<01:40,  2.48it/s]"
     ]
    },
    {
     "name": "stdout",
     "output_type": "stream",
     "text": [
      "local Optima\n",
      "y_mean 6.128253511085884\n",
      "mean_mean 6.115831880863367\n",
      "abs(round((mean_mean-y_mean)/y_mean)) 0.0\n",
      "local Optima\n",
      "y_mean 6.128253511085884\n",
      "mean_mean 6.099535077785767\n",
      "abs(round((mean_mean-y_mean)/y_mean)) 0.0\n"
     ]
    },
    {
     "name": "stderr",
     "output_type": "stream",
     "text": [
      "\r",
      " 31%|███       | 112/360 [00:47<01:41,  2.45it/s]"
     ]
    },
    {
     "name": "stdout",
     "output_type": "stream",
     "text": [
      "local Optima\n",
      "y_mean 8.242015780992622\n",
      "mean_mean 8.241103555723784\n",
      "abs(round((mean_mean-y_mean)/y_mean)) 0.0\n",
      "local Optima\n",
      "y_mean 8.242015780992622\n",
      "mean_mean 8.241103839497544\n",
      "abs(round((mean_mean-y_mean)/y_mean)) 0.0\n"
     ]
    },
    {
     "name": "stderr",
     "output_type": "stream",
     "text": [
      "\r",
      " 31%|███▏      | 113/360 [00:47<01:39,  2.47it/s]"
     ]
    },
    {
     "name": "stdout",
     "output_type": "stream",
     "text": [
      "local Optima\n",
      "y_mean 6.6953265592474125\n",
      "mean_mean 6.67520892575863\n",
      "abs(round((mean_mean-y_mean)/y_mean)) 0.0\n",
      "local Optima\n",
      "y_mean 6.6953265592474125\n",
      "mean_mean 6.666069836498655\n",
      "abs(round((mean_mean-y_mean)/y_mean)) 0.0\n"
     ]
    },
    {
     "name": "stderr",
     "output_type": "stream",
     "text": [
      "\r",
      " 32%|███▏      | 114/360 [00:47<01:40,  2.44it/s]"
     ]
    },
    {
     "name": "stdout",
     "output_type": "stream",
     "text": [
      "local Optima\n",
      "y_mean 8.404620534108576\n",
      "mean_mean 8.403947708015943\n",
      "abs(round((mean_mean-y_mean)/y_mean)) 0.0\n",
      "local Optima\n",
      "y_mean 8.404620534108576\n",
      "mean_mean 8.403947575962043\n",
      "abs(round((mean_mean-y_mean)/y_mean)) 0.0\n"
     ]
    },
    {
     "name": "stderr",
     "output_type": "stream",
     "text": [
      "\r",
      " 32%|███▏      | 115/360 [00:48<01:39,  2.47it/s]"
     ]
    },
    {
     "name": "stdout",
     "output_type": "stream",
     "text": [
      "local Optima\n",
      "y_mean 4.391854195503145\n",
      "mean_mean 4.618903240352772\n",
      "abs(round((mean_mean-y_mean)/y_mean)) 0.0\n",
      "local Optima\n",
      "y_mean 4.391854195503145\n",
      "mean_mean 4.288222325908258\n",
      "abs(round((mean_mean-y_mean)/y_mean)) 0.0\n"
     ]
    },
    {
     "name": "stderr",
     "output_type": "stream",
     "text": [
      "\r",
      " 32%|███▏      | 116/360 [00:48<01:38,  2.47it/s]"
     ]
    },
    {
     "name": "stdout",
     "output_type": "stream",
     "text": [
      "local Optima\n",
      "y_mean 7.996632029601963\n",
      "mean_mean 7.992987698740093\n",
      "abs(round((mean_mean-y_mean)/y_mean)) 0.0\n",
      "local Optima\n",
      "y_mean 7.996632029601963\n",
      "mean_mean 7.992735363293076\n",
      "abs(round((mean_mean-y_mean)/y_mean)) 0.0\n"
     ]
    },
    {
     "name": "stderr",
     "output_type": "stream",
     "text": [
      "\r",
      " 32%|███▎      | 117/360 [00:49<01:37,  2.50it/s]"
     ]
    },
    {
     "name": "stdout",
     "output_type": "stream",
     "text": [
      "local Optima\n",
      "y_mean 4.63349970611058\n",
      "mean_mean 4.690344101284955\n",
      "abs(round((mean_mean-y_mean)/y_mean)) 0.0\n",
      "local Optima\n",
      "y_mean 4.63349970611058\n",
      "mean_mean 4.571620666332586\n",
      "abs(round((mean_mean-y_mean)/y_mean)) 0.0\n"
     ]
    },
    {
     "name": "stderr",
     "output_type": "stream",
     "text": [
      "\r",
      " 33%|███▎      | 118/360 [00:49<01:37,  2.48it/s]"
     ]
    },
    {
     "name": "stdout",
     "output_type": "stream",
     "text": [
      "local Optima\n",
      "y_mean 7.453726076498774\n",
      "mean_mean 7.45071410827943\n",
      "abs(round((mean_mean-y_mean)/y_mean)) 0.0\n",
      "local Optima\n",
      "y_mean 7.453726076498774\n",
      "mean_mean 7.450663485482915\n",
      "abs(round((mean_mean-y_mean)/y_mean)) 0.0\n"
     ]
    },
    {
     "name": "stderr",
     "output_type": "stream",
     "text": [
      "\r",
      " 33%|███▎      | 119/360 [00:49<01:37,  2.47it/s]"
     ]
    },
    {
     "name": "stdout",
     "output_type": "stream",
     "text": [
      "local Optima\n",
      "y_mean 7.352454458921866\n",
      "mean_mean 7.416956745426923\n",
      "abs(round((mean_mean-y_mean)/y_mean)) 0.0\n",
      "local Optima\n",
      "y_mean 7.352454458921866\n",
      "mean_mean 7.327620447156959\n",
      "abs(round((mean_mean-y_mean)/y_mean)) 0.0\n"
     ]
    },
    {
     "name": "stderr",
     "output_type": "stream",
     "text": [
      "\r",
      " 33%|███▎      | 120/360 [00:50<01:37,  2.46it/s]"
     ]
    },
    {
     "name": "stdout",
     "output_type": "stream",
     "text": [
      "local Optima\n",
      "y_mean 8.789884072634797\n",
      "mean_mean 8.788888901867635\n",
      "abs(round((mean_mean-y_mean)/y_mean)) 0.0\n",
      "local Optima\n",
      "y_mean 8.789884072634797\n",
      "mean_mean 8.788888802891451\n",
      "abs(round((mean_mean-y_mean)/y_mean)) 0.0\n"
     ]
    },
    {
     "name": "stderr",
     "output_type": "stream",
     "text": [
      "\r",
      " 34%|███▎      | 121/360 [00:50<01:36,  2.48it/s]"
     ]
    },
    {
     "name": "stdout",
     "output_type": "stream",
     "text": [
      "local Optima\n",
      "y_mean 4.888090791633813\n",
      "mean_mean 5.198420960946997\n",
      "abs(round((mean_mean-y_mean)/y_mean)) 0.0\n",
      "local Optima\n",
      "y_mean 4.888090791633813\n",
      "mean_mean 4.810667602005132\n",
      "abs(round((mean_mean-y_mean)/y_mean)) 0.0\n"
     ]
    },
    {
     "name": "stderr",
     "output_type": "stream",
     "text": [
      "\r",
      " 34%|███▍      | 122/360 [00:51<01:36,  2.45it/s]"
     ]
    },
    {
     "name": "stdout",
     "output_type": "stream",
     "text": [
      "local Optima\n",
      "y_mean 7.319665667499832\n",
      "mean_mean 7.317159525684822\n",
      "abs(round((mean_mean-y_mean)/y_mean)) 0.0\n",
      "local Optima\n",
      "y_mean 7.319665667499832\n",
      "mean_mean 7.3171600072456435\n",
      "abs(round((mean_mean-y_mean)/y_mean)) 0.0\n"
     ]
    },
    {
     "name": "stderr",
     "output_type": "stream",
     "text": [
      "\r",
      " 34%|███▍      | 123/360 [00:51<01:35,  2.47it/s]"
     ]
    },
    {
     "name": "stdout",
     "output_type": "stream",
     "text": [
      "local Optima\n",
      "y_mean 6.13460186701036\n",
      "mean_mean 6.01667844780422\n",
      "abs(round((mean_mean-y_mean)/y_mean)) 0.0\n",
      "local Optima\n",
      "y_mean 6.13460186701036\n",
      "mean_mean 6.107405103493883\n",
      "abs(round((mean_mean-y_mean)/y_mean)) 0.0\n"
     ]
    },
    {
     "name": "stderr",
     "output_type": "stream",
     "text": [
      "\r",
      " 34%|███▍      | 124/360 [00:51<01:35,  2.46it/s]"
     ]
    },
    {
     "name": "stdout",
     "output_type": "stream",
     "text": [
      "local Optima\n",
      "y_mean 8.448861644582017\n",
      "mean_mean 8.448044305581876\n",
      "abs(round((mean_mean-y_mean)/y_mean)) 0.0\n",
      "local Optima\n",
      "y_mean 8.448861644582017\n",
      "mean_mean 8.447556793727541\n",
      "abs(round((mean_mean-y_mean)/y_mean)) 0.0\n"
     ]
    },
    {
     "name": "stderr",
     "output_type": "stream",
     "text": [
      "\r",
      " 35%|███▍      | 125/360 [00:52<01:34,  2.48it/s]"
     ]
    },
    {
     "name": "stdout",
     "output_type": "stream",
     "text": [
      "local Optima\n",
      "y_mean 7.57389637065456\n",
      "mean_mean 7.337170857741795\n",
      "abs(round((mean_mean-y_mean)/y_mean)) 0.0\n",
      "local Optima\n",
      "y_mean 7.57389637065456\n",
      "mean_mean 7.556837741226117\n",
      "abs(round((mean_mean-y_mean)/y_mean)) 0.0\n"
     ]
    },
    {
     "name": "stderr",
     "output_type": "stream",
     "text": [
      "\r",
      " 35%|███▌      | 126/360 [00:52<01:35,  2.45it/s]"
     ]
    },
    {
     "name": "stdout",
     "output_type": "stream",
     "text": [
      "local Optima\n",
      "y_mean 9.568555483842559\n",
      "mean_mean 9.567705023190845\n",
      "abs(round((mean_mean-y_mean)/y_mean)) 0.0\n",
      "local Optima\n",
      "y_mean 9.568555483842559\n",
      "mean_mean 9.567704853307914\n",
      "abs(round((mean_mean-y_mean)/y_mean)) 0.0\n"
     ]
    },
    {
     "name": "stderr",
     "output_type": "stream",
     "text": [
      "\r",
      " 35%|███▌      | 127/360 [00:53<01:35,  2.44it/s]"
     ]
    },
    {
     "name": "stdout",
     "output_type": "stream",
     "text": [
      "local Optima\n",
      "y_mean 5.147148458099263\n",
      "mean_mean 5.091748417685642\n",
      "abs(round((mean_mean-y_mean)/y_mean)) 0.0\n",
      "local Optima\n",
      "y_mean 5.147148458099263\n",
      "mean_mean 5.091750579743482\n",
      "abs(round((mean_mean-y_mean)/y_mean)) 0.0\n"
     ]
    },
    {
     "name": "stderr",
     "output_type": "stream",
     "text": [
      "\r",
      " 36%|███▌      | 128/360 [00:53<01:34,  2.45it/s]"
     ]
    },
    {
     "name": "stdout",
     "output_type": "stream",
     "text": [
      "local Optima\n",
      "y_mean 6.619623430379165\n",
      "mean_mean 6.618334570548245\n",
      "abs(round((mean_mean-y_mean)/y_mean)) 0.0\n",
      "local Optima\n",
      "y_mean 6.619623430379165\n",
      "mean_mean 6.618287706203168\n",
      "abs(round((mean_mean-y_mean)/y_mean)) 0.0\n"
     ]
    },
    {
     "name": "stderr",
     "output_type": "stream",
     "text": [
      "\r",
      " 36%|███▌      | 129/360 [00:53<01:34,  2.45it/s]"
     ]
    },
    {
     "name": "stdout",
     "output_type": "stream",
     "text": [
      "local Optima\n",
      "y_mean 5.557669033434329\n",
      "mean_mean 5.5218087582556565\n",
      "abs(round((mean_mean-y_mean)/y_mean)) 0.0\n",
      "local Optima\n",
      "y_mean 5.557669033434329\n",
      "mean_mean 5.52180876063759\n",
      "abs(round((mean_mean-y_mean)/y_mean)) 0.0\n"
     ]
    },
    {
     "name": "stderr",
     "output_type": "stream",
     "text": [
      "\r",
      " 36%|███▌      | 130/360 [00:54<01:33,  2.45it/s]"
     ]
    },
    {
     "name": "stdout",
     "output_type": "stream",
     "text": [
      "local Optima\n",
      "y_mean 7.5180733034615805\n",
      "mean_mean 7.516368659345542\n",
      "abs(round((mean_mean-y_mean)/y_mean)) 0.0\n",
      "local Optima\n",
      "y_mean 7.5180733034615805\n",
      "mean_mean 7.516163873162401\n",
      "abs(round((mean_mean-y_mean)/y_mean)) 0.0\n"
     ]
    },
    {
     "name": "stderr",
     "output_type": "stream",
     "text": [
      "\r",
      " 36%|███▋      | 131/360 [00:54<01:32,  2.47it/s]"
     ]
    },
    {
     "name": "stdout",
     "output_type": "stream",
     "text": [
      "local Optima\n",
      "y_mean 6.434823191336388\n",
      "mean_mean 6.7588748143097845\n",
      "abs(round((mean_mean-y_mean)/y_mean)) 0.0\n",
      "local Optima\n",
      "y_mean 6.434823191336388\n",
      "mean_mean 6.415500033320715\n",
      "abs(round((mean_mean-y_mean)/y_mean)) 0.0\n"
     ]
    },
    {
     "name": "stderr",
     "output_type": "stream",
     "text": [
      "\r",
      " 37%|███▋      | 132/360 [00:55<01:32,  2.46it/s]"
     ]
    },
    {
     "name": "stdout",
     "output_type": "stream",
     "text": [
      "local Optima\n",
      "y_mean 7.786004166285999\n",
      "mean_mean 7.785552830348654\n",
      "abs(round((mean_mean-y_mean)/y_mean)) 0.0\n",
      "local Optima\n",
      "y_mean 7.786004166285999\n",
      "mean_mean 7.78543478337571\n",
      "abs(round((mean_mean-y_mean)/y_mean)) 0.0\n"
     ]
    },
    {
     "name": "stderr",
     "output_type": "stream",
     "text": [
      "\r",
      " 37%|███▋      | 133/360 [00:55<01:32,  2.46it/s]"
     ]
    },
    {
     "name": "stdout",
     "output_type": "stream",
     "text": [
      "local Optima\n",
      "y_mean 5.519442833824915\n",
      "mean_mean 5.4703984227080635\n",
      "abs(round((mean_mean-y_mean)/y_mean)) 0.0\n",
      "local Optima\n",
      "y_mean 5.519442833824915\n",
      "mean_mean 5.470395699827817\n",
      "abs(round((mean_mean-y_mean)/y_mean)) 0.0\n"
     ]
    },
    {
     "name": "stderr",
     "output_type": "stream",
     "text": [
      "\r",
      " 37%|███▋      | 134/360 [00:55<01:31,  2.48it/s]"
     ]
    },
    {
     "name": "stdout",
     "output_type": "stream",
     "text": [
      "local Optima\n",
      "y_mean 8.613340918333284\n",
      "mean_mean 8.597785836610933\n",
      "abs(round((mean_mean-y_mean)/y_mean)) 0.0\n",
      "local Optima\n",
      "y_mean 8.613340918333284\n",
      "mean_mean 8.611222118456855\n",
      "abs(round((mean_mean-y_mean)/y_mean)) 0.0\n"
     ]
    },
    {
     "name": "stderr",
     "output_type": "stream",
     "text": [
      "\r",
      " 38%|███▊      | 135/360 [00:56<01:30,  2.49it/s]"
     ]
    },
    {
     "name": "stdout",
     "output_type": "stream",
     "text": [
      "local Optima\n",
      "y_mean 6.084720578502144\n",
      "mean_mean 6.058309496932577\n",
      "abs(round((mean_mean-y_mean)/y_mean)) 0.0\n",
      "local Optima\n",
      "y_mean 6.084720578502144\n",
      "mean_mean 6.0500038632809545\n",
      "abs(round((mean_mean-y_mean)/y_mean)) 0.0\n"
     ]
    },
    {
     "name": "stderr",
     "output_type": "stream",
     "text": [
      "\r",
      " 38%|███▊      | 136/360 [00:56<01:33,  2.39it/s]"
     ]
    },
    {
     "name": "stdout",
     "output_type": "stream",
     "text": [
      "local Optima\n",
      "y_mean 8.339167184081319\n",
      "mean_mean 8.337937194266656\n",
      "abs(round((mean_mean-y_mean)/y_mean)) 0.0\n",
      "local Optima\n",
      "y_mean 8.339167184081319\n",
      "mean_mean 8.337937167855676\n",
      "abs(round((mean_mean-y_mean)/y_mean)) 0.0\n"
     ]
    },
    {
     "name": "stderr",
     "output_type": "stream",
     "text": [
      "\r",
      " 38%|███▊      | 137/360 [00:57<01:31,  2.43it/s]"
     ]
    },
    {
     "name": "stdout",
     "output_type": "stream",
     "text": [
      "local Optima\n",
      "y_mean 6.541792803845972\n",
      "mean_mean 6.25950734315021\n",
      "abs(round((mean_mean-y_mean)/y_mean)) 0.0\n",
      "local Optima\n",
      "y_mean 6.541792803845972\n",
      "mean_mean 6.515034906470945\n",
      "abs(round((mean_mean-y_mean)/y_mean)) 0.0\n",
      "local Optima\n",
      "y_mean 8.400598446000846\n",
      "mean_mean 8.400037955052152\n",
      "abs(round((mean_mean-y_mean)/y_mean)) 0.0\n"
     ]
    },
    {
     "name": "stderr",
     "output_type": "stream",
     "text": [
      "\r",
      " 38%|███▊      | 138/360 [00:57<01:37,  2.27it/s]"
     ]
    },
    {
     "name": "stdout",
     "output_type": "stream",
     "text": [
      "local Optima\n",
      "y_mean 8.400598446000846\n",
      "mean_mean 8.400037759182522\n",
      "abs(round((mean_mean-y_mean)/y_mean)) 0.0\n"
     ]
    },
    {
     "name": "stderr",
     "output_type": "stream",
     "text": [
      "\r",
      " 39%|███▊      | 139/360 [00:58<01:33,  2.35it/s]"
     ]
    },
    {
     "name": "stdout",
     "output_type": "stream",
     "text": [
      "local Optima\n",
      "y_mean 5.027681449178003\n",
      "mean_mean 4.692331064508921\n",
      "abs(round((mean_mean-y_mean)/y_mean)) 0.0\n",
      "local Optima\n",
      "y_mean 5.027681449178003\n",
      "mean_mean 4.960478012268313\n",
      "abs(round((mean_mean-y_mean)/y_mean)) 0.0\n"
     ]
    },
    {
     "name": "stderr",
     "output_type": "stream",
     "text": [
      "\r",
      " 39%|███▉      | 140/360 [00:58<01:32,  2.39it/s]"
     ]
    },
    {
     "name": "stdout",
     "output_type": "stream",
     "text": [
      "local Optima\n",
      "y_mean 8.323134152476307\n",
      "mean_mean 8.321051247888986\n",
      "abs(round((mean_mean-y_mean)/y_mean)) 0.0\n",
      "local Optima\n",
      "y_mean 8.323134152476307\n",
      "mean_mean 8.320325865173874\n",
      "abs(round((mean_mean-y_mean)/y_mean)) 0.0\n"
     ]
    },
    {
     "name": "stderr",
     "output_type": "stream",
     "text": [
      "\r",
      " 39%|███▉      | 141/360 [00:58<01:30,  2.43it/s]"
     ]
    },
    {
     "name": "stdout",
     "output_type": "stream",
     "text": [
      "local Optima\n",
      "y_mean 5.555695293812831\n",
      "mean_mean 5.2791067881865255\n",
      "abs(round((mean_mean-y_mean)/y_mean)) 0.0\n",
      "local Optima\n",
      "y_mean 5.555695293812831\n",
      "mean_mean 5.521676030316918\n",
      "abs(round((mean_mean-y_mean)/y_mean)) 0.0\n"
     ]
    },
    {
     "name": "stderr",
     "output_type": "stream",
     "text": [
      "\r",
      " 39%|███▉      | 142/360 [00:59<01:28,  2.46it/s]"
     ]
    },
    {
     "name": "stdout",
     "output_type": "stream",
     "text": [
      "local Optima\n",
      "y_mean 7.77933147339676\n",
      "mean_mean 7.777652310138362\n",
      "abs(round((mean_mean-y_mean)/y_mean)) 0.0\n",
      "local Optima\n",
      "y_mean 7.77933147339676\n",
      "mean_mean 7.776924230830885\n",
      "abs(round((mean_mean-y_mean)/y_mean)) 0.0\n"
     ]
    },
    {
     "name": "stderr",
     "output_type": "stream",
     "text": [
      "\r",
      " 40%|███▉      | 143/360 [00:59<01:27,  2.48it/s]"
     ]
    },
    {
     "name": "stdout",
     "output_type": "stream",
     "text": [
      "local Optima\n",
      "y_mean 5.499326871113579\n",
      "mean_mean 5.231560812273134\n",
      "abs(round((mean_mean-y_mean)/y_mean)) 0.0\n",
      "local Optima\n",
      "y_mean 5.499326871113579\n",
      "mean_mean 5.475454884746694\n",
      "abs(round((mean_mean-y_mean)/y_mean)) 0.0\n"
     ]
    },
    {
     "name": "stderr",
     "output_type": "stream",
     "text": [
      "\r",
      " 40%|████      | 144/360 [01:00<01:27,  2.48it/s]"
     ]
    },
    {
     "name": "stdout",
     "output_type": "stream",
     "text": [
      "local Optima\n",
      "y_mean 7.607031760851758\n",
      "mean_mean 7.606082410917428\n",
      "abs(round((mean_mean-y_mean)/y_mean)) 0.0\n",
      "local Optima\n",
      "y_mean 7.607031760851758\n",
      "mean_mean 7.605349603603091\n",
      "abs(round((mean_mean-y_mean)/y_mean)) 0.0\n"
     ]
    },
    {
     "name": "stderr",
     "output_type": "stream",
     "text": [
      "\r",
      " 40%|████      | 145/360 [01:00<01:26,  2.49it/s]"
     ]
    },
    {
     "name": "stdout",
     "output_type": "stream",
     "text": [
      "local Optima\n",
      "y_mean 4.539528503421978\n",
      "mean_mean 4.217069515558225\n",
      "abs(round((mean_mean-y_mean)/y_mean)) 0.0\n",
      "local Optima\n",
      "y_mean 4.539528503421978\n",
      "mean_mean 4.4970840435059625\n",
      "abs(round((mean_mean-y_mean)/y_mean)) 0.0\n"
     ]
    },
    {
     "name": "stderr",
     "output_type": "stream",
     "text": [
      "\r",
      " 41%|████      | 146/360 [01:00<01:27,  2.45it/s]"
     ]
    },
    {
     "name": "stdout",
     "output_type": "stream",
     "text": [
      "local Optima\n",
      "y_mean 8.130064050876241\n",
      "mean_mean 8.128857471438248\n",
      "abs(round((mean_mean-y_mean)/y_mean)) 0.0\n",
      "local Optima\n",
      "y_mean 8.130064050876241\n",
      "mean_mean 8.128857443012658\n",
      "abs(round((mean_mean-y_mean)/y_mean)) 0.0\n"
     ]
    },
    {
     "name": "stderr",
     "output_type": "stream",
     "text": [
      "\r",
      " 41%|████      | 147/360 [01:01<01:26,  2.47it/s]"
     ]
    },
    {
     "name": "stdout",
     "output_type": "stream",
     "text": [
      "local Optima\n",
      "y_mean 5.768557678817753\n",
      "mean_mean 5.752647928669425\n",
      "abs(round((mean_mean-y_mean)/y_mean)) 0.0\n",
      "local Optima\n",
      "y_mean 5.768557678817753\n",
      "mean_mean 5.737112313621757\n",
      "abs(round((mean_mean-y_mean)/y_mean)) 0.0\n"
     ]
    },
    {
     "name": "stderr",
     "output_type": "stream",
     "text": [
      "\r",
      " 41%|████      | 148/360 [01:01<01:26,  2.45it/s]"
     ]
    },
    {
     "name": "stdout",
     "output_type": "stream",
     "text": [
      "local Optima\n",
      "y_mean 8.323380389423939\n",
      "mean_mean 8.322581604363336\n",
      "abs(round((mean_mean-y_mean)/y_mean)) 0.0\n",
      "local Optima\n",
      "y_mean 8.323380389423939\n",
      "mean_mean 8.322556372864431\n",
      "abs(round((mean_mean-y_mean)/y_mean)) 0.0\n"
     ]
    },
    {
     "name": "stderr",
     "output_type": "stream",
     "text": [
      "\r",
      " 41%|████▏     | 149/360 [01:02<01:25,  2.46it/s]"
     ]
    },
    {
     "name": "stdout",
     "output_type": "stream",
     "text": [
      "local Optima\n",
      "y_mean 6.14650310105156\n",
      "mean_mean 5.773729563908477\n",
      "abs(round((mean_mean-y_mean)/y_mean)) 0.0\n",
      "local Optima\n",
      "y_mean 6.14650310105156\n",
      "mean_mean 6.118231266812171\n",
      "abs(round((mean_mean-y_mean)/y_mean)) 0.0\n"
     ]
    },
    {
     "name": "stderr",
     "output_type": "stream",
     "text": [
      "\r",
      " 42%|████▏     | 150/360 [01:02<01:25,  2.46it/s]"
     ]
    },
    {
     "name": "stdout",
     "output_type": "stream",
     "text": [
      "local Optima\n",
      "y_mean 9.080153482180116\n",
      "mean_mean 9.079443161495114\n",
      "abs(round((mean_mean-y_mean)/y_mean)) 0.0\n",
      "local Optima\n",
      "y_mean 9.080153482180116\n",
      "mean_mean 9.079444370049858\n",
      "abs(round((mean_mean-y_mean)/y_mean)) 0.0\n"
     ]
    },
    {
     "name": "stderr",
     "output_type": "stream",
     "text": [
      "\r",
      " 42%|████▏     | 151/360 [01:02<01:24,  2.48it/s]"
     ]
    },
    {
     "name": "stdout",
     "output_type": "stream",
     "text": [
      "local Optima\n",
      "y_mean 5.339992075695296\n",
      "mean_mean 5.006048007840098\n",
      "abs(round((mean_mean-y_mean)/y_mean)) 0.0\n",
      "local Optima\n",
      "y_mean 5.339992075695296\n",
      "mean_mean 5.266403037520725\n",
      "abs(round((mean_mean-y_mean)/y_mean)) 0.0\n"
     ]
    },
    {
     "name": "stderr",
     "output_type": "stream",
     "text": [
      "\r",
      " 42%|████▏     | 152/360 [01:03<01:23,  2.49it/s]"
     ]
    },
    {
     "name": "stdout",
     "output_type": "stream",
     "text": [
      "local Optima\n",
      "y_mean 8.280807260290688\n",
      "mean_mean 8.27825710475028\n",
      "abs(round((mean_mean-y_mean)/y_mean)) 0.0\n",
      "local Optima\n",
      "y_mean 8.280807260290688\n",
      "mean_mean 8.277829375827109\n",
      "abs(round((mean_mean-y_mean)/y_mean)) 0.0\n"
     ]
    },
    {
     "name": "stderr",
     "output_type": "stream",
     "text": [
      "\r",
      " 42%|████▎     | 153/360 [01:03<01:22,  2.51it/s]"
     ]
    },
    {
     "name": "stdout",
     "output_type": "stream",
     "text": [
      "local Optima\n",
      "y_mean 6.769039284319313\n",
      "mean_mean 6.76571163397276\n",
      "abs(round((mean_mean-y_mean)/y_mean)) 0.0\n",
      "local Optima\n",
      "y_mean 6.769039284319313\n",
      "mean_mean 6.735710548477353\n",
      "abs(round((mean_mean-y_mean)/y_mean)) 0.0\n"
     ]
    },
    {
     "name": "stderr",
     "output_type": "stream",
     "text": [
      "\r",
      " 43%|████▎     | 154/360 [01:04<01:22,  2.49it/s]"
     ]
    },
    {
     "name": "stdout",
     "output_type": "stream",
     "text": [
      "local Optima\n",
      "y_mean 8.419010390645601\n",
      "mean_mean 8.417520038671961\n",
      "abs(round((mean_mean-y_mean)/y_mean)) 0.0\n",
      "local Optima\n",
      "y_mean 8.419010390645601\n",
      "mean_mean 8.417512726463118\n",
      "abs(round((mean_mean-y_mean)/y_mean)) 0.0\n"
     ]
    },
    {
     "name": "stderr",
     "output_type": "stream",
     "text": [
      "\r",
      " 43%|████▎     | 155/360 [01:04<01:22,  2.50it/s]"
     ]
    },
    {
     "name": "stdout",
     "output_type": "stream",
     "text": [
      "local Optima\n",
      "y_mean 7.48886787523047\n",
      "mean_mean 7.481066343830474\n",
      "abs(round((mean_mean-y_mean)/y_mean)) 0.0\n",
      "local Optima\n",
      "y_mean 7.48886787523047\n",
      "mean_mean 7.4706191001983795\n",
      "abs(round((mean_mean-y_mean)/y_mean)) 0.0\n"
     ]
    },
    {
     "name": "stderr",
     "output_type": "stream",
     "text": [
      "\r",
      " 43%|████▎     | 156/360 [01:04<01:22,  2.46it/s]"
     ]
    },
    {
     "name": "stdout",
     "output_type": "stream",
     "text": [
      "local Optima\n",
      "y_mean 8.712902282498668\n",
      "mean_mean 8.711637636645838\n",
      "abs(round((mean_mean-y_mean)/y_mean)) 0.0\n",
      "local Optima\n",
      "y_mean 8.712902282498668\n",
      "mean_mean 8.711637770192782\n",
      "abs(round((mean_mean-y_mean)/y_mean)) 0.0\n"
     ]
    },
    {
     "name": "stderr",
     "output_type": "stream",
     "text": [
      "\r",
      " 44%|████▎     | 157/360 [01:05<01:21,  2.48it/s]"
     ]
    },
    {
     "name": "stdout",
     "output_type": "stream",
     "text": [
      "local Optima\n",
      "y_mean 5.041849504575784\n",
      "mean_mean 4.776746141861023\n",
      "abs(round((mean_mean-y_mean)/y_mean)) 0.0\n",
      "local Optima\n",
      "y_mean 5.041849504575784\n",
      "mean_mean 4.906843789576796\n",
      "abs(round((mean_mean-y_mean)/y_mean)) 0.0\n"
     ]
    },
    {
     "name": "stderr",
     "output_type": "stream",
     "text": [
      "\r",
      " 44%|████▍     | 158/360 [01:05<01:22,  2.46it/s]"
     ]
    },
    {
     "name": "stdout",
     "output_type": "stream",
     "text": [
      "local Optima\n",
      "y_mean 8.822665981095888\n",
      "mean_mean 8.820273536832655\n",
      "abs(round((mean_mean-y_mean)/y_mean)) 0.0\n",
      "local Optima\n",
      "y_mean 8.822665981095888\n",
      "mean_mean 8.820273869503984\n",
      "abs(round((mean_mean-y_mean)/y_mean)) 0.0\n"
     ]
    },
    {
     "name": "stderr",
     "output_type": "stream",
     "text": [
      "\r",
      " 44%|████▍     | 159/360 [01:06<01:21,  2.48it/s]"
     ]
    },
    {
     "name": "stdout",
     "output_type": "stream",
     "text": [
      "local Optima\n",
      "y_mean 6.664699854122249\n",
      "mean_mean 6.454241951859567\n",
      "abs(round((mean_mean-y_mean)/y_mean)) 0.0\n",
      "local Optima\n",
      "y_mean 6.664699854122249\n",
      "mean_mean 6.616623273864961\n",
      "abs(round((mean_mean-y_mean)/y_mean)) 0.0\n"
     ]
    },
    {
     "name": "stderr",
     "output_type": "stream",
     "text": [
      "\r",
      " 44%|████▍     | 160/360 [01:06<01:21,  2.47it/s]"
     ]
    },
    {
     "name": "stdout",
     "output_type": "stream",
     "text": [
      "local Optima\n",
      "y_mean 9.133919249666212\n",
      "mean_mean 9.132284987443239\n",
      "abs(round((mean_mean-y_mean)/y_mean)) 0.0\n",
      "local Optima\n",
      "y_mean 9.133919249666212\n",
      "mean_mean 9.132285188851494\n",
      "abs(round((mean_mean-y_mean)/y_mean)) 0.0\n"
     ]
    },
    {
     "name": "stderr",
     "output_type": "stream",
     "text": [
      "\r",
      " 45%|████▍     | 161/360 [01:07<01:20,  2.48it/s]"
     ]
    },
    {
     "name": "stdout",
     "output_type": "stream",
     "text": [
      "local Optima\n",
      "y_mean 7.4406792251103475\n",
      "mean_mean 7.426308572309122\n",
      "abs(round((mean_mean-y_mean)/y_mean)) 0.0\n",
      "local Optima\n",
      "y_mean 7.4406792251103475\n",
      "mean_mean 7.41490048679756\n",
      "abs(round((mean_mean-y_mean)/y_mean)) 0.0\n"
     ]
    },
    {
     "name": "stderr",
     "output_type": "stream",
     "text": [
      "\r",
      " 45%|████▌     | 162/360 [01:07<01:20,  2.45it/s]"
     ]
    },
    {
     "name": "stdout",
     "output_type": "stream",
     "text": [
      "local Optima\n",
      "y_mean 9.027024086591373\n",
      "mean_mean 9.025966121700641\n",
      "abs(round((mean_mean-y_mean)/y_mean)) 0.0\n",
      "local Optima\n",
      "y_mean 9.027024086591373\n",
      "mean_mean 9.025966131111998\n",
      "abs(round((mean_mean-y_mean)/y_mean)) 0.0\n"
     ]
    },
    {
     "name": "stderr",
     "output_type": "stream",
     "text": [
      "\r",
      " 45%|████▌     | 163/360 [01:07<01:19,  2.48it/s]"
     ]
    },
    {
     "name": "stdout",
     "output_type": "stream",
     "text": [
      "local Optima\n",
      "y_mean 5.963520315498214\n",
      "mean_mean 5.891352290106917\n",
      "abs(round((mean_mean-y_mean)/y_mean)) 0.0\n",
      "local Optima\n",
      "y_mean 5.963520315498214\n",
      "mean_mean 5.877622475685345\n",
      "abs(round((mean_mean-y_mean)/y_mean)) 0.0\n"
     ]
    },
    {
     "name": "stderr",
     "output_type": "stream",
     "text": [
      "\r",
      " 46%|████▌     | 164/360 [01:08<01:19,  2.46it/s]"
     ]
    },
    {
     "name": "stdout",
     "output_type": "stream",
     "text": [
      "local Optima\n",
      "y_mean 9.26841789598918\n",
      "mean_mean 9.265458034453728\n",
      "abs(round((mean_mean-y_mean)/y_mean)) 0.0\n",
      "local Optima\n",
      "y_mean 9.26841789598918\n",
      "mean_mean 9.265458100617554\n",
      "abs(round((mean_mean-y_mean)/y_mean)) 0.0\n"
     ]
    },
    {
     "name": "stderr",
     "output_type": "stream",
     "text": [
      "\r",
      " 46%|████▌     | 165/360 [01:08<01:18,  2.48it/s]"
     ]
    },
    {
     "name": "stdout",
     "output_type": "stream",
     "text": [
      "local Optima\n",
      "y_mean 6.469606762028549\n",
      "mean_mean 6.4313786864914775\n",
      "abs(round((mean_mean-y_mean)/y_mean)) 0.0\n",
      "local Optima\n",
      "y_mean 6.469606762028549\n",
      "mean_mean 6.42224525049409\n",
      "abs(round((mean_mean-y_mean)/y_mean)) 0.0\n"
     ]
    },
    {
     "name": "stderr",
     "output_type": "stream",
     "text": [
      "\r",
      " 46%|████▌     | 166/360 [01:09<01:19,  2.45it/s]"
     ]
    },
    {
     "name": "stdout",
     "output_type": "stream",
     "text": [
      "local Optima\n",
      "y_mean 8.82159303325133\n",
      "mean_mean 8.819337913585077\n",
      "abs(round((mean_mean-y_mean)/y_mean)) 0.0\n",
      "local Optima\n",
      "y_mean 8.82159303325133\n",
      "mean_mean 8.819335270768788\n",
      "abs(round((mean_mean-y_mean)/y_mean)) 0.0\n"
     ]
    },
    {
     "name": "stderr",
     "output_type": "stream",
     "text": [
      "\r",
      " 46%|████▋     | 167/360 [01:09<01:17,  2.48it/s]"
     ]
    },
    {
     "name": "stdout",
     "output_type": "stream",
     "text": [
      "local Optima\n",
      "y_mean 7.243976603347186\n",
      "mean_mean 7.143499427899583\n",
      "abs(round((mean_mean-y_mean)/y_mean)) 0.0\n",
      "local Optima\n",
      "y_mean 7.243976603347186\n",
      "mean_mean 7.209898805826994\n",
      "abs(round((mean_mean-y_mean)/y_mean)) 0.0\n"
     ]
    },
    {
     "name": "stderr",
     "output_type": "stream",
     "text": [
      "\r",
      " 47%|████▋     | 168/360 [01:09<01:17,  2.48it/s]"
     ]
    },
    {
     "name": "stdout",
     "output_type": "stream",
     "text": [
      "local Optima\n",
      "y_mean 9.232079982269045\n",
      "mean_mean 9.231337186767481\n",
      "abs(round((mean_mean-y_mean)/y_mean)) 0.0\n",
      "local Optima\n",
      "y_mean 9.232079982269045\n",
      "mean_mean 9.23108709391226\n",
      "abs(round((mean_mean-y_mean)/y_mean)) 0.0\n"
     ]
    },
    {
     "name": "stderr",
     "output_type": "stream",
     "text": [
      "\r",
      " 47%|████▋     | 169/360 [01:10<01:16,  2.50it/s]"
     ]
    },
    {
     "name": "stdout",
     "output_type": "stream",
     "text": [
      "local Optima\n",
      "y_mean 5.4467672172217245\n",
      "mean_mean 5.267582893355883\n",
      "abs(round((mean_mean-y_mean)/y_mean)) 0.0\n",
      "local Optima\n",
      "y_mean 5.4467672172217245\n",
      "mean_mean 5.39945994114177\n",
      "abs(round((mean_mean-y_mean)/y_mean)) 0.0\n"
     ]
    },
    {
     "name": "stderr",
     "output_type": "stream",
     "text": [
      "\r",
      " 47%|████▋     | 170/360 [01:10<01:17,  2.46it/s]"
     ]
    },
    {
     "name": "stdout",
     "output_type": "stream",
     "text": [
      "local Optima\n",
      "y_mean 8.94387853483418\n",
      "mean_mean 8.942036231465476\n",
      "abs(round((mean_mean-y_mean)/y_mean)) 0.0\n",
      "local Optima\n",
      "y_mean 8.94387853483418\n",
      "mean_mean 8.942038081903618\n",
      "abs(round((mean_mean-y_mean)/y_mean)) 0.0\n"
     ]
    },
    {
     "name": "stderr",
     "output_type": "stream",
     "text": [
      "\r",
      " 48%|████▊     | 171/360 [01:11<01:16,  2.47it/s]"
     ]
    },
    {
     "name": "stdout",
     "output_type": "stream",
     "text": [
      "local Optima\n",
      "y_mean 6.040063734742647\n",
      "mean_mean 6.023811390636085\n",
      "abs(round((mean_mean-y_mean)/y_mean)) 0.0\n",
      "local Optima\n",
      "y_mean 6.040063734742647\n",
      "mean_mean 6.0007118507655335\n",
      "abs(round((mean_mean-y_mean)/y_mean)) 0.0\n"
     ]
    },
    {
     "name": "stderr",
     "output_type": "stream",
     "text": [
      "\r",
      " 48%|████▊     | 172/360 [01:11<01:17,  2.42it/s]"
     ]
    },
    {
     "name": "stdout",
     "output_type": "stream",
     "text": [
      "local Optima\n",
      "y_mean 8.517807577705113\n",
      "mean_mean 8.51645554213797\n",
      "abs(round((mean_mean-y_mean)/y_mean)) 0.0\n",
      "local Optima\n",
      "y_mean 8.517807577705113\n",
      "mean_mean 8.516455283064852\n",
      "abs(round((mean_mean-y_mean)/y_mean)) 0.0\n"
     ]
    },
    {
     "name": "stderr",
     "output_type": "stream",
     "text": [
      "\r",
      " 48%|████▊     | 173/360 [01:11<01:17,  2.43it/s]"
     ]
    },
    {
     "name": "stdout",
     "output_type": "stream",
     "text": [
      "local Optima\n",
      "y_mean 6.745371750320153\n",
      "mean_mean 6.896300652912173\n",
      "abs(round((mean_mean-y_mean)/y_mean)) 0.0\n",
      "local Optima\n",
      "y_mean 6.745371750320153\n",
      "mean_mean 6.713913424172883\n",
      "abs(round((mean_mean-y_mean)/y_mean)) 0.0\n",
      "local Optima\n",
      "y_mean 8.702500975377792\n",
      "mean_mean 8.701698865335624\n",
      "abs(round((mean_mean-y_mean)/y_mean)) 0.0\n",
      "local Optima\n",
      "y_mean 8.702500975377792\n",
      "mean_mean 8.70169828921627\n",
      "abs(round((mean_mean-y_mean)/y_mean)) 0.0\n"
     ]
    },
    {
     "name": "stderr",
     "output_type": "stream",
     "text": [
      "\r",
      " 48%|████▊     | 174/360 [01:12<01:18,  2.36it/s]"
     ]
    },
    {
     "name": "stdout",
     "output_type": "stream",
     "text": [
      "local Optima\n",
      "y_mean 5.381311498364437\n",
      "mean_mean 4.8457299956873365\n",
      "abs(round((mean_mean-y_mean)/y_mean)) 0.0\n",
      "local Optima\n",
      "y_mean 5.381311498364437\n",
      "mean_mean 5.301477901436636\n",
      "abs(round((mean_mean-y_mean)/y_mean)) 0.0\n"
     ]
    },
    {
     "name": "stderr",
     "output_type": "stream",
     "text": [
      " 49%|████▉     | 176/360 [01:13<01:18,  2.36it/s]"
     ]
    },
    {
     "name": "stdout",
     "output_type": "stream",
     "text": [
      "local Optima\n",
      "y_mean 8.828464351669638\n",
      "mean_mean 8.826463771548365\n",
      "abs(round((mean_mean-y_mean)/y_mean)) 0.0\n",
      "local Optima\n",
      "y_mean 8.828464351669638\n",
      "mean_mean 8.825016814874315\n",
      "abs(round((mean_mean-y_mean)/y_mean)) 0.0\n"
     ]
    },
    {
     "name": "stderr",
     "output_type": "stream",
     "text": [
      "\r",
      " 49%|████▉     | 177/360 [01:13<01:16,  2.41it/s]"
     ]
    },
    {
     "name": "stdout",
     "output_type": "stream",
     "text": [
      "local Optima\n",
      "y_mean 6.718041390145437\n",
      "mean_mean 6.705393137667744\n",
      "abs(round((mean_mean-y_mean)/y_mean)) 0.0\n",
      "local Optima\n",
      "y_mean 6.718041390145437\n",
      "mean_mean 6.690043028300948\n",
      "abs(round((mean_mean-y_mean)/y_mean)) 0.0\n"
     ]
    },
    {
     "name": "stderr",
     "output_type": "stream",
     "text": [
      "\r",
      " 49%|████▉     | 178/360 [01:14<01:19,  2.29it/s]"
     ]
    },
    {
     "name": "stdout",
     "output_type": "stream",
     "text": [
      "local Optima\n",
      "y_mean 8.837491521395314\n",
      "mean_mean 8.838140622376853\n",
      "abs(round((mean_mean-y_mean)/y_mean)) 0.0\n",
      "local Optima\n",
      "y_mean 8.837491521395314\n",
      "mean_mean 8.83560806209823\n",
      "abs(round((mean_mean-y_mean)/y_mean)) 0.0\n"
     ]
    },
    {
     "name": "stderr",
     "output_type": "stream",
     "text": [
      "\r",
      " 50%|████▉     | 179/360 [01:14<01:16,  2.36it/s]"
     ]
    },
    {
     "name": "stdout",
     "output_type": "stream",
     "text": [
      "local Optima\n",
      "y_mean 7.717073933095577\n",
      "mean_mean 7.528652790845173\n",
      "abs(round((mean_mean-y_mean)/y_mean)) 0.0\n",
      "local Optima\n",
      "y_mean 7.717073933095577\n",
      "mean_mean 7.69566331200544\n",
      "abs(round((mean_mean-y_mean)/y_mean)) 0.0\n"
     ]
    },
    {
     "name": "stderr",
     "output_type": "stream",
     "text": [
      "\r",
      " 50%|█████     | 180/360 [01:14<01:15,  2.39it/s]"
     ]
    },
    {
     "name": "stdout",
     "output_type": "stream",
     "text": [
      "local Optima\n",
      "y_mean 9.337132139766284\n",
      "mean_mean 9.336547629439544\n",
      "abs(round((mean_mean-y_mean)/y_mean)) 0.0\n",
      "local Optima\n",
      "y_mean 9.337132139766284\n",
      "mean_mean 9.336429510382168\n",
      "abs(round((mean_mean-y_mean)/y_mean)) 0.0\n"
     ]
    },
    {
     "name": "stderr",
     "output_type": "stream",
     "text": [
      "\r",
      " 50%|█████     | 181/360 [01:15<01:13,  2.43it/s]"
     ]
    },
    {
     "name": "stdout",
     "output_type": "stream",
     "text": [
      "local Optima\n",
      "y_mean 4.180565944813549\n",
      "mean_mean 4.090895259204819\n",
      "abs(round((mean_mean-y_mean)/y_mean)) 0.0\n",
      "local Optima\n",
      "y_mean 4.180565944813549\n",
      "mean_mean 4.089809656377292\n",
      "abs(round((mean_mean-y_mean)/y_mean)) 0.0\n"
     ]
    },
    {
     "name": "stderr",
     "output_type": "stream",
     "text": [
      "\r",
      " 51%|█████     | 182/360 [01:15<01:12,  2.46it/s]"
     ]
    },
    {
     "name": "stdout",
     "output_type": "stream",
     "text": [
      "local Optima\n",
      "y_mean 7.731944935722843\n",
      "mean_mean 7.730563677733532\n",
      "abs(round((mean_mean-y_mean)/y_mean)) 0.0\n",
      "local Optima\n",
      "y_mean 7.731944935722843\n",
      "mean_mean 7.729639382898158\n",
      "abs(round((mean_mean-y_mean)/y_mean)) 0.0\n"
     ]
    },
    {
     "name": "stderr",
     "output_type": "stream",
     "text": [
      "\r",
      " 51%|█████     | 183/360 [01:16<01:11,  2.48it/s]"
     ]
    },
    {
     "name": "stdout",
     "output_type": "stream",
     "text": [
      "local Optima\n",
      "y_mean 5.6222300228782025\n",
      "mean_mean 5.560379663285704\n",
      "abs(round((mean_mean-y_mean)/y_mean)) 0.0\n",
      "local Optima\n",
      "y_mean 5.6222300228782025\n",
      "mean_mean 5.579461787308149\n",
      "abs(round((mean_mean-y_mean)/y_mean)) 0.0\n"
     ]
    },
    {
     "name": "stderr",
     "output_type": "stream",
     "text": [
      "\r",
      " 51%|█████     | 184/360 [01:16<01:12,  2.44it/s]"
     ]
    },
    {
     "name": "stdout",
     "output_type": "stream",
     "text": [
      "local Optima\n",
      "y_mean 7.691787656236566\n",
      "mean_mean 7.69072849556241\n",
      "abs(round((mean_mean-y_mean)/y_mean)) 0.0\n",
      "local Optima\n",
      "y_mean 7.691787656236566\n",
      "mean_mean 7.690728488129761\n",
      "abs(round((mean_mean-y_mean)/y_mean)) 0.0\n"
     ]
    },
    {
     "name": "stderr",
     "output_type": "stream",
     "text": [
      "\r",
      " 51%|█████▏    | 185/360 [01:16<01:11,  2.46it/s]"
     ]
    },
    {
     "name": "stdout",
     "output_type": "stream",
     "text": [
      "local Optima\n",
      "y_mean 6.13184711622751\n",
      "mean_mean 5.873924767125853\n",
      "abs(round((mean_mean-y_mean)/y_mean)) 0.0\n",
      "local Optima\n",
      "y_mean 6.13184711622751\n",
      "mean_mean 6.1014386614229315\n",
      "abs(round((mean_mean-y_mean)/y_mean)) 0.0\n"
     ]
    },
    {
     "name": "stderr",
     "output_type": "stream",
     "text": [
      "\r",
      " 52%|█████▏    | 186/360 [01:17<01:11,  2.44it/s]"
     ]
    },
    {
     "name": "stdout",
     "output_type": "stream",
     "text": [
      "local Optima\n",
      "y_mean 8.241932571114813\n",
      "mean_mean 8.240735344320662\n",
      "abs(round((mean_mean-y_mean)/y_mean)) 0.0\n",
      "local Optima\n",
      "y_mean 8.241932571114813\n",
      "mean_mean 8.24073527657402\n",
      "abs(round((mean_mean-y_mean)/y_mean)) 0.0\n"
     ]
    },
    {
     "name": "stderr",
     "output_type": "stream",
     "text": [
      "\r",
      " 52%|█████▏    | 187/360 [01:17<01:10,  2.47it/s]"
     ]
    },
    {
     "name": "stdout",
     "output_type": "stream",
     "text": [
      "local Optima\n",
      "y_mean 4.202085552056747\n",
      "mean_mean 4.1458935602391636\n",
      "abs(round((mean_mean-y_mean)/y_mean)) 0.0\n",
      "local Optima\n",
      "y_mean 4.202085552056747\n",
      "mean_mean 4.137777904679282\n",
      "abs(round((mean_mean-y_mean)/y_mean)) 0.0\n"
     ]
    },
    {
     "name": "stderr",
     "output_type": "stream",
     "text": [
      "\r",
      " 52%|█████▏    | 188/360 [01:18<01:09,  2.49it/s]"
     ]
    },
    {
     "name": "stdout",
     "output_type": "stream",
     "text": [
      "local Optima\n",
      "y_mean 7.239850785760932\n",
      "mean_mean 7.236501832796007\n",
      "abs(round((mean_mean-y_mean)/y_mean)) 0.0\n",
      "local Optima\n",
      "y_mean 7.239850785760932\n",
      "mean_mean 7.235079929934231\n",
      "abs(round((mean_mean-y_mean)/y_mean)) 0.0\n"
     ]
    },
    {
     "name": "stderr",
     "output_type": "stream",
     "text": [
      "\r",
      " 52%|█████▎    | 189/360 [01:18<01:08,  2.50it/s]"
     ]
    },
    {
     "name": "stdout",
     "output_type": "stream",
     "text": [
      "local Optima\n",
      "y_mean 5.857677960695423\n",
      "mean_mean 5.627217012476269\n",
      "abs(round((mean_mean-y_mean)/y_mean)) 0.0\n",
      "local Optima\n",
      "y_mean 5.857677960695423\n",
      "mean_mean 5.832403321932602\n",
      "abs(round((mean_mean-y_mean)/y_mean)) 0.0\n"
     ]
    },
    {
     "name": "stderr",
     "output_type": "stream",
     "text": [
      "\r",
      " 53%|█████▎    | 190/360 [01:18<01:08,  2.50it/s]"
     ]
    },
    {
     "name": "stdout",
     "output_type": "stream",
     "text": [
      "local Optima\n",
      "y_mean 8.66694146219493\n",
      "mean_mean 8.665046388431211\n",
      "abs(round((mean_mean-y_mean)/y_mean)) 0.0\n",
      "local Optima\n",
      "y_mean 8.66694146219493\n",
      "mean_mean 8.664805176329391\n",
      "abs(round((mean_mean-y_mean)/y_mean)) 0.0\n"
     ]
    },
    {
     "name": "stderr",
     "output_type": "stream",
     "text": [
      "\r",
      " 53%|█████▎    | 191/360 [01:19<01:07,  2.50it/s]"
     ]
    },
    {
     "name": "stdout",
     "output_type": "stream",
     "text": [
      "local Optima\n",
      "y_mean 7.571170491131809\n",
      "mean_mean 7.575495563234616\n",
      "abs(round((mean_mean-y_mean)/y_mean)) 0.0\n",
      "local Optima\n",
      "y_mean 7.571170491131809\n",
      "mean_mean 7.560667469410442\n",
      "abs(round((mean_mean-y_mean)/y_mean)) 0.0\n"
     ]
    },
    {
     "name": "stderr",
     "output_type": "stream",
     "text": [
      "\r",
      " 53%|█████▎    | 192/360 [01:19<01:07,  2.49it/s]"
     ]
    },
    {
     "name": "stdout",
     "output_type": "stream",
     "text": [
      "local Optima\n",
      "y_mean 8.85463423194026\n",
      "mean_mean 8.853976496542996\n",
      "abs(round((mean_mean-y_mean)/y_mean)) 0.0\n",
      "local Optima\n",
      "y_mean 8.85463423194026\n",
      "mean_mean 8.853726919462177\n",
      "abs(round((mean_mean-y_mean)/y_mean)) 0.0\n"
     ]
    },
    {
     "name": "stderr",
     "output_type": "stream",
     "text": [
      "\r",
      " 54%|█████▎    | 193/360 [01:20<01:06,  2.51it/s]"
     ]
    },
    {
     "name": "stdout",
     "output_type": "stream",
     "text": [
      "local Optima\n",
      "y_mean 5.558098988027144\n",
      "mean_mean 5.407440347345289\n",
      "abs(round((mean_mean-y_mean)/y_mean)) 0.0\n",
      "local Optima\n",
      "y_mean 5.558098988027144\n",
      "mean_mean 5.4840502421858845\n",
      "abs(round((mean_mean-y_mean)/y_mean)) 0.0\n"
     ]
    },
    {
     "name": "stderr",
     "output_type": "stream",
     "text": [
      "\r",
      " 54%|█████▍    | 194/360 [01:20<01:06,  2.49it/s]"
     ]
    },
    {
     "name": "stdout",
     "output_type": "stream",
     "text": [
      "local Optima\n",
      "y_mean 9.282176877730928\n",
      "mean_mean 9.280214309380375\n",
      "abs(round((mean_mean-y_mean)/y_mean)) 0.0\n",
      "local Optima\n",
      "y_mean 9.282176877730928\n",
      "mean_mean 9.280140860813912\n",
      "abs(round((mean_mean-y_mean)/y_mean)) 0.0\n"
     ]
    },
    {
     "name": "stderr",
     "output_type": "stream",
     "text": [
      "\r",
      " 54%|█████▍    | 195/360 [01:20<01:05,  2.51it/s]"
     ]
    },
    {
     "name": "stdout",
     "output_type": "stream",
     "text": [
      "local Optima\n",
      "y_mean 6.530539019106621\n",
      "mean_mean 6.553289249866607\n",
      "abs(round((mean_mean-y_mean)/y_mean)) 0.0\n",
      "local Optima\n",
      "y_mean 6.530539019106621\n",
      "mean_mean 6.493067859547191\n",
      "abs(round((mean_mean-y_mean)/y_mean)) 0.0\n"
     ]
    },
    {
     "name": "stderr",
     "output_type": "stream",
     "text": [
      "\r",
      " 54%|█████▍    | 196/360 [01:21<01:05,  2.49it/s]"
     ]
    },
    {
     "name": "stdout",
     "output_type": "stream",
     "text": [
      "local Optima\n",
      "y_mean 8.87819200270934\n",
      "mean_mean 8.877022305799526\n",
      "abs(round((mean_mean-y_mean)/y_mean)) 0.0\n",
      "local Optima\n",
      "y_mean 8.87819200270934\n",
      "mean_mean 8.87674186392369\n",
      "abs(round((mean_mean-y_mean)/y_mean)) 0.0\n"
     ]
    },
    {
     "name": "stderr",
     "output_type": "stream",
     "text": [
      "\r",
      " 55%|█████▍    | 197/360 [01:21<01:05,  2.50it/s]"
     ]
    },
    {
     "name": "stdout",
     "output_type": "stream",
     "text": [
      "local Optima\n",
      "y_mean 6.429965539773472\n",
      "mean_mean 6.452591703873338\n",
      "abs(round((mean_mean-y_mean)/y_mean)) 0.0\n",
      "local Optima\n",
      "y_mean 6.429965539773472\n",
      "mean_mean 6.399324937903255\n",
      "abs(round((mean_mean-y_mean)/y_mean)) 0.0\n"
     ]
    },
    {
     "name": "stderr",
     "output_type": "stream",
     "text": [
      "\r",
      " 55%|█████▌    | 198/360 [01:22<01:04,  2.50it/s]"
     ]
    },
    {
     "name": "stdout",
     "output_type": "stream",
     "text": [
      "local Optima\n",
      "y_mean 8.533142024677337\n",
      "mean_mean 8.532007010081504\n",
      "abs(round((mean_mean-y_mean)/y_mean)) 0.0\n",
      "local Optima\n",
      "y_mean 8.533142024677337\n",
      "mean_mean 8.531741280481684\n",
      "abs(round((mean_mean-y_mean)/y_mean)) 0.0\n"
     ]
    },
    {
     "name": "stderr",
     "output_type": "stream",
     "text": [
      "\r",
      " 55%|█████▌    | 199/360 [01:22<01:04,  2.50it/s]"
     ]
    },
    {
     "name": "stdout",
     "output_type": "stream",
     "text": [
      "local Optima\n",
      "y_mean 4.566655674747845\n",
      "mean_mean 4.87782877637634\n",
      "abs(round((mean_mean-y_mean)/y_mean)) 0.0\n",
      "local Optima\n",
      "y_mean 4.566655674747845\n",
      "mean_mean 4.505557476901925\n",
      "abs(round((mean_mean-y_mean)/y_mean)) 0.0\n"
     ]
    },
    {
     "name": "stderr",
     "output_type": "stream",
     "text": [
      "\r",
      " 56%|█████▌    | 200/360 [01:22<01:05,  2.44it/s]"
     ]
    },
    {
     "name": "stdout",
     "output_type": "stream",
     "text": [
      "local Optima\n",
      "y_mean 7.959265189377581\n",
      "mean_mean 7.956440816420626\n",
      "abs(round((mean_mean-y_mean)/y_mean)) 0.0\n",
      "local Optima\n",
      "y_mean 7.959265189377581\n",
      "mean_mean 7.9564406358063176\n",
      "abs(round((mean_mean-y_mean)/y_mean)) 0.0\n"
     ]
    },
    {
     "name": "stderr",
     "output_type": "stream",
     "text": [
      "\r",
      " 56%|█████▌    | 201/360 [01:23<01:04,  2.46it/s]"
     ]
    },
    {
     "name": "stdout",
     "output_type": "stream",
     "text": [
      "local Optima\n",
      "y_mean 5.734860007949088\n",
      "mean_mean 5.882537494086126\n",
      "abs(round((mean_mean-y_mean)/y_mean)) 0.0\n",
      "local Optima\n",
      "y_mean 5.734860007949088\n",
      "mean_mean 5.698446228935807\n",
      "abs(round((mean_mean-y_mean)/y_mean)) 0.0\n"
     ]
    },
    {
     "name": "stderr",
     "output_type": "stream",
     "text": [
      "\r",
      " 56%|█████▌    | 202/360 [01:23<01:04,  2.44it/s]"
     ]
    },
    {
     "name": "stdout",
     "output_type": "stream",
     "text": [
      "local Optima\n",
      "y_mean 7.977472043548482\n",
      "mean_mean 7.9763678626989\n",
      "abs(round((mean_mean-y_mean)/y_mean)) 0.0\n",
      "local Optima\n",
      "y_mean 7.977472043548482\n",
      "mean_mean 7.976367979525985\n",
      "abs(round((mean_mean-y_mean)/y_mean)) 0.0\n"
     ]
    },
    {
     "name": "stderr",
     "output_type": "stream",
     "text": [
      "\r",
      " 56%|█████▋    | 203/360 [01:24<01:03,  2.46it/s]"
     ]
    },
    {
     "name": "stdout",
     "output_type": "stream",
     "text": [
      "local Optima\n",
      "y_mean 7.287157675345717\n",
      "mean_mean 7.293609194721139\n",
      "abs(round((mean_mean-y_mean)/y_mean)) 0.0\n",
      "local Optima\n",
      "y_mean 7.287157675345717\n",
      "mean_mean 7.2749185105117125\n",
      "abs(round((mean_mean-y_mean)/y_mean)) 0.0\n"
     ]
    },
    {
     "name": "stderr",
     "output_type": "stream",
     "text": [
      "\r",
      " 57%|█████▋    | 204/360 [01:24<01:03,  2.47it/s]"
     ]
    },
    {
     "name": "stdout",
     "output_type": "stream",
     "text": [
      "local Optima\n",
      "y_mean 9.020068958590558\n",
      "mean_mean 9.019916261048206\n",
      "abs(round((mean_mean-y_mean)/y_mean)) 0.0\n",
      "local Optima\n",
      "y_mean 9.020068958590558\n",
      "mean_mean 9.019387755287568\n",
      "abs(round((mean_mean-y_mean)/y_mean)) 0.0\n"
     ]
    },
    {
     "name": "stderr",
     "output_type": "stream",
     "text": [
      "\r",
      " 57%|█████▋    | 205/360 [01:24<01:02,  2.47it/s]"
     ]
    },
    {
     "name": "stdout",
     "output_type": "stream",
     "text": [
      "local Optima\n",
      "y_mean 5.495388020219291\n",
      "mean_mean 5.430919881220481\n",
      "abs(round((mean_mean-y_mean)/y_mean)) 0.0\n",
      "local Optima\n",
      "y_mean 5.495388020219291\n",
      "mean_mean 5.430916868946075\n",
      "abs(round((mean_mean-y_mean)/y_mean)) 0.0\n"
     ]
    },
    {
     "name": "stderr",
     "output_type": "stream",
     "text": [
      "\r",
      " 57%|█████▋    | 206/360 [01:25<01:02,  2.47it/s]"
     ]
    },
    {
     "name": "stdout",
     "output_type": "stream",
     "text": [
      "local Optima\n",
      "y_mean 8.546730231579136\n",
      "mean_mean 8.543441268193888\n",
      "abs(round((mean_mean-y_mean)/y_mean)) 0.0\n",
      "local Optima\n",
      "y_mean 8.546730231579136\n",
      "mean_mean 8.541974887551092\n",
      "abs(round((mean_mean-y_mean)/y_mean)) 0.0\n"
     ]
    },
    {
     "name": "stderr",
     "output_type": "stream",
     "text": [
      "\r",
      " 57%|█████▊    | 207/360 [01:25<01:01,  2.49it/s]"
     ]
    },
    {
     "name": "stdout",
     "output_type": "stream",
     "text": [
      "local Optima\n",
      "y_mean 6.190445277434148\n",
      "mean_mean 5.872368620262148\n",
      "abs(round((mean_mean-y_mean)/y_mean)) 0.0\n",
      "local Optima\n",
      "y_mean 6.190445277434148\n",
      "mean_mean 6.152243502729026\n",
      "abs(round((mean_mean-y_mean)/y_mean)) 0.0\n"
     ]
    },
    {
     "name": "stderr",
     "output_type": "stream",
     "text": [
      "\r",
      " 58%|█████▊    | 208/360 [01:26<01:02,  2.44it/s]"
     ]
    },
    {
     "name": "stdout",
     "output_type": "stream",
     "text": [
      "local Optima\n",
      "y_mean 9.055315397515129\n",
      "mean_mean 9.053975361296784\n",
      "abs(round((mean_mean-y_mean)/y_mean)) 0.0\n",
      "local Optima\n",
      "y_mean 9.055315397515129\n",
      "mean_mean 9.053975295779722\n",
      "abs(round((mean_mean-y_mean)/y_mean)) 0.0\n"
     ]
    },
    {
     "name": "stderr",
     "output_type": "stream",
     "text": [
      "\r",
      " 58%|█████▊    | 209/360 [01:26<01:01,  2.46it/s]"
     ]
    },
    {
     "name": "stdout",
     "output_type": "stream",
     "text": [
      "local Optima\n",
      "y_mean 8.063372412220966\n",
      "mean_mean 7.778741029054356\n",
      "abs(round((mean_mean-y_mean)/y_mean)) 0.0\n",
      "local Optima\n",
      "y_mean 8.063372412220966\n",
      "mean_mean 8.04914604944347\n",
      "abs(round((mean_mean-y_mean)/y_mean)) 0.0\n"
     ]
    },
    {
     "name": "stderr",
     "output_type": "stream",
     "text": [
      "\r",
      " 58%|█████▊    | 210/360 [01:26<01:00,  2.46it/s]"
     ]
    },
    {
     "name": "stdout",
     "output_type": "stream",
     "text": [
      "local Optima\n",
      "y_mean 9.610025888663522\n",
      "mean_mean 9.60944669341988\n",
      "abs(round((mean_mean-y_mean)/y_mean)) 0.0\n",
      "local Optima\n",
      "y_mean 9.610025888663522\n",
      "mean_mean 9.609286939557428\n",
      "abs(round((mean_mean-y_mean)/y_mean)) 0.0\n"
     ]
    },
    {
     "name": "stderr",
     "output_type": "stream",
     "text": [
      "\r",
      " 59%|█████▊    | 211/360 [01:27<00:59,  2.48it/s]"
     ]
    },
    {
     "name": "stdout",
     "output_type": "stream",
     "text": [
      "local Optima\n",
      "y_mean 4.4472310407877895\n",
      "mean_mean 4.222395995187879\n",
      "abs(round((mean_mean-y_mean)/y_mean)) 0.0\n",
      "local Optima\n",
      "y_mean 4.4472310407877895\n",
      "mean_mean 4.399714142533815\n",
      "abs(round((mean_mean-y_mean)/y_mean)) 0.0\n"
     ]
    },
    {
     "name": "stderr",
     "output_type": "stream",
     "text": [
      "\r",
      " 59%|█████▉    | 212/360 [01:27<01:00,  2.44it/s]"
     ]
    },
    {
     "name": "stdout",
     "output_type": "stream",
     "text": [
      "local Optima\n",
      "y_mean 7.451328847953373\n",
      "mean_mean 7.448297548746064\n",
      "abs(round((mean_mean-y_mean)/y_mean)) 0.0\n",
      "local Optima\n",
      "y_mean 7.451328847953373\n",
      "mean_mean 7.448297514123011\n",
      "abs(round((mean_mean-y_mean)/y_mean)) 0.0\n"
     ]
    },
    {
     "name": "stderr",
     "output_type": "stream",
     "text": [
      "\r",
      " 59%|█████▉    | 213/360 [01:28<01:00,  2.45it/s]"
     ]
    },
    {
     "name": "stdout",
     "output_type": "stream",
     "text": [
      "local Optima\n",
      "y_mean 5.086998083006598\n",
      "mean_mean 5.065683877362104\n",
      "abs(round((mean_mean-y_mean)/y_mean)) 0.0\n",
      "local Optima\n",
      "y_mean 5.086998083006598\n",
      "mean_mean 5.065693003798313\n",
      "abs(round((mean_mean-y_mean)/y_mean)) 0.0\n"
     ]
    },
    {
     "name": "stderr",
     "output_type": "stream",
     "text": [
      "\r",
      " 59%|█████▉    | 214/360 [01:28<01:00,  2.43it/s]"
     ]
    },
    {
     "name": "stdout",
     "output_type": "stream",
     "text": [
      "local Optima\n",
      "y_mean 7.213361503975359\n",
      "mean_mean 7.211622873140974\n",
      "abs(round((mean_mean-y_mean)/y_mean)) 0.0\n",
      "local Optima\n",
      "y_mean 7.213361503975359\n",
      "mean_mean 7.211609958496284\n",
      "abs(round((mean_mean-y_mean)/y_mean)) 0.0\n"
     ]
    },
    {
     "name": "stderr",
     "output_type": "stream",
     "text": [
      "\r",
      " 60%|█████▉    | 215/360 [01:29<00:59,  2.44it/s]"
     ]
    },
    {
     "name": "stdout",
     "output_type": "stream",
     "text": [
      "local Optima\n",
      "y_mean 6.750683771508617\n",
      "mean_mean 6.7445042778410516\n",
      "abs(round((mean_mean-y_mean)/y_mean)) 0.0\n",
      "local Optima\n",
      "y_mean 6.750683771508617\n",
      "mean_mean 6.737165089770684\n",
      "abs(round((mean_mean-y_mean)/y_mean)) 0.0\n"
     ]
    },
    {
     "name": "stderr",
     "output_type": "stream",
     "text": [
      "\r",
      " 60%|██████    | 216/360 [01:29<00:58,  2.45it/s]"
     ]
    },
    {
     "name": "stdout",
     "output_type": "stream",
     "text": [
      "local Optima\n",
      "y_mean 8.359434281524493\n",
      "mean_mean 8.357151957466586\n",
      "abs(round((mean_mean-y_mean)/y_mean)) 0.0\n",
      "local Optima\n",
      "y_mean 8.359434281524493\n",
      "mean_mean 8.357105875534275\n",
      "abs(round((mean_mean-y_mean)/y_mean)) 0.0\n"
     ]
    },
    {
     "name": "stderr",
     "output_type": "stream",
     "text": [
      "\r",
      " 60%|██████    | 217/360 [01:29<00:58,  2.46it/s]"
     ]
    },
    {
     "name": "stdout",
     "output_type": "stream",
     "text": [
      "local Optima\n",
      "y_mean 7.591425730984814\n",
      "mean_mean 7.74177459108287\n",
      "abs(round((mean_mean-y_mean)/y_mean)) 0.0\n",
      "local Optima\n",
      "y_mean 7.591425730984814\n",
      "mean_mean 7.565610250585652\n",
      "abs(round((mean_mean-y_mean)/y_mean)) 0.0\n"
     ]
    },
    {
     "name": "stderr",
     "output_type": "stream",
     "text": [
      "\r",
      " 61%|██████    | 218/360 [01:30<00:57,  2.45it/s]"
     ]
    },
    {
     "name": "stdout",
     "output_type": "stream",
     "text": [
      "local Optima\n",
      "y_mean 9.66449028932302\n",
      "mean_mean 9.661853107113442\n",
      "abs(round((mean_mean-y_mean)/y_mean)) 0.0\n",
      "local Optima\n",
      "y_mean 9.66449028932302\n",
      "mean_mean 9.66185335276523\n",
      "abs(round((mean_mean-y_mean)/y_mean)) 0.0\n"
     ]
    },
    {
     "name": "stderr",
     "output_type": "stream",
     "text": [
      "\r",
      " 61%|██████    | 219/360 [01:30<00:56,  2.48it/s]"
     ]
    },
    {
     "name": "stdout",
     "output_type": "stream",
     "text": [
      "local Optima\n",
      "y_mean 7.329209301769118\n",
      "mean_mean 7.419312497004903\n",
      "abs(round((mean_mean-y_mean)/y_mean)) 0.0\n",
      "local Optima\n",
      "y_mean 7.329209301769118\n",
      "mean_mean 7.306273174780103\n",
      "abs(round((mean_mean-y_mean)/y_mean)) 0.0\n"
     ]
    },
    {
     "name": "stderr",
     "output_type": "stream",
     "text": [
      "\r",
      " 61%|██████    | 220/360 [01:31<01:00,  2.31it/s]"
     ]
    },
    {
     "name": "stdout",
     "output_type": "stream",
     "text": [
      "local Optima\n",
      "y_mean 9.37564645374265\n",
      "mean_mean 9.374212770124839\n",
      "abs(round((mean_mean-y_mean)/y_mean)) 0.0\n",
      "local Optima\n",
      "y_mean 9.37564645374265\n",
      "mean_mean 9.374212540635073\n",
      "abs(round((mean_mean-y_mean)/y_mean)) 0.0\n"
     ]
    },
    {
     "name": "stderr",
     "output_type": "stream",
     "text": [
      "\r",
      " 61%|██████▏   | 221/360 [01:31<00:58,  2.37it/s]"
     ]
    },
    {
     "name": "stdout",
     "output_type": "stream",
     "text": [
      "local Optima\n",
      "y_mean 7.360953299336265\n",
      "mean_mean 7.361055910047656\n",
      "abs(round((mean_mean-y_mean)/y_mean)) 0.0\n",
      "local Optima\n",
      "y_mean 7.360953299336265\n",
      "mean_mean 7.3497964283472506\n",
      "abs(round((mean_mean-y_mean)/y_mean)) 0.0\n"
     ]
    },
    {
     "name": "stderr",
     "output_type": "stream",
     "text": [
      "\r",
      " 62%|██████▏   | 222/360 [01:31<00:58,  2.37it/s]"
     ]
    },
    {
     "name": "stdout",
     "output_type": "stream",
     "text": [
      "local Optima\n",
      "y_mean 9.037343833612445\n",
      "mean_mean 9.0360823855519\n",
      "abs(round((mean_mean-y_mean)/y_mean)) 0.0\n",
      "local Optima\n",
      "y_mean 9.037343833612445\n",
      "mean_mean 9.0360824291553\n",
      "abs(round((mean_mean-y_mean)/y_mean)) 0.0\n"
     ]
    },
    {
     "name": "stderr",
     "output_type": "stream",
     "text": [
      "\r",
      " 62%|██████▏   | 223/360 [01:32<00:56,  2.43it/s]"
     ]
    },
    {
     "name": "stdout",
     "output_type": "stream",
     "text": [
      "local Optima\n",
      "y_mean 4.67039558501234\n",
      "mean_mean 4.8957840285621135\n",
      "abs(round((mean_mean-y_mean)/y_mean)) 0.0\n",
      "local Optima\n",
      "y_mean 4.67039558501234\n",
      "mean_mean 4.599039258116768\n",
      "abs(round((mean_mean-y_mean)/y_mean)) 0.0\n"
     ]
    },
    {
     "name": "stderr",
     "output_type": "stream",
     "text": [
      "\r",
      " 62%|██████▏   | 224/360 [01:32<00:56,  2.41it/s]"
     ]
    },
    {
     "name": "stdout",
     "output_type": "stream",
     "text": [
      "local Optima\n",
      "y_mean 8.180862950323274\n",
      "mean_mean 8.17829901045763\n",
      "abs(round((mean_mean-y_mean)/y_mean)) 0.0\n",
      "local Optima\n",
      "y_mean 8.180862950323274\n",
      "mean_mean 8.17829895001917\n",
      "abs(round((mean_mean-y_mean)/y_mean)) 0.0\n"
     ]
    },
    {
     "name": "stderr",
     "output_type": "stream",
     "text": [
      "\r",
      " 62%|██████▎   | 225/360 [01:33<00:54,  2.46it/s]"
     ]
    },
    {
     "name": "stdout",
     "output_type": "stream",
     "text": [
      "local Optima\n",
      "y_mean 5.644938236363002\n",
      "mean_mean 5.990118958449996\n",
      "abs(round((mean_mean-y_mean)/y_mean)) 0.0\n",
      "local Optima\n",
      "y_mean 5.644938236363002\n",
      "mean_mean 5.587722676586871\n",
      "abs(round((mean_mean-y_mean)/y_mean)) 0.0\n"
     ]
    },
    {
     "name": "stderr",
     "output_type": "stream",
     "text": [
      "\r",
      " 63%|██████▎   | 226/360 [01:33<00:54,  2.45it/s]"
     ]
    },
    {
     "name": "stdout",
     "output_type": "stream",
     "text": [
      "local Optima\n",
      "y_mean 8.44631708420981\n",
      "mean_mean 8.44540905199959\n",
      "abs(round((mean_mean-y_mean)/y_mean)) 0.0\n",
      "local Optima\n",
      "y_mean 8.44631708420981\n",
      "mean_mean 8.445354364098305\n",
      "abs(round((mean_mean-y_mean)/y_mean)) 0.0\n"
     ]
    },
    {
     "name": "stderr",
     "output_type": "stream",
     "text": [
      "\r",
      " 63%|██████▎   | 227/360 [01:33<00:53,  2.47it/s]"
     ]
    },
    {
     "name": "stdout",
     "output_type": "stream",
     "text": [
      "local Optima\n",
      "y_mean 6.411697474150609\n",
      "mean_mean 6.410083224521048\n",
      "abs(round((mean_mean-y_mean)/y_mean)) 0.0\n",
      "local Optima\n",
      "y_mean 6.411697474150609\n",
      "mean_mean 6.38415187283223\n",
      "abs(round((mean_mean-y_mean)/y_mean)) 0.0\n"
     ]
    },
    {
     "name": "stderr",
     "output_type": "stream",
     "text": [
      "\r",
      " 63%|██████▎   | 228/360 [01:34<00:53,  2.46it/s]"
     ]
    },
    {
     "name": "stdout",
     "output_type": "stream",
     "text": [
      "local Optima\n",
      "y_mean 8.832329406332237\n",
      "mean_mean 8.831467910713311\n",
      "abs(round((mean_mean-y_mean)/y_mean)) 0.0\n",
      "local Optima\n",
      "y_mean 8.832329406332237\n",
      "mean_mean 8.831443319527324\n",
      "abs(round((mean_mean-y_mean)/y_mean)) 0.0\n"
     ]
    },
    {
     "name": "stderr",
     "output_type": "stream",
     "text": [
      "\r",
      " 64%|██████▎   | 229/360 [01:34<00:52,  2.48it/s]"
     ]
    },
    {
     "name": "stdout",
     "output_type": "stream",
     "text": [
      "local Optima\n",
      "y_mean 4.180570899516379\n",
      "mean_mean 4.241841871018338\n",
      "abs(round((mean_mean-y_mean)/y_mean)) 0.0\n",
      "local Optima\n",
      "y_mean 4.180570899516379\n",
      "mean_mean 4.109316786922015\n",
      "abs(round((mean_mean-y_mean)/y_mean)) 0.0\n"
     ]
    },
    {
     "name": "stderr",
     "output_type": "stream",
     "text": [
      "\r",
      " 64%|██████▍   | 230/360 [01:35<00:53,  2.44it/s]"
     ]
    },
    {
     "name": "stdout",
     "output_type": "stream",
     "text": [
      "local Optima\n",
      "y_mean 7.694370102742521\n",
      "mean_mean 7.691908858098474\n",
      "abs(round((mean_mean-y_mean)/y_mean)) 0.0\n",
      "local Optima\n",
      "y_mean 7.694370102742521\n",
      "mean_mean 7.691908703911772\n",
      "abs(round((mean_mean-y_mean)/y_mean)) 0.0\n"
     ]
    },
    {
     "name": "stderr",
     "output_type": "stream",
     "text": [
      "\r",
      " 64%|██████▍   | 231/360 [01:35<00:53,  2.43it/s]"
     ]
    },
    {
     "name": "stdout",
     "output_type": "stream",
     "text": [
      "local Optima\n",
      "y_mean 5.468619166921546\n",
      "mean_mean 5.41989462628434\n",
      "abs(round((mean_mean-y_mean)/y_mean)) 0.0\n",
      "local Optima\n",
      "y_mean 5.468619166921546\n",
      "mean_mean 5.4198934326797295\n",
      "abs(round((mean_mean-y_mean)/y_mean)) 0.0\n"
     ]
    },
    {
     "name": "stderr",
     "output_type": "stream",
     "text": [
      "\r",
      " 64%|██████▍   | 232/360 [01:36<00:52,  2.42it/s]"
     ]
    },
    {
     "name": "stdout",
     "output_type": "stream",
     "text": [
      "local Optima\n",
      "y_mean 9.019000043522741\n",
      "mean_mean 9.015951143984038\n",
      "abs(round((mean_mean-y_mean)/y_mean)) 0.0\n",
      "local Optima\n",
      "y_mean 9.019000043522741\n",
      "mean_mean 9.015950316880042\n",
      "abs(round((mean_mean-y_mean)/y_mean)) 0.0\n"
     ]
    },
    {
     "name": "stderr",
     "output_type": "stream",
     "text": [
      "\r",
      " 65%|██████▍   | 233/360 [01:36<00:51,  2.45it/s]"
     ]
    },
    {
     "name": "stdout",
     "output_type": "stream",
     "text": [
      "local Optima\n",
      "y_mean 6.348079822051147\n",
      "mean_mean 6.323282148014109\n",
      "abs(round((mean_mean-y_mean)/y_mean)) 0.0\n",
      "local Optima\n",
      "y_mean 6.348079822051147\n",
      "mean_mean 6.316810664432609\n",
      "abs(round((mean_mean-y_mean)/y_mean)) 0.0\n"
     ]
    },
    {
     "name": "stderr",
     "output_type": "stream",
     "text": [
      "\r",
      " 65%|██████▌   | 234/360 [01:36<00:51,  2.44it/s]"
     ]
    },
    {
     "name": "stdout",
     "output_type": "stream",
     "text": [
      "local Optima\n",
      "y_mean 8.999654786564701\n",
      "mean_mean 8.997554009120643\n",
      "abs(round((mean_mean-y_mean)/y_mean)) 0.0\n",
      "local Optima\n",
      "y_mean 8.999654786564701\n",
      "mean_mean 8.997554610782178\n",
      "abs(round((mean_mean-y_mean)/y_mean)) 0.0\n"
     ]
    },
    {
     "name": "stderr",
     "output_type": "stream",
     "text": [
      "\r",
      " 65%|██████▌   | 235/360 [01:37<00:50,  2.48it/s]"
     ]
    },
    {
     "name": "stdout",
     "output_type": "stream",
     "text": [
      "local Optima\n",
      "y_mean 4.052585983296557\n",
      "mean_mean 4.512970487587996\n",
      "abs(round((mean_mean-y_mean)/y_mean)) 0.0\n",
      "local Optima\n",
      "y_mean 4.052585983296557\n",
      "mean_mean 3.9073072457564377\n",
      "abs(round((mean_mean-y_mean)/y_mean)) 0.0\n"
     ]
    },
    {
     "name": "stderr",
     "output_type": "stream",
     "text": [
      "\r",
      " 66%|██████▌   | 236/360 [01:37<00:50,  2.46it/s]"
     ]
    },
    {
     "name": "stdout",
     "output_type": "stream",
     "text": [
      "local Optima\n",
      "y_mean 8.732078715850093\n",
      "mean_mean 8.730186845655357\n",
      "abs(round((mean_mean-y_mean)/y_mean)) 0.0\n",
      "local Optima\n",
      "y_mean 8.732078715850093\n",
      "mean_mean 8.73018691717948\n",
      "abs(round((mean_mean-y_mean)/y_mean)) 0.0\n"
     ]
    },
    {
     "name": "stderr",
     "output_type": "stream",
     "text": [
      "\r",
      " 66%|██████▌   | 237/360 [01:38<00:49,  2.49it/s]"
     ]
    },
    {
     "name": "stdout",
     "output_type": "stream",
     "text": [
      "local Optima\n",
      "y_mean 5.638779315733559\n",
      "mean_mean 5.996432666834341\n",
      "abs(round((mean_mean-y_mean)/y_mean)) 0.0\n",
      "local Optima\n",
      "y_mean 5.638779315733559\n",
      "mean_mean 5.581100896850338\n",
      "abs(round((mean_mean-y_mean)/y_mean)) 0.0\n"
     ]
    },
    {
     "name": "stderr",
     "output_type": "stream",
     "text": [
      "\r",
      " 66%|██████▌   | 238/360 [01:38<00:49,  2.49it/s]"
     ]
    },
    {
     "name": "stdout",
     "output_type": "stream",
     "text": [
      "local Optima\n",
      "y_mean 8.733149481216476\n",
      "mean_mean 8.732656695387252\n",
      "abs(round((mean_mean-y_mean)/y_mean)) 0.0\n",
      "local Optima\n",
      "y_mean 8.733149481216476\n",
      "mean_mean 8.73225083045146\n",
      "abs(round((mean_mean-y_mean)/y_mean)) 0.0\n"
     ]
    },
    {
     "name": "stderr",
     "output_type": "stream",
     "text": [
      "\r",
      " 66%|██████▋   | 239/360 [01:38<00:48,  2.50it/s]"
     ]
    },
    {
     "name": "stdout",
     "output_type": "stream",
     "text": [
      "local Optima\n",
      "y_mean 7.675689217693471\n",
      "mean_mean 7.979515997893351\n",
      "abs(round((mean_mean-y_mean)/y_mean)) 0.0\n",
      "local Optima\n",
      "y_mean 7.675689217693471\n",
      "mean_mean 7.6594527558407295\n",
      "abs(round((mean_mean-y_mean)/y_mean)) 0.0\n"
     ]
    },
    {
     "name": "stderr",
     "output_type": "stream",
     "text": [
      "\r",
      " 67%|██████▋   | 240/360 [01:39<00:48,  2.46it/s]"
     ]
    },
    {
     "name": "stdout",
     "output_type": "stream",
     "text": [
      "local Optima\n",
      "y_mean 8.953104039895313\n",
      "mean_mean 8.952527784988348\n",
      "abs(round((mean_mean-y_mean)/y_mean)) 0.0\n",
      "local Optima\n",
      "y_mean 8.953104039895313\n",
      "mean_mean 8.952527785588446\n",
      "abs(round((mean_mean-y_mean)/y_mean)) 0.0\n"
     ]
    },
    {
     "name": "stderr",
     "output_type": "stream",
     "text": [
      "\r",
      " 67%|██████▋   | 241/360 [01:39<00:48,  2.47it/s]"
     ]
    },
    {
     "name": "stdout",
     "output_type": "stream",
     "text": [
      "local Optima\n",
      "y_mean 4.498541364606076\n",
      "mean_mean 4.414058838760867\n",
      "abs(round((mean_mean-y_mean)/y_mean)) 0.0\n",
      "local Optima\n",
      "y_mean 4.498541364606076\n",
      "mean_mean 4.414089043017384\n",
      "abs(round((mean_mean-y_mean)/y_mean)) 0.0\n"
     ]
    },
    {
     "name": "stderr",
     "output_type": "stream",
     "text": [
      "\r",
      " 67%|██████▋   | 242/360 [01:40<00:47,  2.47it/s]"
     ]
    },
    {
     "name": "stdout",
     "output_type": "stream",
     "text": [
      "local Optima\n",
      "y_mean 9.126578843380639\n",
      "mean_mean 9.124550513473778\n",
      "abs(round((mean_mean-y_mean)/y_mean)) 0.0\n",
      "local Optima\n",
      "y_mean 9.126578843380639\n",
      "mean_mean 9.123387521549231\n",
      "abs(round((mean_mean-y_mean)/y_mean)) 0.0\n"
     ]
    },
    {
     "name": "stderr",
     "output_type": "stream",
     "text": [
      "\r",
      " 68%|██████▊   | 243/360 [01:40<00:47,  2.49it/s]"
     ]
    },
    {
     "name": "stdout",
     "output_type": "stream",
     "text": [
      "local Optima\n",
      "y_mean 5.861307783923425\n",
      "mean_mean 5.596680803009808\n",
      "abs(round((mean_mean-y_mean)/y_mean)) 0.0\n",
      "local Optima\n",
      "y_mean 5.861307783923425\n",
      "mean_mean 5.830126431700239\n",
      "abs(round((mean_mean-y_mean)/y_mean)) 0.0\n"
     ]
    },
    {
     "name": "stderr",
     "output_type": "stream",
     "text": [
      "\r",
      " 68%|██████▊   | 244/360 [01:40<00:46,  2.48it/s]"
     ]
    },
    {
     "name": "stdout",
     "output_type": "stream",
     "text": [
      "local Optima\n",
      "y_mean 8.98812701682781\n",
      "mean_mean 8.987071775895943\n",
      "abs(round((mean_mean-y_mean)/y_mean)) 0.0\n",
      "local Optima\n",
      "y_mean 8.98812701682781\n",
      "mean_mean 8.986247949391444\n",
      "abs(round((mean_mean-y_mean)/y_mean)) 0.0\n"
     ]
    },
    {
     "name": "stderr",
     "output_type": "stream",
     "text": [
      "\r",
      " 68%|██████▊   | 245/360 [01:41<00:46,  2.49it/s]"
     ]
    },
    {
     "name": "stdout",
     "output_type": "stream",
     "text": [
      "local Optima\n",
      "y_mean 5.965754715610608\n",
      "mean_mean 5.6928202975526405\n",
      "abs(round((mean_mean-y_mean)/y_mean)) 0.0\n",
      "local Optima\n",
      "y_mean 5.965754715610608\n",
      "mean_mean 5.942202701000545\n",
      "abs(round((mean_mean-y_mean)/y_mean)) 0.0\n"
     ]
    },
    {
     "name": "stderr",
     "output_type": "stream",
     "text": [
      "\r",
      " 68%|██████▊   | 246/360 [01:41<00:45,  2.48it/s]"
     ]
    },
    {
     "name": "stdout",
     "output_type": "stream",
     "text": [
      "local Optima\n",
      "y_mean 8.661512608488986\n",
      "mean_mean 8.660537412288551\n",
      "abs(round((mean_mean-y_mean)/y_mean)) 0.0\n",
      "local Optima\n",
      "y_mean 8.661512608488986\n",
      "mean_mean 8.659929832051212\n",
      "abs(round((mean_mean-y_mean)/y_mean)) 0.0\n"
     ]
    },
    {
     "name": "stderr",
     "output_type": "stream",
     "text": [
      "\r",
      " 69%|██████▊   | 247/360 [01:42<00:45,  2.50it/s]"
     ]
    },
    {
     "name": "stdout",
     "output_type": "stream",
     "text": [
      "local Optima\n",
      "y_mean 4.467170863999694\n",
      "mean_mean 4.540048805508973\n",
      "abs(round((mean_mean-y_mean)/y_mean)) 0.0\n",
      "local Optima\n",
      "y_mean 4.467170863999694\n",
      "mean_mean 4.408182844329358\n",
      "abs(round((mean_mean-y_mean)/y_mean)) 0.0\n"
     ]
    },
    {
     "name": "stderr",
     "output_type": "stream",
     "text": [
      "\r",
      " 69%|██████▉   | 248/360 [01:42<00:44,  2.50it/s]"
     ]
    },
    {
     "name": "stdout",
     "output_type": "stream",
     "text": [
      "local Optima\n",
      "y_mean 7.155358652840462\n",
      "mean_mean 7.153868401285254\n",
      "abs(round((mean_mean-y_mean)/y_mean)) 0.0\n",
      "local Optima\n",
      "y_mean 7.155358652840462\n",
      "mean_mean 7.153506559496235\n",
      "abs(round((mean_mean-y_mean)/y_mean)) 0.0\n"
     ]
    },
    {
     "name": "stderr",
     "output_type": "stream",
     "text": [
      "\r",
      " 69%|██████▉   | 249/360 [01:42<00:44,  2.51it/s]"
     ]
    },
    {
     "name": "stdout",
     "output_type": "stream",
     "text": [
      "local Optima\n",
      "y_mean 5.8855806821397545\n",
      "mean_mean 5.695311742770955\n",
      "abs(round((mean_mean-y_mean)/y_mean)) 0.0\n",
      "local Optima\n",
      "y_mean 5.8855806821397545\n",
      "mean_mean 5.863251405416844\n",
      "abs(round((mean_mean-y_mean)/y_mean)) 0.0\n"
     ]
    },
    {
     "name": "stderr",
     "output_type": "stream",
     "text": [
      "\r",
      " 69%|██████▉   | 250/360 [01:43<00:43,  2.50it/s]"
     ]
    },
    {
     "name": "stdout",
     "output_type": "stream",
     "text": [
      "local Optima\n",
      "y_mean 8.28469832910903\n",
      "mean_mean 8.352839923821588\n",
      "abs(round((mean_mean-y_mean)/y_mean)) 0.0\n",
      "local Optima\n",
      "y_mean 8.28469832910903\n",
      "mean_mean 8.283020969823179\n",
      "abs(round((mean_mean-y_mean)/y_mean)) 0.0\n",
      "local Optima\n",
      "y_mean 7.236121615074075\n",
      "mean_mean 7.281159155441324\n",
      "abs(round((mean_mean-y_mean)/y_mean)) 0.0\n"
     ]
    },
    {
     "name": "stderr",
     "output_type": "stream",
     "text": [
      "\r",
      " 70%|██████▉   | 251/360 [01:43<00:45,  2.39it/s]"
     ]
    },
    {
     "name": "stdout",
     "output_type": "stream",
     "text": [
      "local Optima\n",
      "y_mean 7.236121615074075\n",
      "mean_mean 7.227197185934383\n",
      "abs(round((mean_mean-y_mean)/y_mean)) 0.0\n",
      "local Optima\n",
      "y_mean 8.588481646500705\n",
      "mean_mean 8.587796066228869\n",
      "abs(round((mean_mean-y_mean)/y_mean)) 0.0\n"
     ]
    },
    {
     "name": "stderr",
     "output_type": "stream",
     "text": [
      "\r",
      " 70%|███████   | 252/360 [01:44<00:48,  2.24it/s]"
     ]
    },
    {
     "name": "stdout",
     "output_type": "stream",
     "text": [
      "local Optima\n",
      "y_mean 8.588481646500705\n",
      "mean_mean 8.587795871532789\n",
      "abs(round((mean_mean-y_mean)/y_mean)) 0.0\n",
      "local Optima\n",
      "y_mean 5.49947682236956\n",
      "mean_mean 5.027546382644918\n",
      "abs(round((mean_mean-y_mean)/y_mean)) 0.0\n"
     ]
    },
    {
     "name": "stderr",
     "output_type": "stream",
     "text": [
      "\r",
      " 70%|███████   | 253/360 [01:44<00:49,  2.17it/s]"
     ]
    },
    {
     "name": "stdout",
     "output_type": "stream",
     "text": [
      "local Optima\n",
      "y_mean 5.49947682236956\n",
      "mean_mean 5.402249949704541\n",
      "abs(round((mean_mean-y_mean)/y_mean)) 0.0\n"
     ]
    },
    {
     "name": "stderr",
     "output_type": "stream",
     "text": [
      "\r",
      " 71%|███████   | 254/360 [01:45<00:47,  2.25it/s]"
     ]
    },
    {
     "name": "stdout",
     "output_type": "stream",
     "text": [
      "local Optima\n",
      "y_mean 9.675986015204225\n",
      "mean_mean 9.674026668673427\n",
      "abs(round((mean_mean-y_mean)/y_mean)) 0.0\n",
      "local Optima\n",
      "y_mean 9.675986015204225\n",
      "mean_mean 9.673401357621291\n",
      "abs(round((mean_mean-y_mean)/y_mean)) 0.0\n"
     ]
    },
    {
     "name": "stderr",
     "output_type": "stream",
     "text": [
      "\r",
      " 71%|███████   | 255/360 [01:45<00:45,  2.31it/s]"
     ]
    },
    {
     "name": "stdout",
     "output_type": "stream",
     "text": [
      "local Optima\n",
      "y_mean 6.151773908921306\n",
      "mean_mean 5.7197464456983065\n",
      "abs(round((mean_mean-y_mean)/y_mean)) 0.0\n",
      "local Optima\n",
      "y_mean 6.151773908921306\n",
      "mean_mean 6.102147839818741\n",
      "abs(round((mean_mean-y_mean)/y_mean)) 0.0\n"
     ]
    },
    {
     "name": "stderr",
     "output_type": "stream",
     "text": [
      "\r",
      " 71%|███████   | 256/360 [01:45<00:44,  2.36it/s]"
     ]
    },
    {
     "name": "stdout",
     "output_type": "stream",
     "text": [
      "local Optima\n",
      "y_mean 9.650309929556407\n",
      "mean_mean 9.649709999381223\n",
      "abs(round((mean_mean-y_mean)/y_mean)) 0.0\n",
      "local Optima\n",
      "y_mean 9.650309929556407\n",
      "mean_mean 9.648608405603314\n",
      "abs(round((mean_mean-y_mean)/y_mean)) 0.0\n",
      "local Optima\n",
      "y_mean 7.828741066481295\n",
      "mean_mean 7.713121590510622\n",
      "abs(round((mean_mean-y_mean)/y_mean)) 0.0\n",
      "local Optima\n",
      "y_mean 7.828741066481295\n",
      "mean_mean 7.816247536806842\n",
      "abs(round((mean_mean-y_mean)/y_mean)) 0.0\n"
     ]
    },
    {
     "name": "stderr",
     "output_type": "stream",
     "text": [
      " 72%|███████▏  | 258/360 [01:46<00:45,  2.26it/s]"
     ]
    },
    {
     "name": "stdout",
     "output_type": "stream",
     "text": [
      "local Optima\n",
      "y_mean 9.646351113371953\n",
      "mean_mean 9.67754807598483\n",
      "abs(round((mean_mean-y_mean)/y_mean)) 0.0\n",
      "local Optima\n",
      "y_mean 9.646351113371953\n",
      "mean_mean 9.645495464883922\n",
      "abs(round((mean_mean-y_mean)/y_mean)) 0.0\n"
     ]
    },
    {
     "name": "stderr",
     "output_type": "stream",
     "text": [
      "\r",
      " 72%|███████▏  | 259/360 [01:47<00:45,  2.21it/s]"
     ]
    },
    {
     "name": "stdout",
     "output_type": "stream",
     "text": [
      "local Optima\n",
      "y_mean 4.006471014274291\n",
      "mean_mean 4.256362330109617\n",
      "abs(round((mean_mean-y_mean)/y_mean)) 0.0\n",
      "local Optima\n",
      "y_mean 4.006471014274291\n",
      "mean_mean 3.93413106169818\n",
      "abs(round((mean_mean-y_mean)/y_mean)) 0.0\n",
      "local Optima\n",
      "y_mean 6.715473993788901\n",
      "mean_mean 6.713861395085973\n",
      "abs(round((mean_mean-y_mean)/y_mean)) 0.0\n"
     ]
    },
    {
     "name": "stderr",
     "output_type": "stream",
     "text": [
      "\r",
      " 72%|███████▏  | 260/360 [01:47<00:47,  2.12it/s]"
     ]
    },
    {
     "name": "stdout",
     "output_type": "stream",
     "text": [
      "local Optima\n",
      "y_mean 6.715473993788901\n",
      "mean_mean 6.713861640847338\n",
      "abs(round((mean_mean-y_mean)/y_mean)) 0.0\n",
      "local Optima\n",
      "y_mean 5.352168638859557\n",
      "mean_mean 5.179334505483398\n",
      "abs(round((mean_mean-y_mean)/y_mean)) 0.0\n"
     ]
    },
    {
     "name": "stderr",
     "output_type": "stream",
     "text": [
      "\r",
      " 72%|███████▎  | 261/360 [01:48<00:49,  1.99it/s]"
     ]
    },
    {
     "name": "stdout",
     "output_type": "stream",
     "text": [
      "local Optima\n",
      "y_mean 5.352168638859557\n",
      "mean_mean 5.3189857161394505\n",
      "abs(round((mean_mean-y_mean)/y_mean)) 0.0\n"
     ]
    },
    {
     "name": "stderr",
     "output_type": "stream",
     "text": [
      "\r",
      " 73%|███████▎  | 262/360 [01:48<00:50,  1.94it/s]"
     ]
    },
    {
     "name": "stdout",
     "output_type": "stream",
     "text": [
      "local Optima\n",
      "y_mean 8.321478484986232\n",
      "mean_mean 8.319951576651755\n",
      "abs(round((mean_mean-y_mean)/y_mean)) 0.0\n",
      "local Optima\n",
      "y_mean 8.321478484986232\n",
      "mean_mean 8.319950739761072\n",
      "abs(round((mean_mean-y_mean)/y_mean)) 0.0\n"
     ]
    },
    {
     "name": "stderr",
     "output_type": "stream",
     "text": [
      "\r",
      " 73%|███████▎  | 263/360 [01:49<00:47,  2.05it/s]"
     ]
    },
    {
     "name": "stdout",
     "output_type": "stream",
     "text": [
      "local Optima\n",
      "y_mean 6.674931279807608\n",
      "mean_mean 6.832145759094559\n",
      "abs(round((mean_mean-y_mean)/y_mean)) 0.0\n",
      "local Optima\n",
      "y_mean 6.674931279807608\n",
      "mean_mean 6.633464056896002\n",
      "abs(round((mean_mean-y_mean)/y_mean)) 0.0\n"
     ]
    },
    {
     "name": "stderr",
     "output_type": "stream",
     "text": [
      "\r",
      " 73%|███████▎  | 264/360 [01:49<00:45,  2.12it/s]"
     ]
    },
    {
     "name": "stdout",
     "output_type": "stream",
     "text": [
      "local Optima\n",
      "y_mean 8.880654416995661\n",
      "mean_mean 8.880286302778256\n",
      "abs(round((mean_mean-y_mean)/y_mean)) 0.0\n",
      "local Optima\n",
      "y_mean 8.880654416995661\n",
      "mean_mean 8.87994939065274\n",
      "abs(round((mean_mean-y_mean)/y_mean)) 0.0\n"
     ]
    },
    {
     "name": "stderr",
     "output_type": "stream",
     "text": [
      "\r",
      " 74%|███████▎  | 265/360 [01:50<00:43,  2.20it/s]"
     ]
    },
    {
     "name": "stdout",
     "output_type": "stream",
     "text": [
      "local Optima\n",
      "y_mean 5.090998380855373\n",
      "mean_mean 5.035848570549889\n",
      "abs(round((mean_mean-y_mean)/y_mean)) 0.0\n",
      "local Optima\n",
      "y_mean 5.090998380855373\n",
      "mean_mean 5.02392959912173\n",
      "abs(round((mean_mean-y_mean)/y_mean)) 0.0\n",
      "Fit Cholesky decomposition was not successful.\n",
      "local Optima\n",
      "y_mean 9.89344815517189\n",
      "mean_mean 9.891169157315215\n",
      "abs(round((mean_mean-y_mean)/y_mean)) 0.0\n",
      "local Optima\n",
      "y_mean 9.89344815517189\n",
      "mean_mean 9.891169157315215\n",
      "abs(round((mean_mean-y_mean)/y_mean)) 0.0\n"
     ]
    },
    {
     "name": "stderr",
     "output_type": "stream",
     "text": [
      "\r",
      " 74%|███████▍  | 266/360 [01:50<00:50,  1.87it/s]"
     ]
    },
    {
     "name": "stdout",
     "output_type": "stream",
     "text": [
      "local Optima\n",
      "y_mean 9.89344815517189\n",
      "mean_mean 9.891169213808093\n",
      "abs(round((mean_mean-y_mean)/y_mean)) 0.0\n"
     ]
    },
    {
     "name": "stderr",
     "output_type": "stream",
     "text": [
      "\r",
      " 74%|███████▍  | 267/360 [01:51<00:47,  1.96it/s]"
     ]
    },
    {
     "name": "stdout",
     "output_type": "stream",
     "text": [
      "local Optima\n",
      "y_mean 6.207445232692423\n",
      "mean_mean 6.366038279077556\n",
      "abs(round((mean_mean-y_mean)/y_mean)) 0.0\n",
      "local Optima\n",
      "y_mean 6.207445232692423\n",
      "mean_mean 6.161304205058125\n",
      "abs(round((mean_mean-y_mean)/y_mean)) 0.0\n",
      "local Optima\n",
      "y_mean 9.848601762679417\n",
      "mean_mean 9.846973145787064\n",
      "abs(round((mean_mean-y_mean)/y_mean)) 0.0\n"
     ]
    },
    {
     "name": "stderr",
     "output_type": "stream",
     "text": [
      "\r",
      " 74%|███████▍  | 268/360 [01:51<00:47,  1.94it/s]"
     ]
    },
    {
     "name": "stdout",
     "output_type": "stream",
     "text": [
      "local Optima\n",
      "y_mean 9.848601762679417\n",
      "mean_mean 9.846978587890153\n",
      "abs(round((mean_mean-y_mean)/y_mean)) 0.0\n"
     ]
    },
    {
     "name": "stderr",
     "output_type": "stream",
     "text": [
      "\r",
      " 75%|███████▍  | 269/360 [01:52<00:43,  2.08it/s]"
     ]
    },
    {
     "name": "stdout",
     "output_type": "stream",
     "text": [
      "local Optima\n",
      "y_mean 7.054187563155158\n",
      "mean_mean 7.254910951952763\n",
      "abs(round((mean_mean-y_mean)/y_mean)) 0.0\n",
      "local Optima\n",
      "y_mean 7.054187563155158\n",
      "mean_mean 7.0330034000758985\n",
      "abs(round((mean_mean-y_mean)/y_mean)) 0.0\n"
     ]
    },
    {
     "name": "stderr",
     "output_type": "stream",
     "text": [
      "\r",
      " 75%|███████▌  | 270/360 [01:52<00:43,  2.07it/s]"
     ]
    },
    {
     "name": "stdout",
     "output_type": "stream",
     "text": [
      "local Optima\n",
      "y_mean 9.587941307325918\n",
      "mean_mean 9.586802248814456\n",
      "abs(round((mean_mean-y_mean)/y_mean)) 0.0\n",
      "local Optima\n",
      "y_mean 9.587941307325918\n",
      "mean_mean 9.586802236344457\n",
      "abs(round((mean_mean-y_mean)/y_mean)) 0.0\n"
     ]
    },
    {
     "name": "stderr",
     "output_type": "stream",
     "text": [
      "\r",
      " 75%|███████▌  | 271/360 [01:53<00:40,  2.18it/s]"
     ]
    },
    {
     "name": "stdout",
     "output_type": "stream",
     "text": [
      "local Optima\n",
      "y_mean 4.699585273726169\n",
      "mean_mean 4.3534600328645805\n",
      "abs(round((mean_mean-y_mean)/y_mean)) 0.0\n",
      "local Optima\n",
      "y_mean 4.699585273726169\n",
      "mean_mean 4.618355622557316\n",
      "abs(round((mean_mean-y_mean)/y_mean)) 0.0\n"
     ]
    },
    {
     "name": "stderr",
     "output_type": "stream",
     "text": [
      "\r",
      " 76%|███████▌  | 272/360 [01:53<00:38,  2.26it/s]"
     ]
    },
    {
     "name": "stdout",
     "output_type": "stream",
     "text": [
      "local Optima\n",
      "y_mean 7.524256490440284\n",
      "mean_mean 7.525926735199183\n",
      "abs(round((mean_mean-y_mean)/y_mean)) 0.0\n",
      "local Optima\n",
      "y_mean 7.524256490440284\n",
      "mean_mean 7.521037169438477\n",
      "abs(round((mean_mean-y_mean)/y_mean)) 0.0\n"
     ]
    },
    {
     "name": "stderr",
     "output_type": "stream",
     "text": [
      "\r",
      " 76%|███████▌  | 273/360 [01:54<00:37,  2.32it/s]"
     ]
    },
    {
     "name": "stdout",
     "output_type": "stream",
     "text": [
      "local Optima\n",
      "y_mean 5.443749414647245\n",
      "mean_mean 5.4078764957941985\n",
      "abs(round((mean_mean-y_mean)/y_mean)) 0.0\n",
      "local Optima\n",
      "y_mean 5.443749414647245\n",
      "mean_mean 5.40787939266519\n",
      "abs(round((mean_mean-y_mean)/y_mean)) 0.0\n"
     ]
    },
    {
     "name": "stderr",
     "output_type": "stream",
     "text": [
      "\r",
      " 76%|███████▌  | 274/360 [01:54<00:36,  2.37it/s]"
     ]
    },
    {
     "name": "stdout",
     "output_type": "stream",
     "text": [
      "local Optima\n",
      "y_mean 7.2925872408024395\n",
      "mean_mean 7.2958270744182565\n",
      "abs(round((mean_mean-y_mean)/y_mean)) 0.0\n",
      "local Optima\n",
      "y_mean 7.2925872408024395\n",
      "mean_mean 7.2909799162921125\n",
      "abs(round((mean_mean-y_mean)/y_mean)) 0.0\n"
     ]
    },
    {
     "name": "stderr",
     "output_type": "stream",
     "text": [
      "\r",
      " 76%|███████▋  | 275/360 [01:54<00:36,  2.35it/s]"
     ]
    },
    {
     "name": "stdout",
     "output_type": "stream",
     "text": [
      "local Optima\n",
      "y_mean 6.201012701945333\n",
      "mean_mean 6.1847331506721455\n",
      "abs(round((mean_mean-y_mean)/y_mean)) 0.0\n",
      "local Optima\n",
      "y_mean 6.201012701945333\n",
      "mean_mean 6.184070588718229\n",
      "abs(round((mean_mean-y_mean)/y_mean)) 0.0\n",
      "local Optima\n",
      "y_mean 7.751824905422288\n",
      "mean_mean 7.751329839500597\n",
      "abs(round((mean_mean-y_mean)/y_mean)) 0.0\n"
     ]
    },
    {
     "name": "stderr",
     "output_type": "stream",
     "text": [
      "\r",
      " 77%|███████▋  | 276/360 [01:55<00:36,  2.28it/s]"
     ]
    },
    {
     "name": "stdout",
     "output_type": "stream",
     "text": [
      "local Optima\n",
      "y_mean 7.751824905422288\n",
      "mean_mean 7.751029253897965\n",
      "abs(round((mean_mean-y_mean)/y_mean)) 0.0\n"
     ]
    },
    {
     "name": "stderr",
     "output_type": "stream",
     "text": [
      "\r",
      " 77%|███████▋  | 277/360 [01:55<00:35,  2.34it/s]"
     ]
    },
    {
     "name": "stdout",
     "output_type": "stream",
     "text": [
      "local Optima\n",
      "y_mean 4.039072201398682\n",
      "mean_mean 4.047545745071127\n",
      "abs(round((mean_mean-y_mean)/y_mean)) 0.0\n",
      "local Optima\n",
      "y_mean 4.039072201398682\n",
      "mean_mean 3.9872590762477245\n",
      "abs(round((mean_mean-y_mean)/y_mean)) 0.0\n",
      "local Optima\n",
      "y_mean 5.558765315450478\n",
      "mean_mean 5.55621137910655\n",
      "abs(round((mean_mean-y_mean)/y_mean)) 0.0\n",
      "local Optima\n",
      "y_mean 5.558765315450478\n",
      "mean_mean 5.556074211281072\n",
      "abs(round((mean_mean-y_mean)/y_mean)) 0.0\n"
     ]
    },
    {
     "name": "stderr",
     "output_type": "stream",
     "text": [
      " 78%|███████▊  | 279/360 [01:56<00:35,  2.29it/s]"
     ]
    },
    {
     "name": "stdout",
     "output_type": "stream",
     "text": [
      "local Optima\n",
      "y_mean 5.891475887148183\n",
      "mean_mean 5.858488665776118\n",
      "abs(round((mean_mean-y_mean)/y_mean)) 0.0\n",
      "local Optima\n",
      "y_mean 5.891475887148183\n",
      "mean_mean 5.8515932873220295\n",
      "abs(round((mean_mean-y_mean)/y_mean)) 0.0\n"
     ]
    },
    {
     "name": "stderr",
     "output_type": "stream",
     "text": [
      "\r",
      " 78%|███████▊  | 280/360 [01:57<00:34,  2.33it/s]"
     ]
    },
    {
     "name": "stdout",
     "output_type": "stream",
     "text": [
      "local Optima\n",
      "y_mean 8.848935489873561\n",
      "mean_mean 8.84553213010948\n",
      "abs(round((mean_mean-y_mean)/y_mean)) 0.0\n",
      "local Optima\n",
      "y_mean 8.848935489873561\n",
      "mean_mean 8.845531295047271\n",
      "abs(round((mean_mean-y_mean)/y_mean)) 0.0\n"
     ]
    },
    {
     "name": "stderr",
     "output_type": "stream",
     "text": [
      "\r",
      " 78%|███████▊  | 281/360 [01:57<00:32,  2.40it/s]"
     ]
    },
    {
     "name": "stdout",
     "output_type": "stream",
     "text": [
      "local Optima\n",
      "y_mean 6.514989598001916\n",
      "mean_mean 6.344244115774692\n",
      "abs(round((mean_mean-y_mean)/y_mean)) 0.0\n",
      "local Optima\n",
      "y_mean 6.514989598001916\n",
      "mean_mean 6.489525936314581\n",
      "abs(round((mean_mean-y_mean)/y_mean)) 0.0\n"
     ]
    },
    {
     "name": "stderr",
     "output_type": "stream",
     "text": [
      "\r",
      " 78%|███████▊  | 282/360 [01:57<00:32,  2.42it/s]"
     ]
    },
    {
     "name": "stdout",
     "output_type": "stream",
     "text": [
      "local Optima\n",
      "y_mean 9.15075547555976\n",
      "mean_mean 9.149576661588462\n",
      "abs(round((mean_mean-y_mean)/y_mean)) 0.0\n",
      "local Optima\n",
      "y_mean 9.15075547555976\n",
      "mean_mean 9.149575658715184\n",
      "abs(round((mean_mean-y_mean)/y_mean)) 0.0\n"
     ]
    },
    {
     "name": "stderr",
     "output_type": "stream",
     "text": [
      "\r",
      " 79%|███████▊  | 283/360 [01:58<00:31,  2.46it/s]"
     ]
    },
    {
     "name": "stdout",
     "output_type": "stream",
     "text": [
      "local Optima\n",
      "y_mean 5.507644658032123\n",
      "mean_mean 5.4599611299299955\n",
      "abs(round((mean_mean-y_mean)/y_mean)) 0.0\n",
      "local Optima\n",
      "y_mean 5.507644658032123\n",
      "mean_mean 5.459960389953359\n",
      "abs(round((mean_mean-y_mean)/y_mean)) 0.0\n",
      "Fit Cholesky decomposition was not successful.\n",
      "Fit Cholesky decomposition was not successful.\n"
     ]
    },
    {
     "name": "stderr",
     "output_type": "stream",
     "text": [
      "\r",
      " 79%|███████▉  | 284/360 [01:59<00:40,  1.86it/s]"
     ]
    },
    {
     "name": "stdout",
     "output_type": "stream",
     "text": [
      "local Optima\n",
      "y_mean 8.018607154493829\n",
      "mean_mean 8.01486631715453\n",
      "abs(round((mean_mean-y_mean)/y_mean)) 0.0\n",
      "local Optima\n",
      "y_mean 8.018607154493829\n",
      "mean_mean 8.01486631715453\n",
      "abs(round((mean_mean-y_mean)/y_mean)) 0.0\n",
      "local Optima\n",
      "y_mean 8.018607154493829\n",
      "mean_mean 8.01486631715453\n",
      "abs(round((mean_mean-y_mean)/y_mean)) 0.0\n",
      "local Optima\n",
      "y_mean 8.018607154493829\n",
      "mean_mean 8.014866961709116\n",
      "abs(round((mean_mean-y_mean)/y_mean)) 0.0\n"
     ]
    },
    {
     "name": "stderr",
     "output_type": "stream",
     "text": [
      "\r",
      " 79%|███████▉  | 285/360 [01:59<00:36,  2.03it/s]"
     ]
    },
    {
     "name": "stdout",
     "output_type": "stream",
     "text": [
      "local Optima\n",
      "y_mean 5.552971988308996\n",
      "mean_mean 5.592307958214898\n",
      "abs(round((mean_mean-y_mean)/y_mean)) 0.0\n",
      "local Optima\n",
      "y_mean 5.552971988308996\n",
      "mean_mean 5.514712225262603\n",
      "abs(round((mean_mean-y_mean)/y_mean)) 0.0\n"
     ]
    },
    {
     "name": "stderr",
     "output_type": "stream",
     "text": [
      "\r",
      " 79%|███████▉  | 286/360 [01:59<00:34,  2.16it/s]"
     ]
    },
    {
     "name": "stdout",
     "output_type": "stream",
     "text": [
      "local Optima\n",
      "y_mean 7.818885820373532\n",
      "mean_mean 7.8175971886327655\n",
      "abs(round((mean_mean-y_mean)/y_mean)) 0.0\n",
      "local Optima\n",
      "y_mean 7.818885820373532\n",
      "mean_mean 7.81759737226406\n",
      "abs(round((mean_mean-y_mean)/y_mean)) 0.0\n"
     ]
    },
    {
     "name": "stderr",
     "output_type": "stream",
     "text": [
      "\r",
      " 80%|███████▉  | 287/360 [02:00<00:32,  2.25it/s]"
     ]
    },
    {
     "name": "stdout",
     "output_type": "stream",
     "text": [
      "local Optima\n",
      "y_mean 7.136608521873498\n",
      "mean_mean 7.291346782475227\n",
      "abs(round((mean_mean-y_mean)/y_mean)) 0.0\n",
      "local Optima\n",
      "y_mean 7.136608521873498\n",
      "mean_mean 7.12352138280009\n",
      "abs(round((mean_mean-y_mean)/y_mean)) 0.0\n"
     ]
    },
    {
     "name": "stderr",
     "output_type": "stream",
     "text": [
      "\r",
      " 80%|████████  | 288/360 [02:00<00:32,  2.24it/s]"
     ]
    },
    {
     "name": "stdout",
     "output_type": "stream",
     "text": [
      "local Optima\n",
      "y_mean 8.38269510571416\n",
      "mean_mean 8.381848793811425\n",
      "abs(round((mean_mean-y_mean)/y_mean)) 0.0\n",
      "local Optima\n",
      "y_mean 8.38269510571416\n",
      "mean_mean 8.38184882443051\n",
      "abs(round((mean_mean-y_mean)/y_mean)) 0.0\n"
     ]
    },
    {
     "name": "stderr",
     "output_type": "stream",
     "text": [
      "\r",
      " 80%|████████  | 289/360 [02:01<00:31,  2.28it/s]"
     ]
    },
    {
     "name": "stdout",
     "output_type": "stream",
     "text": [
      "local Optima\n",
      "y_mean 4.542849292260843\n",
      "mean_mean 4.229835369567698\n",
      "abs(round((mean_mean-y_mean)/y_mean)) 0.0\n",
      "local Optima\n",
      "y_mean 4.542849292260843\n",
      "mean_mean 4.486475960972868\n",
      "abs(round((mean_mean-y_mean)/y_mean)) 0.0\n"
     ]
    },
    {
     "name": "stderr",
     "output_type": "stream",
     "text": [
      "\r",
      " 81%|████████  | 290/360 [02:01<00:30,  2.32it/s]"
     ]
    },
    {
     "name": "stdout",
     "output_type": "stream",
     "text": [
      "local Optima\n",
      "y_mean 7.864165202321151\n",
      "mean_mean 7.862261137274425\n",
      "abs(round((mean_mean-y_mean)/y_mean)) 0.0\n",
      "local Optima\n",
      "y_mean 7.864165202321151\n",
      "mean_mean 7.862261247771949\n",
      "abs(round((mean_mean-y_mean)/y_mean)) 0.0\n"
     ]
    },
    {
     "name": "stderr",
     "output_type": "stream",
     "text": [
      "\r",
      " 81%|████████  | 291/360 [02:01<00:28,  2.39it/s]"
     ]
    },
    {
     "name": "stdout",
     "output_type": "stream",
     "text": [
      "local Optima\n",
      "y_mean 5.387675896657905\n",
      "mean_mean 5.135432499425419\n",
      "abs(round((mean_mean-y_mean)/y_mean)) 0.0\n",
      "local Optima\n",
      "y_mean 5.387675896657905\n",
      "mean_mean 5.3591806139738205\n",
      "abs(round((mean_mean-y_mean)/y_mean)) 0.0\n",
      "local Optima\n",
      "y_mean 8.108669179929905\n",
      "mean_mean 8.107648907374989\n",
      "abs(round((mean_mean-y_mean)/y_mean)) 0.0\n",
      "local Optima\n",
      "y_mean 8.108669179929905\n",
      "mean_mean 8.107648885353033\n",
      "abs(round((mean_mean-y_mean)/y_mean)) 0.0\n"
     ]
    },
    {
     "name": "stderr",
     "output_type": "stream",
     "text": [
      "\r",
      " 81%|████████  | 292/360 [02:02<00:29,  2.31it/s]"
     ]
    },
    {
     "name": "stdout",
     "output_type": "stream",
     "text": [
      "local Optima\n",
      "y_mean 6.173807698433042\n",
      "mean_mean 6.003951108020136\n",
      "abs(round((mean_mean-y_mean)/y_mean)) 0.0\n"
     ]
    },
    {
     "name": "stderr",
     "output_type": "stream",
     "text": [
      "\r",
      " 81%|████████▏ | 293/360 [02:02<00:29,  2.23it/s]"
     ]
    },
    {
     "name": "stdout",
     "output_type": "stream",
     "text": [
      "local Optima\n",
      "y_mean 6.173807698433042\n",
      "mean_mean 6.153803143567552\n",
      "abs(round((mean_mean-y_mean)/y_mean)) 0.0\n"
     ]
    },
    {
     "name": "stderr",
     "output_type": "stream",
     "text": [
      "\r",
      " 82%|████████▏ | 294/360 [02:03<00:29,  2.21it/s]"
     ]
    },
    {
     "name": "stdout",
     "output_type": "stream",
     "text": [
      "local Optima\n",
      "y_mean 8.56652963683868\n",
      "mean_mean 8.566269083964526\n",
      "abs(round((mean_mean-y_mean)/y_mean)) 0.0\n",
      "local Optima\n",
      "y_mean 8.56652963683868\n",
      "mean_mean 8.566059469606003\n",
      "abs(round((mean_mean-y_mean)/y_mean)) 0.0\n",
      "local Optima\n",
      "y_mean 4.572790668881656\n",
      "mean_mean 4.142038592587826\n",
      "abs(round((mean_mean-y_mean)/y_mean)) 0.0\n"
     ]
    },
    {
     "name": "stderr",
     "output_type": "stream",
     "text": [
      "\r",
      " 82%|████████▏ | 295/360 [02:04<00:33,  1.94it/s]"
     ]
    },
    {
     "name": "stdout",
     "output_type": "stream",
     "text": [
      "local Optima\n",
      "y_mean 4.572790668881656\n",
      "mean_mean 4.496054975348896\n",
      "abs(round((mean_mean-y_mean)/y_mean)) 0.0\n"
     ]
    },
    {
     "name": "stderr",
     "output_type": "stream",
     "text": [
      "\r",
      " 82%|████████▏ | 296/360 [02:04<00:31,  2.06it/s]"
     ]
    },
    {
     "name": "stdout",
     "output_type": "stream",
     "text": [
      "local Optima\n",
      "y_mean 9.337385312615522\n",
      "mean_mean 9.33507569246957\n",
      "abs(round((mean_mean-y_mean)/y_mean)) 0.0\n",
      "local Optima\n",
      "y_mean 9.337385312615522\n",
      "mean_mean 9.335075749997475\n",
      "abs(round((mean_mean-y_mean)/y_mean)) 0.0\n"
     ]
    },
    {
     "name": "stderr",
     "output_type": "stream",
     "text": [
      "\r",
      " 82%|████████▎ | 297/360 [02:04<00:28,  2.18it/s]"
     ]
    },
    {
     "name": "stdout",
     "output_type": "stream",
     "text": [
      "local Optima\n",
      "y_mean 5.671687702262872\n",
      "mean_mean 5.393157321539419\n",
      "abs(round((mean_mean-y_mean)/y_mean)) 0.0\n",
      "local Optima\n",
      "y_mean 5.671687702262872\n",
      "mean_mean 5.632470112314843\n",
      "abs(round((mean_mean-y_mean)/y_mean)) 0.0\n"
     ]
    },
    {
     "name": "stderr",
     "output_type": "stream",
     "text": [
      "\r",
      " 83%|████████▎ | 298/360 [02:05<00:27,  2.22it/s]"
     ]
    },
    {
     "name": "stdout",
     "output_type": "stream",
     "text": [
      "local Optima\n",
      "y_mean 9.186128835338764\n",
      "mean_mean 9.185234265965937\n",
      "abs(round((mean_mean-y_mean)/y_mean)) 0.0\n",
      "local Optima\n",
      "y_mean 9.186128835338764\n",
      "mean_mean 9.185234095749001\n",
      "abs(round((mean_mean-y_mean)/y_mean)) 0.0\n"
     ]
    },
    {
     "name": "stderr",
     "output_type": "stream",
     "text": [
      "\r",
      " 83%|████████▎ | 299/360 [02:05<00:26,  2.29it/s]"
     ]
    },
    {
     "name": "stdout",
     "output_type": "stream",
     "text": [
      "local Optima\n",
      "y_mean 6.594975577797501\n",
      "mean_mean 6.356463583388166\n",
      "abs(round((mean_mean-y_mean)/y_mean)) 0.0\n",
      "local Optima\n",
      "y_mean 6.594975577797501\n",
      "mean_mean 6.56548089744358\n",
      "abs(round((mean_mean-y_mean)/y_mean)) 0.0\n",
      "local Optima\n",
      "y_mean 9.42481588748275\n",
      "mean_mean 9.424196201309352\n",
      "abs(round((mean_mean-y_mean)/y_mean)) 0.0\n"
     ]
    },
    {
     "name": "stderr",
     "output_type": "stream",
     "text": [
      "\r",
      " 83%|████████▎ | 300/360 [02:06<00:27,  2.22it/s]"
     ]
    },
    {
     "name": "stdout",
     "output_type": "stream",
     "text": [
      "local Optima\n",
      "y_mean 9.42481588748275\n",
      "mean_mean 9.424196111974808\n",
      "abs(round((mean_mean-y_mean)/y_mean)) 0.0\n"
     ]
    },
    {
     "name": "stderr",
     "output_type": "stream",
     "text": [
      "\r",
      " 84%|████████▎ | 301/360 [02:06<00:26,  2.23it/s]"
     ]
    },
    {
     "name": "stdout",
     "output_type": "stream",
     "text": [
      "local Optima\n",
      "y_mean 4.5405789410862685\n",
      "mean_mean 4.823308561286792\n",
      "abs(round((mean_mean-y_mean)/y_mean)) 0.0\n",
      "local Optima\n",
      "y_mean 4.5405789410862685\n",
      "mean_mean 4.42789100371685\n",
      "abs(round((mean_mean-y_mean)/y_mean)) 0.0\n"
     ]
    },
    {
     "name": "stderr",
     "output_type": "stream",
     "text": [
      "\r",
      " 84%|████████▍ | 302/360 [02:07<00:25,  2.30it/s]"
     ]
    },
    {
     "name": "stdout",
     "output_type": "stream",
     "text": [
      "local Optima\n",
      "y_mean 8.357673409379764\n",
      "mean_mean 8.355525297367365\n",
      "abs(round((mean_mean-y_mean)/y_mean)) 0.0\n",
      "local Optima\n",
      "y_mean 8.357673409379764\n",
      "mean_mean 8.355526408545458\n",
      "abs(round((mean_mean-y_mean)/y_mean)) 0.0\n",
      "local Optima\n",
      "y_mean 6.292234835526918\n",
      "mean_mean 6.417826244557802\n",
      "abs(round((mean_mean-y_mean)/y_mean)) 0.0\n",
      "local Optima\n",
      "y_mean 6.292234835526918\n",
      "mean_mean 6.255619217280618\n"
     ]
    },
    {
     "name": "stderr",
     "output_type": "stream",
     "text": [
      "\r",
      " 84%|████████▍ | 303/360 [02:07<00:24,  2.30it/s]"
     ]
    },
    {
     "name": "stdout",
     "output_type": "stream",
     "text": [
      "abs(round((mean_mean-y_mean)/y_mean)) 0.0\n"
     ]
    },
    {
     "name": "stderr",
     "output_type": "stream",
     "text": [
      "\r",
      " 84%|████████▍ | 304/360 [02:07<00:24,  2.30it/s]"
     ]
    },
    {
     "name": "stdout",
     "output_type": "stream",
     "text": [
      "local Optima\n",
      "y_mean 8.243632693690024\n",
      "mean_mean 8.277782824587554\n",
      "abs(round((mean_mean-y_mean)/y_mean)) 0.0\n",
      "local Optima\n",
      "y_mean 8.243632693690024\n",
      "mean_mean 8.242030244439324\n",
      "abs(round((mean_mean-y_mean)/y_mean)) 0.0\n"
     ]
    },
    {
     "name": "stderr",
     "output_type": "stream",
     "text": [
      "\r",
      " 85%|████████▍ | 305/360 [02:08<00:23,  2.38it/s]"
     ]
    },
    {
     "name": "stdout",
     "output_type": "stream",
     "text": [
      "local Optima\n",
      "y_mean 6.722349480774227\n",
      "mean_mean 6.743042405590075\n",
      "abs(round((mean_mean-y_mean)/y_mean)) 0.0\n",
      "local Optima\n",
      "y_mean 6.722349480774227\n",
      "mean_mean 6.701031319201405\n",
      "abs(round((mean_mean-y_mean)/y_mean)) 0.0\n"
     ]
    },
    {
     "name": "stderr",
     "output_type": "stream",
     "text": [
      "\r",
      " 85%|████████▌ | 306/360 [02:08<00:22,  2.43it/s]"
     ]
    },
    {
     "name": "stdout",
     "output_type": "stream",
     "text": [
      "local Optima\n",
      "y_mean 9.006091488925112\n",
      "mean_mean 9.005479732314669\n",
      "abs(round((mean_mean-y_mean)/y_mean)) 0.0\n",
      "local Optima\n",
      "y_mean 9.006091488925112\n",
      "mean_mean 9.005442194995316\n",
      "abs(round((mean_mean-y_mean)/y_mean)) 0.0\n",
      "local Optima\n",
      "y_mean 6.069771914262328\n",
      "mean_mean 6.011022514510193\n",
      "abs(round((mean_mean-y_mean)/y_mean)) 0.0\n"
     ]
    },
    {
     "name": "stderr",
     "output_type": "stream",
     "text": [
      "\r",
      " 85%|████████▌ | 307/360 [02:09<00:23,  2.26it/s]"
     ]
    },
    {
     "name": "stdout",
     "output_type": "stream",
     "text": [
      "local Optima\n",
      "y_mean 6.069771914262328\n",
      "mean_mean 5.993047243569321\n",
      "abs(round((mean_mean-y_mean)/y_mean)) 0.0\n",
      "local Optima\n",
      "y_mean 9.352740630034413\n",
      "mean_mean 9.453194305864939\n",
      "abs(round((mean_mean-y_mean)/y_mean)) 0.0\n",
      "local Optima\n",
      "y_mean 9.352740630034413\n",
      "mean_mean 9.35014698114689\n",
      "abs(round((mean_mean-y_mean)/y_mean)) 0.0\n"
     ]
    },
    {
     "name": "stderr",
     "output_type": "stream",
     "text": [
      " 86%|████████▌ | 309/360 [02:10<00:23,  2.20it/s]"
     ]
    },
    {
     "name": "stdout",
     "output_type": "stream",
     "text": [
      "local Optima\n",
      "y_mean 6.675837361212242\n",
      "mean_mean 6.54792574209768\n",
      "abs(round((mean_mean-y_mean)/y_mean)) 0.0\n",
      "local Optima\n",
      "y_mean 6.675837361212242\n",
      "mean_mean 6.646862449086534\n",
      "abs(round((mean_mean-y_mean)/y_mean)) 0.0\n"
     ]
    },
    {
     "name": "stderr",
     "output_type": "stream",
     "text": [
      "\r",
      " 86%|████████▌ | 310/360 [02:10<00:21,  2.32it/s]"
     ]
    },
    {
     "name": "stdout",
     "output_type": "stream",
     "text": [
      "local Optima\n",
      "y_mean 9.077414367299895\n",
      "mean_mean 9.161664085571417\n",
      "abs(round((mean_mean-y_mean)/y_mean)) 0.0\n",
      "local Optima\n",
      "y_mean 9.077414367299895\n",
      "mean_mean 9.075869509967575\n",
      "abs(round((mean_mean-y_mean)/y_mean)) 0.0\n"
     ]
    },
    {
     "name": "stderr",
     "output_type": "stream",
     "text": [
      "\r",
      " 86%|████████▋ | 311/360 [02:10<00:20,  2.37it/s]"
     ]
    },
    {
     "name": "stdout",
     "output_type": "stream",
     "text": [
      "local Optima\n",
      "y_mean 7.466538744160349\n",
      "mean_mean 7.527030644058798\n",
      "abs(round((mean_mean-y_mean)/y_mean)) 0.0\n",
      "local Optima\n",
      "y_mean 7.466538744160349\n",
      "mean_mean 7.4411603993338975\n",
      "abs(round((mean_mean-y_mean)/y_mean)) 0.0\n"
     ]
    },
    {
     "name": "stderr",
     "output_type": "stream",
     "text": [
      "\r",
      " 87%|████████▋ | 312/360 [02:11<00:20,  2.36it/s]"
     ]
    },
    {
     "name": "stdout",
     "output_type": "stream",
     "text": [
      "local Optima\n",
      "y_mean 9.394502646792539\n",
      "mean_mean 9.393401121909868\n",
      "abs(round((mean_mean-y_mean)/y_mean)) 0.0\n",
      "local Optima\n",
      "y_mean 9.394502646792539\n",
      "mean_mean 9.393401114684126\n",
      "abs(round((mean_mean-y_mean)/y_mean)) 0.0\n"
     ]
    },
    {
     "name": "stderr",
     "output_type": "stream",
     "text": [
      "\r",
      " 87%|████████▋ | 313/360 [02:11<00:19,  2.38it/s]"
     ]
    },
    {
     "name": "stdout",
     "output_type": "stream",
     "text": [
      "local Optima\n",
      "y_mean 5.861697418717336\n",
      "mean_mean 5.78514558172613\n",
      "abs(round((mean_mean-y_mean)/y_mean)) 0.0\n",
      "local Optima\n",
      "y_mean 5.861697418717336\n",
      "mean_mean 5.776997921047756\n",
      "abs(round((mean_mean-y_mean)/y_mean)) 0.0\n"
     ]
    },
    {
     "name": "stderr",
     "output_type": "stream",
     "text": [
      "\r",
      " 87%|████████▋ | 314/360 [02:12<00:19,  2.35it/s]"
     ]
    },
    {
     "name": "stdout",
     "output_type": "stream",
     "text": [
      "local Optima\n",
      "y_mean 9.131447427546846\n",
      "mean_mean 9.128952312282626\n",
      "abs(round((mean_mean-y_mean)/y_mean)) 0.0\n",
      "local Optima\n",
      "y_mean 9.131447427546846\n",
      "mean_mean 9.128952302790811\n",
      "abs(round((mean_mean-y_mean)/y_mean)) 0.0\n",
      "local Optima\n",
      "y_mean 6.412821016177022\n",
      "mean_mean 6.399789153410925\n",
      "abs(round((mean_mean-y_mean)/y_mean)) 0.0\n"
     ]
    },
    {
     "name": "stderr",
     "output_type": "stream",
     "text": [
      "\r",
      " 88%|████████▊ | 315/360 [02:12<00:19,  2.32it/s]"
     ]
    },
    {
     "name": "stdout",
     "output_type": "stream",
     "text": [
      "local Optima\n",
      "y_mean 6.412821016177022\n",
      "mean_mean 6.374840536495624\n",
      "abs(round((mean_mean-y_mean)/y_mean)) 0.0\n"
     ]
    },
    {
     "name": "stderr",
     "output_type": "stream",
     "text": [
      "\r",
      " 88%|████████▊ | 316/360 [02:13<00:19,  2.31it/s]"
     ]
    },
    {
     "name": "stdout",
     "output_type": "stream",
     "text": [
      "local Optima\n",
      "y_mean 8.71190196423881\n",
      "mean_mean 8.710297072729723\n",
      "abs(round((mean_mean-y_mean)/y_mean)) 0.0\n",
      "local Optima\n",
      "y_mean 8.71190196423881\n",
      "mean_mean 8.710296625432076\n",
      "abs(round((mean_mean-y_mean)/y_mean)) 0.0\n"
     ]
    },
    {
     "name": "stderr",
     "output_type": "stream",
     "text": [
      "\r",
      " 88%|████████▊ | 317/360 [02:13<00:19,  2.25it/s]"
     ]
    },
    {
     "name": "stdout",
     "output_type": "stream",
     "text": [
      "local Optima\n",
      "y_mean 6.194901992408224\n",
      "mean_mean 6.189458441108883\n",
      "abs(round((mean_mean-y_mean)/y_mean)) 0.0\n",
      "local Optima\n",
      "y_mean 6.194901992408224\n",
      "mean_mean 6.163474439288486\n",
      "abs(round((mean_mean-y_mean)/y_mean)) 0.0\n",
      "local Optima\n",
      "y_mean 8.375056232197167\n",
      "mean_mean 8.373533588813997\n",
      "abs(round((mean_mean-y_mean)/y_mean)) 0.0\n",
      "local Optima\n",
      "y_mean 8.375056232197167\n",
      "mean_mean 8.373533702905274\n",
      "abs(round((mean_mean-y_mean)/y_mean)) 0.0\n"
     ]
    },
    {
     "name": "stderr",
     "output_type": "stream",
     "text": [
      " 89%|████████▊ | 319/360 [02:14<00:17,  2.29it/s]"
     ]
    },
    {
     "name": "stdout",
     "output_type": "stream",
     "text": [
      "local Optima\n",
      "y_mean 5.686563027497338\n",
      "mean_mean 5.271242504839259\n",
      "abs(round((mean_mean-y_mean)/y_mean)) 0.0\n",
      "local Optima\n",
      "y_mean 5.686563027497338\n",
      "mean_mean 5.610217606409805\n",
      "abs(round((mean_mean-y_mean)/y_mean)) 0.0\n"
     ]
    },
    {
     "name": "stderr",
     "output_type": "stream",
     "text": [
      "\r",
      " 89%|████████▉ | 320/360 [02:14<00:17,  2.33it/s]"
     ]
    },
    {
     "name": "stdout",
     "output_type": "stream",
     "text": [
      "local Optima\n",
      "y_mean 9.998784465459025\n",
      "mean_mean 9.996708525274876\n",
      "abs(round((mean_mean-y_mean)/y_mean)) 0.0\n",
      "local Optima\n",
      "y_mean 9.998784465459025\n",
      "mean_mean 9.996708544351309\n",
      "abs(round((mean_mean-y_mean)/y_mean)) 0.0\n"
     ]
    },
    {
     "name": "stderr",
     "output_type": "stream",
     "text": [
      "\r",
      " 89%|████████▉ | 321/360 [02:15<00:16,  2.40it/s]"
     ]
    },
    {
     "name": "stdout",
     "output_type": "stream",
     "text": [
      "local Optima\n",
      "y_mean 6.9499495049587345\n",
      "mean_mean 6.738168994627281\n",
      "abs(round((mean_mean-y_mean)/y_mean)) 0.0\n",
      "local Optima\n",
      "y_mean 6.9499495049587345\n",
      "mean_mean 6.929346962111868\n",
      "abs(round((mean_mean-y_mean)/y_mean)) 0.0\n"
     ]
    },
    {
     "name": "stderr",
     "output_type": "stream",
     "text": [
      "\r",
      " 89%|████████▉ | 322/360 [02:15<00:15,  2.40it/s]"
     ]
    },
    {
     "name": "stdout",
     "output_type": "stream",
     "text": [
      "local Optima\n",
      "y_mean 9.805129970494232\n",
      "mean_mean 9.803362600783005\n",
      "abs(round((mean_mean-y_mean)/y_mean)) 0.0\n",
      "local Optima\n",
      "y_mean 9.805129970494232\n",
      "mean_mean 9.80336230502725\n",
      "abs(round((mean_mean-y_mean)/y_mean)) 0.0\n"
     ]
    },
    {
     "name": "stderr",
     "output_type": "stream",
     "text": [
      "\r",
      " 90%|████████▉ | 323/360 [02:15<00:15,  2.44it/s]"
     ]
    },
    {
     "name": "stdout",
     "output_type": "stream",
     "text": [
      "local Optima\n",
      "y_mean 7.364906899170496\n",
      "mean_mean 7.113459656419231\n",
      "abs(round((mean_mean-y_mean)/y_mean)) 0.0\n",
      "local Optima\n",
      "y_mean 7.364906899170496\n",
      "mean_mean 7.355441212125106\n",
      "abs(round((mean_mean-y_mean)/y_mean)) 0.0\n"
     ]
    },
    {
     "name": "stderr",
     "output_type": "stream",
     "text": [
      "\r",
      " 90%|█████████ | 324/360 [02:16<00:14,  2.45it/s]"
     ]
    },
    {
     "name": "stdout",
     "output_type": "stream",
     "text": [
      "local Optima\n",
      "y_mean 9.501254339256306\n",
      "mean_mean 9.499668535213152\n",
      "abs(round((mean_mean-y_mean)/y_mean)) 0.0\n",
      "local Optima\n",
      "y_mean 9.501254339256306\n",
      "mean_mean 9.499668565510772\n",
      "abs(round((mean_mean-y_mean)/y_mean)) 0.0\n"
     ]
    },
    {
     "name": "stderr",
     "output_type": "stream",
     "text": [
      "\r",
      " 90%|█████████ | 325/360 [02:16<00:14,  2.40it/s]"
     ]
    },
    {
     "name": "stdout",
     "output_type": "stream",
     "text": [
      "local Optima\n",
      "y_mean 5.799517681655012\n",
      "mean_mean 5.854607541202605\n",
      "abs(round((mean_mean-y_mean)/y_mean)) 0.0\n",
      "local Optima\n",
      "y_mean 5.799517681655012\n",
      "mean_mean 5.731473734470658\n",
      "abs(round((mean_mean-y_mean)/y_mean)) 0.0\n"
     ]
    },
    {
     "name": "stderr",
     "output_type": "stream",
     "text": [
      "\r",
      " 91%|█████████ | 326/360 [02:17<00:14,  2.34it/s]"
     ]
    },
    {
     "name": "stdout",
     "output_type": "stream",
     "text": [
      "local Optima\n",
      "y_mean 9.661994587425745\n",
      "mean_mean 9.660315245952965\n",
      "abs(round((mean_mean-y_mean)/y_mean)) 0.0\n",
      "local Optima\n",
      "y_mean 9.661994587425745\n",
      "mean_mean 9.660315207667445\n",
      "abs(round((mean_mean-y_mean)/y_mean)) 0.0\n"
     ]
    },
    {
     "name": "stderr",
     "output_type": "stream",
     "text": [
      "\r",
      " 91%|█████████ | 327/360 [02:17<00:13,  2.38it/s]"
     ]
    },
    {
     "name": "stdout",
     "output_type": "stream",
     "text": [
      "local Optima\n",
      "y_mean 6.78477294664785\n",
      "mean_mean 7.080455262900907\n",
      "abs(round((mean_mean-y_mean)/y_mean)) 0.0\n",
      "local Optima\n",
      "y_mean 6.78477294664785\n",
      "mean_mean 6.7536387844884835\n",
      "abs(round((mean_mean-y_mean)/y_mean)) 0.0\n"
     ]
    },
    {
     "name": "stderr",
     "output_type": "stream",
     "text": [
      "\r",
      " 91%|█████████ | 328/360 [02:18<00:13,  2.36it/s]"
     ]
    },
    {
     "name": "stdout",
     "output_type": "stream",
     "text": [
      "local Optima\n",
      "y_mean 9.317817522590941\n",
      "mean_mean 9.316559771423588\n",
      "abs(round((mean_mean-y_mean)/y_mean)) 0.0\n",
      "local Optima\n",
      "y_mean 9.317817522590941\n",
      "mean_mean 9.316545508639743\n",
      "abs(round((mean_mean-y_mean)/y_mean)) 0.0\n",
      "local Optima\n",
      "y_mean 8.143347171239231\n",
      "mean_mean 8.120171580963307\n",
      "abs(round((mean_mean-y_mean)/y_mean)) 0.0\n"
     ]
    },
    {
     "name": "stderr",
     "output_type": "stream",
     "text": [
      "\r",
      " 91%|█████████▏| 329/360 [02:18<00:15,  1.99it/s]"
     ]
    },
    {
     "name": "stdout",
     "output_type": "stream",
     "text": [
      "local Optima\n",
      "y_mean 8.143347171239231\n",
      "mean_mean 8.120172517208916\n",
      "abs(round((mean_mean-y_mean)/y_mean)) 0.0\n",
      "local Optima\n",
      "y_mean 9.867049596843842\n",
      "mean_mean 9.866454054969124\n",
      "abs(round((mean_mean-y_mean)/y_mean)) 0.0\n"
     ]
    },
    {
     "name": "stderr",
     "output_type": "stream",
     "text": [
      "\r",
      " 92%|█████████▏| 330/360 [02:19<00:16,  1.84it/s]"
     ]
    },
    {
     "name": "stdout",
     "output_type": "stream",
     "text": [
      "local Optima\n",
      "y_mean 9.867049596843842\n",
      "mean_mean 9.866454298616178\n",
      "abs(round((mean_mean-y_mean)/y_mean)) 0.0\n"
     ]
    },
    {
     "name": "stderr",
     "output_type": "stream",
     "text": [
      "\r",
      " 92%|█████████▏| 331/360 [02:19<00:15,  1.93it/s]"
     ]
    },
    {
     "name": "stdout",
     "output_type": "stream",
     "text": [
      "local Optima\n",
      "y_mean 5.3389135069475975\n",
      "mean_mean 4.88892017822531\n",
      "abs(round((mean_mean-y_mean)/y_mean)) 0.0\n",
      "local Optima\n",
      "y_mean 5.3389135069475975\n",
      "mean_mean 5.2698779514033705\n",
      "abs(round((mean_mean-y_mean)/y_mean)) 0.0\n"
     ]
    },
    {
     "name": "stderr",
     "output_type": "stream",
     "text": [
      "\r",
      " 92%|█████████▏| 332/360 [02:20<00:13,  2.05it/s]"
     ]
    },
    {
     "name": "stdout",
     "output_type": "stream",
     "text": [
      "local Optima\n",
      "y_mean 9.566419561149395\n",
      "mean_mean 9.565357391986943\n",
      "abs(round((mean_mean-y_mean)/y_mean)) 0.0\n",
      "local Optima\n",
      "y_mean 9.566419561149395\n",
      "mean_mean 9.565357092939774\n",
      "abs(round((mean_mean-y_mean)/y_mean)) 0.0\n"
     ]
    },
    {
     "name": "stderr",
     "output_type": "stream",
     "text": [
      "\r",
      " 92%|█████████▎| 333/360 [02:20<00:12,  2.20it/s]"
     ]
    },
    {
     "name": "stdout",
     "output_type": "stream",
     "text": [
      "local Optima\n",
      "y_mean 5.433994693718671\n",
      "mean_mean 5.392411026644805\n",
      "abs(round((mean_mean-y_mean)/y_mean)) 0.0\n",
      "local Optima\n",
      "y_mean 5.433994693718671\n",
      "mean_mean 5.379085115083934\n",
      "abs(round((mean_mean-y_mean)/y_mean)) 0.0\n"
     ]
    },
    {
     "name": "stderr",
     "output_type": "stream",
     "text": [
      "\r",
      " 93%|█████████▎| 334/360 [02:21<00:11,  2.29it/s]"
     ]
    },
    {
     "name": "stdout",
     "output_type": "stream",
     "text": [
      "local Optima\n",
      "y_mean 9.131866227388095\n",
      "mean_mean 9.130933359534367\n",
      "abs(round((mean_mean-y_mean)/y_mean)) 0.0\n",
      "local Optima\n",
      "y_mean 9.131866227388095\n",
      "mean_mean 9.130933469379364\n",
      "abs(round((mean_mean-y_mean)/y_mean)) 0.0\n"
     ]
    },
    {
     "name": "stderr",
     "output_type": "stream",
     "text": [
      "\r",
      " 93%|█████████▎| 335/360 [02:21<00:10,  2.39it/s]"
     ]
    },
    {
     "name": "stdout",
     "output_type": "stream",
     "text": [
      "local Optima\n",
      "y_mean 6.718130990487922\n",
      "mean_mean 6.078473890053325\n",
      "abs(round((mean_mean-y_mean)/y_mean)) 0.0\n",
      "local Optima\n",
      "y_mean 6.718130990487922\n",
      "mean_mean 6.645383240426098\n",
      "abs(round((mean_mean-y_mean)/y_mean)) 0.0\n"
     ]
    },
    {
     "name": "stderr",
     "output_type": "stream",
     "text": [
      "\r",
      " 93%|█████████▎| 336/360 [02:21<00:10,  2.24it/s]"
     ]
    },
    {
     "name": "stdout",
     "output_type": "stream",
     "text": [
      "local Optima\n",
      "y_mean 10.09645503474953\n",
      "mean_mean 10.095800082013286\n",
      "abs(round((mean_mean-y_mean)/y_mean)) 0.0\n",
      "local Optima\n",
      "y_mean 10.09645503474953\n",
      "mean_mean 10.095800097305988\n",
      "abs(round((mean_mean-y_mean)/y_mean)) 0.0\n"
     ]
    },
    {
     "name": "stderr",
     "output_type": "stream",
     "text": [
      "\r",
      " 94%|█████████▎| 337/360 [02:22<00:09,  2.35it/s]"
     ]
    },
    {
     "name": "stdout",
     "output_type": "stream",
     "text": [
      "local Optima\n",
      "y_mean 4.018494530615349\n",
      "mean_mean 3.8116704945188404\n",
      "abs(round((mean_mean-y_mean)/y_mean)) 0.0\n",
      "local Optima\n",
      "y_mean 4.018494530615349\n",
      "mean_mean 3.9852770283294645\n",
      "abs(round((mean_mean-y_mean)/y_mean)) 0.0\n"
     ]
    },
    {
     "name": "stderr",
     "output_type": "stream",
     "text": [
      "\r",
      " 94%|█████████▍| 338/360 [02:22<00:09,  2.38it/s]"
     ]
    },
    {
     "name": "stdout",
     "output_type": "stream",
     "text": [
      "local Optima\n",
      "y_mean 6.925153991897331\n",
      "mean_mean 6.924356285259237\n",
      "abs(round((mean_mean-y_mean)/y_mean)) 0.0\n",
      "local Optima\n",
      "y_mean 6.925153991897331\n",
      "mean_mean 6.92223859019177\n",
      "abs(round((mean_mean-y_mean)/y_mean)) 0.0\n"
     ]
    },
    {
     "name": "stderr",
     "output_type": "stream",
     "text": [
      "\r",
      " 94%|█████████▍| 339/360 [02:23<00:08,  2.44it/s]"
     ]
    },
    {
     "name": "stdout",
     "output_type": "stream",
     "text": [
      "local Optima\n",
      "y_mean 6.431328493452535\n",
      "mean_mean 6.419391509728212\n",
      "abs(round((mean_mean-y_mean)/y_mean)) 0.0\n",
      "local Optima\n",
      "y_mean 6.431328493452535\n",
      "mean_mean 6.391500357762376\n",
      "abs(round((mean_mean-y_mean)/y_mean)) 0.0\n"
     ]
    },
    {
     "name": "stderr",
     "output_type": "stream",
     "text": [
      "\r",
      " 94%|█████████▍| 340/360 [02:23<00:08,  2.42it/s]"
     ]
    },
    {
     "name": "stdout",
     "output_type": "stream",
     "text": [
      "local Optima\n",
      "y_mean 8.806646611710754\n",
      "mean_mean 8.804451044404432\n",
      "abs(round((mean_mean-y_mean)/y_mean)) 0.0\n",
      "local Optima\n",
      "y_mean 8.806646611710754\n",
      "mean_mean 8.804448786397437\n",
      "abs(round((mean_mean-y_mean)/y_mean)) 0.0\n"
     ]
    },
    {
     "name": "stderr",
     "output_type": "stream",
     "text": [
      "\r",
      " 95%|█████████▍| 341/360 [02:23<00:07,  2.44it/s]"
     ]
    },
    {
     "name": "stdout",
     "output_type": "stream",
     "text": [
      "local Optima\n",
      "y_mean 6.349835890468752\n",
      "mean_mean 6.297347501787167\n",
      "abs(round((mean_mean-y_mean)/y_mean)) 0.0\n",
      "local Optima\n",
      "y_mean 6.349835890468752\n",
      "mean_mean 6.315957250505205\n",
      "abs(round((mean_mean-y_mean)/y_mean)) 0.0\n"
     ]
    },
    {
     "name": "stderr",
     "output_type": "stream",
     "text": [
      "\r",
      " 95%|█████████▌| 342/360 [02:24<00:07,  2.47it/s]"
     ]
    },
    {
     "name": "stdout",
     "output_type": "stream",
     "text": [
      "local Optima\n",
      "y_mean 8.551576878447927\n",
      "mean_mean 8.549922086585681\n",
      "abs(round((mean_mean-y_mean)/y_mean)) 0.0\n",
      "local Optima\n",
      "y_mean 8.551576878447927\n",
      "mean_mean 8.549822048333569\n",
      "abs(round((mean_mean-y_mean)/y_mean)) 0.0\n"
     ]
    },
    {
     "name": "stderr",
     "output_type": "stream",
     "text": [
      "\r",
      " 95%|█████████▌| 343/360 [02:24<00:06,  2.48it/s]"
     ]
    },
    {
     "name": "stdout",
     "output_type": "stream",
     "text": [
      "local Optima\n",
      "y_mean 5.618023495629473\n",
      "mean_mean 5.248296029109627\n",
      "abs(round((mean_mean-y_mean)/y_mean)) 0.0\n",
      "local Optima\n",
      "y_mean 5.618023495629473\n",
      "mean_mean 5.569960441008442\n",
      "abs(round((mean_mean-y_mean)/y_mean)) 0.0\n"
     ]
    },
    {
     "name": "stderr",
     "output_type": "stream",
     "text": [
      "\r",
      " 96%|█████████▌| 344/360 [02:25<00:06,  2.50it/s]"
     ]
    },
    {
     "name": "stdout",
     "output_type": "stream",
     "text": [
      "local Optima\n",
      "y_mean 9.911943752610917\n",
      "mean_mean 9.908312029452777\n",
      "abs(round((mean_mean-y_mean)/y_mean)) 0.0\n",
      "local Optima\n",
      "y_mean 9.911943752610917\n",
      "mean_mean 9.907243617986284\n",
      "abs(round((mean_mean-y_mean)/y_mean)) 0.0\n"
     ]
    },
    {
     "name": "stderr",
     "output_type": "stream",
     "text": [
      "\r",
      " 96%|█████████▌| 345/360 [02:25<00:06,  2.50it/s]"
     ]
    },
    {
     "name": "stdout",
     "output_type": "stream",
     "text": [
      "local Optima\n",
      "y_mean 6.746028696866923\n",
      "mean_mean 6.6386546773528154\n",
      "abs(round((mean_mean-y_mean)/y_mean)) 0.0\n",
      "local Optima\n",
      "y_mean 6.746028696866923\n",
      "mean_mean 6.704863908851988\n",
      "abs(round((mean_mean-y_mean)/y_mean)) 0.0\n"
     ]
    },
    {
     "name": "stderr",
     "output_type": "stream",
     "text": [
      "\r",
      " 96%|█████████▌| 346/360 [02:25<00:05,  2.52it/s]"
     ]
    },
    {
     "name": "stdout",
     "output_type": "stream",
     "text": [
      "local Optima\n",
      "y_mean 9.75859226587286\n",
      "mean_mean 9.757874492983136\n",
      "abs(round((mean_mean-y_mean)/y_mean)) 0.0\n",
      "local Optima\n",
      "y_mean 9.75859226587286\n",
      "mean_mean 9.755845091752139\n",
      "abs(round((mean_mean-y_mean)/y_mean)) 0.0\n"
     ]
    },
    {
     "name": "stderr",
     "output_type": "stream",
     "text": [
      "\r",
      " 96%|█████████▋| 347/360 [02:26<00:05,  2.54it/s]"
     ]
    },
    {
     "name": "stdout",
     "output_type": "stream",
     "text": [
      "local Optima\n",
      "y_mean 7.395225550335423\n",
      "mean_mean 7.412893160817929\n",
      "abs(round((mean_mean-y_mean)/y_mean)) 0.0\n",
      "local Optima\n",
      "y_mean 7.395225550335423\n",
      "mean_mean 7.371313766032354\n",
      "abs(round((mean_mean-y_mean)/y_mean)) 0.0\n"
     ]
    },
    {
     "name": "stderr",
     "output_type": "stream",
     "text": [
      "\r",
      " 97%|█████████▋| 348/360 [02:26<00:04,  2.50it/s]"
     ]
    },
    {
     "name": "stdout",
     "output_type": "stream",
     "text": [
      "local Optima\n",
      "y_mean 9.945570808856301\n",
      "mean_mean 9.945347416205738\n",
      "abs(round((mean_mean-y_mean)/y_mean)) 0.0\n",
      "local Optima\n",
      "y_mean 9.945570808856301\n",
      "mean_mean 9.944296315325055\n",
      "abs(round((mean_mean-y_mean)/y_mean)) 0.0\n"
     ]
    },
    {
     "name": "stderr",
     "output_type": "stream",
     "text": [
      "\r",
      " 97%|█████████▋| 349/360 [02:27<00:04,  2.34it/s]"
     ]
    },
    {
     "name": "stdout",
     "output_type": "stream",
     "text": [
      "local Optima\n",
      "y_mean 4.8385870702747855\n",
      "mean_mean 4.272735121592461\n",
      "abs(round((mean_mean-y_mean)/y_mean)) 0.0\n",
      "local Optima\n",
      "y_mean 4.8385870702747855\n",
      "mean_mean 4.667626178402227\n",
      "abs(round((mean_mean-y_mean)/y_mean)) 0.0\n"
     ]
    },
    {
     "name": "stderr",
     "output_type": "stream",
     "text": [
      "\r",
      " 97%|█████████▋| 350/360 [02:27<00:04,  2.26it/s]"
     ]
    },
    {
     "name": "stdout",
     "output_type": "stream",
     "text": [
      "local Optima\n",
      "y_mean 10.004069822232431\n",
      "mean_mean 10.001231493537693\n",
      "abs(round((mean_mean-y_mean)/y_mean)) 0.0\n",
      "local Optima\n",
      "y_mean 10.004069822232431\n",
      "mean_mean 10.001227043970918\n",
      "abs(round((mean_mean-y_mean)/y_mean)) 0.0\n",
      "local Optima\n",
      "y_mean 6.447891972207106\n",
      "mean_mean 6.3798827978457515\n",
      "abs(round((mean_mean-y_mean)/y_mean)) 0.0\n"
     ]
    },
    {
     "name": "stderr",
     "output_type": "stream",
     "text": [
      "\r",
      " 98%|█████████▊| 351/360 [02:28<00:04,  2.13it/s]"
     ]
    },
    {
     "name": "stdout",
     "output_type": "stream",
     "text": [
      "local Optima\n",
      "y_mean 6.447891972207106\n",
      "mean_mean 6.392722398524041\n",
      "abs(round((mean_mean-y_mean)/y_mean)) 0.0\n",
      "local Optima\n",
      "y_mean 9.67205636628734\n",
      "mean_mean 9.670307572375432\n",
      "abs(round((mean_mean-y_mean)/y_mean)) 0.0\n"
     ]
    },
    {
     "name": "stderr",
     "output_type": "stream",
     "text": [
      "\r",
      " 98%|█████████▊| 352/360 [02:28<00:04,  1.88it/s]"
     ]
    },
    {
     "name": "stdout",
     "output_type": "stream",
     "text": [
      "local Optima\n",
      "y_mean 9.67205636628734\n",
      "mean_mean 9.670307378804916\n",
      "abs(round((mean_mean-y_mean)/y_mean)) 0.0\n"
     ]
    },
    {
     "name": "stderr",
     "output_type": "stream",
     "text": [
      "\r",
      " 98%|█████████▊| 353/360 [02:29<00:03,  1.97it/s]"
     ]
    },
    {
     "name": "stdout",
     "output_type": "stream",
     "text": [
      "local Optima\n",
      "y_mean 6.89789106235767\n",
      "mean_mean 6.645539096819027\n",
      "abs(round((mean_mean-y_mean)/y_mean)) 0.0\n",
      "local Optima\n",
      "y_mean 6.89789106235767\n",
      "mean_mean 6.860764412442863\n",
      "abs(round((mean_mean-y_mean)/y_mean)) 0.0\n"
     ]
    },
    {
     "name": "stderr",
     "output_type": "stream",
     "text": [
      "\r",
      " 98%|█████████▊| 354/360 [02:29<00:02,  2.08it/s]"
     ]
    },
    {
     "name": "stdout",
     "output_type": "stream",
     "text": [
      "local Optima\n",
      "y_mean 9.51564240200717\n",
      "mean_mean 9.514258508580362\n",
      "abs(round((mean_mean-y_mean)/y_mean)) 0.0\n",
      "local Optima\n",
      "y_mean 9.51564240200717\n",
      "mean_mean 9.514258939802112\n",
      "abs(round((mean_mean-y_mean)/y_mean)) 0.0\n"
     ]
    },
    {
     "name": "stderr",
     "output_type": "stream",
     "text": [
      "\r",
      " 99%|█████████▊| 355/360 [02:30<00:02,  2.22it/s]"
     ]
    },
    {
     "name": "stdout",
     "output_type": "stream",
     "text": [
      "local Optima\n",
      "y_mean 5.306274895824206\n",
      "mean_mean 4.868807947927513\n",
      "abs(round((mean_mean-y_mean)/y_mean)) 0.0\n",
      "local Optima\n",
      "y_mean 5.306274895824206\n",
      "mean_mean 5.195243212143872\n",
      "abs(round((mean_mean-y_mean)/y_mean)) 0.0\n",
      "Fit Cholesky decomposition was not successful.\n",
      "local Optima\n",
      "y_mean 10.183956364714728\n",
      "mean_mean 10.182425241342058\n",
      "abs(round((mean_mean-y_mean)/y_mean)) 0.0\n",
      "local Optima\n",
      "y_mean 10.183956364714728\n",
      "mean_mean 10.182425241342058\n",
      "abs(round((mean_mean-y_mean)/y_mean)) 0.0\n"
     ]
    },
    {
     "name": "stderr",
     "output_type": "stream",
     "text": [
      "\r",
      " 99%|█████████▉| 356/360 [02:30<00:02,  1.95it/s]"
     ]
    },
    {
     "name": "stdout",
     "output_type": "stream",
     "text": [
      "local Optima\n",
      "y_mean 10.183956364714728\n",
      "mean_mean 10.18202184620395\n",
      "abs(round((mean_mean-y_mean)/y_mean)) 0.0\n"
     ]
    },
    {
     "name": "stderr",
     "output_type": "stream",
     "text": [
      "\r",
      " 99%|█████████▉| 357/360 [02:31<00:01,  2.05it/s]"
     ]
    },
    {
     "name": "stdout",
     "output_type": "stream",
     "text": [
      "local Optima\n",
      "y_mean 6.548211744962301\n",
      "mean_mean 6.355014122620288\n",
      "abs(round((mean_mean-y_mean)/y_mean)) 0.0\n",
      "local Optima\n",
      "y_mean 6.548211744962301\n",
      "mean_mean 6.506303838706557\n",
      "abs(round((mean_mean-y_mean)/y_mean)) 0.0\n"
     ]
    },
    {
     "name": "stderr",
     "output_type": "stream",
     "text": [
      "\r",
      " 99%|█████████▉| 358/360 [02:31<00:00,  2.12it/s]"
     ]
    },
    {
     "name": "stdout",
     "output_type": "stream",
     "text": [
      "local Optima\n",
      "y_mean 9.995832454177911\n",
      "mean_mean 9.995108525278226\n",
      "abs(round((mean_mean-y_mean)/y_mean)) 0.0\n",
      "local Optima\n",
      "y_mean 9.995832454177911\n",
      "mean_mean 9.995105514270021\n",
      "abs(round((mean_mean-y_mean)/y_mean)) 0.0\n",
      "local Optima\n",
      "y_mean 7.453833347658965\n",
      "mean_mean 7.092301245773167\n",
      "abs(round((mean_mean-y_mean)/y_mean)) 0.0\n"
     ]
    },
    {
     "name": "stderr",
     "output_type": "stream",
     "text": [
      "\r",
      "100%|█████████▉| 359/360 [02:32<00:00,  2.02it/s]"
     ]
    },
    {
     "name": "stdout",
     "output_type": "stream",
     "text": [
      "local Optima\n",
      "y_mean 7.453833347658965\n",
      "mean_mean 7.431695728470482\n",
      "abs(round((mean_mean-y_mean)/y_mean)) 0.0\n"
     ]
    },
    {
     "name": "stderr",
     "output_type": "stream",
     "text": [
      "100%|██████████| 360/360 [02:32<00:00,  2.36it/s]"
     ]
    },
    {
     "name": "stdout",
     "output_type": "stream",
     "text": [
      "local Optima\n",
      "y_mean 10.010943744887905\n",
      "mean_mean 10.01047777602939\n",
      "abs(round((mean_mean-y_mean)/y_mean)) 0.0\n",
      "local Optima\n",
      "y_mean 10.010943744887905\n",
      "mean_mean 10.010202259233342\n",
      "abs(round((mean_mean-y_mean)/y_mean)) 0.0\n"
     ]
    },
    {
     "name": "stderr",
     "output_type": "stream",
     "text": [
      "\n"
     ]
    }
   ],
   "source": [
    "files = ['low_counts_low_dispersion_non_differentially_expressed_genes_DE_non_DE_genes.csv'\n",
    "         ,'low_counts_high_dispersion_non_differentially_expressed_genes_DE_non_DE_genes.csv'                                      \n",
    "         ,'high_counts_low_dispersion_non_differentially_expressed_genes_DE_non_DE_genes.csv'\n",
    "         ,'high_counts_high_dispersion_non_differentially_expressed_genes_DE_non_DE_genes.csv']\n",
    "\n",
    "X = pd.read_csv('time_points.csv',index_col=[0])\n",
    "\n",
    "for file in files:\n",
    "    print(file)\n",
    "    Y = pd.read_csv(file,index_col=[0])\n",
    "    gp_counts = Fit_GPcounts(X,Y) \n",
    "    likelihoods = ['Gaussian'] #'Negative_binomial',,'Poisson'\n",
    "    for likelihood in likelihoods:\n",
    "        log_likelihood = gp_counts.One_sample_test(likelihood)\n",
    "        log_likelihood.to_csv(\"ll_\"+likelihood+\"_\"+file)"
   ]
  },
  {
   "cell_type": "code",
   "execution_count": 3,
   "metadata": {},
   "outputs": [
    {
     "data": {
      "text/html": [
       "<div>\n",
       "<style scoped>\n",
       "    .dataframe tbody tr th:only-of-type {\n",
       "        vertical-align: middle;\n",
       "    }\n",
       "\n",
       "    .dataframe tbody tr th {\n",
       "        vertical-align: top;\n",
       "    }\n",
       "\n",
       "    .dataframe thead th {\n",
       "        text-align: right;\n",
       "    }\n",
       "</style>\n",
       "<table border=\"1\" class=\"dataframe\">\n",
       "  <thead>\n",
       "    <tr style=\"text-align: right;\">\n",
       "      <th></th>\n",
       "      <th>Dynamic_model_log_likelihood</th>\n",
       "      <th>Constant_model_log_likelihood</th>\n",
       "      <th>log_likelihood_ratio</th>\n",
       "    </tr>\n",
       "  </thead>\n",
       "  <tbody>\n",
       "    <tr>\n",
       "      <th>gene_1</th>\n",
       "      <td>-37.574788</td>\n",
       "      <td>-42.269266</td>\n",
       "      <td>4.694478</td>\n",
       "    </tr>\n",
       "    <tr>\n",
       "      <th>gene_2</th>\n",
       "      <td>-21.127475</td>\n",
       "      <td>-21.127412</td>\n",
       "      <td>-0.000062</td>\n",
       "    </tr>\n",
       "    <tr>\n",
       "      <th>gene_3</th>\n",
       "      <td>-37.914913</td>\n",
       "      <td>-37.508437</td>\n",
       "      <td>-0.406476</td>\n",
       "    </tr>\n",
       "    <tr>\n",
       "      <th>gene_4</th>\n",
       "      <td>-20.675636</td>\n",
       "      <td>-20.675634</td>\n",
       "      <td>-0.000003</td>\n",
       "    </tr>\n",
       "    <tr>\n",
       "      <th>gene_5</th>\n",
       "      <td>-34.471219</td>\n",
       "      <td>-42.191281</td>\n",
       "      <td>7.720062</td>\n",
       "    </tr>\n",
       "    <tr>\n",
       "      <th>...</th>\n",
       "      <td>...</td>\n",
       "      <td>...</td>\n",
       "      <td>...</td>\n",
       "    </tr>\n",
       "    <tr>\n",
       "      <th>gene_356</th>\n",
       "      <td>-20.323807</td>\n",
       "      <td>-20.494668</td>\n",
       "      <td>0.170861</td>\n",
       "    </tr>\n",
       "    <tr>\n",
       "      <th>gene_357</th>\n",
       "      <td>-39.783372</td>\n",
       "      <td>-42.442096</td>\n",
       "      <td>2.658723</td>\n",
       "    </tr>\n",
       "    <tr>\n",
       "      <th>gene_358</th>\n",
       "      <td>-11.997632</td>\n",
       "      <td>-11.997737</td>\n",
       "      <td>0.000105</td>\n",
       "    </tr>\n",
       "    <tr>\n",
       "      <th>gene_359</th>\n",
       "      <td>-35.116495</td>\n",
       "      <td>-38.247876</td>\n",
       "      <td>3.131381</td>\n",
       "    </tr>\n",
       "    <tr>\n",
       "      <th>gene_360</th>\n",
       "      <td>-11.745407</td>\n",
       "      <td>-12.180920</td>\n",
       "      <td>0.435512</td>\n",
       "    </tr>\n",
       "  </tbody>\n",
       "</table>\n",
       "<p>360 rows × 3 columns</p>\n",
       "</div>"
      ],
      "text/plain": [
       "          Dynamic_model_log_likelihood  Constant_model_log_likelihood  \\\n",
       "gene_1                      -37.574788                     -42.269266   \n",
       "gene_2                      -21.127475                     -21.127412   \n",
       "gene_3                      -37.914913                     -37.508437   \n",
       "gene_4                      -20.675636                     -20.675634   \n",
       "gene_5                      -34.471219                     -42.191281   \n",
       "...                                ...                            ...   \n",
       "gene_356                    -20.323807                     -20.494668   \n",
       "gene_357                    -39.783372                     -42.442096   \n",
       "gene_358                    -11.997632                     -11.997737   \n",
       "gene_359                    -35.116495                     -38.247876   \n",
       "gene_360                    -11.745407                     -12.180920   \n",
       "\n",
       "          log_likelihood_ratio  \n",
       "gene_1                4.694478  \n",
       "gene_2               -0.000062  \n",
       "gene_3               -0.406476  \n",
       "gene_4               -0.000003  \n",
       "gene_5                7.720062  \n",
       "...                        ...  \n",
       "gene_356              0.170861  \n",
       "gene_357              2.658723  \n",
       "gene_358              0.000105  \n",
       "gene_359              3.131381  \n",
       "gene_360              0.435512  \n",
       "\n",
       "[360 rows x 3 columns]"
      ]
     },
     "execution_count": 3,
     "metadata": {},
     "output_type": "execute_result"
    }
   ],
   "source": [
    "log_likelihood"
   ]
  },
  {
   "cell_type": "code",
   "execution_count": null,
   "metadata": {},
   "outputs": [],
   "source": []
  }
 ],
 "metadata": {
  "kernelspec": {
   "display_name": "Python [conda env:myenv2] *",
   "language": "python",
   "name": "conda-env-myenv2-py"
  },
  "language_info": {
   "codemirror_mode": {
    "name": "ipython",
    "version": 3
   },
   "file_extension": ".py",
   "mimetype": "text/x-python",
   "name": "python",
   "nbconvert_exporter": "python",
   "pygments_lexer": "ipython3",
   "version": "3.7.6"
  }
 },
 "nbformat": 4,
 "nbformat_minor": 2
}
