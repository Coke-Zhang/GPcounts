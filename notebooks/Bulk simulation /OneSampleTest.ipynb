{
 "cells": [
  {
   "cell_type": "markdown",
   "metadata": {},
   "source": [
    "# One sample test on simulated bulk RNA-seq"
   ]
  },
  {
   "cell_type": "markdown",
   "metadata": {},
   "source": [
    "Nuha BinTayyash, 2020\n",
    "\n",
    "This notebook shows how to run GPcounts with one sample test on simulated bulk RNA-seq datasets."
   ]
  },
  {
   "cell_type": "code",
   "execution_count": 1,
   "metadata": {},
   "outputs": [],
   "source": [
    "import numpy as np\n",
    "import pandas as pd\n",
    "from GPcounts.GPcounts_Module import Fit_GPcounts\n",
    "import gpflow"
   ]
  },
  {
   "cell_type": "code",
   "execution_count": 2,
   "metadata": {},
   "outputs": [
    {
     "name": "stderr",
     "output_type": "stream",
     "text": [
      "\r",
      "  0%|          | 0/358 [00:00<?, ?it/s]"
     ]
    },
    {
     "name": "stdout",
     "output_type": "stream",
     "text": [
      "low_counts_low_dispersion_non_differentially_expressed_genes_DE_non_DE_genes.csv\n"
     ]
    },
    {
     "name": "stderr",
     "output_type": "stream",
     "text": [
      "100%|██████████| 358/358 [23:00<00:00,  3.86s/it]\n",
      "100%|██████████| 358/358 [03:38<00:00,  1.64it/s]\n",
      "100%|██████████| 358/358 [19:25<00:00,  3.25s/it]\n",
      "  0%|          | 0/358 [00:00<?, ?it/s]"
     ]
    },
    {
     "name": "stdout",
     "output_type": "stream",
     "text": [
      "low_counts_high_dispersion_non_differentially_expressed_genes_DE_non_DE_genes.csv\n"
     ]
    },
    {
     "name": "stderr",
     "output_type": "stream",
     "text": [
      "100%|██████████| 358/358 [18:11<00:00,  3.05s/it]\n",
      "100%|██████████| 358/358 [03:16<00:00,  1.82it/s]\n",
      "100%|██████████| 358/358 [17:12<00:00,  2.88s/it]\n",
      "  0%|          | 0/360 [00:00<?, ?it/s]"
     ]
    },
    {
     "name": "stdout",
     "output_type": "stream",
     "text": [
      "high_counts_low_dispersion_non_differentially_expressed_genes_DE_non_DE_genes.csv\n"
     ]
    },
    {
     "name": "stderr",
     "output_type": "stream",
     "text": [
      "100%|██████████| 360/360 [25:55<00:00,  4.32s/it]\n",
      "100%|██████████| 360/360 [03:19<00:00,  1.81it/s]\n",
      "100%|██████████| 360/360 [26:50<00:00,  4.47s/it]\n",
      "  0%|          | 0/360 [00:00<?, ?it/s]"
     ]
    },
    {
     "name": "stdout",
     "output_type": "stream",
     "text": [
      "high_counts_high_dispersion_non_differentially_expressed_genes_DE_non_DE_genes.csv\n"
     ]
    },
    {
     "name": "stderr",
     "output_type": "stream",
     "text": [
      "100%|██████████| 360/360 [17:09<00:00,  2.86s/it]\n",
      "100%|██████████| 360/360 [03:05<00:00,  1.94it/s]\n",
      "100%|██████████| 360/360 [18:08<00:00,  3.02s/it]\n"
     ]
    }
   ],
   "source": [
    "files = ['low_counts_low_dispersion_non_differentially_expressed_genes_DE_non_DE_genes.csv'\n",
    "         ,'low_counts_high_dispersion_non_differentially_expressed_genes_DE_non_DE_genes.csv'                                      \n",
    "         ,'high_counts_low_dispersion_non_differentially_expressed_genes_DE_non_DE_genes.csv'\n",
    "         ,'high_counts_high_dispersion_non_differentially_expressed_genes_DE_non_DE_genes.csv']\n",
    "\n",
    "X = pd.read_csv('time_points.csv',index_col=[0])\n",
    "\n",
    "for file in files:\n",
    "    print(file)\n",
    "    likelihoods = ['Negative_binomial','Gaussian','Poisson'] \n",
    "    for likelihood in likelihoods:\n",
    "        #print(likelihood)\n",
    "        Y = pd.read_csv(file,index_col=[0])\n",
    "        if likelihood == 'Gaussian':\n",
    "            Y = np.log(Y+1) #log transform \n",
    "        gp_counts = Fit_GPcounts(X,Y) \n",
    "        log_likelihood = gp_counts.One_sample_test(likelihood)\n",
    "        log_likelihood.to_csv(\"ll_\"+likelihood+\"_\"+file)\n"
   ]
  },
  {
   "cell_type": "code",
   "execution_count": null,
   "metadata": {},
   "outputs": [],
   "source": []
  }
 ],
 "metadata": {
  "kernelspec": {
   "display_name": "Python [conda env:myenv] *",
   "language": "python",
   "name": "conda-env-myenv-py"
  },
  "language_info": {
   "codemirror_mode": {
    "name": "ipython",
    "version": 3
   },
   "file_extension": ".py",
   "mimetype": "text/x-python",
   "name": "python",
   "nbconvert_exporter": "python",
   "pygments_lexer": "ipython3",
   "version": "3.7.6"
  }
 },
 "nbformat": 4,
 "nbformat_minor": 2
}
