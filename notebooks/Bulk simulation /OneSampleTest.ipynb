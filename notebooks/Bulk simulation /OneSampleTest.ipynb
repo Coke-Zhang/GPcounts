{
 "cells": [
  {
   "cell_type": "markdown",
   "metadata": {},
   "source": [
    "# One sample test on simulated bulk RNA-seq"
   ]
  },
  {
   "cell_type": "markdown",
   "metadata": {},
   "source": [
    "Nuha BinTayyash, 2020\n",
    "\n",
    "This notebook shows how to run GPcounts with one sample test on simulated bulk RNA-seq datasets."
   ]
  },
  {
   "cell_type": "code",
   "execution_count": 1,
   "metadata": {},
   "outputs": [],
   "source": [
    "import numpy as np\n",
    "import pandas as pd\n",
    "from GPcounts.GPcounts_Module import Fit_GPcounts"
   ]
  },
  {
   "cell_type": "code",
   "execution_count": 2,
   "metadata": {},
   "outputs": [
    {
     "name": "stderr",
     "output_type": "stream",
     "text": [
      "\r",
      "  0%|          | 0/300 [00:00<?, ?it/s]"
     ]
    },
    {
     "name": "stdout",
     "output_type": "stream",
     "text": [
      "low_counts_low_dispersion_non_differentially_expressed_genes_DE_non_DE_genes.csv\n"
     ]
    },
    {
     "name": "stderr",
     "output_type": "stream",
     "text": [
      "100%|██████████| 300/300 [22:17<00:00,  4.46s/it] \n",
      "100%|██████████| 300/300 [02:27<00:00,  2.03it/s]\n",
      "100%|██████████| 300/300 [14:03<00:00,  2.81s/it]\n",
      "  0%|          | 0/300 [00:00<?, ?it/s]"
     ]
    },
    {
     "name": "stdout",
     "output_type": "stream",
     "text": [
      "low_counts_high_dispersion_non_differentially_expressed_genes_DE_non_DE_genes.csv\n"
     ]
    },
    {
     "name": "stderr",
     "output_type": "stream",
     "text": [
      "100%|██████████| 300/300 [12:10<00:00,  2.44s/it]\n",
      "100%|██████████| 300/300 [02:20<00:00,  2.13it/s]\n",
      "100%|██████████| 300/300 [11:32<00:00,  2.31s/it]\n",
      "  0%|          | 0/300 [00:00<?, ?it/s]"
     ]
    },
    {
     "name": "stdout",
     "output_type": "stream",
     "text": [
      "high_counts_low_dispersion_non_differentially_expressed_genes_DE_non_DE_genes.csv\n"
     ]
    },
    {
     "name": "stderr",
     "output_type": "stream",
     "text": [
      "100%|██████████| 300/300 [26:29<00:00,  5.30s/it]\n",
      "100%|██████████| 300/300 [03:19<00:00,  1.50it/s]\n",
      "100%|██████████| 300/300 [50:58<00:00, 10.19s/it]  \n",
      "  0%|          | 0/296 [00:00<?, ?it/s]"
     ]
    },
    {
     "name": "stdout",
     "output_type": "stream",
     "text": [
      "high_counts_high_dispersion_non_differentially_expressed_genes_DE_non_DE_genes.csv\n"
     ]
    },
    {
     "name": "stderr",
     "output_type": "stream",
     "text": [
      "100%|██████████| 296/296 [11:56<00:00,  2.42s/it]\n",
      "100%|██████████| 296/296 [02:28<00:00,  1.99it/s]\n",
      "100%|██████████| 296/296 [13:40<00:00,  2.77s/it]\n"
     ]
    }
   ],
   "source": [
    "files = ['low_counts_low_dispersion_non_differentially_expressed_genes_DE_non_DE_genes.csv','low_counts_high_dispersion_non_differentially_expressed_genes_DE_non_DE_genes.csv'                                      \n",
    "             ,'high_counts_low_dispersion_non_differentially_expressed_genes_DE_non_DE_genes.csv','high_counts_high_dispersion_non_differentially_expressed_genes_DE_non_DE_genes.csv']\n",
    "\n",
    "X = pd.read_csv('time_points.csv',index_col=[0])\n",
    "\n",
    "for file in files:\n",
    "    print(file)\n",
    "    Y = pd.read_csv(file,index_col=[0])\n",
    "    \n",
    "    likelihoods = ['Negative_binomial','Gaussian','Poisson'] \n",
    "    for likelihood in likelihoods:\n",
    "        gp_counts = Fit_GPcounts(X,Y) \n",
    "        log_likelihood = gp_counts.One_sample_test(likelihood)\n",
    "        log_likelihood.to_csv(\"ll_\"+likelihood+\"_\"+file)"
   ]
  },
  {
   "cell_type": "code",
   "execution_count": null,
   "metadata": {},
   "outputs": [],
   "source": [
    "X = pd.read_csv('time_points.csv',index_col=[0])\n",
    "Y = pd.read_csv('low_counts_low_disperison_samples_dynamic_constant.csv',index_col=[0])"
   ]
  },
  {
   "cell_type": "code",
   "execution_count": null,
   "metadata": {},
   "outputs": [],
   "source": [
    "from GPcounts.GPcounts_Module import Fit_GPcounts\n",
    "likelihood = 'Negative_binomial' \n",
    "genes = ['gene_137']\n",
    "         #,'gene_215','gene_219','gene_263']\n",
    "gp_counts = Fit_GPcounts(X,Y.loc[genes]) \n",
    "log_likelihood = gp_counts.One_sample_test(likelihood)\n",
    "log_likelihood"
   ]
  },
  {
   "cell_type": "code",
   "execution_count": null,
   "metadata": {},
   "outputs": [],
   "source": [
    "likelihood = 'Gaussian' \n",
    "genes = ['gene_137']\n",
    "         #,'gene_215','gene_219','gene_263']\n",
    "#gp_counts = Fit_GPcounts(X,Y.loc[genes]) \n",
    "log_likelihood = gp_counts.One_sample_test(likelihood)\n",
    "log_likelihood"
   ]
  },
  {
   "cell_type": "code",
   "execution_count": null,
   "metadata": {},
   "outputs": [],
   "source": [
    "import numpy as np\n",
    "from matplotlib import pyplot as plt\n",
    "import statsmodels.api as sm\n",
    "\n",
    "import statsmodels.api as sm\n",
    "\n",
    "def plot(likelihood,xtest,mean,var):\n",
    "         \n",
    "    fig = plt.figure()\n",
    "    plt.ylabel('Gene Expression', fontsize=16)\n",
    "    plt.xlabel('Times', fontsize=16)\n",
    "\n",
    "   \n",
    "    if likelihood == 'Gaussian':\n",
    "        y = np.log(Y.loc[[indexes[i]]].values+1)\n",
    "        plt.fill_between(xtest[:,0],\n",
    "                            mean[:,0] - 2*np.sqrt(var[:,0]),\n",
    "                            mean[:,0] + 2*np.sqrt(var[:,0]), alpha=0.2)\n",
    "    else:\n",
    "        y = Y.loc[[indexes[i]]].values\n",
    "        lowess = sm.nonparametric.lowess\n",
    "        percentile_5 = lowess(np.percentile(var, 5, axis=0),xtest[:,0],frac=1./5, return_sorted=False)\n",
    "        percentile_95 = lowess(np.percentile(var, 95, axis=0),xtest[:,0],frac=1./5, return_sorted=False)\n",
    "        plt.fill_between(xtest[:,0],percentile_5,percentile_95,alpha = 0.2)\n",
    "\n",
    "    plt.scatter(X.values,y, s=10, color='black', alpha=0.6) #data\n",
    "    plt.plot(xtest, mean, lw=2) \n",
    "    plt.show()\n",
    "\n",
    "indexes = genes # list of genes to be plotted \n",
    "test = 'One_sample_test' # name of the test\n",
    "xtest = np.linspace(np.min(X.values),np.max(X.values),100)[:,None] # points to make prediction\n",
    "sample = True # sample or/and load model \n",
    "\n",
    "for i in range(len(indexes)):\n",
    "    print(indexes[i])\n",
    "    params = gp_counts.load_and_sample_models(indexes[i],test,xtest,likelihood,sample)\n",
    "    for mean,var,model in zip(params['means'],params['vars'],params['models']):\n",
    "        mean = np.array(mean)\n",
    "        var = np.array(var)\n",
    "        plot(likelihood,xtest,mean,var)\n",
    "        "
   ]
  },
  {
   "cell_type": "code",
   "execution_count": null,
   "metadata": {},
   "outputs": [],
   "source": []
  }
 ],
 "metadata": {
  "kernelspec": {
   "display_name": "Python [conda env:test_GP]",
   "language": "python",
   "name": "conda-env-test_GP-py"
  },
  "language_info": {
   "codemirror_mode": {
    "name": "ipython",
    "version": 3
   },
   "file_extension": ".py",
   "mimetype": "text/x-python",
   "name": "python",
   "nbconvert_exporter": "python",
   "pygments_lexer": "ipython3",
   "version": "3.7.6"
  }
 },
 "nbformat": 4,
 "nbformat_minor": 2
}
