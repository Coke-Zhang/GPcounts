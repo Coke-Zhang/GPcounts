{
 "cells": [
  {
   "cell_type": "markdown",
   "metadata": {},
   "source": [
    "Nuha BinTayyash, 2020\n",
    "\n",
    "This notebook shows the ROC and precision-recall curves resulted from running GPcounts with one sample test on simulated bulk RNA-seq datasets."
   ]
  },
  {
   "cell_type": "code",
   "execution_count": null,
   "metadata": {},
   "outputs": [],
   "source": [
    "import numpy as np\n",
    "from matplotlib import pyplot as plt\n",
    "from sklearn import metrics\n",
    "import pandas as pd\n",
    "from scipy import stats"
   ]
  },
  {
   "cell_type": "code",
   "execution_count": null,
   "metadata": {},
   "outputs": [],
   "source": [
    "DESeq2 = pd.read_csv('fission_DESeq2_ost_scaled.csv',index_col=[0])\n",
    "print(DESeq2.shape)\n",
    "GPcounts_NB = pd.read_csv('ll_Negative_binomial_wt_normalized_counts_scaled.csv',index_col=[0])\n",
    "GPcounts_G = pd.read_csv('ll_Gaussian_wt_normalized_counts_scaled.csv',index_col=[0])\n",
    "print(GPcounts_NB.shape)\n",
    "print(GPcounts_G.shape)"
   ]
  },
  {
   "cell_type": "code",
   "execution_count": null,
   "metadata": {},
   "outputs": [],
   "source": [
    "DESeq_sorted = DESeq2.sort_values(by=['padj'])\n",
    "DESeq_sorted = DESeq_sorted.drop(['SPAC186.05c'])\n",
    "DESeq_sorted"
   ]
  },
  {
   "cell_type": "code",
   "execution_count": null,
   "metadata": {},
   "outputs": [],
   "source": [
    "GPcounts_NB_sorted = GPcounts_NB.sort_values(by=['log_likelihood_ratio'], ascending=False)\n",
    "GPcounts_NB_sorted = GPcounts_NB_sorted.drop(['SPAC186.05c'])\n",
    "GPcounts_NB_sorted"
   ]
  },
  {
   "cell_type": "code",
   "execution_count": null,
   "metadata": {},
   "outputs": [],
   "source": [
    "GPcounts_G_sorted = GPcounts_G.sort_values(by=['log_likelihood_ratio'], ascending=False)\n",
    "GPcounts_G_sorted = GPcounts_G_sorted.drop(['SPAC186.05c'])\n",
    "GPcounts_G_sorted"
   ]
  },
  {
   "cell_type": "markdown",
   "metadata": {},
   "source": [
    "sort GPcounts results according to DESeq2 "
   ]
  },
  {
   "cell_type": "code",
   "execution_count": null,
   "metadata": {},
   "outputs": [],
   "source": [
    "GPcounts_NB_DESeq_sorted = GPcounts_NB.reindex(list(DESeq_sorted.index.values))\n",
    "GPcounts_NB_DESeq_sorted "
   ]
  },
  {
   "cell_type": "code",
   "execution_count": null,
   "metadata": {},
   "outputs": [],
   "source": [
    "GPcounts_G_DESeq_sorted = GPcounts_G.reindex(list(DESeq_sorted.index.values))\n",
    "GPcounts_G_DESeq_sorted"
   ]
  },
  {
   "cell_type": "code",
   "execution_count": null,
   "metadata": {},
   "outputs": [],
   "source": [
    "padj = [.05,.1,.2]\n",
    "DESeq_id = list(DESeq_sorted.index.values)\n",
    "fig = plt.figure()\n",
    "\n",
    "dfs = [GPcounts_NB_DESeq_sorted['log_likelihood_ratio'],GPcounts_G_DESeq_sorted['log_likelihood_ratio']]\n",
    "D = len(DESeq_sorted)\n",
    "\n",
    "for df in range(len(dfs)):\n",
    "    D = len(DESeq_sorted)\n",
    "    for i in range(3):\n",
    "        true_label = np.zeros(D)\n",
    "  \n",
    "\n",
    "        for j in range(D):\n",
    "            if DESeq_sorted['padj'][j] <= padj[i]:\n",
    "                true_label[j] = 1\n",
    "\n",
    "        labels = pd.DataFrame(true_label, index =DESeq_sorted.index.values, columns =['label'])\n",
    "        \n",
    "        unique, counts = np.unique(true_label, return_counts=True)\n",
    "        \n",
    "        print(dict(zip(unique, counts)))\n",
    "        precision, recall, thresholds = metrics.precision_recall_curve(labels['label'],dfs[df])\n",
    "\n",
    "        plt.plot( recall,precision,label='padj='+str(padj[i]))\n",
    "        plt.tick_params(labelsize='large', width=2) \n",
    "        '''\n",
    "        plt.xlabel('recall')\n",
    "        plt.ylabel('precision')\n",
    "        plt.legend(loc='best', bbox_to_anchor=(1.22, .75))\n",
    "        '''\n",
    "        if df == 0:\n",
    "            plt.legend(loc='best', bbox_to_anchor=(1., .65))\n",
    "        \n",
    "            #title = 'GPcounts with NB likelihood'\n",
    "        '''\n",
    "        else:\n",
    "            title = 'GPcounts with Gaussian likelihood'\n",
    "            \n",
    "        plt.title(title )\n",
    "        '''\n",
    "        plt.ylim([-.1,1.1])\n",
    "        \n",
    "    plt.show()\n"
   ]
  },
  {
   "cell_type": "code",
   "execution_count": null,
   "metadata": {},
   "outputs": [],
   "source": []
  }
 ],
 "metadata": {
  "kernelspec": {
   "display_name": "Python [conda env:myenv2] *",
   "language": "python",
   "name": "conda-env-myenv2-py"
  },
  "language_info": {
   "codemirror_mode": {
    "name": "ipython",
    "version": 3
   },
   "file_extension": ".py",
   "mimetype": "text/x-python",
   "name": "python",
   "nbconvert_exporter": "python",
   "pygments_lexer": "ipython3",
   "version": "3.7.6"
  }
 },
 "nbformat": 4,
 "nbformat_minor": 2
}
