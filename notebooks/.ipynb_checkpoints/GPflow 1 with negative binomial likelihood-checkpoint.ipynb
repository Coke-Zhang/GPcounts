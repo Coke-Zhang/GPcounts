{
 "cells": [
  {
   "cell_type": "markdown",
   "metadata": {},
   "source": [
    "# GP Regression on synthetic data"
   ]
  },
  {
   "cell_type": "code",
   "execution_count": 1,
   "metadata": {},
   "outputs": [
    {
     "name": "stderr",
     "output_type": "stream",
     "text": [
      "/Users/nuhabintayyash/anaconda3/envs/venv/lib/python3.7/importlib/_bootstrap.py:219: RuntimeWarning: compiletime version 3.6 of module 'tensorflow.python.framework.fast_tensor_util' does not match runtime version 3.7\n",
      "  return f(*args, **kwds)\n",
      "WARNING: Logging before flag parsing goes to stderr.\n",
      "W1204 10:50:12.492807 4689059264 deprecation_wrapper.py:119] From /Users/nuhabintayyash/GPflow/gpflow/session_manager.py:31: The name tf.Session is deprecated. Please use tf.compat.v1.Session instead.\n",
      "\n",
      "W1204 10:50:12.494209 4689059264 deprecation_wrapper.py:119] From /Users/nuhabintayyash/GPflow/gpflow/misc.py:27: The name tf.GraphKeys is deprecated. Please use tf.compat.v1.GraphKeys instead.\n",
      "\n",
      "W1204 10:50:12.580386 4689059264 deprecation_wrapper.py:119] From /Users/nuhabintayyash/GPflow/gpflow/training/tensorflow_optimizer.py:169: The name tf.train.AdadeltaOptimizer is deprecated. Please use tf.compat.v1.train.AdadeltaOptimizer instead.\n",
      "\n",
      "W1204 10:50:12.581516 4689059264 deprecation_wrapper.py:119] From /Users/nuhabintayyash/GPflow/gpflow/training/tensorflow_optimizer.py:156: The name tf.train.Optimizer is deprecated. Please use tf.compat.v1.train.Optimizer instead.\n",
      "\n",
      "W1204 10:50:12.582553 4689059264 deprecation_wrapper.py:119] From /Users/nuhabintayyash/GPflow/gpflow/training/tensorflow_optimizer.py:169: The name tf.train.AdagradDAOptimizer is deprecated. Please use tf.compat.v1.train.AdagradDAOptimizer instead.\n",
      "\n",
      "W1204 10:50:12.583431 4689059264 deprecation_wrapper.py:119] From /Users/nuhabintayyash/GPflow/gpflow/training/tensorflow_optimizer.py:169: The name tf.train.AdagradOptimizer is deprecated. Please use tf.compat.v1.train.AdagradOptimizer instead.\n",
      "\n",
      "W1204 10:50:12.584206 4689059264 deprecation_wrapper.py:119] From /Users/nuhabintayyash/GPflow/gpflow/training/tensorflow_optimizer.py:169: The name tf.train.AdamOptimizer is deprecated. Please use tf.compat.v1.train.AdamOptimizer instead.\n",
      "\n",
      "W1204 10:50:12.589022 4689059264 deprecation_wrapper.py:119] From /Users/nuhabintayyash/GPflow/gpflow/saver/coders.py:80: The name tf.data.Iterator is deprecated. Please use tf.compat.v1.data.Iterator instead.\n",
      "\n"
     ]
    },
    {
     "name": "stdout",
     "output_type": "stream",
     "text": [
      "Populating the interactive namespace from numpy and matplotlib\n"
     ]
    }
   ],
   "source": [
    "import numpy as np\n",
    "import pandas as pd\n",
    "import tensorflow as tf\n",
    "import scipy.stats as ss\n",
    "import gpflow\n",
    "import NegativeBinomialLikelihood\n",
    "import warnings\n",
    "warnings.filterwarnings('ignore')\n",
    "%pylab inline "
   ]
  },
  {
   "cell_type": "markdown",
   "metadata": {},
   "source": [
    "### Sample synthetic count data from Gaussian Process with negative binomial likelihood"
   ]
  },
  {
   "cell_type": "code",
   "execution_count": 2,
   "metadata": {},
   "outputs": [
    {
     "name": "stderr",
     "output_type": "stream",
     "text": [
      "W1204 10:50:12.854943 4689059264 deprecation_wrapper.py:119] From /Users/nuhabintayyash/GPflow/gpflow/session_manager.py:111: The name tf.ConfigProto is deprecated. Please use tf.compat.v1.ConfigProto instead.\n",
      "\n",
      "W1204 10:50:12.859592 4689059264 deprecation_wrapper.py:119] From /Users/nuhabintayyash/GPflow/gpflow/core/node.py:109: The name tf.get_default_graph is deprecated. Please use tf.compat.v1.get_default_graph instead.\n",
      "\n",
      "W1204 10:50:12.864295 4689059264 deprecation_wrapper.py:119] From /Users/nuhabintayyash/GPflow/gpflow/params/parameter.py:388: The name tf.placeholder is deprecated. Please use tf.compat.v1.placeholder instead.\n",
      "\n"
     ]
    },
    {
     "data": {
      "image/png": "[encoded data removed]",
      "text/plain": [
       "<Figure size 432x288 with 1 Axes>"
      ]
     },
     "metadata": {
      "needs_background": "light"
     },
     "output_type": "display_data"
    },
    {
     "data": {
      "image/png": "[encoded data removed]",
      "text/plain": [
       "<Figure size 432x288 with 1 Axes>"
      ]
     },
     "metadata": {
      "needs_background": "light"
     },
     "output_type": "display_data"
    }
   ],
   "source": [
    "np.random.seed(0)\n",
    "tf.set_random_seed(0)\n",
    "tf.reset_default_graph()\n",
    "gpflow.session_manager.reset_default_session()\n",
    "\n",
    "def sample_GP():\n",
    "    kern =  gpflow.kernels.RBF(1, lengthscales = 4.,variance = 1.,ARD=False) \n",
    "    K = kern.compute_K(X,X) + np.eye(N) * 1e-6\n",
    "    L = np.linalg.cholesky(K)  \n",
    "    mu = np.ones((N, 1)) \n",
    "    f = np.dot(L, np.random.randn(N, 1)) + mu \n",
    "    plt.plot(X, f,color= 'green',label = 'latent function f(x)')\n",
    "    plt.legend()\n",
    "    plt.show()\n",
    "    return f\n",
    "\n",
    "def sample_from_NegativeBinom(r,mean):\n",
    "    # r  number of failures\n",
    "    # prob probability of success\n",
    "    prob = r/(mean+r)\n",
    "    y =[]\n",
    "    for i in range(mean.shape[0]):\n",
    "        y.append(ss.nbinom.rvs(r, prob[i], size=1))\n",
    "    y = np.vstack(y)    \n",
    "    return y\n",
    "\n",
    "N = 30  # cell\n",
    "D = 1  # genes \n",
    "X = np.array([0.,1.,2.,3.,4.,5.,6.,7.,8.,9.])\n",
    "X = np.repeat(X, 3).reshape(-1, 1)\n",
    "f = sample_GP() \n",
    "link_f = np.exp(f)\n",
    "alpha = .5\n",
    "Y = sample_from_NegativeBinom(1./alpha,link_f)[: None]\n",
    "plt.plot(X, Y,'kx')\n",
    "plt.xlabel('Times - NB', fontsize=16)\n",
    "plt.ylabel('Gene Expression', fontsize=16)\n",
    "plt.show()\n"
   ]
  },
  {
   "cell_type": "code",
   "execution_count": null,
   "metadata": {},
   "outputs": [],
   "source": [
    "np.random.seed(0)\n",
    "tf.set_random_seed(0)\n",
    "tf.reset_default_graph()\n",
    "gpflow.session_manager.reset_default_session()\n",
    "\n",
    "model = gpflow.models.VGP(X,Y.astype(float), gpflow.kernels.RBF(1, variance= 1.,lengthscales = 1.,ARD=False), NegativeBinomialLikelihood.NegBinom()) \n",
    "gpflow.train.ScipyOptimizer().minimize(model,disp=False)\n",
    "print(model)"
   ]
  },
  {
   "cell_type": "code",
   "execution_count": null,
   "metadata": {},
   "outputs": [],
   "source": [
    "\n",
    "def generate_Samples_from_distribution(mean,num_samples):\n",
    "\n",
    "    np.random.seed(0)\n",
    "    y= []\n",
    "    r = 1./model.likelihood.alpha.value # r  number of failures\n",
    "    prob = r / (mean+ r)   # p probability of success\n",
    "    for i in range(mean.shape[0]):\n",
    "        y.append(ss.nbinom.rvs(r, prob[i], size = num_samples))\n",
    "\n",
    "    return y\n",
    "\n",
    "def samples_posterior_predictive_distribution(num_time_points = 100,num_samples =500,bins_num = 50,sample = False):\n",
    "\n",
    "    np.random.seed(0)\n",
    "    xtest = np.linspace(np.min(model.X.value),np.max(model.X.value),num_time_points)[:,None] \n",
    "    samples = []\n",
    "    f_samples = []\n",
    "    for i in range(100):\n",
    "        f_samples.append(model.predict_f_samples(xtest, 1))\n",
    "        f = np.vstack(f_samples)\n",
    "        link_f = np.exp(f[:, :, 0])\n",
    "        if sample:\n",
    "            samples.append(np.array(generate_Samples_from_distribution(np.mean(link_f, 0),num_samples)).T)\n",
    "    f_samples = np.vstack(f_samples)\n",
    "    link_f = np.exp(f_samples[:, :, 0])\n",
    "\n",
    "    mean = np.mean(link_f,axis=0).reshape([-1,1])\n",
    "    \n",
    "    if sample:\n",
    "        samples = np.vstack(samples)\n",
    "\n",
    "    return mean,samples\n",
    "\n",
    "mean, var  = samples_posterior_predictive_distribution(sample = True)\n",
    "\n",
    "\n",
    "import statsmodels.api as sm\n",
    "import numpy as np\n",
    "from matplotlib import pyplot as plt\n",
    "\n",
    "def plot(likelihood,model,mean,var):\n",
    "\n",
    "    np.random.seed(0)   \n",
    "    xtest = np.linspace(np.min(model.X.value),np.max(model.X.value),num_time_points)[:,None]     \n",
    "    \n",
    "    fig = plt.figure()\n",
    "\n",
    "    plt.ylabel('Gene Expression', fontsize=16)\n",
    "    plt.xlabel('Times', fontsize=16)\n",
    "\n",
    "    plt.scatter(model.X.value, model.Y.value, s=10, color='black', alpha=0.6) #data\n",
    "\n",
    "    if likelihood == 'Gaussian':\n",
    "        plt.fill_between(xtest[:,0],\n",
    "                            mean[:,0] - 2*np.sqrt(var[:,0]),\n",
    "                            mean[:,0] + 2*np.sqrt(var[:,0]), alpha=0.2)\n",
    "    else:\n",
    "        lowess = sm.nonparametric.lowess\n",
    "        percentile_5 = lowess(np.percentile(var, 5, axis=0),xtest[:,0],frac=1./5, return_sorted=False)\n",
    "        percentile_95 = lowess(np.percentile(var, 95, axis=0),xtest[:,0],frac=1./5, return_sorted=False)\n",
    "        plt.fill_between(xtest[:,0],percentile_5,percentile_95,alpha = 0.2)\n",
    "\n",
    "    plt.plot(xtest, mean, lw=2) \n",
    "    plt.show() \n",
    "\n",
    "num_time_points = 100\n",
    "plot('Negative_binomial',model,mean,var)"
   ]
  },
  {
   "cell_type": "code",
   "execution_count": null,
   "metadata": {},
   "outputs": [],
   "source": []
  }
 ],
 "metadata": {
  "kernelspec": {
   "display_name": "Python [conda env:venv]",
   "language": "python",
   "name": "conda-env-venv-py"
  },
  "language_info": {
   "codemirror_mode": {
    "name": "ipython",
    "version": 3
   },
   "file_extension": ".py",
   "mimetype": "text/x-python",
   "name": "python",
   "nbconvert_exporter": "python",
   "pygments_lexer": "ipython3",
   "version": "3.7.3"
  }
 },
 "nbformat": 4,
 "nbformat_minor": 2
}
