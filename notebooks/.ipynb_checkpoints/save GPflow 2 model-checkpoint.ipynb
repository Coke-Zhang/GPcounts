{
 "cells": [
  {
   "cell_type": "markdown",
   "metadata": {},
   "source": [
    "# Save GPflow 2"
   ]
  },
  {
   "cell_type": "code",
   "execution_count": null,
   "metadata": {},
   "outputs": [],
   "source": [
    "import numpy as np\n",
    "import random\n",
    "import tensorflow as tf\n",
    "import gpflow\n",
    "import warnings\n",
    "warnings.filterwarnings('ignore')\n",
    "%pylab inline "
   ]
  },
  {
   "cell_type": "markdown",
   "metadata": {},
   "source": [
    "### Sample synthetic count data from Gaussian Process with negative binomial likelihood"
   ]
  },
  {
   "cell_type": "code",
   "execution_count": null,
   "metadata": {},
   "outputs": [],
   "source": [
    "tf.compat.v1.reset_default_graph()\n",
    "tf.compat.v1.set_random_seed(0)\n",
    "gpflow.config.set_default_float(np.float64)\n",
    "np.random.seed(0)\n",
    "tf.random.set_seed(0)\n",
    "\n",
    "def sample_GP(ls):\n",
    "    kern =  gpflow.kernels.RBF( lengthscale = ls,variance = 1.) \n",
    "    K = kern(X) + np.eye(N) * 1e-4\n",
    "    L = np.linalg.cholesky(K)  \n",
    "    mu = np.ones((N, 1)) \n",
    "    f = np.dot(L, np.random.randn(N, 1)) + mu \n",
    "    plt.plot(X, f,color= 'green',label = 'latent function f(x)')\n",
    "    plt.legend()\n",
    "    plt.show()\n",
    "    return f\n",
    "\n",
    "N = 30\n",
    "X = np.sort(random.randint(0,100,30)).reshape(-1, 1)\n",
    "lengthscales = [6.,9.]\n",
    "Y = []\n",
    "for ls in lengthscales:\n",
    "    f = sample_GP(ls) \n",
    "    Y.append(f)\n",
    "    plt.plot(X, f,'kx')\n",
    "    plt.show()\n"
   ]
  },
  {
   "cell_type": "code",
   "execution_count": null,
   "metadata": {},
   "outputs": [],
   "source": [
    "for i in range(len(Y)):\n",
    "\n",
    "    k = gpflow.kernels.RBF()\n",
    "    m = gpflow.models.GPR(data=(X.astype(float), Y[i]), kernel=k)\n",
    "    @tf.function(autograph=False)\n",
    "    def objective():\n",
    "        return - m.log_marginal_likelihood()\n",
    "    o = gpflow.optimizers.Scipy()\n",
    "    res = o.minimize(objective, variables=m.trainable_variables)\n",
    "    gpflow.utilities.print_summary(m, fmt='notebook')\n",
    "    ckpt = tf.train.Checkpoint(model=m, step=tf.Variable(1))\n",
    "    ckpt.write('models/ckpt-'+str(i+1))\n"
   ]
  },
  {
   "cell_type": "code",
   "execution_count": null,
   "metadata": {},
   "outputs": [],
   "source": [
    "k = gpflow.kernels.RBF()\n",
    "m = gpflow.models.GPR(data=(X.astype(float), Y[0]), kernel=k)\n",
    "ckpt = tf.train.Checkpoint(model=m, step=tf.Variable(1))\n",
    "for i in range(2):\n",
    "    ckpt.restore('models/ckpt-'+str(i+1))\n",
    "    gpflow.utilities.print_summary(m, fmt='notebook')"
   ]
  },
  {
   "cell_type": "code",
   "execution_count": null,
   "metadata": {},
   "outputs": [],
   "source": []
  }
 ],
 "metadata": {
  "kernelspec": {
   "display_name": "Python [conda env:venv2]",
   "language": "python",
   "name": "conda-env-venv2-py"
  },
  "language_info": {
   "codemirror_mode": {
    "name": "ipython",
    "version": 3
   },
   "file_extension": ".py",
   "mimetype": "text/x-python",
   "name": "python",
   "nbconvert_exporter": "python",
   "pygments_lexer": "ipython3",
   "version": "3.7.5"
  }
 },
 "nbformat": 4,
 "nbformat_minor": 2
}
