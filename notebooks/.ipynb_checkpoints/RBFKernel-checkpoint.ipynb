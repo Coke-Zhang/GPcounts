{
 "cells": [
  {
   "cell_type": "markdown",
   "metadata": {},
   "source": [
    "# GPcounts Regression on synthetic data"
   ]
  },
  {
   "cell_type": "markdown",
   "metadata": {},
   "source": [
    "Nuha BinTayyash, 2020\n",
    "\n",
    "GPcounts is Gaussain process regression package for count data with negative binomial and zero-inflated negative binomial likelihoods described in the paper \"Gaussian process modelling of count data with\n",
    "application to bulk and single-cell RNA-Seq\".\n",
    "\n",
    "This notebook shows how to build a GPcount model and plot the posterior model fit on synthetic data."
   ]
  },
  {
   "cell_type": "code",
   "execution_count": null,
   "metadata": {},
   "outputs": [],
   "source": [
    "import numpy as np\n",
    "import pandas as pd\n",
    "import tensorflow as tf\n",
    "import scipy.stats as ss\n",
    "import gpflow\n",
    "%pylab inline "
   ]
  },
  {
   "cell_type": "markdown",
   "metadata": {},
   "source": [
    "### Sample synthetic count data from Gaussian Process with negative binomial likelihood"
   ]
  },
  {
   "cell_type": "code",
   "execution_count": null,
   "metadata": {},
   "outputs": [],
   "source": [
    "tf.compat.v1.reset_default_graph()\n",
    "tf.compat.v1.set_random_seed(0)\n",
    "gpflow.config.set_default_float(np.float64)\n",
    "np.random.seed(0)\n",
    "tf.random.set_seed(0)\n",
    "\n",
    "def sample_GP():\n",
    "    kern =  gpflow.kernels.RBF( lengthscale = 4.,variance = 1.) \n",
    "    K = kern(x) + np.eye(N) * 1e-6\n",
    "    L = np.linalg.cholesky(K)  \n",
    "    mu = np.ones((N, 1)) \n",
    "    f = np.dot(L, np.random.randn(N, 1)) + mu\n",
    "    plt.plot(x, f,color= 'green',label = 'latent function f(x)')\n",
    "    plt.legend()\n",
    "    plt.show()\n",
    "    return f\n",
    "\n",
    "def sample_from_NegativeBinom(r,mean):\n",
    "    # r  number of failures\n",
    "    # prob probability of success\n",
    "    prob = r/(mean+r)\n",
    "    y =[]\n",
    "    for i in range(mean.shape[0]):\n",
    "        y.append(ss.nbinom.rvs(r, prob[i], size=1))\n",
    "    y = np.vstack(y)    \n",
    "    return y\n",
    "\n",
    "N = 30  # cell\n",
    "D = 2  # genes \n",
    "S = 3 # Samples \n",
    "x = np.array([0.,1.,2.,3.,4.,5.,6.,7.,8.,9.])\n",
    "x = np.repeat(x, S).reshape(-1, 1)\n",
    "f = sample_GP() \n",
    "link_f = np.exp(f)\n",
    "alphas = [.5,3.]\n",
    "y = []\n",
    "\n",
    "for i in range(D):\n",
    "    \n",
    "    y.append(sample_from_NegativeBinom(1./alphas[i],link_f)[: None])\n",
    "    plt.plot(x, y[i],'kx')\n",
    "    plt.xlabel('Times - NB', fontsize=16)\n",
    "    plt.ylabel('Gene Expression', fontsize=16)\n",
    "    plt.show()"
   ]
  },
  {
   "cell_type": "markdown",
   "metadata": {},
   "source": [
    "##### Create dataframes for gene expression count data and pseudotime points"
   ]
  },
  {
   "cell_type": "code",
   "execution_count": null,
   "metadata": {},
   "outputs": [],
   "source": [
    "y = np.array(y)\n",
    "y = y.reshape(y.shape[0],y.shape[1])\n",
    "genes_name = ['gene_%s' % (s+1) for s in range(y.shape[0])] \n",
    "cells_name = ['cell_%s' % (s+1) for s in range(y.shape[1])] \n",
    "Y = pd.DataFrame(data= y,index= genes_name,columns= cells_name) # gene expression count data\n",
    "X = pd.DataFrame.from_dict({i: j for i, j in enumerate(x)}, orient='index',columns=['time_point'])"
   ]
  },
  {
   "cell_type": "markdown",
   "metadata": {},
   "source": [
    "### Fit GPcounts"
   ]
  },
  {
   "cell_type": "markdown",
   "metadata": {},
   "source": [
    "The avaliable likelihoods are: Negative_binomial, Zero_inflated_negative_binomial, Poisson and Gaussian.  "
   ]
  },
  {
   "cell_type": "markdown",
   "metadata": {},
   "source": [
    "### Infre trajectory with RBF kernel"
   ]
  },
  {
   "cell_type": "code",
   "execution_count": null,
   "metadata": {},
   "outputs": [],
   "source": [
    "from GPcounts.GPcounts_Module import Fit_GPcounts\n",
    "likelihood = 'Negative_binomial' \n",
    "gp_counts = Fit_GPcounts(X,Y) \n",
    "log_likelihood = gp_counts.Infer_trajectory(likelihood)\n",
    "log_likelihood"
   ]
  },
  {
   "cell_type": "markdown",
   "metadata": {},
   "source": [
    "### save genes log likelihood "
   ]
  },
  {
   "cell_type": "code",
   "execution_count": null,
   "metadata": {},
   "outputs": [],
   "source": [
    "log_likelihood.to_csv(\"log_likelihood.csv\")"
   ]
  },
  {
   "cell_type": "markdown",
   "metadata": {},
   "source": [
    "## Plot GPcounts fitting "
   ]
  },
  {
   "cell_type": "markdown",
   "metadata": {},
   "source": [
    "Load GPmodels models for selected genes and plot samples from the posterior predictive with negative binomial distribution or any selected distribution"
   ]
  },
  {
   "cell_type": "code",
   "execution_count": null,
   "metadata": {},
   "outputs": [],
   "source": [
    "import numpy as np\n",
    "from matplotlib import pyplot as plt\n",
    "import statsmodels.api as sm\n",
    "\n",
    "def plot(likelihood,xtest,model,mean,var):\n",
    "         \n",
    "    fig = plt.figure()\n",
    "    plt.ylabel('Gene Expression', fontsize=16)\n",
    "    plt.xlabel('Times', fontsize=16)\n",
    "\n",
    "   \n",
    "    if likelihood == 'Gaussian':\n",
    "        y = np.log(model.data[1]+1)\n",
    "        plt.fill_between(xtest[:,0],\n",
    "                            mean[:,0] - 2*np.sqrt(var[:,0]),\n",
    "                            mean[:,0] + 2*np.sqrt(var[:,0]), alpha=0.2)\n",
    "    else:\n",
    "        y = model.data[1]\n",
    "        lowess = sm.nonparametric.lowess\n",
    "        percentile_5 = lowess(np.percentile(var, 5, axis=0),xtest[:,0],frac=1./5, return_sorted=False)\n",
    "        percentile_95 = lowess(np.percentile(var, 95, axis=0),xtest[:,0],frac=1./5, return_sorted=False)\n",
    "        plt.fill_between(xtest[:,0],percentile_5,percentile_95,alpha = 0.2)\n",
    "\n",
    "    plt.scatter(model.data[0],model.data[1], s=10, color='black', alpha=0.6) #data\n",
    "    plt.plot(xtest, mean, lw=2) \n",
    "    plt.show()\n",
    "    \n",
    "indexes = log_likelihood.index.values # list of genes to be plotted \n",
    "test = 'Infer_trajectory' # name of the test\n",
    "xtest = np.linspace(np.min(X.values),np.max(X.values),100)[:,None] # points to make prediction\n",
    "sample = True # sample or/and load model \n",
    "params = gp_counts.load_and_sample_models(indexes,test,xtest,likelihood,sample)\n",
    "\n",
    "for i in range(len(indexes)):\n",
    "    print(indexes[i])\n",
    "    for mean,var,model in zip(params['means'][i],params['vars'][i],params['models'][i]):\n",
    "        mean = np.array(mean)\n",
    "        var = np.array(var)\n",
    "        plot(likelihood,xtest,model,mean,var)\n",
    "        gpflow.utilities.print_summary(model, fmt='notebook')"
   ]
  },
  {
   "cell_type": "code",
   "execution_count": null,
   "metadata": {},
   "outputs": [],
   "source": []
  }
 ],
 "metadata": {
  "kernelspec": {
   "display_name": "Python [conda env:test_GP] *",
   "language": "python",
   "name": "conda-env-test_GP-py"
  },
  "language_info": {
   "codemirror_mode": {
    "name": "ipython",
    "version": 3
   },
   "file_extension": ".py",
   "mimetype": "text/x-python",
   "name": "python",
   "nbconvert_exporter": "python",
   "pygments_lexer": "ipython3",
   "version": "3.7.6"
  }
 },
 "nbformat": 4,
 "nbformat_minor": 2
}
