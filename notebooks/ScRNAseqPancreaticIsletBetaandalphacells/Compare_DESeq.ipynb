{
 "cells": [
  {
   "cell_type": "markdown",
   "metadata": {},
   "source": [
    "Nuha BinTayyash, 2020\n",
    "\n",
    "This notebook shows the ROC and precision-recall curves resulted from running GPcounts with one sample test on simulated bulk RNA-seq datasets."
   ]
  },
  {
   "cell_type": "code",
   "execution_count": 1,
   "metadata": {},
   "outputs": [],
   "source": [
    "import numpy as np\n",
    "from matplotlib import pyplot as plt\n",
    "from sklearn import metrics\n",
    "import pandas as pd\n",
    "from scipy import stats"
   ]
  },
  {
   "cell_type": "code",
   "execution_count": 2,
   "metadata": {},
   "outputs": [
    {
     "name": "stdout",
     "output_type": "stream",
     "text": [
      "(18274, 6)\n",
      "(18274, 5)\n",
      "(18274, 5)\n"
     ]
    }
   ],
   "source": [
    "DESeq2 = pd.read_csv('alpha_DESeq2.csv',index_col=[0])\n",
    "\n",
    "GPcounts_NB = pd.read_csv('ll_Negative_binomial_normalized_alpha_counts.csv',index_col=[0])\n",
    "GPcounts_G = pd.read_csv('ll_Gaussian_normalized_alpha_counts.csv',index_col=[0])\n",
    "print(DESeq2.shape)\n",
    "print(GPcounts_NB.shape)\n",
    "print(GPcounts_G.shape)"
   ]
  },
  {
   "cell_type": "markdown",
   "metadata": {},
   "source": [
    "Remove NaNs from DESeq2 results "
   ]
  },
  {
   "cell_type": "code",
   "execution_count": 3,
   "metadata": {},
   "outputs": [
    {
     "data": {
      "text/html": [
       "<div>\n",
       "<style scoped>\n",
       "    .dataframe tbody tr th:only-of-type {\n",
       "        vertical-align: middle;\n",
       "    }\n",
       "\n",
       "    .dataframe tbody tr th {\n",
       "        vertical-align: top;\n",
       "    }\n",
       "\n",
       "    .dataframe thead th {\n",
       "        text-align: right;\n",
       "    }\n",
       "</style>\n",
       "<table border=\"1\" class=\"dataframe\">\n",
       "  <thead>\n",
       "    <tr style=\"text-align: right;\">\n",
       "      <th></th>\n",
       "      <th>baseMean</th>\n",
       "      <th>log2FoldChange</th>\n",
       "      <th>lfcSE</th>\n",
       "      <th>stat</th>\n",
       "      <th>pvalue</th>\n",
       "      <th>padj</th>\n",
       "    </tr>\n",
       "  </thead>\n",
       "  <tbody>\n",
       "    <tr>\n",
       "      <th>ENSMUSG00000000001</th>\n",
       "      <td>123.914854</td>\n",
       "      <td>-1.450563</td>\n",
       "      <td>0.332834</td>\n",
       "      <td>20.681661</td>\n",
       "      <td>0.000005</td>\n",
       "      <td>0.000102</td>\n",
       "    </tr>\n",
       "    <tr>\n",
       "      <th>ENSMUSG00000000028</th>\n",
       "      <td>8.918803</td>\n",
       "      <td>-4.498371</td>\n",
       "      <td>1.855694</td>\n",
       "      <td>6.261511</td>\n",
       "      <td>0.012339</td>\n",
       "      <td>0.069156</td>\n",
       "    </tr>\n",
       "    <tr>\n",
       "      <th>ENSMUSG00000000031</th>\n",
       "      <td>0.515605</td>\n",
       "      <td>0.154787</td>\n",
       "      <td>1.565667</td>\n",
       "      <td>0.005131</td>\n",
       "      <td>0.942894</td>\n",
       "      <td>0.984825</td>\n",
       "    </tr>\n",
       "    <tr>\n",
       "      <th>ENSMUSG00000000037</th>\n",
       "      <td>1.468900</td>\n",
       "      <td>-2.194759</td>\n",
       "      <td>2.309940</td>\n",
       "      <td>1.013488</td>\n",
       "      <td>0.314069</td>\n",
       "      <td>0.606066</td>\n",
       "    </tr>\n",
       "    <tr>\n",
       "      <th>ENSMUSG00000000049</th>\n",
       "      <td>0.479602</td>\n",
       "      <td>-4.598312</td>\n",
       "      <td>4.380796</td>\n",
       "      <td>1.909780</td>\n",
       "      <td>0.166988</td>\n",
       "      <td>0.425824</td>\n",
       "    </tr>\n",
       "  </tbody>\n",
       "</table>\n",
       "</div>"
      ],
      "text/plain": [
       "                      baseMean  log2FoldChange     lfcSE       stat    pvalue  \\\n",
       "ENSMUSG00000000001  123.914854       -1.450563  0.332834  20.681661  0.000005   \n",
       "ENSMUSG00000000028    8.918803       -4.498371  1.855694   6.261511  0.012339   \n",
       "ENSMUSG00000000031    0.515605        0.154787  1.565667   0.005131  0.942894   \n",
       "ENSMUSG00000000037    1.468900       -2.194759  2.309940   1.013488  0.314069   \n",
       "ENSMUSG00000000049    0.479602       -4.598312  4.380796   1.909780  0.166988   \n",
       "\n",
       "                        padj  \n",
       "ENSMUSG00000000001  0.000102  \n",
       "ENSMUSG00000000028  0.069156  \n",
       "ENSMUSG00000000031  0.984825  \n",
       "ENSMUSG00000000037  0.606066  \n",
       "ENSMUSG00000000049  0.425824  "
      ]
     },
     "execution_count": 3,
     "metadata": {},
     "output_type": "execute_result"
    }
   ],
   "source": [
    "nan_gene = list(DESeq2[DESeq2['padj'].isnull()].index.values)\n",
    "DESeq2 = DESeq2.drop(nan_gene)\n",
    "DESeq2.head()"
   ]
  },
  {
   "cell_type": "code",
   "execution_count": null,
   "metadata": {},
   "outputs": [],
   "source": [
    "GPcounts_NB = GPcounts_NB.drop(nan_gene)\n",
    "GPcounts_NB.head()"
   ]
  },
  {
   "cell_type": "code",
   "execution_count": null,
   "metadata": {},
   "outputs": [],
   "source": [
    "GPcounts_G = GPcounts_G.drop(nan_gene)\n",
    "GPcounts_G.head()"
   ]
  },
  {
   "cell_type": "markdown",
   "metadata": {},
   "source": [
    "DESeq2 and GPcounts with NB likelihood identify similar top 4 genes"
   ]
  },
  {
   "cell_type": "code",
   "execution_count": null,
   "metadata": {},
   "outputs": [],
   "source": [
    "display( DESeq2.sort_values(by=['padj']).head()\n",
    "#DESeq_sorted.head()\n",
    "#GPcounts_NB_sorted = GPcounts_NB.sort_values(by=['log_likelihood_ratio'], ascending=False)\n",
    "#GPcounts_NB_sorted.head()\n",
    "#GPcounts_G_sorted = GPcounts_G.sort_values(by=['log_likelihood_ratio'], ascending=False)\n",
    "#GPcounts_G_sorted.head()"
   ]
  },
  {
   "cell_type": "markdown",
   "metadata": {},
   "source": [
    "#### label genes as differentially using DESeq2 padj score"
   ]
  },
  {
   "cell_type": "code",
   "execution_count": null,
   "metadata": {},
   "outputs": [],
   "source": [
    "padj = [.05,.2,.5] # Threshold  \n",
    "fig = plt.figure()\n",
    "\n",
    "dfs = [GPcounts_NB['log_likelihood_ratio'],GPcounts_G['log_likelihood_ratio']]\n",
    "\n",
    "for df in range(len(dfs)):\n",
    "    D = len(DESeq_sorted)\n",
    "    for i in range(3):\n",
    "        true_label = np.zeros(D)\n",
    "  \n",
    "        for j in range(D):\n",
    "            # label gene as differentially expressed if DESeq2 give it a score lower than the threshold\n",
    "            if DESeq2['padj'][j] <= padj[i]:\n",
    "                true_label[j] = 1 \n",
    "        labels = pd.DataFrame(true_label, index =DESeq2.index.values, columns =['label'])\n",
    "        \n",
    "        #unique, counts = np.unique(true_label, return_counts=True)\n",
    "        \n",
    "        #print(dict(zip(unique, counts)))\n",
    "        \n",
    "        precision, recall, thresholds = metrics.precision_recall_curve(labels['label'],dfs[df])\n",
    "\n",
    "        plt.plot( recall,precision,label='adjusted p-value='+str(padj[i]))\n",
    "        plt.tick_params(labelsize='large', width=2) \n",
    "        '''\n",
    "        plt.xlabel('recall')\n",
    "        plt.ylabel('precision')\n",
    "        plt.legend(loc='best', bbox_to_anchor=(1.22, .75))\n",
    "        '''\n",
    "        if df == 0:\n",
    "            plt.legend(loc='best', bbox_to_anchor=(1., .65))\n",
    "        \n",
    "            #title = 'GPcounts with NB likelihood'\n",
    "        '''\n",
    "        else:\n",
    "            title = 'GPcounts with Gaussian likelihood'\n",
    "            \n",
    "        plt.title(title )\n",
    "        '''\n",
    "        plt.ylim([-.1,1.1])\n",
    "        \n",
    "    plt.show()\n"
   ]
  },
  {
   "cell_type": "code",
   "execution_count": null,
   "metadata": {},
   "outputs": [],
   "source": [
    "percentage = np.array(list(range(1,11)))\n",
    "percentage = percentage * .10\n",
    "DESeq_id = list(DESeq_sorted.index.values)\n",
    "GPcounts_NB_id = list(GPcounts_NB_sorted.index)\n",
    "GPcounts_G_id = list(GPcounts_G_sorted.index)\n",
    "corr_NB = []\n",
    "corr_G = []\n",
    "inter_NB = []\n",
    "inter_G = []\n",
    "\n",
    "for count in range(10):\n",
    "    print(percentage[count])\n",
    "    DESeq_id_part= DESeq_id[int(len(DESeq_id) * .0) : int(len(DESeq_id) * percentage[count])]\n",
    "    GPcounts_NB_index_part = []\n",
    "    GPcounts_G_index_part = []\n",
    "    for i in DESeq_id_part:\n",
    "        GPcounts_NB_index_part.append(GPcounts_NB_id.index(i))\n",
    "        GPcounts_G_index_part.append(GPcounts_G_id.index(i))\n",
    "    \n",
    "    DESeq_index_part = list(range(0,len(DESeq_id_part)))\n",
    "    #print(len(DESeq_index_part))\n",
    "    #print(len(list(set(DESeq_index_part).intersection(GPcounts_NB_index_part))))\n",
    "    intersect_NB = len(list(set(DESeq_index_part).intersection(GPcounts_NB_index_part)))\n",
    "    #print(intersect/len(DESeq_index_part)*100.)\n",
    "    inter_NB.append(intersect_NB/len(DESeq_index_part))\n",
    "    print(intersect_NB/len(DESeq_index_part)*100.)\n",
    "    rho, pval = stats.spearmanr(DESeq_index_part,GPcounts_NB_index_part)\n",
    "    print(rho)\n",
    "    corr_NB.append(rho)\n",
    "    plt.scatter(DESeq_index_part ,GPcounts_NB_index_part,s=5,alpha=0.5)\n",
    "    plt.show() \n",
    "    \n",
    "    intersect_G = len(list(set(DESeq_index_part).intersection(GPcounts_G_index_part)))\n",
    "    #print(intersect/len(DESeq_index_part)*100.)\n",
    "    inter_G.append(intersect_G/len(DESeq_index_part))\n",
    "    rho, pval = stats.spearmanr(DESeq_index_part,GPcounts_G_index_part)\n",
    "    print(rho)\n",
    "    corr_G.append(rho)\n",
    "    plt.scatter(DESeq_index_part ,GPcounts_G_index_part,s=5,alpha=0.5)\n",
    "    plt.show()"
   ]
  },
  {
   "cell_type": "code",
   "execution_count": null,
   "metadata": {},
   "outputs": [],
   "source": [
    "plt.xticks(percentage*100)\n",
    "plt.ylim(0.,1.)\n",
    "plt.tick_params(labelsize='large', width=2)  \n",
    "plt.scatter(percentage*100,corr_NB,s=30,label = 'GPcount with Negative Binomial likelihood')\n",
    "#plt.scatter(percentage*100,inter_NB,s=30,label = 'GPcount with Negative Binomial likelihood')\n",
    "\n",
    "#plt.legend(bbox_to_anchor=(.23, 0), loc='lower left', ncol=1)\n",
    "plt.show()\n",
    "plt.xticks(percentage*100)\n",
    "plt.scatter(percentage*100,corr_G,s=30,color = 'darkorange',label = 'GPcount with Gaussian likelihood')\n",
    "#plt.scatter(percentage*100,inter_G,s=30,label = 'GPcount with Negative Binomial likelihood')\n",
    "\n",
    "#plt.xlabel('percentage of dataset')\n",
    "#plt.ylabel('Spearman correlation')\n",
    "plt.ylim(0.,1.)\n",
    "plt.tick_params(labelsize='large', width=2)  \n",
    "#plt.legend(bbox_to_anchor=(.35, 0), loc='lower left', ncol=1)"
   ]
  },
  {
   "cell_type": "code",
   "execution_count": null,
   "metadata": {},
   "outputs": [],
   "source": []
  }
 ],
 "metadata": {
  "kernelspec": {
   "display_name": "Python [conda env:myenv2] *",
   "language": "python",
   "name": "conda-env-myenv2-py"
  },
  "language_info": {
   "codemirror_mode": {
    "name": "ipython",
    "version": 3
   },
   "file_extension": ".py",
   "mimetype": "text/x-python",
   "name": "python",
   "nbconvert_exporter": "python",
   "pygments_lexer": "ipython3",
   "version": "3.7.6"
  }
 },
 "nbformat": 4,
 "nbformat_minor": 2
}
