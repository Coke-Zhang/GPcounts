{
 "cells": [
  {
   "cell_type": "markdown",
   "metadata": {},
   "source": [
    "# ROC and precision-recall curves"
   ]
  },
  {
   "cell_type": "markdown",
   "metadata": {},
   "source": [
    "Nuha BinTayyash, 2020\n",
    "\n",
    "This notebook shows the ROC and precision-recall curves resulted from running GPcounts with one sample test on simulated bulk RNA-seq datasets."
   ]
  },
  {
   "cell_type": "code",
   "execution_count": 1,
   "metadata": {},
   "outputs": [],
   "source": [
    "import numpy as np\n",
    "from matplotlib import pyplot as plt\n",
    "from sklearn import metrics\n",
    "import pandas as pd\n",
    "from scipy import stats"
   ]
  },
  {
   "cell_type": "code",
   "execution_count": 2,
   "metadata": {},
   "outputs": [],
   "source": [
    "from scipy import interpolate\n",
    "\n",
    "def qvalue(pv, pi0=None):\n",
    "    \n",
    "    '''\n",
    "    Estimates q-values from p-values\n",
    "    This function is modified based on https://github.com/nfusi/qvalue\n",
    "\n",
    "    GitHub - nfusi/qvalue: Converts p-values in q-values, see (Storey and Tibshirani, 2003)\n",
    "    qvalue. Converts p-values in q-values, see (Storey and Tibshirani, 2003) The only function that needs to be called is 'estimate()'. It will accept a numpy array of pvalues and will return a numpy array of qvalues.\n",
    "    github.com\n",
    "\n",
    "    Args\n",
    "    ====\n",
    "    pi0: if None, it's estimated as suggested in Storey and Tibshirani, 2003.\n",
    "    '''\n",
    "\n",
    "    assert(pv.min() >= 0 and pv.max() <= 1), \"p-values should be between 0 and 1\"\n",
    "\n",
    "    original_shape = pv.shape\n",
    "    pv = pv.ravel()  # flattens the array in place, more efficient than flatten()\n",
    "\n",
    "    m = float(len(pv))\n",
    "\n",
    "    # if the number of hypotheses is small, just set pi0 to 1\n",
    "    if len(pv) < 100 and pi0 is None:\n",
    "        pi0 = 1.0\n",
    "    elif pi0 is not None:\n",
    "        pi0 = pi0\n",
    "    else:\n",
    "        # evaluate pi0 for different lambdas\n",
    "        pi0 = []\n",
    "        lam = np.arange(0, 0.90, 0.01)\n",
    "        counts = np.array([(pv > i).sum() for i in np.arange(0, 0.9, 0.01)])\n",
    "        for l in range(len(lam)):\n",
    "            pi0.append(counts[l]/(m*(1-lam[l])))\n",
    "\n",
    "        pi0 = np.array(pi0)\n",
    "\n",
    "        # fit natural cubic spline\n",
    "        tck = interpolate.splrep(lam, pi0, k=3)\n",
    "        pi0 = interpolate.splev(lam[-1], tck)\n",
    "\n",
    "        if pi0 > 1:\n",
    "            pi0 = 1.0\n",
    "\n",
    "    assert(pi0 >= 0 and pi0 <= 1), \"pi0 is not between 0 and 1: %f\" % pi0\n",
    "\n",
    "    p_ordered = np.argsort(pv)\n",
    "    pv = pv[p_ordered]\n",
    "    qv = pi0 * m/len(pv) * pv\n",
    "    qv[-1] = min(qv[-1], 1.0)\n",
    "\n",
    "    for i in range(len(pv)-2, -1, -1):\n",
    "        qv[i] = min(pi0*m*pv[i]/(i+1.0), qv[i+1])\n",
    "\n",
    "    # reorder qvalues\n",
    "    qv_temp = qv.copy()\n",
    "    qv = np.zeros_like(qv)\n",
    "    qv[p_ordered] = qv_temp\n",
    "\n",
    "    # reshape qvalues\n",
    "    qv = qv.reshape(original_shape)\n",
    "\n",
    "    return qv\n"
   ]
  },
  {
   "cell_type": "code",
   "execution_count": 3,
   "metadata": {},
   "outputs": [
    {
     "data": {
      "text/plain": [
       "(18274, 5)"
      ]
     },
     "execution_count": 3,
     "metadata": {},
     "output_type": "execute_result"
    }
   ],
   "source": [
    "NegativeBinomial = pd.read_csv('ll_Negative_binomial_normalized_alpha_counts.csv',index_col=[0])\n",
    "NegativeBinomial.shape"
   ]
  },
  {
   "cell_type": "code",
   "execution_count": 8,
   "metadata": {},
   "outputs": [
    {
     "data": {
      "text/html": [
       "<div>\n",
       "<style scoped>\n",
       "    .dataframe tbody tr th:only-of-type {\n",
       "        vertical-align: middle;\n",
       "    }\n",
       "\n",
       "    .dataframe tbody tr th {\n",
       "        vertical-align: top;\n",
       "    }\n",
       "\n",
       "    .dataframe thead th {\n",
       "        text-align: right;\n",
       "    }\n",
       "</style>\n",
       "<table border=\"1\" class=\"dataframe\">\n",
       "  <thead>\n",
       "    <tr style=\"text-align: right;\">\n",
       "      <th></th>\n",
       "      <th>Dynamic_model_log_likelihood</th>\n",
       "      <th>Constant_model_log_likelihood</th>\n",
       "      <th>log_likelihood_ratio</th>\n",
       "      <th>time</th>\n",
       "      <th>failure counter</th>\n",
       "      <th>label</th>\n",
       "    </tr>\n",
       "  </thead>\n",
       "  <tbody>\n",
       "    <tr>\n",
       "      <th>ENSMUSG00000000001</th>\n",
       "      <td>-1881.853140</td>\n",
       "      <td>-1889.872765</td>\n",
       "      <td>8.019625e+00</td>\n",
       "      <td>0:00:28.598276</td>\n",
       "      <td>0</td>\n",
       "      <td>1.0</td>\n",
       "    </tr>\n",
       "    <tr>\n",
       "      <th>ENSMUSG00000000028</th>\n",
       "      <td>-315.542880</td>\n",
       "      <td>-317.141326</td>\n",
       "      <td>1.598446e+00</td>\n",
       "      <td>0:00:07.087942</td>\n",
       "      <td>0</td>\n",
       "      <td>1.0</td>\n",
       "    </tr>\n",
       "    <tr>\n",
       "      <th>ENSMUSG00000000031</th>\n",
       "      <td>-173.025395</td>\n",
       "      <td>-173.025399</td>\n",
       "      <td>4.082184e-06</td>\n",
       "      <td>0:00:20.645608</td>\n",
       "      <td>0</td>\n",
       "      <td>1.0</td>\n",
       "    </tr>\n",
       "    <tr>\n",
       "      <th>ENSMUSG00000000037</th>\n",
       "      <td>-169.375683</td>\n",
       "      <td>-169.375610</td>\n",
       "      <td>-7.238429e-05</td>\n",
       "      <td>0:00:05.713491</td>\n",
       "      <td>0</td>\n",
       "      <td>0.0</td>\n",
       "    </tr>\n",
       "    <tr>\n",
       "      <th>ENSMUSG00000000049</th>\n",
       "      <td>-50.358628</td>\n",
       "      <td>-51.346195</td>\n",
       "      <td>9.875676e-01</td>\n",
       "      <td>0:00:10.138983</td>\n",
       "      <td>0</td>\n",
       "      <td>1.0</td>\n",
       "    </tr>\n",
       "    <tr>\n",
       "      <th>...</th>\n",
       "      <td>...</td>\n",
       "      <td>...</td>\n",
       "      <td>...</td>\n",
       "      <td>...</td>\n",
       "      <td>...</td>\n",
       "      <td>...</td>\n",
       "    </tr>\n",
       "    <tr>\n",
       "      <th>ENSMUSG00000102097</th>\n",
       "      <td>-341.138544</td>\n",
       "      <td>-341.138489</td>\n",
       "      <td>-5.515741e-05</td>\n",
       "      <td>0:00:05.861081</td>\n",
       "      <td>0</td>\n",
       "      <td>0.0</td>\n",
       "    </tr>\n",
       "    <tr>\n",
       "      <th>ENSMUSG00000102101</th>\n",
       "      <td>-579.920750</td>\n",
       "      <td>-579.963340</td>\n",
       "      <td>4.259037e-02</td>\n",
       "      <td>0:00:04.968253</td>\n",
       "      <td>0</td>\n",
       "      <td>1.0</td>\n",
       "    </tr>\n",
       "    <tr>\n",
       "      <th>ENSMUSG00000102112</th>\n",
       "      <td>-287.908238</td>\n",
       "      <td>-287.908242</td>\n",
       "      <td>4.233288e-06</td>\n",
       "      <td>0:00:12.696929</td>\n",
       "      <td>0</td>\n",
       "      <td>1.0</td>\n",
       "    </tr>\n",
       "    <tr>\n",
       "      <th>ENSMUSG00000102117</th>\n",
       "      <td>-131.131139</td>\n",
       "      <td>-132.412347</td>\n",
       "      <td>1.281208e+00</td>\n",
       "      <td>0:00:05.946576</td>\n",
       "      <td>0</td>\n",
       "      <td>1.0</td>\n",
       "    </tr>\n",
       "    <tr>\n",
       "      <th>ENSMUSG00000102123</th>\n",
       "      <td>-12.601887</td>\n",
       "      <td>-12.601887</td>\n",
       "      <td>2.798452e-08</td>\n",
       "      <td>0:00:13.063915</td>\n",
       "      <td>0</td>\n",
       "      <td>1.0</td>\n",
       "    </tr>\n",
       "  </tbody>\n",
       "</table>\n",
       "<p>18274 rows × 6 columns</p>\n",
       "</div>"
      ],
      "text/plain": [
       "                    Dynamic_model_log_likelihood  \\\n",
       "ENSMUSG00000000001                  -1881.853140   \n",
       "ENSMUSG00000000028                   -315.542880   \n",
       "ENSMUSG00000000031                   -173.025395   \n",
       "ENSMUSG00000000037                   -169.375683   \n",
       "ENSMUSG00000000049                    -50.358628   \n",
       "...                                          ...   \n",
       "ENSMUSG00000102097                   -341.138544   \n",
       "ENSMUSG00000102101                   -579.920750   \n",
       "ENSMUSG00000102112                   -287.908238   \n",
       "ENSMUSG00000102117                   -131.131139   \n",
       "ENSMUSG00000102123                    -12.601887   \n",
       "\n",
       "                    Constant_model_log_likelihood  log_likelihood_ratio  \\\n",
       "ENSMUSG00000000001                   -1889.872765          8.019625e+00   \n",
       "ENSMUSG00000000028                    -317.141326          1.598446e+00   \n",
       "ENSMUSG00000000031                    -173.025399          4.082184e-06   \n",
       "ENSMUSG00000000037                    -169.375610         -7.238429e-05   \n",
       "ENSMUSG00000000049                     -51.346195          9.875676e-01   \n",
       "...                                           ...                   ...   \n",
       "ENSMUSG00000102097                    -341.138489         -5.515741e-05   \n",
       "ENSMUSG00000102101                    -579.963340          4.259037e-02   \n",
       "ENSMUSG00000102112                    -287.908242          4.233288e-06   \n",
       "ENSMUSG00000102117                    -132.412347          1.281208e+00   \n",
       "ENSMUSG00000102123                     -12.601887          2.798452e-08   \n",
       "\n",
       "                              time  failure counter  label  \n",
       "ENSMUSG00000000001  0:00:28.598276                0    1.0  \n",
       "ENSMUSG00000000028  0:00:07.087942                0    1.0  \n",
       "ENSMUSG00000000031  0:00:20.645608                0    1.0  \n",
       "ENSMUSG00000000037  0:00:05.713491                0    0.0  \n",
       "ENSMUSG00000000049  0:00:10.138983                0    1.0  \n",
       "...                            ...              ...    ...  \n",
       "ENSMUSG00000102097  0:00:05.861081                0    0.0  \n",
       "ENSMUSG00000102101  0:00:04.968253                0    1.0  \n",
       "ENSMUSG00000102112  0:00:12.696929                0    1.0  \n",
       "ENSMUSG00000102117  0:00:05.946576                0    1.0  \n",
       "ENSMUSG00000102123  0:00:13.063915                0    1.0  \n",
       "\n",
       "[18274 rows x 6 columns]"
      ]
     },
     "execution_count": 8,
     "metadata": {},
     "output_type": "execute_result"
    }
   ],
   "source": [
    "#NegativeBinomial =NegativeBinomial.dropna()\n",
    "NegativeBinomial"
   ]
  },
  {
   "cell_type": "code",
   "execution_count": 14,
   "metadata": {},
   "outputs": [
    {
     "name": "stdout",
     "output_type": "stream",
     "text": [
      "18274\n"
     ]
    },
    {
     "data": {
      "image/png": "[encoded data removed]",
      "text/plain": [
       "<Figure size 432x288 with 1 Axes>"
      ]
     },
     "metadata": {
      "needs_background": "light"
     },
     "output_type": "display_data"
    },
    {
     "name": "stdout",
     "output_type": "stream",
     "text": [
      "Number of differentially expressed genes:        Dynamic_model_log_likelihood  Constant_model_log_likelihood  \\\n",
      "label                                                                \n",
      "0.0                            8525                           8525   \n",
      "1.0                            9749                           9749   \n",
      "\n",
      "       log_likelihood_ratio  time  failure counter  \n",
      "label                                               \n",
      "0.0                    8525  8525             8525  \n",
      "1.0                    9749  9749             9749  \n",
      "AUC for GPcounts with Negative Binomial likelihood 1.0\n",
      "AUC for GPcounts with Gaussian likelihood 0.7687318136847783\n",
      "GPcounts with Negative Binomial likelihood\n",
      "AUC: 1.0\n",
      "the numbers of genes less than 0.05 : 967\n",
      "kstest for non DE genes: KstestResult(statistic=1.0, pvalue=0.0)\n",
      "16216\n"
     ]
    },
    {
     "data": {
      "image/png": "[encoded data removed]",
      "text/plain": [
       "<Figure size 432x288 with 1 Axes>"
      ]
     },
     "metadata": {
      "needs_background": "light"
     },
     "output_type": "display_data"
    },
    {
     "data": {
      "image/png": "[encoded data removed]",
      "text/plain": [
       "<Figure size 432x288 with 1 Axes>"
      ]
     },
     "metadata": {
      "needs_background": "light"
     },
     "output_type": "display_data"
    },
    {
     "name": "stdout",
     "output_type": "stream",
     "text": [
      "GPcounts with Gaussian likelihood\n",
      "AUC: 0.7687318136847783\n",
      "the numbers of genes greater than 0.05 : 3378\n",
      "kstest for non DE genes: KstestResult(statistic=1.0, pvalue=0.0)\n"
     ]
    },
    {
     "data": {
      "image/png": "[encoded data removed]",
      "text/plain": [
       "<Figure size 432x288 with 1 Axes>"
      ]
     },
     "metadata": {
      "needs_background": "light"
     },
     "output_type": "display_data"
    },
    {
     "data": {
      "image/png": "[encoded data removed]",
      "text/plain": [
       "<Figure size 432x288 with 1 Axes>"
      ]
     },
     "metadata": {
      "needs_background": "light"
     },
     "output_type": "display_data"
    }
   ],
   "source": [
    "Gaussian = pd.read_csv('ll_Gaussian_normalized_alpha_counts.csv',index_col=[0])\n",
    "NegativeBinomial = pd.read_csv('ll_Negative_binomial_normalized_alpha_counts.csv',index_col=[0])\n",
    "\n",
    "D = NegativeBinomial.shape[0]\n",
    "print(D)\n",
    "\n",
    "true_label = np.zeros(D)\n",
    "for j in range(D):\n",
    "    if NegativeBinomial['log_likelihood_ratio'][j] > 0:\n",
    "        true_label[j] = 1\n",
    "\n",
    "labels = pd.DataFrame(true_label, index =NegativeBinomial.index.values, columns =['label'])\n",
    "NegativeBinomial = pd.concat([NegativeBinomial,labels],axis = 1)\n",
    "\n",
    "fig = plt.figure()\n",
    "\n",
    "plt.tick_params(labelsize='large', width=2)     \n",
    "fpr_NB, tpr_NB, thresholds_NB = metrics.roc_curve( NegativeBinomial['label'], NegativeBinomial['log_likelihood_ratio'])\n",
    "AUC_NB=metrics.auc(fpr_NB, tpr_NB)\n",
    "plt.plot(fpr_NB, tpr_NB,color='green',label='Negative binomail {0:.4f}'.format(AUC_NB))\n",
    "\n",
    "\n",
    "fpr_G, tpr_G, thresholds_G = metrics.roc_curve(NegativeBinomial['label'],Gaussian['log_likelihood_ratio'])\n",
    "AUC_G=metrics.auc(fpr_G, tpr_G)\n",
    "plt.plot(fpr_G, tpr_G, color='darkorange', label='Gaussian {0:.4f}'.format(AUC_G))\n",
    "\n",
    "plt.plot([0, 1], [0, 1], color='navy', lw=2, linestyle='--')\n",
    "'''\n",
    "plt.plot([0, 1], [0, 1], color='navy', lw=2, linestyle='--')\n",
    "\n",
    "plt.xlabel('False Positive Rate')\n",
    "plt.ylabel('True Positive Rate')\n",
    "\n",
    "plt.subplot(1, 2, 2)\n",
    "\n",
    "precision_NB, recall_NB, thresholds_NB = metrics.precision_recall_curve( NegativeBinomial['label'], NegativeBinomial['log_likelihood_ratio'])\n",
    "plt.plot( recall_NB,precision_NB,color='green',label='GPcounts with Negative binomail likelihood')\n",
    "\n",
    "precision_G, recall_G, thresholds_G = metrics.precision_recall_curve(NegativeBinomial['label'],Gaussian['log_likelihood_ratio'])\n",
    "plt.plot(recall_G, precision_G, color='darkorange', label='GPcounts with Gaussian ll')\n",
    "\n",
    "precision_P, recall_P, thresholds_P = metrics.precision_recall_curve( NegativeBinomial['label'], Poisson['log_likelihood_ratio'])\n",
    "plt.plot( recall_P,precision_P,color='blue',label='GPcounts with Poisson ll')\n",
    "\n",
    "plt.xlabel('recall')\n",
    "plt.ylabel('precision')\n",
    "'''\n",
    "plt.legend(loc='upper center', bbox_to_anchor=(.75, 0.30))\n",
    "plt.show()\n",
    "\n",
    "print('Number of differentially expressed genes:',NegativeBinomial.groupby('label').count())\n",
    "print('AUC for GPcounts with Negative Binomial likelihood',AUC_NB)\n",
    "print('AUC for GPcounts with Gaussian likelihood',AUC_G)\n",
    "\n",
    "\n",
    "pval_NB = 1 - stats.chi2.cdf(NegativeBinomial['log_likelihood_ratio'], df=1)\n",
    "pval_NB.reshape(-1)[2]\n",
    "pval_NB = pd.DataFrame(pval_NB)\n",
    "DE_pval_NB = list(pval_NB.loc[(pval_NB[0] < 0.05)].index.values)\n",
    "non_DE_pval_NB = list(pval_NB.loc[(pval_NB[0] >= 0.05)].index.values)\n",
    "\n",
    "qvals_NB = []\n",
    "#pval_NB=pval_NB['2']\n",
    "qvals_NB = qvalue(pval_NB.values)\n",
    "count_NB = 0\n",
    "\n",
    "for i in (qvals_NB):\n",
    "    if i < 0.05 :\n",
    "        count_NB = count_NB + 1\n",
    "    \n",
    "print(\"GPcounts with Negative Binomial likelihood\")        \n",
    "print('AUC:',AUC_NB)       \n",
    "print (\"the numbers of genes less than 0.05 : \" + str(count_NB))\n",
    "print(\"kstest for non DE genes:\",stats.kstest(pval_NB.iloc[non_DE_pval_NB,:].values, 'uniform', args=(0,1)))\n",
    "plt.hist(pval_NB.iloc[non_DE_pval_NB,:].values.ravel(),color=\"dodgerblue\", label=\"non DE genes\", bins=10)\n",
    "plt.legend(bbox_to_anchor=(1, 1))\n",
    "print(len(pval_NB.iloc[non_DE_pval_NB,:].values.ravel()))\n",
    "plt.show()\n",
    "plt.hist(pval_NB.iloc[DE_pval_NB,:].values.ravel(),color=\"orange\", label=\"DE genes\", bins=10)\n",
    "plt.legend(bbox_to_anchor=(1, 1))\n",
    "plt.show()\n",
    "\n",
    "pval_G = 1 - stats.chi2.cdf(Gaussian['log_likelihood_ratio'], df=1)\n",
    "pval_G.reshape(-1)[2]\n",
    "pval_G = pd.DataFrame(pval_G)\n",
    "DE_pval_G = list(pval_G.loc[(pval_G[0] < 0.05)].index.values)\n",
    "non_DE_pval_G = list(pval_G.loc[(pval_G[0] >= 0.05)].index.values)\n",
    "qvals_G = []\n",
    "#pval=pval['2']\n",
    "qvals_G = qvalue(pval_G.values)\n",
    "count_G = 0\n",
    "for i in qvals_G :\n",
    "    if i < 0.05 :\n",
    "        count_G = count_G + 1\n",
    "\n",
    "print(\"GPcounts with Gaussian likelihood\")        \n",
    "print('AUC:',AUC_G)       \n",
    "print (\"the numbers of genes greater than 0.05 : \" + str(count_G))\n",
    "print(\"kstest for non DE genes:\",stats.kstest(pval_G.iloc[non_DE_pval_G,:].values, 'uniform', args=(0, 1)))\n",
    "plt.hist(pval_G.iloc[non_DE_pval_G,:].values.ravel(),color=\"dodgerblue\", label=\"non DE genes\", bins=10)\n",
    "plt.legend(bbox_to_anchor=(1, 1))\n",
    "plt.show()\n",
    "plt.hist(pval_G.iloc[DE_pval_G,:].values.ravel(),color=\"orange\", label=\"DE genes\", bins=10)\n",
    "plt.legend(bbox_to_anchor=(1, 1))\n",
    "plt.show()"
   ]
  },
  {
   "cell_type": "code",
   "execution_count": null,
   "metadata": {},
   "outputs": [],
   "source": []
  }
 ],
 "metadata": {
  "kernelspec": {
   "display_name": "Python [conda env:myenv2] *",
   "language": "python",
   "name": "conda-env-myenv2-py"
  },
  "language_info": {
   "codemirror_mode": {
    "name": "ipython",
    "version": 3
   },
   "file_extension": ".py",
   "mimetype": "text/x-python",
   "name": "python",
   "nbconvert_exporter": "python",
   "pygments_lexer": "ipython3",
   "version": "3.7.6"
  }
 },
 "nbformat": 4,
 "nbformat_minor": 2
}
