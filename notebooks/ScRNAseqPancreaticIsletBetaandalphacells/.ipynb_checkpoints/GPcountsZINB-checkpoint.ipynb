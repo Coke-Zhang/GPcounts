{
 "cells": [
  {
   "cell_type": "markdown",
   "metadata": {},
   "source": [
    "## GPcounts with zero-inflated negative binomial likelihood"
   ]
  },
  {
   "cell_type": "markdown",
   "metadata": {},
   "source": [
    "Nuha BinTayyash, 2020\n",
    "\n",
    "This notebook comapre GPcount fit with zero-inflated negative binomial, negative binomial and Gaussian likelihoods on ScRNA-seq gene expression data for highly expressed genes in Islet $\\alpha$ cell from [GSE8737 single cell RNA-seq ](https://www.ncbi.nlm.nih.gov/geo/query/acc.cgi?acc=GSE87375) dataset."
   ]
  },
  {
   "cell_type": "code",
   "execution_count": 1,
   "metadata": {},
   "outputs": [],
   "source": [
    "import pandas as pd\n",
    "import numpy as np\n",
    "import gpflow "
   ]
  },
  {
   "cell_type": "markdown",
   "metadata": {},
   "source": [
    "Load $\\alpha$ dataset and pseudotime information"
   ]
  },
  {
   "cell_type": "code",
   "execution_count": 2,
   "metadata": {},
   "outputs": [],
   "source": [
    "Y = pd.read_csv('alpha_counts.csv',index_col=[0])\n",
    "X = pd.read_csv('alpha_time_points.csv',index_col=[0])"
   ]
  },
  {
   "cell_type": "markdown",
   "metadata": {},
   "source": [
    "#### Fit GPcount with zero inflated negative binomial likelihood"
   ]
  },
  {
   "cell_type": "code",
   "execution_count": 3,
   "metadata": {},
   "outputs": [],
   "source": [
    "from GPcounts.GPcounts_Module import Fit_GPcounts"
   ]
  },
  {
   "cell_type": "code",
   "execution_count": 4,
   "metadata": {},
   "outputs": [],
   "source": [
    "gene_name = ['Fam184b','Pde1a']\n",
    "gp_counts = Fit_GPcounts(X,Y.loc[gene_name]) "
   ]
  },
  {
   "cell_type": "markdown",
   "metadata": {},
   "source": [
    "Probabilty of zeros in Fam184b and Pde1a genes"
   ]
  },
  {
   "cell_type": "code",
   "execution_count": 5,
   "metadata": {},
   "outputs": [
    {
     "data": {
      "text/plain": [
       "Symbol\n",
       "Fam184b    0.862805\n",
       "Pde1a      0.689024\n",
       "dtype: float64"
      ]
     },
     "execution_count": 5,
     "metadata": {},
     "output_type": "execute_result"
    }
   ],
   "source": [
    "Y.loc[gene_name][Y.loc[gene_name] == 0].count(axis=1)/len(Y.columns)"
   ]
  },
  {
   "cell_type": "code",
   "execution_count": 6,
   "metadata": {},
   "outputs": [],
   "source": [
    "from matplotlib import pyplot as plt\n",
    "import statsmodels.api as sm\n",
    "\n",
    "def plot():\n",
    "    plt.tick_params(labelsize='large', width=2)     \n",
    "    #plt.ylabel('Gene Expression', fontsize=16)\n",
    "    #plt.xlabel('Times', fontsize=16)\n",
    "    c = 'royalblue'\n",
    "    \n",
    "    if model_index == 3:\n",
    "        c = 'green'\n",
    "    \n",
    "    plt.plot(xtest, mean,color= c, lw=2) \n",
    "    \n",
    "    if likelihood == 'Gaussian':\n",
    "        plt.fill_between(xtest[:,0],\n",
    "                            mean[:,0] - 1*np.sqrt(var[:,0]),\n",
    "                            mean[:,0] + 1*np.sqrt(var[:,0]),color=c,alpha=0.2) # one standard deviation\n",
    "        plt.fill_between(xtest[:,0],\n",
    "                            mean[:,0] - 2*np.sqrt(var[:,0]),\n",
    "                            mean[:,0] + 2*np.sqrt(var[:,0]),color=c, alpha=0.1)# two standard deviation\n",
    "    else:\n",
    "       \n",
    "        lowess = sm.nonparametric.lowess    \n",
    "        # one standard deviation 68%\n",
    "        percentile_16 = lowess(np.percentile(var, 16, axis=0),xtest[:,0],frac=1./5, return_sorted=False)\n",
    "        percentile_16 = [(i > 0) * i for i in percentile_16]\n",
    "        percentile_84 = lowess(np.percentile(var, 84, axis=0),xtest[:,0],frac=1./5, return_sorted=False)\n",
    "        percentile_84 = [(i > 0) * i for i in percentile_84]\n",
    "        plt.fill_between(xtest[:,0],percentile_16,percentile_84,color=c,alpha=0.2)\n",
    "        \n",
    "        # two standard deviation 95%\n",
    "        percentile_5 = lowess(np.percentile(var, 5, axis=0),xtest[:,0],frac=1./5, return_sorted=False)\n",
    "        percentile_5 = [(i > 0) * i for i in percentile_5]\n",
    "        percentile_95 = lowess(np.percentile(var,95, axis=0),xtest[:,0],frac=1./5, return_sorted=False)\n",
    "        percentile_95 = [(i > 0) * i for i in percentile_95]\n",
    "        plt.fill_between(xtest[:,0],percentile_5,percentile_95,color=c,alpha=0.1)\n",
    "    \n",
    "    if test == 'Two_samples_test' and model_index == 1:\n",
    "        plt.scatter(model.data[0][0:int(model.data[0].shape[0]/2)],model.data[1][0:int(model.data[0].shape[0]/2)], s=30, marker='o', color= 'royalblue',alpha=1.) #data    \n",
    "        plt.scatter(model.data[0][int(model.data[0].shape[0]/2)::],model.data[1][int(model.data[0].shape[0]/2)::], s=30, marker='o', color= 'green',alpha=1.) #data\n",
    "\n",
    "    else: \n",
    "        plt.scatter(model.data[0],model.data[1],s=30,marker = 'o',color=c,alpha=1.)\n",
    "    \n",
    "    \n",
    "    if not(test == 'Two_samples_test' and model_index == 2):\n",
    "        plt.show()\n",
    "    "
   ]
  },
  {
   "cell_type": "code",
   "execution_count": null,
   "metadata": {},
   "outputs": [
    {
     "name": "stderr",
     "output_type": "stream",
     "text": [
      "\r",
      "  0%|          | 0/2 [00:00<?, ?it/s]"
     ]
    },
    {
     "name": "stdout",
     "output_type": "stream",
     "text": [
      "{'ls': 0.1, 'var': 0.3, 'alpha': 5.0, 'km': 35.0}\n"
     ]
    }
   ],
   "source": [
    "likelihood = 'Zero_inflated_negative_binomial' \n",
    "log_likelihood_zinb, variance_ZINB = gp_counts.Infer_trajectory(likelihood)\n",
    "log_likelihood_zinb"
   ]
  },
  {
   "cell_type": "code",
   "execution_count": null,
   "metadata": {},
   "outputs": [],
   "source": [
    "likelihood = 'Zero_inflated_negative_binomial' \n",
    "indexes = log_likelihood_zinb.index.values.tolist() # list of genes to be plotted \n",
    "test = 'Infer_trajectory' # name of the test\n",
    "xtest = np.linspace(np.min(X.values)-.1,np.max(X.values)+.1,100)[:,None]\n",
    "\n",
    "params = gp_counts.load_models(indexes,test,xtest,likelihood)\n",
    "\n",
    "for i in range(len(indexes)):\n",
    "    fig = plt.figure()\n",
    "    print(indexes[i])\n",
    "    model_index = 1\n",
    "    for model,mean,var in zip(params['models'][i],params['means'][i],params['vars'][i]):\n",
    "        plot()\n",
    "        model_index = model_index + 1\n",
    "        gpflow.utilities.print_summary(model, fmt='notebook')"
   ]
  },
  {
   "cell_type": "markdown",
   "metadata": {},
   "source": [
    "#### Fit GPcount with negative binomial likelihood"
   ]
  },
  {
   "cell_type": "code",
   "execution_count": null,
   "metadata": {},
   "outputs": [],
   "source": [
    "likelihood = 'Negative_binomial' \n",
    "log_likelihood_nb, variance_nb= gp_counts.Infer_trajectory(likelihood)\n",
    "log_likelihood_nb"
   ]
  },
  {
   "cell_type": "code",
   "execution_count": null,
   "metadata": {},
   "outputs": [],
   "source": [
    "likelihood = 'Negative_binomial'\n",
    "params = gp_counts.load_models(indexes,test,xtest,likelihood)\n",
    "for i in range(len(indexes)):\n",
    "    fig = plt.figure()\n",
    "    print(indexes[i])\n",
    "    model_index = 1\n",
    "    for model,mean,var in zip(params['models'][i],params['means'][i],params['vars'][i]):\n",
    "        plot()\n",
    "        model_index = model_index + 1"
   ]
  },
  {
   "cell_type": "markdown",
   "metadata": {},
   "source": [
    "#### Fit GPcount with Gaussian likelihood"
   ]
  },
  {
   "cell_type": "code",
   "execution_count": null,
   "metadata": {},
   "outputs": [],
   "source": [
    "likelihood = 'Gaussian'\n",
    "log_likelihood_Gaussian,variance_Gaussian = gp_counts.Infer_trajectory(likelihood)\n",
    "log_likelihood_Gaussian"
   ]
  },
  {
   "cell_type": "code",
   "execution_count": null,
   "metadata": {
    "scrolled": true
   },
   "outputs": [],
   "source": [
    "params = gp_counts.load_models(indexes,test,xtest,likelihood)\n",
    "\n",
    "for i in range(len(indexes)):\n",
    "    fig = plt.figure()\n",
    "    print(indexes[i])\n",
    "    model_index = 1\n",
    "    for model,mean,var in zip(params['models'][i],params['means'][i],params['vars'][i]):\n",
    "        plot()\n",
    "        model_index = model_index + 1"
   ]
  }
 ],
 "metadata": {
  "kernelspec": {
   "display_name": "Python [conda env:myenv2] *",
   "language": "python",
   "name": "conda-env-myenv2-py"
  },
  "language_info": {
   "codemirror_mode": {
    "name": "ipython",
    "version": 3
   },
   "file_extension": ".py",
   "mimetype": "text/x-python",
   "name": "python",
   "nbconvert_exporter": "python",
   "pygments_lexer": "ipython3",
   "version": "3.7.6"
  }
 },
 "nbformat": 4,
 "nbformat_minor": 2
}
