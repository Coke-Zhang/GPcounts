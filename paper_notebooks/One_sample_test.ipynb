{
 "cells": [
  {
   "cell_type": "markdown",
   "metadata": {},
   "source": [
    "# One sample test on simulated bulk RNA-seq"
   ]
  },
  {
   "cell_type": "markdown",
   "metadata": {},
   "source": [
    "Nuha BinTayyash, 2020\n",
    "\n",
    "This notebook shows how to run GPcounts with one sample test  and the resulted ROC curves on simulated bulk RNA-seq datasets."
   ]
  },
  {
   "cell_type": "code",
   "execution_count": 1,
   "metadata": {},
   "outputs": [],
   "source": [
    "import numpy as np\n",
    "import pandas as pd\n",
    "from GPcounts.GPcounts_Module import Fit_GPcounts\n",
    "import gpflow\n",
    "from helper import plot "
   ]
  },
  {
   "cell_type": "code",
   "execution_count": 2,
   "metadata": {},
   "outputs": [
    {
     "name": "stderr",
     "output_type": "stream",
     "text": [
      "\r",
      "  0%|          | 0/40 [00:00<?, ?it/s]"
     ]
    },
    {
     "name": "stdout",
     "output_type": "stream",
     "text": [
      "../data/low_counts_low_dispersion.csv\n",
      "(40, 18)\n",
      "Negative_binomial\n"
     ]
    },
    {
     "name": "stderr",
     "output_type": "stream",
     "text": [
      "100%|██████████| 40/40 [01:42<00:00,  2.56s/it]\n",
      "  0%|          | 0/40 [00:00<?, ?it/s]"
     ]
    },
    {
     "name": "stdout",
     "output_type": "stream",
     "text": [
      "Gaussian\n"
     ]
    },
    {
     "name": "stderr",
     "output_type": "stream",
     "text": [
      "100%|██████████| 40/40 [00:20<00:00,  1.99it/s]\n",
      "  0%|          | 0/40 [00:00<?, ?it/s]"
     ]
    },
    {
     "name": "stdout",
     "output_type": "stream",
     "text": [
      "Poisson\n"
     ]
    },
    {
     "name": "stderr",
     "output_type": "stream",
     "text": [
      "100%|██████████| 40/40 [01:16<00:00,  1.92s/it]\n",
      "  0%|          | 0/40 [00:00<?, ?it/s]"
     ]
    },
    {
     "name": "stdout",
     "output_type": "stream",
     "text": [
      "../data/low_counts_high_dispersion.csv\n",
      "(40, 18)\n",
      "Negative_binomial\n"
     ]
    },
    {
     "name": "stderr",
     "output_type": "stream",
     "text": [
      "100%|██████████| 40/40 [01:20<00:00,  2.01s/it]\n",
      "  0%|          | 0/40 [00:00<?, ?it/s]"
     ]
    },
    {
     "name": "stdout",
     "output_type": "stream",
     "text": [
      "Gaussian\n"
     ]
    },
    {
     "name": "stderr",
     "output_type": "stream",
     "text": [
      "100%|██████████| 40/40 [00:19<00:00,  2.01it/s]\n",
      "  0%|          | 0/40 [00:00<?, ?it/s]"
     ]
    },
    {
     "name": "stdout",
     "output_type": "stream",
     "text": [
      "Poisson\n"
     ]
    },
    {
     "name": "stderr",
     "output_type": "stream",
     "text": [
      "100%|██████████| 40/40 [01:10<00:00,  1.77s/it]\n",
      "  0%|          | 0/38 [00:00<?, ?it/s]"
     ]
    },
    {
     "name": "stdout",
     "output_type": "stream",
     "text": [
      "../data/high_counts_low_dispersion.csv\n",
      "(38, 18)\n",
      "Negative_binomial\n"
     ]
    },
    {
     "name": "stderr",
     "output_type": "stream",
     "text": [
      "100%|██████████| 38/38 [02:01<00:00,  3.20s/it]\n",
      "  0%|          | 0/38 [00:00<?, ?it/s]"
     ]
    },
    {
     "name": "stdout",
     "output_type": "stream",
     "text": [
      "Gaussian\n"
     ]
    },
    {
     "name": "stderr",
     "output_type": "stream",
     "text": [
      "100%|██████████| 38/38 [00:19<00:00,  1.98it/s]\n",
      "  0%|          | 0/38 [00:00<?, ?it/s]"
     ]
    },
    {
     "name": "stdout",
     "output_type": "stream",
     "text": [
      "Poisson\n"
     ]
    },
    {
     "name": "stderr",
     "output_type": "stream",
     "text": [
      "100%|██████████| 38/38 [03:10<00:00,  5.00s/it]\n",
      "  0%|          | 0/34 [00:00<?, ?it/s]"
     ]
    },
    {
     "name": "stdout",
     "output_type": "stream",
     "text": [
      "../data/high_counts_high_dispersion.csv\n",
      "(34, 18)\n",
      "Negative_binomial\n"
     ]
    },
    {
     "name": "stderr",
     "output_type": "stream",
     "text": [
      "100%|██████████| 34/34 [01:11<00:00,  2.09s/it]\n",
      "  0%|          | 0/34 [00:00<?, ?it/s]"
     ]
    },
    {
     "name": "stdout",
     "output_type": "stream",
     "text": [
      "Gaussian\n"
     ]
    },
    {
     "name": "stderr",
     "output_type": "stream",
     "text": [
      "100%|██████████| 34/34 [00:17<00:00,  1.95it/s]\n",
      "  0%|          | 0/34 [00:00<?, ?it/s]"
     ]
    },
    {
     "name": "stdout",
     "output_type": "stream",
     "text": [
      "Poisson\n"
     ]
    },
    {
     "name": "stderr",
     "output_type": "stream",
     "text": [
      "100%|██████████| 34/34 [02:33<00:00,  4.52s/it]\n"
     ]
    }
   ],
   "source": [
    "files = [\n",
    "   '../data/low_counts_low_dispersion.csv'\n",
    "   ,'../data/low_counts_high_dispersion.csv'                                     \n",
    "   ,'../data/high_counts_low_dispersion.csv'\n",
    "   ,'../data/high_counts_high_dispersion.csv'\n",
    "    ]\n",
    "  \n",
    "X = pd.read_csv('../data/time_points.csv',index_col=[0])\n",
    "\n",
    "for file in files:\n",
    "    print(file)\n",
    "    Y = pd.read_csv(file,index_col=[0])\n",
    "    print(Y.shape)\n",
    "     \n",
    "    likelihoods = ['Negative_binomial','Gaussian','Poisson']\n",
    "    for likelihood in likelihoods:\n",
    "        print(likelihood)\n",
    "        gp_counts = Fit_GPcounts(X,Y,safe_mode = True) \n",
    "        results = gp_counts.One_sample_test(likelihood)\n",
    "        file = file.replace(\"../data/\", \"\")\n",
    "        results.to_csv(\"../data/ll_ratio_\"+likelihood+\"_\"+file)\n",
    " "
   ]
  },
  {
   "cell_type": "markdown",
   "metadata": {},
   "source": [
    "To do Anscombe_transformation, run /Analysis/Theory/Anscombe transformation.ipynb notebook from [SpatialDE](https://github.com/Teichlab/SpatialDE) package"
   ]
  },
  {
   "cell_type": "code",
   "execution_count": null,
   "metadata": {},
   "outputs": [],
   "source": [
    "files = [\n",
    "    '../data/Anscombe_transformation_low_counts_low_dispersion.csv',\n",
    "    '../data/Anscombe_transformation_low_counts_high_dispersion.csv',                                     \n",
    "    '../data/Anscombe_transformation_high_counts_low_dispersion.csv',\n",
    "    '../data/Anscombe_transformation_high_counts_high_dispersion.csv'\n",
    "    ]\n",
    "                     \n",
    "X = pd.read_csv('../data/time_points.csv',index_col=[0])\n",
    "\n",
    "for file in files:\n",
    "    print(file)\n",
    "    Y = pd.read_csv(file,index_col=[0])    \n",
    "    \n",
    "    likelihoods = ['Gaussian']\n",
    "    for likelihood in likelihoods:\n",
    "        gp_counts = Fit_GPcounts(X,Y) \n",
    "        results = gp_counts.One_sample_test(likelihood,transform = False)\n",
    "        file = file.replace(\"../data/\", \"\")\n",
    "        results.to_csv(\"../data/ll_ratio_\"+likelihood+'_'+file)\n",
    "       "
   ]
  },
  {
   "cell_type": "code",
   "execution_count": 3,
   "metadata": {},
   "outputs": [],
   "source": [
    "from matplotlib import pyplot as plt\n",
    "from sklearn import metrics"
   ]
  },
  {
   "cell_type": "markdown",
   "metadata": {},
   "source": [
    "\\* Note in one sample tesr we set negative log likelihood ratios are to zero"
   ]
  },
  {
   "cell_type": "markdown",
   "metadata": {},
   "source": [
    "### Roc curves "
   ]
  },
  {
   "cell_type": "code",
   "execution_count": 4,
   "metadata": {},
   "outputs": [
    {
     "name": "stdout",
     "output_type": "stream",
     "text": [
      "low_counts_low_dispersion.csv\n"
     ]
    },
    {
     "data": {
      "image/png": "[encoded data removed]",
      "text/plain": [
       "<Figure size 432x288 with 1 Axes>"
      ]
     },
     "metadata": {
      "needs_background": "light"
     },
     "output_type": "display_data"
    },
    {
     "name": "stdout",
     "output_type": "stream",
     "text": [
      "low_counts_high_dispersion.csv\n"
     ]
    },
    {
     "data": {
      "image/png": "[encoded data removed]",
      "text/plain": [
       "<Figure size 432x288 with 1 Axes>"
      ]
     },
     "metadata": {
      "needs_background": "light"
     },
     "output_type": "display_data"
    },
    {
     "name": "stdout",
     "output_type": "stream",
     "text": [
      "high_counts_low_dispersion.csv\n"
     ]
    },
    {
     "data": {
      "image/png": "[encoded data removed]",
      "text/plain": [
       "<Figure size 432x288 with 1 Axes>"
      ]
     },
     "metadata": {
      "needs_background": "light"
     },
     "output_type": "display_data"
    },
    {
     "name": "stdout",
     "output_type": "stream",
     "text": [
      "high_counts_high_dispersion.csv\n"
     ]
    },
    {
     "data": {
      "image/png": "[encoded data removed]",
      "text/plain": [
       "<Figure size 432x288 with 1 Axes>"
      ]
     },
     "metadata": {
      "needs_background": "light"
     },
     "output_type": "display_data"
    }
   ],
   "source": [
    "filesname = [\n",
    "            'low_counts_low_dispersion.csv'\n",
    "            ,'low_counts_high_dispersion.csv'                                     \n",
    "            ,'high_counts_low_dispersion.csv'\n",
    "            ,'high_counts_high_dispersion.csv'\n",
    "            ]\n",
    "            \n",
    "for file in filesname:\n",
    "    print(file)\n",
    "    \n",
    "    Gaussian = pd.read_csv('../data/ll_ratio_Gaussian_'+file,index_col=[0])\n",
    "    #Gaussian_anscombe = pd.read_csv('../data/ll_ratio_Gaussian_Anscombe_transformation_'+file,index_col=[0])\n",
    "    NegativeBinomial = pd.read_csv('../data/ll_ratio_Negative_binomial_'+file,index_col=[0])\n",
    "    Poisson = pd.read_csv('../data/ll_ratio_Poisson_'+file,index_col=[0])\n",
    "   \n",
    "    D = NegativeBinomial.shape[0]\n",
    "    true_label = np.zeros(D)\n",
    "    \n",
    "    for j in range(D):\n",
    "        if j %2 == 0:\n",
    "            true_label[j] = 1\n",
    "\n",
    "    labels = pd.DataFrame(true_label, index =NegativeBinomial.index.values, columns =['label'])\n",
    "    NegativeBinomial = pd.concat([NegativeBinomial,labels],axis = 1)\n",
    "    fig = plt.figure()\n",
    "    \n",
    "    plt.tick_params(labelsize='large', width=2)     \n",
    "    fpr_NB, tpr_NB, thresholds_NB = metrics.roc_curve( NegativeBinomial['label'], NegativeBinomial['log_likelihood_ratio'])\n",
    "    AUC_NB=metrics.auc(fpr_NB, tpr_NB)\n",
    "    plt.plot(fpr_NB, tpr_NB,color='green',label='Negative binomial {0:.4f}'.format(AUC_NB))\n",
    "    \n",
    "    fpr_G, tpr_G, thresholds_G = metrics.roc_curve(NegativeBinomial['label'],Gaussian['log_likelihood_ratio'])\n",
    "    AUC_G=metrics.auc(fpr_G, tpr_G)\n",
    "    plt.plot(fpr_G, tpr_G, color='darkorange', label='Gaussian {0:.4f}'.format(AUC_G))\n",
    "    '''\n",
    "    fpr_G_a, tpr_G_a, thresholds_G_a = metrics.roc_curve(NegativeBinomial['label'],Gaussian_anscombe['log_likelihood_ratio'])\n",
    "    AUC_G_a=metrics.auc(fpr_G_a, tpr_G_a)\n",
    "    plt.plot(fpr_G_a, tpr_G_a, color='red', label='Gaussian with Anscombe {0:.4f}'.format(AUC_G_a))\n",
    "    '''\n",
    "    fpr_P, tpr_P, thresholds_P = metrics.roc_curve( NegativeBinomial['label'], Poisson['log_likelihood_ratio'])\n",
    "    AUC_P=metrics.auc(fpr_P, tpr_P)\n",
    "    plt.plot(fpr_P, tpr_P,color='blue',label='Poisson {0:.4f}'.format(AUC_P))\n",
    "\n",
    "    plt.plot([0, 1], [0, 1], color='navy', lw=2, linestyle='--')\n",
    "    \n",
    "    plt.legend(loc='upper center', bbox_to_anchor=(.70, 0.32))\n",
    "    plt.xlabel('False positive rate', fontsize=16)\n",
    "    plt.ylabel('True positive rate', fontsize=16)\n",
    "    plt.show()\n",
    "    "
   ]
  },
  {
   "cell_type": "code",
   "execution_count": null,
   "metadata": {},
   "outputs": [],
   "source": [
    "NegativeBinomial"
   ]
  },
  {
   "cell_type": "code",
   "execution_count": null,
   "metadata": {},
   "outputs": [],
   "source": [
    "Gaussian"
   ]
  },
  {
   "cell_type": "code",
   "execution_count": null,
   "metadata": {},
   "outputs": [],
   "source": [
    "Poisson"
   ]
  },
  {
   "cell_type": "code",
   "execution_count": null,
   "metadata": {},
   "outputs": [],
   "source": [
    "NegativeBinomial.loc[genes_name]"
   ]
  },
  {
   "cell_type": "code",
   "execution_count": null,
   "metadata": {},
   "outputs": [],
   "source": [
    "FP_genes_NB = list(NegativeBinomial.loc[(NegativeBinomial['log_likelihood_ratio'] == 0)&(NegativeBinomial['label']==1.0)].index.values)\n",
    "FP_genes_NB"
   ]
  },
  {
   "cell_type": "code",
   "execution_count": null,
   "metadata": {},
   "outputs": [],
   "source": [
    "FP_genes_P = list(Poisson.loc[(Poisson['log_likelihood_ratio'] == 0)&(NegativeBinomial['label']==1.0)].index.values)\n",
    "FP_genes_P"
   ]
  },
  {
   "cell_type": "code",
   "execution_count": null,
   "metadata": {},
   "outputs": [],
   "source": [
    "FN_genes_P = list(Poisson.loc[(Poisson['log_likelihood_ratio'] > 0)&(NegativeBinomial['label']==0.0)].index.values)\n",
    "FN_genes_P"
   ]
  },
  {
   "cell_type": "code",
   "execution_count": null,
   "metadata": {},
   "outputs": [],
   "source": [
    "FP_genes_G = list(Gaussian.loc[(Gaussian['log_likelihood_ratio'] == 0)&(NegativeBinomial['label']==1.0)].index.values)\n",
    "FP_genes_G"
   ]
  },
  {
   "cell_type": "code",
   "execution_count": null,
   "metadata": {},
   "outputs": [],
   "source": [
    "best =set(FP_genes_P).intersection(FP_genes_NB)\n",
    "list(best)"
   ]
  },
  {
   "cell_type": "code",
   "execution_count": null,
   "metadata": {},
   "outputs": [],
   "source": [
    " # plot low_low\n",
    "file = '../data/low_counts_low_dispersion.csv'\n",
    "  \n",
    "X = pd.read_csv('../data/time_points.csv',index_col=[0])\n",
    "Y = pd.read_csv(file,index_col=[0])\n",
    "genes_name =  genes_name = ['gene_1_13', 'gene_1_45', 'gene_1_51', 'gene_1_57', 'gene_1_61']\n",
    "    \n",
    "gp_counts = Fit_GPcounts(X,Y) \n",
    "params = gp_counts.load_predict_models(Y.iloc[0:10].index.values,'One_sample_test','Negative_binomial')\n",
    "for i in range(len((Y.iloc[0:10,:].index.values))):\n",
    "    print(i)\n",
    "    for model in zip(params['means'][i],params['vars'][i],params['models'][i]):\n",
    "        gpflow.utilities.print_summary(model, fmt='notebook')\n",
    "plot(params,X.values,Y.iloc[0:10,:])"
   ]
  },
  {
   "cell_type": "code",
   "execution_count": null,
   "metadata": {},
   "outputs": [],
   "source": [
    " # plot low_low\n",
    "file = '../data/low_counts_low_dispersion.csv'\n",
    "  \n",
    "X = pd.read_csv('../data/time_points.csv',index_col=[0])\n",
    "Y = pd.read_csv(file,index_col=[0])\n",
    "genes_name =  genes_name = ['gene_1_13', 'gene_1_45', 'gene_1_51', 'gene_1_57', 'gene_1_61']\n",
    "    \n",
    "gp_counts = Fit_GPcounts(X,Y) \n",
    "params = gp_counts.load_predict_models(Y.iloc[0:15].index.values,'One_sample_test','Gaussian')\n",
    "for i in range(len((Y.iloc[0:15,:].index.values))):\n",
    "    print(i)\n",
    "    for model in zip(params['means'][i],params['vars'][i],params['models'][i]):\n",
    "        gpflow.utilities.print_summary(model, fmt='notebook')\n",
    "plot(params,X.values,Y.iloc[0:15,:])"
   ]
  },
  {
   "cell_type": "code",
   "execution_count": null,
   "metadata": {},
   "outputs": [],
   "source": [
    " # plot low_low\n",
    "file = '../data/low_counts_low_dispersion.csv'\n",
    "  \n",
    "X = pd.read_csv('../data/time_points.csv',index_col=[0])\n",
    "Y = pd.read_csv(file,index_col=[0])\n",
    "    \n",
    "gp_counts = Fit_GPcounts(X,Y) \n",
    "params = gp_counts.load_predict_models(Y.iloc[0:8].index.values,'One_sample_test','Poisson')\n",
    "for i in range(len((Y.iloc[0:8,:].index.values))):\n",
    "    print(i)\n",
    "    for model in zip(params['means'][i],params['vars'][i],params['models'][i]):\n",
    "        gpflow.utilities.print_summary(model, fmt='notebook')\n",
    "plot(params,X.values,Y.iloc[0:8,:])"
   ]
  },
  {
   "cell_type": "code",
   "execution_count": null,
   "metadata": {},
   "outputs": [],
   "source": [
    "file = '../data/low_counts_high_dispersion.csv'\n",
    "  \n",
    "X = pd.read_csv('../data/time_points.csv',index_col=[0])\n",
    "Y = pd.read_csv(file,index_col=[0])\n",
    "\n",
    "gp_counts = Fit_GPcounts(X,Y) \n",
    "params = gp_counts.load_predict_models(Y.iloc[0:15].index.values,'One_sample_test','Negative_binomial')\n",
    "for i in range(len((Y.iloc[0:15,:].index.values))):\n",
    "    print(i)\n",
    "    for model in zip(params['means'][i],params['vars'][i],params['models'][i]):\n",
    "        gpflow.utilities.print_summary(model, fmt='notebook')\n",
    "plot(params,X.values,Y.iloc[0:15,:])"
   ]
  },
  {
   "cell_type": "code",
   "execution_count": null,
   "metadata": {},
   "outputs": [],
   "source": [
    " # plot low_low\n",
    "file = '../data/high_counts_low_dispersion.csv'\n",
    "  \n",
    "X = pd.read_csv('../data/time_points.csv',index_col=[0])\n",
    "Y = pd.read_csv(file,index_col=[0])\n",
    "gp_counts = Fit_GPcounts(X,Y) \n",
    "params = gp_counts.load_predict_models(Y.iloc[0:16,:].index.values,'One_sample_test','Negative_binomial')\n",
    "for i in range(len((Y.iloc[0:16,:].index.values))):\n",
    "    print(i)\n",
    "    for model in zip(params['means'][i],params['vars'][i],params['models'][i]):\n",
    "        gpflow.utilities.print_summary(model, fmt='notebook')\n",
    "plot(params,X.values,Y.iloc[0:16,:])"
   ]
  },
  {
   "cell_type": "code",
   "execution_count": null,
   "metadata": {},
   "outputs": [],
   "source": [
    "file = '../data/high_counts_high_dispersion.csv'\n",
    "  \n",
    "X = pd.read_csv('../data/time_points.csv',index_col=[0])\n",
    "Y = pd.read_csv(file,index_col=[0])\n",
    "\n",
    "gp_counts = Fit_GPcounts(X,Y) \n",
    "params = gp_counts.load_predict_models(Y.iloc[0:15,:].index.values,'One_sample_test','Negative_binomial')\n",
    "plot(params,X.values,Y.iloc[0:15,:])"
   ]
  },
  {
   "cell_type": "code",
   "execution_count": null,
   "metadata": {},
   "outputs": [],
   "source": [
    "Y.iloc[0:3,:]"
   ]
  },
  {
   "cell_type": "code",
   "execution_count": null,
   "metadata": {},
   "outputs": [],
   "source": []
  }
 ],
 "metadata": {
  "kernelspec": {
   "display_name": "Python [conda env:myenv_test] *",
   "language": "python",
   "name": "conda-env-myenv_test-py"
  },
  "language_info": {
   "codemirror_mode": {
    "name": "ipython",
    "version": 3
   },
   "file_extension": ".py",
   "mimetype": "text/x-python",
   "name": "python",
   "nbconvert_exporter": "python",
   "pygments_lexer": "ipython3",
   "version": "3.8.3"
  }
 },
 "nbformat": 4,
 "nbformat_minor": 2
}
