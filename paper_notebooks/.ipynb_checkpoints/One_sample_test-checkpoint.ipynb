{
 "cells": [
  {
   "cell_type": "markdown",
   "metadata": {},
   "source": [
    "# One sample test on simulated bulk RNA-seq"
   ]
  },
  {
   "cell_type": "markdown",
   "metadata": {},
   "source": [
    "Nuha BinTayyash, 2020\n",
    "\n",
    "This notebook shows how to run GPcounts with one sample test  and the resulted ROC curves on simulated bulk RNA-seq datasets."
   ]
  },
  {
   "cell_type": "code",
   "execution_count": 1,
   "metadata": {},
   "outputs": [],
   "source": [
    "import numpy as np\n",
    "import pandas as pd\n",
    "from GPcounts.GPcounts_Module import Fit_GPcounts\n",
    "import gpflow"
   ]
  },
  {
   "cell_type": "code",
   "execution_count": 2,
   "metadata": {},
   "outputs": [
    {
     "name": "stderr",
     "output_type": "stream",
     "text": [
      "\r",
      "  0%|          | 0/400 [00:00<?, ?it/s]"
     ]
    },
    {
     "name": "stdout",
     "output_type": "stream",
     "text": [
      "../data/low_counts_low_dispersion.csv\n"
     ]
    },
    {
     "name": "stderr",
     "output_type": "stream",
     "text": [
      "100%|██████████| 400/400 [16:46<00:00,  2.52s/it]\n",
      "100%|██████████| 400/400 [08:48<00:00,  1.32s/it]\n",
      "100%|██████████| 400/400 [15:23<00:00,  2.31s/it]\n",
      "  0%|          | 0/400 [00:00<?, ?it/s]"
     ]
    },
    {
     "name": "stdout",
     "output_type": "stream",
     "text": [
      "../data/low_counts_high_dispersion.csv\n"
     ]
    },
    {
     "name": "stderr",
     "output_type": "stream",
     "text": [
      "100%|██████████| 400/400 [14:55<00:00,  2.24s/it]\n",
      "100%|██████████| 400/400 [02:52<00:00,  2.32it/s]\n",
      "100%|██████████| 400/400 [12:57<00:00,  1.94s/it]\n",
      "  0%|          | 0/400 [00:00<?, ?it/s]"
     ]
    },
    {
     "name": "stdout",
     "output_type": "stream",
     "text": [
      "../data/high_counts_low_dispersion.csv\n"
     ]
    },
    {
     "name": "stderr",
     "output_type": "stream",
     "text": [
      "100%|██████████| 400/400 [22:31<00:00,  3.38s/it]\n",
      "100%|██████████| 400/400 [08:57<00:00,  1.34s/it]\n",
      "100%|██████████| 400/400 [43:26<00:00,  6.52s/it]  \n",
      "  0%|          | 0/400 [00:00<?, ?it/s]"
     ]
    },
    {
     "name": "stdout",
     "output_type": "stream",
     "text": [
      "../data/high_counts_high_dispersion.csv\n"
     ]
    },
    {
     "name": "stderr",
     "output_type": "stream",
     "text": [
      "100%|██████████| 400/400 [14:28<00:00,  2.17s/it]\n",
      "100%|██████████| 400/400 [02:45<00:00,  2.41it/s]\n",
      "100%|██████████| 400/400 [21:39<00:00,  3.25s/it]\n"
     ]
    }
   ],
   "source": [
    "files = [\n",
    "    '../data/low_counts_low_dispersion.csv'\n",
    "    ,'../data/low_counts_high_dispersion.csv'                                     \n",
    "    ,'../data/high_counts_low_dispersion.csv'\n",
    "    ,'../data/high_counts_high_dispersion.csv'\n",
    "    ]\n",
    "  \n",
    "X = pd.read_csv('../data/time_points.csv',index_col=[0])\n",
    "\n",
    "for file in files:\n",
    "    print(file)\n",
    "    Y = pd.read_csv(file,index_col=[0])\n",
    "    likelihoods = ['Negative_binomial','Gaussian','Poisson']\n",
    "    for likelihood in likelihoods:\n",
    "        gp_counts = Fit_GPcounts(X,Y) \n",
    "        results = gp_counts.One_sample_test(likelihood)\n",
    "        file = file.replace(\"../data/\", \"\")\n",
    "        results.to_csv(\"../data/ll_ratio_\"+likelihood+\"_\"+file)"
   ]
  },
  {
   "cell_type": "code",
   "execution_count": 3,
   "metadata": {},
   "outputs": [
    {
     "name": "stderr",
     "output_type": "stream",
     "text": [
      "\r",
      "  0%|          | 0/400 [00:00<?, ?it/s]"
     ]
    },
    {
     "name": "stdout",
     "output_type": "stream",
     "text": [
      "../data/Anscombe_transformation_low_counts_low_dispersion.csv\n"
     ]
    },
    {
     "name": "stderr",
     "output_type": "stream",
     "text": [
      "100%|██████████| 400/400 [09:22<00:00,  1.41s/it]\n"
     ]
    },
    {
     "ename": "FileNotFoundError",
     "evalue": "[Errno 2] No such file or directory: 'll_ratio_Gaussian_../data/Anscombe_transformation_low_counts_low_dispersion.csv'",
     "output_type": "error",
     "traceback": [
      "\u001b[0;31m---------------------------------------------------------------------------\u001b[0m",
      "\u001b[0;31mFileNotFoundError\u001b[0m                         Traceback (most recent call last)",
      "\u001b[0;32m<ipython-input-3-f554a21ca717>\u001b[0m in \u001b[0;36m<module>\u001b[0;34m\u001b[0m\n\u001b[1;32m     16\u001b[0m         \u001b[0mgp_counts\u001b[0m \u001b[0;34m=\u001b[0m \u001b[0mFit_GPcounts\u001b[0m\u001b[0;34m(\u001b[0m\u001b[0mX\u001b[0m\u001b[0;34m,\u001b[0m\u001b[0mY\u001b[0m\u001b[0;34m)\u001b[0m\u001b[0;34m\u001b[0m\u001b[0;34m\u001b[0m\u001b[0m\n\u001b[1;32m     17\u001b[0m         \u001b[0mresults\u001b[0m \u001b[0;34m=\u001b[0m \u001b[0mgp_counts\u001b[0m\u001b[0;34m.\u001b[0m\u001b[0mOne_sample_test\u001b[0m\u001b[0;34m(\u001b[0m\u001b[0mlikelihood\u001b[0m\u001b[0;34m,\u001b[0m\u001b[0mtransform\u001b[0m \u001b[0;34m=\u001b[0m \u001b[0;32mFalse\u001b[0m\u001b[0;34m)\u001b[0m\u001b[0;34m\u001b[0m\u001b[0;34m\u001b[0m\u001b[0m\n\u001b[0;32m---> 18\u001b[0;31m         \u001b[0mresults\u001b[0m\u001b[0;34m.\u001b[0m\u001b[0mto_csv\u001b[0m\u001b[0;34m(\u001b[0m\u001b[0;34m\"ll_ratio_\"\u001b[0m\u001b[0;34m+\u001b[0m\u001b[0mlikelihood\u001b[0m\u001b[0;34m+\u001b[0m\u001b[0;34m'_'\u001b[0m\u001b[0;34m+\u001b[0m\u001b[0mfile\u001b[0m\u001b[0;34m)\u001b[0m\u001b[0;34m\u001b[0m\u001b[0;34m\u001b[0m\u001b[0m\n\u001b[0m\u001b[1;32m     19\u001b[0m \u001b[0;34m\u001b[0m\u001b[0m\n",
      "\u001b[0;32m~/opt/anaconda3/envs/myenv2/lib/python3.7/site-packages/pandas/core/generic.py\u001b[0m in \u001b[0;36mto_csv\u001b[0;34m(self, path_or_buf, sep, na_rep, float_format, columns, header, index, index_label, mode, encoding, compression, quoting, quotechar, line_terminator, chunksize, date_format, doublequote, escapechar, decimal)\u001b[0m\n\u001b[1;32m   3202\u001b[0m             \u001b[0mdecimal\u001b[0m\u001b[0;34m=\u001b[0m\u001b[0mdecimal\u001b[0m\u001b[0;34m,\u001b[0m\u001b[0;34m\u001b[0m\u001b[0;34m\u001b[0m\u001b[0m\n\u001b[1;32m   3203\u001b[0m         )\n\u001b[0;32m-> 3204\u001b[0;31m         \u001b[0mformatter\u001b[0m\u001b[0;34m.\u001b[0m\u001b[0msave\u001b[0m\u001b[0;34m(\u001b[0m\u001b[0;34m)\u001b[0m\u001b[0;34m\u001b[0m\u001b[0;34m\u001b[0m\u001b[0m\n\u001b[0m\u001b[1;32m   3205\u001b[0m \u001b[0;34m\u001b[0m\u001b[0m\n\u001b[1;32m   3206\u001b[0m         \u001b[0;32mif\u001b[0m \u001b[0mpath_or_buf\u001b[0m \u001b[0;32mis\u001b[0m \u001b[0;32mNone\u001b[0m\u001b[0;34m:\u001b[0m\u001b[0;34m\u001b[0m\u001b[0;34m\u001b[0m\u001b[0m\n",
      "\u001b[0;32m~/opt/anaconda3/envs/myenv2/lib/python3.7/site-packages/pandas/io/formats/csvs.py\u001b[0m in \u001b[0;36msave\u001b[0;34m(self)\u001b[0m\n\u001b[1;32m    186\u001b[0m                 \u001b[0mself\u001b[0m\u001b[0;34m.\u001b[0m\u001b[0mmode\u001b[0m\u001b[0;34m,\u001b[0m\u001b[0;34m\u001b[0m\u001b[0;34m\u001b[0m\u001b[0m\n\u001b[1;32m    187\u001b[0m                 \u001b[0mencoding\u001b[0m\u001b[0;34m=\u001b[0m\u001b[0mself\u001b[0m\u001b[0;34m.\u001b[0m\u001b[0mencoding\u001b[0m\u001b[0;34m,\u001b[0m\u001b[0;34m\u001b[0m\u001b[0;34m\u001b[0m\u001b[0m\n\u001b[0;32m--> 188\u001b[0;31m                 \u001b[0mcompression\u001b[0m\u001b[0;34m=\u001b[0m\u001b[0mdict\u001b[0m\u001b[0;34m(\u001b[0m\u001b[0mself\u001b[0m\u001b[0;34m.\u001b[0m\u001b[0mcompression_args\u001b[0m\u001b[0;34m,\u001b[0m \u001b[0mmethod\u001b[0m\u001b[0;34m=\u001b[0m\u001b[0mself\u001b[0m\u001b[0;34m.\u001b[0m\u001b[0mcompression\u001b[0m\u001b[0;34m)\u001b[0m\u001b[0;34m,\u001b[0m\u001b[0;34m\u001b[0m\u001b[0;34m\u001b[0m\u001b[0m\n\u001b[0m\u001b[1;32m    189\u001b[0m             )\n\u001b[1;32m    190\u001b[0m             \u001b[0mclose\u001b[0m \u001b[0;34m=\u001b[0m \u001b[0;32mTrue\u001b[0m\u001b[0;34m\u001b[0m\u001b[0;34m\u001b[0m\u001b[0m\n",
      "\u001b[0;32m~/opt/anaconda3/envs/myenv2/lib/python3.7/site-packages/pandas/io/common.py\u001b[0m in \u001b[0;36mget_handle\u001b[0;34m(path_or_buf, mode, encoding, compression, memory_map, is_text)\u001b[0m\n\u001b[1;32m    426\u001b[0m         \u001b[0;32mif\u001b[0m \u001b[0mencoding\u001b[0m\u001b[0;34m:\u001b[0m\u001b[0;34m\u001b[0m\u001b[0;34m\u001b[0m\u001b[0m\n\u001b[1;32m    427\u001b[0m             \u001b[0;31m# Encoding\u001b[0m\u001b[0;34m\u001b[0m\u001b[0;34m\u001b[0m\u001b[0;34m\u001b[0m\u001b[0m\n\u001b[0;32m--> 428\u001b[0;31m             \u001b[0mf\u001b[0m \u001b[0;34m=\u001b[0m \u001b[0mopen\u001b[0m\u001b[0;34m(\u001b[0m\u001b[0mpath_or_buf\u001b[0m\u001b[0;34m,\u001b[0m \u001b[0mmode\u001b[0m\u001b[0;34m,\u001b[0m \u001b[0mencoding\u001b[0m\u001b[0;34m=\u001b[0m\u001b[0mencoding\u001b[0m\u001b[0;34m,\u001b[0m \u001b[0mnewline\u001b[0m\u001b[0;34m=\u001b[0m\u001b[0;34m\"\"\u001b[0m\u001b[0;34m)\u001b[0m\u001b[0;34m\u001b[0m\u001b[0;34m\u001b[0m\u001b[0m\n\u001b[0m\u001b[1;32m    429\u001b[0m         \u001b[0;32melif\u001b[0m \u001b[0mis_text\u001b[0m\u001b[0;34m:\u001b[0m\u001b[0;34m\u001b[0m\u001b[0;34m\u001b[0m\u001b[0m\n\u001b[1;32m    430\u001b[0m             \u001b[0;31m# No explicit encoding\u001b[0m\u001b[0;34m\u001b[0m\u001b[0;34m\u001b[0m\u001b[0;34m\u001b[0m\u001b[0m\n",
      "\u001b[0;31mFileNotFoundError\u001b[0m: [Errno 2] No such file or directory: 'll_ratio_Gaussian_../data/Anscombe_transformation_low_counts_low_dispersion.csv'"
     ]
    }
   ],
   "source": [
    "files = [\n",
    "    '../data/Anscombe_transformation_low_counts_low_dispersion.csv',\n",
    "    '../data/Anscombe_transformation_low_counts_high_dispersion.csv',                                     \n",
    "    '../data/Anscombe_transformation_high_counts_low_dispersion.csv',\n",
    "    '../data/Anscombe_transformation_high_counts_high_dispersion.csv'\n",
    "    ]\n",
    "                     \n",
    "X = pd.read_csv('../data/time_points.csv',index_col=[0])\n",
    "\n",
    "for file in files:\n",
    "    print(file)\n",
    "    Y = pd.read_csv(file,index_col=[0])    \n",
    "    \n",
    "    likelihoods = ['Gaussian']\n",
    "    for likelihood in likelihoods:\n",
    "        gp_counts = Fit_GPcounts(X,Y) \n",
    "        results = gp_counts.One_sample_test(likelihood,transform = False)\n",
    "        results.to_csv(\"ll_ratio_\"+likelihood+'_'+file)\n",
    "        "
   ]
  },
  {
   "cell_type": "code",
   "execution_count": null,
   "metadata": {},
   "outputs": [],
   "source": [
    "from matplotlib import pyplot as plt\n",
    "from sklearn import metrics"
   ]
  },
  {
   "cell_type": "markdown",
   "metadata": {},
   "source": [
    "\\* Note in one sample tesr we set negative log likelihood ratios are to zero"
   ]
  },
  {
   "cell_type": "markdown",
   "metadata": {},
   "source": [
    "### Roc curves "
   ]
  },
  {
   "cell_type": "code",
   "execution_count": null,
   "metadata": {},
   "outputs": [],
   "source": [
    "filesname = [\n",
    "             'low_counts_low_dispersion.csv'\n",
    "            ,'low_counts_high_dispersion.csv'                                     \n",
    "            ,'high_counts_low_dispersion.csv'\n",
    "            ,'high_counts_high_dispersion.csv'\n",
    "            ]\n",
    "            \n",
    "for file in filesname:\n",
    "    print(file)\n",
    "    \n",
    "    Gaussian = pd.read_csv('../data/ll_ratio_Gaussian_'+file,index_col=[0])\n",
    "    Gaussian_anscombe = pd.read_csv('../data/ll_ratio_Gaussian_Anscombe_transformation_'+file,index_col=[0])\n",
    "    NegativeBinomial = pd.read_csv('../data/ll_ratio_Negative_binomial_'+file,index_col=[0])\n",
    "    Poisson = pd.read_csv('../data/ll_ratio_Poisson_'+file,index_col=[0])\n",
    "    \n",
    "    D = NegativeBinomial.shape[0]\n",
    "    true_label = np.zeros(D)\n",
    "    \n",
    "    for j in range(D):\n",
    "        if j %2 == 0:\n",
    "            true_label[j] = 1\n",
    "\n",
    "    labels = pd.DataFrame(true_label, index =NegativeBinomial.index.values, columns =['label'])\n",
    "    NegativeBinomial = pd.concat([NegativeBinomial,labels],axis = 1)\n",
    "\n",
    "    fig = plt.figure()\n",
    "    \n",
    "    plt.tick_params(labelsize='large', width=2)     \n",
    "    fpr_NB, tpr_NB, thresholds_NB = metrics.roc_curve( NegativeBinomial['label'], NegativeBinomial['log_likelihood_ratio'])\n",
    "    AUC_NB=metrics.auc(fpr_NB, tpr_NB)\n",
    "    plt.plot(fpr_NB, tpr_NB,color='green',label='Negative binomial {0:.4f}'.format(AUC_NB))\n",
    "    \n",
    "    \n",
    "    fpr_G, tpr_G, thresholds_G = metrics.roc_curve(NegativeBinomial['label'],Gaussian['log_likelihood_ratio'])\n",
    "    AUC_G=metrics.auc(fpr_G, tpr_G)\n",
    "    plt.plot(fpr_G, tpr_G, color='darkorange', label='Gaussian {0:.4f}'.format(AUC_G))\n",
    "    \n",
    "    fpr_G_a, tpr_G_a, thresholds_G_a = metrics.roc_curve(NegativeBinomial['label'],Gaussian_anscombe['log_likelihood_ratio'])\n",
    "    AUC_G_a=metrics.auc(fpr_G_a, tpr_G_a)\n",
    "    plt.plot(fpr_G_a, tpr_G_a, color='red', label='Gaussian with Anscombe {0:.4f}'.format(AUC_G_a))\n",
    "    \n",
    "    fpr_P, tpr_P, thresholds_P = metrics.roc_curve( NegativeBinomial['label'], Poisson['log_likelihood_ratio'])\n",
    "    AUC_P=metrics.auc(fpr_P, tpr_P)\n",
    "    plt.plot(fpr_P, tpr_P,color='blue',label='Poisson {0:.4f}'.format(AUC_P))\n",
    "\n",
    "    plt.plot([0, 1], [0, 1], color='navy', lw=2, linestyle='--')\n",
    "    \n",
    "    plt.legend(loc='upper center', bbox_to_anchor=(.70, 0.32))\n",
    "    plt.xlabel('False positive rate', fontsize=16)\n",
    "    plt.ylabel('True positive rate', fontsize=16)\n",
    "    plt.show()\n",
    "    "
   ]
  },
  {
   "cell_type": "code",
   "execution_count": null,
   "metadata": {},
   "outputs": [],
   "source": []
  }
 ],
 "metadata": {
  "kernelspec": {
   "display_name": "Python [conda env:myenv2] *",
   "language": "python",
   "name": "conda-env-myenv2-py"
  },
  "language_info": {
   "codemirror_mode": {
    "name": "ipython",
    "version": 3
   },
   "file_extension": ".py",
   "mimetype": "text/x-python",
   "name": "python",
   "nbconvert_exporter": "python",
   "pygments_lexer": "ipython3",
   "version": "3.7.6"
  }
 },
 "nbformat": 4,
 "nbformat_minor": 2
}
