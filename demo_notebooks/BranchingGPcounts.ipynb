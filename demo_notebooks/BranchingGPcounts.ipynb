{
 "cells": [
  {
   "cell_type": "markdown",
   "metadata": {},
   "source": [
    "### Application of GPcounts on the single-cell RNA-seq data to identify gene-specific branching locations for individual genes. \n",
    "\n",
    "This notebook demonstrates how to build a GPcounts model and plot the posterior model fit and posterior branching times. We have used the single-cell RNA-seq of haematopoietic stem cells (HSCs) from mouse <a href=\"https://pubmed.ncbi.nlm.nih.gov/26627738/\" target=\"_blank\" text_decoration=none>(Paul et al., 2015)</a>. The data contain cells that are differentiated into myeloid and erythroid precursor cell types."
   ]
  },
  {
   "cell_type": "code",
   "execution_count": 1,
   "metadata": {},
   "outputs": [],
   "source": [
    "%matplotlib inline\n",
    "import pandas as pd\n",
    "import numpy as np\n",
    "from matplotlib import pyplot as plt\n",
    "import tensorflow as tf\n",
    "# from IPython.display import display"
   ]
  },
  {
   "cell_type": "markdown",
   "metadata": {},
   "source": [
    "### Data description\n",
    "\n",
    "Slingshot algorithm <a href=\"https://pubmed.ncbi.nlm.nih.gov/29914354/\" target=\"_blank\">(Street et al., 2018)</a> has been used to get trajectory-specific pseudotimes as well as  assignment of cells to different branches. Slingshot infers two lineages for this dataset. The data were derived from the <a href=\"https://statomics.github.io/tradeSeq/articles/tradeSeq.html\" target=\"_blank\">tradeSeq vignette</a>.\n",
    "\n",
    "The __geneExpression.csv__ file contains the expression profiles of HSCs from mouse.  \n",
    "\n",
    "The __Slingshot.csv__ file contains lineage-specific cell assignments as well as pseudotimes."
   ]
  },
  {
   "cell_type": "code",
   "execution_count": 2,
   "metadata": {},
   "outputs": [],
   "source": [
    "data = pd.read_csv('../data/PaulData/geneExpression.csv', index_col=[0]).T\n",
    "slingShot = pd.read_csv('../data/PaulData/Slingshot.csv', index_col=[0])"
   ]
  },
  {
   "cell_type": "code",
   "execution_count": 3,
   "metadata": {},
   "outputs": [
    {
     "data": {
      "text/html": [
       "<div>\n",
       "<style scoped>\n",
       "    .dataframe tbody tr th:only-of-type {\n",
       "        vertical-align: middle;\n",
       "    }\n",
       "\n",
       "    .dataframe tbody tr th {\n",
       "        vertical-align: top;\n",
       "    }\n",
       "\n",
       "    .dataframe thead th {\n",
       "        text-align: right;\n",
       "    }\n",
       "</style>\n",
       "<table border=\"1\" class=\"dataframe\">\n",
       "  <thead>\n",
       "    <tr style=\"text-align: right;\">\n",
       "      <th></th>\n",
       "      <th>Acin1</th>\n",
       "      <th>Actb</th>\n",
       "      <th>Ak2</th>\n",
       "      <th>Alad</th>\n",
       "      <th>Alas1</th>\n",
       "      <th>Aldoa</th>\n",
       "      <th>Anapc5</th>\n",
       "      <th>Ankrd13a</th>\n",
       "      <th>Anp32b</th>\n",
       "      <th>Apoe</th>\n",
       "      <th>...</th>\n",
       "      <th>Ucp2</th>\n",
       "      <th>Uqcr10</th>\n",
       "      <th>Uqcrq</th>\n",
       "      <th>Vamp5</th>\n",
       "      <th>Vars</th>\n",
       "      <th>Vim</th>\n",
       "      <th>Ybx1</th>\n",
       "      <th>Ywhae</th>\n",
       "      <th>Zfpm1</th>\n",
       "      <th>rp9</th>\n",
       "    </tr>\n",
       "  </thead>\n",
       "  <tbody>\n",
       "    <tr>\n",
       "      <th>W31105</th>\n",
       "      <td>1</td>\n",
       "      <td>2</td>\n",
       "      <td>0</td>\n",
       "      <td>0</td>\n",
       "      <td>0</td>\n",
       "      <td>0</td>\n",
       "      <td>0</td>\n",
       "      <td>1</td>\n",
       "      <td>0</td>\n",
       "      <td>1</td>\n",
       "      <td>...</td>\n",
       "      <td>1</td>\n",
       "      <td>1</td>\n",
       "      <td>0</td>\n",
       "      <td>0</td>\n",
       "      <td>0</td>\n",
       "      <td>1</td>\n",
       "      <td>1</td>\n",
       "      <td>1</td>\n",
       "      <td>0</td>\n",
       "      <td>2</td>\n",
       "    </tr>\n",
       "    <tr>\n",
       "      <th>W31106</th>\n",
       "      <td>3</td>\n",
       "      <td>27</td>\n",
       "      <td>1</td>\n",
       "      <td>0</td>\n",
       "      <td>9</td>\n",
       "      <td>11</td>\n",
       "      <td>3</td>\n",
       "      <td>4</td>\n",
       "      <td>1</td>\n",
       "      <td>2</td>\n",
       "      <td>...</td>\n",
       "      <td>1</td>\n",
       "      <td>3</td>\n",
       "      <td>2</td>\n",
       "      <td>1</td>\n",
       "      <td>0</td>\n",
       "      <td>3</td>\n",
       "      <td>11</td>\n",
       "      <td>2</td>\n",
       "      <td>0</td>\n",
       "      <td>1</td>\n",
       "    </tr>\n",
       "    <tr>\n",
       "      <th>W31107</th>\n",
       "      <td>2</td>\n",
       "      <td>52</td>\n",
       "      <td>4</td>\n",
       "      <td>4</td>\n",
       "      <td>0</td>\n",
       "      <td>2</td>\n",
       "      <td>5</td>\n",
       "      <td>3</td>\n",
       "      <td>6</td>\n",
       "      <td>1</td>\n",
       "      <td>...</td>\n",
       "      <td>6</td>\n",
       "      <td>3</td>\n",
       "      <td>3</td>\n",
       "      <td>1</td>\n",
       "      <td>9</td>\n",
       "      <td>0</td>\n",
       "      <td>14</td>\n",
       "      <td>3</td>\n",
       "      <td>7</td>\n",
       "      <td>3</td>\n",
       "    </tr>\n",
       "    <tr>\n",
       "      <th>W31108</th>\n",
       "      <td>4</td>\n",
       "      <td>50</td>\n",
       "      <td>4</td>\n",
       "      <td>1</td>\n",
       "      <td>18</td>\n",
       "      <td>14</td>\n",
       "      <td>6</td>\n",
       "      <td>3</td>\n",
       "      <td>4</td>\n",
       "      <td>0</td>\n",
       "      <td>...</td>\n",
       "      <td>4</td>\n",
       "      <td>3</td>\n",
       "      <td>5</td>\n",
       "      <td>3</td>\n",
       "      <td>2</td>\n",
       "      <td>7</td>\n",
       "      <td>15</td>\n",
       "      <td>0</td>\n",
       "      <td>0</td>\n",
       "      <td>2</td>\n",
       "    </tr>\n",
       "    <tr>\n",
       "      <th>W31109</th>\n",
       "      <td>6</td>\n",
       "      <td>55</td>\n",
       "      <td>6</td>\n",
       "      <td>4</td>\n",
       "      <td>0</td>\n",
       "      <td>6</td>\n",
       "      <td>7</td>\n",
       "      <td>7</td>\n",
       "      <td>7</td>\n",
       "      <td>0</td>\n",
       "      <td>...</td>\n",
       "      <td>8</td>\n",
       "      <td>5</td>\n",
       "      <td>6</td>\n",
       "      <td>3</td>\n",
       "      <td>5</td>\n",
       "      <td>0</td>\n",
       "      <td>14</td>\n",
       "      <td>2</td>\n",
       "      <td>6</td>\n",
       "      <td>5</td>\n",
       "    </tr>\n",
       "  </tbody>\n",
       "</table>\n",
       "<p>5 rows × 240 columns</p>\n",
       "</div>"
      ],
      "text/plain": [
       "        Acin1  Actb  Ak2  Alad  Alas1  Aldoa  Anapc5  Ankrd13a  Anp32b  Apoe  \\\n",
       "W31105      1     2    0     0      0      0       0         1       0     1   \n",
       "W31106      3    27    1     0      9     11       3         4       1     2   \n",
       "W31107      2    52    4     4      0      2       5         3       6     1   \n",
       "W31108      4    50    4     1     18     14       6         3       4     0   \n",
       "W31109      6    55    6     4      0      6       7         7       7     0   \n",
       "\n",
       "        ...  Ucp2  Uqcr10  Uqcrq  Vamp5  Vars  Vim  Ybx1  Ywhae  Zfpm1  rp9  \n",
       "W31105  ...     1       1      0      0     0    1     1      1      0    2  \n",
       "W31106  ...     1       3      2      1     0    3    11      2      0    1  \n",
       "W31107  ...     6       3      3      1     9    0    14      3      7    3  \n",
       "W31108  ...     4       3      5      3     2    7    15      0      0    2  \n",
       "W31109  ...     8       5      6      3     5    0    14      2      6    5  \n",
       "\n",
       "[5 rows x 240 columns]"
      ]
     },
     "execution_count": 3,
     "metadata": {},
     "output_type": "execute_result"
    }
   ],
   "source": [
    "data.head()"
   ]
  },
  {
   "cell_type": "code",
   "execution_count": 4,
   "metadata": {},
   "outputs": [
    {
     "data": {
      "text/html": [
       "<div>\n",
       "<style scoped>\n",
       "    .dataframe tbody tr th:only-of-type {\n",
       "        vertical-align: middle;\n",
       "    }\n",
       "\n",
       "    .dataframe tbody tr th {\n",
       "        vertical-align: top;\n",
       "    }\n",
       "\n",
       "    .dataframe thead th {\n",
       "        text-align: right;\n",
       "    }\n",
       "</style>\n",
       "<table border=\"1\" class=\"dataframe\">\n",
       "  <thead>\n",
       "    <tr style=\"text-align: right;\">\n",
       "      <th></th>\n",
       "      <th>curve1</th>\n",
       "      <th>curve2</th>\n",
       "      <th>pseudotime</th>\n",
       "    </tr>\n",
       "  </thead>\n",
       "  <tbody>\n",
       "    <tr>\n",
       "      <th>W31105</th>\n",
       "      <td>1.0</td>\n",
       "      <td>1.0</td>\n",
       "      <td>0.036348</td>\n",
       "    </tr>\n",
       "    <tr>\n",
       "      <th>W31106</th>\n",
       "      <td>1.0</td>\n",
       "      <td>0.0</td>\n",
       "      <td>0.840813</td>\n",
       "    </tr>\n",
       "    <tr>\n",
       "      <th>W31107</th>\n",
       "      <td>0.0</td>\n",
       "      <td>1.0</td>\n",
       "      <td>0.759424</td>\n",
       "    </tr>\n",
       "    <tr>\n",
       "      <th>W31108</th>\n",
       "      <td>1.0</td>\n",
       "      <td>0.0</td>\n",
       "      <td>0.997455</td>\n",
       "    </tr>\n",
       "    <tr>\n",
       "      <th>W31109</th>\n",
       "      <td>0.0</td>\n",
       "      <td>1.0</td>\n",
       "      <td>0.766015</td>\n",
       "    </tr>\n",
       "  </tbody>\n",
       "</table>\n",
       "</div>"
      ],
      "text/plain": [
       "        curve1  curve2  pseudotime\n",
       "W31105     1.0     1.0    0.036348\n",
       "W31106     1.0     0.0    0.840813\n",
       "W31107     0.0     1.0    0.759424\n",
       "W31108     1.0     0.0    0.997455\n",
       "W31109     0.0     1.0    0.766015"
      ]
     },
     "execution_count": 4,
     "metadata": {},
     "output_type": "execute_result"
    }
   ],
   "source": [
    "slingShot.head()"
   ]
  },
  {
   "cell_type": "markdown",
   "metadata": {},
   "source": [
    "Slingshot assigns a weight to each cell indicating the assignment of cells to different branches. We have used assignment probability 0.80 to determine the cells belong to a specific branch (1 or 2) ."
   ]
  },
  {
   "cell_type": "code",
   "execution_count": 5,
   "metadata": {},
   "outputs": [],
   "source": [
    "cell_label = np.ones(slingShot.shape[0]) * 2\n",
    "for i in range(0, slingShot.shape[0]):\n",
    "    if slingShot.values[i, 0] > 0.8:\n",
    "        cell_label[i] = 1"
   ]
  },
  {
   "cell_type": "markdown",
   "metadata": {},
   "source": [
    "### Fit GPcounts model for branching"
   ]
  },
  {
   "cell_type": "code",
   "execution_count": 6,
   "metadata": {
    "scrolled": true
   },
   "outputs": [
    {
     "name": "stderr",
     "output_type": "stream",
     "text": [
      "\r",
      "  0%|          | 0/1 [00:00<?, ?it/s]"
     ]
    },
    {
     "name": "stdout",
     "output_type": "stream",
     "text": [
      "{'ls': 0.2, 'var': 3.0, 'alpha': 5.0, 'km': 35.0}\n"
     ]
    },
    {
     "data": {
      "text/html": [
       "<table>\n",
       "<thead>\n",
       "<tr><th>name                        </th><th>class    </th><th>transform     </th><th>prior  </th><th>trainable  </th><th>shape        </th><th>dtype  </th><th>value           </th></tr>\n",
       "</thead>\n",
       "<tbody>\n",
       "<tr><td>VGP.kernel.kern.variance    </td><td>Parameter</td><td>Softplus      </td><td>       </td><td>True       </td><td>()           </td><td>float64</td><td>1.0             </td></tr>\n",
       "<tr><td>VGP.kernel.kern.lengthscales</td><td>Parameter</td><td>Softplus      </td><td>       </td><td>True       </td><td>()           </td><td>float64</td><td>1.0             </td></tr>\n",
       "<tr><td>VGP.likelihood.alpha        </td><td>Parameter</td><td>Softplus      </td><td>       </td><td>True       </td><td>()           </td><td>float64</td><td>5.0             </td></tr>\n",
       "<tr><td>VGP.likelihood.scale        </td><td>Parameter</td><td>              </td><td>       </td><td>False      </td><td>()           </td><td>float64</td><td>1.0             </td></tr>\n",
       "<tr><td>VGP.q_mu                    </td><td>Parameter</td><td>              </td><td>       </td><td>True       </td><td>(532, 1)     </td><td>float64</td><td>[[0....         </td></tr>\n",
       "<tr><td>VGP.q_sqrt                  </td><td>Parameter</td><td>FillTriangular</td><td>       </td><td>True       </td><td>(1, 532, 532)</td><td>float64</td><td>[[[1., 0., 0....</td></tr>\n",
       "</tbody>\n",
       "</table>"
      ],
      "text/plain": [
       "<IPython.core.display.HTML object>"
      ]
     },
     "metadata": {},
     "output_type": "display_data"
    },
    {
     "name": "stderr",
     "output_type": "stream",
     "text": [
      "100%|██████████| 1/1 [00:59<00:00, 59.33s/it]\n",
      "  0%|          | 0/1 [00:00<?, ?it/s]"
     ]
    },
    {
     "name": "stdout",
     "output_type": "stream",
     "text": [
      "{'ls': 0.2, 'var': 3.0, 'alpha': 5.0, 'km': 35.0}\n"
     ]
    },
    {
     "data": {
      "text/html": [
       "<table>\n",
       "<thead>\n",
       "<tr><th>name                        </th><th>class    </th><th>transform     </th><th>prior  </th><th>trainable  </th><th>shape        </th><th>dtype  </th><th>value             </th></tr>\n",
       "</thead>\n",
       "<tbody>\n",
       "<tr><td>VGP.kernel.kern.variance    </td><td>Parameter</td><td>Softplus      </td><td>       </td><td>False      </td><td>()           </td><td>float64</td><td>4.344037728243174 </td></tr>\n",
       "<tr><td>VGP.kernel.kern.lengthscales</td><td>Parameter</td><td>Softplus      </td><td>       </td><td>False      </td><td>()           </td><td>float64</td><td>0.7470584555412823</td></tr>\n",
       "<tr><td>VGP.likelihood.alpha        </td><td>Parameter</td><td>Softplus      </td><td>       </td><td>True       </td><td>()           </td><td>float64</td><td>5.0               </td></tr>\n",
       "<tr><td>VGP.likelihood.scale        </td><td>Parameter</td><td>              </td><td>       </td><td>False      </td><td>()           </td><td>float64</td><td>1.0               </td></tr>\n",
       "<tr><td>VGP.q_mu                    </td><td>Parameter</td><td>              </td><td>       </td><td>True       </td><td>(532, 1)     </td><td>float64</td><td>[[0....           </td></tr>\n",
       "<tr><td>VGP.q_sqrt                  </td><td>Parameter</td><td>FillTriangular</td><td>       </td><td>True       </td><td>(1, 532, 532)</td><td>float64</td><td>[[[1., 0., 0....  </td></tr>\n",
       "</tbody>\n",
       "</table>"
      ],
      "text/plain": [
       "<IPython.core.display.HTML object>"
      ]
     },
     "metadata": {},
     "output_type": "display_data"
    },
    {
     "name": "stderr",
     "output_type": "stream",
     "text": [
      "100%|██████████| 1/1 [00:11<00:00, 11.60s/it]\n",
      "  0%|          | 0/1 [00:00<?, ?it/s]"
     ]
    },
    {
     "name": "stdout",
     "output_type": "stream",
     "text": [
      "{'ls': 0.2, 'var': 3.0, 'alpha': 5.0, 'km': 35.0}\n"
     ]
    },
    {
     "data": {
      "text/html": [
       "<table>\n",
       "<thead>\n",
       "<tr><th>name                        </th><th>class    </th><th>transform     </th><th>prior  </th><th>trainable  </th><th>shape        </th><th>dtype  </th><th>value             </th></tr>\n",
       "</thead>\n",
       "<tbody>\n",
       "<tr><td>VGP.kernel.kern.variance    </td><td>Parameter</td><td>Softplus      </td><td>       </td><td>False      </td><td>()           </td><td>float64</td><td>4.344037728243174 </td></tr>\n",
       "<tr><td>VGP.kernel.kern.lengthscales</td><td>Parameter</td><td>Softplus      </td><td>       </td><td>False      </td><td>()           </td><td>float64</td><td>0.7470584555412823</td></tr>\n",
       "<tr><td>VGP.likelihood.alpha        </td><td>Parameter</td><td>Softplus      </td><td>       </td><td>True       </td><td>()           </td><td>float64</td><td>5.0               </td></tr>\n",
       "<tr><td>VGP.likelihood.scale        </td><td>Parameter</td><td>              </td><td>       </td><td>False      </td><td>()           </td><td>float64</td><td>1.0               </td></tr>\n",
       "<tr><td>VGP.q_mu                    </td><td>Parameter</td><td>              </td><td>       </td><td>True       </td><td>(532, 1)     </td><td>float64</td><td>[[0....           </td></tr>\n",
       "<tr><td>VGP.q_sqrt                  </td><td>Parameter</td><td>FillTriangular</td><td>       </td><td>True       </td><td>(1, 532, 532)</td><td>float64</td><td>[[[1., 0., 0....  </td></tr>\n",
       "</tbody>\n",
       "</table>"
      ],
      "text/plain": [
       "<IPython.core.display.HTML object>"
      ]
     },
     "metadata": {},
     "output_type": "display_data"
    },
    {
     "name": "stderr",
     "output_type": "stream",
     "text": [
      "100%|██████████| 1/1 [00:11<00:00, 11.73s/it]\n",
      "  0%|          | 0/1 [00:00<?, ?it/s]"
     ]
    },
    {
     "name": "stdout",
     "output_type": "stream",
     "text": [
      "{'ls': 0.2, 'var': 3.0, 'alpha': 5.0, 'km': 35.0}\n"
     ]
    },
    {
     "data": {
      "text/html": [
       "<table>\n",
       "<thead>\n",
       "<tr><th>name                        </th><th>class    </th><th>transform     </th><th>prior  </th><th>trainable  </th><th>shape        </th><th>dtype  </th><th>value             </th></tr>\n",
       "</thead>\n",
       "<tbody>\n",
       "<tr><td>VGP.kernel.kern.variance    </td><td>Parameter</td><td>Softplus      </td><td>       </td><td>False      </td><td>()           </td><td>float64</td><td>4.344037728243174 </td></tr>\n",
       "<tr><td>VGP.kernel.kern.lengthscales</td><td>Parameter</td><td>Softplus      </td><td>       </td><td>False      </td><td>()           </td><td>float64</td><td>0.7470584555412823</td></tr>\n",
       "<tr><td>VGP.likelihood.alpha        </td><td>Parameter</td><td>Softplus      </td><td>       </td><td>True       </td><td>()           </td><td>float64</td><td>5.0               </td></tr>\n",
       "<tr><td>VGP.likelihood.scale        </td><td>Parameter</td><td>              </td><td>       </td><td>False      </td><td>()           </td><td>float64</td><td>1.0               </td></tr>\n",
       "<tr><td>VGP.q_mu                    </td><td>Parameter</td><td>              </td><td>       </td><td>True       </td><td>(532, 1)     </td><td>float64</td><td>[[0....           </td></tr>\n",
       "<tr><td>VGP.q_sqrt                  </td><td>Parameter</td><td>FillTriangular</td><td>       </td><td>True       </td><td>(1, 532, 532)</td><td>float64</td><td>[[[1., 0., 0....  </td></tr>\n",
       "</tbody>\n",
       "</table>"
      ],
      "text/plain": [
       "<IPython.core.display.HTML object>"
      ]
     },
     "metadata": {},
     "output_type": "display_data"
    },
    {
     "name": "stderr",
     "output_type": "stream",
     "text": [
      "100%|██████████| 1/1 [00:12<00:00, 12.29s/it]\n",
      "  0%|          | 0/1 [00:00<?, ?it/s]"
     ]
    },
    {
     "name": "stdout",
     "output_type": "stream",
     "text": [
      "{'ls': 0.2, 'var': 3.0, 'alpha': 5.0, 'km': 35.0}\n"
     ]
    },
    {
     "data": {
      "text/html": [
       "<table>\n",
       "<thead>\n",
       "<tr><th>name                        </th><th>class    </th><th>transform     </th><th>prior  </th><th>trainable  </th><th>shape        </th><th>dtype  </th><th>value             </th></tr>\n",
       "</thead>\n",
       "<tbody>\n",
       "<tr><td>VGP.kernel.kern.variance    </td><td>Parameter</td><td>Softplus      </td><td>       </td><td>False      </td><td>()           </td><td>float64</td><td>4.344037728243174 </td></tr>\n",
       "<tr><td>VGP.kernel.kern.lengthscales</td><td>Parameter</td><td>Softplus      </td><td>       </td><td>False      </td><td>()           </td><td>float64</td><td>0.7470584555412823</td></tr>\n",
       "<tr><td>VGP.likelihood.alpha        </td><td>Parameter</td><td>Softplus      </td><td>       </td><td>True       </td><td>()           </td><td>float64</td><td>5.0               </td></tr>\n",
       "<tr><td>VGP.likelihood.scale        </td><td>Parameter</td><td>              </td><td>       </td><td>False      </td><td>()           </td><td>float64</td><td>1.0               </td></tr>\n",
       "<tr><td>VGP.q_mu                    </td><td>Parameter</td><td>              </td><td>       </td><td>True       </td><td>(532, 1)     </td><td>float64</td><td>[[0....           </td></tr>\n",
       "<tr><td>VGP.q_sqrt                  </td><td>Parameter</td><td>FillTriangular</td><td>       </td><td>True       </td><td>(1, 532, 532)</td><td>float64</td><td>[[[1., 0., 0....  </td></tr>\n",
       "</tbody>\n",
       "</table>"
      ],
      "text/plain": [
       "<IPython.core.display.HTML object>"
      ]
     },
     "metadata": {},
     "output_type": "display_data"
    },
    {
     "name": "stderr",
     "output_type": "stream",
     "text": [
      "100%|██████████| 1/1 [00:11<00:00, 11.90s/it]\n",
      "  0%|          | 0/1 [00:00<?, ?it/s]"
     ]
    },
    {
     "name": "stdout",
     "output_type": "stream",
     "text": [
      "{'ls': 0.2, 'var': 3.0, 'alpha': 5.0, 'km': 35.0}\n"
     ]
    },
    {
     "data": {
      "text/html": [
       "<table>\n",
       "<thead>\n",
       "<tr><th>name                        </th><th>class    </th><th>transform     </th><th>prior  </th><th>trainable  </th><th>shape        </th><th>dtype  </th><th>value             </th></tr>\n",
       "</thead>\n",
       "<tbody>\n",
       "<tr><td>VGP.kernel.kern.variance    </td><td>Parameter</td><td>Softplus      </td><td>       </td><td>False      </td><td>()           </td><td>float64</td><td>4.344037728243174 </td></tr>\n",
       "<tr><td>VGP.kernel.kern.lengthscales</td><td>Parameter</td><td>Softplus      </td><td>       </td><td>False      </td><td>()           </td><td>float64</td><td>0.7470584555412823</td></tr>\n",
       "<tr><td>VGP.likelihood.alpha        </td><td>Parameter</td><td>Softplus      </td><td>       </td><td>True       </td><td>()           </td><td>float64</td><td>5.0               </td></tr>\n",
       "<tr><td>VGP.likelihood.scale        </td><td>Parameter</td><td>              </td><td>       </td><td>False      </td><td>()           </td><td>float64</td><td>1.0               </td></tr>\n",
       "<tr><td>VGP.q_mu                    </td><td>Parameter</td><td>              </td><td>       </td><td>True       </td><td>(532, 1)     </td><td>float64</td><td>[[0....           </td></tr>\n",
       "<tr><td>VGP.q_sqrt                  </td><td>Parameter</td><td>FillTriangular</td><td>       </td><td>True       </td><td>(1, 532, 532)</td><td>float64</td><td>[[[1., 0., 0....  </td></tr>\n",
       "</tbody>\n",
       "</table>"
      ],
      "text/plain": [
       "<IPython.core.display.HTML object>"
      ]
     },
     "metadata": {},
     "output_type": "display_data"
    },
    {
     "name": "stderr",
     "output_type": "stream",
     "text": [
      "100%|██████████| 1/1 [00:11<00:00, 11.12s/it]\n",
      "  0%|          | 0/1 [00:00<?, ?it/s]"
     ]
    },
    {
     "name": "stdout",
     "output_type": "stream",
     "text": [
      "{'ls': 0.2, 'var': 3.0, 'alpha': 5.0, 'km': 35.0}\n"
     ]
    },
    {
     "data": {
      "text/html": [
       "<table>\n",
       "<thead>\n",
       "<tr><th>name                        </th><th>class    </th><th>transform     </th><th>prior  </th><th>trainable  </th><th>shape        </th><th>dtype  </th><th>value             </th></tr>\n",
       "</thead>\n",
       "<tbody>\n",
       "<tr><td>VGP.kernel.kern.variance    </td><td>Parameter</td><td>Softplus      </td><td>       </td><td>False      </td><td>()           </td><td>float64</td><td>4.344037728243174 </td></tr>\n",
       "<tr><td>VGP.kernel.kern.lengthscales</td><td>Parameter</td><td>Softplus      </td><td>       </td><td>False      </td><td>()           </td><td>float64</td><td>0.7470584555412823</td></tr>\n",
       "<tr><td>VGP.likelihood.alpha        </td><td>Parameter</td><td>Softplus      </td><td>       </td><td>True       </td><td>()           </td><td>float64</td><td>5.0               </td></tr>\n",
       "<tr><td>VGP.likelihood.scale        </td><td>Parameter</td><td>              </td><td>       </td><td>False      </td><td>()           </td><td>float64</td><td>1.0               </td></tr>\n",
       "<tr><td>VGP.q_mu                    </td><td>Parameter</td><td>              </td><td>       </td><td>True       </td><td>(532, 1)     </td><td>float64</td><td>[[0....           </td></tr>\n",
       "<tr><td>VGP.q_sqrt                  </td><td>Parameter</td><td>FillTriangular</td><td>       </td><td>True       </td><td>(1, 532, 532)</td><td>float64</td><td>[[[1., 0., 0....  </td></tr>\n",
       "</tbody>\n",
       "</table>"
      ],
      "text/plain": [
       "<IPython.core.display.HTML object>"
      ]
     },
     "metadata": {},
     "output_type": "display_data"
    },
    {
     "name": "stderr",
     "output_type": "stream",
     "text": [
      "100%|██████████| 1/1 [00:10<00:00, 10.04s/it]\n",
      "  0%|          | 0/1 [00:00<?, ?it/s]"
     ]
    },
    {
     "name": "stdout",
     "output_type": "stream",
     "text": [
      "{'ls': 0.2, 'var': 3.0, 'alpha': 5.0, 'km': 35.0}\n"
     ]
    },
    {
     "data": {
      "text/html": [
       "<table>\n",
       "<thead>\n",
       "<tr><th>name                        </th><th>class    </th><th>transform     </th><th>prior  </th><th>trainable  </th><th>shape        </th><th>dtype  </th><th>value             </th></tr>\n",
       "</thead>\n",
       "<tbody>\n",
       "<tr><td>VGP.kernel.kern.variance    </td><td>Parameter</td><td>Softplus      </td><td>       </td><td>False      </td><td>()           </td><td>float64</td><td>4.344037728243174 </td></tr>\n",
       "<tr><td>VGP.kernel.kern.lengthscales</td><td>Parameter</td><td>Softplus      </td><td>       </td><td>False      </td><td>()           </td><td>float64</td><td>0.7470584555412823</td></tr>\n",
       "<tr><td>VGP.likelihood.alpha        </td><td>Parameter</td><td>Softplus      </td><td>       </td><td>True       </td><td>()           </td><td>float64</td><td>5.0               </td></tr>\n",
       "<tr><td>VGP.likelihood.scale        </td><td>Parameter</td><td>              </td><td>       </td><td>False      </td><td>()           </td><td>float64</td><td>1.0               </td></tr>\n",
       "<tr><td>VGP.q_mu                    </td><td>Parameter</td><td>              </td><td>       </td><td>True       </td><td>(532, 1)     </td><td>float64</td><td>[[0....           </td></tr>\n",
       "<tr><td>VGP.q_sqrt                  </td><td>Parameter</td><td>FillTriangular</td><td>       </td><td>True       </td><td>(1, 532, 532)</td><td>float64</td><td>[[[1., 0., 0....  </td></tr>\n",
       "</tbody>\n",
       "</table>"
      ],
      "text/plain": [
       "<IPython.core.display.HTML object>"
      ]
     },
     "metadata": {},
     "output_type": "display_data"
    },
    {
     "name": "stderr",
     "output_type": "stream",
     "text": [
      "100%|██████████| 1/1 [00:10<00:00, 10.24s/it]\n",
      "  0%|          | 0/1 [00:00<?, ?it/s]"
     ]
    },
    {
     "name": "stdout",
     "output_type": "stream",
     "text": [
      "{'ls': 0.2, 'var': 3.0, 'alpha': 5.0, 'km': 35.0}\n"
     ]
    },
    {
     "data": {
      "text/html": [
       "<table>\n",
       "<thead>\n",
       "<tr><th>name                        </th><th>class    </th><th>transform     </th><th>prior  </th><th>trainable  </th><th>shape        </th><th>dtype  </th><th>value             </th></tr>\n",
       "</thead>\n",
       "<tbody>\n",
       "<tr><td>VGP.kernel.kern.variance    </td><td>Parameter</td><td>Softplus      </td><td>       </td><td>False      </td><td>()           </td><td>float64</td><td>4.344037728243174 </td></tr>\n",
       "<tr><td>VGP.kernel.kern.lengthscales</td><td>Parameter</td><td>Softplus      </td><td>       </td><td>False      </td><td>()           </td><td>float64</td><td>0.7470584555412823</td></tr>\n",
       "<tr><td>VGP.likelihood.alpha        </td><td>Parameter</td><td>Softplus      </td><td>       </td><td>True       </td><td>()           </td><td>float64</td><td>5.0               </td></tr>\n",
       "<tr><td>VGP.likelihood.scale        </td><td>Parameter</td><td>              </td><td>       </td><td>False      </td><td>()           </td><td>float64</td><td>1.0               </td></tr>\n",
       "<tr><td>VGP.q_mu                    </td><td>Parameter</td><td>              </td><td>       </td><td>True       </td><td>(532, 1)     </td><td>float64</td><td>[[0....           </td></tr>\n",
       "<tr><td>VGP.q_sqrt                  </td><td>Parameter</td><td>FillTriangular</td><td>       </td><td>True       </td><td>(1, 532, 532)</td><td>float64</td><td>[[[1., 0., 0....  </td></tr>\n",
       "</tbody>\n",
       "</table>"
      ],
      "text/plain": [
       "<IPython.core.display.HTML object>"
      ]
     },
     "metadata": {},
     "output_type": "display_data"
    },
    {
     "name": "stderr",
     "output_type": "stream",
     "text": [
      "100%|██████████| 1/1 [00:09<00:00,  9.60s/it]\n",
      "  0%|          | 0/1 [00:00<?, ?it/s]"
     ]
    },
    {
     "name": "stdout",
     "output_type": "stream",
     "text": [
      "{'ls': 0.2, 'var': 3.0, 'alpha': 5.0, 'km': 35.0}\n"
     ]
    },
    {
     "data": {
      "text/html": [
       "<table>\n",
       "<thead>\n",
       "<tr><th>name                        </th><th>class    </th><th>transform     </th><th>prior  </th><th>trainable  </th><th>shape        </th><th>dtype  </th><th>value             </th></tr>\n",
       "</thead>\n",
       "<tbody>\n",
       "<tr><td>VGP.kernel.kern.variance    </td><td>Parameter</td><td>Softplus      </td><td>       </td><td>False      </td><td>()           </td><td>float64</td><td>4.344037728243174 </td></tr>\n",
       "<tr><td>VGP.kernel.kern.lengthscales</td><td>Parameter</td><td>Softplus      </td><td>       </td><td>False      </td><td>()           </td><td>float64</td><td>0.7470584555412823</td></tr>\n",
       "<tr><td>VGP.likelihood.alpha        </td><td>Parameter</td><td>Softplus      </td><td>       </td><td>True       </td><td>()           </td><td>float64</td><td>5.0               </td></tr>\n",
       "<tr><td>VGP.likelihood.scale        </td><td>Parameter</td><td>              </td><td>       </td><td>False      </td><td>()           </td><td>float64</td><td>1.0               </td></tr>\n",
       "<tr><td>VGP.q_mu                    </td><td>Parameter</td><td>              </td><td>       </td><td>True       </td><td>(532, 1)     </td><td>float64</td><td>[[0....           </td></tr>\n",
       "<tr><td>VGP.q_sqrt                  </td><td>Parameter</td><td>FillTriangular</td><td>       </td><td>True       </td><td>(1, 532, 532)</td><td>float64</td><td>[[[1., 0., 0....  </td></tr>\n",
       "</tbody>\n",
       "</table>"
      ],
      "text/plain": [
       "<IPython.core.display.HTML object>"
      ]
     },
     "metadata": {},
     "output_type": "display_data"
    },
    {
     "name": "stderr",
     "output_type": "stream",
     "text": [
      "100%|██████████| 1/1 [00:10<00:00, 10.46s/it]\n",
      "  0%|          | 0/1 [00:00<?, ?it/s]"
     ]
    },
    {
     "name": "stdout",
     "output_type": "stream",
     "text": [
      "{'ls': 0.2, 'var': 3.0, 'alpha': 5.0, 'km': 35.0}\n"
     ]
    },
    {
     "data": {
      "text/html": [
       "<table>\n",
       "<thead>\n",
       "<tr><th>name                        </th><th>class    </th><th>transform     </th><th>prior  </th><th>trainable  </th><th>shape        </th><th>dtype  </th><th>value             </th></tr>\n",
       "</thead>\n",
       "<tbody>\n",
       "<tr><td>VGP.kernel.kern.variance    </td><td>Parameter</td><td>Softplus      </td><td>       </td><td>False      </td><td>()           </td><td>float64</td><td>4.344037728243174 </td></tr>\n",
       "<tr><td>VGP.kernel.kern.lengthscales</td><td>Parameter</td><td>Softplus      </td><td>       </td><td>False      </td><td>()           </td><td>float64</td><td>0.7470584555412823</td></tr>\n",
       "<tr><td>VGP.likelihood.alpha        </td><td>Parameter</td><td>Softplus      </td><td>       </td><td>True       </td><td>()           </td><td>float64</td><td>5.0               </td></tr>\n",
       "<tr><td>VGP.likelihood.scale        </td><td>Parameter</td><td>              </td><td>       </td><td>False      </td><td>()           </td><td>float64</td><td>1.0               </td></tr>\n",
       "<tr><td>VGP.q_mu                    </td><td>Parameter</td><td>              </td><td>       </td><td>True       </td><td>(532, 1)     </td><td>float64</td><td>[[0....           </td></tr>\n",
       "<tr><td>VGP.q_sqrt                  </td><td>Parameter</td><td>FillTriangular</td><td>       </td><td>True       </td><td>(1, 532, 532)</td><td>float64</td><td>[[[1., 0., 0....  </td></tr>\n",
       "</tbody>\n",
       "</table>"
      ],
      "text/plain": [
       "<IPython.core.display.HTML object>"
      ]
     },
     "metadata": {},
     "output_type": "display_data"
    },
    {
     "name": "stderr",
     "output_type": "stream",
     "text": [
      "100%|██████████| 1/1 [00:09<00:00,  9.28s/it]\n",
      "  0%|          | 0/1 [00:00<?, ?it/s]"
     ]
    },
    {
     "name": "stdout",
     "output_type": "stream",
     "text": [
      "{'ls': 0.2, 'var': 3.0, 'alpha': 5.0, 'km': 35.0}\n"
     ]
    },
    {
     "data": {
      "text/html": [
       "<table>\n",
       "<thead>\n",
       "<tr><th>name                        </th><th>class    </th><th>transform     </th><th>prior  </th><th>trainable  </th><th>shape        </th><th>dtype  </th><th>value             </th></tr>\n",
       "</thead>\n",
       "<tbody>\n",
       "<tr><td>VGP.kernel.kern.variance    </td><td>Parameter</td><td>Softplus      </td><td>       </td><td>False      </td><td>()           </td><td>float64</td><td>4.344037728243174 </td></tr>\n",
       "<tr><td>VGP.kernel.kern.lengthscales</td><td>Parameter</td><td>Softplus      </td><td>       </td><td>False      </td><td>()           </td><td>float64</td><td>0.7470584555412823</td></tr>\n",
       "<tr><td>VGP.likelihood.alpha        </td><td>Parameter</td><td>Softplus      </td><td>       </td><td>True       </td><td>()           </td><td>float64</td><td>5.0               </td></tr>\n",
       "<tr><td>VGP.likelihood.scale        </td><td>Parameter</td><td>              </td><td>       </td><td>False      </td><td>()           </td><td>float64</td><td>1.0               </td></tr>\n",
       "<tr><td>VGP.q_mu                    </td><td>Parameter</td><td>              </td><td>       </td><td>True       </td><td>(532, 1)     </td><td>float64</td><td>[[0....           </td></tr>\n",
       "<tr><td>VGP.q_sqrt                  </td><td>Parameter</td><td>FillTriangular</td><td>       </td><td>True       </td><td>(1, 532, 532)</td><td>float64</td><td>[[[1., 0., 0....  </td></tr>\n",
       "</tbody>\n",
       "</table>"
      ],
      "text/plain": [
       "<IPython.core.display.HTML object>"
      ]
     },
     "metadata": {},
     "output_type": "display_data"
    },
    {
     "name": "stderr",
     "output_type": "stream",
     "text": [
      "100%|██████████| 1/1 [00:10<00:00, 10.24s/it]\n",
      "  0%|          | 0/1 [00:00<?, ?it/s]"
     ]
    },
    {
     "name": "stdout",
     "output_type": "stream",
     "text": [
      "{'ls': 0.2, 'var': 3.0, 'alpha': 5.0, 'km': 35.0}\n"
     ]
    },
    {
     "data": {
      "text/html": [
       "<table>\n",
       "<thead>\n",
       "<tr><th>name                        </th><th>class    </th><th>transform     </th><th>prior  </th><th>trainable  </th><th>shape        </th><th>dtype  </th><th>value             </th></tr>\n",
       "</thead>\n",
       "<tbody>\n",
       "<tr><td>VGP.kernel.kern.variance    </td><td>Parameter</td><td>Softplus      </td><td>       </td><td>False      </td><td>()           </td><td>float64</td><td>4.344037728243174 </td></tr>\n",
       "<tr><td>VGP.kernel.kern.lengthscales</td><td>Parameter</td><td>Softplus      </td><td>       </td><td>False      </td><td>()           </td><td>float64</td><td>0.7470584555412823</td></tr>\n",
       "<tr><td>VGP.likelihood.alpha        </td><td>Parameter</td><td>Softplus      </td><td>       </td><td>True       </td><td>()           </td><td>float64</td><td>5.0               </td></tr>\n",
       "<tr><td>VGP.likelihood.scale        </td><td>Parameter</td><td>              </td><td>       </td><td>False      </td><td>()           </td><td>float64</td><td>1.0               </td></tr>\n",
       "<tr><td>VGP.q_mu                    </td><td>Parameter</td><td>              </td><td>       </td><td>True       </td><td>(532, 1)     </td><td>float64</td><td>[[0....           </td></tr>\n",
       "<tr><td>VGP.q_sqrt                  </td><td>Parameter</td><td>FillTriangular</td><td>       </td><td>True       </td><td>(1, 532, 532)</td><td>float64</td><td>[[[1., 0., 0....  </td></tr>\n",
       "</tbody>\n",
       "</table>"
      ],
      "text/plain": [
       "<IPython.core.display.HTML object>"
      ]
     },
     "metadata": {},
     "output_type": "display_data"
    },
    {
     "name": "stderr",
     "output_type": "stream",
     "text": [
      "100%|██████████| 1/1 [00:09<00:00,  9.83s/it]\n",
      "  0%|          | 0/1 [00:00<?, ?it/s]"
     ]
    },
    {
     "name": "stdout",
     "output_type": "stream",
     "text": [
      "{'ls': 0.2, 'var': 3.0, 'alpha': 5.0, 'km': 35.0}\n"
     ]
    },
    {
     "data": {
      "text/html": [
       "<table>\n",
       "<thead>\n",
       "<tr><th>name                        </th><th>class    </th><th>transform     </th><th>prior  </th><th>trainable  </th><th>shape        </th><th>dtype  </th><th>value             </th></tr>\n",
       "</thead>\n",
       "<tbody>\n",
       "<tr><td>VGP.kernel.kern.variance    </td><td>Parameter</td><td>Softplus      </td><td>       </td><td>False      </td><td>()           </td><td>float64</td><td>4.344037728243174 </td></tr>\n",
       "<tr><td>VGP.kernel.kern.lengthscales</td><td>Parameter</td><td>Softplus      </td><td>       </td><td>False      </td><td>()           </td><td>float64</td><td>0.7470584555412823</td></tr>\n",
       "<tr><td>VGP.likelihood.alpha        </td><td>Parameter</td><td>Softplus      </td><td>       </td><td>True       </td><td>()           </td><td>float64</td><td>5.0               </td></tr>\n",
       "<tr><td>VGP.likelihood.scale        </td><td>Parameter</td><td>              </td><td>       </td><td>False      </td><td>()           </td><td>float64</td><td>1.0               </td></tr>\n",
       "<tr><td>VGP.q_mu                    </td><td>Parameter</td><td>              </td><td>       </td><td>True       </td><td>(532, 1)     </td><td>float64</td><td>[[0....           </td></tr>\n",
       "<tr><td>VGP.q_sqrt                  </td><td>Parameter</td><td>FillTriangular</td><td>       </td><td>True       </td><td>(1, 532, 532)</td><td>float64</td><td>[[[1., 0., 0....  </td></tr>\n",
       "</tbody>\n",
       "</table>"
      ],
      "text/plain": [
       "<IPython.core.display.HTML object>"
      ]
     },
     "metadata": {},
     "output_type": "display_data"
    },
    {
     "name": "stderr",
     "output_type": "stream",
     "text": [
      "100%|██████████| 1/1 [00:10<00:00, 10.18s/it]\n",
      "  0%|          | 0/1 [00:00<?, ?it/s]"
     ]
    },
    {
     "name": "stdout",
     "output_type": "stream",
     "text": [
      "{'ls': 0.2, 'var': 3.0, 'alpha': 5.0, 'km': 35.0}\n"
     ]
    },
    {
     "data": {
      "text/html": [
       "<table>\n",
       "<thead>\n",
       "<tr><th>name                        </th><th>class    </th><th>transform     </th><th>prior  </th><th>trainable  </th><th>shape        </th><th>dtype  </th><th>value             </th></tr>\n",
       "</thead>\n",
       "<tbody>\n",
       "<tr><td>VGP.kernel.kern.variance    </td><td>Parameter</td><td>Softplus      </td><td>       </td><td>False      </td><td>()           </td><td>float64</td><td>4.344037728243174 </td></tr>\n",
       "<tr><td>VGP.kernel.kern.lengthscales</td><td>Parameter</td><td>Softplus      </td><td>       </td><td>False      </td><td>()           </td><td>float64</td><td>0.7470584555412823</td></tr>\n",
       "<tr><td>VGP.likelihood.alpha        </td><td>Parameter</td><td>Softplus      </td><td>       </td><td>True       </td><td>()           </td><td>float64</td><td>5.0               </td></tr>\n",
       "<tr><td>VGP.likelihood.scale        </td><td>Parameter</td><td>              </td><td>       </td><td>False      </td><td>()           </td><td>float64</td><td>1.0               </td></tr>\n",
       "<tr><td>VGP.q_mu                    </td><td>Parameter</td><td>              </td><td>       </td><td>True       </td><td>(532, 1)     </td><td>float64</td><td>[[0....           </td></tr>\n",
       "<tr><td>VGP.q_sqrt                  </td><td>Parameter</td><td>FillTriangular</td><td>       </td><td>True       </td><td>(1, 532, 532)</td><td>float64</td><td>[[[1., 0., 0....  </td></tr>\n",
       "</tbody>\n",
       "</table>"
      ],
      "text/plain": [
       "<IPython.core.display.HTML object>"
      ]
     },
     "metadata": {},
     "output_type": "display_data"
    },
    {
     "name": "stderr",
     "output_type": "stream",
     "text": [
      "100%|██████████| 1/1 [00:09<00:00,  9.72s/it]\n",
      "  0%|          | 0/1 [00:00<?, ?it/s]"
     ]
    },
    {
     "name": "stdout",
     "output_type": "stream",
     "text": [
      "{'ls': 0.2, 'var': 3.0, 'alpha': 5.0, 'km': 35.0}\n"
     ]
    },
    {
     "data": {
      "text/html": [
       "<table>\n",
       "<thead>\n",
       "<tr><th>name                        </th><th>class    </th><th>transform     </th><th>prior  </th><th>trainable  </th><th>shape        </th><th>dtype  </th><th>value             </th></tr>\n",
       "</thead>\n",
       "<tbody>\n",
       "<tr><td>VGP.kernel.kern.variance    </td><td>Parameter</td><td>Softplus      </td><td>       </td><td>False      </td><td>()           </td><td>float64</td><td>4.344037728243174 </td></tr>\n",
       "<tr><td>VGP.kernel.kern.lengthscales</td><td>Parameter</td><td>Softplus      </td><td>       </td><td>False      </td><td>()           </td><td>float64</td><td>0.7470584555412823</td></tr>\n",
       "<tr><td>VGP.likelihood.alpha        </td><td>Parameter</td><td>Softplus      </td><td>       </td><td>True       </td><td>()           </td><td>float64</td><td>5.0               </td></tr>\n",
       "<tr><td>VGP.likelihood.scale        </td><td>Parameter</td><td>              </td><td>       </td><td>False      </td><td>()           </td><td>float64</td><td>1.0               </td></tr>\n",
       "<tr><td>VGP.q_mu                    </td><td>Parameter</td><td>              </td><td>       </td><td>True       </td><td>(532, 1)     </td><td>float64</td><td>[[0....           </td></tr>\n",
       "<tr><td>VGP.q_sqrt                  </td><td>Parameter</td><td>FillTriangular</td><td>       </td><td>True       </td><td>(1, 532, 532)</td><td>float64</td><td>[[[1., 0., 0....  </td></tr>\n",
       "</tbody>\n",
       "</table>"
      ],
      "text/plain": [
       "<IPython.core.display.HTML object>"
      ]
     },
     "metadata": {},
     "output_type": "display_data"
    },
    {
     "name": "stderr",
     "output_type": "stream",
     "text": [
      "100%|██████████| 1/1 [00:09<00:00,  9.66s/it]\n",
      "  0%|          | 0/1 [00:00<?, ?it/s]"
     ]
    },
    {
     "name": "stdout",
     "output_type": "stream",
     "text": [
      "{'ls': 0.2, 'var': 3.0, 'alpha': 5.0, 'km': 35.0}\n"
     ]
    },
    {
     "data": {
      "text/html": [
       "<table>\n",
       "<thead>\n",
       "<tr><th>name                        </th><th>class    </th><th>transform     </th><th>prior  </th><th>trainable  </th><th>shape        </th><th>dtype  </th><th>value             </th></tr>\n",
       "</thead>\n",
       "<tbody>\n",
       "<tr><td>VGP.kernel.kern.variance    </td><td>Parameter</td><td>Softplus      </td><td>       </td><td>False      </td><td>()           </td><td>float64</td><td>4.344037728243174 </td></tr>\n",
       "<tr><td>VGP.kernel.kern.lengthscales</td><td>Parameter</td><td>Softplus      </td><td>       </td><td>False      </td><td>()           </td><td>float64</td><td>0.7470584555412823</td></tr>\n",
       "<tr><td>VGP.likelihood.alpha        </td><td>Parameter</td><td>Softplus      </td><td>       </td><td>True       </td><td>()           </td><td>float64</td><td>5.0               </td></tr>\n",
       "<tr><td>VGP.likelihood.scale        </td><td>Parameter</td><td>              </td><td>       </td><td>False      </td><td>()           </td><td>float64</td><td>1.0               </td></tr>\n",
       "<tr><td>VGP.q_mu                    </td><td>Parameter</td><td>              </td><td>       </td><td>True       </td><td>(532, 1)     </td><td>float64</td><td>[[0....           </td></tr>\n",
       "<tr><td>VGP.q_sqrt                  </td><td>Parameter</td><td>FillTriangular</td><td>       </td><td>True       </td><td>(1, 532, 532)</td><td>float64</td><td>[[[1., 0., 0....  </td></tr>\n",
       "</tbody>\n",
       "</table>"
      ],
      "text/plain": [
       "<IPython.core.display.HTML object>"
      ]
     },
     "metadata": {},
     "output_type": "display_data"
    },
    {
     "name": "stderr",
     "output_type": "stream",
     "text": [
      "100%|██████████| 1/1 [00:08<00:00,  8.87s/it]\n",
      "  0%|          | 0/1 [00:00<?, ?it/s]"
     ]
    },
    {
     "name": "stdout",
     "output_type": "stream",
     "text": [
      "{'ls': 0.2, 'var': 3.0, 'alpha': 5.0, 'km': 35.0}\n"
     ]
    },
    {
     "data": {
      "text/html": [
       "<table>\n",
       "<thead>\n",
       "<tr><th>name                        </th><th>class    </th><th>transform     </th><th>prior  </th><th>trainable  </th><th>shape        </th><th>dtype  </th><th>value             </th></tr>\n",
       "</thead>\n",
       "<tbody>\n",
       "<tr><td>VGP.kernel.kern.variance    </td><td>Parameter</td><td>Softplus      </td><td>       </td><td>False      </td><td>()           </td><td>float64</td><td>4.344037728243174 </td></tr>\n",
       "<tr><td>VGP.kernel.kern.lengthscales</td><td>Parameter</td><td>Softplus      </td><td>       </td><td>False      </td><td>()           </td><td>float64</td><td>0.7470584555412823</td></tr>\n",
       "<tr><td>VGP.likelihood.alpha        </td><td>Parameter</td><td>Softplus      </td><td>       </td><td>True       </td><td>()           </td><td>float64</td><td>5.0               </td></tr>\n",
       "<tr><td>VGP.likelihood.scale        </td><td>Parameter</td><td>              </td><td>       </td><td>False      </td><td>()           </td><td>float64</td><td>1.0               </td></tr>\n",
       "<tr><td>VGP.q_mu                    </td><td>Parameter</td><td>              </td><td>       </td><td>True       </td><td>(532, 1)     </td><td>float64</td><td>[[0....           </td></tr>\n",
       "<tr><td>VGP.q_sqrt                  </td><td>Parameter</td><td>FillTriangular</td><td>       </td><td>True       </td><td>(1, 532, 532)</td><td>float64</td><td>[[[1., 0., 0....  </td></tr>\n",
       "</tbody>\n",
       "</table>"
      ],
      "text/plain": [
       "<IPython.core.display.HTML object>"
      ]
     },
     "metadata": {},
     "output_type": "display_data"
    },
    {
     "name": "stderr",
     "output_type": "stream",
     "text": [
      "100%|██████████| 1/1 [00:09<00:00,  9.04s/it]\n",
      "  0%|          | 0/1 [00:00<?, ?it/s]"
     ]
    },
    {
     "name": "stdout",
     "output_type": "stream",
     "text": [
      "{'ls': 0.2, 'var': 3.0, 'alpha': 5.0, 'km': 35.0}\n"
     ]
    },
    {
     "data": {
      "text/html": [
       "<table>\n",
       "<thead>\n",
       "<tr><th>name                        </th><th>class    </th><th>transform     </th><th>prior  </th><th>trainable  </th><th>shape        </th><th>dtype  </th><th>value             </th></tr>\n",
       "</thead>\n",
       "<tbody>\n",
       "<tr><td>VGP.kernel.kern.variance    </td><td>Parameter</td><td>Softplus      </td><td>       </td><td>False      </td><td>()           </td><td>float64</td><td>4.344037728243174 </td></tr>\n",
       "<tr><td>VGP.kernel.kern.lengthscales</td><td>Parameter</td><td>Softplus      </td><td>       </td><td>False      </td><td>()           </td><td>float64</td><td>0.7470584555412823</td></tr>\n",
       "<tr><td>VGP.likelihood.alpha        </td><td>Parameter</td><td>Softplus      </td><td>       </td><td>True       </td><td>()           </td><td>float64</td><td>5.0               </td></tr>\n",
       "<tr><td>VGP.likelihood.scale        </td><td>Parameter</td><td>              </td><td>       </td><td>False      </td><td>()           </td><td>float64</td><td>1.0               </td></tr>\n",
       "<tr><td>VGP.q_mu                    </td><td>Parameter</td><td>              </td><td>       </td><td>True       </td><td>(532, 1)     </td><td>float64</td><td>[[0....           </td></tr>\n",
       "<tr><td>VGP.q_sqrt                  </td><td>Parameter</td><td>FillTriangular</td><td>       </td><td>True       </td><td>(1, 532, 532)</td><td>float64</td><td>[[[1., 0., 0....  </td></tr>\n",
       "</tbody>\n",
       "</table>"
      ],
      "text/plain": [
       "<IPython.core.display.HTML object>"
      ]
     },
     "metadata": {},
     "output_type": "display_data"
    },
    {
     "name": "stderr",
     "output_type": "stream",
     "text": [
      "100%|██████████| 1/1 [00:09<00:00,  9.44s/it]\n",
      "  0%|          | 0/1 [00:00<?, ?it/s]"
     ]
    },
    {
     "name": "stdout",
     "output_type": "stream",
     "text": [
      "{'ls': 0.2, 'var': 3.0, 'alpha': 5.0, 'km': 35.0}\n"
     ]
    },
    {
     "data": {
      "text/html": [
       "<table>\n",
       "<thead>\n",
       "<tr><th>name                        </th><th>class    </th><th>transform     </th><th>prior  </th><th>trainable  </th><th>shape        </th><th>dtype  </th><th>value             </th></tr>\n",
       "</thead>\n",
       "<tbody>\n",
       "<tr><td>VGP.kernel.kern.variance    </td><td>Parameter</td><td>Softplus      </td><td>       </td><td>False      </td><td>()           </td><td>float64</td><td>4.344037728243174 </td></tr>\n",
       "<tr><td>VGP.kernel.kern.lengthscales</td><td>Parameter</td><td>Softplus      </td><td>       </td><td>False      </td><td>()           </td><td>float64</td><td>0.7470584555412823</td></tr>\n",
       "<tr><td>VGP.likelihood.alpha        </td><td>Parameter</td><td>Softplus      </td><td>       </td><td>True       </td><td>()           </td><td>float64</td><td>5.0               </td></tr>\n",
       "<tr><td>VGP.likelihood.scale        </td><td>Parameter</td><td>              </td><td>       </td><td>False      </td><td>()           </td><td>float64</td><td>1.0               </td></tr>\n",
       "<tr><td>VGP.q_mu                    </td><td>Parameter</td><td>              </td><td>       </td><td>True       </td><td>(532, 1)     </td><td>float64</td><td>[[0....           </td></tr>\n",
       "<tr><td>VGP.q_sqrt                  </td><td>Parameter</td><td>FillTriangular</td><td>       </td><td>True       </td><td>(1, 532, 532)</td><td>float64</td><td>[[[1., 0., 0....  </td></tr>\n",
       "</tbody>\n",
       "</table>"
      ],
      "text/plain": [
       "<IPython.core.display.HTML object>"
      ]
     },
     "metadata": {},
     "output_type": "display_data"
    },
    {
     "name": "stderr",
     "output_type": "stream",
     "text": [
      "100%|██████████| 1/1 [00:09<00:00,  9.40s/it]\n",
      "  0%|          | 0/1 [00:00<?, ?it/s]"
     ]
    },
    {
     "name": "stdout",
     "output_type": "stream",
     "text": [
      "{'ls': 0.2, 'var': 3.0, 'alpha': 5.0, 'km': 35.0}\n"
     ]
    },
    {
     "data": {
      "text/html": [
       "<table>\n",
       "<thead>\n",
       "<tr><th>name                        </th><th>class    </th><th>transform     </th><th>prior  </th><th>trainable  </th><th>shape        </th><th>dtype  </th><th>value             </th></tr>\n",
       "</thead>\n",
       "<tbody>\n",
       "<tr><td>VGP.kernel.kern.variance    </td><td>Parameter</td><td>Softplus      </td><td>       </td><td>False      </td><td>()           </td><td>float64</td><td>4.344037728243174 </td></tr>\n",
       "<tr><td>VGP.kernel.kern.lengthscales</td><td>Parameter</td><td>Softplus      </td><td>       </td><td>False      </td><td>()           </td><td>float64</td><td>0.7470584555412823</td></tr>\n",
       "<tr><td>VGP.likelihood.alpha        </td><td>Parameter</td><td>Softplus      </td><td>       </td><td>True       </td><td>()           </td><td>float64</td><td>5.0               </td></tr>\n",
       "<tr><td>VGP.likelihood.scale        </td><td>Parameter</td><td>              </td><td>       </td><td>False      </td><td>()           </td><td>float64</td><td>1.0               </td></tr>\n",
       "<tr><td>VGP.q_mu                    </td><td>Parameter</td><td>              </td><td>       </td><td>True       </td><td>(532, 1)     </td><td>float64</td><td>[[0....           </td></tr>\n",
       "<tr><td>VGP.q_sqrt                  </td><td>Parameter</td><td>FillTriangular</td><td>       </td><td>True       </td><td>(1, 532, 532)</td><td>float64</td><td>[[[1., 0., 0....  </td></tr>\n",
       "</tbody>\n",
       "</table>"
      ],
      "text/plain": [
       "<IPython.core.display.HTML object>"
      ]
     },
     "metadata": {},
     "output_type": "display_data"
    },
    {
     "name": "stderr",
     "output_type": "stream",
     "text": [
      "100%|██████████| 1/1 [00:07<00:00,  7.35s/it]\n",
      "  0%|          | 0/1 [00:00<?, ?it/s]"
     ]
    },
    {
     "name": "stdout",
     "output_type": "stream",
     "text": [
      "{'ls': 0.2, 'var': 3.0, 'alpha': 5.0, 'km': 35.0}\n"
     ]
    },
    {
     "data": {
      "text/html": [
       "<table>\n",
       "<thead>\n",
       "<tr><th>name                        </th><th>class    </th><th>transform     </th><th>prior  </th><th>trainable  </th><th>shape        </th><th>dtype  </th><th>value             </th></tr>\n",
       "</thead>\n",
       "<tbody>\n",
       "<tr><td>VGP.kernel.kern.variance    </td><td>Parameter</td><td>Softplus      </td><td>       </td><td>False      </td><td>()           </td><td>float64</td><td>4.344037728243174 </td></tr>\n",
       "<tr><td>VGP.kernel.kern.lengthscales</td><td>Parameter</td><td>Softplus      </td><td>       </td><td>False      </td><td>()           </td><td>float64</td><td>0.7470584555412823</td></tr>\n",
       "<tr><td>VGP.likelihood.alpha        </td><td>Parameter</td><td>Softplus      </td><td>       </td><td>True       </td><td>()           </td><td>float64</td><td>5.0               </td></tr>\n",
       "<tr><td>VGP.likelihood.scale        </td><td>Parameter</td><td>              </td><td>       </td><td>False      </td><td>()           </td><td>float64</td><td>1.0               </td></tr>\n",
       "<tr><td>VGP.q_mu                    </td><td>Parameter</td><td>              </td><td>       </td><td>True       </td><td>(532, 1)     </td><td>float64</td><td>[[0....           </td></tr>\n",
       "<tr><td>VGP.q_sqrt                  </td><td>Parameter</td><td>FillTriangular</td><td>       </td><td>True       </td><td>(1, 532, 532)</td><td>float64</td><td>[[[1., 0., 0....  </td></tr>\n",
       "</tbody>\n",
       "</table>"
      ],
      "text/plain": [
       "<IPython.core.display.HTML object>"
      ]
     },
     "metadata": {},
     "output_type": "display_data"
    },
    {
     "name": "stderr",
     "output_type": "stream",
     "text": [
      "100%|██████████| 1/1 [00:07<00:00,  7.11s/it]\n",
      "  0%|          | 0/1 [00:00<?, ?it/s]"
     ]
    },
    {
     "name": "stdout",
     "output_type": "stream",
     "text": [
      "{'ls': 0.2, 'var': 3.0, 'alpha': 5.0, 'km': 35.0}\n"
     ]
    },
    {
     "data": {
      "text/html": [
       "<table>\n",
       "<thead>\n",
       "<tr><th>name                        </th><th>class    </th><th>transform     </th><th>prior  </th><th>trainable  </th><th>shape        </th><th>dtype  </th><th>value             </th></tr>\n",
       "</thead>\n",
       "<tbody>\n",
       "<tr><td>VGP.kernel.kern.variance    </td><td>Parameter</td><td>Softplus      </td><td>       </td><td>False      </td><td>()           </td><td>float64</td><td>4.344037728243174 </td></tr>\n",
       "<tr><td>VGP.kernel.kern.lengthscales</td><td>Parameter</td><td>Softplus      </td><td>       </td><td>False      </td><td>()           </td><td>float64</td><td>0.7470584555412823</td></tr>\n",
       "<tr><td>VGP.likelihood.alpha        </td><td>Parameter</td><td>Softplus      </td><td>       </td><td>True       </td><td>()           </td><td>float64</td><td>5.0               </td></tr>\n",
       "<tr><td>VGP.likelihood.scale        </td><td>Parameter</td><td>              </td><td>       </td><td>False      </td><td>()           </td><td>float64</td><td>1.0               </td></tr>\n",
       "<tr><td>VGP.q_mu                    </td><td>Parameter</td><td>              </td><td>       </td><td>True       </td><td>(532, 1)     </td><td>float64</td><td>[[0....           </td></tr>\n",
       "<tr><td>VGP.q_sqrt                  </td><td>Parameter</td><td>FillTriangular</td><td>       </td><td>True       </td><td>(1, 532, 532)</td><td>float64</td><td>[[[1., 0., 0....  </td></tr>\n",
       "</tbody>\n",
       "</table>"
      ],
      "text/plain": [
       "<IPython.core.display.HTML object>"
      ]
     },
     "metadata": {},
     "output_type": "display_data"
    },
    {
     "name": "stderr",
     "output_type": "stream",
     "text": [
      "100%|██████████| 1/1 [00:07<00:00,  7.80s/it]\n",
      "  0%|          | 0/1 [00:00<?, ?it/s]"
     ]
    },
    {
     "name": "stdout",
     "output_type": "stream",
     "text": [
      "{'ls': 0.2, 'var': 3.0, 'alpha': 5.0, 'km': 35.0}\n"
     ]
    },
    {
     "data": {
      "text/html": [
       "<table>\n",
       "<thead>\n",
       "<tr><th>name                        </th><th>class    </th><th>transform     </th><th>prior  </th><th>trainable  </th><th>shape        </th><th>dtype  </th><th>value             </th></tr>\n",
       "</thead>\n",
       "<tbody>\n",
       "<tr><td>VGP.kernel.kern.variance    </td><td>Parameter</td><td>Softplus      </td><td>       </td><td>False      </td><td>()           </td><td>float64</td><td>4.344037728243174 </td></tr>\n",
       "<tr><td>VGP.kernel.kern.lengthscales</td><td>Parameter</td><td>Softplus      </td><td>       </td><td>False      </td><td>()           </td><td>float64</td><td>0.7470584555412823</td></tr>\n",
       "<tr><td>VGP.likelihood.alpha        </td><td>Parameter</td><td>Softplus      </td><td>       </td><td>True       </td><td>()           </td><td>float64</td><td>5.0               </td></tr>\n",
       "<tr><td>VGP.likelihood.scale        </td><td>Parameter</td><td>              </td><td>       </td><td>False      </td><td>()           </td><td>float64</td><td>1.0               </td></tr>\n",
       "<tr><td>VGP.q_mu                    </td><td>Parameter</td><td>              </td><td>       </td><td>True       </td><td>(532, 1)     </td><td>float64</td><td>[[0....           </td></tr>\n",
       "<tr><td>VGP.q_sqrt                  </td><td>Parameter</td><td>FillTriangular</td><td>       </td><td>True       </td><td>(1, 532, 532)</td><td>float64</td><td>[[[1., 0., 0....  </td></tr>\n",
       "</tbody>\n",
       "</table>"
      ],
      "text/plain": [
       "<IPython.core.display.HTML object>"
      ]
     },
     "metadata": {},
     "output_type": "display_data"
    },
    {
     "name": "stderr",
     "output_type": "stream",
     "text": [
      "100%|██████████| 1/1 [00:07<00:00,  7.38s/it]\n",
      "  0%|          | 0/1 [00:00<?, ?it/s]"
     ]
    },
    {
     "name": "stdout",
     "output_type": "stream",
     "text": [
      "{'ls': 0.2, 'var': 3.0, 'alpha': 5.0, 'km': 35.0}\n"
     ]
    },
    {
     "data": {
      "text/html": [
       "<table>\n",
       "<thead>\n",
       "<tr><th>name                        </th><th>class    </th><th>transform     </th><th>prior  </th><th>trainable  </th><th>shape        </th><th>dtype  </th><th>value             </th></tr>\n",
       "</thead>\n",
       "<tbody>\n",
       "<tr><td>VGP.kernel.kern.variance    </td><td>Parameter</td><td>Softplus      </td><td>       </td><td>False      </td><td>()           </td><td>float64</td><td>4.344037728243174 </td></tr>\n",
       "<tr><td>VGP.kernel.kern.lengthscales</td><td>Parameter</td><td>Softplus      </td><td>       </td><td>False      </td><td>()           </td><td>float64</td><td>0.7470584555412823</td></tr>\n",
       "<tr><td>VGP.likelihood.alpha        </td><td>Parameter</td><td>Softplus      </td><td>       </td><td>True       </td><td>()           </td><td>float64</td><td>5.0               </td></tr>\n",
       "<tr><td>VGP.likelihood.scale        </td><td>Parameter</td><td>              </td><td>       </td><td>False      </td><td>()           </td><td>float64</td><td>1.0               </td></tr>\n",
       "<tr><td>VGP.q_mu                    </td><td>Parameter</td><td>              </td><td>       </td><td>True       </td><td>(532, 1)     </td><td>float64</td><td>[[0....           </td></tr>\n",
       "<tr><td>VGP.q_sqrt                  </td><td>Parameter</td><td>FillTriangular</td><td>       </td><td>True       </td><td>(1, 532, 532)</td><td>float64</td><td>[[[1., 0., 0....  </td></tr>\n",
       "</tbody>\n",
       "</table>"
      ],
      "text/plain": [
       "<IPython.core.display.HTML object>"
      ]
     },
     "metadata": {},
     "output_type": "display_data"
    },
    {
     "name": "stderr",
     "output_type": "stream",
     "text": [
      "100%|██████████| 1/1 [00:06<00:00,  6.99s/it]\n",
      "  0%|          | 0/1 [00:00<?, ?it/s]"
     ]
    },
    {
     "name": "stdout",
     "output_type": "stream",
     "text": [
      "{'ls': 0.11151168243144001, 'var': 3.0, 'alpha': 5.0, 'km': 35.0}\n"
     ]
    },
    {
     "data": {
      "text/html": [
       "<table>\n",
       "<thead>\n",
       "<tr><th>name                        </th><th>class    </th><th>transform     </th><th>prior  </th><th>trainable  </th><th>shape        </th><th>dtype  </th><th>value             </th></tr>\n",
       "</thead>\n",
       "<tbody>\n",
       "<tr><td>VGP.kernel.kern.variance    </td><td>Parameter</td><td>Softplus      </td><td>       </td><td>False      </td><td>()           </td><td>float64</td><td>4.344037728243174 </td></tr>\n",
       "<tr><td>VGP.kernel.kern.lengthscales</td><td>Parameter</td><td>Softplus      </td><td>       </td><td>False      </td><td>()           </td><td>float64</td><td>0.7470584555412823</td></tr>\n",
       "<tr><td>VGP.likelihood.alpha        </td><td>Parameter</td><td>Softplus      </td><td>       </td><td>True       </td><td>()           </td><td>float64</td><td>5.0               </td></tr>\n",
       "<tr><td>VGP.likelihood.scale        </td><td>Parameter</td><td>              </td><td>       </td><td>False      </td><td>()           </td><td>float64</td><td>1.0               </td></tr>\n",
       "<tr><td>VGP.q_mu                    </td><td>Parameter</td><td>              </td><td>       </td><td>True       </td><td>(532, 1)     </td><td>float64</td><td>[[0....           </td></tr>\n",
       "<tr><td>VGP.q_sqrt                  </td><td>Parameter</td><td>FillTriangular</td><td>       </td><td>True       </td><td>(1, 532, 532)</td><td>float64</td><td>[[[1., 0., 0....  </td></tr>\n",
       "</tbody>\n",
       "</table>"
      ],
      "text/plain": [
       "<IPython.core.display.HTML object>"
      ]
     },
     "metadata": {},
     "output_type": "display_data"
    },
    {
     "name": "stderr",
     "output_type": "stream",
     "text": [
      "100%|██████████| 1/1 [00:05<00:00,  5.42s/it]\n",
      "  0%|          | 0/1 [00:00<?, ?it/s]"
     ]
    },
    {
     "name": "stdout",
     "output_type": "stream",
     "text": [
      "{'ls': 0.11151168243144001, 'var': 3.0, 'alpha': 5.0, 'km': 35.0}\n"
     ]
    },
    {
     "data": {
      "text/html": [
       "<table>\n",
       "<thead>\n",
       "<tr><th>name                        </th><th>class    </th><th>transform     </th><th>prior  </th><th>trainable  </th><th>shape        </th><th>dtype  </th><th>value             </th></tr>\n",
       "</thead>\n",
       "<tbody>\n",
       "<tr><td>VGP.kernel.kern.variance    </td><td>Parameter</td><td>Softplus      </td><td>       </td><td>False      </td><td>()           </td><td>float64</td><td>4.344037728243174 </td></tr>\n",
       "<tr><td>VGP.kernel.kern.lengthscales</td><td>Parameter</td><td>Softplus      </td><td>       </td><td>False      </td><td>()           </td><td>float64</td><td>0.7470584555412823</td></tr>\n",
       "<tr><td>VGP.likelihood.alpha        </td><td>Parameter</td><td>Softplus      </td><td>       </td><td>True       </td><td>()           </td><td>float64</td><td>5.0               </td></tr>\n",
       "<tr><td>VGP.likelihood.scale        </td><td>Parameter</td><td>              </td><td>       </td><td>False      </td><td>()           </td><td>float64</td><td>1.0               </td></tr>\n",
       "<tr><td>VGP.q_mu                    </td><td>Parameter</td><td>              </td><td>       </td><td>True       </td><td>(532, 1)     </td><td>float64</td><td>[[0....           </td></tr>\n",
       "<tr><td>VGP.q_sqrt                  </td><td>Parameter</td><td>FillTriangular</td><td>       </td><td>True       </td><td>(1, 532, 532)</td><td>float64</td><td>[[[1., 0., 0....  </td></tr>\n",
       "</tbody>\n",
       "</table>"
      ],
      "text/plain": [
       "<IPython.core.display.HTML object>"
      ]
     },
     "metadata": {},
     "output_type": "display_data"
    },
    {
     "name": "stderr",
     "output_type": "stream",
     "text": [
      "100%|██████████| 1/1 [00:05<00:00,  5.45s/it]\n",
      "  0%|          | 0/1 [00:00<?, ?it/s]"
     ]
    },
    {
     "name": "stdout",
     "output_type": "stream",
     "text": [
      "{'ls': 0.11151168243144001, 'var': 3.0, 'alpha': 5.0, 'km': 35.0}\n"
     ]
    },
    {
     "data": {
      "text/html": [
       "<table>\n",
       "<thead>\n",
       "<tr><th>name                        </th><th>class    </th><th>transform     </th><th>prior  </th><th>trainable  </th><th>shape        </th><th>dtype  </th><th>value             </th></tr>\n",
       "</thead>\n",
       "<tbody>\n",
       "<tr><td>VGP.kernel.kern.variance    </td><td>Parameter</td><td>Softplus      </td><td>       </td><td>False      </td><td>()           </td><td>float64</td><td>4.344037728243174 </td></tr>\n",
       "<tr><td>VGP.kernel.kern.lengthscales</td><td>Parameter</td><td>Softplus      </td><td>       </td><td>False      </td><td>()           </td><td>float64</td><td>0.7470584555412823</td></tr>\n",
       "<tr><td>VGP.likelihood.alpha        </td><td>Parameter</td><td>Softplus      </td><td>       </td><td>True       </td><td>()           </td><td>float64</td><td>5.0               </td></tr>\n",
       "<tr><td>VGP.likelihood.scale        </td><td>Parameter</td><td>              </td><td>       </td><td>False      </td><td>()           </td><td>float64</td><td>1.0               </td></tr>\n",
       "<tr><td>VGP.q_mu                    </td><td>Parameter</td><td>              </td><td>       </td><td>True       </td><td>(532, 1)     </td><td>float64</td><td>[[0....           </td></tr>\n",
       "<tr><td>VGP.q_sqrt                  </td><td>Parameter</td><td>FillTriangular</td><td>       </td><td>True       </td><td>(1, 532, 532)</td><td>float64</td><td>[[[1., 0., 0....  </td></tr>\n",
       "</tbody>\n",
       "</table>"
      ],
      "text/plain": [
       "<IPython.core.display.HTML object>"
      ]
     },
     "metadata": {},
     "output_type": "display_data"
    },
    {
     "name": "stderr",
     "output_type": "stream",
     "text": [
      "100%|██████████| 1/1 [00:05<00:00,  5.53s/it]\n",
      "  0%|          | 0/1 [00:00<?, ?it/s]"
     ]
    },
    {
     "name": "stdout",
     "output_type": "stream",
     "text": [
      "{'ls': 0.11151168243144001, 'var': 3.0, 'alpha': 5.0, 'km': 35.0}\n"
     ]
    },
    {
     "data": {
      "text/html": [
       "<table>\n",
       "<thead>\n",
       "<tr><th>name                        </th><th>class    </th><th>transform     </th><th>prior  </th><th>trainable  </th><th>shape        </th><th>dtype  </th><th>value             </th></tr>\n",
       "</thead>\n",
       "<tbody>\n",
       "<tr><td>VGP.kernel.kern.variance    </td><td>Parameter</td><td>Softplus      </td><td>       </td><td>False      </td><td>()           </td><td>float64</td><td>4.344037728243174 </td></tr>\n",
       "<tr><td>VGP.kernel.kern.lengthscales</td><td>Parameter</td><td>Softplus      </td><td>       </td><td>False      </td><td>()           </td><td>float64</td><td>0.7470584555412823</td></tr>\n",
       "<tr><td>VGP.likelihood.alpha        </td><td>Parameter</td><td>Softplus      </td><td>       </td><td>True       </td><td>()           </td><td>float64</td><td>5.0               </td></tr>\n",
       "<tr><td>VGP.likelihood.scale        </td><td>Parameter</td><td>              </td><td>       </td><td>False      </td><td>()           </td><td>float64</td><td>1.0               </td></tr>\n",
       "<tr><td>VGP.q_mu                    </td><td>Parameter</td><td>              </td><td>       </td><td>True       </td><td>(532, 1)     </td><td>float64</td><td>[[0....           </td></tr>\n",
       "<tr><td>VGP.q_sqrt                  </td><td>Parameter</td><td>FillTriangular</td><td>       </td><td>True       </td><td>(1, 532, 532)</td><td>float64</td><td>[[[1., 0., 0....  </td></tr>\n",
       "</tbody>\n",
       "</table>"
      ],
      "text/plain": [
       "<IPython.core.display.HTML object>"
      ]
     },
     "metadata": {},
     "output_type": "display_data"
    },
    {
     "name": "stderr",
     "output_type": "stream",
     "text": [
      "100%|██████████| 1/1 [00:05<00:00,  5.45s/it]\n",
      "  0%|          | 0/1 [00:00<?, ?it/s]"
     ]
    },
    {
     "name": "stdout",
     "output_type": "stream",
     "text": [
      "{'ls': 0.11151168243144001, 'var': 3.0, 'alpha': 5.0, 'km': 35.0}\n"
     ]
    },
    {
     "data": {
      "text/html": [
       "<table>\n",
       "<thead>\n",
       "<tr><th>name                        </th><th>class    </th><th>transform     </th><th>prior  </th><th>trainable  </th><th>shape        </th><th>dtype  </th><th>value             </th></tr>\n",
       "</thead>\n",
       "<tbody>\n",
       "<tr><td>VGP.kernel.kern.variance    </td><td>Parameter</td><td>Softplus      </td><td>       </td><td>False      </td><td>()           </td><td>float64</td><td>4.344037728243174 </td></tr>\n",
       "<tr><td>VGP.kernel.kern.lengthscales</td><td>Parameter</td><td>Softplus      </td><td>       </td><td>False      </td><td>()           </td><td>float64</td><td>0.7470584555412823</td></tr>\n",
       "<tr><td>VGP.likelihood.alpha        </td><td>Parameter</td><td>Softplus      </td><td>       </td><td>True       </td><td>()           </td><td>float64</td><td>5.0               </td></tr>\n",
       "<tr><td>VGP.likelihood.scale        </td><td>Parameter</td><td>              </td><td>       </td><td>False      </td><td>()           </td><td>float64</td><td>1.0               </td></tr>\n",
       "<tr><td>VGP.q_mu                    </td><td>Parameter</td><td>              </td><td>       </td><td>True       </td><td>(532, 1)     </td><td>float64</td><td>[[0....           </td></tr>\n",
       "<tr><td>VGP.q_sqrt                  </td><td>Parameter</td><td>FillTriangular</td><td>       </td><td>True       </td><td>(1, 532, 532)</td><td>float64</td><td>[[[1., 0., 0....  </td></tr>\n",
       "</tbody>\n",
       "</table>"
      ],
      "text/plain": [
       "<IPython.core.display.HTML object>"
      ]
     },
     "metadata": {},
     "output_type": "display_data"
    },
    {
     "name": "stderr",
     "output_type": "stream",
     "text": [
      "100%|██████████| 1/1 [00:05<00:00,  5.46s/it]\n",
      "  0%|          | 0/1 [00:00<?, ?it/s]"
     ]
    },
    {
     "name": "stdout",
     "output_type": "stream",
     "text": [
      "{'ls': 0.11151168243144001, 'var': 3.0, 'alpha': 5.0, 'km': 35.0}\n"
     ]
    },
    {
     "data": {
      "text/html": [
       "<table>\n",
       "<thead>\n",
       "<tr><th>name                        </th><th>class    </th><th>transform     </th><th>prior  </th><th>trainable  </th><th>shape        </th><th>dtype  </th><th>value             </th></tr>\n",
       "</thead>\n",
       "<tbody>\n",
       "<tr><td>VGP.kernel.kern.variance    </td><td>Parameter</td><td>Softplus      </td><td>       </td><td>False      </td><td>()           </td><td>float64</td><td>4.344037728243174 </td></tr>\n",
       "<tr><td>VGP.kernel.kern.lengthscales</td><td>Parameter</td><td>Softplus      </td><td>       </td><td>False      </td><td>()           </td><td>float64</td><td>0.7470584555412823</td></tr>\n",
       "<tr><td>VGP.likelihood.alpha        </td><td>Parameter</td><td>Softplus      </td><td>       </td><td>True       </td><td>()           </td><td>float64</td><td>5.0               </td></tr>\n",
       "<tr><td>VGP.likelihood.scale        </td><td>Parameter</td><td>              </td><td>       </td><td>False      </td><td>()           </td><td>float64</td><td>1.0               </td></tr>\n",
       "<tr><td>VGP.q_mu                    </td><td>Parameter</td><td>              </td><td>       </td><td>True       </td><td>(532, 1)     </td><td>float64</td><td>[[0....           </td></tr>\n",
       "<tr><td>VGP.q_sqrt                  </td><td>Parameter</td><td>FillTriangular</td><td>       </td><td>True       </td><td>(1, 532, 532)</td><td>float64</td><td>[[[1., 0., 0....  </td></tr>\n",
       "</tbody>\n",
       "</table>"
      ],
      "text/plain": [
       "<IPython.core.display.HTML object>"
      ]
     },
     "metadata": {},
     "output_type": "display_data"
    },
    {
     "name": "stderr",
     "output_type": "stream",
     "text": [
      "100%|██████████| 1/1 [00:05<00:00,  5.45s/it]\n"
     ]
    }
   ],
   "source": [
    "from GPcounts.GPcounts_Module import Fit_GPcounts\n",
    "def Fit_GPcounts_for_branching(geneName, likelihood='Negative_binomial', bins_num=50, ns=5):\n",
    "    X = slingShot[1::ns][['pseudotime']]\n",
    "    Y = data[1::ns][[geneName]].T\n",
    "    gp_counts = Fit_GPcounts(X,Y)\n",
    "    d = gp_counts.Infer_branching_location(cell_label[1::ns], bins_num=bins_num, lik_name=likelihood)\n",
    "    del gp_counts\n",
    "    return d\n",
    "d = Fit_GPcounts_for_branching('Mpo', bins_num=30)"
   ]
  },
  {
   "cell_type": "code",
   "execution_count": 7,
   "metadata": {},
   "outputs": [
    {
     "data": {
      "text/html": [
       "&lt;gpflow.models.vgp.VGP object at 0x1390d9e50&gt;\n",
       "<table>\n",
       "<thead>\n",
       "<tr><th>name                        </th><th>class    </th><th>transform     </th><th>prior  </th><th>trainable  </th><th>shape        </th><th>dtype  </th><th>value                                               </th></tr>\n",
       "</thead>\n",
       "<tbody>\n",
       "<tr><td>VGP.kernel.kern.variance    </td><td>Parameter</td><td>Softplus      </td><td>       </td><td>False      </td><td>()           </td><td>float64</td><td>4.344037728243174                                   </td></tr>\n",
       "<tr><td>VGP.kernel.kern.lengthscales</td><td>Parameter</td><td>Softplus      </td><td>       </td><td>False      </td><td>()           </td><td>float64</td><td>0.7470584555412823                                  </td></tr>\n",
       "<tr><td>VGP.likelihood.alpha        </td><td>Parameter</td><td>Softplus      </td><td>       </td><td>True       </td><td>()           </td><td>float64</td><td>0.29444483771620844                                 </td></tr>\n",
       "<tr><td>VGP.likelihood.scale        </td><td>Parameter</td><td>              </td><td>       </td><td>False      </td><td>()           </td><td>float64</td><td>1.0                                                 </td></tr>\n",
       "<tr><td>VGP.q_mu                    </td><td>Parameter</td><td>              </td><td>       </td><td>True       </td><td>(532, 1)     </td><td>float64</td><td>[[1.94521042e+00...                                 </td></tr>\n",
       "<tr><td>VGP.q_sqrt                  </td><td>Parameter</td><td>FillTriangular</td><td>       </td><td>True       </td><td>(1, 532, 532)</td><td>float64</td><td>[[[2.35416765e-02, 0.00000000e+00, 0.00000000e+00...</td></tr>\n",
       "</tbody>\n",
       "</table>"
      ],
      "text/plain": [
       "<gpflow.models.vgp.VGP object at 0x1390d9e50>\n",
       "╒══════════════════════════════╤═══════════╤════════════════╤═════════╤═════════════╤═══════════════╤═════════╤══════════════════════════════════════════════════════╕\n",
       "│ name                         │ class     │ transform      │ prior   │ trainable   │ shape         │ dtype   │ value                                                │\n",
       "╞══════════════════════════════╪═══════════╪════════════════╪═════════╪═════════════╪═══════════════╪═════════╪══════════════════════════════════════════════════════╡\n",
       "│ VGP.kernel.kern.variance     │ Parameter │ Softplus       │         │ False       │ ()            │ float64 │ 4.344037728243174                                    │\n",
       "├──────────────────────────────┼───────────┼────────────────┼─────────┼─────────────┼───────────────┼─────────┼──────────────────────────────────────────────────────┤\n",
       "│ VGP.kernel.kern.lengthscales │ Parameter │ Softplus       │         │ False       │ ()            │ float64 │ 0.7470584555412823                                   │\n",
       "├──────────────────────────────┼───────────┼────────────────┼─────────┼─────────────┼───────────────┼─────────┼──────────────────────────────────────────────────────┤\n",
       "│ VGP.likelihood.alpha         │ Parameter │ Softplus       │         │ True        │ ()            │ float64 │ 0.29444483771620844                                  │\n",
       "├──────────────────────────────┼───────────┼────────────────┼─────────┼─────────────┼───────────────┼─────────┼──────────────────────────────────────────────────────┤\n",
       "│ VGP.likelihood.scale         │ Parameter │                │         │ False       │ ()            │ float64 │ 1.0                                                  │\n",
       "├──────────────────────────────┼───────────┼────────────────┼─────────┼─────────────┼───────────────┼─────────┼──────────────────────────────────────────────────────┤\n",
       "│ VGP.q_mu                     │ Parameter │                │         │ True        │ (532, 1)      │ float64 │ [[1.94521042e+00...                                  │\n",
       "├──────────────────────────────┼───────────┼────────────────┼─────────┼─────────────┼───────────────┼─────────┼──────────────────────────────────────────────────────┤\n",
       "│ VGP.q_sqrt                   │ Parameter │ FillTriangular │         │ True        │ (1, 532, 532) │ float64 │ [[[2.35416765e-02, 0.00000000e+00, 0.00000000e+00... │\n",
       "╘══════════════════════════════╧═══════════╧════════════════╧═════════╧═════════════╧═══════════════╧═════════╧══════════════════════════════════════════════════════╛"
      ]
     },
     "execution_count": 7,
     "metadata": {},
     "output_type": "execute_result"
    }
   ],
   "source": [
    "d['MAP_model']"
   ]
  },
  {
   "cell_type": "markdown",
   "metadata": {},
   "source": [
    "#### plot the posterior model fit and posterior branching times"
   ]
  },
  {
   "cell_type": "code",
   "execution_count": 8,
   "metadata": {},
   "outputs": [
    {
     "data": {
      "image/png": "[encoded data removed]",
      "text/plain": [
       "<Figure size 720x576 with 2 Axes>"
      ]
     },
     "metadata": {
      "needs_background": "light"
     },
     "output_type": "display_data"
    }
   ],
   "source": [
    "from helper import plotBranching, plotGene\n",
    "fig, ax = plotBranching(d)\n",
    "plotGene(ax[0], X=slingShot[['pseudotime']], Y=data[['Mpo']].T, label=cell_label, size=10, alpha=.6)"
   ]
  },
  {
   "cell_type": "code",
   "execution_count": null,
   "metadata": {},
   "outputs": [],
   "source": []
  }
 ],
 "metadata": {
  "kernelspec": {
   "display_name": "Python [conda env:tf2]",
   "language": "python",
   "name": "conda-env-tf2-py"
  },
  "language_info": {
   "codemirror_mode": {
    "name": "ipython",
    "version": 3
   },
   "file_extension": ".py",
   "mimetype": "text/x-python",
   "name": "python",
   "nbconvert_exporter": "python",
   "pygments_lexer": "ipython3",
   "version": "3.7.7"
  }
 },
 "nbformat": 4,
 "nbformat_minor": 2
}
