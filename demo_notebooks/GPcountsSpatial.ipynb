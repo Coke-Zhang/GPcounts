{
 "cells": [
  {
   "cell_type": "markdown",
   "metadata": {},
   "source": [
    "### Application of GPcounts with Negative Binomial likelihood on spatial data from Mouse olfactory bulb to identify spatially expressed genes. \n",
    "\n",
    "We first calculate the scale factors using negative binomial regression with identity link function using R glm package. \n"
   ]
  },
  {
   "cell_type": "markdown",
   "metadata": {},
   "source": [
    "For the following blocks switch to the R Kernel "
   ]
  },
  {
   "cell_type": "code",
   "execution_count": 1,
   "metadata": {},
   "outputs": [
    {
     "name": "stderr",
     "output_type": "stream",
     "text": [
      "Bioconductor version 3.10 (BiocManager 1.30.10), R 3.6.1 (2019-07-05)\n",
      "Installing package(s) 'BiocVersion', 'sva'\n",
      "also installing the dependencies ‘ellipsis’, ‘vctrs’, ‘bit64’, ‘blob’, ‘IRanges’, ‘RSQLite’, ‘S4Vectors’, ‘RCurl’, ‘AnnotationDbi’, ‘annotate’, ‘Biobase’, ‘futile.logger’, ‘genefilter’, ‘BiocParallel’, ‘matrixStats’, ‘limma’\n",
      "\n",
      "Warning message in install.packages(...):\n",
      "“installation of package ‘matrixStats’ had non-zero exit status”Warning message in install.packages(...):\n",
      "“installation of package ‘sva’ had non-zero exit status”Updating HTML index of packages in '.Library'\n",
      "Making 'packages.html' ... done\n",
      "Old packages: 'askpass', 'backports', 'BH', 'boot', 'broom', 'callr', 'caret',\n",
      "  'class', 'cli', 'clipr', 'cluster', 'curl', 'data.table', 'dbplyr', 'digest',\n",
      "  'dplyr', 'evaluate', 'fansi', 'forcats', 'foreach', 'formatR', 'fs',\n",
      "  'ggplot2', 'glmnet', 'glue', 'gower', 'haven', 'hexbin', 'hms', 'htmltools',\n",
      "  'htmlwidgets', 'httpuv', 'httr', 'ipred', 'IRkernel', 'iterators',\n",
      "  'jsonlite', 'KernSmooth', 'knitr', 'later', 'lattice', 'lava', 'lubridate',\n",
      "  'markdown', 'MASS', 'Matrix', 'mgcv', 'mime', 'ModelMetrics', 'modelr',\n",
      "  'nlme', 'nnet', 'numDeriv', 'openssl', 'pillar', 'pkgconfig', 'plyr',\n",
      "  'prettyunits', 'processx', 'prodlim', 'progress', 'promises', 'ps', 'purrr',\n",
      "  'quantmod', 'R6', 'Rcpp', 'recipes', 'repr', 'reprex', 'reshape2',\n",
      "  'rmarkdown', 'rstudioapi', 'rvest', 'scales', 'selectr', 'shiny', 'spatial',\n",
      "  'SQUAREM', 'stringi', 'survival', 'sys', 'tibble', 'tidyr', 'tidyselect',\n",
      "  'tidyverse', 'tinytex', 'TTR', 'uuid', 'whisker', 'withr', 'xfun', 'xml2',\n",
      "  'xts', 'yaml', 'zoo'\n"
     ]
    }
   ],
   "source": [
    "if (!requireNamespace(\"BiocManager\", quietly = TRUE))\n",
    "    install.packages(\"BiocManager\")\n",
    "\n",
    "BiocManager::install(\"sva\")\n",
    "#library(sva)\n",
    "library(MASS)"
   ]
  },
  {
   "cell_type": "code",
   "execution_count": 2,
   "metadata": {},
   "outputs": [],
   "source": [
    "counts <- read.table(file='../data/MouseOB/Rep11_MOB_0.csv', header=TRUE, sep=',')\n",
    "cells <- read.table(file='../data/MouseOB/locations.csv', header=TRUE, sep=',')"
   ]
  },
  {
   "cell_type": "code",
   "execution_count": 3,
   "metadata": {},
   "outputs": [],
   "source": [
    "rownames(counts) = counts[,1]\n",
    "rownames(cells) = cells[,1]\n",
    "counts = counts[,-1]\n",
    "cells = cells[,-1]"
   ]
  },
  {
   "cell_type": "code",
   "execution_count": 4,
   "metadata": {},
   "outputs": [],
   "source": [
    "counts = cbind(counts,cells$total_counts)\n",
    "colnames(counts)[14860] = 'total_counts'\n",
    "coeffs_nb <-list()\n",
    "scales_nb <- list()\n",
    "total_counts = c(cells$total_counts)\n"
   ]
  },
  {
   "cell_type": "code",
   "execution_count": 5,
   "metadata": {},
   "outputs": [
    {
     "name": "stderr",
     "output_type": "stream",
     "text": [
      "Warning message in theta.ml(Y, mu, sum(w), w, limit = control$maxit, trace = control$trace > :\n",
      "“iteration limit reached”Warning message in theta.ml(Y, mu, sum(w), w, limit = control$maxit, trace = control$trace > :\n",
      "“iteration limit reached”"
     ]
    }
   ],
   "source": [
    "for (x in c(1:100))\n",
    "{\n",
    "  results<-glm.nb(formula=counts[,x]~0+counts$total_counts,link=identity, data=counts)\n",
    "  coeffs = as.data.frame(results$coefficients)\n",
    "  scales <- results$coefficients*total_counts\n",
    "  scales = as.data.frame(scales)\n",
    "  scales_nb <- append(scales_nb,scales)\n",
    "}\n",
    "\n",
    "scales_nb=write.table(scales_nb,sep = \"\\t\",\"../data/MouseOB/scales_nb.txt\",col.names = TRUE, row.names = F)\n"
   ]
  },
  {
   "cell_type": "markdown",
   "metadata": {},
   "source": [
    "Switch to Python kernel"
   ]
  },
  {
   "cell_type": "code",
   "execution_count": 6,
   "metadata": {},
   "outputs": [
    {
     "ename": "ERROR",
     "evalue": "Error in parse(text = x, srcfile = src): <text>:1:8: unexpected symbol\n1: import pandas\n           ^\n",
     "output_type": "error",
     "traceback": [
      "Error in parse(text = x, srcfile = src): <text>:1:8: unexpected symbol\n1: import pandas\n           ^\nTraceback:\n"
     ]
    }
   ],
   "source": [
    "import pandas as pd \n",
    "import numpy as np \n",
    "import gpflow\n",
    "import tensorflow as tf\n",
    "from GPcounts import NegativeBinomialLikelihood\n",
    "from GPcounts.GPcounts_Module import Fit_GPcounts\n",
    "from matplotlib import pyplot as plt"
   ]
  },
  {
   "cell_type": "code",
   "execution_count": null,
   "metadata": {},
   "outputs": [],
   "source": [
    "def get_coords(index):\n",
    "    coords = pd.DataFrame(index=index)\n",
    "    coords['x'] = index.str.split('x').str.get(0).map(float)\n",
    "    coords['y'] = index.str.split('x').str.get(1).map(float)\n",
    "    return coords"
   ]
  },
  {
   "cell_type": "code",
   "execution_count": null,
   "metadata": {},
   "outputs": [],
   "source": [
    "# spatial expression counts matrix\n",
    "Y = pd.read_csv('../data/MouseOB/Rep11_MOB_0.csv', index_col=[0])\n",
    "Y = Y.T[Y.sum(0) >= 3].T"
   ]
  },
  {
   "cell_type": "code",
   "execution_count": null,
   "metadata": {},
   "outputs": [],
   "source": [
    "sample_info = get_coords(Y.index)\n",
    "sample_info['total_counts'] = Y.sum(1)\n",
    "sample_info = sample_info.query('total_counts > 10')  # Remove empty features\n",
    "Y = Y.loc[sample_info.index]\n",
    "X = sample_info[['x', 'y']]\n",
    "scale=pd.read_csv('../data/MouseOB/scales_nb.txt', sep=\"\\t\")"
   ]
  },
  {
   "cell_type": "code",
   "execution_count": null,
   "metadata": {},
   "outputs": [],
   "source": [
    "Y=Y.T\n",
    "Y=Y.iloc[0:100,:] # select first 100 genes to run GPcounts\n",
    "X = X[['x', 'y']]"
   ]
  },
  {
   "cell_type": "code",
   "execution_count": null,
   "metadata": {},
   "outputs": [],
   "source": [
    "gene_name = []\n",
    "scaled = True # set the default scaled argument to True to consider the scale factors\n",
    "gene_name = Y.index\n",
    "likelihood = 'Negative_binomial' \n",
    "gp_counts = Fit_GPcounts(X,Y.loc[gene_name],scale.loc[scale.index], scaled = scaled)"
   ]
  },
  {
   "cell_type": "code",
   "execution_count": null,
   "metadata": {
    "scrolled": true
   },
   "outputs": [],
   "source": [
    "log_likelihood_ratio = gp_counts.One_sample_test(likelihood)\n",
    "print(log_likelihood_ratio)"
   ]
  },
  {
   "cell_type": "markdown",
   "metadata": {},
   "source": [
    "Plot some spatially expressed genes from the data set"
   ]
  },
  {
   "cell_type": "code",
   "execution_count": null,
   "metadata": {},
   "outputs": [],
   "source": [
    "df = log_likelihood_ratio.sort_values(by=['q value'])\n",
    "df.head(20)"
   ]
  },
  {
   "cell_type": "code",
   "execution_count": null,
   "metadata": {},
   "outputs": [],
   "source": [
    "from matplotlib import rcParams\n",
    "plt.rcParams[\"figure.figsize\"] = [10,3]\n",
    "m = ['Pcp4', 'Fyco1', 'Eef1a1']\n",
    "for i, g in enumerate(['Pcp4', 'Fyco1', 'Eef1a1']):\n",
    "    plt.subplot(1, 3, i + 1)\n",
    "    plt.scatter(sample_info['x'], sample_info['y'], c=Y.T[g],cmap = 'summer');\n",
    "    # plt.figure(figsize=(10,3))\n",
    "    plt.title(m[i])\n",
    "    plt.axis('equal')\n",
    "\n",
    "\n",
    "plt.colorbar(ticks=[0,1],label = 'Gene Epxression');\n",
    "\n",
    "plt.show()\n"
   ]
  },
  {
   "cell_type": "code",
   "execution_count": null,
   "metadata": {},
   "outputs": [],
   "source": []
  }
 ],
 "metadata": {
  "kernelspec": {
   "display_name": "Python 3",
   "language": "python",
   "name": "python3"
  },
  "language_info": {
   "codemirror_mode": "r",
   "file_extension": ".r",
   "mimetype": "text/x-r-source",
   "name": "R",
   "pygments_lexer": "r",
   "version": "3.6.1"
  }
 },
 "nbformat": 4,
 "nbformat_minor": 4
}
