{
 "cells": [
  {
   "cell_type": "markdown",
   "metadata": {},
   "source": [
    "### Application of GPcounts with Negative Binomial likelihood on spatial data from Mouse olfactory bulb to identify spatially expressed genes. \n",
    "\n",
    "We first calculate the scale factors using negative binomial regression with identity link function using R glm package and save the scale factors in  ./data/MouseOB/scales_nb.txt. The R script is also available in ./data/MouseOB/nb_regression.R  \n",
    "\n",
    "Required packages:\n",
    "\n",
    "gpflow 2.0.0\n",
    "tensorflow 2.1.0\n",
    "python 3.7.x\n"
   ]
  },
  {
   "cell_type": "code",
   "execution_count": 1,
   "metadata": {},
   "outputs": [],
   "source": [
    "import pandas as pd \n",
    "import numpy as np \n",
    "import gpflow\n",
    "import tensorflow as tf\n",
    "from GPcounts import NegativeBinomialLikelihood\n",
    "from GPcounts.GPcounts_Module import Fit_GPcounts\n",
    "from matplotlib import pyplot as plt"
   ]
  },
  {
   "cell_type": "code",
   "execution_count": 2,
   "metadata": {},
   "outputs": [],
   "source": [
    "def get_coords(index):\n",
    "    coords = pd.DataFrame(index=index)\n",
    "    coords['x'] = index.str.split('x').str.get(0).map(float)\n",
    "    coords['y'] = index.str.split('x').str.get(1).map(float)\n",
    "    return coords"
   ]
  },
  {
   "cell_type": "code",
   "execution_count": 3,
   "metadata": {},
   "outputs": [],
   "source": [
    "# spatial expression counts matrix\n",
    "Y = pd.read_csv('../data/MouseOB/Rep11_MOB_0.csv', index_col=[0])\n",
    "Y = Y.T[Y.sum(0) >= 3].T"
   ]
  },
  {
   "cell_type": "code",
   "execution_count": 4,
   "metadata": {},
   "outputs": [],
   "source": [
    "sample_info = get_coords(Y.index)\n",
    "sample_info['total_counts'] = Y.sum(1)\n",
    "sample_info = sample_info.query('total_counts > 10')  # Remove empty features\n",
    "Y = Y.loc[sample_info.index]\n",
    "X = sample_info[['x', 'y']]\n",
    "scale=pd.read_csv('../data/MouseOB/scales_nb.txt', sep=\"\\t\")"
   ]
  },
  {
   "cell_type": "code",
   "execution_count": 5,
   "metadata": {},
   "outputs": [],
   "source": [
    "Y=Y.T\n",
    "Y=Y.iloc[0:4,:] # select first 100 genes to run GPcounts\n",
    "X = X[['x', 'y']]"
   ]
  },
  {
   "cell_type": "code",
   "execution_count": 6,
   "metadata": {},
   "outputs": [],
   "source": [
    "gene_name = []\n",
    "scaled = True # set the default scaled argument to True to consider the scale factors\n",
    "gene_name = Y.index\n",
    "likelihood = 'Negative_binomial' \n",
    "gp_counts = Fit_GPcounts(X,Y.loc[gene_name],scale.loc[scale.index], scaled = scaled, nb_scaled = True)"
   ]
  },
  {
   "cell_type": "code",
   "execution_count": null,
   "metadata": {},
   "outputs": [],
   "source": [
    "log_likelihood_ratio = gp_counts.One_sample_test(likelihood)\n",
    "print(log_likelihood_ratio)"
   ]
  },
  {
   "cell_type": "markdown",
   "metadata": {},
   "source": [
    "Plot some spatially expressed genes from the data set"
   ]
  },
  {
   "cell_type": "code",
   "execution_count": null,
   "metadata": {},
   "outputs": [],
   "source": [
    "df = log_likelihood_ratio.sort_values(by=['q value'])\n",
    "df.head(20)"
   ]
  },
  {
   "cell_type": "code",
   "execution_count": null,
   "metadata": {},
   "outputs": [],
   "source": [
    "from matplotlib import rcParams\n",
    "plt.rcParams[\"figure.figsize\"] = [10,3]\n",
    "m = ['Pcp4', 'Fyco1', 'Eef1a1']\n",
    "for i, g in enumerate(['Pcp4', 'Fyco1', 'Eef1a1']):\n",
    "    plt.subplot(1, 3, i + 1)\n",
    "    plt.scatter(sample_info['x'], sample_info['y'], c=Y.T[g],cmap = 'summer')\n",
    "    # plt.figure(figsize=(10,3))\n",
    "    plt.title(m[i])\n",
    "    plt.axis('equal')\n",
    "plt.colorbar(ticks=[0,1],label = 'Gene Epxression')\n",
    "\n",
    "plt.show()\n"
   ]
  },
  {
   "cell_type": "code",
   "execution_count": null,
   "metadata": {},
   "outputs": [],
   "source": []
  }
 ],
 "metadata": {
  "kernelspec": {
   "display_name": "Python 3",
   "language": "python",
   "name": "python3"
  },
  "language_info": {
   "codemirror_mode": {
    "name": "ipython",
    "version": 3
   },
   "file_extension": ".py",
   "mimetype": "text/x-python",
   "name": "python",
   "nbconvert_exporter": "python",
   "pygments_lexer": "ipython3",
   "version": "3.7.6"
  }
 },
 "nbformat": 4,
 "nbformat_minor": 4
}
