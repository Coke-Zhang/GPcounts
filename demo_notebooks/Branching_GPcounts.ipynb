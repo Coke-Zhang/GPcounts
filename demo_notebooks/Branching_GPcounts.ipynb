{
 "cells": [
  {
   "cell_type": "markdown",
   "metadata": {},
   "source": [
    "### Application of GPcounts on the single-cell RNA-seq data to identify gene-specific branching locations for individual genes. \n",
    "\n",
    "This notebook demonstrates how to build a GPcounts model and plot the posterior model fit and posterior branching times. We have used the single-cell RNA-seq of haematopoietic stem cells (HSCs) from mouse <a href=\"https://pubmed.ncbi.nlm.nih.gov/26627738/\" target=\"_blank\" text_decoration=none>(Paul et al., 2015)</a>. The data contain cells that are differentiated into myeloid and erythroid precursor cell types."
   ]
  },
  {
   "cell_type": "code",
   "execution_count": null,
   "metadata": {},
   "outputs": [],
   "source": [
    "%matplotlib inline\n",
    "import pandas as pd\n",
    "import numpy as np\n",
    "from matplotlib import pyplot as plt\n",
    "import tensorflow as tf\n",
    "# from IPython.display import display"
   ]
  },
  {
   "cell_type": "markdown",
   "metadata": {},
   "source": [
    "### Data description\n",
    "\n",
    "Slingshot algorithm <a href=\"https://pubmed.ncbi.nlm.nih.gov/29914354/\" target=\"_blank\">(Street et al., 2018)</a> has been used to get trajectory-specific pseudotimes as well as  assignment of cells to different branches. Slingshot infers two lineages for this dataset. The data were derived from the <a href=\"https://statomics.github.io/tradeSeq/articles/tradeSeq.html\" target=\"_blank\">tradeSeq vignette</a>.\n",
    "\n",
    "The __geneExpression.csv__ file contains the expression profiles of HSCs from mouse.  \n",
    "\n",
    "The __Slingshot.csv__ file contains lineage-specific cell assignments as well as pseudotimes."
   ]
  },
  {
   "cell_type": "code",
   "execution_count": null,
   "metadata": {},
   "outputs": [],
   "source": [
    "data = pd.read_csv('../data/MouseHSC/geneExpression.csv', index_col=[0]).T\n",
    "slingShot = pd.read_csv('../data/MouseHSC/Slingshot.csv', index_col=[0])"
   ]
  },
  {
   "cell_type": "code",
   "execution_count": null,
   "metadata": {},
   "outputs": [],
   "source": [
    "data.head()"
   ]
  },
  {
   "cell_type": "code",
   "execution_count": null,
   "metadata": {},
   "outputs": [],
   "source": [
    "slingShot.head()"
   ]
  },
  {
   "cell_type": "markdown",
   "metadata": {},
   "source": [
    "Slingshot assigns a weight to each cell indicating the assignment of cells to different branches. We have used assignment probability 0.80 to determine the cells belong to a specific branch (1 or 2) ."
   ]
  },
  {
   "cell_type": "code",
   "execution_count": null,
   "metadata": {},
   "outputs": [],
   "source": [
    "cell_label = np.ones(slingShot.shape[0]) * 2\n",
    "for i in range(0, slingShot.shape[0]):\n",
    "    if slingShot.values[i, 0] > 0.8:\n",
    "        cell_label[i] = 1"
   ]
  },
  {
   "cell_type": "markdown",
   "metadata": {},
   "source": [
    "### Fit GPcounts model for branching\n",
    "\n",
    "We have shown examples using both the Negative binomial and the Gaussian likelihood"
   ]
  },
  {
   "cell_type": "markdown",
   "metadata": {},
   "source": [
    "### Negative bionomial likelihood"
   ]
  },
  {
   "cell_type": "code",
   "execution_count": null,
   "metadata": {
    "scrolled": true
   },
   "outputs": [],
   "source": [
    "from GPcounts.GPcounts_Module import Fit_GPcounts\n",
    "def Fit_GPcounts_for_branching(geneName, likelihood='Negative_binomial', bins_num=50, ns=5):\n",
    "    X = slingShot[1::ns][['pseudotime']] \n",
    "    Y = data[1::ns][[geneName]].T\n",
    "    gp_counts = Fit_GPcounts(X,Y)\n",
    "    d = gp_counts.Infer_branching_location(cell_label[1::ns], bins_num=bins_num, lik_name=likelihood)\n",
    "    del gp_counts\n",
    "    return d\n",
    "d = Fit_GPcounts_for_branching('Mpo', bins_num=25)"
   ]
  },
  {
   "cell_type": "markdown",
   "metadata": {},
   "source": [
    "#### plot the posterior model fit and posterior branching times"
   ]
  },
  {
   "cell_type": "code",
   "execution_count": null,
   "metadata": {
    "scrolled": false
   },
   "outputs": [],
   "source": [
    "from helper import plotBranching, plotGene\n",
    "fig, ax = plotBranching(d)\n",
    "plotGene(ax[0], X=slingShot[['pseudotime']], Y=data[['Mpo']].T, label=cell_label, size=10, alpha=.6)"
   ]
  },
  {
   "cell_type": "markdown",
   "metadata": {},
   "source": [
    "### Gaussian likelihood"
   ]
  },
  {
   "cell_type": "code",
   "execution_count": null,
   "metadata": {},
   "outputs": [],
   "source": [
    "geneName = 'Mpo'\n",
    "d = Fit_GPcounts_for_branching(geneName, 'Gaussian', bins_num=25)"
   ]
  },
  {
   "cell_type": "markdown",
   "metadata": {},
   "source": [
    "#### plot the posterior model fit and posterior branching times"
   ]
  },
  {
   "cell_type": "code",
   "execution_count": null,
   "metadata": {
    "scrolled": false
   },
   "outputs": [],
   "source": [
    "ig, ax = plotBranching(d)\n",
    "plotGene(ax[0], X=slingShot[['pseudotime']], Y=np.log(data[[geneName]].T + 1), label=cell_label, size=10, alpha=.6)"
   ]
  },
  {
   "cell_type": "markdown",
   "metadata": {},
   "source": [
    "### Paper results\n",
    "Uncommenting the following code will reproduce the branching location inference examples demonstrated in the main paper as well as in the supplementary document. It will take more time to run as both the number of genes and the number of bins or test points are larger."
   ]
  },
  {
   "cell_type": "code",
   "execution_count": null,
   "metadata": {
    "scrolled": true
   },
   "outputs": [],
   "source": [
    "# bins_num = 50\n",
    "# geneList = ['Mpo', 'Ly6e', 'Car2', 'Car1', 'Ctsg', 'Prtn3', 'Irf8', 'Erp29', 'Apoe']\n",
    "# d_gaussian = list()\n",
    "# d_nb = list()\n",
    "# for g in geneList:\n",
    "#     print(g)\n",
    "#     d_nb.append(Fit_GPcounts_for_branching(g, likelihood='Negative_binomial', bins_num=bins_num))\n",
    "#     d_gaussian.append(Fit_GPcounts_for_branching(g, likelihood='Gaussian', bins_num=bins_num))"
   ]
  },
  {
   "cell_type": "code",
   "execution_count": null,
   "metadata": {
    "scrolled": false
   },
   "outputs": [],
   "source": [
    "# for i in range(0, len(geneList)):\n",
    "#     _, ax = plotBranching(d_nb[i])\n",
    "#     plotGene(ax[0], X=slingShot[['pseudotime']], Y=data[[geneList[i]]].T, label=cell_label, size=10, alpha=.6)\n",
    "#     _, ax = plotBranching(d_gaussian[i])\n",
    "#     plotGene(ax[0], X=slingShot[['pseudotime']], Y=np.log(data[[geneList[i]]].T + 1), label=cell_label, size=10, alpha=.6)"
   ]
  }
 ],
 "metadata": {
  "kernelspec": {
   "display_name": "Python [conda env:myenv] *",
   "language": "python",
   "name": "conda-env-myenv-py"
  },
  "language_info": {
   "codemirror_mode": {
    "name": "ipython",
    "version": 3
   },
   "file_extension": ".py",
   "mimetype": "text/x-python",
   "name": "python",
   "nbconvert_exporter": "python",
   "pygments_lexer": "ipython3",
   "version": "3.7.6"
  }
 },
 "nbformat": 4,
 "nbformat_minor": 2
}
